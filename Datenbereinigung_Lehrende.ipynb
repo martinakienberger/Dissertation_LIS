{
 "cells": [
  {
   "cell_type": "markdown",
   "metadata": {},
   "source": [
    "## Erschließungsstrategien für unbekannten Wortschatz von DaF-Lernenden an spanischen Universitäten\n",
    "# Datenbereinigung der begleitenden Lehrendenbefragung 2017/18\n"
   ]
  },
  {
   "cell_type": "markdown",
   "metadata": {},
   "source": [
    "### Daten importieren"
   ]
  },
  {
   "cell_type": "code",
   "execution_count": 1,
   "metadata": {},
   "outputs": [
    {
     "name": "stdout",
     "output_type": "stream",
     "text": [
      "Populating the interactive namespace from numpy and matplotlib\n"
     ]
    }
   ],
   "source": [
    "import pandas as pd\n",
    "import numpy as np\n",
    "% pylab inline"
   ]
  },
  {
   "cell_type": "code",
   "execution_count": 2,
   "metadata": {},
   "outputs": [],
   "source": [
    "Rohdaten = pd.read_csv('D:\\Daten\\DISS\\Daten\\EstrategiasProfesoresKienberger2018.tsv', sep = '\\t', encoding='utf-16')"
   ]
  },
  {
   "cell_type": "code",
   "execution_count": 3,
   "metadata": {},
   "outputs": [
    {
     "data": {
      "text/html": [
       "<div>\n",
       "<style scoped>\n",
       "    .dataframe tbody tr th:only-of-type {\n",
       "        vertical-align: middle;\n",
       "    }\n",
       "\n",
       "    .dataframe tbody tr th {\n",
       "        vertical-align: top;\n",
       "    }\n",
       "\n",
       "    .dataframe thead th {\n",
       "        text-align: right;\n",
       "    }\n",
       "</style>\n",
       "<table border=\"1\" class=\"dataframe\">\n",
       "  <thead>\n",
       "    <tr style=\"text-align: right;\">\n",
       "      <th></th>\n",
       "      <th>StartDate</th>\n",
       "      <th>EndDate</th>\n",
       "      <th>Status</th>\n",
       "      <th>IPAddress</th>\n",
       "      <th>Progress</th>\n",
       "      <th>Duration (in seconds)</th>\n",
       "      <th>Finished</th>\n",
       "      <th>RecordedDate</th>\n",
       "      <th>ResponseId</th>\n",
       "      <th>RecipientLastName</th>\n",
       "      <th>...</th>\n",
       "      <th>D-Q5_8</th>\n",
       "      <th>D-Q5_8_TEXT</th>\n",
       "      <th>D-Q5_9</th>\n",
       "      <th>D-Q5_9_TEXT</th>\n",
       "      <th>D-Q5_10</th>\n",
       "      <th>D-Q5_10_TEXT</th>\n",
       "      <th>D-Q5a</th>\n",
       "      <th>D-Q6</th>\n",
       "      <th>E-Q1</th>\n",
       "      <th>E-Q2</th>\n",
       "    </tr>\n",
       "  </thead>\n",
       "  <tbody>\n",
       "    <tr>\n",
       "      <th>0</th>\n",
       "      <td>Start Date</td>\n",
       "      <td>End Date</td>\n",
       "      <td>Response Type</td>\n",
       "      <td>IP Address</td>\n",
       "      <td>Progress</td>\n",
       "      <td>Duration (in seconds)</td>\n",
       "      <td>Finished</td>\n",
       "      <td>Recorded Date</td>\n",
       "      <td>Response ID</td>\n",
       "      <td>Recipient Last Name</td>\n",
       "      <td>...</td>\n",
       "      <td>Idiomas     Indique su(s) lengua(s) materna(s)...</td>\n",
       "      <td>Idiomas     Indique su(s) lengua(s) materna(s)...</td>\n",
       "      <td>Idiomas     Indique su(s) lengua(s) materna(s)...</td>\n",
       "      <td>Idiomas     Indique su(s) lengua(s) materna(s)...</td>\n",
       "      <td>Idiomas     Indique su(s) lengua(s) materna(s)...</td>\n",
       "      <td>Idiomas     Indique su(s) lengua(s) materna(s)...</td>\n",
       "      <td>Comentarios (opcional):</td>\n",
       "      <td>Género:</td>\n",
       "      <td>Si lo desea, puede escribir un comentario y da...</td>\n",
       "      <td>¿Le interesa saber más sobre este proyecto de ...</td>\n",
       "    </tr>\n",
       "    <tr>\n",
       "      <th>1</th>\n",
       "      <td>{\"ImportId\":\"startDate\",\"timeZone\":\"America/De...</td>\n",
       "      <td>{\"ImportId\":\"endDate\",\"timeZone\":\"America/Denv...</td>\n",
       "      <td>{\"ImportId\":\"status\"}</td>\n",
       "      <td>{\"ImportId\":\"ipAddress\"}</td>\n",
       "      <td>{\"ImportId\":\"progress\"}</td>\n",
       "      <td>{\"ImportId\":\"duration\"}</td>\n",
       "      <td>{\"ImportId\":\"finished\"}</td>\n",
       "      <td>{\"ImportId\":\"recordedDate\",\"timeZone\":\"America...</td>\n",
       "      <td>{\"ImportId\":\"_recordId\"}</td>\n",
       "      <td>{\"ImportId\":\"recipientLastName\"}</td>\n",
       "      <td>...</td>\n",
       "      <td>{\"ImportId\":\"QID102_8\"}</td>\n",
       "      <td>{\"ImportId\":\"QID102_8_TEXT\"}</td>\n",
       "      <td>{\"ImportId\":\"QID102_9\"}</td>\n",
       "      <td>{\"ImportId\":\"QID102_9_TEXT\"}</td>\n",
       "      <td>{\"ImportId\":\"QID102_10\"}</td>\n",
       "      <td>{\"ImportId\":\"QID102_10_TEXT\"}</td>\n",
       "      <td>{\"ImportId\":\"QID85_TEXT\"}</td>\n",
       "      <td>{\"ImportId\":\"QID54\"}</td>\n",
       "      <td>{\"ImportId\":\"QID94_TEXT\"}</td>\n",
       "      <td>{\"ImportId\":\"QID118_TEXT\"}</td>\n",
       "    </tr>\n",
       "    <tr>\n",
       "      <th>2</th>\n",
       "      <td>2018-02-06 09:50:44</td>\n",
       "      <td>2018-02-06 09:53:21</td>\n",
       "      <td>0</td>\n",
       "      <td>2.154.118.68</td>\n",
       "      <td>100</td>\n",
       "      <td>156</td>\n",
       "      <td>1</td>\n",
       "      <td>2018-02-06 09:53:21</td>\n",
       "      <td>R_29b01e77g53hsq3</td>\n",
       "      <td>NaN</td>\n",
       "      <td>...</td>\n",
       "      <td>NaN</td>\n",
       "      <td>NaN</td>\n",
       "      <td>NaN</td>\n",
       "      <td>NaN</td>\n",
       "      <td>NaN</td>\n",
       "      <td>NaN</td>\n",
       "      <td>NaN</td>\n",
       "      <td>1</td>\n",
       "      <td>Test</td>\n",
       "      <td>NaN</td>\n",
       "    </tr>\n",
       "    <tr>\n",
       "      <th>3</th>\n",
       "      <td>2018-02-07 09:07:11</td>\n",
       "      <td>2018-02-07 09:54:49</td>\n",
       "      <td>0</td>\n",
       "      <td>212.128.135.32</td>\n",
       "      <td>100</td>\n",
       "      <td>2858</td>\n",
       "      <td>1</td>\n",
       "      <td>2018-02-07 09:54:51</td>\n",
       "      <td>R_1dN6Q3m9LpWBIOS</td>\n",
       "      <td>NaN</td>\n",
       "      <td>...</td>\n",
       "      <td>NaN</td>\n",
       "      <td>NaN</td>\n",
       "      <td>NaN</td>\n",
       "      <td>NaN</td>\n",
       "      <td>NaN</td>\n",
       "      <td>NaN</td>\n",
       "      <td>NaN</td>\n",
       "      <td>NaN</td>\n",
       "      <td>NaN</td>\n",
       "      <td>NaN</td>\n",
       "    </tr>\n",
       "  </tbody>\n",
       "</table>\n",
       "<p>4 rows × 88 columns</p>\n",
       "</div>"
      ],
      "text/plain": [
       "                                           StartDate  \\\n",
       "0                                         Start Date   \n",
       "1  {\"ImportId\":\"startDate\",\"timeZone\":\"America/De...   \n",
       "2                                2018-02-06 09:50:44   \n",
       "3                                2018-02-07 09:07:11   \n",
       "\n",
       "                                             EndDate                 Status  \\\n",
       "0                                           End Date          Response Type   \n",
       "1  {\"ImportId\":\"endDate\",\"timeZone\":\"America/Denv...  {\"ImportId\":\"status\"}   \n",
       "2                                2018-02-06 09:53:21                      0   \n",
       "3                                2018-02-07 09:54:49                      0   \n",
       "\n",
       "                  IPAddress                 Progress    Duration (in seconds)  \\\n",
       "0                IP Address                 Progress    Duration (in seconds)   \n",
       "1  {\"ImportId\":\"ipAddress\"}  {\"ImportId\":\"progress\"}  {\"ImportId\":\"duration\"}   \n",
       "2              2.154.118.68                      100                      156   \n",
       "3            212.128.135.32                      100                     2858   \n",
       "\n",
       "                  Finished                                       RecordedDate  \\\n",
       "0                 Finished                                      Recorded Date   \n",
       "1  {\"ImportId\":\"finished\"}  {\"ImportId\":\"recordedDate\",\"timeZone\":\"America...   \n",
       "2                        1                                2018-02-06 09:53:21   \n",
       "3                        1                                2018-02-07 09:54:51   \n",
       "\n",
       "                 ResponseId                 RecipientLastName  \\\n",
       "0               Response ID               Recipient Last Name   \n",
       "1  {\"ImportId\":\"_recordId\"}  {\"ImportId\":\"recipientLastName\"}   \n",
       "2         R_29b01e77g53hsq3                               NaN   \n",
       "3         R_1dN6Q3m9LpWBIOS                               NaN   \n",
       "\n",
       "                         ...                          \\\n",
       "0                        ...                           \n",
       "1                        ...                           \n",
       "2                        ...                           \n",
       "3                        ...                           \n",
       "\n",
       "                                              D-Q5_8  \\\n",
       "0  Idiomas     Indique su(s) lengua(s) materna(s)...   \n",
       "1                            {\"ImportId\":\"QID102_8\"}   \n",
       "2                                                NaN   \n",
       "3                                                NaN   \n",
       "\n",
       "                                         D-Q5_8_TEXT  \\\n",
       "0  Idiomas     Indique su(s) lengua(s) materna(s)...   \n",
       "1                       {\"ImportId\":\"QID102_8_TEXT\"}   \n",
       "2                                                NaN   \n",
       "3                                                NaN   \n",
       "\n",
       "                                              D-Q5_9  \\\n",
       "0  Idiomas     Indique su(s) lengua(s) materna(s)...   \n",
       "1                            {\"ImportId\":\"QID102_9\"}   \n",
       "2                                                NaN   \n",
       "3                                                NaN   \n",
       "\n",
       "                                         D-Q5_9_TEXT  \\\n",
       "0  Idiomas     Indique su(s) lengua(s) materna(s)...   \n",
       "1                       {\"ImportId\":\"QID102_9_TEXT\"}   \n",
       "2                                                NaN   \n",
       "3                                                NaN   \n",
       "\n",
       "                                             D-Q5_10  \\\n",
       "0  Idiomas     Indique su(s) lengua(s) materna(s)...   \n",
       "1                           {\"ImportId\":\"QID102_10\"}   \n",
       "2                                                NaN   \n",
       "3                                                NaN   \n",
       "\n",
       "                                        D-Q5_10_TEXT  \\\n",
       "0  Idiomas     Indique su(s) lengua(s) materna(s)...   \n",
       "1                      {\"ImportId\":\"QID102_10_TEXT\"}   \n",
       "2                                                NaN   \n",
       "3                                                NaN   \n",
       "\n",
       "                       D-Q5a                  D-Q6  \\\n",
       "0    Comentarios (opcional):               Género:   \n",
       "1  {\"ImportId\":\"QID85_TEXT\"}  {\"ImportId\":\"QID54\"}   \n",
       "2                        NaN                     1   \n",
       "3                        NaN                   NaN   \n",
       "\n",
       "                                                E-Q1  \\\n",
       "0  Si lo desea, puede escribir un comentario y da...   \n",
       "1                          {\"ImportId\":\"QID94_TEXT\"}   \n",
       "2                                               Test   \n",
       "3                                                NaN   \n",
       "\n",
       "                                                E-Q2  \n",
       "0  ¿Le interesa saber más sobre este proyecto de ...  \n",
       "1                         {\"ImportId\":\"QID118_TEXT\"}  \n",
       "2                                                NaN  \n",
       "3                                                NaN  \n",
       "\n",
       "[4 rows x 88 columns]"
      ]
     },
     "execution_count": 3,
     "metadata": {},
     "output_type": "execute_result"
    }
   ],
   "source": [
    "Rohdaten.head(4)"
   ]
  },
  {
   "cell_type": "code",
   "execution_count": 4,
   "metadata": {},
   "outputs": [
    {
     "data": {
      "text/html": [
       "<div>\n",
       "<style scoped>\n",
       "    .dataframe tbody tr th:only-of-type {\n",
       "        vertical-align: middle;\n",
       "    }\n",
       "\n",
       "    .dataframe tbody tr th {\n",
       "        vertical-align: top;\n",
       "    }\n",
       "\n",
       "    .dataframe thead th {\n",
       "        text-align: right;\n",
       "    }\n",
       "</style>\n",
       "<table border=\"1\" class=\"dataframe\">\n",
       "  <thead>\n",
       "    <tr style=\"text-align: right;\">\n",
       "      <th></th>\n",
       "      <th>StartDate</th>\n",
       "      <th>EndDate</th>\n",
       "      <th>Status</th>\n",
       "      <th>IPAddress</th>\n",
       "      <th>Progress</th>\n",
       "      <th>Duration (in seconds)</th>\n",
       "      <th>Finished</th>\n",
       "      <th>RecordedDate</th>\n",
       "      <th>ResponseId</th>\n",
       "      <th>RecipientLastName</th>\n",
       "      <th>...</th>\n",
       "      <th>D-Q5_8</th>\n",
       "      <th>D-Q5_8_TEXT</th>\n",
       "      <th>D-Q5_9</th>\n",
       "      <th>D-Q5_9_TEXT</th>\n",
       "      <th>D-Q5_10</th>\n",
       "      <th>D-Q5_10_TEXT</th>\n",
       "      <th>D-Q5a</th>\n",
       "      <th>D-Q6</th>\n",
       "      <th>E-Q1</th>\n",
       "      <th>E-Q2</th>\n",
       "    </tr>\n",
       "  </thead>\n",
       "  <tbody>\n",
       "    <tr>\n",
       "      <th>0</th>\n",
       "      <td>Start Date</td>\n",
       "      <td>End Date</td>\n",
       "      <td>Response Type</td>\n",
       "      <td>IP Address</td>\n",
       "      <td>Progress</td>\n",
       "      <td>Duration (in seconds)</td>\n",
       "      <td>Finished</td>\n",
       "      <td>Recorded Date</td>\n",
       "      <td>Response ID</td>\n",
       "      <td>Recipient Last Name</td>\n",
       "      <td>...</td>\n",
       "      <td>Idiomas     Indique su(s) lengua(s) materna(s)...</td>\n",
       "      <td>Idiomas     Indique su(s) lengua(s) materna(s)...</td>\n",
       "      <td>Idiomas     Indique su(s) lengua(s) materna(s)...</td>\n",
       "      <td>Idiomas     Indique su(s) lengua(s) materna(s)...</td>\n",
       "      <td>Idiomas     Indique su(s) lengua(s) materna(s)...</td>\n",
       "      <td>Idiomas     Indique su(s) lengua(s) materna(s)...</td>\n",
       "      <td>Comentarios (opcional):</td>\n",
       "      <td>Género:</td>\n",
       "      <td>Si lo desea, puede escribir un comentario y da...</td>\n",
       "      <td>¿Le interesa saber más sobre este proyecto de ...</td>\n",
       "    </tr>\n",
       "    <tr>\n",
       "      <th>2</th>\n",
       "      <td>2018-02-06 09:50:44</td>\n",
       "      <td>2018-02-06 09:53:21</td>\n",
       "      <td>0</td>\n",
       "      <td>2.154.118.68</td>\n",
       "      <td>100</td>\n",
       "      <td>156</td>\n",
       "      <td>1</td>\n",
       "      <td>2018-02-06 09:53:21</td>\n",
       "      <td>R_29b01e77g53hsq3</td>\n",
       "      <td>NaN</td>\n",
       "      <td>...</td>\n",
       "      <td>NaN</td>\n",
       "      <td>NaN</td>\n",
       "      <td>NaN</td>\n",
       "      <td>NaN</td>\n",
       "      <td>NaN</td>\n",
       "      <td>NaN</td>\n",
       "      <td>NaN</td>\n",
       "      <td>1</td>\n",
       "      <td>Test</td>\n",
       "      <td>NaN</td>\n",
       "    </tr>\n",
       "    <tr>\n",
       "      <th>3</th>\n",
       "      <td>2018-02-07 09:07:11</td>\n",
       "      <td>2018-02-07 09:54:49</td>\n",
       "      <td>0</td>\n",
       "      <td>212.128.135.32</td>\n",
       "      <td>100</td>\n",
       "      <td>2858</td>\n",
       "      <td>1</td>\n",
       "      <td>2018-02-07 09:54:51</td>\n",
       "      <td>R_1dN6Q3m9LpWBIOS</td>\n",
       "      <td>NaN</td>\n",
       "      <td>...</td>\n",
       "      <td>NaN</td>\n",
       "      <td>NaN</td>\n",
       "      <td>NaN</td>\n",
       "      <td>NaN</td>\n",
       "      <td>NaN</td>\n",
       "      <td>NaN</td>\n",
       "      <td>NaN</td>\n",
       "      <td>NaN</td>\n",
       "      <td>NaN</td>\n",
       "      <td>NaN</td>\n",
       "    </tr>\n",
       "  </tbody>\n",
       "</table>\n",
       "<p>3 rows × 88 columns</p>\n",
       "</div>"
      ],
      "text/plain": [
       "             StartDate              EndDate         Status       IPAddress  \\\n",
       "0           Start Date             End Date  Response Type      IP Address   \n",
       "2  2018-02-06 09:50:44  2018-02-06 09:53:21              0    2.154.118.68   \n",
       "3  2018-02-07 09:07:11  2018-02-07 09:54:49              0  212.128.135.32   \n",
       "\n",
       "   Progress  Duration (in seconds)  Finished         RecordedDate  \\\n",
       "0  Progress  Duration (in seconds)  Finished        Recorded Date   \n",
       "2       100                    156         1  2018-02-06 09:53:21   \n",
       "3       100                   2858         1  2018-02-07 09:54:51   \n",
       "\n",
       "          ResponseId    RecipientLastName  \\\n",
       "0        Response ID  Recipient Last Name   \n",
       "2  R_29b01e77g53hsq3                  NaN   \n",
       "3  R_1dN6Q3m9LpWBIOS                  NaN   \n",
       "\n",
       "                         ...                          \\\n",
       "0                        ...                           \n",
       "2                        ...                           \n",
       "3                        ...                           \n",
       "\n",
       "                                              D-Q5_8  \\\n",
       "0  Idiomas     Indique su(s) lengua(s) materna(s)...   \n",
       "2                                                NaN   \n",
       "3                                                NaN   \n",
       "\n",
       "                                         D-Q5_8_TEXT  \\\n",
       "0  Idiomas     Indique su(s) lengua(s) materna(s)...   \n",
       "2                                                NaN   \n",
       "3                                                NaN   \n",
       "\n",
       "                                              D-Q5_9  \\\n",
       "0  Idiomas     Indique su(s) lengua(s) materna(s)...   \n",
       "2                                                NaN   \n",
       "3                                                NaN   \n",
       "\n",
       "                                         D-Q5_9_TEXT  \\\n",
       "0  Idiomas     Indique su(s) lengua(s) materna(s)...   \n",
       "2                                                NaN   \n",
       "3                                                NaN   \n",
       "\n",
       "                                             D-Q5_10  \\\n",
       "0  Idiomas     Indique su(s) lengua(s) materna(s)...   \n",
       "2                                                NaN   \n",
       "3                                                NaN   \n",
       "\n",
       "                                        D-Q5_10_TEXT                    D-Q5a  \\\n",
       "0  Idiomas     Indique su(s) lengua(s) materna(s)...  Comentarios (opcional):   \n",
       "2                                                NaN                      NaN   \n",
       "3                                                NaN                      NaN   \n",
       "\n",
       "      D-Q6                                               E-Q1  \\\n",
       "0  Género:  Si lo desea, puede escribir un comentario y da...   \n",
       "2        1                                               Test   \n",
       "3      NaN                                                NaN   \n",
       "\n",
       "                                                E-Q2  \n",
       "0  ¿Le interesa saber más sobre este proyecto de ...  \n",
       "2                                                NaN  \n",
       "3                                                NaN  \n",
       "\n",
       "[3 rows x 88 columns]"
      ]
     },
     "execution_count": 4,
     "metadata": {},
     "output_type": "execute_result"
    }
   ],
   "source": [
    "Rohdaten = Rohdaten.drop(1)\n",
    "Rohdaten.head(3)"
   ]
  },
  {
   "cell_type": "markdown",
   "metadata": {},
   "source": [
    "### Glossar erstellen"
   ]
  },
  {
   "cell_type": "code",
   "execution_count": 5,
   "metadata": {
    "scrolled": true
   },
   "outputs": [],
   "source": [
    "gloss = pd.DataFrame(Rohdaten.loc[0])"
   ]
  },
  {
   "cell_type": "code",
   "execution_count": 6,
   "metadata": {},
   "outputs": [],
   "source": [
    "def get_name_gloss(word):\n",
    "    for i, val in enumerate(gloss[0]):\n",
    "        if word.lower() in str(val).lower():\n",
    "            return i, gloss.index[i]"
   ]
  },
  {
   "cell_type": "code",
   "execution_count": 7,
   "metadata": {},
   "outputs": [
    {
     "data": {
      "text/html": [
       "<div>\n",
       "<style scoped>\n",
       "    .dataframe tbody tr th:only-of-type {\n",
       "        vertical-align: middle;\n",
       "    }\n",
       "\n",
       "    .dataframe tbody tr th {\n",
       "        vertical-align: top;\n",
       "    }\n",
       "\n",
       "    .dataframe thead th {\n",
       "        text-align: right;\n",
       "    }\n",
       "</style>\n",
       "<table border=\"1\" class=\"dataframe\">\n",
       "  <thead>\n",
       "    <tr style=\"text-align: right;\">\n",
       "      <th></th>\n",
       "      <th>StartDate</th>\n",
       "      <th>EndDate</th>\n",
       "      <th>Status</th>\n",
       "      <th>IPAddress</th>\n",
       "      <th>Progress</th>\n",
       "      <th>Duration (in seconds)</th>\n",
       "      <th>Finished</th>\n",
       "      <th>RecordedDate</th>\n",
       "      <th>ResponseId</th>\n",
       "      <th>RecipientLastName</th>\n",
       "      <th>...</th>\n",
       "      <th>D-Q5_8</th>\n",
       "      <th>D-Q5_8_TEXT</th>\n",
       "      <th>D-Q5_9</th>\n",
       "      <th>D-Q5_9_TEXT</th>\n",
       "      <th>D-Q5_10</th>\n",
       "      <th>D-Q5_10_TEXT</th>\n",
       "      <th>D-Q5a</th>\n",
       "      <th>D-Q6</th>\n",
       "      <th>E-Q1</th>\n",
       "      <th>E-Q2</th>\n",
       "    </tr>\n",
       "  </thead>\n",
       "  <tbody>\n",
       "    <tr>\n",
       "      <th>0</th>\n",
       "      <td>2018-02-06 09:50:44</td>\n",
       "      <td>2018-02-06 09:53:21</td>\n",
       "      <td>0</td>\n",
       "      <td>2.154.118.68</td>\n",
       "      <td>100</td>\n",
       "      <td>156</td>\n",
       "      <td>1</td>\n",
       "      <td>2018-02-06 09:53:21</td>\n",
       "      <td>R_29b01e77g53hsq3</td>\n",
       "      <td>NaN</td>\n",
       "      <td>...</td>\n",
       "      <td>NaN</td>\n",
       "      <td>NaN</td>\n",
       "      <td>NaN</td>\n",
       "      <td>NaN</td>\n",
       "      <td>NaN</td>\n",
       "      <td>NaN</td>\n",
       "      <td>NaN</td>\n",
       "      <td>1</td>\n",
       "      <td>Test</td>\n",
       "      <td>NaN</td>\n",
       "    </tr>\n",
       "    <tr>\n",
       "      <th>1</th>\n",
       "      <td>2018-02-07 09:07:11</td>\n",
       "      <td>2018-02-07 09:54:49</td>\n",
       "      <td>0</td>\n",
       "      <td>212.128.135.32</td>\n",
       "      <td>100</td>\n",
       "      <td>2858</td>\n",
       "      <td>1</td>\n",
       "      <td>2018-02-07 09:54:51</td>\n",
       "      <td>R_1dN6Q3m9LpWBIOS</td>\n",
       "      <td>NaN</td>\n",
       "      <td>...</td>\n",
       "      <td>NaN</td>\n",
       "      <td>NaN</td>\n",
       "      <td>NaN</td>\n",
       "      <td>NaN</td>\n",
       "      <td>NaN</td>\n",
       "      <td>NaN</td>\n",
       "      <td>NaN</td>\n",
       "      <td>NaN</td>\n",
       "      <td>NaN</td>\n",
       "      <td>NaN</td>\n",
       "    </tr>\n",
       "    <tr>\n",
       "      <th>2</th>\n",
       "      <td>2018-02-07 10:09:44</td>\n",
       "      <td>2018-02-07 10:20:49</td>\n",
       "      <td>0</td>\n",
       "      <td>193.144.82.98</td>\n",
       "      <td>100</td>\n",
       "      <td>664</td>\n",
       "      <td>1</td>\n",
       "      <td>2018-02-07 10:20:49</td>\n",
       "      <td>R_3PKNmaCMDVT9uin</td>\n",
       "      <td>NaN</td>\n",
       "      <td>...</td>\n",
       "      <td>NaN</td>\n",
       "      <td>NaN</td>\n",
       "      <td>NaN</td>\n",
       "      <td>NaN</td>\n",
       "      <td>NaN</td>\n",
       "      <td>NaN</td>\n",
       "      <td>Latein, Altgriechisch in der Schule mitgenomme...</td>\n",
       "      <td>1</td>\n",
       "      <td>NaN</td>\n",
       "      <td>sina.menrad@usc.es</td>\n",
       "    </tr>\n",
       "  </tbody>\n",
       "</table>\n",
       "<p>3 rows × 88 columns</p>\n",
       "</div>"
      ],
      "text/plain": [
       "             StartDate              EndDate Status       IPAddress Progress  \\\n",
       "0  2018-02-06 09:50:44  2018-02-06 09:53:21      0    2.154.118.68      100   \n",
       "1  2018-02-07 09:07:11  2018-02-07 09:54:49      0  212.128.135.32      100   \n",
       "2  2018-02-07 10:09:44  2018-02-07 10:20:49      0   193.144.82.98      100   \n",
       "\n",
       "  Duration (in seconds) Finished         RecordedDate         ResponseId  \\\n",
       "0                   156        1  2018-02-06 09:53:21  R_29b01e77g53hsq3   \n",
       "1                  2858        1  2018-02-07 09:54:51  R_1dN6Q3m9LpWBIOS   \n",
       "2                   664        1  2018-02-07 10:20:49  R_3PKNmaCMDVT9uin   \n",
       "\n",
       "  RecipientLastName         ...         D-Q5_8 D-Q5_8_TEXT D-Q5_9 D-Q5_9_TEXT  \\\n",
       "0               NaN         ...            NaN         NaN    NaN         NaN   \n",
       "1               NaN         ...            NaN         NaN    NaN         NaN   \n",
       "2               NaN         ...            NaN         NaN    NaN         NaN   \n",
       "\n",
       "  D-Q5_10 D-Q5_10_TEXT                                              D-Q5a  \\\n",
       "0     NaN          NaN                                                NaN   \n",
       "1     NaN          NaN                                                NaN   \n",
       "2     NaN          NaN  Latein, Altgriechisch in der Schule mitgenomme...   \n",
       "\n",
       "  D-Q6  E-Q1                E-Q2  \n",
       "0    1  Test                 NaN  \n",
       "1  NaN   NaN                 NaN  \n",
       "2    1   NaN  sina.menrad@usc.es  \n",
       "\n",
       "[3 rows x 88 columns]"
      ]
     },
     "execution_count": 7,
     "metadata": {},
     "output_type": "execute_result"
    }
   ],
   "source": [
    "Rohdaten = Rohdaten.drop(0).reset_index(drop=True)\n",
    "Rohdaten.head(3)"
   ]
  },
  {
   "cell_type": "code",
   "execution_count": 8,
   "metadata": {},
   "outputs": [
    {
     "data": {
      "text/plain": [
       "(120, 88)"
      ]
     },
     "execution_count": 8,
     "metadata": {},
     "output_type": "execute_result"
    }
   ],
   "source": [
    "Rohdaten.shape"
   ]
  },
  {
   "cell_type": "markdown",
   "metadata": {},
   "source": [
    "### Gültige Daten auswählen"
   ]
  },
  {
   "cell_type": "markdown",
   "metadata": {},
   "source": [
    "##### Tests entfernen:"
   ]
  },
  {
   "cell_type": "code",
   "execution_count": 9,
   "metadata": {},
   "outputs": [
    {
     "data": {
      "text/plain": [
       "(119, 88)"
      ]
     },
     "execution_count": 9,
     "metadata": {},
     "output_type": "execute_result"
    }
   ],
   "source": [
    "Daten = Rohdaten[Rohdaten['DistributionChannel'] != 'preview'].reset_index(drop=True)\n",
    "Daten.shape"
   ]
  },
  {
   "cell_type": "markdown",
   "metadata": {},
   "source": [
    "##### Fertig ausgefüllte Fragebögen:"
   ]
  },
  {
   "cell_type": "code",
   "execution_count": 10,
   "metadata": {},
   "outputs": [
    {
     "data": {
      "text/plain": [
       "(51, 88)"
      ]
     },
     "execution_count": 10,
     "metadata": {},
     "output_type": "execute_result"
    }
   ],
   "source": [
    "Finished = Daten[Daten['Finished'] == '1'].reset_index(drop=True)\n",
    "Finished.shape"
   ]
  },
  {
   "cell_type": "markdown",
   "metadata": {},
   "source": [
    "##### Fragebögen mit fehlenden Werten ermitteln:"
   ]
  },
  {
   "cell_type": "code",
   "execution_count": 11,
   "metadata": {},
   "outputs": [],
   "source": [
    "def count_nan(row):\n",
    "    cnt = 0\n",
    "    for el in row:\n",
    "        if (str(el) == 'nan'):\n",
    "            cnt = cnt + 1\n",
    "    return cnt*100/len(row)"
   ]
  },
  {
   "cell_type": "code",
   "execution_count": 12,
   "metadata": {},
   "outputs": [],
   "source": [
    "porc_nan = []\n",
    "for i in range(Finished.shape[0]):\n",
    "    porc_nan.append(count_nan(Finished.loc[i]))"
   ]
  },
  {
   "cell_type": "code",
   "execution_count": 13,
   "metadata": {},
   "outputs": [],
   "source": [
    "Finished['porc_nan'] = porc_nan"
   ]
  },
  {
   "cell_type": "code",
   "execution_count": 14,
   "metadata": {},
   "outputs": [
    {
     "data": {
      "text/plain": [
       "<matplotlib.axes._subplots.AxesSubplot at 0xab4bc50>"
      ]
     },
     "execution_count": 14,
     "metadata": {},
     "output_type": "execute_result"
    },
    {
     "data": {
      "image/png": "[encoded data removed]",
      "text/plain": [
       "<Figure size 432x288 with 1 Axes>"
      ]
     },
     "metadata": {},
     "output_type": "display_data"
    }
   ],
   "source": [
    "Finished['porc_nan'].hist(bins=30)"
   ]
  },
  {
   "cell_type": "code",
   "execution_count": 15,
   "metadata": {},
   "outputs": [
    {
     "data": {
      "text/plain": [
       "Int64Index([0, 1, 26, 41], dtype='int64')"
      ]
     },
     "execution_count": 15,
     "metadata": {},
     "output_type": "execute_result"
    }
   ],
   "source": [
    "Finished[Finished['porc_nan'] > 60].index"
   ]
  },
  {
   "cell_type": "code",
   "execution_count": 16,
   "metadata": {},
   "outputs": [],
   "source": [
    "#Finished.loc[26]"
   ]
  },
  {
   "cell_type": "code",
   "execution_count": 17,
   "metadata": {},
   "outputs": [
    {
     "data": {
      "text/plain": [
       "(47, 89)"
      ]
     },
     "execution_count": 17,
     "metadata": {},
     "output_type": "execute_result"
    }
   ],
   "source": [
    "Finished = Finished[Finished['porc_nan'] < 60]\n",
    "Finished.shape"
   ]
  },
  {
   "cell_type": "code",
   "execution_count": 18,
   "metadata": {},
   "outputs": [],
   "source": [
    "Finished = Finished.reset_index(drop=True)"
   ]
  },
  {
   "cell_type": "code",
   "execution_count": 19,
   "metadata": {},
   "outputs": [],
   "source": [
    "Datenber = Finished"
   ]
  },
  {
   "cell_type": "markdown",
   "metadata": {},
   "source": [
    "### Art der Werte kontrollieren und anpassen"
   ]
  },
  {
   "cell_type": "code",
   "execution_count": 22,
   "metadata": {},
   "outputs": [],
   "source": [
    "#Datenber.dtypes"
   ]
  },
  {
   "cell_type": "markdown",
   "metadata": {},
   "source": [
    "##### Multiple-Choice-Format"
   ]
  },
  {
   "cell_type": "markdown",
   "metadata": {},
   "source": [
    "Multiple-Choice-Antworten werden jeweils in einem Feld der Excel-Tabelle unter einer Variable (z.B. Frage \"B-Q1\") gespeichert. Um diese auswerten zu können, müssen diese Felder aufgeteilt werden. Dazu werden sogenannte \"Dummy-Variablen\" erstellt. Für jede in der Befragung gewählte Multiple-Choice-Antwort wird eine solche Variable erstellt und als neue Spalte in die Excel-Tabelle eingefügt. Dieser Vorgang wird für alle Multiple-Choice-Fragen durchgeführt."
   ]
  },
  {
   "cell_type": "markdown",
   "metadata": {},
   "source": [
    "*Anzahl der Dummy-Variablen feststellen:*"
   ]
  },
  {
   "cell_type": "code",
   "execution_count": 23,
   "metadata": {},
   "outputs": [],
   "source": [
    "def get_itemlist(df,var):\n",
    "    vals = df[var].dropna().reset_index(drop=True)\n",
    "    lista_strings = vals[0].split(',')\n",
    "    for val in vals:\n",
    "        lst = str(val).split(',')\n",
    "        lst_add = [el for el in lst if el not in lista_strings]\n",
    "        if lst_add:\n",
    "            lista_strings = lista_strings + lst_add\n",
    "    return list(sort([int(el) for el in lista_strings]))"
   ]
  },
  {
   "cell_type": "markdown",
   "metadata": {},
   "source": [
    "*Dummy-Variablen erstellen:*"
   ]
  },
  {
   "cell_type": "code",
   "execution_count": 24,
   "metadata": {},
   "outputs": [],
   "source": [
    "def dummies_multiple(df, col):\n",
    "    # leere Tabelle erstellen\n",
    "    columns = [str(el) for el in get_itemlist(df,col)]\n",
    "    ind = range(df.shape[0])\n",
    "    df_int = pd.DataFrame(index=ind, columns=columns)\n",
    "    df_int = df_int.fillna(0)\n",
    "    \n",
    "    for i in ind:\n",
    "        if str(df.loc[i,col]) != 'nan':\n",
    "            list1 = str(df.loc[i,col]).split(',')\n",
    "            df_int.loc[i,list1] = np.ones(len(list1), dtype = int)\n",
    "    \n",
    "    df_int.columns = ['{}_{}'.format(col,column) for column in columns]\n",
    "    return df_int"
   ]
  },
  {
   "cell_type": "code",
   "execution_count": 25,
   "metadata": {},
   "outputs": [],
   "source": [
    "def insert_dummies(df,col):\n",
    "    df_insert = dummies_multiple(df,col)\n",
    "    return pd.concat([ df.loc[:,:col], df_insert, df.loc[:,col:] ], axis = 1).drop(col,axis = 1)"
   ]
  },
  {
   "cell_type": "code",
   "execution_count": 26,
   "metadata": {},
   "outputs": [],
   "source": [
    "var_choice = ['B-Q1','D-Q2','D-Q3']"
   ]
  },
  {
   "cell_type": "code",
   "execution_count": 27,
   "metadata": {},
   "outputs": [],
   "source": [
    "for col in var_choice:\n",
    "    Datenber = insert_dummies(Datenber,col)"
   ]
  },
  {
   "cell_type": "markdown",
   "metadata": {},
   "source": [
    "##### Format für fehlende Werte"
   ]
  },
  {
   "cell_type": "code",
   "execution_count": 28,
   "metadata": {},
   "outputs": [],
   "source": [
    "Datenber = Datenber.fillna(0)"
   ]
  },
  {
   "cell_type": "markdown",
   "metadata": {},
   "source": [
    "Fehlende Werte werden grundsätzlich als \"NaN\" definiert, was zu Problemen bei der Analyse führen kann. Da der Wert \"0\" nur in wenigen Fragen vorkommt, bei denen keine Werte fehlen, kann \"NaN\" durch \"0\" ersetzt werden."
   ]
  },
  {
   "cell_type": "markdown",
   "metadata": {},
   "source": [
    "##### Numerische Werte"
   ]
  },
  {
   "cell_type": "markdown",
   "metadata": {},
   "source": [
    "*Auswahl der Spalten ohne Texteingabe:*"
   ]
  },
  {
   "cell_type": "code",
   "execution_count": 29,
   "metadata": {},
   "outputs": [],
   "source": [
    "#gloss.loc['D-Q1a'][0]"
   ]
  },
  {
   "cell_type": "code",
   "execution_count": 30,
   "metadata": {},
   "outputs": [],
   "source": [
    "gloss1 = pd.DataFrame(Datenber.loc[0])"
   ]
  },
  {
   "cell_type": "code",
   "execution_count": 31,
   "metadata": {},
   "outputs": [],
   "source": [
    "liste_ohne_komm = [ind for ind in gloss1.index if 'comentario' not in str(gloss1.loc[ind][0]).lower()]"
   ]
  },
  {
   "cell_type": "code",
   "execution_count": 32,
   "metadata": {},
   "outputs": [],
   "source": [
    "liste_ohne_text = [col for col in liste_ohne_komm if 'text' not in col.lower()]"
   ]
  },
  {
   "cell_type": "code",
   "execution_count": 33,
   "metadata": {},
   "outputs": [],
   "source": [
    "def get_var_num(lst,var):\n",
    "    return [col for col in lst if var not in col]"
   ]
  },
  {
   "cell_type": "code",
   "execution_count": 34,
   "metadata": {},
   "outputs": [],
   "source": [
    "liste_fragen_num = [col for col in liste_ohne_text if 'Q' in col]\n",
    "_vars_ = ['A-Q1a','B-Q1a','B-Q2a','B-Q3a','D-Q1a','D-Q2a','D-Q2b','D-Q3a','D-Q5a','E-Q1','E-Q2']\n",
    "for var in _vars_:\n",
    "    liste_fragen_num = get_var_num(liste_fragen_num,var)"
   ]
  },
  {
   "cell_type": "markdown",
   "metadata": {},
   "source": [
    "*Verschiedene Formate in numerische Werte umwandeln:*"
   ]
  },
  {
   "cell_type": "code",
   "execution_count": 35,
   "metadata": {},
   "outputs": [],
   "source": [
    "def Werte_numm(s):\n",
    "    return pd.to_numeric(s, downcast='integer')"
   ]
  },
  {
   "cell_type": "markdown",
   "metadata": {},
   "source": [
    "Als Text (object) gelesene Werte werden in numerische Werte umgewandelt, bevorzugt wird das Datenformat \"integer\" verwendet. Bei negativen Werten oder Dezimalstellen wird \"float\" verwendet."
   ]
  },
  {
   "cell_type": "code",
   "execution_count": 36,
   "metadata": {},
   "outputs": [
    {
     "data": {
      "text/plain": [
       "array([0, '3', '4', '2'], dtype=object)"
      ]
     },
     "execution_count": 36,
     "metadata": {},
     "output_type": "execute_result"
    }
   ],
   "source": [
    "Datenber['D-Q5_7'].unique()"
   ]
  },
  {
   "cell_type": "code",
   "execution_count": 37,
   "metadata": {},
   "outputs": [],
   "source": [
    "for el in liste_fragen_num:\n",
    "    Datenber[el] = Werte_numm(Datenber[el])"
   ]
  },
  {
   "cell_type": "code",
   "execution_count": 38,
   "metadata": {},
   "outputs": [
    {
     "data": {
      "text/plain": [
       "['D-Q4', 'porc_nan']"
      ]
     },
     "execution_count": 38,
     "metadata": {},
     "output_type": "execute_result"
    }
   ],
   "source": [
    "lista_float = []\n",
    "for i, tipo in enumerate(Datenber.dtypes):\n",
    "    if 'float' in str(tipo):\n",
    "        lista_float.append(Datenber.columns[i])\n",
    "lista_float"
   ]
  },
  {
   "cell_type": "code",
   "execution_count": 49,
   "metadata": {},
   "outputs": [
    {
     "data": {
      "text/plain": [
       "StartDate                 object\n",
       "EndDate                   object\n",
       "Status                    object\n",
       "IPAddress                 object\n",
       "Progress                  object\n",
       "Duration (in seconds)     object\n",
       "Finished                  object\n",
       "RecordedDate              object\n",
       "ResponseId                object\n",
       "RecipientLastName          int64\n",
       "RecipientFirstName         int64\n",
       "RecipientEmail             int64\n",
       "ExternalReference          int64\n",
       "LocationLatitude          object\n",
       "LocationLongitude         object\n",
       "DistributionChannel       object\n",
       "UserLanguage              object\n",
       "A-Q1_1                      int8\n",
       "A-Q1_2                      int8\n",
       "A-Q1_3                      int8\n",
       "A-Q1_4                      int8\n",
       "A-Q1_5                      int8\n",
       "A-Q1_6                      int8\n",
       "A-Q1_7                      int8\n",
       "A-Q1_8                      int8\n",
       "A-Q1_9                      int8\n",
       "A-Q1a                     object\n",
       "B-Q1_1                      int8\n",
       "B-Q1_2                      int8\n",
       "B-Q1_3                      int8\n",
       "                          ...   \n",
       "D-Q2b                     object\n",
       "D-Q3_1                      int8\n",
       "D-Q3_2                      int8\n",
       "D-Q3_3                      int8\n",
       "D-Q3_4                      int8\n",
       "D-Q3_5                      int8\n",
       "D-Q3a                     object\n",
       "D-Q4                     float64\n",
       "D-Q5_1                      int8\n",
       "D-Q5_2                      int8\n",
       "D-Q5_3                      int8\n",
       "D-Q5_4                      int8\n",
       "D-Q5_4_TEXT               object\n",
       "D-Q5_5                      int8\n",
       "D-Q5_5_TEXT               object\n",
       "D-Q5_6                      int8\n",
       "D-Q5_6_TEXT               object\n",
       "D-Q5_7                      int8\n",
       "D-Q5_7_TEXT               object\n",
       "D-Q5_8                      int8\n",
       "D-Q5_8_TEXT               object\n",
       "D-Q5_9                      int8\n",
       "D-Q5_9_TEXT               object\n",
       "D-Q5_10                     int8\n",
       "D-Q5_10_TEXT              object\n",
       "D-Q5a                     object\n",
       "D-Q6                        int8\n",
       "E-Q1                      object\n",
       "E-Q2                      object\n",
       "porc_nan                 float64\n",
       "Length: 127, dtype: object"
      ]
     },
     "execution_count": 49,
     "metadata": {},
     "output_type": "execute_result"
    }
   ],
   "source": [
    "Datenber.dtypes"
   ]
  },
  {
   "cell_type": "markdown",
   "metadata": {},
   "source": [
    "### Daten speichern"
   ]
  },
  {
   "cell_type": "code",
   "execution_count": 45,
   "metadata": {},
   "outputs": [],
   "source": [
    "Datenber.to_pickle('D:\\Daten\\DISS\\Daten\\Estrategias_Profesores_2018_ber')"
   ]
  },
  {
   "cell_type": "code",
   "execution_count": 46,
   "metadata": {},
   "outputs": [],
   "source": [
    "Datenber.to_excel('D:\\Daten\\DISS\\Daten\\Estrategias_Profesores_Kienberger_2018_ber.xlsx',encoding='utf-16')"
   ]
  },
  {
   "cell_type": "code",
   "execution_count": 47,
   "metadata": {},
   "outputs": [],
   "source": [
    "Datenber.to_csv('D:\\Daten\\DISS\\Daten\\Estrategias_Profesores_Kienberger_2018_ber.csv',encoding='utf-16')"
   ]
  },
  {
   "cell_type": "code",
   "execution_count": 48,
   "metadata": {},
   "outputs": [],
   "source": [
    "gloss.to_pickle('D:\\Daten\\DISS\\Daten\\GlossProf2018')"
   ]
  },
  {
   "cell_type": "code",
   "execution_count": null,
   "metadata": {},
   "outputs": [],
   "source": []
  }
 ],
 "metadata": {
  "kernelspec": {
   "display_name": "Python 3",
   "language": "python",
   "name": "python3"
  },
  "language_info": {
   "codemirror_mode": {
    "name": "ipython",
    "version": 3
   },
   "file_extension": ".py",
   "mimetype": "text/x-python",
   "name": "python",
   "nbconvert_exporter": "python",
   "pygments_lexer": "ipython3",
   "version": "3.6.3"
  }
 },
 "nbformat": 4,
 "nbformat_minor": 2
}
