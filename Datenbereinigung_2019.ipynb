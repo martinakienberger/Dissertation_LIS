{
 "cells": [
  {
   "cell_type": "markdown",
   "metadata": {},
   "source": [
    "## Erschließungsstrategien für unbekannten Wortschatz von DaF-Lernenden an spanischen Universitäten\n",
    "# Datenbereinigung der Befragung 2019\n"
   ]
  },
  {
   "cell_type": "markdown",
   "metadata": {},
   "source": [
    "### Daten importieren"
   ]
  },
  {
   "cell_type": "code",
   "execution_count": 1,
   "metadata": {},
   "outputs": [
    {
     "name": "stdout",
     "output_type": "stream",
     "text": [
      "Populating the interactive namespace from numpy and matplotlib\n"
     ]
    }
   ],
   "source": [
    "import pandas as pd\n",
    "import numpy as np\n",
    "% pylab inline"
   ]
  },
  {
   "cell_type": "code",
   "execution_count": 2,
   "metadata": {},
   "outputs": [],
   "source": [
    "Rohdaten = pd.read_csv('D:\\Daten\\DISS\\Daten\\EstrategiasEstudiantesKienberger2019.tsv', sep = '\\t', encoding='utf-16')"
   ]
  },
  {
   "cell_type": "code",
   "execution_count": 3,
   "metadata": {},
   "outputs": [
    {
     "data": {
      "text/html": [
       "<div>\n",
       "<style scoped>\n",
       "    .dataframe tbody tr th:only-of-type {\n",
       "        vertical-align: middle;\n",
       "    }\n",
       "\n",
       "    .dataframe tbody tr th {\n",
       "        vertical-align: top;\n",
       "    }\n",
       "\n",
       "    .dataframe thead th {\n",
       "        text-align: right;\n",
       "    }\n",
       "</style>\n",
       "<table border=\"1\" class=\"dataframe\">\n",
       "  <thead>\n",
       "    <tr style=\"text-align: right;\">\n",
       "      <th></th>\n",
       "      <th>StartDate</th>\n",
       "      <th>EndDate</th>\n",
       "      <th>Status</th>\n",
       "      <th>IPAddress</th>\n",
       "      <th>Progress</th>\n",
       "      <th>Duration (in seconds)</th>\n",
       "      <th>Finished</th>\n",
       "      <th>RecordedDate</th>\n",
       "      <th>ResponseId</th>\n",
       "      <th>RecipientLastName</th>\n",
       "      <th>...</th>\n",
       "      <th>D-Q8b21a_7_TEXT</th>\n",
       "      <th>D-Q8b21b</th>\n",
       "      <th>D-Q8b21c</th>\n",
       "      <th>D-Q8b22a</th>\n",
       "      <th>D-Q8b22a_7_TEXT</th>\n",
       "      <th>D-Q8b22b</th>\n",
       "      <th>D-Q8b22c</th>\n",
       "      <th>D-Q9</th>\n",
       "      <th>E-Q1</th>\n",
       "      <th>E-Q2</th>\n",
       "    </tr>\n",
       "  </thead>\n",
       "  <tbody>\n",
       "    <tr>\n",
       "      <th>0</th>\n",
       "      <td>Start Date</td>\n",
       "      <td>End Date</td>\n",
       "      <td>Response Type</td>\n",
       "      <td>IP Address</td>\n",
       "      <td>Progress</td>\n",
       "      <td>Duration (in seconds)</td>\n",
       "      <td>Finished</td>\n",
       "      <td>Recorded Date</td>\n",
       "      <td>Response ID</td>\n",
       "      <td>Recipient Last Name</td>\n",
       "      <td>...</td>\n",
       "      <td>¿Cómo ha aprendido fundamentalmente latín? - O...</td>\n",
       "      <td>¿Durante cuántos años ha estudiado latín?</td>\n",
       "      <td>Comentarios (opcional):</td>\n",
       "      <td>¿Cómo ha aprendido fundamentalmente el o los d...</td>\n",
       "      <td>¿Cómo ha aprendido fundamentalmente el o los d...</td>\n",
       "      <td>¿Qué nivel ha alcanzado?</td>\n",
       "      <td>Comentarios (opcional):</td>\n",
       "      <td>¿Dónde ha rellenado esta encuesta?</td>\n",
       "      <td>Si lo desea, puede escribir un comentario y da...</td>\n",
       "      <td>¿Tiene interés en participar en la segunda par...</td>\n",
       "    </tr>\n",
       "    <tr>\n",
       "      <th>1</th>\n",
       "      <td>{\"ImportId\":\"startDate\",\"timeZone\":\"America/De...</td>\n",
       "      <td>{\"ImportId\":\"endDate\",\"timeZone\":\"America/Denv...</td>\n",
       "      <td>{\"ImportId\":\"status\"}</td>\n",
       "      <td>{\"ImportId\":\"ipAddress\"}</td>\n",
       "      <td>{\"ImportId\":\"progress\"}</td>\n",
       "      <td>{\"ImportId\":\"duration\"}</td>\n",
       "      <td>{\"ImportId\":\"finished\"}</td>\n",
       "      <td>{\"ImportId\":\"recordedDate\",\"timeZone\":\"America...</td>\n",
       "      <td>{\"ImportId\":\"_recordId\"}</td>\n",
       "      <td>{\"ImportId\":\"recipientLastName\"}</td>\n",
       "      <td>...</td>\n",
       "      <td>{\"ImportId\":\"QID151_7_TEXT\"}</td>\n",
       "      <td>{\"ImportId\":\"QID152_TEXT\"}</td>\n",
       "      <td>{\"ImportId\":\"QID153_TEXT\"}</td>\n",
       "      <td>{\"ImportId\":\"QID89\"}</td>\n",
       "      <td>{\"ImportId\":\"QID89_7_TEXT\"}</td>\n",
       "      <td>{\"ImportId\":\"QID168\"}</td>\n",
       "      <td>{\"ImportId\":\"QID169_TEXT\"}</td>\n",
       "      <td>{\"ImportId\":\"QID96\"}</td>\n",
       "      <td>{\"ImportId\":\"QID94_TEXT\"}</td>\n",
       "      <td>{\"ImportId\":\"QID189_TEXT\"}</td>\n",
       "    </tr>\n",
       "    <tr>\n",
       "      <th>2</th>\n",
       "      <td>2019-02-05 04:50:57</td>\n",
       "      <td>2019-02-05 04:53:52</td>\n",
       "      <td>1</td>\n",
       "      <td>NaN</td>\n",
       "      <td>100</td>\n",
       "      <td>175</td>\n",
       "      <td>1</td>\n",
       "      <td>2019-02-05 04:53:53</td>\n",
       "      <td>R_22VmzxKFyFS3mpg</td>\n",
       "      <td>NaN</td>\n",
       "      <td>...</td>\n",
       "      <td>NaN</td>\n",
       "      <td>NaN</td>\n",
       "      <td>NaN</td>\n",
       "      <td>NaN</td>\n",
       "      <td>NaN</td>\n",
       "      <td>NaN</td>\n",
       "      <td>NaN</td>\n",
       "      <td>NaN</td>\n",
       "      <td>kjjffe</td>\n",
       "      <td>kjj</td>\n",
       "    </tr>\n",
       "    <tr>\n",
       "      <th>3</th>\n",
       "      <td>2019-02-12 12:36:39</td>\n",
       "      <td>2019-02-12 12:38:41</td>\n",
       "      <td>0</td>\n",
       "      <td>81.0.32.65</td>\n",
       "      <td>100</td>\n",
       "      <td>122</td>\n",
       "      <td>1</td>\n",
       "      <td>2019-02-12 12:38:43</td>\n",
       "      <td>R_UMePfKxllpOEyKR</td>\n",
       "      <td>NaN</td>\n",
       "      <td>...</td>\n",
       "      <td>NaN</td>\n",
       "      <td>NaN</td>\n",
       "      <td>NaN</td>\n",
       "      <td>NaN</td>\n",
       "      <td>NaN</td>\n",
       "      <td>NaN</td>\n",
       "      <td>NaN</td>\n",
       "      <td>NaN</td>\n",
       "      <td>NaN</td>\n",
       "      <td>NaN</td>\n",
       "    </tr>\n",
       "  </tbody>\n",
       "</table>\n",
       "<p>4 rows × 211 columns</p>\n",
       "</div>"
      ],
      "text/plain": [
       "                                           StartDate  \\\n",
       "0                                         Start Date   \n",
       "1  {\"ImportId\":\"startDate\",\"timeZone\":\"America/De...   \n",
       "2                                2019-02-05 04:50:57   \n",
       "3                                2019-02-12 12:36:39   \n",
       "\n",
       "                                             EndDate                 Status  \\\n",
       "0                                           End Date          Response Type   \n",
       "1  {\"ImportId\":\"endDate\",\"timeZone\":\"America/Denv...  {\"ImportId\":\"status\"}   \n",
       "2                                2019-02-05 04:53:52                      1   \n",
       "3                                2019-02-12 12:38:41                      0   \n",
       "\n",
       "                  IPAddress                 Progress    Duration (in seconds)  \\\n",
       "0                IP Address                 Progress    Duration (in seconds)   \n",
       "1  {\"ImportId\":\"ipAddress\"}  {\"ImportId\":\"progress\"}  {\"ImportId\":\"duration\"}   \n",
       "2                       NaN                      100                      175   \n",
       "3                81.0.32.65                      100                      122   \n",
       "\n",
       "                  Finished                                       RecordedDate  \\\n",
       "0                 Finished                                      Recorded Date   \n",
       "1  {\"ImportId\":\"finished\"}  {\"ImportId\":\"recordedDate\",\"timeZone\":\"America...   \n",
       "2                        1                                2019-02-05 04:53:53   \n",
       "3                        1                                2019-02-12 12:38:43   \n",
       "\n",
       "                 ResponseId                 RecipientLastName  \\\n",
       "0               Response ID               Recipient Last Name   \n",
       "1  {\"ImportId\":\"_recordId\"}  {\"ImportId\":\"recipientLastName\"}   \n",
       "2         R_22VmzxKFyFS3mpg                               NaN   \n",
       "3         R_UMePfKxllpOEyKR                               NaN   \n",
       "\n",
       "                         ...                          \\\n",
       "0                        ...                           \n",
       "1                        ...                           \n",
       "2                        ...                           \n",
       "3                        ...                           \n",
       "\n",
       "                                     D-Q8b21a_7_TEXT  \\\n",
       "0  ¿Cómo ha aprendido fundamentalmente latín? - O...   \n",
       "1                       {\"ImportId\":\"QID151_7_TEXT\"}   \n",
       "2                                                NaN   \n",
       "3                                                NaN   \n",
       "\n",
       "                                    D-Q8b21b                    D-Q8b21c  \\\n",
       "0  ¿Durante cuántos años ha estudiado latín?     Comentarios (opcional):   \n",
       "1                 {\"ImportId\":\"QID152_TEXT\"}  {\"ImportId\":\"QID153_TEXT\"}   \n",
       "2                                        NaN                         NaN   \n",
       "3                                        NaN                         NaN   \n",
       "\n",
       "                                            D-Q8b22a  \\\n",
       "0  ¿Cómo ha aprendido fundamentalmente el o los d...   \n",
       "1                               {\"ImportId\":\"QID89\"}   \n",
       "2                                                NaN   \n",
       "3                                                NaN   \n",
       "\n",
       "                                     D-Q8b22a_7_TEXT  \\\n",
       "0  ¿Cómo ha aprendido fundamentalmente el o los d...   \n",
       "1                        {\"ImportId\":\"QID89_7_TEXT\"}   \n",
       "2                                                NaN   \n",
       "3                                                NaN   \n",
       "\n",
       "                   D-Q8b22b                    D-Q8b22c  \\\n",
       "0  ¿Qué nivel ha alcanzado?     Comentarios (opcional):   \n",
       "1     {\"ImportId\":\"QID168\"}  {\"ImportId\":\"QID169_TEXT\"}   \n",
       "2                       NaN                         NaN   \n",
       "3                       NaN                         NaN   \n",
       "\n",
       "                                 D-Q9  \\\n",
       "0  ¿Dónde ha rellenado esta encuesta?   \n",
       "1                {\"ImportId\":\"QID96\"}   \n",
       "2                                 NaN   \n",
       "3                                 NaN   \n",
       "\n",
       "                                                E-Q1  \\\n",
       "0  Si lo desea, puede escribir un comentario y da...   \n",
       "1                          {\"ImportId\":\"QID94_TEXT\"}   \n",
       "2                                             kjjffe   \n",
       "3                                                NaN   \n",
       "\n",
       "                                                E-Q2  \n",
       "0  ¿Tiene interés en participar en la segunda par...  \n",
       "1                         {\"ImportId\":\"QID189_TEXT\"}  \n",
       "2                                                kjj  \n",
       "3                                                NaN  \n",
       "\n",
       "[4 rows x 211 columns]"
      ]
     },
     "execution_count": 3,
     "metadata": {},
     "output_type": "execute_result"
    }
   ],
   "source": [
    "Rohdaten.head(4)"
   ]
  },
  {
   "cell_type": "code",
   "execution_count": 4,
   "metadata": {},
   "outputs": [],
   "source": [
    "Rohdaten = Rohdaten.drop(1)"
   ]
  },
  {
   "cell_type": "markdown",
   "metadata": {},
   "source": [
    "### Glossar erstellen"
   ]
  },
  {
   "cell_type": "code",
   "execution_count": 5,
   "metadata": {
    "scrolled": true
   },
   "outputs": [],
   "source": [
    "gloss = pd.DataFrame(Rohdaten.loc[0])"
   ]
  },
  {
   "cell_type": "code",
   "execution_count": 6,
   "metadata": {},
   "outputs": [],
   "source": [
    "def get_name_gloss(word):\n",
    "    for i, val in enumerate(gloss[0]):\n",
    "        if word.lower() in str(val).lower():\n",
    "            return i, gloss.index[i]"
   ]
  },
  {
   "cell_type": "code",
   "execution_count": 7,
   "metadata": {},
   "outputs": [
    {
     "data": {
      "text/html": [
       "<div>\n",
       "<style scoped>\n",
       "    .dataframe tbody tr th:only-of-type {\n",
       "        vertical-align: middle;\n",
       "    }\n",
       "\n",
       "    .dataframe tbody tr th {\n",
       "        vertical-align: top;\n",
       "    }\n",
       "\n",
       "    .dataframe thead th {\n",
       "        text-align: right;\n",
       "    }\n",
       "</style>\n",
       "<table border=\"1\" class=\"dataframe\">\n",
       "  <thead>\n",
       "    <tr style=\"text-align: right;\">\n",
       "      <th></th>\n",
       "      <th>StartDate</th>\n",
       "      <th>EndDate</th>\n",
       "      <th>Status</th>\n",
       "      <th>IPAddress</th>\n",
       "      <th>Progress</th>\n",
       "      <th>Duration (in seconds)</th>\n",
       "      <th>Finished</th>\n",
       "      <th>RecordedDate</th>\n",
       "      <th>ResponseId</th>\n",
       "      <th>RecipientLastName</th>\n",
       "      <th>...</th>\n",
       "      <th>D-Q8b21a_7_TEXT</th>\n",
       "      <th>D-Q8b21b</th>\n",
       "      <th>D-Q8b21c</th>\n",
       "      <th>D-Q8b22a</th>\n",
       "      <th>D-Q8b22a_7_TEXT</th>\n",
       "      <th>D-Q8b22b</th>\n",
       "      <th>D-Q8b22c</th>\n",
       "      <th>D-Q9</th>\n",
       "      <th>E-Q1</th>\n",
       "      <th>E-Q2</th>\n",
       "    </tr>\n",
       "  </thead>\n",
       "  <tbody>\n",
       "    <tr>\n",
       "      <th>0</th>\n",
       "      <td>2019-02-05 04:50:57</td>\n",
       "      <td>2019-02-05 04:53:52</td>\n",
       "      <td>1</td>\n",
       "      <td>NaN</td>\n",
       "      <td>100</td>\n",
       "      <td>175</td>\n",
       "      <td>1</td>\n",
       "      <td>2019-02-05 04:53:53</td>\n",
       "      <td>R_22VmzxKFyFS3mpg</td>\n",
       "      <td>NaN</td>\n",
       "      <td>...</td>\n",
       "      <td>NaN</td>\n",
       "      <td>NaN</td>\n",
       "      <td>NaN</td>\n",
       "      <td>NaN</td>\n",
       "      <td>NaN</td>\n",
       "      <td>NaN</td>\n",
       "      <td>NaN</td>\n",
       "      <td>NaN</td>\n",
       "      <td>kjjffe</td>\n",
       "      <td>kjj</td>\n",
       "    </tr>\n",
       "    <tr>\n",
       "      <th>1</th>\n",
       "      <td>2019-02-12 12:36:39</td>\n",
       "      <td>2019-02-12 12:38:41</td>\n",
       "      <td>0</td>\n",
       "      <td>81.0.32.65</td>\n",
       "      <td>100</td>\n",
       "      <td>122</td>\n",
       "      <td>1</td>\n",
       "      <td>2019-02-12 12:38:43</td>\n",
       "      <td>R_UMePfKxllpOEyKR</td>\n",
       "      <td>NaN</td>\n",
       "      <td>...</td>\n",
       "      <td>NaN</td>\n",
       "      <td>NaN</td>\n",
       "      <td>NaN</td>\n",
       "      <td>NaN</td>\n",
       "      <td>NaN</td>\n",
       "      <td>NaN</td>\n",
       "      <td>NaN</td>\n",
       "      <td>NaN</td>\n",
       "      <td>NaN</td>\n",
       "      <td>NaN</td>\n",
       "    </tr>\n",
       "    <tr>\n",
       "      <th>2</th>\n",
       "      <td>2019-02-13 11:18:06</td>\n",
       "      <td>2019-02-13 11:36:49</td>\n",
       "      <td>0</td>\n",
       "      <td>212.128.135.98</td>\n",
       "      <td>100</td>\n",
       "      <td>1122</td>\n",
       "      <td>1</td>\n",
       "      <td>2019-02-13 11:36:50</td>\n",
       "      <td>R_2pQsE2By2d501z9</td>\n",
       "      <td>NaN</td>\n",
       "      <td>...</td>\n",
       "      <td>NaN</td>\n",
       "      <td>NaN</td>\n",
       "      <td>NaN</td>\n",
       "      <td>NaN</td>\n",
       "      <td>NaN</td>\n",
       "      <td>NaN</td>\n",
       "      <td>NaN</td>\n",
       "      <td>1</td>\n",
       "      <td>NaN</td>\n",
       "      <td>mario2000@usal.es</td>\n",
       "    </tr>\n",
       "  </tbody>\n",
       "</table>\n",
       "<p>3 rows × 211 columns</p>\n",
       "</div>"
      ],
      "text/plain": [
       "             StartDate              EndDate Status       IPAddress Progress  \\\n",
       "0  2019-02-05 04:50:57  2019-02-05 04:53:52      1             NaN      100   \n",
       "1  2019-02-12 12:36:39  2019-02-12 12:38:41      0      81.0.32.65      100   \n",
       "2  2019-02-13 11:18:06  2019-02-13 11:36:49      0  212.128.135.98      100   \n",
       "\n",
       "  Duration (in seconds) Finished         RecordedDate         ResponseId  \\\n",
       "0                   175        1  2019-02-05 04:53:53  R_22VmzxKFyFS3mpg   \n",
       "1                   122        1  2019-02-12 12:38:43  R_UMePfKxllpOEyKR   \n",
       "2                  1122        1  2019-02-13 11:36:50  R_2pQsE2By2d501z9   \n",
       "\n",
       "  RecipientLastName        ...         D-Q8b21a_7_TEXT D-Q8b21b D-Q8b21c  \\\n",
       "0               NaN        ...                     NaN      NaN      NaN   \n",
       "1               NaN        ...                     NaN      NaN      NaN   \n",
       "2               NaN        ...                     NaN      NaN      NaN   \n",
       "\n",
       "  D-Q8b22a D-Q8b22a_7_TEXT D-Q8b22b D-Q8b22c D-Q9    E-Q1               E-Q2  \n",
       "0      NaN             NaN      NaN      NaN  NaN  kjjffe                kjj  \n",
       "1      NaN             NaN      NaN      NaN  NaN     NaN                NaN  \n",
       "2      NaN             NaN      NaN      NaN    1     NaN  mario2000@usal.es  \n",
       "\n",
       "[3 rows x 211 columns]"
      ]
     },
     "execution_count": 7,
     "metadata": {},
     "output_type": "execute_result"
    }
   ],
   "source": [
    "Rohdaten = Rohdaten.drop(0).reset_index(drop=True)\n",
    "Rohdaten.head(3)"
   ]
  },
  {
   "cell_type": "markdown",
   "metadata": {},
   "source": [
    "### Gültige Daten auswählen"
   ]
  },
  {
   "cell_type": "markdown",
   "metadata": {},
   "source": [
    "##### Tests entfernen:"
   ]
  },
  {
   "cell_type": "code",
   "execution_count": 8,
   "metadata": {},
   "outputs": [
    {
     "data": {
      "text/html": [
       "<div>\n",
       "<style scoped>\n",
       "    .dataframe tbody tr th:only-of-type {\n",
       "        vertical-align: middle;\n",
       "    }\n",
       "\n",
       "    .dataframe tbody tr th {\n",
       "        vertical-align: top;\n",
       "    }\n",
       "\n",
       "    .dataframe thead th {\n",
       "        text-align: right;\n",
       "    }\n",
       "</style>\n",
       "<table border=\"1\" class=\"dataframe\">\n",
       "  <thead>\n",
       "    <tr style=\"text-align: right;\">\n",
       "      <th></th>\n",
       "      <th>StartDate</th>\n",
       "      <th>EndDate</th>\n",
       "      <th>Status</th>\n",
       "      <th>IPAddress</th>\n",
       "      <th>Progress</th>\n",
       "      <th>Duration (in seconds)</th>\n",
       "      <th>Finished</th>\n",
       "      <th>RecordedDate</th>\n",
       "      <th>ResponseId</th>\n",
       "      <th>RecipientLastName</th>\n",
       "      <th>...</th>\n",
       "      <th>D-Q8b21a_7_TEXT</th>\n",
       "      <th>D-Q8b21b</th>\n",
       "      <th>D-Q8b21c</th>\n",
       "      <th>D-Q8b22a</th>\n",
       "      <th>D-Q8b22a_7_TEXT</th>\n",
       "      <th>D-Q8b22b</th>\n",
       "      <th>D-Q8b22c</th>\n",
       "      <th>D-Q9</th>\n",
       "      <th>E-Q1</th>\n",
       "      <th>E-Q2</th>\n",
       "    </tr>\n",
       "  </thead>\n",
       "  <tbody>\n",
       "    <tr>\n",
       "      <th>0</th>\n",
       "      <td>2019-02-12 12:36:39</td>\n",
       "      <td>2019-02-12 12:38:41</td>\n",
       "      <td>0</td>\n",
       "      <td>81.0.32.65</td>\n",
       "      <td>100</td>\n",
       "      <td>122</td>\n",
       "      <td>1</td>\n",
       "      <td>2019-02-12 12:38:43</td>\n",
       "      <td>R_UMePfKxllpOEyKR</td>\n",
       "      <td>NaN</td>\n",
       "      <td>...</td>\n",
       "      <td>NaN</td>\n",
       "      <td>NaN</td>\n",
       "      <td>NaN</td>\n",
       "      <td>NaN</td>\n",
       "      <td>NaN</td>\n",
       "      <td>NaN</td>\n",
       "      <td>NaN</td>\n",
       "      <td>NaN</td>\n",
       "      <td>NaN</td>\n",
       "      <td>NaN</td>\n",
       "    </tr>\n",
       "    <tr>\n",
       "      <th>1</th>\n",
       "      <td>2019-02-13 11:18:06</td>\n",
       "      <td>2019-02-13 11:36:49</td>\n",
       "      <td>0</td>\n",
       "      <td>212.128.135.98</td>\n",
       "      <td>100</td>\n",
       "      <td>1122</td>\n",
       "      <td>1</td>\n",
       "      <td>2019-02-13 11:36:50</td>\n",
       "      <td>R_2pQsE2By2d501z9</td>\n",
       "      <td>NaN</td>\n",
       "      <td>...</td>\n",
       "      <td>NaN</td>\n",
       "      <td>NaN</td>\n",
       "      <td>NaN</td>\n",
       "      <td>NaN</td>\n",
       "      <td>NaN</td>\n",
       "      <td>NaN</td>\n",
       "      <td>NaN</td>\n",
       "      <td>1</td>\n",
       "      <td>NaN</td>\n",
       "      <td>mario2000@usal.es</td>\n",
       "    </tr>\n",
       "  </tbody>\n",
       "</table>\n",
       "<p>2 rows × 211 columns</p>\n",
       "</div>"
      ],
      "text/plain": [
       "             StartDate              EndDate Status       IPAddress Progress  \\\n",
       "0  2019-02-12 12:36:39  2019-02-12 12:38:41      0      81.0.32.65      100   \n",
       "1  2019-02-13 11:18:06  2019-02-13 11:36:49      0  212.128.135.98      100   \n",
       "\n",
       "  Duration (in seconds) Finished         RecordedDate         ResponseId  \\\n",
       "0                   122        1  2019-02-12 12:38:43  R_UMePfKxllpOEyKR   \n",
       "1                  1122        1  2019-02-13 11:36:50  R_2pQsE2By2d501z9   \n",
       "\n",
       "  RecipientLastName        ...         D-Q8b21a_7_TEXT D-Q8b21b D-Q8b21c  \\\n",
       "0               NaN        ...                     NaN      NaN      NaN   \n",
       "1               NaN        ...                     NaN      NaN      NaN   \n",
       "\n",
       "  D-Q8b22a D-Q8b22a_7_TEXT D-Q8b22b D-Q8b22c D-Q9 E-Q1               E-Q2  \n",
       "0      NaN             NaN      NaN      NaN  NaN  NaN                NaN  \n",
       "1      NaN             NaN      NaN      NaN    1  NaN  mario2000@usal.es  \n",
       "\n",
       "[2 rows x 211 columns]"
      ]
     },
     "execution_count": 8,
     "metadata": {},
     "output_type": "execute_result"
    }
   ],
   "source": [
    "Daten = Rohdaten[Rohdaten['DistributionChannel'] != 'preview'].reset_index(drop=True)\n",
    "Daten.head(2)"
   ]
  },
  {
   "cell_type": "code",
   "execution_count": 9,
   "metadata": {},
   "outputs": [],
   "source": [
    "ind_test = []\n",
    "for j, wert in enumerate(Daten['A-Q1']):\n",
    "    if 'test' in str(wert):\n",
    "        ind_test.append(j)\n",
    "    if 'Test' in str(wert):\n",
    "        ind_test.append(j)"
   ]
  },
  {
   "cell_type": "code",
   "execution_count": 10,
   "metadata": {},
   "outputs": [],
   "source": [
    "Daten = Daten.drop(ind_test).reset_index(drop=True)"
   ]
  },
  {
   "cell_type": "markdown",
   "metadata": {},
   "source": [
    "##### Fertig ausgefüllte Fragebögen:"
   ]
  },
  {
   "cell_type": "code",
   "execution_count": 48,
   "metadata": {},
   "outputs": [],
   "source": [
    "Finished = Daten[Daten['Finished'] == '1'].reset_index(drop=True)"
   ]
  },
  {
   "cell_type": "code",
   "execution_count": 50,
   "metadata": {},
   "outputs": [
    {
     "data": {
      "text/plain": [
       "(31, 212)"
      ]
     },
     "execution_count": 50,
     "metadata": {},
     "output_type": "execute_result"
    }
   ],
   "source": [
    "Finished.shape"
   ]
  },
  {
   "cell_type": "markdown",
   "metadata": {},
   "source": [
    "##### Fragebögen mit fehlenden Werten ermitteln:"
   ]
  },
  {
   "cell_type": "code",
   "execution_count": 51,
   "metadata": {},
   "outputs": [],
   "source": [
    "def count_nan(row):\n",
    "    cnt = 0\n",
    "    for el in row:\n",
    "        if (str(el) == 'nan'):\n",
    "            cnt = cnt + 1\n",
    "    return cnt*100/len(row)"
   ]
  },
  {
   "cell_type": "code",
   "execution_count": 52,
   "metadata": {},
   "outputs": [],
   "source": [
    "porc_nan = []\n",
    "for i in range(Finished.shape[0]):\n",
    "    porc_nan.append(count_nan(Finished.loc[i]))"
   ]
  },
  {
   "cell_type": "code",
   "execution_count": 53,
   "metadata": {},
   "outputs": [],
   "source": [
    "Finished['porc_nan'] = porc_nan"
   ]
  },
  {
   "cell_type": "code",
   "execution_count": 54,
   "metadata": {},
   "outputs": [
    {
     "data": {
      "text/plain": [
       "<matplotlib.axes._subplots.AxesSubplot at 0xa876ba8>"
      ]
     },
     "execution_count": 54,
     "metadata": {},
     "output_type": "execute_result"
    },
    {
     "data": {
      "image/png": "[encoded data removed]",
      "text/plain": [
       "<Figure size 432x288 with 1 Axes>"
      ]
     },
     "metadata": {},
     "output_type": "display_data"
    }
   ],
   "source": [
    "Finished['porc_nan'].hist(bins=30)"
   ]
  },
  {
   "cell_type": "code",
   "execution_count": 55,
   "metadata": {},
   "outputs": [
    {
     "data": {
      "text/plain": [
       "Int64Index([0], dtype='int64')"
      ]
     },
     "execution_count": 55,
     "metadata": {},
     "output_type": "execute_result"
    }
   ],
   "source": [
    "Finished[Finished['porc_nan'] > 62].index"
   ]
  },
  {
   "cell_type": "code",
   "execution_count": 56,
   "metadata": {},
   "outputs": [],
   "source": [
    "Finished = Finished.drop(Finished[Finished['porc_nan'] > 62].index).reset_index(drop=True)"
   ]
  },
  {
   "cell_type": "code",
   "execution_count": 57,
   "metadata": {},
   "outputs": [
    {
     "data": {
      "text/plain": [
       "(30, 212)"
      ]
     },
     "execution_count": 57,
     "metadata": {},
     "output_type": "execute_result"
    }
   ],
   "source": [
    "Finished.shape"
   ]
  },
  {
   "cell_type": "code",
   "execution_count": 58,
   "metadata": {},
   "outputs": [],
   "source": [
    "Datenber = Finished"
   ]
  },
  {
   "cell_type": "markdown",
   "metadata": {},
   "source": [
    "### Art der Werte kontrollieren und anpassen"
   ]
  },
  {
   "cell_type": "code",
   "execution_count": 59,
   "metadata": {},
   "outputs": [],
   "source": [
    "#Datenber.dtypes"
   ]
  },
  {
   "cell_type": "code",
   "execution_count": 60,
   "metadata": {},
   "outputs": [
    {
     "data": {
      "text/plain": [
       "0           2,3,4,6,9\n",
       "1           1,2,6,7,9\n",
       "2             6,7,8,9\n",
       "3       1,2,3,5,6,7,8\n",
       "4         2,3,5,7,8,9\n",
       "5               1,2,7\n",
       "6     1,2,3,5,6,7,8,9\n",
       "7             1,2,3,7\n",
       "8          1,2,3,6,10\n",
       "9                 NaN\n",
       "10          2,3,5,6,7\n",
       "11                4,9\n",
       "12                  2\n",
       "13          1,2,5,7,9\n",
       "14            1,3,4,5\n",
       "15            2,3,5,9\n",
       "16        1,2,3,4,6,9\n",
       "17          1,2,3,7,9\n",
       "18                  9\n",
       "19          2,3,4,6,9\n",
       "20      1,2,4,5,6,7,8\n",
       "21       5,6,7,8,9,10\n",
       "22              1,2,7\n",
       "23              1,2,6\n",
       "24      1,2,5,6,7,8,9\n",
       "25                  2\n",
       "26                4,5\n",
       "27              1,6,7\n",
       "28          2,3,4,6,7\n",
       "29       1,2,5,6,7,10\n",
       "Name: B-Q1, dtype: object"
      ]
     },
     "execution_count": 60,
     "metadata": {},
     "output_type": "execute_result"
    }
   ],
   "source": [
    "Datenber['B-Q1']"
   ]
  },
  {
   "cell_type": "markdown",
   "metadata": {},
   "source": [
    "##### Multiple-Choice-Format"
   ]
  },
  {
   "cell_type": "markdown",
   "metadata": {},
   "source": [
    "Multiple-Choice-Antworten werden jeweils in einem Feld der Excel-Tabelle unter einer Variable (z.B. Frage \"B-Q1\") gespeichert. Um diese auswerten zu können, müssen diese Felder aufgeteilt werden. Dazu werden sogenannte \"Dummy-Variablen\" erstellt. Für jede in der Befragung gewählte Multiple-Choice-Antwort wird eine solche Variable erstellt und als neue Spalte in die Excel-Tabelle eingefügt. Dieser Vorgang wird für alle Multiple-Choice-Fragen durchgeführt."
   ]
  },
  {
   "cell_type": "markdown",
   "metadata": {},
   "source": [
    "*Anzahl der Dummy-Variablen feststellen:*"
   ]
  },
  {
   "cell_type": "code",
   "execution_count": 61,
   "metadata": {},
   "outputs": [],
   "source": [
    "def get_itemlist(df,var):\n",
    "    vals = df[var].dropna().reset_index(drop=True)\n",
    "    lista_strings = vals[0].split(',')\n",
    "    for val in vals:\n",
    "        lst = str(val).split(',')\n",
    "        lst_add = [el for el in lst if el not in lista_strings]\n",
    "        if lst_add:\n",
    "            lista_strings = lista_strings + lst_add\n",
    "    return list(sort([int(el) for el in lista_strings]))"
   ]
  },
  {
   "cell_type": "markdown",
   "metadata": {},
   "source": [
    "*Dummy-Variablen erstellen:*"
   ]
  },
  {
   "cell_type": "code",
   "execution_count": 62,
   "metadata": {},
   "outputs": [],
   "source": [
    "def dummies_multiple(df, col):\n",
    "    # leere Tabelle erstellen\n",
    "    columns = [str(el) for el in get_itemlist(df,col)]\n",
    "    ind = range(df.shape[0])\n",
    "    df_int = pd.DataFrame(index=ind, columns=columns)\n",
    "    df_int = df_int.fillna(0)\n",
    "    \n",
    "    for i in ind:\n",
    "        if str(df.loc[i,col]) != 'nan':\n",
    "            list1 = str(df.loc[i,col]).split(',')\n",
    "            df_int.loc[i,list1] = np.ones(len(list1), dtype = int)\n",
    "    \n",
    "    df_int.columns = ['{}_{}'.format(col,column) for column in columns]\n",
    "    return df_int"
   ]
  },
  {
   "cell_type": "code",
   "execution_count": 63,
   "metadata": {},
   "outputs": [],
   "source": [
    "def insert_dummies(df,col):\n",
    "    df_insert = dummies_multiple(df,col)\n",
    "    return pd.concat([ df.loc[:,:col], df_insert, df.loc[:,col:] ], axis = 1).drop(col,axis = 1)"
   ]
  },
  {
   "cell_type": "code",
   "execution_count": 64,
   "metadata": {},
   "outputs": [],
   "source": [
    "var_choice = ['B-Q1','B-Q2-1','B-Q2-2','B-Q2-3','B-Q2-4','B-Q2-5','B-Q2-6','B-Q2-7','B-Q2-8','B-Q2-9','D-Q8b1a','D-Q8b5a','D-Q8b6a','D-Q8b10a','D-Q8b12a','D-Q8b13a','D-Q8b14a','D-Q8b15a','D-Q8b16a','D-Q8b20a','D-Q8b21a']"
   ]
  },
  {
   "cell_type": "code",
   "execution_count": 65,
   "metadata": {},
   "outputs": [],
   "source": [
    "for col in var_choice:\n",
    "    Datenber = insert_dummies(Datenber,col)"
   ]
  },
  {
   "cell_type": "markdown",
   "metadata": {},
   "source": [
    "##### Format für fehlende Werte"
   ]
  },
  {
   "cell_type": "code",
   "execution_count": 66,
   "metadata": {},
   "outputs": [],
   "source": [
    "Datenber = Datenber.fillna(0)"
   ]
  },
  {
   "cell_type": "markdown",
   "metadata": {},
   "source": [
    "Fehlende Werte werden grundsätzlich als \"NaN\" definiert, was zu Problemen bei der Analyse führen kann. Da der Wert \"0\" nur in wenigen Fragen vorkommt, bei denen keine Werte fehlen, kann \"NaN\" durch \"0\" ersetzt werden."
   ]
  },
  {
   "cell_type": "markdown",
   "metadata": {},
   "source": [
    "##### Numerische Werte"
   ]
  },
  {
   "cell_type": "markdown",
   "metadata": {},
   "source": [
    "*Auswahl der Spalten ohne Texteingabe:*"
   ]
  },
  {
   "cell_type": "code",
   "execution_count": 67,
   "metadata": {},
   "outputs": [],
   "source": [
    "#gloss.loc['D-Q1a'][0]"
   ]
  },
  {
   "cell_type": "code",
   "execution_count": 68,
   "metadata": {},
   "outputs": [],
   "source": [
    "gloss1 = pd.DataFrame(Datenber.loc[0])"
   ]
  },
  {
   "cell_type": "code",
   "execution_count": 69,
   "metadata": {},
   "outputs": [],
   "source": [
    "liste_ohne_komm = [ind for ind in gloss1.index if 'comentario' not in str(gloss1.loc[ind][0]).lower()]"
   ]
  },
  {
   "cell_type": "code",
   "execution_count": 70,
   "metadata": {},
   "outputs": [],
   "source": [
    "liste_ohne_text = [col for col in liste_ohne_komm if 'text' not in col.lower()]"
   ]
  },
  {
   "cell_type": "code",
   "execution_count": 71,
   "metadata": {},
   "outputs": [],
   "source": [
    "def get_var_num(lst,var):\n",
    "    return [col for col in lst if var not in col]"
   ]
  },
  {
   "cell_type": "code",
   "execution_count": 72,
   "metadata": {},
   "outputs": [],
   "source": [
    "liste_fragen_num = [col for col in liste_ohne_text if 'Q' in col]\n",
    "_vars_ = ['A-Q1','D-Q1a','D-Q4a','D-Q7a','D-Q7d','D-Q7g','D-Q8a','D-Q8b1c','D-Q8b2c','D-Q8b3c','D-Q8b4c','D-Q8b5c','D-Q8b6c','D-Q8b7c','D-Q8b8c','D-Q8b9c','D-Q8b10c','D-Q8b11c','D-Q8b12c','D-Q8b13c','D-Q8b14c','D-Q8b15c','D-Q8b16c','D-Q8b17c','D-Q8b18c','D-Q8b19c','D-Q8b20c','D-Q8b21c','D-Q8b22c','E-Q1','E-Q2']\n",
    "for var in _vars_:\n",
    "    liste_fragen_num = get_var_num(liste_fragen_num,var)"
   ]
  },
  {
   "cell_type": "markdown",
   "metadata": {},
   "source": [
    "*Verschiedene Formate in numerische Werte umwandeln:*"
   ]
  },
  {
   "cell_type": "code",
   "execution_count": 73,
   "metadata": {},
   "outputs": [],
   "source": [
    "def Werte_numm(s):\n",
    "    return pd.to_numeric(s, downcast='integer')"
   ]
  },
  {
   "cell_type": "markdown",
   "metadata": {},
   "source": [
    "Als Text (object) gelesene Werte werden in numerische Werte umgewandelt, bevorzugt wird das Datenformat \"integer\" verwendet. Bei negativen Werten oder Dezimalstellen wird \"float\" verwendet."
   ]
  },
  {
   "cell_type": "code",
   "execution_count": 74,
   "metadata": {},
   "outputs": [],
   "source": [
    "for el in liste_fragen_num:\n",
    "    Datenber[el] = Werte_numm(Datenber[el])"
   ]
  },
  {
   "cell_type": "code",
   "execution_count": 75,
   "metadata": {},
   "outputs": [
    {
     "data": {
      "text/plain": [
       "['porc_nan']"
      ]
     },
     "execution_count": 75,
     "metadata": {},
     "output_type": "execute_result"
    }
   ],
   "source": [
    "lista_float = []\n",
    "for i, tipo in enumerate(Datenber.dtypes):\n",
    "    if 'float' in str(tipo):\n",
    "        lista_float.append(Datenber.columns[i])\n",
    "lista_float"
   ]
  },
  {
   "cell_type": "code",
   "execution_count": 76,
   "metadata": {},
   "outputs": [],
   "source": [
    "#Datenber.dtypes"
   ]
  },
  {
   "cell_type": "markdown",
   "metadata": {},
   "source": [
    "### Daten speichern"
   ]
  },
  {
   "cell_type": "code",
   "execution_count": 83,
   "metadata": {},
   "outputs": [],
   "source": [
    "#Datenber.to_pickle('D:\\Daten\\DISS\\Daten\\Estrategias_Estudiantes_2019_ber')"
   ]
  },
  {
   "cell_type": "code",
   "execution_count": 84,
   "metadata": {},
   "outputs": [],
   "source": [
    "#Datenber.to_excel('D:\\Daten\\DISS\\Daten\\Estrategias_Estudiantes_2019_ber.xlsx',encoding='utf-16')"
   ]
  },
  {
   "cell_type": "code",
   "execution_count": 79,
   "metadata": {},
   "outputs": [],
   "source": [
    "#Datenber.to_csv('D:\\Daten\\DISS\\Daten\\Estrategias_Estudiantes_2019_ber.csv',encoding='utf-16')"
   ]
  },
  {
   "cell_type": "code",
   "execution_count": 80,
   "metadata": {},
   "outputs": [],
   "source": [
    "#gloss.to_pickle('D:\\Daten\\DISS\\Daten\\Gloss2019')"
   ]
  },
  {
   "cell_type": "markdown",
   "metadata": {},
   "source": [
    "#### Daten ohne Text für IRT"
   ]
  },
  {
   "cell_type": "code",
   "execution_count": 81,
   "metadata": {},
   "outputs": [],
   "source": [
    "#Datenber1 = Datenber[liste_fragen_num]"
   ]
  },
  {
   "cell_type": "code",
   "execution_count": 82,
   "metadata": {},
   "outputs": [],
   "source": [
    "#Datenber1.to_csv('D:\\Daten\\DISS\\Daten\\Estrategias_Estudiantes_2019_ber1.csv',encoding='utf-16')"
   ]
  },
  {
   "cell_type": "code",
   "execution_count": null,
   "metadata": {},
   "outputs": [],
   "source": []
  }
 ],
 "metadata": {
  "kernelspec": {
   "display_name": "Python 3",
   "language": "python",
   "name": "python3"
  },
  "language_info": {
   "codemirror_mode": {
    "name": "ipython",
    "version": 3
   },
   "file_extension": ".py",
   "mimetype": "text/x-python",
   "name": "python",
   "nbconvert_exporter": "python",
   "pygments_lexer": "ipython3",
   "version": "3.6.3"
  }
 },
 "nbformat": 4,
 "nbformat_minor": 2
}
