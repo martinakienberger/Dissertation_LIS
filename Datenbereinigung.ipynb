{
 "cells": [
  {
   "cell_type": "code",
   "execution_count": 1,
   "metadata": {},
   "outputs": [
    {
     "name": "stdout",
     "output_type": "stream",
     "text": [
      "Populating the interactive namespace from numpy and matplotlib\n"
     ]
    }
   ],
   "source": [
    "import pandas as pd\n",
    "% pylab inline"
   ]
  },
  {
   "cell_type": "code",
   "execution_count": 2,
   "metadata": {
    "collapsed": true
   },
   "outputs": [],
   "source": [
    "Rohdaten = pd.read_csv('D:\\Daten\\DISS\\Daten\\Estrategias_Estudiantes_Kienberger.csv')"
   ]
  },
  {
   "cell_type": "code",
   "execution_count": 3,
   "metadata": {},
   "outputs": [
    {
     "data": {
      "text/html": [
       "<div>\n",
       "<style>\n",
       "    .dataframe thead tr:only-child th {\n",
       "        text-align: right;\n",
       "    }\n",
       "\n",
       "    .dataframe thead th {\n",
       "        text-align: left;\n",
       "    }\n",
       "\n",
       "    .dataframe tbody tr th {\n",
       "        vertical-align: top;\n",
       "    }\n",
       "</style>\n",
       "<table border=\"1\" class=\"dataframe\">\n",
       "  <thead>\n",
       "    <tr style=\"text-align: right;\">\n",
       "      <th></th>\n",
       "      <th>V1</th>\n",
       "      <th>V2</th>\n",
       "      <th>V3</th>\n",
       "      <th>V4</th>\n",
       "      <th>V5</th>\n",
       "      <th>V6</th>\n",
       "      <th>V7</th>\n",
       "      <th>V8</th>\n",
       "      <th>V9</th>\n",
       "      <th>V10</th>\n",
       "      <th>...</th>\n",
       "      <th>D-Q8b22b_12</th>\n",
       "      <th>D-Q8b22c</th>\n",
       "      <th>D-Q9_1</th>\n",
       "      <th>D-Q9_2</th>\n",
       "      <th>E-T1</th>\n",
       "      <th>E-Q1</th>\n",
       "      <th>LocationLatitude</th>\n",
       "      <th>LocationLongitude</th>\n",
       "      <th>LocationAccuracy</th>\n",
       "      <th>Unnamed: 442</th>\n",
       "    </tr>\n",
       "  </thead>\n",
       "  <tbody>\n",
       "    <tr>\n",
       "      <th>0</th>\n",
       "      <td>ResponseID</td>\n",
       "      <td>ResponseSet</td>\n",
       "      <td>Name</td>\n",
       "      <td>ExternalDataReference</td>\n",
       "      <td>EmailAddress</td>\n",
       "      <td>IPAddress</td>\n",
       "      <td>Status</td>\n",
       "      <td>StartDate</td>\n",
       "      <td>EndDate</td>\n",
       "      <td>Finished</td>\n",
       "      <td>...</td>\n",
       "      <td>¿Qué nivel ha alcanzado?-C2</td>\n",
       "      <td>Comentarios (opcional):</td>\n",
       "      <td>¿Dónde ha rellenado esta encuesta?-En clase</td>\n",
       "      <td>¿Dónde ha rellenado esta encuesta?-Fuera de clase</td>\n",
       "      <td>Comentarios adicionales</td>\n",
       "      <td>Si lo desea, puede escribir un comentario y da...</td>\n",
       "      <td>LocationLatitude</td>\n",
       "      <td>LocationLongitude</td>\n",
       "      <td>LocationAccuracy</td>\n",
       "      <td>NaN</td>\n",
       "    </tr>\n",
       "    <tr>\n",
       "      <th>1</th>\n",
       "      <td>R_1kOiXpqqaX3Irxm</td>\n",
       "      <td>Default Response Set</td>\n",
       "      <td>Anonymous</td>\n",
       "      <td>NaN</td>\n",
       "      <td>NaN</td>\n",
       "      <td>88.3.172.215</td>\n",
       "      <td>0</td>\n",
       "      <td>2017-11-09 13:10:29</td>\n",
       "      <td>2017-11-09 13:25:39</td>\n",
       "      <td>1</td>\n",
       "      <td>...</td>\n",
       "      <td>NaN</td>\n",
       "      <td>NaN</td>\n",
       "      <td>NaN</td>\n",
       "      <td>1</td>\n",
       "      <td>1</td>\n",
       "      <td>Gratificante y útil</td>\n",
       "      <td>40.968795776367</td>\n",
       "      <td>-5.6638946533203</td>\n",
       "      <td>-1</td>\n",
       "      <td>NaN</td>\n",
       "    </tr>\n",
       "    <tr>\n",
       "      <th>2</th>\n",
       "      <td>R_1F5FzvY7aYwiipy</td>\n",
       "      <td>Default Response Set</td>\n",
       "      <td>Anonymous</td>\n",
       "      <td>NaN</td>\n",
       "      <td>NaN</td>\n",
       "      <td>212.128.135.110</td>\n",
       "      <td>0</td>\n",
       "      <td>2017-11-10 01:39:27</td>\n",
       "      <td>2017-11-10 01:54:25</td>\n",
       "      <td>1</td>\n",
       "      <td>...</td>\n",
       "      <td>NaN</td>\n",
       "      <td>NaN</td>\n",
       "      <td>NaN</td>\n",
       "      <td>1</td>\n",
       "      <td>1</td>\n",
       "      <td>Una encuesta muy completa que me ha servido pa...</td>\n",
       "      <td>40.96809387207</td>\n",
       "      <td>-5.6620025634766</td>\n",
       "      <td>-1</td>\n",
       "      <td>NaN</td>\n",
       "    </tr>\n",
       "    <tr>\n",
       "      <th>3</th>\n",
       "      <td>R_2ErWjTyNYcSh10N</td>\n",
       "      <td>Default Response Set</td>\n",
       "      <td>Anonymous</td>\n",
       "      <td>NaN</td>\n",
       "      <td>NaN</td>\n",
       "      <td>212.128.135.84</td>\n",
       "      <td>0</td>\n",
       "      <td>2017-11-10 02:23:28</td>\n",
       "      <td>2017-11-10 02:39:04</td>\n",
       "      <td>1</td>\n",
       "      <td>...</td>\n",
       "      <td>NaN</td>\n",
       "      <td>NaN</td>\n",
       "      <td>NaN</td>\n",
       "      <td>1</td>\n",
       "      <td>1</td>\n",
       "      <td>NaN</td>\n",
       "      <td>40.96809387207</td>\n",
       "      <td>-5.6620025634766</td>\n",
       "      <td>-1</td>\n",
       "      <td>NaN</td>\n",
       "    </tr>\n",
       "    <tr>\n",
       "      <th>4</th>\n",
       "      <td>R_1Cqe3iaPqIH7rmA</td>\n",
       "      <td>Default Response Set</td>\n",
       "      <td>Anonymous</td>\n",
       "      <td>NaN</td>\n",
       "      <td>NaN</td>\n",
       "      <td>85.53.244.6</td>\n",
       "      <td>0</td>\n",
       "      <td>2017-11-10 08:03:08</td>\n",
       "      <td>2017-11-10 08:21:35</td>\n",
       "      <td>1</td>\n",
       "      <td>...</td>\n",
       "      <td>NaN</td>\n",
       "      <td>NaN</td>\n",
       "      <td>NaN</td>\n",
       "      <td>1</td>\n",
       "      <td>1</td>\n",
       "      <td>NaN</td>\n",
       "      <td>40.417205810547</td>\n",
       "      <td>-3.6840057373047</td>\n",
       "      <td>-1</td>\n",
       "      <td>NaN</td>\n",
       "    </tr>\n",
       "  </tbody>\n",
       "</table>\n",
       "<p>5 rows × 443 columns</p>\n",
       "</div>"
      ],
      "text/plain": [
       "                  V1                    V2         V3                     V4  \\\n",
       "0         ResponseID           ResponseSet       Name  ExternalDataReference   \n",
       "1  R_1kOiXpqqaX3Irxm  Default Response Set  Anonymous                    NaN   \n",
       "2  R_1F5FzvY7aYwiipy  Default Response Set  Anonymous                    NaN   \n",
       "3  R_2ErWjTyNYcSh10N  Default Response Set  Anonymous                    NaN   \n",
       "4  R_1Cqe3iaPqIH7rmA  Default Response Set  Anonymous                    NaN   \n",
       "\n",
       "             V5               V6      V7                   V8  \\\n",
       "0  EmailAddress        IPAddress  Status            StartDate   \n",
       "1           NaN     88.3.172.215       0  2017-11-09 13:10:29   \n",
       "2           NaN  212.128.135.110       0  2017-11-10 01:39:27   \n",
       "3           NaN   212.128.135.84       0  2017-11-10 02:23:28   \n",
       "4           NaN      85.53.244.6       0  2017-11-10 08:03:08   \n",
       "\n",
       "                    V9       V10     ...                       D-Q8b22b_12  \\\n",
       "0              EndDate  Finished     ...       ¿Qué nivel ha alcanzado?-C2   \n",
       "1  2017-11-09 13:25:39         1     ...                               NaN   \n",
       "2  2017-11-10 01:54:25         1     ...                               NaN   \n",
       "3  2017-11-10 02:39:04         1     ...                               NaN   \n",
       "4  2017-11-10 08:21:35         1     ...                               NaN   \n",
       "\n",
       "                  D-Q8b22c                                       D-Q9_1  \\\n",
       "0  Comentarios (opcional):  ¿Dónde ha rellenado esta encuesta?-En clase   \n",
       "1                      NaN                                          NaN   \n",
       "2                      NaN                                          NaN   \n",
       "3                      NaN                                          NaN   \n",
       "4                      NaN                                          NaN   \n",
       "\n",
       "                                              D-Q9_2                     E-T1  \\\n",
       "0  ¿Dónde ha rellenado esta encuesta?-Fuera de clase  Comentarios adicionales   \n",
       "1                                                  1                        1   \n",
       "2                                                  1                        1   \n",
       "3                                                  1                        1   \n",
       "4                                                  1                        1   \n",
       "\n",
       "                                                E-Q1  LocationLatitude  \\\n",
       "0  Si lo desea, puede escribir un comentario y da...  LocationLatitude   \n",
       "1                               Gratificante y útil    40.968795776367   \n",
       "2  Una encuesta muy completa que me ha servido pa...    40.96809387207   \n",
       "3                                                NaN    40.96809387207   \n",
       "4                                                NaN   40.417205810547   \n",
       "\n",
       "   LocationLongitude  LocationAccuracy Unnamed: 442  \n",
       "0  LocationLongitude  LocationAccuracy          NaN  \n",
       "1   -5.6638946533203                -1          NaN  \n",
       "2   -5.6620025634766                -1          NaN  \n",
       "3   -5.6620025634766                -1          NaN  \n",
       "4   -3.6840057373047                -1          NaN  \n",
       "\n",
       "[5 rows x 443 columns]"
      ]
     },
     "execution_count": 3,
     "metadata": {},
     "output_type": "execute_result"
    }
   ],
   "source": [
    "Rohdaten.head(5)"
   ]
  },
  {
   "cell_type": "markdown",
   "metadata": {},
   "source": [
    "### Glossar erstellen"
   ]
  },
  {
   "cell_type": "code",
   "execution_count": 4,
   "metadata": {
    "collapsed": true,
    "scrolled": true
   },
   "outputs": [],
   "source": [
    "gloss = pd.DataFrame(Rohdaten.loc[0])"
   ]
  },
  {
   "cell_type": "markdown",
   "metadata": {},
   "source": [
    "Zeilen entfernen, z.B. 1. Zeile, die Bezeichnungen enthält (ins Glossar aufgenommen)"
   ]
  },
  {
   "cell_type": "code",
   "execution_count": 5,
   "metadata": {
    "collapsed": true
   },
   "outputs": [],
   "source": [
    "Rohdaten = Rohdaten.drop(0).reset_index(drop=True)"
   ]
  },
  {
   "cell_type": "markdown",
   "metadata": {},
   "source": [
    "### Gültige Daten auswählen"
   ]
  },
  {
   "cell_type": "code",
   "execution_count": 6,
   "metadata": {},
   "outputs": [
    {
     "name": "stdout",
     "output_type": "stream",
     "text": [
      "0    Finished\n",
      "Name: V10, dtype: object 9 Finished\n"
     ]
    }
   ],
   "source": [
    "for i, val in enumerate(gloss[0]):\n",
    "    if 'inish' in str(val):\n",
    "        print(gloss.iloc[i],i,val)"
   ]
  },
  {
   "cell_type": "markdown",
   "metadata": {},
   "source": [
    "Erklärungen dazu:\n",
    "\n",
    "* for = Programm durchläuft Tabelle Zeile für Zeile, nach Zeilennummer/Position (=i, 1. Zeile in Python hat Wert 0) + angegebenem Wert (=val)\n",
    "* enumerate = Funktion in Python, die Position + Werte angibt\n",
    "* str = Funktion in Python, die Reihenfolge von Zeichen als Zeichen (\"Text\") ausgibt (und nicht als Zahlen)\n",
    "* .loc['...'] = localizar/suchen mit Namen der Zeile + Name der Spalte\n",
    "* .iloc[...] = localizar/suchen mit Nummer der Zeile + Name der Spalte"
   ]
  },
  {
   "cell_type": "code",
   "execution_count": 7,
   "metadata": {
    "collapsed": true
   },
   "outputs": [],
   "source": [
    "def get_name_gloss(word):\n",
    "    for i, val in enumerate(gloss[0]):\n",
    "        if word.lower() in str(val).lower():\n",
    "            return i, gloss.index[i]"
   ]
  },
  {
   "cell_type": "markdown",
   "metadata": {},
   "source": [
    "Erkärungen zum Funktion erstellen:\n",
    "\n",
    "def = Bezeichnung für Funktion festlegen; word = Variable in dieser Funktion (frei wählbar), gilt nur, wenn diese Funktion aufgerufen wird\n",
    "\n",
    "(word.lower = Klein/Großschreibung nicht beachtet)\n",
    "\n",
    "* return = angeben, kann verwendet werden\n",
    "* print = anzeigen"
   ]
  },
  {
   "cell_type": "code",
   "execution_count": 8,
   "metadata": {},
   "outputs": [
    {
     "data": {
      "text/plain": [
       "(4, 'V5')"
      ]
     },
     "execution_count": 8,
     "metadata": {},
     "output_type": "execute_result"
    }
   ],
   "source": [
    "get_name_gloss('mAil')"
   ]
  },
  {
   "cell_type": "markdown",
   "metadata": {},
   "source": [
    "fertig ausgefüllte Fragebögen -> von Qualtrics als \"finished\" definiert (= in Spalte \"finished\" Wert \"1\")"
   ]
  },
  {
   "cell_type": "code",
   "execution_count": 9,
   "metadata": {
    "collapsed": true
   },
   "outputs": [],
   "source": [
    "Finished = Rohdaten[Rohdaten['V10'] == '1'].reset_index(drop=True)"
   ]
  },
  {
   "cell_type": "markdown",
   "metadata": {},
   "source": [
    "### Duplikate entfernen"
   ]
  },
  {
   "cell_type": "code",
   "execution_count": 10,
   "metadata": {
    "collapsed": true
   },
   "outputs": [],
   "source": [
    "ind_dup = []\n",
    "for j, wert in enumerate(Finished['A-Q1']):\n",
    "    if 'rellenad' in str(wert):\n",
    "        ind_dup.append(j)"
   ]
  },
  {
   "cell_type": "code",
   "execution_count": 11,
   "metadata": {},
   "outputs": [
    {
     "data": {
      "text/plain": [
       "[55, 56, 58, 59]"
      ]
     },
     "execution_count": 11,
     "metadata": {},
     "output_type": "execute_result"
    }
   ],
   "source": [
    "ind_dup"
   ]
  },
  {
   "cell_type": "code",
   "execution_count": 12,
   "metadata": {
    "collapsed": true
   },
   "outputs": [],
   "source": [
    "Datenber = Finished.drop(ind_dup).reset_index(drop=True)"
   ]
  },
  {
   "cell_type": "markdown",
   "metadata": {},
   "source": [
    "Funktion zum Zählen der fehlenden Werte (\"nan\"), enthält Tricks aufgrund Problems nummerischer-kategorischer Werte (später eventuell nicht mehr notwendig, soll im Weiteren verändert werden...)"
   ]
  },
  {
   "cell_type": "code",
   "execution_count": 13,
   "metadata": {
    "collapsed": true
   },
   "outputs": [],
   "source": [
    "def count_nan(row):\n",
    "    cnt = 0\n",
    "    for el in row:\n",
    "        if str(el) == 'nan':\n",
    "            cnt = cnt + 1\n",
    "    return cnt*100/len(row)"
   ]
  },
  {
   "cell_type": "markdown",
   "metadata": {},
   "source": [
    "letzte Zeile in Funktion bewirkt, dass nicht Anzahl an \"nan\", sondern Prozentsatz gezählt wird"
   ]
  },
  {
   "cell_type": "code",
   "execution_count": 14,
   "metadata": {},
   "outputs": [
    {
     "data": {
      "text/plain": [
       "72.46049661399549"
      ]
     },
     "execution_count": 14,
     "metadata": {},
     "output_type": "execute_result"
    }
   ],
   "source": [
    "count_nan(Datenber.loc[43])"
   ]
  },
  {
   "cell_type": "code",
   "execution_count": 15,
   "metadata": {
    "collapsed": true
   },
   "outputs": [],
   "source": [
    "porc_nan = []\n",
    "for i in range(Datenber.shape[0]):\n",
    "    porc_nan.append(count_nan(Datenber.loc[i]))"
   ]
  },
  {
   "cell_type": "markdown",
   "metadata": {},
   "source": [
    "range = Vektor, der alle Zeilen/Zahlen zwischen zwei Zahlenangaben enthält (z.B. von Zeile 0 bis Zeile 68 in unserer Tabelle, das könnte man auch als \"range(69)\" angeben)\n",
    "\n",
    "shape = zeigt Umfang einer Tabelle an, 0 = Zeilen, 1 = Spalten"
   ]
  },
  {
   "cell_type": "code",
   "execution_count": 16,
   "metadata": {
    "collapsed": true
   },
   "outputs": [],
   "source": [
    "Datenber['porc_nan'] = porc_nan"
   ]
  },
  {
   "cell_type": "markdown",
   "metadata": {},
   "source": [
    "eine neue Spalte hinzufügen und benennen (hinzugefügte Liste hat zufällig gleichen Namen, könnte nach = auch anders heißen)"
   ]
  },
  {
   "cell_type": "code",
   "execution_count": 17,
   "metadata": {},
   "outputs": [
    {
     "data": {
      "text/plain": [
       "<matplotlib.axes._subplots.AxesSubplot at 0xb77d748>"
      ]
     },
     "execution_count": 17,
     "metadata": {},
     "output_type": "execute_result"
    },
    {
     "data": {
      "image/png": "[encoded data removed]",
      "text/plain": [
       "<matplotlib.figure.Figure at 0xb77d128>"
      ]
     },
     "metadata": {},
     "output_type": "display_data"
    }
   ],
   "source": [
    "Datenber['porc_nan'].hist()"
   ]
  },
  {
   "cell_type": "markdown",
   "metadata": {},
   "source": [
    ".hist = histogram (Grafik)"
   ]
  },
  {
   "cell_type": "code",
   "execution_count": 18,
   "metadata": {},
   "outputs": [
    {
     "data": {
      "text/plain": [
       "Int64Index([56], dtype='int64')"
      ]
     },
     "execution_count": 18,
     "metadata": {},
     "output_type": "execute_result"
    }
   ],
   "source": [
    "Datenber[Datenber['porc_nan'] > 85].index"
   ]
  },
  {
   "cell_type": "code",
   "execution_count": 19,
   "metadata": {
    "collapsed": true
   },
   "outputs": [],
   "source": [
    "Datenber = Datenber.drop(Datenber[Datenber['porc_nan'] > 85].index).reset_index(drop=True)"
   ]
  },
  {
   "cell_type": "code",
   "execution_count": 20,
   "metadata": {},
   "outputs": [
    {
     "data": {
      "text/plain": [
       "<matplotlib.axes._subplots.AxesSubplot at 0xbae8cf8>"
      ]
     },
     "execution_count": 20,
     "metadata": {},
     "output_type": "execute_result"
    },
    {
     "data": {
      "image/png": "[encoded data removed]",
      "text/plain": [
       "<matplotlib.figure.Figure at 0xb76e080>"
      ]
     },
     "metadata": {},
     "output_type": "display_data"
    }
   ],
   "source": [
    "Datenber['porc_nan'].hist()"
   ]
  },
  {
   "cell_type": "markdown",
   "metadata": {},
   "source": [
    "### Art der Werte kontrollieren und anpassen"
   ]
  },
  {
   "cell_type": "markdown",
   "metadata": {},
   "source": [
    "Um Datentypen anzuzeigen:"
   ]
  },
  {
   "cell_type": "code",
   "execution_count": 21,
   "metadata": {},
   "outputs": [
    {
     "data": {
      "text/plain": [
       "V1                    object\n",
       "V2                    object\n",
       "V3                    object\n",
       "V4                    object\n",
       "V5                    object\n",
       "V6                    object\n",
       "V7                    object\n",
       "V8                    object\n",
       "V9                    object\n",
       "V10                   object\n",
       "T1                    object\n",
       "T2                    object\n",
       "T3                    object\n",
       "A-T1                  object\n",
       "A-T2                  object\n",
       "A-G1                  object\n",
       "A-T3                  object\n",
       "A-Q1                  object\n",
       "A-T4                  object\n",
       "A-T1.1                object\n",
       "A_Q2_1                object\n",
       "A_Q2_2                object\n",
       "A_Q2_3                object\n",
       "A_Q2_4                object\n",
       "A_Q2_5                object\n",
       "A_Q2_6                object\n",
       "A_Q2_7                object\n",
       "A-T1.2                object\n",
       "A_Q3_1                object\n",
       "A_Q3_2                object\n",
       "                      ...   \n",
       "D-Q8b21a_7            object\n",
       "D-Q8b21a_7_TEXT       object\n",
       "D-Q8b21a_8            object\n",
       "D-Q8b21b              object\n",
       "D-Q8b21c              object\n",
       "D-Q8b22a_1            object\n",
       "D-Q8b22a_2            object\n",
       "D-Q8b22a_3            object\n",
       "D-Q8b22a_4            object\n",
       "D-Q8b22a_5            object\n",
       "D-Q8b22a_6            object\n",
       "D-Q8b22a_7            object\n",
       "D-Q8b22a_7_TEXT       object\n",
       "D-Q8b22b_1            object\n",
       "D-Q8b22b_2            object\n",
       "D-Q8b22b_8            object\n",
       "D-Q8b22b_9            object\n",
       "D-Q8b22b_10           object\n",
       "D-Q8b22b_11           object\n",
       "D-Q8b22b_12           object\n",
       "D-Q8b22c              object\n",
       "D-Q9_1                object\n",
       "D-Q9_2                object\n",
       "E-T1                  object\n",
       "E-Q1                  object\n",
       "LocationLatitude      object\n",
       "LocationLongitude     object\n",
       "LocationAccuracy      object\n",
       "Unnamed: 442         float64\n",
       "porc_nan             float64\n",
       "Length: 444, dtype: object"
      ]
     },
     "execution_count": 21,
     "metadata": {},
     "output_type": "execute_result"
    }
   ],
   "source": [
    "Datenber.dtypes"
   ]
  },
  {
   "cell_type": "markdown",
   "metadata": {},
   "source": [
    "Auswahl der Spalten ohne Texteingabe:\n",
    "* wenn Wort \"comentario\" in der Beschreibung der Fragen vorkommt (Bezug auf Glossar!)\n",
    "* wenn Wort \"text\" in der Bezeichnung der Fragen=Spalten vorkommt (Bezug auf zuvor erstellte Liste)"
   ]
  },
  {
   "cell_type": "code",
   "execution_count": 22,
   "metadata": {},
   "outputs": [
    {
     "data": {
      "text/plain": [
       "'En la parte anterior de la encuesta ha indicado las estrategias que utiliza para descubrir el sig...-- Por mi cuenta, sin ayuda de otras personas'"
      ]
     },
     "execution_count": 22,
     "metadata": {},
     "output_type": "execute_result"
    }
   ],
   "source": [
    "gloss.loc['B-Q1_19'][0]"
   ]
  },
  {
   "cell_type": "code",
   "execution_count": 23,
   "metadata": {
    "collapsed": true
   },
   "outputs": [],
   "source": [
    "liste_ohne_komm = [ind for ind in gloss.index if 'comentario' not in str(gloss.loc[ind][0]).lower()]"
   ]
  },
  {
   "cell_type": "code",
   "execution_count": 24,
   "metadata": {
    "collapsed": true
   },
   "outputs": [],
   "source": [
    "liste_num = [col for col in liste_ohne_komm if 'text' not in col.lower()]"
   ]
  },
  {
   "cell_type": "code",
   "execution_count": 25,
   "metadata": {
    "collapsed": true
   },
   "outputs": [],
   "source": [
    "liste_fragen_num = [col for col in liste_num if 'Q' in col]\n",
    "liste_fragen_num = [col for col in liste_fragen_num if 'D-Q8a' not in col]\n",
    "liste_fragen_num = liste_fragen_num[1:]"
   ]
  },
  {
   "cell_type": "markdown",
   "metadata": {},
   "source": [
    "#### Als Text gelesene Werte in numerische Werte umwandeln"
   ]
  },
  {
   "cell_type": "code",
   "execution_count": 32,
   "metadata": {
    "collapsed": true
   },
   "outputs": [],
   "source": [
    "def Werte_numm(s):\n",
    "    return pd.to_numeric(s)"
   ]
  },
  {
   "cell_type": "markdown",
   "metadata": {},
   "source": [
    "def = Funktion definieren (Namen geben)\n",
    "\n",
    "In diesem Fall wird eine \"class\" von Pandas (eine oder mehrere Funktionen, \"Mini-Programm\") aufgerufen und zwar mit dem neuen Namen \"Werte_numm(s)\""
   ]
  },
  {
   "cell_type": "code",
   "execution_count": 33,
   "metadata": {},
   "outputs": [],
   "source": [
    "for el in liste_fragen_num:\n",
    "    Datenber[el] = Werte_numm(Datenber[el])"
   ]
  },
  {
   "cell_type": "markdown",
   "metadata": {},
   "source": [
    "für alle Elemente (= Spalten) der Liste \"liste_fragen_num\" soll durchgeführt werden:\n",
    "\n",
    "Elemente der Spalten des Files Datenber in numerische Werte umwandeln (d. h. andere Spalten werden nicht umgewandelt)"
   ]
  },
  {
   "cell_type": "code",
   "execution_count": 28,
   "metadata": {},
   "outputs": [
    {
     "data": {
      "text/plain": [
       "V1                    object\n",
       "V2                    object\n",
       "V3                    object\n",
       "V4                    object\n",
       "V5                    object\n",
       "V6                    object\n",
       "V7                    object\n",
       "V8                    object\n",
       "V9                    object\n",
       "V10                   object\n",
       "T1                    object\n",
       "T2                    object\n",
       "T3                    object\n",
       "A-T1                  object\n",
       "A-T2                  object\n",
       "A-G1                  object\n",
       "A-T3                  object\n",
       "A-Q1                  object\n",
       "A-T4                  object\n",
       "A-T1.1                object\n",
       "A_Q2_1                 int64\n",
       "A_Q2_2                 int64\n",
       "A_Q2_3                 int64\n",
       "A_Q2_4               float64\n",
       "A_Q2_5                 int64\n",
       "A_Q2_6               float64\n",
       "A_Q2_7                 int64\n",
       "A-T1.2                object\n",
       "A_Q3_1                 int64\n",
       "A_Q3_2               float64\n",
       "                      ...   \n",
       "D-Q8b21a_7           float64\n",
       "D-Q8b21a_7_TEXT       object\n",
       "D-Q8b21a_8           float64\n",
       "D-Q8b21b             float64\n",
       "D-Q8b21c              object\n",
       "D-Q8b22a_1           float64\n",
       "D-Q8b22a_2           float64\n",
       "D-Q8b22a_3           float64\n",
       "D-Q8b22a_4           float64\n",
       "D-Q8b22a_5           float64\n",
       "D-Q8b22a_6           float64\n",
       "D-Q8b22a_7           float64\n",
       "D-Q8b22a_7_TEXT       object\n",
       "D-Q8b22b_1           float64\n",
       "D-Q8b22b_2           float64\n",
       "D-Q8b22b_8           float64\n",
       "D-Q8b22b_9           float64\n",
       "D-Q8b22b_10          float64\n",
       "D-Q8b22b_11          float64\n",
       "D-Q8b22b_12          float64\n",
       "D-Q8b22c              object\n",
       "D-Q9_1               float64\n",
       "D-Q9_2               float64\n",
       "E-T1                  object\n",
       "E-Q1                  object\n",
       "LocationLatitude      object\n",
       "LocationLongitude     object\n",
       "LocationAccuracy      object\n",
       "Unnamed: 442         float64\n",
       "porc_nan             float64\n",
       "Length: 444, dtype: object"
      ]
     },
     "execution_count": 28,
     "metadata": {},
     "output_type": "execute_result"
    }
   ],
   "source": [
    "Datenber.dtypes"
   ]
  },
  {
   "cell_type": "markdown",
   "metadata": {},
   "source": [
    "### Bereinigte Daten in neuem CSV-File speichern"
   ]
  },
  {
   "cell_type": "code",
   "execution_count": 38,
   "metadata": {},
   "outputs": [],
   "source": [
    "Datenber.to_pickle('D:\\Daten\\DISS\\Daten\\Estrategias_Estudiantes_ber')"
   ]
  },
  {
   "cell_type": "markdown",
   "metadata": {},
   "source": [
    "pickle = komprimiertes File (speziell in Python)"
   ]
  },
  {
   "cell_type": "code",
   "execution_count": 36,
   "metadata": {
    "collapsed": true
   },
   "outputs": [],
   "source": [
    "Datenber.to_csv('D:\\Daten\\DISS\\Daten\\Estrategias_Estudiantes_Kienberger_ber.csv',encoding='utf-16')"
   ]
  },
  {
   "cell_type": "markdown",
   "metadata": {},
   "source": [
    "encoding... = \"Schriftcode\" definieren, sonst wird File später falsch oder nicht geöffnet"
   ]
  },
  {
   "cell_type": "code",
   "execution_count": 39,
   "metadata": {
    "collapsed": true
   },
   "outputs": [],
   "source": [
    "gloss.to_pickle('D:\\Daten\\DISS\\Daten\\Gloss')"
   ]
  },
  {
   "cell_type": "code",
   "execution_count": null,
   "metadata": {
    "collapsed": true
   },
   "outputs": [],
   "source": []
  }
 ],
 "metadata": {
  "kernelspec": {
   "display_name": "Python 3",
   "language": "python",
   "name": "python3"
  },
  "language_info": {
   "codemirror_mode": {
    "name": "ipython",
    "version": 3
   },
   "file_extension": ".py",
   "mimetype": "text/x-python",
   "name": "python",
   "nbconvert_exporter": "python",
   "pygments_lexer": "ipython3",
   "version": "3.6.3"
  }
 },
 "nbformat": 4,
 "nbformat_minor": 2
}
