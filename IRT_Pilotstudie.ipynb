{
 "cells": [
  {
   "cell_type": "markdown",
   "metadata": {},
   "source": [
    "## Erschließungsstrategien für unbekannten Wortschatz von DaF-Lernenden an spanischen Universitäten - Pilotstudie 2017\n",
    "### Faktorenanalyse und IRT-Analyse der Fragegruppen im Likert-Format"
   ]
  },
  {
   "cell_type": "code",
   "execution_count": 88,
   "metadata": {},
   "outputs": [],
   "source": [
    "MyData <- read.csv2(file=\"D:\\\\Daten\\\\DISS\\\\Daten\\\\Estrategias_Estudiantes_Kienberger_ber.csv\", \n",
    "                    header=TRUE, sep=\",\", fileEncoding = \"UTF-16\", na.strings=c(\"NA\",\"NaN\", \"\"))"
   ]
  },
  {
   "cell_type": "markdown",
   "metadata": {},
   "source": [
    "Die psychometrische Evaluation im Rahmen der Pilotierung der Fragebogenerhebung wurde auf Grundlage der bereinigten Daten von Januar 2018 durchgeführt. Eine spätere Kontrolle der Daten hat zu einer Verbesserung des Datenmaterials geführt. Die hier vorgestellten Analysen wurden noch einmal mit den neu bereinigten Daten durchgeführt, wobei kleine Unterschiede zu bemerken waren, die auf das Gesamtergebnis jedoch keinen Einfluss haben. "
   ]
  },
  {
   "cell_type": "markdown",
   "metadata": {},
   "source": [
    "#### Likert-Variablen auswählen\n",
    "\n",
    "Spalten, die Likert-Items enthalten, werden ausgewählt und in Vektoren zusammengefasst."
   ]
  },
  {
   "cell_type": "code",
   "execution_count": 90,
   "metadata": {},
   "outputs": [
    {
     "data": {
      "text/html": [
       "<table>\n",
       "<thead><tr><th scope=col>X</th><th scope=col>V1</th><th scope=col>V2</th><th scope=col>V3</th><th scope=col>V4</th><th scope=col>V5</th><th scope=col>V6</th><th scope=col>V7</th><th scope=col>V8</th><th scope=col>V9</th><th scope=col>...</th><th scope=col>D.Q8b22c</th><th scope=col>D.Q9_1</th><th scope=col>D.Q9_2</th><th scope=col>E.T1</th><th scope=col>E.Q1</th><th scope=col>LocationLatitude</th><th scope=col>LocationLongitude</th><th scope=col>LocationAccuracy</th><th scope=col>Unnamed..442</th><th scope=col>porc_nan</th></tr></thead>\n",
       "<tbody>\n",
       "\t<tr><td>0                                                                                                                                                                            </td><td>R_1kOiXpqqaX3Irxm                                                                                                                                                            </td><td>Default Response Set                                                                                                                                                         </td><td>Anonymous                                                                                                                                                                    </td><td>NA                                                                                                                                                                           </td><td>NA                                                                                                                                                                           </td><td>88.3.172.215                                                                                                                                                                 </td><td>0                                                                                                                                                                            </td><td>2017-11-09 13:10:29                                                                                                                                                          </td><td>2017-11-09 13:25:39                                                                                                                                                          </td><td>...                                                                                                                                                                          </td><td>NA                                                                                                                                                                           </td><td>NA                                                                                                                                                                           </td><td>1.0                                                                                                                                                                          </td><td>1                                                                                                                                                                            </td><td>Gratificante y útil                                                                                                                                                          </td><td>40.968795776367                                                                                                                                                              </td><td>-5.6638946533203                                                                                                                                                             </td><td>-1                                                                                                                                                                           </td><td>NA                                                                                                                                                                           </td><td>71.84684684684684                                                                                                                                                            </td></tr>\n",
       "\t<tr><td>1                                                                                                                                                                            </td><td>R_1F5FzvY7aYwiipy                                                                                                                                                            </td><td>Default Response Set                                                                                                                                                         </td><td>Anonymous                                                                                                                                                                    </td><td>NA                                                                                                                                                                           </td><td>NA                                                                                                                                                                           </td><td>212.128.135.110                                                                                                                                                              </td><td>0                                                                                                                                                                            </td><td>2017-11-10 01:39:27                                                                                                                                                          </td><td>2017-11-10 01:54:25                                                                                                                                                          </td><td>...                                                                                                                                                                          </td><td>NA                                                                                                                                                                           </td><td>NA                                                                                                                                                                           </td><td>1.0                                                                                                                                                                          </td><td>1                                                                                                                                                                            </td><td>Una encuesta muy completa que me ha servido para reflexionar sobre mis estrategias a la hora de comprender palabras desconocidas en alemán y a incluir nuevas. / Enhorabuena.</td><td>40.96809387207                                                                                                                                                               </td><td>-5.6620025634766                                                                                                                                                             </td><td>-1                                                                                                                                                                           </td><td>NA                                                                                                                                                                           </td><td>70.27027027027027                                                                                                                                                            </td></tr>\n",
       "\t<tr><td>2                                                                                                                                                                            </td><td>R_2ErWjTyNYcSh10N                                                                                                                                                            </td><td>Default Response Set                                                                                                                                                         </td><td>Anonymous                                                                                                                                                                    </td><td>NA                                                                                                                                                                           </td><td>NA                                                                                                                                                                           </td><td>212.128.135.84                                                                                                                                                               </td><td>0                                                                                                                                                                            </td><td>2017-11-10 02:23:28                                                                                                                                                          </td><td>2017-11-10 02:39:04                                                                                                                                                          </td><td>...                                                                                                                                                                          </td><td>NA                                                                                                                                                                           </td><td>NA                                                                                                                                                                           </td><td>1.0                                                                                                                                                                          </td><td>1                                                                                                                                                                            </td><td>NA                                                                                                                                                                           </td><td>40.96809387207                                                                                                                                                               </td><td>-5.6620025634766                                                                                                                                                             </td><td>-1                                                                                                                                                                           </td><td>NA                                                                                                                                                                           </td><td>70.72072072072072                                                                                                                                                            </td></tr>\n",
       "</tbody>\n",
       "</table>\n"
      ],
      "text/latex": [
       "\\begin{tabular}{r|lllllllllllllllllllllllllllllllllllllllllllllllllllllllllllllllllllllllllllllllllllllllllllllllllllllllllllllllllllllllllllllllllllllllllllllllllllllllllllllllllllllllllllllllllllllllllllllllllllllllllllllllllllllllllllllllllllllllllllllllllllllllllllllllllllllllllllllllllllllllllllllllllllllllllllllllllllllllllllllllllllllllllllllllllllllllllllllllllllllllllllllllllllllllllllllllllllllllllllllllllllllllllllllllllllllllllllllllllllllllllllll}\n",
       " X & V1 & V2 & V3 & V4 & V5 & V6 & V7 & V8 & V9 & ... & D.Q8b22c & D.Q9\\_1 & D.Q9\\_2 & E.T1 & E.Q1 & LocationLatitude & LocationLongitude & LocationAccuracy & Unnamed..442 & porc\\_nan\\\\\n",
       "\\hline\n",
       "\t 0                                                                                                                                                                             & R\\_1kOiXpqqaX3Irxm                                                                                                                                                           & Default Response Set                                                                                                                                                          & Anonymous                                                                                                                                                                     & NA                                                                                                                                                                            & NA                                                                                                                                                                            & 88.3.172.215                                                                                                                                                                  & 0                                                                                                                                                                             & 2017-11-09 13:10:29                                                                                                                                                           & 2017-11-09 13:25:39                                                                                                                                                           & ...                                                                                                                                                                           & NA                                                                                                                                                                            & NA                                                                                                                                                                            & 1.0                                                                                                                                                                           & 1                                                                                                                                                                             & Gratificante y útil                                                                                                                                                           & 40.968795776367                                                                                                                                                               & -5.6638946533203                                                                                                                                                              & -1                                                                                                                                                                            & NA                                                                                                                                                                            & 71.84684684684684                                                                                                                                                            \\\\\n",
       "\t 1                                                                                                                                                                             & R\\_1F5FzvY7aYwiipy                                                                                                                                                           & Default Response Set                                                                                                                                                          & Anonymous                                                                                                                                                                     & NA                                                                                                                                                                            & NA                                                                                                                                                                            & 212.128.135.110                                                                                                                                                               & 0                                                                                                                                                                             & 2017-11-10 01:39:27                                                                                                                                                           & 2017-11-10 01:54:25                                                                                                                                                           & ...                                                                                                                                                                           & NA                                                                                                                                                                            & NA                                                                                                                                                                            & 1.0                                                                                                                                                                           & 1                                                                                                                                                                             & Una encuesta muy completa que me ha servido para reflexionar sobre mis estrategias a la hora de comprender palabras desconocidas en alemán y a incluir nuevas. / Enhorabuena. & 40.96809387207                                                                                                                                                                & -5.6620025634766                                                                                                                                                              & -1                                                                                                                                                                            & NA                                                                                                                                                                            & 70.27027027027027                                                                                                                                                            \\\\\n",
       "\t 2                                                                                                                                                                             & R\\_2ErWjTyNYcSh10N                                                                                                                                                           & Default Response Set                                                                                                                                                          & Anonymous                                                                                                                                                                     & NA                                                                                                                                                                            & NA                                                                                                                                                                            & 212.128.135.84                                                                                                                                                                & 0                                                                                                                                                                             & 2017-11-10 02:23:28                                                                                                                                                           & 2017-11-10 02:39:04                                                                                                                                                           & ...                                                                                                                                                                           & NA                                                                                                                                                                            & NA                                                                                                                                                                            & 1.0                                                                                                                                                                           & 1                                                                                                                                                                             & NA                                                                                                                                                                            & 40.96809387207                                                                                                                                                                & -5.6620025634766                                                                                                                                                              & -1                                                                                                                                                                            & NA                                                                                                                                                                            & 70.72072072072072                                                                                                                                                            \\\\\n",
       "\\end{tabular}\n"
      ],
      "text/markdown": [
       "\n",
       "X | V1 | V2 | V3 | V4 | V5 | V6 | V7 | V8 | V9 | ... | D.Q8b22c | D.Q9_1 | D.Q9_2 | E.T1 | E.Q1 | LocationLatitude | LocationLongitude | LocationAccuracy | Unnamed..442 | porc_nan | \n",
       "|---|---|---|\n",
       "| 0                                                                                                                                                                             | R_1kOiXpqqaX3Irxm                                                                                                                                                             | Default Response Set                                                                                                                                                          | Anonymous                                                                                                                                                                     | NA                                                                                                                                                                            | NA                                                                                                                                                                            | 88.3.172.215                                                                                                                                                                  | 0                                                                                                                                                                             | 2017-11-09 13:10:29                                                                                                                                                           | 2017-11-09 13:25:39                                                                                                                                                           | ...                                                                                                                                                                           | NA                                                                                                                                                                            | NA                                                                                                                                                                            | 1.0                                                                                                                                                                           | 1                                                                                                                                                                             | Gratificante y útil                                                                                                                                                           | 40.968795776367                                                                                                                                                               | -5.6638946533203                                                                                                                                                              | -1                                                                                                                                                                            | NA                                                                                                                                                                            | 71.84684684684684                                                                                                                                                             | \n",
       "| 1                                                                                                                                                                             | R_1F5FzvY7aYwiipy                                                                                                                                                             | Default Response Set                                                                                                                                                          | Anonymous                                                                                                                                                                     | NA                                                                                                                                                                            | NA                                                                                                                                                                            | 212.128.135.110                                                                                                                                                               | 0                                                                                                                                                                             | 2017-11-10 01:39:27                                                                                                                                                           | 2017-11-10 01:54:25                                                                                                                                                           | ...                                                                                                                                                                           | NA                                                                                                                                                                            | NA                                                                                                                                                                            | 1.0                                                                                                                                                                           | 1                                                                                                                                                                             | Una encuesta muy completa que me ha servido para reflexionar sobre mis estrategias a la hora de comprender palabras desconocidas en alemán y a incluir nuevas. / Enhorabuena. | 40.96809387207                                                                                                                                                                | -5.6620025634766                                                                                                                                                              | -1                                                                                                                                                                            | NA                                                                                                                                                                            | 70.27027027027027                                                                                                                                                             | \n",
       "| 2                                                                                                                                                                             | R_2ErWjTyNYcSh10N                                                                                                                                                             | Default Response Set                                                                                                                                                          | Anonymous                                                                                                                                                                     | NA                                                                                                                                                                            | NA                                                                                                                                                                            | 212.128.135.84                                                                                                                                                                | 0                                                                                                                                                                             | 2017-11-10 02:23:28                                                                                                                                                           | 2017-11-10 02:39:04                                                                                                                                                           | ...                                                                                                                                                                           | NA                                                                                                                                                                            | NA                                                                                                                                                                            | 1.0                                                                                                                                                                           | 1                                                                                                                                                                             | NA                                                                                                                                                                            | 40.96809387207                                                                                                                                                                | -5.6620025634766                                                                                                                                                              | -1                                                                                                                                                                            | NA                                                                                                                                                                            | 70.72072072072072                                                                                                                                                             | \n",
       "\n",
       "\n"
      ],
      "text/plain": [
       "  X V1                V2                   V3        V4 V5 V6              V7\n",
       "1 0 R_1kOiXpqqaX3Irxm Default Response Set Anonymous NA NA 88.3.172.215    0 \n",
       "2 1 R_1F5FzvY7aYwiipy Default Response Set Anonymous NA NA 212.128.135.110 0 \n",
       "3 2 R_2ErWjTyNYcSh10N Default Response Set Anonymous NA NA 212.128.135.84  0 \n",
       "  V8                  V9                  ... D.Q8b22c D.Q9_1 D.Q9_2 E.T1\n",
       "1 2017-11-09 13:10:29 2017-11-09 13:25:39 ... NA       NA     1.0    1   \n",
       "2 2017-11-10 01:39:27 2017-11-10 01:54:25 ... NA       NA     1.0    1   \n",
       "3 2017-11-10 02:23:28 2017-11-10 02:39:04 ... NA       NA     1.0    1   \n",
       "  E.Q1                                                                                                                                                                         \n",
       "1 Gratificante y útil                                                                                                                                                          \n",
       "2 Una encuesta muy completa que me ha servido para reflexionar sobre mis estrategias a la hora de comprender palabras desconocidas en alemán y a incluir nuevas. / Enhorabuena.\n",
       "3 NA                                                                                                                                                                           \n",
       "  LocationLatitude LocationLongitude LocationAccuracy Unnamed..442\n",
       "1 40.968795776367  -5.6638946533203  -1               NA          \n",
       "2 40.96809387207   -5.6620025634766  -1               NA          \n",
       "3 40.96809387207   -5.6620025634766  -1               NA          \n",
       "  porc_nan         \n",
       "1 71.84684684684684\n",
       "2 70.27027027027027\n",
       "3 70.72072072072072"
      ]
     },
     "metadata": {},
     "output_type": "display_data"
    }
   ],
   "source": [
    "head(MyData,3)"
   ]
  },
  {
   "cell_type": "code",
   "execution_count": 91,
   "metadata": {},
   "outputs": [],
   "source": [
    "get_vec <- function(df,name){\n",
    "    vec <- c()\n",
    "    for (i in 1:ncol(df)){\n",
    "        if (grepl(name, colnames(df)[i]) & !grepl(\"TEXT\",colnames(df)[i]) ){\n",
    "            vec <- c(vec, i)\n",
    "        }\n",
    "    }\n",
    "    vec\n",
    "}"
   ]
  },
  {
   "cell_type": "code",
   "execution_count": 92,
   "metadata": {},
   "outputs": [],
   "source": [
    "vec_AQ2 <- get_vec(MyData,\"A.Q2\")\n",
    "vec_AQ3 <- get_vec(MyData,\"A.Q3\")\n",
    "vec_CQ1 <- get_vec(MyData,\"C.Q1\")"
   ]
  },
  {
   "cell_type": "code",
   "execution_count": 93,
   "metadata": {},
   "outputs": [],
   "source": [
    "vec_ACQ <- c(vec_AQ2,vec_AQ3,vec_CQ1)"
   ]
  },
  {
   "cell_type": "markdown",
   "metadata": {},
   "source": [
    "#### Funktion für Datenformat (Integer)"
   ]
  },
  {
   "cell_type": "code",
   "execution_count": 94,
   "metadata": {},
   "outputs": [],
   "source": [
    "convert_data <- function(df,cols){\n",
    "    X <- df[,cols]\n",
    "    X <- do.call(cbind.data.frame,lapply(X,function(x) as.integer(as.character(x))))\n",
    "    colnames(X) <- colnames(df)[cols]\n",
    "    X\n",
    "}"
   ]
  },
  {
   "cell_type": "markdown",
   "metadata": {},
   "source": [
    "### Deskriptive Analyse"
   ]
  },
  {
   "cell_type": "code",
   "execution_count": 95,
   "metadata": {},
   "outputs": [],
   "source": [
    "library(\"psych\")"
   ]
  },
  {
   "cell_type": "code",
   "execution_count": 96,
   "metadata": {},
   "outputs": [
    {
     "data": {
      "text/html": [
       "<table>\n",
       "<thead><tr><th></th><th scope=col>vars</th><th scope=col>n</th><th scope=col>mean</th><th scope=col>sd</th><th scope=col>median</th><th scope=col>trimmed</th><th scope=col>mad</th><th scope=col>min</th><th scope=col>max</th><th scope=col>range</th><th scope=col>skew</th><th scope=col>kurtosis</th><th scope=col>se</th></tr></thead>\n",
       "<tbody>\n",
       "\t<tr><th scope=row>A_Q2_1</th><td>1         </td><td>67        </td><td>2.447761  </td><td>1.0629231 </td><td>2         </td><td>2.381818  </td><td>1.4826    </td><td>1         </td><td>5         </td><td>4         </td><td> 0.4700525</td><td>-0.3355793</td><td>0.12985672</td></tr>\n",
       "\t<tr><th scope=row>A_Q2_2</th><td>2         </td><td>67        </td><td>3.552239  </td><td>0.7443440 </td><td>4         </td><td>3.563636  </td><td>1.4826    </td><td>2         </td><td>5         </td><td>3         </td><td>-0.1760789</td><td>-0.3450153</td><td>0.09093609</td></tr>\n",
       "\t<tr><th scope=row>A_Q2_3</th><td>3         </td><td>67        </td><td>4.134328  </td><td>0.8685677 </td><td>4         </td><td>4.218182  </td><td>1.4826    </td><td>2         </td><td>5         </td><td>3         </td><td>-0.6657407</td><td>-0.4485494</td><td>0.10611243</td></tr>\n",
       "\t<tr><th scope=row>A_Q2_4</th><td>4         </td><td>67        </td><td>4.313433  </td><td>0.8740182 </td><td>5         </td><td>4.418182  </td><td>0.0000    </td><td>1         </td><td>5         </td><td>4         </td><td>-1.1729583</td><td> 1.2052960</td><td>0.10677831</td></tr>\n",
       "\t<tr><th scope=row>A_Q2_5</th><td>5         </td><td>67        </td><td>3.283582  </td><td>1.0560930 </td><td>3         </td><td>3.345455  </td><td>1.4826    </td><td>1         </td><td>5         </td><td>4         </td><td>-0.5721445</td><td>-0.1412295</td><td>0.12902230</td></tr>\n",
       "\t<tr><th scope=row>A_Q2_6</th><td>6         </td><td>67        </td><td>3.000000  </td><td>1.3257359 </td><td>3         </td><td>3.000000  </td><td>1.4826    </td><td>1         </td><td>5         </td><td>4         </td><td>-0.0384331</td><td>-1.1059861</td><td>0.16196442</td></tr>\n",
       "\t<tr><th scope=row>A_Q2_7</th><td>7         </td><td>67        </td><td>4.283582  </td><td>0.9817420 </td><td>5         </td><td>4.454545  </td><td>0.0000    </td><td>1         </td><td>5         </td><td>4         </td><td>-1.3351726</td><td> 1.0792439</td><td>0.11993887</td></tr>\n",
       "</tbody>\n",
       "</table>\n"
      ],
      "text/latex": [
       "\\begin{tabular}{r|lllllllllllll}\n",
       "  & vars & n & mean & sd & median & trimmed & mad & min & max & range & skew & kurtosis & se\\\\\n",
       "\\hline\n",
       "\tA\\_Q2\\_1 & 1          & 67         & 2.447761   & 1.0629231  & 2          & 2.381818   & 1.4826     & 1          & 5          & 4          &  0.4700525 & -0.3355793 & 0.12985672\\\\\n",
       "\tA\\_Q2\\_2 & 2          & 67         & 3.552239   & 0.7443440  & 4          & 3.563636   & 1.4826     & 2          & 5          & 3          & -0.1760789 & -0.3450153 & 0.09093609\\\\\n",
       "\tA\\_Q2\\_3 & 3          & 67         & 4.134328   & 0.8685677  & 4          & 4.218182   & 1.4826     & 2          & 5          & 3          & -0.6657407 & -0.4485494 & 0.10611243\\\\\n",
       "\tA\\_Q2\\_4 & 4          & 67         & 4.313433   & 0.8740182  & 5          & 4.418182   & 0.0000     & 1          & 5          & 4          & -1.1729583 &  1.2052960 & 0.10677831\\\\\n",
       "\tA\\_Q2\\_5 & 5          & 67         & 3.283582   & 1.0560930  & 3          & 3.345455   & 1.4826     & 1          & 5          & 4          & -0.5721445 & -0.1412295 & 0.12902230\\\\\n",
       "\tA\\_Q2\\_6 & 6          & 67         & 3.000000   & 1.3257359  & 3          & 3.000000   & 1.4826     & 1          & 5          & 4          & -0.0384331 & -1.1059861 & 0.16196442\\\\\n",
       "\tA\\_Q2\\_7 & 7          & 67         & 4.283582   & 0.9817420  & 5          & 4.454545   & 0.0000     & 1          & 5          & 4          & -1.3351726 &  1.0792439 & 0.11993887\\\\\n",
       "\\end{tabular}\n"
      ],
      "text/markdown": [
       "\n",
       "| <!--/--> | vars | n | mean | sd | median | trimmed | mad | min | max | range | skew | kurtosis | se | \n",
       "|---|---|---|---|---|---|---|\n",
       "| A_Q2_1 | 1          | 67         | 2.447761   | 1.0629231  | 2          | 2.381818   | 1.4826     | 1          | 5          | 4          |  0.4700525 | -0.3355793 | 0.12985672 | \n",
       "| A_Q2_2 | 2          | 67         | 3.552239   | 0.7443440  | 4          | 3.563636   | 1.4826     | 2          | 5          | 3          | -0.1760789 | -0.3450153 | 0.09093609 | \n",
       "| A_Q2_3 | 3          | 67         | 4.134328   | 0.8685677  | 4          | 4.218182   | 1.4826     | 2          | 5          | 3          | -0.6657407 | -0.4485494 | 0.10611243 | \n",
       "| A_Q2_4 | 4          | 67         | 4.313433   | 0.8740182  | 5          | 4.418182   | 0.0000     | 1          | 5          | 4          | -1.1729583 |  1.2052960 | 0.10677831 | \n",
       "| A_Q2_5 | 5          | 67         | 3.283582   | 1.0560930  | 3          | 3.345455   | 1.4826     | 1          | 5          | 4          | -0.5721445 | -0.1412295 | 0.12902230 | \n",
       "| A_Q2_6 | 6          | 67         | 3.000000   | 1.3257359  | 3          | 3.000000   | 1.4826     | 1          | 5          | 4          | -0.0384331 | -1.1059861 | 0.16196442 | \n",
       "| A_Q2_7 | 7          | 67         | 4.283582   | 0.9817420  | 5          | 4.454545   | 0.0000     | 1          | 5          | 4          | -1.3351726 |  1.0792439 | 0.11993887 | \n",
       "\n",
       "\n"
      ],
      "text/plain": [
       "       vars n  mean     sd        median trimmed  mad    min max range\n",
       "A_Q2_1 1    67 2.447761 1.0629231 2      2.381818 1.4826 1   5   4    \n",
       "A_Q2_2 2    67 3.552239 0.7443440 4      3.563636 1.4826 2   5   3    \n",
       "A_Q2_3 3    67 4.134328 0.8685677 4      4.218182 1.4826 2   5   3    \n",
       "A_Q2_4 4    67 4.313433 0.8740182 5      4.418182 0.0000 1   5   4    \n",
       "A_Q2_5 5    67 3.283582 1.0560930 3      3.345455 1.4826 1   5   4    \n",
       "A_Q2_6 6    67 3.000000 1.3257359 3      3.000000 1.4826 1   5   4    \n",
       "A_Q2_7 7    67 4.283582 0.9817420 5      4.454545 0.0000 1   5   4    \n",
       "       skew       kurtosis   se        \n",
       "A_Q2_1  0.4700525 -0.3355793 0.12985672\n",
       "A_Q2_2 -0.1760789 -0.3450153 0.09093609\n",
       "A_Q2_3 -0.6657407 -0.4485494 0.10611243\n",
       "A_Q2_4 -1.1729583  1.2052960 0.10677831\n",
       "A_Q2_5 -0.5721445 -0.1412295 0.12902230\n",
       "A_Q2_6 -0.0384331 -1.1059861 0.16196442\n",
       "A_Q2_7 -1.3351726  1.0792439 0.11993887"
      ]
     },
     "metadata": {},
     "output_type": "display_data"
    }
   ],
   "source": [
    "describe(MyData[vec_AQ2])"
   ]
  },
  {
   "cell_type": "code",
   "execution_count": 97,
   "metadata": {},
   "outputs": [
    {
     "data": {
      "text/html": [
       "<table>\n",
       "<thead><tr><th></th><th scope=col>vars</th><th scope=col>n</th><th scope=col>mean</th><th scope=col>sd</th><th scope=col>median</th><th scope=col>trimmed</th><th scope=col>mad</th><th scope=col>min</th><th scope=col>max</th><th scope=col>range</th><th scope=col>skew</th><th scope=col>kurtosis</th><th scope=col>se</th></tr></thead>\n",
       "<tbody>\n",
       "\t<tr><th scope=row>A_Q3_1</th><td> 1          </td><td>67          </td><td>3.059701    </td><td>1.1399176   </td><td>3           </td><td>3.072727    </td><td>1.4826      </td><td>1           </td><td>5           </td><td>4           </td><td> 0.006303073</td><td>-0.77228797 </td><td>0.13926309  </td></tr>\n",
       "\t<tr><th scope=row>A_Q3_2*</th><td> 2          </td><td>66          </td><td>4.060606    </td><td>0.9426442   </td><td>4           </td><td>4.185185    </td><td>1.4826      </td><td>1           </td><td>5           </td><td>4           </td><td>-0.986136886</td><td> 0.64490659 </td><td>0.11603148  </td></tr>\n",
       "\t<tr><th scope=row>A_Q3_3*</th><td> 3          </td><td>65          </td><td>2.953846    </td><td>1.4623480   </td><td>3           </td><td>2.943396    </td><td>1.4826      </td><td>1           </td><td>5           </td><td>4           </td><td> 0.019464360</td><td>-1.41215476 </td><td>0.18138194  </td></tr>\n",
       "\t<tr><th scope=row>A_Q3_4</th><td> 4          </td><td>67          </td><td>4.208955    </td><td>0.9619632   </td><td>4           </td><td>4.363636    </td><td>1.4826      </td><td>1           </td><td>5           </td><td>4           </td><td>-1.222246164</td><td> 0.98794741 </td><td>0.11752251  </td></tr>\n",
       "\t<tr><th scope=row>A_Q3_5</th><td> 5          </td><td>67          </td><td>3.223881    </td><td>1.1783514   </td><td>3           </td><td>3.254545    </td><td>1.4826      </td><td>1           </td><td>5           </td><td>4           </td><td>-0.157835412</td><td>-0.96579038 </td><td>0.14395853  </td></tr>\n",
       "\t<tr><th scope=row>A_Q3_6</th><td> 6          </td><td>67          </td><td>2.970149    </td><td>1.2669475   </td><td>3           </td><td>2.963636    </td><td>1.4826      </td><td>1           </td><td>5           </td><td>4           </td><td> 0.054963146</td><td>-1.13281055 </td><td>0.15478228  </td></tr>\n",
       "\t<tr><th scope=row>A_Q3_7</th><td> 7          </td><td>67          </td><td>3.940299    </td><td>0.9981892   </td><td>4           </td><td>4.036364    </td><td>1.4826      </td><td>2           </td><td>5           </td><td>3           </td><td>-0.513345084</td><td>-0.88887243 </td><td>0.12194822  </td></tr>\n",
       "\t<tr><th scope=row>A_Q3_8</th><td> 8          </td><td>67          </td><td>4.000000    </td><td>1.0444659   </td><td>4           </td><td>4.127273    </td><td>1.4826      </td><td>1           </td><td>5           </td><td>4           </td><td>-0.707352863</td><td>-0.44154229 </td><td>0.12760182  </td></tr>\n",
       "\t<tr><th scope=row>A_Q3_9</th><td> 9          </td><td>67          </td><td>3.970149    </td><td>1.1277512   </td><td>4           </td><td>4.127273    </td><td>1.4826      </td><td>1           </td><td>5           </td><td>4           </td><td>-1.003986622</td><td> 0.21136754 </td><td>0.13777673  </td></tr>\n",
       "\t<tr><th scope=row>A_Q3_10</th><td>10          </td><td>67          </td><td>4.313433    </td><td>0.8911850   </td><td>5           </td><td>4.454545    </td><td>0.0000      </td><td>2           </td><td>5           </td><td>3           </td><td>-1.146128430</td><td> 0.39784093 </td><td>0.10887558  </td></tr>\n",
       "\t<tr><th scope=row>A_Q3_30</th><td>11          </td><td>67          </td><td>4.044776    </td><td>0.9444068   </td><td>4           </td><td>4.145455    </td><td>1.4826      </td><td>2           </td><td>5           </td><td>3           </td><td>-0.618641983</td><td>-0.66323909 </td><td>0.11537765  </td></tr>\n",
       "\t<tr><th scope=row>A_Q3_11</th><td>12          </td><td>67          </td><td>3.388060    </td><td>1.1541129   </td><td>3           </td><td>3.436364    </td><td>1.4826      </td><td>1           </td><td>5           </td><td>4           </td><td>-0.254950664</td><td>-0.79748916 </td><td>0.14099733  </td></tr>\n",
       "\t<tr><th scope=row>A_Q3_12</th><td>13          </td><td>67          </td><td>3.253731    </td><td>1.1591962   </td><td>3           </td><td>3.309091    </td><td>1.4826      </td><td>1           </td><td>5           </td><td>4           </td><td>-0.436957847</td><td>-0.64626695 </td><td>0.14161836  </td></tr>\n",
       "\t<tr><th scope=row>A_Q3_13</th><td>14          </td><td>67          </td><td>3.014925    </td><td>1.1611454   </td><td>3           </td><td>3.018182    </td><td>1.4826      </td><td>1           </td><td>5           </td><td>4           </td><td>-0.142860230</td><td>-0.88348844 </td><td>0.14185649  </td></tr>\n",
       "\t<tr><th scope=row>A_Q3_14</th><td>15          </td><td>67          </td><td>2.791045    </td><td>1.1219209   </td><td>3           </td><td>2.745455    </td><td>1.4826      </td><td>1           </td><td>5           </td><td>4           </td><td> 0.345482117</td><td>-0.66907197 </td><td>0.13706445  </td></tr>\n",
       "\t<tr><th scope=row>A_Q3_31</th><td>16          </td><td>67          </td><td>3.895522    </td><td>1.0170416   </td><td>4           </td><td>4.018182    </td><td>1.4826      </td><td>1           </td><td>5           </td><td>4           </td><td>-0.816155443</td><td> 0.24306962 </td><td>0.12425141  </td></tr>\n",
       "\t<tr><th scope=row>A_Q3_15</th><td>17          </td><td>67          </td><td>3.582090    </td><td>0.9235842   </td><td>4           </td><td>3.618182    </td><td>1.4826      </td><td>1           </td><td>5           </td><td>4           </td><td>-0.350987773</td><td>-0.29251880 </td><td>0.11283376  </td></tr>\n",
       "\t<tr><th scope=row>A_Q3_16</th><td>18          </td><td>67          </td><td>3.850746    </td><td>0.9886282   </td><td>4           </td><td>3.963636    </td><td>1.4826      </td><td>1           </td><td>5           </td><td>4           </td><td>-0.817008888</td><td> 0.40239245 </td><td>0.12078016  </td></tr>\n",
       "\t<tr><th scope=row>A_Q3_17</th><td>19          </td><td>67          </td><td>3.582090    </td><td>0.9558314   </td><td>4           </td><td>3.654545    </td><td>1.4826      </td><td>1           </td><td>5           </td><td>4           </td><td>-0.743681985</td><td> 0.54111019 </td><td>0.11677340  </td></tr>\n",
       "\t<tr><th scope=row>A_Q3_18</th><td>20          </td><td>67          </td><td>3.208955    </td><td>1.1746994   </td><td>3           </td><td>3.236364    </td><td>1.4826      </td><td>1           </td><td>5           </td><td>4           </td><td>-0.126169750</td><td>-0.95056635 </td><td>0.14351237  </td></tr>\n",
       "\t<tr><th scope=row>A_Q3_19</th><td>21          </td><td>67          </td><td>3.716418    </td><td>1.0844070   </td><td>4           </td><td>3.800000    </td><td>1.4826      </td><td>1           </td><td>5           </td><td>4           </td><td>-0.555302144</td><td>-0.50349003 </td><td>0.13248140  </td></tr>\n",
       "\t<tr><th scope=row>A_Q3_20</th><td>22          </td><td>67          </td><td>3.582090    </td><td>1.1434829   </td><td>4           </td><td>3.654545    </td><td>1.4826      </td><td>1           </td><td>5           </td><td>4           </td><td>-0.468322405</td><td>-0.70317759 </td><td>0.13969867  </td></tr>\n",
       "\t<tr><th scope=row>A_Q3_21</th><td>23          </td><td>67          </td><td>4.373134    </td><td>0.7752970   </td><td>5           </td><td>4.472727    </td><td>0.0000      </td><td>2           </td><td>5           </td><td>3           </td><td>-0.925246885</td><td>-0.12158338 </td><td>0.09471761  </td></tr>\n",
       "\t<tr><th scope=row>A_Q3_22</th><td>24          </td><td>67          </td><td>2.746269    </td><td>1.0918886   </td><td>3           </td><td>2.690909    </td><td>1.4826      </td><td>1           </td><td>5           </td><td>4           </td><td> 0.573158928</td><td>-0.27968906 </td><td>0.13339542  </td></tr>\n",
       "\t<tr><th scope=row>A_Q3_23</th><td>25          </td><td>67          </td><td>3.582090    </td><td>1.2327507   </td><td>4           </td><td>3.672727    </td><td>1.4826      </td><td>1           </td><td>5           </td><td>4           </td><td>-0.472945557</td><td>-0.89555803 </td><td>0.15060447  </td></tr>\n",
       "\t<tr><th scope=row>A_Q3_24</th><td>26          </td><td>67          </td><td>3.582090    </td><td>1.1566573   </td><td>4           </td><td>3.654545    </td><td>1.4826      </td><td>1           </td><td>5           </td><td>4           </td><td>-0.428316317</td><td>-0.77189311 </td><td>0.14130818  </td></tr>\n",
       "\t<tr><th scope=row>A_Q3_25</th><td>27          </td><td>67          </td><td>3.388060    </td><td>1.1003474   </td><td>3           </td><td>3.418182    </td><td>1.4826      </td><td>1           </td><td>5           </td><td>4           </td><td>-0.189840184</td><td>-0.73381678 </td><td>0.13442883  </td></tr>\n",
       "\t<tr><th scope=row>A_Q3_26</th><td>28          </td><td>67          </td><td>3.716418    </td><td>1.2649826   </td><td>4           </td><td>3.872727    </td><td>1.4826      </td><td>1           </td><td>5           </td><td>4           </td><td>-0.837795688</td><td>-0.39610133 </td><td>0.15454222  </td></tr>\n",
       "\t<tr><th scope=row>A_Q3_27</th><td>29          </td><td>67          </td><td>3.000000    </td><td>1.2552918   </td><td>3           </td><td>3.000000    </td><td>1.4826      </td><td>1           </td><td>5           </td><td>4           </td><td>-0.045273320</td><td>-1.14861344 </td><td>0.15335831  </td></tr>\n",
       "\t<tr><th scope=row>A_Q3_32</th><td>30          </td><td>67          </td><td>3.910448    </td><td>1.0405614   </td><td>4           </td><td>4.018182    </td><td>1.4826      </td><td>1           </td><td>5           </td><td>4           </td><td>-0.698825681</td><td>-0.07624693 </td><td>0.12712481  </td></tr>\n",
       "\t<tr><th scope=row>A_Q3_33</th><td>31          </td><td>67          </td><td>3.582090    </td><td>1.0466288   </td><td>4           </td><td>3.636364    </td><td>1.4826      </td><td>1           </td><td>5           </td><td>4           </td><td>-0.448693283</td><td>-0.50517915 </td><td>0.12786606  </td></tr>\n",
       "\t<tr><th scope=row>A_Q3_28</th><td>32          </td><td>67          </td><td>3.865672    </td><td>1.1132198   </td><td>4           </td><td>3.981818    </td><td>1.4826      </td><td>1           </td><td>5           </td><td>4           </td><td>-0.647802675</td><td>-0.49309592 </td><td>0.13600144  </td></tr>\n",
       "\t<tr><th scope=row>A_Q3_29</th><td>33          </td><td>67          </td><td>3.671642    </td><td>1.2356824   </td><td>4           </td><td>3.763636    </td><td>1.4826      </td><td>1           </td><td>5           </td><td>4           </td><td>-0.461625755</td><td>-0.99381790 </td><td>0.15096263  </td></tr>\n",
       "</tbody>\n",
       "</table>\n"
      ],
      "text/latex": [
       "\\begin{tabular}{r|lllllllllllll}\n",
       "  & vars & n & mean & sd & median & trimmed & mad & min & max & range & skew & kurtosis & se\\\\\n",
       "\\hline\n",
       "\tA\\_Q3\\_1 &  1           & 67           & 3.059701     & 1.1399176    & 3            & 3.072727     & 1.4826       & 1            & 5            & 4            &  0.006303073 & -0.77228797  & 0.13926309  \\\\\n",
       "\tA\\_Q3\\_2* &  2           & 66           & 4.060606     & 0.9426442    & 4            & 4.185185     & 1.4826       & 1            & 5            & 4            & -0.986136886 &  0.64490659  & 0.11603148  \\\\\n",
       "\tA\\_Q3\\_3* &  3           & 65           & 2.953846     & 1.4623480    & 3            & 2.943396     & 1.4826       & 1            & 5            & 4            &  0.019464360 & -1.41215476  & 0.18138194  \\\\\n",
       "\tA\\_Q3\\_4 &  4           & 67           & 4.208955     & 0.9619632    & 4            & 4.363636     & 1.4826       & 1            & 5            & 4            & -1.222246164 &  0.98794741  & 0.11752251  \\\\\n",
       "\tA\\_Q3\\_5 &  5           & 67           & 3.223881     & 1.1783514    & 3            & 3.254545     & 1.4826       & 1            & 5            & 4            & -0.157835412 & -0.96579038  & 0.14395853  \\\\\n",
       "\tA\\_Q3\\_6 &  6           & 67           & 2.970149     & 1.2669475    & 3            & 2.963636     & 1.4826       & 1            & 5            & 4            &  0.054963146 & -1.13281055  & 0.15478228  \\\\\n",
       "\tA\\_Q3\\_7 &  7           & 67           & 3.940299     & 0.9981892    & 4            & 4.036364     & 1.4826       & 2            & 5            & 3            & -0.513345084 & -0.88887243  & 0.12194822  \\\\\n",
       "\tA\\_Q3\\_8 &  8           & 67           & 4.000000     & 1.0444659    & 4            & 4.127273     & 1.4826       & 1            & 5            & 4            & -0.707352863 & -0.44154229  & 0.12760182  \\\\\n",
       "\tA\\_Q3\\_9 &  9           & 67           & 3.970149     & 1.1277512    & 4            & 4.127273     & 1.4826       & 1            & 5            & 4            & -1.003986622 &  0.21136754  & 0.13777673  \\\\\n",
       "\tA\\_Q3\\_10 & 10           & 67           & 4.313433     & 0.8911850    & 5            & 4.454545     & 0.0000       & 2            & 5            & 3            & -1.146128430 &  0.39784093  & 0.10887558  \\\\\n",
       "\tA\\_Q3\\_30 & 11           & 67           & 4.044776     & 0.9444068    & 4            & 4.145455     & 1.4826       & 2            & 5            & 3            & -0.618641983 & -0.66323909  & 0.11537765  \\\\\n",
       "\tA\\_Q3\\_11 & 12           & 67           & 3.388060     & 1.1541129    & 3            & 3.436364     & 1.4826       & 1            & 5            & 4            & -0.254950664 & -0.79748916  & 0.14099733  \\\\\n",
       "\tA\\_Q3\\_12 & 13           & 67           & 3.253731     & 1.1591962    & 3            & 3.309091     & 1.4826       & 1            & 5            & 4            & -0.436957847 & -0.64626695  & 0.14161836  \\\\\n",
       "\tA\\_Q3\\_13 & 14           & 67           & 3.014925     & 1.1611454    & 3            & 3.018182     & 1.4826       & 1            & 5            & 4            & -0.142860230 & -0.88348844  & 0.14185649  \\\\\n",
       "\tA\\_Q3\\_14 & 15           & 67           & 2.791045     & 1.1219209    & 3            & 2.745455     & 1.4826       & 1            & 5            & 4            &  0.345482117 & -0.66907197  & 0.13706445  \\\\\n",
       "\tA\\_Q3\\_31 & 16           & 67           & 3.895522     & 1.0170416    & 4            & 4.018182     & 1.4826       & 1            & 5            & 4            & -0.816155443 &  0.24306962  & 0.12425141  \\\\\n",
       "\tA\\_Q3\\_15 & 17           & 67           & 3.582090     & 0.9235842    & 4            & 3.618182     & 1.4826       & 1            & 5            & 4            & -0.350987773 & -0.29251880  & 0.11283376  \\\\\n",
       "\tA\\_Q3\\_16 & 18           & 67           & 3.850746     & 0.9886282    & 4            & 3.963636     & 1.4826       & 1            & 5            & 4            & -0.817008888 &  0.40239245  & 0.12078016  \\\\\n",
       "\tA\\_Q3\\_17 & 19           & 67           & 3.582090     & 0.9558314    & 4            & 3.654545     & 1.4826       & 1            & 5            & 4            & -0.743681985 &  0.54111019  & 0.11677340  \\\\\n",
       "\tA\\_Q3\\_18 & 20           & 67           & 3.208955     & 1.1746994    & 3            & 3.236364     & 1.4826       & 1            & 5            & 4            & -0.126169750 & -0.95056635  & 0.14351237  \\\\\n",
       "\tA\\_Q3\\_19 & 21           & 67           & 3.716418     & 1.0844070    & 4            & 3.800000     & 1.4826       & 1            & 5            & 4            & -0.555302144 & -0.50349003  & 0.13248140  \\\\\n",
       "\tA\\_Q3\\_20 & 22           & 67           & 3.582090     & 1.1434829    & 4            & 3.654545     & 1.4826       & 1            & 5            & 4            & -0.468322405 & -0.70317759  & 0.13969867  \\\\\n",
       "\tA\\_Q3\\_21 & 23           & 67           & 4.373134     & 0.7752970    & 5            & 4.472727     & 0.0000       & 2            & 5            & 3            & -0.925246885 & -0.12158338  & 0.09471761  \\\\\n",
       "\tA\\_Q3\\_22 & 24           & 67           & 2.746269     & 1.0918886    & 3            & 2.690909     & 1.4826       & 1            & 5            & 4            &  0.573158928 & -0.27968906  & 0.13339542  \\\\\n",
       "\tA\\_Q3\\_23 & 25           & 67           & 3.582090     & 1.2327507    & 4            & 3.672727     & 1.4826       & 1            & 5            & 4            & -0.472945557 & -0.89555803  & 0.15060447  \\\\\n",
       "\tA\\_Q3\\_24 & 26           & 67           & 3.582090     & 1.1566573    & 4            & 3.654545     & 1.4826       & 1            & 5            & 4            & -0.428316317 & -0.77189311  & 0.14130818  \\\\\n",
       "\tA\\_Q3\\_25 & 27           & 67           & 3.388060     & 1.1003474    & 3            & 3.418182     & 1.4826       & 1            & 5            & 4            & -0.189840184 & -0.73381678  & 0.13442883  \\\\\n",
       "\tA\\_Q3\\_26 & 28           & 67           & 3.716418     & 1.2649826    & 4            & 3.872727     & 1.4826       & 1            & 5            & 4            & -0.837795688 & -0.39610133  & 0.15454222  \\\\\n",
       "\tA\\_Q3\\_27 & 29           & 67           & 3.000000     & 1.2552918    & 3            & 3.000000     & 1.4826       & 1            & 5            & 4            & -0.045273320 & -1.14861344  & 0.15335831  \\\\\n",
       "\tA\\_Q3\\_32 & 30           & 67           & 3.910448     & 1.0405614    & 4            & 4.018182     & 1.4826       & 1            & 5            & 4            & -0.698825681 & -0.07624693  & 0.12712481  \\\\\n",
       "\tA\\_Q3\\_33 & 31           & 67           & 3.582090     & 1.0466288    & 4            & 3.636364     & 1.4826       & 1            & 5            & 4            & -0.448693283 & -0.50517915  & 0.12786606  \\\\\n",
       "\tA\\_Q3\\_28 & 32           & 67           & 3.865672     & 1.1132198    & 4            & 3.981818     & 1.4826       & 1            & 5            & 4            & -0.647802675 & -0.49309592  & 0.13600144  \\\\\n",
       "\tA\\_Q3\\_29 & 33           & 67           & 3.671642     & 1.2356824    & 4            & 3.763636     & 1.4826       & 1            & 5            & 4            & -0.461625755 & -0.99381790  & 0.15096263  \\\\\n",
       "\\end{tabular}\n"
      ],
      "text/markdown": [
       "\n",
       "| <!--/--> | vars | n | mean | sd | median | trimmed | mad | min | max | range | skew | kurtosis | se | \n",
       "|---|---|---|---|---|---|---|---|---|---|---|---|---|---|---|---|---|---|---|---|---|---|---|---|---|---|---|---|---|---|---|---|---|\n",
       "| A_Q3_1 |  1           | 67           | 3.059701     | 1.1399176    | 3            | 3.072727     | 1.4826       | 1            | 5            | 4            |  0.006303073 | -0.77228797  | 0.13926309   | \n",
       "| A_Q3_2* |  2           | 66           | 4.060606     | 0.9426442    | 4            | 4.185185     | 1.4826       | 1            | 5            | 4            | -0.986136886 |  0.64490659  | 0.11603148   | \n",
       "| A_Q3_3* |  3           | 65           | 2.953846     | 1.4623480    | 3            | 2.943396     | 1.4826       | 1            | 5            | 4            |  0.019464360 | -1.41215476  | 0.18138194   | \n",
       "| A_Q3_4 |  4           | 67           | 4.208955     | 0.9619632    | 4            | 4.363636     | 1.4826       | 1            | 5            | 4            | -1.222246164 |  0.98794741  | 0.11752251   | \n",
       "| A_Q3_5 |  5           | 67           | 3.223881     | 1.1783514    | 3            | 3.254545     | 1.4826       | 1            | 5            | 4            | -0.157835412 | -0.96579038  | 0.14395853   | \n",
       "| A_Q3_6 |  6           | 67           | 2.970149     | 1.2669475    | 3            | 2.963636     | 1.4826       | 1            | 5            | 4            |  0.054963146 | -1.13281055  | 0.15478228   | \n",
       "| A_Q3_7 |  7           | 67           | 3.940299     | 0.9981892    | 4            | 4.036364     | 1.4826       | 2            | 5            | 3            | -0.513345084 | -0.88887243  | 0.12194822   | \n",
       "| A_Q3_8 |  8           | 67           | 4.000000     | 1.0444659    | 4            | 4.127273     | 1.4826       | 1            | 5            | 4            | -0.707352863 | -0.44154229  | 0.12760182   | \n",
       "| A_Q3_9 |  9           | 67           | 3.970149     | 1.1277512    | 4            | 4.127273     | 1.4826       | 1            | 5            | 4            | -1.003986622 |  0.21136754  | 0.13777673   | \n",
       "| A_Q3_10 | 10           | 67           | 4.313433     | 0.8911850    | 5            | 4.454545     | 0.0000       | 2            | 5            | 3            | -1.146128430 |  0.39784093  | 0.10887558   | \n",
       "| A_Q3_30 | 11           | 67           | 4.044776     | 0.9444068    | 4            | 4.145455     | 1.4826       | 2            | 5            | 3            | -0.618641983 | -0.66323909  | 0.11537765   | \n",
       "| A_Q3_11 | 12           | 67           | 3.388060     | 1.1541129    | 3            | 3.436364     | 1.4826       | 1            | 5            | 4            | -0.254950664 | -0.79748916  | 0.14099733   | \n",
       "| A_Q3_12 | 13           | 67           | 3.253731     | 1.1591962    | 3            | 3.309091     | 1.4826       | 1            | 5            | 4            | -0.436957847 | -0.64626695  | 0.14161836   | \n",
       "| A_Q3_13 | 14           | 67           | 3.014925     | 1.1611454    | 3            | 3.018182     | 1.4826       | 1            | 5            | 4            | -0.142860230 | -0.88348844  | 0.14185649   | \n",
       "| A_Q3_14 | 15           | 67           | 2.791045     | 1.1219209    | 3            | 2.745455     | 1.4826       | 1            | 5            | 4            |  0.345482117 | -0.66907197  | 0.13706445   | \n",
       "| A_Q3_31 | 16           | 67           | 3.895522     | 1.0170416    | 4            | 4.018182     | 1.4826       | 1            | 5            | 4            | -0.816155443 |  0.24306962  | 0.12425141   | \n",
       "| A_Q3_15 | 17           | 67           | 3.582090     | 0.9235842    | 4            | 3.618182     | 1.4826       | 1            | 5            | 4            | -0.350987773 | -0.29251880  | 0.11283376   | \n",
       "| A_Q3_16 | 18           | 67           | 3.850746     | 0.9886282    | 4            | 3.963636     | 1.4826       | 1            | 5            | 4            | -0.817008888 |  0.40239245  | 0.12078016   | \n",
       "| A_Q3_17 | 19           | 67           | 3.582090     | 0.9558314    | 4            | 3.654545     | 1.4826       | 1            | 5            | 4            | -0.743681985 |  0.54111019  | 0.11677340   | \n",
       "| A_Q3_18 | 20           | 67           | 3.208955     | 1.1746994    | 3            | 3.236364     | 1.4826       | 1            | 5            | 4            | -0.126169750 | -0.95056635  | 0.14351237   | \n",
       "| A_Q3_19 | 21           | 67           | 3.716418     | 1.0844070    | 4            | 3.800000     | 1.4826       | 1            | 5            | 4            | -0.555302144 | -0.50349003  | 0.13248140   | \n",
       "| A_Q3_20 | 22           | 67           | 3.582090     | 1.1434829    | 4            | 3.654545     | 1.4826       | 1            | 5            | 4            | -0.468322405 | -0.70317759  | 0.13969867   | \n",
       "| A_Q3_21 | 23           | 67           | 4.373134     | 0.7752970    | 5            | 4.472727     | 0.0000       | 2            | 5            | 3            | -0.925246885 | -0.12158338  | 0.09471761   | \n",
       "| A_Q3_22 | 24           | 67           | 2.746269     | 1.0918886    | 3            | 2.690909     | 1.4826       | 1            | 5            | 4            |  0.573158928 | -0.27968906  | 0.13339542   | \n",
       "| A_Q3_23 | 25           | 67           | 3.582090     | 1.2327507    | 4            | 3.672727     | 1.4826       | 1            | 5            | 4            | -0.472945557 | -0.89555803  | 0.15060447   | \n",
       "| A_Q3_24 | 26           | 67           | 3.582090     | 1.1566573    | 4            | 3.654545     | 1.4826       | 1            | 5            | 4            | -0.428316317 | -0.77189311  | 0.14130818   | \n",
       "| A_Q3_25 | 27           | 67           | 3.388060     | 1.1003474    | 3            | 3.418182     | 1.4826       | 1            | 5            | 4            | -0.189840184 | -0.73381678  | 0.13442883   | \n",
       "| A_Q3_26 | 28           | 67           | 3.716418     | 1.2649826    | 4            | 3.872727     | 1.4826       | 1            | 5            | 4            | -0.837795688 | -0.39610133  | 0.15454222   | \n",
       "| A_Q3_27 | 29           | 67           | 3.000000     | 1.2552918    | 3            | 3.000000     | 1.4826       | 1            | 5            | 4            | -0.045273320 | -1.14861344  | 0.15335831   | \n",
       "| A_Q3_32 | 30           | 67           | 3.910448     | 1.0405614    | 4            | 4.018182     | 1.4826       | 1            | 5            | 4            | -0.698825681 | -0.07624693  | 0.12712481   | \n",
       "| A_Q3_33 | 31           | 67           | 3.582090     | 1.0466288    | 4            | 3.636364     | 1.4826       | 1            | 5            | 4            | -0.448693283 | -0.50517915  | 0.12786606   | \n",
       "| A_Q3_28 | 32           | 67           | 3.865672     | 1.1132198    | 4            | 3.981818     | 1.4826       | 1            | 5            | 4            | -0.647802675 | -0.49309592  | 0.13600144   | \n",
       "| A_Q3_29 | 33           | 67           | 3.671642     | 1.2356824    | 4            | 3.763636     | 1.4826       | 1            | 5            | 4            | -0.461625755 | -0.99381790  | 0.15096263   | \n",
       "\n",
       "\n"
      ],
      "text/plain": [
       "        vars n  mean     sd        median trimmed  mad    min max range\n",
       "A_Q3_1   1   67 3.059701 1.1399176 3      3.072727 1.4826 1   5   4    \n",
       "A_Q3_2*  2   66 4.060606 0.9426442 4      4.185185 1.4826 1   5   4    \n",
       "A_Q3_3*  3   65 2.953846 1.4623480 3      2.943396 1.4826 1   5   4    \n",
       "A_Q3_4   4   67 4.208955 0.9619632 4      4.363636 1.4826 1   5   4    \n",
       "A_Q3_5   5   67 3.223881 1.1783514 3      3.254545 1.4826 1   5   4    \n",
       "A_Q3_6   6   67 2.970149 1.2669475 3      2.963636 1.4826 1   5   4    \n",
       "A_Q3_7   7   67 3.940299 0.9981892 4      4.036364 1.4826 2   5   3    \n",
       "A_Q3_8   8   67 4.000000 1.0444659 4      4.127273 1.4826 1   5   4    \n",
       "A_Q3_9   9   67 3.970149 1.1277512 4      4.127273 1.4826 1   5   4    \n",
       "A_Q3_10 10   67 4.313433 0.8911850 5      4.454545 0.0000 2   5   3    \n",
       "A_Q3_30 11   67 4.044776 0.9444068 4      4.145455 1.4826 2   5   3    \n",
       "A_Q3_11 12   67 3.388060 1.1541129 3      3.436364 1.4826 1   5   4    \n",
       "A_Q3_12 13   67 3.253731 1.1591962 3      3.309091 1.4826 1   5   4    \n",
       "A_Q3_13 14   67 3.014925 1.1611454 3      3.018182 1.4826 1   5   4    \n",
       "A_Q3_14 15   67 2.791045 1.1219209 3      2.745455 1.4826 1   5   4    \n",
       "A_Q3_31 16   67 3.895522 1.0170416 4      4.018182 1.4826 1   5   4    \n",
       "A_Q3_15 17   67 3.582090 0.9235842 4      3.618182 1.4826 1   5   4    \n",
       "A_Q3_16 18   67 3.850746 0.9886282 4      3.963636 1.4826 1   5   4    \n",
       "A_Q3_17 19   67 3.582090 0.9558314 4      3.654545 1.4826 1   5   4    \n",
       "A_Q3_18 20   67 3.208955 1.1746994 3      3.236364 1.4826 1   5   4    \n",
       "A_Q3_19 21   67 3.716418 1.0844070 4      3.800000 1.4826 1   5   4    \n",
       "A_Q3_20 22   67 3.582090 1.1434829 4      3.654545 1.4826 1   5   4    \n",
       "A_Q3_21 23   67 4.373134 0.7752970 5      4.472727 0.0000 2   5   3    \n",
       "A_Q3_22 24   67 2.746269 1.0918886 3      2.690909 1.4826 1   5   4    \n",
       "A_Q3_23 25   67 3.582090 1.2327507 4      3.672727 1.4826 1   5   4    \n",
       "A_Q3_24 26   67 3.582090 1.1566573 4      3.654545 1.4826 1   5   4    \n",
       "A_Q3_25 27   67 3.388060 1.1003474 3      3.418182 1.4826 1   5   4    \n",
       "A_Q3_26 28   67 3.716418 1.2649826 4      3.872727 1.4826 1   5   4    \n",
       "A_Q3_27 29   67 3.000000 1.2552918 3      3.000000 1.4826 1   5   4    \n",
       "A_Q3_32 30   67 3.910448 1.0405614 4      4.018182 1.4826 1   5   4    \n",
       "A_Q3_33 31   67 3.582090 1.0466288 4      3.636364 1.4826 1   5   4    \n",
       "A_Q3_28 32   67 3.865672 1.1132198 4      3.981818 1.4826 1   5   4    \n",
       "A_Q3_29 33   67 3.671642 1.2356824 4      3.763636 1.4826 1   5   4    \n",
       "        skew         kurtosis    se        \n",
       "A_Q3_1   0.006303073 -0.77228797 0.13926309\n",
       "A_Q3_2* -0.986136886  0.64490659 0.11603148\n",
       "A_Q3_3*  0.019464360 -1.41215476 0.18138194\n",
       "A_Q3_4  -1.222246164  0.98794741 0.11752251\n",
       "A_Q3_5  -0.157835412 -0.96579038 0.14395853\n",
       "A_Q3_6   0.054963146 -1.13281055 0.15478228\n",
       "A_Q3_7  -0.513345084 -0.88887243 0.12194822\n",
       "A_Q3_8  -0.707352863 -0.44154229 0.12760182\n",
       "A_Q3_9  -1.003986622  0.21136754 0.13777673\n",
       "A_Q3_10 -1.146128430  0.39784093 0.10887558\n",
       "A_Q3_30 -0.618641983 -0.66323909 0.11537765\n",
       "A_Q3_11 -0.254950664 -0.79748916 0.14099733\n",
       "A_Q3_12 -0.436957847 -0.64626695 0.14161836\n",
       "A_Q3_13 -0.142860230 -0.88348844 0.14185649\n",
       "A_Q3_14  0.345482117 -0.66907197 0.13706445\n",
       "A_Q3_31 -0.816155443  0.24306962 0.12425141\n",
       "A_Q3_15 -0.350987773 -0.29251880 0.11283376\n",
       "A_Q3_16 -0.817008888  0.40239245 0.12078016\n",
       "A_Q3_17 -0.743681985  0.54111019 0.11677340\n",
       "A_Q3_18 -0.126169750 -0.95056635 0.14351237\n",
       "A_Q3_19 -0.555302144 -0.50349003 0.13248140\n",
       "A_Q3_20 -0.468322405 -0.70317759 0.13969867\n",
       "A_Q3_21 -0.925246885 -0.12158338 0.09471761\n",
       "A_Q3_22  0.573158928 -0.27968906 0.13339542\n",
       "A_Q3_23 -0.472945557 -0.89555803 0.15060447\n",
       "A_Q3_24 -0.428316317 -0.77189311 0.14130818\n",
       "A_Q3_25 -0.189840184 -0.73381678 0.13442883\n",
       "A_Q3_26 -0.837795688 -0.39610133 0.15454222\n",
       "A_Q3_27 -0.045273320 -1.14861344 0.15335831\n",
       "A_Q3_32 -0.698825681 -0.07624693 0.12712481\n",
       "A_Q3_33 -0.448693283 -0.50517915 0.12786606\n",
       "A_Q3_28 -0.647802675 -0.49309592 0.13600144\n",
       "A_Q3_29 -0.461625755 -0.99381790 0.15096263"
      ]
     },
     "metadata": {},
     "output_type": "display_data"
    }
   ],
   "source": [
    "describe(MyData[vec_AQ3])"
   ]
  },
  {
   "cell_type": "code",
   "execution_count": 98,
   "metadata": {},
   "outputs": [
    {
     "data": {
      "text/html": [
       "<table>\n",
       "<thead><tr><th></th><th scope=col>vars</th><th scope=col>n</th><th scope=col>mean</th><th scope=col>sd</th><th scope=col>median</th><th scope=col>trimmed</th><th scope=col>mad</th><th scope=col>min</th><th scope=col>max</th><th scope=col>range</th><th scope=col>skew</th><th scope=col>kurtosis</th><th scope=col>se</th></tr></thead>\n",
       "<tbody>\n",
       "\t<tr><th scope=row>C_Q1_1</th><td> 1        </td><td>67        </td><td>3.820896  </td><td>0.8151106 </td><td>4         </td><td>3.854545  </td><td>1.4826    </td><td>2         </td><td>5         </td><td>3         </td><td>-0.3321907</td><td>-0.4014233</td><td>0.09958161</td></tr>\n",
       "\t<tr><th scope=row>C_Q1_2</th><td> 2        </td><td>67        </td><td>4.522388  </td><td>0.6822025 </td><td>5         </td><td>4.636364  </td><td>0.0000    </td><td>2         </td><td>5         </td><td>3         </td><td>-1.3486447</td><td> 1.5248162</td><td>0.08334430</td></tr>\n",
       "\t<tr><th scope=row>C_Q1_3</th><td> 3        </td><td>67        </td><td>3.686567  </td><td>1.1442737 </td><td>4         </td><td>3.763636  </td><td>1.4826    </td><td>1         </td><td>5         </td><td>4         </td><td>-0.3952654</td><td>-0.8786803</td><td>0.13979528</td></tr>\n",
       "\t<tr><th scope=row>C_Q1_4</th><td> 4        </td><td>67        </td><td>4.253731  </td><td>0.8042177 </td><td>4         </td><td>4.363636  </td><td>1.4826    </td><td>1         </td><td>5         </td><td>4         </td><td>-1.3368140</td><td> 2.7629668</td><td>0.09825083</td></tr>\n",
       "\t<tr><th scope=row>C_Q1_5</th><td> 5        </td><td>67        </td><td>4.447761  </td><td>0.7644285 </td><td>5         </td><td>4.563636  </td><td>0.0000    </td><td>2         </td><td>5         </td><td>3         </td><td>-1.1300700</td><td> 0.2995732</td><td>0.09338981</td></tr>\n",
       "\t<tr><th scope=row>C_Q1_6</th><td> 6        </td><td>67        </td><td>4.567164  </td><td>0.7011653 </td><td>5         </td><td>4.690909  </td><td>0.0000    </td><td>2         </td><td>5         </td><td>3         </td><td>-1.7939623</td><td> 3.3257190</td><td>0.08566097</td></tr>\n",
       "\t<tr><th scope=row>C_Q1_7</th><td> 7        </td><td>67        </td><td>4.194030  </td><td>0.9250521 </td><td>4         </td><td>4.309091  </td><td>1.4826    </td><td>2         </td><td>5         </td><td>3         </td><td>-0.8364918</td><td>-0.3792069</td><td>0.11301310</td></tr>\n",
       "\t<tr><th scope=row>C_Q1_8</th><td> 8        </td><td>67        </td><td>2.537313  </td><td>1.1848585 </td><td>2         </td><td>2.454545  </td><td>1.4826    </td><td>1         </td><td>5         </td><td>4         </td><td> 0.4508764</td><td>-0.6833641</td><td>0.14475350</td></tr>\n",
       "\t<tr><th scope=row>C_Q1_9</th><td> 9        </td><td>67        </td><td>4.373134  </td><td>0.7752970 </td><td>5         </td><td>4.490909  </td><td>0.0000    </td><td>2         </td><td>5         </td><td>3         </td><td>-1.1174109</td><td> 0.7440720</td><td>0.09471761</td></tr>\n",
       "\t<tr><th scope=row>C_Q1_10</th><td>10        </td><td>67        </td><td>2.208955  </td><td>1.1617296 </td><td>2         </td><td>2.090909  </td><td>1.4826    </td><td>1         </td><td>5         </td><td>4         </td><td> 0.7382389</td><td>-0.4129493</td><td>0.14192785</td></tr>\n",
       "\t<tr><th scope=row>C_Q1_11*</th><td>11        </td><td>66        </td><td>2.590909  </td><td>0.7011479 </td><td>3         </td><td>2.722222  </td><td>0.0000    </td><td>1         </td><td>3         </td><td>2         </td><td>-1.3742891</td><td> 0.3794455</td><td>0.08630534</td></tr>\n",
       "</tbody>\n",
       "</table>\n"
      ],
      "text/latex": [
       "\\begin{tabular}{r|lllllllllllll}\n",
       "  & vars & n & mean & sd & median & trimmed & mad & min & max & range & skew & kurtosis & se\\\\\n",
       "\\hline\n",
       "\tC\\_Q1\\_1 &  1         & 67         & 3.820896   & 0.8151106  & 4          & 3.854545   & 1.4826     & 2          & 5          & 3          & -0.3321907 & -0.4014233 & 0.09958161\\\\\n",
       "\tC\\_Q1\\_2 &  2         & 67         & 4.522388   & 0.6822025  & 5          & 4.636364   & 0.0000     & 2          & 5          & 3          & -1.3486447 &  1.5248162 & 0.08334430\\\\\n",
       "\tC\\_Q1\\_3 &  3         & 67         & 3.686567   & 1.1442737  & 4          & 3.763636   & 1.4826     & 1          & 5          & 4          & -0.3952654 & -0.8786803 & 0.13979528\\\\\n",
       "\tC\\_Q1\\_4 &  4         & 67         & 4.253731   & 0.8042177  & 4          & 4.363636   & 1.4826     & 1          & 5          & 4          & -1.3368140 &  2.7629668 & 0.09825083\\\\\n",
       "\tC\\_Q1\\_5 &  5         & 67         & 4.447761   & 0.7644285  & 5          & 4.563636   & 0.0000     & 2          & 5          & 3          & -1.1300700 &  0.2995732 & 0.09338981\\\\\n",
       "\tC\\_Q1\\_6 &  6         & 67         & 4.567164   & 0.7011653  & 5          & 4.690909   & 0.0000     & 2          & 5          & 3          & -1.7939623 &  3.3257190 & 0.08566097\\\\\n",
       "\tC\\_Q1\\_7 &  7         & 67         & 4.194030   & 0.9250521  & 4          & 4.309091   & 1.4826     & 2          & 5          & 3          & -0.8364918 & -0.3792069 & 0.11301310\\\\\n",
       "\tC\\_Q1\\_8 &  8         & 67         & 2.537313   & 1.1848585  & 2          & 2.454545   & 1.4826     & 1          & 5          & 4          &  0.4508764 & -0.6833641 & 0.14475350\\\\\n",
       "\tC\\_Q1\\_9 &  9         & 67         & 4.373134   & 0.7752970  & 5          & 4.490909   & 0.0000     & 2          & 5          & 3          & -1.1174109 &  0.7440720 & 0.09471761\\\\\n",
       "\tC\\_Q1\\_10 & 10         & 67         & 2.208955   & 1.1617296  & 2          & 2.090909   & 1.4826     & 1          & 5          & 4          &  0.7382389 & -0.4129493 & 0.14192785\\\\\n",
       "\tC\\_Q1\\_11* & 11         & 66         & 2.590909   & 0.7011479  & 3          & 2.722222   & 0.0000     & 1          & 3          & 2          & -1.3742891 &  0.3794455 & 0.08630534\\\\\n",
       "\\end{tabular}\n"
      ],
      "text/markdown": [
       "\n",
       "| <!--/--> | vars | n | mean | sd | median | trimmed | mad | min | max | range | skew | kurtosis | se | \n",
       "|---|---|---|---|---|---|---|---|---|---|---|\n",
       "| C_Q1_1 |  1         | 67         | 3.820896   | 0.8151106  | 4          | 3.854545   | 1.4826     | 2          | 5          | 3          | -0.3321907 | -0.4014233 | 0.09958161 | \n",
       "| C_Q1_2 |  2         | 67         | 4.522388   | 0.6822025  | 5          | 4.636364   | 0.0000     | 2          | 5          | 3          | -1.3486447 |  1.5248162 | 0.08334430 | \n",
       "| C_Q1_3 |  3         | 67         | 3.686567   | 1.1442737  | 4          | 3.763636   | 1.4826     | 1          | 5          | 4          | -0.3952654 | -0.8786803 | 0.13979528 | \n",
       "| C_Q1_4 |  4         | 67         | 4.253731   | 0.8042177  | 4          | 4.363636   | 1.4826     | 1          | 5          | 4          | -1.3368140 |  2.7629668 | 0.09825083 | \n",
       "| C_Q1_5 |  5         | 67         | 4.447761   | 0.7644285  | 5          | 4.563636   | 0.0000     | 2          | 5          | 3          | -1.1300700 |  0.2995732 | 0.09338981 | \n",
       "| C_Q1_6 |  6         | 67         | 4.567164   | 0.7011653  | 5          | 4.690909   | 0.0000     | 2          | 5          | 3          | -1.7939623 |  3.3257190 | 0.08566097 | \n",
       "| C_Q1_7 |  7         | 67         | 4.194030   | 0.9250521  | 4          | 4.309091   | 1.4826     | 2          | 5          | 3          | -0.8364918 | -0.3792069 | 0.11301310 | \n",
       "| C_Q1_8 |  8         | 67         | 2.537313   | 1.1848585  | 2          | 2.454545   | 1.4826     | 1          | 5          | 4          |  0.4508764 | -0.6833641 | 0.14475350 | \n",
       "| C_Q1_9 |  9         | 67         | 4.373134   | 0.7752970  | 5          | 4.490909   | 0.0000     | 2          | 5          | 3          | -1.1174109 |  0.7440720 | 0.09471761 | \n",
       "| C_Q1_10 | 10         | 67         | 2.208955   | 1.1617296  | 2          | 2.090909   | 1.4826     | 1          | 5          | 4          |  0.7382389 | -0.4129493 | 0.14192785 | \n",
       "| C_Q1_11* | 11         | 66         | 2.590909   | 0.7011479  | 3          | 2.722222   | 0.0000     | 1          | 3          | 2          | -1.3742891 |  0.3794455 | 0.08630534 | \n",
       "\n",
       "\n"
      ],
      "text/plain": [
       "         vars n  mean     sd        median trimmed  mad    min max range\n",
       "C_Q1_1    1   67 3.820896 0.8151106 4      3.854545 1.4826 2   5   3    \n",
       "C_Q1_2    2   67 4.522388 0.6822025 5      4.636364 0.0000 2   5   3    \n",
       "C_Q1_3    3   67 3.686567 1.1442737 4      3.763636 1.4826 1   5   4    \n",
       "C_Q1_4    4   67 4.253731 0.8042177 4      4.363636 1.4826 1   5   4    \n",
       "C_Q1_5    5   67 4.447761 0.7644285 5      4.563636 0.0000 2   5   3    \n",
       "C_Q1_6    6   67 4.567164 0.7011653 5      4.690909 0.0000 2   5   3    \n",
       "C_Q1_7    7   67 4.194030 0.9250521 4      4.309091 1.4826 2   5   3    \n",
       "C_Q1_8    8   67 2.537313 1.1848585 2      2.454545 1.4826 1   5   4    \n",
       "C_Q1_9    9   67 4.373134 0.7752970 5      4.490909 0.0000 2   5   3    \n",
       "C_Q1_10  10   67 2.208955 1.1617296 2      2.090909 1.4826 1   5   4    \n",
       "C_Q1_11* 11   66 2.590909 0.7011479 3      2.722222 0.0000 1   3   2    \n",
       "         skew       kurtosis   se        \n",
       "C_Q1_1   -0.3321907 -0.4014233 0.09958161\n",
       "C_Q1_2   -1.3486447  1.5248162 0.08334430\n",
       "C_Q1_3   -0.3952654 -0.8786803 0.13979528\n",
       "C_Q1_4   -1.3368140  2.7629668 0.09825083\n",
       "C_Q1_5   -1.1300700  0.2995732 0.09338981\n",
       "C_Q1_6   -1.7939623  3.3257190 0.08566097\n",
       "C_Q1_7   -0.8364918 -0.3792069 0.11301310\n",
       "C_Q1_8    0.4508764 -0.6833641 0.14475350\n",
       "C_Q1_9   -1.1174109  0.7440720 0.09471761\n",
       "C_Q1_10   0.7382389 -0.4129493 0.14192785\n",
       "C_Q1_11* -1.3742891  0.3794455 0.08630534"
      ]
     },
     "metadata": {},
     "output_type": "display_data"
    }
   ],
   "source": [
    "describe(MyData[vec_CQ1])"
   ]
  },
  {
   "cell_type": "markdown",
   "metadata": {},
   "source": [
    "### Explorative Faktorenanalyse"
   ]
  },
  {
   "cell_type": "code",
   "execution_count": 99,
   "metadata": {},
   "outputs": [
    {
     "name": "stdout",
     "output_type": "stream",
     "text": [
      "Parallel analysis suggests that the number of factors =  8  and the number of components =  3 \n"
     ]
    },
    {
     "data": {
      "image/png": "[encoded data removed]",
      "text/plain": [
       "Plot with title \"Parallel Analysis Scree Plots\""
      ]
     },
     "metadata": {},
     "output_type": "display_data"
    }
   ],
   "source": [
    "items.parallel <- fa.parallel(convert_data(MyData,c(vec_AQ3)), fa=\"both\")"
   ]
  },
  {
   "cell_type": "markdown",
   "metadata": {},
   "source": [
    "Der Test mit Itemgruppe AQ2 und AQ3 in Kombination ergibt 9 Faktoren, 3 Komponenten; in der Faktorenanalyse zeigt sich allerdings, dass diese kombinierte Analyse zu keinen sinnvollen Ergebnissen führt."
   ]
  },
  {
   "cell_type": "markdown",
   "metadata": {},
   "source": [
    "Tests mit Itemgruppen AQ2 und CQ1 zeigen, dass für diese die Anwendung einer Faktorenanalyse nicht sinnvoll ist - weder in der jeweiligen Gruppe noch in Kombination. (Es ist sinnvoll, diese Teile in der Befragung zu trennen und auch getrennt zu analysieren.)\n",
    "\n",
    "(Die verwendeten Analyseinstrumente beinhalten bereits die Kontrolle, ob eine Faktorenanalyse sinnvoll durchgeführt werden kann.)"
   ]
  },
  {
   "cell_type": "markdown",
   "metadata": {},
   "source": [
    "### Faktorenanalyse"
   ]
  },
  {
   "cell_type": "code",
   "execution_count": 130,
   "metadata": {
    "scrolled": true
   },
   "outputs": [
    {
     "data": {
      "image/png": "[encoded data removed]",
      "text/plain": [
       "Plot with title \"Factor Analysis\""
      ]
     },
     "metadata": {},
     "output_type": "display_data"
    }
   ],
   "source": [
    "FA_AQ3 <- fa(convert_data(MyData,vec_AQ3), nfactors = 8, rotate = \"varimax\")\n",
    "diagram(FA_AQ3)"
   ]
  },
  {
   "cell_type": "markdown",
   "metadata": {},
   "source": [
    "### Hypothese zum Ergebnis der explorativen Faktorenanalyse:\n",
    "\n",
    "* MR1: Kontextwissen (Textsorte, behandeltes Thema, kulturelles Wissen...)\n",
    "* MR2: Wortbildung, morphosyntaktische Regularitäten\n",
    "* MR3: Syntax, Orthographie\n",
    "* MR4: Internet\n",
    "* MR5: Bilder, Grafiken, Symbole, Zahlen\n",
    "* MR6: semantische Relationen\n",
    "* MR7: Sprachenvergleich (! Individuen können aufgrund ihrer Vorkenntnisse Strategien unterschiedlich gut nützen)\n",
    "* MR8: metakognitive Strategien"
   ]
  },
  {
   "cell_type": "code",
   "execution_count": 131,
   "metadata": {},
   "outputs": [
    {
     "data": {
      "text/plain": [
       "Factor Analysis using method =  minres\n",
       "Call: fa(r = convert_data(MyData, vec_AQ3), nfactors = 8, rotate = \"varimax\")\n",
       "Standardized loadings (pattern matrix) based upon correlation matrix\n",
       "          MR1   MR8   MR2   MR3   MR5   MR6   MR7   MR4   h2   u2 com\n",
       "A_Q3_1   0.29 -0.14  0.09  0.40  0.07  0.15  0.41  0.08 0.47 0.53 3.6\n",
       "A_Q3_2   0.23  0.06  0.30  0.07  0.12  0.00  0.47  0.32 0.48 0.52 3.4\n",
       "A_Q3_3   0.13 -0.10  0.00 -0.12  0.30  0.11  0.59 -0.08 0.50 0.50 1.9\n",
       "A_Q3_4   0.46  0.18  0.09  0.21  0.14 -0.11  0.23  0.39 0.54 0.46 3.8\n",
       "A_Q3_5   0.05  0.26  0.00  0.00  0.05 -0.03  0.62  0.20 0.49 0.51 1.6\n",
       "A_Q3_6   0.28  0.10  0.22  0.18 -0.31  0.11  0.36  0.17 0.44 0.56 5.2\n",
       "A_Q3_7   0.00  0.10  0.74  0.18 -0.15  0.05  0.06  0.05 0.62 0.38 1.3\n",
       "A_Q3_8   0.14  0.15  0.77  0.30  0.07  0.19  0.11 -0.12 0.79 0.21 1.7\n",
       "A_Q3_9   0.09  0.21  0.82  0.14 -0.03  0.02  0.01  0.06 0.76 0.24 1.2\n",
       "A_Q3_10  0.09  0.00  0.31  0.56  0.11 -0.06  0.09  0.08 0.45 0.55 1.8\n",
       "A_Q3_30  0.22  0.48  0.25  0.12 -0.03  0.27  0.00  0.09 0.44 0.56 3.0\n",
       "A_Q3_11  0.15  0.08  0.19  0.72  0.20  0.08 -0.04  0.02 0.62 0.38 1.5\n",
       "A_Q3_12  0.06  0.07  0.13  0.75 -0.04  0.25 -0.07  0.18 0.69 0.31 1.5\n",
       "A_Q3_13  0.04  0.23 -0.01  0.35 -0.01  0.75  0.03  0.17 0.76 0.24 1.8\n",
       "A_Q3_14  0.17  0.07  0.12  0.05  0.00  0.72  0.12  0.01 0.58 0.42 1.3\n",
       "A_Q3_31  0.20  0.42  0.12 -0.05  0.06 -0.16 -0.18  0.13 0.32 0.68 2.8\n",
       "A_Q3_15  0.29  0.41  0.32  0.25  0.27 -0.01 -0.35  0.00 0.61 0.39 5.4\n",
       "A_Q3_16  0.35  0.25  0.08  0.12 -0.03 -0.10  0.20 -0.11 0.27 0.73 3.4\n",
       "A_Q3_17  0.21  0.30  0.23  0.02  0.15  0.33 -0.08 -0.20 0.37 0.63 4.9\n",
       "A_Q3_18  0.81 -0.06  0.02  0.26 -0.02  0.06 -0.04  0.11 0.75 0.25 1.3\n",
       "A_Q3_19  0.73  0.43 -0.01  0.01 -0.05  0.17  0.14 -0.08 0.78 0.22 1.9\n",
       "A_Q3_20  0.69  0.10  0.09  0.02  0.16  0.13  0.14  0.00 0.55 0.45 1.4\n",
       "A_Q3_21  0.54  0.15  0.38 -0.14  0.08  0.36 -0.19  0.20 0.69 0.31 3.8\n",
       "A_Q3_22  0.62  0.13  0.07  0.15  0.30  0.12  0.11  0.04 0.55 0.45 1.9\n",
       "A_Q3_23  0.16  0.07  0.00  0.17  0.76  0.06  0.16  0.15 0.68 0.32 1.4\n",
       "A_Q3_24  0.23  0.08 -0.09  0.12  0.80 -0.03  0.11  0.07 0.74 0.26 1.3\n",
       "A_Q3_25  0.56  0.25  0.07 -0.01  0.29  0.05  0.10 -0.01 0.48 0.52 2.1\n",
       "A_Q3_26  0.11  0.03  0.10  0.10  0.01  0.00  0.03  0.65 0.46 0.54 1.2\n",
       "A_Q3_27 -0.11  0.01 -0.11  0.11  0.14  0.16  0.17  0.73 0.64 0.36 1.4\n",
       "A_Q3_32  0.06  0.49  0.03  0.16  0.01  0.06  0.06 -0.26 0.35 0.65 1.9\n",
       "A_Q3_33  0.02  0.74  0.04 -0.02 -0.06  0.15  0.08  0.04 0.59 0.41 1.1\n",
       "A_Q3_28  0.18  0.67  0.20  0.06  0.16  0.05  0.14  0.18 0.60 0.40 1.8\n",
       "A_Q3_29  0.23  0.48  0.13 -0.17  0.21  0.28  0.02  0.06 0.46 0.54 3.1\n",
       "\n",
       "                       MR1  MR8  MR2  MR3  MR5  MR6  MR7  MR4\n",
       "SS loadings           3.72 2.81 2.63 2.24 1.93 1.80 1.74 1.65\n",
       "Proportion Var        0.11 0.09 0.08 0.07 0.06 0.05 0.05 0.05\n",
       "Cumulative Var        0.11 0.20 0.28 0.35 0.40 0.46 0.51 0.56\n",
       "Proportion Explained  0.20 0.15 0.14 0.12 0.10 0.10 0.09 0.09\n",
       "Cumulative Proportion 0.20 0.35 0.49 0.62 0.72 0.82 0.91 1.00\n",
       "\n",
       "Mean item complexity =  2.3\n",
       "Test of the hypothesis that 8 factors are sufficient.\n",
       "\n",
       "The degrees of freedom for the null model are  528  and the objective function was  20.84 with Chi Square of  1128.81\n",
       "The degrees of freedom for the model are 292  and the objective function was  6.43 \n",
       "\n",
       "The root mean square of the residuals (RMSR) is  0.05 \n",
       "The df corrected root mean square of the residuals is  0.06 \n",
       "\n",
       "The harmonic number of observations is  67 with the empirical chi square  156.21  with prob <  1 \n",
       "The total number of observations was  67  with Likelihood Chi Square =  314.04  with prob <  0.18 \n",
       "\n",
       "Tucker Lewis Index of factoring reliability =  0.919\n",
       "RMSEA index =  0.083  and the 90 % confidence intervals are  0 NA\n",
       "BIC =  -913.73\n",
       "Fit based upon off diagonal values = 0.96\n",
       "Measures of factor score adequacy             \n",
       "                                                   MR1  MR8  MR2  MR3  MR5  MR6\n",
       "Correlation of (regression) scores with factors   0.95 0.91 0.94 0.90 0.92 0.90\n",
       "Multiple R square of scores with factors          0.89 0.82 0.88 0.82 0.84 0.82\n",
       "Minimum correlation of possible factor scores     0.79 0.64 0.76 0.64 0.67 0.64\n",
       "                                                   MR7  MR4\n",
       "Correlation of (regression) scores with factors   0.88 0.88\n",
       "Multiple R square of scores with factors          0.77 0.78\n",
       "Minimum correlation of possible factor scores     0.53 0.57"
      ]
     },
     "metadata": {},
     "output_type": "display_data"
    }
   ],
   "source": [
    "FA_AQ3"
   ]
  },
  {
   "cell_type": "markdown",
   "metadata": {},
   "source": [
    "### GRM"
   ]
  },
  {
   "cell_type": "code",
   "execution_count": 132,
   "metadata": {},
   "outputs": [],
   "source": [
    "library(\"ltm\")"
   ]
  },
  {
   "cell_type": "code",
   "execution_count": 133,
   "metadata": {},
   "outputs": [],
   "source": [
    "matrix_AQ3 <- convert_data(MyData,vec_AQ3)"
   ]
  },
  {
   "cell_type": "code",
   "execution_count": 134,
   "metadata": {},
   "outputs": [],
   "source": [
    "get_fitems <- function(F,f,thr){\n",
    "    names(F$loadings[F$loadings[,f] > thr, f])\n",
    "}"
   ]
  },
  {
   "cell_type": "code",
   "execution_count": 135,
   "metadata": {},
   "outputs": [],
   "source": [
    "get_datagrm <- function(df,F,f,thr,type='factor'){\n",
    "    if (type == 'factor'){\n",
    "        DF <- data.frame(apply(df[get_fitems(F,f,thr)],2,as.factor))\n",
    "    }else {\n",
    "        DF <- data.frame(apply(df[get_fitems(F,f,thr)],2,as.numeric))\n",
    "    }\n",
    "    DF\n",
    "}"
   ]
  },
  {
   "cell_type": "markdown",
   "metadata": {},
   "source": [
    "#### GRM-Funktion"
   ]
  },
  {
   "cell_type": "code",
   "execution_count": 136,
   "metadata": {},
   "outputs": [],
   "source": [
    "grm_full <- function (df,F,f,thr){\n",
    "    results <- list()\n",
    "    results$rcor <- rcor.test(get_datagrm(df,F,f,thr), method = \"kendall\")\n",
    "    results$fit1 <- grm(get_datagrm(df,F,f,thr), constrained = TRUE)\n",
    "    results$fit2 <- grm(get_datagrm(df,F,f,thr), constrained = FALSE)\n",
    "    results$anova <- anova(results$fit1,results$fit2)\n",
    "    results$margins1 <- margins(results$fit1)\n",
    "    results$margins2 <- margins(results$fit2)\n",
    "    results$info1 <- information(results$fit1, c(-4, 4))\n",
    "    results$info2 <- information(results$fit2, c(-4, 4))\n",
    "    results$alpha <- alpha(get_datagrm(df,F,f,thr,type='num'))\n",
    "    results\n",
    "}"
   ]
  },
  {
   "cell_type": "markdown",
   "metadata": {},
   "source": [
    "#### Cronbachs Alpha und Inter-Item-Korrelation für AQ3"
   ]
  },
  {
   "cell_type": "code",
   "execution_count": 137,
   "metadata": {},
   "outputs": [],
   "source": [
    "GRM_AQ3 <- data.frame(apply(MyData[,vec_AQ3],2,as.factor))"
   ]
  },
  {
   "cell_type": "code",
   "execution_count": 138,
   "metadata": {},
   "outputs": [
    {
     "data": {
      "text/plain": [
       "\n",
       "Reliability analysis   \n",
       "Call: alpha(x = data.frame(apply(MyData[, vec_AQ3], 2, as.numeric)), \n",
       "    check.keys = TRUE)\n",
       "\n",
       "  raw_alpha std.alpha G6(smc) average_r S/N  ase mean   sd\n",
       "      0.89      0.89    0.96       0.2 8.1 0.02  3.6 0.51\n",
       "\n",
       " lower alpha upper     95% confidence boundaries\n",
       "0.85 0.89 0.92 \n",
       "\n",
       " Reliability if an item is dropped:\n",
       "        raw_alpha std.alpha G6(smc) average_r S/N alpha se\n",
       "A_Q3_1       0.88      0.89    0.95      0.20 7.9    0.021\n",
       "A_Q3_2       0.88      0.89    0.95      0.20 7.8    0.021\n",
       "A_Q3_3       0.89      0.89    0.96      0.21 8.3    0.020\n",
       "A_Q3_4       0.88      0.88    0.95      0.19 7.7    0.021\n",
       "A_Q3_5       0.88      0.89    0.96      0.20 8.0    0.020\n",
       "A_Q3_6       0.88      0.89    0.95      0.20 7.9    0.021\n",
       "A_Q3_7       0.88      0.89    0.95      0.20 8.0    0.020\n",
       "A_Q3_8       0.88      0.88    0.95      0.19 7.7    0.021\n",
       "A_Q3_9       0.88      0.89    0.95      0.20 7.8    0.021\n",
       "A_Q3_10      0.88      0.89    0.95      0.20 7.9    0.021\n",
       "A_Q3_30      0.88      0.89    0.95      0.19 7.7    0.021\n",
       "A_Q3_11      0.88      0.89    0.95      0.20 7.8    0.021\n",
       "A_Q3_12      0.88      0.89    0.95      0.20 7.9    0.021\n",
       "A_Q3_13      0.88      0.89    0.95      0.20 7.9    0.021\n",
       "A_Q3_14      0.88      0.89    0.95      0.20 7.9    0.021\n",
       "A_Q3_31      0.89      0.89    0.95      0.20 8.1    0.020\n",
       "A_Q3_15      0.88      0.89    0.95      0.20 7.8    0.021\n",
       "A_Q3_16      0.88      0.89    0.96      0.20 8.0    0.021\n",
       "A_Q3_17      0.88      0.89    0.95      0.20 7.9    0.021\n",
       "A_Q3_18      0.88      0.89    0.95      0.20 7.8    0.021\n",
       "A_Q3_19      0.88      0.88    0.95      0.19 7.6    0.021\n",
       "A_Q3_20      0.88      0.89    0.95      0.19 7.7    0.021\n",
       "A_Q3_21      0.88      0.89    0.95      0.19 7.7    0.021\n",
       "A_Q3_22      0.88      0.88    0.95      0.19 7.6    0.021\n",
       "A_Q3_23      0.88      0.89    0.95      0.20 7.9    0.021\n",
       "A_Q3_24      0.88      0.89    0.95      0.20 8.0    0.021\n",
       "A_Q3_25      0.88      0.89    0.95      0.19 7.7    0.021\n",
       "A_Q3_26      0.89      0.89    0.95      0.20 8.1    0.020\n",
       "A_Q3_27      0.89      0.89    0.95      0.20 8.2    0.020\n",
       "A_Q3_32      0.89      0.89    0.96      0.20 8.1    0.020\n",
       "A_Q3_33      0.88      0.89    0.95      0.20 8.0    0.021\n",
       "A_Q3_28      0.88      0.88    0.95      0.19 7.6    0.021\n",
       "A_Q3_29      0.88      0.89    0.95      0.20 7.9    0.021\n",
       "\n",
       " Item statistics \n",
       "         n raw.r std.r r.cor r.drop mean   sd\n",
       "A_Q3_1  67  0.46  0.45  0.44   0.41  3.1 1.14\n",
       "A_Q3_2  66  0.51  0.51  0.50   0.47  4.1 0.94\n",
       "A_Q3_3  65  0.26  0.24  0.21   0.18  3.0 1.46\n",
       "A_Q3_4  67  0.60  0.60  0.59   0.56  4.2 0.96\n",
       "A_Q3_5  67  0.38  0.37  0.35   0.32  3.2 1.18\n",
       "A_Q3_6  67  0.46  0.45  0.44   0.40  3.0 1.27\n",
       "A_Q3_7  67  0.39  0.40  0.39   0.33  3.9 1.00\n",
       "A_Q3_8  67  0.59  0.60  0.60   0.54  4.0 1.04\n",
       "A_Q3_9  67  0.50  0.52  0.51   0.44  4.0 1.13\n",
       "A_Q3_10 67  0.43  0.43  0.42   0.38  4.3 0.89\n",
       "A_Q3_30 67  0.56  0.58  0.57   0.52  4.0 0.94\n",
       "A_Q3_11 67  0.49  0.50  0.49   0.44  3.4 1.15\n",
       "A_Q3_12 67  0.46  0.46  0.45   0.40  3.3 1.16\n",
       "A_Q3_13 67  0.49  0.48  0.47   0.43  3.0 1.16\n",
       "A_Q3_14 67  0.44  0.44  0.42   0.39  2.8 1.12\n",
       "A_Q3_31 67  0.29  0.30  0.29   0.23  3.9 1.02\n",
       "A_Q3_15 67  0.52  0.54  0.53   0.48  3.6 0.92\n",
       "A_Q3_16 67  0.40  0.41  0.39   0.35  3.9 0.99\n",
       "A_Q3_17 67  0.43  0.44  0.43   0.38  3.6 0.96\n",
       "A_Q3_18 67  0.54  0.54  0.54   0.49  3.2 1.17\n",
       "A_Q3_19 67  0.63  0.63  0.63   0.59  3.7 1.08\n",
       "A_Q3_20 67  0.58  0.58  0.58   0.53  3.6 1.14\n",
       "A_Q3_21 67  0.57  0.59  0.58   0.54  4.4 0.78\n",
       "A_Q3_22 67  0.64  0.63  0.63   0.60  2.7 1.09\n",
       "A_Q3_23 67  0.47  0.46  0.45   0.41  3.6 1.23\n",
       "A_Q3_24 67  0.42  0.40  0.39   0.36  3.6 1.16\n",
       "A_Q3_25 67  0.57  0.57  0.56   0.53  3.4 1.10\n",
       "A_Q3_26 67  0.33  0.32  0.31   0.26  3.7 1.26\n",
       "A_Q3_27 67  0.26  0.24  0.23   0.19  3.0 1.26\n",
       "A_Q3_32 67  0.31  0.32  0.30   0.26  3.9 1.04\n",
       "A_Q3_33 67  0.42  0.42  0.41   0.36  3.6 1.05\n",
       "A_Q3_28 67  0.62  0.62  0.62   0.58  3.9 1.11\n",
       "A_Q3_29 67  0.50  0.49  0.48   0.44  3.7 1.24\n",
       "\n",
       "Non missing response frequency for each item\n",
       "           1    2    3    4    5 miss\n",
       "A_Q3_1  0.09 0.22 0.34 0.22 0.12 0.00\n",
       "A_Q3_2  0.02 0.06 0.14 0.42 0.36 0.01\n",
       "A_Q3_3  0.23 0.18 0.18 0.20 0.20 0.03\n",
       "A_Q3_4  0.01 0.06 0.10 0.34 0.48 0.00\n",
       "A_Q3_5  0.07 0.22 0.25 0.30 0.15 0.00\n",
       "A_Q3_6  0.13 0.27 0.22 0.24 0.13 0.00\n",
       "A_Q3_7  0.00 0.10 0.21 0.33 0.36 0.00\n",
       "A_Q3_8  0.01 0.07 0.22 0.27 0.42 0.00\n",
       "A_Q3_9  0.04 0.07 0.15 0.33 0.40 0.00\n",
       "A_Q3_10 0.00 0.06 0.10 0.30 0.54 0.00\n",
       "A_Q3_30 0.00 0.07 0.19 0.34 0.39 0.00\n",
       "A_Q3_11 0.06 0.16 0.30 0.28 0.19 0.00\n",
       "A_Q3_12 0.10 0.13 0.28 0.36 0.12 0.00\n",
       "A_Q3_13 0.12 0.21 0.30 0.28 0.09 0.00\n",
       "A_Q3_14 0.10 0.34 0.30 0.16 0.09 0.00\n",
       "A_Q3_31 0.03 0.06 0.21 0.39 0.31 0.00\n",
       "A_Q3_15 0.01 0.10 0.31 0.42 0.15 0.00\n",
       "A_Q3_16 0.03 0.06 0.21 0.43 0.27 0.00\n",
       "A_Q3_17 0.04 0.06 0.30 0.46 0.13 0.00\n",
       "A_Q3_18 0.07 0.22 0.27 0.28 0.15 0.00\n",
       "A_Q3_19 0.03 0.12 0.22 0.36 0.27 0.00\n",
       "A_Q3_20 0.04 0.15 0.22 0.34 0.24 0.00\n",
       "A_Q3_21 0.00 0.01 0.13 0.31 0.54 0.00\n",
       "A_Q3_22 0.09 0.37 0.34 0.09 0.10 0.00\n",
       "A_Q3_23 0.06 0.16 0.19 0.30 0.28 0.00\n",
       "A_Q3_24 0.04 0.15 0.24 0.31 0.25 0.00\n",
       "A_Q3_25 0.04 0.16 0.33 0.28 0.18 0.00\n",
       "A_Q3_26 0.09 0.10 0.12 0.37 0.31 0.00\n",
       "A_Q3_27 0.13 0.25 0.21 0.28 0.12 0.00\n",
       "A_Q3_32 0.03 0.04 0.27 0.30 0.36 0.00\n",
       "A_Q3_33 0.03 0.13 0.25 0.39 0.19 0.00\n",
       "A_Q3_28 0.03 0.09 0.24 0.27 0.37 0.00\n",
       "A_Q3_29 0.04 0.16 0.21 0.24 0.34 0.00"
      ]
     },
     "metadata": {},
     "output_type": "display_data"
    }
   ],
   "source": [
    "alpha(data.frame(apply(MyData[,vec_AQ3],2,as.numeric)),check.keys = TRUE)"
   ]
  },
  {
   "cell_type": "markdown",
   "metadata": {},
   "source": [
    "#### GRM MR1"
   ]
  },
  {
   "cell_type": "code",
   "execution_count": 139,
   "metadata": {},
   "outputs": [],
   "source": [
    "GRM_AQ3_MR1 <- grm_full(MyData,FA_AQ3,'MR1',0.3)"
   ]
  },
  {
   "cell_type": "code",
   "execution_count": 140,
   "metadata": {},
   "outputs": [
    {
     "data": {
      "text/plain": [
       "\n",
       "Reliability analysis   \n",
       "Call: alpha(x = get_datagrm(df, F, f, thr, type = \"num\"))\n",
       "\n",
       "  raw_alpha std.alpha G6(smc) average_r S/N   ase mean   sd\n",
       "      0.85      0.85    0.86      0.41 5.6 0.027  3.6 0.73\n",
       "\n",
       " lower alpha upper     95% confidence boundaries\n",
       "0.8 0.85 0.9 \n",
       "\n",
       " Reliability if an item is dropped:\n",
       "        raw_alpha std.alpha G6(smc) average_r S/N alpha se\n",
       "A_Q3_4       0.84      0.84    0.84      0.43 5.2    0.028\n",
       "A_Q3_16      0.86      0.86    0.86      0.46 5.9    0.026\n",
       "A_Q3_18      0.82      0.82    0.82      0.39 4.5    0.032\n",
       "A_Q3_19      0.82      0.81    0.82      0.38 4.4    0.033\n",
       "A_Q3_20      0.82      0.82    0.82      0.39 4.5    0.032\n",
       "A_Q3_21      0.84      0.84    0.84      0.43 5.3    0.029\n",
       "A_Q3_22      0.83      0.83    0.82      0.40 4.7    0.031\n",
       "A_Q3_25      0.83      0.83    0.83      0.41 4.9    0.030\n",
       "\n",
       " Item statistics \n",
       "         n raw.r std.r r.cor r.drop mean   sd\n",
       "A_Q3_4  67  0.63  0.64  0.55   0.51  4.2 0.96\n",
       "A_Q3_16 67  0.52  0.52  0.41   0.38  3.9 0.99\n",
       "A_Q3_18 67  0.79  0.78  0.75   0.69  3.2 1.17\n",
       "A_Q3_19 67  0.81  0.80  0.78   0.72  3.7 1.08\n",
       "A_Q3_20 67  0.78  0.77  0.74   0.68  3.6 1.14\n",
       "A_Q3_21 67  0.60  0.63  0.55   0.51  4.4 0.78\n",
       "A_Q3_22 67  0.74  0.73  0.70   0.64  2.7 1.09\n",
       "A_Q3_25 67  0.71  0.71  0.66   0.60  3.4 1.10\n",
       "\n",
       "Non missing response frequency for each item\n",
       "           1    2    3    4    5 miss\n",
       "A_Q3_4  0.01 0.06 0.10 0.34 0.48    0\n",
       "A_Q3_16 0.03 0.06 0.21 0.43 0.27    0\n",
       "A_Q3_18 0.07 0.22 0.27 0.28 0.15    0\n",
       "A_Q3_19 0.03 0.12 0.22 0.36 0.27    0\n",
       "A_Q3_20 0.04 0.15 0.22 0.34 0.24    0\n",
       "A_Q3_21 0.00 0.01 0.13 0.31 0.54    0\n",
       "A_Q3_22 0.09 0.37 0.34 0.09 0.10    0\n",
       "A_Q3_25 0.04 0.16 0.33 0.28 0.18    0"
      ]
     },
     "metadata": {},
     "output_type": "display_data"
    }
   ],
   "source": [
    "GRM_AQ3_MR1$alpha"
   ]
  },
  {
   "cell_type": "code",
   "execution_count": 141,
   "metadata": {},
   "outputs": [
    {
     "data": {
      "text/plain": [
       "\n",
       "        A_Q3_4 A_Q3_16 A_Q3_18 A_Q3_19 A_Q3_20 A_Q3_21 A_Q3_22 A_Q3_25\n",
       "A_Q3_4   *****  0.288   0.356   0.361   0.380   0.230   0.250   0.325 \n",
       "A_Q3_16  0.007  *****   0.206   0.302   0.297   0.047   0.154   0.205 \n",
       "A_Q3_18  0.001  0.045   *****   0.508   0.492   0.389   0.553   0.317 \n",
       "A_Q3_19  0.001  0.004  <0.001   *****   0.547   0.414   0.446   0.464 \n",
       "A_Q3_20 <0.001  0.004  <0.001  <0.001   *****   0.442   0.397   0.325 \n",
       "A_Q3_21  0.038  0.669  <0.001  <0.001  <0.001   *****   0.293   0.317 \n",
       "A_Q3_22  0.019  0.142  <0.001  <0.001  <0.001   0.007   *****   0.504 \n",
       "A_Q3_25  0.002  0.049   0.002  <0.001   0.001   0.003  <0.001   ***** \n",
       "\n",
       "upper diagonal part contains correlation coefficient estimates \n",
       "lower diagonal part contains corresponding p-values\n"
      ]
     },
     "metadata": {},
     "output_type": "display_data"
    }
   ],
   "source": [
    "GRM_AQ3_MR1$rcor"
   ]
  },
  {
   "cell_type": "code",
   "execution_count": 142,
   "metadata": {},
   "outputs": [
    {
     "data": {
      "text/plain": [
       "\n",
       " Likelihood Ratio Table\n",
       "                 AIC     BIC log.Lik   LRT df p.value\n",
       "results$fit1 1343.82 1414.37 -639.91                 \n",
       "results$fit2 1341.49 1427.47 -631.75 16.33  7   0.022\n",
       "\n"
      ]
     },
     "metadata": {},
     "output_type": "display_data"
    }
   ],
   "source": [
    "GRM_AQ3_MR1$anova"
   ]
  },
  {
   "cell_type": "markdown",
   "metadata": {},
   "source": [
    "Vergleich von Modell 1 und 2 (fit1, fit2): mit \"constrained\" true/false (constrained = assumes equal discrimination parameters across items)\n",
    "\n",
    "Modell 2 passt besser (p.value unter 0.05), daher wird im Weiteren damit gearbeitet (! nahe am P.value-Grenzwert)\n",
    "\n",
    "(Wenn p.value über 0.05 liegt, sollten beide Modelle getestet werden.)"
   ]
  },
  {
   "cell_type": "markdown",
   "metadata": {},
   "source": [
    "#### Grafiken zur Visualisierung"
   ]
  },
  {
   "cell_type": "code",
   "execution_count": 143,
   "metadata": {},
   "outputs": [
    {
     "data": {
      "image/png": "[encoded data removed]",
      "text/plain": [
       "Plot with title \"Item Response Category Characteristic Curves \n",
       "Item: A_Q3_25\""
      ]
     },
     "metadata": {},
     "output_type": "display_data"
    }
   ],
   "source": [
    "par(mfrow = c(4, 2))\n",
    "plot(GRM_AQ3_MR1$fit2, lwd = 1, cex = 0.7, legend = TRUE, cx = \"left\",xlab = \"Latent Trait\", cex.main = 0.8, cex.lab = 0.7, cex.axis = 1)"
   ]
  },
  {
   "cell_type": "code",
   "execution_count": 144,
   "metadata": {},
   "outputs": [
    {
     "data": {
      "image/png": "[encoded data removed]",
      "text/plain": [
       "Plot with title \"Item Response Category Characteristic Curves - Category: 1\""
      ]
     },
     "metadata": {},
     "output_type": "display_data"
    }
   ],
   "source": [
    "plot(GRM_AQ3_MR1$fit2, category = 1, lwd = 2, cex = 1, legend = TRUE, cx = -0.5,\n",
    "     cy = 0.85, xlab = \"Latent Trait\", cex.main = 1, cex.lab = 1,\n",
    "     cex.axis = 1)"
   ]
  },
  {
   "cell_type": "code",
   "execution_count": 145,
   "metadata": {},
   "outputs": [
    {
     "data": {
      "text/plain": [
       "\n",
       "Call:\n",
       "grm(data = get_datagrm(df, F, f, thr), constrained = FALSE)\n",
       "\n",
       "Total Information = 43.01\n",
       "Information in (-4, 4) = 41.25 (95.91%)\n",
       "Based on all the items\n"
      ]
     },
     "metadata": {},
     "output_type": "display_data"
    }
   ],
   "source": [
    "GRM_AQ3_MR1$info2"
   ]
  },
  {
   "cell_type": "code",
   "execution_count": 146,
   "metadata": {},
   "outputs": [
    {
     "data": {
      "text/plain": [
       "\n",
       "Call:\n",
       "grm(data = get_datagrm(df, F, f, thr), constrained = FALSE)\n",
       "\n",
       "Total Information = 16.44\n",
       "Information in (-4, 4) = 16.41 (99.8%)\n",
       "Based on items 3, 4\n"
      ]
     },
     "metadata": {},
     "output_type": "display_data"
    }
   ],
   "source": [
    "information(GRM_AQ3_MR1$fit2, c(-4, 4), items = c(3:4))"
   ]
  },
  {
   "cell_type": "code",
   "execution_count": 147,
   "metadata": {},
   "outputs": [
    {
     "data": {
      "text/html": [
       "0.381539176935596"
      ],
      "text/latex": [
       "0.381539176935596"
      ],
      "text/markdown": [
       "0.381539176935596"
      ],
      "text/plain": [
       "[1] 0.3815392"
      ]
     },
     "metadata": {},
     "output_type": "display_data"
    }
   ],
   "source": [
    "16.41/43.01"
   ]
  },
  {
   "cell_type": "code",
   "execution_count": 148,
   "metadata": {},
   "outputs": [
    {
     "data": {
      "text/plain": [
       "\n",
       "Call:\n",
       "grm(data = get_datagrm(df, F, f, thr), constrained = FALSE)\n",
       "\n",
       "Total Information = 5.63\n",
       "Information in (-4, 4) = 4.47 (79.28%)\n",
       "Based on items 1, 2\n"
      ]
     },
     "metadata": {},
     "output_type": "display_data"
    }
   ],
   "source": [
    "information(GRM_AQ3_MR1$fit2, c(-4, 4), items = c(1:2))"
   ]
  },
  {
   "cell_type": "code",
   "execution_count": 149,
   "metadata": {},
   "outputs": [
    {
     "data": {
      "text/html": [
       "0.130899790746338"
      ],
      "text/latex": [
       "0.130899790746338"
      ],
      "text/markdown": [
       "0.130899790746338"
      ],
      "text/plain": [
       "[1] 0.1308998"
      ]
     },
     "metadata": {},
     "output_type": "display_data"
    }
   ],
   "source": [
    "5.63/43.01"
   ]
  },
  {
   "cell_type": "markdown",
   "metadata": {},
   "source": [
    "Items A_Q3_4 und A_Q3_16 tragen nur wenig zum Informationsgehalt des Faktors bei."
   ]
  },
  {
   "cell_type": "markdown",
   "metadata": {},
   "source": [
    "#### GRM MR2"
   ]
  },
  {
   "cell_type": "code",
   "execution_count": 150,
   "metadata": {},
   "outputs": [],
   "source": [
    "GRM_AQ3_MR2 <- grm_full(MyData,FA_AQ3,'MR2',0.6)"
   ]
  },
  {
   "cell_type": "code",
   "execution_count": 151,
   "metadata": {},
   "outputs": [
    {
     "data": {
      "text/plain": [
       "\n",
       "Reliability analysis   \n",
       "Call: alpha(x = get_datagrm(df, F, f, thr, type = \"num\"))\n",
       "\n",
       "  raw_alpha std.alpha G6(smc) average_r S/N   ase mean   sd\n",
       "      0.87      0.87    0.82      0.69 6.5 0.028    4 0.94\n",
       "\n",
       " lower alpha upper     95% confidence boundaries\n",
       "0.81 0.87 0.92 \n",
       "\n",
       " Reliability if an item is dropped:\n",
       "       raw_alpha std.alpha G6(smc) average_r S/N alpha se\n",
       "A_Q3_7      0.85      0.85    0.75      0.75 5.9    0.036\n",
       "A_Q3_8      0.80      0.80    0.67      0.67 4.1    0.048\n",
       "A_Q3_9      0.78      0.78    0.64      0.64 3.5    0.054\n",
       "\n",
       " Item statistics \n",
       "        n raw.r std.r r.cor r.drop mean  sd\n",
       "A_Q3_7 67  0.86  0.87  0.75   0.70  3.9 1.0\n",
       "A_Q3_8 67  0.89  0.89  0.82   0.76  4.0 1.0\n",
       "A_Q3_9 67  0.91  0.91  0.84   0.78  4.0 1.1\n",
       "\n",
       "Non missing response frequency for each item\n",
       "          1    2    3    4    5 miss\n",
       "A_Q3_7 0.00 0.10 0.21 0.33 0.36    0\n",
       "A_Q3_8 0.01 0.07 0.22 0.27 0.42    0\n",
       "A_Q3_9 0.04 0.07 0.15 0.33 0.40    0"
      ]
     },
     "metadata": {},
     "output_type": "display_data"
    }
   ],
   "source": [
    "GRM_AQ3_MR2$alpha"
   ]
  },
  {
   "cell_type": "code",
   "execution_count": 152,
   "metadata": {},
   "outputs": [
    {
     "data": {
      "text/plain": [
       "\n",
       " Likelihood Ratio Table\n",
       "                AIC    BIC log.Lik  LRT df p.value\n",
       "results$fit1 459.71 486.17 -217.86                \n",
       "results$fit2 461.78 492.64 -216.89 1.94  2   0.379\n",
       "\n"
      ]
     },
     "metadata": {},
     "output_type": "display_data"
    }
   ],
   "source": [
    "GRM_AQ3_MR2$anova"
   ]
  },
  {
   "cell_type": "markdown",
   "metadata": {},
   "source": [
    "Die folgende Grafik zeigt bei der Anwendung beider Modelle ein klares Bild -> klare Struktur erkennbar."
   ]
  },
  {
   "cell_type": "code",
   "execution_count": 153,
   "metadata": {},
   "outputs": [
    {
     "data": {
      "image/png": "[encoded data removed]",
      "text/plain": [
       "Plot with title \"Item Response Category Characteristic Curves - Category: 1\""
      ]
     },
     "metadata": {},
     "output_type": "display_data"
    }
   ],
   "source": [
    "plot(GRM_AQ3_MR2$fit1, category = 1, lwd = 2, cex = 1, legend = TRUE, cx = -0.5,\n",
    "     cy = 0.85, xlab = \"Latent Trait\", cex.main = 1, cex.lab = 1,\n",
    "     cex.axis = 1)"
   ]
  },
  {
   "cell_type": "markdown",
   "metadata": {},
   "source": [
    "#### GRM MR3"
   ]
  },
  {
   "cell_type": "code",
   "execution_count": 154,
   "metadata": {},
   "outputs": [],
   "source": [
    "GRM_AQ3_MR3 <- grm_full(MyData,FA_AQ3,'MR3',0.3)"
   ]
  },
  {
   "cell_type": "code",
   "execution_count": 155,
   "metadata": {},
   "outputs": [
    {
     "data": {
      "text/plain": [
       "\n",
       "Reliability analysis   \n",
       "Call: alpha(x = get_datagrm(df, F, f, thr, type = \"num\"))\n",
       "\n",
       "  raw_alpha std.alpha G6(smc) average_r S/N   ase mean   sd\n",
       "      0.76      0.76    0.74      0.39 3.1 0.046  3.4 0.79\n",
       "\n",
       " lower alpha upper     95% confidence boundaries\n",
       "0.67 0.76 0.85 \n",
       "\n",
       " Reliability if an item is dropped:\n",
       "        raw_alpha std.alpha G6(smc) average_r S/N alpha se\n",
       "A_Q3_1       0.74      0.74    0.71      0.42 2.9    0.051\n",
       "A_Q3_10      0.74      0.74    0.70      0.41 2.8    0.053\n",
       "A_Q3_11      0.68      0.68    0.63      0.34 2.1    0.063\n",
       "A_Q3_12      0.65      0.66    0.61      0.33 1.9    0.069\n",
       "A_Q3_13      0.75      0.75    0.71      0.43 3.0    0.048\n",
       "\n",
       " Item statistics \n",
       "         n raw.r std.r r.cor r.drop mean   sd\n",
       "A_Q3_1  67  0.67  0.66  0.51   0.45  3.1 1.14\n",
       "A_Q3_10 67  0.64  0.67  0.54   0.47  4.3 0.89\n",
       "A_Q3_11 67  0.79  0.78  0.74   0.62  3.4 1.15\n",
       "A_Q3_12 67  0.82  0.81  0.78   0.68  3.3 1.16\n",
       "A_Q3_13 67  0.65  0.63  0.49   0.42  3.0 1.16\n",
       "\n",
       "Non missing response frequency for each item\n",
       "           1    2    3    4    5 miss\n",
       "A_Q3_1  0.09 0.22 0.34 0.22 0.12    0\n",
       "A_Q3_10 0.00 0.06 0.10 0.30 0.54    0\n",
       "A_Q3_11 0.06 0.16 0.30 0.28 0.19    0\n",
       "A_Q3_12 0.10 0.13 0.28 0.36 0.12    0\n",
       "A_Q3_13 0.12 0.21 0.30 0.28 0.09    0"
      ]
     },
     "metadata": {},
     "output_type": "display_data"
    }
   ],
   "source": [
    "GRM_AQ3_MR3$alpha"
   ]
  },
  {
   "cell_type": "code",
   "execution_count": 156,
   "metadata": {},
   "outputs": [
    {
     "data": {
      "text/plain": [
       "\n",
       " Likelihood Ratio Table\n",
       "                AIC    BIC log.Lik   LRT df p.value\n",
       "results$fit1 927.84 971.93 -443.92                 \n",
       "results$fit2 923.60 976.51 -437.80 12.24  4   0.016\n",
       "\n"
      ]
     },
     "metadata": {},
     "output_type": "display_data"
    }
   ],
   "source": [
    "GRM_AQ3_MR3$anova"
   ]
  },
  {
   "cell_type": "code",
   "execution_count": 157,
   "metadata": {},
   "outputs": [
    {
     "data": {
      "image/png": "[encoded data removed]",
      "text/plain": [
       "Plot with title \"Item Response Category Characteristic Curves - Category: 1\""
      ]
     },
     "metadata": {},
     "output_type": "display_data"
    }
   ],
   "source": [
    "plot(GRM_AQ3_MR3$fit2, category = 1, lwd = 2, cex = 1, legend = TRUE, cx = -0.5,\n",
    "     cy = 0.85, xlab = \"Latent Trait\", cex.main = 1, cex.lab = 1,\n",
    "     cex.axis = 1)"
   ]
  },
  {
   "cell_type": "code",
   "execution_count": 158,
   "metadata": {},
   "outputs": [
    {
     "data": {
      "text/plain": [
       "\n",
       "Call:\n",
       "grm(data = get_datagrm(df, F, f, thr), constrained = FALSE)\n",
       "\n",
       "Total Information = 24.45\n",
       "Information in (-4, 4) = 23.48 (96.03%)\n",
       "Based on all the items\n"
      ]
     },
     "metadata": {},
     "output_type": "display_data"
    }
   ],
   "source": [
    "GRM_AQ3_MR3$info2"
   ]
  },
  {
   "cell_type": "code",
   "execution_count": 159,
   "metadata": {},
   "outputs": [
    {
     "data": {
      "text/plain": [
       "\n",
       "Call:\n",
       "grm(data = get_datagrm(df, F, f, thr), constrained = FALSE)\n",
       "\n",
       "Total Information = 7.63\n",
       "Information in (-4, 4) = 6.68 (87.53%)\n",
       "Based on items 1, 2, 5\n"
      ]
     },
     "metadata": {},
     "output_type": "display_data"
    }
   ],
   "source": [
    "information(GRM_AQ3_MR3$fit2, c(-4, 4), items = c(1:2,5))"
   ]
  },
  {
   "cell_type": "code",
   "execution_count": 160,
   "metadata": {},
   "outputs": [
    {
     "data": {
      "text/plain": [
       "\n",
       "Call:\n",
       "grm(data = get_datagrm(df, F, f, thr), constrained = FALSE)\n",
       "\n",
       "Total Information = 2.21\n",
       "Information in (-4, 4) = 1.92 (86.88%)\n",
       "Based on items 2\n"
      ]
     },
     "metadata": {},
     "output_type": "display_data"
    }
   ],
   "source": [
    "information(GRM_AQ3_MR3$fit2, c(-4, 4), items = 2)"
   ]
  },
  {
   "cell_type": "code",
   "execution_count": 161,
   "metadata": {},
   "outputs": [
    {
     "data": {
      "text/html": [
       "0.0903885480572597"
      ],
      "text/latex": [
       "0.0903885480572597"
      ],
      "text/markdown": [
       "0.0903885480572597"
      ],
      "text/plain": [
       "[1] 0.09038855"
      ]
     },
     "metadata": {},
     "output_type": "display_data"
    }
   ],
   "source": [
    "2.21/24.45"
   ]
  },
  {
   "cell_type": "markdown",
   "metadata": {},
   "source": [
    "A_Q3_1, A_Q3_10 und A_Q3_13 tragen 31% gesamt, einzeln jeweils ca. 10% zum Informationsgehalt bei."
   ]
  },
  {
   "cell_type": "markdown",
   "metadata": {},
   "source": [
    "#### GRM MR4"
   ]
  },
  {
   "cell_type": "code",
   "execution_count": 162,
   "metadata": {},
   "outputs": [],
   "source": [
    "GRM_AQ3_MR4 <- grm_full(MyData,FA_AQ3,'MR4',0.3)"
   ]
  },
  {
   "cell_type": "markdown",
   "metadata": {},
   "source": [
    "Die Faktorenanalyse schlägt 2 Items für diesen Faktor vor: A_Q3_26 und A_Q3_27; GRM wurde mit Grenzwert 0,3 durchgeführt, da 2 Items eine zu geringe Anzahl für diese Art der Analyse sind. -> Die 2 unpassenden Items können in weiterer Folge unberücksichtigt bleiben. \n",
    "\n",
    "Analoges Vorgehen bei MR5!"
   ]
  },
  {
   "cell_type": "code",
   "execution_count": 163,
   "metadata": {},
   "outputs": [
    {
     "data": {
      "text/plain": [
       "\n",
       "Reliability analysis   \n",
       "Call: alpha(x = get_datagrm(df, F, f, thr, type = \"num\"))\n",
       "\n",
       "  raw_alpha std.alpha G6(smc) average_r S/N   ase mean  sd\n",
       "      0.68      0.69    0.66      0.35 2.2 0.062  3.7 0.8\n",
       "\n",
       " lower alpha upper     95% confidence boundaries\n",
       "0.56 0.68 0.8 \n",
       "\n",
       " Reliability if an item is dropped:\n",
       "        raw_alpha std.alpha G6(smc) average_r S/N alpha se\n",
       "A_Q3_2       0.66      0.65    0.59      0.38 1.9    0.070\n",
       "A_Q3_4       0.61      0.61    0.53      0.34 1.5    0.078\n",
       "A_Q3_26      0.55      0.57    0.49      0.31 1.3    0.097\n",
       "A_Q3_27      0.64      0.65    0.57      0.39 1.9    0.076\n",
       "\n",
       " Item statistics \n",
       "         n raw.r std.r r.cor r.drop mean   sd\n",
       "A_Q3_2  66  0.64  0.69  0.52   0.40  4.1 0.94\n",
       "A_Q3_4  67  0.69  0.73  0.61   0.48  4.2 0.96\n",
       "A_Q3_26 67  0.80  0.77  0.67   0.56  3.7 1.26\n",
       "A_Q3_27 67  0.73  0.68  0.53   0.44  3.0 1.26\n",
       "\n",
       "Non missing response frequency for each item\n",
       "           1    2    3    4    5 miss\n",
       "A_Q3_2  0.02 0.06 0.14 0.42 0.36 0.01\n",
       "A_Q3_4  0.01 0.06 0.10 0.34 0.48 0.00\n",
       "A_Q3_26 0.09 0.10 0.12 0.37 0.31 0.00\n",
       "A_Q3_27 0.13 0.25 0.21 0.28 0.12 0.00"
      ]
     },
     "metadata": {},
     "output_type": "display_data"
    }
   ],
   "source": [
    "GRM_AQ3_MR4$alpha"
   ]
  },
  {
   "cell_type": "code",
   "execution_count": 164,
   "metadata": {},
   "outputs": [
    {
     "data": {
      "text/plain": [
       "\n",
       " Likelihood Ratio Table\n",
       "                AIC    BIC log.Lik LRT df p.value\n",
       "results$fit1 717.71 755.19 -341.85               \n",
       "results$fit2 722.31 766.41 -341.16 1.4  3   0.707\n",
       "\n"
      ]
     },
     "metadata": {},
     "output_type": "display_data"
    }
   ],
   "source": [
    "GRM_AQ3_MR4$anova"
   ]
  },
  {
   "cell_type": "code",
   "execution_count": 165,
   "metadata": {},
   "outputs": [
    {
     "data": {
      "image/png": "[encoded data removed]",
      "text/plain": [
       "Plot with title \"Item Response Category Characteristic Curves - Category: 1\""
      ]
     },
     "metadata": {},
     "output_type": "display_data"
    }
   ],
   "source": [
    "plot(GRM_AQ3_MR4$fit2, category = 1, lwd = 2, cex = 1, legend = TRUE, cx = -0.5,\n",
    "     cy = 0.85, xlab = \"Latent Trait\", cex.main = 1, cex.lab = 1,\n",
    "     cex.axis = 1)"
   ]
  },
  {
   "cell_type": "code",
   "execution_count": 166,
   "metadata": {},
   "outputs": [
    {
     "data": {
      "text/plain": [
       "\n",
       "Call:\n",
       "grm(data = get_datagrm(df, F, f, thr), constrained = FALSE)\n",
       "\n",
       "Total Information = 16.39\n",
       "Information in (-4, 4) = 15.09 (92.09%)\n",
       "Based on all the items\n"
      ]
     },
     "metadata": {},
     "output_type": "display_data"
    }
   ],
   "source": [
    "GRM_AQ3_MR4$info2"
   ]
  },
  {
   "cell_type": "code",
   "execution_count": 167,
   "metadata": {},
   "outputs": [
    {
     "data": {
      "text/plain": [
       "\n",
       "Call:\n",
       "grm(data = get_datagrm(df, F, f, thr), constrained = FALSE)\n",
       "\n",
       "Total Information = 3.47\n",
       "Information in (-4, 4) = 3.34 (96.16%)\n",
       "Based on items 4\n"
      ]
     },
     "metadata": {},
     "output_type": "display_data"
    }
   ],
   "source": [
    "information(GRM_AQ3_MR4$fit2, c(-4, 4), items = 4)"
   ]
  },
  {
   "cell_type": "code",
   "execution_count": 168,
   "metadata": {},
   "outputs": [
    {
     "data": {
      "text/html": [
       "0.199511897498475"
      ],
      "text/latex": [
       "0.199511897498475"
      ],
      "text/markdown": [
       "0.199511897498475"
      ],
      "text/plain": [
       "[1] 0.1995119"
      ]
     },
     "metadata": {},
     "output_type": "display_data"
    }
   ],
   "source": [
    "3.27/16.39"
   ]
  },
  {
   "cell_type": "markdown",
   "metadata": {},
   "source": [
    "#### GRM MR5"
   ]
  },
  {
   "cell_type": "code",
   "execution_count": 169,
   "metadata": {},
   "outputs": [],
   "source": [
    "GRM_AQ3_MR5 <- grm_full(MyData,FA_AQ3,'MR5',0.3)"
   ]
  },
  {
   "cell_type": "code",
   "execution_count": 170,
   "metadata": {},
   "outputs": [
    {
     "data": {
      "text/plain": [
       "\n",
       "Reliability analysis   \n",
       "Call: alpha(x = get_datagrm(df, F, f, thr, type = \"num\"))\n",
       "\n",
       "  raw_alpha std.alpha G6(smc) average_r S/N   ase mean  sd\n",
       "       0.7      0.71    0.69      0.38 2.5 0.062  3.2 0.9\n",
       "\n",
       " lower alpha upper     95% confidence boundaries\n",
       "0.57 0.7 0.82 \n",
       "\n",
       " Reliability if an item is dropped:\n",
       "        raw_alpha std.alpha G6(smc) average_r S/N alpha se\n",
       "A_Q3_3       0.76      0.76    0.71      0.51 3.1    0.050\n",
       "A_Q3_22      0.67      0.69    0.66      0.43 2.2    0.074\n",
       "A_Q3_23      0.53      0.55    0.46      0.29 1.2    0.099\n",
       "A_Q3_24      0.54      0.56    0.47      0.29 1.2    0.098\n",
       "\n",
       " Item statistics \n",
       "         n raw.r std.r r.cor r.drop mean  sd\n",
       "A_Q3_3  65  0.65  0.60  0.35   0.30  3.0 1.5\n",
       "A_Q3_22 67  0.65  0.68  0.49   0.41  2.7 1.1\n",
       "A_Q3_23 67  0.82  0.83  0.80   0.63  3.6 1.2\n",
       "A_Q3_24 67  0.81  0.82  0.79   0.63  3.6 1.2\n",
       "\n",
       "Non missing response frequency for each item\n",
       "           1    2    3    4    5 miss\n",
       "A_Q3_3  0.23 0.18 0.18 0.20 0.20 0.03\n",
       "A_Q3_22 0.09 0.37 0.34 0.09 0.10 0.00\n",
       "A_Q3_23 0.06 0.16 0.19 0.30 0.28 0.00\n",
       "A_Q3_24 0.04 0.15 0.24 0.31 0.25 0.00"
      ]
     },
     "metadata": {},
     "output_type": "display_data"
    }
   ],
   "source": [
    "GRM_AQ3_MR5$alpha"
   ]
  },
  {
   "cell_type": "code",
   "execution_count": 171,
   "metadata": {},
   "outputs": [
    {
     "data": {
      "text/plain": [
       "\n",
       " Likelihood Ratio Table\n",
       "                AIC    BIC log.Lik   LRT df p.value\n",
       "results$fit1 781.54 819.02 -373.77                 \n",
       "results$fit2 760.51 804.60 -360.25 27.03  3  <0.001\n",
       "\n"
      ]
     },
     "metadata": {},
     "output_type": "display_data"
    }
   ],
   "source": [
    "GRM_AQ3_MR5$anova"
   ]
  },
  {
   "cell_type": "code",
   "execution_count": 172,
   "metadata": {},
   "outputs": [
    {
     "data": {
      "image/png": "[encoded data removed]",
      "text/plain": [
       "Plot with title \"Item Response Category Characteristic Curves - Category: 1\""
      ]
     },
     "metadata": {},
     "output_type": "display_data"
    }
   ],
   "source": [
    "plot(GRM_AQ3_MR5$fit2, category = 1, lwd = 2, cex = 1, legend = TRUE, cx = -0.5,\n",
    "     cy = 0.85, xlab = \"Latent Trait\", cex.main = 1, cex.lab = 1,\n",
    "     cex.axis = 1)"
   ]
  },
  {
   "cell_type": "markdown",
   "metadata": {},
   "source": [
    "#### GRM MR6"
   ]
  },
  {
   "cell_type": "code",
   "execution_count": 173,
   "metadata": {},
   "outputs": [],
   "source": [
    "GRM_AQ3_MR6 <- grm_full(MyData,FA_AQ3,'MR6',0.3)"
   ]
  },
  {
   "cell_type": "code",
   "execution_count": 174,
   "metadata": {},
   "outputs": [
    {
     "data": {
      "text/plain": [
       "\n",
       "Reliability analysis   \n",
       "Call: alpha(x = get_datagrm(df, F, f, thr, type = \"num\"))\n",
       "\n",
       "  raw_alpha std.alpha G6(smc) average_r S/N   ase mean   sd\n",
       "      0.71      0.71    0.67      0.38 2.5 0.056  3.4 0.74\n",
       "\n",
       " lower alpha upper     95% confidence boundaries\n",
       "0.6 0.71 0.82 \n",
       "\n",
       " Reliability if an item is dropped:\n",
       "        raw_alpha std.alpha G6(smc) average_r S/N alpha se\n",
       "A_Q3_13      0.61      0.63    0.53      0.36 1.7    0.081\n",
       "A_Q3_14      0.60      0.62    0.52      0.35 1.6    0.084\n",
       "A_Q3_17      0.67      0.67    0.60      0.40 2.0    0.063\n",
       "A_Q3_21      0.69      0.68    0.61      0.42 2.2    0.064\n",
       "\n",
       " Item statistics \n",
       "         n raw.r std.r r.cor r.drop mean   sd\n",
       "A_Q3_13 67  0.80  0.76  0.66   0.56  3.0 1.16\n",
       "A_Q3_14 67  0.80  0.76  0.67   0.57  2.8 1.12\n",
       "A_Q3_17 67  0.69  0.71  0.55   0.45  3.6 0.96\n",
       "A_Q3_21 67  0.63  0.69  0.52   0.43  4.4 0.78\n",
       "\n",
       "Non missing response frequency for each item\n",
       "           1    2    3    4    5 miss\n",
       "A_Q3_13 0.12 0.21 0.30 0.28 0.09    0\n",
       "A_Q3_14 0.10 0.34 0.30 0.16 0.09    0\n",
       "A_Q3_17 0.04 0.06 0.30 0.46 0.13    0\n",
       "A_Q3_21 0.00 0.01 0.13 0.31 0.54    0"
      ]
     },
     "metadata": {},
     "output_type": "display_data"
    }
   ],
   "source": [
    "GRM_AQ3_MR6$alpha"
   ]
  },
  {
   "cell_type": "code",
   "execution_count": 175,
   "metadata": {},
   "outputs": [
    {
     "data": {
      "text/plain": [
       "\n",
       " Likelihood Ratio Table\n",
       "                AIC    BIC log.Lik  LRT df p.value\n",
       "results$fit1 698.62 733.90 -333.31                \n",
       "results$fit2 701.14 743.03 -331.57 3.48  3   0.323\n",
       "\n"
      ]
     },
     "metadata": {},
     "output_type": "display_data"
    }
   ],
   "source": [
    "GRM_AQ3_MR6$anova"
   ]
  },
  {
   "cell_type": "code",
   "execution_count": 176,
   "metadata": {},
   "outputs": [
    {
     "data": {
      "image/png": "[encoded data removed]",
      "text/plain": [
       "Plot with title \"Item Response Category Characteristic Curves - Category: 1\""
      ]
     },
     "metadata": {},
     "output_type": "display_data"
    }
   ],
   "source": [
    "plot(GRM_AQ3_MR6$fit1, category = 1, lwd = 2, cex = 1, legend = TRUE, cx = -0.5,\n",
    "     cy = 0.85, xlab = \"Latent Trait\", cex.main = 1, cex.lab = 1,\n",
    "     cex.axis = 1)"
   ]
  },
  {
   "cell_type": "code",
   "execution_count": 177,
   "metadata": {},
   "outputs": [
    {
     "data": {
      "image/png": "[encoded data removed]",
      "text/plain": [
       "Plot with title \"Item Response Category Characteristic Curves - Category: 1\""
      ]
     },
     "metadata": {},
     "output_type": "display_data"
    }
   ],
   "source": [
    "plot(GRM_AQ3_MR6$fit2, category = 1, lwd = 2, cex = 1, legend = TRUE, cx = -0.5,\n",
    "     cy = 0.85, xlab = \"Latent Trait\", cex.main = 1, cex.lab = 1,\n",
    "     cex.axis = 1)"
   ]
  },
  {
   "cell_type": "code",
   "execution_count": 178,
   "metadata": {},
   "outputs": [
    {
     "data": {
      "text/plain": [
       "\n",
       "Call:\n",
       "grm(data = get_datagrm(df, F, f, thr), constrained = TRUE)\n",
       "\n",
       "Total Information = 17.42\n",
       "Information in (-4, 4) = 16.63 (95.49%)\n",
       "Based on all the items\n"
      ]
     },
     "metadata": {},
     "output_type": "display_data"
    }
   ],
   "source": [
    "GRM_AQ3_MR6$info1"
   ]
  },
  {
   "cell_type": "code",
   "execution_count": 179,
   "metadata": {},
   "outputs": [
    {
     "data": {
      "text/plain": [
       "\n",
       "Call:\n",
       "grm(data = get_datagrm(df, F, f, thr), constrained = TRUE)\n",
       "\n",
       "Total Information = 3.88\n",
       "Information in (-4, 4) = 3.48 (89.71%)\n",
       "Based on items 4\n"
      ]
     },
     "metadata": {},
     "output_type": "display_data"
    }
   ],
   "source": [
    "information(GRM_AQ3_MR6$fit1, c(-4, 4), items = 4)"
   ]
  },
  {
   "cell_type": "code",
   "execution_count": 180,
   "metadata": {},
   "outputs": [
    {
     "data": {
      "text/html": [
       "0.222732491389208"
      ],
      "text/latex": [
       "0.222732491389208"
      ],
      "text/markdown": [
       "0.222732491389208"
      ],
      "text/plain": [
       "[1] 0.2227325"
      ]
     },
     "metadata": {},
     "output_type": "display_data"
    }
   ],
   "source": [
    "3.88/17.42"
   ]
  },
  {
   "cell_type": "code",
   "execution_count": 181,
   "metadata": {},
   "outputs": [
    {
     "data": {
      "text/plain": [
       "\n",
       "Call:\n",
       "grm(data = get_datagrm(df, F, f, thr), constrained = FALSE)\n",
       "\n",
       "Total Information = 19.37\n",
       "Information in (-4, 4) = 18.2 (93.92%)\n",
       "Based on all the items\n"
      ]
     },
     "metadata": {},
     "output_type": "display_data"
    }
   ],
   "source": [
    "GRM_AQ3_MR6$info2"
   ]
  },
  {
   "cell_type": "code",
   "execution_count": 182,
   "metadata": {},
   "outputs": [
    {
     "data": {
      "text/plain": [
       "\n",
       "Call:\n",
       "grm(data = get_datagrm(df, F, f, thr), constrained = FALSE)\n",
       "\n",
       "Total Information = 2.45\n",
       "Information in (-4, 4) = 1.77 (72.43%)\n",
       "Based on items 4\n"
      ]
     },
     "metadata": {},
     "output_type": "display_data"
    }
   ],
   "source": [
    "information(GRM_AQ3_MR6$fit2, c(-4, 4), items = 4)"
   ]
  },
  {
   "cell_type": "code",
   "execution_count": 183,
   "metadata": {},
   "outputs": [
    {
     "data": {
      "text/html": [
       "0.126484254001033"
      ],
      "text/latex": [
       "0.126484254001033"
      ],
      "text/markdown": [
       "0.126484254001033"
      ],
      "text/plain": [
       "[1] 0.1264843"
      ]
     },
     "metadata": {},
     "output_type": "display_data"
    }
   ],
   "source": [
    "2.45/19.37"
   ]
  },
  {
   "cell_type": "markdown",
   "metadata": {},
   "source": [
    "Items A_Q3_17 und A_Q3_21 tragen relativ gesehen weniger zum Informationsgehalt des Faktors bei, allerdings doch so viel, dass sie nicht eindeutig eliminiert werden können. Inhaltlich gesehen erscheint es logisch, dass Item 17 (logische Zusammenhänge suchen) und Item 21 (Weltwissen etc) einen Zusammenhang mit semantischen Verbindungen aufweisen, diese Bindung aber schwächer im Vergleich zu den eindeutigen Items des Faktors ist. "
   ]
  },
  {
   "cell_type": "markdown",
   "metadata": {},
   "source": [
    "#### GRM MR7"
   ]
  },
  {
   "cell_type": "code",
   "execution_count": 184,
   "metadata": {},
   "outputs": [],
   "source": [
    "GRM_AQ3_MR7 <- grm_full(MyData,FA_AQ3,'MR7',0.3)"
   ]
  },
  {
   "cell_type": "code",
   "execution_count": 185,
   "metadata": {},
   "outputs": [
    {
     "data": {
      "text/plain": [
       "\n",
       "Reliability analysis   \n",
       "Call: alpha(x = get_datagrm(df, F, f, thr, type = \"num\"))\n",
       "\n",
       "  raw_alpha std.alpha G6(smc) average_r S/N   ase mean   sd\n",
       "      0.66      0.68    0.66       0.3 2.1 0.066  3.3 0.78\n",
       "\n",
       " lower alpha upper     95% confidence boundaries\n",
       "0.53 0.66 0.79 \n",
       "\n",
       " Reliability if an item is dropped:\n",
       "       raw_alpha std.alpha G6(smc) average_r S/N alpha se\n",
       "A_Q3_1      0.60      0.63    0.58      0.29 1.7    0.081\n",
       "A_Q3_2      0.57      0.57    0.53      0.25 1.3    0.086\n",
       "A_Q3_3      0.65      0.66    0.62      0.33 2.0    0.071\n",
       "A_Q3_5      0.58      0.61    0.56      0.28 1.5    0.085\n",
       "A_Q3_6      0.66      0.68    0.64      0.34 2.1    0.069\n",
       "\n",
       " Item statistics \n",
       "        n raw.r std.r r.cor r.drop mean   sd\n",
       "A_Q3_1 67  0.66  0.67  0.56   0.44  3.1 1.14\n",
       "A_Q3_2 66  0.70  0.75  0.69   0.55  4.1 0.94\n",
       "A_Q3_3 65  0.65  0.61  0.45   0.36  3.0 1.46\n",
       "A_Q3_5 67  0.70  0.70  0.60   0.48  3.2 1.18\n",
       "A_Q3_6 67  0.59  0.59  0.40   0.32  3.0 1.27\n",
       "\n",
       "Non missing response frequency for each item\n",
       "          1    2    3    4    5 miss\n",
       "A_Q3_1 0.09 0.22 0.34 0.22 0.12 0.00\n",
       "A_Q3_2 0.02 0.06 0.14 0.42 0.36 0.01\n",
       "A_Q3_3 0.23 0.18 0.18 0.20 0.20 0.03\n",
       "A_Q3_5 0.07 0.22 0.25 0.30 0.15 0.00\n",
       "A_Q3_6 0.13 0.27 0.22 0.24 0.13 0.00"
      ]
     },
     "metadata": {},
     "output_type": "display_data"
    }
   ],
   "source": [
    "GRM_AQ3_MR7$alpha"
   ]
  },
  {
   "cell_type": "code",
   "execution_count": 186,
   "metadata": {},
   "outputs": [
    {
     "data": {
      "text/plain": [
       "\n",
       " Likelihood Ratio Table\n",
       "                AIC     BIC log.Lik  LRT df p.value\n",
       "results$fit1 984.68 1030.98 -471.34                \n",
       "results$fit2 984.22 1039.34 -467.11 8.46  4   0.076\n",
       "\n"
      ]
     },
     "metadata": {},
     "output_type": "display_data"
    }
   ],
   "source": [
    "GRM_AQ3_MR7$anova"
   ]
  },
  {
   "cell_type": "code",
   "execution_count": 187,
   "metadata": {},
   "outputs": [
    {
     "data": {
      "text/plain": [
       "\n",
       "       A_Q3_1 A_Q3_2 A_Q3_3 A_Q3_5 A_Q3_6\n",
       "A_Q3_1  *****     NA     NA  0.160  0.194\n",
       "A_Q3_2 <0.001  *****     NA     NA     NA\n",
       "A_Q3_3  0.003  0.037  *****     NA     NA\n",
       "A_Q3_5  0.113 <0.001  0.011  *****  0.274\n",
       "A_Q3_6  0.053  0.008  0.480  0.006  *****\n",
       "\n",
       "upper diagonal part contains correlation coefficient estimates \n",
       "lower diagonal part contains corresponding p-values\n"
      ]
     },
     "metadata": {},
     "output_type": "display_data"
    }
   ],
   "source": [
    "GRM_AQ3_MR7$rcor"
   ]
  },
  {
   "cell_type": "code",
   "execution_count": 188,
   "metadata": {},
   "outputs": [
    {
     "data": {
      "image/png": "[encoded data removed]",
      "text/plain": [
       "Plot with title \"Item Response Category Characteristic Curves \n",
       "Item: A_Q3_6\""
      ]
     },
     "metadata": {},
     "output_type": "display_data"
    }
   ],
   "source": [
    "par(mfrow = c(3, 2))\n",
    "plot(GRM_AQ3_MR7$fit2, lwd = 1, cex = 0.7, legend = TRUE, cx = \"left\",xlab = \"Latent Trait\", cex.main = 0.8, cex.lab = 0.7, cex.axis = 1)"
   ]
  },
  {
   "cell_type": "code",
   "execution_count": 189,
   "metadata": {},
   "outputs": [
    {
     "data": {
      "image/png": "[encoded data removed]",
      "text/plain": [
       "Plot with title \"Item Response Category Characteristic Curves - Category: 1\""
      ]
     },
     "metadata": {},
     "output_type": "display_data"
    }
   ],
   "source": [
    "plot(GRM_AQ3_MR7$fit1, category = 1, lwd = 2, cex = 1, legend = TRUE, cx = -0.5,\n",
    "     cy = 0.85, xlab = \"Latent Trait\", cex.main = 1, cex.lab = 1,\n",
    "     cex.axis = 1)"
   ]
  },
  {
   "cell_type": "code",
   "execution_count": 190,
   "metadata": {},
   "outputs": [
    {
     "data": {
      "image/png": "[encoded data removed]",
      "text/plain": [
       "Plot with title \"Item Response Category Characteristic Curves - Category: 1\""
      ]
     },
     "metadata": {},
     "output_type": "display_data"
    }
   ],
   "source": [
    "plot(GRM_AQ3_MR7$fit2, category = 1, lwd = 2, cex = 1, legend = TRUE, cx = -0.5,\n",
    "     cy = 0.85, xlab = \"Latent Trait\", cex.main = 1, cex.lab = 1,\n",
    "     cex.axis = 1)"
   ]
  },
  {
   "cell_type": "code",
   "execution_count": 191,
   "metadata": {},
   "outputs": [
    {
     "data": {
      "text/plain": [
       "\n",
       "Call:\n",
       "grm(data = get_datagrm(df, F, f, thr), constrained = TRUE)\n",
       "\n",
       "Total Information = 15.83\n",
       "Information in (-4, 4) = 14.52 (91.73%)\n",
       "Based on all the items\n"
      ]
     },
     "metadata": {},
     "output_type": "display_data"
    }
   ],
   "source": [
    "GRM_AQ3_MR7$info1"
   ]
  },
  {
   "cell_type": "code",
   "execution_count": 192,
   "metadata": {},
   "outputs": [
    {
     "data": {
      "text/plain": [
       "\n",
       "Call:\n",
       "grm(data = get_datagrm(df, F, f, thr), constrained = TRUE)\n",
       "\n",
       "Total Information = 3.42\n",
       "Information in (-4, 4) = 2.79 (81.41%)\n",
       "Based on items 2\n"
      ]
     },
     "metadata": {},
     "output_type": "display_data"
    }
   ],
   "source": [
    "information(GRM_AQ3_MR7$fit1, c(-4, 4), items = 2)"
   ]
  },
  {
   "cell_type": "code",
   "execution_count": 193,
   "metadata": {},
   "outputs": [
    {
     "data": {
      "text/html": [
       "0.216045483259634"
      ],
      "text/latex": [
       "0.216045483259634"
      ],
      "text/markdown": [
       "0.216045483259634"
      ],
      "text/plain": [
       "[1] 0.2160455"
      ]
     },
     "metadata": {},
     "output_type": "display_data"
    }
   ],
   "source": [
    "3.42/15.83"
   ]
  },
  {
   "cell_type": "code",
   "execution_count": 194,
   "metadata": {},
   "outputs": [
    {
     "data": {
      "text/plain": [
       "\n",
       "Call:\n",
       "grm(data = get_datagrm(df, F, f, thr), constrained = FALSE)\n",
       "\n",
       "Total Information = 20.53\n",
       "Information in (-4, 4) = 19.53 (95.12%)\n",
       "Based on all the items\n"
      ]
     },
     "metadata": {},
     "output_type": "display_data"
    }
   ],
   "source": [
    "GRM_AQ3_MR7$info2"
   ]
  },
  {
   "cell_type": "code",
   "execution_count": 195,
   "metadata": {},
   "outputs": [
    {
     "data": {
      "text/plain": [
       "\n",
       "Call:\n",
       "grm(data = get_datagrm(df, F, f, thr), constrained = FALSE)\n",
       "\n",
       "Total Information = 9.54\n",
       "Information in (-4, 4) = 9.51 (99.68%)\n",
       "Based on items 2\n"
      ]
     },
     "metadata": {},
     "output_type": "display_data"
    }
   ],
   "source": [
    "information(GRM_AQ3_MR7$fit2, c(-4, 4), items = 2)"
   ]
  },
  {
   "cell_type": "code",
   "execution_count": 196,
   "metadata": {},
   "outputs": [
    {
     "data": {
      "text/html": [
       "0.464685825621042"
      ],
      "text/latex": [
       "0.464685825621042"
      ],
      "text/markdown": [
       "0.464685825621042"
      ],
      "text/plain": [
       "[1] 0.4646858"
      ]
     },
     "metadata": {},
     "output_type": "display_data"
    }
   ],
   "source": [
    "9.54/20.53"
   ]
  },
  {
   "cell_type": "markdown",
   "metadata": {},
   "source": [
    "#### GRM MR8"
   ]
  },
  {
   "cell_type": "code",
   "execution_count": 197,
   "metadata": {},
   "outputs": [],
   "source": [
    "GRM_AQ3_MR8 <- grm_full(MyData,FA_AQ3,'MR8',0.39)"
   ]
  },
  {
   "cell_type": "code",
   "execution_count": 198,
   "metadata": {},
   "outputs": [
    {
     "data": {
      "text/plain": [
       "\n",
       "Reliability analysis   \n",
       "Call: alpha(x = get_datagrm(df, F, f, thr, type = \"num\"))\n",
       "\n",
       "  raw_alpha std.alpha G6(smc) average_r S/N   ase mean   sd\n",
       "       0.8       0.8    0.81      0.34 4.1 0.036  3.8 0.68\n",
       "\n",
       " lower alpha upper     95% confidence boundaries\n",
       "0.73 0.8 0.87 \n",
       "\n",
       " Reliability if an item is dropped:\n",
       "        raw_alpha std.alpha G6(smc) average_r S/N alpha se\n",
       "A_Q3_30      0.78      0.78    0.78      0.33 3.5    0.041\n",
       "A_Q3_31      0.80      0.80    0.80      0.37 4.0    0.036\n",
       "A_Q3_15      0.79      0.78    0.79      0.34 3.7    0.039\n",
       "A_Q3_19      0.78      0.78    0.78      0.33 3.5    0.041\n",
       "A_Q3_32      0.80      0.80    0.80      0.36 4.0    0.037\n",
       "A_Q3_33      0.77      0.77    0.77      0.32 3.4    0.043\n",
       "A_Q3_28      0.75      0.76    0.75      0.31 3.1    0.046\n",
       "A_Q3_29      0.78      0.78    0.77      0.33 3.5    0.042\n",
       "\n",
       " Item statistics \n",
       "         n raw.r std.r r.cor r.drop mean   sd\n",
       "A_Q3_30 67  0.65  0.67  0.61   0.54  4.0 0.94\n",
       "A_Q3_31 67  0.52  0.53  0.43   0.36  3.9 1.02\n",
       "A_Q3_15 67  0.60  0.62  0.54   0.48  3.6 0.92\n",
       "A_Q3_19 67  0.67  0.67  0.60   0.54  3.7 1.08\n",
       "A_Q3_32 67  0.54  0.55  0.44   0.39  3.9 1.04\n",
       "A_Q3_33 67  0.71  0.70  0.66   0.59  3.6 1.05\n",
       "A_Q3_28 67  0.78  0.77  0.75   0.68  3.9 1.11\n",
       "A_Q3_29 67  0.70  0.67  0.63   0.55  3.7 1.24\n",
       "\n",
       "Non missing response frequency for each item\n",
       "           1    2    3    4    5 miss\n",
       "A_Q3_30 0.00 0.07 0.19 0.34 0.39    0\n",
       "A_Q3_31 0.03 0.06 0.21 0.39 0.31    0\n",
       "A_Q3_15 0.01 0.10 0.31 0.42 0.15    0\n",
       "A_Q3_19 0.03 0.12 0.22 0.36 0.27    0\n",
       "A_Q3_32 0.03 0.04 0.27 0.30 0.36    0\n",
       "A_Q3_33 0.03 0.13 0.25 0.39 0.19    0\n",
       "A_Q3_28 0.03 0.09 0.24 0.27 0.37    0\n",
       "A_Q3_29 0.04 0.16 0.21 0.24 0.34    0"
      ]
     },
     "metadata": {},
     "output_type": "display_data"
    }
   ],
   "source": [
    "GRM_AQ3_MR8$alpha"
   ]
  },
  {
   "cell_type": "code",
   "execution_count": 199,
   "metadata": {},
   "outputs": [
    {
     "data": {
      "text/plain": [
       "\n",
       " Likelihood Ratio Table\n",
       "                 AIC     BIC log.Lik   LRT df p.value\n",
       "results$fit1 1396.48 1467.03 -666.24                 \n",
       "results$fit2 1399.15 1485.14 -660.58 11.33  7   0.125\n",
       "\n"
      ]
     },
     "metadata": {},
     "output_type": "display_data"
    }
   ],
   "source": [
    "GRM_AQ3_MR8$anova"
   ]
  },
  {
   "cell_type": "code",
   "execution_count": 200,
   "metadata": {
    "scrolled": false
   },
   "outputs": [
    {
     "data": {
      "image/png": "[encoded data removed]",
      "text/plain": [
       "Plot with title \"Item Response Category Characteristic Curves \n",
       "Item: A_Q3_29\""
      ]
     },
     "metadata": {},
     "output_type": "display_data"
    }
   ],
   "source": [
    "par(mfrow = c(4, 2))\n",
    "plot(GRM_AQ3_MR8$fit1, lwd = 1, cex = 0.7, legend = TRUE, cx = \"left\",xlab = \"Latent Trait\", cex.main = 0.8, cex.lab = 0.7, cex.axis = 1)"
   ]
  },
  {
   "cell_type": "code",
   "execution_count": 201,
   "metadata": {
    "scrolled": false
   },
   "outputs": [
    {
     "data": {
      "image/png": "[encoded data removed]",
      "text/plain": [
       "Plot with title \"Item Response Category Characteristic Curves - Category: 1\""
      ]
     },
     "metadata": {},
     "output_type": "display_data"
    }
   ],
   "source": [
    "plot(GRM_AQ3_MR8$fit1, category = 1, lwd = 2, cex = 1, legend = TRUE, cx = -0.5,\n",
    "     cy = 0.85, xlab = \"Latent Trait\", cex.main = 1, cex.lab = 1,\n",
    "     cex.axis = 1)"
   ]
  },
  {
   "cell_type": "code",
   "execution_count": 202,
   "metadata": {},
   "outputs": [
    {
     "data": {
      "image/png": "[encoded data removed]",
      "text/plain": [
       "Plot with title \"Item Response Category Characteristic Curves - Category: 1\""
      ]
     },
     "metadata": {},
     "output_type": "display_data"
    }
   ],
   "source": [
    "plot(GRM_AQ3_MR8$fit2, category = 1, lwd = 2, cex = 1, legend = TRUE, cx = -0.5,\n",
    "     cy = 0.85, xlab = \"Latent Trait\", cex.main = 1, cex.lab = 1,\n",
    "     cex.axis = 1)"
   ]
  },
  {
   "cell_type": "code",
   "execution_count": 203,
   "metadata": {},
   "outputs": [
    {
     "data": {
      "text/plain": [
       "\n",
       "Call:\n",
       "grm(data = get_datagrm(df, F, f, thr), constrained = TRUE)\n",
       "\n",
       "Total Information = 31.06\n",
       "Information in (-4, 4) = 28.9 (93.05%)\n",
       "Based on all the items\n"
      ]
     },
     "metadata": {},
     "output_type": "display_data"
    }
   ],
   "source": [
    "GRM_AQ3_MR8$info1"
   ]
  },
  {
   "cell_type": "code",
   "execution_count": 204,
   "metadata": {},
   "outputs": [
    {
     "data": {
      "text/plain": [
       "\n",
       "Call:\n",
       "grm(data = get_datagrm(df, F, f, thr), constrained = TRUE)\n",
       "\n",
       "Total Information = 4.56\n",
       "Information in (-4, 4) = 4.05 (88.8%)\n",
       "Based on items 3\n"
      ]
     },
     "metadata": {},
     "output_type": "display_data"
    }
   ],
   "source": [
    "information(GRM_AQ3_MR8$fit1, c(-4, 4), items = 3)"
   ]
  },
  {
   "cell_type": "code",
   "execution_count": 205,
   "metadata": {},
   "outputs": [
    {
     "data": {
      "text/plain": [
       "\n",
       "Call:\n",
       "grm(data = get_datagrm(df, F, f, thr), constrained = TRUE)\n",
       "\n",
       "Total Information = 4.01\n",
       "Information in (-4, 4) = 3.73 (93.16%)\n",
       "Based on items 4\n"
      ]
     },
     "metadata": {},
     "output_type": "display_data"
    }
   ],
   "source": [
    "information(GRM_AQ3_MR8$fit1, c(-4, 4), items = 4)"
   ]
  },
  {
   "cell_type": "code",
   "execution_count": 206,
   "metadata": {},
   "outputs": [
    {
     "data": {
      "text/html": [
       "0.146812620734063"
      ],
      "text/latex": [
       "0.146812620734063"
      ],
      "text/markdown": [
       "0.146812620734063"
      ],
      "text/plain": [
       "[1] 0.1468126"
      ]
     },
     "metadata": {},
     "output_type": "display_data"
    }
   ],
   "source": [
    "4.56/31.06"
   ]
  },
  {
   "cell_type": "code",
   "execution_count": 207,
   "metadata": {},
   "outputs": [
    {
     "data": {
      "text/plain": [
       "\n",
       "Call:\n",
       "grm(data = get_datagrm(df, F, f, thr), constrained = FALSE)\n",
       "\n",
       "Total Information = 35.25\n",
       "Information in (-4, 4) = 32.94 (93.46%)\n",
       "Based on all the items\n"
      ]
     },
     "metadata": {},
     "output_type": "display_data"
    }
   ],
   "source": [
    "GRM_AQ3_MR8$info2"
   ]
  },
  {
   "cell_type": "code",
   "execution_count": 208,
   "metadata": {},
   "outputs": [
    {
     "data": {
      "text/plain": [
       "\n",
       "Call:\n",
       "grm(data = get_datagrm(df, F, f, thr), constrained = FALSE)\n",
       "\n",
       "Total Information = 2.97\n",
       "Information in (-4, 4) = 2.17 (73.09%)\n",
       "Based on items 3\n"
      ]
     },
     "metadata": {},
     "output_type": "display_data"
    }
   ],
   "source": [
    "information(GRM_AQ3_MR8$fit2, c(-4, 4), items = 3)"
   ]
  },
  {
   "cell_type": "code",
   "execution_count": 209,
   "metadata": {},
   "outputs": [
    {
     "data": {
      "text/plain": [
       "\n",
       "Call:\n",
       "grm(data = get_datagrm(df, F, f, thr), constrained = FALSE)\n",
       "\n",
       "Total Information = 4.32\n",
       "Information in (-4, 4) = 4.11 (95.03%)\n",
       "Based on items 4\n"
      ]
     },
     "metadata": {},
     "output_type": "display_data"
    }
   ],
   "source": [
    "information(GRM_AQ3_MR8$fit2, c(-4, 4), items = 4)"
   ]
  },
  {
   "cell_type": "code",
   "execution_count": 210,
   "metadata": {},
   "outputs": [
    {
     "data": {
      "text/html": [
       "0.0842553191489362"
      ],
      "text/latex": [
       "0.0842553191489362"
      ],
      "text/markdown": [
       "0.0842553191489362"
      ],
      "text/plain": [
       "[1] 0.08425532"
      ]
     },
     "metadata": {},
     "output_type": "display_data"
    }
   ],
   "source": [
    "2.97/35.25"
   ]
  },
  {
   "cell_type": "code",
   "execution_count": 211,
   "metadata": {},
   "outputs": [
    {
     "data": {
      "text/html": [
       "0.122553191489362"
      ],
      "text/latex": [
       "0.122553191489362"
      ],
      "text/markdown": [
       "0.122553191489362"
      ],
      "text/plain": [
       "[1] 0.1225532"
      ]
     },
     "metadata": {},
     "output_type": "display_data"
    }
   ],
   "source": [
    "4.32/35.25"
   ]
  },
  {
   "cell_type": "markdown",
   "metadata": {},
   "source": [
    "Items A_Q3_15 zeigt geringen Wert, trägt wenig zum Informationsgehalt des Faktors bei, ähnlich Item A_Q3_19. Beide haben auch inhaltlich wenig Übereinstimmung mit den anderen Items des Faktors (metakognitive Strategien)."
   ]
  },
  {
   "cell_type": "markdown",
   "metadata": {},
   "source": [
    "### Konfirmatorische Faktorenanalyse"
   ]
  },
  {
   "cell_type": "code",
   "execution_count": 212,
   "metadata": {},
   "outputs": [],
   "source": [
    "get_itemsCFA <- function(vd,vf){\n",
    "    ind <- match(vd,vf)\n",
    "    vf[-ind]\n",
    "}  "
   ]
  },
  {
   "cell_type": "markdown",
   "metadata": {},
   "source": [
    "#### KFA 1\n",
    "Eine erste konfirmatorische Faktorenanalyse wird durchgeführt, um die Eliminierung der problematischen Items 4, 15 und 16 zu überprüfen."
   ]
  },
  {
   "cell_type": "code",
   "execution_count": 213,
   "metadata": {},
   "outputs": [],
   "source": [
    "items_CFA <- get_itemsCFA(c('A_Q3_4','A_Q3_15','A_Q3_16'),colnames(MyData)[vec_AQ3])"
   ]
  },
  {
   "cell_type": "code",
   "execution_count": 214,
   "metadata": {},
   "outputs": [],
   "source": [
    "vec_AQ3cf <- match(items_CFA,colnames(MyData))"
   ]
  },
  {
   "cell_type": "code",
   "execution_count": 215,
   "metadata": {},
   "outputs": [
    {
     "name": "stdout",
     "output_type": "stream",
     "text": [
      "Parallel analysis suggests that the number of factors =  8  and the number of components =  3 \n"
     ]
    },
    {
     "data": {
      "image/png": "[encoded data removed]",
      "text/plain": [
       "Plot with title \"Parallel Analysis Scree Plots\""
      ]
     },
     "metadata": {},
     "output_type": "display_data"
    }
   ],
   "source": [
    "items.parallel1 <- fa.parallel(convert_data(MyData,vec_AQ3cf), fa=\"both\")"
   ]
  },
  {
   "cell_type": "code",
   "execution_count": 216,
   "metadata": {},
   "outputs": [],
   "source": [
    "FA_AQ3cf <- fa(convert_data(MyData,vec_AQ3cf), nfactors = 8, rotate = \"varimax\")"
   ]
  },
  {
   "cell_type": "code",
   "execution_count": 217,
   "metadata": {},
   "outputs": [
    {
     "data": {
      "image/png": "[encoded data removed]",
      "text/plain": [
       "Plot with title \"Factor Analysis\""
      ]
     },
     "metadata": {},
     "output_type": "display_data"
    }
   ],
   "source": [
    "diagram(FA_AQ3cf)"
   ]
  },
  {
   "cell_type": "code",
   "execution_count": 218,
   "metadata": {},
   "outputs": [
    {
     "data": {
      "text/plain": [
       "Factor Analysis using method =  minres\n",
       "Call: fa(r = convert_data(MyData, vec_AQ3cf), nfactors = 8, rotate = \"varimax\")\n",
       "Standardized loadings (pattern matrix) based upon correlation matrix\n",
       "          MR1   MR8   MR2   MR3   MR6   MR5   MR7   MR4   h2    u2 com\n",
       "A_Q3_1   0.26 -0.14  0.09  0.41  0.08  0.16  0.43  0.00 0.48 0.519 3.4\n",
       "A_Q3_2   0.22  0.08  0.27  0.09  0.09 -0.03  0.53  0.23 0.48 0.518 2.6\n",
       "A_Q3_3   0.08 -0.14  0.00 -0.17  0.34  0.20  0.58 -0.11 0.56 0.444 2.5\n",
       "A_Q3_5   0.02  0.27 -0.03  0.01  0.05 -0.04  0.67  0.17 0.56 0.438 1.5\n",
       "A_Q3_6   0.28  0.11  0.22  0.19 -0.30  0.07  0.37  0.16 0.44 0.563 5.0\n",
       "A_Q3_7   0.01  0.11  0.75  0.18 -0.14  0.02  0.06  0.06 0.63 0.366 1.3\n",
       "A_Q3_8   0.13  0.14  0.77  0.27  0.07  0.21  0.12 -0.10 0.78 0.221 1.7\n",
       "A_Q3_9   0.10  0.22  0.83  0.13 -0.03  0.02  0.04  0.04 0.76 0.238 1.2\n",
       "A_Q3_10  0.05 -0.05  0.33  0.51  0.14  0.01  0.10  0.07 0.41 0.595 2.1\n",
       "A_Q3_30  0.22  0.47  0.23  0.13 -0.06  0.26  0.07  0.07 0.43 0.574 3.0\n",
       "A_Q3_11  0.16  0.09  0.19  0.75  0.19  0.03 -0.02  0.01 0.66 0.336 1.4\n",
       "A_Q3_12  0.07  0.08  0.14  0.77 -0.05  0.22 -0.04  0.16 0.70 0.304 1.4\n",
       "A_Q3_13  0.06  0.24 -0.01  0.35 -0.03  0.76  0.03  0.15 0.79 0.215 1.8\n",
       "A_Q3_14  0.21  0.09  0.12  0.05  0.00  0.66  0.09  0.07 0.51 0.489 1.4\n",
       "A_Q3_31  0.21  0.44  0.09 -0.02  0.00 -0.22 -0.10  0.11 0.32 0.678 2.4\n",
       "A_Q3_17  0.22  0.30  0.21  0.02  0.13  0.34 -0.05 -0.19 0.35 0.649 4.7\n",
       "A_Q3_18  0.80 -0.05  0.04  0.27 -0.01  0.04 -0.02  0.10 0.73 0.272 1.3\n",
       "A_Q3_19  0.70  0.42 -0.02  0.02 -0.05  0.16  0.17 -0.11 0.75 0.253 2.0\n",
       "A_Q3_20  0.67  0.09  0.07  0.02  0.15  0.14  0.19 -0.02 0.53 0.465 1.4\n",
       "A_Q3_21  0.57  0.19  0.36 -0.10  0.05  0.32 -0.12  0.16 0.65 0.353 3.1\n",
       "A_Q3_22  0.65  0.16  0.05  0.18  0.28  0.04  0.15  0.05 0.59 0.408 1.8\n",
       "A_Q3_23  0.18  0.08  0.00  0.17  0.77  0.05  0.14  0.16 0.70 0.297 1.4\n",
       "A_Q3_24  0.23  0.09 -0.09  0.13  0.80 -0.05  0.10  0.04 0.73 0.265 1.3\n",
       "A_Q3_25  0.56  0.27  0.07  0.01  0.29  0.02  0.12 -0.05 0.48 0.516 2.2\n",
       "A_Q3_26  0.10  0.04  0.11  0.10  0.02  0.02  0.06  0.55 0.34 0.661 1.3\n",
       "A_Q3_27 -0.10  0.02 -0.12  0.10  0.15  0.15  0.19  0.89 0.91 0.088 1.3\n",
       "A_Q3_32  0.03  0.48  0.02  0.17  0.00  0.08  0.08 -0.29 0.36 0.645 2.1\n",
       "A_Q3_33  0.00  0.72  0.07 -0.03 -0.02  0.19  0.04  0.02 0.56 0.439 1.2\n",
       "A_Q3_28  0.17  0.69  0.20  0.08  0.16  0.02  0.16  0.13 0.62 0.383 1.7\n",
       "A_Q3_29  0.26  0.51  0.13 -0.16  0.21  0.24  0.01  0.05 0.47 0.527 2.8\n",
       "\n",
       "                       MR1  MR8  MR2  MR3  MR6  MR5  MR7  MR4\n",
       "SS loadings           3.30 2.63 2.50 2.16 1.83 1.68 1.67 1.53\n",
       "Proportion Var        0.11 0.09 0.08 0.07 0.06 0.06 0.06 0.05\n",
       "Cumulative Var        0.11 0.20 0.28 0.35 0.41 0.47 0.53 0.58\n",
       "Proportion Explained  0.19 0.15 0.14 0.12 0.11 0.10 0.10 0.09\n",
       "Cumulative Proportion 0.19 0.34 0.49 0.61 0.72 0.82 0.91 1.00\n",
       "\n",
       "Mean item complexity =  2.1\n",
       "Test of the hypothesis that 8 factors are sufficient.\n",
       "\n",
       "The degrees of freedom for the null model are  435  and the objective function was  17.91 with Chi Square of  988.29\n",
       "The degrees of freedom for the model are 223  and the objective function was  4.96 \n",
       "\n",
       "The root mean square of the residuals (RMSR) is  0.04 \n",
       "The df corrected root mean square of the residuals is  0.06 \n",
       "\n",
       "The harmonic number of observations is  67 with the empirical chi square  116.27  with prob <  1 \n",
       "The total number of observations was  67  with Likelihood Chi Square =  247.13  with prob <  0.13 \n",
       "\n",
       "Tucker Lewis Index of factoring reliability =  0.897\n",
       "RMSEA index =  0.084  and the 90 % confidence intervals are  0 NA\n",
       "BIC =  -690.51\n",
       "Fit based upon off diagonal values = 0.97\n",
       "Measures of factor score adequacy             \n",
       "                                                   MR1  MR8  MR2  MR3  MR6  MR5\n",
       "Correlation of (regression) scores with factors   0.93 0.90 0.93 0.91 0.91 0.89\n",
       "Multiple R square of scores with factors          0.87 0.81 0.87 0.82 0.83 0.80\n",
       "Minimum correlation of possible factor scores     0.74 0.62 0.75 0.64 0.66 0.60\n",
       "                                                   MR7  MR4\n",
       "Correlation of (regression) scores with factors   0.86 0.98\n",
       "Multiple R square of scores with factors          0.75 0.95\n",
       "Minimum correlation of possible factor scores     0.49 0.91"
      ]
     },
     "metadata": {},
     "output_type": "display_data"
    }
   ],
   "source": [
    "FA_AQ3cf"
   ]
  },
  {
   "cell_type": "code",
   "execution_count": 219,
   "metadata": {},
   "outputs": [
    {
     "data": {
      "text/plain": [
       "\n",
       "Reliability analysis   \n",
       "Call: alpha(x = data.frame(apply(MyData[, vec_AQ3cf], 2, as.numeric)), \n",
       "    check.keys = TRUE)\n",
       "\n",
       "  raw_alpha std.alpha G6(smc) average_r S/N   ase mean   sd\n",
       "      0.87      0.88    0.95      0.19 7.2 0.022  3.5 0.52\n",
       "\n",
       " lower alpha upper     95% confidence boundaries\n",
       "0.83 0.87 0.92 \n",
       "\n",
       " Reliability if an item is dropped:\n",
       "        raw_alpha std.alpha G6(smc) average_r S/N alpha se\n",
       "A_Q3_1       0.87      0.87    0.95      0.19 7.0    0.023\n",
       "A_Q3_2       0.87      0.87    0.94      0.19 6.9    0.023\n",
       "A_Q3_3       0.88      0.88    0.95      0.20 7.3    0.022\n",
       "A_Q3_5       0.87      0.88    0.95      0.20 7.1    0.023\n",
       "A_Q3_6       0.87      0.87    0.95      0.19 7.0    0.023\n",
       "A_Q3_7       0.87      0.88    0.95      0.20 7.0    0.023\n",
       "A_Q3_8       0.87      0.87    0.94      0.19 6.7    0.024\n",
       "A_Q3_9       0.87      0.87    0.94      0.19 6.9    0.023\n",
       "A_Q3_10      0.87      0.88    0.95      0.20 7.0    0.023\n",
       "A_Q3_30      0.87      0.87    0.95      0.19 6.8    0.023\n",
       "A_Q3_11      0.87      0.87    0.94      0.19 6.9    0.023\n",
       "A_Q3_12      0.87      0.87    0.94      0.19 7.0    0.023\n",
       "A_Q3_13      0.87      0.87    0.94      0.19 6.9    0.023\n",
       "A_Q3_14      0.87      0.87    0.94      0.19 7.0    0.023\n",
       "A_Q3_31      0.87      0.88    0.95      0.20 7.2    0.022\n",
       "A_Q3_17      0.87      0.87    0.95      0.19 7.0    0.023\n",
       "A_Q3_18      0.87      0.87    0.94      0.19 6.9    0.023\n",
       "A_Q3_19      0.86      0.87    0.94      0.19 6.7    0.024\n",
       "A_Q3_20      0.87      0.87    0.94      0.19 6.8    0.024\n",
       "A_Q3_21      0.87      0.87    0.94      0.19 6.8    0.023\n",
       "A_Q3_22      0.86      0.87    0.94      0.19 6.7    0.024\n",
       "A_Q3_23      0.87      0.87    0.94      0.19 7.0    0.023\n",
       "A_Q3_24      0.87      0.88    0.95      0.20 7.1    0.023\n",
       "A_Q3_25      0.87      0.87    0.94      0.19 6.8    0.024\n",
       "A_Q3_26      0.87      0.88    0.95      0.20 7.2    0.022\n",
       "A_Q3_27      0.87      0.88    0.95      0.20 7.3    0.022\n",
       "A_Q3_32      0.87      0.88    0.95      0.20 7.2    0.023\n",
       "A_Q3_33      0.87      0.88    0.95      0.20 7.0    0.023\n",
       "A_Q3_28      0.86      0.87    0.94      0.19 6.7    0.024\n",
       "A_Q3_29      0.87      0.87    0.94      0.19 6.9    0.023\n",
       "\n",
       " Item statistics \n",
       "         n raw.r std.r r.cor r.drop mean   sd\n",
       "A_Q3_1  67  0.48  0.47  0.45   0.42  3.1 1.14\n",
       "A_Q3_2  66  0.52  0.52  0.51   0.48  4.1 0.94\n",
       "A_Q3_3  65  0.26  0.24  0.21   0.17  3.0 1.46\n",
       "A_Q3_5  67  0.40  0.38  0.36   0.33  3.2 1.18\n",
       "A_Q3_6  67  0.47  0.47  0.45   0.40  3.0 1.27\n",
       "A_Q3_7  67  0.39  0.41  0.39   0.33  3.9 1.00\n",
       "A_Q3_8  67  0.59  0.60  0.60   0.54  4.0 1.04\n",
       "A_Q3_9  67  0.50  0.52  0.51   0.44  4.0 1.13\n",
       "A_Q3_10 67  0.41  0.41  0.40   0.36  4.3 0.89\n",
       "A_Q3_30 67  0.56  0.58  0.57   0.52  4.0 0.94\n",
       "A_Q3_11 67  0.50  0.50  0.49   0.44  3.4 1.15\n",
       "A_Q3_12 67  0.46  0.46  0.45   0.40  3.3 1.16\n",
       "A_Q3_13 67  0.51  0.51  0.50   0.45  3.0 1.16\n",
       "A_Q3_14 67  0.47  0.46  0.45   0.41  2.8 1.12\n",
       "A_Q3_31 67  0.27  0.29  0.27   0.21  3.9 1.02\n",
       "A_Q3_17 67  0.43  0.45  0.43   0.38  3.6 0.96\n",
       "A_Q3_18 67  0.52  0.52  0.52   0.47  3.2 1.17\n",
       "A_Q3_19 67  0.62  0.62  0.62   0.57  3.7 1.08\n",
       "A_Q3_20 67  0.57  0.57  0.56   0.51  3.6 1.14\n",
       "A_Q3_21 67  0.57  0.59  0.59   0.54  4.4 0.78\n",
       "A_Q3_22 67  0.64  0.64  0.63   0.60  2.7 1.09\n",
       "A_Q3_23 67  0.48  0.46  0.45   0.41  3.6 1.23\n",
       "A_Q3_24 67  0.42  0.40  0.39   0.35  3.6 1.16\n",
       "A_Q3_25 67  0.57  0.57  0.56   0.52  3.4 1.10\n",
       "A_Q3_26 67  0.33  0.32  0.29   0.25  3.7 1.26\n",
       "A_Q3_27 67  0.28  0.25  0.23   0.20  3.0 1.26\n",
       "A_Q3_32 67  0.31  0.32  0.29   0.25  3.9 1.04\n",
       "A_Q3_33 67  0.41  0.42  0.41   0.36  3.6 1.05\n",
       "A_Q3_28 67  0.62  0.62  0.62   0.57  3.9 1.11\n",
       "A_Q3_29 67  0.51  0.51  0.50   0.45  3.7 1.24\n",
       "\n",
       "Non missing response frequency for each item\n",
       "           1    2    3    4    5 miss\n",
       "A_Q3_1  0.09 0.22 0.34 0.22 0.12 0.00\n",
       "A_Q3_2  0.02 0.06 0.14 0.42 0.36 0.01\n",
       "A_Q3_3  0.23 0.18 0.18 0.20 0.20 0.03\n",
       "A_Q3_5  0.07 0.22 0.25 0.30 0.15 0.00\n",
       "A_Q3_6  0.13 0.27 0.22 0.24 0.13 0.00\n",
       "A_Q3_7  0.00 0.10 0.21 0.33 0.36 0.00\n",
       "A_Q3_8  0.01 0.07 0.22 0.27 0.42 0.00\n",
       "A_Q3_9  0.04 0.07 0.15 0.33 0.40 0.00\n",
       "A_Q3_10 0.00 0.06 0.10 0.30 0.54 0.00\n",
       "A_Q3_30 0.00 0.07 0.19 0.34 0.39 0.00\n",
       "A_Q3_11 0.06 0.16 0.30 0.28 0.19 0.00\n",
       "A_Q3_12 0.10 0.13 0.28 0.36 0.12 0.00\n",
       "A_Q3_13 0.12 0.21 0.30 0.28 0.09 0.00\n",
       "A_Q3_14 0.10 0.34 0.30 0.16 0.09 0.00\n",
       "A_Q3_31 0.03 0.06 0.21 0.39 0.31 0.00\n",
       "A_Q3_17 0.04 0.06 0.30 0.46 0.13 0.00\n",
       "A_Q3_18 0.07 0.22 0.27 0.28 0.15 0.00\n",
       "A_Q3_19 0.03 0.12 0.22 0.36 0.27 0.00\n",
       "A_Q3_20 0.04 0.15 0.22 0.34 0.24 0.00\n",
       "A_Q3_21 0.00 0.01 0.13 0.31 0.54 0.00\n",
       "A_Q3_22 0.09 0.37 0.34 0.09 0.10 0.00\n",
       "A_Q3_23 0.06 0.16 0.19 0.30 0.28 0.00\n",
       "A_Q3_24 0.04 0.15 0.24 0.31 0.25 0.00\n",
       "A_Q3_25 0.04 0.16 0.33 0.28 0.18 0.00\n",
       "A_Q3_26 0.09 0.10 0.12 0.37 0.31 0.00\n",
       "A_Q3_27 0.13 0.25 0.21 0.28 0.12 0.00\n",
       "A_Q3_32 0.03 0.04 0.27 0.30 0.36 0.00\n",
       "A_Q3_33 0.03 0.13 0.25 0.39 0.19 0.00\n",
       "A_Q3_28 0.03 0.09 0.24 0.27 0.37 0.00\n",
       "A_Q3_29 0.04 0.16 0.21 0.24 0.34 0.00"
      ]
     },
     "metadata": {},
     "output_type": "display_data"
    }
   ],
   "source": [
    "alpha(data.frame(apply(MyData[,vec_AQ3cf],2,as.numeric)),check.keys=TRUE )"
   ]
  },
  {
   "cell_type": "markdown",
   "metadata": {},
   "source": [
    "Die Ergebnisse (KFA und Berechnung von Cronbachs Alpha) zeigen, dass die problematischen Items entfernt werden können, ohne die Struktur des Fragebogens zu beeinträchtigen."
   ]
  },
  {
   "cell_type": "markdown",
   "metadata": {},
   "source": [
    "#### KFA 2\n",
    "Aufgrund inhaltlicher Überlegungen und neuer Erkenntnisse zur Adaptierung des Fragedesigns wird eine zweite konfirmatorische Faktorenanalyse durchgeführt, in der die Items 4 und 27 entfernt werden."
   ]
  },
  {
   "cell_type": "code",
   "execution_count": 220,
   "metadata": {},
   "outputs": [],
   "source": [
    "items_CFA1 <- get_itemsCFA(c('A_Q3_4','A_Q3_27'),colnames(MyData)[vec_AQ3])"
   ]
  },
  {
   "cell_type": "code",
   "execution_count": 221,
   "metadata": {},
   "outputs": [],
   "source": [
    "vec_AQ3cf1 <- match(items_CFA1,colnames(MyData))"
   ]
  },
  {
   "cell_type": "code",
   "execution_count": 222,
   "metadata": {},
   "outputs": [
    {
     "name": "stdout",
     "output_type": "stream",
     "text": [
      "Parallel analysis suggests that the number of factors =  6  and the number of components =  3 \n"
     ]
    },
    {
     "data": {
      "image/png": "[encoded data removed]",
      "text/plain": [
       "Plot with title \"Parallel Analysis Scree Plots\""
      ]
     },
     "metadata": {},
     "output_type": "display_data"
    }
   ],
   "source": [
    "items.parallel1 <- fa.parallel(convert_data(MyData,vec_AQ3cf1), fa=\"both\")"
   ]
  },
  {
   "cell_type": "markdown",
   "metadata": {},
   "source": [
    "Test mit 6 Faktoren ergibt kein gutes Ergebnis -> 7 Faktoren:"
   ]
  },
  {
   "cell_type": "code",
   "execution_count": 223,
   "metadata": {},
   "outputs": [
    {
     "name": "stdout",
     "output_type": "stream",
     "text": [
      "Factor Analysis using method =  minres\n",
      "Call: fa(r = convert_data(MyData, vec_AQ3cf1), nfactors = 7, rotate = \"varimax\")\n",
      "Standardized loadings (pattern matrix) based upon correlation matrix\n",
      "         MR1   MR6   MR2   MR3   MR7   MR4   MR5    h2   u2 com\n",
      "A_Q3_1  0.23 -0.14  0.06  0.41  0.11  0.44  0.18 0.483 0.52 3.3\n",
      "A_Q3_2  0.19  0.06  0.26  0.13  0.13  0.55  0.02 0.442 0.56 2.0\n",
      "A_Q3_3  0.10 -0.12 -0.01 -0.16  0.33  0.51  0.14 0.439 0.56 2.4\n",
      "A_Q3_5  0.03  0.26 -0.03  0.02  0.06  0.67 -0.05 0.522 0.48 1.3\n",
      "A_Q3_6  0.29  0.09  0.21  0.21 -0.31  0.43  0.08 0.470 0.53 4.0\n",
      "A_Q3_7  0.00  0.11  0.73  0.20 -0.16  0.12  0.04 0.624 0.38 1.4\n",
      "A_Q3_8  0.14  0.15  0.75  0.27  0.06  0.10  0.19 0.730 0.27 1.6\n",
      "A_Q3_9  0.09  0.21  0.83  0.14 -0.03  0.05  0.03 0.773 0.23 1.2\n",
      "A_Q3_10 0.07 -0.01  0.32  0.54  0.12  0.09 -0.04 0.420 0.58 1.9\n",
      "A_Q3_30 0.21  0.49  0.24  0.14 -0.04  0.05  0.26 0.436 0.56 2.8\n",
      "A_Q3_11 0.14  0.09  0.18  0.72  0.19 -0.02  0.04 0.623 0.38 1.4\n",
      "A_Q3_12 0.04  0.10  0.11  0.80 -0.04 -0.01  0.23 0.725 0.27 1.2\n",
      "A_Q3_13 0.01  0.25 -0.02  0.37 -0.01  0.05  0.78 0.801 0.20 1.7\n",
      "A_Q3_14 0.20  0.08  0.13  0.05 -0.01  0.11  0.66 0.509 0.49 1.4\n",
      "A_Q3_31 0.21  0.44  0.11 -0.01  0.03 -0.11 -0.19 0.303 0.70 2.2\n",
      "A_Q3_15 0.30  0.42  0.35  0.25  0.25 -0.34 -0.02 0.632 0.37 5.3\n",
      "A_Q3_16 0.35  0.22  0.09  0.07 -0.01  0.16 -0.09 0.221 0.78 2.6\n",
      "A_Q3_17 0.21  0.31  0.21  0.01  0.15 -0.08  0.33 0.318 0.68 4.1\n",
      "A_Q3_18 0.81 -0.05  0.02  0.30 -0.01  0.01  0.06 0.746 0.25 1.3\n",
      "A_Q3_19 0.72  0.42 -0.02  0.00 -0.03  0.14  0.18 0.740 0.26 1.9\n",
      "A_Q3_20 0.68  0.10  0.08  0.03  0.18  0.15  0.14 0.548 0.45 1.4\n",
      "A_Q3_21 0.51  0.19  0.35 -0.04  0.08 -0.07  0.36 0.565 0.44 3.1\n",
      "A_Q3_22 0.64  0.14  0.06  0.18  0.30  0.14  0.08 0.583 0.42 1.9\n",
      "A_Q3_23 0.16  0.08  0.00  0.18  0.75  0.17  0.05 0.658 0.34 1.4\n",
      "A_Q3_24 0.21  0.09 -0.09  0.13  0.81  0.10 -0.03 0.740 0.26 1.3\n",
      "A_Q3_25 0.54  0.25  0.07  0.00  0.30  0.12  0.06 0.465 0.54 2.2\n",
      "A_Q3_26 0.09  0.05  0.10  0.18  0.02  0.14  0.03 0.074 0.93 3.4\n",
      "A_Q3_32 0.05  0.46  0.02  0.10  0.02  0.02  0.07 0.231 0.77 1.2\n",
      "A_Q3_33 0.02  0.73  0.04 -0.03 -0.06  0.10  0.16 0.576 0.42 1.2\n",
      "A_Q3_28 0.16  0.68  0.18  0.09  0.16  0.21  0.04 0.605 0.40 1.7\n",
      "A_Q3_29 0.24  0.49  0.12 -0.15  0.20  0.05  0.27 0.453 0.55 2.9\n",
      "\n",
      "                       MR1  MR6  MR2  MR3  MR7  MR4  MR5\n",
      "SS loadings           3.37 2.80 2.53 2.32 1.91 1.80 1.73\n",
      "Proportion Var        0.11 0.09 0.08 0.07 0.06 0.06 0.06\n",
      "Cumulative Var        0.11 0.20 0.28 0.36 0.42 0.48 0.53\n",
      "Proportion Explained  0.20 0.17 0.15 0.14 0.12 0.11 0.10\n",
      "Cumulative Proportion 0.20 0.37 0.53 0.67 0.79 0.90 1.00\n",
      "\n",
      "Mean item complexity =  2.2\n",
      "Test of the hypothesis that 7 factors are sufficient.\n",
      "\n",
      "The degrees of freedom for the null model are  465  and the objective function was  18.53 with Chi Square of  1016.32\n",
      "The degrees of freedom for the model are 269  and the objective function was  5.76 \n",
      "\n",
      "The root mean square of the residuals (RMSR) is  0.05 \n",
      "The df corrected root mean square of the residuals is  0.07 \n",
      "\n",
      "The harmonic number of observations is  67 with the empirical chi square  163.37  with prob <  1 \n",
      "The total number of observations was  67  with Likelihood Chi Square =  288.84  with prob <  0.19 \n",
      "\n",
      "Tucker Lewis Index of factoring reliability =  0.926\n",
      "RMSEA index =  0.079  and the 90 % confidence intervals are  0 NA\n",
      "BIC =  -842.22\n",
      "Fit based upon off diagonal values = 0.96\n",
      "Measures of factor score adequacy             \n",
      "                                                   MR1  MR6  MR2  MR3  MR7  MR4\n",
      "Correlation of (regression) scores with factors   0.94 0.91 0.93 0.91 0.91 0.87\n",
      "Multiple R square of scores with factors          0.88 0.82 0.86 0.83 0.83 0.76\n",
      "Minimum correlation of possible factor scores     0.75 0.64 0.73 0.66 0.67 0.53\n",
      "                                                   MR5\n",
      "Correlation of (regression) scores with factors   0.90\n",
      "Multiple R square of scores with factors          0.81\n",
      "Minimum correlation of possible factor scores     0.63\n"
     ]
    }
   ],
   "source": [
    "FA_AQ3cf1 <- fa(convert_data(MyData,vec_AQ3cf1), nfactors = 7, rotate = \"varimax\")\n",
    "print(FA_AQ3cf1)"
   ]
  },
  {
   "cell_type": "code",
   "execution_count": 224,
   "metadata": {},
   "outputs": [
    {
     "data": {
      "image/png": "[encoded data removed]",
      "text/plain": [
       "Plot with title \"Factor Analysis\""
      ]
     },
     "metadata": {},
     "output_type": "display_data"
    }
   ],
   "source": [
    "diagram(FA_AQ3cf1)"
   ]
  },
  {
   "cell_type": "markdown",
   "metadata": {},
   "source": [
    "Item 26 kann keinem Faktor eindeutig zugerechnet werden, aber das stellt kein Problem dar - ist inhaltlich logisch nachvollziehbar. Die Struktur ist stabil, die Items können aus dem Fragebogen entfernt werden."
   ]
  },
  {
   "cell_type": "code",
   "execution_count": 225,
   "metadata": {},
   "outputs": [
    {
     "data": {
      "text/plain": [
       "\n",
       "Reliability analysis   \n",
       "Call: alpha(x = data.frame(apply(MyData[, vec_AQ3cf1], 2, as.numeric)), \n",
       "    check.keys = TRUE)\n",
       "\n",
       "  raw_alpha std.alpha G6(smc) average_r S/N   ase mean   sd\n",
       "      0.88      0.89    0.95       0.2 7.8 0.021  3.6 0.52\n",
       "\n",
       " lower alpha upper     95% confidence boundaries\n",
       "0.84 0.88 0.92 \n",
       "\n",
       " Reliability if an item is dropped:\n",
       "        raw_alpha std.alpha G6(smc) average_r S/N alpha se\n",
       "A_Q3_1       0.88      0.88    0.95      0.20 7.6    0.021\n",
       "A_Q3_2       0.88      0.88    0.95      0.20 7.5    0.022\n",
       "A_Q3_3       0.89      0.89    0.95      0.21 8.0    0.020\n",
       "A_Q3_5       0.88      0.89    0.95      0.21 7.8    0.021\n",
       "A_Q3_6       0.88      0.88    0.95      0.20 7.6    0.021\n",
       "A_Q3_7       0.88      0.88    0.95      0.20 7.7    0.021\n",
       "A_Q3_8       0.87      0.88    0.95      0.20 7.3    0.022\n",
       "A_Q3_9       0.88      0.88    0.95      0.20 7.5    0.022\n",
       "A_Q3_10      0.88      0.88    0.95      0.20 7.6    0.021\n",
       "A_Q3_30      0.88      0.88    0.95      0.20 7.4    0.022\n",
       "A_Q3_11      0.88      0.88    0.95      0.20 7.5    0.022\n",
       "A_Q3_12      0.88      0.88    0.95      0.20 7.6    0.021\n",
       "A_Q3_13      0.88      0.88    0.95      0.20 7.6    0.021\n",
       "A_Q3_14      0.88      0.88    0.95      0.20 7.6    0.021\n",
       "A_Q3_31      0.88      0.89    0.95      0.21 7.8    0.021\n",
       "A_Q3_15      0.88      0.88    0.95      0.20 7.4    0.022\n",
       "A_Q3_16      0.88      0.88    0.95      0.20 7.7    0.021\n",
       "A_Q3_17      0.88      0.88    0.95      0.20 7.5    0.021\n",
       "A_Q3_18      0.88      0.88    0.95      0.20 7.5    0.022\n",
       "A_Q3_19      0.87      0.88    0.95      0.20 7.3    0.022\n",
       "A_Q3_20      0.88      0.88    0.95      0.20 7.4    0.022\n",
       "A_Q3_21      0.88      0.88    0.95      0.20 7.4    0.022\n",
       "A_Q3_22      0.87      0.88    0.95      0.20 7.3    0.022\n",
       "A_Q3_23      0.88      0.88    0.95      0.20 7.6    0.021\n",
       "A_Q3_24      0.88      0.88    0.95      0.20 7.7    0.021\n",
       "A_Q3_25      0.88      0.88    0.95      0.20 7.4    0.022\n",
       "A_Q3_26      0.88      0.89    0.95      0.21 7.9    0.021\n",
       "A_Q3_32      0.88      0.89    0.95      0.21 7.8    0.021\n",
       "A_Q3_33      0.88      0.88    0.95      0.20 7.6    0.021\n",
       "A_Q3_28      0.87      0.88    0.95      0.20 7.3    0.022\n",
       "A_Q3_29      0.88      0.88    0.95      0.20 7.5    0.022\n",
       "\n",
       " Item statistics \n",
       "         n raw.r std.r r.cor r.drop mean   sd\n",
       "A_Q3_1  67  0.46  0.45  0.43   0.40  3.1 1.14\n",
       "A_Q3_2  66  0.49  0.49  0.48   0.45  4.1 0.94\n",
       "A_Q3_3  65  0.26  0.23  0.20   0.17  3.0 1.46\n",
       "A_Q3_5  67  0.37  0.35  0.33   0.30  3.2 1.18\n",
       "A_Q3_6  67  0.45  0.45  0.43   0.39  3.0 1.27\n",
       "A_Q3_7  67  0.40  0.42  0.40   0.35  3.9 1.00\n",
       "A_Q3_8  67  0.61  0.62  0.62   0.57  4.0 1.04\n",
       "A_Q3_9  67  0.51  0.53  0.53   0.46  4.0 1.13\n",
       "A_Q3_10 67  0.42  0.42  0.41   0.37  4.3 0.89\n",
       "A_Q3_30 67  0.57  0.59  0.58   0.53  4.0 0.94\n",
       "A_Q3_11 67  0.50  0.50  0.49   0.44  3.4 1.15\n",
       "A_Q3_12 67  0.45  0.45  0.44   0.39  3.3 1.16\n",
       "A_Q3_13 67  0.48  0.48  0.47   0.42  3.0 1.16\n",
       "A_Q3_14 67  0.45  0.44  0.43   0.39  2.8 1.12\n",
       "A_Q3_31 67  0.29  0.31  0.28   0.23  3.9 1.02\n",
       "A_Q3_15 67  0.53  0.55  0.54   0.49  3.6 0.92\n",
       "A_Q3_16 67  0.41  0.42  0.39   0.36  3.9 0.99\n",
       "A_Q3_17 67  0.47  0.48  0.46   0.42  3.6 0.96\n",
       "A_Q3_18 67  0.54  0.54  0.53   0.49  3.2 1.17\n",
       "A_Q3_19 67  0.64  0.64  0.64   0.60  3.7 1.08\n",
       "A_Q3_20 67  0.58  0.58  0.58   0.53  3.6 1.14\n",
       "A_Q3_21 67  0.58  0.60  0.59   0.55  4.4 0.78\n",
       "A_Q3_22 67  0.65  0.64  0.64   0.61  2.7 1.09\n",
       "A_Q3_23 67  0.46  0.44  0.43   0.39  3.6 1.23\n",
       "A_Q3_24 67  0.41  0.39  0.38   0.34  3.6 1.16\n",
       "A_Q3_25 67  0.58  0.58  0.57   0.53  3.4 1.10\n",
       "A_Q3_26 67  0.28  0.28  0.24   0.21  3.7 1.26\n",
       "A_Q3_32 67  0.34  0.35  0.32   0.28  3.9 1.04\n",
       "A_Q3_33 67  0.42  0.43  0.42   0.37  3.6 1.05\n",
       "A_Q3_28 67  0.63  0.63  0.62   0.58  3.9 1.11\n",
       "A_Q3_29 67  0.51  0.50  0.49   0.45  3.7 1.24\n",
       "\n",
       "Non missing response frequency for each item\n",
       "           1    2    3    4    5 miss\n",
       "A_Q3_1  0.09 0.22 0.34 0.22 0.12 0.00\n",
       "A_Q3_2  0.02 0.06 0.14 0.42 0.36 0.01\n",
       "A_Q3_3  0.23 0.18 0.18 0.20 0.20 0.03\n",
       "A_Q3_5  0.07 0.22 0.25 0.30 0.15 0.00\n",
       "A_Q3_6  0.13 0.27 0.22 0.24 0.13 0.00\n",
       "A_Q3_7  0.00 0.10 0.21 0.33 0.36 0.00\n",
       "A_Q3_8  0.01 0.07 0.22 0.27 0.42 0.00\n",
       "A_Q3_9  0.04 0.07 0.15 0.33 0.40 0.00\n",
       "A_Q3_10 0.00 0.06 0.10 0.30 0.54 0.00\n",
       "A_Q3_30 0.00 0.07 0.19 0.34 0.39 0.00\n",
       "A_Q3_11 0.06 0.16 0.30 0.28 0.19 0.00\n",
       "A_Q3_12 0.10 0.13 0.28 0.36 0.12 0.00\n",
       "A_Q3_13 0.12 0.21 0.30 0.28 0.09 0.00\n",
       "A_Q3_14 0.10 0.34 0.30 0.16 0.09 0.00\n",
       "A_Q3_31 0.03 0.06 0.21 0.39 0.31 0.00\n",
       "A_Q3_15 0.01 0.10 0.31 0.42 0.15 0.00\n",
       "A_Q3_16 0.03 0.06 0.21 0.43 0.27 0.00\n",
       "A_Q3_17 0.04 0.06 0.30 0.46 0.13 0.00\n",
       "A_Q3_18 0.07 0.22 0.27 0.28 0.15 0.00\n",
       "A_Q3_19 0.03 0.12 0.22 0.36 0.27 0.00\n",
       "A_Q3_20 0.04 0.15 0.22 0.34 0.24 0.00\n",
       "A_Q3_21 0.00 0.01 0.13 0.31 0.54 0.00\n",
       "A_Q3_22 0.09 0.37 0.34 0.09 0.10 0.00\n",
       "A_Q3_23 0.06 0.16 0.19 0.30 0.28 0.00\n",
       "A_Q3_24 0.04 0.15 0.24 0.31 0.25 0.00\n",
       "A_Q3_25 0.04 0.16 0.33 0.28 0.18 0.00\n",
       "A_Q3_26 0.09 0.10 0.12 0.37 0.31 0.00\n",
       "A_Q3_32 0.03 0.04 0.27 0.30 0.36 0.00\n",
       "A_Q3_33 0.03 0.13 0.25 0.39 0.19 0.00\n",
       "A_Q3_28 0.03 0.09 0.24 0.27 0.37 0.00\n",
       "A_Q3_29 0.04 0.16 0.21 0.24 0.34 0.00"
      ]
     },
     "metadata": {},
     "output_type": "display_data"
    }
   ],
   "source": [
    "alpha(data.frame(apply(MyData[,vec_AQ3cf1],2,as.numeric)),check.keys=TRUE )"
   ]
  },
  {
   "cell_type": "markdown",
   "metadata": {},
   "source": [
    "### GRM CQ1"
   ]
  },
  {
   "cell_type": "code",
   "execution_count": 226,
   "metadata": {},
   "outputs": [],
   "source": [
    "GRM_CQ1 <- data.frame(apply(MyData[,vec_CQ1],2,as.factor))"
   ]
  },
  {
   "cell_type": "code",
   "execution_count": 227,
   "metadata": {},
   "outputs": [
    {
     "name": "stderr",
     "output_type": "stream",
     "text": [
      "Warning message in alpha(data.frame(apply(MyData[, vec_CQ1], 2, as.numeric)), check.keys = TRUE):\n",
      "\"Some items were negatively correlated with total scale and were automatically reversed.\n",
      " This is indicated by a negative sign for the variable name.\""
     ]
    },
    {
     "data": {
      "text/plain": [
       "\n",
       "Reliability analysis   \n",
       "Call: alpha(x = data.frame(apply(MyData[, vec_CQ1], 2, as.numeric)), \n",
       "    check.keys = TRUE)\n",
       "\n",
       "  raw_alpha std.alpha G6(smc) average_r S/N  ase mean   sd\n",
       "      0.72      0.75     0.8      0.21   3 0.05  4.2 0.46\n",
       "\n",
       " lower alpha upper     95% confidence boundaries\n",
       "0.63 0.72 0.82 \n",
       "\n",
       " Reliability if an item is dropped:\n",
       "         raw_alpha std.alpha G6(smc) average_r S/N alpha se\n",
       "C_Q1_1        0.70      0.73    0.77      0.22 2.8    0.054\n",
       "C_Q1_2        0.71      0.74    0.77      0.22 2.9    0.052\n",
       "C_Q1_3        0.71      0.73    0.78      0.22 2.8    0.054\n",
       "C_Q1_4        0.71      0.74    0.77      0.22 2.8    0.053\n",
       "C_Q1_5        0.68      0.71    0.76      0.20 2.5    0.057\n",
       "C_Q1_6        0.69      0.72    0.76      0.20 2.5    0.056\n",
       "C_Q1_7        0.70      0.73    0.77      0.21 2.7    0.055\n",
       "C_Q1_8-       0.70      0.73    0.77      0.21 2.7    0.055\n",
       "C_Q1_9        0.69      0.72    0.75      0.20 2.5    0.056\n",
       "C_Q1_10-      0.75      0.77    0.81      0.25 3.3    0.044\n",
       "C_Q1_11       0.70      0.73    0.77      0.21 2.6    0.055\n",
       "\n",
       " Item statistics \n",
       "          n raw.r std.r r.cor r.drop mean   sd\n",
       "C_Q1_1   67  0.52  0.52  0.46   0.38  3.8 0.82\n",
       "C_Q1_2   67  0.44  0.47  0.42   0.32  4.5 0.68\n",
       "C_Q1_3   67  0.57  0.52  0.45   0.38  3.7 1.14\n",
       "C_Q1_4   67  0.48  0.51  0.45   0.34  4.3 0.80\n",
       "C_Q1_5   67  0.64  0.65  0.61   0.54  4.4 0.76\n",
       "C_Q1_6   67  0.59  0.63  0.61   0.49  4.6 0.70\n",
       "C_Q1_7   67  0.57  0.57  0.50   0.42  4.2 0.93\n",
       "C_Q1_8-  67  0.60  0.54  0.48   0.41  3.5 1.18\n",
       "C_Q1_9   67  0.59  0.62  0.60   0.47  4.4 0.78\n",
       "C_Q1_10- 67  0.33  0.27  0.14   0.11  3.8 1.16\n",
       "C_Q1_11  66  0.54  0.58  0.53   0.43  4.6 0.70\n",
       "\n",
       "Non missing response frequency for each item\n",
       "           1    2    3    4    5 miss\n",
       "C_Q1_1  0.00 0.06 0.25 0.49 0.19 0.00\n",
       "C_Q1_2  0.00 0.01 0.06 0.31 0.61 0.00\n",
       "C_Q1_3  0.03 0.13 0.27 0.25 0.31 0.00\n",
       "C_Q1_4  0.01 0.01 0.09 0.46 0.42 0.00\n",
       "C_Q1_5  0.00 0.01 0.12 0.27 0.60 0.00\n",
       "C_Q1_6  0.00 0.03 0.03 0.28 0.66 0.00\n",
       "C_Q1_7  0.00 0.06 0.16 0.30 0.48 0.00\n",
       "C_Q1_8  0.21 0.33 0.25 0.13 0.07 0.00\n",
       "C_Q1_9  0.00 0.03 0.09 0.36 0.52 0.00\n",
       "C_Q1_10 0.33 0.34 0.16 0.12 0.04 0.00\n",
       "C_Q1_11 0.00 0.00 0.12 0.17 0.71 0.01"
      ]
     },
     "metadata": {},
     "output_type": "display_data"
    }
   ],
   "source": [
    "alpha(data.frame(apply(MyData[,vec_CQ1],2,as.numeric)),check.keys=TRUE )"
   ]
  },
  {
   "cell_type": "code",
   "execution_count": 228,
   "metadata": {},
   "outputs": [
    {
     "data": {
      "text/plain": [
       "\n",
       "        C_Q1_1 C_Q1_2 C_Q1_3 C_Q1_4 C_Q1_5 C_Q1_6 C_Q1_7 C_Q1_8 C_Q1_9 C_Q1_10\n",
       "C_Q1_1   *****  0.103  0.243  0.424  0.254  0.331  0.159 -0.167  0.085 -0.035 \n",
       "C_Q1_2   0.357  ***** -0.024  0.267  0.110  0.093  0.158 -0.242  0.489 -0.305 \n",
       "C_Q1_3   0.021  0.824  *****  0.196  0.317  0.358  0.254 -0.263  0.199 -0.005 \n",
       "C_Q1_4  <0.001  0.019  0.068  *****  0.278  0.376  0.062  0.001  0.206 -0.104 \n",
       "C_Q1_5   0.021  0.338  0.003  0.014  *****  0.478  0.350 -0.377  0.319 -0.166 \n",
       "C_Q1_6   0.003  0.426  0.001  0.001 <0.001  *****  0.317 -0.197  0.363  0.003 \n",
       "C_Q1_7   0.141  0.159  0.016  0.576  0.002  0.005  ***** -0.312  0.309  0.046 \n",
       "C_Q1_8   0.110  0.025  0.010  0.995 <0.001  0.070  0.003  ***** -0.180  0.179 \n",
       "C_Q1_9   0.442 <0.001  0.064  0.067  0.005  0.002  0.005  0.091  ***** -0.174 \n",
       "C_Q1_10  0.736  0.005  0.963  0.334  0.123  0.978  0.660  0.079  0.106  ***** \n",
       "C_Q1_11  0.769  0.092  0.040  0.029  0.002  0.001  0.008  0.155  0.003  0.954 \n",
       "        C_Q1_11\n",
       "C_Q1_1      NA \n",
       "C_Q1_2      NA \n",
       "C_Q1_3      NA \n",
       "C_Q1_4      NA \n",
       "C_Q1_5      NA \n",
       "C_Q1_6      NA \n",
       "C_Q1_7      NA \n",
       "C_Q1_8      NA \n",
       "C_Q1_9      NA \n",
       "C_Q1_10     NA \n",
       "C_Q1_11  ***** \n",
       "\n",
       "upper diagonal part contains correlation coefficient estimates \n",
       "lower diagonal part contains corresponding p-values\n"
      ]
     },
     "metadata": {},
     "output_type": "display_data"
    }
   ],
   "source": [
    "rcor.test(GRM_CQ1, method = \"kendall\")"
   ]
  },
  {
   "cell_type": "code",
   "execution_count": 229,
   "metadata": {},
   "outputs": [],
   "source": [
    "fit1_C <- grm(GRM_CQ1, constrained = TRUE)\n",
    "fit2_C <- grm(GRM_CQ1, constrained = FALSE)"
   ]
  },
  {
   "cell_type": "code",
   "execution_count": 230,
   "metadata": {},
   "outputs": [
    {
     "data": {
      "text/plain": [
       "\n",
       " Likelihood Ratio Table\n",
       "           AIC     BIC log.Lik   LRT df p.value\n",
       "fit1_C 1690.77 1772.34 -808.38                 \n",
       "fit2_C 1628.52 1732.15 -767.26 82.24 10  <0.001\n",
       "\n"
      ]
     },
     "metadata": {},
     "output_type": "display_data"
    }
   ],
   "source": [
    "anova(fit1_C,fit2_C)"
   ]
  },
  {
   "cell_type": "code",
   "execution_count": 231,
   "metadata": {},
   "outputs": [
    {
     "data": {
      "image/png": "[encoded data removed]",
      "text/plain": [
       "Plot with title \"Item Response Category Characteristic Curves - Item: C_Q1_1\""
      ]
     },
     "metadata": {},
     "output_type": "display_data"
    },
    {
     "data": {
      "image/png": "[encoded data removed]",
      "text/plain": [
       "Plot with title \"Item Response Category Characteristic Curves - Item: C_Q1_2\""
      ]
     },
     "metadata": {},
     "output_type": "display_data"
    },
    {
     "data": {
      "image/png": "[encoded data removed]",
      "text/plain": [
       "Plot with title \"Item Response Category Characteristic Curves - Item: C_Q1_3\""
      ]
     },
     "metadata": {},
     "output_type": "display_data"
    },
    {
     "data": {
      "image/png": "[encoded data removed]",
      "text/plain": [
       "Plot with title \"Item Response Category Characteristic Curves - Item: C_Q1_4\""
      ]
     },
     "metadata": {},
     "output_type": "display_data"
    },
    {
     "data": {
      "image/png": "[encoded data removed]",
      "text/plain": [
       "Plot with title \"Item Response Category Characteristic Curves - Item: C_Q1_5\""
      ]
     },
     "metadata": {},
     "output_type": "display_data"
    },
    {
     "data": {
      "image/png": "[encoded data removed]",
      "text/plain": [
       "Plot with title \"Item Response Category Characteristic Curves - Item: C_Q1_6\""
      ]
     },
     "metadata": {},
     "output_type": "display_data"
    },
    {
     "data": {
      "image/png": "[encoded data removed]",
      "text/plain": [
       "Plot with title \"Item Response Category Characteristic Curves - Item: C_Q1_7\""
      ]
     },
     "metadata": {},
     "output_type": "display_data"
    },
    {
     "data": {
      "image/png": "[encoded data removed]",
      "text/plain": [
       "Plot with title \"Item Response Category Characteristic Curves - Item: C_Q1_8\""
      ]
     },
     "metadata": {},
     "output_type": "display_data"
    },
    {
     "data": {
      "image/png": "[encoded data removed]",
      "text/plain": [
       "Plot with title \"Item Response Category Characteristic Curves - Item: C_Q1_9\""
      ]
     },
     "metadata": {},
     "output_type": "display_data"
    },
    {
     "data": {
      "image/png": "[encoded data removed]",
      "text/plain": [
       "Plot with title \"Item Response Category Characteristic Curves - Item: C_Q1_10\""
      ]
     },
     "metadata": {},
     "output_type": "display_data"
    },
    {
     "data": {
      "image/png": "[encoded data removed]",
      "text/plain": [
       "Plot with title \"Item Response Category Characteristic Curves - Item: C_Q1_11\""
      ]
     },
     "metadata": {},
     "output_type": "display_data"
    }
   ],
   "source": [
    "plot(fit2_C, lwd = 1, cex = 0.7, legend = TRUE, cx = \"left\",xlab = \"Latent Trait\", cex.main = 0.8, cex.lab = 0.7, cex.axis = 1)"
   ]
  },
  {
   "cell_type": "code",
   "execution_count": 232,
   "metadata": {},
   "outputs": [
    {
     "data": {
      "image/png": "[encoded data removed]",
      "text/plain": [
       "Plot with title \"Item Response Category Characteristic Curves - Category: 1\""
      ]
     },
     "metadata": {},
     "output_type": "display_data"
    }
   ],
   "source": [
    "plot(fit2_C, category = 1, lwd = 2, cex = 1, legend = TRUE, cx = -0.5,\n",
    "     cy = 0.85, xlab = \"Latent Trait\", cex.main = 1, cex.lab = 1,\n",
    "     cex.axis = 1)"
   ]
  },
  {
   "cell_type": "code",
   "execution_count": 233,
   "metadata": {},
   "outputs": [
    {
     "data": {
      "text/plain": [
       "\n",
       "Call:\n",
       "grm(data = GRM_CQ1, constrained = FALSE)\n",
       "\n",
       "Total Information = 31.15\n",
       "Information in (-4, 4) = 27.37 (87.84%)\n",
       "Based on all the items\n"
      ]
     },
     "metadata": {},
     "output_type": "display_data"
    }
   ],
   "source": [
    "information(fit2_C, c(-4, 4))"
   ]
  },
  {
   "cell_type": "code",
   "execution_count": 234,
   "metadata": {},
   "outputs": [
    {
     "data": {
      "text/plain": [
       "\n",
       "Call:\n",
       "grm(data = GRM_CQ1, constrained = FALSE)\n",
       "\n",
       "Total Information = 2.39\n",
       "Information in (-4, 4) = 1.32 (55.13%)\n",
       "Based on items 2, 10\n"
      ]
     },
     "metadata": {},
     "output_type": "display_data"
    }
   ],
   "source": [
    "information(fit2_C, c(-4, 4), items = c(2,10))"
   ]
  },
  {
   "cell_type": "code",
   "execution_count": 235,
   "metadata": {},
   "outputs": [
    {
     "data": {
      "text/html": [
       "0.0767255216693419"
      ],
      "text/latex": [
       "0.0767255216693419"
      ],
      "text/markdown": [
       "0.0767255216693419"
      ],
      "text/plain": [
       "[1] 0.07672552"
      ]
     },
     "metadata": {},
     "output_type": "display_data"
    }
   ],
   "source": [
    "2.39/31.15"
   ]
  },
  {
   "cell_type": "code",
   "execution_count": 236,
   "metadata": {},
   "outputs": [
    {
     "data": {
      "text/plain": [
       "\n",
       "Call:\n",
       "grm(data = GRM_CQ1, constrained = FALSE)\n",
       "\n",
       "Total Information = 3.32\n",
       "Information in (-4, 4) = 3.05 (91.95%)\n",
       "Based on items 9\n"
      ]
     },
     "metadata": {},
     "output_type": "display_data"
    }
   ],
   "source": [
    "information(fit2_C, c(-4, 4), items = 9)"
   ]
  },
  {
   "cell_type": "code",
   "execution_count": 237,
   "metadata": {},
   "outputs": [
    {
     "data": {
      "text/html": [
       "0.106581059390048"
      ],
      "text/latex": [
       "0.106581059390048"
      ],
      "text/markdown": [
       "0.106581059390048"
      ],
      "text/plain": [
       "[1] 0.1065811"
      ]
     },
     "metadata": {},
     "output_type": "display_data"
    }
   ],
   "source": [
    "3.32/31.15"
   ]
  },
  {
   "cell_type": "markdown",
   "metadata": {},
   "source": [
    "### GRM AQ2"
   ]
  },
  {
   "cell_type": "code",
   "execution_count": 238,
   "metadata": {},
   "outputs": [],
   "source": [
    "GRM_AQ2 <- data.frame(apply(MyData[,vec_AQ2],2,as.factor))"
   ]
  },
  {
   "cell_type": "code",
   "execution_count": 239,
   "metadata": {},
   "outputs": [
    {
     "name": "stderr",
     "output_type": "stream",
     "text": [
      "Warning message in alpha(data.frame(apply(MyData[, vec_AQ2], 2, as.numeric)), check.keys = TRUE):\n",
      "\"Some items were negatively correlated with total scale and were automatically reversed.\n",
      " This is indicated by a negative sign for the variable name.\""
     ]
    },
    {
     "data": {
      "text/plain": [
       "\n",
       "Reliability analysis   \n",
       "Call: alpha(x = data.frame(apply(MyData[, vec_AQ2], 2, as.numeric)), \n",
       "    check.keys = TRUE)\n",
       "\n",
       "  raw_alpha std.alpha G6(smc) average_r S/N   ase mean  sd\n",
       "      0.49       0.5    0.58      0.13   1 0.094  3.1 0.5\n",
       "\n",
       " lower alpha upper     95% confidence boundaries\n",
       "0.31 0.49 0.67 \n",
       "\n",
       " Reliability if an item is dropped:\n",
       "        raw_alpha std.alpha G6(smc) average_r  S/N alpha se\n",
       "A_Q2_1       0.40      0.40    0.47      0.10 0.68    0.110\n",
       "A_Q2_2       0.45      0.45    0.53      0.12 0.81    0.103\n",
       "A_Q2_3       0.36      0.34    0.44      0.08 0.52    0.118\n",
       "A_Q2_4       0.53      0.54    0.59      0.16 1.17    0.087\n",
       "A_Q2_5-      0.36      0.42    0.45      0.11 0.72    0.121\n",
       "A_Q2_6-      0.48      0.49    0.53      0.14 0.95    0.098\n",
       "A_Q2_7-      0.54      0.56    0.61      0.17 1.26    0.087\n",
       "\n",
       " Item statistics \n",
       "         n raw.r std.r r.cor r.drop mean   sd\n",
       "A_Q2_1  67  0.59  0.60 0.543  0.329  2.4 1.06\n",
       "A_Q2_2  67  0.45  0.53 0.398  0.259  3.6 0.74\n",
       "A_Q2_3  67  0.65  0.70 0.654  0.468  4.1 0.87\n",
       "A_Q2_4  67  0.27  0.34 0.139  0.016  4.3 0.87\n",
       "A_Q2_5- 67  0.65  0.58 0.548  0.415  2.7 1.06\n",
       "A_Q2_6- 67  0.56  0.45 0.333  0.209  3.0 1.33\n",
       "A_Q2_7- 67  0.30  0.30 0.049  0.024  1.7 0.98\n",
       "\n",
       "Non missing response frequency for each item\n",
       "          1    2    3    4    5 miss\n",
       "A_Q2_1 0.19 0.36 0.30 0.10 0.04    0\n",
       "A_Q2_2 0.00 0.07 0.37 0.48 0.07    0\n",
       "A_Q2_3 0.00 0.04 0.18 0.37 0.40    0\n",
       "A_Q2_4 0.01 0.00 0.18 0.27 0.54    0\n",
       "A_Q2_5 0.09 0.09 0.36 0.37 0.09    0\n",
       "A_Q2_6 0.18 0.16 0.30 0.19 0.16    0\n",
       "A_Q2_7 0.01 0.06 0.10 0.27 0.55    0"
      ]
     },
     "metadata": {},
     "output_type": "display_data"
    }
   ],
   "source": [
    "alpha(data.frame(apply(MyData[,vec_AQ2],2,as.numeric)),check.keys = TRUE)"
   ]
  },
  {
   "cell_type": "code",
   "execution_count": 240,
   "metadata": {},
   "outputs": [
    {
     "data": {
      "text/plain": [
       "\n",
       "       A_Q2_1 A_Q2_2 A_Q2_3 A_Q2_4 A_Q2_5 A_Q2_6 A_Q2_7\n",
       "A_Q2_1  *****  0.305  0.311  0.154 -0.227 -0.029  0.017\n",
       "A_Q2_2  0.004  *****  0.343  0.130 -0.016 -0.031  0.010\n",
       "A_Q2_3  0.003  0.002  *****  0.298 -0.201 -0.110 -0.019\n",
       "A_Q2_4  0.150  0.241  0.007  *****  0.027  0.122 -0.033\n",
       "A_Q2_5  0.029  0.881  0.058  0.805  *****  0.404  0.183\n",
       "A_Q2_6  0.772  0.771  0.288  0.245 <0.001  *****  0.073\n",
       "A_Q2_7  0.870  0.927  0.862  0.764  0.087  0.481  *****\n",
       "\n",
       "upper diagonal part contains correlation coefficient estimates \n",
       "lower diagonal part contains corresponding p-values\n"
      ]
     },
     "metadata": {},
     "output_type": "display_data"
    }
   ],
   "source": [
    "rcor.test(GRM_AQ2, method = \"kendall\")"
   ]
  },
  {
   "cell_type": "code",
   "execution_count": 241,
   "metadata": {},
   "outputs": [],
   "source": [
    "fit1_AQ2 <- grm(GRM_AQ2, constrained = TRUE)\n",
    "fit2_AQ2 <- grm(GRM_AQ2, constrained = FALSE)"
   ]
  },
  {
   "cell_type": "code",
   "execution_count": 242,
   "metadata": {},
   "outputs": [
    {
     "data": {
      "text/plain": [
       "\n",
       " Likelihood Ratio Table\n",
       "             AIC     BIC log.Lik   LRT df p.value\n",
       "fit1_AQ2 1232.08 1289.40 -590.04                 \n",
       "fit2_AQ2 1218.70 1289.25 -577.35 25.38  6  <0.001\n",
       "\n"
      ]
     },
     "metadata": {},
     "output_type": "display_data"
    }
   ],
   "source": [
    "anova(fit1_AQ2,fit2_AQ2)"
   ]
  },
  {
   "cell_type": "code",
   "execution_count": 243,
   "metadata": {},
   "outputs": [
    {
     "data": {
      "image/png": "[encoded data removed]",
      "text/plain": [
       "Plot with title \"Item Response Category Characteristic Curves - Category: 1\""
      ]
     },
     "metadata": {},
     "output_type": "display_data"
    }
   ],
   "source": [
    "plot(fit2_AQ2, category = 1, lwd = 2, cex = 1, legend = TRUE, cx = -0.5,\n",
    "     cy = 0.85, xlab = \"Latent Trait\", cex.main = 1, cex.lab = 1,\n",
    "     cex.axis = 1)"
   ]
  },
  {
   "cell_type": "code",
   "execution_count": null,
   "metadata": {},
   "outputs": [],
   "source": []
  }
 ],
 "metadata": {
  "kernelspec": {
   "display_name": "R 3.3",
   "language": "R",
   "name": "ir33"
  },
  "language_info": {
   "codemirror_mode": "r",
   "file_extension": ".r",
   "mimetype": "text/x-r-source",
   "name": "R",
   "pygments_lexer": "r",
   "version": "3.4.3"
  }
 },
 "nbformat": 4,
 "nbformat_minor": 2
}
