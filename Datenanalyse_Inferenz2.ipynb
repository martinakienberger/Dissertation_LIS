{
 "cells": [
  {
   "cell_type": "markdown",
   "metadata": {},
   "source": [
    "## Erschließungsstrategien für unbekannten Wortschatz von DaF-Lernenden an spanischen Universitäten (2017-19)\n",
    "# Datenanalyse (2)"
   ]
  },
  {
   "cell_type": "markdown",
   "metadata": {},
   "source": [
    "##### Werkzeuge und Daten importieren"
   ]
  },
  {
   "cell_type": "code",
   "execution_count": 1,
   "metadata": {},
   "outputs": [
    {
     "name": "stdout",
     "output_type": "stream",
     "text": [
      "Populating the interactive namespace from numpy and matplotlib\n"
     ]
    }
   ],
   "source": [
    "from funktionen import *\n",
    "import pandas as pd\n",
    "import matplotlib\n",
    "import numpy as np\n",
    "import scipy as sp\n",
    "import math\n",
    "from scipy import stats\n",
    "from sklearn import tree\n",
    "import seaborn as sns\n",
    "sns.set(style=\"whitegrid\") #\"white\", \"darkgrid\"...\n",
    "%pylab inline"
   ]
  },
  {
   "cell_type": "code",
   "execution_count": 2,
   "metadata": {},
   "outputs": [],
   "source": [
    "Daten = pd.read_pickle('D:\\Daten\\DISS\\Daten\\Estrategias_Estudiantes_2017-19_ber')"
   ]
  },
  {
   "cell_type": "code",
   "execution_count": 3,
   "metadata": {},
   "outputs": [
    {
     "data": {
      "text/plain": [
       "(401, 377)"
      ]
     },
     "execution_count": 3,
     "metadata": {},
     "output_type": "execute_result"
    }
   ],
   "source": [
    "Daten.shape"
   ]
  },
  {
   "cell_type": "code",
   "execution_count": 4,
   "metadata": {},
   "outputs": [],
   "source": [
    "#Daten.head(3)"
   ]
  },
  {
   "cell_type": "code",
   "execution_count": 96,
   "metadata": {},
   "outputs": [],
   "source": [
    "gloss = pd.read_pickle('D:\\Daten\\DISS\\Daten\\Gloss2018')"
   ]
  },
  {
   "cell_type": "markdown",
   "metadata": {},
   "source": [
    "##### Untergruppen und Listen für die Analyse"
   ]
  },
  {
   "cell_type": "code",
   "execution_count": 5,
   "metadata": {},
   "outputs": [],
   "source": [
    "Daten_A3 = Daten[Daten['A-Q3_27'] >= 1]"
   ]
  },
  {
   "cell_type": "code",
   "execution_count": 6,
   "metadata": {},
   "outputs": [
    {
     "data": {
      "text/plain": [
       "(396, 377)"
      ]
     },
     "execution_count": 6,
     "metadata": {},
     "output_type": "execute_result"
    }
   ],
   "source": [
    "Daten_A3.shape"
   ]
  },
  {
   "cell_type": "code",
   "execution_count": 7,
   "metadata": {},
   "outputs": [],
   "source": [
    "Finished = Daten[Daten['C-Q1_7'] >= 1]"
   ]
  },
  {
   "cell_type": "code",
   "execution_count": 8,
   "metadata": {},
   "outputs": [
    {
     "data": {
      "text/plain": [
       "(391, 377)"
      ]
     },
     "execution_count": 8,
     "metadata": {},
     "output_type": "execute_result"
    }
   ],
   "source": [
    "Finished.shape"
   ]
  },
  {
   "cell_type": "markdown",
   "metadata": {},
   "source": [
    "Liste erstellen:"
   ]
  },
  {
   "cell_type": "code",
   "execution_count": 9,
   "metadata": {},
   "outputs": [],
   "source": [
    "Liste_A_Q2 = [col for col in Daten.columns if 'A-Q2' in col]"
   ]
  },
  {
   "cell_type": "code",
   "execution_count": 10,
   "metadata": {},
   "outputs": [
    {
     "data": {
      "text/plain": [
       "'A-Q3_3_TEXT'"
      ]
     },
     "execution_count": 10,
     "metadata": {},
     "output_type": "execute_result"
    }
   ],
   "source": [
    "Liste_A_Q3 = [col for col in Daten.columns if 'A-Q3' in col]\n",
    "Liste_A_Q3.pop(3)"
   ]
  },
  {
   "cell_type": "code",
   "execution_count": 11,
   "metadata": {},
   "outputs": [],
   "source": [
    "Liste_C_Q1 = [col for col in Finished.columns if 'C-Q1' in col]"
   ]
  },
  {
   "cell_type": "code",
   "execution_count": 12,
   "metadata": {},
   "outputs": [],
   "source": [
    "#Liste_D = ['D-Q1','D-Q2','D-Q2a','D-Q2b','D-Q3','D-Q4','D-Q5','D-Q6']"
   ]
  },
  {
   "cell_type": "markdown",
   "metadata": {},
   "source": [
    "##### Vorbereitung der Daten für die Analyse"
   ]
  },
  {
   "cell_type": "markdown",
   "metadata": {},
   "source": [
    "Studienrichtung:"
   ]
  },
  {
   "cell_type": "code",
   "execution_count": 13,
   "metadata": {},
   "outputs": [],
   "source": [
    "Daten['D-Q2a_neu'] = 0"
   ]
  },
  {
   "cell_type": "code",
   "execution_count": 14,
   "metadata": {},
   "outputs": [],
   "source": [
    "j=0\n",
    "for i in Daten[Daten['D-Q2a']!=0]['D-Q2a']:\n",
    "    if i == 1:\n",
    "        Daten.loc[j,'D-Q2a_neu'] = 1\n",
    "    elif i == 2:\n",
    "        Daten.loc[j,'D-Q2a_neu'] = 2\n",
    "    elif i == 3 or i == 4:\n",
    "        Daten.loc[j,'D-Q2a_neu'] = 3\n",
    "    else:\n",
    "        Daten.loc[j,'D-Q2a_neu'] = 4\n",
    "    j = j+1"
   ]
  },
  {
   "cell_type": "markdown",
   "metadata": {},
   "source": [
    "Studienjahr (+ Studium):"
   ]
  },
  {
   "cell_type": "code",
   "execution_count": 15,
   "metadata": {},
   "outputs": [],
   "source": [
    "Daten['D-Q2b_neu'] = 0\n",
    "\n",
    "j=0\n",
    "for i in Daten[Daten['D-Q2b']!=0]['D-Q2b']:\n",
    "    if i == 1:\n",
    "        Daten.loc[j,'D-Q2b_neu'] = 1\n",
    "    elif i == 2:\n",
    "        Daten.loc[j,'D-Q2b_neu'] = 2\n",
    "    elif i == 3:\n",
    "        Daten.loc[j,'D-Q2b_neu'] = 3\n",
    "    elif i == 4:\n",
    "        Daten.loc[j,'D-Q2b_neu'] = 4\n",
    "    j = j+1"
   ]
  },
  {
   "cell_type": "code",
   "execution_count": 16,
   "metadata": {},
   "outputs": [],
   "source": [
    "j=0\n",
    "for i in Daten['D-Q2']:\n",
    "    if i == 2:\n",
    "        Daten.loc[j,'D-Q2b_neu'] = 5\n",
    "    elif i == 3:\n",
    "        Daten.loc[j,'D-Q2b_neu'] = 5\n",
    "    j = j+1"
   ]
  },
  {
   "cell_type": "code",
   "execution_count": 17,
   "metadata": {},
   "outputs": [
    {
     "data": {
      "text/plain": [
       "1    173\n",
       "2     87\n",
       "3     50\n",
       "0     46\n",
       "4     27\n",
       "5     18\n",
       "Name: D-Q2b_neu, dtype: int64"
      ]
     },
     "execution_count": 17,
     "metadata": {},
     "output_type": "execute_result"
    }
   ],
   "source": [
    "Daten['D-Q2b_neu'].value_counts()"
   ]
  },
  {
   "cell_type": "markdown",
   "metadata": {},
   "source": [
    "Niveau:"
   ]
  },
  {
   "cell_type": "code",
   "execution_count": 18,
   "metadata": {},
   "outputs": [],
   "source": [
    "Daten['D-Q4_neu'] = 0\n",
    "\n",
    "j=0\n",
    "for i in Daten[Daten['D-Q4']!=0]['D-Q4']:\n",
    "    if i == 1:\n",
    "        Daten.loc[j,'D-Q4_neu'] = 1\n",
    "    elif i == 2:\n",
    "        Daten.loc[j,'D-Q4_neu'] = 2\n",
    "    elif i == 3:\n",
    "        Daten.loc[j,'D-Q4_neu'] = 3\n",
    "    elif i == 4:\n",
    "        Daten.loc[j,'D-Q4_neu'] = 4\n",
    "    else:\n",
    "        Daten.loc[j,'D-Q4_neu'] = 5\n",
    "    j = j+1"
   ]
  },
  {
   "cell_type": "code",
   "execution_count": 19,
   "metadata": {},
   "outputs": [
    {
     "data": {
      "text/plain": [
       "1    151\n",
       "3    103\n",
       "2     66\n",
       "5     35\n",
       "4     34\n",
       "0     12\n",
       "Name: D-Q4_neu, dtype: int64"
      ]
     },
     "execution_count": 19,
     "metadata": {},
     "output_type": "execute_result"
    }
   ],
   "source": [
    "Daten['D-Q4_neu'].value_counts()"
   ]
  },
  {
   "cell_type": "markdown",
   "metadata": {},
   "source": [
    "Alter:"
   ]
  },
  {
   "cell_type": "code",
   "execution_count": 20,
   "metadata": {},
   "outputs": [],
   "source": [
    "Daten['D-Q5_neu'] = 0\n",
    "\n",
    "j=0\n",
    "for i in Daten[Daten['D-Q5']!=0]['D-Q5']:\n",
    "    if i <= 18:\n",
    "        Daten.loc[j,'D-Q5_neu'] = 1\n",
    "    elif i == 19:\n",
    "        Daten.loc[j,'D-Q5_neu'] = 2\n",
    "    elif i == 20 or i == 4:\n",
    "        Daten.loc[j,'D-Q5_neu'] = 3\n",
    "    else:\n",
    "        Daten.loc[j,'D-Q5_neu'] = 4\n",
    "    j = j+1"
   ]
  },
  {
   "cell_type": "code",
   "execution_count": 21,
   "metadata": {},
   "outputs": [
    {
     "data": {
      "text/plain": [
       "4    125\n",
       "1    104\n",
       "2     84\n",
       "3     66\n",
       "0     22\n",
       "Name: D-Q5_neu, dtype: int64"
      ]
     },
     "execution_count": 21,
     "metadata": {},
     "output_type": "execute_result"
    }
   ],
   "source": [
    "Daten['D-Q5_neu'].value_counts()"
   ]
  },
  {
   "cell_type": "markdown",
   "metadata": {},
   "source": [
    "Erstsprache Spanisch:"
   ]
  },
  {
   "cell_type": "code",
   "execution_count": 22,
   "metadata": {},
   "outputs": [],
   "source": [
    "Daten['D-Q7_neu'] = 0\n",
    "\n",
    "j=0\n",
    "for i in Daten['D-Q7']:\n",
    "    if i == 1:\n",
    "        Daten.loc[j,'D-Q7_neu'] = 1\n",
    "    j = j+1\n",
    "\n",
    "j=0\n",
    "for i in Daten['D-Q7c']:\n",
    "    if i == 1:\n",
    "        Daten.loc[j,'D-Q7_neu'] = 1\n",
    "    j = j+1\n",
    "\n",
    "j=0\n",
    "for i in Daten['D-Q7e']:\n",
    "    if i == 1:\n",
    "        Daten.loc[j,'D-Q7_neu'] = 1\n",
    "    j = j+1"
   ]
  },
  {
   "cell_type": "markdown",
   "metadata": {},
   "source": [
    "363 Studierende haben Spanisch als eine ihrer Erstsprachen angegeben. Die übrigen 25 verteilen sich auf verschiedene Sprachen (13 TN haben diese Frage nicht beantwortet), darunter haben 5 Personen Katalanisch/Valencianisch und 4 Galicisch angegeben."
   ]
  },
  {
   "cell_type": "code",
   "execution_count": 23,
   "metadata": {},
   "outputs": [
    {
     "data": {
      "text/plain": [
       "2    287\n",
       "1    103\n",
       "0     11\n",
       "Name: D-Q7b, dtype: int64"
      ]
     },
     "execution_count": 23,
     "metadata": {},
     "output_type": "execute_result"
    }
   ],
   "source": [
    "Daten['D-Q7b'].value_counts()"
   ]
  },
  {
   "cell_type": "markdown",
   "metadata": {},
   "source": [
    "103 Personen sind laut eigenen Angaben bi- oder trilingual."
   ]
  },
  {
   "cell_type": "markdown",
   "metadata": {},
   "source": [
    "Weitere Sprachkenntnisse:"
   ]
  },
  {
   "cell_type": "code",
   "execution_count": 24,
   "metadata": {},
   "outputs": [],
   "source": [
    "Spr_cols = ['D-Q7','D-Q7c','D-Q7e','D-Q8_1','D-Q8_2','D-Q8_3','D-Q8_4','D-Q8_5','D-Q8_6','D-Q8_7']"
   ]
  },
  {
   "cell_type": "code",
   "execution_count": 25,
   "metadata": {},
   "outputs": [],
   "source": [
    "l_germ = [9,15,39,19,36]\n",
    "l_rom = [13,16,17]\n",
    "l_slaw = [23,24,25,26,27,28,41,18,44]\n",
    "l_asiat = [6,7,8,22,31,42,45]"
   ]
  },
  {
   "cell_type": "code",
   "execution_count": 26,
   "metadata": {},
   "outputs": [],
   "source": [
    "Daten['D-Q8_fr'] = 0\n",
    "Daten['D-Q8_gr'] = 0\n",
    "Daten['D-Q8_lat'] = 0\n",
    "Daten['D-Q8_germ'] = 0\n",
    "Daten['D-Q8_rom'] = 0\n",
    "Daten['D-Q8_slaw'] = 0\n",
    "Daten['D-Q8_asiat'] = 0"
   ]
  },
  {
   "cell_type": "code",
   "execution_count": 27,
   "metadata": {},
   "outputs": [],
   "source": [
    "for i in Daten.index:\n",
    "    for el in Daten.loc[i,Spr_cols]:\n",
    "        if el == 10:\n",
    "            Daten.loc[i,'D-Q8_fr'] = 1\n",
    "            pass"
   ]
  },
  {
   "cell_type": "code",
   "execution_count": 28,
   "metadata": {},
   "outputs": [],
   "source": [
    "for i in Daten.index:\n",
    "    for el in Daten.loc[i,Spr_cols]:\n",
    "        if el == 20:\n",
    "            Daten.loc[i,'D-Q8_gr'] = 1\n",
    "            pass"
   ]
  },
  {
   "cell_type": "code",
   "execution_count": 29,
   "metadata": {},
   "outputs": [],
   "source": [
    "for i in Daten.index:\n",
    "    for el in Daten.loc[i,Spr_cols]:\n",
    "        if el == 21:\n",
    "            Daten.loc[i,'D-Q8_lat'] = 1\n",
    "            pass"
   ]
  },
  {
   "cell_type": "code",
   "execution_count": 30,
   "metadata": {},
   "outputs": [],
   "source": [
    "for i in Daten.index:\n",
    "    for el in Daten.loc[i,Spr_cols]:\n",
    "        if el in l_germ:\n",
    "            Daten.loc[i,'D-Q8_germ'] = 1\n",
    "            pass"
   ]
  },
  {
   "cell_type": "code",
   "execution_count": 31,
   "metadata": {},
   "outputs": [],
   "source": [
    "for i in Daten.index:\n",
    "    for el in Daten.loc[i,Spr_cols]:\n",
    "        if el in l_rom:\n",
    "            Daten.loc[i,'D-Q8_rom'] = 1\n",
    "            pass"
   ]
  },
  {
   "cell_type": "code",
   "execution_count": 32,
   "metadata": {},
   "outputs": [],
   "source": [
    "for i in Daten.index:\n",
    "    for el in Daten.loc[i,Spr_cols]:\n",
    "        if el in l_slaw:\n",
    "            Daten.loc[i,'D-Q8_slaw'] = 1\n",
    "            pass"
   ]
  },
  {
   "cell_type": "code",
   "execution_count": 33,
   "metadata": {},
   "outputs": [],
   "source": [
    "for i in Daten.index:\n",
    "    for el in Daten.loc[i,Spr_cols]:\n",
    "        if el in l_asiat:\n",
    "            Daten.loc[i,'D-Q8_asiat'] = 1\n",
    "            pass"
   ]
  },
  {
   "cell_type": "markdown",
   "metadata": {},
   "source": [
    "Strategienerwerbskontexte:"
   ]
  },
  {
   "cell_type": "code",
   "execution_count": 34,
   "metadata": {},
   "outputs": [],
   "source": [
    "erwerb = {'E1': ['B-Q2-1_1','B-Q2-1_2','B-Q2-1_3','B-Q2-1_4','B-Q2-1_5','B-Q2-1_6','B-Q2-1_7'], \n",
    "         'E2': ['B-Q2-2_1','B-Q2-2_2','B-Q2-2_3','B-Q2-2_4','B-Q2-2_5','B-Q2-2_6','B-Q2-2_7'],\n",
    "         'E3': ['B-Q2-3_1','B-Q2-3_2','B-Q2-3_3','B-Q2-3_4','B-Q2-3_5','B-Q2-3_6','B-Q2-3_7'],\n",
    "         'E4': ['B-Q2-4_1','B-Q2-4_2','B-Q2-4_3','B-Q2-4_4','B-Q2-4_5','B-Q2-4_6','B-Q2-4_7'],\n",
    "         'E5': ['B-Q2-5_1','B-Q2-5_2','B-Q2-5_3','B-Q2-5_4','B-Q2-5_5','B-Q2-5_6','B-Q2-5_7'],\n",
    "         'E6': ['B-Q2-6_1','B-Q2-6_2','B-Q2-6_3','B-Q2-6_4','B-Q2-6_5','B-Q2-6_6','B-Q2-6_7'],\n",
    "         'E7': ['B-Q2-7_1','B-Q2-7_2','B-Q2-7_3','B-Q2-7_4','B-Q2-7_5','B-Q2-7_6','B-Q2-7_7'],\n",
    "         'E8': ['B-Q2-8_1','B-Q2-8_2','B-Q2-8_3','B-Q2-8_4','B-Q2-8_5'],\n",
    "         'E9': ['B-Q2-9_1','B-Q2-9_2','B-Q2-9_3','B-Q2-9_4','B-Q2-9_5']}"
   ]
  },
  {
   "cell_type": "markdown",
   "metadata": {},
   "source": [
    "* 1- En las clases de Lengua y Literatura en el colegio o instituto\n",
    "* 2- En las clases de inglés en el colegio o instituto\n",
    "* 3- En otras clases de idiomas en el colegio o instituto\n",
    "* 4- En clases de alemán anteriores en la Universidad\n",
    "* 5- En otras asignaturas de mi carrera universitaria\n",
    "* 6- En clases de lenguas en escuelas de idiomas o academias\n",
    "* 7- En mi curso de alemán actual\n",
    "* 8- En mi familia, con mis amigos/as o compañeros/as de clase\n",
    "* 9- Por mi cuenta, sin ayuda de otras personas\n",
    "* 10- Otros:\n",
    "* 11- No sé cómo he aprendido estas estrategias."
   ]
  },
  {
   "cell_type": "code",
   "execution_count": 35,
   "metadata": {},
   "outputs": [],
   "source": [
    "Daten['B-Q2_E1'] = 0\n",
    "Daten['B-Q2_E2'] = 0\n",
    "Daten['B-Q2_E3'] = 0\n",
    "Daten['B-Q2_E4'] = 0\n",
    "Daten['B-Q2_E5'] = 0\n",
    "Daten['B-Q2_E6'] = 0\n",
    "Daten['B-Q2_E7'] = 0\n",
    "Daten['B-Q2_E8'] = 0\n",
    "Daten['B-Q2_E9'] = 0"
   ]
  },
  {
   "cell_type": "code",
   "execution_count": 36,
   "metadata": {},
   "outputs": [],
   "source": [
    "add_columns(Daten,erwerb['E1'],'B-Q2_E1')"
   ]
  },
  {
   "cell_type": "code",
   "execution_count": 37,
   "metadata": {},
   "outputs": [],
   "source": [
    "add_columns(Daten,erwerb['E2'],'B-Q2_E2')"
   ]
  },
  {
   "cell_type": "code",
   "execution_count": 38,
   "metadata": {},
   "outputs": [],
   "source": [
    "add_columns(Daten,erwerb['E3'],'B-Q2_E3')"
   ]
  },
  {
   "cell_type": "code",
   "execution_count": 39,
   "metadata": {},
   "outputs": [],
   "source": [
    "add_columns(Daten,erwerb['E4'],'B-Q2_E4')"
   ]
  },
  {
   "cell_type": "code",
   "execution_count": 40,
   "metadata": {},
   "outputs": [],
   "source": [
    "add_columns(Daten,erwerb['E5'],'B-Q2_E5')"
   ]
  },
  {
   "cell_type": "code",
   "execution_count": 41,
   "metadata": {},
   "outputs": [],
   "source": [
    "add_columns(Daten,erwerb['E6'],'B-Q2_E6')"
   ]
  },
  {
   "cell_type": "code",
   "execution_count": 42,
   "metadata": {},
   "outputs": [],
   "source": [
    "add_columns(Daten,erwerb['E7'],'B-Q2_E7')"
   ]
  },
  {
   "cell_type": "code",
   "execution_count": 43,
   "metadata": {},
   "outputs": [],
   "source": [
    "add_columns(Daten,erwerb['E8'],'B-Q2_E8')"
   ]
  },
  {
   "cell_type": "code",
   "execution_count": 44,
   "metadata": {},
   "outputs": [],
   "source": [
    "add_columns(Daten,erwerb['E9'],'B-Q2_E9')"
   ]
  },
  {
   "cell_type": "markdown",
   "metadata": {},
   "source": [
    "Methoden des Strategienerwerbs:"
   ]
  },
  {
   "cell_type": "code",
   "execution_count": 45,
   "metadata": {},
   "outputs": [],
   "source": [
    "erwerb1 = {'U1': ['B-Q2-1_1','B-Q2-2_1','B-Q2-3_1','B-Q2-4_1','B-Q2-5_1','B-Q2-6_1','B-Q2-7_1'], \n",
    "         'U2': ['B-Q2-1_2','B-Q2-2_2','B-Q2-3_2','B-Q2-4_2','B-Q2-5_2','B-Q2-6_2','B-Q2-7_2'],\n",
    "         'U3': ['B-Q2-1_3','B-Q2-2_3','B-Q2-3_3','B-Q2-4_3','B-Q2-5_3','B-Q2-6_3','B-Q2-7_3'],\n",
    "         'U4': ['B-Q2-1_4','B-Q2-2_4','B-Q2-3_4','B-Q2-4_4','B-Q2-5_4','B-Q2-6_4','B-Q2-7_4'],\n",
    "         'U5': ['B-Q2-1_5','B-Q2-2_5','B-Q2-3_5','B-Q2-4_5','B-Q2-5_5','B-Q2-6_5','B-Q2-7_5'],\n",
    "         'U6': ['B-Q2-1_6','B-Q2-2_6','B-Q2-3_6','B-Q2-4_6','B-Q2-5_6','B-Q2-6_6','B-Q2-7_6']}"
   ]
  },
  {
   "cell_type": "markdown",
   "metadata": {},
   "source": [
    "* (1)\tLas estrategias se presentaron (y explicaron) en clase.\n",
    "* (2)\tEl/La profesor/a dio consejos sobre cómo familiarizarse de manera autónoma con estas estrategias, p. ej. mediante páginas web, libros u otros materiales que explican estrategias de aprendizaje. \n",
    "* (3)\tEstas estrategias se explicaron y practicaron con ejemplos concretos, realizando tareas, p. ej. leyendo un texto difícil.\n",
    "* (4)\tSe probaron y se compararon diferentes estrategias.\n",
    "* (5)\tSe reflexionó sobre el uso de estas estrategias, p. ej. sobre qué estrategia sería adecuada en una situación y/o para una persona determinada.\n",
    "* (6)\tDurante las clases he aprendido estas estrategias de manera inconsciente, p. ej. mientras leía textos difíciles, sin explicación o indicación del/de la profesor/a.\n",
    "* (7)\tOtros:"
   ]
  },
  {
   "cell_type": "code",
   "execution_count": 46,
   "metadata": {},
   "outputs": [],
   "source": [
    "Daten['B-Q2_U1'] = 0\n",
    "Daten['B-Q2_U2'] = 0\n",
    "Daten['B-Q2_U3'] = 0\n",
    "Daten['B-Q2_U4'] = 0\n",
    "Daten['B-Q2_U5'] = 0\n",
    "Daten['B-Q2_U6'] = 0"
   ]
  },
  {
   "cell_type": "code",
   "execution_count": 47,
   "metadata": {},
   "outputs": [],
   "source": [
    "add_columns(Daten,erwerb1['U1'],'B-Q2_U1')"
   ]
  },
  {
   "cell_type": "code",
   "execution_count": 48,
   "metadata": {},
   "outputs": [],
   "source": [
    "add_columns(Daten,erwerb1['U2'],'B-Q2_U2')"
   ]
  },
  {
   "cell_type": "code",
   "execution_count": 49,
   "metadata": {},
   "outputs": [],
   "source": [
    "add_columns(Daten,erwerb1['U3'],'B-Q2_U3')"
   ]
  },
  {
   "cell_type": "code",
   "execution_count": 50,
   "metadata": {},
   "outputs": [],
   "source": [
    "add_columns(Daten,erwerb1['U4'],'B-Q2_U4')"
   ]
  },
  {
   "cell_type": "code",
   "execution_count": 51,
   "metadata": {},
   "outputs": [],
   "source": [
    "add_columns(Daten,erwerb1['U5'],'B-Q2_U5')"
   ]
  },
  {
   "cell_type": "code",
   "execution_count": 52,
   "metadata": {},
   "outputs": [],
   "source": [
    "add_columns(Daten,erwerb1['U6'],'B-Q2_U6')"
   ]
  },
  {
   "cell_type": "markdown",
   "metadata": {},
   "source": [
    "Kombinierter Strategieneinsatz:"
   ]
  },
  {
   "cell_type": "code",
   "execution_count": 53,
   "metadata": {},
   "outputs": [],
   "source": [
    "strat = {'S1': ['A-Q3_5','A-Q3_6','A-Q3_7','A-Q3_8','A-Q3_9'], \n",
    "         'S2': ['A-Q3_1','A-Q3_2','A-Q3_3','A-Q3_4','A-Q3_5'],\n",
    "         'S3': ['A-Q3_9','A-Q3_10','A-Q3_11','A-Q3_12'],\n",
    "         'S4': ['A-Q3_13','A-Q3_14','A-Q3_15','A-Q3_16','A-Q3_17','A-Q3_18','A-Q3_19','A-Q3_20'],\n",
    "         #'S4a': ['A-Q3_13','A-Q3_14','A-Q3_15','A-Q3_16'],\n",
    "         #'S4b': ['A-Q3_17','A-Q3_18','A-Q3_19','A-Q3_20'],\n",
    "         'S5': ['A-Q3_21','A-Q3_22','A-Q3_23','A-Q3_24','A-Q3_25'],\n",
    "         'S6': ['A-Q3_26','A-Q3_27','A-Q3_28','A-Q3_29','A-Q3_30','A-Q3_31']}"
   ]
  },
  {
   "cell_type": "markdown",
   "metadata": {},
   "source": [
    "* S1: Auf Wortebene - intralingual\n",
    "* S2: Auf Wortebene - interlingual\n",
    "* S3: Auf Satz- und Textebene - engerer Kontext\n",
    "* S4: Auf Satz- und Textebene - weiterer Kontext (S4a: intratextuell, S4b: Bezug zu Fach- und Weltwissen)\n",
    "* S5: Außersprachlicher Kontext\n",
    "* S6: Metakognitive Strategien"
   ]
  },
  {
   "cell_type": "code",
   "execution_count": 54,
   "metadata": {},
   "outputs": [],
   "source": [
    "Daten['A-Q4'] = 0"
   ]
  },
  {
   "cell_type": "code",
   "execution_count": 55,
   "metadata": {},
   "outputs": [],
   "source": [
    "for i in Daten.index:\n",
    "    el1 = Daten.loc[i,strat['S1']]\n",
    "    media1, numer1 = el1.mean(), el1[el1>=3].count()\n",
    "    el2 = Daten.loc[i,strat['S2']]\n",
    "    media2, numer2 = el2.mean(), el2[el2>=3].count()\n",
    "    el3 = Daten.loc[i,strat['S3']]\n",
    "    media3, numer3 = el3.mean(), el3[el3>=3].count()\n",
    "    el4 = Daten.loc[i,strat['S4']]\n",
    "    media4, numer4 = el4.mean(), el4[el4>=3].count()\n",
    "    el5 = Daten.loc[i,strat['S5']]\n",
    "    media5, numer5 = el5.mean(), el5[el5>=3].count()\n",
    "    el6 = Daten.loc[i,strat['S6']]\n",
    "    media6, numer6 = el6.mean(), el6[el6>=3].count()\n",
    "    #if media1 >= 2 and numer1 >= 2 and media2 >= 2 and numer2 >= 2 and media3 >= 2 and numer3 >= 2 and media4 >= 2 and numer4 >= 4 and media5 >= 2 and numer5 >= 2 and media6 >= 2 and numer6 >= 3:\n",
    "    if numer1 >= 2 and numer2 >= 2 and numer3 >= 2 and numer4 >= 4 and numer5 >= 2 and numer6 >= 3:\n",
    "        Daten.loc[i,'A-Q4'] = 1"
   ]
  },
  {
   "cell_type": "code",
   "execution_count": 56,
   "metadata": {},
   "outputs": [
    {
     "data": {
      "text/plain": [
       "1    260\n",
       "0    141\n",
       "Name: A-Q4, dtype: int64"
      ]
     },
     "execution_count": 56,
     "metadata": {},
     "output_type": "execute_result"
    }
   ],
   "source": [
    "Daten['A-Q4'].value_counts()"
   ]
  },
  {
   "cell_type": "code",
   "execution_count": 57,
   "metadata": {},
   "outputs": [],
   "source": [
    "def get_good_str(df):\n",
    "    df_good = df[((df[strat['S1']] >= 3).sum(axis=1) >= 2) & ((df[strat['S2']] >= 3).sum(axis=1) >= 2) & ((df[strat['S3']] >= 3).sum(axis=1) >= 2) & ((df[strat['S4']] >= 3).sum(axis=1) >= 4) & ((df[strat['S5']] >= 3).sum(axis=1) >= 2) & ((df[strat['S6']] >= 3).sum(axis=1) >= 3)]\n",
    "    return df_good.shape[0], (df_good.shape[0])/(df.shape[0])*100"
   ]
  },
  {
   "cell_type": "code",
   "execution_count": 58,
   "metadata": {},
   "outputs": [],
   "source": [
    "Stud_U1 = Finished[(Finished['B-Q2-1_1'] == 1) | (Finished['B-Q2-2_1'] == 1) | (Finished['B-Q2-3_1'] == 1) | (Finished['B-Q2-4_1'] == 1) | (Finished['B-Q2-5_1'] == 1) | (Finished['B-Q2-6_1'] == 1) | (Finished['B-Q2-7_1'] == 1)]\n",
    "Stud_U2 = Finished[(Finished['B-Q2-1_2'] == 1) | (Finished['B-Q2-2_2'] == 1) | (Finished['B-Q2-3_2'] == 1) | (Finished['B-Q2-4_2'] == 1) | (Finished['B-Q2-5_2'] == 1) | (Finished['B-Q2-6_2'] == 1) | (Finished['B-Q2-7_2'] == 1)]\n",
    "Stud_U3 = Finished[(Finished['B-Q2-1_3'] == 1) | (Finished['B-Q2-2_3'] == 1) | (Finished['B-Q2-3_3'] == 1) | (Finished['B-Q2-4_3'] == 1) | (Finished['B-Q2-5_3'] == 1) | (Finished['B-Q2-6_3'] == 1) | (Finished['B-Q2-7_3'] == 1)]\n",
    "Stud_U4 = Finished[(Finished['B-Q2-1_4'] == 1) | (Finished['B-Q2-2_4'] == 1) | (Finished['B-Q2-3_4'] == 1) | (Finished['B-Q2-4_4'] == 1) | (Finished['B-Q2-5_4'] == 1) | (Finished['B-Q2-6_4'] == 1) | (Finished['B-Q2-7_4'] == 1)]\n",
    "Stud_U5 = Finished[(Finished['B-Q2-1_5'] == 1) | (Finished['B-Q2-2_5'] == 1) | (Finished['B-Q2-3_5'] == 1) | (Finished['B-Q2-4_5'] == 1) | (Finished['B-Q2-5_5'] == 1) | (Finished['B-Q2-6_5'] == 1) | (Finished['B-Q2-7_5'] == 1)]\n",
    "Stud_U6 = Finished[(Finished['B-Q2-1_6'] == 1) | (Finished['B-Q2-2_6'] == 1) | (Finished['B-Q2-3_6'] == 1) | (Finished['B-Q2-4_6'] == 1) | (Finished['B-Q2-5_6'] == 1) | (Finished['B-Q2-6_6'] == 1) | (Finished['B-Q2-7_6'] == 1)]"
   ]
  },
  {
   "cell_type": "code",
   "execution_count": 59,
   "metadata": {},
   "outputs": [],
   "source": [
    "Liste_A_Q3.append('A-Q4')"
   ]
  },
  {
   "cell_type": "markdown",
   "metadata": {},
   "source": [
    "Ergbnisse der Faktorenanalyse (in R durchgeführt):"
   ]
  },
  {
   "cell_type": "code",
   "execution_count": 60,
   "metadata": {},
   "outputs": [],
   "source": [
    "fakt = {'F1': ['A-Q3_6','A-Q3_7','A-Q3_8','A-Q3_9','A-Q3_14','A-Q3_15','A-Q3_10'], \n",
    "        'F2': ['A-Q3_1','A-Q3_2','A-Q3_3','A-Q3_4','A-Q3_5'],\n",
    "        'F3': ['A-Q3_10','A-Q3_11','A-Q3_12','A-Q3_13'],\n",
    "        'F4': ['A-Q3_16','A-Q3_17','A-Q3_18','A-Q3_19','A-Q3_20'],\n",
    "        'F5': ['A-Q3_21','A-Q3_22','A-Q3_23','A-Q3_24'],\n",
    "        'F6': ['A-Q3_26','A-Q3_27','A-Q3_28','A-Q3_29','A-Q3_30','A-Q3_31']}"
   ]
  },
  {
   "cell_type": "markdown",
   "metadata": {},
   "source": [
    "* F1(MR2): intralinguale Hinweise (Wortbildung, morphosyntaktische Regularitäten, Orthographie) + Konnektoren, Erklärungshilfen\n",
    "* F2(MR3): interlinguale Hinweise (inkl. Ethymologie)\n",
    "* F3(MR4): engerer Kontext, Analyse auf Satzebene (Syntax, semantische Relationen)\n",
    "* F4(MR1): Kontextwissen (Textsorte, behandeltes Thema, kulturelles Wissen...)\n",
    "* F5(MR6): Bilder, Grafiken, Symbole, Zahlen, Kommunikationssituation\n",
    "* F6(MR5): metakognitive Strategien"
   ]
  },
  {
   "cell_type": "markdown",
   "metadata": {},
   "source": [
    "Erhebungssituation:"
   ]
  },
  {
   "cell_type": "code",
   "execution_count": 61,
   "metadata": {},
   "outputs": [],
   "source": [
    "Daten['D-Q9_pap'] = 0\n",
    "\n",
    "j=0\n",
    "for i in Daten['IPAddress']:\n",
    "    if i == '2.154.100.40':\n",
    "        Daten.loc[j,'D-Q9_pap'] = 1\n",
    "    j = j+1"
   ]
  },
  {
   "cell_type": "code",
   "execution_count": 62,
   "metadata": {},
   "outputs": [
    {
     "data": {
      "text/plain": [
       "67    54\n",
       "50     7\n",
       "20     3\n",
       "63     1\n",
       "Name: D-Q1, dtype: int64"
      ]
     },
     "execution_count": 62,
     "metadata": {},
     "output_type": "execute_result"
    }
   ],
   "source": [
    "Daten[Daten['D-Q9_pap']==1]['D-Q1'].value_counts()"
   ]
  },
  {
   "cell_type": "markdown",
   "metadata": {},
   "source": [
    "Universitäten:"
   ]
  },
  {
   "cell_type": "code",
   "execution_count": 63,
   "metadata": {},
   "outputs": [],
   "source": [
    "Daten['D-Q1_Sal'] = 0\n",
    "Daten['D-Q1_Sev'] = 0\n",
    "Daten['D-Q1_Vigo'] = 0\n",
    "Daten['D-Q1_Gran'] = 0\n",
    "Daten['D-Q1_Sant'] = 0\n",
    "Daten['D-Q1_Madrid'] = 0"
   ]
  },
  {
   "cell_type": "code",
   "execution_count": 64,
   "metadata": {},
   "outputs": [],
   "source": [
    "j=0\n",
    "for i in Daten['D-Q1']:\n",
    "    if i == 63:\n",
    "        Daten.loc[j,'D-Q1_Sal'] = 1\n",
    "    j = j+1"
   ]
  },
  {
   "cell_type": "code",
   "execution_count": 65,
   "metadata": {},
   "outputs": [],
   "source": [
    "j=0\n",
    "for i in Daten['D-Q1']:\n",
    "    if i == 67:\n",
    "        Daten.loc[j,'D-Q1_Sev'] = 1\n",
    "    j = j+1"
   ]
  },
  {
   "cell_type": "code",
   "execution_count": 66,
   "metadata": {},
   "outputs": [],
   "source": [
    "j=0\n",
    "for i in Daten['D-Q1']:\n",
    "    if i == 73:\n",
    "        Daten.loc[j,'D-Q1_Vigo'] = 1\n",
    "    j = j+1"
   ]
  },
  {
   "cell_type": "code",
   "execution_count": 67,
   "metadata": {},
   "outputs": [],
   "source": [
    "j=0\n",
    "for i in Daten['D-Q1']:\n",
    "    if i == 29:\n",
    "        Daten.loc[j,'D-Q1_Gran'] = 1\n",
    "    j = j+1"
   ]
  },
  {
   "cell_type": "code",
   "execution_count": 68,
   "metadata": {},
   "outputs": [],
   "source": [
    "j=0\n",
    "for i in Daten['D-Q1']:\n",
    "    if i == 66:\n",
    "        Daten.loc[j,'D-Q1_Sant'] = 1\n",
    "    j = j+1"
   ]
  },
  {
   "cell_type": "code",
   "execution_count": 69,
   "metadata": {},
   "outputs": [],
   "source": [
    "j=0\n",
    "for i in Daten['D-Q1']:\n",
    "    if i == 20:\n",
    "        Daten.loc[j,'D-Q1_Madrid'] = 1\n",
    "    j = j+1"
   ]
  },
  {
   "cell_type": "code",
   "execution_count": 70,
   "metadata": {},
   "outputs": [
    {
     "data": {
      "text/plain": [
       "0    375\n",
       "1     26\n",
       "Name: D-Q1_Madrid, dtype: int64"
      ]
     },
     "execution_count": 70,
     "metadata": {},
     "output_type": "execute_result"
    }
   ],
   "source": [
    "Daten['D-Q1_Madrid'].value_counts()"
   ]
  },
  {
   "cell_type": "code",
   "execution_count": 71,
   "metadata": {},
   "outputs": [],
   "source": [
    "Finished = Daten[Daten['Finished']==1]"
   ]
  },
  {
   "cell_type": "code",
   "execution_count": 72,
   "metadata": {},
   "outputs": [],
   "source": [
    "X = Finished[Finished['D-Q4_neu']!=0][Liste_A_Q2]\n",
    "y = Finished[Finished['D-Q4_neu']!=0]['D-Q4_neu']"
   ]
  },
  {
   "cell_type": "code",
   "execution_count": 73,
   "metadata": {},
   "outputs": [],
   "source": [
    "#clf = tree.DecisionTreeClassifier()\n",
    "#clf = clf.fit(X, y)"
   ]
  },
  {
   "cell_type": "code",
   "execution_count": 74,
   "metadata": {},
   "outputs": [],
   "source": [
    "#tree.plot_tree(clf)"
   ]
  },
  {
   "cell_type": "code",
   "execution_count": 75,
   "metadata": {},
   "outputs": [],
   "source": [
    "col_vars = ['D-Q4_neu',\n",
    "            'D-Q8_fr','D-Q8_gr','D-Q8_lat','D-Q8_germ','D-Q8_rom','D-Q8_slaw','D-Q8_asiat',\n",
    "            'B-Q2_E1','B-Q2_E2','B-Q2_E3','B-Q2_E4','B-Q2_E5','B-Q2_E6','B-Q2_E7','B-Q2_E8','B-Q2_E9',\n",
    "            'B-Q2_U1','B-Q2_U2','B-Q2_U3','B-Q2_U4','B-Q2_U5','B-Q2_U6']\n"
   ]
  },
  {
   "cell_type": "code",
   "execution_count": 76,
   "metadata": {},
   "outputs": [],
   "source": [
    "def get_CT_int(data,col,row):\n",
    "    col_names = [col+'_'+str(el) for el in np.sort(data[col].unique()) ]\n",
    "    row_names = [row+'_'+str(el) for el in np.sort(data[row].unique()) ]\n",
    "    \n",
    "    return pd.DataFrame(pd.crosstab(data[row],data[col]).values,index=row_names, columns=col_names)"
   ]
  },
  {
   "cell_type": "code",
   "execution_count": 77,
   "metadata": {},
   "outputs": [],
   "source": [
    "def get_colsORrows_namesTOT(data,cols):\n",
    "    COL = []\n",
    "    for col in cols:\n",
    "        COL= COL + [col+'_'+str(el) for el in np.sort(data[col].unique()) ]\n",
    "    return COL"
   ]
  },
  {
   "cell_type": "code",
   "execution_count": 78,
   "metadata": {},
   "outputs": [],
   "source": [
    "def get_matrix(data,cols,rows):\n",
    "    \n",
    "    COLS = get_colsORrows_namesTOT(data,cols)\n",
    "    ROWS = get_colsORrows_namesTOT(data,rows)\n",
    "    \n",
    "    CTdf = pd.DataFrame(index=ROWS,columns=COLS)\n",
    "    \n",
    "    for row in rows:\n",
    "        for col in cols:\n",
    "            data_int = get_CT_int(data,col,row)\n",
    "            CTdf.loc[data_int.index,data_int.columns] = data_int\n",
    "    \n",
    "    return CTdf.fillna(0)"
   ]
  },
  {
   "cell_type": "code",
   "execution_count": 79,
   "metadata": {},
   "outputs": [],
   "source": [
    "testdf = get_matrix(Finished,Finished[fakt['F1']],col_vars)"
   ]
  },
  {
   "cell_type": "code",
   "execution_count": 90,
   "metadata": {},
   "outputs": [
    {
     "data": {
      "text/html": [
       "<div>\n",
       "<style scoped>\n",
       "    .dataframe tbody tr th:only-of-type {\n",
       "        vertical-align: middle;\n",
       "    }\n",
       "\n",
       "    .dataframe tbody tr th {\n",
       "        vertical-align: top;\n",
       "    }\n",
       "\n",
       "    .dataframe thead th {\n",
       "        text-align: right;\n",
       "    }\n",
       "</style>\n",
       "<table border=\"1\" class=\"dataframe\">\n",
       "  <thead>\n",
       "    <tr style=\"text-align: right;\">\n",
       "      <th></th>\n",
       "      <th>A-Q3_6_1</th>\n",
       "      <th>A-Q3_6_2</th>\n",
       "      <th>A-Q3_6_3</th>\n",
       "      <th>A-Q3_6_4</th>\n",
       "      <th>A-Q3_6_5</th>\n",
       "    </tr>\n",
       "  </thead>\n",
       "  <tbody>\n",
       "    <tr>\n",
       "      <th>D-Q4_neu_0</th>\n",
       "      <td>1</td>\n",
       "      <td>2</td>\n",
       "      <td>4</td>\n",
       "      <td>4</td>\n",
       "      <td>1</td>\n",
       "    </tr>\n",
       "    <tr>\n",
       "      <th>D-Q4_neu_1</th>\n",
       "      <td>11</td>\n",
       "      <td>25</td>\n",
       "      <td>35</td>\n",
       "      <td>51</td>\n",
       "      <td>24</td>\n",
       "    </tr>\n",
       "    <tr>\n",
       "      <th>D-Q4_neu_2</th>\n",
       "      <td>0</td>\n",
       "      <td>4</td>\n",
       "      <td>11</td>\n",
       "      <td>22</td>\n",
       "      <td>23</td>\n",
       "    </tr>\n",
       "    <tr>\n",
       "      <th>D-Q4_neu_3</th>\n",
       "      <td>3</td>\n",
       "      <td>5</td>\n",
       "      <td>24</td>\n",
       "      <td>45</td>\n",
       "      <td>26</td>\n",
       "    </tr>\n",
       "    <tr>\n",
       "      <th>D-Q4_neu_4</th>\n",
       "      <td>0</td>\n",
       "      <td>3</td>\n",
       "      <td>3</td>\n",
       "      <td>13</td>\n",
       "      <td>15</td>\n",
       "    </tr>\n",
       "    <tr>\n",
       "      <th>D-Q4_neu_5</th>\n",
       "      <td>0</td>\n",
       "      <td>1</td>\n",
       "      <td>5</td>\n",
       "      <td>11</td>\n",
       "      <td>18</td>\n",
       "    </tr>\n",
       "    <tr>\n",
       "      <th>D-Q8_fr_0</th>\n",
       "      <td>4</td>\n",
       "      <td>9</td>\n",
       "      <td>21</td>\n",
       "      <td>54</td>\n",
       "      <td>31</td>\n",
       "    </tr>\n",
       "    <tr>\n",
       "      <th>D-Q8_fr_1</th>\n",
       "      <td>11</td>\n",
       "      <td>31</td>\n",
       "      <td>61</td>\n",
       "      <td>92</td>\n",
       "      <td>76</td>\n",
       "    </tr>\n",
       "    <tr>\n",
       "      <th>D-Q8_gr_0</th>\n",
       "      <td>15</td>\n",
       "      <td>31</td>\n",
       "      <td>52</td>\n",
       "      <td>107</td>\n",
       "      <td>75</td>\n",
       "    </tr>\n",
       "    <tr>\n",
       "      <th>D-Q8_gr_1</th>\n",
       "      <td>0</td>\n",
       "      <td>9</td>\n",
       "      <td>30</td>\n",
       "      <td>39</td>\n",
       "      <td>32</td>\n",
       "    </tr>\n",
       "    <tr>\n",
       "      <th>D-Q8_lat_0</th>\n",
       "      <td>12</td>\n",
       "      <td>22</td>\n",
       "      <td>38</td>\n",
       "      <td>76</td>\n",
       "      <td>55</td>\n",
       "    </tr>\n",
       "    <tr>\n",
       "      <th>D-Q8_lat_1</th>\n",
       "      <td>3</td>\n",
       "      <td>18</td>\n",
       "      <td>44</td>\n",
       "      <td>70</td>\n",
       "      <td>52</td>\n",
       "    </tr>\n",
       "    <tr>\n",
       "      <th>D-Q8_germ_0</th>\n",
       "      <td>15</td>\n",
       "      <td>37</td>\n",
       "      <td>77</td>\n",
       "      <td>132</td>\n",
       "      <td>92</td>\n",
       "    </tr>\n",
       "    <tr>\n",
       "      <th>D-Q8_germ_1</th>\n",
       "      <td>0</td>\n",
       "      <td>3</td>\n",
       "      <td>5</td>\n",
       "      <td>14</td>\n",
       "      <td>15</td>\n",
       "    </tr>\n",
       "    <tr>\n",
       "      <th>D-Q8_rom_0</th>\n",
       "      <td>5</td>\n",
       "      <td>31</td>\n",
       "      <td>57</td>\n",
       "      <td>100</td>\n",
       "      <td>66</td>\n",
       "    </tr>\n",
       "    <tr>\n",
       "      <th>D-Q8_rom_1</th>\n",
       "      <td>10</td>\n",
       "      <td>9</td>\n",
       "      <td>25</td>\n",
       "      <td>46</td>\n",
       "      <td>41</td>\n",
       "    </tr>\n",
       "    <tr>\n",
       "      <th>D-Q8_slaw_0</th>\n",
       "      <td>15</td>\n",
       "      <td>39</td>\n",
       "      <td>78</td>\n",
       "      <td>127</td>\n",
       "      <td>99</td>\n",
       "    </tr>\n",
       "    <tr>\n",
       "      <th>D-Q8_slaw_1</th>\n",
       "      <td>0</td>\n",
       "      <td>1</td>\n",
       "      <td>4</td>\n",
       "      <td>19</td>\n",
       "      <td>8</td>\n",
       "    </tr>\n",
       "    <tr>\n",
       "      <th>D-Q8_asiat_0</th>\n",
       "      <td>15</td>\n",
       "      <td>37</td>\n",
       "      <td>76</td>\n",
       "      <td>133</td>\n",
       "      <td>96</td>\n",
       "    </tr>\n",
       "    <tr>\n",
       "      <th>D-Q8_asiat_1</th>\n",
       "      <td>0</td>\n",
       "      <td>3</td>\n",
       "      <td>6</td>\n",
       "      <td>13</td>\n",
       "      <td>11</td>\n",
       "    </tr>\n",
       "    <tr>\n",
       "      <th>B-Q2_E1_0</th>\n",
       "      <td>8</td>\n",
       "      <td>22</td>\n",
       "      <td>46</td>\n",
       "      <td>100</td>\n",
       "      <td>75</td>\n",
       "    </tr>\n",
       "    <tr>\n",
       "      <th>B-Q2_E1_1</th>\n",
       "      <td>7</td>\n",
       "      <td>18</td>\n",
       "      <td>36</td>\n",
       "      <td>46</td>\n",
       "      <td>32</td>\n",
       "    </tr>\n",
       "    <tr>\n",
       "      <th>B-Q2_E2_0</th>\n",
       "      <td>5</td>\n",
       "      <td>19</td>\n",
       "      <td>34</td>\n",
       "      <td>63</td>\n",
       "      <td>49</td>\n",
       "    </tr>\n",
       "    <tr>\n",
       "      <th>B-Q2_E2_1</th>\n",
       "      <td>10</td>\n",
       "      <td>21</td>\n",
       "      <td>48</td>\n",
       "      <td>83</td>\n",
       "      <td>58</td>\n",
       "    </tr>\n",
       "    <tr>\n",
       "      <th>B-Q2_E3_0</th>\n",
       "      <td>8</td>\n",
       "      <td>26</td>\n",
       "      <td>49</td>\n",
       "      <td>78</td>\n",
       "      <td>53</td>\n",
       "    </tr>\n",
       "    <tr>\n",
       "      <th>B-Q2_E3_1</th>\n",
       "      <td>7</td>\n",
       "      <td>14</td>\n",
       "      <td>33</td>\n",
       "      <td>68</td>\n",
       "      <td>54</td>\n",
       "    </tr>\n",
       "    <tr>\n",
       "      <th>B-Q2_E4_0</th>\n",
       "      <td>13</td>\n",
       "      <td>34</td>\n",
       "      <td>64</td>\n",
       "      <td>90</td>\n",
       "      <td>70</td>\n",
       "    </tr>\n",
       "    <tr>\n",
       "      <th>B-Q2_E4_1</th>\n",
       "      <td>2</td>\n",
       "      <td>6</td>\n",
       "      <td>18</td>\n",
       "      <td>56</td>\n",
       "      <td>37</td>\n",
       "    </tr>\n",
       "    <tr>\n",
       "      <th>B-Q2_E5_0</th>\n",
       "      <td>10</td>\n",
       "      <td>33</td>\n",
       "      <td>56</td>\n",
       "      <td>97</td>\n",
       "      <td>58</td>\n",
       "    </tr>\n",
       "    <tr>\n",
       "      <th>B-Q2_E5_1</th>\n",
       "      <td>5</td>\n",
       "      <td>7</td>\n",
       "      <td>26</td>\n",
       "      <td>49</td>\n",
       "      <td>49</td>\n",
       "    </tr>\n",
       "    <tr>\n",
       "      <th>B-Q2_E6_0</th>\n",
       "      <td>11</td>\n",
       "      <td>28</td>\n",
       "      <td>47</td>\n",
       "      <td>87</td>\n",
       "      <td>60</td>\n",
       "    </tr>\n",
       "    <tr>\n",
       "      <th>B-Q2_E6_1</th>\n",
       "      <td>4</td>\n",
       "      <td>12</td>\n",
       "      <td>35</td>\n",
       "      <td>59</td>\n",
       "      <td>47</td>\n",
       "    </tr>\n",
       "    <tr>\n",
       "      <th>B-Q2_E7_0</th>\n",
       "      <td>4</td>\n",
       "      <td>19</td>\n",
       "      <td>38</td>\n",
       "      <td>54</td>\n",
       "      <td>43</td>\n",
       "    </tr>\n",
       "    <tr>\n",
       "      <th>B-Q2_E7_1</th>\n",
       "      <td>11</td>\n",
       "      <td>21</td>\n",
       "      <td>44</td>\n",
       "      <td>92</td>\n",
       "      <td>64</td>\n",
       "    </tr>\n",
       "    <tr>\n",
       "      <th>B-Q2_E8_0</th>\n",
       "      <td>13</td>\n",
       "      <td>34</td>\n",
       "      <td>65</td>\n",
       "      <td>113</td>\n",
       "      <td>74</td>\n",
       "    </tr>\n",
       "    <tr>\n",
       "      <th>B-Q2_E8_1</th>\n",
       "      <td>2</td>\n",
       "      <td>6</td>\n",
       "      <td>17</td>\n",
       "      <td>33</td>\n",
       "      <td>33</td>\n",
       "    </tr>\n",
       "    <tr>\n",
       "      <th>B-Q2_E9_0</th>\n",
       "      <td>10</td>\n",
       "      <td>20</td>\n",
       "      <td>35</td>\n",
       "      <td>64</td>\n",
       "      <td>42</td>\n",
       "    </tr>\n",
       "    <tr>\n",
       "      <th>B-Q2_E9_1</th>\n",
       "      <td>5</td>\n",
       "      <td>20</td>\n",
       "      <td>47</td>\n",
       "      <td>82</td>\n",
       "      <td>65</td>\n",
       "    </tr>\n",
       "    <tr>\n",
       "      <th>B-Q2_U1_0</th>\n",
       "      <td>6</td>\n",
       "      <td>24</td>\n",
       "      <td>35</td>\n",
       "      <td>73</td>\n",
       "      <td>51</td>\n",
       "    </tr>\n",
       "    <tr>\n",
       "      <th>B-Q2_U1_1</th>\n",
       "      <td>9</td>\n",
       "      <td>16</td>\n",
       "      <td>47</td>\n",
       "      <td>73</td>\n",
       "      <td>56</td>\n",
       "    </tr>\n",
       "    <tr>\n",
       "      <th>B-Q2_U2_0</th>\n",
       "      <td>4</td>\n",
       "      <td>20</td>\n",
       "      <td>29</td>\n",
       "      <td>52</td>\n",
       "      <td>38</td>\n",
       "    </tr>\n",
       "    <tr>\n",
       "      <th>B-Q2_U2_1</th>\n",
       "      <td>11</td>\n",
       "      <td>20</td>\n",
       "      <td>53</td>\n",
       "      <td>94</td>\n",
       "      <td>69</td>\n",
       "    </tr>\n",
       "    <tr>\n",
       "      <th>B-Q2_U3_0</th>\n",
       "      <td>8</td>\n",
       "      <td>20</td>\n",
       "      <td>37</td>\n",
       "      <td>75</td>\n",
       "      <td>52</td>\n",
       "    </tr>\n",
       "    <tr>\n",
       "      <th>B-Q2_U3_1</th>\n",
       "      <td>7</td>\n",
       "      <td>20</td>\n",
       "      <td>45</td>\n",
       "      <td>71</td>\n",
       "      <td>55</td>\n",
       "    </tr>\n",
       "    <tr>\n",
       "      <th>B-Q2_U4_0</th>\n",
       "      <td>10</td>\n",
       "      <td>31</td>\n",
       "      <td>62</td>\n",
       "      <td>101</td>\n",
       "      <td>72</td>\n",
       "    </tr>\n",
       "    <tr>\n",
       "      <th>B-Q2_U4_1</th>\n",
       "      <td>5</td>\n",
       "      <td>9</td>\n",
       "      <td>20</td>\n",
       "      <td>45</td>\n",
       "      <td>35</td>\n",
       "    </tr>\n",
       "    <tr>\n",
       "      <th>B-Q2_U5_0</th>\n",
       "      <td>11</td>\n",
       "      <td>26</td>\n",
       "      <td>50</td>\n",
       "      <td>88</td>\n",
       "      <td>67</td>\n",
       "    </tr>\n",
       "    <tr>\n",
       "      <th>B-Q2_U5_1</th>\n",
       "      <td>4</td>\n",
       "      <td>14</td>\n",
       "      <td>32</td>\n",
       "      <td>58</td>\n",
       "      <td>40</td>\n",
       "    </tr>\n",
       "    <tr>\n",
       "      <th>B-Q2_U6_0</th>\n",
       "      <td>7</td>\n",
       "      <td>15</td>\n",
       "      <td>28</td>\n",
       "      <td>45</td>\n",
       "      <td>32</td>\n",
       "    </tr>\n",
       "    <tr>\n",
       "      <th>B-Q2_U6_1</th>\n",
       "      <td>8</td>\n",
       "      <td>25</td>\n",
       "      <td>54</td>\n",
       "      <td>101</td>\n",
       "      <td>75</td>\n",
       "    </tr>\n",
       "  </tbody>\n",
       "</table>\n",
       "</div>"
      ],
      "text/plain": [
       "              A-Q3_6_1  A-Q3_6_2  A-Q3_6_3  A-Q3_6_4  A-Q3_6_5\n",
       "D-Q4_neu_0           1         2         4         4         1\n",
       "D-Q4_neu_1          11        25        35        51        24\n",
       "D-Q4_neu_2           0         4        11        22        23\n",
       "D-Q4_neu_3           3         5        24        45        26\n",
       "D-Q4_neu_4           0         3         3        13        15\n",
       "D-Q4_neu_5           0         1         5        11        18\n",
       "D-Q8_fr_0            4         9        21        54        31\n",
       "D-Q8_fr_1           11        31        61        92        76\n",
       "D-Q8_gr_0           15        31        52       107        75\n",
       "D-Q8_gr_1            0         9        30        39        32\n",
       "D-Q8_lat_0          12        22        38        76        55\n",
       "D-Q8_lat_1           3        18        44        70        52\n",
       "D-Q8_germ_0         15        37        77       132        92\n",
       "D-Q8_germ_1          0         3         5        14        15\n",
       "D-Q8_rom_0           5        31        57       100        66\n",
       "D-Q8_rom_1          10         9        25        46        41\n",
       "D-Q8_slaw_0         15        39        78       127        99\n",
       "D-Q8_slaw_1          0         1         4        19         8\n",
       "D-Q8_asiat_0        15        37        76       133        96\n",
       "D-Q8_asiat_1         0         3         6        13        11\n",
       "B-Q2_E1_0            8        22        46       100        75\n",
       "B-Q2_E1_1            7        18        36        46        32\n",
       "B-Q2_E2_0            5        19        34        63        49\n",
       "B-Q2_E2_1           10        21        48        83        58\n",
       "B-Q2_E3_0            8        26        49        78        53\n",
       "B-Q2_E3_1            7        14        33        68        54\n",
       "B-Q2_E4_0           13        34        64        90        70\n",
       "B-Q2_E4_1            2         6        18        56        37\n",
       "B-Q2_E5_0           10        33        56        97        58\n",
       "B-Q2_E5_1            5         7        26        49        49\n",
       "B-Q2_E6_0           11        28        47        87        60\n",
       "B-Q2_E6_1            4        12        35        59        47\n",
       "B-Q2_E7_0            4        19        38        54        43\n",
       "B-Q2_E7_1           11        21        44        92        64\n",
       "B-Q2_E8_0           13        34        65       113        74\n",
       "B-Q2_E8_1            2         6        17        33        33\n",
       "B-Q2_E9_0           10        20        35        64        42\n",
       "B-Q2_E9_1            5        20        47        82        65\n",
       "B-Q2_U1_0            6        24        35        73        51\n",
       "B-Q2_U1_1            9        16        47        73        56\n",
       "B-Q2_U2_0            4        20        29        52        38\n",
       "B-Q2_U2_1           11        20        53        94        69\n",
       "B-Q2_U3_0            8        20        37        75        52\n",
       "B-Q2_U3_1            7        20        45        71        55\n",
       "B-Q2_U4_0           10        31        62       101        72\n",
       "B-Q2_U4_1            5         9        20        45        35\n",
       "B-Q2_U5_0           11        26        50        88        67\n",
       "B-Q2_U5_1            4        14        32        58        40\n",
       "B-Q2_U6_0            7        15        28        45        32\n",
       "B-Q2_U6_1            8        25        54       101        75"
      ]
     },
     "execution_count": 90,
     "metadata": {},
     "output_type": "execute_result"
    }
   ],
   "source": [
    "testdf[testdf.columns[0:5]]"
   ]
  },
  {
   "cell_type": "code",
   "execution_count": 81,
   "metadata": {},
   "outputs": [],
   "source": [
    "def graf_biplot_test(data, dim, dim1 = 0, dim2 = 1, sx = 10, sy = 10):\n",
    "    \n",
    "    B = biplot.Classic(data, dim, method = 1) \n",
    "    R = B.RowCoord\n",
    "    C = B.ColCoord\n",
    "    \n",
    "    fig = plt.figure(figsize=(sx,sy))\n",
    "    ax = fig.add_subplot(111)\n",
    "    \n",
    "    for i in range(C.shape[0]):\n",
    "        ax.arrow(0,0,C[i,dim1],C[i,dim2], alpha = 0.7, color = 'grey')\n",
    "        #ax.scatter(C[i,dim1],C[i,dim2]) # Hier würden Linien nicht angezeigt.\n",
    "        ax.text(C[i,dim1],C[i,dim2],data.columns[i],fontsize=15, alpha = 0.7)\n",
    "\n",
    "    for i in range(R.shape[0]):\n",
    "        ax.scatter(R[i,dim1],R[i,dim2], s = 20)\n",
    "    \n",
    "    texts = [plt.text(R[i,dim1],R[i,dim2], data.index[i], ha='center', va='center') for i in range(len(R[:,0]))];"
   ]
  },
  {
   "cell_type": "code",
   "execution_count": 92,
   "metadata": {},
   "outputs": [
    {
     "data": {
      "image/png": "[encoded data removed]",
      "text/plain": [
       "<Figure size 720x720 with 1 Axes>"
      ]
     },
     "metadata": {
      "needs_background": "light"
     },
     "output_type": "display_data"
    }
   ],
   "source": [
    "graf_biplot_test(testdf[testdf.columns[0:5]],5)"
   ]
  },
  {
   "cell_type": "code",
   "execution_count": null,
   "metadata": {},
   "outputs": [],
   "source": []
  }
 ],
 "metadata": {
  "kernelspec": {
   "display_name": "Python 3",
   "language": "python",
   "name": "python3"
  },
  "language_info": {
   "codemirror_mode": {
    "name": "ipython",
    "version": 3
   },
   "file_extension": ".py",
   "mimetype": "text/x-python",
   "name": "python",
   "nbconvert_exporter": "python",
   "pygments_lexer": "ipython3",
   "version": "3.7.3"
  }
 },
 "nbformat": 4,
 "nbformat_minor": 2
}
