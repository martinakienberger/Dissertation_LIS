{
 "cells": [
  {
   "cell_type": "markdown",
   "metadata": {},
   "source": [
    "## Erschließungsstrategien für unbekannten Wortschatz von DaF-Lernenden an spanischen Universitäten (2017-19)\n",
    "# Datenanalyse (2)"
   ]
  },
  {
   "cell_type": "markdown",
   "metadata": {},
   "source": [
    "#### Daten und Werkzeuge importieren"
   ]
  },
  {
   "cell_type": "code",
   "execution_count": 56,
   "metadata": {},
   "outputs": [
    {
     "name": "stdout",
     "output_type": "stream",
     "text": [
      "Populating the interactive namespace from numpy and matplotlib\n"
     ]
    }
   ],
   "source": [
    "from funktionen import *\n",
    "import pandas as pd\n",
    "import matplotlib\n",
    "import numpy as np\n",
    "import seaborn as sns\n",
    "sns.set(style=\"whitegrid\") #\"whitegrid\", \"darkgrid\"...\n",
    "%pylab inline"
   ]
  },
  {
   "cell_type": "code",
   "execution_count": 57,
   "metadata": {},
   "outputs": [],
   "source": [
    "Daten = pd.read_pickle('D:\\Daten\\DISS\\Daten\\Estrategias_Estudiantes_2017-19_ber')"
   ]
  },
  {
   "cell_type": "code",
   "execution_count": 58,
   "metadata": {},
   "outputs": [
    {
     "data": {
      "text/plain": [
       "(401, 377)"
      ]
     },
     "execution_count": 58,
     "metadata": {},
     "output_type": "execute_result"
    }
   ],
   "source": [
    "Daten.shape"
   ]
  },
  {
   "cell_type": "markdown",
   "metadata": {},
   "source": [
    "#### Glossar erstellen\n",
    "\n",
    "Datei aufrufen, die in einem anderem Notebook erstellt und gespeichert wurde"
   ]
  },
  {
   "cell_type": "code",
   "execution_count": 59,
   "metadata": {},
   "outputs": [],
   "source": [
    "gloss = pd.read_pickle('D:\\Daten\\DISS\\Daten\\Gloss2018')"
   ]
  },
  {
   "cell_type": "markdown",
   "metadata": {},
   "source": [
    "#### Untergruppen und Listen für die Analyse"
   ]
  },
  {
   "cell_type": "code",
   "execution_count": 60,
   "metadata": {},
   "outputs": [],
   "source": [
    "Finished = Daten[Daten['C-Q1_7'] >= 1]"
   ]
  },
  {
   "cell_type": "code",
   "execution_count": 61,
   "metadata": {},
   "outputs": [],
   "source": [
    "Liste_C_Q1 = [col for col in Daten.columns if 'C-Q1' in col]"
   ]
  },
  {
   "cell_type": "markdown",
   "metadata": {},
   "source": [
    "### B-Q1 (Kontexte des Strategienerwerbs)"
   ]
  },
  {
   "cell_type": "markdown",
   "metadata": {},
   "source": [
    "Antwortoptionen (Mehrfachauswahl möglich):\n",
    "1. En las clases de Lengua y Literatura en el colegio o instituto\n",
    "2. En las clases de inglés en el colegio o instituto\n",
    "3. En otras clases de idiomas en el colegio o instituto\n",
    "4. En clases de alemán anteriores en la Universidad\n",
    "5. En otras asignaturas de mi carrera universitaria\n",
    "6. En clases de lenguas en escuelas de idiomas o academias\n",
    "7. En mi curso de alemán actual\n",
    "8. En mi familia, con mis amigos/as o compañeros/as de clase\n",
    "9. Por mi cuenta, sin ayuda de otras personas\n",
    "10. Otros:\n",
    "11. No sé cómo he aprendido estas estrategias.\n",
    "\n",
    "Deutsche Übersetzung:\n",
    "1. Im Sprach- und Literaturunterricht (muttersprachlicher Unterricht) in der Schule\n",
    "2. Im Englischunterricht in der Schule\n",
    "3. In anderem Sprachunterricht in der Schule\n",
    "4. In früheren Deutschkursen an der Universität\n",
    "5. In anderen Lehrveranstaltungen im Rahmen meines Studiums\n",
    "6. In Sprachkursen in Sprachschulen\n",
    "7. In meinem aktuellen Deutschkurs\n",
    "8. In der Familie, im Freundeskreis oder durch Kommilitonen/innen\n",
    "9. Allein, ohne Hilfe anderer Personen\n",
    "10. Andere:\n",
    "11. Ich weiß eigentlich nicht, wie ich diese Strategien erworben habe."
   ]
  },
  {
   "cell_type": "code",
   "execution_count": 62,
   "metadata": {},
   "outputs": [],
   "source": [
    "Kontexte = Finished[['B-Q1_1','B-Q1_2','B-Q1_3','B-Q1_4','B-Q1_5','B-Q1_6','B-Q1_7','B-Q1_8','B-Q1_9','B-Q1_10','B-Q1_11']]"
   ]
  },
  {
   "cell_type": "code",
   "execution_count": 63,
   "metadata": {},
   "outputs": [],
   "source": [
    "DF_Kontexte = Kontexte.apply(pd.value_counts).fillna(0).astype(integer)"
   ]
  },
  {
   "cell_type": "code",
   "execution_count": 64,
   "metadata": {},
   "outputs": [
    {
     "data": {
      "text/plain": [
       "B-Q1_7     232\n",
       "B-Q1_9     220\n",
       "B-Q1_2     220\n",
       "B-Q1_3     176\n",
       "B-Q1_6     157\n",
       "B-Q1_1     139\n",
       "B-Q1_5     138\n",
       "B-Q1_4     119\n",
       "B-Q1_8      92\n",
       "B-Q1_10     23\n",
       "B-Q1_11     11\n",
       "Name: 1, dtype: int32"
      ]
     },
     "execution_count": 64,
     "metadata": {},
     "output_type": "execute_result"
    }
   ],
   "source": [
    "DF_Kontexte.iloc[1].sort_values(ascending = False)"
   ]
  },
  {
   "cell_type": "code",
   "execution_count": 65,
   "metadata": {},
   "outputs": [
    {
     "data": {
      "image/png": "[encoded data removed]",
      "text/plain": [
       "<Figure size 864x360 with 1 Axes>"
      ]
     },
     "metadata": {
      "needs_background": "light"
     },
     "output_type": "display_data"
    }
   ],
   "source": [
    "DF_Kontexte.iloc[1].sort_values(ascending = False).plot(kind='bar', \n",
    "                                                            figsize = (12,5), width = 0.5, \n",
    "                                                            legend = False, title = \"Kontexte des Strategienerwerbs\");"
   ]
  },
  {
   "cell_type": "markdown",
   "metadata": {},
   "source": [
    "Angaben bei \"Andere\" (10):"
   ]
  },
  {
   "cell_type": "code",
   "execution_count": 66,
   "metadata": {},
   "outputs": [
    {
     "data": {
      "text/plain": [
       "(23, 377)"
      ]
     },
     "execution_count": 66,
     "metadata": {},
     "output_type": "execute_result"
    }
   ],
   "source": [
    "Finished[Finished['B-Q1_10_TEXT']!=0].shape"
   ]
  },
  {
   "cell_type": "code",
   "execution_count": 67,
   "metadata": {},
   "outputs": [
    {
     "data": {
      "text/plain": [
       "13     Sentido común y uso intuitivo y automático de ...\n",
       "27                                            CON MARIAN\n",
       "43     leyendo sobre estrategias de aprendizaje en in...\n",
       "44                            Con lecturas por Internet \n",
       "60     En otras materias que enseñaban a hacer resume...\n",
       "104                               Leyendo el diccionario\n",
       "141           Leyendo en otros idiomas por cuenta propia\n",
       "164                               estudiar en extranjero\n",
       "187    En distintas asignaturas a lo largo de todos m...\n",
       "202                                   Intuición personal\n",
       "206    Tengo bastante intuición con las lenguas y he ...\n",
       "222                            Razonamiento comparativo \n",
       "230                        en realidad es mezcla de todo\n",
       "240    En el Instituto cultural alemán (Sevilla) y en...\n",
       "246    leyendo textos por mi mismo y poniendo en rela...\n",
       "247    se me da bien aprender idiomas y tengo facilid...\n",
       "262    convivencia con amigos bilingües (de padre nat...\n",
       "293    En mi academia, pero para inglés. He usado esa...\n",
       "343                                    francés y gallego\n",
       "358                                              Logica.\n",
       "379    Cuando estaba bachillerato de China los profes...\n",
       "392                                         Intercambio \n",
       "400    En un curso de alemán en Alemania. La profesor...\n",
       "Name: B-Q1_10_TEXT, dtype: object"
      ]
     },
     "execution_count": 67,
     "metadata": {},
     "output_type": "execute_result"
    }
   ],
   "source": [
    "Finished[Finished['B-Q1_10_TEXT']!=0]['B-Q1_10_TEXT']"
   ]
  },
  {
   "cell_type": "markdown",
   "metadata": {},
   "source": [
    "### B-Q2 (Methoden des Strategienerwerbs)"
   ]
  },
  {
   "cell_type": "markdown",
   "metadata": {},
   "source": [
    "Erwerbskontexte:"
   ]
  },
  {
   "cell_type": "code",
   "execution_count": 68,
   "metadata": {},
   "outputs": [],
   "source": [
    "erwerb = {'E1': ['B-Q2-1_1','B-Q2-1_2','B-Q2-1_3','B-Q2-1_4','B-Q2-1_5','B-Q2-1_6','B-Q2-1_7'], \n",
    "         'E2': ['B-Q2-2_1','B-Q2-2_2','B-Q2-2_3','B-Q2-2_4','B-Q2-2_5','B-Q2-2_6','B-Q2-2_7'],\n",
    "         'E3': ['B-Q2-3_1','B-Q2-3_2','B-Q2-3_3','B-Q2-3_4','B-Q2-3_5','B-Q2-3_6','B-Q2-3_7'],\n",
    "         'E4': ['B-Q2-4_1','B-Q2-4_2','B-Q2-4_3','B-Q2-4_4','B-Q2-4_5','B-Q2-4_6','B-Q2-4_7'],\n",
    "         'E5': ['B-Q2-5_1','B-Q2-5_2','B-Q2-5_3','B-Q2-5_4','B-Q2-5_5','B-Q2-5_6','B-Q2-5_7'],\n",
    "         'E6': ['B-Q2-6_1','B-Q2-6_2','B-Q2-6_3','B-Q2-6_4','B-Q2-6_5','B-Q2-6_6','B-Q2-6_7'],\n",
    "         'E7': ['B-Q2-7_1','B-Q2-7_2','B-Q2-7_3','B-Q2-7_4','B-Q2-7_5','B-Q2-7_6','B-Q2-7_7'],\n",
    "         'E8': ['B-Q2-8_1','B-Q2-8_2','B-Q2-8_3','B-Q2-8_4','B-Q2-8_5'],\n",
    "         'E9': ['B-Q2-9_1','B-Q2-9_2','B-Q2-9_3','B-Q2-9_4','B-Q2-9_5']}"
   ]
  },
  {
   "cell_type": "markdown",
   "metadata": {},
   "source": [
    "Methoden des Stragienerwerbs (kontextübergreifend in Unterrichtssituationen):"
   ]
  },
  {
   "cell_type": "code",
   "execution_count": 69,
   "metadata": {},
   "outputs": [],
   "source": [
    "erwerb1 = {'U1': ['B-Q2-1_1','B-Q2-2_1','B-Q2-3_1','B-Q2-4_1','B-Q2-5_1','B-Q2-6_1','B-Q2-7_1'], \n",
    "         'U2': ['B-Q2-1_2','B-Q2-2_2','B-Q2-3_2','B-Q2-4_2','B-Q2-5_2','B-Q2-6_2','B-Q2-7_2'],\n",
    "         'U3': ['B-Q2-1_3','B-Q2-2_3','B-Q2-3_3','B-Q2-4_3','B-Q2-5_3','B-Q2-6_3','B-Q2-7_3'],\n",
    "         'U4': ['B-Q2-1_4','B-Q2-2_4','B-Q2-3_4','B-Q2-4_4','B-Q2-5_4','B-Q2-6_4','B-Q2-7_4'],\n",
    "         'U5': ['B-Q2-1_5','B-Q2-2_5','B-Q2-3_5','B-Q2-4_5','B-Q2-5_5','B-Q2-6_5','B-Q2-7_5'],\n",
    "         'U6': ['B-Q2-1_6','B-Q2-2_6','B-Q2-3_6','B-Q2-4_6','B-Q2-5_6','B-Q2-6_6','B-Q2-7_6'],\n",
    "         'U7': ['B-Q2-1_7','B-Q2-2_7','B-Q2-3_7','B-Q2-4_7','B-Q2-5_7','B-Q2-6_7','B-Q2-7_7']}"
   ]
  },
  {
   "cell_type": "markdown",
   "metadata": {},
   "source": [
    "Auswahl der TN, die mindestens einmal eine bestimmte Methode angegeben haben:"
   ]
  },
  {
   "cell_type": "code",
   "execution_count": 70,
   "metadata": {},
   "outputs": [],
   "source": [
    "Stud_U1 = Finished[(Finished['B-Q2-1_1'] == 1) | (Finished['B-Q2-2_1'] == 1) | (Finished['B-Q2-3_1'] == 1) | (Finished['B-Q2-4_1'] == 1) | (Finished['B-Q2-5_1'] == 1) | (Finished['B-Q2-6_1'] == 1) | (Finished['B-Q2-7_1'] == 1)]\n",
    "Stud_U2 = Finished[(Finished['B-Q2-1_2'] == 1) | (Finished['B-Q2-2_2'] == 1) | (Finished['B-Q2-3_2'] == 1) | (Finished['B-Q2-4_2'] == 1) | (Finished['B-Q2-5_2'] == 1) | (Finished['B-Q2-6_2'] == 1) | (Finished['B-Q2-7_2'] == 1)]\n",
    "Stud_U3 = Finished[(Finished['B-Q2-1_3'] == 1) | (Finished['B-Q2-2_3'] == 1) | (Finished['B-Q2-3_3'] == 1) | (Finished['B-Q2-4_3'] == 1) | (Finished['B-Q2-5_3'] == 1) | (Finished['B-Q2-6_3'] == 1) | (Finished['B-Q2-7_3'] == 1)]\n",
    "Stud_U4 = Finished[(Finished['B-Q2-1_4'] == 1) | (Finished['B-Q2-2_4'] == 1) | (Finished['B-Q2-3_4'] == 1) | (Finished['B-Q2-4_4'] == 1) | (Finished['B-Q2-5_4'] == 1) | (Finished['B-Q2-6_4'] == 1) | (Finished['B-Q2-7_4'] == 1)]\n",
    "Stud_U5 = Finished[(Finished['B-Q2-1_5'] == 1) | (Finished['B-Q2-2_5'] == 1) | (Finished['B-Q2-3_5'] == 1) | (Finished['B-Q2-4_5'] == 1) | (Finished['B-Q2-5_5'] == 1) | (Finished['B-Q2-6_5'] == 1) | (Finished['B-Q2-7_5'] == 1)]\n",
    "Stud_U6 = Finished[(Finished['B-Q2-1_6'] == 1) | (Finished['B-Q2-2_6'] == 1) | (Finished['B-Q2-3_6'] == 1) | (Finished['B-Q2-4_6'] == 1) | (Finished['B-Q2-5_6'] == 1) | (Finished['B-Q2-6_6'] == 1) | (Finished['B-Q2-7_6'] == 1)]"
   ]
  },
  {
   "cell_type": "code",
   "execution_count": 71,
   "metadata": {},
   "outputs": [],
   "source": [
    "Stud_U = []\n",
    "Stud_U.append(Stud_U1.shape[0])\n",
    "Stud_U.append(Stud_U2.shape[0])\n",
    "Stud_U.append(Stud_U3.shape[0])\n",
    "Stud_U.append(Stud_U4.shape[0])\n",
    "Stud_U.append(Stud_U5.shape[0])\n",
    "Stud_U.append(Stud_U6.shape[0])"
   ]
  },
  {
   "cell_type": "code",
   "execution_count": 72,
   "metadata": {},
   "outputs": [],
   "source": [
    "Stud_U = pd.Series(Stud_U)\n",
    "Stud_U.index += 1"
   ]
  },
  {
   "cell_type": "code",
   "execution_count": 73,
   "metadata": {},
   "outputs": [],
   "source": [
    "Stud_E8 = Finished[(Finished['B-Q2-8_1'] == 1) | (Finished['B-Q2-8_2'] == 1) | (Finished['B-Q2-8_3'] == 1) | (Finished['B-Q2-8_4'] == 1) | (Finished['B-Q2-8_5'] == 1)]\n",
    "Stud_E9 = Finished[(Finished['B-Q2-9_1'] == 1) | (Finished['B-Q2-9_2'] == 1) | (Finished['B-Q2-9_3'] == 1) | (Finished['B-Q2-9_4'] == 1) | (Finished['B-Q2-9_5'] == 1)]"
   ]
  },
  {
   "cell_type": "markdown",
   "metadata": {},
   "source": [
    "##### Methoden des Strategienerwerbs nach Erwerbskontexten"
   ]
  },
  {
   "cell_type": "markdown",
   "metadata": {},
   "source": [
    "Aufgrund der Beschränkungen der Papier-Version des Fragebogens hinsichtlich der Implementierung von Filterfragen können die Angaben dieser TN großteils nicht in die Auswertung der Methoden des Strategienerwerbs nach Erwerbskontexten miteinbezogen werden, da Methoden und Unterrichtskontexte nicht immer eindeutig zugeordnet werden können. Im Fall von Erwerb im sozialen Umfeld oder autonom besteht diese Problematik nicht, die Daten können für die Analyse genutzt werden. "
   ]
  },
  {
   "cell_type": "markdown",
   "metadata": {},
   "source": [
    "##### Strategienerwerb in Unterrichtskontexten"
   ]
  },
  {
   "cell_type": "markdown",
   "metadata": {},
   "source": [
    "Antwortoptionen (Mehrfachauswahl möglich):\n",
    "1.\tLas estrategias se presentaron (y explicaron) en clase.\n",
    "2.\tEl/La profesor/a dio consejos sobre cómo familiarizarse de manera autónoma con estas estrategias, p. ej. mediante páginas web, libros u otros materiales que explican estrategias de aprendizaje. \n",
    "* Estas estrategias se explicaron y practicaron con ejemplos concretos, realizando tareas, p. ej. leyendo un texto difícil.\n",
    "* Se probaron y se compararon diferentes estrategias.\n",
    "* Se reflexionó sobre el uso de estas estrategias, p. ej. sobre qué estrategia sería adecuada en una situación y/o para una persona determinada.\n",
    "* Durante las clases he aprendido estas estrategias de manera inconsciente, p. ej. mientras leía textos difíciles, sin explicación o indicación del/de la profesor/a.\n",
    "* Otros:\n",
    "\n",
    "Deutsche Übersetzung:\n",
    "1. Erschließungsstrategien wurden im Unterricht vorgestellt (und erklärt).\n",
    "2. Die Lehrperson hat Tipps für das selbständige Aneignen von Erschließungsstrategien gegeben, z.B. über Internetseiten, Bücher oder andere Materialien, in denen Lernstrategien erklärt werden.\n",
    "3. Erschließungsstrategien wurden anhand von praktischen Beispielen, beim Ausführen bestimmter Aufgaben, z.B. Lesen eines schwierigen Textes, erklärt und geübt.\n",
    "4. Verschiedene Erschließungsstrategien wurden ausprobiert und miteinander verglichen.\n",
    "5. Reflexionen über Einsatz von Erschließungsstrategien wurden durchgeführt, z.B. Überlegungen, welche Strategie in einer bestimmten Situation und/oder für eine bestimmte Person geeignet ist.\n",
    "6. Im Laufe des Unterrichts habe ich verschiedene Erschließungsstrategien unbewusst gelernt, z.B. beim Lesen von schwierigen Texten - ohne Erklärung oder Hinweis des Lehrers.\n",
    "7. Anderes:"
   ]
  },
  {
   "cell_type": "code",
   "execution_count": 74,
   "metadata": {},
   "outputs": [
    {
     "data": {
      "text/plain": [
       "B-Q2-1_6    71\n",
       "B-Q2-1_2    59\n",
       "B-Q2-1_3    52\n",
       "B-Q2-1_1    42\n",
       "B-Q2-1_5    25\n",
       "B-Q2-1_4     9\n",
       "B-Q2-1_7     6\n",
       "dtype: int64"
      ]
     },
     "execution_count": 74,
     "metadata": {},
     "output_type": "execute_result"
    }
   ],
   "source": [
    "Finished[Finished['IPAddress']!='2.154.100.40'][erwerb['E1']].apply(sum).sort_values(ascending = False)"
   ]
  },
  {
   "cell_type": "code",
   "execution_count": 75,
   "metadata": {},
   "outputs": [],
   "source": [
    "DF_Erwerb = pd.DataFrame(np.nan, columns=list(erwerb.keys())[:7], index = [1,2,3,4,5,6,7])"
   ]
  },
  {
   "cell_type": "code",
   "execution_count": 76,
   "metadata": {},
   "outputs": [],
   "source": [
    "for key in list(erwerb.keys())[:7]:\n",
    "    DF_Erwerb[key] = Finished[Finished['IPAddress']!='2.154.100.40'][erwerb[key]].sum().values"
   ]
  },
  {
   "cell_type": "code",
   "execution_count": 87,
   "metadata": {},
   "outputs": [
    {
     "data": {
      "image/png": "[encoded data removed]",
      "text/plain": [
       "<Figure size 864x432 with 1 Axes>"
      ]
     },
     "metadata": {
      "needs_background": "light"
     },
     "output_type": "display_data"
    }
   ],
   "source": [
    "DF_Erwerb.T.plot(kind = 'bar', figsize = (12,6), \n",
    "                 title = 'Übersicht über Methoden des Strategienwerbs nach Unterrichtskontexten');"
   ]
  },
  {
   "cell_type": "markdown",
   "metadata": {},
   "source": [
    "Angaben bei \"Anderes\" (7):"
   ]
  },
  {
   "cell_type": "markdown",
   "metadata": {},
   "source": [
    "Im Folgenden werden die freien Texteingaben unter \"Anderes\", geordnet nach dem jeweiligen Erwerbskontext (Unterrichtssituationen), angezeigt. Bei denjenigen TN, die die Papierversion des Fragebogens ausgefüllt haben, können die Angaben nicht eindeutig einem bestimmten Kontext zugeordnet werden und werden daher mehrmals angezeigt."
   ]
  },
  {
   "cell_type": "code",
   "execution_count": 120,
   "metadata": {},
   "outputs": [
    {
     "data": {
      "text/plain": [
       "Int64Index([167, 168, 169, 228, 233, 234, 235, 236, 237, 238, 239, 240, 241,\n",
       "            242, 243, 244, 245, 246, 247, 248, 249, 250, 251, 252, 253, 254,\n",
       "            255, 256, 257, 258, 259, 260, 261, 262, 263, 264, 265, 267, 268,\n",
       "            269, 270, 271, 273, 274, 275, 276, 277, 278, 279, 280, 281, 282,\n",
       "            283, 284, 285, 286, 287, 288, 289, 290, 291, 292, 293, 294, 295],\n",
       "           dtype='int64')"
      ]
     },
     "execution_count": 120,
     "metadata": {},
     "output_type": "execute_result"
    }
   ],
   "source": [
    "Finished[Finished['IPAddress']=='2.154.100.40'].index"
   ]
  },
  {
   "cell_type": "markdown",
   "metadata": {},
   "source": [
    "1. Im Sprach- und Literaturunterricht (muttersprachlicher Unterricht) in der Schule:"
   ]
  },
  {
   "cell_type": "code",
   "execution_count": 78,
   "metadata": {},
   "outputs": [
    {
     "data": {
      "text/plain": [
       "54                                Mi madre me las enseñó\n",
       "202                 Intuición y devoción por las lenguas\n",
       "267    las he aprendido por los profesores [comentari...\n",
       "272                                         por mi parte\n",
       "343    tambien al traducir latín y griego clásico al ...\n",
       "358    Gran parte fue gracias a dos buenos profesores...\n",
       "400    Creo que es una combinación que las estrategia...\n",
       "Name: B-Q2-1_7_TEXT, dtype: object"
      ]
     },
     "execution_count": 78,
     "metadata": {},
     "output_type": "execute_result"
    }
   ],
   "source": [
    "Finished[Finished['B-Q2-1_7_TEXT'] != 0]['B-Q2-1_7_TEXT']"
   ]
  },
  {
   "cell_type": "code",
   "execution_count": 79,
   "metadata": {},
   "outputs": [
    {
     "data": {
      "text/plain": [
       "'las he aprendido por los profesores [comentario en p.2]'"
      ]
     },
     "execution_count": 79,
     "metadata": {},
     "output_type": "execute_result"
    }
   ],
   "source": [
    "Finished.loc[267]['B-Q2-1_7_TEXT']"
   ]
  },
  {
   "cell_type": "code",
   "execution_count": 80,
   "metadata": {},
   "outputs": [
    {
     "data": {
      "text/plain": [
       "'tambien al traducir latín y griego clásico al español'"
      ]
     },
     "execution_count": 80,
     "metadata": {},
     "output_type": "execute_result"
    }
   ],
   "source": [
    "Finished.loc[343]['B-Q2-1_7_TEXT']"
   ]
  },
  {
   "cell_type": "code",
   "execution_count": 81,
   "metadata": {},
   "outputs": [
    {
     "data": {
      "text/plain": [
       "'Gran parte fue gracias a dos buenos profesores de lengua en primaria y otros dos en secundaria. En lenguas extranjeras como (Ingles y Frances) no hablaban tampoco mucho en ingles o frances.'"
      ]
     },
     "execution_count": 81,
     "metadata": {},
     "output_type": "execute_result"
    }
   ],
   "source": [
    "Finished.loc[358]['B-Q2-1_7_TEXT']"
   ]
  },
  {
   "cell_type": "code",
   "execution_count": 82,
   "metadata": {},
   "outputs": [
    {
     "data": {
      "text/plain": [
       "'Creo que es una combinación que las estrategias explícitas y las que se desarrollan de modo mas \"automático\" según el modo de gestionar la información de cada uno. '"
      ]
     },
     "execution_count": 82,
     "metadata": {},
     "output_type": "execute_result"
    }
   ],
   "source": [
    "Finished.loc[400]['B-Q2-1_7_TEXT']"
   ]
  },
  {
   "cell_type": "markdown",
   "metadata": {},
   "source": [
    "2. Im Englischunterricht in der Schule:"
   ]
  },
  {
   "cell_type": "code",
   "execution_count": 88,
   "metadata": {},
   "outputs": [
    {
     "data": {
      "text/plain": [
       "87                                        De los colegas\n",
       "90                El profesor nos dio consejos aislados.\n",
       "202                        Devoción por la propia lengua\n",
       "222    Aunque los profesores no explicaran estrategia...\n",
       "272                                         por mi parte\n",
       "287    aunque no nos enseñan per se, sí he tenido muc...\n",
       "295    Algunas estrategias (como recurrir a los prefi...\n",
       "381    Cuando no sabes como afrontar los problemas si...\n",
       "400    Salvo en una academia de inglés a la que he as...\n",
       "Name: B-Q2-2_7_TEXT, dtype: object"
      ]
     },
     "execution_count": 88,
     "metadata": {},
     "output_type": "execute_result"
    }
   ],
   "source": [
    "Finished[Finished['B-Q2-2_7_TEXT'] != 0]['B-Q2-2_7_TEXT']"
   ]
  },
  {
   "cell_type": "code",
   "execution_count": 95,
   "metadata": {},
   "outputs": [
    {
     "data": {
      "text/plain": [
       "'Aunque los profesores no explicaran estrategias lingüísticas, el uso de las mismas en clase, tanto por parte del profesorado como del alumnado, es inevitable.'"
      ]
     },
     "execution_count": 95,
     "metadata": {},
     "output_type": "execute_result"
    }
   ],
   "source": [
    "Finished.loc[222]['B-Q2-2_7_TEXT']"
   ]
  },
  {
   "cell_type": "code",
   "execution_count": 96,
   "metadata": {},
   "outputs": [
    {
     "data": {
      "text/plain": [
       "'aunque no nos enseñan per se, sí he tenido muchos profesores que urgen a que tratemos de entender por contexto/conocimientos previos.'"
      ]
     },
     "execution_count": 96,
     "metadata": {},
     "output_type": "execute_result"
    }
   ],
   "source": [
    "Finished.loc[287]['B-Q2-2_7_TEXT']"
   ]
  },
  {
   "cell_type": "code",
   "execution_count": 97,
   "metadata": {},
   "outputs": [
    {
     "data": {
      "text/plain": [
       "'Algunas estrategias (como recurrir a los prefijos/sufijos y significado que daban) las aprendí de profesores. Otras como mirar el contexto o traducir palabra a palabra en una compuesta me salieron inconscientes. '"
      ]
     },
     "execution_count": 97,
     "metadata": {},
     "output_type": "execute_result"
    }
   ],
   "source": [
    "Finished.loc[295]['B-Q2-2_7_TEXT']"
   ]
  },
  {
   "cell_type": "code",
   "execution_count": 98,
   "metadata": {},
   "outputs": [
    {
     "data": {
      "text/plain": [
       "'Cuando no sabes como afrontar los problemas siempre intentas hacerlo todo y repasas las cosas más de una vez y ahí empiezas a atar cabos, algunas veces.'"
      ]
     },
     "execution_count": 98,
     "metadata": {},
     "output_type": "execute_result"
    }
   ],
   "source": [
    "Finished.loc[381]['B-Q2-2_7_TEXT']"
   ]
  },
  {
   "cell_type": "code",
   "execution_count": 99,
   "metadata": {},
   "outputs": [
    {
     "data": {
      "text/plain": [
       "'Salvo en una academia de inglés a la que he asistido recientemente, creo que la reflexión sobre la estrategia es un tema pendiente en la clases de inglés de la formación básica. Más bien, se dan unas reglas para aplicar, pero no se reflexiona por ejemplo, sobre la etimología o el por qué una estructura sintáctica en un idioma es X y en otro es Y. '"
      ]
     },
     "execution_count": 99,
     "metadata": {},
     "output_type": "execute_result"
    }
   ],
   "source": [
    "Finished.loc[400]['B-Q2-2_7_TEXT']"
   ]
  },
  {
   "cell_type": "markdown",
   "metadata": {},
   "source": [
    "3. In anderem Sprachunterricht in der Schule:"
   ]
  },
  {
   "cell_type": "code",
   "execution_count": 89,
   "metadata": {},
   "outputs": [
    {
     "data": {
      "text/plain": [
       "90     El profesor dio consejos aislados sobre el rec...\n",
       "202                             Devoción por las lenguas\n",
       "273                              Mi profesor me lo dijo.\n",
       "280    Los profesores nos solían explicar o describir...\n",
       "381    Muchas veces haces exámenes o trabajos y no en...\n",
       "Name: B-Q2-3_7_TEXT, dtype: object"
      ]
     },
     "execution_count": 89,
     "metadata": {},
     "output_type": "execute_result"
    }
   ],
   "source": [
    "Finished[Finished['B-Q2-3_7_TEXT'] != 0]['B-Q2-3_7_TEXT']"
   ]
  },
  {
   "cell_type": "code",
   "execution_count": 100,
   "metadata": {},
   "outputs": [
    {
     "data": {
      "text/plain": [
       "'El profesor dio consejos aislados sobre el reconocimiento de palabras.'"
      ]
     },
     "execution_count": 100,
     "metadata": {},
     "output_type": "execute_result"
    }
   ],
   "source": [
    "Finished.loc[90]['B-Q2-3_7_TEXT']"
   ]
  },
  {
   "cell_type": "code",
   "execution_count": 101,
   "metadata": {},
   "outputs": [
    {
     "data": {
      "text/plain": [
       "'Los profesores nos solían explicar o describir la duda, en este caso la palabra para que supiesemos que era, en el idioma que estabamos aprendiendo. Nunca en nuestra lengua materna. Algo que considero bastante interesante y educativo.'"
      ]
     },
     "execution_count": 101,
     "metadata": {},
     "output_type": "execute_result"
    }
   ],
   "source": [
    "Finished.loc[280]['B-Q2-3_7_TEXT']"
   ]
  },
  {
   "cell_type": "code",
   "execution_count": 102,
   "metadata": {},
   "outputs": [
    {
     "data": {
      "text/plain": [
       "'Muchas veces haces exámenes o trabajos y no entiendes alguna palabra y no tienes ningún medio de reconocimiento y es cuando lo repasas más de una vez cuando atas cabos, algunas veces.'"
      ]
     },
     "execution_count": 102,
     "metadata": {},
     "output_type": "execute_result"
    }
   ],
   "source": [
    "Finished.loc[381]['B-Q2-3_7_TEXT']"
   ]
  },
  {
   "cell_type": "markdown",
   "metadata": {},
   "source": [
    "4. In früheren Deutschkursen an der Universität:"
   ]
  },
  {
   "cell_type": "code",
   "execution_count": 90,
   "metadata": {},
   "outputs": [
    {
     "data": {
      "text/plain": [
       "90     El profesor dio consejos aislados sobre el rec...\n",
       "149    Dieron el conocimiento de la sintaxis y la mor...\n",
       "273                              Mi profesor me lo dijo.\n",
       "280    Los profesores nos solían explicar o describir...\n",
       "295    Algunas estrategias (como recurrir a los prefi...\n",
       "Name: B-Q2-4_7_TEXT, dtype: object"
      ]
     },
     "execution_count": 90,
     "metadata": {},
     "output_type": "execute_result"
    }
   ],
   "source": [
    "Finished[Finished['B-Q2-4_7_TEXT'] != 0]['B-Q2-4_7_TEXT']"
   ]
  },
  {
   "cell_type": "code",
   "execution_count": 103,
   "metadata": {},
   "outputs": [
    {
     "data": {
      "text/plain": [
       "'El profesor dio consejos aislados sobre el reconocimiento de palabras.'"
      ]
     },
     "execution_count": 103,
     "metadata": {},
     "output_type": "execute_result"
    }
   ],
   "source": [
    "Finished.loc[90]['B-Q2-4_7_TEXT']"
   ]
  },
  {
   "cell_type": "code",
   "execution_count": 104,
   "metadata": {},
   "outputs": [
    {
     "data": {
      "text/plain": [
       "'Dieron el conocimiento de la sintaxis y la morfología de las palabras de modo que ahora puedo entender algunas cosas mejor. '"
      ]
     },
     "execution_count": 104,
     "metadata": {},
     "output_type": "execute_result"
    }
   ],
   "source": [
    "Finished.loc[149]['B-Q2-4_7_TEXT']"
   ]
  },
  {
   "cell_type": "code",
   "execution_count": 105,
   "metadata": {},
   "outputs": [
    {
     "data": {
      "text/plain": [
       "'Los profesores nos solían explicar o describir la duda, en este caso la palabra para que supiesemos que era, en el idioma que estabamos aprendiendo. Nunca en nuestra lengua materna. Algo que considero bastante interesante y educativo.'"
      ]
     },
     "execution_count": 105,
     "metadata": {},
     "output_type": "execute_result"
    }
   ],
   "source": [
    "Finished.loc[280]['B-Q2-4_7_TEXT']"
   ]
  },
  {
   "cell_type": "code",
   "execution_count": 106,
   "metadata": {},
   "outputs": [
    {
     "data": {
      "text/plain": [
       "'Algunas estrategias (como recurrir a los prefijos/sufijos y significado que daban) las aprendí de profesores. Otras como mirar el contexto o traducir palabra a palabra en una compuesta me salieron inconscientes. '"
      ]
     },
     "execution_count": 106,
     "metadata": {},
     "output_type": "execute_result"
    }
   ],
   "source": [
    "Finished.loc[295]['B-Q2-4_7_TEXT']"
   ]
  },
  {
   "cell_type": "markdown",
   "metadata": {},
   "source": [
    "5. In anderen Lehrveranstaltungen im Rahmen meines Studiums:"
   ]
  },
  {
   "cell_type": "code",
   "execution_count": 91,
   "metadata": {},
   "outputs": [
    {
     "data": {
      "text/plain": [
       "121                                           Tutoriales\n",
       "208                              En clase de Lingüística\n",
       "266    en clase de TIC unos compañeros hicieron una e...\n",
       "295    Algunas estrategias (como recurrir a los prefi...\n",
       "392    Nos mostraron páginas de traducción no solo de...\n",
       "400    En mi carrera, (filosofía), una de las princip...\n",
       "Name: B-Q2-5_7_TEXT, dtype: object"
      ]
     },
     "execution_count": 91,
     "metadata": {},
     "output_type": "execute_result"
    }
   ],
   "source": [
    "Finished[Finished['B-Q2-5_7_TEXT'] != 0]['B-Q2-5_7_TEXT']"
   ]
  },
  {
   "cell_type": "code",
   "execution_count": 107,
   "metadata": {},
   "outputs": [
    {
     "data": {
      "text/plain": [
       "'en clase de TIC unos compañeros hicieron una exposición sobre los distintos recursos que teníamos online para familiarnos con el idioma y buscar dudas.'"
      ]
     },
     "execution_count": 107,
     "metadata": {},
     "output_type": "execute_result"
    }
   ],
   "source": [
    "Finished.loc[266]['B-Q2-5_7_TEXT']"
   ]
  },
  {
   "cell_type": "code",
   "execution_count": 108,
   "metadata": {},
   "outputs": [
    {
     "data": {
      "text/plain": [
       "'Algunas estrategias (como recurrir a los prefijos/sufijos y significado que daban) las aprendí de profesores. Otras como mirar el contexto o traducir palabra a palabra en una compuesta me salieron inconscientes. '"
      ]
     },
     "execution_count": 108,
     "metadata": {},
     "output_type": "execute_result"
    }
   ],
   "source": [
    "Finished.loc[295]['B-Q2-5_7_TEXT']"
   ]
  },
  {
   "cell_type": "code",
   "execution_count": 109,
   "metadata": {},
   "outputs": [
    {
     "data": {
      "text/plain": [
       "'Nos mostraron páginas de traducción no solo de la palabra sino de su contexto '"
      ]
     },
     "execution_count": 109,
     "metadata": {},
     "output_type": "execute_result"
    }
   ],
   "source": [
    "Finished.loc[392]['B-Q2-5_7_TEXT']"
   ]
  },
  {
   "cell_type": "code",
   "execution_count": 110,
   "metadata": {},
   "outputs": [
    {
     "data": {
      "text/plain": [
       "'En mi carrera, (filosofía), una de las principales competencias a adquirir es el análisis de textos muy complejos y de diferentes épocas. De modo que mucha veces, al estudiar idiomas y aún sabiendo que no puedo suplir el estudio de vocabulario o gramática en un sentido \"fuerte\" del idioma, utilizo muchas de estas estrategias para la comprensión. A veces, dificulta el proceso, porque hago demasiada \"abstracción\" e intento decir cosas más complicadas que el nivel del idioma en cuestión del que dispongo. Pero otras veces, por ejemplo en los audios o lecturas, me ayuda mucho por el contexto o cuestiones de cultura general a \"intuir\" las respuestas. '"
      ]
     },
     "execution_count": 110,
     "metadata": {},
     "output_type": "execute_result"
    }
   ],
   "source": [
    "Finished.loc[400]['B-Q2-5_7_TEXT']"
   ]
  },
  {
   "cell_type": "markdown",
   "metadata": {},
   "source": [
    "6. In Sprachkursen in Sprachschulen:"
   ]
  },
  {
   "cell_type": "code",
   "execution_count": 92,
   "metadata": {},
   "outputs": [
    {
     "data": {
      "text/plain": [
       "90     El profesor dio conocimientos aislados sobre e...\n",
       "117    La profesora pedía que durante la primera lect...\n",
       "280    Los profesores nos solían explicar o describir...\n",
       "400    Recientemente, asistí a una academia de inglés...\n",
       "Name: B-Q2-6_7_TEXT, dtype: object"
      ]
     },
     "execution_count": 92,
     "metadata": {},
     "output_type": "execute_result"
    }
   ],
   "source": [
    "Finished[Finished['B-Q2-6_7_TEXT'] != 0]['B-Q2-6_7_TEXT']"
   ]
  },
  {
   "cell_type": "code",
   "execution_count": 111,
   "metadata": {},
   "outputs": [
    {
     "data": {
      "text/plain": [
       "'El profesor dio conocimientos aislados sobre el reconocimiento de palabras.'"
      ]
     },
     "execution_count": 111,
     "metadata": {},
     "output_type": "execute_result"
    }
   ],
   "source": [
    "Finished.loc[90]['B-Q2-6_7_TEXT']"
   ]
  },
  {
   "cell_type": "code",
   "execution_count": 112,
   "metadata": {},
   "outputs": [
    {
     "data": {
      "text/plain": [
       "'La profesora pedía que durante la primera lectura del texto,  subrayásemos todas aquellas palabras o colocaciones que no entendiésemos, y posteriormente,  tras una segundalectura,  con la idea global que yo tenía del texto, conseguía descifrar automáticamente muchas de esas palabras. '"
      ]
     },
     "execution_count": 112,
     "metadata": {},
     "output_type": "execute_result"
    }
   ],
   "source": [
    "Finished.loc[117]['B-Q2-6_7_TEXT']"
   ]
  },
  {
   "cell_type": "code",
   "execution_count": 113,
   "metadata": {},
   "outputs": [
    {
     "data": {
      "text/plain": [
       "'Los profesores nos solían explicar o describir la duda, en este caso la palabra para que supiesemos que era, en el idioma que estabamos aprendiendo. Nunca en nuestra lengua materna. Algo que considero bastante interesante y educativo.'"
      ]
     },
     "execution_count": 113,
     "metadata": {},
     "output_type": "execute_result"
    }
   ],
   "source": [
    "Finished.loc[280]['B-Q2-6_7_TEXT']"
   ]
  },
  {
   "cell_type": "code",
   "execution_count": 114,
   "metadata": {},
   "outputs": [
    {
     "data": {
      "text/plain": [
       "'Recientemente, asistí a una academia de inglés para obtener el B1. Al estar estrictamente centrada en el modelo de examen Cambridge, teníamos un programa y unos contenidos muy definidos, de modo que podíamos desarrollar diferentes estrategias para cada caso concreto, según se adaptasen mejor a nuestras necesidades. '"
      ]
     },
     "execution_count": 114,
     "metadata": {},
     "output_type": "execute_result"
    }
   ],
   "source": [
    "Finished.loc[400]['B-Q2-6_7_TEXT']"
   ]
  },
  {
   "cell_type": "markdown",
   "metadata": {},
   "source": [
    "7. In meinem aktuellen Deutschkurs:"
   ]
  },
  {
   "cell_type": "code",
   "execution_count": 93,
   "metadata": {},
   "outputs": [
    {
     "data": {
      "text/plain": [
       "12     Se explicó cómo aprender el plural al mismo ti...\n",
       "188                                    Con esta encuesta\n",
       "243    Nunca ha sido en una clase en concreto, solo s...\n",
       "287    aunque no nos enseñan per se, sí he tenido muc...\n",
       "338    Buscando en internet cuando desconocía la pala...\n",
       "400    En mi curso actual, nos basamos en un \"método\"...\n",
       "Name: B-Q2-7_7_TEXT, dtype: object"
      ]
     },
     "execution_count": 93,
     "metadata": {},
     "output_type": "execute_result"
    }
   ],
   "source": [
    "Finished[Finished['B-Q2-7_7_TEXT'] != 0]['B-Q2-7_7_TEXT']"
   ]
  },
  {
   "cell_type": "code",
   "execution_count": 115,
   "metadata": {},
   "outputs": [
    {
     "data": {
      "text/plain": [
       "'Se explicó cómo aprender el plural al mismo tiempo que se aprende la palabra'"
      ]
     },
     "execution_count": 115,
     "metadata": {},
     "output_type": "execute_result"
    }
   ],
   "source": [
    "Finished.loc[12]['B-Q2-7_7_TEXT']"
   ]
  },
  {
   "cell_type": "code",
   "execution_count": 116,
   "metadata": {},
   "outputs": [
    {
     "data": {
      "text/plain": [
       "'Nunca ha sido en una clase en concreto, solo surgía al preguntar un alumno, entonces para intentar que fuesemos más autosuficientes nos lo dijeran.'"
      ]
     },
     "execution_count": 116,
     "metadata": {},
     "output_type": "execute_result"
    }
   ],
   "source": [
    "Finished.loc[243]['B-Q2-7_7_TEXT']"
   ]
  },
  {
   "cell_type": "code",
   "execution_count": 117,
   "metadata": {},
   "outputs": [
    {
     "data": {
      "text/plain": [
       "'aunque no nos enseñan per se, sí he tenido muchos profesores que urgen a que tratemos de entender por contexto/conocimientos previos.'"
      ]
     },
     "execution_count": 117,
     "metadata": {},
     "output_type": "execute_result"
    }
   ],
   "source": [
    "Finished.loc[287]['B-Q2-7_7_TEXT']"
   ]
  },
  {
   "cell_type": "code",
   "execution_count": 118,
   "metadata": {},
   "outputs": [
    {
     "data": {
      "text/plain": [
       "'Buscando en internet cuando desconocía la palabra, o preguntándole el significado a la profesora'"
      ]
     },
     "execution_count": 118,
     "metadata": {},
     "output_type": "execute_result"
    }
   ],
   "source": [
    "Finished.loc[338]['B-Q2-7_7_TEXT']"
   ]
  },
  {
   "cell_type": "code",
   "execution_count": 119,
   "metadata": {},
   "outputs": [
    {
     "data": {
      "text/plain": [
       "'En mi curso actual, nos basamos en un \"método\" que creo que es muy novedoso porque se prioriza la cuestión de la escucha y la práctica, con el objetivo de que las estructuras y estrategias se vayan adquiriendo después de la práctica o con ella, y no antes. Lo veo positivo para desenvolverme con mayor facilidad en una conversación, pero en mi opinión, echo de menos alguna clase mas \"teórica\" que busque pensar las estrategias. '"
      ]
     },
     "execution_count": 119,
     "metadata": {},
     "output_type": "execute_result"
    }
   ],
   "source": [
    "Finished.loc[400]['B-Q2-7_7_TEXT']"
   ]
  },
  {
   "cell_type": "markdown",
   "metadata": {},
   "source": [
    "Zusammenfassung der Angaben zu Methoden in Unterrichtskontexten:"
   ]
  },
  {
   "cell_type": "code",
   "execution_count": 83,
   "metadata": {},
   "outputs": [],
   "source": [
    "Erwerb_U = []\n",
    "for lst in erwerb1:\n",
    "        Erwerb_U.append(Finished[Finished['IPAddress']!='2.154.100.40'][erwerb1[lst]].apply(pd.value_counts).astype(integer).iloc[1].sum())\n",
    "\n",
    "Erwerb_U = pd.Series(Erwerb_U)\n",
    "Erwerb_U.index += 1"
   ]
  },
  {
   "cell_type": "code",
   "execution_count": 84,
   "metadata": {},
   "outputs": [
    {
     "data": {
      "text/plain": [
       "6    580\n",
       "2    495\n",
       "3    397\n",
       "1    377\n",
       "5    242\n",
       "4    184\n",
       "7     32\n",
       "dtype: int64"
      ]
     },
     "execution_count": 84,
     "metadata": {},
     "output_type": "execute_result"
    }
   ],
   "source": [
    "Erwerb_U.sort_values(ascending = False)"
   ]
  },
  {
   "cell_type": "code",
   "execution_count": 85,
   "metadata": {},
   "outputs": [
    {
     "data": {
      "image/png": "[encoded data removed]",
      "text/plain": [
       "<Figure size 576x360 with 1 Axes>"
      ]
     },
     "metadata": {
      "needs_background": "light"
     },
     "output_type": "display_data"
    }
   ],
   "source": [
    "Erwerb_U.sort_values(ascending = False).plot(kind='bar', \n",
    "                                        figsize = (8,5), width = 0.5, \n",
    "                                        legend = False, title = \"Strategienerwerb in Unterrichtskontexten\");"
   ]
  },
  {
   "cell_type": "code",
   "execution_count": 86,
   "metadata": {},
   "outputs": [
    {
     "data": {
      "image/png": "[encoded data removed]",
      "text/plain": [
       "<Figure size 576x576 with 1 Axes>"
      ]
     },
     "metadata": {},
     "output_type": "display_data"
    }
   ],
   "source": [
    "Erwerb_U.sort_values(ascending = False).plot(kind='pie', \n",
    "                                        figsize = (8,8), autopct='%.1f',\n",
    "                                        legend = False, title = \"Strategienerwerb in Unterrichtskontexten\");"
   ]
  },
  {
   "cell_type": "code",
   "execution_count": 43,
   "metadata": {},
   "outputs": [
    {
     "data": {
      "text/plain": [
       "6    263\n",
       "2    247\n",
       "1    201\n",
       "3    198\n",
       "5    148\n",
       "4    114\n",
       "dtype: int64"
      ]
     },
     "execution_count": 43,
     "metadata": {},
     "output_type": "execute_result"
    }
   ],
   "source": [
    "Stud_U.sort_values(ascending=False)"
   ]
  },
  {
   "cell_type": "markdown",
   "metadata": {},
   "source": [
    "##### Strategienerwerb im sozialen Umfeld"
   ]
  },
  {
   "cell_type": "markdown",
   "metadata": {},
   "source": [
    "Antwortoptionen (Mehrfachauswahl möglich):\n",
    "1.\tHe conocido estas estrategias en mi familia.\n",
    "* He conocido estas estrategias hablando con amigos/as y conocidos/as.\n",
    "* He conocido estas estrategias hablando con compañeros/as de clase.\n",
    "* He conocido estas estrategias imitando hábitos de trabajo de compañeros/as de clase aventajados/as.\n",
    "* Otros:\n",
    "\n",
    "Deutsche Übersetzung:\n",
    "1. Ich habe Erschließungsstrategien in meiner Familie kennen gelernt.\n",
    "2.  Ich habe Erschließungsstrategien durch den Austausch mit Freunden und Bekannten kennen gelernt.\n",
    "3. Ich habe Erschließungsstrategien durch den Austausch mit Kommilitonen/innen kennen gelernt.\n",
    "4. Ich habe Erschließungsstrategien durch Beobachtung von erfolgreichen Kommilitonen/innen kennen gelernt.\n",
    "5. Anderes:"
   ]
  },
  {
   "cell_type": "code",
   "execution_count": 29,
   "metadata": {},
   "outputs": [
    {
     "data": {
      "text/plain": [
       "B-Q2-8_3    66\n",
       "B-Q2-8_2    40\n",
       "B-Q2-8_4    39\n",
       "B-Q2-8_1    31\n",
       "B-Q2-8_5     6\n",
       "dtype: int64"
      ]
     },
     "execution_count": 29,
     "metadata": {},
     "output_type": "execute_result"
    }
   ],
   "source": [
    "Finished[erwerb['E8']].apply(sum).sort_values(ascending = False)"
   ]
  },
  {
   "cell_type": "code",
   "execution_count": 30,
   "metadata": {},
   "outputs": [
    {
     "data": {
      "image/png": "[encoded data removed]",
      "text/plain": [
       "<Figure size 576x360 with 1 Axes>"
      ]
     },
     "metadata": {
      "needs_background": "light"
     },
     "output_type": "display_data"
    }
   ],
   "source": [
    "Finished[erwerb['E8']].apply(sum).sort_values(ascending = False).plot(kind='bar', \n",
    "                                                                    figsize = (8,5), width = 0.5, \n",
    "                                                                    legend = False, title = \"Strategienerwerb im sozialen Umfeld\");"
   ]
  },
  {
   "cell_type": "markdown",
   "metadata": {},
   "source": [
    "Angaben bei \"Anderes\" (5):"
   ]
  },
  {
   "cell_type": "code",
   "execution_count": 31,
   "metadata": {},
   "outputs": [
    {
     "data": {
      "text/plain": [
       "11     Actualmente mi primo vive en Alemánia y mi her...\n",
       "24     Mi tía ha sido mi profesora de idiomas desde q...\n",
       "128    He utilizado algunas estrategias de manera aut...\n",
       "272                          creo eran positivas para mi\n",
       "392    compañeros de clase extranjeros y la necesidad...\n",
       "Name: B-Q2-8_5_TEXT, dtype: object"
      ]
     },
     "execution_count": 31,
     "metadata": {},
     "output_type": "execute_result"
    }
   ],
   "source": [
    "Finished[Finished['B-Q2-8_5_TEXT'] != 0]['B-Q2-8_5_TEXT']"
   ]
  },
  {
   "cell_type": "code",
   "execution_count": 121,
   "metadata": {},
   "outputs": [
    {
     "data": {
      "text/plain": [
       "'Actualmente mi primo vive en Alemánia y mi hermana vivi? all? también. Dado a esto, siempre he estado muy interesada en el alemán y he aprendido a base de esto. '"
      ]
     },
     "execution_count": 121,
     "metadata": {},
     "output_type": "execute_result"
    }
   ],
   "source": [
    "Finished['B-Q2-8_5_TEXT'][11]"
   ]
  },
  {
   "cell_type": "code",
   "execution_count": 122,
   "metadata": {},
   "outputs": [
    {
     "data": {
      "text/plain": [
       "'Mi tía ha sido mi profesora de idiomas desde que nací'"
      ]
     },
     "execution_count": 122,
     "metadata": {},
     "output_type": "execute_result"
    }
   ],
   "source": [
    "Finished['B-Q2-8_5_TEXT'][24]"
   ]
  },
  {
   "cell_type": "code",
   "execution_count": 123,
   "metadata": {},
   "outputs": [
    {
     "data": {
      "text/plain": [
       "'He utilizado algunas estrategias de manera autónoma e intuitiva utilizando el principio de \"divide y vencerás\"'"
      ]
     },
     "execution_count": 123,
     "metadata": {},
     "output_type": "execute_result"
    }
   ],
   "source": [
    "Finished['B-Q2-8_5_TEXT'][128]"
   ]
  },
  {
   "cell_type": "code",
   "execution_count": 32,
   "metadata": {},
   "outputs": [
    {
     "data": {
      "text/plain": [
       "'compañeros de clase extranjeros y la necesidad de hablar '"
      ]
     },
     "execution_count": 32,
     "metadata": {},
     "output_type": "execute_result"
    }
   ],
   "source": [
    "Finished['B-Q2-8_5_TEXT'][392]"
   ]
  },
  {
   "cell_type": "markdown",
   "metadata": {},
   "source": [
    "##### Autonomer Strategienerwerb"
   ]
  },
  {
   "cell_type": "markdown",
   "metadata": {},
   "source": [
    "Antwortoptionen (Mehrfachauswahl möglich):\n",
    "1.\tHe desarrollado estas estrategias por mi cuenta durante el aprendizaje y el uso de idiomas, p. ej. leyendo textos difíciles.\n",
    "* He probado diferentes cosas y me he dado cuenta de qué funciona mejor para mi.\n",
    "* He aprendido estas estrategias con ayuda de páginas web o blogs.\n",
    "* He aprendido estas estrategias con ayuda de libros.\n",
    "* He aprendido estas estrategias con ayuda de otros materiales. (Opcional: Cuáles?)\n",
    "\n",
    "Deutsche Übersetzung:\n",
    "1. Ich habe Erschließungsstrategien beim Lernen und Anwenden von Sprachen, z.B. beim Lesen schwieriger Texte, selbständig entwickelt.\n",
    "2. Ich habe verschiedene Dinge ausprobiert und herausgefunden, was für mich am besten funktioniert.\n",
    "3. Ich habe Erschließungsstrategien mit Hilfe von Internetseiten oder –blogs gelernt.\n",
    "4. Ich habe Erschließungsstrategien mit Hilfe von Büchern gelernt.\n",
    "5. Ich habe Erschließungsstrategien mit Hilfe anderer Materialien gelernt. (Optional: Welche?)"
   ]
  },
  {
   "cell_type": "code",
   "execution_count": 33,
   "metadata": {},
   "outputs": [
    {
     "data": {
      "text/plain": [
       "B-Q2-9_1    177\n",
       "B-Q2-9_2    150\n",
       "B-Q2-9_3     53\n",
       "B-Q2-9_4     49\n",
       "B-Q2-9_5     17\n",
       "dtype: int64"
      ]
     },
     "execution_count": 33,
     "metadata": {},
     "output_type": "execute_result"
    }
   ],
   "source": [
    "Finished[erwerb['E9']].apply(sum).sort_values(ascending = False)"
   ]
  },
  {
   "cell_type": "code",
   "execution_count": 34,
   "metadata": {},
   "outputs": [
    {
     "data": {
      "image/png": "[encoded data removed]",
      "text/plain": [
       "<Figure size 576x360 with 1 Axes>"
      ]
     },
     "metadata": {
      "needs_background": "light"
     },
     "output_type": "display_data"
    }
   ],
   "source": [
    "Finished[erwerb['E9']].apply(sum).sort_values(ascending = False).plot(kind='bar', \n",
    "                                                                    figsize = (8,5), width = 0.5, \n",
    "                                                                    legend = False, title = \"Autonomer Strategienerwerb\");"
   ]
  },
  {
   "cell_type": "markdown",
   "metadata": {},
   "source": [
    "Angaben bei \"Welche?\" (Option der freien Texteingabe bei Item 5):"
   ]
  },
  {
   "cell_type": "code",
   "execution_count": 35,
   "metadata": {},
   "outputs": [
    {
     "data": {
      "text/plain": [
       "44                                        YouTube, blogs\n",
       "45     He aprendido estas estrategias pensando y util...\n",
       "53     '-Libros, diccionarios, películas,audios,músic...\n",
       "54                               Gracias a esta encuesta\n",
       "61     Mi inteligencia, sentido común e instinto ling...\n",
       "84                                         Series, Radio\n",
       "86                                    youtube, instagram\n",
       "87                     Los compañeros me han dado pistas\n",
       "92                                          diccionarios\n",
       "259                              Grámaticas, Duden, etc.\n",
       "284    Videojuegos, música, en ambos leo lo que estoy...\n",
       "372           Aplicaciones móviles para aprender idiomas\n",
       "373                                Ver vídeos en YouTube\n",
       "377                         Comparando con otros idiomas\n",
       "Name: B-Q2-9_5_TEXT, dtype: object"
      ]
     },
     "execution_count": 35,
     "metadata": {},
     "output_type": "execute_result"
    }
   ],
   "source": [
    "Finished[Finished['B-Q2-9_5_TEXT'] != 0]['B-Q2-9_5_TEXT']"
   ]
  },
  {
   "cell_type": "code",
   "execution_count": 124,
   "metadata": {},
   "outputs": [
    {
     "data": {
      "text/plain": [
       "'He aprendido estas estrategias pensando y utilizando la l?gica'"
      ]
     },
     "execution_count": 124,
     "metadata": {},
     "output_type": "execute_result"
    }
   ],
   "source": [
    "Finished['B-Q2-9_5_TEXT'][45]"
   ]
  },
  {
   "cell_type": "code",
   "execution_count": 125,
   "metadata": {},
   "outputs": [
    {
     "data": {
      "text/plain": [
       "\"'-Libros, diccionarios, películas,audios,música, comunicación\""
      ]
     },
     "execution_count": 125,
     "metadata": {},
     "output_type": "execute_result"
    }
   ],
   "source": [
    "Finished['B-Q2-9_5_TEXT'][53]"
   ]
  },
  {
   "cell_type": "code",
   "execution_count": 126,
   "metadata": {},
   "outputs": [
    {
     "data": {
      "text/plain": [
       "'Mi inteligencia, sentido común e instinto lingüístico '"
      ]
     },
     "execution_count": 126,
     "metadata": {},
     "output_type": "execute_result"
    }
   ],
   "source": [
    "Finished['B-Q2-9_5_TEXT'][61]"
   ]
  },
  {
   "cell_type": "code",
   "execution_count": 127,
   "metadata": {},
   "outputs": [
    {
     "data": {
      "text/plain": [
       "'Videojuegos, música, en ambos leo lo que estoy escuchando, entendiendo así el contexto'"
      ]
     },
     "execution_count": 127,
     "metadata": {},
     "output_type": "execute_result"
    }
   ],
   "source": [
    "Finished['B-Q2-9_5_TEXT'][284]"
   ]
  },
  {
   "cell_type": "markdown",
   "metadata": {},
   "source": [
    "### B-Q3 + B-Q4 (Strategienwerb im Rahmen der Befragung)"
   ]
  },
  {
   "cell_type": "markdown",
   "metadata": {},
   "source": [
    "Frage B-Q3 und Antwortoptionen:\n",
    "\n",
    "¿Ha aprendido alguna estrategia nueva para comprender palabras desconocidas en alemán gracias a esta encuesta? \n",
    "1.\tSí.\n",
    "2.\tNo.\n",
    "3.\tNo estoy seguro/a.\n",
    "\n",
    "\n",
    "Frage B-Q4 und Antwortoptionen:\n",
    "\n",
    "¿Aplicaría alguna de estas estrategias nuevas?\n",
    "1.\tSí.\n",
    "2.\tNo.\n",
    "3.\tNo estoy seguro/a.\n",
    "\n",
    "\n",
    "Deutsche Übersetzung:\n",
    "\n",
    "B-Q3:\n",
    "\n",
    "Haben Sie durch diese Befragung neue Erschließungsstrategien im Deutschen kennen gelernt?\n",
    "1. Ja.\n",
    "2. Nein.\n",
    "3. Ich bin nicht sicher.\n",
    "\n",
    "\n",
    "B-Q4:\n",
    "\n",
    "Würden Sie eine dieser neuen Strategien anwenden?\n",
    "1. Ja.\n",
    "2. Nein.\n",
    "3. Ich bin nicht sicher."
   ]
  },
  {
   "cell_type": "code",
   "execution_count": 44,
   "metadata": {},
   "outputs": [
    {
     "data": {
      "image/png": "[encoded data removed]",
      "text/plain": [
       "<Figure size 288x360 with 1 Axes>"
      ]
     },
     "metadata": {
      "needs_background": "light"
     },
     "output_type": "display_data"
    }
   ],
   "source": [
    "Finished['B-Q3'].value_counts()[[1,2,3]].plot(kind = 'bar', figsize = (4,5), width = 0.4, legend = True, title = \"Neue Strategien kennengelernt?\");"
   ]
  },
  {
   "cell_type": "markdown",
   "metadata": {},
   "source": [
    "(1) Ja\n",
    "(2) Nein\n",
    "(3) Vielleicht"
   ]
  },
  {
   "cell_type": "code",
   "execution_count": 45,
   "metadata": {},
   "outputs": [
    {
     "data": {
      "text/plain": [
       "1    228\n",
       "3    109\n",
       "2     54\n",
       "Name: B-Q3, dtype: int64"
      ]
     },
     "execution_count": 45,
     "metadata": {},
     "output_type": "execute_result"
    }
   ],
   "source": [
    "Finished['B-Q3'].value_counts()"
   ]
  },
  {
   "cell_type": "code",
   "execution_count": 46,
   "metadata": {},
   "outputs": [
    {
     "data": {
      "image/png": "[encoded data removed]",
      "text/plain": [
       "<Figure size 288x360 with 1 Axes>"
      ]
     },
     "metadata": {
      "needs_background": "light"
     },
     "output_type": "display_data"
    }
   ],
   "source": [
    "Finished['B-Q4'].value_counts()[[1,2,3]].plot(kind = 'bar', figsize = (4,5), width = 0.4, legend = True, title = \"Neue Strategien anwenden?\");"
   ]
  },
  {
   "cell_type": "code",
   "execution_count": 47,
   "metadata": {},
   "outputs": [
    {
     "data": {
      "text/plain": [
       "1    257\n",
       "3    104\n",
       "2     28\n",
       "0      2\n",
       "Name: B-Q4, dtype: int64"
      ]
     },
     "execution_count": 47,
     "metadata": {},
     "output_type": "execute_result"
    }
   ],
   "source": [
    "Finished['B-Q4'].value_counts()"
   ]
  },
  {
   "cell_type": "markdown",
   "metadata": {},
   "source": [
    "### C-Q1 (Einstellung zu Erschließungsstrategien)"
   ]
  },
  {
   "cell_type": "markdown",
   "metadata": {},
   "source": [
    "Items:\n",
    "\n",
    "1. Pienso que en alemán utilizo estas estrategias con éxito. \n",
    "2. Estas estrategias son un tema importante en mis clases de alemán.\n",
    "3. Utilizo estas estrategias a menudo fuera del aula, p. ej. cuando leo textos en alemán en mi tiempo libre.\n",
    "4. Estas estrategias son útiles para ampliar el vocabulario en alemán.\n",
    "5. Estas estrategias son útiles para entender mejor textos en alemán.\n",
    "6. Estas estrategias deberían explicarse y practicarse en las clases de alemán.\n",
    "7. No hace falta aprender estas estrategias, ya que las usamos en cualquier caso de forma inconsciente. \n",
    "\n",
    "\n",
    "Deutsche Übersetzung:\n",
    "1. Ich denke, dass ich Erschließungsstrategien im Deutschen erfolgreich einsetze.\n",
    "2. Strategien zur Erschließung unbekannter Wörter sind ein wichtiges Thema in meinem Deutschunterricht.\n",
    "3. Ich nutze Erschließungsstrategien häufig außerhalb des Unterrichts, z.B. beim Lesen deutscher Texte in meiner Freizeit.\n",
    "4. Erschließungsstrategien sind nützlich, um den Wortschatz zu erweitern.\n",
    "5. Erschließungsstrategien sind nützlich, um deutsche Texte besser verstehen zu können.\n",
    "6. Erschließungsstrategien sollten im Deutschunterricht erklärt und geübt werden.\n",
    "7. Es ist nicht notwendig, Erschließungsstrategien zu lernen, weil wir sie ohnehin unbewusst anwenden."
   ]
  },
  {
   "cell_type": "code",
   "execution_count": 48,
   "metadata": {},
   "outputs": [
    {
     "data": {
      "text/html": [
       "<div>\n",
       "<style scoped>\n",
       "    .dataframe tbody tr th:only-of-type {\n",
       "        vertical-align: middle;\n",
       "    }\n",
       "\n",
       "    .dataframe tbody tr th {\n",
       "        vertical-align: top;\n",
       "    }\n",
       "\n",
       "    .dataframe thead th {\n",
       "        text-align: right;\n",
       "    }\n",
       "</style>\n",
       "<table border=\"1\" class=\"dataframe\">\n",
       "  <thead>\n",
       "    <tr style=\"text-align: right;\">\n",
       "      <th></th>\n",
       "      <th>count</th>\n",
       "      <th>mean</th>\n",
       "      <th>std</th>\n",
       "      <th>min</th>\n",
       "      <th>25%</th>\n",
       "      <th>50%</th>\n",
       "      <th>75%</th>\n",
       "      <th>max</th>\n",
       "      <th>mode</th>\n",
       "      <th>median</th>\n",
       "      <th>kurtosis</th>\n",
       "      <th>skew</th>\n",
       "    </tr>\n",
       "  </thead>\n",
       "  <tbody>\n",
       "    <tr>\n",
       "      <th>C-Q1_1</th>\n",
       "      <td>391.0</td>\n",
       "      <td>3.529412</td>\n",
       "      <td>0.884933</td>\n",
       "      <td>1.0</td>\n",
       "      <td>3.0</td>\n",
       "      <td>4.0</td>\n",
       "      <td>4.0</td>\n",
       "      <td>5.0</td>\n",
       "      <td>4</td>\n",
       "      <td>4.0</td>\n",
       "      <td>0.378700</td>\n",
       "      <td>-0.580479</td>\n",
       "    </tr>\n",
       "    <tr>\n",
       "      <th>C-Q1_2</th>\n",
       "      <td>391.0</td>\n",
       "      <td>3.647059</td>\n",
       "      <td>1.108584</td>\n",
       "      <td>1.0</td>\n",
       "      <td>3.0</td>\n",
       "      <td>4.0</td>\n",
       "      <td>5.0</td>\n",
       "      <td>5.0</td>\n",
       "      <td>4</td>\n",
       "      <td>4.0</td>\n",
       "      <td>-0.421035</td>\n",
       "      <td>-0.528398</td>\n",
       "    </tr>\n",
       "    <tr>\n",
       "      <th>C-Q1_3</th>\n",
       "      <td>391.0</td>\n",
       "      <td>3.831202</td>\n",
       "      <td>1.077580</td>\n",
       "      <td>1.0</td>\n",
       "      <td>3.0</td>\n",
       "      <td>4.0</td>\n",
       "      <td>5.0</td>\n",
       "      <td>5.0</td>\n",
       "      <td>4</td>\n",
       "      <td>4.0</td>\n",
       "      <td>0.415203</td>\n",
       "      <td>-0.945001</td>\n",
       "    </tr>\n",
       "    <tr>\n",
       "      <th>C-Q1_4</th>\n",
       "      <td>391.0</td>\n",
       "      <td>4.401535</td>\n",
       "      <td>0.828900</td>\n",
       "      <td>1.0</td>\n",
       "      <td>4.0</td>\n",
       "      <td>5.0</td>\n",
       "      <td>5.0</td>\n",
       "      <td>5.0</td>\n",
       "      <td>5</td>\n",
       "      <td>5.0</td>\n",
       "      <td>2.761439</td>\n",
       "      <td>-1.597907</td>\n",
       "    </tr>\n",
       "    <tr>\n",
       "      <th>C-Q1_5</th>\n",
       "      <td>391.0</td>\n",
       "      <td>4.432225</td>\n",
       "      <td>0.757787</td>\n",
       "      <td>1.0</td>\n",
       "      <td>4.0</td>\n",
       "      <td>5.0</td>\n",
       "      <td>5.0</td>\n",
       "      <td>5.0</td>\n",
       "      <td>5</td>\n",
       "      <td>5.0</td>\n",
       "      <td>3.611769</td>\n",
       "      <td>-1.616713</td>\n",
       "    </tr>\n",
       "    <tr>\n",
       "      <th>C-Q1_6</th>\n",
       "      <td>391.0</td>\n",
       "      <td>4.278772</td>\n",
       "      <td>0.845219</td>\n",
       "      <td>1.0</td>\n",
       "      <td>4.0</td>\n",
       "      <td>4.0</td>\n",
       "      <td>5.0</td>\n",
       "      <td>5.0</td>\n",
       "      <td>5</td>\n",
       "      <td>4.0</td>\n",
       "      <td>1.601275</td>\n",
       "      <td>-1.231322</td>\n",
       "    </tr>\n",
       "    <tr>\n",
       "      <th>C-Q1_7</th>\n",
       "      <td>391.0</td>\n",
       "      <td>2.554987</td>\n",
       "      <td>1.170763</td>\n",
       "      <td>1.0</td>\n",
       "      <td>2.0</td>\n",
       "      <td>2.0</td>\n",
       "      <td>3.0</td>\n",
       "      <td>5.0</td>\n",
       "      <td>2</td>\n",
       "      <td>2.0</td>\n",
       "      <td>-0.572726</td>\n",
       "      <td>0.449894</td>\n",
       "    </tr>\n",
       "  </tbody>\n",
       "</table>\n",
       "</div>"
      ],
      "text/plain": [
       "        count      mean       std  min  25%  50%  75%  max  mode  median  \\\n",
       "C-Q1_1  391.0  3.529412  0.884933  1.0  3.0  4.0  4.0  5.0     4     4.0   \n",
       "C-Q1_2  391.0  3.647059  1.108584  1.0  3.0  4.0  5.0  5.0     4     4.0   \n",
       "C-Q1_3  391.0  3.831202  1.077580  1.0  3.0  4.0  5.0  5.0     4     4.0   \n",
       "C-Q1_4  391.0  4.401535  0.828900  1.0  4.0  5.0  5.0  5.0     5     5.0   \n",
       "C-Q1_5  391.0  4.432225  0.757787  1.0  4.0  5.0  5.0  5.0     5     5.0   \n",
       "C-Q1_6  391.0  4.278772  0.845219  1.0  4.0  4.0  5.0  5.0     5     4.0   \n",
       "C-Q1_7  391.0  2.554987  1.170763  1.0  2.0  2.0  3.0  5.0     2     2.0   \n",
       "\n",
       "        kurtosis      skew  \n",
       "C-Q1_1  0.378700 -0.580479  \n",
       "C-Q1_2 -0.421035 -0.528398  \n",
       "C-Q1_3  0.415203 -0.945001  \n",
       "C-Q1_4  2.761439 -1.597907  \n",
       "C-Q1_5  3.611769 -1.616713  \n",
       "C-Q1_6  1.601275 -1.231322  \n",
       "C-Q1_7 -0.572726  0.449894  "
      ]
     },
     "execution_count": 48,
     "metadata": {},
     "output_type": "execute_result"
    }
   ],
   "source": [
    "df_describe(Finished,Liste_C_Q1)"
   ]
  },
  {
   "cell_type": "code",
   "execution_count": 54,
   "metadata": {},
   "outputs": [],
   "source": [
    "#df_describe(Finished,Liste_C_Q1).to_excel('D:\\Daten\\DISS\\Daten\\Deskriptiv_C1.xlsx')"
   ]
  },
  {
   "cell_type": "code",
   "execution_count": 49,
   "metadata": {},
   "outputs": [
    {
     "data": {
      "image/png": "[encoded data removed]",
      "text/plain": [
       "<Figure size 576x360 with 1 Axes>"
      ]
     },
     "metadata": {
      "needs_background": "light"
     },
     "output_type": "display_data"
    }
   ],
   "source": [
    "graf_likert(Finished,Liste_C_Q1,5)"
   ]
  },
  {
   "cell_type": "code",
   "execution_count": 50,
   "metadata": {},
   "outputs": [
    {
     "data": {
      "image/png": "[encoded data removed]",
      "text/plain": [
       "<Figure size 1152x864 with 7 Axes>"
      ]
     },
     "metadata": {
      "needs_background": "light"
     },
     "output_type": "display_data"
    }
   ],
   "source": [
    "graf_hist(Finished,Liste_C_Q1,16,12,3,4)"
   ]
  },
  {
   "cell_type": "markdown",
   "metadata": {},
   "source": [
    "##### Korrelation in C-Q1"
   ]
  },
  {
   "cell_type": "code",
   "execution_count": 52,
   "metadata": {},
   "outputs": [
    {
     "data": {
      "text/html": [
       "<style  type=\"text/css\" >\n",
       "    #T_31e3619a_deb8_11e9_8b50_463500000031row0_col0 {\n",
       "            background-color :  salmon;\n",
       "        }    #T_31e3619a_deb8_11e9_8b50_463500000031row0_col1 {\n",
       "            background-color:  peachpuff;\n",
       "        }    #T_31e3619a_deb8_11e9_8b50_463500000031row0_col2 {\n",
       "            background-color:  lightsalmon;\n",
       "        }    #T_31e3619a_deb8_11e9_8b50_463500000031row0_col3 {\n",
       "            background-color:  peachpuff;\n",
       "        }    #T_31e3619a_deb8_11e9_8b50_463500000031row0_col4 {\n",
       "            background-color:  lightsalmon;\n",
       "        }    #T_31e3619a_deb8_11e9_8b50_463500000031row0_col5 {\n",
       "            background-color :  white;\n",
       "        }    #T_31e3619a_deb8_11e9_8b50_463500000031row0_col6 {\n",
       "            background-color :  white;\n",
       "        }    #T_31e3619a_deb8_11e9_8b50_463500000031row1_col0 {\n",
       "            background-color:  peachpuff;\n",
       "        }    #T_31e3619a_deb8_11e9_8b50_463500000031row1_col1 {\n",
       "            background-color :  salmon;\n",
       "        }    #T_31e3619a_deb8_11e9_8b50_463500000031row1_col2 {\n",
       "            background-color :  white;\n",
       "        }    #T_31e3619a_deb8_11e9_8b50_463500000031row1_col3 {\n",
       "            background-color:  peachpuff;\n",
       "        }    #T_31e3619a_deb8_11e9_8b50_463500000031row1_col4 {\n",
       "            background-color:  peachpuff;\n",
       "        }    #T_31e3619a_deb8_11e9_8b50_463500000031row1_col5 {\n",
       "            background-color:  peachpuff;\n",
       "        }    #T_31e3619a_deb8_11e9_8b50_463500000031row1_col6 {\n",
       "            background-color:  peachpuff;\n",
       "        }    #T_31e3619a_deb8_11e9_8b50_463500000031row2_col0 {\n",
       "            background-color:  lightsalmon;\n",
       "        }    #T_31e3619a_deb8_11e9_8b50_463500000031row2_col1 {\n",
       "            background-color :  white;\n",
       "        }    #T_31e3619a_deb8_11e9_8b50_463500000031row2_col2 {\n",
       "            background-color :  salmon;\n",
       "        }    #T_31e3619a_deb8_11e9_8b50_463500000031row2_col3 {\n",
       "            background-color:  peachpuff;\n",
       "        }    #T_31e3619a_deb8_11e9_8b50_463500000031row2_col4 {\n",
       "            background-color:  lightsalmon;\n",
       "        }    #T_31e3619a_deb8_11e9_8b50_463500000031row2_col5 {\n",
       "            background-color :  white;\n",
       "        }    #T_31e3619a_deb8_11e9_8b50_463500000031row2_col6 {\n",
       "            background-color :  white;\n",
       "        }    #T_31e3619a_deb8_11e9_8b50_463500000031row3_col0 {\n",
       "            background-color:  peachpuff;\n",
       "        }    #T_31e3619a_deb8_11e9_8b50_463500000031row3_col1 {\n",
       "            background-color:  peachpuff;\n",
       "        }    #T_31e3619a_deb8_11e9_8b50_463500000031row3_col2 {\n",
       "            background-color:  peachpuff;\n",
       "        }    #T_31e3619a_deb8_11e9_8b50_463500000031row3_col3 {\n",
       "            background-color :  salmon;\n",
       "        }    #T_31e3619a_deb8_11e9_8b50_463500000031row3_col4 {\n",
       "            background-color :  salmon;\n",
       "        }    #T_31e3619a_deb8_11e9_8b50_463500000031row3_col5 {\n",
       "            background-color:  peachpuff;\n",
       "        }    #T_31e3619a_deb8_11e9_8b50_463500000031row3_col6 {\n",
       "            background-color:  peachpuff;\n",
       "        }    #T_31e3619a_deb8_11e9_8b50_463500000031row4_col0 {\n",
       "            background-color:  lightsalmon;\n",
       "        }    #T_31e3619a_deb8_11e9_8b50_463500000031row4_col1 {\n",
       "            background-color:  peachpuff;\n",
       "        }    #T_31e3619a_deb8_11e9_8b50_463500000031row4_col2 {\n",
       "            background-color:  lightsalmon;\n",
       "        }    #T_31e3619a_deb8_11e9_8b50_463500000031row4_col3 {\n",
       "            background-color :  salmon;\n",
       "        }    #T_31e3619a_deb8_11e9_8b50_463500000031row4_col4 {\n",
       "            background-color :  salmon;\n",
       "        }    #T_31e3619a_deb8_11e9_8b50_463500000031row4_col5 {\n",
       "            background-color:  peachpuff;\n",
       "        }    #T_31e3619a_deb8_11e9_8b50_463500000031row4_col6 {\n",
       "            background-color:  peachpuff;\n",
       "        }    #T_31e3619a_deb8_11e9_8b50_463500000031row5_col0 {\n",
       "            background-color :  white;\n",
       "        }    #T_31e3619a_deb8_11e9_8b50_463500000031row5_col1 {\n",
       "            background-color:  peachpuff;\n",
       "        }    #T_31e3619a_deb8_11e9_8b50_463500000031row5_col2 {\n",
       "            background-color :  white;\n",
       "        }    #T_31e3619a_deb8_11e9_8b50_463500000031row5_col3 {\n",
       "            background-color:  peachpuff;\n",
       "        }    #T_31e3619a_deb8_11e9_8b50_463500000031row5_col4 {\n",
       "            background-color:  peachpuff;\n",
       "        }    #T_31e3619a_deb8_11e9_8b50_463500000031row5_col5 {\n",
       "            background-color :  salmon;\n",
       "        }    #T_31e3619a_deb8_11e9_8b50_463500000031row5_col6 {\n",
       "            background-color:  peachpuff;\n",
       "        }    #T_31e3619a_deb8_11e9_8b50_463500000031row6_col0 {\n",
       "            background-color :  white;\n",
       "        }    #T_31e3619a_deb8_11e9_8b50_463500000031row6_col1 {\n",
       "            background-color:  peachpuff;\n",
       "        }    #T_31e3619a_deb8_11e9_8b50_463500000031row6_col2 {\n",
       "            background-color :  white;\n",
       "        }    #T_31e3619a_deb8_11e9_8b50_463500000031row6_col3 {\n",
       "            background-color:  peachpuff;\n",
       "        }    #T_31e3619a_deb8_11e9_8b50_463500000031row6_col4 {\n",
       "            background-color:  peachpuff;\n",
       "        }    #T_31e3619a_deb8_11e9_8b50_463500000031row6_col5 {\n",
       "            background-color:  peachpuff;\n",
       "        }    #T_31e3619a_deb8_11e9_8b50_463500000031row6_col6 {\n",
       "            background-color :  salmon;\n",
       "        }</style><table id=\"T_31e3619a_deb8_11e9_8b50_463500000031\" ><thead>    <tr>        <th class=\"blank level0\" ></th>        <th class=\"col_heading level0 col0\" >C-Q1_1</th>        <th class=\"col_heading level0 col1\" >C-Q1_2</th>        <th class=\"col_heading level0 col2\" >C-Q1_3</th>        <th class=\"col_heading level0 col3\" >C-Q1_4</th>        <th class=\"col_heading level0 col4\" >C-Q1_5</th>        <th class=\"col_heading level0 col5\" >C-Q1_6</th>        <th class=\"col_heading level0 col6\" >C-Q1_7</th>    </tr></thead><tbody>\n",
       "                <tr>\n",
       "                        <th id=\"T_31e3619a_deb8_11e9_8b50_463500000031level0_row0\" class=\"row_heading level0 row0\" >C-Q1_1</th>\n",
       "                        <td id=\"T_31e3619a_deb8_11e9_8b50_463500000031row0_col0\" class=\"data row0 col0\" >1</td>\n",
       "                        <td id=\"T_31e3619a_deb8_11e9_8b50_463500000031row0_col1\" class=\"data row0 col1\" >0.117673</td>\n",
       "                        <td id=\"T_31e3619a_deb8_11e9_8b50_463500000031row0_col2\" class=\"data row0 col2\" >0.4278</td>\n",
       "                        <td id=\"T_31e3619a_deb8_11e9_8b50_463500000031row0_col3\" class=\"data row0 col3\" >0.276088</td>\n",
       "                        <td id=\"T_31e3619a_deb8_11e9_8b50_463500000031row0_col4\" class=\"data row0 col4\" >0.320062</td>\n",
       "                        <td id=\"T_31e3619a_deb8_11e9_8b50_463500000031row0_col5\" class=\"data row0 col5\" >0.0878351</td>\n",
       "                        <td id=\"T_31e3619a_deb8_11e9_8b50_463500000031row0_col6\" class=\"data row0 col6\" >0.0569583</td>\n",
       "            </tr>\n",
       "            <tr>\n",
       "                        <th id=\"T_31e3619a_deb8_11e9_8b50_463500000031level0_row1\" class=\"row_heading level0 row1\" >C-Q1_2</th>\n",
       "                        <td id=\"T_31e3619a_deb8_11e9_8b50_463500000031row1_col0\" class=\"data row1 col0\" >0.117673</td>\n",
       "                        <td id=\"T_31e3619a_deb8_11e9_8b50_463500000031row1_col1\" class=\"data row1 col1\" >1</td>\n",
       "                        <td id=\"T_31e3619a_deb8_11e9_8b50_463500000031row1_col2\" class=\"data row1 col2\" >0.0389052</td>\n",
       "                        <td id=\"T_31e3619a_deb8_11e9_8b50_463500000031row1_col3\" class=\"data row1 col3\" >0.210121</td>\n",
       "                        <td id=\"T_31e3619a_deb8_11e9_8b50_463500000031row1_col4\" class=\"data row1 col4\" >0.266888</td>\n",
       "                        <td id=\"T_31e3619a_deb8_11e9_8b50_463500000031row1_col5\" class=\"data row1 col5\" >0.244285</td>\n",
       "                        <td id=\"T_31e3619a_deb8_11e9_8b50_463500000031row1_col6\" class=\"data row1 col6\" >-0.130852</td>\n",
       "            </tr>\n",
       "            <tr>\n",
       "                        <th id=\"T_31e3619a_deb8_11e9_8b50_463500000031level0_row2\" class=\"row_heading level0 row2\" >C-Q1_3</th>\n",
       "                        <td id=\"T_31e3619a_deb8_11e9_8b50_463500000031row2_col0\" class=\"data row2 col0\" >0.4278</td>\n",
       "                        <td id=\"T_31e3619a_deb8_11e9_8b50_463500000031row2_col1\" class=\"data row2 col1\" >0.0389052</td>\n",
       "                        <td id=\"T_31e3619a_deb8_11e9_8b50_463500000031row2_col2\" class=\"data row2 col2\" >1</td>\n",
       "                        <td id=\"T_31e3619a_deb8_11e9_8b50_463500000031row2_col3\" class=\"data row2 col3\" >0.194015</td>\n",
       "                        <td id=\"T_31e3619a_deb8_11e9_8b50_463500000031row2_col4\" class=\"data row2 col4\" >0.330158</td>\n",
       "                        <td id=\"T_31e3619a_deb8_11e9_8b50_463500000031row2_col5\" class=\"data row2 col5\" >0.0444314</td>\n",
       "                        <td id=\"T_31e3619a_deb8_11e9_8b50_463500000031row2_col6\" class=\"data row2 col6\" >0.0407285</td>\n",
       "            </tr>\n",
       "            <tr>\n",
       "                        <th id=\"T_31e3619a_deb8_11e9_8b50_463500000031level0_row3\" class=\"row_heading level0 row3\" >C-Q1_4</th>\n",
       "                        <td id=\"T_31e3619a_deb8_11e9_8b50_463500000031row3_col0\" class=\"data row3 col0\" >0.276088</td>\n",
       "                        <td id=\"T_31e3619a_deb8_11e9_8b50_463500000031row3_col1\" class=\"data row3 col1\" >0.210121</td>\n",
       "                        <td id=\"T_31e3619a_deb8_11e9_8b50_463500000031row3_col2\" class=\"data row3 col2\" >0.194015</td>\n",
       "                        <td id=\"T_31e3619a_deb8_11e9_8b50_463500000031row3_col3\" class=\"data row3 col3\" >1</td>\n",
       "                        <td id=\"T_31e3619a_deb8_11e9_8b50_463500000031row3_col4\" class=\"data row3 col4\" >0.531258</td>\n",
       "                        <td id=\"T_31e3619a_deb8_11e9_8b50_463500000031row3_col5\" class=\"data row3 col5\" >0.259728</td>\n",
       "                        <td id=\"T_31e3619a_deb8_11e9_8b50_463500000031row3_col6\" class=\"data row3 col6\" >-0.253979</td>\n",
       "            </tr>\n",
       "            <tr>\n",
       "                        <th id=\"T_31e3619a_deb8_11e9_8b50_463500000031level0_row4\" class=\"row_heading level0 row4\" >C-Q1_5</th>\n",
       "                        <td id=\"T_31e3619a_deb8_11e9_8b50_463500000031row4_col0\" class=\"data row4 col0\" >0.320062</td>\n",
       "                        <td id=\"T_31e3619a_deb8_11e9_8b50_463500000031row4_col1\" class=\"data row4 col1\" >0.266888</td>\n",
       "                        <td id=\"T_31e3619a_deb8_11e9_8b50_463500000031row4_col2\" class=\"data row4 col2\" >0.330158</td>\n",
       "                        <td id=\"T_31e3619a_deb8_11e9_8b50_463500000031row4_col3\" class=\"data row4 col3\" >0.531258</td>\n",
       "                        <td id=\"T_31e3619a_deb8_11e9_8b50_463500000031row4_col4\" class=\"data row4 col4\" >1</td>\n",
       "                        <td id=\"T_31e3619a_deb8_11e9_8b50_463500000031row4_col5\" class=\"data row4 col5\" >0.284967</td>\n",
       "                        <td id=\"T_31e3619a_deb8_11e9_8b50_463500000031row4_col6\" class=\"data row4 col6\" >-0.145297</td>\n",
       "            </tr>\n",
       "            <tr>\n",
       "                        <th id=\"T_31e3619a_deb8_11e9_8b50_463500000031level0_row5\" class=\"row_heading level0 row5\" >C-Q1_6</th>\n",
       "                        <td id=\"T_31e3619a_deb8_11e9_8b50_463500000031row5_col0\" class=\"data row5 col0\" >0.0878351</td>\n",
       "                        <td id=\"T_31e3619a_deb8_11e9_8b50_463500000031row5_col1\" class=\"data row5 col1\" >0.244285</td>\n",
       "                        <td id=\"T_31e3619a_deb8_11e9_8b50_463500000031row5_col2\" class=\"data row5 col2\" >0.0444314</td>\n",
       "                        <td id=\"T_31e3619a_deb8_11e9_8b50_463500000031row5_col3\" class=\"data row5 col3\" >0.259728</td>\n",
       "                        <td id=\"T_31e3619a_deb8_11e9_8b50_463500000031row5_col4\" class=\"data row5 col4\" >0.284967</td>\n",
       "                        <td id=\"T_31e3619a_deb8_11e9_8b50_463500000031row5_col5\" class=\"data row5 col5\" >1</td>\n",
       "                        <td id=\"T_31e3619a_deb8_11e9_8b50_463500000031row5_col6\" class=\"data row5 col6\" >-0.261567</td>\n",
       "            </tr>\n",
       "            <tr>\n",
       "                        <th id=\"T_31e3619a_deb8_11e9_8b50_463500000031level0_row6\" class=\"row_heading level0 row6\" >C-Q1_7</th>\n",
       "                        <td id=\"T_31e3619a_deb8_11e9_8b50_463500000031row6_col0\" class=\"data row6 col0\" >0.0569583</td>\n",
       "                        <td id=\"T_31e3619a_deb8_11e9_8b50_463500000031row6_col1\" class=\"data row6 col1\" >-0.130852</td>\n",
       "                        <td id=\"T_31e3619a_deb8_11e9_8b50_463500000031row6_col2\" class=\"data row6 col2\" >0.0407285</td>\n",
       "                        <td id=\"T_31e3619a_deb8_11e9_8b50_463500000031row6_col3\" class=\"data row6 col3\" >-0.253979</td>\n",
       "                        <td id=\"T_31e3619a_deb8_11e9_8b50_463500000031row6_col4\" class=\"data row6 col4\" >-0.145297</td>\n",
       "                        <td id=\"T_31e3619a_deb8_11e9_8b50_463500000031row6_col5\" class=\"data row6 col5\" >-0.261567</td>\n",
       "                        <td id=\"T_31e3619a_deb8_11e9_8b50_463500000031row6_col6\" class=\"data row6 col6\" >1</td>\n",
       "            </tr>\n",
       "    </tbody></table>"
      ],
      "text/plain": [
       "<pandas.io.formats.style.Styler at 0xec568d0>"
      ]
     },
     "execution_count": 52,
     "metadata": {},
     "output_type": "execute_result"
    }
   ],
   "source": [
    "df_spearman(Finished,Liste_C_Q1)"
   ]
  },
  {
   "cell_type": "code",
   "execution_count": 53,
   "metadata": {},
   "outputs": [
    {
     "data": {
      "text/html": [
       "<style  type=\"text/css\" >\n",
       "    #T_31f7fb58_deb8_11e9_a708_463500000031row0_col0 {\n",
       "            background-color :  salmon;\n",
       "        }    #T_31f7fb58_deb8_11e9_a708_463500000031row0_col1 {\n",
       "            background-color:  lightsalmon;\n",
       "        }    #T_31f7fb58_deb8_11e9_a708_463500000031row0_col2 {\n",
       "            background-color :  salmon;\n",
       "        }    #T_31f7fb58_deb8_11e9_a708_463500000031row0_col3 {\n",
       "            background-color :  salmon;\n",
       "        }    #T_31f7fb58_deb8_11e9_a708_463500000031row0_col4 {\n",
       "            background-color :  salmon;\n",
       "        }    #T_31f7fb58_deb8_11e9_a708_463500000031row0_col5 {\n",
       "            background-color :  white;\n",
       "        }    #T_31f7fb58_deb8_11e9_a708_463500000031row0_col6 {\n",
       "            background-color :  white;\n",
       "        }    #T_31f7fb58_deb8_11e9_a708_463500000031row1_col0 {\n",
       "            background-color:  lightsalmon;\n",
       "        }    #T_31f7fb58_deb8_11e9_a708_463500000031row1_col1 {\n",
       "            background-color :  salmon;\n",
       "        }    #T_31f7fb58_deb8_11e9_a708_463500000031row1_col2 {\n",
       "            background-color :  white;\n",
       "        }    #T_31f7fb58_deb8_11e9_a708_463500000031row1_col3 {\n",
       "            background-color :  salmon;\n",
       "        }    #T_31f7fb58_deb8_11e9_a708_463500000031row1_col4 {\n",
       "            background-color :  salmon;\n",
       "        }    #T_31f7fb58_deb8_11e9_a708_463500000031row1_col5 {\n",
       "            background-color :  salmon;\n",
       "        }    #T_31f7fb58_deb8_11e9_a708_463500000031row1_col6 {\n",
       "            background-color :  salmon;\n",
       "        }    #T_31f7fb58_deb8_11e9_a708_463500000031row2_col0 {\n",
       "            background-color :  salmon;\n",
       "        }    #T_31f7fb58_deb8_11e9_a708_463500000031row2_col1 {\n",
       "            background-color :  white;\n",
       "        }    #T_31f7fb58_deb8_11e9_a708_463500000031row2_col2 {\n",
       "            background-color :  salmon;\n",
       "        }    #T_31f7fb58_deb8_11e9_a708_463500000031row2_col3 {\n",
       "            background-color :  salmon;\n",
       "        }    #T_31f7fb58_deb8_11e9_a708_463500000031row2_col4 {\n",
       "            background-color :  salmon;\n",
       "        }    #T_31f7fb58_deb8_11e9_a708_463500000031row2_col5 {\n",
       "            background-color :  white;\n",
       "        }    #T_31f7fb58_deb8_11e9_a708_463500000031row2_col6 {\n",
       "            background-color :  white;\n",
       "        }    #T_31f7fb58_deb8_11e9_a708_463500000031row3_col0 {\n",
       "            background-color :  salmon;\n",
       "        }    #T_31f7fb58_deb8_11e9_a708_463500000031row3_col1 {\n",
       "            background-color :  salmon;\n",
       "        }    #T_31f7fb58_deb8_11e9_a708_463500000031row3_col2 {\n",
       "            background-color :  salmon;\n",
       "        }    #T_31f7fb58_deb8_11e9_a708_463500000031row3_col3 {\n",
       "            background-color :  salmon;\n",
       "        }    #T_31f7fb58_deb8_11e9_a708_463500000031row3_col4 {\n",
       "            background-color :  salmon;\n",
       "        }    #T_31f7fb58_deb8_11e9_a708_463500000031row3_col5 {\n",
       "            background-color :  salmon;\n",
       "        }    #T_31f7fb58_deb8_11e9_a708_463500000031row3_col6 {\n",
       "            background-color :  salmon;\n",
       "        }    #T_31f7fb58_deb8_11e9_a708_463500000031row4_col0 {\n",
       "            background-color :  salmon;\n",
       "        }    #T_31f7fb58_deb8_11e9_a708_463500000031row4_col1 {\n",
       "            background-color :  salmon;\n",
       "        }    #T_31f7fb58_deb8_11e9_a708_463500000031row4_col2 {\n",
       "            background-color :  salmon;\n",
       "        }    #T_31f7fb58_deb8_11e9_a708_463500000031row4_col3 {\n",
       "            background-color :  salmon;\n",
       "        }    #T_31f7fb58_deb8_11e9_a708_463500000031row4_col4 {\n",
       "            background-color :  salmon;\n",
       "        }    #T_31f7fb58_deb8_11e9_a708_463500000031row4_col5 {\n",
       "            background-color :  salmon;\n",
       "        }    #T_31f7fb58_deb8_11e9_a708_463500000031row4_col6 {\n",
       "            background-color :  salmon;\n",
       "        }    #T_31f7fb58_deb8_11e9_a708_463500000031row5_col0 {\n",
       "            background-color :  white;\n",
       "        }    #T_31f7fb58_deb8_11e9_a708_463500000031row5_col1 {\n",
       "            background-color :  salmon;\n",
       "        }    #T_31f7fb58_deb8_11e9_a708_463500000031row5_col2 {\n",
       "            background-color :  white;\n",
       "        }    #T_31f7fb58_deb8_11e9_a708_463500000031row5_col3 {\n",
       "            background-color :  salmon;\n",
       "        }    #T_31f7fb58_deb8_11e9_a708_463500000031row5_col4 {\n",
       "            background-color :  salmon;\n",
       "        }    #T_31f7fb58_deb8_11e9_a708_463500000031row5_col5 {\n",
       "            background-color :  salmon;\n",
       "        }    #T_31f7fb58_deb8_11e9_a708_463500000031row5_col6 {\n",
       "            background-color :  salmon;\n",
       "        }    #T_31f7fb58_deb8_11e9_a708_463500000031row6_col0 {\n",
       "            background-color :  white;\n",
       "        }    #T_31f7fb58_deb8_11e9_a708_463500000031row6_col1 {\n",
       "            background-color :  salmon;\n",
       "        }    #T_31f7fb58_deb8_11e9_a708_463500000031row6_col2 {\n",
       "            background-color :  white;\n",
       "        }    #T_31f7fb58_deb8_11e9_a708_463500000031row6_col3 {\n",
       "            background-color :  salmon;\n",
       "        }    #T_31f7fb58_deb8_11e9_a708_463500000031row6_col4 {\n",
       "            background-color :  salmon;\n",
       "        }    #T_31f7fb58_deb8_11e9_a708_463500000031row6_col5 {\n",
       "            background-color :  salmon;\n",
       "        }    #T_31f7fb58_deb8_11e9_a708_463500000031row6_col6 {\n",
       "            background-color :  salmon;\n",
       "        }</style><table id=\"T_31f7fb58_deb8_11e9_a708_463500000031\" ><thead>    <tr>        <th class=\"blank level0\" ></th>        <th class=\"col_heading level0 col0\" >C-Q1_1</th>        <th class=\"col_heading level0 col1\" >C-Q1_2</th>        <th class=\"col_heading level0 col2\" >C-Q1_3</th>        <th class=\"col_heading level0 col3\" >C-Q1_4</th>        <th class=\"col_heading level0 col4\" >C-Q1_5</th>        <th class=\"col_heading level0 col5\" >C-Q1_6</th>        <th class=\"col_heading level0 col6\" >C-Q1_7</th>    </tr></thead><tbody>\n",
       "                <tr>\n",
       "                        <th id=\"T_31f7fb58_deb8_11e9_a708_463500000031level0_row0\" class=\"row_heading level0 row0\" >C-Q1_1</th>\n",
       "                        <td id=\"T_31f7fb58_deb8_11e9_a708_463500000031row0_col0\" class=\"data row0 col0\" >0</td>\n",
       "                        <td id=\"T_31f7fb58_deb8_11e9_a708_463500000031row0_col1\" class=\"data row0 col1\" >0.0199395</td>\n",
       "                        <td id=\"T_31f7fb58_deb8_11e9_a708_463500000031row0_col2\" class=\"data row0 col2\" >7.87919e-19</td>\n",
       "                        <td id=\"T_31f7fb58_deb8_11e9_a708_463500000031row0_col3\" class=\"data row0 col3\" >2.85583e-08</td>\n",
       "                        <td id=\"T_31f7fb58_deb8_11e9_a708_463500000031row0_col4\" class=\"data row0 col4\" >9.18497e-11</td>\n",
       "                        <td id=\"T_31f7fb58_deb8_11e9_a708_463500000031row0_col5\" class=\"data row0 col5\" >0.0828082</td>\n",
       "                        <td id=\"T_31f7fb58_deb8_11e9_a708_463500000031row0_col6\" class=\"data row0 col6\" >0.261189</td>\n",
       "            </tr>\n",
       "            <tr>\n",
       "                        <th id=\"T_31f7fb58_deb8_11e9_a708_463500000031level0_row1\" class=\"row_heading level0 row1\" >C-Q1_2</th>\n",
       "                        <td id=\"T_31f7fb58_deb8_11e9_a708_463500000031row1_col0\" class=\"data row1 col0\" >0.0199395</td>\n",
       "                        <td id=\"T_31f7fb58_deb8_11e9_a708_463500000031row1_col1\" class=\"data row1 col1\" >0</td>\n",
       "                        <td id=\"T_31f7fb58_deb8_11e9_a708_463500000031row1_col2\" class=\"data row1 col2\" >0.443006</td>\n",
       "                        <td id=\"T_31f7fb58_deb8_11e9_a708_463500000031row1_col3\" class=\"data row1 col3\" >2.80906e-05</td>\n",
       "                        <td id=\"T_31f7fb58_deb8_11e9_a708_463500000031row1_col4\" class=\"data row1 col4\" >8.41634e-08</td>\n",
       "                        <td id=\"T_31f7fb58_deb8_11e9_a708_463500000031row1_col5\" class=\"data row1 col5\" >1.01237e-06</td>\n",
       "                        <td id=\"T_31f7fb58_deb8_11e9_a708_463500000031row1_col6\" class=\"data row1 col6\" >0.00958919</td>\n",
       "            </tr>\n",
       "            <tr>\n",
       "                        <th id=\"T_31f7fb58_deb8_11e9_a708_463500000031level0_row2\" class=\"row_heading level0 row2\" >C-Q1_3</th>\n",
       "                        <td id=\"T_31f7fb58_deb8_11e9_a708_463500000031row2_col0\" class=\"data row2 col0\" >7.87919e-19</td>\n",
       "                        <td id=\"T_31f7fb58_deb8_11e9_a708_463500000031row2_col1\" class=\"data row2 col1\" >0.443006</td>\n",
       "                        <td id=\"T_31f7fb58_deb8_11e9_a708_463500000031row2_col2\" class=\"data row2 col2\" >0</td>\n",
       "                        <td id=\"T_31f7fb58_deb8_11e9_a708_463500000031row2_col3\" class=\"data row2 col3\" >0.00011299</td>\n",
       "                        <td id=\"T_31f7fb58_deb8_11e9_a708_463500000031row2_col4\" class=\"data row2 col4\" >2.1384e-11</td>\n",
       "                        <td id=\"T_31f7fb58_deb8_11e9_a708_463500000031row2_col5\" class=\"data row2 col5\" >0.380925</td>\n",
       "                        <td id=\"T_31f7fb58_deb8_11e9_a708_463500000031row2_col6\" class=\"data row2 col6\" >0.421912</td>\n",
       "            </tr>\n",
       "            <tr>\n",
       "                        <th id=\"T_31f7fb58_deb8_11e9_a708_463500000031level0_row3\" class=\"row_heading level0 row3\" >C-Q1_4</th>\n",
       "                        <td id=\"T_31f7fb58_deb8_11e9_a708_463500000031row3_col0\" class=\"data row3 col0\" >2.85583e-08</td>\n",
       "                        <td id=\"T_31f7fb58_deb8_11e9_a708_463500000031row3_col1\" class=\"data row3 col1\" >2.80906e-05</td>\n",
       "                        <td id=\"T_31f7fb58_deb8_11e9_a708_463500000031row3_col2\" class=\"data row3 col2\" >0.00011299</td>\n",
       "                        <td id=\"T_31f7fb58_deb8_11e9_a708_463500000031row3_col3\" class=\"data row3 col3\" >0</td>\n",
       "                        <td id=\"T_31f7fb58_deb8_11e9_a708_463500000031row3_col4\" class=\"data row3 col4\" >7.36495e-30</td>\n",
       "                        <td id=\"T_31f7fb58_deb8_11e9_a708_463500000031row3_col5\" class=\"data row3 col5\" >1.89857e-07</td>\n",
       "                        <td id=\"T_31f7fb58_deb8_11e9_a708_463500000031row3_col6\" class=\"data row3 col6\" >3.58566e-07</td>\n",
       "            </tr>\n",
       "            <tr>\n",
       "                        <th id=\"T_31f7fb58_deb8_11e9_a708_463500000031level0_row4\" class=\"row_heading level0 row4\" >C-Q1_5</th>\n",
       "                        <td id=\"T_31f7fb58_deb8_11e9_a708_463500000031row4_col0\" class=\"data row4 col0\" >9.18497e-11</td>\n",
       "                        <td id=\"T_31f7fb58_deb8_11e9_a708_463500000031row4_col1\" class=\"data row4 col1\" >8.41634e-08</td>\n",
       "                        <td id=\"T_31f7fb58_deb8_11e9_a708_463500000031row4_col2\" class=\"data row4 col2\" >2.1384e-11</td>\n",
       "                        <td id=\"T_31f7fb58_deb8_11e9_a708_463500000031row4_col3\" class=\"data row4 col3\" >7.36495e-30</td>\n",
       "                        <td id=\"T_31f7fb58_deb8_11e9_a708_463500000031row4_col4\" class=\"data row4 col4\" >0</td>\n",
       "                        <td id=\"T_31f7fb58_deb8_11e9_a708_463500000031row4_col5\" class=\"data row4 col5\" >9.68321e-09</td>\n",
       "                        <td id=\"T_31f7fb58_deb8_11e9_a708_463500000031row4_col6\" class=\"data row4 col6\" >0.00398748</td>\n",
       "            </tr>\n",
       "            <tr>\n",
       "                        <th id=\"T_31f7fb58_deb8_11e9_a708_463500000031level0_row5\" class=\"row_heading level0 row5\" >C-Q1_6</th>\n",
       "                        <td id=\"T_31f7fb58_deb8_11e9_a708_463500000031row5_col0\" class=\"data row5 col0\" >0.0828082</td>\n",
       "                        <td id=\"T_31f7fb58_deb8_11e9_a708_463500000031row5_col1\" class=\"data row5 col1\" >1.01237e-06</td>\n",
       "                        <td id=\"T_31f7fb58_deb8_11e9_a708_463500000031row5_col2\" class=\"data row5 col2\" >0.380925</td>\n",
       "                        <td id=\"T_31f7fb58_deb8_11e9_a708_463500000031row5_col3\" class=\"data row5 col3\" >1.89857e-07</td>\n",
       "                        <td id=\"T_31f7fb58_deb8_11e9_a708_463500000031row5_col4\" class=\"data row5 col4\" >9.68321e-09</td>\n",
       "                        <td id=\"T_31f7fb58_deb8_11e9_a708_463500000031row5_col5\" class=\"data row5 col5\" >0</td>\n",
       "                        <td id=\"T_31f7fb58_deb8_11e9_a708_463500000031row5_col6\" class=\"data row5 col6\" >1.54404e-07</td>\n",
       "            </tr>\n",
       "            <tr>\n",
       "                        <th id=\"T_31f7fb58_deb8_11e9_a708_463500000031level0_row6\" class=\"row_heading level0 row6\" >C-Q1_7</th>\n",
       "                        <td id=\"T_31f7fb58_deb8_11e9_a708_463500000031row6_col0\" class=\"data row6 col0\" >0.261189</td>\n",
       "                        <td id=\"T_31f7fb58_deb8_11e9_a708_463500000031row6_col1\" class=\"data row6 col1\" >0.00958919</td>\n",
       "                        <td id=\"T_31f7fb58_deb8_11e9_a708_463500000031row6_col2\" class=\"data row6 col2\" >0.421912</td>\n",
       "                        <td id=\"T_31f7fb58_deb8_11e9_a708_463500000031row6_col3\" class=\"data row6 col3\" >3.58566e-07</td>\n",
       "                        <td id=\"T_31f7fb58_deb8_11e9_a708_463500000031row6_col4\" class=\"data row6 col4\" >0.00398748</td>\n",
       "                        <td id=\"T_31f7fb58_deb8_11e9_a708_463500000031row6_col5\" class=\"data row6 col5\" >1.54404e-07</td>\n",
       "                        <td id=\"T_31f7fb58_deb8_11e9_a708_463500000031row6_col6\" class=\"data row6 col6\" >0</td>\n",
       "            </tr>\n",
       "    </tbody></table>"
      ],
      "text/plain": [
       "<pandas.io.formats.style.Styler at 0xec52c88>"
      ]
     },
     "execution_count": 53,
     "metadata": {},
     "output_type": "execute_result"
    }
   ],
   "source": [
    "df_spearman_pv(Finished,Liste_C_Q1)"
   ]
  }
 ],
 "metadata": {
  "kernelspec": {
   "display_name": "Python 3",
   "language": "python",
   "name": "python3"
  },
  "language_info": {
   "codemirror_mode": {
    "name": "ipython",
    "version": 3
   },
   "file_extension": ".py",
   "mimetype": "text/x-python",
   "name": "python",
   "nbconvert_exporter": "python",
   "pygments_lexer": "ipython3",
   "version": "3.7.3"
  }
 },
 "nbformat": 4,
 "nbformat_minor": 2
}
