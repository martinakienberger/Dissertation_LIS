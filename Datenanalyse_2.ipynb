{
 "cells": [
  {
   "cell_type": "markdown",
   "metadata": {},
   "source": [
    "## Erschließungsstrategien für unbekannten Wortschatz von DaF-Lernenden an spanischen Universitäten (2017-19)\n",
    "# Datenanalyse (2)"
   ]
  },
  {
   "cell_type": "markdown",
   "metadata": {},
   "source": [
    "#### Werkzeuge und Daten importieren"
   ]
  },
  {
   "cell_type": "code",
   "execution_count": 144,
   "metadata": {},
   "outputs": [
    {
     "name": "stdout",
     "output_type": "stream",
     "text": [
      "Populating the interactive namespace from numpy and matplotlib\n"
     ]
    }
   ],
   "source": [
    "from funktionen import *\n",
    "import pandas as pd\n",
    "import matplotlib\n",
    "import numpy as np\n",
    "import seaborn as sns\n",
    "sns.set(style=\"white\") #\"whitegrid\"\n",
    "%pylab inline"
   ]
  },
  {
   "cell_type": "code",
   "execution_count": 2,
   "metadata": {},
   "outputs": [],
   "source": [
    "Daten = pd.read_pickle('D:\\Daten\\DISS\\Daten\\Estrategias_Estudiantes_2017-19_ber')"
   ]
  },
  {
   "cell_type": "code",
   "execution_count": 3,
   "metadata": {},
   "outputs": [
    {
     "data": {
      "text/plain": [
       "(401, 377)"
      ]
     },
     "execution_count": 3,
     "metadata": {},
     "output_type": "execute_result"
    }
   ],
   "source": [
    "Daten.shape"
   ]
  },
  {
   "cell_type": "markdown",
   "metadata": {},
   "source": [
    "#### Glossar erstellen\n",
    "\n",
    "Datei aufrufen, die in einem anderem Notebook erstellt und gespeichert wurde"
   ]
  },
  {
   "cell_type": "code",
   "execution_count": 4,
   "metadata": {},
   "outputs": [],
   "source": [
    "gloss = pd.read_pickle('D:\\Daten\\DISS\\Daten\\Gloss2018')"
   ]
  },
  {
   "cell_type": "markdown",
   "metadata": {},
   "source": [
    "#### Untergruppen und Listen für die Analyse"
   ]
  },
  {
   "cell_type": "code",
   "execution_count": 5,
   "metadata": {},
   "outputs": [],
   "source": [
    "Finished = Daten[Daten['C-Q1_7'] >= 1]"
   ]
  },
  {
   "cell_type": "code",
   "execution_count": 6,
   "metadata": {},
   "outputs": [],
   "source": [
    "Liste_C_Q1 = [col for col in Daten.columns if 'C-Q1' in col]"
   ]
  },
  {
   "cell_type": "markdown",
   "metadata": {},
   "source": [
    "### Analyse der Angaben zur Strategienaneignung"
   ]
  },
  {
   "cell_type": "markdown",
   "metadata": {},
   "source": [
    "### Kontexte des Strategienerwerbs\n",
    "#### B-Q1"
   ]
  },
  {
   "cell_type": "markdown",
   "metadata": {},
   "source": [
    "Antwortoptionen (Mehrfachauswahl möglich):\n",
    "1. En las clases de Lengua y Literatura en el colegio o instituto\n",
    "2. En las clases de inglés en el colegio o instituto\n",
    "3. En otras clases de idiomas en el colegio o instituto\n",
    "4. En clases de alemán anteriores en la Universidad\n",
    "5. En otras asignaturas de mi carrera universitaria\n",
    "6. En clases de lenguas en escuelas de idiomas o academias\n",
    "7. En mi curso de alemán actual\n",
    "8. En mi familia, con mis amigos/as o compañeros/as de clase\n",
    "9. Por mi cuenta, sin ayuda de otras personas\n",
    "10. Otros:\n",
    "11. No sé cómo he aprendido estas estrategias.\n",
    "\n",
    "Deutsche Übersetzung:\n",
    "1. Im Sprach- und Literaturunterricht (muttersprachlicher Unterricht) in der Schule\n",
    "2. Im Englischunterricht in der Schule\n",
    "3. In anderem Sprachunterricht in der Schule\n",
    "4. In früheren Deutschkursen an der Universität\n",
    "5. In anderen Lehrveranstaltungen im Rahmen meines Studiums\n",
    "6. In Sprachkursen in Sprachschulen\n",
    "7. In meinem aktuellen Deutschkurs\n",
    "8. In der Familie, im Freundeskreis oder durch Kommilitonen/innen\n",
    "9. Allein, ohne Hilfe anderer Personen\n",
    "10. Andere:\n",
    "11. Ich weiß eigentlich nicht, wie ich diese Strategien erworben habe."
   ]
  },
  {
   "cell_type": "code",
   "execution_count": 7,
   "metadata": {},
   "outputs": [],
   "source": [
    "Kontexte = Finished[['B-Q1_1','B-Q1_2','B-Q1_3','B-Q1_4','B-Q1_5','B-Q1_6','B-Q1_7','B-Q1_8','B-Q1_9','B-Q1_10','B-Q1_11']]"
   ]
  },
  {
   "cell_type": "code",
   "execution_count": 8,
   "metadata": {},
   "outputs": [],
   "source": [
    "DF_Kontexte = Kontexte.apply(pd.value_counts).fillna(0).astype(integer)"
   ]
  },
  {
   "cell_type": "code",
   "execution_count": 9,
   "metadata": {},
   "outputs": [],
   "source": [
    "#DF_Kontexte.T.to_excel('D:\\Daten\\DISS\\Daten\\DF_Erwerbskontexte.xlsx')"
   ]
  },
  {
   "cell_type": "code",
   "execution_count": 10,
   "metadata": {},
   "outputs": [
    {
     "data": {
      "text/plain": [
       "B-Q1_7     232\n",
       "B-Q1_9     220\n",
       "B-Q1_2     220\n",
       "B-Q1_3     176\n",
       "B-Q1_6     157\n",
       "B-Q1_1     139\n",
       "B-Q1_5     138\n",
       "B-Q1_4     119\n",
       "B-Q1_8      92\n",
       "B-Q1_10     23\n",
       "B-Q1_11     11\n",
       "Name: 1, dtype: int32"
      ]
     },
     "execution_count": 10,
     "metadata": {},
     "output_type": "execute_result"
    }
   ],
   "source": [
    "DF_Kontexte.iloc[1].sort_values(ascending = False)"
   ]
  },
  {
   "cell_type": "code",
   "execution_count": 11,
   "metadata": {},
   "outputs": [],
   "source": [
    "DF_Kontexte_N = DF_Kontexte[:]\n",
    "DF_Kontexte_N.rename(columns={'B-Q1_1':'Schule Erstsprache',\n",
    "                            'B-Q1_2':'Schule Englisch',\n",
    "                            'B-Q1_3':'Schule andere Spr.',\n",
    "                            'B-Q1_4':'Früherer univ. DK',\n",
    "                            'B-Q1_5':'Andere univ. LV',\n",
    "                            'B-Q1_6':'Sprachschule',\n",
    "                            'B-Q1_7':'Aktueller DK',\n",
    "                            'B-Q1_8':'Familie, Freunde',\n",
    "                            'B-Q1_9':'Autonom',\n",
    "                            'B-Q1_10':'Andere',\n",
    "                            'B-Q1_11':'Weiß nicht'}, inplace=True)"
   ]
  },
  {
   "cell_type": "code",
   "execution_count": 12,
   "metadata": {},
   "outputs": [
    {
     "data": {
      "image/png": "[encoded data removed]",
      "text/plain": [
       "<Figure size 864x360 with 1 Axes>"
      ]
     },
     "metadata": {
      "needs_background": "light"
     },
     "output_type": "display_data"
    }
   ],
   "source": [
    "DF_Kontexte_N.iloc[1].sort_values(ascending = False).plot(kind='bar', \n",
    "                                                            figsize = (12,5), width = 0.5, \n",
    "                                                            legend = False); #title = \"Kontexte des Strategienerwerbs\");"
   ]
  },
  {
   "cell_type": "code",
   "execution_count": 13,
   "metadata": {},
   "outputs": [
    {
     "data": {
      "image/png": "[encoded data removed]",
      "text/plain": [
       "<Figure size 576x432 with 1 Axes>"
      ]
     },
     "metadata": {
      "needs_background": "light"
     },
     "output_type": "display_data"
    }
   ],
   "source": [
    "DF_Kontexte_N.iloc[1].sort_values(ascending = True).plot(kind='barh', \n",
    "                                                            figsize = (8,6), #width = 0.4, \n",
    "                                                            legend = False); #title = \"Kontexte des Strategienerwerbs\");"
   ]
  },
  {
   "cell_type": "markdown",
   "metadata": {},
   "source": [
    "Angaben bei \"Andere\" (10):"
   ]
  },
  {
   "cell_type": "code",
   "execution_count": 14,
   "metadata": {},
   "outputs": [
    {
     "data": {
      "text/plain": [
       "(23, 377)"
      ]
     },
     "execution_count": 14,
     "metadata": {},
     "output_type": "execute_result"
    }
   ],
   "source": [
    "Finished[Finished['B-Q1_10_TEXT']!=0].shape"
   ]
  },
  {
   "cell_type": "code",
   "execution_count": 15,
   "metadata": {},
   "outputs": [
    {
     "data": {
      "text/plain": [
       "13     Sentido común y uso intuitivo y automático de ...\n",
       "27                                            CON MARIAN\n",
       "43     leyendo sobre estrategias de aprendizaje en in...\n",
       "44                            Con lecturas por Internet \n",
       "60     En otras materias que enseñaban a hacer resume...\n",
       "104                               Leyendo el diccionario\n",
       "141           Leyendo en otros idiomas por cuenta propia\n",
       "164                               estudiar en extranjero\n",
       "187    En distintas asignaturas a lo largo de todos m...\n",
       "202                                   Intuición personal\n",
       "206    Tengo bastante intuición con las lenguas y he ...\n",
       "222                            Razonamiento comparativo \n",
       "230                        en realidad es mezcla de todo\n",
       "240    En el Instituto cultural alemán (Sevilla) y en...\n",
       "246    leyendo textos por mi mismo y poniendo en rela...\n",
       "247    se me da bien aprender idiomas y tengo facilid...\n",
       "262    convivencia con amigos bilingües (de padre nat...\n",
       "293    En mi academia, pero para inglés. He usado esa...\n",
       "343                                    francés y gallego\n",
       "358                                              Logica.\n",
       "379    Cuando estaba bachillerato de China los profes...\n",
       "392                                         Intercambio \n",
       "400    En un curso de alemán en Alemania. La profesor...\n",
       "Name: B-Q1_10_TEXT, dtype: object"
      ]
     },
     "execution_count": 15,
     "metadata": {},
     "output_type": "execute_result"
    }
   ],
   "source": [
    "Finished[Finished['B-Q1_10_TEXT']!=0]['B-Q1_10_TEXT']"
   ]
  },
  {
   "cell_type": "markdown",
   "metadata": {},
   "source": [
    "### Methoden des Strategienerwerbs\n",
    "#### B-Q2"
   ]
  },
  {
   "cell_type": "markdown",
   "metadata": {},
   "source": [
    "Erwerbskontexte:"
   ]
  },
  {
   "cell_type": "code",
   "execution_count": 16,
   "metadata": {},
   "outputs": [],
   "source": [
    "erwerb = {'E1': ['B-Q2-1_1','B-Q2-1_2','B-Q2-1_3','B-Q2-1_4','B-Q2-1_5','B-Q2-1_6','B-Q2-1_7'], \n",
    "         'E2': ['B-Q2-2_1','B-Q2-2_2','B-Q2-2_3','B-Q2-2_4','B-Q2-2_5','B-Q2-2_6','B-Q2-2_7'],\n",
    "         'E3': ['B-Q2-3_1','B-Q2-3_2','B-Q2-3_3','B-Q2-3_4','B-Q2-3_5','B-Q2-3_6','B-Q2-3_7'],\n",
    "         'E4': ['B-Q2-4_1','B-Q2-4_2','B-Q2-4_3','B-Q2-4_4','B-Q2-4_5','B-Q2-4_6','B-Q2-4_7'],\n",
    "         'E5': ['B-Q2-5_1','B-Q2-5_2','B-Q2-5_3','B-Q2-5_4','B-Q2-5_5','B-Q2-5_6','B-Q2-5_7'],\n",
    "         'E6': ['B-Q2-6_1','B-Q2-6_2','B-Q2-6_3','B-Q2-6_4','B-Q2-6_5','B-Q2-6_6','B-Q2-6_7'],\n",
    "         'E7': ['B-Q2-7_1','B-Q2-7_2','B-Q2-7_3','B-Q2-7_4','B-Q2-7_5','B-Q2-7_6','B-Q2-7_7'],\n",
    "         'E8': ['B-Q2-8_1','B-Q2-8_2','B-Q2-8_3','B-Q2-8_4','B-Q2-8_5'],\n",
    "         'E9': ['B-Q2-9_1','B-Q2-9_2','B-Q2-9_3','B-Q2-9_4','B-Q2-9_5']}"
   ]
  },
  {
   "cell_type": "markdown",
   "metadata": {},
   "source": [
    "Methoden des Stragienerwerbs (kontextübergreifend in Unterrichtssituationen):"
   ]
  },
  {
   "cell_type": "code",
   "execution_count": 17,
   "metadata": {},
   "outputs": [],
   "source": [
    "erwerb1 = {'U1': ['B-Q2-1_1','B-Q2-2_1','B-Q2-3_1','B-Q2-4_1','B-Q2-5_1','B-Q2-6_1','B-Q2-7_1'], \n",
    "         'U2': ['B-Q2-1_2','B-Q2-2_2','B-Q2-3_2','B-Q2-4_2','B-Q2-5_2','B-Q2-6_2','B-Q2-7_2'],\n",
    "         'U3': ['B-Q2-1_3','B-Q2-2_3','B-Q2-3_3','B-Q2-4_3','B-Q2-5_3','B-Q2-6_3','B-Q2-7_3'],\n",
    "         'U4': ['B-Q2-1_4','B-Q2-2_4','B-Q2-3_4','B-Q2-4_4','B-Q2-5_4','B-Q2-6_4','B-Q2-7_4'],\n",
    "         'U5': ['B-Q2-1_5','B-Q2-2_5','B-Q2-3_5','B-Q2-4_5','B-Q2-5_5','B-Q2-6_5','B-Q2-7_5'],\n",
    "         'U6': ['B-Q2-1_6','B-Q2-2_6','B-Q2-3_6','B-Q2-4_6','B-Q2-5_6','B-Q2-6_6','B-Q2-7_6'],\n",
    "         'U7': ['B-Q2-1_7','B-Q2-2_7','B-Q2-3_7','B-Q2-4_7','B-Q2-5_7','B-Q2-6_7','B-Q2-7_7']}"
   ]
  },
  {
   "cell_type": "markdown",
   "metadata": {},
   "source": [
    "Auswahl der TN, die mindestens einmal eine bestimmte Methode angegeben haben:"
   ]
  },
  {
   "cell_type": "code",
   "execution_count": 18,
   "metadata": {},
   "outputs": [],
   "source": [
    "Stud_U1 = Finished[(Finished['B-Q2-1_1'] == 1) | (Finished['B-Q2-2_1'] == 1) | (Finished['B-Q2-3_1'] == 1) | (Finished['B-Q2-4_1'] == 1) | (Finished['B-Q2-5_1'] == 1) | (Finished['B-Q2-6_1'] == 1) | (Finished['B-Q2-7_1'] == 1)]\n",
    "Stud_U2 = Finished[(Finished['B-Q2-1_2'] == 1) | (Finished['B-Q2-2_2'] == 1) | (Finished['B-Q2-3_2'] == 1) | (Finished['B-Q2-4_2'] == 1) | (Finished['B-Q2-5_2'] == 1) | (Finished['B-Q2-6_2'] == 1) | (Finished['B-Q2-7_2'] == 1)]\n",
    "Stud_U3 = Finished[(Finished['B-Q2-1_3'] == 1) | (Finished['B-Q2-2_3'] == 1) | (Finished['B-Q2-3_3'] == 1) | (Finished['B-Q2-4_3'] == 1) | (Finished['B-Q2-5_3'] == 1) | (Finished['B-Q2-6_3'] == 1) | (Finished['B-Q2-7_3'] == 1)]\n",
    "Stud_U4 = Finished[(Finished['B-Q2-1_4'] == 1) | (Finished['B-Q2-2_4'] == 1) | (Finished['B-Q2-3_4'] == 1) | (Finished['B-Q2-4_4'] == 1) | (Finished['B-Q2-5_4'] == 1) | (Finished['B-Q2-6_4'] == 1) | (Finished['B-Q2-7_4'] == 1)]\n",
    "Stud_U5 = Finished[(Finished['B-Q2-1_5'] == 1) | (Finished['B-Q2-2_5'] == 1) | (Finished['B-Q2-3_5'] == 1) | (Finished['B-Q2-4_5'] == 1) | (Finished['B-Q2-5_5'] == 1) | (Finished['B-Q2-6_5'] == 1) | (Finished['B-Q2-7_5'] == 1)]\n",
    "Stud_U6 = Finished[(Finished['B-Q2-1_6'] == 1) | (Finished['B-Q2-2_6'] == 1) | (Finished['B-Q2-3_6'] == 1) | (Finished['B-Q2-4_6'] == 1) | (Finished['B-Q2-5_6'] == 1) | (Finished['B-Q2-6_6'] == 1) | (Finished['B-Q2-7_6'] == 1)]"
   ]
  },
  {
   "cell_type": "code",
   "execution_count": 19,
   "metadata": {},
   "outputs": [],
   "source": [
    "Stud_U = []\n",
    "Stud_U.append(Stud_U1.shape[0])\n",
    "Stud_U.append(Stud_U2.shape[0])\n",
    "Stud_U.append(Stud_U3.shape[0])\n",
    "Stud_U.append(Stud_U4.shape[0])\n",
    "Stud_U.append(Stud_U5.shape[0])\n",
    "Stud_U.append(Stud_U6.shape[0])"
   ]
  },
  {
   "cell_type": "code",
   "execution_count": 20,
   "metadata": {},
   "outputs": [],
   "source": [
    "Stud_U = pd.Series(Stud_U)\n",
    "Stud_U.index += 1"
   ]
  },
  {
   "cell_type": "code",
   "execution_count": 21,
   "metadata": {},
   "outputs": [],
   "source": [
    "Stud_E8 = Finished[(Finished['B-Q2-8_1'] == 1) | (Finished['B-Q2-8_2'] == 1) | (Finished['B-Q2-8_3'] == 1) | (Finished['B-Q2-8_4'] == 1) | (Finished['B-Q2-8_5'] == 1)]\n",
    "Stud_E9 = Finished[(Finished['B-Q2-9_1'] == 1) | (Finished['B-Q2-9_2'] == 1) | (Finished['B-Q2-9_3'] == 1) | (Finished['B-Q2-9_4'] == 1) | (Finished['B-Q2-9_5'] == 1)]"
   ]
  },
  {
   "cell_type": "markdown",
   "metadata": {},
   "source": [
    "##### Methoden des Strategienerwerbs nach Erwerbskontexten"
   ]
  },
  {
   "cell_type": "markdown",
   "metadata": {},
   "source": [
    "Aufgrund der Beschränkungen der Papier-Version des Fragebogens hinsichtlich der Implementierung von Filterfragen können die Angaben dieser TN großteils nicht in die Auswertung der Methoden des Strategienerwerbs nach Erwerbskontexten miteinbezogen werden, da Methoden und Unterrichtskontexte nicht immer eindeutig zugeordnet werden können. Im Fall von Erwerb im sozialen Umfeld oder autonom besteht diese Problematik nicht, die Daten können für die Analyse genutzt werden. "
   ]
  },
  {
   "cell_type": "markdown",
   "metadata": {},
   "source": [
    "##### Strategienerwerb in Unterrichtskontexten"
   ]
  },
  {
   "cell_type": "markdown",
   "metadata": {},
   "source": [
    "Antwortoptionen (Mehrfachauswahl möglich):\n",
    "1.\tLas estrategias se presentaron (y explicaron) en clase.\n",
    "2.\tEl/La profesor/a dio consejos sobre cómo familiarizarse de manera autónoma con estas estrategias, p. ej. mediante páginas web, libros u otros materiales que explican estrategias de aprendizaje. \n",
    "* Estas estrategias se explicaron y practicaron con ejemplos concretos, realizando tareas, p. ej. leyendo un texto difícil.\n",
    "* Se probaron y se compararon diferentes estrategias.\n",
    "* Se reflexionó sobre el uso de estas estrategias, p. ej. sobre qué estrategia sería adecuada en una situación y/o para una persona determinada.\n",
    "* Durante las clases he aprendido estas estrategias de manera inconsciente, p. ej. mientras leía textos difíciles, sin explicación o indicación del/de la profesor/a.\n",
    "* Otros:\n",
    "\n",
    "Deutsche Übersetzung:\n",
    "1. Erschließungsstrategien wurden im Unterricht vorgestellt (und erklärt).\n",
    "2. Die Lehrperson hat Tipps für das selbständige Aneignen von Erschließungsstrategien gegeben, z.B. über Internetseiten, Bücher oder andere Materialien, in denen Lernstrategien erklärt werden.\n",
    "3. Erschließungsstrategien wurden anhand von praktischen Beispielen, beim Ausführen bestimmter Aufgaben, z.B. Lesen eines schwierigen Textes, erklärt und geübt.\n",
    "4. Verschiedene Erschließungsstrategien wurden ausprobiert und miteinander verglichen.\n",
    "5. Reflexionen über Einsatz von Erschließungsstrategien wurden durchgeführt, z.B. Überlegungen, welche Strategie in einer bestimmten Situation und/oder für eine bestimmte Person geeignet ist.\n",
    "6. Im Laufe des Unterrichts habe ich verschiedene Erschließungsstrategien unbewusst gelernt, z.B. beim Lesen von schwierigen Texten - ohne Erklärung oder Hinweis des Lehrers.\n",
    "7. Anderes:"
   ]
  },
  {
   "cell_type": "code",
   "execution_count": 22,
   "metadata": {},
   "outputs": [
    {
     "data": {
      "text/plain": [
       "B-Q2-1_6    71\n",
       "B-Q2-1_2    59\n",
       "B-Q2-1_3    52\n",
       "B-Q2-1_1    42\n",
       "B-Q2-1_5    25\n",
       "B-Q2-1_4     9\n",
       "B-Q2-1_7     6\n",
       "dtype: int64"
      ]
     },
     "execution_count": 22,
     "metadata": {},
     "output_type": "execute_result"
    }
   ],
   "source": [
    "Finished[Finished['IPAddress']!='2.154.100.40'][erwerb['E1']].apply(sum).sort_values(ascending = False)"
   ]
  },
  {
   "cell_type": "code",
   "execution_count": 23,
   "metadata": {},
   "outputs": [],
   "source": [
    "DF_Erwerb = pd.DataFrame(np.nan, columns=list(erwerb.keys())[:7], \n",
    "                         index = ['Vorstellung durch Lehrperson','Tipps zur selb. Aneignung','Üben mit Beispielen',\n",
    "                                  'Vergleichen','Reflexion','Unbewusst','Andere'])"
   ]
  },
  {
   "cell_type": "code",
   "execution_count": 24,
   "metadata": {},
   "outputs": [],
   "source": [
    "for key in list(erwerb.keys())[:7]:\n",
    "    DF_Erwerb[key] = Finished[Finished['IPAddress']!='2.154.100.40'][erwerb[key]].sum().values"
   ]
  },
  {
   "cell_type": "code",
   "execution_count": 25,
   "metadata": {},
   "outputs": [
    {
     "data": {
      "text/html": [
       "<div>\n",
       "<style scoped>\n",
       "    .dataframe tbody tr th:only-of-type {\n",
       "        vertical-align: middle;\n",
       "    }\n",
       "\n",
       "    .dataframe tbody tr th {\n",
       "        vertical-align: top;\n",
       "    }\n",
       "\n",
       "    .dataframe thead th {\n",
       "        text-align: right;\n",
       "    }\n",
       "</style>\n",
       "<table border=\"1\" class=\"dataframe\">\n",
       "  <thead>\n",
       "    <tr style=\"text-align: right;\">\n",
       "      <th></th>\n",
       "      <th>Vorstellung durch Lehrperson</th>\n",
       "      <th>Tipps zur selb. Aneignung</th>\n",
       "      <th>Üben mit Beispielen</th>\n",
       "      <th>Vergleichen</th>\n",
       "      <th>Reflexion</th>\n",
       "      <th>Unbewusst</th>\n",
       "      <th>Andere</th>\n",
       "    </tr>\n",
       "  </thead>\n",
       "  <tbody>\n",
       "    <tr>\n",
       "      <th>E1</th>\n",
       "      <td>42.0</td>\n",
       "      <td>59.0</td>\n",
       "      <td>52.0</td>\n",
       "      <td>9.0</td>\n",
       "      <td>25.0</td>\n",
       "      <td>71.0</td>\n",
       "      <td>6.0</td>\n",
       "    </tr>\n",
       "    <tr>\n",
       "      <th>E2</th>\n",
       "      <td>64.0</td>\n",
       "      <td>85.0</td>\n",
       "      <td>73.0</td>\n",
       "      <td>21.0</td>\n",
       "      <td>34.0</td>\n",
       "      <td>120.0</td>\n",
       "      <td>7.0</td>\n",
       "    </tr>\n",
       "    <tr>\n",
       "      <th>E3</th>\n",
       "      <td>53.0</td>\n",
       "      <td>68.0</td>\n",
       "      <td>59.0</td>\n",
       "      <td>34.0</td>\n",
       "      <td>31.0</td>\n",
       "      <td>91.0</td>\n",
       "      <td>4.0</td>\n",
       "    </tr>\n",
       "    <tr>\n",
       "      <th>E4</th>\n",
       "      <td>38.0</td>\n",
       "      <td>49.0</td>\n",
       "      <td>44.0</td>\n",
       "      <td>19.0</td>\n",
       "      <td>25.0</td>\n",
       "      <td>49.0</td>\n",
       "      <td>2.0</td>\n",
       "    </tr>\n",
       "    <tr>\n",
       "      <th>E5</th>\n",
       "      <td>49.0</td>\n",
       "      <td>58.0</td>\n",
       "      <td>38.0</td>\n",
       "      <td>29.0</td>\n",
       "      <td>32.0</td>\n",
       "      <td>55.0</td>\n",
       "      <td>5.0</td>\n",
       "    </tr>\n",
       "    <tr>\n",
       "      <th>E6</th>\n",
       "      <td>49.0</td>\n",
       "      <td>71.0</td>\n",
       "      <td>56.0</td>\n",
       "      <td>29.0</td>\n",
       "      <td>34.0</td>\n",
       "      <td>80.0</td>\n",
       "      <td>3.0</td>\n",
       "    </tr>\n",
       "    <tr>\n",
       "      <th>E7</th>\n",
       "      <td>82.0</td>\n",
       "      <td>105.0</td>\n",
       "      <td>75.0</td>\n",
       "      <td>43.0</td>\n",
       "      <td>61.0</td>\n",
       "      <td>114.0</td>\n",
       "      <td>5.0</td>\n",
       "    </tr>\n",
       "  </tbody>\n",
       "</table>\n",
       "</div>"
      ],
      "text/plain": [
       "    Vorstellung durch Lehrperson  Tipps zur selb. Aneignung  \\\n",
       "E1                          42.0                       59.0   \n",
       "E2                          64.0                       85.0   \n",
       "E3                          53.0                       68.0   \n",
       "E4                          38.0                       49.0   \n",
       "E5                          49.0                       58.0   \n",
       "E6                          49.0                       71.0   \n",
       "E7                          82.0                      105.0   \n",
       "\n",
       "    Üben mit Beispielen  Vergleichen  Reflexion  Unbewusst  Andere  \n",
       "E1                 52.0          9.0       25.0       71.0     6.0  \n",
       "E2                 73.0         21.0       34.0      120.0     7.0  \n",
       "E3                 59.0         34.0       31.0       91.0     4.0  \n",
       "E4                 44.0         19.0       25.0       49.0     2.0  \n",
       "E5                 38.0         29.0       32.0       55.0     5.0  \n",
       "E6                 56.0         29.0       34.0       80.0     3.0  \n",
       "E7                 75.0         43.0       61.0      114.0     5.0  "
      ]
     },
     "execution_count": 25,
     "metadata": {},
     "output_type": "execute_result"
    }
   ],
   "source": [
    "DF_Erwerb.T"
   ]
  },
  {
   "cell_type": "code",
   "execution_count": 26,
   "metadata": {},
   "outputs": [],
   "source": [
    "#DF_Erwerb.T.to_excel('D:\\Daten\\DISS\\Daten\\DF_Erwerb.xlsx')"
   ]
  },
  {
   "cell_type": "code",
   "execution_count": 27,
   "metadata": {},
   "outputs": [],
   "source": [
    "#DF_Erwerb.to_excel('D:\\Daten\\DISS\\Daten\\DF_Erwerb1.xlsx')"
   ]
  },
  {
   "cell_type": "code",
   "execution_count": 28,
   "metadata": {},
   "outputs": [
    {
     "data": {
      "image/png": "[encoded data removed]",
      "text/plain": [
       "<Figure size 1080x504 with 1 Axes>"
      ]
     },
     "metadata": {
      "needs_background": "light"
     },
     "output_type": "display_data"
    }
   ],
   "source": [
    "DF_Erwerb.T.plot(kind = 'bar', figsize = (15,7))#, \n",
    "#                 title = 'Übersicht über Methoden des Strategienwerbs nach Unterrichtskontexten');\n",
    "xx = [0,1,2,3,4,5,6]\n",
    "labels = ['Schule Erstspr.','Schule Engl.','Schule And.','Früh. DK','And. Univ. LV','Sprachschule','DK aktuell']\n",
    "plt.xticks(xx,labels,rotation='horizontal');"
   ]
  },
  {
   "cell_type": "markdown",
   "metadata": {},
   "source": [
    "Angaben bei \"Anderes\" (7):"
   ]
  },
  {
   "cell_type": "markdown",
   "metadata": {},
   "source": [
    "Im Folgenden werden die freien Texteingaben unter \"Anderes\", geordnet nach dem jeweiligen Erwerbskontext (Unterrichtssituationen), angezeigt. Bei denjenigen TN, die die Papierversion des Fragebogens ausgefüllt haben, können die Angaben nicht eindeutig einem bestimmten Kontext zugeordnet werden und werden daher mehrmals angezeigt."
   ]
  },
  {
   "cell_type": "code",
   "execution_count": 29,
   "metadata": {},
   "outputs": [
    {
     "data": {
      "text/plain": [
       "Int64Index([167, 168, 169, 228, 233, 234, 235, 236, 237, 238, 239, 240, 241,\n",
       "            242, 243, 244, 245, 246, 247, 248, 249, 250, 251, 252, 253, 254,\n",
       "            255, 256, 257, 258, 259, 260, 261, 262, 263, 264, 265, 267, 268,\n",
       "            269, 270, 271, 273, 274, 275, 276, 277, 278, 279, 280, 281, 282,\n",
       "            283, 284, 285, 286, 287, 288, 289, 290, 291, 292, 293, 294, 295],\n",
       "           dtype='int64')"
      ]
     },
     "execution_count": 29,
     "metadata": {},
     "output_type": "execute_result"
    }
   ],
   "source": [
    "Finished[Finished['IPAddress']=='2.154.100.40'].index"
   ]
  },
  {
   "cell_type": "markdown",
   "metadata": {},
   "source": [
    "1. Im Sprach- und Literaturunterricht (muttersprachlicher Unterricht) in der Schule:"
   ]
  },
  {
   "cell_type": "code",
   "execution_count": 30,
   "metadata": {},
   "outputs": [
    {
     "data": {
      "text/plain": [
       "54                                Mi madre me las enseñó\n",
       "202                 Intuición y devoción por las lenguas\n",
       "267    las he aprendido por los profesores [comentari...\n",
       "272                                         por mi parte\n",
       "343    tambien al traducir latín y griego clásico al ...\n",
       "358    Gran parte fue gracias a dos buenos profesores...\n",
       "400    Creo que es una combinación que las estrategia...\n",
       "Name: B-Q2-1_7_TEXT, dtype: object"
      ]
     },
     "execution_count": 30,
     "metadata": {},
     "output_type": "execute_result"
    }
   ],
   "source": [
    "Finished[Finished['B-Q2-1_7_TEXT'] != 0]['B-Q2-1_7_TEXT']"
   ]
  },
  {
   "cell_type": "code",
   "execution_count": 31,
   "metadata": {},
   "outputs": [
    {
     "data": {
      "text/plain": [
       "'las he aprendido por los profesores [comentario en p.2]'"
      ]
     },
     "execution_count": 31,
     "metadata": {},
     "output_type": "execute_result"
    }
   ],
   "source": [
    "Finished.loc[267]['B-Q2-1_7_TEXT']"
   ]
  },
  {
   "cell_type": "code",
   "execution_count": 32,
   "metadata": {},
   "outputs": [
    {
     "data": {
      "text/plain": [
       "'tambien al traducir latín y griego clásico al español'"
      ]
     },
     "execution_count": 32,
     "metadata": {},
     "output_type": "execute_result"
    }
   ],
   "source": [
    "Finished.loc[343]['B-Q2-1_7_TEXT']"
   ]
  },
  {
   "cell_type": "code",
   "execution_count": 33,
   "metadata": {},
   "outputs": [
    {
     "data": {
      "text/plain": [
       "'Gran parte fue gracias a dos buenos profesores de lengua en primaria y otros dos en secundaria. En lenguas extranjeras como (Ingles y Frances) no hablaban tampoco mucho en ingles o frances.'"
      ]
     },
     "execution_count": 33,
     "metadata": {},
     "output_type": "execute_result"
    }
   ],
   "source": [
    "Finished.loc[358]['B-Q2-1_7_TEXT']"
   ]
  },
  {
   "cell_type": "code",
   "execution_count": 34,
   "metadata": {},
   "outputs": [
    {
     "data": {
      "text/plain": [
       "'Creo que es una combinación que las estrategias explícitas y las que se desarrollan de modo mas \"automático\" según el modo de gestionar la información de cada uno. '"
      ]
     },
     "execution_count": 34,
     "metadata": {},
     "output_type": "execute_result"
    }
   ],
   "source": [
    "Finished.loc[400]['B-Q2-1_7_TEXT']"
   ]
  },
  {
   "cell_type": "markdown",
   "metadata": {},
   "source": [
    "2. Im Englischunterricht in der Schule:"
   ]
  },
  {
   "cell_type": "code",
   "execution_count": 35,
   "metadata": {},
   "outputs": [
    {
     "data": {
      "text/plain": [
       "87                                        De los colegas\n",
       "90                El profesor nos dio consejos aislados.\n",
       "202                        Devoción por la propia lengua\n",
       "222    Aunque los profesores no explicaran estrategia...\n",
       "272                                         por mi parte\n",
       "287    aunque no nos enseñan per se, sí he tenido muc...\n",
       "295    Algunas estrategias (como recurrir a los prefi...\n",
       "381    Cuando no sabes como afrontar los problemas si...\n",
       "400    Salvo en una academia de inglés a la que he as...\n",
       "Name: B-Q2-2_7_TEXT, dtype: object"
      ]
     },
     "execution_count": 35,
     "metadata": {},
     "output_type": "execute_result"
    }
   ],
   "source": [
    "Finished[Finished['B-Q2-2_7_TEXT'] != 0]['B-Q2-2_7_TEXT']"
   ]
  },
  {
   "cell_type": "code",
   "execution_count": 36,
   "metadata": {},
   "outputs": [
    {
     "data": {
      "text/plain": [
       "'Aunque los profesores no explicaran estrategias lingüísticas, el uso de las mismas en clase, tanto por parte del profesorado como del alumnado, es inevitable.'"
      ]
     },
     "execution_count": 36,
     "metadata": {},
     "output_type": "execute_result"
    }
   ],
   "source": [
    "Finished.loc[222]['B-Q2-2_7_TEXT']"
   ]
  },
  {
   "cell_type": "code",
   "execution_count": 37,
   "metadata": {},
   "outputs": [
    {
     "data": {
      "text/plain": [
       "'aunque no nos enseñan per se, sí he tenido muchos profesores que urgen a que tratemos de entender por contexto/conocimientos previos.'"
      ]
     },
     "execution_count": 37,
     "metadata": {},
     "output_type": "execute_result"
    }
   ],
   "source": [
    "Finished.loc[287]['B-Q2-2_7_TEXT']"
   ]
  },
  {
   "cell_type": "code",
   "execution_count": 38,
   "metadata": {},
   "outputs": [
    {
     "data": {
      "text/plain": [
       "'Algunas estrategias (como recurrir a los prefijos/sufijos y significado que daban) las aprendí de profesores. Otras como mirar el contexto o traducir palabra a palabra en una compuesta me salieron inconscientes. '"
      ]
     },
     "execution_count": 38,
     "metadata": {},
     "output_type": "execute_result"
    }
   ],
   "source": [
    "Finished.loc[295]['B-Q2-2_7_TEXT']"
   ]
  },
  {
   "cell_type": "code",
   "execution_count": 39,
   "metadata": {},
   "outputs": [
    {
     "data": {
      "text/plain": [
       "'Cuando no sabes como afrontar los problemas siempre intentas hacerlo todo y repasas las cosas más de una vez y ahí empiezas a atar cabos, algunas veces.'"
      ]
     },
     "execution_count": 39,
     "metadata": {},
     "output_type": "execute_result"
    }
   ],
   "source": [
    "Finished.loc[381]['B-Q2-2_7_TEXT']"
   ]
  },
  {
   "cell_type": "code",
   "execution_count": 40,
   "metadata": {},
   "outputs": [
    {
     "data": {
      "text/plain": [
       "'Salvo en una academia de inglés a la que he asistido recientemente, creo que la reflexión sobre la estrategia es un tema pendiente en la clases de inglés de la formación básica. Más bien, se dan unas reglas para aplicar, pero no se reflexiona por ejemplo, sobre la etimología o el por qué una estructura sintáctica en un idioma es X y en otro es Y. '"
      ]
     },
     "execution_count": 40,
     "metadata": {},
     "output_type": "execute_result"
    }
   ],
   "source": [
    "Finished.loc[400]['B-Q2-2_7_TEXT']"
   ]
  },
  {
   "cell_type": "markdown",
   "metadata": {},
   "source": [
    "3. In anderem Sprachunterricht in der Schule:"
   ]
  },
  {
   "cell_type": "code",
   "execution_count": 41,
   "metadata": {},
   "outputs": [
    {
     "data": {
      "text/plain": [
       "90     El profesor dio consejos aislados sobre el rec...\n",
       "202                             Devoción por las lenguas\n",
       "273                              Mi profesor me lo dijo.\n",
       "280    Los profesores nos solían explicar o describir...\n",
       "381    Muchas veces haces exámenes o trabajos y no en...\n",
       "Name: B-Q2-3_7_TEXT, dtype: object"
      ]
     },
     "execution_count": 41,
     "metadata": {},
     "output_type": "execute_result"
    }
   ],
   "source": [
    "Finished[Finished['B-Q2-3_7_TEXT'] != 0]['B-Q2-3_7_TEXT']"
   ]
  },
  {
   "cell_type": "code",
   "execution_count": 42,
   "metadata": {},
   "outputs": [
    {
     "data": {
      "text/plain": [
       "'El profesor dio consejos aislados sobre el reconocimiento de palabras.'"
      ]
     },
     "execution_count": 42,
     "metadata": {},
     "output_type": "execute_result"
    }
   ],
   "source": [
    "Finished.loc[90]['B-Q2-3_7_TEXT']"
   ]
  },
  {
   "cell_type": "code",
   "execution_count": 43,
   "metadata": {},
   "outputs": [
    {
     "data": {
      "text/plain": [
       "'Los profesores nos solían explicar o describir la duda, en este caso la palabra para que supiesemos que era, en el idioma que estabamos aprendiendo. Nunca en nuestra lengua materna. Algo que considero bastante interesante y educativo.'"
      ]
     },
     "execution_count": 43,
     "metadata": {},
     "output_type": "execute_result"
    }
   ],
   "source": [
    "Finished.loc[280]['B-Q2-3_7_TEXT']"
   ]
  },
  {
   "cell_type": "code",
   "execution_count": 44,
   "metadata": {},
   "outputs": [
    {
     "data": {
      "text/plain": [
       "'Muchas veces haces exámenes o trabajos y no entiendes alguna palabra y no tienes ningún medio de reconocimiento y es cuando lo repasas más de una vez cuando atas cabos, algunas veces.'"
      ]
     },
     "execution_count": 44,
     "metadata": {},
     "output_type": "execute_result"
    }
   ],
   "source": [
    "Finished.loc[381]['B-Q2-3_7_TEXT']"
   ]
  },
  {
   "cell_type": "markdown",
   "metadata": {},
   "source": [
    "4. In früheren Deutschkursen an der Universität:"
   ]
  },
  {
   "cell_type": "code",
   "execution_count": 45,
   "metadata": {},
   "outputs": [
    {
     "data": {
      "text/plain": [
       "90     El profesor dio consejos aislados sobre el rec...\n",
       "149    Dieron el conocimiento de la sintaxis y la mor...\n",
       "273                              Mi profesor me lo dijo.\n",
       "280    Los profesores nos solían explicar o describir...\n",
       "295    Algunas estrategias (como recurrir a los prefi...\n",
       "Name: B-Q2-4_7_TEXT, dtype: object"
      ]
     },
     "execution_count": 45,
     "metadata": {},
     "output_type": "execute_result"
    }
   ],
   "source": [
    "Finished[Finished['B-Q2-4_7_TEXT'] != 0]['B-Q2-4_7_TEXT']"
   ]
  },
  {
   "cell_type": "code",
   "execution_count": 46,
   "metadata": {},
   "outputs": [
    {
     "data": {
      "text/plain": [
       "'El profesor dio consejos aislados sobre el reconocimiento de palabras.'"
      ]
     },
     "execution_count": 46,
     "metadata": {},
     "output_type": "execute_result"
    }
   ],
   "source": [
    "Finished.loc[90]['B-Q2-4_7_TEXT']"
   ]
  },
  {
   "cell_type": "code",
   "execution_count": 47,
   "metadata": {},
   "outputs": [
    {
     "data": {
      "text/plain": [
       "'Dieron el conocimiento de la sintaxis y la morfología de las palabras de modo que ahora puedo entender algunas cosas mejor. '"
      ]
     },
     "execution_count": 47,
     "metadata": {},
     "output_type": "execute_result"
    }
   ],
   "source": [
    "Finished.loc[149]['B-Q2-4_7_TEXT']"
   ]
  },
  {
   "cell_type": "code",
   "execution_count": 48,
   "metadata": {},
   "outputs": [
    {
     "data": {
      "text/plain": [
       "'Los profesores nos solían explicar o describir la duda, en este caso la palabra para que supiesemos que era, en el idioma que estabamos aprendiendo. Nunca en nuestra lengua materna. Algo que considero bastante interesante y educativo.'"
      ]
     },
     "execution_count": 48,
     "metadata": {},
     "output_type": "execute_result"
    }
   ],
   "source": [
    "Finished.loc[280]['B-Q2-4_7_TEXT']"
   ]
  },
  {
   "cell_type": "code",
   "execution_count": 49,
   "metadata": {},
   "outputs": [
    {
     "data": {
      "text/plain": [
       "'Algunas estrategias (como recurrir a los prefijos/sufijos y significado que daban) las aprendí de profesores. Otras como mirar el contexto o traducir palabra a palabra en una compuesta me salieron inconscientes. '"
      ]
     },
     "execution_count": 49,
     "metadata": {},
     "output_type": "execute_result"
    }
   ],
   "source": [
    "Finished.loc[295]['B-Q2-4_7_TEXT']"
   ]
  },
  {
   "cell_type": "markdown",
   "metadata": {},
   "source": [
    "5. In anderen Lehrveranstaltungen im Rahmen meines Studiums:"
   ]
  },
  {
   "cell_type": "code",
   "execution_count": 50,
   "metadata": {},
   "outputs": [
    {
     "data": {
      "text/plain": [
       "121                                           Tutoriales\n",
       "208                              En clase de Lingüística\n",
       "266    en clase de TIC unos compañeros hicieron una e...\n",
       "295    Algunas estrategias (como recurrir a los prefi...\n",
       "392    Nos mostraron páginas de traducción no solo de...\n",
       "400    En mi carrera, (filosofía), una de las princip...\n",
       "Name: B-Q2-5_7_TEXT, dtype: object"
      ]
     },
     "execution_count": 50,
     "metadata": {},
     "output_type": "execute_result"
    }
   ],
   "source": [
    "Finished[Finished['B-Q2-5_7_TEXT'] != 0]['B-Q2-5_7_TEXT']"
   ]
  },
  {
   "cell_type": "code",
   "execution_count": 51,
   "metadata": {},
   "outputs": [
    {
     "data": {
      "text/plain": [
       "'en clase de TIC unos compañeros hicieron una exposición sobre los distintos recursos que teníamos online para familiarnos con el idioma y buscar dudas.'"
      ]
     },
     "execution_count": 51,
     "metadata": {},
     "output_type": "execute_result"
    }
   ],
   "source": [
    "Finished.loc[266]['B-Q2-5_7_TEXT']"
   ]
  },
  {
   "cell_type": "code",
   "execution_count": 52,
   "metadata": {},
   "outputs": [
    {
     "data": {
      "text/plain": [
       "'Algunas estrategias (como recurrir a los prefijos/sufijos y significado que daban) las aprendí de profesores. Otras como mirar el contexto o traducir palabra a palabra en una compuesta me salieron inconscientes. '"
      ]
     },
     "execution_count": 52,
     "metadata": {},
     "output_type": "execute_result"
    }
   ],
   "source": [
    "Finished.loc[295]['B-Q2-5_7_TEXT']"
   ]
  },
  {
   "cell_type": "code",
   "execution_count": 53,
   "metadata": {},
   "outputs": [
    {
     "data": {
      "text/plain": [
       "'Nos mostraron páginas de traducción no solo de la palabra sino de su contexto '"
      ]
     },
     "execution_count": 53,
     "metadata": {},
     "output_type": "execute_result"
    }
   ],
   "source": [
    "Finished.loc[392]['B-Q2-5_7_TEXT']"
   ]
  },
  {
   "cell_type": "code",
   "execution_count": 54,
   "metadata": {},
   "outputs": [
    {
     "data": {
      "text/plain": [
       "'En mi carrera, (filosofía), una de las principales competencias a adquirir es el análisis de textos muy complejos y de diferentes épocas. De modo que mucha veces, al estudiar idiomas y aún sabiendo que no puedo suplir el estudio de vocabulario o gramática en un sentido \"fuerte\" del idioma, utilizo muchas de estas estrategias para la comprensión. A veces, dificulta el proceso, porque hago demasiada \"abstracción\" e intento decir cosas más complicadas que el nivel del idioma en cuestión del que dispongo. Pero otras veces, por ejemplo en los audios o lecturas, me ayuda mucho por el contexto o cuestiones de cultura general a \"intuir\" las respuestas. '"
      ]
     },
     "execution_count": 54,
     "metadata": {},
     "output_type": "execute_result"
    }
   ],
   "source": [
    "Finished.loc[400]['B-Q2-5_7_TEXT']"
   ]
  },
  {
   "cell_type": "markdown",
   "metadata": {},
   "source": [
    "6. In Sprachkursen in Sprachschulen:"
   ]
  },
  {
   "cell_type": "code",
   "execution_count": 55,
   "metadata": {},
   "outputs": [
    {
     "data": {
      "text/plain": [
       "90     El profesor dio conocimientos aislados sobre e...\n",
       "117    La profesora pedía que durante la primera lect...\n",
       "280    Los profesores nos solían explicar o describir...\n",
       "400    Recientemente, asistí a una academia de inglés...\n",
       "Name: B-Q2-6_7_TEXT, dtype: object"
      ]
     },
     "execution_count": 55,
     "metadata": {},
     "output_type": "execute_result"
    }
   ],
   "source": [
    "Finished[Finished['B-Q2-6_7_TEXT'] != 0]['B-Q2-6_7_TEXT']"
   ]
  },
  {
   "cell_type": "code",
   "execution_count": 56,
   "metadata": {},
   "outputs": [
    {
     "data": {
      "text/plain": [
       "'El profesor dio conocimientos aislados sobre el reconocimiento de palabras.'"
      ]
     },
     "execution_count": 56,
     "metadata": {},
     "output_type": "execute_result"
    }
   ],
   "source": [
    "Finished.loc[90]['B-Q2-6_7_TEXT']"
   ]
  },
  {
   "cell_type": "code",
   "execution_count": 57,
   "metadata": {},
   "outputs": [
    {
     "data": {
      "text/plain": [
       "'La profesora pedía que durante la primera lectura del texto,  subrayásemos todas aquellas palabras o colocaciones que no entendiésemos, y posteriormente,  tras una segundalectura,  con la idea global que yo tenía del texto, conseguía descifrar automáticamente muchas de esas palabras. '"
      ]
     },
     "execution_count": 57,
     "metadata": {},
     "output_type": "execute_result"
    }
   ],
   "source": [
    "Finished.loc[117]['B-Q2-6_7_TEXT']"
   ]
  },
  {
   "cell_type": "code",
   "execution_count": 58,
   "metadata": {},
   "outputs": [
    {
     "data": {
      "text/plain": [
       "'Los profesores nos solían explicar o describir la duda, en este caso la palabra para que supiesemos que era, en el idioma que estabamos aprendiendo. Nunca en nuestra lengua materna. Algo que considero bastante interesante y educativo.'"
      ]
     },
     "execution_count": 58,
     "metadata": {},
     "output_type": "execute_result"
    }
   ],
   "source": [
    "Finished.loc[280]['B-Q2-6_7_TEXT']"
   ]
  },
  {
   "cell_type": "code",
   "execution_count": 59,
   "metadata": {},
   "outputs": [
    {
     "data": {
      "text/plain": [
       "'Recientemente, asistí a una academia de inglés para obtener el B1. Al estar estrictamente centrada en el modelo de examen Cambridge, teníamos un programa y unos contenidos muy definidos, de modo que podíamos desarrollar diferentes estrategias para cada caso concreto, según se adaptasen mejor a nuestras necesidades. '"
      ]
     },
     "execution_count": 59,
     "metadata": {},
     "output_type": "execute_result"
    }
   ],
   "source": [
    "Finished.loc[400]['B-Q2-6_7_TEXT']"
   ]
  },
  {
   "cell_type": "markdown",
   "metadata": {},
   "source": [
    "7. In meinem aktuellen Deutschkurs:"
   ]
  },
  {
   "cell_type": "code",
   "execution_count": 60,
   "metadata": {},
   "outputs": [
    {
     "data": {
      "text/plain": [
       "12     Se explicó cómo aprender el plural al mismo ti...\n",
       "188                                    Con esta encuesta\n",
       "243    Nunca ha sido en una clase en concreto, solo s...\n",
       "287    aunque no nos enseñan per se, sí he tenido muc...\n",
       "338    Buscando en internet cuando desconocía la pala...\n",
       "400    En mi curso actual, nos basamos en un \"método\"...\n",
       "Name: B-Q2-7_7_TEXT, dtype: object"
      ]
     },
     "execution_count": 60,
     "metadata": {},
     "output_type": "execute_result"
    }
   ],
   "source": [
    "Finished[Finished['B-Q2-7_7_TEXT'] != 0]['B-Q2-7_7_TEXT']"
   ]
  },
  {
   "cell_type": "code",
   "execution_count": 61,
   "metadata": {},
   "outputs": [
    {
     "data": {
      "text/plain": [
       "'Se explicó cómo aprender el plural al mismo tiempo que se aprende la palabra'"
      ]
     },
     "execution_count": 61,
     "metadata": {},
     "output_type": "execute_result"
    }
   ],
   "source": [
    "Finished.loc[12]['B-Q2-7_7_TEXT']"
   ]
  },
  {
   "cell_type": "code",
   "execution_count": 62,
   "metadata": {},
   "outputs": [
    {
     "data": {
      "text/plain": [
       "'Nunca ha sido en una clase en concreto, solo surgía al preguntar un alumno, entonces para intentar que fuesemos más autosuficientes nos lo dijeran.'"
      ]
     },
     "execution_count": 62,
     "metadata": {},
     "output_type": "execute_result"
    }
   ],
   "source": [
    "Finished.loc[243]['B-Q2-7_7_TEXT']"
   ]
  },
  {
   "cell_type": "code",
   "execution_count": 63,
   "metadata": {},
   "outputs": [
    {
     "data": {
      "text/plain": [
       "'aunque no nos enseñan per se, sí he tenido muchos profesores que urgen a que tratemos de entender por contexto/conocimientos previos.'"
      ]
     },
     "execution_count": 63,
     "metadata": {},
     "output_type": "execute_result"
    }
   ],
   "source": [
    "Finished.loc[287]['B-Q2-7_7_TEXT']"
   ]
  },
  {
   "cell_type": "code",
   "execution_count": 64,
   "metadata": {},
   "outputs": [
    {
     "data": {
      "text/plain": [
       "'Buscando en internet cuando desconocía la palabra, o preguntándole el significado a la profesora'"
      ]
     },
     "execution_count": 64,
     "metadata": {},
     "output_type": "execute_result"
    }
   ],
   "source": [
    "Finished.loc[338]['B-Q2-7_7_TEXT']"
   ]
  },
  {
   "cell_type": "code",
   "execution_count": 65,
   "metadata": {},
   "outputs": [
    {
     "data": {
      "text/plain": [
       "'En mi curso actual, nos basamos en un \"método\" que creo que es muy novedoso porque se prioriza la cuestión de la escucha y la práctica, con el objetivo de que las estructuras y estrategias se vayan adquiriendo después de la práctica o con ella, y no antes. Lo veo positivo para desenvolverme con mayor facilidad en una conversación, pero en mi opinión, echo de menos alguna clase mas \"teórica\" que busque pensar las estrategias. '"
      ]
     },
     "execution_count": 65,
     "metadata": {},
     "output_type": "execute_result"
    }
   ],
   "source": [
    "Finished.loc[400]['B-Q2-7_7_TEXT']"
   ]
  },
  {
   "cell_type": "markdown",
   "metadata": {},
   "source": [
    "Zusammenfassung der Angaben zu Methoden in Unterrichtskontexten:"
   ]
  },
  {
   "cell_type": "code",
   "execution_count": 66,
   "metadata": {},
   "outputs": [],
   "source": [
    "Erwerb_U = []\n",
    "for lst in erwerb1:\n",
    "        Erwerb_U.append(Finished[Finished['IPAddress']!='2.154.100.40'][erwerb1[lst]].apply(pd.value_counts).astype(integer).iloc[1].sum())\n",
    "\n",
    "Erwerb_U = pd.Series(Erwerb_U)\n",
    "Erwerb_U.index += 1"
   ]
  },
  {
   "cell_type": "code",
   "execution_count": 67,
   "metadata": {},
   "outputs": [
    {
     "data": {
      "text/plain": [
       "6    580\n",
       "2    495\n",
       "3    397\n",
       "1    377\n",
       "5    242\n",
       "4    184\n",
       "7     32\n",
       "dtype: int64"
      ]
     },
     "execution_count": 67,
     "metadata": {},
     "output_type": "execute_result"
    }
   ],
   "source": [
    "Erwerb_U.sort_values(ascending = False)"
   ]
  },
  {
   "cell_type": "code",
   "execution_count": 68,
   "metadata": {},
   "outputs": [
    {
     "data": {
      "image/png": "[encoded data removed]",
      "text/plain": [
       "<Figure size 576x360 with 1 Axes>"
      ]
     },
     "metadata": {
      "needs_background": "light"
     },
     "output_type": "display_data"
    }
   ],
   "source": [
    "Erwerb_U.sort_values(ascending = False).plot(kind='bar', \n",
    "                                        figsize = (8,5), width = 0.5, \n",
    "                                        legend = False)#, title = \"Strategienerwerb in Unterrichtskontexten\");\n",
    "xx = [0,1,2,3,4,5,6]\n",
    "labels = ['Vorstellung','Tipps',\n",
    "          'Üben mit Bsp','Vergleichen','Reflexion','Unbewusst','Andere']\n",
    "plt.xticks(xx,labels,rotation='horizontal');"
   ]
  },
  {
   "cell_type": "code",
   "execution_count": 69,
   "metadata": {},
   "outputs": [
    {
     "data": {
      "image/png": "[encoded data removed]",
      "text/plain": [
       "<Figure size 576x576 with 1 Axes>"
      ]
     },
     "metadata": {},
     "output_type": "display_data"
    }
   ],
   "source": [
    "Erwerb_U.sort_values(ascending = False).plot(kind='pie', \n",
    "                                        figsize = (8,8), autopct='%.1f',\n",
    "                                        legend = False, title = \"Strategienerwerb in Unterrichtskontexten\");"
   ]
  },
  {
   "cell_type": "code",
   "execution_count": 70,
   "metadata": {},
   "outputs": [
    {
     "data": {
      "image/png": "[encoded data removed]",
      "text/plain": [
       "<Figure size 576x576 with 1 Axes>"
      ]
     },
     "metadata": {},
     "output_type": "display_data"
    }
   ],
   "source": [
    "Erwerb_U.sort_values(ascending = False).plot(kind='pie', \n",
    "                                        figsize = (8,8), autopct='%.1f',\n",
    "                                        labels = ['Unbewusst','Tipps','Üben mit Bsp','Vorstellung',\n",
    "                                          'Reflexion','Vergleichen','Andere'],\n",
    "                                        legend = False);#, title = \"Strategienerwerb in Unterrichtskontexten\");"
   ]
  },
  {
   "cell_type": "code",
   "execution_count": 71,
   "metadata": {},
   "outputs": [
    {
     "data": {
      "text/plain": [
       "6    263\n",
       "2    247\n",
       "1    201\n",
       "3    198\n",
       "5    148\n",
       "4    114\n",
       "dtype: int64"
      ]
     },
     "execution_count": 71,
     "metadata": {},
     "output_type": "execute_result"
    }
   ],
   "source": [
    "Stud_U.sort_values(ascending=False)"
   ]
  },
  {
   "cell_type": "markdown",
   "metadata": {},
   "source": [
    "##### Strategienerwerb im sozialen Umfeld"
   ]
  },
  {
   "cell_type": "markdown",
   "metadata": {},
   "source": [
    "Antwortoptionen (Mehrfachauswahl möglich):\n",
    "1.\tHe conocido estas estrategias en mi familia.\n",
    "* He conocido estas estrategias hablando con amigos/as y conocidos/as.\n",
    "* He conocido estas estrategias hablando con compañeros/as de clase.\n",
    "* He conocido estas estrategias imitando hábitos de trabajo de compañeros/as de clase aventajados/as.\n",
    "* Otros:\n",
    "\n",
    "Deutsche Übersetzung:\n",
    "1. Ich habe Erschließungsstrategien in meiner Familie kennen gelernt.\n",
    "2.  Ich habe Erschließungsstrategien durch den Austausch mit Freunden und Bekannten kennen gelernt.\n",
    "3. Ich habe Erschließungsstrategien durch den Austausch mit Kommilitonen/innen kennen gelernt.\n",
    "4. Ich habe Erschließungsstrategien durch Beobachtung von erfolgreichen Kommilitonen/innen kennen gelernt.\n",
    "5. Anderes:"
   ]
  },
  {
   "cell_type": "code",
   "execution_count": 72,
   "metadata": {},
   "outputs": [
    {
     "data": {
      "text/plain": [
       "B-Q2-8_3    66\n",
       "B-Q2-8_2    40\n",
       "B-Q2-8_4    39\n",
       "B-Q2-8_1    31\n",
       "B-Q2-8_5     6\n",
       "dtype: int64"
      ]
     },
     "execution_count": 72,
     "metadata": {},
     "output_type": "execute_result"
    }
   ],
   "source": [
    "Finished[erwerb['E8']].apply(sum).sort_values(ascending = False)"
   ]
  },
  {
   "cell_type": "code",
   "execution_count": 73,
   "metadata": {},
   "outputs": [],
   "source": [
    "#Finished[erwerb['E8']].apply(sum).to_excel('D:\\Daten\\DISS\\Daten\\DF_Erwerb_Soz.xlsx')"
   ]
  },
  {
   "cell_type": "code",
   "execution_count": 74,
   "metadata": {},
   "outputs": [
    {
     "data": {
      "image/png": "[encoded data removed]",
      "text/plain": [
       "<Figure size 576x360 with 1 Axes>"
      ]
     },
     "metadata": {
      "needs_background": "light"
     },
     "output_type": "display_data"
    }
   ],
   "source": [
    "Finished[erwerb['E8']].apply(sum).sort_values(ascending = False).plot(kind='bar', \n",
    "                                                                    figsize = (8,5), width = 0.4, \n",
    "                                                                    legend = False)#, title = \"Strategienerwerb im sozialen Umfeld\");\n",
    "xx = [0,1,2,3,4]\n",
    "labels = ['Austausch Komm.','Freunde','Beobachtung Komm.','Familie','Anderes']\n",
    "plt.xticks(xx,labels,rotation='horizontal');"
   ]
  },
  {
   "cell_type": "markdown",
   "metadata": {},
   "source": [
    "Angaben bei \"Anderes\" (5):"
   ]
  },
  {
   "cell_type": "code",
   "execution_count": 75,
   "metadata": {},
   "outputs": [
    {
     "data": {
      "text/plain": [
       "11     Actualmente mi primo vive en Alemánia y mi her...\n",
       "24     Mi tía ha sido mi profesora de idiomas desde q...\n",
       "128    He utilizado algunas estrategias de manera aut...\n",
       "272                          creo eran positivas para mi\n",
       "392    compañeros de clase extranjeros y la necesidad...\n",
       "Name: B-Q2-8_5_TEXT, dtype: object"
      ]
     },
     "execution_count": 75,
     "metadata": {},
     "output_type": "execute_result"
    }
   ],
   "source": [
    "Finished[Finished['B-Q2-8_5_TEXT'] != 0]['B-Q2-8_5_TEXT']"
   ]
  },
  {
   "cell_type": "code",
   "execution_count": 76,
   "metadata": {},
   "outputs": [
    {
     "data": {
      "text/plain": [
       "'Actualmente mi primo vive en Alemánia y mi hermana vivi? all? también. Dado a esto, siempre he estado muy interesada en el alemán y he aprendido a base de esto. '"
      ]
     },
     "execution_count": 76,
     "metadata": {},
     "output_type": "execute_result"
    }
   ],
   "source": [
    "Finished['B-Q2-8_5_TEXT'][11]"
   ]
  },
  {
   "cell_type": "code",
   "execution_count": 77,
   "metadata": {},
   "outputs": [
    {
     "data": {
      "text/plain": [
       "'Mi tía ha sido mi profesora de idiomas desde que nací'"
      ]
     },
     "execution_count": 77,
     "metadata": {},
     "output_type": "execute_result"
    }
   ],
   "source": [
    "Finished['B-Q2-8_5_TEXT'][24]"
   ]
  },
  {
   "cell_type": "code",
   "execution_count": 78,
   "metadata": {},
   "outputs": [
    {
     "data": {
      "text/plain": [
       "'He utilizado algunas estrategias de manera autónoma e intuitiva utilizando el principio de \"divide y vencerás\"'"
      ]
     },
     "execution_count": 78,
     "metadata": {},
     "output_type": "execute_result"
    }
   ],
   "source": [
    "Finished['B-Q2-8_5_TEXT'][128]"
   ]
  },
  {
   "cell_type": "code",
   "execution_count": 79,
   "metadata": {},
   "outputs": [
    {
     "data": {
      "text/plain": [
       "'compañeros de clase extranjeros y la necesidad de hablar '"
      ]
     },
     "execution_count": 79,
     "metadata": {},
     "output_type": "execute_result"
    }
   ],
   "source": [
    "Finished['B-Q2-8_5_TEXT'][392]"
   ]
  },
  {
   "cell_type": "markdown",
   "metadata": {},
   "source": [
    "##### Autonomer Strategienerwerb"
   ]
  },
  {
   "cell_type": "markdown",
   "metadata": {},
   "source": [
    "Antwortoptionen (Mehrfachauswahl möglich):\n",
    "1.\tHe desarrollado estas estrategias por mi cuenta durante el aprendizaje y el uso de idiomas, p. ej. leyendo textos difíciles.\n",
    "* He probado diferentes cosas y me he dado cuenta de qué funciona mejor para mi.\n",
    "* He aprendido estas estrategias con ayuda de páginas web o blogs.\n",
    "* He aprendido estas estrategias con ayuda de libros.\n",
    "* He aprendido estas estrategias con ayuda de otros materiales. (Opcional: Cuáles?)\n",
    "\n",
    "Deutsche Übersetzung:\n",
    "1. Ich habe Erschließungsstrategien beim Lernen und Anwenden von Sprachen, z.B. beim Lesen schwieriger Texte, selbständig entwickelt.\n",
    "2. Ich habe verschiedene Dinge ausprobiert und herausgefunden, was für mich am besten funktioniert.\n",
    "3. Ich habe Erschließungsstrategien mit Hilfe von Internetseiten oder –blogs gelernt.\n",
    "4. Ich habe Erschließungsstrategien mit Hilfe von Büchern gelernt.\n",
    "5. Ich habe Erschließungsstrategien mit Hilfe anderer Materialien gelernt. (Optional: Welche?)"
   ]
  },
  {
   "cell_type": "code",
   "execution_count": 80,
   "metadata": {},
   "outputs": [
    {
     "data": {
      "text/plain": [
       "B-Q2-9_1    177\n",
       "B-Q2-9_2    150\n",
       "B-Q2-9_3     53\n",
       "B-Q2-9_4     49\n",
       "B-Q2-9_5     17\n",
       "dtype: int64"
      ]
     },
     "execution_count": 80,
     "metadata": {},
     "output_type": "execute_result"
    }
   ],
   "source": [
    "Finished[erwerb['E9']].apply(sum).sort_values(ascending = False)"
   ]
  },
  {
   "cell_type": "code",
   "execution_count": 81,
   "metadata": {},
   "outputs": [],
   "source": [
    "#Finished[erwerb['E9']].apply(sum).to_excel('D:\\Daten\\DISS\\Daten\\DF_Erwerb_Aut.xlsx')"
   ]
  },
  {
   "cell_type": "code",
   "execution_count": 82,
   "metadata": {
    "scrolled": true
   },
   "outputs": [
    {
     "data": {
      "image/png": "[encoded data removed]",
      "text/plain": [
       "<Figure size 576x360 with 1 Axes>"
      ]
     },
     "metadata": {
      "needs_background": "light"
     },
     "output_type": "display_data"
    }
   ],
   "source": [
    "Finished[erwerb['E9']].apply(sum).sort_values(ascending = False).plot(kind='bar', \n",
    "                                                                    figsize = (8,5), width = 0.4, \n",
    "                                                                    legend = False)#, title = \"Autonomer Strategienerwerb\");\n",
    "xx = [0,1,2,3,4]\n",
    "labels = ['Beim Lernen...','Versch. ausprobiert','Internet','Bücher','Anderes']\n",
    "plt.xticks(xx,labels,rotation='horizontal');"
   ]
  },
  {
   "cell_type": "markdown",
   "metadata": {},
   "source": [
    "Angaben bei \"Welche?\" (Option der freien Texteingabe bei Item 5):"
   ]
  },
  {
   "cell_type": "code",
   "execution_count": 83,
   "metadata": {},
   "outputs": [
    {
     "data": {
      "text/plain": [
       "44                                        YouTube, blogs\n",
       "45     He aprendido estas estrategias pensando y util...\n",
       "53     '-Libros, diccionarios, películas,audios,músic...\n",
       "54                               Gracias a esta encuesta\n",
       "61     Mi inteligencia, sentido común e instinto ling...\n",
       "84                                         Series, Radio\n",
       "86                                    youtube, instagram\n",
       "87                     Los compañeros me han dado pistas\n",
       "92                                          diccionarios\n",
       "259                              Grámaticas, Duden, etc.\n",
       "284    Videojuegos, música, en ambos leo lo que estoy...\n",
       "372           Aplicaciones móviles para aprender idiomas\n",
       "373                                Ver vídeos en YouTube\n",
       "377                         Comparando con otros idiomas\n",
       "Name: B-Q2-9_5_TEXT, dtype: object"
      ]
     },
     "execution_count": 83,
     "metadata": {},
     "output_type": "execute_result"
    }
   ],
   "source": [
    "Finished[Finished['B-Q2-9_5_TEXT'] != 0]['B-Q2-9_5_TEXT']"
   ]
  },
  {
   "cell_type": "code",
   "execution_count": 84,
   "metadata": {},
   "outputs": [
    {
     "data": {
      "text/plain": [
       "'He aprendido estas estrategias pensando y utilizando la l?gica'"
      ]
     },
     "execution_count": 84,
     "metadata": {},
     "output_type": "execute_result"
    }
   ],
   "source": [
    "Finished['B-Q2-9_5_TEXT'][45]"
   ]
  },
  {
   "cell_type": "code",
   "execution_count": 85,
   "metadata": {},
   "outputs": [
    {
     "data": {
      "text/plain": [
       "\"'-Libros, diccionarios, películas,audios,música, comunicación\""
      ]
     },
     "execution_count": 85,
     "metadata": {},
     "output_type": "execute_result"
    }
   ],
   "source": [
    "Finished['B-Q2-9_5_TEXT'][53]"
   ]
  },
  {
   "cell_type": "code",
   "execution_count": 86,
   "metadata": {},
   "outputs": [
    {
     "data": {
      "text/plain": [
       "'Mi inteligencia, sentido común e instinto lingüístico '"
      ]
     },
     "execution_count": 86,
     "metadata": {},
     "output_type": "execute_result"
    }
   ],
   "source": [
    "Finished['B-Q2-9_5_TEXT'][61]"
   ]
  },
  {
   "cell_type": "code",
   "execution_count": 87,
   "metadata": {},
   "outputs": [
    {
     "data": {
      "text/plain": [
       "'Videojuegos, música, en ambos leo lo que estoy escuchando, entendiendo así el contexto'"
      ]
     },
     "execution_count": 87,
     "metadata": {},
     "output_type": "execute_result"
    }
   ],
   "source": [
    "Finished['B-Q2-9_5_TEXT'][284]"
   ]
  },
  {
   "cell_type": "markdown",
   "metadata": {},
   "source": [
    "### Strategienwerb im Rahmen der Befragung\n",
    "#### B-Q3 + B-Q4"
   ]
  },
  {
   "cell_type": "markdown",
   "metadata": {},
   "source": [
    "Frage B-Q3 und Antwortoptionen:\n",
    "\n",
    "¿Ha aprendido alguna estrategia nueva para comprender palabras desconocidas en alemán gracias a esta encuesta? \n",
    "1.\tSí.\n",
    "2.\tNo.\n",
    "3.\tNo estoy seguro/a.\n",
    "\n",
    "\n",
    "Frage B-Q4 und Antwortoptionen:\n",
    "\n",
    "¿Aplicaría alguna de estas estrategias nuevas?\n",
    "1.\tSí.\n",
    "2.\tNo.\n",
    "3.\tNo estoy seguro/a.\n",
    "\n",
    "\n",
    "Deutsche Übersetzung:\n",
    "\n",
    "B-Q3:\n",
    "\n",
    "Haben Sie durch diese Befragung neue Erschließungsstrategien im Deutschen kennen gelernt?\n",
    "1. Ja.\n",
    "2. Nein.\n",
    "3. Ich bin nicht sicher.\n",
    "\n",
    "\n",
    "B-Q4:\n",
    "\n",
    "Würden Sie eine dieser neuen Strategien anwenden?\n",
    "1. Ja.\n",
    "2. Nein.\n",
    "3. Ich bin nicht sicher."
   ]
  },
  {
   "cell_type": "code",
   "execution_count": 88,
   "metadata": {},
   "outputs": [
    {
     "data": {
      "image/png": "[encoded data removed]",
      "text/plain": [
       "<Figure size 288x360 with 1 Axes>"
      ]
     },
     "metadata": {
      "needs_background": "light"
     },
     "output_type": "display_data"
    }
   ],
   "source": [
    "Finished['B-Q3'].value_counts()[[1,2,3]].plot(kind = 'bar', figsize = (4,5), width = 0.4, legend = True, title = \"Neue Strategien kennengelernt?\");"
   ]
  },
  {
   "cell_type": "markdown",
   "metadata": {},
   "source": [
    "(1) Ja\n",
    "(2) Nein\n",
    "(3) Vielleicht"
   ]
  },
  {
   "cell_type": "code",
   "execution_count": 89,
   "metadata": {},
   "outputs": [
    {
     "data": {
      "text/plain": [
       "1    228\n",
       "3    109\n",
       "2     54\n",
       "Name: B-Q3, dtype: int64"
      ]
     },
     "execution_count": 89,
     "metadata": {},
     "output_type": "execute_result"
    }
   ],
   "source": [
    "Finished['B-Q3'].value_counts()"
   ]
  },
  {
   "cell_type": "code",
   "execution_count": 90,
   "metadata": {},
   "outputs": [
    {
     "data": {
      "image/png": "[encoded data removed]",
      "text/plain": [
       "<Figure size 288x360 with 1 Axes>"
      ]
     },
     "metadata": {
      "needs_background": "light"
     },
     "output_type": "display_data"
    }
   ],
   "source": [
    "Finished['B-Q4'].value_counts()[[1,2,3]].plot(kind = 'bar', figsize = (4,5), width = 0.4, legend = True, title = \"Neue Strategien anwenden?\");"
   ]
  },
  {
   "cell_type": "code",
   "execution_count": 91,
   "metadata": {},
   "outputs": [
    {
     "data": {
      "text/plain": [
       "1    257\n",
       "3    104\n",
       "2     28\n",
       "0      2\n",
       "Name: B-Q4, dtype: int64"
      ]
     },
     "execution_count": 91,
     "metadata": {},
     "output_type": "execute_result"
    }
   ],
   "source": [
    "Finished['B-Q4'].value_counts()"
   ]
  },
  {
   "cell_type": "markdown",
   "metadata": {},
   "source": [
    "### Einstellung zu Erschließungsstrategien - Metakognition\n",
    "#### C-Q1"
   ]
  },
  {
   "cell_type": "markdown",
   "metadata": {},
   "source": [
    "Items:\n",
    "\n",
    "1. Pienso que en alemán utilizo estas estrategias con éxito. \n",
    "2. Estas estrategias son un tema importante en mis clases de alemán.\n",
    "3. Utilizo estas estrategias a menudo fuera del aula, p. ej. cuando leo textos en alemán en mi tiempo libre.\n",
    "4. Estas estrategias son útiles para ampliar el vocabulario en alemán.\n",
    "5. Estas estrategias son útiles para entender mejor textos en alemán.\n",
    "6. Estas estrategias deberían explicarse y practicarse en las clases de alemán.\n",
    "7. No hace falta aprender estas estrategias, ya que las usamos en cualquier caso de forma inconsciente. \n",
    "\n",
    "\n",
    "Deutsche Übersetzung:\n",
    "1. Ich denke, dass ich Erschließungsstrategien im Deutschen erfolgreich einsetze.\n",
    "2. Strategien zur Erschließung unbekannter Wörter sind ein wichtiges Thema in meinem Deutschunterricht.\n",
    "3. Ich nutze Erschließungsstrategien häufig außerhalb des Unterrichts, z.B. beim Lesen deutscher Texte in meiner Freizeit.\n",
    "4. Erschließungsstrategien sind nützlich, um den Wortschatz zu erweitern.\n",
    "5. Erschließungsstrategien sind nützlich, um deutsche Texte besser verstehen zu können.\n",
    "6. Erschließungsstrategien sollten im Deutschunterricht erklärt und geübt werden.\n",
    "7. Es ist nicht notwendig, Erschließungsstrategien zu lernen, weil wir sie ohnehin unbewusst anwenden."
   ]
  },
  {
   "cell_type": "code",
   "execution_count": 92,
   "metadata": {},
   "outputs": [
    {
     "data": {
      "text/html": [
       "<div>\n",
       "<style scoped>\n",
       "    .dataframe tbody tr th:only-of-type {\n",
       "        vertical-align: middle;\n",
       "    }\n",
       "\n",
       "    .dataframe tbody tr th {\n",
       "        vertical-align: top;\n",
       "    }\n",
       "\n",
       "    .dataframe thead th {\n",
       "        text-align: right;\n",
       "    }\n",
       "</style>\n",
       "<table border=\"1\" class=\"dataframe\">\n",
       "  <thead>\n",
       "    <tr style=\"text-align: right;\">\n",
       "      <th></th>\n",
       "      <th>count</th>\n",
       "      <th>mean</th>\n",
       "      <th>std</th>\n",
       "      <th>min</th>\n",
       "      <th>25%</th>\n",
       "      <th>50%</th>\n",
       "      <th>75%</th>\n",
       "      <th>max</th>\n",
       "      <th>mode</th>\n",
       "      <th>median</th>\n",
       "      <th>kurtosis</th>\n",
       "      <th>skew</th>\n",
       "    </tr>\n",
       "  </thead>\n",
       "  <tbody>\n",
       "    <tr>\n",
       "      <th>C-Q1_1</th>\n",
       "      <td>391.0</td>\n",
       "      <td>3.529412</td>\n",
       "      <td>0.884933</td>\n",
       "      <td>1.0</td>\n",
       "      <td>3.0</td>\n",
       "      <td>4.0</td>\n",
       "      <td>4.0</td>\n",
       "      <td>5.0</td>\n",
       "      <td>4</td>\n",
       "      <td>4.0</td>\n",
       "      <td>0.378700</td>\n",
       "      <td>-0.580479</td>\n",
       "    </tr>\n",
       "    <tr>\n",
       "      <th>C-Q1_2</th>\n",
       "      <td>391.0</td>\n",
       "      <td>3.647059</td>\n",
       "      <td>1.108584</td>\n",
       "      <td>1.0</td>\n",
       "      <td>3.0</td>\n",
       "      <td>4.0</td>\n",
       "      <td>5.0</td>\n",
       "      <td>5.0</td>\n",
       "      <td>4</td>\n",
       "      <td>4.0</td>\n",
       "      <td>-0.421035</td>\n",
       "      <td>-0.528398</td>\n",
       "    </tr>\n",
       "    <tr>\n",
       "      <th>C-Q1_3</th>\n",
       "      <td>391.0</td>\n",
       "      <td>3.831202</td>\n",
       "      <td>1.077580</td>\n",
       "      <td>1.0</td>\n",
       "      <td>3.0</td>\n",
       "      <td>4.0</td>\n",
       "      <td>5.0</td>\n",
       "      <td>5.0</td>\n",
       "      <td>4</td>\n",
       "      <td>4.0</td>\n",
       "      <td>0.415203</td>\n",
       "      <td>-0.945001</td>\n",
       "    </tr>\n",
       "    <tr>\n",
       "      <th>C-Q1_4</th>\n",
       "      <td>391.0</td>\n",
       "      <td>4.401535</td>\n",
       "      <td>0.828900</td>\n",
       "      <td>1.0</td>\n",
       "      <td>4.0</td>\n",
       "      <td>5.0</td>\n",
       "      <td>5.0</td>\n",
       "      <td>5.0</td>\n",
       "      <td>5</td>\n",
       "      <td>5.0</td>\n",
       "      <td>2.761439</td>\n",
       "      <td>-1.597907</td>\n",
       "    </tr>\n",
       "    <tr>\n",
       "      <th>C-Q1_5</th>\n",
       "      <td>391.0</td>\n",
       "      <td>4.432225</td>\n",
       "      <td>0.757787</td>\n",
       "      <td>1.0</td>\n",
       "      <td>4.0</td>\n",
       "      <td>5.0</td>\n",
       "      <td>5.0</td>\n",
       "      <td>5.0</td>\n",
       "      <td>5</td>\n",
       "      <td>5.0</td>\n",
       "      <td>3.611769</td>\n",
       "      <td>-1.616713</td>\n",
       "    </tr>\n",
       "    <tr>\n",
       "      <th>C-Q1_6</th>\n",
       "      <td>391.0</td>\n",
       "      <td>4.278772</td>\n",
       "      <td>0.845219</td>\n",
       "      <td>1.0</td>\n",
       "      <td>4.0</td>\n",
       "      <td>4.0</td>\n",
       "      <td>5.0</td>\n",
       "      <td>5.0</td>\n",
       "      <td>5</td>\n",
       "      <td>4.0</td>\n",
       "      <td>1.601275</td>\n",
       "      <td>-1.231322</td>\n",
       "    </tr>\n",
       "    <tr>\n",
       "      <th>C-Q1_7</th>\n",
       "      <td>391.0</td>\n",
       "      <td>2.554987</td>\n",
       "      <td>1.170763</td>\n",
       "      <td>1.0</td>\n",
       "      <td>2.0</td>\n",
       "      <td>2.0</td>\n",
       "      <td>3.0</td>\n",
       "      <td>5.0</td>\n",
       "      <td>2</td>\n",
       "      <td>2.0</td>\n",
       "      <td>-0.572726</td>\n",
       "      <td>0.449894</td>\n",
       "    </tr>\n",
       "  </tbody>\n",
       "</table>\n",
       "</div>"
      ],
      "text/plain": [
       "        count      mean       std  min  25%  50%  75%  max  mode  median  \\\n",
       "C-Q1_1  391.0  3.529412  0.884933  1.0  3.0  4.0  4.0  5.0     4     4.0   \n",
       "C-Q1_2  391.0  3.647059  1.108584  1.0  3.0  4.0  5.0  5.0     4     4.0   \n",
       "C-Q1_3  391.0  3.831202  1.077580  1.0  3.0  4.0  5.0  5.0     4     4.0   \n",
       "C-Q1_4  391.0  4.401535  0.828900  1.0  4.0  5.0  5.0  5.0     5     5.0   \n",
       "C-Q1_5  391.0  4.432225  0.757787  1.0  4.0  5.0  5.0  5.0     5     5.0   \n",
       "C-Q1_6  391.0  4.278772  0.845219  1.0  4.0  4.0  5.0  5.0     5     4.0   \n",
       "C-Q1_7  391.0  2.554987  1.170763  1.0  2.0  2.0  3.0  5.0     2     2.0   \n",
       "\n",
       "        kurtosis      skew  \n",
       "C-Q1_1  0.378700 -0.580479  \n",
       "C-Q1_2 -0.421035 -0.528398  \n",
       "C-Q1_3  0.415203 -0.945001  \n",
       "C-Q1_4  2.761439 -1.597907  \n",
       "C-Q1_5  3.611769 -1.616713  \n",
       "C-Q1_6  1.601275 -1.231322  \n",
       "C-Q1_7 -0.572726  0.449894  "
      ]
     },
     "execution_count": 92,
     "metadata": {},
     "output_type": "execute_result"
    }
   ],
   "source": [
    "df_describe(Finished,Liste_C_Q1)"
   ]
  },
  {
   "cell_type": "code",
   "execution_count": 93,
   "metadata": {},
   "outputs": [],
   "source": [
    "#df_describe(Finished,Liste_C_Q1).to_excel('D:\\Daten\\DISS\\Daten\\Deskriptiv_C1.xlsx')"
   ]
  },
  {
   "cell_type": "code",
   "execution_count": 94,
   "metadata": {},
   "outputs": [],
   "source": [
    "Daten_C = Finished[:][Liste_C_Q1]"
   ]
  },
  {
   "cell_type": "code",
   "execution_count": 95,
   "metadata": {},
   "outputs": [
    {
     "data": {
      "text/html": [
       "<div>\n",
       "<style scoped>\n",
       "    .dataframe tbody tr th:only-of-type {\n",
       "        vertical-align: middle;\n",
       "    }\n",
       "\n",
       "    .dataframe tbody tr th {\n",
       "        vertical-align: top;\n",
       "    }\n",
       "\n",
       "    .dataframe thead th {\n",
       "        text-align: right;\n",
       "    }\n",
       "</style>\n",
       "<table border=\"1\" class=\"dataframe\">\n",
       "  <thead>\n",
       "    <tr style=\"text-align: right;\">\n",
       "      <th></th>\n",
       "      <th>1</th>\n",
       "      <th>2</th>\n",
       "      <th>3</th>\n",
       "      <th>4</th>\n",
       "      <th>5</th>\n",
       "    </tr>\n",
       "  </thead>\n",
       "  <tbody>\n",
       "    <tr>\n",
       "      <th>C-Q1_1</th>\n",
       "      <td>10</td>\n",
       "      <td>34</td>\n",
       "      <td>126</td>\n",
       "      <td>181</td>\n",
       "      <td>40</td>\n",
       "    </tr>\n",
       "    <tr>\n",
       "      <th>C-Q1_2</th>\n",
       "      <td>17</td>\n",
       "      <td>43</td>\n",
       "      <td>102</td>\n",
       "      <td>128</td>\n",
       "      <td>101</td>\n",
       "    </tr>\n",
       "    <tr>\n",
       "      <th>C-Q1_3</th>\n",
       "      <td>19</td>\n",
       "      <td>28</td>\n",
       "      <td>67</td>\n",
       "      <td>163</td>\n",
       "      <td>114</td>\n",
       "    </tr>\n",
       "    <tr>\n",
       "      <th>C-Q1_4</th>\n",
       "      <td>4</td>\n",
       "      <td>11</td>\n",
       "      <td>30</td>\n",
       "      <td>125</td>\n",
       "      <td>221</td>\n",
       "    </tr>\n",
       "    <tr>\n",
       "      <th>C-Q1_5</th>\n",
       "      <td>4</td>\n",
       "      <td>4</td>\n",
       "      <td>28</td>\n",
       "      <td>138</td>\n",
       "      <td>217</td>\n",
       "    </tr>\n",
       "    <tr>\n",
       "      <th>C-Q1_6</th>\n",
       "      <td>4</td>\n",
       "      <td>10</td>\n",
       "      <td>46</td>\n",
       "      <td>144</td>\n",
       "      <td>187</td>\n",
       "    </tr>\n",
       "    <tr>\n",
       "      <th>C-Q1_7</th>\n",
       "      <td>79</td>\n",
       "      <td>126</td>\n",
       "      <td>106</td>\n",
       "      <td>50</td>\n",
       "      <td>30</td>\n",
       "    </tr>\n",
       "  </tbody>\n",
       "</table>\n",
       "</div>"
      ],
      "text/plain": [
       "         1    2    3    4    5\n",
       "C-Q1_1  10   34  126  181   40\n",
       "C-Q1_2  17   43  102  128  101\n",
       "C-Q1_3  19   28   67  163  114\n",
       "C-Q1_4   4   11   30  125  221\n",
       "C-Q1_5   4    4   28  138  217\n",
       "C-Q1_6   4   10   46  144  187\n",
       "C-Q1_7  79  126  106   50   30"
      ]
     },
     "execution_count": 95,
     "metadata": {},
     "output_type": "execute_result"
    }
   ],
   "source": [
    "Daten_C.apply(pd.value_counts).fillna(0).astype(int).T"
   ]
  },
  {
   "cell_type": "code",
   "execution_count": 96,
   "metadata": {},
   "outputs": [],
   "source": [
    "#Daten_C.apply(pd.value_counts).fillna(0).astype(int).T.to_excel('D:\\Daten\\DISS\\Daten\\Total_C1.xlsx')"
   ]
  },
  {
   "cell_type": "code",
   "execution_count": 97,
   "metadata": {},
   "outputs": [
    {
     "data": {
      "text/html": [
       "<div>\n",
       "<style scoped>\n",
       "    .dataframe tbody tr th:only-of-type {\n",
       "        vertical-align: middle;\n",
       "    }\n",
       "\n",
       "    .dataframe tbody tr th {\n",
       "        vertical-align: top;\n",
       "    }\n",
       "\n",
       "    .dataframe thead th {\n",
       "        text-align: right;\n",
       "    }\n",
       "</style>\n",
       "<table border=\"1\" class=\"dataframe\">\n",
       "  <thead>\n",
       "    <tr style=\"text-align: right;\">\n",
       "      <th></th>\n",
       "      <th>1</th>\n",
       "      <th>2</th>\n",
       "      <th>3</th>\n",
       "      <th>4</th>\n",
       "      <th>5</th>\n",
       "      <th>n</th>\n",
       "    </tr>\n",
       "  </thead>\n",
       "  <tbody>\n",
       "    <tr>\n",
       "      <th>C-Q1_1</th>\n",
       "      <td>2.557545</td>\n",
       "      <td>8.695652</td>\n",
       "      <td>32.225064</td>\n",
       "      <td>46.291560</td>\n",
       "      <td>10.230179</td>\n",
       "      <td>391</td>\n",
       "    </tr>\n",
       "    <tr>\n",
       "      <th>C-Q1_2</th>\n",
       "      <td>4.347826</td>\n",
       "      <td>10.997442</td>\n",
       "      <td>26.086957</td>\n",
       "      <td>32.736573</td>\n",
       "      <td>25.831202</td>\n",
       "      <td>391</td>\n",
       "    </tr>\n",
       "    <tr>\n",
       "      <th>C-Q1_3</th>\n",
       "      <td>4.859335</td>\n",
       "      <td>7.161125</td>\n",
       "      <td>17.135550</td>\n",
       "      <td>41.687980</td>\n",
       "      <td>29.156010</td>\n",
       "      <td>391</td>\n",
       "    </tr>\n",
       "    <tr>\n",
       "      <th>C-Q1_4</th>\n",
       "      <td>1.023018</td>\n",
       "      <td>2.813299</td>\n",
       "      <td>7.672634</td>\n",
       "      <td>31.969309</td>\n",
       "      <td>56.521739</td>\n",
       "      <td>391</td>\n",
       "    </tr>\n",
       "    <tr>\n",
       "      <th>C-Q1_5</th>\n",
       "      <td>1.023018</td>\n",
       "      <td>1.023018</td>\n",
       "      <td>7.161125</td>\n",
       "      <td>35.294118</td>\n",
       "      <td>55.498721</td>\n",
       "      <td>391</td>\n",
       "    </tr>\n",
       "    <tr>\n",
       "      <th>C-Q1_6</th>\n",
       "      <td>1.023018</td>\n",
       "      <td>2.557545</td>\n",
       "      <td>11.764706</td>\n",
       "      <td>36.828645</td>\n",
       "      <td>47.826087</td>\n",
       "      <td>391</td>\n",
       "    </tr>\n",
       "    <tr>\n",
       "      <th>C-Q1_7</th>\n",
       "      <td>20.204604</td>\n",
       "      <td>32.225064</td>\n",
       "      <td>27.109974</td>\n",
       "      <td>12.787724</td>\n",
       "      <td>7.672634</td>\n",
       "      <td>391</td>\n",
       "    </tr>\n",
       "  </tbody>\n",
       "</table>\n",
       "</div>"
      ],
      "text/plain": [
       "                1          2          3          4          5    n\n",
       "C-Q1_1   2.557545   8.695652  32.225064  46.291560  10.230179  391\n",
       "C-Q1_2   4.347826  10.997442  26.086957  32.736573  25.831202  391\n",
       "C-Q1_3   4.859335   7.161125  17.135550  41.687980  29.156010  391\n",
       "C-Q1_4   1.023018   2.813299   7.672634  31.969309  56.521739  391\n",
       "C-Q1_5   1.023018   1.023018   7.161125  35.294118  55.498721  391\n",
       "C-Q1_6   1.023018   2.557545  11.764706  36.828645  47.826087  391\n",
       "C-Q1_7  20.204604  32.225064  27.109974  12.787724   7.672634  391"
      ]
     },
     "execution_count": 97,
     "metadata": {},
     "output_type": "execute_result"
    }
   ],
   "source": [
    "table_porc(Daten_C)"
   ]
  },
  {
   "cell_type": "code",
   "execution_count": 98,
   "metadata": {},
   "outputs": [],
   "source": [
    "#table_porc(Daten_C).to_excel('D:\\Daten\\DISS\\Daten\\Porc_C1.xlsx')"
   ]
  },
  {
   "cell_type": "code",
   "execution_count": 99,
   "metadata": {},
   "outputs": [],
   "source": [
    "Daten_C.rename(columns={'C-Q1_1':'Erfolgreicher Einsatz (1)',\n",
    "                        'C-Q1_2':'Wichtig im DK (2)',\n",
    "                        'C-Q1_3':'In der Freizeit (3)',\n",
    "                        'C-Q1_4':'Nützlich für Wortschatz (4)',\n",
    "                        'C-Q1_5':'Nützlich für Textverstehen (5)',\n",
    "                        'C-Q1_6':'Sollen im DaF-U gefördert werden (6)',\n",
    "                        'C-Q1_7':'Förderung nicht nötig, unbewusst (7)'}, inplace=True)\n",
    "Daten_C = Daten_C.iloc[:, ::-1]"
   ]
  },
  {
   "cell_type": "code",
   "execution_count": 145,
   "metadata": {},
   "outputs": [
    {
     "data": {
      "image/png": "[encoded data removed]",
      "text/plain": [
       "<Figure size 576x360 with 1 Axes>"
      ]
     },
     "metadata": {
      "needs_background": "light"
     },
     "output_type": "display_data"
    }
   ],
   "source": [
    "graf_likert(Daten_C,5)"
   ]
  },
  {
   "cell_type": "code",
   "execution_count": 101,
   "metadata": {},
   "outputs": [
    {
     "data": {
      "image/png": "[encoded data removed]",
      "text/plain": [
       "<Figure size 1152x864 with 7 Axes>"
      ]
     },
     "metadata": {
      "needs_background": "light"
     },
     "output_type": "display_data"
    }
   ],
   "source": [
    "graf_hist(Finished,Liste_C_Q1,16,12,3,4)"
   ]
  },
  {
   "cell_type": "markdown",
   "metadata": {},
   "source": [
    "##### Korrelation in C-Q1"
   ]
  },
  {
   "cell_type": "code",
   "execution_count": 102,
   "metadata": {},
   "outputs": [
    {
     "data": {
      "text/html": [
       "<style  type=\"text/css\" >\n",
       "    #T_2fc9bf1e_614b_11ea_bdc8_b8763fd8451drow0_col0 {\n",
       "            background-color :  salmon;\n",
       "        }    #T_2fc9bf1e_614b_11ea_bdc8_b8763fd8451drow0_col1 {\n",
       "            background-color:  peachpuff;\n",
       "        }    #T_2fc9bf1e_614b_11ea_bdc8_b8763fd8451drow0_col2 {\n",
       "            background-color:  lightsalmon;\n",
       "        }    #T_2fc9bf1e_614b_11ea_bdc8_b8763fd8451drow0_col3 {\n",
       "            background-color:  peachpuff;\n",
       "        }    #T_2fc9bf1e_614b_11ea_bdc8_b8763fd8451drow0_col4 {\n",
       "            background-color:  lightsalmon;\n",
       "        }    #T_2fc9bf1e_614b_11ea_bdc8_b8763fd8451drow0_col5 {\n",
       "            background-color :  white;\n",
       "        }    #T_2fc9bf1e_614b_11ea_bdc8_b8763fd8451drow0_col6 {\n",
       "            background-color :  white;\n",
       "        }    #T_2fc9bf1e_614b_11ea_bdc8_b8763fd8451drow1_col0 {\n",
       "            background-color:  peachpuff;\n",
       "        }    #T_2fc9bf1e_614b_11ea_bdc8_b8763fd8451drow1_col1 {\n",
       "            background-color :  salmon;\n",
       "        }    #T_2fc9bf1e_614b_11ea_bdc8_b8763fd8451drow1_col2 {\n",
       "            background-color :  white;\n",
       "        }    #T_2fc9bf1e_614b_11ea_bdc8_b8763fd8451drow1_col3 {\n",
       "            background-color:  peachpuff;\n",
       "        }    #T_2fc9bf1e_614b_11ea_bdc8_b8763fd8451drow1_col4 {\n",
       "            background-color:  peachpuff;\n",
       "        }    #T_2fc9bf1e_614b_11ea_bdc8_b8763fd8451drow1_col5 {\n",
       "            background-color:  peachpuff;\n",
       "        }    #T_2fc9bf1e_614b_11ea_bdc8_b8763fd8451drow1_col6 {\n",
       "            background-color:  peachpuff;\n",
       "        }    #T_2fc9bf1e_614b_11ea_bdc8_b8763fd8451drow2_col0 {\n",
       "            background-color:  lightsalmon;\n",
       "        }    #T_2fc9bf1e_614b_11ea_bdc8_b8763fd8451drow2_col1 {\n",
       "            background-color :  white;\n",
       "        }    #T_2fc9bf1e_614b_11ea_bdc8_b8763fd8451drow2_col2 {\n",
       "            background-color :  salmon;\n",
       "        }    #T_2fc9bf1e_614b_11ea_bdc8_b8763fd8451drow2_col3 {\n",
       "            background-color:  peachpuff;\n",
       "        }    #T_2fc9bf1e_614b_11ea_bdc8_b8763fd8451drow2_col4 {\n",
       "            background-color:  lightsalmon;\n",
       "        }    #T_2fc9bf1e_614b_11ea_bdc8_b8763fd8451drow2_col5 {\n",
       "            background-color :  white;\n",
       "        }    #T_2fc9bf1e_614b_11ea_bdc8_b8763fd8451drow2_col6 {\n",
       "            background-color :  white;\n",
       "        }    #T_2fc9bf1e_614b_11ea_bdc8_b8763fd8451drow3_col0 {\n",
       "            background-color:  peachpuff;\n",
       "        }    #T_2fc9bf1e_614b_11ea_bdc8_b8763fd8451drow3_col1 {\n",
       "            background-color:  peachpuff;\n",
       "        }    #T_2fc9bf1e_614b_11ea_bdc8_b8763fd8451drow3_col2 {\n",
       "            background-color:  peachpuff;\n",
       "        }    #T_2fc9bf1e_614b_11ea_bdc8_b8763fd8451drow3_col3 {\n",
       "            background-color :  salmon;\n",
       "        }    #T_2fc9bf1e_614b_11ea_bdc8_b8763fd8451drow3_col4 {\n",
       "            background-color :  salmon;\n",
       "        }    #T_2fc9bf1e_614b_11ea_bdc8_b8763fd8451drow3_col5 {\n",
       "            background-color:  peachpuff;\n",
       "        }    #T_2fc9bf1e_614b_11ea_bdc8_b8763fd8451drow3_col6 {\n",
       "            background-color:  peachpuff;\n",
       "        }    #T_2fc9bf1e_614b_11ea_bdc8_b8763fd8451drow4_col0 {\n",
       "            background-color:  lightsalmon;\n",
       "        }    #T_2fc9bf1e_614b_11ea_bdc8_b8763fd8451drow4_col1 {\n",
       "            background-color:  peachpuff;\n",
       "        }    #T_2fc9bf1e_614b_11ea_bdc8_b8763fd8451drow4_col2 {\n",
       "            background-color:  lightsalmon;\n",
       "        }    #T_2fc9bf1e_614b_11ea_bdc8_b8763fd8451drow4_col3 {\n",
       "            background-color :  salmon;\n",
       "        }    #T_2fc9bf1e_614b_11ea_bdc8_b8763fd8451drow4_col4 {\n",
       "            background-color :  salmon;\n",
       "        }    #T_2fc9bf1e_614b_11ea_bdc8_b8763fd8451drow4_col5 {\n",
       "            background-color:  peachpuff;\n",
       "        }    #T_2fc9bf1e_614b_11ea_bdc8_b8763fd8451drow4_col6 {\n",
       "            background-color:  peachpuff;\n",
       "        }    #T_2fc9bf1e_614b_11ea_bdc8_b8763fd8451drow5_col0 {\n",
       "            background-color :  white;\n",
       "        }    #T_2fc9bf1e_614b_11ea_bdc8_b8763fd8451drow5_col1 {\n",
       "            background-color:  peachpuff;\n",
       "        }    #T_2fc9bf1e_614b_11ea_bdc8_b8763fd8451drow5_col2 {\n",
       "            background-color :  white;\n",
       "        }    #T_2fc9bf1e_614b_11ea_bdc8_b8763fd8451drow5_col3 {\n",
       "            background-color:  peachpuff;\n",
       "        }    #T_2fc9bf1e_614b_11ea_bdc8_b8763fd8451drow5_col4 {\n",
       "            background-color:  peachpuff;\n",
       "        }    #T_2fc9bf1e_614b_11ea_bdc8_b8763fd8451drow5_col5 {\n",
       "            background-color :  salmon;\n",
       "        }    #T_2fc9bf1e_614b_11ea_bdc8_b8763fd8451drow5_col6 {\n",
       "            background-color:  peachpuff;\n",
       "        }    #T_2fc9bf1e_614b_11ea_bdc8_b8763fd8451drow6_col0 {\n",
       "            background-color :  white;\n",
       "        }    #T_2fc9bf1e_614b_11ea_bdc8_b8763fd8451drow6_col1 {\n",
       "            background-color:  peachpuff;\n",
       "        }    #T_2fc9bf1e_614b_11ea_bdc8_b8763fd8451drow6_col2 {\n",
       "            background-color :  white;\n",
       "        }    #T_2fc9bf1e_614b_11ea_bdc8_b8763fd8451drow6_col3 {\n",
       "            background-color:  peachpuff;\n",
       "        }    #T_2fc9bf1e_614b_11ea_bdc8_b8763fd8451drow6_col4 {\n",
       "            background-color:  peachpuff;\n",
       "        }    #T_2fc9bf1e_614b_11ea_bdc8_b8763fd8451drow6_col5 {\n",
       "            background-color:  peachpuff;\n",
       "        }    #T_2fc9bf1e_614b_11ea_bdc8_b8763fd8451drow6_col6 {\n",
       "            background-color :  salmon;\n",
       "        }</style><table id=\"T_2fc9bf1e_614b_11ea_bdc8_b8763fd8451d\" ><thead>    <tr>        <th class=\"blank level0\" ></th>        <th class=\"col_heading level0 col0\" >C-Q1_1</th>        <th class=\"col_heading level0 col1\" >C-Q1_2</th>        <th class=\"col_heading level0 col2\" >C-Q1_3</th>        <th class=\"col_heading level0 col3\" >C-Q1_4</th>        <th class=\"col_heading level0 col4\" >C-Q1_5</th>        <th class=\"col_heading level0 col5\" >C-Q1_6</th>        <th class=\"col_heading level0 col6\" >C-Q1_7</th>    </tr></thead><tbody>\n",
       "                <tr>\n",
       "                        <th id=\"T_2fc9bf1e_614b_11ea_bdc8_b8763fd8451dlevel0_row0\" class=\"row_heading level0 row0\" >C-Q1_1</th>\n",
       "                        <td id=\"T_2fc9bf1e_614b_11ea_bdc8_b8763fd8451drow0_col0\" class=\"data row0 col0\" >1</td>\n",
       "                        <td id=\"T_2fc9bf1e_614b_11ea_bdc8_b8763fd8451drow0_col1\" class=\"data row0 col1\" >0.117673</td>\n",
       "                        <td id=\"T_2fc9bf1e_614b_11ea_bdc8_b8763fd8451drow0_col2\" class=\"data row0 col2\" >0.4278</td>\n",
       "                        <td id=\"T_2fc9bf1e_614b_11ea_bdc8_b8763fd8451drow0_col3\" class=\"data row0 col3\" >0.276088</td>\n",
       "                        <td id=\"T_2fc9bf1e_614b_11ea_bdc8_b8763fd8451drow0_col4\" class=\"data row0 col4\" >0.320062</td>\n",
       "                        <td id=\"T_2fc9bf1e_614b_11ea_bdc8_b8763fd8451drow0_col5\" class=\"data row0 col5\" >0.0878351</td>\n",
       "                        <td id=\"T_2fc9bf1e_614b_11ea_bdc8_b8763fd8451drow0_col6\" class=\"data row0 col6\" >0.0569583</td>\n",
       "            </tr>\n",
       "            <tr>\n",
       "                        <th id=\"T_2fc9bf1e_614b_11ea_bdc8_b8763fd8451dlevel0_row1\" class=\"row_heading level0 row1\" >C-Q1_2</th>\n",
       "                        <td id=\"T_2fc9bf1e_614b_11ea_bdc8_b8763fd8451drow1_col0\" class=\"data row1 col0\" >0.117673</td>\n",
       "                        <td id=\"T_2fc9bf1e_614b_11ea_bdc8_b8763fd8451drow1_col1\" class=\"data row1 col1\" >1</td>\n",
       "                        <td id=\"T_2fc9bf1e_614b_11ea_bdc8_b8763fd8451drow1_col2\" class=\"data row1 col2\" >0.0389052</td>\n",
       "                        <td id=\"T_2fc9bf1e_614b_11ea_bdc8_b8763fd8451drow1_col3\" class=\"data row1 col3\" >0.210121</td>\n",
       "                        <td id=\"T_2fc9bf1e_614b_11ea_bdc8_b8763fd8451drow1_col4\" class=\"data row1 col4\" >0.266888</td>\n",
       "                        <td id=\"T_2fc9bf1e_614b_11ea_bdc8_b8763fd8451drow1_col5\" class=\"data row1 col5\" >0.244285</td>\n",
       "                        <td id=\"T_2fc9bf1e_614b_11ea_bdc8_b8763fd8451drow1_col6\" class=\"data row1 col6\" >-0.130852</td>\n",
       "            </tr>\n",
       "            <tr>\n",
       "                        <th id=\"T_2fc9bf1e_614b_11ea_bdc8_b8763fd8451dlevel0_row2\" class=\"row_heading level0 row2\" >C-Q1_3</th>\n",
       "                        <td id=\"T_2fc9bf1e_614b_11ea_bdc8_b8763fd8451drow2_col0\" class=\"data row2 col0\" >0.4278</td>\n",
       "                        <td id=\"T_2fc9bf1e_614b_11ea_bdc8_b8763fd8451drow2_col1\" class=\"data row2 col1\" >0.0389052</td>\n",
       "                        <td id=\"T_2fc9bf1e_614b_11ea_bdc8_b8763fd8451drow2_col2\" class=\"data row2 col2\" >1</td>\n",
       "                        <td id=\"T_2fc9bf1e_614b_11ea_bdc8_b8763fd8451drow2_col3\" class=\"data row2 col3\" >0.194015</td>\n",
       "                        <td id=\"T_2fc9bf1e_614b_11ea_bdc8_b8763fd8451drow2_col4\" class=\"data row2 col4\" >0.330158</td>\n",
       "                        <td id=\"T_2fc9bf1e_614b_11ea_bdc8_b8763fd8451drow2_col5\" class=\"data row2 col5\" >0.0444314</td>\n",
       "                        <td id=\"T_2fc9bf1e_614b_11ea_bdc8_b8763fd8451drow2_col6\" class=\"data row2 col6\" >0.0407285</td>\n",
       "            </tr>\n",
       "            <tr>\n",
       "                        <th id=\"T_2fc9bf1e_614b_11ea_bdc8_b8763fd8451dlevel0_row3\" class=\"row_heading level0 row3\" >C-Q1_4</th>\n",
       "                        <td id=\"T_2fc9bf1e_614b_11ea_bdc8_b8763fd8451drow3_col0\" class=\"data row3 col0\" >0.276088</td>\n",
       "                        <td id=\"T_2fc9bf1e_614b_11ea_bdc8_b8763fd8451drow3_col1\" class=\"data row3 col1\" >0.210121</td>\n",
       "                        <td id=\"T_2fc9bf1e_614b_11ea_bdc8_b8763fd8451drow3_col2\" class=\"data row3 col2\" >0.194015</td>\n",
       "                        <td id=\"T_2fc9bf1e_614b_11ea_bdc8_b8763fd8451drow3_col3\" class=\"data row3 col3\" >1</td>\n",
       "                        <td id=\"T_2fc9bf1e_614b_11ea_bdc8_b8763fd8451drow3_col4\" class=\"data row3 col4\" >0.531258</td>\n",
       "                        <td id=\"T_2fc9bf1e_614b_11ea_bdc8_b8763fd8451drow3_col5\" class=\"data row3 col5\" >0.259728</td>\n",
       "                        <td id=\"T_2fc9bf1e_614b_11ea_bdc8_b8763fd8451drow3_col6\" class=\"data row3 col6\" >-0.253979</td>\n",
       "            </tr>\n",
       "            <tr>\n",
       "                        <th id=\"T_2fc9bf1e_614b_11ea_bdc8_b8763fd8451dlevel0_row4\" class=\"row_heading level0 row4\" >C-Q1_5</th>\n",
       "                        <td id=\"T_2fc9bf1e_614b_11ea_bdc8_b8763fd8451drow4_col0\" class=\"data row4 col0\" >0.320062</td>\n",
       "                        <td id=\"T_2fc9bf1e_614b_11ea_bdc8_b8763fd8451drow4_col1\" class=\"data row4 col1\" >0.266888</td>\n",
       "                        <td id=\"T_2fc9bf1e_614b_11ea_bdc8_b8763fd8451drow4_col2\" class=\"data row4 col2\" >0.330158</td>\n",
       "                        <td id=\"T_2fc9bf1e_614b_11ea_bdc8_b8763fd8451drow4_col3\" class=\"data row4 col3\" >0.531258</td>\n",
       "                        <td id=\"T_2fc9bf1e_614b_11ea_bdc8_b8763fd8451drow4_col4\" class=\"data row4 col4\" >1</td>\n",
       "                        <td id=\"T_2fc9bf1e_614b_11ea_bdc8_b8763fd8451drow4_col5\" class=\"data row4 col5\" >0.284967</td>\n",
       "                        <td id=\"T_2fc9bf1e_614b_11ea_bdc8_b8763fd8451drow4_col6\" class=\"data row4 col6\" >-0.145297</td>\n",
       "            </tr>\n",
       "            <tr>\n",
       "                        <th id=\"T_2fc9bf1e_614b_11ea_bdc8_b8763fd8451dlevel0_row5\" class=\"row_heading level0 row5\" >C-Q1_6</th>\n",
       "                        <td id=\"T_2fc9bf1e_614b_11ea_bdc8_b8763fd8451drow5_col0\" class=\"data row5 col0\" >0.0878351</td>\n",
       "                        <td id=\"T_2fc9bf1e_614b_11ea_bdc8_b8763fd8451drow5_col1\" class=\"data row5 col1\" >0.244285</td>\n",
       "                        <td id=\"T_2fc9bf1e_614b_11ea_bdc8_b8763fd8451drow5_col2\" class=\"data row5 col2\" >0.0444314</td>\n",
       "                        <td id=\"T_2fc9bf1e_614b_11ea_bdc8_b8763fd8451drow5_col3\" class=\"data row5 col3\" >0.259728</td>\n",
       "                        <td id=\"T_2fc9bf1e_614b_11ea_bdc8_b8763fd8451drow5_col4\" class=\"data row5 col4\" >0.284967</td>\n",
       "                        <td id=\"T_2fc9bf1e_614b_11ea_bdc8_b8763fd8451drow5_col5\" class=\"data row5 col5\" >1</td>\n",
       "                        <td id=\"T_2fc9bf1e_614b_11ea_bdc8_b8763fd8451drow5_col6\" class=\"data row5 col6\" >-0.261567</td>\n",
       "            </tr>\n",
       "            <tr>\n",
       "                        <th id=\"T_2fc9bf1e_614b_11ea_bdc8_b8763fd8451dlevel0_row6\" class=\"row_heading level0 row6\" >C-Q1_7</th>\n",
       "                        <td id=\"T_2fc9bf1e_614b_11ea_bdc8_b8763fd8451drow6_col0\" class=\"data row6 col0\" >0.0569583</td>\n",
       "                        <td id=\"T_2fc9bf1e_614b_11ea_bdc8_b8763fd8451drow6_col1\" class=\"data row6 col1\" >-0.130852</td>\n",
       "                        <td id=\"T_2fc9bf1e_614b_11ea_bdc8_b8763fd8451drow6_col2\" class=\"data row6 col2\" >0.0407285</td>\n",
       "                        <td id=\"T_2fc9bf1e_614b_11ea_bdc8_b8763fd8451drow6_col3\" class=\"data row6 col3\" >-0.253979</td>\n",
       "                        <td id=\"T_2fc9bf1e_614b_11ea_bdc8_b8763fd8451drow6_col4\" class=\"data row6 col4\" >-0.145297</td>\n",
       "                        <td id=\"T_2fc9bf1e_614b_11ea_bdc8_b8763fd8451drow6_col5\" class=\"data row6 col5\" >-0.261567</td>\n",
       "                        <td id=\"T_2fc9bf1e_614b_11ea_bdc8_b8763fd8451drow6_col6\" class=\"data row6 col6\" >1</td>\n",
       "            </tr>\n",
       "    </tbody></table>"
      ],
      "text/plain": [
       "<pandas.io.formats.style.Styler at 0xd8971d0>"
      ]
     },
     "execution_count": 102,
     "metadata": {},
     "output_type": "execute_result"
    }
   ],
   "source": [
    "df_spearman(Finished,Liste_C_Q1)"
   ]
  },
  {
   "cell_type": "code",
   "execution_count": 103,
   "metadata": {},
   "outputs": [],
   "source": [
    "#df_spearman(Finished,Liste_C_Q1).to_excel('D:\\Daten\\DISS\\Daten\\Korr_C1.xlsx')"
   ]
  },
  {
   "cell_type": "code",
   "execution_count": 104,
   "metadata": {},
   "outputs": [
    {
     "data": {
      "text/html": [
       "<style  type=\"text/css\" >\n",
       "    #T_2fdc5d06_614b_11ea_bab9_b8763fd8451drow0_col0 {\n",
       "            background-color :  salmon;\n",
       "        }    #T_2fdc5d06_614b_11ea_bab9_b8763fd8451drow0_col1 {\n",
       "            background-color:  lightsalmon;\n",
       "        }    #T_2fdc5d06_614b_11ea_bab9_b8763fd8451drow0_col2 {\n",
       "            background-color :  salmon;\n",
       "        }    #T_2fdc5d06_614b_11ea_bab9_b8763fd8451drow0_col3 {\n",
       "            background-color :  salmon;\n",
       "        }    #T_2fdc5d06_614b_11ea_bab9_b8763fd8451drow0_col4 {\n",
       "            background-color :  salmon;\n",
       "        }    #T_2fdc5d06_614b_11ea_bab9_b8763fd8451drow0_col5 {\n",
       "            background-color :  white;\n",
       "        }    #T_2fdc5d06_614b_11ea_bab9_b8763fd8451drow0_col6 {\n",
       "            background-color :  white;\n",
       "        }    #T_2fdc5d06_614b_11ea_bab9_b8763fd8451drow1_col0 {\n",
       "            background-color:  lightsalmon;\n",
       "        }    #T_2fdc5d06_614b_11ea_bab9_b8763fd8451drow1_col1 {\n",
       "            background-color :  salmon;\n",
       "        }    #T_2fdc5d06_614b_11ea_bab9_b8763fd8451drow1_col2 {\n",
       "            background-color :  white;\n",
       "        }    #T_2fdc5d06_614b_11ea_bab9_b8763fd8451drow1_col3 {\n",
       "            background-color :  salmon;\n",
       "        }    #T_2fdc5d06_614b_11ea_bab9_b8763fd8451drow1_col4 {\n",
       "            background-color :  salmon;\n",
       "        }    #T_2fdc5d06_614b_11ea_bab9_b8763fd8451drow1_col5 {\n",
       "            background-color :  salmon;\n",
       "        }    #T_2fdc5d06_614b_11ea_bab9_b8763fd8451drow1_col6 {\n",
       "            background-color :  salmon;\n",
       "        }    #T_2fdc5d06_614b_11ea_bab9_b8763fd8451drow2_col0 {\n",
       "            background-color :  salmon;\n",
       "        }    #T_2fdc5d06_614b_11ea_bab9_b8763fd8451drow2_col1 {\n",
       "            background-color :  white;\n",
       "        }    #T_2fdc5d06_614b_11ea_bab9_b8763fd8451drow2_col2 {\n",
       "            background-color :  salmon;\n",
       "        }    #T_2fdc5d06_614b_11ea_bab9_b8763fd8451drow2_col3 {\n",
       "            background-color :  salmon;\n",
       "        }    #T_2fdc5d06_614b_11ea_bab9_b8763fd8451drow2_col4 {\n",
       "            background-color :  salmon;\n",
       "        }    #T_2fdc5d06_614b_11ea_bab9_b8763fd8451drow2_col5 {\n",
       "            background-color :  white;\n",
       "        }    #T_2fdc5d06_614b_11ea_bab9_b8763fd8451drow2_col6 {\n",
       "            background-color :  white;\n",
       "        }    #T_2fdc5d06_614b_11ea_bab9_b8763fd8451drow3_col0 {\n",
       "            background-color :  salmon;\n",
       "        }    #T_2fdc5d06_614b_11ea_bab9_b8763fd8451drow3_col1 {\n",
       "            background-color :  salmon;\n",
       "        }    #T_2fdc5d06_614b_11ea_bab9_b8763fd8451drow3_col2 {\n",
       "            background-color :  salmon;\n",
       "        }    #T_2fdc5d06_614b_11ea_bab9_b8763fd8451drow3_col3 {\n",
       "            background-color :  salmon;\n",
       "        }    #T_2fdc5d06_614b_11ea_bab9_b8763fd8451drow3_col4 {\n",
       "            background-color :  salmon;\n",
       "        }    #T_2fdc5d06_614b_11ea_bab9_b8763fd8451drow3_col5 {\n",
       "            background-color :  salmon;\n",
       "        }    #T_2fdc5d06_614b_11ea_bab9_b8763fd8451drow3_col6 {\n",
       "            background-color :  salmon;\n",
       "        }    #T_2fdc5d06_614b_11ea_bab9_b8763fd8451drow4_col0 {\n",
       "            background-color :  salmon;\n",
       "        }    #T_2fdc5d06_614b_11ea_bab9_b8763fd8451drow4_col1 {\n",
       "            background-color :  salmon;\n",
       "        }    #T_2fdc5d06_614b_11ea_bab9_b8763fd8451drow4_col2 {\n",
       "            background-color :  salmon;\n",
       "        }    #T_2fdc5d06_614b_11ea_bab9_b8763fd8451drow4_col3 {\n",
       "            background-color :  salmon;\n",
       "        }    #T_2fdc5d06_614b_11ea_bab9_b8763fd8451drow4_col4 {\n",
       "            background-color :  salmon;\n",
       "        }    #T_2fdc5d06_614b_11ea_bab9_b8763fd8451drow4_col5 {\n",
       "            background-color :  salmon;\n",
       "        }    #T_2fdc5d06_614b_11ea_bab9_b8763fd8451drow4_col6 {\n",
       "            background-color :  salmon;\n",
       "        }    #T_2fdc5d06_614b_11ea_bab9_b8763fd8451drow5_col0 {\n",
       "            background-color :  white;\n",
       "        }    #T_2fdc5d06_614b_11ea_bab9_b8763fd8451drow5_col1 {\n",
       "            background-color :  salmon;\n",
       "        }    #T_2fdc5d06_614b_11ea_bab9_b8763fd8451drow5_col2 {\n",
       "            background-color :  white;\n",
       "        }    #T_2fdc5d06_614b_11ea_bab9_b8763fd8451drow5_col3 {\n",
       "            background-color :  salmon;\n",
       "        }    #T_2fdc5d06_614b_11ea_bab9_b8763fd8451drow5_col4 {\n",
       "            background-color :  salmon;\n",
       "        }    #T_2fdc5d06_614b_11ea_bab9_b8763fd8451drow5_col5 {\n",
       "            background-color :  salmon;\n",
       "        }    #T_2fdc5d06_614b_11ea_bab9_b8763fd8451drow5_col6 {\n",
       "            background-color :  salmon;\n",
       "        }    #T_2fdc5d06_614b_11ea_bab9_b8763fd8451drow6_col0 {\n",
       "            background-color :  white;\n",
       "        }    #T_2fdc5d06_614b_11ea_bab9_b8763fd8451drow6_col1 {\n",
       "            background-color :  salmon;\n",
       "        }    #T_2fdc5d06_614b_11ea_bab9_b8763fd8451drow6_col2 {\n",
       "            background-color :  white;\n",
       "        }    #T_2fdc5d06_614b_11ea_bab9_b8763fd8451drow6_col3 {\n",
       "            background-color :  salmon;\n",
       "        }    #T_2fdc5d06_614b_11ea_bab9_b8763fd8451drow6_col4 {\n",
       "            background-color :  salmon;\n",
       "        }    #T_2fdc5d06_614b_11ea_bab9_b8763fd8451drow6_col5 {\n",
       "            background-color :  salmon;\n",
       "        }    #T_2fdc5d06_614b_11ea_bab9_b8763fd8451drow6_col6 {\n",
       "            background-color :  salmon;\n",
       "        }</style><table id=\"T_2fdc5d06_614b_11ea_bab9_b8763fd8451d\" ><thead>    <tr>        <th class=\"blank level0\" ></th>        <th class=\"col_heading level0 col0\" >C-Q1_1</th>        <th class=\"col_heading level0 col1\" >C-Q1_2</th>        <th class=\"col_heading level0 col2\" >C-Q1_3</th>        <th class=\"col_heading level0 col3\" >C-Q1_4</th>        <th class=\"col_heading level0 col4\" >C-Q1_5</th>        <th class=\"col_heading level0 col5\" >C-Q1_6</th>        <th class=\"col_heading level0 col6\" >C-Q1_7</th>    </tr></thead><tbody>\n",
       "                <tr>\n",
       "                        <th id=\"T_2fdc5d06_614b_11ea_bab9_b8763fd8451dlevel0_row0\" class=\"row_heading level0 row0\" >C-Q1_1</th>\n",
       "                        <td id=\"T_2fdc5d06_614b_11ea_bab9_b8763fd8451drow0_col0\" class=\"data row0 col0\" >0</td>\n",
       "                        <td id=\"T_2fdc5d06_614b_11ea_bab9_b8763fd8451drow0_col1\" class=\"data row0 col1\" >0.0199395</td>\n",
       "                        <td id=\"T_2fdc5d06_614b_11ea_bab9_b8763fd8451drow0_col2\" class=\"data row0 col2\" >7.87919e-19</td>\n",
       "                        <td id=\"T_2fdc5d06_614b_11ea_bab9_b8763fd8451drow0_col3\" class=\"data row0 col3\" >2.85583e-08</td>\n",
       "                        <td id=\"T_2fdc5d06_614b_11ea_bab9_b8763fd8451drow0_col4\" class=\"data row0 col4\" >9.18497e-11</td>\n",
       "                        <td id=\"T_2fdc5d06_614b_11ea_bab9_b8763fd8451drow0_col5\" class=\"data row0 col5\" >0.0828082</td>\n",
       "                        <td id=\"T_2fdc5d06_614b_11ea_bab9_b8763fd8451drow0_col6\" class=\"data row0 col6\" >0.261189</td>\n",
       "            </tr>\n",
       "            <tr>\n",
       "                        <th id=\"T_2fdc5d06_614b_11ea_bab9_b8763fd8451dlevel0_row1\" class=\"row_heading level0 row1\" >C-Q1_2</th>\n",
       "                        <td id=\"T_2fdc5d06_614b_11ea_bab9_b8763fd8451drow1_col0\" class=\"data row1 col0\" >0.0199395</td>\n",
       "                        <td id=\"T_2fdc5d06_614b_11ea_bab9_b8763fd8451drow1_col1\" class=\"data row1 col1\" >0</td>\n",
       "                        <td id=\"T_2fdc5d06_614b_11ea_bab9_b8763fd8451drow1_col2\" class=\"data row1 col2\" >0.443006</td>\n",
       "                        <td id=\"T_2fdc5d06_614b_11ea_bab9_b8763fd8451drow1_col3\" class=\"data row1 col3\" >2.80906e-05</td>\n",
       "                        <td id=\"T_2fdc5d06_614b_11ea_bab9_b8763fd8451drow1_col4\" class=\"data row1 col4\" >8.41634e-08</td>\n",
       "                        <td id=\"T_2fdc5d06_614b_11ea_bab9_b8763fd8451drow1_col5\" class=\"data row1 col5\" >1.01237e-06</td>\n",
       "                        <td id=\"T_2fdc5d06_614b_11ea_bab9_b8763fd8451drow1_col6\" class=\"data row1 col6\" >0.00958919</td>\n",
       "            </tr>\n",
       "            <tr>\n",
       "                        <th id=\"T_2fdc5d06_614b_11ea_bab9_b8763fd8451dlevel0_row2\" class=\"row_heading level0 row2\" >C-Q1_3</th>\n",
       "                        <td id=\"T_2fdc5d06_614b_11ea_bab9_b8763fd8451drow2_col0\" class=\"data row2 col0\" >7.87919e-19</td>\n",
       "                        <td id=\"T_2fdc5d06_614b_11ea_bab9_b8763fd8451drow2_col1\" class=\"data row2 col1\" >0.443006</td>\n",
       "                        <td id=\"T_2fdc5d06_614b_11ea_bab9_b8763fd8451drow2_col2\" class=\"data row2 col2\" >0</td>\n",
       "                        <td id=\"T_2fdc5d06_614b_11ea_bab9_b8763fd8451drow2_col3\" class=\"data row2 col3\" >0.00011299</td>\n",
       "                        <td id=\"T_2fdc5d06_614b_11ea_bab9_b8763fd8451drow2_col4\" class=\"data row2 col4\" >2.1384e-11</td>\n",
       "                        <td id=\"T_2fdc5d06_614b_11ea_bab9_b8763fd8451drow2_col5\" class=\"data row2 col5\" >0.380925</td>\n",
       "                        <td id=\"T_2fdc5d06_614b_11ea_bab9_b8763fd8451drow2_col6\" class=\"data row2 col6\" >0.421912</td>\n",
       "            </tr>\n",
       "            <tr>\n",
       "                        <th id=\"T_2fdc5d06_614b_11ea_bab9_b8763fd8451dlevel0_row3\" class=\"row_heading level0 row3\" >C-Q1_4</th>\n",
       "                        <td id=\"T_2fdc5d06_614b_11ea_bab9_b8763fd8451drow3_col0\" class=\"data row3 col0\" >2.85583e-08</td>\n",
       "                        <td id=\"T_2fdc5d06_614b_11ea_bab9_b8763fd8451drow3_col1\" class=\"data row3 col1\" >2.80906e-05</td>\n",
       "                        <td id=\"T_2fdc5d06_614b_11ea_bab9_b8763fd8451drow3_col2\" class=\"data row3 col2\" >0.00011299</td>\n",
       "                        <td id=\"T_2fdc5d06_614b_11ea_bab9_b8763fd8451drow3_col3\" class=\"data row3 col3\" >0</td>\n",
       "                        <td id=\"T_2fdc5d06_614b_11ea_bab9_b8763fd8451drow3_col4\" class=\"data row3 col4\" >7.36495e-30</td>\n",
       "                        <td id=\"T_2fdc5d06_614b_11ea_bab9_b8763fd8451drow3_col5\" class=\"data row3 col5\" >1.89857e-07</td>\n",
       "                        <td id=\"T_2fdc5d06_614b_11ea_bab9_b8763fd8451drow3_col6\" class=\"data row3 col6\" >3.58566e-07</td>\n",
       "            </tr>\n",
       "            <tr>\n",
       "                        <th id=\"T_2fdc5d06_614b_11ea_bab9_b8763fd8451dlevel0_row4\" class=\"row_heading level0 row4\" >C-Q1_5</th>\n",
       "                        <td id=\"T_2fdc5d06_614b_11ea_bab9_b8763fd8451drow4_col0\" class=\"data row4 col0\" >9.18497e-11</td>\n",
       "                        <td id=\"T_2fdc5d06_614b_11ea_bab9_b8763fd8451drow4_col1\" class=\"data row4 col1\" >8.41634e-08</td>\n",
       "                        <td id=\"T_2fdc5d06_614b_11ea_bab9_b8763fd8451drow4_col2\" class=\"data row4 col2\" >2.1384e-11</td>\n",
       "                        <td id=\"T_2fdc5d06_614b_11ea_bab9_b8763fd8451drow4_col3\" class=\"data row4 col3\" >7.36495e-30</td>\n",
       "                        <td id=\"T_2fdc5d06_614b_11ea_bab9_b8763fd8451drow4_col4\" class=\"data row4 col4\" >0</td>\n",
       "                        <td id=\"T_2fdc5d06_614b_11ea_bab9_b8763fd8451drow4_col5\" class=\"data row4 col5\" >9.68321e-09</td>\n",
       "                        <td id=\"T_2fdc5d06_614b_11ea_bab9_b8763fd8451drow4_col6\" class=\"data row4 col6\" >0.00398748</td>\n",
       "            </tr>\n",
       "            <tr>\n",
       "                        <th id=\"T_2fdc5d06_614b_11ea_bab9_b8763fd8451dlevel0_row5\" class=\"row_heading level0 row5\" >C-Q1_6</th>\n",
       "                        <td id=\"T_2fdc5d06_614b_11ea_bab9_b8763fd8451drow5_col0\" class=\"data row5 col0\" >0.0828082</td>\n",
       "                        <td id=\"T_2fdc5d06_614b_11ea_bab9_b8763fd8451drow5_col1\" class=\"data row5 col1\" >1.01237e-06</td>\n",
       "                        <td id=\"T_2fdc5d06_614b_11ea_bab9_b8763fd8451drow5_col2\" class=\"data row5 col2\" >0.380925</td>\n",
       "                        <td id=\"T_2fdc5d06_614b_11ea_bab9_b8763fd8451drow5_col3\" class=\"data row5 col3\" >1.89857e-07</td>\n",
       "                        <td id=\"T_2fdc5d06_614b_11ea_bab9_b8763fd8451drow5_col4\" class=\"data row5 col4\" >9.68321e-09</td>\n",
       "                        <td id=\"T_2fdc5d06_614b_11ea_bab9_b8763fd8451drow5_col5\" class=\"data row5 col5\" >0</td>\n",
       "                        <td id=\"T_2fdc5d06_614b_11ea_bab9_b8763fd8451drow5_col6\" class=\"data row5 col6\" >1.54404e-07</td>\n",
       "            </tr>\n",
       "            <tr>\n",
       "                        <th id=\"T_2fdc5d06_614b_11ea_bab9_b8763fd8451dlevel0_row6\" class=\"row_heading level0 row6\" >C-Q1_7</th>\n",
       "                        <td id=\"T_2fdc5d06_614b_11ea_bab9_b8763fd8451drow6_col0\" class=\"data row6 col0\" >0.261189</td>\n",
       "                        <td id=\"T_2fdc5d06_614b_11ea_bab9_b8763fd8451drow6_col1\" class=\"data row6 col1\" >0.00958919</td>\n",
       "                        <td id=\"T_2fdc5d06_614b_11ea_bab9_b8763fd8451drow6_col2\" class=\"data row6 col2\" >0.421912</td>\n",
       "                        <td id=\"T_2fdc5d06_614b_11ea_bab9_b8763fd8451drow6_col3\" class=\"data row6 col3\" >3.58566e-07</td>\n",
       "                        <td id=\"T_2fdc5d06_614b_11ea_bab9_b8763fd8451drow6_col4\" class=\"data row6 col4\" >0.00398748</td>\n",
       "                        <td id=\"T_2fdc5d06_614b_11ea_bab9_b8763fd8451drow6_col5\" class=\"data row6 col5\" >1.54404e-07</td>\n",
       "                        <td id=\"T_2fdc5d06_614b_11ea_bab9_b8763fd8451drow6_col6\" class=\"data row6 col6\" >0</td>\n",
       "            </tr>\n",
       "    </tbody></table>"
      ],
      "text/plain": [
       "<pandas.io.formats.style.Styler at 0xd8d4f60>"
      ]
     },
     "execution_count": 104,
     "metadata": {},
     "output_type": "execute_result"
    }
   ],
   "source": [
    "df_spearman_pv(Finished,Liste_C_Q1)"
   ]
  },
  {
   "cell_type": "markdown",
   "metadata": {},
   "source": [
    "### Kommentare\n",
    "#### E-Q1"
   ]
  },
  {
   "cell_type": "code",
   "execution_count": 105,
   "metadata": {},
   "outputs": [
    {
     "data": {
      "text/plain": [
       "0                                   Gratificante y útil \n",
       "1      Una encuesta muy completa que me ha servido pa...\n",
       "4      El tema me parece muy interesante. Creo que la...\n",
       "9                         Demasiado larga pero completa \n",
       "11     Como he dicho anteriormente, debo dar las grac...\n",
       "13     Creo que podrían formularse las preguntas de u...\n",
       "27                                    muy buena. gracias\n",
       "31     me parece muy bien para que la gente aprenda a...\n",
       "43     Estaría interesante que se incluyeran pregunta...\n",
       "50     me parece una encuentra muy completa y útil pa...\n",
       "57     Es una buena manera de reflexionar sobre las e...\n",
       "58     Muy útil para que seamos conscientes de todas ...\n",
       "74                               Muy larga y poco amena.\n",
       "76     Opino que este tipo de estudios debería ser má...\n",
       "86     Sería muy beneficioso dar un resumen de estas ...\n",
       "95     Las estrategias que se me han presentado para ...\n",
       "104    Me gustaría conocer los resultados de la encue...\n",
       "105    Me parece una encuesta interesante, pues mucha...\n",
       "116    Interesantes metodos de aprendizaje para el fu...\n",
       "121               Larga y reiterante, pero interesante. \n",
       "130    Una encuesta muy interesante, mis mejores dese...\n",
       "138    Mi profesora de alemán me recomendó hacer esta...\n",
       "141                                      Muy interesante\n",
       "145    Considero que está encuesta también me ha serv...\n",
       "146    Me parece muy importante conocer estrategias p...\n",
       "158    Muy útiles las herramientas para reconocer pal...\n",
       "161    Les deseo mucha suerte con la encuesta y esper...\n",
       "162        Me ha resultado muy interesante esta encuesta\n",
       "163                     el cuestionario es muy detallado\n",
       "175    He participado con mucho gusto! Creo que son e...\n",
       "202    En mi opinión la enseñanza de herramientas y t...\n",
       "204    Interesante área de estudio. Es muy probable q...\n",
       "224    Es muy interesante conocer las estrategias de ...\n",
       "227                                    Muy enriquecedora\n",
       "230        Me parece que la encuesta es muy interesante.\n",
       "258                                      Muy interesante\n",
       "259                      Me ha encantado la encuesta. :)\n",
       "266    Bastante interesante, aunque algo larga. Pondr...\n",
       "272    GENIAL Y MUY DETALLADA PERO EXCESIVAMENTE LARG...\n",
       "294                                     Muy interesante!\n",
       "341    La encuesta está muy bien preparada y el tema ...\n",
       "372              Me ha parecido una encuesta interesante\n",
       "376    Me ha parecido muy interesante porque para apr...\n",
       "392    Muy útil con respecto a las diferentes técnica...\n",
       "397    Al aprendizaje del lenguaje es un trabajo de e...\n",
       "Name: E-Q1, dtype: object"
      ]
     },
     "execution_count": 105,
     "metadata": {},
     "output_type": "execute_result"
    }
   ],
   "source": [
    "Finished[Finished['E-Q1'] != 0]['E-Q1']"
   ]
  },
  {
   "cell_type": "code",
   "execution_count": 106,
   "metadata": {},
   "outputs": [
    {
     "data": {
      "text/plain": [
       "'Una encuesta muy completa que me ha servido para reflexionar sobre mis estrategias a la hora de comprender palabras desconocidas en alemán y a incluir nuevas. Enhorabuena.'"
      ]
     },
     "execution_count": 106,
     "metadata": {},
     "output_type": "execute_result"
    }
   ],
   "source": [
    "Finished['E-Q1'][1]"
   ]
  },
  {
   "cell_type": "code",
   "execution_count": 107,
   "metadata": {},
   "outputs": [
    {
     "data": {
      "text/plain": [
       "'El tema me parece muy interesante. Creo que las estrategias para aprender lenguas son muy importantes y más cuando la lengua que se aprende es una lengua alejada o muy diferente a la lengua propia.'"
      ]
     },
     "execution_count": 107,
     "metadata": {},
     "output_type": "execute_result"
    }
   ],
   "source": [
    "Finished['E-Q1'][4]"
   ]
  },
  {
   "cell_type": "code",
   "execution_count": 108,
   "metadata": {},
   "outputs": [
    {
     "data": {
      "text/plain": [
       "'Como he dicho anteriormente, debo dar las gracias puesto que he expandido mis conocimientos sobre aprender técnicas y estrategias para conocer con más profundidad la lengua alemana.  Me ha parecido un muy buen trabajo con diversidad de respuestas. También debo se?alar la exactitud de las preguntas dejando a un lado ambig?edades.  Espero que le sirva de ayuda.  '"
      ]
     },
     "execution_count": 108,
     "metadata": {},
     "output_type": "execute_result"
    }
   ],
   "source": [
    "Finished['E-Q1'][11]"
   ]
  },
  {
   "cell_type": "code",
   "execution_count": 109,
   "metadata": {},
   "outputs": [
    {
     "data": {
      "text/plain": [
       "'Creo que podrían formularse las preguntas de una manera más clara. Es un poco difícil responder, pues normalmente cuando se presenta la oportunidad de utilizar alguna de las estrategias mencionadas, lo hago de manera inconsciente y automática, sin necesidad de analizar conscientemente. He respondido algunas preguntas según la frecuencia en que se presentarían estas situaciones desde mi punto de vista, más que según la frencuencia en que usaría las estrategias.'"
      ]
     },
     "execution_count": 109,
     "metadata": {},
     "output_type": "execute_result"
    }
   ],
   "source": [
    "Finished['E-Q1'][13]"
   ]
  },
  {
   "cell_type": "code",
   "execution_count": 110,
   "metadata": {},
   "outputs": [
    {
     "data": {
      "text/plain": [
       "'me parece muy bien para que la gente aprenda a saber nuevas tecnicas'"
      ]
     },
     "execution_count": 110,
     "metadata": {},
     "output_type": "execute_result"
    }
   ],
   "source": [
    "Finished['E-Q1'][31]"
   ]
  },
  {
   "cell_type": "code",
   "execution_count": 111,
   "metadata": {},
   "outputs": [
    {
     "data": {
      "text/plain": [
       "'Estaría interesante que se incluyeran preguntas sobre los métodos de asimilación del vocabulario una vez que este se ha comprendido.'"
      ]
     },
     "execution_count": 111,
     "metadata": {},
     "output_type": "execute_result"
    }
   ],
   "source": [
    "Finished['E-Q1'][43]"
   ]
  },
  {
   "cell_type": "code",
   "execution_count": 112,
   "metadata": {},
   "outputs": [
    {
     "data": {
      "text/plain": [
       "'me parece una encuentra muy completa y útil para reflexionar sobre mis estrategias de aprendizaje del alemán y otros idiomas. He aprendido alguna estrategia nueva. '"
      ]
     },
     "execution_count": 112,
     "metadata": {},
     "output_type": "execute_result"
    }
   ],
   "source": [
    "Finished['E-Q1'][50]"
   ]
  },
  {
   "cell_type": "code",
   "execution_count": 113,
   "metadata": {},
   "outputs": [
    {
     "data": {
      "text/plain": [
       "'Es una buena manera de reflexionar sobre las estrategias de aprendizaje y sobre la manera personal de cada uno de ver/analizar y comprender un idioma. Al mismo tiempo relaciona las lenguas y las engloba en una única vía de entendimiento. '"
      ]
     },
     "execution_count": 113,
     "metadata": {},
     "output_type": "execute_result"
    }
   ],
   "source": [
    "Finished['E-Q1'][57]"
   ]
  },
  {
   "cell_type": "code",
   "execution_count": 114,
   "metadata": {},
   "outputs": [
    {
     "data": {
      "text/plain": [
       "'Muy útil para que seamos conscientes de todas las posibilidades que hay y de los recursos o estrategias que usamos normalmente.'"
      ]
     },
     "execution_count": 114,
     "metadata": {},
     "output_type": "execute_result"
    }
   ],
   "source": [
    "Finished['E-Q1'][58]"
   ]
  },
  {
   "cell_type": "code",
   "execution_count": 115,
   "metadata": {},
   "outputs": [
    {
     "data": {
      "text/plain": [
       "'Opino que este tipo de estudios debería ser más habitual. Por desgracia, no es habitual encontrar profesores en este sistema educativo que enseñen interrelaciones entre idiomas y que, por tanto, animen a aprender nuevos idiomas como recurso para mejorar los ya sabidos.'"
      ]
     },
     "execution_count": 115,
     "metadata": {},
     "output_type": "execute_result"
    }
   ],
   "source": [
    "Finished['E-Q1'][76]"
   ]
  },
  {
   "cell_type": "code",
   "execution_count": 116,
   "metadata": {},
   "outputs": [
    {
     "data": {
      "text/plain": [
       "'Sería muy beneficioso dar un resumen de estas estrategias sugeridas al final de la encuesta para poder repasarlas y ponerlas en práctica'"
      ]
     },
     "execution_count": 116,
     "metadata": {},
     "output_type": "execute_result"
    }
   ],
   "source": [
    "Finished['E-Q1'][86]"
   ]
  },
  {
   "cell_type": "code",
   "execution_count": 117,
   "metadata": {},
   "outputs": [
    {
     "data": {
      "text/plain": [
       "'Las estrategias que se me han presentado para aprender vocabulario alemán han sido muy prácticas y me han ayudado mucho a avanzar con el idioma. Hasta que no comencé a estudiar alemán, nunca había sido consciente de la importancia del aprendizaje del vocabulario de una lengua a consciencia y no simplemente adquiriendo este tras años de práctica.'"
      ]
     },
     "execution_count": 117,
     "metadata": {},
     "output_type": "execute_result"
    }
   ],
   "source": [
    "Finished['E-Q1'][95]"
   ]
  },
  {
   "cell_type": "code",
   "execution_count": 118,
   "metadata": {},
   "outputs": [
    {
     "data": {
      "text/plain": [
       "'Me gustaría conocer los resultados de la encuesta, ya que la he encontrado muy interesante.'"
      ]
     },
     "execution_count": 118,
     "metadata": {},
     "output_type": "execute_result"
    }
   ],
   "source": [
    "Finished['E-Q1'][104]"
   ]
  },
  {
   "cell_type": "code",
   "execution_count": 119,
   "metadata": {},
   "outputs": [
    {
     "data": {
      "text/plain": [
       "'Me parece una encuesta interesante, pues muchas de las estrategias las desconocía, pero aún así pienso que no sabré utilizarlas.'"
      ]
     },
     "execution_count": 119,
     "metadata": {},
     "output_type": "execute_result"
    }
   ],
   "source": [
    "Finished['E-Q1'][105]"
   ]
  },
  {
   "cell_type": "code",
   "execution_count": 120,
   "metadata": {},
   "outputs": [
    {
     "data": {
      "text/plain": [
       "'Interesantes metodos de aprendizaje para el futuro, pudo conectar con que había aprendido en las clases de español para profesores sobre el método del aprendizaje significativo actual donde se aprende conectando conocimientos previos de otros idiomas o clases. '"
      ]
     },
     "execution_count": 120,
     "metadata": {},
     "output_type": "execute_result"
    }
   ],
   "source": [
    "Finished['E-Q1'][116]"
   ]
  },
  {
   "cell_type": "code",
   "execution_count": 121,
   "metadata": {},
   "outputs": [
    {
     "data": {
      "text/plain": [
       "'Una encuesta muy interesante, mis mejores deseos para quién la haya preparado.   Un saludo :)'"
      ]
     },
     "execution_count": 121,
     "metadata": {},
     "output_type": "execute_result"
    }
   ],
   "source": [
    "Finished['E-Q1'][130]"
   ]
  },
  {
   "cell_type": "code",
   "execution_count": 122,
   "metadata": {},
   "outputs": [
    {
     "data": {
      "text/plain": [
       "'Mi profesora de alemán me recomendó hacer esta encuesta, y me alegro de haberlo hecho ya que así he podido conocer otros métodos de inferencia y aprendizaje de palabras nuevas en alemán, lo cual es muy útil ya que este es mi primer año estudiando esta lengua.'"
      ]
     },
     "execution_count": 122,
     "metadata": {},
     "output_type": "execute_result"
    }
   ],
   "source": [
    "Finished['E-Q1'][138]"
   ]
  },
  {
   "cell_type": "code",
   "execution_count": 123,
   "metadata": {},
   "outputs": [
    {
     "data": {
      "text/plain": [
       "'Considero que está encuesta también me ha servido para conocer estrategias a la hora de descubrir el significado de palabras que no conozco.'"
      ]
     },
     "execution_count": 123,
     "metadata": {},
     "output_type": "execute_result"
    }
   ],
   "source": [
    "Finished['E-Q1'][145]"
   ]
  },
  {
   "cell_type": "code",
   "execution_count": 124,
   "metadata": {},
   "outputs": [
    {
     "data": {
      "text/plain": [
       "'Me parece muy importante conocer estrategias para conocer más vocabulario rápidamente ya que es una de las partes fundamentales al aprender un idioma. Pienso que siempre debería de acompañarse el aprendizaje de un idioma de una serie de técnicas de este tipo. '"
      ]
     },
     "execution_count": 124,
     "metadata": {},
     "output_type": "execute_result"
    }
   ],
   "source": [
    "Finished['E-Q1'][146]"
   ]
  },
  {
   "cell_type": "code",
   "execution_count": 125,
   "metadata": {},
   "outputs": [
    {
     "data": {
      "text/plain": [
       "'Muy útiles las herramientas para reconocer palabras, especialmente en este idioma tan rico que es el alemán. '"
      ]
     },
     "execution_count": 125,
     "metadata": {},
     "output_type": "execute_result"
    }
   ],
   "source": [
    "Finished['E-Q1'][158]"
   ]
  },
  {
   "cell_type": "code",
   "execution_count": 126,
   "metadata": {},
   "outputs": [
    {
     "data": {
      "text/plain": [
       "'Les deseo mucha suerte con la encuesta y espero que mi participación haya servido de algo.'"
      ]
     },
     "execution_count": 126,
     "metadata": {},
     "output_type": "execute_result"
    }
   ],
   "source": [
    "Finished['E-Q1'][161]"
   ]
  },
  {
   "cell_type": "code",
   "execution_count": 127,
   "metadata": {},
   "outputs": [
    {
     "data": {
      "text/plain": [
       "'He participado con mucho gusto! Creo que son estrategias que podemos aplicar y que nos sirven.  ¡Un saludo! '"
      ]
     },
     "execution_count": 127,
     "metadata": {},
     "output_type": "execute_result"
    }
   ],
   "source": [
    "Finished['E-Q1'][175]"
   ]
  },
  {
   "cell_type": "code",
   "execution_count": 128,
   "metadata": {},
   "outputs": [
    {
     "data": {
      "text/plain": [
       "'En mi opinión la enseñanza de herramientas y técnicas para llegar a ser capaz de analizar y poder buscar sentido a las palabras desconocidas dentro de un texto es algo muy útil y en parte necesario. La sensación de quedarte parado mirando el vocabulario desconocido sin saber que hacer es nefasta, por lo que todos deberíamos llegar a ser capaces de aprender a interpretar el vocabulario y evitar quedarnos varados.'"
      ]
     },
     "execution_count": 128,
     "metadata": {},
     "output_type": "execute_result"
    }
   ],
   "source": [
    "Finished['E-Q1'][202]"
   ]
  },
  {
   "cell_type": "code",
   "execution_count": 129,
   "metadata": {},
   "outputs": [
    {
     "data": {
      "text/plain": [
       "'Interesante área de estudio. Es muy probable que las estrategias para aprender vocabulario deban tratarse más activamente en las clases de idiomas. '"
      ]
     },
     "execution_count": 129,
     "metadata": {},
     "output_type": "execute_result"
    }
   ],
   "source": [
    "Finished['E-Q1'][204]"
   ]
  },
  {
   "cell_type": "code",
   "execution_count": 130,
   "metadata": {},
   "outputs": [
    {
     "data": {
      "text/plain": [
       "'Es muy interesante conocer las estrategias de aprendizaje de cada alumno, para adaptar la metodología.'"
      ]
     },
     "execution_count": 130,
     "metadata": {},
     "output_type": "execute_result"
    }
   ],
   "source": [
    "Finished['E-Q1'][224]"
   ]
  },
  {
   "cell_type": "code",
   "execution_count": 131,
   "metadata": {},
   "outputs": [
    {
     "data": {
      "text/plain": [
       "'Es muy interesante conocer las estrategias de aprendizaje de cada alumno, para adaptar la metodología.'"
      ]
     },
     "execution_count": 131,
     "metadata": {},
     "output_type": "execute_result"
    }
   ],
   "source": [
    "Finished['E-Q1'][224]"
   ]
  },
  {
   "cell_type": "code",
   "execution_count": 132,
   "metadata": {},
   "outputs": [
    {
     "data": {
      "text/plain": [
       "'Bastante interesante, aunque algo larga. Pondré en practica las distintas estrategias para comprender con mayor claridad un texto en alemán.'"
      ]
     },
     "execution_count": 132,
     "metadata": {},
     "output_type": "execute_result"
    }
   ],
   "source": [
    "Finished['E-Q1'][266]"
   ]
  },
  {
   "cell_type": "code",
   "execution_count": 133,
   "metadata": {},
   "outputs": [
    {
     "data": {
      "text/plain": [
       "'GENIAL Y MUY DETALLADA PERO EXCESIVAMENTE LARGA ESO SI LAS CONCLUSIONES MUY POSITIVAS Y FELICIDADES POR EL TRABAJO'"
      ]
     },
     "execution_count": 133,
     "metadata": {},
     "output_type": "execute_result"
    }
   ],
   "source": [
    "Finished['E-Q1'][272]"
   ]
  },
  {
   "cell_type": "code",
   "execution_count": 134,
   "metadata": {},
   "outputs": [
    {
     "data": {
      "text/plain": [
       "'La encuesta está muy bien preparada y el tema de las estrategias para aprender un idioma me parece muy interesante y personalmente me ha ayudado a conocer estrategias que no sabia.'"
      ]
     },
     "execution_count": 134,
     "metadata": {},
     "output_type": "execute_result"
    }
   ],
   "source": [
    "Finished['E-Q1'][341]"
   ]
  },
  {
   "cell_type": "code",
   "execution_count": 135,
   "metadata": {},
   "outputs": [
    {
     "data": {
      "text/plain": [
       "'Me ha parecido muy interesante porque para aprender un idioma pienso que es muy importante usar estrategias de aprendizaje. Alemán para los Españoles por lo general no es un idioma fácil, por lo que el uso de estrategias facilitaría de manera avanzada su aprendizaje.'"
      ]
     },
     "execution_count": 135,
     "metadata": {},
     "output_type": "execute_result"
    }
   ],
   "source": [
    "Finished['E-Q1'][376]"
   ]
  },
  {
   "cell_type": "code",
   "execution_count": 136,
   "metadata": {},
   "outputs": [
    {
     "data": {
      "text/plain": [
       "'Muy útil con respecto a las diferentes técnicas (muy metódicas, a mi nunca se me hubieran ocurrido) de deducir palabras desconocidas en alemán u otro idioma extranjero '"
      ]
     },
     "execution_count": 136,
     "metadata": {},
     "output_type": "execute_result"
    }
   ],
   "source": [
    "Finished['E-Q1'][392]"
   ]
  },
  {
   "cell_type": "code",
   "execution_count": 137,
   "metadata": {},
   "outputs": [
    {
     "data": {
      "text/plain": [
       "'Al aprendizaje del lenguaje es un trabajo de establecer un red'"
      ]
     },
     "execution_count": 137,
     "metadata": {},
     "output_type": "execute_result"
    }
   ],
   "source": [
    "Finished['E-Q1'][397]"
   ]
  },
  {
   "cell_type": "markdown",
   "metadata": {},
   "source": [
    "Kommentare, die in der Pilotversion vor Ende der Befragung abgegeben wurden:"
   ]
  },
  {
   "cell_type": "code",
   "execution_count": 138,
   "metadata": {},
   "outputs": [
    {
     "data": {
      "text/plain": [
       "11    Bajo mi punto de vista, debo agradecer haber p...\n",
       "27    Me ha molado la encuesta ;). De hecho pienso q...\n",
       "33    Para mí es importante la ayuda de mi compañero...\n",
       "34    El alemán es mi segunda lengua materna, creo q...\n",
       "54                         Gran estudio y gran encuesta\n",
       "57    Los medios y recursos del sistema educativo in...\n",
       "Name: E-Q1_add_D-Q1a_P, dtype: object"
      ]
     },
     "execution_count": 138,
     "metadata": {},
     "output_type": "execute_result"
    }
   ],
   "source": [
    "Daten[Daten['E-Q1_add_D-Q1a_P'] != 0]['E-Q1_add_D-Q1a_P']"
   ]
  },
  {
   "cell_type": "code",
   "execution_count": 139,
   "metadata": {},
   "outputs": [
    {
     "data": {
      "text/plain": [
       "'Bajo mi punto de vista, debo agradecer haber podido rellenar esta encuesta puesto que me ha dado a conocer diferentes métodos para conocer la lengua alemana con más profundidad. Gran trabajo. Espero que le sirva de ayuda mi encuesta. '"
      ]
     },
     "execution_count": 139,
     "metadata": {},
     "output_type": "execute_result"
    }
   ],
   "source": [
    "Daten['E-Q1_add_D-Q1a_P'][11]"
   ]
  },
  {
   "cell_type": "code",
   "execution_count": 140,
   "metadata": {},
   "outputs": [
    {
     "data": {
      "text/plain": [
       "'Me ha molado la encuesta ;). De hecho pienso que hay que darle m?s importancia a dichas estrategias. Gracias.'"
      ]
     },
     "execution_count": 140,
     "metadata": {},
     "output_type": "execute_result"
    }
   ],
   "source": [
    "Daten['E-Q1_add_D-Q1a_P'][27]"
   ]
  },
  {
   "cell_type": "code",
   "execution_count": 141,
   "metadata": {},
   "outputs": [
    {
     "data": {
      "text/plain": [
       "'Para mí es importante la ayuda de mi compañeros de clase'"
      ]
     },
     "execution_count": 141,
     "metadata": {},
     "output_type": "execute_result"
    }
   ],
   "source": [
    "Daten['E-Q1_add_D-Q1a_P'][33]"
   ]
  },
  {
   "cell_type": "code",
   "execution_count": 142,
   "metadata": {},
   "outputs": [
    {
     "data": {
      "text/plain": [
       "'El alemán es mi segunda lengua materna, creo que estas estrategias se adquieren y se aplican de manera inconsciente en todos los idiomas, incluido el español.'"
      ]
     },
     "execution_count": 142,
     "metadata": {},
     "output_type": "execute_result"
    }
   ],
   "source": [
    "Daten['E-Q1_add_D-Q1a_P'][34]"
   ]
  },
  {
   "cell_type": "code",
   "execution_count": 143,
   "metadata": {},
   "outputs": [
    {
     "data": {
      "text/plain": [
       "'Los medios y recursos del sistema educativo influyen de manera inevitable en el desarrollo de Estrategias de Aprendizaje, su tratamiento y su explicación. '"
      ]
     },
     "execution_count": 143,
     "metadata": {},
     "output_type": "execute_result"
    }
   ],
   "source": [
    "Daten['E-Q1_add_D-Q1a_P'][57]"
   ]
  }
 ],
 "metadata": {
  "kernelspec": {
   "display_name": "Python 3",
   "language": "python",
   "name": "python3"
  },
  "language_info": {
   "codemirror_mode": {
    "name": "ipython",
    "version": 3
   },
   "file_extension": ".py",
   "mimetype": "text/x-python",
   "name": "python",
   "nbconvert_exporter": "python",
   "pygments_lexer": "ipython3",
   "version": "3.7.3"
  }
 },
 "nbformat": 4,
 "nbformat_minor": 2
}
