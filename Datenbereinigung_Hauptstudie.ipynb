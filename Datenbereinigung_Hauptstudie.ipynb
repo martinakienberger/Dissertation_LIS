{
 "cells": [
  {
   "cell_type": "code",
   "execution_count": 1,
   "metadata": {},
   "outputs": [
    {
     "name": "stdout",
     "output_type": "stream",
     "text": [
      "Populating the interactive namespace from numpy and matplotlib\n"
     ]
    }
   ],
   "source": [
    "import pandas as pd\n",
    "% pylab inline"
   ]
  },
  {
   "cell_type": "code",
   "execution_count": 28,
   "metadata": {},
   "outputs": [],
   "source": [
    "Rohdaten = pd.read_excel('D:\\Daten\\DISS\\Daten\\Estrategias_Estudiantes_Kienberger_2018N.xlsx')"
   ]
  },
  {
   "cell_type": "code",
   "execution_count": 29,
   "metadata": {},
   "outputs": [
    {
     "data": {
      "text/html": [
       "<div>\n",
       "<style>\n",
       "    .dataframe thead tr:only-child th {\n",
       "        text-align: right;\n",
       "    }\n",
       "\n",
       "    .dataframe thead th {\n",
       "        text-align: left;\n",
       "    }\n",
       "\n",
       "    .dataframe tbody tr th {\n",
       "        vertical-align: top;\n",
       "    }\n",
       "</style>\n",
       "<table border=\"1\" class=\"dataframe\">\n",
       "  <thead>\n",
       "    <tr style=\"text-align: right;\">\n",
       "      <th></th>\n",
       "      <th>StartDate</th>\n",
       "      <th>EndDate</th>\n",
       "      <th>Status</th>\n",
       "      <th>IPAddress</th>\n",
       "      <th>Progress</th>\n",
       "      <th>Duration (in seconds)</th>\n",
       "      <th>Finished</th>\n",
       "      <th>RecordedDate</th>\n",
       "      <th>ResponseId</th>\n",
       "      <th>RecipientLastName</th>\n",
       "      <th>...</th>\n",
       "      <th>D-Q8b21a</th>\n",
       "      <th>D-Q8b21a_7_TEXT</th>\n",
       "      <th>D-Q8b21b</th>\n",
       "      <th>D-Q8b21c</th>\n",
       "      <th>D-Q8b22a</th>\n",
       "      <th>D-Q8b22a_7_TEXT</th>\n",
       "      <th>D-Q8b22b</th>\n",
       "      <th>D-Q8b22c</th>\n",
       "      <th>D-Q9</th>\n",
       "      <th>E-Q1</th>\n",
       "    </tr>\n",
       "  </thead>\n",
       "  <tbody>\n",
       "    <tr>\n",
       "      <th>0</th>\n",
       "      <td>Start Date</td>\n",
       "      <td>End Date</td>\n",
       "      <td>Response Type</td>\n",
       "      <td>IP Address</td>\n",
       "      <td>Progress</td>\n",
       "      <td>Duration (in seconds)</td>\n",
       "      <td>Finished</td>\n",
       "      <td>Recorded Date</td>\n",
       "      <td>Response ID</td>\n",
       "      <td>Recipient Last Name</td>\n",
       "      <td>...</td>\n",
       "      <td>¿Cómo ha aprendido fundamentalmente latín? - S...</td>\n",
       "      <td>¿Cómo ha aprendido fundamentalmente latín? - O...</td>\n",
       "      <td>¿Durante cuántos años ha estudiado latín?</td>\n",
       "      <td>Comentarios (opcional):</td>\n",
       "      <td>¿Cómo ha aprendido fundamentalmente el o los d...</td>\n",
       "      <td>¿Cómo ha aprendido fundamentalmente el o los d...</td>\n",
       "      <td>¿Qué nivel ha alcanzado?</td>\n",
       "      <td>Comentarios (opcional):</td>\n",
       "      <td>¿Dónde ha rellenado esta encuesta?</td>\n",
       "      <td>Si lo desea, puede escribir un comentario y da...</td>\n",
       "    </tr>\n",
       "    <tr>\n",
       "      <th>1</th>\n",
       "      <td>{\"ImportId\":\"startDate\",\"timeZone\":\"America/De...</td>\n",
       "      <td>{\"ImportId\":\"endDate\",\"timeZone\":\"America/Denv...</td>\n",
       "      <td>{\"ImportId\":\"status\"}</td>\n",
       "      <td>{\"ImportId\":\"ipAddress\"}</td>\n",
       "      <td>{\"ImportId\":\"progress\"}</td>\n",
       "      <td>{\"ImportId\":\"duration\"}</td>\n",
       "      <td>{\"ImportId\":\"finished\"}</td>\n",
       "      <td>{\"ImportId\":\"recordedDate\",\"timeZone\":\"America...</td>\n",
       "      <td>{\"ImportId\":\"_recordId\"}</td>\n",
       "      <td>{\"ImportId\":\"recipientLastName\"}</td>\n",
       "      <td>...</td>\n",
       "      <td>{\"ImportId\":\"QID151\"}</td>\n",
       "      <td>{\"ImportId\":\"QID151_7_TEXT\"}</td>\n",
       "      <td>{\"ImportId\":\"QID152_TEXT\"}</td>\n",
       "      <td>{\"ImportId\":\"QID153_TEXT\"}</td>\n",
       "      <td>{\"ImportId\":\"QID89\"}</td>\n",
       "      <td>{\"ImportId\":\"QID89_7_TEXT\"}</td>\n",
       "      <td>{\"ImportId\":\"QID168\"}</td>\n",
       "      <td>{\"ImportId\":\"QID169_TEXT\"}</td>\n",
       "      <td>{\"ImportId\":\"QID96\"}</td>\n",
       "      <td>{\"ImportId\":\"QID94_TEXT\"}</td>\n",
       "    </tr>\n",
       "    <tr>\n",
       "      <th>2</th>\n",
       "      <td>2018-02-06 09:33:28</td>\n",
       "      <td>2018-02-06 09:39:02</td>\n",
       "      <td>1</td>\n",
       "      <td>NaN</td>\n",
       "      <td>100</td>\n",
       "      <td>333</td>\n",
       "      <td>1</td>\n",
       "      <td>2018-02-06 09:39:03</td>\n",
       "      <td>R_3QJg8ACLGHcD7MF</td>\n",
       "      <td>NaN</td>\n",
       "      <td>...</td>\n",
       "      <td>NaN</td>\n",
       "      <td>NaN</td>\n",
       "      <td>NaN</td>\n",
       "      <td>NaN</td>\n",
       "      <td>NaN</td>\n",
       "      <td>NaN</td>\n",
       "      <td>NaN</td>\n",
       "      <td>NaN</td>\n",
       "      <td>2</td>\n",
       "      <td>NaN</td>\n",
       "    </tr>\n",
       "    <tr>\n",
       "      <th>3</th>\n",
       "      <td>2018-02-07 13:36:43</td>\n",
       "      <td>2018-02-07 13:50:01</td>\n",
       "      <td>0</td>\n",
       "      <td>83.47.61.251</td>\n",
       "      <td>100</td>\n",
       "      <td>797</td>\n",
       "      <td>1</td>\n",
       "      <td>2018-02-07 13:50:03</td>\n",
       "      <td>R_30ugRXCZSq8xMsk</td>\n",
       "      <td>NaN</td>\n",
       "      <td>...</td>\n",
       "      <td>NaN</td>\n",
       "      <td>NaN</td>\n",
       "      <td>NaN</td>\n",
       "      <td>NaN</td>\n",
       "      <td>NaN</td>\n",
       "      <td>NaN</td>\n",
       "      <td>NaN</td>\n",
       "      <td>NaN</td>\n",
       "      <td>2</td>\n",
       "      <td>NaN</td>\n",
       "    </tr>\n",
       "  </tbody>\n",
       "</table>\n",
       "<p>4 rows × 210 columns</p>\n",
       "</div>"
      ],
      "text/plain": [
       "                                           StartDate  \\\n",
       "0                                         Start Date   \n",
       "1  {\"ImportId\":\"startDate\",\"timeZone\":\"America/De...   \n",
       "2                                2018-02-06 09:33:28   \n",
       "3                                2018-02-07 13:36:43   \n",
       "\n",
       "                                             EndDate                 Status  \\\n",
       "0                                           End Date          Response Type   \n",
       "1  {\"ImportId\":\"endDate\",\"timeZone\":\"America/Denv...  {\"ImportId\":\"status\"}   \n",
       "2                                2018-02-06 09:39:02                      1   \n",
       "3                                2018-02-07 13:50:01                      0   \n",
       "\n",
       "                  IPAddress                 Progress    Duration (in seconds)  \\\n",
       "0                IP Address                 Progress    Duration (in seconds)   \n",
       "1  {\"ImportId\":\"ipAddress\"}  {\"ImportId\":\"progress\"}  {\"ImportId\":\"duration\"}   \n",
       "2                       NaN                      100                      333   \n",
       "3              83.47.61.251                      100                      797   \n",
       "\n",
       "                  Finished                                       RecordedDate  \\\n",
       "0                 Finished                                      Recorded Date   \n",
       "1  {\"ImportId\":\"finished\"}  {\"ImportId\":\"recordedDate\",\"timeZone\":\"America...   \n",
       "2                        1                                2018-02-06 09:39:03   \n",
       "3                        1                                2018-02-07 13:50:03   \n",
       "\n",
       "                 ResponseId                 RecipientLastName  \\\n",
       "0               Response ID               Recipient Last Name   \n",
       "1  {\"ImportId\":\"_recordId\"}  {\"ImportId\":\"recipientLastName\"}   \n",
       "2         R_3QJg8ACLGHcD7MF                               NaN   \n",
       "3         R_30ugRXCZSq8xMsk                               NaN   \n",
       "\n",
       "                         ...                          \\\n",
       "0                        ...                           \n",
       "1                        ...                           \n",
       "2                        ...                           \n",
       "3                        ...                           \n",
       "\n",
       "                                            D-Q8b21a  \\\n",
       "0  ¿Cómo ha aprendido fundamentalmente latín? - S...   \n",
       "1                              {\"ImportId\":\"QID151\"}   \n",
       "2                                                NaN   \n",
       "3                                                NaN   \n",
       "\n",
       "                                     D-Q8b21a_7_TEXT  \\\n",
       "0  ¿Cómo ha aprendido fundamentalmente latín? - O...   \n",
       "1                       {\"ImportId\":\"QID151_7_TEXT\"}   \n",
       "2                                                NaN   \n",
       "3                                                NaN   \n",
       "\n",
       "                                    D-Q8b21b                    D-Q8b21c  \\\n",
       "0  ¿Durante cuántos años ha estudiado latín?     Comentarios (opcional):   \n",
       "1                 {\"ImportId\":\"QID152_TEXT\"}  {\"ImportId\":\"QID153_TEXT\"}   \n",
       "2                                        NaN                         NaN   \n",
       "3                                        NaN                         NaN   \n",
       "\n",
       "                                            D-Q8b22a  \\\n",
       "0  ¿Cómo ha aprendido fundamentalmente el o los d...   \n",
       "1                               {\"ImportId\":\"QID89\"}   \n",
       "2                                                NaN   \n",
       "3                                                NaN   \n",
       "\n",
       "                                     D-Q8b22a_7_TEXT  \\\n",
       "0  ¿Cómo ha aprendido fundamentalmente el o los d...   \n",
       "1                        {\"ImportId\":\"QID89_7_TEXT\"}   \n",
       "2                                                NaN   \n",
       "3                                                NaN   \n",
       "\n",
       "                   D-Q8b22b                    D-Q8b22c  \\\n",
       "0  ¿Qué nivel ha alcanzado?     Comentarios (opcional):   \n",
       "1     {\"ImportId\":\"QID168\"}  {\"ImportId\":\"QID169_TEXT\"}   \n",
       "2                       NaN                         NaN   \n",
       "3                       NaN                         NaN   \n",
       "\n",
       "                                 D-Q9  \\\n",
       "0  ¿Dónde ha rellenado esta encuesta?   \n",
       "1                {\"ImportId\":\"QID96\"}   \n",
       "2                                   2   \n",
       "3                                   2   \n",
       "\n",
       "                                                E-Q1  \n",
       "0  Si lo desea, puede escribir un comentario y da...  \n",
       "1                          {\"ImportId\":\"QID94_TEXT\"}  \n",
       "2                                                NaN  \n",
       "3                                                NaN  \n",
       "\n",
       "[4 rows x 210 columns]"
      ]
     },
     "execution_count": 29,
     "metadata": {},
     "output_type": "execute_result"
    }
   ],
   "source": [
    "Rohdaten.head(4)"
   ]
  },
  {
   "cell_type": "markdown",
   "metadata": {},
   "source": [
    "### Glossar erstellen"
   ]
  },
  {
   "cell_type": "code",
   "execution_count": 30,
   "metadata": {
    "scrolled": true
   },
   "outputs": [],
   "source": [
    "gloss = pd.DataFrame(Rohdaten.loc[0])"
   ]
  },
  {
   "cell_type": "code",
   "execution_count": 31,
   "metadata": {},
   "outputs": [
    {
     "data": {
      "text/html": [
       "<div>\n",
       "<style>\n",
       "    .dataframe thead tr:only-child th {\n",
       "        text-align: right;\n",
       "    }\n",
       "\n",
       "    .dataframe thead th {\n",
       "        text-align: left;\n",
       "    }\n",
       "\n",
       "    .dataframe tbody tr th {\n",
       "        vertical-align: top;\n",
       "    }\n",
       "</style>\n",
       "<table border=\"1\" class=\"dataframe\">\n",
       "  <thead>\n",
       "    <tr style=\"text-align: right;\">\n",
       "      <th></th>\n",
       "      <th>StartDate</th>\n",
       "      <th>EndDate</th>\n",
       "      <th>Status</th>\n",
       "      <th>IPAddress</th>\n",
       "      <th>Progress</th>\n",
       "      <th>Duration (in seconds)</th>\n",
       "      <th>Finished</th>\n",
       "      <th>RecordedDate</th>\n",
       "      <th>ResponseId</th>\n",
       "      <th>RecipientLastName</th>\n",
       "      <th>...</th>\n",
       "      <th>D-Q8b21a</th>\n",
       "      <th>D-Q8b21a_7_TEXT</th>\n",
       "      <th>D-Q8b21b</th>\n",
       "      <th>D-Q8b21c</th>\n",
       "      <th>D-Q8b22a</th>\n",
       "      <th>D-Q8b22a_7_TEXT</th>\n",
       "      <th>D-Q8b22b</th>\n",
       "      <th>D-Q8b22c</th>\n",
       "      <th>D-Q9</th>\n",
       "      <th>E-Q1</th>\n",
       "    </tr>\n",
       "  </thead>\n",
       "  <tbody>\n",
       "    <tr>\n",
       "      <th>0</th>\n",
       "      <td>Start Date</td>\n",
       "      <td>End Date</td>\n",
       "      <td>Response Type</td>\n",
       "      <td>IP Address</td>\n",
       "      <td>Progress</td>\n",
       "      <td>Duration (in seconds)</td>\n",
       "      <td>Finished</td>\n",
       "      <td>Recorded Date</td>\n",
       "      <td>Response ID</td>\n",
       "      <td>Recipient Last Name</td>\n",
       "      <td>...</td>\n",
       "      <td>¿Cómo ha aprendido fundamentalmente latín? - S...</td>\n",
       "      <td>¿Cómo ha aprendido fundamentalmente latín? - O...</td>\n",
       "      <td>¿Durante cuántos años ha estudiado latín?</td>\n",
       "      <td>Comentarios (opcional):</td>\n",
       "      <td>¿Cómo ha aprendido fundamentalmente el o los d...</td>\n",
       "      <td>¿Cómo ha aprendido fundamentalmente el o los d...</td>\n",
       "      <td>¿Qué nivel ha alcanzado?</td>\n",
       "      <td>Comentarios (opcional):</td>\n",
       "      <td>¿Dónde ha rellenado esta encuesta?</td>\n",
       "      <td>Si lo desea, puede escribir un comentario y da...</td>\n",
       "    </tr>\n",
       "    <tr>\n",
       "      <th>2</th>\n",
       "      <td>2018-02-06 09:33:28</td>\n",
       "      <td>2018-02-06 09:39:02</td>\n",
       "      <td>1</td>\n",
       "      <td>NaN</td>\n",
       "      <td>100</td>\n",
       "      <td>333</td>\n",
       "      <td>1</td>\n",
       "      <td>2018-02-06 09:39:03</td>\n",
       "      <td>R_3QJg8ACLGHcD7MF</td>\n",
       "      <td>NaN</td>\n",
       "      <td>...</td>\n",
       "      <td>NaN</td>\n",
       "      <td>NaN</td>\n",
       "      <td>NaN</td>\n",
       "      <td>NaN</td>\n",
       "      <td>NaN</td>\n",
       "      <td>NaN</td>\n",
       "      <td>NaN</td>\n",
       "      <td>NaN</td>\n",
       "      <td>2</td>\n",
       "      <td>NaN</td>\n",
       "    </tr>\n",
       "    <tr>\n",
       "      <th>3</th>\n",
       "      <td>2018-02-07 13:36:43</td>\n",
       "      <td>2018-02-07 13:50:01</td>\n",
       "      <td>0</td>\n",
       "      <td>83.47.61.251</td>\n",
       "      <td>100</td>\n",
       "      <td>797</td>\n",
       "      <td>1</td>\n",
       "      <td>2018-02-07 13:50:03</td>\n",
       "      <td>R_30ugRXCZSq8xMsk</td>\n",
       "      <td>NaN</td>\n",
       "      <td>...</td>\n",
       "      <td>NaN</td>\n",
       "      <td>NaN</td>\n",
       "      <td>NaN</td>\n",
       "      <td>NaN</td>\n",
       "      <td>NaN</td>\n",
       "      <td>NaN</td>\n",
       "      <td>NaN</td>\n",
       "      <td>NaN</td>\n",
       "      <td>2</td>\n",
       "      <td>NaN</td>\n",
       "    </tr>\n",
       "  </tbody>\n",
       "</table>\n",
       "<p>3 rows × 210 columns</p>\n",
       "</div>"
      ],
      "text/plain": [
       "             StartDate              EndDate         Status     IPAddress  \\\n",
       "0           Start Date             End Date  Response Type    IP Address   \n",
       "2  2018-02-06 09:33:28  2018-02-06 09:39:02              1           NaN   \n",
       "3  2018-02-07 13:36:43  2018-02-07 13:50:01              0  83.47.61.251   \n",
       "\n",
       "   Progress  Duration (in seconds)  Finished         RecordedDate  \\\n",
       "0  Progress  Duration (in seconds)  Finished        Recorded Date   \n",
       "2       100                    333         1  2018-02-06 09:39:03   \n",
       "3       100                    797         1  2018-02-07 13:50:03   \n",
       "\n",
       "          ResponseId    RecipientLastName  \\\n",
       "0        Response ID  Recipient Last Name   \n",
       "2  R_3QJg8ACLGHcD7MF                  NaN   \n",
       "3  R_30ugRXCZSq8xMsk                  NaN   \n",
       "\n",
       "                         ...                          \\\n",
       "0                        ...                           \n",
       "2                        ...                           \n",
       "3                        ...                           \n",
       "\n",
       "                                            D-Q8b21a  \\\n",
       "0  ¿Cómo ha aprendido fundamentalmente latín? - S...   \n",
       "2                                                NaN   \n",
       "3                                                NaN   \n",
       "\n",
       "                                     D-Q8b21a_7_TEXT  \\\n",
       "0  ¿Cómo ha aprendido fundamentalmente latín? - O...   \n",
       "2                                                NaN   \n",
       "3                                                NaN   \n",
       "\n",
       "                                    D-Q8b21b                 D-Q8b21c  \\\n",
       "0  ¿Durante cuántos años ha estudiado latín?  Comentarios (opcional):   \n",
       "2                                        NaN                      NaN   \n",
       "3                                        NaN                      NaN   \n",
       "\n",
       "                                            D-Q8b22a  \\\n",
       "0  ¿Cómo ha aprendido fundamentalmente el o los d...   \n",
       "2                                                NaN   \n",
       "3                                                NaN   \n",
       "\n",
       "                                     D-Q8b22a_7_TEXT  \\\n",
       "0  ¿Cómo ha aprendido fundamentalmente el o los d...   \n",
       "2                                                NaN   \n",
       "3                                                NaN   \n",
       "\n",
       "                   D-Q8b22b                 D-Q8b22c  \\\n",
       "0  ¿Qué nivel ha alcanzado?  Comentarios (opcional):   \n",
       "2                       NaN                      NaN   \n",
       "3                       NaN                      NaN   \n",
       "\n",
       "                                 D-Q9  \\\n",
       "0  ¿Dónde ha rellenado esta encuesta?   \n",
       "2                                   2   \n",
       "3                                   2   \n",
       "\n",
       "                                                E-Q1  \n",
       "0  Si lo desea, puede escribir un comentario y da...  \n",
       "2                                                NaN  \n",
       "3                                                NaN  \n",
       "\n",
       "[3 rows x 210 columns]"
      ]
     },
     "execution_count": 31,
     "metadata": {},
     "output_type": "execute_result"
    }
   ],
   "source": [
    "Rohdaten = Rohdaten.drop(1)\n",
    "Rohdaten.head(3)"
   ]
  },
  {
   "cell_type": "code",
   "execution_count": 32,
   "metadata": {},
   "outputs": [
    {
     "data": {
      "text/html": [
       "<div>\n",
       "<style>\n",
       "    .dataframe thead tr:only-child th {\n",
       "        text-align: right;\n",
       "    }\n",
       "\n",
       "    .dataframe thead th {\n",
       "        text-align: left;\n",
       "    }\n",
       "\n",
       "    .dataframe tbody tr th {\n",
       "        vertical-align: top;\n",
       "    }\n",
       "</style>\n",
       "<table border=\"1\" class=\"dataframe\">\n",
       "  <thead>\n",
       "    <tr style=\"text-align: right;\">\n",
       "      <th></th>\n",
       "      <th>StartDate</th>\n",
       "      <th>EndDate</th>\n",
       "      <th>Status</th>\n",
       "      <th>IPAddress</th>\n",
       "      <th>Progress</th>\n",
       "      <th>Duration (in seconds)</th>\n",
       "      <th>Finished</th>\n",
       "      <th>RecordedDate</th>\n",
       "      <th>ResponseId</th>\n",
       "      <th>RecipientLastName</th>\n",
       "      <th>...</th>\n",
       "      <th>D-Q8b21a</th>\n",
       "      <th>D-Q8b21a_7_TEXT</th>\n",
       "      <th>D-Q8b21b</th>\n",
       "      <th>D-Q8b21c</th>\n",
       "      <th>D-Q8b22a</th>\n",
       "      <th>D-Q8b22a_7_TEXT</th>\n",
       "      <th>D-Q8b22b</th>\n",
       "      <th>D-Q8b22c</th>\n",
       "      <th>D-Q9</th>\n",
       "      <th>E-Q1</th>\n",
       "    </tr>\n",
       "  </thead>\n",
       "  <tbody>\n",
       "    <tr>\n",
       "      <th>0</th>\n",
       "      <td>2018-02-06 09:33:28</td>\n",
       "      <td>2018-02-06 09:39:02</td>\n",
       "      <td>1</td>\n",
       "      <td>NaN</td>\n",
       "      <td>100</td>\n",
       "      <td>333</td>\n",
       "      <td>1</td>\n",
       "      <td>2018-02-06 09:39:03</td>\n",
       "      <td>R_3QJg8ACLGHcD7MF</td>\n",
       "      <td>NaN</td>\n",
       "      <td>...</td>\n",
       "      <td>NaN</td>\n",
       "      <td>NaN</td>\n",
       "      <td>NaN</td>\n",
       "      <td>NaN</td>\n",
       "      <td>NaN</td>\n",
       "      <td>NaN</td>\n",
       "      <td>NaN</td>\n",
       "      <td>NaN</td>\n",
       "      <td>2</td>\n",
       "      <td>NaN</td>\n",
       "    </tr>\n",
       "    <tr>\n",
       "      <th>1</th>\n",
       "      <td>2018-02-07 13:36:43</td>\n",
       "      <td>2018-02-07 13:50:01</td>\n",
       "      <td>0</td>\n",
       "      <td>83.47.61.251</td>\n",
       "      <td>100</td>\n",
       "      <td>797</td>\n",
       "      <td>1</td>\n",
       "      <td>2018-02-07 13:50:03</td>\n",
       "      <td>R_30ugRXCZSq8xMsk</td>\n",
       "      <td>NaN</td>\n",
       "      <td>...</td>\n",
       "      <td>NaN</td>\n",
       "      <td>NaN</td>\n",
       "      <td>NaN</td>\n",
       "      <td>NaN</td>\n",
       "      <td>NaN</td>\n",
       "      <td>NaN</td>\n",
       "      <td>NaN</td>\n",
       "      <td>NaN</td>\n",
       "      <td>2</td>\n",
       "      <td>NaN</td>\n",
       "    </tr>\n",
       "    <tr>\n",
       "      <th>2</th>\n",
       "      <td>2018-02-08 02:38:26</td>\n",
       "      <td>2018-02-08 03:09:12</td>\n",
       "      <td>0</td>\n",
       "      <td>84126137166</td>\n",
       "      <td>100</td>\n",
       "      <td>1845</td>\n",
       "      <td>1</td>\n",
       "      <td>2018-02-08 03:09:13</td>\n",
       "      <td>R_1eV2zm3mlcaUK2x</td>\n",
       "      <td>NaN</td>\n",
       "      <td>...</td>\n",
       "      <td>1.2</td>\n",
       "      <td>NaN</td>\n",
       "      <td>4</td>\n",
       "      <td>NaN</td>\n",
       "      <td>NaN</td>\n",
       "      <td>NaN</td>\n",
       "      <td>NaN</td>\n",
       "      <td>NaN</td>\n",
       "      <td>2</td>\n",
       "      <td>NaN</td>\n",
       "    </tr>\n",
       "  </tbody>\n",
       "</table>\n",
       "<p>3 rows × 210 columns</p>\n",
       "</div>"
      ],
      "text/plain": [
       "             StartDate              EndDate Status     IPAddress Progress  \\\n",
       "0  2018-02-06 09:33:28  2018-02-06 09:39:02      1           NaN      100   \n",
       "1  2018-02-07 13:36:43  2018-02-07 13:50:01      0  83.47.61.251      100   \n",
       "2  2018-02-08 02:38:26  2018-02-08 03:09:12      0   84126137166      100   \n",
       "\n",
       "  Duration (in seconds) Finished         RecordedDate         ResponseId  \\\n",
       "0                   333        1  2018-02-06 09:39:03  R_3QJg8ACLGHcD7MF   \n",
       "1                   797        1  2018-02-07 13:50:03  R_30ugRXCZSq8xMsk   \n",
       "2                  1845        1  2018-02-08 03:09:13  R_1eV2zm3mlcaUK2x   \n",
       "\n",
       "  RecipientLastName ...  D-Q8b21a D-Q8b21a_7_TEXT D-Q8b21b D-Q8b21c D-Q8b22a  \\\n",
       "0               NaN ...       NaN             NaN      NaN      NaN      NaN   \n",
       "1               NaN ...       NaN             NaN      NaN      NaN      NaN   \n",
       "2               NaN ...       1.2             NaN        4      NaN      NaN   \n",
       "\n",
       "  D-Q8b22a_7_TEXT D-Q8b22b D-Q8b22c D-Q9 E-Q1  \n",
       "0             NaN      NaN      NaN    2  NaN  \n",
       "1             NaN      NaN      NaN    2  NaN  \n",
       "2             NaN      NaN      NaN    2  NaN  \n",
       "\n",
       "[3 rows x 210 columns]"
      ]
     },
     "execution_count": 32,
     "metadata": {},
     "output_type": "execute_result"
    }
   ],
   "source": [
    "Rohdaten = Rohdaten.drop(0).reset_index(drop=True)\n",
    "Rohdaten.head(3)"
   ]
  },
  {
   "cell_type": "markdown",
   "metadata": {},
   "source": [
    "### Gültige Daten auswählen"
   ]
  },
  {
   "cell_type": "code",
   "execution_count": 33,
   "metadata": {},
   "outputs": [],
   "source": [
    "def get_name_gloss(word):\n",
    "    for i, val in enumerate(gloss[0]):\n",
    "        if word.lower() in str(val).lower():\n",
    "            return i, gloss.index[i]"
   ]
  },
  {
   "cell_type": "markdown",
   "metadata": {},
   "source": [
    "##### Fertig ausgefüllte Fragebögen:"
   ]
  },
  {
   "cell_type": "code",
   "execution_count": 34,
   "metadata": {},
   "outputs": [
    {
     "data": {
      "text/plain": [
       "(6, 'Finished')"
      ]
     },
     "execution_count": 34,
     "metadata": {},
     "output_type": "execute_result"
    }
   ],
   "source": [
    "get_name_gloss('finish')"
   ]
  },
  {
   "cell_type": "code",
   "execution_count": 37,
   "metadata": {},
   "outputs": [
    {
     "data": {
      "text/html": [
       "<div>\n",
       "<style>\n",
       "    .dataframe thead tr:only-child th {\n",
       "        text-align: right;\n",
       "    }\n",
       "\n",
       "    .dataframe thead th {\n",
       "        text-align: left;\n",
       "    }\n",
       "\n",
       "    .dataframe tbody tr th {\n",
       "        vertical-align: top;\n",
       "    }\n",
       "</style>\n",
       "<table border=\"1\" class=\"dataframe\">\n",
       "  <thead>\n",
       "    <tr style=\"text-align: right;\">\n",
       "      <th></th>\n",
       "      <th>StartDate</th>\n",
       "      <th>EndDate</th>\n",
       "      <th>Status</th>\n",
       "      <th>IPAddress</th>\n",
       "      <th>Progress</th>\n",
       "      <th>Duration (in seconds)</th>\n",
       "      <th>Finished</th>\n",
       "      <th>RecordedDate</th>\n",
       "      <th>ResponseId</th>\n",
       "      <th>RecipientLastName</th>\n",
       "      <th>...</th>\n",
       "      <th>D-Q8b21a</th>\n",
       "      <th>D-Q8b21a_7_TEXT</th>\n",
       "      <th>D-Q8b21b</th>\n",
       "      <th>D-Q8b21c</th>\n",
       "      <th>D-Q8b22a</th>\n",
       "      <th>D-Q8b22a_7_TEXT</th>\n",
       "      <th>D-Q8b22b</th>\n",
       "      <th>D-Q8b22c</th>\n",
       "      <th>D-Q9</th>\n",
       "      <th>E-Q1</th>\n",
       "    </tr>\n",
       "  </thead>\n",
       "  <tbody>\n",
       "    <tr>\n",
       "      <th>0</th>\n",
       "      <td>2018-02-06 09:33:28</td>\n",
       "      <td>2018-02-06 09:39:02</td>\n",
       "      <td>1</td>\n",
       "      <td>NaN</td>\n",
       "      <td>100</td>\n",
       "      <td>333</td>\n",
       "      <td>1</td>\n",
       "      <td>2018-02-06 09:39:03</td>\n",
       "      <td>R_3QJg8ACLGHcD7MF</td>\n",
       "      <td>NaN</td>\n",
       "      <td>...</td>\n",
       "      <td>NaN</td>\n",
       "      <td>NaN</td>\n",
       "      <td>NaN</td>\n",
       "      <td>NaN</td>\n",
       "      <td>NaN</td>\n",
       "      <td>NaN</td>\n",
       "      <td>NaN</td>\n",
       "      <td>NaN</td>\n",
       "      <td>2</td>\n",
       "      <td>NaN</td>\n",
       "    </tr>\n",
       "    <tr>\n",
       "      <th>1</th>\n",
       "      <td>2018-02-07 13:36:43</td>\n",
       "      <td>2018-02-07 13:50:01</td>\n",
       "      <td>0</td>\n",
       "      <td>83.47.61.251</td>\n",
       "      <td>100</td>\n",
       "      <td>797</td>\n",
       "      <td>1</td>\n",
       "      <td>2018-02-07 13:50:03</td>\n",
       "      <td>R_30ugRXCZSq8xMsk</td>\n",
       "      <td>NaN</td>\n",
       "      <td>...</td>\n",
       "      <td>NaN</td>\n",
       "      <td>NaN</td>\n",
       "      <td>NaN</td>\n",
       "      <td>NaN</td>\n",
       "      <td>NaN</td>\n",
       "      <td>NaN</td>\n",
       "      <td>NaN</td>\n",
       "      <td>NaN</td>\n",
       "      <td>2</td>\n",
       "      <td>NaN</td>\n",
       "    </tr>\n",
       "    <tr>\n",
       "      <th>2</th>\n",
       "      <td>2018-02-08 02:38:26</td>\n",
       "      <td>2018-02-08 03:09:12</td>\n",
       "      <td>0</td>\n",
       "      <td>84126137166</td>\n",
       "      <td>100</td>\n",
       "      <td>1845</td>\n",
       "      <td>1</td>\n",
       "      <td>2018-02-08 03:09:13</td>\n",
       "      <td>R_1eV2zm3mlcaUK2x</td>\n",
       "      <td>NaN</td>\n",
       "      <td>...</td>\n",
       "      <td>1.2</td>\n",
       "      <td>NaN</td>\n",
       "      <td>4</td>\n",
       "      <td>NaN</td>\n",
       "      <td>NaN</td>\n",
       "      <td>NaN</td>\n",
       "      <td>NaN</td>\n",
       "      <td>NaN</td>\n",
       "      <td>2</td>\n",
       "      <td>NaN</td>\n",
       "    </tr>\n",
       "  </tbody>\n",
       "</table>\n",
       "<p>3 rows × 210 columns</p>\n",
       "</div>"
      ],
      "text/plain": [
       "             StartDate              EndDate Status     IPAddress Progress  \\\n",
       "0  2018-02-06 09:33:28  2018-02-06 09:39:02      1           NaN      100   \n",
       "1  2018-02-07 13:36:43  2018-02-07 13:50:01      0  83.47.61.251      100   \n",
       "2  2018-02-08 02:38:26  2018-02-08 03:09:12      0   84126137166      100   \n",
       "\n",
       "  Duration (in seconds) Finished         RecordedDate         ResponseId  \\\n",
       "0                   333        1  2018-02-06 09:39:03  R_3QJg8ACLGHcD7MF   \n",
       "1                   797        1  2018-02-07 13:50:03  R_30ugRXCZSq8xMsk   \n",
       "2                  1845        1  2018-02-08 03:09:13  R_1eV2zm3mlcaUK2x   \n",
       "\n",
       "  RecipientLastName ...  D-Q8b21a D-Q8b21a_7_TEXT D-Q8b21b D-Q8b21c D-Q8b22a  \\\n",
       "0               NaN ...       NaN             NaN      NaN      NaN      NaN   \n",
       "1               NaN ...       NaN             NaN      NaN      NaN      NaN   \n",
       "2               NaN ...       1.2             NaN        4      NaN      NaN   \n",
       "\n",
       "  D-Q8b22a_7_TEXT D-Q8b22b D-Q8b22c D-Q9 E-Q1  \n",
       "0             NaN      NaN      NaN    2  NaN  \n",
       "1             NaN      NaN      NaN    2  NaN  \n",
       "2             NaN      NaN      NaN    2  NaN  \n",
       "\n",
       "[3 rows x 210 columns]"
      ]
     },
     "execution_count": 37,
     "metadata": {},
     "output_type": "execute_result"
    }
   ],
   "source": [
    "Finished = Rohdaten[Rohdaten['Finished'] == 1].reset_index(drop=True)\n",
    "Finished.head(3)"
   ]
  },
  {
   "cell_type": "markdown",
   "metadata": {},
   "source": [
    "##### Fragebögen mit fehlenden Werten ermitteln:"
   ]
  },
  {
   "cell_type": "code",
   "execution_count": 38,
   "metadata": {},
   "outputs": [],
   "source": [
    "def count_nan(row):\n",
    "    cnt = 0\n",
    "    for el in row:\n",
    "        if (str(el) == 'nan'):\n",
    "            cnt = cnt + 1\n",
    "    return cnt*100/len(row)"
   ]
  },
  {
   "cell_type": "code",
   "execution_count": 39,
   "metadata": {},
   "outputs": [],
   "source": [
    "porc_nan = []\n",
    "for i in range(Finished.shape[0]):\n",
    "    porc_nan.append(count_nan(Finished.loc[i]))"
   ]
  },
  {
   "cell_type": "code",
   "execution_count": 40,
   "metadata": {},
   "outputs": [],
   "source": [
    "Finished['porc_nan'] = porc_nan"
   ]
  },
  {
   "cell_type": "code",
   "execution_count": 41,
   "metadata": {},
   "outputs": [
    {
     "data": {
      "text/plain": [
       "<matplotlib.axes._subplots.AxesSubplot at 0xac87908>"
      ]
     },
     "execution_count": 41,
     "metadata": {},
     "output_type": "execute_result"
    },
    {
     "data": {
      "image/png": "[encoded data removed]",
      "text/plain": [
       "<matplotlib.figure.Figure at 0x84a8320>"
      ]
     },
     "metadata": {},
     "output_type": "display_data"
    }
   ],
   "source": [
    "Finished['porc_nan'].hist(bins=30)"
   ]
  },
  {
   "cell_type": "code",
   "execution_count": 42,
   "metadata": {},
   "outputs": [
    {
     "data": {
      "text/plain": [
       "Int64Index([0, 111], dtype='int64')"
      ]
     },
     "execution_count": 42,
     "metadata": {},
     "output_type": "execute_result"
    }
   ],
   "source": [
    "Finished[Finished['porc_nan'] > 62].index"
   ]
  },
  {
   "cell_type": "code",
   "execution_count": 44,
   "metadata": {},
   "outputs": [],
   "source": [
    "#Finished.loc[111]"
   ]
  },
  {
   "cell_type": "markdown",
   "metadata": {},
   "source": [
    "Der Fragbogen mit auffällig hohem Anteil an fehlenden Werten wurde überprüft, die Daten können verwendet werden."
   ]
  },
  {
   "cell_type": "markdown",
   "metadata": {},
   "source": [
    "##### Duplikate entfernen:"
   ]
  },
  {
   "cell_type": "code",
   "execution_count": 93,
   "metadata": {},
   "outputs": [],
   "source": [
    "ind_dup = []\n",
    "for j, wert in enumerate(Finished['A-Q1']):\n",
    "    if 'rellenad' in str(wert):\n",
    "        ind_dup.append(j)"
   ]
  },
  {
   "cell_type": "code",
   "execution_count": 94,
   "metadata": {},
   "outputs": [
    {
     "data": {
      "text/plain": [
       "[143, 144]"
      ]
     },
     "execution_count": 94,
     "metadata": {},
     "output_type": "execute_result"
    }
   ],
   "source": [
    "ind_dup"
   ]
  },
  {
   "cell_type": "markdown",
   "metadata": {},
   "source": [
    "Es handelt sich um zwei TN, die bereits an der Pilotstudie teilgenommen hatten, nun aber einen anderen Kurs besuchen. Die erhobenen Daten stellen somit keine Duplikate im eigentlichen Sinne dar."
   ]
  },
  {
   "cell_type": "code",
   "execution_count": 12,
   "metadata": {},
   "outputs": [],
   "source": [
    "#Datenber = Finished.drop(ind_dup).reset_index(drop=True)"
   ]
  },
  {
   "cell_type": "markdown",
   "metadata": {},
   "source": [
    "##### Teilweise ausgefüllte Fragebögen:"
   ]
  },
  {
   "cell_type": "code",
   "execution_count": 89,
   "metadata": {},
   "outputs": [],
   "source": [
    "#Rohdaten.loc[137]"
   ]
  },
  {
   "cell_type": "code",
   "execution_count": 76,
   "metadata": {},
   "outputs": [],
   "source": [
    "FinishedA3a = Rohdaten.loc[90]\n",
    "FinishedA3b = Rohdaten.loc[137]\n",
    "FinishedA3c = Rohdaten.loc[362]"
   ]
  },
  {
   "cell_type": "code",
   "execution_count": 77,
   "metadata": {},
   "outputs": [],
   "source": [
    "Finished1 = Finished.append(FinishedA3a)\n",
    "Finished1 = Finished1.append(FinishedA3b)\n",
    "Finished1 = Finished1.append(FinishedA3c)"
   ]
  },
  {
   "cell_type": "code",
   "execution_count": 78,
   "metadata": {},
   "outputs": [
    {
     "data": {
      "text/plain": [
       "(230, 211)"
      ]
     },
     "execution_count": 78,
     "metadata": {},
     "output_type": "execute_result"
    }
   ],
   "source": [
    "Finished.shape"
   ]
  },
  {
   "cell_type": "code",
   "execution_count": 79,
   "metadata": {},
   "outputs": [
    {
     "data": {
      "text/plain": [
       "(233, 211)"
      ]
     },
     "execution_count": 79,
     "metadata": {},
     "output_type": "execute_result"
    }
   ],
   "source": [
    "Finished1.shape"
   ]
  },
  {
   "cell_type": "code",
   "execution_count": 80,
   "metadata": {},
   "outputs": [],
   "source": [
    "Finished1 = Finished1.reset_index(drop=True)"
   ]
  },
  {
   "cell_type": "code",
   "execution_count": 90,
   "metadata": {},
   "outputs": [],
   "source": [
    "#Finished1.loc[231]"
   ]
  },
  {
   "cell_type": "code",
   "execution_count": 91,
   "metadata": {},
   "outputs": [],
   "source": [
    "FinishedA2 = Rohdaten.loc[208]\n",
    "Finished2 = Finished1.append(FinishedA2)\n",
    "Finished2 = Finished2.reset_index(drop=True)"
   ]
  },
  {
   "cell_type": "code",
   "execution_count": 92,
   "metadata": {},
   "outputs": [
    {
     "data": {
      "text/plain": [
       "(234, 211)"
      ]
     },
     "execution_count": 92,
     "metadata": {},
     "output_type": "execute_result"
    }
   ],
   "source": [
    "Finished2.shape"
   ]
  },
  {
   "cell_type": "code",
   "execution_count": 102,
   "metadata": {},
   "outputs": [],
   "source": [
    "Datenber = Finished2"
   ]
  },
  {
   "cell_type": "code",
   "execution_count": 113,
   "metadata": {},
   "outputs": [],
   "source": [
    "Datenber.to_pickle('D:\\Daten\\DISS\\Daten\\Estrategias_Estudiantes_2018_ber')"
   ]
  },
  {
   "cell_type": "code",
   "execution_count": 114,
   "metadata": {},
   "outputs": [],
   "source": [
    "Datenber.to_excel('D:\\Daten\\DISS\\Daten\\Estrategias_Estudiantes_Kienberger_2018_ber.xlsx',encoding='utf-16')"
   ]
  },
  {
   "cell_type": "code",
   "execution_count": 116,
   "metadata": {},
   "outputs": [],
   "source": [
    "Datenber.to_csv('D:\\Daten\\DISS\\Daten\\Estrategias_Estudiantes_Kienberger_2018_ber.csv',encoding='utf-16')"
   ]
  },
  {
   "cell_type": "code",
   "execution_count": 115,
   "metadata": {},
   "outputs": [],
   "source": [
    "gloss.to_pickle('D:\\Daten\\DISS\\Daten\\Gloss2018')"
   ]
  },
  {
   "cell_type": "markdown",
   "metadata": {},
   "source": [
    "### Art der Werte kontrollieren und anpassen"
   ]
  },
  {
   "cell_type": "markdown",
   "metadata": {},
   "source": [
    "Um Datentypen anzuzeigen:"
   ]
  },
  {
   "cell_type": "code",
   "execution_count": 103,
   "metadata": {},
   "outputs": [
    {
     "data": {
      "text/plain": [
       "StartDate                 object\n",
       "EndDate                   object\n",
       "Status                    object\n",
       "IPAddress                 object\n",
       "Progress                  object\n",
       "Duration (in seconds)     object\n",
       "Finished                  object\n",
       "RecordedDate              object\n",
       "ResponseId                object\n",
       "RecipientLastName         object\n",
       "RecipientFirstName        object\n",
       "RecipientEmail            object\n",
       "ExternalReference         object\n",
       "LocationLatitude          object\n",
       "LocationLongitude         object\n",
       "DistributionChannel       object\n",
       "UserLanguage              object\n",
       "A-Q1                      object\n",
       "A-Q2_A-Q2_1               object\n",
       "A-Q2_A-Q2_2               object\n",
       "A-Q2_A-Q2_3               object\n",
       "A-Q2_A-Q2_4               object\n",
       "A-Q2_A-Q2_5               object\n",
       "A-Q2_A-Q2_6               object\n",
       "A-Q2_A-Q2_7               object\n",
       "A-Q3_A-Q3_1               object\n",
       "A-Q3_A-Q3_2               object\n",
       "A-Q3_A-Q3_3               object\n",
       "A-Q3_A-Q3_3_TEXT          object\n",
       "A-Q3_A-Q3_4               object\n",
       "                          ...   \n",
       "D-Q8b16a_7_TEXT           object\n",
       "D-Q8b16b                  object\n",
       "D-Q8b16c                  object\n",
       "D-Q8b17a                  object\n",
       "D-Q8b17a_7_TEXT           object\n",
       "D-Q8b17b                  object\n",
       "D-Q8b17c                  object\n",
       "D-Q8b18a                  object\n",
       "D-Q8b18a_7_TEXT           object\n",
       "D-Q8b18b                  object\n",
       "D-Q8b18c                  object\n",
       "D-Q8b19a                  object\n",
       "D-Q8b19a_7_TEXT           object\n",
       "D-Q8b19b                  object\n",
       "D-Q8b19c                  object\n",
       "D-Q8b20a                  object\n",
       "D-Q8b20a_7_TEXT           object\n",
       "D-Q8b20b                  object\n",
       "D-Q8b20c                  object\n",
       "D-Q8b21a                  object\n",
       "D-Q8b21a_7_TEXT           object\n",
       "D-Q8b21b                  object\n",
       "D-Q8b21c                  object\n",
       "D-Q8b22a                  object\n",
       "D-Q8b22a_7_TEXT           object\n",
       "D-Q8b22b                  object\n",
       "D-Q8b22c                  object\n",
       "D-Q9                      object\n",
       "E-Q1                      object\n",
       "porc_nan                 float64\n",
       "Length: 211, dtype: object"
      ]
     },
     "execution_count": 103,
     "metadata": {},
     "output_type": "execute_result"
    }
   ],
   "source": [
    "Datenber.dtypes"
   ]
  },
  {
   "cell_type": "markdown",
   "metadata": {},
   "source": [
    "Auswahl der Spalten ohne Texteingabe:\n",
    "* wenn Wort \"comentario\" in der Beschreibung der Fragen vorkommt (Bezug auf Glossar!)\n",
    "* wenn Wort \"text\" in der Bezeichnung der Fragen=Spalten vorkommt (Bezug auf zuvor erstellte Liste)"
   ]
  },
  {
   "cell_type": "code",
   "execution_count": 111,
   "metadata": {},
   "outputs": [
    {
     "data": {
      "text/plain": [
       "'¿Cuál es su primera lengua extranjera?'"
      ]
     },
     "execution_count": 111,
     "metadata": {},
     "output_type": "execute_result"
    }
   ],
   "source": [
    "gloss.loc['D-Q8a1'][0]"
   ]
  },
  {
   "cell_type": "code",
   "execution_count": 105,
   "metadata": {},
   "outputs": [],
   "source": [
    "liste_ohne_komm = [ind for ind in gloss.index if 'comentario' not in str(gloss.loc[ind][0]).lower()]"
   ]
  },
  {
   "cell_type": "code",
   "execution_count": 106,
   "metadata": {},
   "outputs": [],
   "source": [
    "liste_num = [col for col in liste_ohne_komm if 'text' not in col.lower()]"
   ]
  },
  {
   "cell_type": "code",
   "execution_count": 107,
   "metadata": {},
   "outputs": [],
   "source": [
    "liste_fragen_num = [col for col in liste_num if 'Q' in col]\n",
    "liste_fragen_num = [col for col in liste_fragen_num if 'D-Q8a' not in col]\n",
    "liste_fragen_num = liste_fragen_num[1:]"
   ]
  },
  {
   "cell_type": "markdown",
   "metadata": {},
   "source": [
    "#### Als Text gelesene Werte in numerische Werte umwandeln"
   ]
  },
  {
   "cell_type": "markdown",
   "metadata": {},
   "source": [
    "!! Anderes Dateiformat !!"
   ]
  },
  {
   "cell_type": "code",
   "execution_count": 108,
   "metadata": {},
   "outputs": [],
   "source": [
    "def Werte_numm(s):\n",
    "    return pd.to_numeric(s)"
   ]
  },
  {
   "cell_type": "code",
   "execution_count": 109,
   "metadata": {},
   "outputs": [
    {
     "ename": "ValueError",
     "evalue": "Unable to parse string \"2,4,8,9\" at position 0",
     "output_type": "error",
     "traceback": [
      "\u001b[1;31m---------------------------------------------------------------------------\u001b[0m",
      "\u001b[1;31mValueError\u001b[0m                                Traceback (most recent call last)",
      "\u001b[1;32mpandas/_libs/src\\inference.pyx\u001b[0m in \u001b[0;36mpandas._libs.lib.maybe_convert_numeric\u001b[1;34m()\u001b[0m\n",
      "\u001b[1;31mValueError\u001b[0m: Unable to parse string \"2,4,8,9\"",
      "\nDuring handling of the above exception, another exception occurred:\n",
      "\u001b[1;31mValueError\u001b[0m                                Traceback (most recent call last)",
      "\u001b[1;32m<ipython-input-109-00084c75a06c>\u001b[0m in \u001b[0;36m<module>\u001b[1;34m()\u001b[0m\n\u001b[0;32m      1\u001b[0m \u001b[1;32mfor\u001b[0m \u001b[0mel\u001b[0m \u001b[1;32min\u001b[0m \u001b[0mliste_fragen_num\u001b[0m\u001b[1;33m:\u001b[0m\u001b[1;33m\u001b[0m\u001b[0m\n\u001b[1;32m----> 2\u001b[1;33m     \u001b[0mDatenber\u001b[0m\u001b[1;33m[\u001b[0m\u001b[0mel\u001b[0m\u001b[1;33m]\u001b[0m \u001b[1;33m=\u001b[0m \u001b[0mWerte_numm\u001b[0m\u001b[1;33m(\u001b[0m\u001b[0mDatenber\u001b[0m\u001b[1;33m[\u001b[0m\u001b[0mel\u001b[0m\u001b[1;33m]\u001b[0m\u001b[1;33m)\u001b[0m\u001b[1;33m\u001b[0m\u001b[0m\n\u001b[0m",
      "\u001b[1;32m<ipython-input-108-536ffc847ebc>\u001b[0m in \u001b[0;36mWerte_numm\u001b[1;34m(s)\u001b[0m\n\u001b[0;32m      1\u001b[0m \u001b[1;32mdef\u001b[0m \u001b[0mWerte_numm\u001b[0m\u001b[1;33m(\u001b[0m\u001b[0ms\u001b[0m\u001b[1;33m)\u001b[0m\u001b[1;33m:\u001b[0m\u001b[1;33m\u001b[0m\u001b[0m\n\u001b[1;32m----> 2\u001b[1;33m     \u001b[1;32mreturn\u001b[0m \u001b[0mpd\u001b[0m\u001b[1;33m.\u001b[0m\u001b[0mto_numeric\u001b[0m\u001b[1;33m(\u001b[0m\u001b[0ms\u001b[0m\u001b[1;33m)\u001b[0m\u001b[1;33m\u001b[0m\u001b[0m\n\u001b[0m",
      "\u001b[1;32m~\\Anaconda3\\lib\\site-packages\\pandas\\core\\tools\\numeric.py\u001b[0m in \u001b[0;36mto_numeric\u001b[1;34m(arg, errors, downcast)\u001b[0m\n\u001b[0;32m    124\u001b[0m             \u001b[0mcoerce_numeric\u001b[0m \u001b[1;33m=\u001b[0m \u001b[1;32mFalse\u001b[0m \u001b[1;32mif\u001b[0m \u001b[0merrors\u001b[0m \u001b[1;32min\u001b[0m \u001b[1;33m(\u001b[0m\u001b[1;34m'ignore'\u001b[0m\u001b[1;33m,\u001b[0m \u001b[1;34m'raise'\u001b[0m\u001b[1;33m)\u001b[0m \u001b[1;32melse\u001b[0m \u001b[1;32mTrue\u001b[0m\u001b[1;33m\u001b[0m\u001b[0m\n\u001b[0;32m    125\u001b[0m             values = lib.maybe_convert_numeric(values, set(),\n\u001b[1;32m--> 126\u001b[1;33m                                                coerce_numeric=coerce_numeric)\n\u001b[0m\u001b[0;32m    127\u001b[0m \u001b[1;33m\u001b[0m\u001b[0m\n\u001b[0;32m    128\u001b[0m     \u001b[1;32mexcept\u001b[0m \u001b[0mException\u001b[0m\u001b[1;33m:\u001b[0m\u001b[1;33m\u001b[0m\u001b[0m\n",
      "\u001b[1;32mpandas/_libs/src\\inference.pyx\u001b[0m in \u001b[0;36mpandas._libs.lib.maybe_convert_numeric\u001b[1;34m()\u001b[0m\n",
      "\u001b[1;31mValueError\u001b[0m: Unable to parse string \"2,4,8,9\" at position 0"
     ]
    }
   ],
   "source": [
    "for el in liste_fragen_num:\n",
    "    Datenber[el] = Werte_numm(Datenber[el])"
   ]
  },
  {
   "cell_type": "markdown",
   "metadata": {},
   "source": [
    "für alle Elemente (= Spalten) der Liste \"liste_fragen_num\" soll durchgeführt werden:\n",
    "\n",
    "Elemente der Spalten des Files Datenber in numerische Werte umwandeln (d. h. andere Spalten werden nicht umgewandelt)"
   ]
  },
  {
   "cell_type": "code",
   "execution_count": 112,
   "metadata": {},
   "outputs": [
    {
     "data": {
      "text/plain": [
       "StartDate                 object\n",
       "EndDate                   object\n",
       "Status                    object\n",
       "IPAddress                 object\n",
       "Progress                  object\n",
       "Duration (in seconds)     object\n",
       "Finished                  object\n",
       "RecordedDate              object\n",
       "ResponseId                object\n",
       "RecipientLastName         object\n",
       "RecipientFirstName        object\n",
       "RecipientEmail            object\n",
       "ExternalReference         object\n",
       "LocationLatitude          object\n",
       "LocationLongitude         object\n",
       "DistributionChannel       object\n",
       "UserLanguage              object\n",
       "A-Q1                      object\n",
       "A-Q2_A-Q2_1                int64\n",
       "A-Q2_A-Q2_2                int64\n",
       "A-Q2_A-Q2_3                int64\n",
       "A-Q2_A-Q2_4                int64\n",
       "A-Q2_A-Q2_5                int64\n",
       "A-Q2_A-Q2_6                int64\n",
       "A-Q2_A-Q2_7                int64\n",
       "A-Q3_A-Q3_1              float64\n",
       "A-Q3_A-Q3_2              float64\n",
       "A-Q3_A-Q3_3              float64\n",
       "A-Q3_A-Q3_3_TEXT          object\n",
       "A-Q3_A-Q3_4              float64\n",
       "                          ...   \n",
       "D-Q8b16a_7_TEXT           object\n",
       "D-Q8b16b                  object\n",
       "D-Q8b16c                  object\n",
       "D-Q8b17a                  object\n",
       "D-Q8b17a_7_TEXT           object\n",
       "D-Q8b17b                  object\n",
       "D-Q8b17c                  object\n",
       "D-Q8b18a                  object\n",
       "D-Q8b18a_7_TEXT           object\n",
       "D-Q8b18b                  object\n",
       "D-Q8b18c                  object\n",
       "D-Q8b19a                  object\n",
       "D-Q8b19a_7_TEXT           object\n",
       "D-Q8b19b                  object\n",
       "D-Q8b19c                  object\n",
       "D-Q8b20a                  object\n",
       "D-Q8b20a_7_TEXT           object\n",
       "D-Q8b20b                  object\n",
       "D-Q8b20c                  object\n",
       "D-Q8b21a                  object\n",
       "D-Q8b21a_7_TEXT           object\n",
       "D-Q8b21b                  object\n",
       "D-Q8b21c                  object\n",
       "D-Q8b22a                  object\n",
       "D-Q8b22a_7_TEXT           object\n",
       "D-Q8b22b                  object\n",
       "D-Q8b22c                  object\n",
       "D-Q9                      object\n",
       "E-Q1                      object\n",
       "porc_nan                 float64\n",
       "Length: 211, dtype: object"
      ]
     },
     "execution_count": 112,
     "metadata": {},
     "output_type": "execute_result"
    }
   ],
   "source": [
    "Datenber.dtypes"
   ]
  },
  {
   "cell_type": "markdown",
   "metadata": {},
   "source": [
    "### Bereinigte Daten in neuem CSV-File speichern"
   ]
  },
  {
   "cell_type": "code",
   "execution_count": 41,
   "metadata": {},
   "outputs": [],
   "source": [
    "#Datenber.to_pickle('D:\\Daten\\DISS\\Daten\\Estrategias_Estudiantes_ber')"
   ]
  },
  {
   "cell_type": "markdown",
   "metadata": {},
   "source": [
    "pickle = komprimiertes File (speziell in Python)"
   ]
  },
  {
   "cell_type": "code",
   "execution_count": 42,
   "metadata": {},
   "outputs": [],
   "source": [
    "#Datenber.to_csv('D:\\Daten\\DISS\\Daten\\Estrategias_Estudiantes_Kienberger_ber.csv',encoding='utf-16')"
   ]
  },
  {
   "cell_type": "markdown",
   "metadata": {},
   "source": [
    "encoding... = \"Schriftcode\" definieren, sonst wird File später falsch oder nicht geöffnet"
   ]
  },
  {
   "cell_type": "code",
   "execution_count": 43,
   "metadata": {},
   "outputs": [],
   "source": [
    "#gloss.to_pickle('D:\\Daten\\DISS\\Daten\\Gloss')"
   ]
  },
  {
   "cell_type": "markdown",
   "metadata": {},
   "source": [
    "### Datenformat mit Text"
   ]
  },
  {
   "cell_type": "code",
   "execution_count": 18,
   "metadata": {},
   "outputs": [],
   "source": [
    "#RohdatenT = pd.read_excel('D:\\Daten\\DISS\\Daten\\Estrategias_Estudiantes_Kienberger_2018T.xlsx')"
   ]
  },
  {
   "cell_type": "code",
   "execution_count": 26,
   "metadata": {},
   "outputs": [
    {
     "data": {
      "text/html": [
       "<div>\n",
       "<style>\n",
       "    .dataframe thead tr:only-child th {\n",
       "        text-align: right;\n",
       "    }\n",
       "\n",
       "    .dataframe thead th {\n",
       "        text-align: left;\n",
       "    }\n",
       "\n",
       "    .dataframe tbody tr th {\n",
       "        vertical-align: top;\n",
       "    }\n",
       "</style>\n",
       "<table border=\"1\" class=\"dataframe\">\n",
       "  <thead>\n",
       "    <tr style=\"text-align: right;\">\n",
       "      <th></th>\n",
       "      <th>StartDate</th>\n",
       "      <th>EndDate</th>\n",
       "      <th>Status</th>\n",
       "      <th>IPAddress</th>\n",
       "      <th>Progress</th>\n",
       "      <th>Duration (in seconds)</th>\n",
       "      <th>Finished</th>\n",
       "      <th>RecordedDate</th>\n",
       "      <th>ResponseId</th>\n",
       "      <th>RecipientLastName</th>\n",
       "      <th>...</th>\n",
       "      <th>D-Q8b21a</th>\n",
       "      <th>D-Q8b21a_7_TEXT</th>\n",
       "      <th>D-Q8b21b</th>\n",
       "      <th>D-Q8b21c</th>\n",
       "      <th>D-Q8b22a</th>\n",
       "      <th>D-Q8b22a_7_TEXT</th>\n",
       "      <th>D-Q8b22b</th>\n",
       "      <th>D-Q8b22c</th>\n",
       "      <th>D-Q9</th>\n",
       "      <th>E-Q1</th>\n",
       "    </tr>\n",
       "  </thead>\n",
       "  <tbody>\n",
       "    <tr>\n",
       "      <th>0</th>\n",
       "      <td>2018-02-06 09:33:28</td>\n",
       "      <td>2018-02-06 09:39:02</td>\n",
       "      <td>1</td>\n",
       "      <td>NaN</td>\n",
       "      <td>100</td>\n",
       "      <td>333</td>\n",
       "      <td>1</td>\n",
       "      <td>2018-02-06 09:39:03</td>\n",
       "      <td>R_3QJg8ACLGHcD7MF</td>\n",
       "      <td>NaN</td>\n",
       "      <td>...</td>\n",
       "      <td>NaN</td>\n",
       "      <td>NaN</td>\n",
       "      <td>NaN</td>\n",
       "      <td>NaN</td>\n",
       "      <td>NaN</td>\n",
       "      <td>NaN</td>\n",
       "      <td>NaN</td>\n",
       "      <td>NaN</td>\n",
       "      <td>2</td>\n",
       "      <td>NaN</td>\n",
       "    </tr>\n",
       "    <tr>\n",
       "      <th>1</th>\n",
       "      <td>2018-02-07 13:36:43</td>\n",
       "      <td>2018-02-07 13:50:01</td>\n",
       "      <td>0</td>\n",
       "      <td>83.47.61.251</td>\n",
       "      <td>100</td>\n",
       "      <td>797</td>\n",
       "      <td>1</td>\n",
       "      <td>2018-02-07 13:50:03</td>\n",
       "      <td>R_30ugRXCZSq8xMsk</td>\n",
       "      <td>NaN</td>\n",
       "      <td>...</td>\n",
       "      <td>NaN</td>\n",
       "      <td>NaN</td>\n",
       "      <td>NaN</td>\n",
       "      <td>NaN</td>\n",
       "      <td>NaN</td>\n",
       "      <td>NaN</td>\n",
       "      <td>NaN</td>\n",
       "      <td>NaN</td>\n",
       "      <td>2</td>\n",
       "      <td>NaN</td>\n",
       "    </tr>\n",
       "    <tr>\n",
       "      <th>2</th>\n",
       "      <td>2018-02-08 02:38:26</td>\n",
       "      <td>2018-02-08 03:09:12</td>\n",
       "      <td>0</td>\n",
       "      <td>84126137166</td>\n",
       "      <td>100</td>\n",
       "      <td>1845</td>\n",
       "      <td>1</td>\n",
       "      <td>2018-02-08 03:09:13</td>\n",
       "      <td>R_1eV2zm3mlcaUK2x</td>\n",
       "      <td>NaN</td>\n",
       "      <td>...</td>\n",
       "      <td>1.2</td>\n",
       "      <td>NaN</td>\n",
       "      <td>4</td>\n",
       "      <td>NaN</td>\n",
       "      <td>NaN</td>\n",
       "      <td>NaN</td>\n",
       "      <td>NaN</td>\n",
       "      <td>NaN</td>\n",
       "      <td>2</td>\n",
       "      <td>NaN</td>\n",
       "    </tr>\n",
       "  </tbody>\n",
       "</table>\n",
       "<p>3 rows × 210 columns</p>\n",
       "</div>"
      ],
      "text/plain": [
       "             StartDate              EndDate Status     IPAddress Progress  \\\n",
       "0  2018-02-06 09:33:28  2018-02-06 09:39:02      1           NaN      100   \n",
       "1  2018-02-07 13:36:43  2018-02-07 13:50:01      0  83.47.61.251      100   \n",
       "2  2018-02-08 02:38:26  2018-02-08 03:09:12      0   84126137166      100   \n",
       "\n",
       "  Duration (in seconds) Finished         RecordedDate         ResponseId  \\\n",
       "0                   333        1  2018-02-06 09:39:03  R_3QJg8ACLGHcD7MF   \n",
       "1                   797        1  2018-02-07 13:50:03  R_30ugRXCZSq8xMsk   \n",
       "2                  1845        1  2018-02-08 03:09:13  R_1eV2zm3mlcaUK2x   \n",
       "\n",
       "  RecipientLastName ...  D-Q8b21a D-Q8b21a_7_TEXT D-Q8b21b D-Q8b21c D-Q8b22a  \\\n",
       "0               NaN ...       NaN             NaN      NaN      NaN      NaN   \n",
       "1               NaN ...       NaN             NaN      NaN      NaN      NaN   \n",
       "2               NaN ...       1.2             NaN        4      NaN      NaN   \n",
       "\n",
       "  D-Q8b22a_7_TEXT D-Q8b22b D-Q8b22c D-Q9 E-Q1  \n",
       "0             NaN      NaN      NaN    2  NaN  \n",
       "1             NaN      NaN      NaN    2  NaN  \n",
       "2             NaN      NaN      NaN    2  NaN  \n",
       "\n",
       "[3 rows x 210 columns]"
      ]
     },
     "execution_count": 26,
     "metadata": {},
     "output_type": "execute_result"
    }
   ],
   "source": [
    "#Finished2 = RohdatenT[RohdatenT['Finished'] == 'True'].reset_index(drop=True)\n",
    "Finished2.head(3)"
   ]
  }
 ],
 "metadata": {
  "kernelspec": {
   "display_name": "Python 3",
   "language": "python",
   "name": "python3"
  },
  "language_info": {
   "codemirror_mode": {
    "name": "ipython",
    "version": 3
   },
   "file_extension": ".py",
   "mimetype": "text/x-python",
   "name": "python",
   "nbconvert_exporter": "python",
   "pygments_lexer": "ipython3",
   "version": "3.6.3"
  }
 },
 "nbformat": 4,
 "nbformat_minor": 2
}
