{
 "cells": [
  {
   "cell_type": "markdown",
   "metadata": {},
   "source": [
    "## Erschließungsstrategien für unbekannten Wortschatz von DaF-Lernenden an spanischen Universitäten - Hauptstudie 2018\n",
    "# Datenbereinigung der Lernendenbefragung\n"
   ]
  },
  {
   "cell_type": "markdown",
   "metadata": {},
   "source": [
    "#### Werkzeuge und Daten importieren"
   ]
  },
  {
   "cell_type": "code",
   "execution_count": 1,
   "metadata": {},
   "outputs": [
    {
     "name": "stdout",
     "output_type": "stream",
     "text": [
      "Populating the interactive namespace from numpy and matplotlib\n"
     ]
    }
   ],
   "source": [
    "import pandas as pd\n",
    "import numpy as np\n",
    "% pylab inline"
   ]
  },
  {
   "cell_type": "code",
   "execution_count": 2,
   "metadata": {},
   "outputs": [],
   "source": [
    "Rohdaten = pd.read_csv('D:\\Daten\\DISS\\Daten\\EstrategiasEstudiantesKienberger2018b.tsv', sep = '\\t', encoding='utf-16')"
   ]
  },
  {
   "cell_type": "code",
   "execution_count": 3,
   "metadata": {},
   "outputs": [
    {
     "data": {
      "text/html": [
       "<div>\n",
       "<style scoped>\n",
       "    .dataframe tbody tr th:only-of-type {\n",
       "        vertical-align: middle;\n",
       "    }\n",
       "\n",
       "    .dataframe tbody tr th {\n",
       "        vertical-align: top;\n",
       "    }\n",
       "\n",
       "    .dataframe thead th {\n",
       "        text-align: right;\n",
       "    }\n",
       "</style>\n",
       "<table border=\"1\" class=\"dataframe\">\n",
       "  <thead>\n",
       "    <tr style=\"text-align: right;\">\n",
       "      <th></th>\n",
       "      <th>StartDate</th>\n",
       "      <th>EndDate</th>\n",
       "      <th>Status</th>\n",
       "      <th>IPAddress</th>\n",
       "      <th>Progress</th>\n",
       "      <th>Duration (in seconds)</th>\n",
       "      <th>Finished</th>\n",
       "      <th>RecordedDate</th>\n",
       "      <th>ResponseId</th>\n",
       "      <th>RecipientLastName</th>\n",
       "      <th>...</th>\n",
       "      <th>D-Q8b21a</th>\n",
       "      <th>D-Q8b21a_7_TEXT</th>\n",
       "      <th>D-Q8b21b</th>\n",
       "      <th>D-Q8b21c</th>\n",
       "      <th>D-Q8b22a</th>\n",
       "      <th>D-Q8b22a_7_TEXT</th>\n",
       "      <th>D-Q8b22b</th>\n",
       "      <th>D-Q8b22c</th>\n",
       "      <th>D-Q9</th>\n",
       "      <th>E-Q1</th>\n",
       "    </tr>\n",
       "  </thead>\n",
       "  <tbody>\n",
       "    <tr>\n",
       "      <th>0</th>\n",
       "      <td>Start Date</td>\n",
       "      <td>End Date</td>\n",
       "      <td>Response Type</td>\n",
       "      <td>IP Address</td>\n",
       "      <td>Progress</td>\n",
       "      <td>Duration (in seconds)</td>\n",
       "      <td>Finished</td>\n",
       "      <td>Recorded Date</td>\n",
       "      <td>Response ID</td>\n",
       "      <td>Recipient Last Name</td>\n",
       "      <td>...</td>\n",
       "      <td>¿Cómo ha aprendido fundamentalmente latín? - S...</td>\n",
       "      <td>¿Cómo ha aprendido fundamentalmente latín? - O...</td>\n",
       "      <td>¿Durante cuántos años ha estudiado latín?</td>\n",
       "      <td>Comentarios (opcional):</td>\n",
       "      <td>¿Cómo ha aprendido fundamentalmente el o los d...</td>\n",
       "      <td>¿Cómo ha aprendido fundamentalmente el o los d...</td>\n",
       "      <td>¿Qué nivel ha alcanzado?</td>\n",
       "      <td>Comentarios (opcional):</td>\n",
       "      <td>¿Dónde ha rellenado esta encuesta?</td>\n",
       "      <td>Si lo desea, puede escribir un comentario y da...</td>\n",
       "    </tr>\n",
       "    <tr>\n",
       "      <th>1</th>\n",
       "      <td>{\"ImportId\":\"startDate\",\"timeZone\":\"America/De...</td>\n",
       "      <td>{\"ImportId\":\"endDate\",\"timeZone\":\"America/Denv...</td>\n",
       "      <td>{\"ImportId\":\"status\"}</td>\n",
       "      <td>{\"ImportId\":\"ipAddress\"}</td>\n",
       "      <td>{\"ImportId\":\"progress\"}</td>\n",
       "      <td>{\"ImportId\":\"duration\"}</td>\n",
       "      <td>{\"ImportId\":\"finished\"}</td>\n",
       "      <td>{\"ImportId\":\"recordedDate\",\"timeZone\":\"America...</td>\n",
       "      <td>{\"ImportId\":\"_recordId\"}</td>\n",
       "      <td>{\"ImportId\":\"recipientLastName\"}</td>\n",
       "      <td>...</td>\n",
       "      <td>{\"ImportId\":\"QID151\"}</td>\n",
       "      <td>{\"ImportId\":\"QID151_7_TEXT\"}</td>\n",
       "      <td>{\"ImportId\":\"QID152_TEXT\"}</td>\n",
       "      <td>{\"ImportId\":\"QID153_TEXT\"}</td>\n",
       "      <td>{\"ImportId\":\"QID89\"}</td>\n",
       "      <td>{\"ImportId\":\"QID89_7_TEXT\"}</td>\n",
       "      <td>{\"ImportId\":\"QID168\"}</td>\n",
       "      <td>{\"ImportId\":\"QID169_TEXT\"}</td>\n",
       "      <td>{\"ImportId\":\"QID96\"}</td>\n",
       "      <td>{\"ImportId\":\"QID94_TEXT\"}</td>\n",
       "    </tr>\n",
       "    <tr>\n",
       "      <th>2</th>\n",
       "      <td>2018-02-06 09:33:28</td>\n",
       "      <td>2018-02-06 09:39:02</td>\n",
       "      <td>1</td>\n",
       "      <td>NaN</td>\n",
       "      <td>100</td>\n",
       "      <td>333</td>\n",
       "      <td>1</td>\n",
       "      <td>2018-02-06 09:39:03</td>\n",
       "      <td>R_3QJg8ACLGHcD7MF</td>\n",
       "      <td>NaN</td>\n",
       "      <td>...</td>\n",
       "      <td>NaN</td>\n",
       "      <td>NaN</td>\n",
       "      <td>NaN</td>\n",
       "      <td>NaN</td>\n",
       "      <td>NaN</td>\n",
       "      <td>NaN</td>\n",
       "      <td>NaN</td>\n",
       "      <td>NaN</td>\n",
       "      <td>2</td>\n",
       "      <td>NaN</td>\n",
       "    </tr>\n",
       "    <tr>\n",
       "      <th>3</th>\n",
       "      <td>2018-02-07 13:36:43</td>\n",
       "      <td>2018-02-07 13:50:01</td>\n",
       "      <td>0</td>\n",
       "      <td>83.47.61.251</td>\n",
       "      <td>100</td>\n",
       "      <td>797</td>\n",
       "      <td>1</td>\n",
       "      <td>2018-02-07 13:50:03</td>\n",
       "      <td>R_30ugRXCZSq8xMsk</td>\n",
       "      <td>NaN</td>\n",
       "      <td>...</td>\n",
       "      <td>NaN</td>\n",
       "      <td>NaN</td>\n",
       "      <td>NaN</td>\n",
       "      <td>NaN</td>\n",
       "      <td>NaN</td>\n",
       "      <td>NaN</td>\n",
       "      <td>NaN</td>\n",
       "      <td>NaN</td>\n",
       "      <td>2</td>\n",
       "      <td>NaN</td>\n",
       "    </tr>\n",
       "  </tbody>\n",
       "</table>\n",
       "<p>4 rows × 210 columns</p>\n",
       "</div>"
      ],
      "text/plain": [
       "                                           StartDate  \\\n",
       "0                                         Start Date   \n",
       "1  {\"ImportId\":\"startDate\",\"timeZone\":\"America/De...   \n",
       "2                                2018-02-06 09:33:28   \n",
       "3                                2018-02-07 13:36:43   \n",
       "\n",
       "                                             EndDate                 Status  \\\n",
       "0                                           End Date          Response Type   \n",
       "1  {\"ImportId\":\"endDate\",\"timeZone\":\"America/Denv...  {\"ImportId\":\"status\"}   \n",
       "2                                2018-02-06 09:39:02                      1   \n",
       "3                                2018-02-07 13:50:01                      0   \n",
       "\n",
       "                  IPAddress                 Progress    Duration (in seconds)  \\\n",
       "0                IP Address                 Progress    Duration (in seconds)   \n",
       "1  {\"ImportId\":\"ipAddress\"}  {\"ImportId\":\"progress\"}  {\"ImportId\":\"duration\"}   \n",
       "2                       NaN                      100                      333   \n",
       "3              83.47.61.251                      100                      797   \n",
       "\n",
       "                  Finished                                       RecordedDate  \\\n",
       "0                 Finished                                      Recorded Date   \n",
       "1  {\"ImportId\":\"finished\"}  {\"ImportId\":\"recordedDate\",\"timeZone\":\"America...   \n",
       "2                        1                                2018-02-06 09:39:03   \n",
       "3                        1                                2018-02-07 13:50:03   \n",
       "\n",
       "                 ResponseId                 RecipientLastName  \\\n",
       "0               Response ID               Recipient Last Name   \n",
       "1  {\"ImportId\":\"_recordId\"}  {\"ImportId\":\"recipientLastName\"}   \n",
       "2         R_3QJg8ACLGHcD7MF                               NaN   \n",
       "3         R_30ugRXCZSq8xMsk                               NaN   \n",
       "\n",
       "                         ...                          \\\n",
       "0                        ...                           \n",
       "1                        ...                           \n",
       "2                        ...                           \n",
       "3                        ...                           \n",
       "\n",
       "                                            D-Q8b21a  \\\n",
       "0  ¿Cómo ha aprendido fundamentalmente latín? - S...   \n",
       "1                              {\"ImportId\":\"QID151\"}   \n",
       "2                                                NaN   \n",
       "3                                                NaN   \n",
       "\n",
       "                                     D-Q8b21a_7_TEXT  \\\n",
       "0  ¿Cómo ha aprendido fundamentalmente latín? - O...   \n",
       "1                       {\"ImportId\":\"QID151_7_TEXT\"}   \n",
       "2                                                NaN   \n",
       "3                                                NaN   \n",
       "\n",
       "                                    D-Q8b21b                    D-Q8b21c  \\\n",
       "0  ¿Durante cuántos años ha estudiado latín?     Comentarios (opcional):   \n",
       "1                 {\"ImportId\":\"QID152_TEXT\"}  {\"ImportId\":\"QID153_TEXT\"}   \n",
       "2                                        NaN                         NaN   \n",
       "3                                        NaN                         NaN   \n",
       "\n",
       "                                            D-Q8b22a  \\\n",
       "0  ¿Cómo ha aprendido fundamentalmente el o los d...   \n",
       "1                               {\"ImportId\":\"QID89\"}   \n",
       "2                                                NaN   \n",
       "3                                                NaN   \n",
       "\n",
       "                                     D-Q8b22a_7_TEXT  \\\n",
       "0  ¿Cómo ha aprendido fundamentalmente el o los d...   \n",
       "1                        {\"ImportId\":\"QID89_7_TEXT\"}   \n",
       "2                                                NaN   \n",
       "3                                                NaN   \n",
       "\n",
       "                   D-Q8b22b                    D-Q8b22c  \\\n",
       "0  ¿Qué nivel ha alcanzado?     Comentarios (opcional):   \n",
       "1     {\"ImportId\":\"QID168\"}  {\"ImportId\":\"QID169_TEXT\"}   \n",
       "2                       NaN                         NaN   \n",
       "3                       NaN                         NaN   \n",
       "\n",
       "                                 D-Q9  \\\n",
       "0  ¿Dónde ha rellenado esta encuesta?   \n",
       "1                {\"ImportId\":\"QID96\"}   \n",
       "2                                   2   \n",
       "3                                   2   \n",
       "\n",
       "                                                E-Q1  \n",
       "0  Si lo desea, puede escribir un comentario y da...  \n",
       "1                          {\"ImportId\":\"QID94_TEXT\"}  \n",
       "2                                                NaN  \n",
       "3                                                NaN  \n",
       "\n",
       "[4 rows x 210 columns]"
      ]
     },
     "execution_count": 3,
     "metadata": {},
     "output_type": "execute_result"
    }
   ],
   "source": [
    "Rohdaten.head(4)"
   ]
  },
  {
   "cell_type": "code",
   "execution_count": 4,
   "metadata": {},
   "outputs": [
    {
     "data": {
      "text/html": [
       "<div>\n",
       "<style scoped>\n",
       "    .dataframe tbody tr th:only-of-type {\n",
       "        vertical-align: middle;\n",
       "    }\n",
       "\n",
       "    .dataframe tbody tr th {\n",
       "        vertical-align: top;\n",
       "    }\n",
       "\n",
       "    .dataframe thead th {\n",
       "        text-align: right;\n",
       "    }\n",
       "</style>\n",
       "<table border=\"1\" class=\"dataframe\">\n",
       "  <thead>\n",
       "    <tr style=\"text-align: right;\">\n",
       "      <th></th>\n",
       "      <th>StartDate</th>\n",
       "      <th>EndDate</th>\n",
       "      <th>Status</th>\n",
       "      <th>IPAddress</th>\n",
       "      <th>Progress</th>\n",
       "      <th>Duration (in seconds)</th>\n",
       "      <th>Finished</th>\n",
       "      <th>RecordedDate</th>\n",
       "      <th>ResponseId</th>\n",
       "      <th>RecipientLastName</th>\n",
       "      <th>...</th>\n",
       "      <th>D-Q8b21a</th>\n",
       "      <th>D-Q8b21a_7_TEXT</th>\n",
       "      <th>D-Q8b21b</th>\n",
       "      <th>D-Q8b21c</th>\n",
       "      <th>D-Q8b22a</th>\n",
       "      <th>D-Q8b22a_7_TEXT</th>\n",
       "      <th>D-Q8b22b</th>\n",
       "      <th>D-Q8b22c</th>\n",
       "      <th>D-Q9</th>\n",
       "      <th>E-Q1</th>\n",
       "    </tr>\n",
       "  </thead>\n",
       "  <tbody>\n",
       "    <tr>\n",
       "      <th>0</th>\n",
       "      <td>Start Date</td>\n",
       "      <td>End Date</td>\n",
       "      <td>Response Type</td>\n",
       "      <td>IP Address</td>\n",
       "      <td>Progress</td>\n",
       "      <td>Duration (in seconds)</td>\n",
       "      <td>Finished</td>\n",
       "      <td>Recorded Date</td>\n",
       "      <td>Response ID</td>\n",
       "      <td>Recipient Last Name</td>\n",
       "      <td>...</td>\n",
       "      <td>¿Cómo ha aprendido fundamentalmente latín? - S...</td>\n",
       "      <td>¿Cómo ha aprendido fundamentalmente latín? - O...</td>\n",
       "      <td>¿Durante cuántos años ha estudiado latín?</td>\n",
       "      <td>Comentarios (opcional):</td>\n",
       "      <td>¿Cómo ha aprendido fundamentalmente el o los d...</td>\n",
       "      <td>¿Cómo ha aprendido fundamentalmente el o los d...</td>\n",
       "      <td>¿Qué nivel ha alcanzado?</td>\n",
       "      <td>Comentarios (opcional):</td>\n",
       "      <td>¿Dónde ha rellenado esta encuesta?</td>\n",
       "      <td>Si lo desea, puede escribir un comentario y da...</td>\n",
       "    </tr>\n",
       "    <tr>\n",
       "      <th>2</th>\n",
       "      <td>2018-02-06 09:33:28</td>\n",
       "      <td>2018-02-06 09:39:02</td>\n",
       "      <td>1</td>\n",
       "      <td>NaN</td>\n",
       "      <td>100</td>\n",
       "      <td>333</td>\n",
       "      <td>1</td>\n",
       "      <td>2018-02-06 09:39:03</td>\n",
       "      <td>R_3QJg8ACLGHcD7MF</td>\n",
       "      <td>NaN</td>\n",
       "      <td>...</td>\n",
       "      <td>NaN</td>\n",
       "      <td>NaN</td>\n",
       "      <td>NaN</td>\n",
       "      <td>NaN</td>\n",
       "      <td>NaN</td>\n",
       "      <td>NaN</td>\n",
       "      <td>NaN</td>\n",
       "      <td>NaN</td>\n",
       "      <td>2</td>\n",
       "      <td>NaN</td>\n",
       "    </tr>\n",
       "    <tr>\n",
       "      <th>3</th>\n",
       "      <td>2018-02-07 13:36:43</td>\n",
       "      <td>2018-02-07 13:50:01</td>\n",
       "      <td>0</td>\n",
       "      <td>83.47.61.251</td>\n",
       "      <td>100</td>\n",
       "      <td>797</td>\n",
       "      <td>1</td>\n",
       "      <td>2018-02-07 13:50:03</td>\n",
       "      <td>R_30ugRXCZSq8xMsk</td>\n",
       "      <td>NaN</td>\n",
       "      <td>...</td>\n",
       "      <td>NaN</td>\n",
       "      <td>NaN</td>\n",
       "      <td>NaN</td>\n",
       "      <td>NaN</td>\n",
       "      <td>NaN</td>\n",
       "      <td>NaN</td>\n",
       "      <td>NaN</td>\n",
       "      <td>NaN</td>\n",
       "      <td>2</td>\n",
       "      <td>NaN</td>\n",
       "    </tr>\n",
       "  </tbody>\n",
       "</table>\n",
       "<p>3 rows × 210 columns</p>\n",
       "</div>"
      ],
      "text/plain": [
       "             StartDate              EndDate         Status     IPAddress  \\\n",
       "0           Start Date             End Date  Response Type    IP Address   \n",
       "2  2018-02-06 09:33:28  2018-02-06 09:39:02              1           NaN   \n",
       "3  2018-02-07 13:36:43  2018-02-07 13:50:01              0  83.47.61.251   \n",
       "\n",
       "   Progress  Duration (in seconds)  Finished         RecordedDate  \\\n",
       "0  Progress  Duration (in seconds)  Finished        Recorded Date   \n",
       "2       100                    333         1  2018-02-06 09:39:03   \n",
       "3       100                    797         1  2018-02-07 13:50:03   \n",
       "\n",
       "          ResponseId    RecipientLastName  \\\n",
       "0        Response ID  Recipient Last Name   \n",
       "2  R_3QJg8ACLGHcD7MF                  NaN   \n",
       "3  R_30ugRXCZSq8xMsk                  NaN   \n",
       "\n",
       "                         ...                          \\\n",
       "0                        ...                           \n",
       "2                        ...                           \n",
       "3                        ...                           \n",
       "\n",
       "                                            D-Q8b21a  \\\n",
       "0  ¿Cómo ha aprendido fundamentalmente latín? - S...   \n",
       "2                                                NaN   \n",
       "3                                                NaN   \n",
       "\n",
       "                                     D-Q8b21a_7_TEXT  \\\n",
       "0  ¿Cómo ha aprendido fundamentalmente latín? - O...   \n",
       "2                                                NaN   \n",
       "3                                                NaN   \n",
       "\n",
       "                                    D-Q8b21b                 D-Q8b21c  \\\n",
       "0  ¿Durante cuántos años ha estudiado latín?  Comentarios (opcional):   \n",
       "2                                        NaN                      NaN   \n",
       "3                                        NaN                      NaN   \n",
       "\n",
       "                                            D-Q8b22a  \\\n",
       "0  ¿Cómo ha aprendido fundamentalmente el o los d...   \n",
       "2                                                NaN   \n",
       "3                                                NaN   \n",
       "\n",
       "                                     D-Q8b22a_7_TEXT  \\\n",
       "0  ¿Cómo ha aprendido fundamentalmente el o los d...   \n",
       "2                                                NaN   \n",
       "3                                                NaN   \n",
       "\n",
       "                   D-Q8b22b                 D-Q8b22c  \\\n",
       "0  ¿Qué nivel ha alcanzado?  Comentarios (opcional):   \n",
       "2                       NaN                      NaN   \n",
       "3                       NaN                      NaN   \n",
       "\n",
       "                                 D-Q9  \\\n",
       "0  ¿Dónde ha rellenado esta encuesta?   \n",
       "2                                   2   \n",
       "3                                   2   \n",
       "\n",
       "                                                E-Q1  \n",
       "0  Si lo desea, puede escribir un comentario y da...  \n",
       "2                                                NaN  \n",
       "3                                                NaN  \n",
       "\n",
       "[3 rows x 210 columns]"
      ]
     },
     "execution_count": 4,
     "metadata": {},
     "output_type": "execute_result"
    }
   ],
   "source": [
    "Rohdaten = Rohdaten.drop(1)\n",
    "Rohdaten.head(3)"
   ]
  },
  {
   "cell_type": "markdown",
   "metadata": {},
   "source": [
    "#### Glossar erstellen"
   ]
  },
  {
   "cell_type": "code",
   "execution_count": 5,
   "metadata": {
    "scrolled": true
   },
   "outputs": [],
   "source": [
    "gloss = pd.DataFrame(Rohdaten.loc[0])"
   ]
  },
  {
   "cell_type": "code",
   "execution_count": 6,
   "metadata": {},
   "outputs": [],
   "source": [
    "def get_name_gloss(word):\n",
    "    for i, val in enumerate(gloss[0]):\n",
    "        if word.lower() in str(val).lower():\n",
    "            return i, gloss.index[i]"
   ]
  },
  {
   "cell_type": "code",
   "execution_count": 7,
   "metadata": {},
   "outputs": [
    {
     "data": {
      "text/html": [
       "<div>\n",
       "<style scoped>\n",
       "    .dataframe tbody tr th:only-of-type {\n",
       "        vertical-align: middle;\n",
       "    }\n",
       "\n",
       "    .dataframe tbody tr th {\n",
       "        vertical-align: top;\n",
       "    }\n",
       "\n",
       "    .dataframe thead th {\n",
       "        text-align: right;\n",
       "    }\n",
       "</style>\n",
       "<table border=\"1\" class=\"dataframe\">\n",
       "  <thead>\n",
       "    <tr style=\"text-align: right;\">\n",
       "      <th></th>\n",
       "      <th>StartDate</th>\n",
       "      <th>EndDate</th>\n",
       "      <th>Status</th>\n",
       "      <th>IPAddress</th>\n",
       "      <th>Progress</th>\n",
       "      <th>Duration (in seconds)</th>\n",
       "      <th>Finished</th>\n",
       "      <th>RecordedDate</th>\n",
       "      <th>ResponseId</th>\n",
       "      <th>RecipientLastName</th>\n",
       "      <th>...</th>\n",
       "      <th>D-Q8b21a</th>\n",
       "      <th>D-Q8b21a_7_TEXT</th>\n",
       "      <th>D-Q8b21b</th>\n",
       "      <th>D-Q8b21c</th>\n",
       "      <th>D-Q8b22a</th>\n",
       "      <th>D-Q8b22a_7_TEXT</th>\n",
       "      <th>D-Q8b22b</th>\n",
       "      <th>D-Q8b22c</th>\n",
       "      <th>D-Q9</th>\n",
       "      <th>E-Q1</th>\n",
       "    </tr>\n",
       "  </thead>\n",
       "  <tbody>\n",
       "    <tr>\n",
       "      <th>0</th>\n",
       "      <td>2018-02-06 09:33:28</td>\n",
       "      <td>2018-02-06 09:39:02</td>\n",
       "      <td>1</td>\n",
       "      <td>NaN</td>\n",
       "      <td>100</td>\n",
       "      <td>333</td>\n",
       "      <td>1</td>\n",
       "      <td>2018-02-06 09:39:03</td>\n",
       "      <td>R_3QJg8ACLGHcD7MF</td>\n",
       "      <td>NaN</td>\n",
       "      <td>...</td>\n",
       "      <td>NaN</td>\n",
       "      <td>NaN</td>\n",
       "      <td>NaN</td>\n",
       "      <td>NaN</td>\n",
       "      <td>NaN</td>\n",
       "      <td>NaN</td>\n",
       "      <td>NaN</td>\n",
       "      <td>NaN</td>\n",
       "      <td>2</td>\n",
       "      <td>NaN</td>\n",
       "    </tr>\n",
       "    <tr>\n",
       "      <th>1</th>\n",
       "      <td>2018-02-07 13:36:43</td>\n",
       "      <td>2018-02-07 13:50:01</td>\n",
       "      <td>0</td>\n",
       "      <td>83.47.61.251</td>\n",
       "      <td>100</td>\n",
       "      <td>797</td>\n",
       "      <td>1</td>\n",
       "      <td>2018-02-07 13:50:03</td>\n",
       "      <td>R_30ugRXCZSq8xMsk</td>\n",
       "      <td>NaN</td>\n",
       "      <td>...</td>\n",
       "      <td>NaN</td>\n",
       "      <td>NaN</td>\n",
       "      <td>NaN</td>\n",
       "      <td>NaN</td>\n",
       "      <td>NaN</td>\n",
       "      <td>NaN</td>\n",
       "      <td>NaN</td>\n",
       "      <td>NaN</td>\n",
       "      <td>2</td>\n",
       "      <td>NaN</td>\n",
       "    </tr>\n",
       "    <tr>\n",
       "      <th>2</th>\n",
       "      <td>2018-02-08 02:38:26</td>\n",
       "      <td>2018-02-08 03:09:12</td>\n",
       "      <td>0</td>\n",
       "      <td>84.126.137.166</td>\n",
       "      <td>100</td>\n",
       "      <td>1845</td>\n",
       "      <td>1</td>\n",
       "      <td>2018-02-08 03:09:13</td>\n",
       "      <td>R_1eV2zm3mlcaUK2x</td>\n",
       "      <td>NaN</td>\n",
       "      <td>...</td>\n",
       "      <td>1,2</td>\n",
       "      <td>NaN</td>\n",
       "      <td>4</td>\n",
       "      <td>NaN</td>\n",
       "      <td>NaN</td>\n",
       "      <td>NaN</td>\n",
       "      <td>NaN</td>\n",
       "      <td>NaN</td>\n",
       "      <td>2</td>\n",
       "      <td>NaN</td>\n",
       "    </tr>\n",
       "  </tbody>\n",
       "</table>\n",
       "<p>3 rows × 210 columns</p>\n",
       "</div>"
      ],
      "text/plain": [
       "             StartDate              EndDate Status       IPAddress Progress  \\\n",
       "0  2018-02-06 09:33:28  2018-02-06 09:39:02      1             NaN      100   \n",
       "1  2018-02-07 13:36:43  2018-02-07 13:50:01      0    83.47.61.251      100   \n",
       "2  2018-02-08 02:38:26  2018-02-08 03:09:12      0  84.126.137.166      100   \n",
       "\n",
       "  Duration (in seconds) Finished         RecordedDate         ResponseId  \\\n",
       "0                   333        1  2018-02-06 09:39:03  R_3QJg8ACLGHcD7MF   \n",
       "1                   797        1  2018-02-07 13:50:03  R_30ugRXCZSq8xMsk   \n",
       "2                  1845        1  2018-02-08 03:09:13  R_1eV2zm3mlcaUK2x   \n",
       "\n",
       "  RecipientLastName ...  D-Q8b21a D-Q8b21a_7_TEXT D-Q8b21b D-Q8b21c D-Q8b22a  \\\n",
       "0               NaN ...       NaN             NaN      NaN      NaN      NaN   \n",
       "1               NaN ...       NaN             NaN      NaN      NaN      NaN   \n",
       "2               NaN ...       1,2             NaN        4      NaN      NaN   \n",
       "\n",
       "  D-Q8b22a_7_TEXT D-Q8b22b D-Q8b22c D-Q9 E-Q1  \n",
       "0             NaN      NaN      NaN    2  NaN  \n",
       "1             NaN      NaN      NaN    2  NaN  \n",
       "2             NaN      NaN      NaN    2  NaN  \n",
       "\n",
       "[3 rows x 210 columns]"
      ]
     },
     "execution_count": 7,
     "metadata": {},
     "output_type": "execute_result"
    }
   ],
   "source": [
    "Rohdaten = Rohdaten.drop(0).reset_index(drop=True)\n",
    "Rohdaten.head(3)"
   ]
  },
  {
   "cell_type": "markdown",
   "metadata": {},
   "source": [
    "### Gültige Daten auswählen"
   ]
  },
  {
   "cell_type": "markdown",
   "metadata": {},
   "source": [
    "##### Tests entfernen:"
   ]
  },
  {
   "cell_type": "code",
   "execution_count": 8,
   "metadata": {},
   "outputs": [
    {
     "data": {
      "text/html": [
       "<div>\n",
       "<style scoped>\n",
       "    .dataframe tbody tr th:only-of-type {\n",
       "        vertical-align: middle;\n",
       "    }\n",
       "\n",
       "    .dataframe tbody tr th {\n",
       "        vertical-align: top;\n",
       "    }\n",
       "\n",
       "    .dataframe thead th {\n",
       "        text-align: right;\n",
       "    }\n",
       "</style>\n",
       "<table border=\"1\" class=\"dataframe\">\n",
       "  <thead>\n",
       "    <tr style=\"text-align: right;\">\n",
       "      <th></th>\n",
       "      <th>StartDate</th>\n",
       "      <th>EndDate</th>\n",
       "      <th>Status</th>\n",
       "      <th>IPAddress</th>\n",
       "      <th>Progress</th>\n",
       "      <th>Duration (in seconds)</th>\n",
       "      <th>Finished</th>\n",
       "      <th>RecordedDate</th>\n",
       "      <th>ResponseId</th>\n",
       "      <th>RecipientLastName</th>\n",
       "      <th>...</th>\n",
       "      <th>D-Q8b21a</th>\n",
       "      <th>D-Q8b21a_7_TEXT</th>\n",
       "      <th>D-Q8b21b</th>\n",
       "      <th>D-Q8b21c</th>\n",
       "      <th>D-Q8b22a</th>\n",
       "      <th>D-Q8b22a_7_TEXT</th>\n",
       "      <th>D-Q8b22b</th>\n",
       "      <th>D-Q8b22c</th>\n",
       "      <th>D-Q9</th>\n",
       "      <th>E-Q1</th>\n",
       "    </tr>\n",
       "  </thead>\n",
       "  <tbody>\n",
       "    <tr>\n",
       "      <th>0</th>\n",
       "      <td>2018-02-07 13:36:43</td>\n",
       "      <td>2018-02-07 13:50:01</td>\n",
       "      <td>0</td>\n",
       "      <td>83.47.61.251</td>\n",
       "      <td>100</td>\n",
       "      <td>797</td>\n",
       "      <td>1</td>\n",
       "      <td>2018-02-07 13:50:03</td>\n",
       "      <td>R_30ugRXCZSq8xMsk</td>\n",
       "      <td>NaN</td>\n",
       "      <td>...</td>\n",
       "      <td>NaN</td>\n",
       "      <td>NaN</td>\n",
       "      <td>NaN</td>\n",
       "      <td>NaN</td>\n",
       "      <td>NaN</td>\n",
       "      <td>NaN</td>\n",
       "      <td>NaN</td>\n",
       "      <td>NaN</td>\n",
       "      <td>2</td>\n",
       "      <td>NaN</td>\n",
       "    </tr>\n",
       "    <tr>\n",
       "      <th>1</th>\n",
       "      <td>2018-02-08 02:38:26</td>\n",
       "      <td>2018-02-08 03:09:12</td>\n",
       "      <td>0</td>\n",
       "      <td>84.126.137.166</td>\n",
       "      <td>100</td>\n",
       "      <td>1845</td>\n",
       "      <td>1</td>\n",
       "      <td>2018-02-08 03:09:13</td>\n",
       "      <td>R_1eV2zm3mlcaUK2x</td>\n",
       "      <td>NaN</td>\n",
       "      <td>...</td>\n",
       "      <td>1,2</td>\n",
       "      <td>NaN</td>\n",
       "      <td>4</td>\n",
       "      <td>NaN</td>\n",
       "      <td>NaN</td>\n",
       "      <td>NaN</td>\n",
       "      <td>NaN</td>\n",
       "      <td>NaN</td>\n",
       "      <td>2</td>\n",
       "      <td>NaN</td>\n",
       "    </tr>\n",
       "  </tbody>\n",
       "</table>\n",
       "<p>2 rows × 210 columns</p>\n",
       "</div>"
      ],
      "text/plain": [
       "             StartDate              EndDate Status       IPAddress Progress  \\\n",
       "0  2018-02-07 13:36:43  2018-02-07 13:50:01      0    83.47.61.251      100   \n",
       "1  2018-02-08 02:38:26  2018-02-08 03:09:12      0  84.126.137.166      100   \n",
       "\n",
       "  Duration (in seconds) Finished         RecordedDate         ResponseId  \\\n",
       "0                   797        1  2018-02-07 13:50:03  R_30ugRXCZSq8xMsk   \n",
       "1                  1845        1  2018-02-08 03:09:13  R_1eV2zm3mlcaUK2x   \n",
       "\n",
       "  RecipientLastName ...  D-Q8b21a D-Q8b21a_7_TEXT D-Q8b21b D-Q8b21c D-Q8b22a  \\\n",
       "0               NaN ...       NaN             NaN      NaN      NaN      NaN   \n",
       "1               NaN ...       1,2             NaN        4      NaN      NaN   \n",
       "\n",
       "  D-Q8b22a_7_TEXT D-Q8b22b D-Q8b22c D-Q9 E-Q1  \n",
       "0             NaN      NaN      NaN    2  NaN  \n",
       "1             NaN      NaN      NaN    2  NaN  \n",
       "\n",
       "[2 rows x 210 columns]"
      ]
     },
     "execution_count": 8,
     "metadata": {},
     "output_type": "execute_result"
    }
   ],
   "source": [
    "Daten = Rohdaten[Rohdaten['DistributionChannel'] != 'preview'].reset_index(drop=True)\n",
    "Daten.head(2)"
   ]
  },
  {
   "cell_type": "code",
   "execution_count": 9,
   "metadata": {},
   "outputs": [],
   "source": [
    "ind_test = []\n",
    "for j, wert in enumerate(Daten['A-Q1']):\n",
    "    if 'test' in str(wert):\n",
    "        ind_test.append(j)\n",
    "    if 'Test' in str(wert):\n",
    "        ind_test.append(j)"
   ]
  },
  {
   "cell_type": "code",
   "execution_count": 10,
   "metadata": {},
   "outputs": [
    {
     "data": {
      "text/plain": [
       "[13, 75, 82, 86, 156]"
      ]
     },
     "execution_count": 10,
     "metadata": {},
     "output_type": "execute_result"
    }
   ],
   "source": [
    "ind_test"
   ]
  },
  {
   "cell_type": "code",
   "execution_count": 11,
   "metadata": {},
   "outputs": [
    {
     "data": {
      "text/plain": [
       "'test'"
      ]
     },
     "execution_count": 11,
     "metadata": {},
     "output_type": "execute_result"
    }
   ],
   "source": [
    "Daten['A-Q1'].loc[86]"
   ]
  },
  {
   "cell_type": "markdown",
   "metadata": {},
   "source": [
    "Die ermittelten \"Test\"-Antworten müssen einzeln überprüft werden, um sicher zu stellen, dass das Wort \"Test\" nicht nur zufällig in Antwort A-Q1 enthalten war."
   ]
  },
  {
   "cell_type": "code",
   "execution_count": 12,
   "metadata": {},
   "outputs": [],
   "source": [
    "Daten = Daten.drop(ind_test).reset_index(drop=True)"
   ]
  },
  {
   "cell_type": "markdown",
   "metadata": {},
   "source": [
    "##### Fertig ausgefüllte Fragebögen:"
   ]
  },
  {
   "cell_type": "code",
   "execution_count": 13,
   "metadata": {},
   "outputs": [
    {
     "data": {
      "text/html": [
       "<div>\n",
       "<style scoped>\n",
       "    .dataframe tbody tr th:only-of-type {\n",
       "        vertical-align: middle;\n",
       "    }\n",
       "\n",
       "    .dataframe tbody tr th {\n",
       "        vertical-align: top;\n",
       "    }\n",
       "\n",
       "    .dataframe thead th {\n",
       "        text-align: right;\n",
       "    }\n",
       "</style>\n",
       "<table border=\"1\" class=\"dataframe\">\n",
       "  <thead>\n",
       "    <tr style=\"text-align: right;\">\n",
       "      <th></th>\n",
       "      <th>StartDate</th>\n",
       "      <th>EndDate</th>\n",
       "      <th>Status</th>\n",
       "      <th>IPAddress</th>\n",
       "      <th>Progress</th>\n",
       "      <th>Duration (in seconds)</th>\n",
       "      <th>Finished</th>\n",
       "      <th>RecordedDate</th>\n",
       "      <th>ResponseId</th>\n",
       "      <th>RecipientLastName</th>\n",
       "      <th>...</th>\n",
       "      <th>D-Q8b21a</th>\n",
       "      <th>D-Q8b21a_7_TEXT</th>\n",
       "      <th>D-Q8b21b</th>\n",
       "      <th>D-Q8b21c</th>\n",
       "      <th>D-Q8b22a</th>\n",
       "      <th>D-Q8b22a_7_TEXT</th>\n",
       "      <th>D-Q8b22b</th>\n",
       "      <th>D-Q8b22c</th>\n",
       "      <th>D-Q9</th>\n",
       "      <th>E-Q1</th>\n",
       "    </tr>\n",
       "  </thead>\n",
       "  <tbody>\n",
       "    <tr>\n",
       "      <th>0</th>\n",
       "      <td>2018-02-07 13:36:43</td>\n",
       "      <td>2018-02-07 13:50:01</td>\n",
       "      <td>0</td>\n",
       "      <td>83.47.61.251</td>\n",
       "      <td>100</td>\n",
       "      <td>797</td>\n",
       "      <td>1</td>\n",
       "      <td>2018-02-07 13:50:03</td>\n",
       "      <td>R_30ugRXCZSq8xMsk</td>\n",
       "      <td>NaN</td>\n",
       "      <td>...</td>\n",
       "      <td>NaN</td>\n",
       "      <td>NaN</td>\n",
       "      <td>NaN</td>\n",
       "      <td>NaN</td>\n",
       "      <td>NaN</td>\n",
       "      <td>NaN</td>\n",
       "      <td>NaN</td>\n",
       "      <td>NaN</td>\n",
       "      <td>2</td>\n",
       "      <td>NaN</td>\n",
       "    </tr>\n",
       "    <tr>\n",
       "      <th>1</th>\n",
       "      <td>2018-02-08 02:38:26</td>\n",
       "      <td>2018-02-08 03:09:12</td>\n",
       "      <td>0</td>\n",
       "      <td>84.126.137.166</td>\n",
       "      <td>100</td>\n",
       "      <td>1845</td>\n",
       "      <td>1</td>\n",
       "      <td>2018-02-08 03:09:13</td>\n",
       "      <td>R_1eV2zm3mlcaUK2x</td>\n",
       "      <td>NaN</td>\n",
       "      <td>...</td>\n",
       "      <td>1,2</td>\n",
       "      <td>NaN</td>\n",
       "      <td>4</td>\n",
       "      <td>NaN</td>\n",
       "      <td>NaN</td>\n",
       "      <td>NaN</td>\n",
       "      <td>NaN</td>\n",
       "      <td>NaN</td>\n",
       "      <td>2</td>\n",
       "      <td>NaN</td>\n",
       "    </tr>\n",
       "    <tr>\n",
       "      <th>2</th>\n",
       "      <td>2018-02-08 03:47:29</td>\n",
       "      <td>2018-02-08 04:05:38</td>\n",
       "      <td>0</td>\n",
       "      <td>79.109.193.215</td>\n",
       "      <td>100</td>\n",
       "      <td>1089</td>\n",
       "      <td>1</td>\n",
       "      <td>2018-02-08 04:05:39</td>\n",
       "      <td>R_czEmSnFHhfZOTL3</td>\n",
       "      <td>NaN</td>\n",
       "      <td>...</td>\n",
       "      <td>1</td>\n",
       "      <td>NaN</td>\n",
       "      <td>4</td>\n",
       "      <td>NaN</td>\n",
       "      <td>NaN</td>\n",
       "      <td>NaN</td>\n",
       "      <td>NaN</td>\n",
       "      <td>NaN</td>\n",
       "      <td>2</td>\n",
       "      <td>NaN</td>\n",
       "    </tr>\n",
       "  </tbody>\n",
       "</table>\n",
       "<p>3 rows × 210 columns</p>\n",
       "</div>"
      ],
      "text/plain": [
       "             StartDate              EndDate Status       IPAddress Progress  \\\n",
       "0  2018-02-07 13:36:43  2018-02-07 13:50:01      0    83.47.61.251      100   \n",
       "1  2018-02-08 02:38:26  2018-02-08 03:09:12      0  84.126.137.166      100   \n",
       "2  2018-02-08 03:47:29  2018-02-08 04:05:38      0  79.109.193.215      100   \n",
       "\n",
       "  Duration (in seconds) Finished         RecordedDate         ResponseId  \\\n",
       "0                   797        1  2018-02-07 13:50:03  R_30ugRXCZSq8xMsk   \n",
       "1                  1845        1  2018-02-08 03:09:13  R_1eV2zm3mlcaUK2x   \n",
       "2                  1089        1  2018-02-08 04:05:39  R_czEmSnFHhfZOTL3   \n",
       "\n",
       "  RecipientLastName ...  D-Q8b21a D-Q8b21a_7_TEXT D-Q8b21b D-Q8b21c D-Q8b22a  \\\n",
       "0               NaN ...       NaN             NaN      NaN      NaN      NaN   \n",
       "1               NaN ...       1,2             NaN        4      NaN      NaN   \n",
       "2               NaN ...         1             NaN        4      NaN      NaN   \n",
       "\n",
       "  D-Q8b22a_7_TEXT D-Q8b22b D-Q8b22c D-Q9 E-Q1  \n",
       "0             NaN      NaN      NaN    2  NaN  \n",
       "1             NaN      NaN      NaN    2  NaN  \n",
       "2             NaN      NaN      NaN    2  NaN  \n",
       "\n",
       "[3 rows x 210 columns]"
      ]
     },
     "execution_count": 13,
     "metadata": {},
     "output_type": "execute_result"
    }
   ],
   "source": [
    "Finished = Daten[Daten['Finished'] == '1'].reset_index(drop=True)\n",
    "Finished.head(3)"
   ]
  },
  {
   "cell_type": "markdown",
   "metadata": {},
   "source": [
    "##### Fragebögen mit fehlenden Werten ermitteln:"
   ]
  },
  {
   "cell_type": "code",
   "execution_count": 14,
   "metadata": {},
   "outputs": [],
   "source": [
    "def count_nan(row):\n",
    "    cnt = 0\n",
    "    for el in row:\n",
    "        if (str(el) == 'nan'):\n",
    "            cnt = cnt + 1\n",
    "    return cnt*100/len(row)"
   ]
  },
  {
   "cell_type": "code",
   "execution_count": 15,
   "metadata": {},
   "outputs": [],
   "source": [
    "porc_nan = []\n",
    "for i in range(Finished.shape[0]):\n",
    "    porc_nan.append(count_nan(Finished.loc[i]))"
   ]
  },
  {
   "cell_type": "code",
   "execution_count": 16,
   "metadata": {},
   "outputs": [],
   "source": [
    "Finished['porc_nan'] = porc_nan"
   ]
  },
  {
   "cell_type": "code",
   "execution_count": 17,
   "metadata": {},
   "outputs": [
    {
     "data": {
      "text/plain": [
       "<matplotlib.axes._subplots.AxesSubplot at 0xa6d8d68>"
      ]
     },
     "execution_count": 17,
     "metadata": {},
     "output_type": "execute_result"
    },
    {
     "data": {
      "image/png": "[encoded data removed]",
      "text/plain": [
       "<Figure size 432x288 with 1 Axes>"
      ]
     },
     "metadata": {},
     "output_type": "display_data"
    }
   ],
   "source": [
    "Finished['porc_nan'].hist(bins=30)"
   ]
  },
  {
   "cell_type": "code",
   "execution_count": 18,
   "metadata": {},
   "outputs": [
    {
     "data": {
      "text/plain": [
       "Int64Index([109, 291], dtype='int64')"
      ]
     },
     "execution_count": 18,
     "metadata": {},
     "output_type": "execute_result"
    }
   ],
   "source": [
    "Finished[Finished['porc_nan'] > 62].index"
   ]
  },
  {
   "cell_type": "code",
   "execution_count": 19,
   "metadata": {},
   "outputs": [],
   "source": [
    "#Finished.loc[291]"
   ]
  },
  {
   "cell_type": "markdown",
   "metadata": {},
   "source": [
    "Der Fragbogen mit auffällig hohem Anteil an fehlenden Werten wurde überprüft, die Daten können verwendet werden."
   ]
  },
  {
   "cell_type": "markdown",
   "metadata": {},
   "source": [
    "##### Duplikate entfernen:"
   ]
  },
  {
   "cell_type": "code",
   "execution_count": 20,
   "metadata": {},
   "outputs": [],
   "source": [
    "ind_dup = []\n",
    "for j, wert in enumerate(Finished['A-Q1']):\n",
    "    if 'rellenad' in str(wert):\n",
    "        ind_dup.append(j)"
   ]
  },
  {
   "cell_type": "code",
   "execution_count": 21,
   "metadata": {},
   "outputs": [
    {
     "data": {
      "text/plain": [
       "[141, 142]"
      ]
     },
     "execution_count": 21,
     "metadata": {},
     "output_type": "execute_result"
    }
   ],
   "source": [
    "ind_dup"
   ]
  },
  {
   "cell_type": "markdown",
   "metadata": {},
   "source": [
    "Es handelt sich um zwei TN, die bereits an der Pilotstudie teilgenommen hatten, nun aber einen anderen Kurs besuchen. Die erhobenen Daten stellen somit keine Duplikate im eigentlichen Sinne dar."
   ]
  },
  {
   "cell_type": "code",
   "execution_count": 22,
   "metadata": {},
   "outputs": [],
   "source": [
    "#Datenber = Finished.drop(ind_dup).reset_index(drop=True)"
   ]
  },
  {
   "cell_type": "code",
   "execution_count": 23,
   "metadata": {},
   "outputs": [
    {
     "data": {
      "text/plain": [
       "(294, 211)"
      ]
     },
     "execution_count": 23,
     "metadata": {},
     "output_type": "execute_result"
    }
   ],
   "source": [
    "Finished.shape"
   ]
  },
  {
   "cell_type": "markdown",
   "metadata": {},
   "source": [
    "##### Teilweise ausgefüllte Fragebögen:"
   ]
  },
  {
   "cell_type": "markdown",
   "metadata": {},
   "source": [
    "Für bestimmte Teile der Analyse können auch Daten von TN verwendet werden, die die Befragung nicht bis zum Ende durchgeführt haben. Zu diesem Zweck werden die Daten der TN zusammengestellt, die Teil A1 bis A3 bzw. Teil A1 bis A2 vollständig beantwortet haben."
   ]
  },
  {
   "cell_type": "code",
   "execution_count": 75,
   "metadata": {},
   "outputs": [],
   "source": [
    "Finished_C1 = Daten[(Daten['Finished'] == '0') & (Daten['C-Q1_7'] >= '1')]"
   ]
  },
  {
   "cell_type": "code",
   "execution_count": 76,
   "metadata": {},
   "outputs": [
    {
     "data": {
      "text/plain": [
       "(1, 210)"
      ]
     },
     "execution_count": 76,
     "metadata": {},
     "output_type": "execute_result"
    }
   ],
   "source": [
    "Finished_C1.shape"
   ]
  },
  {
   "cell_type": "code",
   "execution_count": 77,
   "metadata": {},
   "outputs": [],
   "source": [
    "Finished_A3 = Daten[(Daten['Finished'] == '0') & (Daten['A-Q3_27'] >= '1')]"
   ]
  },
  {
   "cell_type": "code",
   "execution_count": 78,
   "metadata": {},
   "outputs": [
    {
     "data": {
      "text/plain": [
       "(6, 210)"
      ]
     },
     "execution_count": 78,
     "metadata": {},
     "output_type": "execute_result"
    }
   ],
   "source": [
    "Finished_A3.shape"
   ]
  },
  {
   "cell_type": "code",
   "execution_count": 26,
   "metadata": {},
   "outputs": [],
   "source": [
    "#Finished_A3['A-Q1']"
   ]
  },
  {
   "cell_type": "markdown",
   "metadata": {},
   "source": [
    "Anhand der Angaben in der freien Texteingabe kann die Qualität der Antworten abgeschätzt werden. Fehlende oder inhaltliche unzusammenhängende Angaben lassen auf Tests oder unseriöse Angaben schließen."
   ]
  },
  {
   "cell_type": "code",
   "execution_count": 79,
   "metadata": {},
   "outputs": [],
   "source": [
    "Finished_A2 = Daten[(Daten['Finished'] == '0') & (Daten['A-Q2_7'] >= '1')]"
   ]
  },
  {
   "cell_type": "code",
   "execution_count": 80,
   "metadata": {},
   "outputs": [],
   "source": [
    "Finished_A2 = Finished_A2[Finished_A2['A-Q1'].notnull()]"
   ]
  },
  {
   "cell_type": "code",
   "execution_count": 81,
   "metadata": {},
   "outputs": [
    {
     "data": {
      "text/plain": [
       "85     El contexto en el que viene dado la palabra, q...\n",
       "132    Por el contexto en que están escritas. Por su ...\n",
       "202    Generalmente, cuando me encuentro con palabras...\n",
       "356    buscar en el diccionario. Si son palabras inte...\n",
       "388    Si son palabras que se parecen a palabras de u...\n",
       "472    Para entender las palabras desconocidas, inten...\n",
       "488    Para intentar deducir el significado me ayuda ...\n",
       "492    Aprendo palabras desconocidas con el diccionar...\n",
       "493    Lo asocio a palabras del español o el inglés. ...\n",
       "Name: A-Q1, dtype: object"
      ]
     },
     "execution_count": 81,
     "metadata": {},
     "output_type": "execute_result"
    }
   ],
   "source": [
    "Finished_A2['A-Q1']"
   ]
  },
  {
   "cell_type": "code",
   "execution_count": 82,
   "metadata": {},
   "outputs": [
    {
     "data": {
      "text/plain": [
       "(9, 210)"
      ]
     },
     "execution_count": 82,
     "metadata": {},
     "output_type": "execute_result"
    }
   ],
   "source": [
    "Finished_A2.shape"
   ]
  },
  {
   "cell_type": "code",
   "execution_count": 83,
   "metadata": {},
   "outputs": [],
   "source": [
    "Finished_C1 = Finished_C1.reset_index(drop=True)"
   ]
  },
  {
   "cell_type": "code",
   "execution_count": 84,
   "metadata": {},
   "outputs": [],
   "source": [
    "Finished_A3 = Finished_A3.reset_index(drop=True)"
   ]
  },
  {
   "cell_type": "code",
   "execution_count": 85,
   "metadata": {},
   "outputs": [],
   "source": [
    "Finished_A2 = Finished_A2.reset_index(drop=True)"
   ]
  },
  {
   "cell_type": "code",
   "execution_count": 86,
   "metadata": {},
   "outputs": [],
   "source": [
    "Finished_All = Finished.append(Finished_A2, sort=False)"
   ]
  },
  {
   "cell_type": "code",
   "execution_count": 87,
   "metadata": {},
   "outputs": [],
   "source": [
    "Finished_All = Finished_All.reset_index(drop=True)"
   ]
  },
  {
   "cell_type": "code",
   "execution_count": 88,
   "metadata": {},
   "outputs": [
    {
     "data": {
      "text/plain": [
       "(303, 211)"
      ]
     },
     "execution_count": 88,
     "metadata": {},
     "output_type": "execute_result"
    }
   ],
   "source": [
    "Finished_All.shape"
   ]
  },
  {
   "cell_type": "code",
   "execution_count": 89,
   "metadata": {},
   "outputs": [],
   "source": [
    "Datenber = Finished_All"
   ]
  },
  {
   "cell_type": "markdown",
   "metadata": {},
   "source": [
    "### Art der Werte kontrollieren und anpassen"
   ]
  },
  {
   "cell_type": "code",
   "execution_count": 90,
   "metadata": {},
   "outputs": [],
   "source": [
    "# Datenber.dtypes"
   ]
  },
  {
   "cell_type": "markdown",
   "metadata": {},
   "source": [
    "##### Multiple-Choice-Format"
   ]
  },
  {
   "cell_type": "markdown",
   "metadata": {},
   "source": [
    "Multiple-Choice-Antworten werden jeweils in einem Feld der Excel-Tabelle unter einer Variable (z.B. Frage \"B-Q1\") gespeichert. Um diese auswerten zu können, müssen diese Felder aufgeteilt werden. Dazu werden sogenannte \"Dummy-Variablen\" erstellt. Für jede in der Befragung gewählte Multiple-Choice-Antwort wird eine solche Variable erstellt und als neue Spalte in die Excel-Tabelle eingefügt. Dieser Vorgang wird für alle Multiple-Choice-Fragen durchgeführt."
   ]
  },
  {
   "cell_type": "markdown",
   "metadata": {},
   "source": [
    "*Anzahl der Dummy-Variablen feststellen:*"
   ]
  },
  {
   "cell_type": "code",
   "execution_count": 91,
   "metadata": {},
   "outputs": [],
   "source": [
    "def get_itemlist(df,var):\n",
    "    vals = df[var].dropna().reset_index(drop=True)\n",
    "    lista_strings = vals[0].split(',')\n",
    "    for val in vals:\n",
    "        lst = str(val).split(',')\n",
    "        lst_add = [el for el in lst if el not in lista_strings]\n",
    "        if lst_add:\n",
    "            lista_strings = lista_strings + lst_add\n",
    "    return list(sort([int(el) for el in lista_strings]))"
   ]
  },
  {
   "cell_type": "markdown",
   "metadata": {},
   "source": [
    "*Dummy-Variablen erstellen:*"
   ]
  },
  {
   "cell_type": "code",
   "execution_count": 92,
   "metadata": {},
   "outputs": [],
   "source": [
    "def dummies_multiple(df, col):\n",
    "    # leere Tabelle erstellen\n",
    "    columns = [str(el) for el in get_itemlist(df,col)]\n",
    "    ind = range(df.shape[0])\n",
    "    df_int = pd.DataFrame(index=ind, columns=columns)\n",
    "    df_int = df_int.fillna(0)\n",
    "    \n",
    "    for i in ind:\n",
    "        if str(df.loc[i,col]) != 'nan':\n",
    "            list1 = str(df.loc[i,col]).split(',')\n",
    "            df_int.loc[i,list1] = np.ones(len(list1), dtype = int)\n",
    "    \n",
    "    df_int.columns = ['{}_{}'.format(col,column) for column in columns]\n",
    "    return df_int"
   ]
  },
  {
   "cell_type": "code",
   "execution_count": 93,
   "metadata": {},
   "outputs": [],
   "source": [
    "def insert_dummies(df,col):\n",
    "    df_insert = dummies_multiple(df,col)\n",
    "    return pd.concat([ df.loc[:,:col], df_insert, df.loc[:,col:] ], axis = 1).drop(col,axis = 1)"
   ]
  },
  {
   "cell_type": "code",
   "execution_count": 94,
   "metadata": {},
   "outputs": [],
   "source": [
    "var_choice = ['B-Q1','B-Q2-1','B-Q2-2','B-Q2-3','B-Q2-4','B-Q2-5','B-Q2-6','B-Q2-7','B-Q2-8','B-Q2-9','D-Q8b1a','D-Q8b2a','D-Q8b3a','D-Q8b4a','D-Q8b5a','D-Q8b6a','D-Q8b7a','D-Q8b8a','D-Q8b9a','D-Q8b10a','D-Q8b11a','D-Q8b12a','D-Q8b13a','D-Q8b14a','D-Q8b15a','D-Q8b16a','D-Q8b17a','D-Q8b18a','D-Q8b19a','D-Q8b20a','D-Q8b21a','D-Q8b22a','D-Q9']"
   ]
  },
  {
   "cell_type": "code",
   "execution_count": 95,
   "metadata": {},
   "outputs": [],
   "source": [
    "for col in var_choice:\n",
    "    Datenber = insert_dummies(Datenber,col)"
   ]
  },
  {
   "cell_type": "markdown",
   "metadata": {},
   "source": [
    "##### Format für fehlende Werte"
   ]
  },
  {
   "cell_type": "code",
   "execution_count": 96,
   "metadata": {},
   "outputs": [],
   "source": [
    "Datenber = Datenber.fillna(0)"
   ]
  },
  {
   "cell_type": "markdown",
   "metadata": {},
   "source": [
    "Fehlende Werte werden grundsätzlich als \"NaN\" definiert, was zu Problemen bei der Analyse führen kann. Da der Wert \"0\" nur in wenigen Fragen vorkommt, bei denen keine Werte fehlen, kann \"NaN\" durch \"0\" ersetzt werden."
   ]
  },
  {
   "cell_type": "markdown",
   "metadata": {},
   "source": [
    "##### Numerische Werte"
   ]
  },
  {
   "cell_type": "markdown",
   "metadata": {},
   "source": [
    "*Auswahl der Spalten ohne Texteingabe:*"
   ]
  },
  {
   "cell_type": "code",
   "execution_count": 97,
   "metadata": {},
   "outputs": [],
   "source": [
    "#gloss.loc['D-Q1a'][0]"
   ]
  },
  {
   "cell_type": "code",
   "execution_count": 98,
   "metadata": {},
   "outputs": [],
   "source": [
    "gloss1 = pd.DataFrame(Datenber.loc[0])"
   ]
  },
  {
   "cell_type": "code",
   "execution_count": 99,
   "metadata": {},
   "outputs": [],
   "source": [
    "liste_ohne_komm = [ind for ind in gloss1.index if 'comentario' not in str(gloss1.loc[ind][0]).lower()]"
   ]
  },
  {
   "cell_type": "code",
   "execution_count": 100,
   "metadata": {},
   "outputs": [],
   "source": [
    "liste_ohne_text = [col for col in liste_ohne_komm if 'text' not in col.lower()]"
   ]
  },
  {
   "cell_type": "code",
   "execution_count": 101,
   "metadata": {},
   "outputs": [],
   "source": [
    "def get_var_num(lst,var):\n",
    "    return [col for col in lst if var not in col]"
   ]
  },
  {
   "cell_type": "code",
   "execution_count": 102,
   "metadata": {},
   "outputs": [],
   "source": [
    "liste_fragen_num = [col for col in liste_ohne_text if 'Q' in col]\n",
    "_vars_ = ['A-Q1','D-Q1a','D-Q4a','D-Q7a','D-Q7d','D-Q7g','D-Q8a','D-Q8b1c','D-Q8b2c','D-Q8b3c','D-Q8b4c','D-Q8b5c','D-Q8b6c','D-Q8b7c','D-Q8b8c','D-Q8b9c','D-Q8b10c','D-Q8b11c','D-Q8b12c','D-Q8b13c','D-Q8b14c','D-Q8b15c','D-Q8b16c','D-Q8b17c','D-Q8b18c','D-Q8b19c','D-Q8b20c','D-Q8b21c','D-Q8b22c','E-Q1']\n",
    "for var in _vars_:\n",
    "    liste_fragen_num = get_var_num(liste_fragen_num,var)"
   ]
  },
  {
   "cell_type": "markdown",
   "metadata": {},
   "source": [
    "*Verschiedene Formate in numerische Werte umwandeln:*"
   ]
  },
  {
   "cell_type": "code",
   "execution_count": 103,
   "metadata": {},
   "outputs": [],
   "source": [
    "def Werte_numm(s):\n",
    "    return pd.to_numeric(s, downcast='integer')"
   ]
  },
  {
   "cell_type": "markdown",
   "metadata": {},
   "source": [
    "Als Text (object) gelesene Werte werden in numerische Werte umgewandelt, bevorzugt wird das Datenformat \"integer\" verwendet. Bei negativen Werten oder Dezimalstellen wird \"float\" verwendet."
   ]
  },
  {
   "cell_type": "code",
   "execution_count": 104,
   "metadata": {},
   "outputs": [
    {
     "data": {
      "text/plain": [
       "array([0, '1', '2', '4', '3', '5', '6', '-1', '0.5'], dtype=object)"
      ]
     },
     "execution_count": 104,
     "metadata": {},
     "output_type": "execute_result"
    }
   ],
   "source": [
    "Datenber['D-Q8b20b'].unique()"
   ]
  },
  {
   "cell_type": "code",
   "execution_count": 105,
   "metadata": {},
   "outputs": [],
   "source": [
    "for el in liste_fragen_num:\n",
    "    Datenber[el] = Werte_numm(Datenber[el])"
   ]
  },
  {
   "cell_type": "code",
   "execution_count": 106,
   "metadata": {},
   "outputs": [
    {
     "data": {
      "text/plain": [
       "['D-Q8b20b', 'D-Q8b21b', 'porc_nan']"
      ]
     },
     "execution_count": 106,
     "metadata": {},
     "output_type": "execute_result"
    }
   ],
   "source": [
    "lista_float = []\n",
    "for i, tipo in enumerate(Datenber.dtypes):\n",
    "    if 'float' in str(tipo):\n",
    "        lista_float.append(Datenber.columns[i])\n",
    "lista_float"
   ]
  },
  {
   "cell_type": "code",
   "execution_count": 107,
   "metadata": {},
   "outputs": [
    {
     "data": {
      "text/plain": [
       "StartDate                 object\n",
       "EndDate                   object\n",
       "Status                    object\n",
       "IPAddress                 object\n",
       "Progress                  object\n",
       "Duration (in seconds)     object\n",
       "Finished                  object\n",
       "RecordedDate              object\n",
       "ResponseId                object\n",
       "RecipientLastName          int64\n",
       "RecipientFirstName         int64\n",
       "RecipientEmail             int64\n",
       "ExternalReference          int64\n",
       "LocationLatitude          object\n",
       "LocationLongitude         object\n",
       "DistributionChannel       object\n",
       "UserLanguage              object\n",
       "A-Q1                      object\n",
       "A-Q2_1                      int8\n",
       "A-Q2_2                      int8\n",
       "A-Q2_3                      int8\n",
       "A-Q2_4                      int8\n",
       "A-Q2_5                      int8\n",
       "A-Q2_6                      int8\n",
       "A-Q2_7                      int8\n",
       "A-Q3_1                      int8\n",
       "A-Q3_2                      int8\n",
       "A-Q3_3                      int8\n",
       "A-Q3_3_TEXT               object\n",
       "A-Q3_4                      int8\n",
       "                          ...   \n",
       "D-Q8b19a_7_TEXT            int64\n",
       "D-Q8b19b                    int8\n",
       "D-Q8b19c                   int64\n",
       "D-Q8b20a_1                  int8\n",
       "D-Q8b20a_2                  int8\n",
       "D-Q8b20a_6                  int8\n",
       "D-Q8b20a_7_TEXT            int64\n",
       "D-Q8b20b                 float64\n",
       "D-Q8b20c                  object\n",
       "D-Q8b21a_1                  int8\n",
       "D-Q8b21a_2                  int8\n",
       "D-Q8b21a_3                  int8\n",
       "D-Q8b21a_6                  int8\n",
       "D-Q8b21a_7_TEXT            int64\n",
       "D-Q8b21b                 float64\n",
       "D-Q8b21c                  object\n",
       "D-Q8b22a_1                  int8\n",
       "D-Q8b22a_2                  int8\n",
       "D-Q8b22a_3                  int8\n",
       "D-Q8b22a_4                  int8\n",
       "D-Q8b22a_5                  int8\n",
       "D-Q8b22a_6                  int8\n",
       "D-Q8b22a_7                  int8\n",
       "D-Q8b22a_7_TEXT           object\n",
       "D-Q8b22b                    int8\n",
       "D-Q8b22c                  object\n",
       "D-Q9_1                      int8\n",
       "D-Q9_2                      int8\n",
       "E-Q1                      object\n",
       "porc_nan                 float64\n",
       "Length: 358, dtype: object"
      ]
     },
     "execution_count": 107,
     "metadata": {},
     "output_type": "execute_result"
    }
   ],
   "source": [
    "Datenber.dtypes"
   ]
  },
  {
   "cell_type": "code",
   "execution_count": 108,
   "metadata": {},
   "outputs": [],
   "source": [
    "#Datenber['D-Q7'][Datenber['D-Q7']!=0].value_counts().plot(kind = 'bar', figsize = (10,5));"
   ]
  },
  {
   "cell_type": "markdown",
   "metadata": {},
   "source": [
    "### Daten speichern"
   ]
  },
  {
   "cell_type": "code",
   "execution_count": 122,
   "metadata": {},
   "outputs": [],
   "source": [
    "#Datenber.to_pickle('D:\\Daten\\DISS\\Daten\\Estrategias_Estudiantes_2018_ber')"
   ]
  },
  {
   "cell_type": "code",
   "execution_count": 121,
   "metadata": {},
   "outputs": [],
   "source": [
    "#Datenber.to_excel('D:\\Daten\\DISS\\Daten\\Estrategias_Estudiantes_Kienberger_2018_ber.xlsx',encoding='utf-16')"
   ]
  },
  {
   "cell_type": "code",
   "execution_count": 123,
   "metadata": {},
   "outputs": [],
   "source": [
    "#Datenber.to_csv('D:\\Daten\\DISS\\Daten\\Estrategias_Estudiantes_Kienberger_2018_ber.csv',encoding='utf-16')"
   ]
  },
  {
   "cell_type": "code",
   "execution_count": 112,
   "metadata": {},
   "outputs": [],
   "source": [
    "#gloss.to_pickle('D:\\Daten\\DISS\\Daten\\Gloss2018')"
   ]
  },
  {
   "cell_type": "markdown",
   "metadata": {},
   "source": [
    "#### Daten ohne Text für IRT"
   ]
  },
  {
   "cell_type": "code",
   "execution_count": 113,
   "metadata": {},
   "outputs": [],
   "source": [
    "Datenber1 = Datenber[Datenber['C-Q1_7'] != 0]"
   ]
  },
  {
   "cell_type": "code",
   "execution_count": 114,
   "metadata": {},
   "outputs": [],
   "source": [
    "Liste_A_Q2 = [col for col in Datenber1.columns if 'A-Q2' in col]"
   ]
  },
  {
   "cell_type": "code",
   "execution_count": 115,
   "metadata": {},
   "outputs": [],
   "source": [
    "Liste_A_Q3 = [col for col in Datenber1.columns if 'A-Q3' in col]\n",
    "Liste_A_Q3 = [el for el in Liste_A_Q3 if 'TEXT' not in el]"
   ]
  },
  {
   "cell_type": "code",
   "execution_count": 116,
   "metadata": {},
   "outputs": [],
   "source": [
    "Liste_C_Q1 = [col for col in Datenber1.columns if 'C-Q1' in col]"
   ]
  },
  {
   "cell_type": "code",
   "execution_count": 117,
   "metadata": {},
   "outputs": [],
   "source": [
    "Liste_IRT = Liste_A_Q2 + Liste_A_Q3 + Liste_C_Q1"
   ]
  },
  {
   "cell_type": "code",
   "execution_count": 118,
   "metadata": {},
   "outputs": [],
   "source": [
    "Daten_IRT = Datenber1[Liste_IRT]"
   ]
  },
  {
   "cell_type": "code",
   "execution_count": 119,
   "metadata": {},
   "outputs": [],
   "source": [
    "Daten_IRT.to_csv('D:\\Daten\\DISS\\Daten\\Estrategias_Estudiantes_Kienberger_2018_ber1.csv',encoding='utf-16')"
   ]
  },
  {
   "cell_type": "code",
   "execution_count": 120,
   "metadata": {},
   "outputs": [
    {
     "data": {
      "text/plain": [
       "(295, 45)"
      ]
     },
     "execution_count": 120,
     "metadata": {},
     "output_type": "execute_result"
    }
   ],
   "source": [
    "Daten_IRT.shape"
   ]
  },
  {
   "cell_type": "code",
   "execution_count": null,
   "metadata": {},
   "outputs": [],
   "source": []
  }
 ],
 "metadata": {
  "kernelspec": {
   "display_name": "Python 3",
   "language": "python",
   "name": "python3"
  },
  "language_info": {
   "codemirror_mode": {
    "name": "ipython",
    "version": 3
   },
   "file_extension": ".py",
   "mimetype": "text/x-python",
   "name": "python",
   "nbconvert_exporter": "python",
   "pygments_lexer": "ipython3",
   "version": "3.7.3"
  }
 },
 "nbformat": 4,
 "nbformat_minor": 2
}
