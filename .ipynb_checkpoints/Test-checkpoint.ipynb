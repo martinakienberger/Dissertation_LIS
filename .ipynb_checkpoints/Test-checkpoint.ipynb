{
 "cells": [
  {
   "cell_type": "markdown",
   "metadata": {},
   "source": [
    "## Import libraries"
   ]
  },
  {
   "cell_type": "code",
   "execution_count": 1,
   "metadata": {
    "collapsed": true
   },
   "outputs": [],
   "source": [
    "import pandas as pd"
   ]
  },
  {
   "cell_type": "markdown",
   "metadata": {},
   "source": [
    "## Daten lesen"
   ]
  },
  {
   "cell_type": "code",
   "execution_count": 3,
   "metadata": {
    "collapsed": true
   },
   "outputs": [],
   "source": [
    "Antwort0612 = pd.read_csv('D:\\Daten\\DISS\\Daten\\Estrategias_Estudiantes_Kienberger.csv')"
   ]
  },
  {
   "cell_type": "markdown",
   "metadata": {},
   "source": [
    "um nur einen Teil der Zeilen zu lesen (z.B. die ersten 6)"
   ]
  },
  {
   "cell_type": "code",
   "execution_count": 4,
   "metadata": {},
   "outputs": [
    {
     "data": {
      "text/html": [
       "<div>\n",
       "<style>\n",
       "    .dataframe thead tr:only-child th {\n",
       "        text-align: right;\n",
       "    }\n",
       "\n",
       "    .dataframe thead th {\n",
       "        text-align: left;\n",
       "    }\n",
       "\n",
       "    .dataframe tbody tr th {\n",
       "        vertical-align: top;\n",
       "    }\n",
       "</style>\n",
       "<table border=\"1\" class=\"dataframe\">\n",
       "  <thead>\n",
       "    <tr style=\"text-align: right;\">\n",
       "      <th></th>\n",
       "      <th>ResponseID</th>\n",
       "      <th>ResponseSet</th>\n",
       "      <th>IPAddress</th>\n",
       "      <th>StartDate</th>\n",
       "      <th>EndDate</th>\n",
       "      <th>RecipientLastName</th>\n",
       "      <th>RecipientFirstName</th>\n",
       "      <th>RecipientEmail</th>\n",
       "      <th>ExternalDataReference</th>\n",
       "      <th>Finished</th>\n",
       "      <th>...</th>\n",
       "      <th>D-Q8b22b_11</th>\n",
       "      <th>D-Q8b22b_12</th>\n",
       "      <th>D-Q8b22c</th>\n",
       "      <th>D-Q9_1</th>\n",
       "      <th>D-Q9_2</th>\n",
       "      <th>E-T1</th>\n",
       "      <th>E-Q1</th>\n",
       "      <th>LocationLatitude</th>\n",
       "      <th>LocationLongitude</th>\n",
       "      <th>LocationAccuracy</th>\n",
       "    </tr>\n",
       "  </thead>\n",
       "  <tbody>\n",
       "    <tr>\n",
       "      <th>0</th>\n",
       "      <td>ResponseID</td>\n",
       "      <td>ResponseSet</td>\n",
       "      <td>IPAddress</td>\n",
       "      <td>StartDate</td>\n",
       "      <td>EndDate</td>\n",
       "      <td>RecipientLastName</td>\n",
       "      <td>RecipientFirstName</td>\n",
       "      <td>RecipientEmail</td>\n",
       "      <td>ExternalDataReference</td>\n",
       "      <td>Finished</td>\n",
       "      <td>...</td>\n",
       "      <td>¿Qué nivel ha alcanzado?-C1</td>\n",
       "      <td>¿Qué nivel ha alcanzado?-C2</td>\n",
       "      <td>Comentarios (opcional):</td>\n",
       "      <td>¿Dónde ha rellenado esta encuesta?-En clase</td>\n",
       "      <td>¿Dónde ha rellenado esta encuesta?-Fuera de clase</td>\n",
       "      <td>Comentarios adicionales</td>\n",
       "      <td>Si lo desea, puede escribir un comentario y da...</td>\n",
       "      <td>LocationLatitude</td>\n",
       "      <td>LocationLongitude</td>\n",
       "      <td>LocationAccuracy</td>\n",
       "    </tr>\n",
       "    <tr>\n",
       "      <th>1</th>\n",
       "      <td>{'ImportId': 'responseId'}</td>\n",
       "      <td>{'ImportId': 'responseSetId'}</td>\n",
       "      <td>{'ImportId': 'ipAddress'}</td>\n",
       "      <td>{'ImportId': 'startDate'}</td>\n",
       "      <td>{'ImportId': 'endDate'}</td>\n",
       "      <td>{'ImportId': 'panel-RecipientLastName'}</td>\n",
       "      <td>{'ImportId': 'panel-RecipientFirstName'}</td>\n",
       "      <td>{'ImportId': 'panel-RecipientEmail'}</td>\n",
       "      <td>{'ImportId': 'panel-ExternalDataReference'}</td>\n",
       "      <td>{'ImportId': 'finished'}</td>\n",
       "      <td>...</td>\n",
       "      <td>{'ImportId': 'QID168-11'}</td>\n",
       "      <td>{'ImportId': 'QID168-12'}</td>\n",
       "      <td>{'ImportId': 'QID169-TEXT'}</td>\n",
       "      <td>{'ImportId': 'QID96-1'}</td>\n",
       "      <td>{'ImportId': 'QID96-2'}</td>\n",
       "      <td>{'ImportId': 'QID92'}</td>\n",
       "      <td>{'ImportId': 'QID94-TEXT'}</td>\n",
       "      <td>{'ImportId': 'Location-LocationLatitude'}</td>\n",
       "      <td>{'ImportId': 'Location-LocationLongitude'}</td>\n",
       "      <td>{'ImportId': 'Location-LocationAccuracy'}</td>\n",
       "    </tr>\n",
       "    <tr>\n",
       "      <th>2</th>\n",
       "      <td>R_1kOiXpqqaX3Irxm</td>\n",
       "      <td>Default Response Set</td>\n",
       "      <td>88.3.172.215</td>\n",
       "      <td>2017-11-09 20:10:29</td>\n",
       "      <td>2017-11-09 20:25:39</td>\n",
       "      <td>NaN</td>\n",
       "      <td>NaN</td>\n",
       "      <td>NaN</td>\n",
       "      <td>NaN</td>\n",
       "      <td>1</td>\n",
       "      <td>...</td>\n",
       "      <td>NaN</td>\n",
       "      <td>NaN</td>\n",
       "      <td>NaN</td>\n",
       "      <td>NaN</td>\n",
       "      <td>1</td>\n",
       "      <td>1</td>\n",
       "      <td>Gratificante y útil</td>\n",
       "      <td>40.968795776367</td>\n",
       "      <td>-5.6638946533203</td>\n",
       "      <td>-1</td>\n",
       "    </tr>\n",
       "    <tr>\n",
       "      <th>3</th>\n",
       "      <td>R_1F5FzvY7aYwiipy</td>\n",
       "      <td>Default Response Set</td>\n",
       "      <td>212.128.135.110</td>\n",
       "      <td>2017-11-10 08:39:27</td>\n",
       "      <td>2017-11-10 08:54:25</td>\n",
       "      <td>NaN</td>\n",
       "      <td>NaN</td>\n",
       "      <td>NaN</td>\n",
       "      <td>NaN</td>\n",
       "      <td>1</td>\n",
       "      <td>...</td>\n",
       "      <td>NaN</td>\n",
       "      <td>NaN</td>\n",
       "      <td>NaN</td>\n",
       "      <td>NaN</td>\n",
       "      <td>1</td>\n",
       "      <td>1</td>\n",
       "      <td>Una encuesta muy completa que me ha servido pa...</td>\n",
       "      <td>40.96809387207</td>\n",
       "      <td>-5.6620025634766</td>\n",
       "      <td>-1</td>\n",
       "    </tr>\n",
       "    <tr>\n",
       "      <th>4</th>\n",
       "      <td>R_2ErWjTyNYcSh10N</td>\n",
       "      <td>Default Response Set</td>\n",
       "      <td>212.128.135.84</td>\n",
       "      <td>2017-11-10 09:23:28</td>\n",
       "      <td>2017-11-10 09:39:04</td>\n",
       "      <td>NaN</td>\n",
       "      <td>NaN</td>\n",
       "      <td>NaN</td>\n",
       "      <td>NaN</td>\n",
       "      <td>1</td>\n",
       "      <td>...</td>\n",
       "      <td>NaN</td>\n",
       "      <td>NaN</td>\n",
       "      <td>NaN</td>\n",
       "      <td>NaN</td>\n",
       "      <td>1</td>\n",
       "      <td>1</td>\n",
       "      <td>NaN</td>\n",
       "      <td>40.96809387207</td>\n",
       "      <td>-5.6620025634766</td>\n",
       "      <td>-1</td>\n",
       "    </tr>\n",
       "    <tr>\n",
       "      <th>5</th>\n",
       "      <td>R_1Cqe3iaPqIH7rmA</td>\n",
       "      <td>Default Response Set</td>\n",
       "      <td>85.53.244.6</td>\n",
       "      <td>2017-11-10 15:03:08</td>\n",
       "      <td>2017-11-10 15:21:35</td>\n",
       "      <td>NaN</td>\n",
       "      <td>NaN</td>\n",
       "      <td>NaN</td>\n",
       "      <td>NaN</td>\n",
       "      <td>1</td>\n",
       "      <td>...</td>\n",
       "      <td>NaN</td>\n",
       "      <td>NaN</td>\n",
       "      <td>NaN</td>\n",
       "      <td>NaN</td>\n",
       "      <td>1</td>\n",
       "      <td>1</td>\n",
       "      <td>NaN</td>\n",
       "      <td>40.417205810547</td>\n",
       "      <td>-3.6840057373047</td>\n",
       "      <td>-1</td>\n",
       "    </tr>\n",
       "  </tbody>\n",
       "</table>\n",
       "<p>6 rows × 443 columns</p>\n",
       "</div>"
      ],
      "text/plain": [
       "                   ResponseID                    ResponseSet  \\\n",
       "0                  ResponseID                    ResponseSet   \n",
       "1  {'ImportId': 'responseId'}  {'ImportId': 'responseSetId'}   \n",
       "2           R_1kOiXpqqaX3Irxm           Default Response Set   \n",
       "3           R_1F5FzvY7aYwiipy           Default Response Set   \n",
       "4           R_2ErWjTyNYcSh10N           Default Response Set   \n",
       "5           R_1Cqe3iaPqIH7rmA           Default Response Set   \n",
       "\n",
       "                   IPAddress                  StartDate  \\\n",
       "0                  IPAddress                  StartDate   \n",
       "1  {'ImportId': 'ipAddress'}  {'ImportId': 'startDate'}   \n",
       "2               88.3.172.215        2017-11-09 20:10:29   \n",
       "3            212.128.135.110        2017-11-10 08:39:27   \n",
       "4             212.128.135.84        2017-11-10 09:23:28   \n",
       "5                85.53.244.6        2017-11-10 15:03:08   \n",
       "\n",
       "                   EndDate                        RecipientLastName  \\\n",
       "0                  EndDate                        RecipientLastName   \n",
       "1  {'ImportId': 'endDate'}  {'ImportId': 'panel-RecipientLastName'}   \n",
       "2      2017-11-09 20:25:39                                      NaN   \n",
       "3      2017-11-10 08:54:25                                      NaN   \n",
       "4      2017-11-10 09:39:04                                      NaN   \n",
       "5      2017-11-10 15:21:35                                      NaN   \n",
       "\n",
       "                         RecipientFirstName  \\\n",
       "0                        RecipientFirstName   \n",
       "1  {'ImportId': 'panel-RecipientFirstName'}   \n",
       "2                                       NaN   \n",
       "3                                       NaN   \n",
       "4                                       NaN   \n",
       "5                                       NaN   \n",
       "\n",
       "                         RecipientEmail  \\\n",
       "0                        RecipientEmail   \n",
       "1  {'ImportId': 'panel-RecipientEmail'}   \n",
       "2                                   NaN   \n",
       "3                                   NaN   \n",
       "4                                   NaN   \n",
       "5                                   NaN   \n",
       "\n",
       "                         ExternalDataReference                  Finished  \\\n",
       "0                        ExternalDataReference                  Finished   \n",
       "1  {'ImportId': 'panel-ExternalDataReference'}  {'ImportId': 'finished'}   \n",
       "2                                          NaN                         1   \n",
       "3                                          NaN                         1   \n",
       "4                                          NaN                         1   \n",
       "5                                          NaN                         1   \n",
       "\n",
       "                     ...                                      D-Q8b22b_11  \\\n",
       "0                    ...                      ¿Qué nivel ha alcanzado?-C1   \n",
       "1                    ...                        {'ImportId': 'QID168-11'}   \n",
       "2                    ...                                              NaN   \n",
       "3                    ...                                              NaN   \n",
       "4                    ...                                              NaN   \n",
       "5                    ...                                              NaN   \n",
       "\n",
       "                   D-Q8b22b_12                     D-Q8b22c  \\\n",
       "0  ¿Qué nivel ha alcanzado?-C2      Comentarios (opcional):   \n",
       "1    {'ImportId': 'QID168-12'}  {'ImportId': 'QID169-TEXT'}   \n",
       "2                          NaN                          NaN   \n",
       "3                          NaN                          NaN   \n",
       "4                          NaN                          NaN   \n",
       "5                          NaN                          NaN   \n",
       "\n",
       "                                        D-Q9_1  \\\n",
       "0  ¿Dónde ha rellenado esta encuesta?-En clase   \n",
       "1                      {'ImportId': 'QID96-1'}   \n",
       "2                                          NaN   \n",
       "3                                          NaN   \n",
       "4                                          NaN   \n",
       "5                                          NaN   \n",
       "\n",
       "                                              D-Q9_2                     E-T1  \\\n",
       "0  ¿Dónde ha rellenado esta encuesta?-Fuera de clase  Comentarios adicionales   \n",
       "1                            {'ImportId': 'QID96-2'}    {'ImportId': 'QID92'}   \n",
       "2                                                  1                        1   \n",
       "3                                                  1                        1   \n",
       "4                                                  1                        1   \n",
       "5                                                  1                        1   \n",
       "\n",
       "                                                E-Q1  \\\n",
       "0  Si lo desea, puede escribir un comentario y da...   \n",
       "1                         {'ImportId': 'QID94-TEXT'}   \n",
       "2                                Gratificante y útil   \n",
       "3  Una encuesta muy completa que me ha servido pa...   \n",
       "4                                                NaN   \n",
       "5                                                NaN   \n",
       "\n",
       "                            LocationLatitude  \\\n",
       "0                           LocationLatitude   \n",
       "1  {'ImportId': 'Location-LocationLatitude'}   \n",
       "2                            40.968795776367   \n",
       "3                             40.96809387207   \n",
       "4                             40.96809387207   \n",
       "5                            40.417205810547   \n",
       "\n",
       "                            LocationLongitude  \\\n",
       "0                           LocationLongitude   \n",
       "1  {'ImportId': 'Location-LocationLongitude'}   \n",
       "2                            -5.6638946533203   \n",
       "3                            -5.6620025634766   \n",
       "4                            -5.6620025634766   \n",
       "5                            -3.6840057373047   \n",
       "\n",
       "                            LocationAccuracy  \n",
       "0                           LocationAccuracy  \n",
       "1  {'ImportId': 'Location-LocationAccuracy'}  \n",
       "2                                         -1  \n",
       "3                                         -1  \n",
       "4                                         -1  \n",
       "5                                         -1  \n",
       "\n",
       "[6 rows x 443 columns]"
      ]
     },
     "execution_count": 4,
     "metadata": {},
     "output_type": "execute_result"
    }
   ],
   "source": [
    "Antwort0612.head(6)"
   ]
  },
  {
   "cell_type": "markdown",
   "metadata": {},
   "source": [
    "um die Variablen (Spalten) zu lesen - als Liste"
   ]
  },
  {
   "cell_type": "code",
   "execution_count": 6,
   "metadata": {},
   "outputs": [
    {
     "data": {
      "text/plain": [
       "['ResponseID',\n",
       " 'ResponseSet',\n",
       " 'IPAddress',\n",
       " 'StartDate',\n",
       " 'EndDate',\n",
       " 'RecipientLastName',\n",
       " 'RecipientFirstName',\n",
       " 'RecipientEmail',\n",
       " 'ExternalDataReference',\n",
       " 'Finished',\n",
       " 'Status',\n",
       " 'T1',\n",
       " 'T2',\n",
       " 'T3',\n",
       " 'T1.1',\n",
       " 'T2.1',\n",
       " 'G1',\n",
       " 'T3.1',\n",
       " 'Q1',\n",
       " 'T4',\n",
       " 'T1.2',\n",
       " 'Q2_Q2_1',\n",
       " 'Q2_Q2_2',\n",
       " 'Q2_Q2_3',\n",
       " 'Q2_Q2_4',\n",
       " 'Q2_Q2_5',\n",
       " 'Q2_Q2_6',\n",
       " 'Q2_Q2_7',\n",
       " 'T1.3',\n",
       " 'Q3_Q3_1',\n",
       " 'Q3_Q3_2',\n",
       " 'Q3_Q3_3',\n",
       " 'Q3_Q3_3_TEXT',\n",
       " 'Q3_Q3_4',\n",
       " 'Q3_Q3_5',\n",
       " 'Q3_Q3_6',\n",
       " 'Q3_Q3_7',\n",
       " 'Q3_Q3_8',\n",
       " 'Q3_Q3_9',\n",
       " 'Q3_Q3_10',\n",
       " 'T1.4',\n",
       " 'Q3_Q3_30',\n",
       " 'Q3_Q3_11',\n",
       " 'Q3_Q3_12',\n",
       " 'Q3_Q3_13',\n",
       " 'Q3_Q3_14',\n",
       " 'T1.5',\n",
       " 'Q3_Q3_31',\n",
       " 'Q3_Q3_15',\n",
       " 'Q3_Q3_16',\n",
       " 'Q3_Q3_17',\n",
       " 'Q3_Q3_18',\n",
       " 'Q3_Q3_19',\n",
       " 'Q3_Q3_20',\n",
       " 'Q3_Q3_21',\n",
       " 'T1.6',\n",
       " 'Q3_Q3_22',\n",
       " 'Q3_Q3_23',\n",
       " 'Q3_Q3_24',\n",
       " 'Q3_Q3_25',\n",
       " 'Q3_Q3_26',\n",
       " 'Q3_Q3_27',\n",
       " 'T1.7',\n",
       " 'Q3_1',\n",
       " 'Q3_5',\n",
       " 'Q3_6',\n",
       " 'Q3_7',\n",
       " 'B-T1',\n",
       " 'B-Q1_1',\n",
       " 'B-Q1_2',\n",
       " 'B-Q1_3',\n",
       " 'B-Q1_4',\n",
       " 'B-Q1_5',\n",
       " 'B-Q1_6',\n",
       " 'B-Q1_7',\n",
       " 'B-Q1_8',\n",
       " 'B-Q1_9',\n",
       " 'B-Q1_10',\n",
       " 'B-Q1_11',\n",
       " 'B-Q1_10_TEXT',\n",
       " 'B-T1.1',\n",
       " 'B-Q2-1_1',\n",
       " 'B-Q2-1_2',\n",
       " 'B-Q2-1_3',\n",
       " 'B-Q2-1_4',\n",
       " 'B-Q2-1_5',\n",
       " 'B-Q2-1_6',\n",
       " 'B-Q2-1_7',\n",
       " 'B-Q2-1_7_TEXT',\n",
       " 'B-T1.2',\n",
       " 'B-Q2-2_1',\n",
       " 'B-Q2-2_2',\n",
       " 'B-Q2-2_3',\n",
       " 'B-Q2-2_4',\n",
       " 'B-Q2-2_5',\n",
       " 'B-Q2-2_6',\n",
       " 'B-Q2-2_7',\n",
       " 'B-Q2-2_7_TEXT',\n",
       " 'B-T1.3',\n",
       " 'B-Q2-3_1',\n",
       " 'B-Q2-3_2',\n",
       " 'B-Q2-3_3',\n",
       " 'B-Q2-3_4',\n",
       " 'B-Q2-3_5',\n",
       " 'B-Q2-3_6',\n",
       " 'B-Q2-3_7',\n",
       " 'B-Q2-3_7_TEXT',\n",
       " 'B-T1.4',\n",
       " 'B-Q2-4_1',\n",
       " 'B-Q2-4_2',\n",
       " 'B-Q2-4_3',\n",
       " 'B-Q2-4_4',\n",
       " 'B-Q2-4_5',\n",
       " 'B-Q2-4_6',\n",
       " 'B-Q2-4_7',\n",
       " 'B-Q2-4_7_TEXT',\n",
       " 'B-T1.5',\n",
       " 'B-Q2-5_1',\n",
       " 'B-Q2-5_2',\n",
       " 'B-Q2-5_3',\n",
       " 'B-Q2-5_4',\n",
       " 'B-Q2-5_5',\n",
       " 'B-Q2-5_6',\n",
       " 'B-Q2-5_7',\n",
       " 'B-Q2-5_7_TEXT',\n",
       " 'B-T1.6',\n",
       " 'B-Q2-6_1',\n",
       " 'B-Q2-6_2',\n",
       " 'B-Q2-6_3',\n",
       " 'B-Q2-6_4',\n",
       " 'B-Q2-6_5',\n",
       " 'B-Q2-6_6',\n",
       " 'B-Q2-6_7',\n",
       " 'B-Q2-6_7_TEXT',\n",
       " 'B-T1.7',\n",
       " 'B-Q2-7_1',\n",
       " 'B-Q2-7_2',\n",
       " 'B-Q2-7_3',\n",
       " 'B-Q2-7_4',\n",
       " 'B-Q2-7_5',\n",
       " 'B-Q2-7_6',\n",
       " 'B-Q2-7_7',\n",
       " 'B-Q2-7_7_TEXT',\n",
       " 'B-T1.8',\n",
       " 'B-Q2-8_1',\n",
       " 'B-Q2-8_2',\n",
       " 'B-Q2-8_3',\n",
       " 'B-Q2-8_4',\n",
       " 'B-Q2-8_5',\n",
       " 'B-Q2-8_5_TEXT',\n",
       " 'B-T1.9',\n",
       " 'B-Q2-9_1',\n",
       " 'B-Q2-9_2',\n",
       " 'B-Q2-9_3',\n",
       " 'B-Q2-9_4',\n",
       " 'B-Q2-9_5',\n",
       " 'B-Q2-9_5_TEXT',\n",
       " 'B-T1.10',\n",
       " 'B-Q3',\n",
       " 'B-Q4',\n",
       " 'C-T1',\n",
       " 'C-Q1_C-Q1_1',\n",
       " 'C-Q1_C-Q1_2',\n",
       " 'C-Q1_C-Q1_3',\n",
       " 'C-Q1_C-Q1_4',\n",
       " 'C-Q1_C-Q1_5',\n",
       " 'C-Q1_C-Q1_6',\n",
       " 'C-Q1_C-Q1_7',\n",
       " 'C-Q1_C-Q1_8',\n",
       " 'C-Q1_C-Q1_9',\n",
       " 'C-Q1_C-Q1_10',\n",
       " 'C-Q1_C-Q1_11',\n",
       " 'D-T1',\n",
       " 'D-T2',\n",
       " 'D-Q1',\n",
       " 'D-Q1a',\n",
       " 'D-Q1b',\n",
       " 'D-T1.1',\n",
       " 'D-Q2',\n",
       " 'D-Q2_TEXT',\n",
       " 'D-Q2a',\n",
       " 'D-Q2a_TEXT',\n",
       " 'D-Q2b',\n",
       " 'D-T1.2',\n",
       " 'D-Q3',\n",
       " 'D-Q4',\n",
       " 'D-Q4a',\n",
       " 'D-T1.3',\n",
       " 'D-Q5',\n",
       " 'D-Q6',\n",
       " 'D-T1.4',\n",
       " 'D-Q7',\n",
       " 'D-Q7a',\n",
       " 'D-Q7b',\n",
       " 'D-Q7c',\n",
       " 'D-Q7d',\n",
       " 'D-Q7e',\n",
       " 'D-Q7f',\n",
       " 'D-Q7g',\n",
       " 'D-T1.5',\n",
       " 'D-Q8_1',\n",
       " 'D-Q8_2',\n",
       " 'D-Q8_3',\n",
       " 'D-Q8_4',\n",
       " 'D-Q8_5',\n",
       " 'D-Q8_6',\n",
       " 'D-Q8_7',\n",
       " 'D-Q8a1',\n",
       " 'D-Q8a2',\n",
       " 'D-Q8a3',\n",
       " 'D-Q8a4',\n",
       " 'D-Q8a5',\n",
       " 'D-Q8a6',\n",
       " 'D-Q8a7',\n",
       " 'D-Q8b1a_1',\n",
       " 'D-Q8b1a_2',\n",
       " 'D-Q8b1a_8',\n",
       " 'D-Q8b1a_9',\n",
       " 'D-Q8b1a_5',\n",
       " 'D-Q8b1a_6',\n",
       " 'D-Q8b1a_7',\n",
       " 'D-Q8b1a_7_TEXT',\n",
       " 'D-Q8b1b',\n",
       " 'D-Q8b1c',\n",
       " 'D-Q8b2a_1',\n",
       " 'D-Q8b2a_2',\n",
       " 'D-Q8b2a_8',\n",
       " 'D-Q8b2a_9',\n",
       " 'D-Q8b2a_5',\n",
       " 'D-Q8b2a_6',\n",
       " 'D-Q8b2a_7',\n",
       " 'D-Q8b2a_7_TEXT',\n",
       " 'D-Q8b2b',\n",
       " 'D-Q8b2c',\n",
       " 'D-Q8b3a_1',\n",
       " 'D-Q8b3a_2',\n",
       " 'D-Q8b3a_8',\n",
       " 'D-Q8b3a_9',\n",
       " 'D-Q8b3a_5',\n",
       " 'D-Q8b3a_6',\n",
       " 'D-Q8b3a_7',\n",
       " 'D-Q8b3a_7_TEXT',\n",
       " 'D-Q8b3b',\n",
       " 'D-Q8b3c',\n",
       " 'D-Q8b4a_1',\n",
       " 'D-Q8b4a_2',\n",
       " 'D-Q8b4a_8',\n",
       " 'D-Q8b4a_9',\n",
       " 'D-Q8b4a_5',\n",
       " 'D-Q8b4a_6',\n",
       " 'D-Q8b4a_7',\n",
       " 'D-Q8b4a_7_TEXT',\n",
       " 'D-Q8b4b',\n",
       " 'D-Q8b4c',\n",
       " 'D-Q8b5a_1',\n",
       " 'D-Q8b5a_2',\n",
       " 'D-Q8b5a_8',\n",
       " 'D-Q8b5a_9',\n",
       " 'D-Q8b5a_5',\n",
       " 'D-Q8b5a_6',\n",
       " 'D-Q8b5a_7',\n",
       " 'D-Q8b5a_7_TEXT',\n",
       " 'D-Q8b5b',\n",
       " 'D-Q8b5c',\n",
       " 'D-Q8b6a_1',\n",
       " 'D-Q8b6a_2',\n",
       " 'D-Q8b6a_8',\n",
       " 'D-Q8b6a_9',\n",
       " 'D-Q8b6a_5',\n",
       " 'D-Q8b6a_6',\n",
       " 'D-Q8b6a_7',\n",
       " 'D-Q8b6a_7_TEXT',\n",
       " 'D-Q8b6b',\n",
       " 'D-Q8b6c',\n",
       " 'D-Q8b7a_1',\n",
       " 'D-Q8b7a_2',\n",
       " 'D-Q8b7a_8',\n",
       " 'D-Q8b7a_9',\n",
       " 'D-Q8b7a_5',\n",
       " 'D-Q8b7a_6',\n",
       " 'D-Q8b7a_7',\n",
       " 'D-Q8b7a_7_TEXT',\n",
       " 'D-Q8b7b',\n",
       " 'D-Q8b7c',\n",
       " 'D-Q8b8a_1',\n",
       " 'D-Q8b8a_2',\n",
       " 'D-Q8b8a_8',\n",
       " 'D-Q8b8a_9',\n",
       " 'D-Q8b8a_5',\n",
       " 'D-Q8b8a_6',\n",
       " 'D-Q8b8a_7',\n",
       " 'D-Q8b8a_7_TEXT',\n",
       " 'D-Q8b8b',\n",
       " 'D-Q8b8c',\n",
       " 'D-Q8b9a_1',\n",
       " 'D-Q8b9a_2',\n",
       " 'D-Q8b9a_8',\n",
       " 'D-Q8b9a_9',\n",
       " 'D-Q8b9a_5',\n",
       " 'D-Q8b9a_6',\n",
       " 'D-Q8b9a_7',\n",
       " 'D-Q8b9a_7_TEXT',\n",
       " 'D-Q8b9b',\n",
       " 'D-Q8b9c',\n",
       " 'D-Q8b10a_1',\n",
       " 'D-Q8b10a_2',\n",
       " 'D-Q8b10a_8',\n",
       " 'D-Q8b10a_9',\n",
       " 'D-Q8b10a_5',\n",
       " 'D-Q8b10a_6',\n",
       " 'D-Q8b10a_7',\n",
       " 'D-Q8b10a_7_TEXT',\n",
       " 'D-Q8b10b',\n",
       " 'D-Q8b10c',\n",
       " 'D-Q8b11a_1',\n",
       " 'D-Q8b11a_2',\n",
       " 'D-Q8b11a_8',\n",
       " 'D-Q8b11a_9',\n",
       " 'D-Q8b11a_5',\n",
       " 'D-Q8b11a_6',\n",
       " 'D-Q8b11a_7',\n",
       " 'D-Q8b11a_7_TEXT',\n",
       " 'D-Q8b11b',\n",
       " 'D-Q8b11c',\n",
       " 'D-Q8b12a_1',\n",
       " 'D-Q8b12a_2',\n",
       " 'D-Q8b12a_8',\n",
       " 'D-Q8b12a_9',\n",
       " 'D-Q8b12a_5',\n",
       " 'D-Q8b12a_6',\n",
       " 'D-Q8b12a_7',\n",
       " 'D-Q8b12a_7_TEXT',\n",
       " 'D-Q8b12b',\n",
       " 'D-Q8b12c',\n",
       " 'D-Q8b13a_1',\n",
       " 'D-Q8b13a_2',\n",
       " 'D-Q8b13a_8',\n",
       " 'D-Q8b13a_9',\n",
       " 'D-Q8b13a_5',\n",
       " 'D-Q8b13a_6',\n",
       " 'D-Q8b13a_7',\n",
       " 'D-Q8b13a_7_TEXT',\n",
       " 'D-Q8b13b',\n",
       " 'D-Q8b13c',\n",
       " 'D-Q8b14a_1',\n",
       " 'D-Q8b14a_2',\n",
       " 'D-Q8b14a_8',\n",
       " 'D-Q8b14a_9',\n",
       " 'D-Q8b14a_5',\n",
       " 'D-Q8b14a_6',\n",
       " 'D-Q8b14a_7',\n",
       " 'D-Q8b14a_7_TEXT',\n",
       " 'D-Q8b14b',\n",
       " 'D-Q8b14c',\n",
       " 'D-Q8b15a_1',\n",
       " 'D-Q8b15a_2',\n",
       " 'D-Q8b15a_8',\n",
       " 'D-Q8b15a_9',\n",
       " 'D-Q8b15a_5',\n",
       " 'D-Q8b15a_6',\n",
       " 'D-Q8b15a_7',\n",
       " 'D-Q8b15a_7_TEXT',\n",
       " 'D-Q8b15b',\n",
       " 'D-Q8b15c',\n",
       " 'D-Q8b16a_1',\n",
       " 'D-Q8b16a_2',\n",
       " 'D-Q8b16a_8',\n",
       " 'D-Q8b16a_9',\n",
       " 'D-Q8b16a_5',\n",
       " 'D-Q8b16a_6',\n",
       " 'D-Q8b16a_7',\n",
       " 'D-Q8b16a_7_TEXT',\n",
       " 'D-Q8b16b',\n",
       " 'D-Q8b16c',\n",
       " 'D-Q8b17a_1',\n",
       " 'D-Q8b17a_2',\n",
       " 'D-Q8b17a_8',\n",
       " 'D-Q8b17a_9',\n",
       " 'D-Q8b17a_5',\n",
       " 'D-Q8b17a_6',\n",
       " 'D-Q8b17a_7',\n",
       " 'D-Q8b17a_7_TEXT',\n",
       " 'D-Q8b17b',\n",
       " 'D-Q8b17c',\n",
       " 'D-Q8b18a_1',\n",
       " 'D-Q8b18a_2',\n",
       " 'D-Q8b18a_8',\n",
       " 'D-Q8b18a_9',\n",
       " 'D-Q8b18a_5',\n",
       " 'D-Q8b18a_6',\n",
       " 'D-Q8b18a_7',\n",
       " 'D-Q8b18a_7_TEXT',\n",
       " 'D-Q8b18b',\n",
       " 'D-Q8b18c',\n",
       " 'D-Q8b19a_1',\n",
       " 'D-Q8b19a_2',\n",
       " 'D-Q8b19a_8',\n",
       " 'D-Q8b19a_9',\n",
       " 'D-Q8b19a_5',\n",
       " 'D-Q8b19a_6',\n",
       " 'D-Q8b19a_7',\n",
       " 'D-Q8b19a_7_TEXT',\n",
       " 'D-Q8b19b',\n",
       " 'D-Q8b19c',\n",
       " 'D-Q8b20a_1',\n",
       " 'D-Q8b20a_2',\n",
       " 'D-Q8b20a_3',\n",
       " 'D-Q8b20a_6',\n",
       " 'D-Q8b20a_7',\n",
       " 'D-Q8b20a_7_TEXT',\n",
       " 'D-Q8b20b',\n",
       " 'D-Q8b20c',\n",
       " 'D-Q8b21a_1',\n",
       " 'D-Q8b21a_2',\n",
       " 'D-Q8b21a_3',\n",
       " 'D-Q8b21a_6',\n",
       " 'D-Q8b21a_7',\n",
       " 'D-Q8b21a_7_TEXT',\n",
       " 'D-Q8b21b',\n",
       " 'D-Q8b21c',\n",
       " 'D-Q8b22a_1',\n",
       " 'D-Q8b22a_2',\n",
       " 'D-Q8b22a_3',\n",
       " 'D-Q8b22a_4',\n",
       " 'D-Q8b22a_5',\n",
       " 'D-Q8b22a_6',\n",
       " 'D-Q8b22a_7',\n",
       " 'D-Q8b22a_7_TEXT',\n",
       " 'D-Q8b22b_1',\n",
       " 'D-Q8b22b_2',\n",
       " 'D-Q8b22b_8',\n",
       " 'D-Q8b22b_9',\n",
       " 'D-Q8b22b_10',\n",
       " 'D-Q8b22b_11',\n",
       " 'D-Q8b22b_12',\n",
       " 'D-Q8b22c',\n",
       " 'D-Q9_1',\n",
       " 'D-Q9_2',\n",
       " 'E-T1',\n",
       " 'E-Q1',\n",
       " 'LocationLatitude',\n",
       " 'LocationLongitude',\n",
       " 'LocationAccuracy']"
      ]
     },
     "execution_count": 6,
     "metadata": {},
     "output_type": "execute_result"
    }
   ],
   "source": [
    "list(Antwort0612.columns)"
   ]
  },
  {
   "cell_type": "markdown",
   "metadata": {},
   "source": [
    "Übungen aus dem Buch"
   ]
  },
  {
   "cell_type": "code",
   "execution_count": 1,
   "metadata": {
    "collapsed": true
   },
   "outputs": [],
   "source": [
    "a=2"
   ]
  },
  {
   "cell_type": "code",
   "execution_count": 2,
   "metadata": {},
   "outputs": [
    {
     "data": {
      "text/plain": [
       "2"
      ]
     },
     "execution_count": 2,
     "metadata": {},
     "output_type": "execute_result"
    }
   ],
   "source": [
    "a"
   ]
  },
  {
   "cell_type": "code",
   "execution_count": 3,
   "metadata": {},
   "outputs": [
    {
     "ename": "NameError",
     "evalue": "name 'A' is not defined",
     "output_type": "error",
     "traceback": [
      "\u001b[1;31m---------------------------------------------------------------------------\u001b[0m",
      "\u001b[1;31mNameError\u001b[0m                                 Traceback (most recent call last)",
      "\u001b[1;32m<ipython-input-3-bf072e911907>\u001b[0m in \u001b[0;36m<module>\u001b[1;34m()\u001b[0m\n\u001b[1;32m----> 1\u001b[1;33m \u001b[0mA\u001b[0m\u001b[1;33m\u001b[0m\u001b[0m\n\u001b[0m",
      "\u001b[1;31mNameError\u001b[0m: name 'A' is not defined"
     ]
    }
   ],
   "source": [
    "A"
   ]
  },
  {
   "cell_type": "code",
   "execution_count": 4,
   "metadata": {
    "collapsed": true
   },
   "outputs": [],
   "source": [
    "L=50"
   ]
  },
  {
   "cell_type": "code",
   "execution_count": 5,
   "metadata": {},
   "outputs": [
    {
     "ename": "SyntaxError",
     "evalue": "Missing parentheses in call to 'print'. Did you mean print(L)? (<ipython-input-5-fe2729dfefa1>, line 1)",
     "output_type": "error",
     "traceback": [
      "\u001b[1;36m  File \u001b[1;32m\"<ipython-input-5-fe2729dfefa1>\"\u001b[1;36m, line \u001b[1;32m1\u001b[0m\n\u001b[1;33m    print L\u001b[0m\n\u001b[1;37m          ^\u001b[0m\n\u001b[1;31mSyntaxError\u001b[0m\u001b[1;31m:\u001b[0m Missing parentheses in call to 'print'. Did you mean print(L)?\n"
     ]
    }
   ],
   "source": [
    "print L"
   ]
  },
  {
   "cell_type": "code",
   "execution_count": 6,
   "metadata": {},
   "outputs": [
    {
     "ename": "NameError",
     "evalue": "name 'printL' is not defined",
     "output_type": "error",
     "traceback": [
      "\u001b[1;31m---------------------------------------------------------------------------\u001b[0m",
      "\u001b[1;31mNameError\u001b[0m                                 Traceback (most recent call last)",
      "\u001b[1;32m<ipython-input-6-f87a3814d48c>\u001b[0m in \u001b[0;36m<module>\u001b[1;34m()\u001b[0m\n\u001b[1;32m----> 1\u001b[1;33m \u001b[0mprintL\u001b[0m\u001b[1;33m\u001b[0m\u001b[0m\n\u001b[0m",
      "\u001b[1;31mNameError\u001b[0m: name 'printL' is not defined"
     ]
    }
   ],
   "source": [
    "printL"
   ]
  },
  {
   "cell_type": "code",
   "execution_count": 7,
   "metadata": {},
   "outputs": [
    {
     "name": "stdout",
     "output_type": "stream",
     "text": [
      "50\n"
     ]
    }
   ],
   "source": [
    "print(L)"
   ]
  },
  {
   "cell_type": "code",
   "execution_count": 8,
   "metadata": {
    "collapsed": true
   },
   "outputs": [],
   "source": [
    "L='green'"
   ]
  },
  {
   "cell_type": "code",
   "execution_count": 9,
   "metadata": {},
   "outputs": [
    {
     "data": {
      "text/plain": [
       "'green'"
      ]
     },
     "execution_count": 9,
     "metadata": {},
     "output_type": "execute_result"
    }
   ],
   "source": [
    "L"
   ]
  },
  {
   "cell_type": "code",
   "execution_count": 29,
   "metadata": {
    "collapsed": true
   },
   "outputs": [],
   "source": [
    "x=50\n",
    "y=40"
   ]
  },
  {
   "cell_type": "code",
   "execution_count": 30,
   "metadata": {
    "collapsed": true
   },
   "outputs": [],
   "source": [
    "z=x+y"
   ]
  },
  {
   "cell_type": "code",
   "execution_count": 31,
   "metadata": {},
   "outputs": [
    {
     "name": "stdout",
     "output_type": "stream",
     "text": [
      "90\n"
     ]
    }
   ],
   "source": [
    "print(z)"
   ]
  },
  {
   "cell_type": "code",
   "execution_count": 32,
   "metadata": {},
   "outputs": [
    {
     "data": {
      "text/plain": [
       "90"
      ]
     },
     "execution_count": 32,
     "metadata": {},
     "output_type": "execute_result"
    }
   ],
   "source": [
    "z"
   ]
  },
  {
   "cell_type": "code",
   "execution_count": 33,
   "metadata": {
    "collapsed": true
   },
   "outputs": [],
   "source": [
    "M=z/2"
   ]
  },
  {
   "cell_type": "code",
   "execution_count": 34,
   "metadata": {},
   "outputs": [
    {
     "data": {
      "text/plain": [
       "45.0"
      ]
     },
     "execution_count": 34,
     "metadata": {},
     "output_type": "execute_result"
    }
   ],
   "source": [
    "M"
   ]
  },
  {
   "cell_type": "code",
   "execution_count": 35,
   "metadata": {},
   "outputs": [
    {
     "data": {
      "text/plain": [
       "90000.0"
      ]
     },
     "execution_count": 35,
     "metadata": {},
     "output_type": "execute_result"
    }
   ],
   "source": [
    "(M*x)*y"
   ]
  },
  {
   "cell_type": "code",
   "execution_count": 36,
   "metadata": {
    "collapsed": true
   },
   "outputs": [],
   "source": [
    "a=5\n",
    "b=8"
   ]
  },
  {
   "cell_type": "code",
   "execution_count": 37,
   "metadata": {
    "collapsed": true
   },
   "outputs": [],
   "source": [
    "answer=[(a*a)+2*(a*b)+(b*b)]"
   ]
  },
  {
   "cell_type": "code",
   "execution_count": 38,
   "metadata": {},
   "outputs": [
    {
     "data": {
      "text/plain": [
       "[169]"
      ]
     },
     "execution_count": 38,
     "metadata": {},
     "output_type": "execute_result"
    }
   ],
   "source": [
    "answer"
   ]
  },
  {
   "cell_type": "code",
   "execution_count": 39,
   "metadata": {
    "collapsed": true
   },
   "outputs": [],
   "source": [
    "e=2"
   ]
  },
  {
   "cell_type": "code",
   "execution_count": 42,
   "metadata": {},
   "outputs": [
    {
     "ename": "SyntaxError",
     "evalue": "unexpected EOF while parsing (<ipython-input-42-5cd67dbc81dd>, line 1)",
     "output_type": "error",
     "traceback": [
      "\u001b[1;36m  File \u001b[1;32m\"<ipython-input-42-5cd67dbc81dd>\"\u001b[1;36m, line \u001b[1;32m1\u001b[0m\n\u001b[1;33m    while e<=20:\u001b[0m\n\u001b[1;37m                ^\u001b[0m\n\u001b[1;31mSyntaxError\u001b[0m\u001b[1;31m:\u001b[0m unexpected EOF while parsing\n"
     ]
    }
   ],
   "source": [
    "while e<=20:"
   ]
  },
  {
   "cell_type": "code",
   "execution_count": 45,
   "metadata": {},
   "outputs": [
    {
     "ename": "SyntaxError",
     "evalue": "invalid syntax (<ipython-input-45-12c8d0071c36>, line 4)",
     "output_type": "error",
     "traceback": [
      "\u001b[1;36m  File \u001b[1;32m\"<ipython-input-45-12c8d0071c36>\"\u001b[1;36m, line \u001b[1;32m4\u001b[0m\n\u001b[1;33m    print\"Even Numbers\"\u001b[0m\n\u001b[1;37m                      ^\u001b[0m\n\u001b[1;31mSyntaxError\u001b[0m\u001b[1;31m:\u001b[0m invalid syntax\n"
     ]
    }
   ],
   "source": [
    "while e<=20: \n",
    "    print(e)\n",
    "    e=e+2\n",
    "print\"Even Numbers\""
   ]
  },
  {
   "cell_type": "code",
   "execution_count": 46,
   "metadata": {},
   "outputs": [
    {
     "name": "stdout",
     "output_type": "stream",
     "text": [
      "2\n",
      "4\n",
      "6\n",
      "8\n",
      "10\n",
      "12\n",
      "14\n",
      "16\n",
      "18\n",
      "20\n"
     ]
    }
   ],
   "source": [
    "while e<=20: \n",
    "    print(e)\n",
    "    e=e+2"
   ]
  },
  {
   "cell_type": "code",
   "execution_count": 47,
   "metadata": {},
   "outputs": [
    {
     "name": "stdout",
     "output_type": "stream",
     "text": [
      "Even Numbers\n"
     ]
    }
   ],
   "source": [
    "while e<=20: \n",
    "    print(e)\n",
    "    e=e+2\n",
    "print(\"Even Numbers\")"
   ]
  },
  {
   "cell_type": "code",
   "execution_count": 50,
   "metadata": {},
   "outputs": [
    {
     "name": "stdout",
     "output_type": "stream",
     "text": [
      "Done\n"
     ]
    }
   ],
   "source": [
    "while e<=20: \n",
    "    print(e)\n",
    "    e=e+2\n",
    "print(\"Done\")"
   ]
  },
  {
   "cell_type": "code",
   "execution_count": 51,
   "metadata": {},
   "outputs": [
    {
     "name": "stdout",
     "output_type": "stream",
     "text": [
      "22\n",
      "24\n",
      "26\n",
      "28\n",
      "30\n",
      "Done\n"
     ]
    }
   ],
   "source": [
    "while e<=30: \n",
    "    print(e)\n",
    "    e=e+2\n",
    "print(\"Done\")"
   ]
  },
  {
   "cell_type": "code",
   "execution_count": 52,
   "metadata": {
    "collapsed": true
   },
   "outputs": [],
   "source": [
    "on=1"
   ]
  },
  {
   "cell_type": "code",
   "execution_count": 53,
   "metadata": {},
   "outputs": [
    {
     "name": "stdout",
     "output_type": "stream",
     "text": [
      "1\n",
      "3\n",
      "5\n",
      "7\n",
      "9\n",
      "11\n",
      "13\n",
      "15\n",
      "17\n",
      "19\n",
      "hurra\n"
     ]
    }
   ],
   "source": [
    "while on<=20:\n",
    "    print(on)\n",
    "    on=on+2\n",
    "print(\"hurra\")"
   ]
  },
  {
   "cell_type": "code",
   "execution_count": 54,
   "metadata": {
    "collapsed": true
   },
   "outputs": [],
   "source": [
    "P=1\n",
    "y=2016"
   ]
  },
  {
   "cell_type": "code",
   "execution_count": 60,
   "metadata": {
    "collapsed": true
   },
   "outputs": [],
   "source": [
    "p=1"
   ]
  },
  {
   "cell_type": "code",
   "execution_count": 61,
   "metadata": {},
   "outputs": [
    {
     "name": "stdout",
     "output_type": "stream",
     "text": [
      "2016,is a leap year\n",
      "2020,is a leap year\n",
      "2024,is a leap year\n",
      "2028,is a leap year\n",
      "2032,is a leap year\n",
      "fertig\n"
     ]
    }
   ],
   "source": [
    "while p<=5:\n",
    "    print(str(y)+',is a leap year')\n",
    "    y=y+4\n",
    "    p=p+1\n",
    "print(\"fertig\")"
   ]
  },
  {
   "cell_type": "code",
   "execution_count": null,
   "metadata": {
    "collapsed": true
   },
   "outputs": [],
   "source": []
  }
 ],
 "metadata": {
  "kernelspec": {
   "display_name": "Python 3",
   "language": "python",
   "name": "python3"
  },
  "language_info": {
   "codemirror_mode": {
    "name": "ipython",
    "version": 3
   },
   "file_extension": ".py",
   "mimetype": "text/x-python",
   "name": "python",
   "nbconvert_exporter": "python",
   "pygments_lexer": "ipython3",
   "version": "3.6.3"
  }
 },
 "nbformat": 4,
 "nbformat_minor": 2
}
