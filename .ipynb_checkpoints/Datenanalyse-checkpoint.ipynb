{
 "cells": [
  {
   "cell_type": "code",
   "execution_count": 1,
   "metadata": {},
   "outputs": [
    {
     "name": "stdout",
     "output_type": "stream",
     "text": [
      "Populating the interactive namespace from numpy and matplotlib\n"
     ]
    }
   ],
   "source": [
    "import pandas as pd\n",
    "% pylab inline"
   ]
  },
  {
   "cell_type": "code",
   "execution_count": 2,
   "metadata": {
    "collapsed": true
   },
   "outputs": [],
   "source": [
    "Daten = pd.read_pickle('D:\\Daten\\DISS\\Daten\\Estrategias_Estudiantes_ber')"
   ]
  },
  {
   "cell_type": "code",
   "execution_count": 3,
   "metadata": {},
   "outputs": [
    {
     "data": {
      "text/html": [
       "<div>\n",
       "<style>\n",
       "    .dataframe thead tr:only-child th {\n",
       "        text-align: right;\n",
       "    }\n",
       "\n",
       "    .dataframe thead th {\n",
       "        text-align: left;\n",
       "    }\n",
       "\n",
       "    .dataframe tbody tr th {\n",
       "        vertical-align: top;\n",
       "    }\n",
       "</style>\n",
       "<table border=\"1\" class=\"dataframe\">\n",
       "  <thead>\n",
       "    <tr style=\"text-align: right;\">\n",
       "      <th></th>\n",
       "      <th>V1</th>\n",
       "      <th>V2</th>\n",
       "      <th>V3</th>\n",
       "      <th>V4</th>\n",
       "      <th>V5</th>\n",
       "      <th>V6</th>\n",
       "      <th>V7</th>\n",
       "      <th>V8</th>\n",
       "      <th>V9</th>\n",
       "      <th>V10</th>\n",
       "      <th>...</th>\n",
       "      <th>D-Q8b22c</th>\n",
       "      <th>D-Q9_1</th>\n",
       "      <th>D-Q9_2</th>\n",
       "      <th>E-T1</th>\n",
       "      <th>E-Q1</th>\n",
       "      <th>LocationLatitude</th>\n",
       "      <th>LocationLongitude</th>\n",
       "      <th>LocationAccuracy</th>\n",
       "      <th>Unnamed: 442</th>\n",
       "      <th>porc_nan</th>\n",
       "    </tr>\n",
       "  </thead>\n",
       "  <tbody>\n",
       "    <tr>\n",
       "      <th>0</th>\n",
       "      <td>R_1kOiXpqqaX3Irxm</td>\n",
       "      <td>Default Response Set</td>\n",
       "      <td>Anonymous</td>\n",
       "      <td>NaN</td>\n",
       "      <td>NaN</td>\n",
       "      <td>88.3.172.215</td>\n",
       "      <td>0</td>\n",
       "      <td>2017-11-09 13:10:29</td>\n",
       "      <td>2017-11-09 13:25:39</td>\n",
       "      <td>1</td>\n",
       "      <td>...</td>\n",
       "      <td>NaN</td>\n",
       "      <td>NaN</td>\n",
       "      <td>1.0</td>\n",
       "      <td>1</td>\n",
       "      <td>Gratificante y útil</td>\n",
       "      <td>40.968795776367</td>\n",
       "      <td>-5.6638946533203</td>\n",
       "      <td>-1</td>\n",
       "      <td>NaN</td>\n",
       "      <td>72.009029</td>\n",
       "    </tr>\n",
       "    <tr>\n",
       "      <th>1</th>\n",
       "      <td>R_1F5FzvY7aYwiipy</td>\n",
       "      <td>Default Response Set</td>\n",
       "      <td>Anonymous</td>\n",
       "      <td>NaN</td>\n",
       "      <td>NaN</td>\n",
       "      <td>212.128.135.110</td>\n",
       "      <td>0</td>\n",
       "      <td>2017-11-10 01:39:27</td>\n",
       "      <td>2017-11-10 01:54:25</td>\n",
       "      <td>1</td>\n",
       "      <td>...</td>\n",
       "      <td>NaN</td>\n",
       "      <td>NaN</td>\n",
       "      <td>1.0</td>\n",
       "      <td>1</td>\n",
       "      <td>Una encuesta muy completa que me ha servido pa...</td>\n",
       "      <td>40.96809387207</td>\n",
       "      <td>-5.6620025634766</td>\n",
       "      <td>-1</td>\n",
       "      <td>NaN</td>\n",
       "      <td>70.428894</td>\n",
       "    </tr>\n",
       "    <tr>\n",
       "      <th>2</th>\n",
       "      <td>R_2ErWjTyNYcSh10N</td>\n",
       "      <td>Default Response Set</td>\n",
       "      <td>Anonymous</td>\n",
       "      <td>NaN</td>\n",
       "      <td>NaN</td>\n",
       "      <td>212.128.135.84</td>\n",
       "      <td>0</td>\n",
       "      <td>2017-11-10 02:23:28</td>\n",
       "      <td>2017-11-10 02:39:04</td>\n",
       "      <td>1</td>\n",
       "      <td>...</td>\n",
       "      <td>NaN</td>\n",
       "      <td>NaN</td>\n",
       "      <td>1.0</td>\n",
       "      <td>1</td>\n",
       "      <td>NaN</td>\n",
       "      <td>40.96809387207</td>\n",
       "      <td>-5.6620025634766</td>\n",
       "      <td>-1</td>\n",
       "      <td>NaN</td>\n",
       "      <td>70.880361</td>\n",
       "    </tr>\n",
       "  </tbody>\n",
       "</table>\n",
       "<p>3 rows × 444 columns</p>\n",
       "</div>"
      ],
      "text/plain": [
       "                  V1                    V2         V3   V4   V5  \\\n",
       "0  R_1kOiXpqqaX3Irxm  Default Response Set  Anonymous  NaN  NaN   \n",
       "1  R_1F5FzvY7aYwiipy  Default Response Set  Anonymous  NaN  NaN   \n",
       "2  R_2ErWjTyNYcSh10N  Default Response Set  Anonymous  NaN  NaN   \n",
       "\n",
       "                V6 V7                   V8                   V9 V10  \\\n",
       "0     88.3.172.215  0  2017-11-09 13:10:29  2017-11-09 13:25:39   1   \n",
       "1  212.128.135.110  0  2017-11-10 01:39:27  2017-11-10 01:54:25   1   \n",
       "2   212.128.135.84  0  2017-11-10 02:23:28  2017-11-10 02:39:04   1   \n",
       "\n",
       "     ...     D-Q8b22c D-Q9_1 D-Q9_2 E-T1  \\\n",
       "0    ...          NaN    NaN    1.0    1   \n",
       "1    ...          NaN    NaN    1.0    1   \n",
       "2    ...          NaN    NaN    1.0    1   \n",
       "\n",
       "                                                E-Q1 LocationLatitude  \\\n",
       "0                               Gratificante y útil   40.968795776367   \n",
       "1  Una encuesta muy completa que me ha servido pa...   40.96809387207   \n",
       "2                                                NaN   40.96809387207   \n",
       "\n",
       "  LocationLongitude LocationAccuracy Unnamed: 442   porc_nan  \n",
       "0  -5.6638946533203               -1          NaN  72.009029  \n",
       "1  -5.6620025634766               -1          NaN  70.428894  \n",
       "2  -5.6620025634766               -1          NaN  70.880361  \n",
       "\n",
       "[3 rows x 444 columns]"
      ]
     },
     "execution_count": 3,
     "metadata": {},
     "output_type": "execute_result"
    }
   ],
   "source": [
    "Daten.head(3)"
   ]
  },
  {
   "cell_type": "markdown",
   "metadata": {},
   "source": [
    "Glossar erstellen = Datei aufrufen (in anderem Notebook erstellt + gespeichert)"
   ]
  },
  {
   "cell_type": "code",
   "execution_count": 4,
   "metadata": {
    "collapsed": true
   },
   "outputs": [],
   "source": [
    "gloss = pd.read_pickle('D:\\Daten\\DISS\\Daten\\Gloss')"
   ]
  },
  {
   "cell_type": "markdown",
   "metadata": {},
   "source": [
    "Funktion, um Index (Name) einer Bezeichnung im Glossar zu finden:"
   ]
  },
  {
   "cell_type": "code",
   "execution_count": 5,
   "metadata": {
    "collapsed": true
   },
   "outputs": [],
   "source": [
    "def get_name_gloss(word):\n",
    "    for i, val in enumerate(gloss[0]):\n",
    "        if word.lower() in str(val).lower():\n",
    "            return i, gloss.index[i]"
   ]
  },
  {
   "cell_type": "markdown",
   "metadata": {},
   "source": [
    "Funktion, um Bezeichnung von Index im Glossar zu finden:"
   ]
  },
  {
   "cell_type": "code",
   "execution_count": 6,
   "metadata": {
    "collapsed": true
   },
   "outputs": [],
   "source": [
    "def get_name_glossind(word):\n",
    "    for i, val in enumerate(gloss.index):\n",
    "        if word.lower() in str(val).lower():\n",
    "            return i, gloss.loc[val][0]"
   ]
  },
  {
   "cell_type": "code",
   "execution_count": 7,
   "metadata": {},
   "outputs": [
    {
     "data": {
      "text/plain": [
       "(17,\n",
       " 'Probablemente, en este texto encuentre palabras o grupos de palabras que no conoce aún. Sin embar...')"
      ]
     },
     "execution_count": 7,
     "metadata": {},
     "output_type": "execute_result"
    }
   ],
   "source": [
    "get_name_glossind('A-Q1')"
   ]
  },
  {
   "cell_type": "markdown",
   "metadata": {},
   "source": [
    "Grafik (Histogram) anzeigen:"
   ]
  },
  {
   "cell_type": "code",
   "execution_count": 8,
   "metadata": {},
   "outputs": [
    {
     "data": {
      "text/plain": [
       "<matplotlib.axes._subplots.AxesSubplot at 0xabd1588>"
      ]
     },
     "execution_count": 8,
     "metadata": {},
     "output_type": "execute_result"
    },
    {
     "data": {
      "image/png": "[encoded data removed]",
      "text/plain": [
       "<matplotlib.figure.Figure at 0xabc1f60>"
      ]
     },
     "metadata": {},
     "output_type": "display_data"
    }
   ],
   "source": [
    "Daten['A_Q3_25'].hist()"
   ]
  },
  {
   "cell_type": "code",
   "execution_count": 9,
   "metadata": {},
   "outputs": [
    {
     "data": {
      "text/plain": [
       "<matplotlib.axes._subplots.AxesSubplot at 0xabecb38>"
      ]
     },
     "execution_count": 9,
     "metadata": {},
     "output_type": "execute_result"
    },
    {
     "data": {
      "image/png": "[encoded data removed]",
      "text/plain": [
       "<matplotlib.figure.Figure at 0xafc7f98>"
      ]
     },
     "metadata": {},
     "output_type": "display_data"
    }
   ],
   "source": [
    "Daten['A_Q3_24'].hist()"
   ]
  },
  {
   "cell_type": "markdown",
   "metadata": {},
   "source": [
    "Liste erstellen:"
   ]
  },
  {
   "cell_type": "code",
   "execution_count": 10,
   "metadata": {
    "collapsed": true
   },
   "outputs": [],
   "source": [
    "Liste_A_Q2 = [col for col in Daten.columns if 'A_Q2' in col]"
   ]
  },
  {
   "cell_type": "markdown",
   "metadata": {},
   "source": [
    "später sollen Listen für alle Fragenkomplexe erstellt werden (alle Likert zumindest)"
   ]
  },
  {
   "cell_type": "code",
   "execution_count": 11,
   "metadata": {
    "collapsed": true
   },
   "outputs": [],
   "source": [
    "Liste_C_Q1 = [col for col in Daten.columns if 'C_Q1' in col]"
   ]
  },
  {
   "cell_type": "markdown",
   "metadata": {},
   "source": [
    "Funktion erstellen:\n",
    "\n",
    "Name + in Klammer Variablen\n",
    "* fig = Figur/Grafik; plt = Library matplotlib aufrufen (hier wird Platz für Grafik reserviert)\n",
    "* i = Nummer der Figuren - gleiche Reihenfolge wie Spalten (=col) der Liste\n",
    "* enumerate = Liste durchgehen\n",
    "* plt.subplot = der Reihe nach Grafiken erstellen, n Zeilen, n Spalten\n",
    "* plt.hist = erstellt Histogram für angegebene Daten; .dropna -> fehlende Werte weglassen\n",
    "* plt.title = Titel hinzufügen\n",
    "* plt.show = Grafiken anzeigen"
   ]
  },
  {
   "cell_type": "code",
   "execution_count": 12,
   "metadata": {
    "collapsed": true
   },
   "outputs": [],
   "source": [
    "def graf_hist(l,sx,sy,nrow,ncol):\n",
    "    fig = plt.figure(figsize=(sx,sy))\n",
    "    for i, col in enumerate(l):\n",
    "        plt.subplot(nrow,ncol,i+1)\n",
    "        plt.hist(Daten[col].dropna(),color = '#0063A6')\n",
    "        plt.xticks([1,2,3,4,5])\n",
    "        plt.title(col,size=13)\n",
    "    plt.show()"
   ]
  },
  {
   "cell_type": "code",
   "execution_count": 13,
   "metadata": {},
   "outputs": [
    {
     "data": {
      "image/png": "[encoded data removed]",
      "text/plain": [
       "<matplotlib.figure.Figure at 0xafccc50>"
      ]
     },
     "metadata": {},
     "output_type": "display_data"
    }
   ],
   "source": [
    "graf_hist(Liste_A_Q2,16,8,2,4)"
   ]
  },
  {
   "cell_type": "code",
   "execution_count": 14,
   "metadata": {},
   "outputs": [
    {
     "data": {
      "text/plain": [
       "'A-Q3A_Q3_3_TEXT'"
      ]
     },
     "execution_count": 14,
     "metadata": {},
     "output_type": "execute_result"
    }
   ],
   "source": [
    "Liste_A_Q3 = [col for col in Daten.columns if 'A_Q3' in col]\n",
    "Liste_A_Q3.pop(3)"
   ]
  },
  {
   "cell_type": "markdown",
   "metadata": {},
   "source": [
    "kann noch verbessert werden:\n",
    "\n",
    "statt Spalte \"3\" (eigentlich 4, Python zählt ja ab 0) irgendwie \"text\"-Spalte weglassen"
   ]
  },
  {
   "cell_type": "code",
   "execution_count": 15,
   "metadata": {},
   "outputs": [
    {
     "data": {
      "text/plain": [
       "33"
      ]
     },
     "execution_count": 15,
     "metadata": {},
     "output_type": "execute_result"
    }
   ],
   "source": [
    "len(Liste_A_Q3)"
   ]
  },
  {
   "cell_type": "markdown",
   "metadata": {},
   "source": [
    "len = Länge der Liste anzeigen"
   ]
  },
  {
   "cell_type": "code",
   "execution_count": 16,
   "metadata": {},
   "outputs": [
    {
     "data": {
      "image/png": "[encoded data removed]",
      "text/plain": [
       "<matplotlib.figure.Figure at 0xc415630>"
      ]
     },
     "metadata": {},
     "output_type": "display_data"
    }
   ],
   "source": [
    "graf_hist(Liste_A_Q3,16,30,9,4)"
   ]
  },
  {
   "cell_type": "code",
   "execution_count": 17,
   "metadata": {},
   "outputs": [
    {
     "data": {
      "image/png": "[encoded data removed]",
      "text/plain": [
       "<matplotlib.figure.Figure at 0xde80978>"
      ]
     },
     "metadata": {},
     "output_type": "display_data"
    }
   ],
   "source": [
    "graf_hist(Liste_C_Q1,16,12,3,4)"
   ]
  },
  {
   "cell_type": "markdown",
   "metadata": {},
   "source": [
    "### Korrelation"
   ]
  },
  {
   "cell_type": "markdown",
   "metadata": {},
   "source": [
    "Funktion für Korrelationen:"
   ]
  },
  {
   "cell_type": "code",
   "execution_count": 18,
   "metadata": {
    "collapsed": true
   },
   "outputs": [],
   "source": [
    "def get_Korr_M(Dat,l):\n",
    "    return pd.DataFrame(np.corrcoef(Dat[l].dropna().T),columns = l, index = l)"
   ]
  },
  {
   "cell_type": "markdown",
   "metadata": {},
   "source": [
    "Korrelation für A_Q2:"
   ]
  },
  {
   "cell_type": "code",
   "execution_count": 19,
   "metadata": {
    "collapsed": true
   },
   "outputs": [],
   "source": [
    "Korr_A_Q2 = get_Korr_M(Daten,Liste_A_Q2)"
   ]
  },
  {
   "cell_type": "markdown",
   "metadata": {},
   "source": [
    "Korrelation für A_Q3:"
   ]
  },
  {
   "cell_type": "code",
   "execution_count": 20,
   "metadata": {
    "collapsed": true
   },
   "outputs": [],
   "source": [
    "Korr_A_Q3 = get_Korr_M(Daten,Liste_A_Q3)"
   ]
  },
  {
   "cell_type": "code",
   "execution_count": 21,
   "metadata": {
    "collapsed": true
   },
   "outputs": [],
   "source": [
    "Korr_C_Q1 = get_Korr_M(Daten,Liste_C_Q1)"
   ]
  },
  {
   "cell_type": "markdown",
   "metadata": {},
   "source": [
    "Funktion, um Daten mit bestimmtem Korrelationswert (z.B. über 0,5) zu bekommen:"
   ]
  },
  {
   "cell_type": "code",
   "execution_count": 22,
   "metadata": {
    "collapsed": true
   },
   "outputs": [],
   "source": [
    "def get_max_corr(df,col,lim = 0.5):\n",
    "    return df[(df[col] > lim) & (df[col].dropna() < 0.99)][col]"
   ]
  },
  {
   "cell_type": "code",
   "execution_count": 23,
   "metadata": {},
   "outputs": [
    {
     "data": {
      "text/plain": [
       "A_Q3_2     0.469917\n",
       "A_Q3_11    0.405196\n",
       "A_Q3_12    0.423585\n",
       "Name: A_Q3_1, dtype: float64"
      ]
     },
     "execution_count": 23,
     "metadata": {},
     "output_type": "execute_result"
    }
   ],
   "source": [
    "get_max_corr(Korr_A_Q3,'A_Q3_1', lim = 0.4)"
   ]
  },
  {
   "cell_type": "code",
   "execution_count": 24,
   "metadata": {},
   "outputs": [
    {
     "name": "stdout",
     "output_type": "stream",
     "text": [
      "Series([], Name: A_Q3_1, dtype: float64)\n",
      "Series([], Name: A_Q3_2, dtype: float64)\n",
      "Series([], Name: A_Q3_3, dtype: float64)\n",
      "Series([], Name: A_Q3_4, dtype: float64)\n",
      "Series([], Name: A_Q3_5, dtype: float64)\n",
      "Series([], Name: A_Q3_6, dtype: float64)\n",
      "A_Q3_9    0.70272\n",
      "Name: A_Q3_7, dtype: float64\n",
      "A_Q3_9    0.756879\n",
      "Name: A_Q3_8, dtype: float64\n",
      "A_Q3_7    0.702720\n",
      "A_Q3_8    0.756879\n",
      "Name: A_Q3_9, dtype: float64\n",
      "Series([], Name: A_Q3_10, dtype: float64)\n",
      "Series([], Name: A_Q3_30, dtype: float64)\n",
      "Series([], Name: A_Q3_11, dtype: float64)\n",
      "Series([], Name: A_Q3_12, dtype: float64)\n",
      "Series([], Name: A_Q3_13, dtype: float64)\n",
      "Series([], Name: A_Q3_14, dtype: float64)\n",
      "Series([], Name: A_Q3_31, dtype: float64)\n",
      "Series([], Name: A_Q3_15, dtype: float64)\n",
      "Series([], Name: A_Q3_16, dtype: float64)\n",
      "Series([], Name: A_Q3_17, dtype: float64)\n",
      "Series([], Name: A_Q3_18, dtype: float64)\n",
      "Series([], Name: A_Q3_19, dtype: float64)\n",
      "Series([], Name: A_Q3_20, dtype: float64)\n",
      "Series([], Name: A_Q3_21, dtype: float64)\n",
      "Series([], Name: A_Q3_22, dtype: float64)\n",
      "A_Q3_24    0.710239\n",
      "Name: A_Q3_23, dtype: float64\n",
      "A_Q3_23    0.710239\n",
      "Name: A_Q3_24, dtype: float64\n",
      "Series([], Name: A_Q3_25, dtype: float64)\n",
      "Series([], Name: A_Q3_26, dtype: float64)\n",
      "Series([], Name: A_Q3_27, dtype: float64)\n",
      "Series([], Name: A_Q3_32, dtype: float64)\n",
      "Series([], Name: A_Q3_33, dtype: float64)\n",
      "Series([], Name: A_Q3_28, dtype: float64)\n",
      "Series([], Name: A_Q3_29, dtype: float64)\n"
     ]
    }
   ],
   "source": [
    "for col in Liste_A_Q3:\n",
    "    print(get_max_corr(Korr_A_Q3,col,0.7))"
   ]
  },
  {
   "cell_type": "code",
   "execution_count": 25,
   "metadata": {},
   "outputs": [
    {
     "data": {
      "text/plain": [
       "C_Q1_4    0.473358\n",
       "Name: C_Q1_1, dtype: float64"
      ]
     },
     "execution_count": 25,
     "metadata": {},
     "output_type": "execute_result"
    }
   ],
   "source": [
    "get_max_corr(Korr_C_Q1,'C_Q1_1', lim = 0.4)"
   ]
  },
  {
   "cell_type": "code",
   "execution_count": 26,
   "metadata": {},
   "outputs": [
    {
     "name": "stdout",
     "output_type": "stream",
     "text": [
      "Series([], Name: C_Q1_1, dtype: float64)\n",
      "C_Q1_9    0.542577\n",
      "Name: C_Q1_2, dtype: float64\n",
      "Series([], Name: C_Q1_3, dtype: float64)\n",
      "Series([], Name: C_Q1_4, dtype: float64)\n",
      "Series([], Name: C_Q1_5, dtype: float64)\n",
      "Series([], Name: C_Q1_6, dtype: float64)\n",
      "Series([], Name: C_Q1_7, dtype: float64)\n",
      "Series([], Name: C_Q1_8, dtype: float64)\n",
      "C_Q1_2    0.542577\n",
      "Name: C_Q1_9, dtype: float64\n",
      "Series([], Name: C_Q1_10, dtype: float64)\n",
      "Series([], Name: C_Q1_11, dtype: float64)\n"
     ]
    }
   ],
   "source": [
    "for col in Liste_C_Q1:\n",
    "    print(get_max_corr(Korr_C_Q1,col,0.5))"
   ]
  },
  {
   "cell_type": "markdown",
   "metadata": {},
   "source": [
    "### Cronbach's Alpha berechnen"
   ]
  },
  {
   "cell_type": "code",
   "execution_count": 27,
   "metadata": {
    "collapsed": true
   },
   "outputs": [],
   "source": [
    "def CronbachAlpha(itemscores):\n",
    "    itemscores = np.asarray(itemscores)\n",
    "    itemvars = itemscores.var(axis=0, ddof=1)\n",
    "    tscores = itemscores.sum(axis=1)\n",
    "    nitems = itemscores.shape[1]\n",
    "    calpha = nitems / float(nitems-1) * (1 - itemvars.sum() / float(tscores.var(ddof=1)))\n",
    "\n",
    "    return calpha"
   ]
  },
  {
   "cell_type": "code",
   "execution_count": 31,
   "metadata": {},
   "outputs": [
    {
     "data": {
      "text/plain": [
       "0.88585328730929458"
      ]
     },
     "execution_count": 31,
     "metadata": {},
     "output_type": "execute_result"
    }
   ],
   "source": [
    "CronbachAlpha(Daten[Liste_A_Q3].fillna(3))"
   ]
  },
  {
   "cell_type": "code",
   "execution_count": 33,
   "metadata": {},
   "outputs": [],
   "source": [
    "Liste_A_Q = Liste_A_Q2 + Liste_A_Q3"
   ]
  },
  {
   "cell_type": "code",
   "execution_count": 36,
   "metadata": {
    "collapsed": true
   },
   "outputs": [],
   "source": [
    "Liste_AC_Q = Liste_A_Q + Liste_C_Q1"
   ]
  },
  {
   "cell_type": "code",
   "execution_count": 37,
   "metadata": {},
   "outputs": [
    {
     "data": {
      "text/plain": [
       "0.89098715087024827"
      ]
     },
     "execution_count": 37,
     "metadata": {},
     "output_type": "execute_result"
    }
   ],
   "source": [
    "CronbachAlpha(Daten[Liste_AC_Q].fillna(3))"
   ]
  },
  {
   "cell_type": "code",
   "execution_count": 38,
   "metadata": {},
   "outputs": [
    {
     "data": {
      "text/plain": [
       "0.50703764755928948"
      ]
     },
     "execution_count": 38,
     "metadata": {},
     "output_type": "execute_result"
    }
   ],
   "source": [
    "CronbachAlpha(Daten[Liste_C_Q1].fillna(3))"
   ]
  },
  {
   "cell_type": "code",
   "execution_count": 39,
   "metadata": {},
   "outputs": [
    {
     "data": {
      "text/plain": [
       "0.43076144666982069"
      ]
     },
     "execution_count": 39,
     "metadata": {},
     "output_type": "execute_result"
    }
   ],
   "source": [
    "CronbachAlpha(Daten[Liste_A_Q2].fillna(3))"
   ]
  },
  {
   "cell_type": "code",
   "execution_count": null,
   "metadata": {
    "collapsed": true
   },
   "outputs": [],
   "source": []
  }
 ],
 "metadata": {
  "kernelspec": {
   "display_name": "Python 3",
   "language": "python",
   "name": "python3"
  },
  "language_info": {
   "codemirror_mode": {
    "name": "ipython",
    "version": 3
   },
   "file_extension": ".py",
   "mimetype": "text/x-python",
   "name": "python",
   "nbconvert_exporter": "python",
   "pygments_lexer": "ipython3",
   "version": "3.6.3"
  }
 },
 "nbformat": 4,
 "nbformat_minor": 2
}
