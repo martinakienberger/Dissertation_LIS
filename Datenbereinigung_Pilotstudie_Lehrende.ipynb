{
 "cells": [
  {
   "cell_type": "markdown",
   "metadata": {},
   "source": [
    "## Erschließungsstrategien für unbekannten Wortschatz von DaF-Lernenden an spanischen Universitäten\n",
    "# Datenbereinigung der begleitenden Lehrendenbefragung 2017/18\n"
   ]
  },
  {
   "cell_type": "markdown",
   "metadata": {},
   "source": [
    "### Daten importieren"
   ]
  },
  {
   "cell_type": "code",
   "execution_count": 43,
   "metadata": {},
   "outputs": [
    {
     "name": "stdout",
     "output_type": "stream",
     "text": [
      "Populating the interactive namespace from numpy and matplotlib\n"
     ]
    }
   ],
   "source": [
    "import pandas as pd\n",
    "import numpy as np\n",
    "% pylab inline"
   ]
  },
  {
   "cell_type": "code",
   "execution_count": 76,
   "metadata": {},
   "outputs": [],
   "source": [
    "#Rohdaten = pd.read_excel('D:\\Daten\\DISS\\Daten\\EstrategiasProfesoresKienbergerP2017n.xlsx', encoding='utf-16')"
   ]
  },
  {
   "cell_type": "code",
   "execution_count": 78,
   "metadata": {},
   "outputs": [],
   "source": [
    "#Rohdaten.to_csv('D:\\Daten\\DISS\\Daten\\EstrategiasProfesoresKienbergerP2017n.tsv', sep = '\\t', encoding='utf-16')"
   ]
  },
  {
   "cell_type": "code",
   "execution_count": 82,
   "metadata": {},
   "outputs": [],
   "source": [
    "Rohdaten = pd.read_csv('D:\\Daten\\DISS\\Daten\\EstrategiasProfesoresKienbergerP2017n.tsv', sep = '\\t', encoding='utf-16')"
   ]
  },
  {
   "cell_type": "code",
   "execution_count": 85,
   "metadata": {},
   "outputs": [
    {
     "data": {
      "text/html": [
       "<div>\n",
       "<style scoped>\n",
       "    .dataframe tbody tr th:only-of-type {\n",
       "        vertical-align: middle;\n",
       "    }\n",
       "\n",
       "    .dataframe tbody tr th {\n",
       "        vertical-align: top;\n",
       "    }\n",
       "\n",
       "    .dataframe thead th {\n",
       "        text-align: right;\n",
       "    }\n",
       "</style>\n",
       "<table border=\"1\" class=\"dataframe\">\n",
       "  <thead>\n",
       "    <tr style=\"text-align: right;\">\n",
       "      <th></th>\n",
       "      <th>Unnamed: 0</th>\n",
       "      <th>StartDate</th>\n",
       "      <th>EndDate</th>\n",
       "      <th>Status</th>\n",
       "      <th>IPAddress</th>\n",
       "      <th>Progress</th>\n",
       "      <th>Duration (in seconds)</th>\n",
       "      <th>Finished</th>\n",
       "      <th>RecordedDate</th>\n",
       "      <th>ResponseId</th>\n",
       "      <th>...</th>\n",
       "      <th>D-Q5_9</th>\n",
       "      <th>D-Q5_9_TEXT</th>\n",
       "      <th>D-Q5_10</th>\n",
       "      <th>D-Q5_10_TEXT</th>\n",
       "      <th>D-Q5a</th>\n",
       "      <th>D-Q6</th>\n",
       "      <th>E-Q1</th>\n",
       "      <th>E-Q2</th>\n",
       "      <th>D-Q5_D-Q5_6_TEXT - Topics</th>\n",
       "      <th>E-Q1 - Topics</th>\n",
       "    </tr>\n",
       "  </thead>\n",
       "  <tbody>\n",
       "    <tr>\n",
       "      <th>0</th>\n",
       "      <td>0</td>\n",
       "      <td>Start Date</td>\n",
       "      <td>End Date</td>\n",
       "      <td>Response Type</td>\n",
       "      <td>IP Address</td>\n",
       "      <td>Progress</td>\n",
       "      <td>Duration (in seconds)</td>\n",
       "      <td>Finished</td>\n",
       "      <td>Recorded Date</td>\n",
       "      <td>Response ID</td>\n",
       "      <td>...</td>\n",
       "      <td>Idiomas     Indique su(s) lengua(s) materna(s)...</td>\n",
       "      <td>Idiomas     Indique su(s) lengua(s) materna(s)...</td>\n",
       "      <td>Idiomas     Indique su(s) lengua(s) materna(s)...</td>\n",
       "      <td>Idiomas     Indique su(s) lengua(s) materna(s)...</td>\n",
       "      <td>Comentarios (opcional):</td>\n",
       "      <td>Género:</td>\n",
       "      <td>Si lo desea, puede escribir un comentario y da...</td>\n",
       "      <td>¿Le interesa saber más sobre este proyecto de ...</td>\n",
       "      <td>D-Q5_D-Q5_6_TEXT - Topics</td>\n",
       "      <td>E-Q1 - Topics</td>\n",
       "    </tr>\n",
       "    <tr>\n",
       "      <th>2</th>\n",
       "      <td>2</td>\n",
       "      <td>04.11.2017 07:13</td>\n",
       "      <td>06.11.2017 04:51</td>\n",
       "      <td>1</td>\n",
       "      <td>NaN</td>\n",
       "      <td>100</td>\n",
       "      <td>167902</td>\n",
       "      <td>1</td>\n",
       "      <td>06.11.2017 04:51</td>\n",
       "      <td>R_2TNRdsuCOcRqpo7</td>\n",
       "      <td>...</td>\n",
       "      <td>NaN</td>\n",
       "      <td>NaN</td>\n",
       "      <td>NaN</td>\n",
       "      <td>NaN</td>\n",
       "      <td>NaN</td>\n",
       "      <td>1</td>\n",
       "      <td>NaN</td>\n",
       "      <td>NaN</td>\n",
       "      <td>NaN</td>\n",
       "      <td>NaN</td>\n",
       "    </tr>\n",
       "    <tr>\n",
       "      <th>3</th>\n",
       "      <td>3</td>\n",
       "      <td>06.11.2017 05:33</td>\n",
       "      <td>06.11.2017 05:49</td>\n",
       "      <td>0</td>\n",
       "      <td>212.128.178.16</td>\n",
       "      <td>100</td>\n",
       "      <td>931</td>\n",
       "      <td>1</td>\n",
       "      <td>06.11.2017 05:49</td>\n",
       "      <td>R_3fjTaLXP5J3thgm</td>\n",
       "      <td>...</td>\n",
       "      <td>NaN</td>\n",
       "      <td>NaN</td>\n",
       "      <td>NaN</td>\n",
       "      <td>NaN</td>\n",
       "      <td>NaN</td>\n",
       "      <td>1</td>\n",
       "      <td>NaN</td>\n",
       "      <td>NaN</td>\n",
       "      <td>NaN</td>\n",
       "      <td>NaN</td>\n",
       "    </tr>\n",
       "  </tbody>\n",
       "</table>\n",
       "<p>3 rows × 93 columns</p>\n",
       "</div>"
      ],
      "text/plain": [
       "   Unnamed: 0         StartDate           EndDate         Status  \\\n",
       "0           0        Start Date          End Date  Response Type   \n",
       "2           2  04.11.2017 07:13  06.11.2017 04:51              1   \n",
       "3           3  06.11.2017 05:33  06.11.2017 05:49              0   \n",
       "\n",
       "        IPAddress  Progress  Duration (in seconds)  Finished  \\\n",
       "0      IP Address  Progress  Duration (in seconds)  Finished   \n",
       "2             NaN       100                 167902         1   \n",
       "3  212.128.178.16       100                    931         1   \n",
       "\n",
       "       RecordedDate         ResponseId      ...        \\\n",
       "0     Recorded Date        Response ID      ...         \n",
       "2  06.11.2017 04:51  R_2TNRdsuCOcRqpo7      ...         \n",
       "3  06.11.2017 05:49  R_3fjTaLXP5J3thgm      ...         \n",
       "\n",
       "                                              D-Q5_9  \\\n",
       "0  Idiomas     Indique su(s) lengua(s) materna(s)...   \n",
       "2                                                NaN   \n",
       "3                                                NaN   \n",
       "\n",
       "                                         D-Q5_9_TEXT  \\\n",
       "0  Idiomas     Indique su(s) lengua(s) materna(s)...   \n",
       "2                                                NaN   \n",
       "3                                                NaN   \n",
       "\n",
       "                                             D-Q5_10  \\\n",
       "0  Idiomas     Indique su(s) lengua(s) materna(s)...   \n",
       "2                                                NaN   \n",
       "3                                                NaN   \n",
       "\n",
       "                                        D-Q5_10_TEXT                    D-Q5a  \\\n",
       "0  Idiomas     Indique su(s) lengua(s) materna(s)...  Comentarios (opcional):   \n",
       "2                                                NaN                      NaN   \n",
       "3                                                NaN                      NaN   \n",
       "\n",
       "      D-Q6                                               E-Q1  \\\n",
       "0  Género:  Si lo desea, puede escribir un comentario y da...   \n",
       "2        1                                                NaN   \n",
       "3        1                                                NaN   \n",
       "\n",
       "                                                E-Q2  \\\n",
       "0  ¿Le interesa saber más sobre este proyecto de ...   \n",
       "2                                                NaN   \n",
       "3                                                NaN   \n",
       "\n",
       "   D-Q5_D-Q5_6_TEXT - Topics  E-Q1 - Topics  \n",
       "0  D-Q5_D-Q5_6_TEXT - Topics  E-Q1 - Topics  \n",
       "2                        NaN            NaN  \n",
       "3                        NaN            NaN  \n",
       "\n",
       "[3 rows x 93 columns]"
      ]
     },
     "execution_count": 85,
     "metadata": {},
     "output_type": "execute_result"
    }
   ],
   "source": [
    "Rohdaten = Rohdaten.drop(1)\n",
    "Rohdaten.head(3)"
   ]
  },
  {
   "cell_type": "markdown",
   "metadata": {},
   "source": [
    "### Glossar erstellen"
   ]
  },
  {
   "cell_type": "code",
   "execution_count": 86,
   "metadata": {
    "scrolled": true
   },
   "outputs": [],
   "source": [
    "gloss = pd.DataFrame(Rohdaten.loc[0])"
   ]
  },
  {
   "cell_type": "code",
   "execution_count": 87,
   "metadata": {},
   "outputs": [],
   "source": [
    "def get_name_gloss(word):\n",
    "    for i, val in enumerate(gloss[0]):\n",
    "        if word.lower() in str(val).lower():\n",
    "            return i, gloss.index[i]"
   ]
  },
  {
   "cell_type": "code",
   "execution_count": 88,
   "metadata": {},
   "outputs": [
    {
     "data": {
      "text/html": [
       "<div>\n",
       "<style scoped>\n",
       "    .dataframe tbody tr th:only-of-type {\n",
       "        vertical-align: middle;\n",
       "    }\n",
       "\n",
       "    .dataframe tbody tr th {\n",
       "        vertical-align: top;\n",
       "    }\n",
       "\n",
       "    .dataframe thead th {\n",
       "        text-align: right;\n",
       "    }\n",
       "</style>\n",
       "<table border=\"1\" class=\"dataframe\">\n",
       "  <thead>\n",
       "    <tr style=\"text-align: right;\">\n",
       "      <th></th>\n",
       "      <th>Unnamed: 0</th>\n",
       "      <th>StartDate</th>\n",
       "      <th>EndDate</th>\n",
       "      <th>Status</th>\n",
       "      <th>IPAddress</th>\n",
       "      <th>Progress</th>\n",
       "      <th>Duration (in seconds)</th>\n",
       "      <th>Finished</th>\n",
       "      <th>RecordedDate</th>\n",
       "      <th>ResponseId</th>\n",
       "      <th>...</th>\n",
       "      <th>D-Q5_9</th>\n",
       "      <th>D-Q5_9_TEXT</th>\n",
       "      <th>D-Q5_10</th>\n",
       "      <th>D-Q5_10_TEXT</th>\n",
       "      <th>D-Q5a</th>\n",
       "      <th>D-Q6</th>\n",
       "      <th>E-Q1</th>\n",
       "      <th>E-Q2</th>\n",
       "      <th>D-Q5_D-Q5_6_TEXT - Topics</th>\n",
       "      <th>E-Q1 - Topics</th>\n",
       "    </tr>\n",
       "  </thead>\n",
       "  <tbody>\n",
       "    <tr>\n",
       "      <th>0</th>\n",
       "      <td>2</td>\n",
       "      <td>04.11.2017 07:13</td>\n",
       "      <td>06.11.2017 04:51</td>\n",
       "      <td>1</td>\n",
       "      <td>NaN</td>\n",
       "      <td>100</td>\n",
       "      <td>167902</td>\n",
       "      <td>1</td>\n",
       "      <td>06.11.2017 04:51</td>\n",
       "      <td>R_2TNRdsuCOcRqpo7</td>\n",
       "      <td>...</td>\n",
       "      <td>NaN</td>\n",
       "      <td>NaN</td>\n",
       "      <td>NaN</td>\n",
       "      <td>NaN</td>\n",
       "      <td>NaN</td>\n",
       "      <td>1</td>\n",
       "      <td>NaN</td>\n",
       "      <td>NaN</td>\n",
       "      <td>NaN</td>\n",
       "      <td>NaN</td>\n",
       "    </tr>\n",
       "    <tr>\n",
       "      <th>1</th>\n",
       "      <td>3</td>\n",
       "      <td>06.11.2017 05:33</td>\n",
       "      <td>06.11.2017 05:49</td>\n",
       "      <td>0</td>\n",
       "      <td>212.128.178.16</td>\n",
       "      <td>100</td>\n",
       "      <td>931</td>\n",
       "      <td>1</td>\n",
       "      <td>06.11.2017 05:49</td>\n",
       "      <td>R_3fjTaLXP5J3thgm</td>\n",
       "      <td>...</td>\n",
       "      <td>NaN</td>\n",
       "      <td>NaN</td>\n",
       "      <td>NaN</td>\n",
       "      <td>NaN</td>\n",
       "      <td>NaN</td>\n",
       "      <td>1</td>\n",
       "      <td>NaN</td>\n",
       "      <td>NaN</td>\n",
       "      <td>NaN</td>\n",
       "      <td>NaN</td>\n",
       "    </tr>\n",
       "    <tr>\n",
       "      <th>2</th>\n",
       "      <td>4</td>\n",
       "      <td>05.11.2017 11:37</td>\n",
       "      <td>07.11.2017 00:18</td>\n",
       "      <td>0</td>\n",
       "      <td>2.154.118.68</td>\n",
       "      <td>100</td>\n",
       "      <td>132065</td>\n",
       "      <td>1</td>\n",
       "      <td>07.11.2017 00:18</td>\n",
       "      <td>R_3OppPQUn65ns7Sv</td>\n",
       "      <td>...</td>\n",
       "      <td>NaN</td>\n",
       "      <td>NaN</td>\n",
       "      <td>NaN</td>\n",
       "      <td>NaN</td>\n",
       "      <td>NaN</td>\n",
       "      <td>NaN</td>\n",
       "      <td>NaN</td>\n",
       "      <td>NaN</td>\n",
       "      <td>NaN</td>\n",
       "      <td>NaN</td>\n",
       "    </tr>\n",
       "  </tbody>\n",
       "</table>\n",
       "<p>3 rows × 93 columns</p>\n",
       "</div>"
      ],
      "text/plain": [
       "   Unnamed: 0         StartDate           EndDate Status       IPAddress  \\\n",
       "0           2  04.11.2017 07:13  06.11.2017 04:51      1             NaN   \n",
       "1           3  06.11.2017 05:33  06.11.2017 05:49      0  212.128.178.16   \n",
       "2           4  05.11.2017 11:37  07.11.2017 00:18      0    2.154.118.68   \n",
       "\n",
       "  Progress Duration (in seconds) Finished      RecordedDate  \\\n",
       "0      100                167902        1  06.11.2017 04:51   \n",
       "1      100                   931        1  06.11.2017 05:49   \n",
       "2      100                132065        1  07.11.2017 00:18   \n",
       "\n",
       "          ResponseId      ...      D-Q5_9 D-Q5_9_TEXT D-Q5_10 D-Q5_10_TEXT  \\\n",
       "0  R_2TNRdsuCOcRqpo7      ...         NaN         NaN     NaN          NaN   \n",
       "1  R_3fjTaLXP5J3thgm      ...         NaN         NaN     NaN          NaN   \n",
       "2  R_3OppPQUn65ns7Sv      ...         NaN         NaN     NaN          NaN   \n",
       "\n",
       "  D-Q5a D-Q6 E-Q1 E-Q2 D-Q5_D-Q5_6_TEXT - Topics E-Q1 - Topics  \n",
       "0   NaN    1  NaN  NaN                       NaN           NaN  \n",
       "1   NaN    1  NaN  NaN                       NaN           NaN  \n",
       "2   NaN  NaN  NaN  NaN                       NaN           NaN  \n",
       "\n",
       "[3 rows x 93 columns]"
      ]
     },
     "execution_count": 88,
     "metadata": {},
     "output_type": "execute_result"
    }
   ],
   "source": [
    "Rohdaten = Rohdaten.drop(0).reset_index(drop=True)\n",
    "Rohdaten.head(3)"
   ]
  },
  {
   "cell_type": "code",
   "execution_count": 89,
   "metadata": {},
   "outputs": [
    {
     "data": {
      "text/plain": [
       "(17, 93)"
      ]
     },
     "execution_count": 89,
     "metadata": {},
     "output_type": "execute_result"
    }
   ],
   "source": [
    "Rohdaten.shape"
   ]
  },
  {
   "cell_type": "markdown",
   "metadata": {},
   "source": [
    "### Gültige Daten auswählen"
   ]
  },
  {
   "cell_type": "markdown",
   "metadata": {},
   "source": [
    "##### Tests entfernen:"
   ]
  },
  {
   "cell_type": "code",
   "execution_count": 90,
   "metadata": {},
   "outputs": [
    {
     "data": {
      "text/plain": [
       "(16, 93)"
      ]
     },
     "execution_count": 90,
     "metadata": {},
     "output_type": "execute_result"
    }
   ],
   "source": [
    "Daten = Rohdaten[Rohdaten['DistributionChannel'] != 'preview'].reset_index(drop=True)\n",
    "Daten.shape"
   ]
  },
  {
   "cell_type": "markdown",
   "metadata": {},
   "source": [
    "##### Fertig ausgefüllte Fragebögen:"
   ]
  },
  {
   "cell_type": "code",
   "execution_count": 91,
   "metadata": {},
   "outputs": [
    {
     "data": {
      "text/plain": [
       "(12, 93)"
      ]
     },
     "execution_count": 91,
     "metadata": {},
     "output_type": "execute_result"
    }
   ],
   "source": [
    "Finished = Daten[Daten['Finished'] == '1'].reset_index(drop=True)\n",
    "Finished.shape"
   ]
  },
  {
   "cell_type": "markdown",
   "metadata": {},
   "source": [
    "##### Fragebögen mit fehlenden Werten ermitteln:"
   ]
  },
  {
   "cell_type": "code",
   "execution_count": 92,
   "metadata": {},
   "outputs": [],
   "source": [
    "def count_nan(row):\n",
    "    cnt = 0\n",
    "    for el in row:\n",
    "        if (str(el) == 'nan'):\n",
    "            cnt = cnt + 1\n",
    "    return cnt*100/len(row)"
   ]
  },
  {
   "cell_type": "code",
   "execution_count": 93,
   "metadata": {},
   "outputs": [],
   "source": [
    "porc_nan = []\n",
    "for i in range(Finished.shape[0]):\n",
    "    porc_nan.append(count_nan(Finished.loc[i]))"
   ]
  },
  {
   "cell_type": "code",
   "execution_count": 94,
   "metadata": {},
   "outputs": [],
   "source": [
    "Finished['porc_nan'] = porc_nan"
   ]
  },
  {
   "cell_type": "code",
   "execution_count": 95,
   "metadata": {},
   "outputs": [
    {
     "data": {
      "text/plain": [
       "<matplotlib.axes._subplots.AxesSubplot at 0xadb3080>"
      ]
     },
     "execution_count": 95,
     "metadata": {},
     "output_type": "execute_result"
    },
    {
     "data": {
      "image/png": "[encoded data removed]",
      "text/plain": [
       "<Figure size 432x288 with 1 Axes>"
      ]
     },
     "metadata": {},
     "output_type": "display_data"
    }
   ],
   "source": [
    "Finished['porc_nan'].hist(bins=30)"
   ]
  },
  {
   "cell_type": "code",
   "execution_count": 96,
   "metadata": {},
   "outputs": [
    {
     "data": {
      "text/plain": [
       "Int64Index([1, 4], dtype='int64')"
      ]
     },
     "execution_count": 96,
     "metadata": {},
     "output_type": "execute_result"
    }
   ],
   "source": [
    "Finished[Finished['porc_nan'] > 60].index"
   ]
  },
  {
   "cell_type": "code",
   "execution_count": 97,
   "metadata": {},
   "outputs": [],
   "source": [
    "#Finished.loc[1]"
   ]
  },
  {
   "cell_type": "code",
   "execution_count": 98,
   "metadata": {},
   "outputs": [
    {
     "data": {
      "text/plain": [
       "(10, 94)"
      ]
     },
     "execution_count": 98,
     "metadata": {},
     "output_type": "execute_result"
    }
   ],
   "source": [
    "Finished = Finished[Finished['porc_nan'] < 60]\n",
    "Finished.shape"
   ]
  },
  {
   "cell_type": "code",
   "execution_count": 99,
   "metadata": {},
   "outputs": [],
   "source": [
    "Finished = Finished.reset_index(drop=True)"
   ]
  },
  {
   "cell_type": "code",
   "execution_count": 100,
   "metadata": {},
   "outputs": [],
   "source": [
    "Datenber = Finished"
   ]
  },
  {
   "cell_type": "markdown",
   "metadata": {},
   "source": [
    "### Art der Werte kontrollieren und anpassen"
   ]
  },
  {
   "cell_type": "code",
   "execution_count": 101,
   "metadata": {},
   "outputs": [],
   "source": [
    "#Datenber.dtypes"
   ]
  },
  {
   "cell_type": "markdown",
   "metadata": {},
   "source": [
    "##### Multiple-Choice-Format"
   ]
  },
  {
   "cell_type": "markdown",
   "metadata": {},
   "source": [
    "Multiple-Choice-Antworten werden jeweils in einem Feld der Excel-Tabelle unter einer Variable (z.B. Frage \"B-Q1\") gespeichert. Um diese auswerten zu können, müssen diese Felder aufgeteilt werden. Dazu werden sogenannte \"Dummy-Variablen\" erstellt. Für jede in der Befragung gewählte Multiple-Choice-Antwort wird eine solche Variable erstellt und als neue Spalte in die Excel-Tabelle eingefügt. Dieser Vorgang wird für alle Multiple-Choice-Fragen durchgeführt."
   ]
  },
  {
   "cell_type": "markdown",
   "metadata": {},
   "source": [
    "*Anzahl der Dummy-Variablen feststellen:*"
   ]
  },
  {
   "cell_type": "code",
   "execution_count": 102,
   "metadata": {},
   "outputs": [],
   "source": [
    "def get_itemlist(df,var):\n",
    "    vals = df[var].dropna().reset_index(drop=True)\n",
    "    lista_strings = vals[0].split(',')\n",
    "    for val in vals:\n",
    "        lst = str(val).split(',')\n",
    "        lst_add = [el for el in lst if el not in lista_strings]\n",
    "        if lst_add:\n",
    "            lista_strings = lista_strings + lst_add\n",
    "    return list(sort([int(el) for el in lista_strings]))"
   ]
  },
  {
   "cell_type": "markdown",
   "metadata": {},
   "source": [
    "*Dummy-Variablen erstellen:*"
   ]
  },
  {
   "cell_type": "code",
   "execution_count": 103,
   "metadata": {},
   "outputs": [],
   "source": [
    "def dummies_multiple(df, col):\n",
    "    # leere Tabelle erstellen\n",
    "    columns = [str(el) for el in get_itemlist(df,col)]\n",
    "    ind = range(df.shape[0])\n",
    "    df_int = pd.DataFrame(index=ind, columns=columns)\n",
    "    df_int = df_int.fillna(0)\n",
    "    \n",
    "    for i in ind:\n",
    "        if str(df.loc[i,col]) != 'nan':\n",
    "            list1 = str(df.loc[i,col]).split(',')\n",
    "            df_int.loc[i,list1] = np.ones(len(list1), dtype = int)\n",
    "    \n",
    "    df_int.columns = ['{}_{}'.format(col,column) for column in columns]\n",
    "    return df_int"
   ]
  },
  {
   "cell_type": "code",
   "execution_count": 104,
   "metadata": {},
   "outputs": [],
   "source": [
    "def insert_dummies(df,col):\n",
    "    df_insert = dummies_multiple(df,col)\n",
    "    return pd.concat([ df.loc[:,:col], df_insert, df.loc[:,col:] ], axis = 1).drop(col,axis = 1)"
   ]
  },
  {
   "cell_type": "code",
   "execution_count": 105,
   "metadata": {},
   "outputs": [],
   "source": [
    "var_choice = ['B-Q1','D-Q2','D-Q3']"
   ]
  },
  {
   "cell_type": "code",
   "execution_count": 106,
   "metadata": {},
   "outputs": [],
   "source": [
    "for col in var_choice:\n",
    "    Datenber = insert_dummies(Datenber,col)"
   ]
  },
  {
   "cell_type": "markdown",
   "metadata": {},
   "source": [
    "##### Format für fehlende Werte"
   ]
  },
  {
   "cell_type": "code",
   "execution_count": 107,
   "metadata": {},
   "outputs": [],
   "source": [
    "Datenber = Datenber.fillna(0)"
   ]
  },
  {
   "cell_type": "markdown",
   "metadata": {},
   "source": [
    "Fehlende Werte werden grundsätzlich als \"NaN\" definiert, was zu Problemen bei der Analyse führen kann. Da der Wert \"0\" nur in wenigen Fragen vorkommt, bei denen keine Werte fehlen, kann \"NaN\" durch \"0\" ersetzt werden."
   ]
  },
  {
   "cell_type": "markdown",
   "metadata": {},
   "source": [
    "##### Numerische Werte"
   ]
  },
  {
   "cell_type": "markdown",
   "metadata": {},
   "source": [
    "*Auswahl der Spalten ohne Texteingabe:*"
   ]
  },
  {
   "cell_type": "code",
   "execution_count": 108,
   "metadata": {},
   "outputs": [],
   "source": [
    "#gloss.loc['D-Q1a'][0]"
   ]
  },
  {
   "cell_type": "code",
   "execution_count": 109,
   "metadata": {},
   "outputs": [],
   "source": [
    "gloss1 = pd.DataFrame(Datenber.loc[0])"
   ]
  },
  {
   "cell_type": "code",
   "execution_count": 110,
   "metadata": {},
   "outputs": [],
   "source": [
    "liste_ohne_komm = [ind for ind in gloss1.index if 'comentario' not in str(gloss1.loc[ind][0]).lower()]"
   ]
  },
  {
   "cell_type": "code",
   "execution_count": 111,
   "metadata": {},
   "outputs": [],
   "source": [
    "liste_ohne_text = [col for col in liste_ohne_komm if 'text' not in col.lower()]"
   ]
  },
  {
   "cell_type": "code",
   "execution_count": 112,
   "metadata": {},
   "outputs": [],
   "source": [
    "def get_var_num(lst,var):\n",
    "    return [col for col in lst if var not in col]"
   ]
  },
  {
   "cell_type": "code",
   "execution_count": 113,
   "metadata": {},
   "outputs": [],
   "source": [
    "liste_fragen_num = [col for col in liste_ohne_text if 'Q' in col]\n",
    "_vars_ = ['A-Q1a','B-Q1a','B-Q2a','B-Q3a','D-Q1a','D-Q2a','D-Q2b','D-Q3a','D-Q5a','E-Q1','E-Q2']\n",
    "for var in _vars_:\n",
    "    liste_fragen_num = get_var_num(liste_fragen_num,var)"
   ]
  },
  {
   "cell_type": "markdown",
   "metadata": {},
   "source": [
    "*Verschiedene Formate in numerische Werte umwandeln:*"
   ]
  },
  {
   "cell_type": "code",
   "execution_count": 114,
   "metadata": {},
   "outputs": [],
   "source": [
    "def Werte_numm(s):\n",
    "    return pd.to_numeric(s, downcast='integer')"
   ]
  },
  {
   "cell_type": "markdown",
   "metadata": {},
   "source": [
    "Als Text (object) gelesene Werte werden in numerische Werte umgewandelt, bevorzugt wird das Datenformat \"integer\" verwendet. Bei negativen Werten oder Dezimalstellen wird \"float\" verwendet."
   ]
  },
  {
   "cell_type": "code",
   "execution_count": 116,
   "metadata": {},
   "outputs": [],
   "source": [
    "for el in liste_fragen_num:\n",
    "    Datenber[el] = Werte_numm(Datenber[el])"
   ]
  },
  {
   "cell_type": "code",
   "execution_count": 117,
   "metadata": {},
   "outputs": [
    {
     "data": {
      "text/plain": [
       "['porc_nan']"
      ]
     },
     "execution_count": 117,
     "metadata": {},
     "output_type": "execute_result"
    }
   ],
   "source": [
    "lista_float = []\n",
    "for i, tipo in enumerate(Datenber.dtypes):\n",
    "    if 'float' in str(tipo):\n",
    "        lista_float.append(Datenber.columns[i])\n",
    "lista_float"
   ]
  },
  {
   "cell_type": "code",
   "execution_count": 128,
   "metadata": {},
   "outputs": [
    {
     "data": {
      "text/plain": [
       "Unnamed: 0                     int64\n",
       "StartDate                     object\n",
       "EndDate                       object\n",
       "Status                        object\n",
       "IPAddress                     object\n",
       "Progress                      object\n",
       "Duration (in seconds)         object\n",
       "Finished                      object\n",
       "RecordedDate                  object\n",
       "ResponseId                    object\n",
       "RecipientLastName              int64\n",
       "RecipientFirstName             int64\n",
       "RecipientEmail                 int64\n",
       "ExternalReference              int64\n",
       "LocationLatitude              object\n",
       "LocationLongitude             object\n",
       "DistributionChannel           object\n",
       "UserLanguage                  object\n",
       "A-Q1_1                          int8\n",
       "A-Q1_2                          int8\n",
       "A-Q1_3                          int8\n",
       "A-Q1_4                          int8\n",
       "A-Q1_5                          int8\n",
       "A-Q1_6                          int8\n",
       "A-Q1_7                          int8\n",
       "A-Q1_8                          int8\n",
       "A-Q1_9                          int8\n",
       "A-Q1a                         object\n",
       "B-Q1_1                          int8\n",
       "B-Q1_2                          int8\n",
       "                              ...   \n",
       "D-Q3_2                          int8\n",
       "D-Q3_3                          int8\n",
       "D-Q3_4                          int8\n",
       "D-Q3_5                          int8\n",
       "D-Q3a                          int64\n",
       "D-Q4                            int8\n",
       "D-Q5_1                          int8\n",
       "D-Q5_2                          int8\n",
       "D-Q5_3                          int8\n",
       "D-Q5_4                          int8\n",
       "D-Q5_4_TEXT                   object\n",
       "D-Q5_5                          int8\n",
       "D-Q5_5_TEXT                   object\n",
       "D-Q5_6                          int8\n",
       "D-Q5_6_TEXT                   object\n",
       "D-Q5_7                          int8\n",
       "D-Q5_7_TEXT                    int64\n",
       "D-Q5_8                          int8\n",
       "D-Q5_8_TEXT                    int64\n",
       "D-Q5_9                          int8\n",
       "D-Q5_9_TEXT                    int64\n",
       "D-Q5_10                         int8\n",
       "D-Q5_10_TEXT                   int64\n",
       "D-Q5a                         object\n",
       "D-Q6                            int8\n",
       "E-Q1                          object\n",
       "E-Q2                          object\n",
       "D-Q5_D-Q5_6_TEXT - Topics     object\n",
       "E-Q1 - Topics                  int64\n",
       "porc_nan                     float64\n",
       "Length: 132, dtype: object"
      ]
     },
     "execution_count": 128,
     "metadata": {},
     "output_type": "execute_result"
    }
   ],
   "source": [
    "Datenber.dtypes"
   ]
  },
  {
   "cell_type": "markdown",
   "metadata": {},
   "source": [
    "### Daten speichern"
   ]
  },
  {
   "cell_type": "code",
   "execution_count": 129,
   "metadata": {},
   "outputs": [],
   "source": [
    "Datenber.to_pickle('D:\\Daten\\DISS\\Daten\\Estrategias_Profesores_P2017_ber')"
   ]
  },
  {
   "cell_type": "code",
   "execution_count": 130,
   "metadata": {},
   "outputs": [],
   "source": [
    "Datenber.to_excel('D:\\Daten\\DISS\\Daten\\Estrategias_Profesores_Kienberger_P2017_ber.xlsx',encoding='utf-16')"
   ]
  },
  {
   "cell_type": "code",
   "execution_count": 121,
   "metadata": {},
   "outputs": [],
   "source": [
    "#Datenber.to_csv('D:\\Daten\\DISS\\Daten\\Estrategias_Profesores_Kienberger_P2017_ber.csv',encoding='utf-16')"
   ]
  },
  {
   "cell_type": "code",
   "execution_count": 122,
   "metadata": {},
   "outputs": [],
   "source": [
    "#gloss.to_pickle('D:\\Daten\\DISS\\Daten\\GlossProfP2017')"
   ]
  },
  {
   "cell_type": "code",
   "execution_count": null,
   "metadata": {},
   "outputs": [],
   "source": []
  }
 ],
 "metadata": {
  "kernelspec": {
   "display_name": "Python 3",
   "language": "python",
   "name": "python3"
  },
  "language_info": {
   "codemirror_mode": {
    "name": "ipython",
    "version": 3
   },
   "file_extension": ".py",
   "mimetype": "text/x-python",
   "name": "python",
   "nbconvert_exporter": "python",
   "pygments_lexer": "ipython3",
   "version": "3.6.3"
  }
 },
 "nbformat": 4,
 "nbformat_minor": 2
}
