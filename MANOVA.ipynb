{
 "cells": [
  {
   "cell_type": "markdown",
   "metadata": {},
   "source": [
    "## Erschließungsstrategien für unbekannten Wortschatz von DaF-Lernenden an spanischen Universitäten (2017-19)\n",
    "### MANOVA (und Faktorenanalyse)"
   ]
  },
  {
   "cell_type": "code",
   "execution_count": 143,
   "metadata": {},
   "outputs": [],
   "source": [
    "MyData <- read.csv2(file=\"D:\\\\Daten\\\\DISS\\\\Daten\\\\Estrategias_Estudiantes_Analyse.csv\", \n",
    "                    header=TRUE, sep=\",\", fileEncoding = \"UTF-16\")"
   ]
  },
  {
   "cell_type": "code",
   "execution_count": 144,
   "metadata": {},
   "outputs": [],
   "source": [
    "#MyData[MyData == 0] <- NA"
   ]
  },
  {
   "cell_type": "markdown",
   "metadata": {},
   "source": [
    "#### Likert-Variablen auswählen\n",
    "\n",
    "Spalten, die Likert-Items enthalten, werden ausgewählt und in Vektoren zusammengefasst."
   ]
  },
  {
   "cell_type": "code",
   "execution_count": 145,
   "metadata": {},
   "outputs": [],
   "source": [
    "get_vec <- function(df,name){\n",
    "    vec <- c()\n",
    "    for (i in 1:ncol(df)){\n",
    "        if (grepl(name, colnames(df)[i]) & !grepl(\"TEXT\",colnames(df)[i]) ){\n",
    "            vec <- c(vec, i)\n",
    "        }\n",
    "    }\n",
    "    vec\n",
    "}"
   ]
  },
  {
   "cell_type": "code",
   "execution_count": 146,
   "metadata": {},
   "outputs": [],
   "source": [
    "vec_AQ2 <- get_vec(MyData,\"A.Q2\")\n",
    "vec_AQ3 <- get_vec(MyData,\"A.Q3\")\n",
    "vec_CQ1 <- get_vec(MyData,\"C.Q1\")"
   ]
  },
  {
   "cell_type": "markdown",
   "metadata": {},
   "source": [
    "#### Funktion für Datenformat (Integer)"
   ]
  },
  {
   "cell_type": "code",
   "execution_count": 147,
   "metadata": {},
   "outputs": [],
   "source": [
    "convert_data <- function(df,cols){\n",
    "    X <- df[,cols]\n",
    "    X <- do.call(cbind.data.frame,lapply(X,function(x) as.integer(as.character(x))))\n",
    "    colnames(X) <- colnames(df)[cols]\n",
    "    X\n",
    "}"
   ]
  },
  {
   "cell_type": "markdown",
   "metadata": {},
   "source": [
    "### Faktorenanalyse"
   ]
  },
  {
   "cell_type": "code",
   "execution_count": 148,
   "metadata": {},
   "outputs": [],
   "source": [
    "library(\"psych\")"
   ]
  },
  {
   "cell_type": "code",
   "execution_count": 149,
   "metadata": {},
   "outputs": [],
   "source": [
    "FA_AQ2 <- fa(convert_data(MyData,vec_AQ2), nfactors = 3, rotate = \"varimax\")"
   ]
  },
  {
   "cell_type": "code",
   "execution_count": 150,
   "metadata": {
    "scrolled": true
   },
   "outputs": [],
   "source": [
    "FA_AQ3 <- fa(convert_data(MyData,vec_AQ3), nfactors = 6, rotate = \"varimax\")"
   ]
  },
  {
   "cell_type": "code",
   "execution_count": 151,
   "metadata": {},
   "outputs": [
    {
     "data": {
      "text/plain": [
       "Factor Analysis using method =  minres\n",
       "Call: fa(r = convert_data(MyData, vec_AQ3), nfactors = 6, rotate = \"varimax\")\n",
       "Standardized loadings (pattern matrix) based upon correlation matrix\n",
       "          MR2   MR4   MR1   MR5   MR6   MR3    h2   u2 com\n",
       "A.Q3_1  -0.02  0.08  0.07 -0.02 -0.04  0.51 0.277 0.72 1.1\n",
       "A.Q3_2   0.11 -0.17  0.06  0.12  0.04  0.61 0.426 0.57 1.3\n",
       "A.Q3_3  -0.04 -0.01  0.11  0.07  0.07  0.47 0.240 0.76 1.2\n",
       "A.Q3_4  -0.01  0.10 -0.04  0.12  0.15  0.47 0.271 0.73 1.5\n",
       "A.Q3_5   0.20  0.30  0.08  0.08  0.03  0.41 0.314 0.69 2.5\n",
       "A.Q3_6   0.80  0.13  0.09  0.05 -0.05  0.09 0.682 0.32 1.1\n",
       "A.Q3_7   0.79  0.19  0.12  0.13 -0.02  0.04 0.696 0.30 1.2\n",
       "A.Q3_8   0.80  0.17  0.12  0.10  0.02 -0.04 0.700 0.30 1.2\n",
       "A.Q3_9   0.54  0.16  0.06  0.16  0.10  0.05 0.361 0.64 1.5\n",
       "A.Q3_28  0.22  0.18  0.15  0.40  0.08  0.11 0.282 0.72 2.7\n",
       "A.Q3_10  0.40  0.49  0.03  0.17  0.09 -0.02 0.436 0.56 2.3\n",
       "A.Q3_11  0.24  0.72  0.07  0.16  0.07  0.03 0.608 0.39 1.4\n",
       "A.Q3_12  0.22  0.62  0.13  0.18  0.02  0.04 0.486 0.51 1.5\n",
       "A.Q3_13  0.13  0.58  0.18  0.00  0.09  0.05 0.395 0.60 1.4\n",
       "A.Q3_29  0.18  0.25  0.20  0.47  0.11 -0.03 0.369 0.63 2.5\n",
       "A.Q3_14  0.36  0.31  0.18  0.32  0.19 -0.08 0.395 0.60 4.2\n",
       "A.Q3_15  0.32  0.16  0.32  0.30  0.16  0.00 0.338 0.66 3.9\n",
       "A.Q3_16  0.16  0.33  0.39  0.29  0.16 -0.06 0.401 0.60 3.6\n",
       "A.Q3_17  0.05  0.32  0.55  0.10  0.16  0.11 0.453 0.55 2.0\n",
       "A.Q3_18  0.12  0.09  0.81  0.20  0.17  0.09 0.750 0.25 1.3\n",
       "A.Q3_19  0.15  0.10  0.58  0.15  0.20  0.15 0.452 0.55 1.8\n",
       "A.Q3_20  0.26  0.02  0.41  0.29  0.20  0.17 0.388 0.61 3.6\n",
       "A.Q3_21  0.03  0.35  0.24  0.01  0.43  0.07 0.374 0.63 2.7\n",
       "A.Q3_22  0.03  0.03  0.16  0.10  0.68  0.09 0.505 0.50 1.2\n",
       "A.Q3_23  0.05  0.13  0.17  0.12  0.80  0.06 0.709 0.29 1.2\n",
       "A.Q3_24  0.04  0.21  0.39  0.15  0.48  0.12 0.475 0.53 2.8\n",
       "A.Q3_25  0.01  0.20  0.05  0.12  0.11  0.05 0.074 0.93 2.6\n",
       "A.Q3_30  0.22 -0.10  0.10  0.35  0.18  0.08 0.230 0.77 2.9\n",
       "A.Q3_31 -0.01  0.13  0.02  0.66  0.03  0.07 0.461 0.54 1.1\n",
       "A.Q3_26  0.11  0.08  0.16  0.65  0.00  0.20 0.507 0.49 1.4\n",
       "A.Q3_27  0.08  0.16  0.25  0.35  0.08  0.12 0.239 0.76 2.8\n",
       "\n",
       "                       MR2  MR4  MR1  MR5  MR6  MR3\n",
       "SS loadings           3.06 2.45 2.30 2.16 1.88 1.45\n",
       "Proportion Var        0.10 0.08 0.07 0.07 0.06 0.05\n",
       "Cumulative Var        0.10 0.18 0.25 0.32 0.38 0.43\n",
       "Proportion Explained  0.23 0.18 0.17 0.16 0.14 0.11\n",
       "Cumulative Proportion 0.23 0.41 0.59 0.75 0.89 1.00\n",
       "\n",
       "Mean item complexity =  2\n",
       "Test of the hypothesis that 6 factors are sufficient.\n",
       "\n",
       "The degrees of freedom for the null model are  465  and the objective function was  10.99 with Chi Square of  4152.68\n",
       "The degrees of freedom for the model are 294  and the objective function was  1.35 \n",
       "\n",
       "The root mean square of the residuals (RMSR) is  0.03 \n",
       "The df corrected root mean square of the residuals is  0.04 \n",
       "\n",
       "The harmonic number of observations is  390 with the empirical chi square  345.52  with prob <  0.021 \n",
       "The total number of observations was  390  with Likelihood Chi Square =  505.9  with prob <  1.9e-13 \n",
       "\n",
       "Tucker Lewis Index of factoring reliability =  0.908\n",
       "RMSEA index =  0.045  and the 90 % confidence intervals are  0.037 0.049\n",
       "BIC =  -1248.15\n",
       "Fit based upon off diagonal values = 0.98\n",
       "Measures of factor score adequacy             \n",
       "                                                   MR2  MR4  MR1  MR5  MR6  MR3\n",
       "Correlation of (regression) scores with factors   0.92 0.87 0.88 0.84 0.87 0.81\n",
       "Multiple R square of scores with factors          0.85 0.75 0.77 0.70 0.76 0.66\n",
       "Minimum correlation of possible factor scores     0.70 0.50 0.53 0.40 0.53 0.32"
      ]
     },
     "metadata": {},
     "output_type": "display_data"
    }
   ],
   "source": [
    "FA_AQ3"
   ]
  },
  {
   "cell_type": "code",
   "execution_count": 152,
   "metadata": {},
   "outputs": [],
   "source": [
    "#write.csv2(FA_AQ3$weights, file =\"D:\\\\Daten\\\\DISS\\\\Daten\\\\FA_weights.csv\",row.names=TRUE)"
   ]
  },
  {
   "cell_type": "markdown",
   "metadata": {},
   "source": [
    "Hypothese zum Ergebnis der explorativen Faktorenanalyse (AQ2):\n",
    "\n",
    "* MR1: Kenntnisse des Deutschen nutzen (inkl. Kontext)\n",
    "* MR2: Soziale Strategien\n",
    "* MR3: Sprachkenntnisse nutzen (insbes. weitere Sprachen, Erstsprache)\n",
    "\n",
    "\n",
    "Hypothese zum Ergebnis der explorativen Faktorenanalyse (AQ3):\n",
    "\n",
    "* MR1: Kontextwissen (Textsorte, behandeltes Thema, kulturelles Wissen...)\n",
    "* MR2: intralinguale Hinweise (Wortbildung, morphosyntaktische Regularitäten, Orthographie) + Konnektoren, Erklärungshilfen\n",
    "* MR3: interlinguale Hinweise (inkl. Ethymologie)\n",
    "* MR4: engerer Kontext, Analyse auf Satzebene (Syntax, semantische Relationen)\n",
    "* MR5: metakognitive Strategien\n",
    "* MR6: Bilder, Grafiken, Symbole, Zahlen, Kommunikationssituation\n"
   ]
  },
  {
   "cell_type": "markdown",
   "metadata": {},
   "source": [
    "### MANOVA AQ2, AQ3"
   ]
  },
  {
   "cell_type": "markdown",
   "metadata": {},
   "source": [
    "Matrix AQ2:"
   ]
  },
  {
   "cell_type": "code",
   "execution_count": 153,
   "metadata": {},
   "outputs": [],
   "source": [
    "A2 = convert_data(MyData,vec_AQ2)\n",
    "A2[is.na(A2)] <- 0 \n",
    "A2 <- as.matrix(A2)\n",
    "\n",
    "B2 = FA_AQ2$weights\n",
    "B2 <- as.matrix(B2)\n",
    "\n",
    "C2 <- A2 %*% B2"
   ]
  },
  {
   "cell_type": "code",
   "execution_count": 154,
   "metadata": {},
   "outputs": [],
   "source": [
    "Df_total2 <- merge(MyData,C2,by=0, sort=FALSE)\n",
    "Df_total2[Df_total2 == 0] <- NA\n",
    "#Df_total2[is.na(Df_total2)] <- 0"
   ]
  },
  {
   "cell_type": "markdown",
   "metadata": {},
   "source": [
    "Matrix AQ3:"
   ]
  },
  {
   "cell_type": "code",
   "execution_count": 155,
   "metadata": {},
   "outputs": [],
   "source": [
    "A = convert_data(MyData,vec_AQ3)\n",
    "A[is.na(A)] <- 0 \n",
    "A <- as.matrix(A)\n",
    "\n",
    "B = FA_AQ3$weights\n",
    "B <- as.matrix(B)\n",
    "\n",
    "C <- A %*% B"
   ]
  },
  {
   "cell_type": "code",
   "execution_count": 156,
   "metadata": {},
   "outputs": [],
   "source": [
    "Df_total <- merge(MyData,C,by=0, sort=FALSE)\n",
    "Df_total[Df_total == 0] <- NA\n",
    "#Df_total[is.na(Df_total)] <- 0"
   ]
  },
  {
   "cell_type": "markdown",
   "metadata": {},
   "source": [
    "Vektoren mit zu untersuchenden Variablen:"
   ]
  },
  {
   "cell_type": "code",
   "execution_count": 157,
   "metadata": {},
   "outputs": [],
   "source": [
    "vec_V <- get_vec(Df_total,\"V_\")\n",
    "vec_W <- get_vec(Df_total,\"W_\")"
   ]
  },
  {
   "cell_type": "code",
   "execution_count": 158,
   "metadata": {},
   "outputs": [
    {
     "data": {
      "text/html": [
       "<ol class=list-inline>\n",
       "\t<li>64</li>\n",
       "\t<li>65</li>\n",
       "\t<li>67</li>\n",
       "\t<li>68</li>\n",
       "\t<li>70</li>\n",
       "\t<li>71</li>\n",
       "\t<li>72</li>\n",
       "\t<li>73</li>\n",
       "\t<li>74</li>\n",
       "\t<li>75</li>\n",
       "\t<li>76</li>\n",
       "\t<li>77</li>\n",
       "\t<li>78</li>\n",
       "\t<li>79</li>\n",
       "\t<li>80</li>\n",
       "\t<li>81</li>\n",
       "\t<li>82</li>\n",
       "\t<li>83</li>\n",
       "\t<li>84</li>\n",
       "\t<li>85</li>\n",
       "\t<li>86</li>\n",
       "\t<li>87</li>\n",
       "\t<li>88</li>\n",
       "\t<li>89</li>\n",
       "\t<li>90</li>\n",
       "\t<li>91</li>\n",
       "\t<li>92</li>\n",
       "</ol>\n"
      ],
      "text/latex": [
       "\\begin{enumerate*}\n",
       "\\item 64\n",
       "\\item 65\n",
       "\\item 67\n",
       "\\item 68\n",
       "\\item 70\n",
       "\\item 71\n",
       "\\item 72\n",
       "\\item 73\n",
       "\\item 74\n",
       "\\item 75\n",
       "\\item 76\n",
       "\\item 77\n",
       "\\item 78\n",
       "\\item 79\n",
       "\\item 80\n",
       "\\item 81\n",
       "\\item 82\n",
       "\\item 83\n",
       "\\item 84\n",
       "\\item 85\n",
       "\\item 86\n",
       "\\item 87\n",
       "\\item 88\n",
       "\\item 89\n",
       "\\item 90\n",
       "\\item 91\n",
       "\\item 92\n",
       "\\end{enumerate*}\n"
      ],
      "text/markdown": [
       "1. 64\n",
       "2. 65\n",
       "3. 67\n",
       "4. 68\n",
       "5. 70\n",
       "6. 71\n",
       "7. 72\n",
       "8. 73\n",
       "9. 74\n",
       "10. 75\n",
       "11. 76\n",
       "12. 77\n",
       "13. 78\n",
       "14. 79\n",
       "15. 80\n",
       "16. 81\n",
       "17. 82\n",
       "18. 83\n",
       "19. 84\n",
       "20. 85\n",
       "21. 86\n",
       "22. 87\n",
       "23. 88\n",
       "24. 89\n",
       "25. 90\n",
       "26. 91\n",
       "27. 92\n",
       "\n",
       "\n"
      ],
      "text/plain": [
       " [1] 64 65 67 68 70 71 72 73 74 75 76 77 78 79 80 81 82 83 84 85 86 87 88 89 90\n",
       "[26] 91 92"
      ]
     },
     "metadata": {},
     "output_type": "display_data"
    }
   ],
   "source": [
    "remove <- c(66,69)\n",
    "vec_V[!vec_V %in% remove]"
   ]
  },
  {
   "cell_type": "markdown",
   "metadata": {},
   "source": [
    "Die Variable an Position 66 (\"Niveau des aktuellen Deutschkurses\") wird im Fall der Analyse getrennt nach Niveaustufen nicht berücksichtigt."
   ]
  },
  {
   "cell_type": "code",
   "execution_count": 159,
   "metadata": {},
   "outputs": [
    {
     "data": {
      "text/html": [
       "<ol class=list-inline>\n",
       "\t<li>'V_L1.Bi.Trilingualismus'</li>\n",
       "\t<li>'V_Studienrichtung'</li>\n",
       "\t<li>'V_Alter'</li>\n",
       "\t<li>'V_Geschlecht'</li>\n",
       "\t<li>'V_Spr_Zahl'</li>\n",
       "\t<li>'V_Spr_Fran'</li>\n",
       "\t<li>'V_Spr_Griech'</li>\n",
       "\t<li>'V_Spr_Latein'</li>\n",
       "\t<li>'V_Spr_Germ'</li>\n",
       "\t<li>'V_Spr_Rom'</li>\n",
       "\t<li>'V_Spr_Slaw'</li>\n",
       "\t<li>'V_Spr_Asiat'</li>\n",
       "\t<li>'V_E_Schule_LL'</li>\n",
       "\t<li>'V_E_Schule_Eng'</li>\n",
       "\t<li>'V_E_Schule_Spr'</li>\n",
       "\t<li>'V_E_Univ_DK'</li>\n",
       "\t<li>'V_E_Univ_andere'</li>\n",
       "\t<li>'V_E_Sprachschule'</li>\n",
       "\t<li>'V_E_DK_aktuell'</li>\n",
       "\t<li>'V_E_Sozial'</li>\n",
       "\t<li>'V_E_autonom'</li>\n",
       "\t<li>'V_Met_Erkl'</li>\n",
       "\t<li>'V_Met_Tipps'</li>\n",
       "\t<li>'V_Met_Training'</li>\n",
       "\t<li>'V_Met_Vgl'</li>\n",
       "\t<li>'V_Met_Reflexion'</li>\n",
       "\t<li>'V_Met_unbewusst'</li>\n",
       "</ol>\n"
      ],
      "text/latex": [
       "\\begin{enumerate*}\n",
       "\\item 'V\\_L1.Bi.Trilingualismus'\n",
       "\\item 'V\\_Studienrichtung'\n",
       "\\item 'V\\_Alter'\n",
       "\\item 'V\\_Geschlecht'\n",
       "\\item 'V\\_Spr\\_Zahl'\n",
       "\\item 'V\\_Spr\\_Fran'\n",
       "\\item 'V\\_Spr\\_Griech'\n",
       "\\item 'V\\_Spr\\_Latein'\n",
       "\\item 'V\\_Spr\\_Germ'\n",
       "\\item 'V\\_Spr\\_Rom'\n",
       "\\item 'V\\_Spr\\_Slaw'\n",
       "\\item 'V\\_Spr\\_Asiat'\n",
       "\\item 'V\\_E\\_Schule\\_LL'\n",
       "\\item 'V\\_E\\_Schule\\_Eng'\n",
       "\\item 'V\\_E\\_Schule\\_Spr'\n",
       "\\item 'V\\_E\\_Univ\\_DK'\n",
       "\\item 'V\\_E\\_Univ\\_andere'\n",
       "\\item 'V\\_E\\_Sprachschule'\n",
       "\\item 'V\\_E\\_DK\\_aktuell'\n",
       "\\item 'V\\_E\\_Sozial'\n",
       "\\item 'V\\_E\\_autonom'\n",
       "\\item 'V\\_Met\\_Erkl'\n",
       "\\item 'V\\_Met\\_Tipps'\n",
       "\\item 'V\\_Met\\_Training'\n",
       "\\item 'V\\_Met\\_Vgl'\n",
       "\\item 'V\\_Met\\_Reflexion'\n",
       "\\item 'V\\_Met\\_unbewusst'\n",
       "\\end{enumerate*}\n"
      ],
      "text/markdown": [
       "1. 'V_L1.Bi.Trilingualismus'\n",
       "2. 'V_Studienrichtung'\n",
       "3. 'V_Alter'\n",
       "4. 'V_Geschlecht'\n",
       "5. 'V_Spr_Zahl'\n",
       "6. 'V_Spr_Fran'\n",
       "7. 'V_Spr_Griech'\n",
       "8. 'V_Spr_Latein'\n",
       "9. 'V_Spr_Germ'\n",
       "10. 'V_Spr_Rom'\n",
       "11. 'V_Spr_Slaw'\n",
       "12. 'V_Spr_Asiat'\n",
       "13. 'V_E_Schule_LL'\n",
       "14. 'V_E_Schule_Eng'\n",
       "15. 'V_E_Schule_Spr'\n",
       "16. 'V_E_Univ_DK'\n",
       "17. 'V_E_Univ_andere'\n",
       "18. 'V_E_Sprachschule'\n",
       "19. 'V_E_DK_aktuell'\n",
       "20. 'V_E_Sozial'\n",
       "21. 'V_E_autonom'\n",
       "22. 'V_Met_Erkl'\n",
       "23. 'V_Met_Tipps'\n",
       "24. 'V_Met_Training'\n",
       "25. 'V_Met_Vgl'\n",
       "26. 'V_Met_Reflexion'\n",
       "27. 'V_Met_unbewusst'\n",
       "\n",
       "\n"
      ],
      "text/plain": [
       " [1] \"V_L1.Bi.Trilingualismus\" \"V_Studienrichtung\"      \n",
       " [3] \"V_Alter\"                 \"V_Geschlecht\"           \n",
       " [5] \"V_Spr_Zahl\"              \"V_Spr_Fran\"             \n",
       " [7] \"V_Spr_Griech\"            \"V_Spr_Latein\"           \n",
       " [9] \"V_Spr_Germ\"              \"V_Spr_Rom\"              \n",
       "[11] \"V_Spr_Slaw\"              \"V_Spr_Asiat\"            \n",
       "[13] \"V_E_Schule_LL\"           \"V_E_Schule_Eng\"         \n",
       "[15] \"V_E_Schule_Spr\"          \"V_E_Univ_DK\"            \n",
       "[17] \"V_E_Univ_andere\"         \"V_E_Sprachschule\"       \n",
       "[19] \"V_E_DK_aktuell\"          \"V_E_Sozial\"             \n",
       "[21] \"V_E_autonom\"             \"V_Met_Erkl\"             \n",
       "[23] \"V_Met_Tipps\"             \"V_Met_Training\"         \n",
       "[25] \"V_Met_Vgl\"               \"V_Met_Reflexion\"        \n",
       "[27] \"V_Met_unbewusst\"        "
      ]
     },
     "metadata": {},
     "output_type": "display_data"
    }
   ],
   "source": [
    "colnames(Df_total[,vec_V[!vec_V %in% remove]])"
   ]
  },
  {
   "cell_type": "code",
   "execution_count": 160,
   "metadata": {},
   "outputs": [],
   "source": [
    "for (v in vec_V){Df_total[,v] <- as.factor(Df_total[,v])}\n",
    "for (v in vec_V){Df_total2[,v] <- as.factor(Df_total2[,v])}\n",
    "for (v in vec_W){Df_total[,v] <- as.factor(Df_total[,v])}\n",
    "for (v in vec_W){Df_total2[,v] <- as.factor(Df_total2[,v])}"
   ]
  },
  {
   "cell_type": "code",
   "execution_count": 161,
   "metadata": {},
   "outputs": [],
   "source": [
    "#eje <- summary(manova(cbind(MR1,MR2,MR3,MR4,MR5,MR6) ~ V_Geschlecht, data = Df_total))"
   ]
  },
  {
   "cell_type": "code",
   "execution_count": 162,
   "metadata": {},
   "outputs": [],
   "source": [
    "#for (i in vec_V){\n",
    "#    print(summary(manova(cbind(MR1,MR2,MR3,MR4,MR5,MR6) ~ Df_total[,i], data = Df_total)))\n",
    "#}"
   ]
  },
  {
   "cell_type": "markdown",
   "metadata": {},
   "source": [
    "Funktionen zur Berechnung der MANOVA und t-Test:"
   ]
  },
  {
   "cell_type": "code",
   "execution_count": 163,
   "metadata": {},
   "outputs": [],
   "source": [
    "MANOVA2_table <- function(df,vec){\n",
    "    man_int <- summary(manova(cbind(MR1,MR2,MR3) ~ df[,vec[1]], data = df))\n",
    "    RES_MAN2 <- as.data.frame(t(man_int$stats[1,]))\n",
    "    for (i in vec[2:length(vec)]){\n",
    "        man_int <- summary(manova(cbind(MR1,MR2,MR3) ~ df[,i], data = df))\n",
    "        RES_MAN2 <- rbind(RES_MAN2,as.data.frame(t(man_int$stats[1,]))) \n",
    "    }\n",
    "    rownames(RES_MAN2) <- colnames(df)[vec]\n",
    "    RES_MAN2\n",
    "}"
   ]
  },
  {
   "cell_type": "code",
   "execution_count": 164,
   "metadata": {},
   "outputs": [],
   "source": [
    "MANOVA2a_table <- function(df,vec){\n",
    "    man_int <- summary(manova(cbind(A.Q2_1,A.Q2_2,A.Q2_3,A.Q2_4,A.Q2_5,A.Q2_6,A.Q2_7) ~ df[,vec[1]], data = df))\n",
    "    RES_MAN2 <- as.data.frame(t(man_int$stats[1,]))\n",
    "    for (i in vec[2:length(vec)]){\n",
    "        man_int <- summary(manova(cbind(A.Q2_1,A.Q2_2,A.Q2_3,A.Q2_4,A.Q2_5,A.Q2_6,A.Q2_7) ~ df[,i], data = df))\n",
    "        RES_MAN2 <- rbind(RES_MAN2,as.data.frame(t(man_int$stats[1,]))) \n",
    "    }\n",
    "    rownames(RES_MAN2) <- colnames(df)[vec]\n",
    "    RES_MAN2\n",
    "}"
   ]
  },
  {
   "cell_type": "code",
   "execution_count": 165,
   "metadata": {},
   "outputs": [],
   "source": [
    "MANOVA3_table <- function(df,vec){\n",
    "    man_int <- summary(manova(cbind(MR1,MR2,MR3,MR4,MR5,MR6) ~ df[,vec[1]], data = df))\n",
    "    RES_MAN3 <- as.data.frame(t(man_int$stats[1,]))\n",
    "    for (i in vec[2:length(vec)]){\n",
    "        man_int <- summary(manova(cbind(MR1,MR2,MR3,MR4,MR5,MR6) ~ df[,i], data = df))\n",
    "        RES_MAN3 <- rbind(RES_MAN3,as.data.frame(t(man_int$stats[1,]))) \n",
    "    }\n",
    "    rownames(RES_MAN3) <- colnames(df)[vec]\n",
    "    RES_MAN3\n",
    "}"
   ]
  },
  {
   "cell_type": "code",
   "execution_count": 166,
   "metadata": {},
   "outputs": [],
   "source": [
    "tabletstbonf2 <- function(data ,v ,facts=c(\"MR1\",\"MR2\",\"MR3\")){\n",
    "datalist = list()\n",
    "    for (i in 1:length(v)){\n",
    "    pv <- c()\n",
    "        for (fact in facts){\n",
    "            test <- pairwise.t.test(data[,fact],data[,v[i]], p.adj = \"bonf\")\n",
    "            pv <- c(pv,test$p.value[1,])\n",
    "                            }\n",
    "    datalist[[i]] <- pv\n",
    "        }\n",
    "    R <- do.call(rbind,datalist)\n",
    "    colnames(R) <- facts\n",
    "    rownames(R) <- v\n",
    "    R\n",
    "    }"
   ]
  },
  {
   "cell_type": "code",
   "execution_count": 167,
   "metadata": {},
   "outputs": [],
   "source": [
    "tabletstbonf <- function(data ,v ,facts=c(\"MR1\",\"MR2\",\"MR3\",\"MR4\",\"MR5\",\"MR6\")){\n",
    "datalist = list()\n",
    "    for (i in 1:length(v)){\n",
    "    pv <- c()\n",
    "        for (fact in facts){\n",
    "            test <- pairwise.t.test(data[,fact],data[,v[i]], p.adj = \"bonf\")\n",
    "            pv <- c(pv,test$p.value[1,])\n",
    "                            }\n",
    "    datalist[[i]] <- pv\n",
    "        }\n",
    "    R <- do.call(rbind,datalist)\n",
    "    colnames(R) <- facts\n",
    "    rownames(R) <- v\n",
    "    R\n",
    "    }"
   ]
  },
  {
   "cell_type": "markdown",
   "metadata": {},
   "source": [
    "### AQ2"
   ]
  },
  {
   "cell_type": "markdown",
   "metadata": {},
   "source": [
    "MANOVA (gesamt):"
   ]
  },
  {
   "cell_type": "code",
   "execution_count": 168,
   "metadata": {},
   "outputs": [
    {
     "data": {
      "text/html": [
       "<table>\n",
       "<thead><tr><th></th><th scope=col>Df</th><th scope=col>Pillai</th><th scope=col>approx F</th><th scope=col>num Df</th><th scope=col>den Df</th><th scope=col>Pr(&gt;F)</th></tr></thead>\n",
       "<tbody>\n",
       "\t<tr><th scope=row>V_Studienrichtung</th><td>3           </td><td>0.06431145  </td><td>2.818671    </td><td> 9          </td><td>1158        </td><td>2.788966e-03</td></tr>\n",
       "\t<tr><th scope=row>V_Niveau_DK</th><td>4           </td><td>0.21771337  </td><td>7.531543    </td><td>12          </td><td>1155        </td><td>1.576713e-13</td></tr>\n",
       "\t<tr><th scope=row>V_Alter</th><td>3           </td><td>0.05521767  </td><td>2.412631    </td><td> 9          </td><td>1158        </td><td>1.031898e-02</td></tr>\n",
       "\t<tr><th scope=row>V_Spr_Germ</th><td>1           </td><td>0.03281690  </td><td>4.365710    </td><td> 3          </td><td> 386        </td><td>4.865961e-03</td></tr>\n",
       "\t<tr><th scope=row>V_E_Schule_Eng</th><td>1           </td><td>0.02372938  </td><td>3.127391    </td><td> 3          </td><td> 386        </td><td>2.576800e-02</td></tr>\n",
       "\t<tr><th scope=row>V_E_Schule_Spr</th><td>1           </td><td>0.02679201  </td><td>3.542140    </td><td> 3          </td><td> 386        </td><td>1.478592e-02</td></tr>\n",
       "\t<tr><th scope=row>V_E_Univ_DK</th><td>1           </td><td>0.05913717  </td><td>8.087239    </td><td> 3          </td><td> 386        </td><td>3.086102e-05</td></tr>\n",
       "\t<tr><th scope=row>V_E_Univ_andere</th><td>1           </td><td>0.04878842  </td><td>6.599418    </td><td> 3          </td><td> 386        </td><td>2.333991e-04</td></tr>\n",
       "\t<tr><th scope=row>V_E_Sprachschule</th><td>1           </td><td>0.02562264  </td><td>3.383474    </td><td> 3          </td><td> 386        </td><td>1.829447e-02</td></tr>\n",
       "\t<tr><th scope=row>V_E_DK_aktuell</th><td>1           </td><td>0.03435261  </td><td>4.577277    </td><td> 3          </td><td> 386        </td><td>3.652933e-03</td></tr>\n",
       "\t<tr><th scope=row>V_E_Sozial</th><td>1           </td><td>0.02090629  </td><td>2.747381    </td><td> 3          </td><td> 386        </td><td>4.270439e-02</td></tr>\n",
       "\t<tr><th scope=row>V_E_autonom</th><td>1           </td><td>0.02416480  </td><td>3.186198    </td><td> 3          </td><td> 386        </td><td>2.382194e-02</td></tr>\n",
       "\t<tr><th scope=row>V_Met_Training</th><td>1           </td><td>0.03005192  </td><td>3.986482    </td><td> 3          </td><td> 386        </td><td>8.126523e-03</td></tr>\n",
       "\t<tr><th scope=row>V_Met_Reflexion</th><td>1           </td><td>0.03602315  </td><td>4.808184    </td><td> 3          </td><td> 386        </td><td>2.670310e-03</td></tr>\n",
       "\t<tr><th scope=row>V_Met_unbewusst</th><td>1           </td><td>0.02732943  </td><td>3.615188    </td><td> 3          </td><td> 386        </td><td>1.340319e-02</td></tr>\n",
       "</tbody>\n",
       "</table>\n"
      ],
      "text/latex": [
       "\\begin{tabular}{r|llllll}\n",
       "  & Df & Pillai & approx F & num Df & den Df & Pr(>F)\\\\\n",
       "\\hline\n",
       "\tV\\_Studienrichtung & 3            & 0.06431145   & 2.818671     &  9           & 1158         & 2.788966e-03\\\\\n",
       "\tV\\_Niveau\\_DK & 4            & 0.21771337   & 7.531543     & 12           & 1155         & 1.576713e-13\\\\\n",
       "\tV\\_Alter & 3            & 0.05521767   & 2.412631     &  9           & 1158         & 1.031898e-02\\\\\n",
       "\tV\\_Spr\\_Germ & 1            & 0.03281690   & 4.365710     &  3           &  386         & 4.865961e-03\\\\\n",
       "\tV\\_E\\_Schule\\_Eng & 1            & 0.02372938   & 3.127391     &  3           &  386         & 2.576800e-02\\\\\n",
       "\tV\\_E\\_Schule\\_Spr & 1            & 0.02679201   & 3.542140     &  3           &  386         & 1.478592e-02\\\\\n",
       "\tV\\_E\\_Univ\\_DK & 1            & 0.05913717   & 8.087239     &  3           &  386         & 3.086102e-05\\\\\n",
       "\tV\\_E\\_Univ\\_andere & 1            & 0.04878842   & 6.599418     &  3           &  386         & 2.333991e-04\\\\\n",
       "\tV\\_E\\_Sprachschule & 1            & 0.02562264   & 3.383474     &  3           &  386         & 1.829447e-02\\\\\n",
       "\tV\\_E\\_DK\\_aktuell & 1            & 0.03435261   & 4.577277     &  3           &  386         & 3.652933e-03\\\\\n",
       "\tV\\_E\\_Sozial & 1            & 0.02090629   & 2.747381     &  3           &  386         & 4.270439e-02\\\\\n",
       "\tV\\_E\\_autonom & 1            & 0.02416480   & 3.186198     &  3           &  386         & 2.382194e-02\\\\\n",
       "\tV\\_Met\\_Training & 1            & 0.03005192   & 3.986482     &  3           &  386         & 8.126523e-03\\\\\n",
       "\tV\\_Met\\_Reflexion & 1            & 0.03602315   & 4.808184     &  3           &  386         & 2.670310e-03\\\\\n",
       "\tV\\_Met\\_unbewusst & 1            & 0.02732943   & 3.615188     &  3           &  386         & 1.340319e-02\\\\\n",
       "\\end{tabular}\n"
      ],
      "text/markdown": [
       "\n",
       "| <!--/--> | Df | Pillai | approx F | num Df | den Df | Pr(>F) | \n",
       "|---|---|---|---|---|---|---|---|---|---|---|---|---|---|---|\n",
       "| V_Studienrichtung | 3            | 0.06431145   | 2.818671     |  9           | 1158         | 2.788966e-03 | \n",
       "| V_Niveau_DK | 4            | 0.21771337   | 7.531543     | 12           | 1155         | 1.576713e-13 | \n",
       "| V_Alter | 3            | 0.05521767   | 2.412631     |  9           | 1158         | 1.031898e-02 | \n",
       "| V_Spr_Germ | 1            | 0.03281690   | 4.365710     |  3           |  386         | 4.865961e-03 | \n",
       "| V_E_Schule_Eng | 1            | 0.02372938   | 3.127391     |  3           |  386         | 2.576800e-02 | \n",
       "| V_E_Schule_Spr | 1            | 0.02679201   | 3.542140     |  3           |  386         | 1.478592e-02 | \n",
       "| V_E_Univ_DK | 1            | 0.05913717   | 8.087239     |  3           |  386         | 3.086102e-05 | \n",
       "| V_E_Univ_andere | 1            | 0.04878842   | 6.599418     |  3           |  386         | 2.333991e-04 | \n",
       "| V_E_Sprachschule | 1            | 0.02562264   | 3.383474     |  3           |  386         | 1.829447e-02 | \n",
       "| V_E_DK_aktuell | 1            | 0.03435261   | 4.577277     |  3           |  386         | 3.652933e-03 | \n",
       "| V_E_Sozial | 1            | 0.02090629   | 2.747381     |  3           |  386         | 4.270439e-02 | \n",
       "| V_E_autonom | 1            | 0.02416480   | 3.186198     |  3           |  386         | 2.382194e-02 | \n",
       "| V_Met_Training | 1            | 0.03005192   | 3.986482     |  3           |  386         | 8.126523e-03 | \n",
       "| V_Met_Reflexion | 1            | 0.03602315   | 4.808184     |  3           |  386         | 2.670310e-03 | \n",
       "| V_Met_unbewusst | 1            | 0.02732943   | 3.615188     |  3           |  386         | 1.340319e-02 | \n",
       "\n",
       "\n"
      ],
      "text/plain": [
       "                  Df Pillai     approx F num Df den Df Pr(>F)      \n",
       "V_Studienrichtung 3  0.06431145 2.818671  9     1158   2.788966e-03\n",
       "V_Niveau_DK       4  0.21771337 7.531543 12     1155   1.576713e-13\n",
       "V_Alter           3  0.05521767 2.412631  9     1158   1.031898e-02\n",
       "V_Spr_Germ        1  0.03281690 4.365710  3      386   4.865961e-03\n",
       "V_E_Schule_Eng    1  0.02372938 3.127391  3      386   2.576800e-02\n",
       "V_E_Schule_Spr    1  0.02679201 3.542140  3      386   1.478592e-02\n",
       "V_E_Univ_DK       1  0.05913717 8.087239  3      386   3.086102e-05\n",
       "V_E_Univ_andere   1  0.04878842 6.599418  3      386   2.333991e-04\n",
       "V_E_Sprachschule  1  0.02562264 3.383474  3      386   1.829447e-02\n",
       "V_E_DK_aktuell    1  0.03435261 4.577277  3      386   3.652933e-03\n",
       "V_E_Sozial        1  0.02090629 2.747381  3      386   4.270439e-02\n",
       "V_E_autonom       1  0.02416480 3.186198  3      386   2.382194e-02\n",
       "V_Met_Training    1  0.03005192 3.986482  3      386   8.126523e-03\n",
       "V_Met_Reflexion   1  0.03602315 4.808184  3      386   2.670310e-03\n",
       "V_Met_unbewusst   1  0.02732943 3.615188  3      386   1.340319e-02"
      ]
     },
     "metadata": {},
     "output_type": "display_data"
    }
   ],
   "source": [
    "res_manova2 <- MANOVA2_table(Df_total2,vec_V)\n",
    "res2 <- res_manova2[res_manova2['Pr(>F)'] < 0.05,]\n",
    "res2"
   ]
  },
  {
   "cell_type": "code",
   "execution_count": 169,
   "metadata": {},
   "outputs": [],
   "source": [
    "write.csv2(res2, file =\"D:\\\\Daten\\\\DISS\\\\Daten\\\\Resmanova2.csv\",row.names=TRUE)"
   ]
  },
  {
   "cell_type": "code",
   "execution_count": 170,
   "metadata": {},
   "outputs": [
    {
     "data": {
      "image/png": "[encoded data removed]",
      "text/plain": [
       "Plot with title \"V_Alter - MR3\""
      ]
     },
     "metadata": {},
     "output_type": "display_data"
    }
   ],
   "source": [
    "par(mfrow=c(3,3))\n",
    "boxplot(MR1~V_Studienrichtung, data = Df_total2, main = 'V_Studienrichtung - MR1')\n",
    "boxplot(MR2~V_Studienrichtung, data = Df_total2, main = 'V_Studienrichtung - MR2')\n",
    "boxplot(MR3~V_Studienrichtung, data = Df_total2, main = 'V_Studienrichtung - MR3')\n",
    "boxplot(MR1~V_Niveau_DK, data = Df_total2, main = 'V_Niveau_DK - MR1')\n",
    "boxplot(MR2~V_Niveau_DK, data = Df_total2, main = 'V_Niveau_DK - MR2')\n",
    "boxplot(MR3~V_Niveau_DK, data = Df_total2, main = 'V_Niveau_DK - MR3')\n",
    "boxplot(MR1~V_Alter, data = Df_total2, main = 'V_Alter - MR1')\n",
    "boxplot(MR2~V_Alter, data = Df_total2, main = 'V_Alter - MR2')\n",
    "boxplot(MR3~V_Alter, data = Df_total2, main = 'V_Alter - MR3')"
   ]
  },
  {
   "cell_type": "code",
   "execution_count": 171,
   "metadata": {},
   "outputs": [
    {
     "data": {
      "text/html": [
       "<table>\n",
       "<thead><tr><th></th><th scope=col>Df</th><th scope=col>Pillai</th><th scope=col>approx F</th><th scope=col>num Df</th><th scope=col>den Df</th><th scope=col>Pr(&gt;F)</th></tr></thead>\n",
       "<tbody>\n",
       "\t<tr><th scope=row>V_Studienrichtung</th><td>3           </td><td>0.09196955  </td><td>1.725879    </td><td>21          </td><td>1146        </td><td>2.199743e-02</td></tr>\n",
       "\t<tr><th scope=row>V_Niveau_DK</th><td>4           </td><td>0.27570654  </td><td>4.039880    </td><td>28          </td><td>1528        </td><td>1.123348e-11</td></tr>\n",
       "\t<tr><th scope=row>V_Alter</th><td>3           </td><td>0.08754787  </td><td>1.640409    </td><td>21          </td><td>1146        </td><td>3.431158e-02</td></tr>\n",
       "\t<tr><th scope=row>V_Geschlecht</th><td>1           </td><td>0.03755064  </td><td>2.062259    </td><td> 7          </td><td> 370        </td><td>4.680279e-02</td></tr>\n",
       "\t<tr><th scope=row>V_Spr_Germ</th><td>1           </td><td>0.04447891  </td><td>2.540266    </td><td> 7          </td><td> 382        </td><td>1.447668e-02</td></tr>\n",
       "\t<tr><th scope=row>V_E_Schule_Eng</th><td>1           </td><td>0.03843996  </td><td>2.181584    </td><td> 7          </td><td> 382        </td><td>3.509716e-02</td></tr>\n",
       "\t<tr><th scope=row>V_E_Schule_Spr</th><td>1           </td><td>0.04021356  </td><td>2.286458    </td><td> 7          </td><td> 382        </td><td>2.719377e-02</td></tr>\n",
       "\t<tr><th scope=row>V_E_Univ_DK</th><td>1           </td><td>0.07328588  </td><td>4.315587    </td><td> 7          </td><td> 382        </td><td>1.295610e-04</td></tr>\n",
       "\t<tr><th scope=row>V_E_Univ_andere</th><td>1           </td><td>0.05669403  </td><td>3.279821    </td><td> 7          </td><td> 382        </td><td>2.132283e-03</td></tr>\n",
       "\t<tr><th scope=row>V_E_DK_aktuell</th><td>1           </td><td>0.06476916  </td><td>3.779330    </td><td> 7          </td><td> 382        </td><td>5.591878e-04</td></tr>\n",
       "\t<tr><th scope=row>V_Met_Tipps</th><td>1           </td><td>0.03961972  </td><td>2.251301    </td><td> 7          </td><td> 382        </td><td>2.963321e-02</td></tr>\n",
       "\t<tr><th scope=row>V_Met_Training</th><td>1           </td><td>0.04353793  </td><td>2.484079    </td><td> 7          </td><td> 382        </td><td>1.666913e-02</td></tr>\n",
       "\t<tr><th scope=row>V_Met_Reflexion</th><td>1           </td><td>0.05648580  </td><td>3.267053    </td><td> 7          </td><td> 382        </td><td>2.205641e-03</td></tr>\n",
       "\t<tr><th scope=row>V_Met_unbewusst</th><td>1           </td><td>0.04131781  </td><td>2.351949    </td><td> 7          </td><td> 382        </td><td>2.314977e-02</td></tr>\n",
       "</tbody>\n",
       "</table>\n"
      ],
      "text/latex": [
       "\\begin{tabular}{r|llllll}\n",
       "  & Df & Pillai & approx F & num Df & den Df & Pr(>F)\\\\\n",
       "\\hline\n",
       "\tV\\_Studienrichtung & 3            & 0.09196955   & 1.725879     & 21           & 1146         & 2.199743e-02\\\\\n",
       "\tV\\_Niveau\\_DK & 4            & 0.27570654   & 4.039880     & 28           & 1528         & 1.123348e-11\\\\\n",
       "\tV\\_Alter & 3            & 0.08754787   & 1.640409     & 21           & 1146         & 3.431158e-02\\\\\n",
       "\tV\\_Geschlecht & 1            & 0.03755064   & 2.062259     &  7           &  370         & 4.680279e-02\\\\\n",
       "\tV\\_Spr\\_Germ & 1            & 0.04447891   & 2.540266     &  7           &  382         & 1.447668e-02\\\\\n",
       "\tV\\_E\\_Schule\\_Eng & 1            & 0.03843996   & 2.181584     &  7           &  382         & 3.509716e-02\\\\\n",
       "\tV\\_E\\_Schule\\_Spr & 1            & 0.04021356   & 2.286458     &  7           &  382         & 2.719377e-02\\\\\n",
       "\tV\\_E\\_Univ\\_DK & 1            & 0.07328588   & 4.315587     &  7           &  382         & 1.295610e-04\\\\\n",
       "\tV\\_E\\_Univ\\_andere & 1            & 0.05669403   & 3.279821     &  7           &  382         & 2.132283e-03\\\\\n",
       "\tV\\_E\\_DK\\_aktuell & 1            & 0.06476916   & 3.779330     &  7           &  382         & 5.591878e-04\\\\\n",
       "\tV\\_Met\\_Tipps & 1            & 0.03961972   & 2.251301     &  7           &  382         & 2.963321e-02\\\\\n",
       "\tV\\_Met\\_Training & 1            & 0.04353793   & 2.484079     &  7           &  382         & 1.666913e-02\\\\\n",
       "\tV\\_Met\\_Reflexion & 1            & 0.05648580   & 3.267053     &  7           &  382         & 2.205641e-03\\\\\n",
       "\tV\\_Met\\_unbewusst & 1            & 0.04131781   & 2.351949     &  7           &  382         & 2.314977e-02\\\\\n",
       "\\end{tabular}\n"
      ],
      "text/markdown": [
       "\n",
       "| <!--/--> | Df | Pillai | approx F | num Df | den Df | Pr(>F) | \n",
       "|---|---|---|---|---|---|---|---|---|---|---|---|---|---|\n",
       "| V_Studienrichtung | 3            | 0.09196955   | 1.725879     | 21           | 1146         | 2.199743e-02 | \n",
       "| V_Niveau_DK | 4            | 0.27570654   | 4.039880     | 28           | 1528         | 1.123348e-11 | \n",
       "| V_Alter | 3            | 0.08754787   | 1.640409     | 21           | 1146         | 3.431158e-02 | \n",
       "| V_Geschlecht | 1            | 0.03755064   | 2.062259     |  7           |  370         | 4.680279e-02 | \n",
       "| V_Spr_Germ | 1            | 0.04447891   | 2.540266     |  7           |  382         | 1.447668e-02 | \n",
       "| V_E_Schule_Eng | 1            | 0.03843996   | 2.181584     |  7           |  382         | 3.509716e-02 | \n",
       "| V_E_Schule_Spr | 1            | 0.04021356   | 2.286458     |  7           |  382         | 2.719377e-02 | \n",
       "| V_E_Univ_DK | 1            | 0.07328588   | 4.315587     |  7           |  382         | 1.295610e-04 | \n",
       "| V_E_Univ_andere | 1            | 0.05669403   | 3.279821     |  7           |  382         | 2.132283e-03 | \n",
       "| V_E_DK_aktuell | 1            | 0.06476916   | 3.779330     |  7           |  382         | 5.591878e-04 | \n",
       "| V_Met_Tipps | 1            | 0.03961972   | 2.251301     |  7           |  382         | 2.963321e-02 | \n",
       "| V_Met_Training | 1            | 0.04353793   | 2.484079     |  7           |  382         | 1.666913e-02 | \n",
       "| V_Met_Reflexion | 1            | 0.05648580   | 3.267053     |  7           |  382         | 2.205641e-03 | \n",
       "| V_Met_unbewusst | 1            | 0.04131781   | 2.351949     |  7           |  382         | 2.314977e-02 | \n",
       "\n",
       "\n"
      ],
      "text/plain": [
       "                  Df Pillai     approx F num Df den Df Pr(>F)      \n",
       "V_Studienrichtung 3  0.09196955 1.725879 21     1146   2.199743e-02\n",
       "V_Niveau_DK       4  0.27570654 4.039880 28     1528   1.123348e-11\n",
       "V_Alter           3  0.08754787 1.640409 21     1146   3.431158e-02\n",
       "V_Geschlecht      1  0.03755064 2.062259  7      370   4.680279e-02\n",
       "V_Spr_Germ        1  0.04447891 2.540266  7      382   1.447668e-02\n",
       "V_E_Schule_Eng    1  0.03843996 2.181584  7      382   3.509716e-02\n",
       "V_E_Schule_Spr    1  0.04021356 2.286458  7      382   2.719377e-02\n",
       "V_E_Univ_DK       1  0.07328588 4.315587  7      382   1.295610e-04\n",
       "V_E_Univ_andere   1  0.05669403 3.279821  7      382   2.132283e-03\n",
       "V_E_DK_aktuell    1  0.06476916 3.779330  7      382   5.591878e-04\n",
       "V_Met_Tipps       1  0.03961972 2.251301  7      382   2.963321e-02\n",
       "V_Met_Training    1  0.04353793 2.484079  7      382   1.666913e-02\n",
       "V_Met_Reflexion   1  0.05648580 3.267053  7      382   2.205641e-03\n",
       "V_Met_unbewusst   1  0.04131781 2.351949  7      382   2.314977e-02"
      ]
     },
     "metadata": {},
     "output_type": "display_data"
    }
   ],
   "source": [
    "res_manova2a <- MANOVA2a_table(Df_total2,vec_V)\n",
    "res_manova2a[res_manova2a['Pr(>F)'] < 0.05,]"
   ]
  },
  {
   "cell_type": "markdown",
   "metadata": {},
   "source": [
    "t-Test (gesamt):"
   ]
  },
  {
   "cell_type": "code",
   "execution_count": 172,
   "metadata": {},
   "outputs": [],
   "source": [
    "#rownames(res_manova2[res_manova2['Pr(>F)'] < 0.05,])"
   ]
  },
  {
   "cell_type": "code",
   "execution_count": 173,
   "metadata": {},
   "outputs": [
    {
     "data": {
      "text/html": [
       "<table>\n",
       "<thead><tr><th></th><th scope=col>MR1</th><th scope=col>MR2</th><th scope=col>MR3</th></tr></thead>\n",
       "<tbody>\n",
       "\t<tr><th scope=row>V_Spr_Germ</th><td>1.732609e-03</td><td>0.561229033 </td><td>0.06769899  </td></tr>\n",
       "\t<tr><th scope=row>V_E_Schule_Eng</th><td>3.133540e-01</td><td>0.004123614 </td><td>0.97301593  </td></tr>\n",
       "\t<tr><th scope=row>V_E_Schule_Spr</th><td>1.558504e-02</td><td>0.033503904 </td><td>0.80728404  </td></tr>\n",
       "\t<tr><th scope=row>V_E_Univ_DK</th><td>1.077163e-05</td><td>0.318273822 </td><td>0.15826296  </td></tr>\n",
       "\t<tr><th scope=row>V_E_Univ_andere</th><td>1.337741e-05</td><td>0.529285123 </td><td>0.60048378  </td></tr>\n",
       "\t<tr><th scope=row>V_E_Sprachschule</th><td>1.863001e-02</td><td>0.036066435 </td><td>0.86796622  </td></tr>\n",
       "\t<tr><th scope=row>V_E_DK_aktuell</th><td>3.266436e-02</td><td>0.004337802 </td><td>0.39612632  </td></tr>\n",
       "\t<tr><th scope=row>V_E_Sozial</th><td>4.590967e-03</td><td>0.781065313 </td><td>0.93771497  </td></tr>\n",
       "\t<tr><th scope=row>V_E_autonom</th><td>3.278314e-02</td><td>0.342625921 </td><td>0.02978431  </td></tr>\n",
       "\t<tr><th scope=row>V_Met_Training</th><td>9.900044e-03</td><td>0.026773870 </td><td>0.81535457  </td></tr>\n",
       "\t<tr><th scope=row>V_Met_Reflexion</th><td>8.956992e-04</td><td>0.182711135 </td><td>0.19345539  </td></tr>\n",
       "\t<tr><th scope=row>V_Met_unbewusst</th><td>4.082279e-03</td><td>0.678322750 </td><td>0.09301316  </td></tr>\n",
       "</tbody>\n",
       "</table>\n"
      ],
      "text/latex": [
       "\\begin{tabular}{r|lll}\n",
       "  & MR1 & MR2 & MR3\\\\\n",
       "\\hline\n",
       "\tV\\_Spr\\_Germ & 1.732609e-03 & 0.561229033  & 0.06769899  \\\\\n",
       "\tV\\_E\\_Schule\\_Eng & 3.133540e-01 & 0.004123614  & 0.97301593  \\\\\n",
       "\tV\\_E\\_Schule\\_Spr & 1.558504e-02 & 0.033503904  & 0.80728404  \\\\\n",
       "\tV\\_E\\_Univ\\_DK & 1.077163e-05 & 0.318273822  & 0.15826296  \\\\\n",
       "\tV\\_E\\_Univ\\_andere & 1.337741e-05 & 0.529285123  & 0.60048378  \\\\\n",
       "\tV\\_E\\_Sprachschule & 1.863001e-02 & 0.036066435  & 0.86796622  \\\\\n",
       "\tV\\_E\\_DK\\_aktuell & 3.266436e-02 & 0.004337802  & 0.39612632  \\\\\n",
       "\tV\\_E\\_Sozial & 4.590967e-03 & 0.781065313  & 0.93771497  \\\\\n",
       "\tV\\_E\\_autonom & 3.278314e-02 & 0.342625921  & 0.02978431  \\\\\n",
       "\tV\\_Met\\_Training & 9.900044e-03 & 0.026773870  & 0.81535457  \\\\\n",
       "\tV\\_Met\\_Reflexion & 8.956992e-04 & 0.182711135  & 0.19345539  \\\\\n",
       "\tV\\_Met\\_unbewusst & 4.082279e-03 & 0.678322750  & 0.09301316  \\\\\n",
       "\\end{tabular}\n"
      ],
      "text/markdown": [
       "\n",
       "| <!--/--> | MR1 | MR2 | MR3 | \n",
       "|---|---|---|---|---|---|---|---|---|---|---|---|\n",
       "| V_Spr_Germ | 1.732609e-03 | 0.561229033  | 0.06769899   | \n",
       "| V_E_Schule_Eng | 3.133540e-01 | 0.004123614  | 0.97301593   | \n",
       "| V_E_Schule_Spr | 1.558504e-02 | 0.033503904  | 0.80728404   | \n",
       "| V_E_Univ_DK | 1.077163e-05 | 0.318273822  | 0.15826296   | \n",
       "| V_E_Univ_andere | 1.337741e-05 | 0.529285123  | 0.60048378   | \n",
       "| V_E_Sprachschule | 1.863001e-02 | 0.036066435  | 0.86796622   | \n",
       "| V_E_DK_aktuell | 3.266436e-02 | 0.004337802  | 0.39612632   | \n",
       "| V_E_Sozial | 4.590967e-03 | 0.781065313  | 0.93771497   | \n",
       "| V_E_autonom | 3.278314e-02 | 0.342625921  | 0.02978431   | \n",
       "| V_Met_Training | 9.900044e-03 | 0.026773870  | 0.81535457   | \n",
       "| V_Met_Reflexion | 8.956992e-04 | 0.182711135  | 0.19345539   | \n",
       "| V_Met_unbewusst | 4.082279e-03 | 0.678322750  | 0.09301316   | \n",
       "\n",
       "\n"
      ],
      "text/plain": [
       "                 MR1          MR2         MR3       \n",
       "V_Spr_Germ       1.732609e-03 0.561229033 0.06769899\n",
       "V_E_Schule_Eng   3.133540e-01 0.004123614 0.97301593\n",
       "V_E_Schule_Spr   1.558504e-02 0.033503904 0.80728404\n",
       "V_E_Univ_DK      1.077163e-05 0.318273822 0.15826296\n",
       "V_E_Univ_andere  1.337741e-05 0.529285123 0.60048378\n",
       "V_E_Sprachschule 1.863001e-02 0.036066435 0.86796622\n",
       "V_E_DK_aktuell   3.266436e-02 0.004337802 0.39612632\n",
       "V_E_Sozial       4.590967e-03 0.781065313 0.93771497\n",
       "V_E_autonom      3.278314e-02 0.342625921 0.02978431\n",
       "V_Met_Training   9.900044e-03 0.026773870 0.81535457\n",
       "V_Met_Reflexion  8.956992e-04 0.182711135 0.19345539\n",
       "V_Met_unbewusst  4.082279e-03 0.678322750 0.09301316"
      ]
     },
     "metadata": {},
     "output_type": "display_data"
    }
   ],
   "source": [
    "ttest_A2 <- tabletstbonf2(Df_total2,c('V_Spr_Germ',\n",
    " 'V_E_Schule_Eng',\n",
    " 'V_E_Schule_Spr',\n",
    " 'V_E_Univ_DK',\n",
    " 'V_E_Univ_andere',\n",
    " 'V_E_Sprachschule',\n",
    " 'V_E_DK_aktuell',\n",
    " 'V_E_Sozial',\n",
    " 'V_E_autonom',\n",
    " 'V_Met_Training',\n",
    " 'V_Met_Reflexion',\n",
    " 'V_Met_unbewusst'\n",
    " ))\n",
    "ttest_A2"
   ]
  },
  {
   "cell_type": "code",
   "execution_count": 174,
   "metadata": {},
   "outputs": [],
   "source": [
    "write.csv2(ttest_A2, file =\"D:\\\\Daten\\\\DISS\\\\Daten\\\\Ttest_A2.csv\",row.names=TRUE)"
   ]
  },
  {
   "cell_type": "code",
   "execution_count": 175,
   "metadata": {},
   "outputs": [
    {
     "data": {
      "image/png": "[encoded data removed]",
      "text/plain": [
       "Plot with title \"V_E_Sozial - MR1\""
      ]
     },
     "metadata": {},
     "output_type": "display_data"
    }
   ],
   "source": [
    "par(mfrow=c(3,3))\n",
    "boxplot(MR1~V_Spr_Germ, data = Df_total2, main = 'V_Spr_Germ - MR1')\n",
    "boxplot(MR2~V_E_Schule_Eng, data = Df_total2, main = 'V_E_Schule_Eng - MR2')\n",
    "boxplot(MR2~V_E_Schule_Spr, data = Df_total2, main = 'V_E_Schule_Spr - MR2')\n",
    "boxplot(MR1~V_E_Univ_DK, data = Df_total2, main = 'V_E_Univ_DK - MR1')\n",
    "boxplot(MR1~V_E_Univ_andere, data = Df_total2, main = 'V_E_Univ_andere - MR1')\n",
    "boxplot(MR2~V_E_Sprachschule, data = Df_total2, main = 'V_E_Sprachschule - MR2')\n",
    "boxplot(MR1~V_E_DK_aktuell, data = Df_total2, main = 'V_E_DK_aktuell - MR1')\n",
    "boxplot(MR2~V_E_DK_aktuell, data = Df_total2, main = 'V_E_DK_aktuell - MR2')\n",
    "boxplot(MR1~V_E_Sozial, data = Df_total2, main = 'V_E_Sozial - MR1')"
   ]
  },
  {
   "cell_type": "code",
   "execution_count": 176,
   "metadata": {},
   "outputs": [
    {
     "data": {
      "image/png": "[encoded data removed]",
      "text/plain": [
       "Plot with title \"V_Met_unbewusst - MR1\""
      ]
     },
     "metadata": {},
     "output_type": "display_data"
    }
   ],
   "source": [
    "par(mfrow=c(3,3))\n",
    "boxplot(MR1~V_E_autonom, data = Df_total2, main = 'V_E_autonom - MR1')\n",
    "boxplot(MR3~V_E_autonom, data = Df_total2, main = 'V_E_autonom - MR3')\n",
    "boxplot(MR1~V_Met_Training, data = Df_total2, main = 'V_Met_Training - MR1')\n",
    "boxplot(MR2~V_Met_Training, data = Df_total2, main = 'V_Met_Training - MR2')\n",
    "boxplot(MR1~V_Met_Reflexion, data = Df_total2, main = 'V_Met_Reflexion - MR1')\n",
    "boxplot(MR1~V_Met_unbewusst, data = Df_total2, main = 'V_Met_unbewusst - MR1')"
   ]
  },
  {
   "cell_type": "code",
   "execution_count": 177,
   "metadata": {},
   "outputs": [
    {
     "data": {
      "text/plain": [
       " V_L1.Bi.Trilingualismus V_Studienrichtung V_Niveau_DK V_Alter V_Geschlecht\n",
       " 1:103                   1:130             1:151       1:115   1   :287    \n",
       " 2:287                   2: 99             2: 66       2: 84   2   : 91    \n",
       "                         3: 70             3:103       3: 66   NA's: 12    \n",
       "                         4: 91             4: 34       4:125               \n",
       "                                           5: 36                           \n",
       " V_Erstsprache_Span V_Spr_Zahl V_Spr_Fran V_Spr_Griech V_Spr_Latein V_Spr_Germ\n",
       " 1:363              1: 34      1:271      1:110        1:187        1: 37     \n",
       " 2: 27              3: 85      2:119      2:280        2:203        2:353     \n",
       "                    4:115                                                     \n",
       "                    5:156                                                     \n",
       "                                                                              \n",
       " V_Spr_Rom V_Spr_Slaw V_Spr_Asiat V_E_Schule_LL V_E_Schule_Eng V_E_Schule_Spr\n",
       " 1:131     1: 32      1: 45       1:139         1:220          1:176         \n",
       " 2:259     2:358      2:345       2:251         2:170          2:214         \n",
       "                                                                             \n",
       "                                                                             \n",
       "                                                                             \n",
       " V_E_Univ_DK V_E_Univ_andere V_E_Sprachschule V_E_DK_aktuell V_E_Sozial\n",
       " 1:119       1:136           1:157            1:232          1: 91     \n",
       " 2:271       2:254           2:233            2:158          2:299     \n",
       "                                                                       \n",
       "                                                                       \n",
       "                                                                       \n",
       " V_E_autonom V_Met_Erkl V_Met_Tipps V_Met_Training V_Met_Vgl V_Met_Reflexion\n",
       " 1:219       1:201      1:247       1:198          1:114     1:148          \n",
       " 2:171       2:189      2:143       2:192          2:276     2:242          \n",
       "                                                                            \n",
       "                                                                            \n",
       "                                                                            \n",
       " V_Met_unbewusst\n",
       " 1:263          \n",
       " 2:127          \n",
       "                \n",
       "                \n",
       "                "
      ]
     },
     "metadata": {},
     "output_type": "display_data"
    }
   ],
   "source": [
    "summary(Df_total2[,vec_V])"
   ]
  },
  {
   "cell_type": "markdown",
   "metadata": {},
   "source": [
    "MANOVA (A1):"
   ]
  },
  {
   "cell_type": "code",
   "execution_count": 178,
   "metadata": {},
   "outputs": [
    {
     "data": {
      "text/html": [
       "<table>\n",
       "<thead><tr><th></th><th scope=col>Df</th><th scope=col>Pillai</th><th scope=col>approx F</th><th scope=col>num Df</th><th scope=col>den Df</th><th scope=col>Pr(&gt;F)</th></tr></thead>\n",
       "<tbody>\n",
       "\t<tr><th scope=row>V_E_Univ_DK</th><td>1         </td><td>0.07176276</td><td>3.788229  </td><td>3         </td><td>147       </td><td>0.01181444</td></tr>\n",
       "\t<tr><th scope=row>V_E_DK_aktuell</th><td>1         </td><td>0.05881736</td><td>3.062159  </td><td>3         </td><td>147       </td><td>0.03008671</td></tr>\n",
       "\t<tr><th scope=row>V_E_Sozial</th><td>1         </td><td>0.05680872</td><td>2.951286  </td><td>3         </td><td>147       </td><td>0.03469212</td></tr>\n",
       "\t<tr><th scope=row>V_Met_Vgl</th><td>1         </td><td>0.05220470</td><td>2.698927  </td><td>3         </td><td>147       </td><td>0.04794599</td></tr>\n",
       "</tbody>\n",
       "</table>\n"
      ],
      "text/latex": [
       "\\begin{tabular}{r|llllll}\n",
       "  & Df & Pillai & approx F & num Df & den Df & Pr(>F)\\\\\n",
       "\\hline\n",
       "\tV\\_E\\_Univ\\_DK & 1          & 0.07176276 & 3.788229   & 3          & 147        & 0.01181444\\\\\n",
       "\tV\\_E\\_DK\\_aktuell & 1          & 0.05881736 & 3.062159   & 3          & 147        & 0.03008671\\\\\n",
       "\tV\\_E\\_Sozial & 1          & 0.05680872 & 2.951286   & 3          & 147        & 0.03469212\\\\\n",
       "\tV\\_Met\\_Vgl & 1          & 0.05220470 & 2.698927   & 3          & 147        & 0.04794599\\\\\n",
       "\\end{tabular}\n"
      ],
      "text/markdown": [
       "\n",
       "| <!--/--> | Df | Pillai | approx F | num Df | den Df | Pr(>F) | \n",
       "|---|---|---|---|\n",
       "| V_E_Univ_DK | 1          | 0.07176276 | 3.788229   | 3          | 147        | 0.01181444 | \n",
       "| V_E_DK_aktuell | 1          | 0.05881736 | 3.062159   | 3          | 147        | 0.03008671 | \n",
       "| V_E_Sozial | 1          | 0.05680872 | 2.951286   | 3          | 147        | 0.03469212 | \n",
       "| V_Met_Vgl | 1          | 0.05220470 | 2.698927   | 3          | 147        | 0.04794599 | \n",
       "\n",
       "\n"
      ],
      "text/plain": [
       "               Df Pillai     approx F num Df den Df Pr(>F)    \n",
       "V_E_Univ_DK    1  0.07176276 3.788229 3      147    0.01181444\n",
       "V_E_DK_aktuell 1  0.05881736 3.062159 3      147    0.03008671\n",
       "V_E_Sozial     1  0.05680872 2.951286 3      147    0.03469212\n",
       "V_Met_Vgl      1  0.05220470 2.698927 3      147    0.04794599"
      ]
     },
     "metadata": {},
     "output_type": "display_data"
    }
   ],
   "source": [
    "res_anova2A <- MANOVA2_table(Df_total2[which(Df_total2$V_Niveau_DK=='1'),],vec_V[!vec_V %in% remove])\n",
    "res_anova2A[res_anova2A['Pr(>F)'] < 0.05,]"
   ]
  },
  {
   "cell_type": "code",
   "execution_count": 179,
   "metadata": {},
   "outputs": [
    {
     "data": {
      "text/html": [
       "<table>\n",
       "<thead><tr><th></th><th scope=col>MR1</th><th scope=col>MR2</th><th scope=col>MR3</th></tr></thead>\n",
       "<tbody>\n",
       "\t<tr><th scope=row>V_E_Univ_DK</th><td>0.003883776</td><td>0.33733652 </td><td>0.53833406 </td></tr>\n",
       "\t<tr><th scope=row>V_E_DK_aktuell</th><td>0.349593151</td><td>0.01882661 </td><td>0.29581645 </td></tr>\n",
       "\t<tr><th scope=row>V_E_Sozial</th><td>0.065480948</td><td>0.88059378 </td><td>0.01420207 </td></tr>\n",
       "\t<tr><th scope=row>V_Met_Vgl</th><td>0.380237202</td><td>0.01288455 </td><td>0.72560875 </td></tr>\n",
       "</tbody>\n",
       "</table>\n"
      ],
      "text/latex": [
       "\\begin{tabular}{r|lll}\n",
       "  & MR1 & MR2 & MR3\\\\\n",
       "\\hline\n",
       "\tV\\_E\\_Univ\\_DK & 0.003883776 & 0.33733652  & 0.53833406 \\\\\n",
       "\tV\\_E\\_DK\\_aktuell & 0.349593151 & 0.01882661  & 0.29581645 \\\\\n",
       "\tV\\_E\\_Sozial & 0.065480948 & 0.88059378  & 0.01420207 \\\\\n",
       "\tV\\_Met\\_Vgl & 0.380237202 & 0.01288455  & 0.72560875 \\\\\n",
       "\\end{tabular}\n"
      ],
      "text/markdown": [
       "\n",
       "| <!--/--> | MR1 | MR2 | MR3 | \n",
       "|---|---|---|---|\n",
       "| V_E_Univ_DK | 0.003883776 | 0.33733652  | 0.53833406  | \n",
       "| V_E_DK_aktuell | 0.349593151 | 0.01882661  | 0.29581645  | \n",
       "| V_E_Sozial | 0.065480948 | 0.88059378  | 0.01420207  | \n",
       "| V_Met_Vgl | 0.380237202 | 0.01288455  | 0.72560875  | \n",
       "\n",
       "\n"
      ],
      "text/plain": [
       "               MR1         MR2        MR3       \n",
       "V_E_Univ_DK    0.003883776 0.33733652 0.53833406\n",
       "V_E_DK_aktuell 0.349593151 0.01882661 0.29581645\n",
       "V_E_Sozial     0.065480948 0.88059378 0.01420207\n",
       "V_Met_Vgl      0.380237202 0.01288455 0.72560875"
      ]
     },
     "metadata": {},
     "output_type": "display_data"
    }
   ],
   "source": [
    "tabletstbonf2(Df_total2[which(Df_total2$V_Niveau_DK=='1'),],c('V_E_Univ_DK',\n",
    " 'V_E_DK_aktuell',\n",
    " 'V_E_Sozial',\n",
    " 'V_Met_Vgl'\n",
    " ))"
   ]
  },
  {
   "cell_type": "code",
   "execution_count": 180,
   "metadata": {},
   "outputs": [
    {
     "data": {
      "image/png": "[encoded data removed]",
      "text/plain": [
       "Plot with title \"V_Met_Vgl - MR2\""
      ]
     },
     "metadata": {},
     "output_type": "display_data"
    }
   ],
   "source": [
    "par(mfrow=c(3,3))\n",
    "boxplot(MR1~V_E_Univ_DK, data = Df_total2[which(Df_total2$V_Niveau_DK=='1'),], main = 'V_E_Univ_DK - MR1')\n",
    "boxplot(MR2~V_E_DK_aktuell, data = Df_total2[which(Df_total2$V_Niveau_DK=='1'),], main = 'V_E_DK_aktuell - MR2')\n",
    "boxplot(MR3~V_E_Sozial, data = Df_total2[which(Df_total2$V_Niveau_DK=='1'),], main = 'V_E_Sozial - MR3')\n",
    "boxplot(MR2~V_Met_Vgl, data = Df_total2[which(Df_total2$V_Niveau_DK=='1'),], main = 'V_Met_Vgl - MR2')"
   ]
  },
  {
   "cell_type": "markdown",
   "metadata": {},
   "source": [
    "MANOVA (A2):"
   ]
  },
  {
   "cell_type": "code",
   "execution_count": 181,
   "metadata": {},
   "outputs": [
    {
     "data": {
      "text/html": [
       "<table>\n",
       "<thead><tr><th></th><th scope=col>Df</th><th scope=col>Pillai</th><th scope=col>approx F</th><th scope=col>num Df</th><th scope=col>den Df</th><th scope=col>Pr(&gt;F)</th></tr></thead>\n",
       "<tbody>\n",
       "\t<tr><th scope=row>V_E_Schule_Eng</th><td>1         </td><td>0.1615030 </td><td>3.980610  </td><td>3         </td><td>62        </td><td>0.01168733</td></tr>\n",
       "\t<tr><th scope=row>V_Met_Erkl</th><td>1         </td><td>0.1442747 </td><td>3.484385  </td><td>3         </td><td>62        </td><td>0.02094564</td></tr>\n",
       "</tbody>\n",
       "</table>\n"
      ],
      "text/latex": [
       "\\begin{tabular}{r|llllll}\n",
       "  & Df & Pillai & approx F & num Df & den Df & Pr(>F)\\\\\n",
       "\\hline\n",
       "\tV\\_E\\_Schule\\_Eng & 1          & 0.1615030  & 3.980610   & 3          & 62         & 0.01168733\\\\\n",
       "\tV\\_Met\\_Erkl & 1          & 0.1442747  & 3.484385   & 3          & 62         & 0.02094564\\\\\n",
       "\\end{tabular}\n"
      ],
      "text/markdown": [
       "\n",
       "| <!--/--> | Df | Pillai | approx F | num Df | den Df | Pr(>F) | \n",
       "|---|---|\n",
       "| V_E_Schule_Eng | 1          | 0.1615030  | 3.980610   | 3          | 62         | 0.01168733 | \n",
       "| V_Met_Erkl | 1          | 0.1442747  | 3.484385   | 3          | 62         | 0.02094564 | \n",
       "\n",
       "\n"
      ],
      "text/plain": [
       "               Df Pillai    approx F num Df den Df Pr(>F)    \n",
       "V_E_Schule_Eng 1  0.1615030 3.980610 3      62     0.01168733\n",
       "V_Met_Erkl     1  0.1442747 3.484385 3      62     0.02094564"
      ]
     },
     "metadata": {},
     "output_type": "display_data"
    }
   ],
   "source": [
    "res_anova2A <- MANOVA2_table(Df_total2[which(Df_total2$V_Niveau_DK=='2'),],vec_V[!vec_V %in% remove])\n",
    "res_anova2A[res_anova2A['Pr(>F)'] < 0.05,]"
   ]
  },
  {
   "cell_type": "code",
   "execution_count": 182,
   "metadata": {},
   "outputs": [
    {
     "data": {
      "text/html": [
       "<table>\n",
       "<thead><tr><th></th><th scope=col>MR1</th><th scope=col>MR2</th><th scope=col>MR3</th></tr></thead>\n",
       "<tbody>\n",
       "\t<tr><th scope=row>V_E_Schule_Eng</th><td>0.003035794</td><td>0.12148156 </td><td>0.7454012  </td></tr>\n",
       "\t<tr><th scope=row>V_Met_Erkl</th><td>0.057799951</td><td>0.01681794 </td><td>0.6260147  </td></tr>\n",
       "</tbody>\n",
       "</table>\n"
      ],
      "text/latex": [
       "\\begin{tabular}{r|lll}\n",
       "  & MR1 & MR2 & MR3\\\\\n",
       "\\hline\n",
       "\tV\\_E\\_Schule\\_Eng & 0.003035794 & 0.12148156  & 0.7454012  \\\\\n",
       "\tV\\_Met\\_Erkl & 0.057799951 & 0.01681794  & 0.6260147  \\\\\n",
       "\\end{tabular}\n"
      ],
      "text/markdown": [
       "\n",
       "| <!--/--> | MR1 | MR2 | MR3 | \n",
       "|---|---|\n",
       "| V_E_Schule_Eng | 0.003035794 | 0.12148156  | 0.7454012   | \n",
       "| V_Met_Erkl | 0.057799951 | 0.01681794  | 0.6260147   | \n",
       "\n",
       "\n"
      ],
      "text/plain": [
       "               MR1         MR2        MR3      \n",
       "V_E_Schule_Eng 0.003035794 0.12148156 0.7454012\n",
       "V_Met_Erkl     0.057799951 0.01681794 0.6260147"
      ]
     },
     "metadata": {},
     "output_type": "display_data"
    }
   ],
   "source": [
    "tabletstbonf2(Df_total2[which(Df_total2$V_Niveau_DK=='2'),],c('V_E_Schule_Eng','V_Met_Erkl'))"
   ]
  },
  {
   "cell_type": "code",
   "execution_count": 183,
   "metadata": {},
   "outputs": [
    {
     "data": {
      "image/png": "[encoded data removed]",
      "text/plain": [
       "Plot with title \"V_Met_Erkl - MR2\""
      ]
     },
     "metadata": {},
     "output_type": "display_data"
    }
   ],
   "source": [
    "par(mfrow=c(3,3))\n",
    "boxplot(MR1~V_E_Schule_Eng, data = Df_total2[which(Df_total2$V_Niveau_DK=='2'),], main = 'V_E_Schule_Eng - MR1')\n",
    "boxplot(MR2~V_Met_Erkl, data = Df_total2[which(Df_total2$V_Niveau_DK=='2'),], main = 'V_Met_Erkl - MR2')"
   ]
  },
  {
   "cell_type": "markdown",
   "metadata": {},
   "source": [
    "MANOVA (B1):"
   ]
  },
  {
   "cell_type": "code",
   "execution_count": 184,
   "metadata": {},
   "outputs": [
    {
     "data": {
      "text/html": [
       "<table>\n",
       "<thead><tr><th></th><th scope=col>Df</th><th scope=col>Pillai</th><th scope=col>approx F</th><th scope=col>num Df</th><th scope=col>den Df</th><th scope=col>Pr(&gt;F)</th></tr></thead>\n",
       "<tbody>\n",
       "\t<tr><th scope=row>V_Spr_Germ</th><td>1          </td><td>0.10552389 </td><td>3.893104   </td><td>3          </td><td>99         </td><td>0.011222084</td></tr>\n",
       "\t<tr><th scope=row>V_E_Schule_Spr</th><td>1          </td><td>0.11748869 </td><td>4.393289   </td><td>3          </td><td>99         </td><td>0.006032423</td></tr>\n",
       "\t<tr><th scope=row>V_E_DK_aktuell</th><td>1          </td><td>0.15013766 </td><td>5.829818   </td><td>3          </td><td>99         </td><td>0.001038973</td></tr>\n",
       "\t<tr><th scope=row>V_Met_unbewusst</th><td>1          </td><td>0.08631338 </td><td>3.117416   </td><td>3          </td><td>99         </td><td>0.029543217</td></tr>\n",
       "</tbody>\n",
       "</table>\n"
      ],
      "text/latex": [
       "\\begin{tabular}{r|llllll}\n",
       "  & Df & Pillai & approx F & num Df & den Df & Pr(>F)\\\\\n",
       "\\hline\n",
       "\tV\\_Spr\\_Germ & 1           & 0.10552389  & 3.893104    & 3           & 99          & 0.011222084\\\\\n",
       "\tV\\_E\\_Schule\\_Spr & 1           & 0.11748869  & 4.393289    & 3           & 99          & 0.006032423\\\\\n",
       "\tV\\_E\\_DK\\_aktuell & 1           & 0.15013766  & 5.829818    & 3           & 99          & 0.001038973\\\\\n",
       "\tV\\_Met\\_unbewusst & 1           & 0.08631338  & 3.117416    & 3           & 99          & 0.029543217\\\\\n",
       "\\end{tabular}\n"
      ],
      "text/markdown": [
       "\n",
       "| <!--/--> | Df | Pillai | approx F | num Df | den Df | Pr(>F) | \n",
       "|---|---|---|---|\n",
       "| V_Spr_Germ | 1           | 0.10552389  | 3.893104    | 3           | 99          | 0.011222084 | \n",
       "| V_E_Schule_Spr | 1           | 0.11748869  | 4.393289    | 3           | 99          | 0.006032423 | \n",
       "| V_E_DK_aktuell | 1           | 0.15013766  | 5.829818    | 3           | 99          | 0.001038973 | \n",
       "| V_Met_unbewusst | 1           | 0.08631338  | 3.117416    | 3           | 99          | 0.029543217 | \n",
       "\n",
       "\n"
      ],
      "text/plain": [
       "                Df Pillai     approx F num Df den Df Pr(>F)     \n",
       "V_Spr_Germ      1  0.10552389 3.893104 3      99     0.011222084\n",
       "V_E_Schule_Spr  1  0.11748869 4.393289 3      99     0.006032423\n",
       "V_E_DK_aktuell  1  0.15013766 5.829818 3      99     0.001038973\n",
       "V_Met_unbewusst 1  0.08631338 3.117416 3      99     0.029543217"
      ]
     },
     "metadata": {},
     "output_type": "display_data"
    }
   ],
   "source": [
    "res_anova2A <- MANOVA2_table(Df_total2[which(Df_total2$V_Niveau_DK=='3'),],vec_V[!vec_V %in% remove])\n",
    "res_anova2A[res_anova2A['Pr(>F)'] < 0.05,]"
   ]
  },
  {
   "cell_type": "code",
   "execution_count": 185,
   "metadata": {},
   "outputs": [
    {
     "data": {
      "text/html": [
       "<table>\n",
       "<thead><tr><th></th><th scope=col>MR1</th><th scope=col>MR2</th><th scope=col>MR3</th></tr></thead>\n",
       "<tbody>\n",
       "\t<tr><th scope=row>V_Spr_Germ</th><td>0.7340752194</td><td>0.0325437164</td><td>0.007535634 </td></tr>\n",
       "\t<tr><th scope=row>V_E_Schule_Spr</th><td>0.2064510977</td><td>0.0009323736</td><td>0.760006150 </td></tr>\n",
       "\t<tr><th scope=row>V_E_DK_aktuell</th><td>0.0002094006</td><td>0.0648808647</td><td>0.442166581 </td></tr>\n",
       "\t<tr><th scope=row>V_Met_unbewusst</th><td>0.0050459571</td><td>0.4698587561</td><td>0.158121289 </td></tr>\n",
       "</tbody>\n",
       "</table>\n"
      ],
      "text/latex": [
       "\\begin{tabular}{r|lll}\n",
       "  & MR1 & MR2 & MR3\\\\\n",
       "\\hline\n",
       "\tV\\_Spr\\_Germ & 0.7340752194 & 0.0325437164 & 0.007535634 \\\\\n",
       "\tV\\_E\\_Schule\\_Spr & 0.2064510977 & 0.0009323736 & 0.760006150 \\\\\n",
       "\tV\\_E\\_DK\\_aktuell & 0.0002094006 & 0.0648808647 & 0.442166581 \\\\\n",
       "\tV\\_Met\\_unbewusst & 0.0050459571 & 0.4698587561 & 0.158121289 \\\\\n",
       "\\end{tabular}\n"
      ],
      "text/markdown": [
       "\n",
       "| <!--/--> | MR1 | MR2 | MR3 | \n",
       "|---|---|---|---|\n",
       "| V_Spr_Germ | 0.7340752194 | 0.0325437164 | 0.007535634  | \n",
       "| V_E_Schule_Spr | 0.2064510977 | 0.0009323736 | 0.760006150  | \n",
       "| V_E_DK_aktuell | 0.0002094006 | 0.0648808647 | 0.442166581  | \n",
       "| V_Met_unbewusst | 0.0050459571 | 0.4698587561 | 0.158121289  | \n",
       "\n",
       "\n"
      ],
      "text/plain": [
       "                MR1          MR2          MR3        \n",
       "V_Spr_Germ      0.7340752194 0.0325437164 0.007535634\n",
       "V_E_Schule_Spr  0.2064510977 0.0009323736 0.760006150\n",
       "V_E_DK_aktuell  0.0002094006 0.0648808647 0.442166581\n",
       "V_Met_unbewusst 0.0050459571 0.4698587561 0.158121289"
      ]
     },
     "metadata": {},
     "output_type": "display_data"
    }
   ],
   "source": [
    "tabletstbonf2(Df_total2[which(Df_total2$V_Niveau_DK=='3'),],c('V_Spr_Germ',\n",
    " 'V_E_Schule_Spr',                                                             \n",
    " 'V_E_DK_aktuell',\n",
    " 'V_Met_unbewusst'\n",
    " ))"
   ]
  },
  {
   "cell_type": "code",
   "execution_count": 186,
   "metadata": {},
   "outputs": [
    {
     "data": {
      "image/png": "[encoded data removed]",
      "text/plain": [
       "Plot with title \"V_Met_unbewusst - MR1\""
      ]
     },
     "metadata": {},
     "output_type": "display_data"
    }
   ],
   "source": [
    "par(mfrow=c(3,3))\n",
    "boxplot(MR2~V_Spr_Germ, data = Df_total2[which(Df_total2$V_Niveau_DK=='3'),], main = 'V_Spr_Germ - MR2')\n",
    "boxplot(MR3~V_Spr_Germ, data = Df_total2[which(Df_total2$V_Niveau_DK=='3'),], main = 'V_Spr_Germ - MR3')\n",
    "boxplot(MR2~V_E_Schule_Spr, data = Df_total2[which(Df_total2$V_Niveau_DK=='3'),], main = 'V_E_Schule_Eng - MR2')\n",
    "boxplot(MR1~V_E_DK_aktuell, data = Df_total2[which(Df_total2$V_Niveau_DK=='3'),], main = 'V_E_DK_aktuell - MR1')\n",
    "boxplot(MR1~V_Met_unbewusst, data = Df_total2[which(Df_total2$V_Niveau_DK=='3'),], main = 'V_Met_unbewusst - MR1')"
   ]
  },
  {
   "cell_type": "code",
   "execution_count": 187,
   "metadata": {},
   "outputs": [
    {
     "data": {
      "text/plain": [
       " V_L1.Bi.Trilingualismus V_Studienrichtung V_Alter V_Geschlecht V_Spr_Zahl\n",
       " 1:28                    1:51              1: 8    1   :77      1: 9      \n",
       " 2:75                    2:10              2:31    2   :25      3:23      \n",
       "                         3:20              3:26    NA's: 1      4:33      \n",
       "                         4:22              4:38                 5:38      \n",
       " V_Spr_Fran V_Spr_Griech V_Spr_Latein V_Spr_Germ V_Spr_Rom V_Spr_Slaw\n",
       " 1:73       1:28         1:53         1: 6       1:37      1: 5      \n",
       " 2:30       2:75         2:50         2:97       2:66      2:98      \n",
       "                                                                     \n",
       "                                                                     \n",
       " V_Spr_Asiat V_E_Schule_LL V_E_Schule_Eng V_E_Schule_Spr V_E_Univ_DK\n",
       " 1:12        1:30          1:49           1:43           1:36       \n",
       " 2:91        2:73          2:54           2:60           2:67       \n",
       "                                                                    \n",
       "                                                                    \n",
       " V_E_Univ_andere V_E_Sprachschule V_E_DK_aktuell V_E_Sozial V_E_autonom\n",
       " 1:41            1:45             1:65           1:24       1:59       \n",
       " 2:62            2:58             2:38           2:79       2:44       \n",
       "                                                                       \n",
       "                                                                       \n",
       " V_Met_Erkl V_Met_Tipps V_Met_Training V_Met_Vgl V_Met_Reflexion\n",
       " 1:49       1:74        1:44           1:23      1:36           \n",
       " 2:54       2:29        2:59           2:80      2:67           \n",
       "                                                                \n",
       "                                                                \n",
       " V_Met_unbewusst\n",
       " 1:68           \n",
       " 2:35           \n",
       "                \n",
       "                "
      ]
     },
     "metadata": {},
     "output_type": "display_data"
    }
   ],
   "source": [
    "summary(Df_total2[which(Df_total2$V_Niveau_DK=='3'),vec_V[!vec_V %in% remove]])"
   ]
  },
  {
   "cell_type": "markdown",
   "metadata": {},
   "source": [
    "MANOVA (B2):"
   ]
  },
  {
   "cell_type": "code",
   "execution_count": 188,
   "metadata": {},
   "outputs": [
    {
     "data": {
      "text/html": [
       "<table>\n",
       "<thead><tr><th></th><th scope=col>Df</th><th scope=col>Pillai</th><th scope=col>approx F</th><th scope=col>num Df</th><th scope=col>den Df</th><th scope=col>Pr(&gt;F)</th></tr></thead>\n",
       "<tbody>\n",
       "\t<tr><th scope=row>V_Studienrichtung</th><td>3          </td><td>0.5096098  </td><td>2.046305   </td><td>9          </td><td>90         </td><td>0.042938242</td></tr>\n",
       "\t<tr><th scope=row>V_Spr_Zahl</th><td>3          </td><td>0.6585984  </td><td>2.812838   </td><td>9          </td><td>90         </td><td>0.005870778</td></tr>\n",
       "\t<tr><th scope=row>V_Spr_Slaw</th><td>1          </td><td>0.2524333  </td><td>3.376732   </td><td>3          </td><td>30         </td><td>0.031099649</td></tr>\n",
       "</tbody>\n",
       "</table>\n"
      ],
      "text/latex": [
       "\\begin{tabular}{r|llllll}\n",
       "  & Df & Pillai & approx F & num Df & den Df & Pr(>F)\\\\\n",
       "\\hline\n",
       "\tV\\_Studienrichtung & 3           & 0.5096098   & 2.046305    & 9           & 90          & 0.042938242\\\\\n",
       "\tV\\_Spr\\_Zahl & 3           & 0.6585984   & 2.812838    & 9           & 90          & 0.005870778\\\\\n",
       "\tV\\_Spr\\_Slaw & 1           & 0.2524333   & 3.376732    & 3           & 30          & 0.031099649\\\\\n",
       "\\end{tabular}\n"
      ],
      "text/markdown": [
       "\n",
       "| <!--/--> | Df | Pillai | approx F | num Df | den Df | Pr(>F) | \n",
       "|---|---|---|\n",
       "| V_Studienrichtung | 3           | 0.5096098   | 2.046305    | 9           | 90          | 0.042938242 | \n",
       "| V_Spr_Zahl | 3           | 0.6585984   | 2.812838    | 9           | 90          | 0.005870778 | \n",
       "| V_Spr_Slaw | 1           | 0.2524333   | 3.376732    | 3           | 30          | 0.031099649 | \n",
       "\n",
       "\n"
      ],
      "text/plain": [
       "                  Df Pillai    approx F num Df den Df Pr(>F)     \n",
       "V_Studienrichtung 3  0.5096098 2.046305 9      90     0.042938242\n",
       "V_Spr_Zahl        3  0.6585984 2.812838 9      90     0.005870778\n",
       "V_Spr_Slaw        1  0.2524333 3.376732 3      30     0.031099649"
      ]
     },
     "metadata": {},
     "output_type": "display_data"
    }
   ],
   "source": [
    "res_anova2A <- MANOVA2_table(Df_total2[which(Df_total2$V_Niveau_DK=='4'),],vec_V[!vec_V %in% remove])\n",
    "res_anova2A[res_anova2A['Pr(>F)'] < 0.05,]"
   ]
  },
  {
   "cell_type": "code",
   "execution_count": 189,
   "metadata": {},
   "outputs": [
    {
     "ename": "ERROR",
     "evalue": "Error in dimnames(x) <- dn: Länge von 'dimnames' [2] ungleich der Arrayausdehnung\n",
     "output_type": "error",
     "traceback": [
      "Error in dimnames(x) <- dn: Länge von 'dimnames' [2] ungleich der Arrayausdehnung\nTraceback:\n",
      "1. tabletstbonf2(Df_total2[which(Df_total2$V_Niveau_DK == \"4\"), \n .     ], c(\"V_Studienrichtung\", \"V_Spr_Zahl\", \"V_Spr_Slaw\"))",
      "2. `colnames<-`(`*tmp*`, value = facts)   # at line 12 of file <text>"
     ]
    }
   ],
   "source": [
    "tabletstbonf2(Df_total2[which(Df_total2$V_Niveau_DK=='4'),],c('V_Studienrichtung',\n",
    " 'V_Spr_Zahl',\n",
    " 'V_Spr_Slaw'\n",
    " ))"
   ]
  },
  {
   "cell_type": "code",
   "execution_count": 190,
   "metadata": {},
   "outputs": [
    {
     "data": {
      "text/plain": [
       " V_L1.Bi.Trilingualismus V_Studienrichtung V_Alter V_Geschlecht V_Spr_Zahl\n",
       " 1:10                    1:12              1: 2    1   :25      1: 1      \n",
       " 2:24                    2: 3              2: 1    2   : 8      3: 5      \n",
       "                         3:12              3:11    NA's: 1      4: 7      \n",
       "                         4: 7              4:20                 5:21      \n",
       " V_Spr_Fran V_Spr_Griech V_Spr_Latein V_Spr_Germ V_Spr_Rom V_Spr_Slaw\n",
       " 1:25       1:10         1:16         1: 6       1:12      1: 5      \n",
       " 2: 9       2:24         2:18         2:28       2:22      2:29      \n",
       "                                                                     \n",
       "                                                                     \n",
       " V_Spr_Asiat V_E_Schule_LL V_E_Schule_Eng V_E_Schule_Spr V_E_Univ_DK\n",
       " 1: 4        1:13          1:14           1:18           1:16       \n",
       " 2:30        2:21          2:20           2:16           2:18       \n",
       "                                                                    \n",
       "                                                                    \n",
       " V_E_Univ_andere V_E_Sprachschule V_E_DK_aktuell V_E_Sozial V_E_autonom\n",
       " 1:17            1:22             1:23           1: 8       1:17       \n",
       " 2:17            2:12             2:11           2:26       2:17       \n",
       "                                                                       \n",
       "                                                                       \n",
       " V_Met_Erkl V_Met_Tipps V_Met_Training V_Met_Vgl V_Met_Reflexion\n",
       " 1:24       1:21        1:22           1:14      1:19           \n",
       " 2:10       2:13        2:12           2:20      2:15           \n",
       "                                                                \n",
       "                                                                \n",
       " V_Met_unbewusst\n",
       " 1:26           \n",
       " 2: 8           \n",
       "                \n",
       "                "
      ]
     },
     "metadata": {},
     "output_type": "display_data"
    }
   ],
   "source": [
    "summary(Df_total2[which(Df_total2$V_Niveau_DK=='4'),vec_V[!vec_V %in% remove]])"
   ]
  },
  {
   "cell_type": "markdown",
   "metadata": {},
   "source": [
    "MANOVA (C):"
   ]
  },
  {
   "cell_type": "code",
   "execution_count": 191,
   "metadata": {},
   "outputs": [
    {
     "data": {
      "text/html": [
       "<table>\n",
       "<thead><tr><th scope=col>Df</th><th scope=col>Pillai</th><th scope=col>approx F</th><th scope=col>num Df</th><th scope=col>den Df</th><th scope=col>Pr(&gt;F)</th></tr></thead>\n",
       "<tbody>\n",
       "</tbody>\n",
       "</table>\n"
      ],
      "text/latex": [
       "\\begin{tabular}{r|llllll}\n",
       " Df & Pillai & approx F & num Df & den Df & Pr(>F)\\\\\n",
       "\\hline\n",
       "\\end{tabular}\n"
      ],
      "text/markdown": [
       "\n",
       "Df | Pillai | approx F | num Df | den Df | Pr(>F) | \n",
       "||\n",
       "\n",
       "\n"
      ],
      "text/plain": [
       "     Df Pillai approx F num Df den Df Pr(>F)"
      ]
     },
     "metadata": {},
     "output_type": "display_data"
    }
   ],
   "source": [
    "res_anova2A <- MANOVA2_table(Df_total2[which(Df_total2$V_Niveau_DK=='5'),],vec_V[!vec_V %in% remove])\n",
    "res_anova2A[res_anova2A['Pr(>F)'] < 0.05,]"
   ]
  },
  {
   "cell_type": "markdown",
   "metadata": {},
   "source": [
    "### AQ3"
   ]
  },
  {
   "cell_type": "markdown",
   "metadata": {},
   "source": [
    "MANOVA (gesamt):"
   ]
  },
  {
   "cell_type": "code",
   "execution_count": 192,
   "metadata": {},
   "outputs": [
    {
     "data": {
      "text/html": [
       "<table>\n",
       "<thead><tr><th></th><th scope=col>Df</th><th scope=col>Pillai</th><th scope=col>approx F</th><th scope=col>num Df</th><th scope=col>den Df</th><th scope=col>Pr(&gt;F)</th></tr></thead>\n",
       "<tbody>\n",
       "\t<tr><th scope=row>V_Niveau_DK</th><td>4           </td><td>0.31807642  </td><td>5.514476    </td><td>24          </td><td>1532        </td><td>3.805622e-16</td></tr>\n",
       "\t<tr><th scope=row>V_Alter</th><td>3           </td><td>0.12107614  </td><td>2.684577    </td><td>18          </td><td>1149        </td><td>1.690069e-04</td></tr>\n",
       "\t<tr><th scope=row>V_Spr_Germ</th><td>1           </td><td>0.04993524  </td><td>3.355069    </td><td> 6          </td><td> 383        </td><td>3.104306e-03</td></tr>\n",
       "\t<tr><th scope=row>V_E_Univ_DK</th><td>1           </td><td>0.07562281  </td><td>5.222172    </td><td> 6          </td><td> 383        </td><td>3.487517e-05</td></tr>\n",
       "\t<tr><th scope=row>V_E_Univ_andere</th><td>1           </td><td>0.05889957  </td><td>3.995063    </td><td> 6          </td><td> 383        </td><td>6.813516e-04</td></tr>\n",
       "\t<tr><th scope=row>V_E_Sozial</th><td>1           </td><td>0.03445723  </td><td>2.278014    </td><td> 6          </td><td> 383        </td><td>3.575307e-02</td></tr>\n",
       "\t<tr><th scope=row>V_E_autonom</th><td>1           </td><td>0.03844979  </td><td>2.552522    </td><td> 6          </td><td> 383        </td><td>1.953146e-02</td></tr>\n",
       "\t<tr><th scope=row>V_Met_unbewusst</th><td>1           </td><td>0.03759818  </td><td>2.493779    </td><td> 6          </td><td> 383        </td><td>2.225827e-02</td></tr>\n",
       "</tbody>\n",
       "</table>\n"
      ],
      "text/latex": [
       "\\begin{tabular}{r|llllll}\n",
       "  & Df & Pillai & approx F & num Df & den Df & Pr(>F)\\\\\n",
       "\\hline\n",
       "\tV\\_Niveau\\_DK & 4            & 0.31807642   & 5.514476     & 24           & 1532         & 3.805622e-16\\\\\n",
       "\tV\\_Alter & 3            & 0.12107614   & 2.684577     & 18           & 1149         & 1.690069e-04\\\\\n",
       "\tV\\_Spr\\_Germ & 1            & 0.04993524   & 3.355069     &  6           &  383         & 3.104306e-03\\\\\n",
       "\tV\\_E\\_Univ\\_DK & 1            & 0.07562281   & 5.222172     &  6           &  383         & 3.487517e-05\\\\\n",
       "\tV\\_E\\_Univ\\_andere & 1            & 0.05889957   & 3.995063     &  6           &  383         & 6.813516e-04\\\\\n",
       "\tV\\_E\\_Sozial & 1            & 0.03445723   & 2.278014     &  6           &  383         & 3.575307e-02\\\\\n",
       "\tV\\_E\\_autonom & 1            & 0.03844979   & 2.552522     &  6           &  383         & 1.953146e-02\\\\\n",
       "\tV\\_Met\\_unbewusst & 1            & 0.03759818   & 2.493779     &  6           &  383         & 2.225827e-02\\\\\n",
       "\\end{tabular}\n"
      ],
      "text/markdown": [
       "\n",
       "| <!--/--> | Df | Pillai | approx F | num Df | den Df | Pr(>F) | \n",
       "|---|---|---|---|---|---|---|---|\n",
       "| V_Niveau_DK | 4            | 0.31807642   | 5.514476     | 24           | 1532         | 3.805622e-16 | \n",
       "| V_Alter | 3            | 0.12107614   | 2.684577     | 18           | 1149         | 1.690069e-04 | \n",
       "| V_Spr_Germ | 1            | 0.04993524   | 3.355069     |  6           |  383         | 3.104306e-03 | \n",
       "| V_E_Univ_DK | 1            | 0.07562281   | 5.222172     |  6           |  383         | 3.487517e-05 | \n",
       "| V_E_Univ_andere | 1            | 0.05889957   | 3.995063     |  6           |  383         | 6.813516e-04 | \n",
       "| V_E_Sozial | 1            | 0.03445723   | 2.278014     |  6           |  383         | 3.575307e-02 | \n",
       "| V_E_autonom | 1            | 0.03844979   | 2.552522     |  6           |  383         | 1.953146e-02 | \n",
       "| V_Met_unbewusst | 1            | 0.03759818   | 2.493779     |  6           |  383         | 2.225827e-02 | \n",
       "\n",
       "\n"
      ],
      "text/plain": [
       "                Df Pillai     approx F num Df den Df Pr(>F)      \n",
       "V_Niveau_DK     4  0.31807642 5.514476 24     1532   3.805622e-16\n",
       "V_Alter         3  0.12107614 2.684577 18     1149   1.690069e-04\n",
       "V_Spr_Germ      1  0.04993524 3.355069  6      383   3.104306e-03\n",
       "V_E_Univ_DK     1  0.07562281 5.222172  6      383   3.487517e-05\n",
       "V_E_Univ_andere 1  0.05889957 3.995063  6      383   6.813516e-04\n",
       "V_E_Sozial      1  0.03445723 2.278014  6      383   3.575307e-02\n",
       "V_E_autonom     1  0.03844979 2.552522  6      383   1.953146e-02\n",
       "V_Met_unbewusst 1  0.03759818 2.493779  6      383   2.225827e-02"
      ]
     },
     "metadata": {},
     "output_type": "display_data"
    }
   ],
   "source": [
    "res_anova3 <- MANOVA3_table(Df_total,vec_V)\n",
    "res3 <- res_anova3[res_anova3['Pr(>F)'] < 0.05,]\n",
    "res3"
   ]
  },
  {
   "cell_type": "code",
   "execution_count": 193,
   "metadata": {},
   "outputs": [],
   "source": [
    "write.csv2(res3, file =\"D:\\\\Daten\\\\DISS\\\\Daten\\\\Resmanova3.csv\",row.names=TRUE)"
   ]
  },
  {
   "cell_type": "code",
   "execution_count": 194,
   "metadata": {},
   "outputs": [
    {
     "data": {
      "image/png": "[encoded data removed]",
      "text/plain": [
       "Plot with title \"V_Alter - MR3\""
      ]
     },
     "metadata": {},
     "output_type": "display_data"
    },
    {
     "data": {
      "image/png": "[encoded data removed]",
      "text/plain": [
       "Plot with title \"V_Alter - MR6\""
      ]
     },
     "metadata": {},
     "output_type": "display_data"
    }
   ],
   "source": [
    "par(mfrow=c(3,3))\n",
    "boxplot(MR1~V_Niveau_DK, data = Df_total, main = 'V_Niveau_DK - MR1')\n",
    "boxplot(MR2~V_Niveau_DK, data = Df_total, main = 'V_Niveau_DK - MR2')\n",
    "boxplot(MR3~V_Niveau_DK, data = Df_total, main = 'V_Niveau_DK - MR3')\n",
    "boxplot(MR4~V_Niveau_DK, data = Df_total, main = 'V_Niveau_DK - MR4')\n",
    "boxplot(MR5~V_Niveau_DK, data = Df_total, main = 'V_Niveau_DK - MR5')\n",
    "boxplot(MR6~V_Niveau_DK, data = Df_total, main = 'V_Niveau_DK - MR6')\n",
    "boxplot(MR1~V_Alter, data = Df_total, main = 'V_Alter - MR1')\n",
    "boxplot(MR2~V_Alter, data = Df_total, main = 'V_Alter - MR2')\n",
    "boxplot(MR3~V_Alter, data = Df_total, main = 'V_Alter - MR3')\n",
    "boxplot(MR4~V_Alter, data = Df_total, main = 'V_Alter - MR4')\n",
    "boxplot(MR5~V_Alter, data = Df_total, main = 'V_Alter - MR5')\n",
    "boxplot(MR6~V_Alter, data = Df_total, main = 'V_Alter - MR6')"
   ]
  },
  {
   "cell_type": "code",
   "execution_count": 195,
   "metadata": {},
   "outputs": [
    {
     "data": {
      "text/html": [
       "<table>\n",
       "<thead><tr><th></th><th scope=col>MR1</th><th scope=col>MR2</th><th scope=col>MR3</th><th scope=col>MR4</th><th scope=col>MR5</th><th scope=col>MR6</th></tr></thead>\n",
       "<tbody>\n",
       "\t<tr><th scope=row>V_Spr_Germ</th><td>0.009509611 </td><td>8.489184e-03</td><td>0.04475461  </td><td>0.04646641  </td><td>0.64219852  </td><td>0.9986724   </td></tr>\n",
       "\t<tr><th scope=row>V_E_Univ_DK</th><td>0.858553769 </td><td>8.718888e-06</td><td>0.02124233  </td><td>0.15363378  </td><td>0.04994204  </td><td>0.7713164   </td></tr>\n",
       "\t<tr><th scope=row>V_E_Univ_andere</th><td>0.401098551 </td><td>1.388439e-04</td><td>0.94092077  </td><td>0.00162542  </td><td>0.30199097  </td><td>0.8193000   </td></tr>\n",
       "\t<tr><th scope=row>V_E_Sozial</th><td>0.037403622 </td><td>8.048110e-02</td><td>0.56902404  </td><td>0.36432732  </td><td>0.01468615  </td><td>0.3131402   </td></tr>\n",
       "\t<tr><th scope=row>V_E_autonom</th><td>0.026052682 </td><td>5.708381e-02</td><td>0.26383344  </td><td>0.84828509  </td><td>0.02254485  </td><td>0.3051606   </td></tr>\n",
       "\t<tr><th scope=row>V_Met_unbewusst</th><td>0.067568088 </td><td>1.044458e-01</td><td>0.05622976  </td><td>0.62255664  </td><td>0.04335754  </td><td>0.2145725   </td></tr>\n",
       "</tbody>\n",
       "</table>\n"
      ],
      "text/latex": [
       "\\begin{tabular}{r|llllll}\n",
       "  & MR1 & MR2 & MR3 & MR4 & MR5 & MR6\\\\\n",
       "\\hline\n",
       "\tV\\_Spr\\_Germ & 0.009509611  & 8.489184e-03 & 0.04475461   & 0.04646641   & 0.64219852   & 0.9986724   \\\\\n",
       "\tV\\_E\\_Univ\\_DK & 0.858553769  & 8.718888e-06 & 0.02124233   & 0.15363378   & 0.04994204   & 0.7713164   \\\\\n",
       "\tV\\_E\\_Univ\\_andere & 0.401098551  & 1.388439e-04 & 0.94092077   & 0.00162542   & 0.30199097   & 0.8193000   \\\\\n",
       "\tV\\_E\\_Sozial & 0.037403622  & 8.048110e-02 & 0.56902404   & 0.36432732   & 0.01468615   & 0.3131402   \\\\\n",
       "\tV\\_E\\_autonom & 0.026052682  & 5.708381e-02 & 0.26383344   & 0.84828509   & 0.02254485   & 0.3051606   \\\\\n",
       "\tV\\_Met\\_unbewusst & 0.067568088  & 1.044458e-01 & 0.05622976   & 0.62255664   & 0.04335754   & 0.2145725   \\\\\n",
       "\\end{tabular}\n"
      ],
      "text/markdown": [
       "\n",
       "| <!--/--> | MR1 | MR2 | MR3 | MR4 | MR5 | MR6 | \n",
       "|---|---|---|---|---|---|\n",
       "| V_Spr_Germ | 0.009509611  | 8.489184e-03 | 0.04475461   | 0.04646641   | 0.64219852   | 0.9986724    | \n",
       "| V_E_Univ_DK | 0.858553769  | 8.718888e-06 | 0.02124233   | 0.15363378   | 0.04994204   | 0.7713164    | \n",
       "| V_E_Univ_andere | 0.401098551  | 1.388439e-04 | 0.94092077   | 0.00162542   | 0.30199097   | 0.8193000    | \n",
       "| V_E_Sozial | 0.037403622  | 8.048110e-02 | 0.56902404   | 0.36432732   | 0.01468615   | 0.3131402    | \n",
       "| V_E_autonom | 0.026052682  | 5.708381e-02 | 0.26383344   | 0.84828509   | 0.02254485   | 0.3051606    | \n",
       "| V_Met_unbewusst | 0.067568088  | 1.044458e-01 | 0.05622976   | 0.62255664   | 0.04335754   | 0.2145725    | \n",
       "\n",
       "\n"
      ],
      "text/plain": [
       "                MR1         MR2          MR3        MR4        MR5       \n",
       "V_Spr_Germ      0.009509611 8.489184e-03 0.04475461 0.04646641 0.64219852\n",
       "V_E_Univ_DK     0.858553769 8.718888e-06 0.02124233 0.15363378 0.04994204\n",
       "V_E_Univ_andere 0.401098551 1.388439e-04 0.94092077 0.00162542 0.30199097\n",
       "V_E_Sozial      0.037403622 8.048110e-02 0.56902404 0.36432732 0.01468615\n",
       "V_E_autonom     0.026052682 5.708381e-02 0.26383344 0.84828509 0.02254485\n",
       "V_Met_unbewusst 0.067568088 1.044458e-01 0.05622976 0.62255664 0.04335754\n",
       "                MR6      \n",
       "V_Spr_Germ      0.9986724\n",
       "V_E_Univ_DK     0.7713164\n",
       "V_E_Univ_andere 0.8193000\n",
       "V_E_Sozial      0.3131402\n",
       "V_E_autonom     0.3051606\n",
       "V_Met_unbewusst 0.2145725"
      ]
     },
     "metadata": {},
     "output_type": "display_data"
    }
   ],
   "source": [
    "ttest_A3 <- tabletstbonf(Df_total,c('V_Spr_Germ',\n",
    " 'V_E_Univ_DK',\n",
    " 'V_E_Univ_andere',\n",
    " 'V_E_Sozial',\n",
    " 'V_E_autonom',\n",
    " 'V_Met_unbewusst'\n",
    " ))\n",
    "ttest_A3"
   ]
  },
  {
   "cell_type": "code",
   "execution_count": 196,
   "metadata": {},
   "outputs": [],
   "source": [
    "write.csv2(ttest_A3, file =\"D:\\\\Daten\\\\DISS\\\\Daten\\\\Ttest_A3.csv\",row.names=TRUE)"
   ]
  },
  {
   "cell_type": "code",
   "execution_count": 197,
   "metadata": {},
   "outputs": [
    {
     "data": {
      "image/png": "[encoded data removed]",
      "text/plain": [
       "Plot with title \"V_E_autonom - MR1\""
      ]
     },
     "metadata": {},
     "output_type": "display_data"
    },
    {
     "data": {
      "image/png": "[encoded data removed]",
      "text/plain": [
       "Plot with title \"V_Met_unbewusst - MR5\""
      ]
     },
     "metadata": {},
     "output_type": "display_data"
    }
   ],
   "source": [
    "par(mfrow=c(3,3))\n",
    "boxplot(MR1~V_Spr_Germ, data = Df_total, main = 'V_Spr_Germ - MR1')\n",
    "boxplot(MR2~V_Spr_Germ, data = Df_total, main = 'V_Spr_Germ - MR2')\n",
    "boxplot(MR2~V_E_Univ_DK, data = Df_total, main = 'V_E_Univ_DK - MR2')\n",
    "boxplot(MR3~V_E_Univ_DK, data = Df_total, main = 'V_E_Univ_DK - MR3')\n",
    "boxplot(MR2~V_E_Univ_andere, data = Df_total, main = 'V_E_Univ_andere - MR2')\n",
    "boxplot(MR4~V_E_Univ_andere, data = Df_total, main = 'V_E_Univ_andere - MR4')\n",
    "boxplot(MR1~V_E_Sozial, data = Df_total, main = 'V_E_Sozial - MR1')\n",
    "boxplot(MR5~V_E_Sozial, data = Df_total, main = 'V_E_Sozial - MR5')\n",
    "boxplot(MR1~V_E_autonom, data = Df_total, main = 'V_E_autonom - MR1')\n",
    "boxplot(MR5~V_E_autonom, data = Df_total, main = 'V_E_autonom - MR5')\n",
    "boxplot(MR5~V_Met_unbewusst, data = Df_total, main = 'V_Met_unbewusst - MR5')"
   ]
  },
  {
   "cell_type": "markdown",
   "metadata": {},
   "source": [
    "MANOVA (A1):"
   ]
  },
  {
   "cell_type": "code",
   "execution_count": 198,
   "metadata": {},
   "outputs": [
    {
     "data": {
      "text/html": [
       "<table>\n",
       "<thead><tr><th></th><th scope=col>Df</th><th scope=col>Pillai</th><th scope=col>approx F</th><th scope=col>num Df</th><th scope=col>den Df</th><th scope=col>Pr(&gt;F)</th></tr></thead>\n",
       "<tbody>\n",
       "\t<tr><th scope=row>V_Studienrichtung</th><td>3          </td><td>0.21987268 </td><td>1.898094   </td><td>18         </td><td>432        </td><td>0.014572179</td></tr>\n",
       "\t<tr><th scope=row>V_Alter</th><td>3          </td><td>0.19752165 </td><td>1.691545   </td><td>18         </td><td>432        </td><td>0.037813416</td></tr>\n",
       "\t<tr><th scope=row>V_Spr_Rom</th><td>1          </td><td>0.10684444 </td><td>2.871019   </td><td> 6         </td><td>144        </td><td>0.011334123</td></tr>\n",
       "\t<tr><th scope=row>V_E_Univ_DK</th><td>1          </td><td>0.12245628 </td><td>3.349065   </td><td> 6         </td><td>144        </td><td>0.004050773</td></tr>\n",
       "\t<tr><th scope=row>V_E_DK_aktuell</th><td>1          </td><td>0.09166117 </td><td>2.421858   </td><td> 6         </td><td>144        </td><td>0.029261955</td></tr>\n",
       "</tbody>\n",
       "</table>\n"
      ],
      "text/latex": [
       "\\begin{tabular}{r|llllll}\n",
       "  & Df & Pillai & approx F & num Df & den Df & Pr(>F)\\\\\n",
       "\\hline\n",
       "\tV\\_Studienrichtung & 3           & 0.21987268  & 1.898094    & 18          & 432         & 0.014572179\\\\\n",
       "\tV\\_Alter & 3           & 0.19752165  & 1.691545    & 18          & 432         & 0.037813416\\\\\n",
       "\tV\\_Spr\\_Rom & 1           & 0.10684444  & 2.871019    &  6          & 144         & 0.011334123\\\\\n",
       "\tV\\_E\\_Univ\\_DK & 1           & 0.12245628  & 3.349065    &  6          & 144         & 0.004050773\\\\\n",
       "\tV\\_E\\_DK\\_aktuell & 1           & 0.09166117  & 2.421858    &  6          & 144         & 0.029261955\\\\\n",
       "\\end{tabular}\n"
      ],
      "text/markdown": [
       "\n",
       "| <!--/--> | Df | Pillai | approx F | num Df | den Df | Pr(>F) | \n",
       "|---|---|---|---|---|\n",
       "| V_Studienrichtung | 3           | 0.21987268  | 1.898094    | 18          | 432         | 0.014572179 | \n",
       "| V_Alter | 3           | 0.19752165  | 1.691545    | 18          | 432         | 0.037813416 | \n",
       "| V_Spr_Rom | 1           | 0.10684444  | 2.871019    |  6          | 144         | 0.011334123 | \n",
       "| V_E_Univ_DK | 1           | 0.12245628  | 3.349065    |  6          | 144         | 0.004050773 | \n",
       "| V_E_DK_aktuell | 1           | 0.09166117  | 2.421858    |  6          | 144         | 0.029261955 | \n",
       "\n",
       "\n"
      ],
      "text/plain": [
       "                  Df Pillai     approx F num Df den Df Pr(>F)     \n",
       "V_Studienrichtung 3  0.21987268 1.898094 18     432    0.014572179\n",
       "V_Alter           3  0.19752165 1.691545 18     432    0.037813416\n",
       "V_Spr_Rom         1  0.10684444 2.871019  6     144    0.011334123\n",
       "V_E_Univ_DK       1  0.12245628 3.349065  6     144    0.004050773\n",
       "V_E_DK_aktuell    1  0.09166117 2.421858  6     144    0.029261955"
      ]
     },
     "metadata": {},
     "output_type": "display_data"
    }
   ],
   "source": [
    "res_anova3A <- MANOVA3_table(Df_total[which(Df_total$V_Niveau_DK=='1'),],vec_V[!vec_V %in% remove])\n",
    "res_anova3A[res_anova3A['Pr(>F)'] < 0.05,]"
   ]
  },
  {
   "cell_type": "code",
   "execution_count": 199,
   "metadata": {},
   "outputs": [
    {
     "data": {
      "image/png": "[encoded data removed]",
      "text/plain": [
       "Plot with title \"V_Alter - MR3\""
      ]
     },
     "metadata": {},
     "output_type": "display_data"
    },
    {
     "data": {
      "image/png": "[encoded data removed]",
      "text/plain": [
       "Plot with title \"V_Alter - MR6\""
      ]
     },
     "metadata": {},
     "output_type": "display_data"
    }
   ],
   "source": [
    "par(mfrow=c(3,3))\n",
    "boxplot(MR1~V_Studienrichtung, data = Df_total[which(Df_total$V_Niveau_DK=='1'),], main = 'V_Studienrichtung - MR1')\n",
    "boxplot(MR2~V_Studienrichtung, data = Df_total[which(Df_total$V_Niveau_DK=='1'),], main = 'V_Studienrichtung - MR2')\n",
    "boxplot(MR3~V_Studienrichtung, data = Df_total[which(Df_total$V_Niveau_DK=='1'),], main = 'V_Studienrichtung - MR3')\n",
    "boxplot(MR4~V_Studienrichtung, data = Df_total[which(Df_total$V_Niveau_DK=='1'),], main = 'V_Studienrichtung - MR4')\n",
    "boxplot(MR5~V_Studienrichtung, data = Df_total[which(Df_total$V_Niveau_DK=='1'),], main = 'V_Studienrichtung - MR5')\n",
    "boxplot(MR6~V_Studienrichtung, data = Df_total[which(Df_total$V_Niveau_DK=='1'),], main = 'V_Studienrichtung - MR6')\n",
    "boxplot(MR1~V_Alter, data = Df_total[which(Df_total$V_Niveau_DK=='1'),], main = 'V_Alter - MR1')\n",
    "boxplot(MR2~V_Alter, data = Df_total[which(Df_total$V_Niveau_DK=='1'),], main = 'V_Alter - MR2')\n",
    "boxplot(MR3~V_Alter, data = Df_total[which(Df_total$V_Niveau_DK=='1'),], main = 'V_Alter - MR3')\n",
    "boxplot(MR4~V_Alter, data = Df_total[which(Df_total$V_Niveau_DK=='1'),], main = 'V_Alter - MR4')\n",
    "boxplot(MR5~V_Alter, data = Df_total[which(Df_total$V_Niveau_DK=='1'),], main = 'V_Alter - MR5')\n",
    "boxplot(MR6~V_Alter, data = Df_total[which(Df_total$V_Niveau_DK=='1'),], main = 'V_Alter - MR6')"
   ]
  },
  {
   "cell_type": "code",
   "execution_count": 200,
   "metadata": {},
   "outputs": [
    {
     "data": {
      "text/html": [
       "<table>\n",
       "<thead><tr><th></th><th scope=col>MR1</th><th scope=col>MR2</th><th scope=col>MR3</th><th scope=col>MR4</th><th scope=col>MR5</th><th scope=col>MR6</th></tr></thead>\n",
       "<tbody>\n",
       "\t<tr><th scope=row>V_Spr_Rom</th><td>0.4867221  </td><td>0.003099975</td><td>0.12996640 </td><td>0.06534695 </td><td>0.18601426 </td><td>0.9188775  </td></tr>\n",
       "\t<tr><th scope=row>V_E_Univ_DK</th><td>0.3983386  </td><td>0.002150153</td><td>0.20323868 </td><td>0.86157894 </td><td>0.01233046 </td><td>0.3567748  </td></tr>\n",
       "\t<tr><th scope=row>V_E_DK_aktuell</th><td>0.9225025  </td><td>0.023055480</td><td>0.00642751 </td><td>0.37573185 </td><td>0.51025165 </td><td>0.4852098  </td></tr>\n",
       "</tbody>\n",
       "</table>\n"
      ],
      "text/latex": [
       "\\begin{tabular}{r|llllll}\n",
       "  & MR1 & MR2 & MR3 & MR4 & MR5 & MR6\\\\\n",
       "\\hline\n",
       "\tV\\_Spr\\_Rom & 0.4867221   & 0.003099975 & 0.12996640  & 0.06534695  & 0.18601426  & 0.9188775  \\\\\n",
       "\tV\\_E\\_Univ\\_DK & 0.3983386   & 0.002150153 & 0.20323868  & 0.86157894  & 0.01233046  & 0.3567748  \\\\\n",
       "\tV\\_E\\_DK\\_aktuell & 0.9225025   & 0.023055480 & 0.00642751  & 0.37573185  & 0.51025165  & 0.4852098  \\\\\n",
       "\\end{tabular}\n"
      ],
      "text/markdown": [
       "\n",
       "| <!--/--> | MR1 | MR2 | MR3 | MR4 | MR5 | MR6 | \n",
       "|---|---|---|\n",
       "| V_Spr_Rom | 0.4867221   | 0.003099975 | 0.12996640  | 0.06534695  | 0.18601426  | 0.9188775   | \n",
       "| V_E_Univ_DK | 0.3983386   | 0.002150153 | 0.20323868  | 0.86157894  | 0.01233046  | 0.3567748   | \n",
       "| V_E_DK_aktuell | 0.9225025   | 0.023055480 | 0.00642751  | 0.37573185  | 0.51025165  | 0.4852098   | \n",
       "\n",
       "\n"
      ],
      "text/plain": [
       "               MR1       MR2         MR3        MR4        MR5        MR6      \n",
       "V_Spr_Rom      0.4867221 0.003099975 0.12996640 0.06534695 0.18601426 0.9188775\n",
       "V_E_Univ_DK    0.3983386 0.002150153 0.20323868 0.86157894 0.01233046 0.3567748\n",
       "V_E_DK_aktuell 0.9225025 0.023055480 0.00642751 0.37573185 0.51025165 0.4852098"
      ]
     },
     "metadata": {},
     "output_type": "display_data"
    }
   ],
   "source": [
    "tabletstbonf(Df_total[which(Df_total$V_Niveau_DK=='1'),],c('V_Spr_Rom','V_E_Univ_DK','V_E_DK_aktuell'))"
   ]
  },
  {
   "cell_type": "code",
   "execution_count": 201,
   "metadata": {},
   "outputs": [
    {
     "data": {
      "image/png": "[encoded data removed]",
      "text/plain": [
       "Plot with title \"V_E_DK_aktuell - MR3\""
      ]
     },
     "metadata": {},
     "output_type": "display_data"
    }
   ],
   "source": [
    "par(mfrow=c(3,3))\n",
    "boxplot(MR2~V_Spr_Rom, data = Df_total[which(Df_total$V_Niveau_DK=='1'),], main = 'V_Spr_Rom - MR2')\n",
    "boxplot(MR2~V_E_Univ_DK, data = Df_total[which(Df_total$V_Niveau_DK=='1'),], main = 'V_E_Univ_DK - MR2')\n",
    "boxplot(MR5~V_E_Univ_DK, data = Df_total[which(Df_total$V_Niveau_DK=='1'),], main = 'V_E_Univ_DK - MR5')\n",
    "boxplot(MR2~V_E_DK_aktuell, data = Df_total[which(Df_total$V_Niveau_DK=='1'),], main = 'V_E_DK_aktuell - MR2')\n",
    "boxplot(MR3~V_E_DK_aktuell, data = Df_total[which(Df_total$V_Niveau_DK=='1'),], main = 'V_E_DK_aktuell - MR3')"
   ]
  },
  {
   "cell_type": "markdown",
   "metadata": {},
   "source": [
    "MANOVA (A2):"
   ]
  },
  {
   "cell_type": "code",
   "execution_count": 202,
   "metadata": {},
   "outputs": [
    {
     "data": {
      "text/html": [
       "<table>\n",
       "<thead><tr><th></th><th scope=col>Df</th><th scope=col>Pillai</th><th scope=col>approx F</th><th scope=col>num Df</th><th scope=col>den Df</th><th scope=col>Pr(&gt;F)</th></tr></thead>\n",
       "<tbody>\n",
       "\t<tr><th scope=row>V_Alter</th><td>3          </td><td>0.5468773  </td><td>2.192156   </td><td>18         </td><td>177        </td><td>0.004950034</td></tr>\n",
       "</tbody>\n",
       "</table>\n"
      ],
      "text/latex": [
       "\\begin{tabular}{r|llllll}\n",
       "  & Df & Pillai & approx F & num Df & den Df & Pr(>F)\\\\\n",
       "\\hline\n",
       "\tV\\_Alter & 3           & 0.5468773   & 2.192156    & 18          & 177         & 0.004950034\\\\\n",
       "\\end{tabular}\n"
      ],
      "text/markdown": [
       "\n",
       "| <!--/--> | Df | Pillai | approx F | num Df | den Df | Pr(>F) | \n",
       "|---|\n",
       "| V_Alter | 3           | 0.5468773   | 2.192156    | 18          | 177         | 0.004950034 | \n",
       "\n",
       "\n"
      ],
      "text/plain": [
       "        Df Pillai    approx F num Df den Df Pr(>F)     \n",
       "V_Alter 3  0.5468773 2.192156 18     177    0.004950034"
      ]
     },
     "metadata": {},
     "output_type": "display_data"
    }
   ],
   "source": [
    "res_anova3A <- MANOVA3_table(Df_total[which(Df_total$V_Niveau_DK=='2'),],vec_V[!vec_V %in% remove])\n",
    "res_anova3A[res_anova3A['Pr(>F)'] < 0.05,]"
   ]
  },
  {
   "cell_type": "code",
   "execution_count": 203,
   "metadata": {},
   "outputs": [
    {
     "data": {
      "image/png": "[encoded data removed]",
      "text/plain": [
       "Plot with title \"V_Alter - MR6\""
      ]
     },
     "metadata": {},
     "output_type": "display_data"
    }
   ],
   "source": [
    "par(mfrow=c(3,3))\n",
    "boxplot(MR1~V_Alter, data = Df_total[which(Df_total$V_Niveau_DK=='2'),], main = 'V_Alter - MR1')\n",
    "boxplot(MR2~V_Alter, data = Df_total[which(Df_total$V_Niveau_DK=='2'),], main = 'V_Alter - MR2')\n",
    "boxplot(MR3~V_Alter, data = Df_total[which(Df_total$V_Niveau_DK=='2'),], main = 'V_Alter - MR3')\n",
    "boxplot(MR4~V_Alter, data = Df_total[which(Df_total$V_Niveau_DK=='2'),], main = 'V_Alter - MR4')\n",
    "boxplot(MR5~V_Alter, data = Df_total[which(Df_total$V_Niveau_DK=='2'),], main = 'V_Alter - MR5')\n",
    "boxplot(MR6~V_Alter, data = Df_total[which(Df_total$V_Niveau_DK=='2'),], main = 'V_Alter - MR6')"
   ]
  },
  {
   "cell_type": "markdown",
   "metadata": {},
   "source": [
    "MANOVA (B1):"
   ]
  },
  {
   "cell_type": "code",
   "execution_count": 204,
   "metadata": {},
   "outputs": [
    {
     "data": {
      "text/html": [
       "<table>\n",
       "<thead><tr><th scope=col>Df</th><th scope=col>Pillai</th><th scope=col>approx F</th><th scope=col>num Df</th><th scope=col>den Df</th><th scope=col>Pr(&gt;F)</th></tr></thead>\n",
       "<tbody>\n",
       "</tbody>\n",
       "</table>\n"
      ],
      "text/latex": [
       "\\begin{tabular}{r|llllll}\n",
       " Df & Pillai & approx F & num Df & den Df & Pr(>F)\\\\\n",
       "\\hline\n",
       "\\end{tabular}\n"
      ],
      "text/markdown": [
       "\n",
       "Df | Pillai | approx F | num Df | den Df | Pr(>F) | \n",
       "||\n",
       "\n",
       "\n"
      ],
      "text/plain": [
       "     Df Pillai approx F num Df den Df Pr(>F)"
      ]
     },
     "metadata": {},
     "output_type": "display_data"
    }
   ],
   "source": [
    "res_anova3A <- MANOVA3_table(Df_total[which(Df_total$V_Niveau_DK=='3'),],vec_V[!vec_V %in% remove])\n",
    "res_anova3A[res_anova3A['Pr(>F)'] < 0.05,]"
   ]
  },
  {
   "cell_type": "markdown",
   "metadata": {},
   "source": [
    "MANOVA (B2):"
   ]
  },
  {
   "cell_type": "code",
   "execution_count": 205,
   "metadata": {},
   "outputs": [
    {
     "data": {
      "text/html": [
       "<table>\n",
       "<thead><tr><th scope=col>Df</th><th scope=col>Pillai</th><th scope=col>approx F</th><th scope=col>num Df</th><th scope=col>den Df</th><th scope=col>Pr(&gt;F)</th></tr></thead>\n",
       "<tbody>\n",
       "</tbody>\n",
       "</table>\n"
      ],
      "text/latex": [
       "\\begin{tabular}{r|llllll}\n",
       " Df & Pillai & approx F & num Df & den Df & Pr(>F)\\\\\n",
       "\\hline\n",
       "\\end{tabular}\n"
      ],
      "text/markdown": [
       "\n",
       "Df | Pillai | approx F | num Df | den Df | Pr(>F) | \n",
       "||\n",
       "\n",
       "\n"
      ],
      "text/plain": [
       "     Df Pillai approx F num Df den Df Pr(>F)"
      ]
     },
     "metadata": {},
     "output_type": "display_data"
    }
   ],
   "source": [
    "res_anova3A <- MANOVA3_table(Df_total[which(Df_total$V_Niveau_DK=='4'),],vec_V[!vec_V %in% remove])\n",
    "res_anova3A[res_anova3A['Pr(>F)'] < 0.05,]"
   ]
  },
  {
   "cell_type": "markdown",
   "metadata": {},
   "source": [
    "MANOVA (C):"
   ]
  },
  {
   "cell_type": "code",
   "execution_count": 206,
   "metadata": {},
   "outputs": [
    {
     "data": {
      "text/html": [
       "<table>\n",
       "<thead><tr><th></th><th scope=col>Df</th><th scope=col>Pillai</th><th scope=col>approx F</th><th scope=col>num Df</th><th scope=col>den Df</th><th scope=col>Pr(&gt;F)</th></tr></thead>\n",
       "<tbody>\n",
       "\t<tr><th scope=row>V_Spr_Germ</th><td>1          </td><td>0.3552337  </td><td>2.662922   </td><td>6          </td><td>29         </td><td>0.035035279</td></tr>\n",
       "\t<tr><th scope=row>V_Spr_Slaw</th><td>1          </td><td>0.3733015  </td><td>2.879040   </td><td>6          </td><td>29         </td><td>0.025188816</td></tr>\n",
       "\t<tr><th scope=row>V_E_Univ_andere</th><td>1          </td><td>0.3650631  </td><td>2.778971   </td><td>6          </td><td>29         </td><td>0.029332964</td></tr>\n",
       "\t<tr><th scope=row>V_E_Sozial</th><td>1          </td><td>0.3716639  </td><td>2.858941   </td><td>6          </td><td>29         </td><td>0.025969580</td></tr>\n",
       "\t<tr><th scope=row>V_Met_Training</th><td>1          </td><td>0.4347709  </td><td>3.717771   </td><td>6          </td><td>29         </td><td>0.007291216</td></tr>\n",
       "</tbody>\n",
       "</table>\n"
      ],
      "text/latex": [
       "\\begin{tabular}{r|llllll}\n",
       "  & Df & Pillai & approx F & num Df & den Df & Pr(>F)\\\\\n",
       "\\hline\n",
       "\tV\\_Spr\\_Germ & 1           & 0.3552337   & 2.662922    & 6           & 29          & 0.035035279\\\\\n",
       "\tV\\_Spr\\_Slaw & 1           & 0.3733015   & 2.879040    & 6           & 29          & 0.025188816\\\\\n",
       "\tV\\_E\\_Univ\\_andere & 1           & 0.3650631   & 2.778971    & 6           & 29          & 0.029332964\\\\\n",
       "\tV\\_E\\_Sozial & 1           & 0.3716639   & 2.858941    & 6           & 29          & 0.025969580\\\\\n",
       "\tV\\_Met\\_Training & 1           & 0.4347709   & 3.717771    & 6           & 29          & 0.007291216\\\\\n",
       "\\end{tabular}\n"
      ],
      "text/markdown": [
       "\n",
       "| <!--/--> | Df | Pillai | approx F | num Df | den Df | Pr(>F) | \n",
       "|---|---|---|---|---|\n",
       "| V_Spr_Germ | 1           | 0.3552337   | 2.662922    | 6           | 29          | 0.035035279 | \n",
       "| V_Spr_Slaw | 1           | 0.3733015   | 2.879040    | 6           | 29          | 0.025188816 | \n",
       "| V_E_Univ_andere | 1           | 0.3650631   | 2.778971    | 6           | 29          | 0.029332964 | \n",
       "| V_E_Sozial | 1           | 0.3716639   | 2.858941    | 6           | 29          | 0.025969580 | \n",
       "| V_Met_Training | 1           | 0.4347709   | 3.717771    | 6           | 29          | 0.007291216 | \n",
       "\n",
       "\n"
      ],
      "text/plain": [
       "                Df Pillai    approx F num Df den Df Pr(>F)     \n",
       "V_Spr_Germ      1  0.3552337 2.662922 6      29     0.035035279\n",
       "V_Spr_Slaw      1  0.3733015 2.879040 6      29     0.025188816\n",
       "V_E_Univ_andere 1  0.3650631 2.778971 6      29     0.029332964\n",
       "V_E_Sozial      1  0.3716639 2.858941 6      29     0.025969580\n",
       "V_Met_Training  1  0.4347709 3.717771 6      29     0.007291216"
      ]
     },
     "metadata": {},
     "output_type": "display_data"
    }
   ],
   "source": [
    "res_anova3A <- MANOVA3_table(Df_total[which(Df_total$V_Niveau_DK=='5'),],vec_V[!vec_V %in% remove])\n",
    "res_anova3A[res_anova3A['Pr(>F)'] < 0.05,]"
   ]
  },
  {
   "cell_type": "code",
   "execution_count": 207,
   "metadata": {},
   "outputs": [
    {
     "data": {
      "text/html": [
       "<table>\n",
       "<thead><tr><th></th><th scope=col>MR1</th><th scope=col>MR2</th><th scope=col>MR3</th><th scope=col>MR4</th><th scope=col>MR5</th><th scope=col>MR6</th></tr></thead>\n",
       "<tbody>\n",
       "\t<tr><th scope=row>V_Spr_Germ</th><td>0.004742052 </td><td>0.533410608 </td><td>0.06591668  </td><td>0.0522948034</td><td>0.08158033  </td><td>0.5380848487</td></tr>\n",
       "\t<tr><th scope=row>V_Spr_Slaw</th><td>0.051264320 </td><td>0.900785030 </td><td>0.03888591  </td><td>0.0225031088</td><td>0.78413729  </td><td>0.6947990058</td></tr>\n",
       "\t<tr><th scope=row>V_E_Univ_andere</th><td>0.030507235 </td><td>0.180184179 </td><td>0.94251238  </td><td>0.0009916848</td><td>0.95638032  </td><td>0.0339899844</td></tr>\n",
       "\t<tr><th scope=row>V_E_Sozial</th><td>0.177614018 </td><td>0.003870182 </td><td>0.97057397  </td><td>0.2399834617</td><td>0.02960205  </td><td>0.0555051883</td></tr>\n",
       "\t<tr><th scope=row>V_Met_Training</th><td>0.056071226 </td><td>0.282017719 </td><td>0.02238968  </td><td>0.4070634748</td><td>0.37704510  </td><td>0.0008507369</td></tr>\n",
       "</tbody>\n",
       "</table>\n"
      ],
      "text/latex": [
       "\\begin{tabular}{r|llllll}\n",
       "  & MR1 & MR2 & MR3 & MR4 & MR5 & MR6\\\\\n",
       "\\hline\n",
       "\tV\\_Spr\\_Germ & 0.004742052  & 0.533410608  & 0.06591668   & 0.0522948034 & 0.08158033   & 0.5380848487\\\\\n",
       "\tV\\_Spr\\_Slaw & 0.051264320  & 0.900785030  & 0.03888591   & 0.0225031088 & 0.78413729   & 0.6947990058\\\\\n",
       "\tV\\_E\\_Univ\\_andere & 0.030507235  & 0.180184179  & 0.94251238   & 0.0009916848 & 0.95638032   & 0.0339899844\\\\\n",
       "\tV\\_E\\_Sozial & 0.177614018  & 0.003870182  & 0.97057397   & 0.2399834617 & 0.02960205   & 0.0555051883\\\\\n",
       "\tV\\_Met\\_Training & 0.056071226  & 0.282017719  & 0.02238968   & 0.4070634748 & 0.37704510   & 0.0008507369\\\\\n",
       "\\end{tabular}\n"
      ],
      "text/markdown": [
       "\n",
       "| <!--/--> | MR1 | MR2 | MR3 | MR4 | MR5 | MR6 | \n",
       "|---|---|---|---|---|\n",
       "| V_Spr_Germ | 0.004742052  | 0.533410608  | 0.06591668   | 0.0522948034 | 0.08158033   | 0.5380848487 | \n",
       "| V_Spr_Slaw | 0.051264320  | 0.900785030  | 0.03888591   | 0.0225031088 | 0.78413729   | 0.6947990058 | \n",
       "| V_E_Univ_andere | 0.030507235  | 0.180184179  | 0.94251238   | 0.0009916848 | 0.95638032   | 0.0339899844 | \n",
       "| V_E_Sozial | 0.177614018  | 0.003870182  | 0.97057397   | 0.2399834617 | 0.02960205   | 0.0555051883 | \n",
       "| V_Met_Training | 0.056071226  | 0.282017719  | 0.02238968   | 0.4070634748 | 0.37704510   | 0.0008507369 | \n",
       "\n",
       "\n"
      ],
      "text/plain": [
       "                MR1         MR2         MR3        MR4          MR5       \n",
       "V_Spr_Germ      0.004742052 0.533410608 0.06591668 0.0522948034 0.08158033\n",
       "V_Spr_Slaw      0.051264320 0.900785030 0.03888591 0.0225031088 0.78413729\n",
       "V_E_Univ_andere 0.030507235 0.180184179 0.94251238 0.0009916848 0.95638032\n",
       "V_E_Sozial      0.177614018 0.003870182 0.97057397 0.2399834617 0.02960205\n",
       "V_Met_Training  0.056071226 0.282017719 0.02238968 0.4070634748 0.37704510\n",
       "                MR6         \n",
       "V_Spr_Germ      0.5380848487\n",
       "V_Spr_Slaw      0.6947990058\n",
       "V_E_Univ_andere 0.0339899844\n",
       "V_E_Sozial      0.0555051883\n",
       "V_Met_Training  0.0008507369"
      ]
     },
     "metadata": {},
     "output_type": "display_data"
    }
   ],
   "source": [
    "tabletstbonf(Df_total[which(Df_total$V_Niveau_DK=='5'),],c('V_Spr_Germ','V_Spr_Slaw','V_E_Univ_andere','V_E_Sozial','V_Met_Training'))"
   ]
  },
  {
   "cell_type": "code",
   "execution_count": 208,
   "metadata": {},
   "outputs": [
    {
     "data": {
      "image/png": "[encoded data removed]",
      "text/plain": [
       "Plot with title \"V_Met_Training - MR3\""
      ]
     },
     "metadata": {},
     "output_type": "display_data"
    },
    {
     "data": {
      "image/png": "[encoded data removed]",
      "text/plain": [
       "Plot with title \"V_Met_Training - MR6\""
      ]
     },
     "metadata": {},
     "output_type": "display_data"
    }
   ],
   "source": [
    "par(mfrow=c(3,3))\n",
    "boxplot(MR1~V_Spr_Germ, data = Df_total[which(Df_total$V_Niveau_DK=='5'),], main = 'V_Spr_Germ - MR1')\n",
    "boxplot(MR3~V_Spr_Slaw, data = Df_total[which(Df_total$V_Niveau_DK=='5'),], main = 'V_Spr_Slaw - MR3')\n",
    "boxplot(MR4~V_Spr_Slaw, data = Df_total[which(Df_total$V_Niveau_DK=='5'),], main = 'V_Spr_Slaw - MR4')\n",
    "boxplot(MR1~V_E_Univ_andere, data = Df_total[which(Df_total$V_Niveau_DK=='5'),], main = 'V_E_Univ_andere - MR1')\n",
    "boxplot(MR4~V_E_Univ_andere, data = Df_total[which(Df_total$V_Niveau_DK=='5'),], main = 'V_E_Univ_andere - MR4')\n",
    "boxplot(MR6~V_E_Univ_andere, data = Df_total[which(Df_total$V_Niveau_DK=='5'),], main = 'V_E_Univ_andere - MR6')\n",
    "boxplot(MR2~V_E_Sozial, data = Df_total[which(Df_total$V_Niveau_DK=='5'),], main = 'V_E_Sozial - MR2')\n",
    "boxplot(MR5~V_E_Sozial, data = Df_total[which(Df_total$V_Niveau_DK=='5'),], main = 'V_E_Sozial - MR5')\n",
    "boxplot(MR3~V_Met_Training, data = Df_total[which(Df_total$V_Niveau_DK=='5'),], main = 'V_Met_Training - MR3')\n",
    "boxplot(MR6~V_Met_Training, data = Df_total[which(Df_total$V_Niveau_DK=='5'),], main = 'V_Met_Training - MR6')"
   ]
  },
  {
   "cell_type": "code",
   "execution_count": 209,
   "metadata": {},
   "outputs": [
    {
     "data": {
      "text/plain": [
       " V_L1.Bi.Trilingualismus V_Studienrichtung V_Alter V_Geschlecht V_Spr_Zahl\n",
       " 1: 7                    1:19              1: 5    1   :29      1: 2      \n",
       " 2:29                    2: 0              2: 0    2   : 5      3: 9      \n",
       "                         3: 6              3: 6    NA's: 2      4:10      \n",
       "                         4:11              4:25                 5:15      \n",
       " V_Spr_Fran V_Spr_Griech V_Spr_Latein V_Spr_Germ V_Spr_Rom V_Spr_Slaw\n",
       " 1:28       1: 9         1:17         1: 9       1:16      1: 3      \n",
       " 2: 8       2:27         2:19         2:27       2:20      2:33      \n",
       "                                                                     \n",
       "                                                                     \n",
       " V_Spr_Asiat V_E_Schule_LL V_E_Schule_Eng V_E_Schule_Spr V_E_Univ_DK\n",
       " 1: 5        1:10          1:16           1:15           1:17       \n",
       " 2:31        2:26          2:20           2:21           2:19       \n",
       "                                                                    \n",
       "                                                                    \n",
       " V_E_Univ_andere V_E_Sprachschule V_E_DK_aktuell V_E_Sozial V_E_autonom\n",
       " 1:18            1:12             1:15           1:17       1:28       \n",
       " 2:18            2:24             2:21           2:19       2: 8       \n",
       "                                                                       \n",
       "                                                                       \n",
       " V_Met_Erkl V_Met_Tipps V_Met_Training V_Met_Vgl V_Met_Reflexion\n",
       " 1:13       1:18        1:15           1:11      1:10           \n",
       " 2:23       2:18        2:21           2:25      2:26           \n",
       "                                                                \n",
       "                                                                \n",
       " V_Met_unbewusst\n",
       " 1:23           \n",
       " 2:13           \n",
       "                \n",
       "                "
      ]
     },
     "metadata": {},
     "output_type": "display_data"
    }
   ],
   "source": [
    "summary(Df_total[which(Df_total$V_Niveau_DK=='5'),vec_V[!vec_V %in% remove]])"
   ]
  },
  {
   "cell_type": "markdown",
   "metadata": {},
   "source": [
    "### Überprüfung weiterer möglicher Einflussfaktoren"
   ]
  },
  {
   "cell_type": "code",
   "execution_count": 210,
   "metadata": {},
   "outputs": [
    {
     "data": {
      "text/html": [
       "<table>\n",
       "<thead><tr><th></th><th scope=col>Df</th><th scope=col>Pillai</th><th scope=col>approx F</th><th scope=col>num Df</th><th scope=col>den Df</th><th scope=col>Pr(&gt;F)</th></tr></thead>\n",
       "<tbody>\n",
       "\t<tr><th scope=row>W_Pilot</th><td>1          </td><td>0.02393868 </td><td>3.155652   </td><td> 3         </td><td> 386       </td><td>0.024813950</td></tr>\n",
       "\t<tr><th scope=row>W_Univ</th><td>6          </td><td>0.10714250 </td><td>2.364189   </td><td>18         </td><td>1149       </td><td>0.001079207</td></tr>\n",
       "</tbody>\n",
       "</table>\n"
      ],
      "text/latex": [
       "\\begin{tabular}{r|llllll}\n",
       "  & Df & Pillai & approx F & num Df & den Df & Pr(>F)\\\\\n",
       "\\hline\n",
       "\tW\\_Pilot & 1           & 0.02393868  & 3.155652    &  3          &  386        & 0.024813950\\\\\n",
       "\tW\\_Univ & 6           & 0.10714250  & 2.364189    & 18          & 1149        & 0.001079207\\\\\n",
       "\\end{tabular}\n"
      ],
      "text/markdown": [
       "\n",
       "| <!--/--> | Df | Pillai | approx F | num Df | den Df | Pr(>F) | \n",
       "|---|---|\n",
       "| W_Pilot | 1           | 0.02393868  | 3.155652    |  3          |  386        | 0.024813950 | \n",
       "| W_Univ | 6           | 0.10714250  | 2.364189    | 18          | 1149        | 0.001079207 | \n",
       "\n",
       "\n"
      ],
      "text/plain": [
       "        Df Pillai     approx F num Df den Df Pr(>F)     \n",
       "W_Pilot 1  0.02393868 3.155652  3      386   0.024813950\n",
       "W_Univ  6  0.10714250 2.364189 18     1149   0.001079207"
      ]
     },
     "metadata": {},
     "output_type": "display_data"
    }
   ],
   "source": [
    "res_anova2w <- MANOVA2_table(Df_total2,vec_W)\n",
    "res_anova2w[res_anova2w['Pr(>F)'] < 0.05,]"
   ]
  },
  {
   "cell_type": "code",
   "execution_count": 211,
   "metadata": {},
   "outputs": [
    {
     "data": {
      "text/html": [
       "<table>\n",
       "<thead><tr><th></th><th scope=col>MR1</th><th scope=col>MR2</th><th scope=col>MR3</th></tr></thead>\n",
       "<tbody>\n",
       "\t<tr><th scope=row>W_Pilot</th><td>0.01182687</td><td>0.1034725 </td><td>0.6951215 </td></tr>\n",
       "</tbody>\n",
       "</table>\n"
      ],
      "text/latex": [
       "\\begin{tabular}{r|lll}\n",
       "  & MR1 & MR2 & MR3\\\\\n",
       "\\hline\n",
       "\tW\\_Pilot & 0.01182687 & 0.1034725  & 0.6951215 \\\\\n",
       "\\end{tabular}\n"
      ],
      "text/markdown": [
       "\n",
       "| <!--/--> | MR1 | MR2 | MR3 | \n",
       "|---|\n",
       "| W_Pilot | 0.01182687 | 0.1034725  | 0.6951215  | \n",
       "\n",
       "\n"
      ],
      "text/plain": [
       "        MR1        MR2       MR3      \n",
       "W_Pilot 0.01182687 0.1034725 0.6951215"
      ]
     },
     "metadata": {},
     "output_type": "display_data"
    }
   ],
   "source": [
    "tabletstbonf2(Df_total2,c('W_Pilot'))"
   ]
  },
  {
   "cell_type": "code",
   "execution_count": 212,
   "metadata": {},
   "outputs": [
    {
     "data": {
      "text/html": [
       "<ol class=list-inline>\n",
       "\t<li>93</li>\n",
       "\t<li>94</li>\n",
       "\t<li>95</li>\n",
       "\t<li>96</li>\n",
       "</ol>\n"
      ],
      "text/latex": [
       "\\begin{enumerate*}\n",
       "\\item 93\n",
       "\\item 94\n",
       "\\item 95\n",
       "\\item 96\n",
       "\\end{enumerate*}\n"
      ],
      "text/markdown": [
       "1. 93\n",
       "2. 94\n",
       "3. 95\n",
       "4. 96\n",
       "\n",
       "\n"
      ],
      "text/plain": [
       "[1] 93 94 95 96"
      ]
     },
     "metadata": {},
     "output_type": "display_data"
    }
   ],
   "source": [
    "remove1 <- c(97)\n",
    "vec_W[!vec_W %in% remove1]"
   ]
  },
  {
   "cell_type": "code",
   "execution_count": 213,
   "metadata": {},
   "outputs": [
    {
     "data": {
      "text/html": [
       "<table>\n",
       "<thead><tr><th></th><th scope=col>Df</th><th scope=col>Pillai</th><th scope=col>approx F</th><th scope=col>num Df</th><th scope=col>den Df</th><th scope=col>Pr(&gt;F)</th></tr></thead>\n",
       "<tbody>\n",
       "\t<tr><th scope=row>W_Pilot</th><td>1         </td><td>0.06519717</td><td>3.440719  </td><td>3         </td><td>148       </td><td>0.01846834</td></tr>\n",
       "</tbody>\n",
       "</table>\n"
      ],
      "text/latex": [
       "\\begin{tabular}{r|llllll}\n",
       "  & Df & Pillai & approx F & num Df & den Df & Pr(>F)\\\\\n",
       "\\hline\n",
       "\tW\\_Pilot & 1          & 0.06519717 & 3.440719   & 3          & 148        & 0.01846834\\\\\n",
       "\\end{tabular}\n"
      ],
      "text/markdown": [
       "\n",
       "| <!--/--> | Df | Pillai | approx F | num Df | den Df | Pr(>F) | \n",
       "|---|\n",
       "| W_Pilot | 1          | 0.06519717 | 3.440719   | 3          | 148        | 0.01846834 | \n",
       "\n",
       "\n"
      ],
      "text/plain": [
       "        Df Pillai     approx F num Df den Df Pr(>F)    \n",
       "W_Pilot 1  0.06519717 3.440719 3      148    0.01846834"
      ]
     },
     "metadata": {},
     "output_type": "display_data"
    }
   ],
   "source": [
    "res_anova2w <- MANOVA2_table(Df_total2[which(Df_total$W_Univ=='1'),],vec_W[!vec_W %in% remove1])\n",
    "res_anova2w[res_anova2w['Pr(>F)'] < 0.05,]"
   ]
  },
  {
   "cell_type": "code",
   "execution_count": 214,
   "metadata": {},
   "outputs": [
    {
     "data": {
      "text/html": [
       "<table>\n",
       "<thead><tr><th></th><th scope=col>MR1</th><th scope=col>MR2</th><th scope=col>MR3</th></tr></thead>\n",
       "<tbody>\n",
       "\t<tr><th scope=row>W_Pilot</th><td>0.01165647</td><td>0.1505467 </td><td>0.5354974 </td></tr>\n",
       "</tbody>\n",
       "</table>\n"
      ],
      "text/latex": [
       "\\begin{tabular}{r|lll}\n",
       "  & MR1 & MR2 & MR3\\\\\n",
       "\\hline\n",
       "\tW\\_Pilot & 0.01165647 & 0.1505467  & 0.5354974 \\\\\n",
       "\\end{tabular}\n"
      ],
      "text/markdown": [
       "\n",
       "| <!--/--> | MR1 | MR2 | MR3 | \n",
       "|---|\n",
       "| W_Pilot | 0.01165647 | 0.1505467  | 0.5354974  | \n",
       "\n",
       "\n"
      ],
      "text/plain": [
       "        MR1        MR2       MR3      \n",
       "W_Pilot 0.01165647 0.1505467 0.5354974"
      ]
     },
     "metadata": {},
     "output_type": "display_data"
    }
   ],
   "source": [
    "tabletstbonf2(Df_total2[which(Df_total$W_Univ=='1'),],c('W_Pilot'))"
   ]
  },
  {
   "cell_type": "code",
   "execution_count": 215,
   "metadata": {},
   "outputs": [
    {
     "data": {
      "text/html": [
       "<table>\n",
       "<thead><tr><th></th><th scope=col>Df</th><th scope=col>Pillai</th><th scope=col>approx F</th><th scope=col>num Df</th><th scope=col>den Df</th><th scope=col>Pr(&gt;F)</th></tr></thead>\n",
       "<tbody>\n",
       "\t<tr><th scope=row>W_Papierversion_FB</th><td>1           </td><td>0.03464824  </td><td>2.291095    </td><td> 6          </td><td> 383        </td><td>3.475059e-02</td></tr>\n",
       "\t<tr><th scope=row>W_Univ</th><td>6           </td><td>0.22890644  </td><td>2.531905    </td><td>36          </td><td>2298        </td><td>1.590880e-06</td></tr>\n",
       "</tbody>\n",
       "</table>\n"
      ],
      "text/latex": [
       "\\begin{tabular}{r|llllll}\n",
       "  & Df & Pillai & approx F & num Df & den Df & Pr(>F)\\\\\n",
       "\\hline\n",
       "\tW\\_Papierversion\\_FB & 1            & 0.03464824   & 2.291095     &  6           &  383         & 3.475059e-02\\\\\n",
       "\tW\\_Univ & 6            & 0.22890644   & 2.531905     & 36           & 2298         & 1.590880e-06\\\\\n",
       "\\end{tabular}\n"
      ],
      "text/markdown": [
       "\n",
       "| <!--/--> | Df | Pillai | approx F | num Df | den Df | Pr(>F) | \n",
       "|---|---|\n",
       "| W_Papierversion_FB | 1            | 0.03464824   | 2.291095     |  6           |  383         | 3.475059e-02 | \n",
       "| W_Univ | 6            | 0.22890644   | 2.531905     | 36           | 2298         | 1.590880e-06 | \n",
       "\n",
       "\n"
      ],
      "text/plain": [
       "                   Df Pillai     approx F num Df den Df Pr(>F)      \n",
       "W_Papierversion_FB 1  0.03464824 2.291095  6      383   3.475059e-02\n",
       "W_Univ             6  0.22890644 2.531905 36     2298   1.590880e-06"
      ]
     },
     "metadata": {},
     "output_type": "display_data"
    }
   ],
   "source": [
    "res_anova3w <- MANOVA3_table(Df_total,vec_W)\n",
    "res_anova3w[res_anova3w['Pr(>F)'] < 0.05,]"
   ]
  },
  {
   "cell_type": "code",
   "execution_count": 216,
   "metadata": {},
   "outputs": [
    {
     "data": {
      "text/html": [
       "<table>\n",
       "<thead><tr><th></th><th scope=col>MR1</th><th scope=col>MR2</th><th scope=col>MR3</th><th scope=col>MR4</th><th scope=col>MR5</th><th scope=col>MR6</th></tr></thead>\n",
       "<tbody>\n",
       "\t<tr><th scope=row>W_Papierversion_FB</th><td>0.568019    </td><td>0.0008198992</td><td>0.2495228   </td><td>0.5317759   </td><td>0.4491906   </td><td>0.9810195   </td></tr>\n",
       "</tbody>\n",
       "</table>\n"
      ],
      "text/latex": [
       "\\begin{tabular}{r|llllll}\n",
       "  & MR1 & MR2 & MR3 & MR4 & MR5 & MR6\\\\\n",
       "\\hline\n",
       "\tW\\_Papierversion\\_FB & 0.568019     & 0.0008198992 & 0.2495228    & 0.5317759    & 0.4491906    & 0.9810195   \\\\\n",
       "\\end{tabular}\n"
      ],
      "text/markdown": [
       "\n",
       "| <!--/--> | MR1 | MR2 | MR3 | MR4 | MR5 | MR6 | \n",
       "|---|\n",
       "| W_Papierversion_FB | 0.568019     | 0.0008198992 | 0.2495228    | 0.5317759    | 0.4491906    | 0.9810195    | \n",
       "\n",
       "\n"
      ],
      "text/plain": [
       "                   MR1      MR2          MR3       MR4       MR5      \n",
       "W_Papierversion_FB 0.568019 0.0008198992 0.2495228 0.5317759 0.4491906\n",
       "                   MR6      \n",
       "W_Papierversion_FB 0.9810195"
      ]
     },
     "metadata": {},
     "output_type": "display_data"
    }
   ],
   "source": [
    "tabletstbonf(Df_total,c('W_Papierversion_FB'))"
   ]
  },
  {
   "cell_type": "code",
   "execution_count": null,
   "metadata": {},
   "outputs": [],
   "source": []
  },
  {
   "cell_type": "markdown",
   "metadata": {},
   "source": [
    "### Biplots"
   ]
  },
  {
   "cell_type": "markdown",
   "metadata": {},
   "source": [
    "Funktionen:"
   ]
  },
  {
   "cell_type": "code",
   "execution_count": 217,
   "metadata": {},
   "outputs": [],
   "source": [
    "# Using non vectorial programming (for rather than matrices) is less efficient\n",
    "# except for large data matices\n",
    "TransformIni <- function(X, InitTransform=\"None\", transform = \"Standardize columns\") {\n",
    "  n = nrow(X)\n",
    "  p = ncol(X)\n",
    "  RowNames = rownames(X)\n",
    "  ColNames = colnames(X)\n",
    "  \n",
    "  InitTransforms=c(\"None\", \"Log\", \"Logit\")\n",
    "  if (is.numeric(InitTransform)) \n",
    "    InitTransform = InitTransforms[InitTransform]\n",
    "  \n",
    "  \n",
    "  ContinuousDataTransform = c(\"Raw Data\", \"Substract the global mean\", \"Double centering\", \"Column centering\", \"Standardize columns\", \"Row centering\", \n",
    "                              \"Standardize rows\", \"Divide by the column means and center\", \"Normalized residuals from independence\")\n",
    "  if (is.numeric(transform)) \n",
    "    transform = ContinuousDataTransform[transform]\n",
    "  \n",
    "  switch(InitTransform, `Log` = {\n",
    "    if (sum(which(X<=0)) >0) stop(\"Initial log transformation is not compatible with negative or zero values\")\n",
    "    X = log(X)\n",
    "    if (nfs > 0) sup.rows = log(sup.rows)\n",
    "    if (ncs > 0) sup.cols = log(sup.cols)\n",
    "  },`Logit` = {\n",
    "    if (sum(which(X<=0)) >0) stop(\"Initial logit transformation is not compatible with negative values\")\n",
    "    X= X + 0.01 * (X==0) - 0.01 * (X==1)\n",
    "    x=log(X/(1-X))\n",
    "  })\n",
    "  \n",
    "  \n",
    "  switch(transform, `Substract the global mean` = {\n",
    "    gmean = mean(X)\n",
    "    X = X - gmean\n",
    "  }, `Double centering` = {\n",
    "    X = (diag(n) - matrix(1, n, n)/n) %*% X %*% (diag(p) - matrix(1, p, p)/p)\n",
    "  }, `Column centering` = {\n",
    "    means = apply(X, 2, mean)\n",
    "    X=X- matrix(1,n,1) %*% matrix(means,1,p)\n",
    "  }, `Standardize columns` = {\n",
    "    means = apply(X, 2, mean)\n",
    "    stdDevs = apply(X, 2, sd)\n",
    "    X=(X- matrix(1,n,1) %*% matrix(means,1,p))/(matrix(1,n,1) %*% matrix(stdDevs,1,p))\n",
    "  }, `Row centering` = {\n",
    "    means = apply(X, 1, mean)\n",
    "    X = X %*% (diag(p) - matrix(1, p, p)/p)\n",
    "  }, `Standardize rows` = {\n",
    "    means = apply(X, 1, mean)\n",
    "    stdDevs = apply(X, 1, sd)\n",
    "    X = solve(diag(stdDevs)) %*% X %*% (diag(p) - matrix(1, p, p)/p)\n",
    "  }, `Divide by the column means and center` = {\n",
    "    means = apply(X, 2, mean)\n",
    "    for (i in (1:p)) X[, i] = X[, i]/means[i]\n",
    "    X = (diag(n) - matrix(1, n, n)/n) %*% X\n",
    "  }, `Normalized residuals from independence` = {\n",
    "    nt = sum(sum(X))\n",
    "    dr = apply(X,1,sum)\n",
    "    dc = apply(X,2,sum)\n",
    "    esp = (t(t(dr)) %*% dc)/nt\n",
    "    var = t(t(1 - dr/nt)) %*% (1 - dc/nt)\n",
    "    xp = ((xp - esp)/sqrt(esp))/sqrt(var)\n",
    "  },`Divide by the range`={\n",
    "    Rangos=apply(X,2,max)-apply(X,2,min)\n",
    "    X=X%*%diag(1/Rangos)\n",
    "  })\n",
    "  rownames(X) = RowNames\n",
    "  colnames(X) = ColNames\n",
    "  return(X)\n",
    "}"
   ]
  },
  {
   "cell_type": "code",
   "execution_count": 218,
   "metadata": {},
   "outputs": [],
   "source": [
    "Factor2Binary <- function(y, Name=NULL){  \n",
    "  if (is.null(Name)) Name=\"C-\"\n",
    "  ncat=length(levels(y))\n",
    "  n=length(y)\n",
    "  Z=matrix(0,n,ncat)\n",
    "  for (i in 1:n)\n",
    "    Z[i,as.numeric(y[i])]=1\n",
    "  colnames(Z) <- paste(Name,levels(y),sep=\"\")\n",
    "  return(Z)\n",
    "}"
   ]
  },
  {
   "cell_type": "code",
   "execution_count": 219,
   "metadata": {},
   "outputs": [],
   "source": [
    "matrixsqrt <- function(S, tol = sqrt(.Machine$double.eps))\n",
    "{\n",
    "  ## Square root of a Matrix\n",
    "  s <- svd(S)\n",
    "  nz <- s$d > tol\n",
    "  S12=s$u[, nz] %*% diag(sqrt(s$d[nz])) %*% t(s$v[, nz])\n",
    "  return(S12)\n",
    "}"
   ]
  },
  {
   "cell_type": "code",
   "execution_count": 220,
   "metadata": {},
   "outputs": [],
   "source": [
    "matrixsqrtinv <- function(S, tol = sqrt(.Machine$double.eps))\n",
    "{\n",
    "  ## Square root of a Matrix\n",
    "  s <- svd(S)\n",
    "  nz <- s$d > tol\n",
    "  S12=s$u[, nz] %*% diag(1/sqrt(s$d[nz])) %*% t(s$v[, nz])\n",
    "  return(S12)\n",
    "}"
   ]
  },
  {
   "cell_type": "code",
   "execution_count": 221,
   "metadata": {},
   "outputs": [],
   "source": [
    "CanonicalBiplot <- function(X, group, SUP = NULL, InitialTransform = 5, LDA=FALSE, MANOVA = FALSE) {\n",
    "\n",
    "  cl <- match.call()\n",
    "\n",
    "  ContinuousDataTransform = c(\"Raw Data\", \"Substract the global mean\", \"Double centering\",\n",
    "                              \"Column centering\", \"Standardize columns\", \"Row centering\",\n",
    "                              \"Standardize rows\", \"Divide by the column means and center\",\n",
    "                              \"Normalized residuals from independence\", \"Divide by the range\",\n",
    "                              \"Within groups standardization\", \"Ranks\")\n",
    "  if (is.numeric(InitialTransform))\n",
    "    InitialTransform = ContinuousDataTransform[InitialTransform]\n",
    "\n",
    "\tBip = list() #Container for the solution\n",
    "\tBip$call=cl\n",
    "\t# Setting the properties of data\n",
    "\tif (is.null(rownames(X)))\n",
    "\t\trownames(X) <- rownames(X, do.NULL = FALSE, prefix = \"I\")\n",
    "\tRowNames = rownames(X)\n",
    "\tif (is.null(colnames(X)))\n",
    "\t\tcolnames(X) <- colnames(X, do.NULL = FALSE, prefix = \"V\")\n",
    "\tVarNames = colnames(X)\n",
    "\n",
    "\tBip$Title = \"Canonical/MANOVA Biplot\"\n",
    "\tBip$Type = \"Canonical\"\n",
    "\tBip$Non_Scaled_Data = X\n",
    "\tBip$Means = apply(X, 2, mean)\n",
    "\tBip$Medians = apply(X, 2, median)\n",
    "\tBip$Deviations = apply(X, 2, sd)\n",
    "\tBip$Minima = apply(X, 2, min)\n",
    "\tBip$Maxima = apply(X, 2, max)\n",
    "\tBip$P25 = apply(X, 2, quantile)[2, ]\n",
    "\tBip$P75 = apply(X, 2, quantile)[4, ]\n",
    "\tBip$GMean = mean(as.matrix(X))\n",
    "  Bip$Initial_Transformation=InitialTransform\n",
    "\tX = TransformIni(as.matrix(X), transform = InitialTransform) # Initial transformation\n",
    "\trownames(X) <- RowNames\n",
    "\tif (is.factor(group)) {\n",
    "\t\tGroupNames = levels(group)\n",
    "\t}\n",
    "\tg = length(levels(group))\n",
    "\tn = dim(X)[1]\n",
    "\tm = dim(X)[2]\n",
    "\tr = min(c(g - 1, m))\n",
    "\tBip$ncols=m\n",
    "  Bip$nrows=n\n",
    "  Bip$dim=r\n",
    "  if (LDA) {Bip$LDA=lda(X,group)\n",
    "\tBip$Predict=predict(Bip$LDA,X)$class\n",
    "\tBip$ClassificationTable = table(group, Bip$Predict)\n",
    "\tBip$PercentCorrect=diag(prop.table(Bip$ClassificationTable, 1))\n",
    "\tnames(Bip$PercentCorrect)=GroupNames\n",
    "\tBip$TotalPercentCorrect=sum(diag(prop.table(Bip$ClassificationTable)))\n",
    "\tnames(Bip$TotalPercentCorrect)= \"Total\"}\n",
    "  \n",
    "  \n",
    "  if (MANOVA) Bip$MANOVA = manova(X ~ group)\n",
    "\n",
    "\tDimNames = \"Dim 1\"\n",
    "\tfor (i in 2:r) DimNames = c(DimNames, paste(\"Dim\", i))\n",
    "\tZ = Factor2Binary(group) # Matrix of indicators\n",
    "\tng = colSums(Z)\n",
    "\tS11 = t(Z) %*% Z\n",
    "\tXb = solve(S11) %*% t(Z) %*% X\n",
    "\tB = t(Xb) %*% S11 %*% Xb\n",
    "\tS = t(X) %*% X - B\n",
    "\tY = (S11^0.5) %*% Xb %*% matrixsqrtinv(S)\n",
    "\tSV = svd(Y)\n",
    "\n",
    "\tH = matrixsqrt(S) %*% SV$v[, 1:r] # Variable coordinates\n",
    "\tB = matrixsqrtinv(S) %*% SV$v[, 1:r] # Canonical Weigths\n",
    "\tJ = Xb %*% B # Center Coordinates\n",
    "\tV = X %*% B # Individual Coordinates\n",
    "\tif (!is.null(SUP)) {\n",
    "\t\tVS = SUP %*% B\n",
    "\t\trownames(VS)=rownames(SUP)\n",
    "\t\tcolnames(VS)=DimNames\n",
    "\t\t# Bip$SupPredict=predict(Bip$LDA,SUP)$class\n",
    "\t}\n",
    "\telse {\n",
    "\t\tVS=NULL\n",
    "\t\tBip$SupPredict=NULL}\n",
    "\n",
    "\t# Inertia, ANOVAs for each Canonical Variate and MANOVA\n",
    "\tsct = diag(t(V) %*% V)\n",
    "\tsce = diag(t(J) %*% S11 %*% J)\n",
    "\tscr = sct - sce\n",
    "\tfs = (sce/(g - 1))/(scr/(n - g))\n",
    "\tsignif2 = df(fs, (g - 1), (n - g))\n",
    "\n",
    "\tvprop = SV$d[1:r]\n",
    "\tiner = (vprop^2/sum(vprop^2)) * 100\n",
    "\tacum = cumsum(iner)\n",
    "\n",
    "\tBip$EigenValues = vprop\n",
    "\tBip$Inertia = iner\n",
    "\tBip$CumInertia = acum\n",
    "\t# colnames(Bip$EigenValues) <- c(\"Eigenvalue\", \"Explained Variance\", \"Cummulative\")\n",
    "\t# rownames(Bip$EigenValues) <- DimNames\n",
    "\n",
    "\tlambda = vprop^2\n",
    "\tpill = 1/(1 + lambda)\n",
    "\tpillai = det(diag(pill))\n",
    "\tglh = g - 1\n",
    "\tgle = n - g\n",
    "\tt = ((glh^2 * m^2 - 4)/(m^2 + glh^2 - 5))^0.5\n",
    "\tw = gle + glh - 0.5 * (m + glh + 1)\n",
    "\tdf1 = m * glh\n",
    "\tdf2 = w * t - 0.5 * (m * glh - 2)\n",
    "\tBip$Wilksf = ((1 - pillai^(1/t))/(pillai^(1/t))) * (df2/df1)\n",
    "\tBip$Wilksp = 1 - pf(Bip$Wilksf, df1, df2)\n",
    "\n",
    "\tBip$GroupContributions = diag(1/rowSums(J^2)) %*% J^2\n",
    "\tBip$ColContributions = diag(1/rowSums(H^2)) %*% H^2\n",
    "\n",
    "\tBip$ExplTotal = matrix(0, r, 1)\n",
    "\tBip$RowContributions = matrix(0, n, r)\n",
    "\tBip$QLRVars = matrix(0, m, r)\n",
    "\n",
    "\tSCT = sum(X^2)\n",
    "\tSCRows = rowSums(X^2)\n",
    "\tSCCols = colSums(X^2)\n",
    "\n",
    "\tfor (j in 1:r) {\n",
    "\t\tFitted = V[, 1:j] %*% t(H[, 1:j])\n",
    "\t\tresiduals = X - Fitted\n",
    "\t\tBip$ExplTotal[j] = 1 - sum(residuals^2)/SCT\n",
    "\t\tBip$RowContributions[, j] = 1 - rowSums(residuals^2)/SCRows\n",
    "\t\tBip$QLRVars[, j] = 1 - colSums(residuals^2)/SCCols\n",
    "\t}\n",
    "\n",
    "\n",
    "\tFitX = V %*% t(H)\n",
    "\tResid = X - FitX\n",
    "\n",
    "\tSCR = sum(Resid^2)\n",
    "\tFIT = 1 - (SCR/SCT)\n",
    "\n",
    "\tsctotal = diag(t(X) %*% X)\n",
    "\n",
    "\tscdentro = diag(S)\n",
    "\tscentre = sctotal - scdentro\n",
    "\tfs = (scentre/glh)/(scdentro/gle)\n",
    "\tpval = 1 - pf(fs, glh, gle)\n",
    "\n",
    "\tBip$ANOVAS = cbind(sctotal, scentre, scdentro, fs, pval)\n",
    "\tcolnames(Bip$ANOVAS) <- c(\"Total\", \"Groups\", \"Error\", \"F\", \"p-val\")\n",
    "\n",
    "\tfalfau = qt(1 - (0.025), (n - g))\n",
    "\tfalfab = qt(1 - (0.025/(g * m)), (n - g))\n",
    "\tfalfam = sqrt(qf(1 - 0.05, m, (n - g - m + 1)) * (((n - g) * m)/(n - g - m + 1)))\n",
    "\tfalfac = sqrt(qchisq(0.95, 2))\n",
    "\n",
    "\tBip$UnivRad = falfau * diag(solve(sqrt(S11)))/sqrt(n - g)\n",
    "\tBip$BonfRad = falfab * diag(solve(sqrt(S11)))/sqrt(n - g)\n",
    "\tBip$MultRad = falfam * diag(solve(sqrt(S11)))/sqrt(n - g)\n",
    "\tBip$ChisRad = falfac * diag(solve(sqrt(S11)))/sqrt(n - g)\n",
    "\n",
    "\tBip$n = n\n",
    "\tBip$p = m\n",
    "\tBip$g = g\n",
    "\tBip$X = X\n",
    "\tBip$groups = group\n",
    "\n",
    "\tBip$RowCoordinates = V\n",
    "\trownames(Bip$RowCoordinates) = RowNames\n",
    "\tcolnames(Bip$RowCoordinates) = DimNames\n",
    "\tBip$Sup_Individual_Coord = VS\n",
    "\tBip$ColCoordinates = H\n",
    "\trownames(Bip$ColCoordinates) = VarNames\n",
    "\tcolnames(Bip$ColCoordinates) = DimNames\n",
    "\tBip$GroupCoordinates = J\n",
    "\trownames(Bip$GroupCoordinates) = GroupNames\n",
    "\tcolnames(Bip$GroupCoordinates) = DimNames\n",
    "\tBip$Canonical_Weights = B\n",
    "\trownames(Bip$Canonical_Weights) = VarNames\n",
    "\tcolnames(Bip$Canonical_Weights) = DimNames\n",
    "\tBip$Structure_Correlations = cor(X, V)\n",
    "\trownames(Bip$Structure_Correlations) = VarNames\n",
    "\tcolnames(Bip$Structure_Correlations) = DimNames\n",
    "\trownames(Bip$GroupContributions) = GroupNames\n",
    "\tcolnames(Bip$GroupContributions) = DimNames\n",
    "\trownames(Bip$ColContributions) = VarNames\n",
    "\tcolnames(Bip$ColContributions) = DimNames\n",
    "\trownames(Bip$QLRVars) = VarNames\n",
    "\tcolnames(Bip$QLRVars) = DimNames\n",
    "\t\n",
    "\t  NGroups=length(levels(group))\n",
    "\t  Bip$Clusters = group\n",
    "\t  Bip$ClusterNames = levels(group)\n",
    "\t\n",
    "\tpalette(rainbow(NGroups))\n",
    "\tClusterColors = palette()\n",
    "\tBip$ClusterType=\"us\"\n",
    "\tBip$ClusterColors=ClusterColors\n",
    "\t\n",
    "\n",
    "\tclass(Bip) <- \"Canonical.Biplot\"\n",
    "\treturn(Bip)\n",
    "}"
   ]
  },
  {
   "cell_type": "code",
   "execution_count": 222,
   "metadata": {},
   "outputs": [],
   "source": [
    "library(ggplot2)"
   ]
  },
  {
   "cell_type": "markdown",
   "metadata": {},
   "source": [
    "#### AQ2"
   ]
  },
  {
   "cell_type": "code",
   "execution_count": 223,
   "metadata": {},
   "outputs": [],
   "source": [
    "X <- Df_total2[!is.na(Df_total2$V_Niveau_DK),cbind(\"MR1\",\"MR2\",\"MR3\")]\n",
    "y <- as.factor(Df_total2$V_Niveau_DK)\n",
    "\n",
    "Totalcanbip <- CanonicalBiplot(X,y )\n",
    "\n",
    "#Rescalar resultados\n",
    "sca <- sum(Totalcanbip$GroupCoordinates^2)\n",
    "scb <- sum(Totalcanbip$ColCoordinates^2)\n",
    "sca <- sca/Totalcanbip$g\n",
    "scb <- scb/Totalcanbip$p\n",
    "scf <- sqrt(sqrt(scb/sca))\n",
    "\n",
    "Totalcanbip$Group_Coord <- Totalcanbip$GroupCoordinates*scf\n",
    "Totalcanbip$Variable_Coord <- Totalcanbip$ColCoordinates/scf\n",
    "Totalcanbip$Individual_Coord <- Totalcanbip$RowCoordinates*scf\n",
    "radio <- Totalcanbip$BonfRad\n",
    "\n",
    "CoordGrupos <- as.data.frame(Totalcanbip$Group_Coord)\n",
    "CoordVar <- as.data.frame(Totalcanbip$Variable_Coord)\n",
    "CoordGrupos$clase <- c('N1','N2','N3','N4','N5')\n",
    "rownames(CoordGrupos) <- c('N1','N2','N3','N4','N5')"
   ]
  },
  {
   "cell_type": "code",
   "execution_count": 224,
   "metadata": {},
   "outputs": [
    {
     "data": {
      "text/html": [
       "<table>\n",
       "<thead><tr><th></th><th scope=col>Dim 1</th><th scope=col>Dim 2</th><th scope=col>Dim 3</th></tr></thead>\n",
       "<tbody>\n",
       "\t<tr><th scope=row>MR1</th><td>0.5706633  </td><td>0.232923525</td><td>0.19641320 </td></tr>\n",
       "\t<tr><th scope=row>MR2</th><td>0.1540295  </td><td>0.009822452</td><td>0.83614804 </td></tr>\n",
       "\t<tr><th scope=row>MR3</th><td>0.1235235  </td><td>0.860852887</td><td>0.01562362 </td></tr>\n",
       "</tbody>\n",
       "</table>\n"
      ],
      "text/latex": [
       "\\begin{tabular}{r|lll}\n",
       "  & Dim 1 & Dim 2 & Dim 3\\\\\n",
       "\\hline\n",
       "\tMR1 & 0.5706633   & 0.232923525 & 0.19641320 \\\\\n",
       "\tMR2 & 0.1540295   & 0.009822452 & 0.83614804 \\\\\n",
       "\tMR3 & 0.1235235   & 0.860852887 & 0.01562362 \\\\\n",
       "\\end{tabular}\n"
      ],
      "text/markdown": [
       "\n",
       "| <!--/--> | Dim 1 | Dim 2 | Dim 3 | \n",
       "|---|---|---|\n",
       "| MR1 | 0.5706633   | 0.232923525 | 0.19641320  | \n",
       "| MR2 | 0.1540295   | 0.009822452 | 0.83614804  | \n",
       "| MR3 | 0.1235235   | 0.860852887 | 0.01562362  | \n",
       "\n",
       "\n"
      ],
      "text/plain": [
       "    Dim 1     Dim 2       Dim 3     \n",
       "MR1 0.5706633 0.232923525 0.19641320\n",
       "MR2 0.1540295 0.009822452 0.83614804\n",
       "MR3 0.1235235 0.860852887 0.01562362"
      ]
     },
     "metadata": {},
     "output_type": "display_data"
    }
   ],
   "source": [
    "Totalcanbip$ColContributions"
   ]
  },
  {
   "cell_type": "code",
   "execution_count": 225,
   "metadata": {},
   "outputs": [
    {
     "data": {
      "text/html": [
       "<table>\n",
       "<thead><tr><th></th><th scope=col>Dim 1</th><th scope=col>Dim 2</th><th scope=col>Dim 3</th></tr></thead>\n",
       "<tbody>\n",
       "\t<tr><th scope=row>1</th><td>0.9931972  </td><td>0.004435168</td><td>0.002367651</td></tr>\n",
       "\t<tr><th scope=row>2</th><td>0.5744698  </td><td>0.288182333</td><td>0.137347858</td></tr>\n",
       "\t<tr><th scope=row>3</th><td>0.5184691  </td><td>0.479790273</td><td>0.001740620</td></tr>\n",
       "\t<tr><th scope=row>4</th><td>0.7880265  </td><td>0.152559663</td><td>0.059413806</td></tr>\n",
       "\t<tr><th scope=row>5</th><td>0.9274550  </td><td>0.028514941</td><td>0.044030030</td></tr>\n",
       "</tbody>\n",
       "</table>\n"
      ],
      "text/latex": [
       "\\begin{tabular}{r|lll}\n",
       "  & Dim 1 & Dim 2 & Dim 3\\\\\n",
       "\\hline\n",
       "\t1 & 0.9931972   & 0.004435168 & 0.002367651\\\\\n",
       "\t2 & 0.5744698   & 0.288182333 & 0.137347858\\\\\n",
       "\t3 & 0.5184691   & 0.479790273 & 0.001740620\\\\\n",
       "\t4 & 0.7880265   & 0.152559663 & 0.059413806\\\\\n",
       "\t5 & 0.9274550   & 0.028514941 & 0.044030030\\\\\n",
       "\\end{tabular}\n"
      ],
      "text/markdown": [
       "\n",
       "| <!--/--> | Dim 1 | Dim 2 | Dim 3 | \n",
       "|---|---|---|---|---|\n",
       "| 1 | 0.9931972   | 0.004435168 | 0.002367651 | \n",
       "| 2 | 0.5744698   | 0.288182333 | 0.137347858 | \n",
       "| 3 | 0.5184691   | 0.479790273 | 0.001740620 | \n",
       "| 4 | 0.7880265   | 0.152559663 | 0.059413806 | \n",
       "| 5 | 0.9274550   | 0.028514941 | 0.044030030 | \n",
       "\n",
       "\n"
      ],
      "text/plain": [
       "  Dim 1     Dim 2       Dim 3      \n",
       "1 0.9931972 0.004435168 0.002367651\n",
       "2 0.5744698 0.288182333 0.137347858\n",
       "3 0.5184691 0.479790273 0.001740620\n",
       "4 0.7880265 0.152559663 0.059413806\n",
       "5 0.9274550 0.028514941 0.044030030"
      ]
     },
     "metadata": {},
     "output_type": "display_data"
    }
   ],
   "source": [
    "Totalcanbip$GroupContributions"
   ]
  },
  {
   "cell_type": "code",
   "execution_count": 226,
   "metadata": {},
   "outputs": [
    {
     "data": {},
     "metadata": {},
     "output_type": "display_data"
    },
    {
     "data": {
      "image/png": "[encoded data removed]",
      "text/plain": [
       "plot without title"
      ]
     },
     "metadata": {},
     "output_type": "display_data"
    }
   ],
   "source": [
    "df <- data.frame(x=as.numeric(CoordGrupos[,1]), y=as.numeric(CoordGrupos[,2]), r=as.numeric(radio))\n",
    "\n",
    "angle <- seq(-pi, pi, length = 100)\n",
    "\n",
    "myplot <- ggplot()\n",
    "for (i in 1:length(df$x)) {\n",
    "        df_temp = data.frame(x = df$x[i] + df$r[i]*sin(angle), y = df$y[i] + df$r[i]*cos(angle))\n",
    "        myplot = myplot + geom_polygon(data=df_temp, aes(x=x, y=y),color='grey', fill=NA,alpha=0.5, inherit.aes=F)\n",
    "      }\n",
    "\n",
    "myplot + geom_point(data=df, aes(x=x, y=y))+\n",
    "geom_point(data=CoordGrupos,aes(x=`Dim 1`,y=`Dim 2`,col=clase))+\n",
    "geom_text(data=CoordGrupos,aes(x=`Dim 1`,y=`Dim 2`,label=rownames(CoordGrupos),col=clase),hjust=0.6, vjust=-0.3,size=5)+\n",
    "geom_segment(aes(x=0,y=0,xend=`Dim 1`,yend=`Dim 2`),data=CoordVar,arrow = arrow(length = unit(0.2,\"cm\"),type='open'),size=0.5,col='black')+\n",
    "geom_text(aes(x=CoordVar$`Dim 1`+.08*sign(CoordVar$`Dim 1`),y=CoordVar$`Dim 2`+.01*sign(CoordVar$`Dim 2`),label=rownames(CoordVar)),data=CoordVar,size=4)+\n",
    "theme_bw()+theme(legend.position=\"none\")"
   ]
  },
  {
   "cell_type": "code",
   "execution_count": 227,
   "metadata": {},
   "outputs": [
    {
     "data": {},
     "metadata": {},
     "output_type": "display_data"
    },
    {
     "data": {
      "image/png": "[encoded data removed]",
      "text/plain": [
       "plot without title"
      ]
     },
     "metadata": {},
     "output_type": "display_data"
    }
   ],
   "source": [
    "df <- data.frame(x=as.numeric(CoordGrupos[,1]), y=as.numeric(CoordGrupos[,3]), r=as.numeric(radio))\n",
    "angle <- seq(-pi, pi, length = 100)\n",
    "myplot <- ggplot()\n",
    "for (i in 1:length(df$x)) {\n",
    "        df_temp = data.frame(x = df$x[i] + df$r[i]*sin(angle), y = df$y[i] + df$r[i]*cos(angle))\n",
    "        myplot = myplot + geom_polygon(data=df_temp, aes(x=x, y=y),color='grey', fill=NA,alpha=0.5, inherit.aes=F)\n",
    "      }\n",
    "\n",
    "myplot + geom_point(data=df, aes(x=x, y=y))+\n",
    "geom_point(data=CoordGrupos,aes(x=`Dim 1`,y=`Dim 3`,col=clase))+\n",
    "geom_text(data=CoordGrupos,aes(x=`Dim 1`,y=`Dim 3`,label=rownames(CoordGrupos),col=clase),hjust=0.6, vjust=-0.3,size=5)+\n",
    "geom_segment(aes(x=0,y=0,xend=`Dim 1`,yend=`Dim 3`),data=CoordVar,arrow = arrow(length = unit(0.2,\"cm\"),type='open'),size=0.5,col='black')+\n",
    "geom_text(aes(x=CoordVar$`Dim 1`+.08*sign(CoordVar$`Dim 1`),y=CoordVar$`Dim 3`+.01*sign(CoordVar$`Dim 3`),label=rownames(CoordVar)),data=CoordVar,size=4)+\n",
    "theme_bw()+theme(legend.position=\"none\")"
   ]
  },
  {
   "cell_type": "markdown",
   "metadata": {},
   "source": [
    "weitere Biplots für AQ2!\n",
    "\n",
    "...\n"
   ]
  },
  {
   "cell_type": "markdown",
   "metadata": {},
   "source": [
    "#### AQ3"
   ]
  },
  {
   "cell_type": "code",
   "execution_count": 228,
   "metadata": {},
   "outputs": [],
   "source": [
    "X <- Df_total[!is.na(Df_total$V_Niveau_DK),cbind(\"MR1\",\"MR2\",\"MR3\",\"MR4\",\"MR5\",\"MR6\")]\n",
    "y <- as.factor(Df_total$V_Niveau_DK)\n",
    "\n",
    "Totalcanbip <- CanonicalBiplot(X,y )\n",
    "\n",
    "#Rescalar resultados\n",
    "sca <- sum(Totalcanbip$GroupCoordinates^2)\n",
    "scb <- sum(Totalcanbip$ColCoordinates^2)\n",
    "sca <- sca/Totalcanbip$g\n",
    "scb <- scb/Totalcanbip$p\n",
    "scf <- sqrt(sqrt(scb/sca))\n",
    "\n",
    "Totalcanbip$Group_Coord <- Totalcanbip$GroupCoordinates*scf\n",
    "Totalcanbip$Variable_Coord <- Totalcanbip$ColCoordinates/scf\n",
    "Totalcanbip$Individual_Coord <- Totalcanbip$RowCoordinates*scf\n",
    "radio <- Totalcanbip$BonfRad\n",
    "\n",
    "CoordGrupos <- as.data.frame(Totalcanbip$Group_Coord)\n",
    "CoordVar <- as.data.frame(Totalcanbip$Variable_Coord)\n",
    "CoordGrupos$clase <- c('N1','N2','N3','N4','N5')\n",
    "rownames(CoordGrupos) <- c('N1','N2','N3','N4','N5')"
   ]
  },
  {
   "cell_type": "code",
   "execution_count": 229,
   "metadata": {},
   "outputs": [
    {
     "data": {
      "text/html": [
       "<table>\n",
       "<thead><tr><th></th><th scope=col>Dim 1</th><th scope=col>Dim 2</th><th scope=col>Dim 3</th><th scope=col>Dim 4</th></tr></thead>\n",
       "<tbody>\n",
       "\t<tr><th scope=row>MR1</th><td>0.20680383  </td><td>0.026436408 </td><td>4.173100e-01</td><td>0.34944980  </td></tr>\n",
       "\t<tr><th scope=row>MR2</th><td>0.88855377  </td><td>0.003393126 </td><td>2.645301e-03</td><td>0.10540781  </td></tr>\n",
       "\t<tr><th scope=row>MR3</th><td>0.15584749  </td><td>0.707822194 </td><td>3.762938e-02</td><td>0.09870093  </td></tr>\n",
       "\t<tr><th scope=row>MR4</th><td>0.10673632  </td><td>0.294751030 </td><td>1.490697e-05</td><td>0.59849774  </td></tr>\n",
       "\t<tr><th scope=row>MR5</th><td>0.02453166  </td><td>0.216867669 </td><td>6.227996e-01</td><td>0.13580109  </td></tr>\n",
       "\t<tr><th scope=row>MR6</th><td>0.04290231  </td><td>0.053324236 </td><td>7.321245e-01</td><td>0.17164894  </td></tr>\n",
       "</tbody>\n",
       "</table>\n"
      ],
      "text/latex": [
       "\\begin{tabular}{r|llll}\n",
       "  & Dim 1 & Dim 2 & Dim 3 & Dim 4\\\\\n",
       "\\hline\n",
       "\tMR1 & 0.20680383   & 0.026436408  & 4.173100e-01 & 0.34944980  \\\\\n",
       "\tMR2 & 0.88855377   & 0.003393126  & 2.645301e-03 & 0.10540781  \\\\\n",
       "\tMR3 & 0.15584749   & 0.707822194  & 3.762938e-02 & 0.09870093  \\\\\n",
       "\tMR4 & 0.10673632   & 0.294751030  & 1.490697e-05 & 0.59849774  \\\\\n",
       "\tMR5 & 0.02453166   & 0.216867669  & 6.227996e-01 & 0.13580109  \\\\\n",
       "\tMR6 & 0.04290231   & 0.053324236  & 7.321245e-01 & 0.17164894  \\\\\n",
       "\\end{tabular}\n"
      ],
      "text/markdown": [
       "\n",
       "| <!--/--> | Dim 1 | Dim 2 | Dim 3 | Dim 4 | \n",
       "|---|---|---|---|---|---|\n",
       "| MR1 | 0.20680383   | 0.026436408  | 4.173100e-01 | 0.34944980   | \n",
       "| MR2 | 0.88855377   | 0.003393126  | 2.645301e-03 | 0.10540781   | \n",
       "| MR3 | 0.15584749   | 0.707822194  | 3.762938e-02 | 0.09870093   | \n",
       "| MR4 | 0.10673632   | 0.294751030  | 1.490697e-05 | 0.59849774   | \n",
       "| MR5 | 0.02453166   | 0.216867669  | 6.227996e-01 | 0.13580109   | \n",
       "| MR6 | 0.04290231   | 0.053324236  | 7.321245e-01 | 0.17164894   | \n",
       "\n",
       "\n"
      ],
      "text/plain": [
       "    Dim 1      Dim 2       Dim 3        Dim 4     \n",
       "MR1 0.20680383 0.026436408 4.173100e-01 0.34944980\n",
       "MR2 0.88855377 0.003393126 2.645301e-03 0.10540781\n",
       "MR3 0.15584749 0.707822194 3.762938e-02 0.09870093\n",
       "MR4 0.10673632 0.294751030 1.490697e-05 0.59849774\n",
       "MR5 0.02453166 0.216867669 6.227996e-01 0.13580109\n",
       "MR6 0.04290231 0.053324236 7.321245e-01 0.17164894"
      ]
     },
     "metadata": {},
     "output_type": "display_data"
    }
   ],
   "source": [
    "Totalcanbip$ColContributions"
   ]
  },
  {
   "cell_type": "code",
   "execution_count": 230,
   "metadata": {},
   "outputs": [
    {
     "data": {
      "text/html": [
       "<table>\n",
       "<thead><tr><th></th><th scope=col>Dim 1</th><th scope=col>Dim 2</th><th scope=col>Dim 3</th><th scope=col>Dim 4</th></tr></thead>\n",
       "<tbody>\n",
       "\t<tr><th scope=row>1</th><td>0.9936960   </td><td>0.005385733 </td><td>0.0008247236</td><td>9.356504e-05</td></tr>\n",
       "\t<tr><th scope=row>2</th><td>0.5921042   </td><td>0.166527026 </td><td>0.1659213287</td><td>7.544746e-02</td></tr>\n",
       "\t<tr><th scope=row>3</th><td>0.4742848   </td><td>0.524537379 </td><td>0.0009918786</td><td>1.859748e-04</td></tr>\n",
       "\t<tr><th scope=row>4</th><td>0.6259965   </td><td>0.318370197 </td><td>0.0470037371</td><td>8.629559e-03</td></tr>\n",
       "\t<tr><th scope=row>5</th><td>0.6800384   </td><td>0.298030673 </td><td>0.0218801144</td><td>5.079413e-05</td></tr>\n",
       "</tbody>\n",
       "</table>\n"
      ],
      "text/latex": [
       "\\begin{tabular}{r|llll}\n",
       "  & Dim 1 & Dim 2 & Dim 3 & Dim 4\\\\\n",
       "\\hline\n",
       "\t1 & 0.9936960    & 0.005385733  & 0.0008247236 & 9.356504e-05\\\\\n",
       "\t2 & 0.5921042    & 0.166527026  & 0.1659213287 & 7.544746e-02\\\\\n",
       "\t3 & 0.4742848    & 0.524537379  & 0.0009918786 & 1.859748e-04\\\\\n",
       "\t4 & 0.6259965    & 0.318370197  & 0.0470037371 & 8.629559e-03\\\\\n",
       "\t5 & 0.6800384    & 0.298030673  & 0.0218801144 & 5.079413e-05\\\\\n",
       "\\end{tabular}\n"
      ],
      "text/markdown": [
       "\n",
       "| <!--/--> | Dim 1 | Dim 2 | Dim 3 | Dim 4 | \n",
       "|---|---|---|---|---|\n",
       "| 1 | 0.9936960    | 0.005385733  | 0.0008247236 | 9.356504e-05 | \n",
       "| 2 | 0.5921042    | 0.166527026  | 0.1659213287 | 7.544746e-02 | \n",
       "| 3 | 0.4742848    | 0.524537379  | 0.0009918786 | 1.859748e-04 | \n",
       "| 4 | 0.6259965    | 0.318370197  | 0.0470037371 | 8.629559e-03 | \n",
       "| 5 | 0.6800384    | 0.298030673  | 0.0218801144 | 5.079413e-05 | \n",
       "\n",
       "\n"
      ],
      "text/plain": [
       "  Dim 1     Dim 2       Dim 3        Dim 4       \n",
       "1 0.9936960 0.005385733 0.0008247236 9.356504e-05\n",
       "2 0.5921042 0.166527026 0.1659213287 7.544746e-02\n",
       "3 0.4742848 0.524537379 0.0009918786 1.859748e-04\n",
       "4 0.6259965 0.318370197 0.0470037371 8.629559e-03\n",
       "5 0.6800384 0.298030673 0.0218801144 5.079413e-05"
      ]
     },
     "metadata": {},
     "output_type": "display_data"
    }
   ],
   "source": [
    "Totalcanbip$GroupContributions"
   ]
  },
  {
   "cell_type": "code",
   "execution_count": 231,
   "metadata": {},
   "outputs": [],
   "source": [
    "#CoordGrupos$clase <- c('Spr_1','Spr_2','Spr_3','Spr_4')\n",
    "#rownames(CoordGrupos) <- c('Spr1','Spr2','Spr3','Spr4')"
   ]
  },
  {
   "cell_type": "code",
   "execution_count": 232,
   "metadata": {},
   "outputs": [
    {
     "data": {},
     "metadata": {},
     "output_type": "display_data"
    },
    {
     "data": {
      "image/png": "[encoded data removed]",
      "text/plain": [
       "plot without title"
      ]
     },
     "metadata": {},
     "output_type": "display_data"
    }
   ],
   "source": [
    "df <- data.frame(x=as.numeric(CoordGrupos[,1]), y=as.numeric(CoordGrupos[,2]), r=as.numeric(radio))\n",
    "\n",
    "angle <- seq(-pi, pi, length = 100)\n",
    "\n",
    "myplot <- ggplot()\n",
    "for (i in 1:length(df$x)) {\n",
    "        df_temp = data.frame(x = df$x[i] + df$r[i]*sin(angle), y = df$y[i] + df$r[i]*cos(angle))\n",
    "        myplot = myplot + geom_polygon(data=df_temp, aes(x=x, y=y),color='grey', fill=NA,alpha=0.5, inherit.aes=F)\n",
    "      }\n",
    "\n",
    "myplot + geom_point(data=df, aes(x=x, y=y))+\n",
    "geom_point(data=CoordGrupos,aes(x=`Dim 1`,y=`Dim 2`,col=clase))+\n",
    "geom_text(data=CoordGrupos,aes(x=`Dim 1`,y=`Dim 2`,label=rownames(CoordGrupos),col=clase),hjust=0.6, vjust=-0.3,size=5)+\n",
    "geom_segment(aes(x=0,y=0,xend=`Dim 1`,yend=`Dim 2`),data=CoordVar,arrow = arrow(length = unit(0.2,\"cm\"),type='open'),size=0.5,col='black')+\n",
    "geom_text(aes(x=CoordVar$`Dim 1`+.08*sign(CoordVar$`Dim 1`),y=CoordVar$`Dim 2`+.01*sign(CoordVar$`Dim 2`),label=rownames(CoordVar)),data=CoordVar,size=4)+\n",
    "theme_bw()+theme(legend.position=\"none\")"
   ]
  },
  {
   "cell_type": "code",
   "execution_count": 233,
   "metadata": {},
   "outputs": [
    {
     "data": {},
     "metadata": {},
     "output_type": "display_data"
    },
    {
     "data": {
      "image/png": "[encoded data removed]",
      "text/plain": [
       "plot without title"
      ]
     },
     "metadata": {},
     "output_type": "display_data"
    }
   ],
   "source": [
    "#stat_ellipse(data=CoordGrupos,aes(x=`Dim 1`,y=`Dim 2`,level=radio),type='euclid')\n",
    "df <- data.frame(x=as.numeric(CoordGrupos[,1]), y=as.numeric(CoordGrupos[,4]), r=as.numeric(radio))\n",
    "angle <- seq(-pi, pi, length = 100)\n",
    "myplot <- ggplot()\n",
    "for (i in 1:length(df$x)) {\n",
    "        df_temp = data.frame(x = df$x[i] + df$r[i]*sin(angle), y = df$y[i] + df$r[i]*cos(angle))\n",
    "        myplot = myplot + geom_polygon(data=df_temp, aes(x=x, y=y),color='grey', fill=NA,alpha=0.5, inherit.aes=F)\n",
    "      }\n",
    "\n",
    "myplot + geom_point(data=df, aes(x=x, y=y))+\n",
    "geom_point(data=CoordGrupos,aes(x=`Dim 1`,y=`Dim 4`,col=clase))+\n",
    "geom_text(data=CoordGrupos,aes(x=`Dim 1`,y=`Dim 4`,label=rownames(CoordGrupos),col=clase),hjust=0.6, vjust=-0.3,size=5)+\n",
    "geom_segment(aes(x=0,y=0,xend=`Dim 1`,yend=`Dim 4`),data=CoordVar,arrow = arrow(length = unit(0.2,\"cm\"),type='open'),size=0.5,col='black')+\n",
    "geom_text(aes(x=CoordVar$`Dim 1`+.08*sign(CoordVar$`Dim 1`),y=CoordVar$`Dim 4`+.01*sign(CoordVar$`Dim 4`),label=rownames(CoordVar)),data=CoordVar,size=4)+\n",
    "theme_bw()+theme(legend.position=\"none\")"
   ]
  },
  {
   "cell_type": "code",
   "execution_count": null,
   "metadata": {},
   "outputs": [],
   "source": []
  },
  {
   "cell_type": "code",
   "execution_count": 234,
   "metadata": {},
   "outputs": [],
   "source": [
    "X <- Df_total[!is.na(Df_total$V_Alter),cbind(\"MR1\",\"MR2\",\"MR3\",\"MR4\",\"MR5\",\"MR6\")]\n",
    "y <- as.factor(Df_total$V_Alter)\n",
    "\n",
    "Totalcanbip <- CanonicalBiplot(X,y )\n",
    "\n",
    "#Rescalar resultados\n",
    "sca <- sum(Totalcanbip$GroupCoordinates^2)\n",
    "scb <- sum(Totalcanbip$ColCoordinates^2)\n",
    "sca <- sca/Totalcanbip$g\n",
    "scb <- scb/Totalcanbip$p\n",
    "scf <- sqrt(sqrt(scb/sca))\n",
    "\n",
    "Totalcanbip$Group_Coord <- Totalcanbip$GroupCoordinates*scf\n",
    "Totalcanbip$Variable_Coord <- Totalcanbip$ColCoordinates/scf\n",
    "Totalcanbip$Individual_Coord <- Totalcanbip$RowCoordinates*scf\n",
    "radio <- Totalcanbip$BonfRad\n",
    "\n",
    "CoordGrupos <- as.data.frame(Totalcanbip$Group_Coord)\n",
    "CoordVar <- as.data.frame(Totalcanbip$Variable_Coord)\n",
    "CoordGrupos$clase <- c('-18','19','20','21+')\n",
    "rownames(CoordGrupos) <- c('-18','19','20','21+')"
   ]
  },
  {
   "cell_type": "code",
   "execution_count": 235,
   "metadata": {},
   "outputs": [
    {
     "data": {
      "text/html": [
       "<table>\n",
       "<thead><tr><th></th><th scope=col>Dim 1</th><th scope=col>Dim 2</th><th scope=col>Dim 3</th></tr></thead>\n",
       "<tbody>\n",
       "\t<tr><th scope=row>MR1</th><td>0.5977600159</td><td>3.950225e-01</td><td>0.007217502 </td></tr>\n",
       "\t<tr><th scope=row>MR2</th><td>0.8563008540</td><td>1.442001e-06</td><td>0.143697704 </td></tr>\n",
       "\t<tr><th scope=row>MR3</th><td>0.2736308134</td><td>5.962500e-01</td><td>0.130119227 </td></tr>\n",
       "\t<tr><th scope=row>MR4</th><td>0.1787508501</td><td>2.240653e-01</td><td>0.597183892 </td></tr>\n",
       "\t<tr><th scope=row>MR5</th><td>0.0001692469</td><td>6.679380e-01</td><td>0.331892762 </td></tr>\n",
       "\t<tr><th scope=row>MR6</th><td>0.1408977237</td><td>6.617035e-01</td><td>0.197398761 </td></tr>\n",
       "</tbody>\n",
       "</table>\n"
      ],
      "text/latex": [
       "\\begin{tabular}{r|lll}\n",
       "  & Dim 1 & Dim 2 & Dim 3\\\\\n",
       "\\hline\n",
       "\tMR1 & 0.5977600159 & 3.950225e-01 & 0.007217502 \\\\\n",
       "\tMR2 & 0.8563008540 & 1.442001e-06 & 0.143697704 \\\\\n",
       "\tMR3 & 0.2736308134 & 5.962500e-01 & 0.130119227 \\\\\n",
       "\tMR4 & 0.1787508501 & 2.240653e-01 & 0.597183892 \\\\\n",
       "\tMR5 & 0.0001692469 & 6.679380e-01 & 0.331892762 \\\\\n",
       "\tMR6 & 0.1408977237 & 6.617035e-01 & 0.197398761 \\\\\n",
       "\\end{tabular}\n"
      ],
      "text/markdown": [
       "\n",
       "| <!--/--> | Dim 1 | Dim 2 | Dim 3 | \n",
       "|---|---|---|---|---|---|\n",
       "| MR1 | 0.5977600159 | 3.950225e-01 | 0.007217502  | \n",
       "| MR2 | 0.8563008540 | 1.442001e-06 | 0.143697704  | \n",
       "| MR3 | 0.2736308134 | 5.962500e-01 | 0.130119227  | \n",
       "| MR4 | 0.1787508501 | 2.240653e-01 | 0.597183892  | \n",
       "| MR5 | 0.0001692469 | 6.679380e-01 | 0.331892762  | \n",
       "| MR6 | 0.1408977237 | 6.617035e-01 | 0.197398761  | \n",
       "\n",
       "\n"
      ],
      "text/plain": [
       "    Dim 1        Dim 2        Dim 3      \n",
       "MR1 0.5977600159 3.950225e-01 0.007217502\n",
       "MR2 0.8563008540 1.442001e-06 0.143697704\n",
       "MR3 0.2736308134 5.962500e-01 0.130119227\n",
       "MR4 0.1787508501 2.240653e-01 0.597183892\n",
       "MR5 0.0001692469 6.679380e-01 0.331892762\n",
       "MR6 0.1408977237 6.617035e-01 0.197398761"
      ]
     },
     "metadata": {},
     "output_type": "display_data"
    }
   ],
   "source": [
    "Totalcanbip$ColContributions"
   ]
  },
  {
   "cell_type": "code",
   "execution_count": 236,
   "metadata": {},
   "outputs": [
    {
     "data": {
      "text/html": [
       "<table>\n",
       "<thead><tr><th></th><th scope=col>Dim 1</th><th scope=col>Dim 2</th><th scope=col>Dim 3</th></tr></thead>\n",
       "<tbody>\n",
       "\t<tr><th scope=row>1</th><td>0.9012229  </td><td>0.07194538 </td><td>0.026831676</td></tr>\n",
       "\t<tr><th scope=row>2</th><td>0.4063758  </td><td>0.27997101 </td><td>0.313653146</td></tr>\n",
       "\t<tr><th scope=row>3</th><td>0.3446435  </td><td>0.49779122 </td><td>0.157565322</td></tr>\n",
       "\t<tr><th scope=row>4</th><td>0.8800465  </td><td>0.11420166 </td><td>0.005751892</td></tr>\n",
       "</tbody>\n",
       "</table>\n"
      ],
      "text/latex": [
       "\\begin{tabular}{r|lll}\n",
       "  & Dim 1 & Dim 2 & Dim 3\\\\\n",
       "\\hline\n",
       "\t1 & 0.9012229   & 0.07194538  & 0.026831676\\\\\n",
       "\t2 & 0.4063758   & 0.27997101  & 0.313653146\\\\\n",
       "\t3 & 0.3446435   & 0.49779122  & 0.157565322\\\\\n",
       "\t4 & 0.8800465   & 0.11420166  & 0.005751892\\\\\n",
       "\\end{tabular}\n"
      ],
      "text/markdown": [
       "\n",
       "| <!--/--> | Dim 1 | Dim 2 | Dim 3 | \n",
       "|---|---|---|---|\n",
       "| 1 | 0.9012229   | 0.07194538  | 0.026831676 | \n",
       "| 2 | 0.4063758   | 0.27997101  | 0.313653146 | \n",
       "| 3 | 0.3446435   | 0.49779122  | 0.157565322 | \n",
       "| 4 | 0.8800465   | 0.11420166  | 0.005751892 | \n",
       "\n",
       "\n"
      ],
      "text/plain": [
       "  Dim 1     Dim 2      Dim 3      \n",
       "1 0.9012229 0.07194538 0.026831676\n",
       "2 0.4063758 0.27997101 0.313653146\n",
       "3 0.3446435 0.49779122 0.157565322\n",
       "4 0.8800465 0.11420166 0.005751892"
      ]
     },
     "metadata": {},
     "output_type": "display_data"
    }
   ],
   "source": [
    "Totalcanbip$GroupContributions"
   ]
  },
  {
   "cell_type": "code",
   "execution_count": 237,
   "metadata": {},
   "outputs": [
    {
     "data": {},
     "metadata": {},
     "output_type": "display_data"
    },
    {
     "data": {
      "image/png": "[encoded data removed]",
      "text/plain": [
       "plot without title"
      ]
     },
     "metadata": {},
     "output_type": "display_data"
    }
   ],
   "source": [
    "#stat_ellipse(data=CoordGrupos,aes(x=`Dim 1`,y=`Dim 2`,level=radio),type='euclid')\n",
    "df <- data.frame(x=as.numeric(CoordGrupos[,1]), y=as.numeric(CoordGrupos[,3]), r=as.numeric(radio))\n",
    "angle <- seq(-pi, pi, length = 100)\n",
    "myplot <- ggplot()\n",
    "for (i in 1:length(df$x)) {\n",
    "        df_temp = data.frame(x = df$x[i] + df$r[i]*sin(angle), y = df$y[i] + df$r[i]*cos(angle))\n",
    "        myplot = myplot + geom_polygon(data=df_temp, aes(x=x, y=y),color='grey', fill=NA,alpha=0.5, inherit.aes=F)\n",
    "      }\n",
    "\n",
    "myplot + geom_point(data=df, aes(x=x, y=y))+\n",
    "geom_point(data=CoordGrupos,aes(x=`Dim 1`,y=`Dim 3`,col=clase))+\n",
    "geom_text(data=CoordGrupos,aes(x=`Dim 1`,y=`Dim 3`,label=rownames(CoordGrupos),col=clase),hjust=0.6, vjust=-0.3,size=5)+\n",
    "geom_segment(aes(x=0,y=0,xend=`Dim 1`,yend=`Dim 3`),data=CoordVar,arrow = arrow(length = unit(0.2,\"cm\"),type='open'),size=0.5,col='black')+\n",
    "geom_text(aes(x=CoordVar$`Dim 1`+.08*sign(CoordVar$`Dim 1`),y=CoordVar$`Dim 3`+.01*sign(CoordVar$`Dim 3`),label=rownames(CoordVar)),data=CoordVar,size=4)+\n",
    "theme_bw()+theme(legend.position=\"none\")"
   ]
  },
  {
   "cell_type": "code",
   "execution_count": null,
   "metadata": {},
   "outputs": [],
   "source": []
  },
  {
   "cell_type": "code",
   "execution_count": 238,
   "metadata": {},
   "outputs": [],
   "source": [
    "Df_total_A2 <- Df_total[which(Df_total$V_Niveau_DK=='2'),]"
   ]
  },
  {
   "cell_type": "code",
   "execution_count": 239,
   "metadata": {},
   "outputs": [],
   "source": [
    "X <- Df_total_A2[!is.na(Df_total_A2$V_Alter),cbind(\"MR1\",\"MR2\",\"MR3\",\"MR4\",\"MR5\",\"MR6\")]\n",
    "y <- as.factor(Df_total_A2$V_Alter)\n",
    "\n",
    "Totalcanbip <- CanonicalBiplot(X,y )\n",
    "\n",
    "#Rescalar resultados\n",
    "sca <- sum(Totalcanbip$GroupCoordinates^2)\n",
    "scb <- sum(Totalcanbip$ColCoordinates^2)\n",
    "sca <- sca/Totalcanbip$g\n",
    "scb <- scb/Totalcanbip$p\n",
    "scf <- sqrt(sqrt(scb/sca))\n",
    "\n",
    "Totalcanbip$Group_Coord <- Totalcanbip$GroupCoordinates*scf\n",
    "Totalcanbip$Variable_Coord <- Totalcanbip$ColCoordinates/scf\n",
    "Totalcanbip$Individual_Coord <- Totalcanbip$RowCoordinates*scf\n",
    "radio <- Totalcanbip$BonfRad\n",
    "\n",
    "CoordGrupos <- as.data.frame(Totalcanbip$Group_Coord)\n",
    "CoordVar <- as.data.frame(Totalcanbip$Variable_Coord)\n",
    "CoordGrupos$clase <- c('-18','19','20','21+')\n",
    "rownames(CoordGrupos) <- c('-18','19','20','21+')"
   ]
  },
  {
   "cell_type": "code",
   "execution_count": 240,
   "metadata": {},
   "outputs": [
    {
     "data": {
      "text/html": [
       "<table>\n",
       "<thead><tr><th></th><th scope=col>Dim 1</th><th scope=col>Dim 2</th><th scope=col>Dim 3</th></tr></thead>\n",
       "<tbody>\n",
       "\t<tr><th scope=row>MR1</th><td>0.074259087</td><td>0.17032814 </td><td>0.7554128  </td></tr>\n",
       "\t<tr><th scope=row>MR2</th><td>0.495786001</td><td>0.48581459 </td><td>0.0183994  </td></tr>\n",
       "\t<tr><th scope=row>MR3</th><td>0.285855979</td><td>0.54387624 </td><td>0.1702678  </td></tr>\n",
       "\t<tr><th scope=row>MR4</th><td>0.006930698</td><td>0.81802717 </td><td>0.1750421  </td></tr>\n",
       "\t<tr><th scope=row>MR5</th><td>0.927306398</td><td>0.05367941 </td><td>0.0190142  </td></tr>\n",
       "\t<tr><th scope=row>MR6</th><td>0.160300355</td><td>0.18653040 </td><td>0.6531692  </td></tr>\n",
       "</tbody>\n",
       "</table>\n"
      ],
      "text/latex": [
       "\\begin{tabular}{r|lll}\n",
       "  & Dim 1 & Dim 2 & Dim 3\\\\\n",
       "\\hline\n",
       "\tMR1 & 0.074259087 & 0.17032814  & 0.7554128  \\\\\n",
       "\tMR2 & 0.495786001 & 0.48581459  & 0.0183994  \\\\\n",
       "\tMR3 & 0.285855979 & 0.54387624  & 0.1702678  \\\\\n",
       "\tMR4 & 0.006930698 & 0.81802717  & 0.1750421  \\\\\n",
       "\tMR5 & 0.927306398 & 0.05367941  & 0.0190142  \\\\\n",
       "\tMR6 & 0.160300355 & 0.18653040  & 0.6531692  \\\\\n",
       "\\end{tabular}\n"
      ],
      "text/markdown": [
       "\n",
       "| <!--/--> | Dim 1 | Dim 2 | Dim 3 | \n",
       "|---|---|---|---|---|---|\n",
       "| MR1 | 0.074259087 | 0.17032814  | 0.7554128   | \n",
       "| MR2 | 0.495786001 | 0.48581459  | 0.0183994   | \n",
       "| MR3 | 0.285855979 | 0.54387624  | 0.1702678   | \n",
       "| MR4 | 0.006930698 | 0.81802717  | 0.1750421   | \n",
       "| MR5 | 0.927306398 | 0.05367941  | 0.0190142   | \n",
       "| MR6 | 0.160300355 | 0.18653040  | 0.6531692   | \n",
       "\n",
       "\n"
      ],
      "text/plain": [
       "    Dim 1       Dim 2      Dim 3    \n",
       "MR1 0.074259087 0.17032814 0.7554128\n",
       "MR2 0.495786001 0.48581459 0.0183994\n",
       "MR3 0.285855979 0.54387624 0.1702678\n",
       "MR4 0.006930698 0.81802717 0.1750421\n",
       "MR5 0.927306398 0.05367941 0.0190142\n",
       "MR6 0.160300355 0.18653040 0.6531692"
      ]
     },
     "metadata": {},
     "output_type": "display_data"
    }
   ],
   "source": [
    "Totalcanbip$ColContributions"
   ]
  },
  {
   "cell_type": "code",
   "execution_count": 241,
   "metadata": {},
   "outputs": [
    {
     "data": {
      "text/html": [
       "<table>\n",
       "<thead><tr><th></th><th scope=col>Dim 1</th><th scope=col>Dim 2</th><th scope=col>Dim 3</th></tr></thead>\n",
       "<tbody>\n",
       "\t<tr><th scope=row>1</th><td>0.1366374 </td><td>0.84212272</td><td>0.02123992</td></tr>\n",
       "\t<tr><th scope=row>2</th><td>0.2946208 </td><td>0.01071018</td><td>0.69466907</td></tr>\n",
       "\t<tr><th scope=row>3</th><td>0.9146419 </td><td>0.01801464</td><td>0.06734348</td></tr>\n",
       "\t<tr><th scope=row>4</th><td>0.5529240 </td><td>0.42549981</td><td>0.02157617</td></tr>\n",
       "</tbody>\n",
       "</table>\n"
      ],
      "text/latex": [
       "\\begin{tabular}{r|lll}\n",
       "  & Dim 1 & Dim 2 & Dim 3\\\\\n",
       "\\hline\n",
       "\t1 & 0.1366374  & 0.84212272 & 0.02123992\\\\\n",
       "\t2 & 0.2946208  & 0.01071018 & 0.69466907\\\\\n",
       "\t3 & 0.9146419  & 0.01801464 & 0.06734348\\\\\n",
       "\t4 & 0.5529240  & 0.42549981 & 0.02157617\\\\\n",
       "\\end{tabular}\n"
      ],
      "text/markdown": [
       "\n",
       "| <!--/--> | Dim 1 | Dim 2 | Dim 3 | \n",
       "|---|---|---|---|\n",
       "| 1 | 0.1366374  | 0.84212272 | 0.02123992 | \n",
       "| 2 | 0.2946208  | 0.01071018 | 0.69466907 | \n",
       "| 3 | 0.9146419  | 0.01801464 | 0.06734348 | \n",
       "| 4 | 0.5529240  | 0.42549981 | 0.02157617 | \n",
       "\n",
       "\n"
      ],
      "text/plain": [
       "  Dim 1     Dim 2      Dim 3     \n",
       "1 0.1366374 0.84212272 0.02123992\n",
       "2 0.2946208 0.01071018 0.69466907\n",
       "3 0.9146419 0.01801464 0.06734348\n",
       "4 0.5529240 0.42549981 0.02157617"
      ]
     },
     "metadata": {},
     "output_type": "display_data"
    }
   ],
   "source": [
    "Totalcanbip$GroupContributions"
   ]
  },
  {
   "cell_type": "code",
   "execution_count": 242,
   "metadata": {},
   "outputs": [
    {
     "data": {},
     "metadata": {},
     "output_type": "display_data"
    },
    {
     "data": {
      "image/png": "[encoded data removed]",
      "text/plain": [
       "plot without title"
      ]
     },
     "metadata": {},
     "output_type": "display_data"
    }
   ],
   "source": [
    "df <- data.frame(x=as.numeric(CoordGrupos[,1]), y=as.numeric(CoordGrupos[,2]), r=as.numeric(radio))\n",
    "\n",
    "angle <- seq(-pi, pi, length = 100)\n",
    "\n",
    "myplot <- ggplot()\n",
    "for (i in 1:length(df$x)) {\n",
    "        df_temp = data.frame(x = df$x[i] + df$r[i]*sin(angle), y = df$y[i] + df$r[i]*cos(angle))\n",
    "        myplot = myplot + geom_polygon(data=df_temp, aes(x=x, y=y),color='grey', fill=NA,alpha=0.5, inherit.aes=F)\n",
    "      }\n",
    "\n",
    "myplot + geom_point(data=df, aes(x=x, y=y))+\n",
    "geom_point(data=CoordGrupos,aes(x=`Dim 1`,y=`Dim 2`,col=clase))+\n",
    "geom_text(data=CoordGrupos,aes(x=`Dim 1`,y=`Dim 2`,label=rownames(CoordGrupos),col=clase),hjust=0.6, vjust=-0.3,size=5)+\n",
    "geom_segment(aes(x=0,y=0,xend=`Dim 1`,yend=`Dim 2`),data=CoordVar,arrow = arrow(length = unit(0.2,\"cm\"),type='open'),size=0.5,col='black')+\n",
    "geom_text(aes(x=CoordVar$`Dim 1`+.08*sign(CoordVar$`Dim 1`),y=CoordVar$`Dim 2`+.01*sign(CoordVar$`Dim 2`),label=rownames(CoordVar)),data=CoordVar,size=4)+\n",
    "theme_bw()+theme(legend.position=\"none\")"
   ]
  },
  {
   "cell_type": "code",
   "execution_count": 243,
   "metadata": {},
   "outputs": [
    {
     "data": {},
     "metadata": {},
     "output_type": "display_data"
    },
    {
     "data": {
      "image/png": "[encoded data removed]",
      "text/plain": [
       "plot without title"
      ]
     },
     "metadata": {},
     "output_type": "display_data"
    }
   ],
   "source": [
    "#stat_ellipse(data=CoordGrupos,aes(x=`Dim 1`,y=`Dim 2`,level=radio),type='euclid')\n",
    "df <- data.frame(x=as.numeric(CoordGrupos[,2]), y=as.numeric(CoordGrupos[,3]), r=as.numeric(radio))\n",
    "angle <- seq(-pi, pi, length = 100)\n",
    "myplot <- ggplot()\n",
    "for (i in 1:length(df$x)) {\n",
    "        df_temp = data.frame(x = df$x[i] + df$r[i]*sin(angle), y = df$y[i] + df$r[i]*cos(angle))\n",
    "        myplot = myplot + geom_polygon(data=df_temp, aes(x=x, y=y),color='grey', fill=NA,alpha=0.5, inherit.aes=F)\n",
    "      }\n",
    "\n",
    "myplot + geom_point(data=df, aes(x=x, y=y))+\n",
    "geom_point(data=CoordGrupos,aes(x=`Dim 2`,y=`Dim 3`,col=clase))+\n",
    "geom_text(data=CoordGrupos,aes(x=`Dim 2`,y=`Dim 3`,label=rownames(CoordGrupos),col=clase),hjust=0.6, vjust=-0.3,size=5)+\n",
    "geom_segment(aes(x=0,y=0,xend=`Dim 2`,yend=`Dim 3`),data=CoordVar,arrow = arrow(length = unit(0.2,\"cm\"),type='open'),size=0.5,col='black')+\n",
    "geom_text(aes(x=CoordVar$`Dim 2`+.08*sign(CoordVar$`Dim 2`),y=CoordVar$`Dim 3`+.01*sign(CoordVar$`Dim 3`),label=rownames(CoordVar)),data=CoordVar,size=4)+\n",
    "theme_bw()+theme(legend.position=\"none\")"
   ]
  },
  {
   "cell_type": "code",
   "execution_count": null,
   "metadata": {},
   "outputs": [],
   "source": []
  },
  {
   "cell_type": "code",
   "execution_count": 244,
   "metadata": {},
   "outputs": [],
   "source": [
    "Df_total_A1 <- Df_total[which(Df_total$V_Niveau_DK=='1'),]"
   ]
  },
  {
   "cell_type": "code",
   "execution_count": 245,
   "metadata": {},
   "outputs": [],
   "source": [
    "X <- Df_total_A1[!is.na(Df_total_A1$V_Alter),cbind(\"MR1\",\"MR2\",\"MR3\",\"MR4\",\"MR5\",\"MR6\")]\n",
    "y <- as.factor(Df_total_A1$V_Alter)\n",
    "\n",
    "Totalcanbip <- CanonicalBiplot(X,y )\n",
    "\n",
    "#Rescalar resultados\n",
    "sca <- sum(Totalcanbip$GroupCoordinates^2)\n",
    "scb <- sum(Totalcanbip$ColCoordinates^2)\n",
    "sca <- sca/Totalcanbip$g\n",
    "scb <- scb/Totalcanbip$p\n",
    "scf <- sqrt(sqrt(scb/sca))\n",
    "\n",
    "Totalcanbip$Group_Coord <- Totalcanbip$GroupCoordinates*scf\n",
    "Totalcanbip$Variable_Coord <- Totalcanbip$ColCoordinates/scf\n",
    "Totalcanbip$Individual_Coord <- Totalcanbip$RowCoordinates*scf\n",
    "radio <- Totalcanbip$BonfRad\n",
    "\n",
    "CoordGrupos <- as.data.frame(Totalcanbip$Group_Coord)\n",
    "CoordVar <- as.data.frame(Totalcanbip$Variable_Coord)\n",
    "CoordGrupos$clase <- c('-18','19','20','21+')\n",
    "rownames(CoordGrupos) <- c('-18','19','20','21+')"
   ]
  },
  {
   "cell_type": "code",
   "execution_count": 246,
   "metadata": {},
   "outputs": [
    {
     "data": {
      "text/html": [
       "<table>\n",
       "<thead><tr><th></th><th scope=col>Dim 1</th><th scope=col>Dim 2</th><th scope=col>Dim 3</th></tr></thead>\n",
       "<tbody>\n",
       "\t<tr><th scope=row>MR1</th><td>0.240003516</td><td>0.56226158 </td><td>0.197734909</td></tr>\n",
       "\t<tr><th scope=row>MR2</th><td>0.136293017</td><td>0.85976471 </td><td>0.003942275</td></tr>\n",
       "\t<tr><th scope=row>MR3</th><td>0.007502834</td><td>0.11873814 </td><td>0.873759030</td></tr>\n",
       "\t<tr><th scope=row>MR4</th><td>0.005409419</td><td>0.95558840 </td><td>0.039002180</td></tr>\n",
       "\t<tr><th scope=row>MR5</th><td>0.367317536</td><td>0.00280493 </td><td>0.629877535</td></tr>\n",
       "\t<tr><th scope=row>MR6</th><td>0.722438707</td><td>0.22928086 </td><td>0.048280433</td></tr>\n",
       "</tbody>\n",
       "</table>\n"
      ],
      "text/latex": [
       "\\begin{tabular}{r|lll}\n",
       "  & Dim 1 & Dim 2 & Dim 3\\\\\n",
       "\\hline\n",
       "\tMR1 & 0.240003516 & 0.56226158  & 0.197734909\\\\\n",
       "\tMR2 & 0.136293017 & 0.85976471  & 0.003942275\\\\\n",
       "\tMR3 & 0.007502834 & 0.11873814  & 0.873759030\\\\\n",
       "\tMR4 & 0.005409419 & 0.95558840  & 0.039002180\\\\\n",
       "\tMR5 & 0.367317536 & 0.00280493  & 0.629877535\\\\\n",
       "\tMR6 & 0.722438707 & 0.22928086  & 0.048280433\\\\\n",
       "\\end{tabular}\n"
      ],
      "text/markdown": [
       "\n",
       "| <!--/--> | Dim 1 | Dim 2 | Dim 3 | \n",
       "|---|---|---|---|---|---|\n",
       "| MR1 | 0.240003516 | 0.56226158  | 0.197734909 | \n",
       "| MR2 | 0.136293017 | 0.85976471  | 0.003942275 | \n",
       "| MR3 | 0.007502834 | 0.11873814  | 0.873759030 | \n",
       "| MR4 | 0.005409419 | 0.95558840  | 0.039002180 | \n",
       "| MR5 | 0.367317536 | 0.00280493  | 0.629877535 | \n",
       "| MR6 | 0.722438707 | 0.22928086  | 0.048280433 | \n",
       "\n",
       "\n"
      ],
      "text/plain": [
       "    Dim 1       Dim 2      Dim 3      \n",
       "MR1 0.240003516 0.56226158 0.197734909\n",
       "MR2 0.136293017 0.85976471 0.003942275\n",
       "MR3 0.007502834 0.11873814 0.873759030\n",
       "MR4 0.005409419 0.95558840 0.039002180\n",
       "MR5 0.367317536 0.00280493 0.629877535\n",
       "MR6 0.722438707 0.22928086 0.048280433"
      ]
     },
     "metadata": {},
     "output_type": "display_data"
    }
   ],
   "source": [
    "Totalcanbip$ColContributions"
   ]
  },
  {
   "cell_type": "code",
   "execution_count": 247,
   "metadata": {},
   "outputs": [
    {
     "data": {
      "text/html": [
       "<table>\n",
       "<thead><tr><th></th><th scope=col>Dim 1</th><th scope=col>Dim 2</th><th scope=col>Dim 3</th></tr></thead>\n",
       "<tbody>\n",
       "\t<tr><th scope=row>1</th><td>0.37785127  </td><td>0.62214555  </td><td>3.176909e-06</td></tr>\n",
       "\t<tr><th scope=row>2</th><td>0.10989578  </td><td>0.85562396  </td><td>3.448026e-02</td></tr>\n",
       "\t<tr><th scope=row>3</th><td>0.91488709  </td><td>0.08350231  </td><td>1.610599e-03</td></tr>\n",
       "\t<tr><th scope=row>4</th><td>0.04915355  </td><td>0.92498092  </td><td>2.586553e-02</td></tr>\n",
       "</tbody>\n",
       "</table>\n"
      ],
      "text/latex": [
       "\\begin{tabular}{r|lll}\n",
       "  & Dim 1 & Dim 2 & Dim 3\\\\\n",
       "\\hline\n",
       "\t1 & 0.37785127   & 0.62214555   & 3.176909e-06\\\\\n",
       "\t2 & 0.10989578   & 0.85562396   & 3.448026e-02\\\\\n",
       "\t3 & 0.91488709   & 0.08350231   & 1.610599e-03\\\\\n",
       "\t4 & 0.04915355   & 0.92498092   & 2.586553e-02\\\\\n",
       "\\end{tabular}\n"
      ],
      "text/markdown": [
       "\n",
       "| <!--/--> | Dim 1 | Dim 2 | Dim 3 | \n",
       "|---|---|---|---|\n",
       "| 1 | 0.37785127   | 0.62214555   | 3.176909e-06 | \n",
       "| 2 | 0.10989578   | 0.85562396   | 3.448026e-02 | \n",
       "| 3 | 0.91488709   | 0.08350231   | 1.610599e-03 | \n",
       "| 4 | 0.04915355   | 0.92498092   | 2.586553e-02 | \n",
       "\n",
       "\n"
      ],
      "text/plain": [
       "  Dim 1      Dim 2      Dim 3       \n",
       "1 0.37785127 0.62214555 3.176909e-06\n",
       "2 0.10989578 0.85562396 3.448026e-02\n",
       "3 0.91488709 0.08350231 1.610599e-03\n",
       "4 0.04915355 0.92498092 2.586553e-02"
      ]
     },
     "metadata": {},
     "output_type": "display_data"
    }
   ],
   "source": [
    "Totalcanbip$GroupContributions"
   ]
  },
  {
   "cell_type": "code",
   "execution_count": 248,
   "metadata": {},
   "outputs": [
    {
     "data": {},
     "metadata": {},
     "output_type": "display_data"
    },
    {
     "data": {
      "image/png": "[encoded data removed]",
      "text/plain": [
       "plot without title"
      ]
     },
     "metadata": {},
     "output_type": "display_data"
    }
   ],
   "source": [
    "df <- data.frame(x=as.numeric(CoordGrupos[,1]), y=as.numeric(CoordGrupos[,2]), r=as.numeric(radio))\n",
    "\n",
    "angle <- seq(-pi, pi, length = 100)\n",
    "\n",
    "myplot <- ggplot()\n",
    "for (i in 1:length(df$x)) {\n",
    "        df_temp = data.frame(x = df$x[i] + df$r[i]*sin(angle), y = df$y[i] + df$r[i]*cos(angle))\n",
    "        myplot = myplot + geom_polygon(data=df_temp, aes(x=x, y=y),color='grey', fill=NA,alpha=0.5, inherit.aes=F)\n",
    "      }\n",
    "\n",
    "myplot + geom_point(data=df, aes(x=x, y=y))+\n",
    "geom_point(data=CoordGrupos,aes(x=`Dim 1`,y=`Dim 2`,col=clase))+\n",
    "geom_text(data=CoordGrupos,aes(x=`Dim 1`,y=`Dim 2`,label=rownames(CoordGrupos),col=clase),hjust=0.6, vjust=-0.3,size=5)+\n",
    "geom_segment(aes(x=0,y=0,xend=`Dim 1`,yend=`Dim 2`),data=CoordVar,arrow = arrow(length = unit(0.2,\"cm\"),type='open'),size=0.5,col='black')+\n",
    "geom_text(aes(x=CoordVar$`Dim 1`+.08*sign(CoordVar$`Dim 1`),y=CoordVar$`Dim 2`+.01*sign(CoordVar$`Dim 2`),label=rownames(CoordVar)),data=CoordVar,size=4)+\n",
    "theme_bw()+theme(legend.position=\"none\")"
   ]
  },
  {
   "cell_type": "code",
   "execution_count": 249,
   "metadata": {},
   "outputs": [
    {
     "data": {},
     "metadata": {},
     "output_type": "display_data"
    },
    {
     "data": {
      "image/png": "[encoded data removed]",
      "text/plain": [
       "plot without title"
      ]
     },
     "metadata": {},
     "output_type": "display_data"
    }
   ],
   "source": [
    "#stat_ellipse(data=CoordGrupos,aes(x=`Dim 1`,y=`Dim 2`,level=radio),type='euclid')\n",
    "df <- data.frame(x=as.numeric(CoordGrupos[,2]), y=as.numeric(CoordGrupos[,3]), r=as.numeric(radio))\n",
    "angle <- seq(-pi, pi, length = 100)\n",
    "myplot <- ggplot()\n",
    "for (i in 1:length(df$x)) {\n",
    "        df_temp = data.frame(x = df$x[i] + df$r[i]*sin(angle), y = df$y[i] + df$r[i]*cos(angle))\n",
    "        myplot = myplot + geom_polygon(data=df_temp, aes(x=x, y=y),color='grey', fill=NA,alpha=0.5, inherit.aes=F)\n",
    "      }\n",
    "\n",
    "myplot + geom_point(data=df, aes(x=x, y=y))+\n",
    "geom_point(data=CoordGrupos,aes(x=`Dim 2`,y=`Dim 3`,col=clase))+\n",
    "geom_text(data=CoordGrupos,aes(x=`Dim 2`,y=`Dim 3`,label=rownames(CoordGrupos),col=clase),hjust=0.6, vjust=-0.3,size=5)+\n",
    "geom_segment(aes(x=0,y=0,xend=`Dim 2`,yend=`Dim 3`),data=CoordVar,arrow = arrow(length = unit(0.2,\"cm\"),type='open'),size=0.5,col='black')+\n",
    "geom_text(aes(x=CoordVar$`Dim 2`+.08*sign(CoordVar$`Dim 2`),y=CoordVar$`Dim 3`+.01*sign(CoordVar$`Dim 3`),label=rownames(CoordVar)),data=CoordVar,size=4)+\n",
    "theme_bw()+theme(legend.position=\"none\")"
   ]
  },
  {
   "cell_type": "code",
   "execution_count": 250,
   "metadata": {},
   "outputs": [],
   "source": [
    "X <- Df_total_A1[!is.na(Df_total_A1$V_Studienrichtung),cbind(\"MR1\",\"MR2\",\"MR3\",\"MR4\",\"MR5\",\"MR6\")]\n",
    "y <- as.factor(Df_total_A1$V_Studienrichtung)\n",
    "\n",
    "Totalcanbip <- CanonicalBiplot(X,y )\n",
    "\n",
    "#Rescalar resultados\n",
    "sca <- sum(Totalcanbip$GroupCoordinates^2)\n",
    "scb <- sum(Totalcanbip$ColCoordinates^2)\n",
    "sca <- sca/Totalcanbip$g\n",
    "scb <- scb/Totalcanbip$p\n",
    "scf <- sqrt(sqrt(scb/sca))\n",
    "\n",
    "Totalcanbip$Group_Coord <- Totalcanbip$GroupCoordinates*scf\n",
    "Totalcanbip$Variable_Coord <- Totalcanbip$ColCoordinates/scf\n",
    "Totalcanbip$Individual_Coord <- Totalcanbip$RowCoordinates*scf\n",
    "radio <- Totalcanbip$BonfRad\n",
    "\n",
    "CoordGrupos <- as.data.frame(Totalcanbip$Group_Coord)\n",
    "CoordVar <- as.data.frame(Totalcanbip$Variable_Coord)\n",
    "CoordGrupos$clase <- c('Germ','Phil','Trad','Andere')\n",
    "rownames(CoordGrupos) <- c('Germ','Phil','Trad','Andere')"
   ]
  },
  {
   "cell_type": "code",
   "execution_count": 251,
   "metadata": {},
   "outputs": [
    {
     "data": {
      "text/html": [
       "<table>\n",
       "<thead><tr><th></th><th scope=col>Dim 1</th><th scope=col>Dim 2</th><th scope=col>Dim 3</th></tr></thead>\n",
       "<tbody>\n",
       "\t<tr><th scope=row>MR1</th><td>0.1799896 </td><td>0.01811733</td><td>0.80189307</td></tr>\n",
       "\t<tr><th scope=row>MR2</th><td>0.3218897 </td><td>0.30008453</td><td>0.37802582</td></tr>\n",
       "\t<tr><th scope=row>MR3</th><td>0.9599019 </td><td>0.02332767</td><td>0.01677042</td></tr>\n",
       "\t<tr><th scope=row>MR4</th><td>0.0887403 </td><td>0.62538061</td><td>0.28587909</td></tr>\n",
       "\t<tr><th scope=row>MR5</th><td>0.3802395 </td><td>0.60707294</td><td>0.01268759</td></tr>\n",
       "\t<tr><th scope=row>MR6</th><td>0.8787519 </td><td>0.10637722</td><td>0.01487090</td></tr>\n",
       "</tbody>\n",
       "</table>\n"
      ],
      "text/latex": [
       "\\begin{tabular}{r|lll}\n",
       "  & Dim 1 & Dim 2 & Dim 3\\\\\n",
       "\\hline\n",
       "\tMR1 & 0.1799896  & 0.01811733 & 0.80189307\\\\\n",
       "\tMR2 & 0.3218897  & 0.30008453 & 0.37802582\\\\\n",
       "\tMR3 & 0.9599019  & 0.02332767 & 0.01677042\\\\\n",
       "\tMR4 & 0.0887403  & 0.62538061 & 0.28587909\\\\\n",
       "\tMR5 & 0.3802395  & 0.60707294 & 0.01268759\\\\\n",
       "\tMR6 & 0.8787519  & 0.10637722 & 0.01487090\\\\\n",
       "\\end{tabular}\n"
      ],
      "text/markdown": [
       "\n",
       "| <!--/--> | Dim 1 | Dim 2 | Dim 3 | \n",
       "|---|---|---|---|---|---|\n",
       "| MR1 | 0.1799896  | 0.01811733 | 0.80189307 | \n",
       "| MR2 | 0.3218897  | 0.30008453 | 0.37802582 | \n",
       "| MR3 | 0.9599019  | 0.02332767 | 0.01677042 | \n",
       "| MR4 | 0.0887403  | 0.62538061 | 0.28587909 | \n",
       "| MR5 | 0.3802395  | 0.60707294 | 0.01268759 | \n",
       "| MR6 | 0.8787519  | 0.10637722 | 0.01487090 | \n",
       "\n",
       "\n"
      ],
      "text/plain": [
       "    Dim 1     Dim 2      Dim 3     \n",
       "MR1 0.1799896 0.01811733 0.80189307\n",
       "MR2 0.3218897 0.30008453 0.37802582\n",
       "MR3 0.9599019 0.02332767 0.01677042\n",
       "MR4 0.0887403 0.62538061 0.28587909\n",
       "MR5 0.3802395 0.60707294 0.01268759\n",
       "MR6 0.8787519 0.10637722 0.01487090"
      ]
     },
     "metadata": {},
     "output_type": "display_data"
    }
   ],
   "source": [
    "Totalcanbip$ColContributions"
   ]
  },
  {
   "cell_type": "code",
   "execution_count": 252,
   "metadata": {},
   "outputs": [
    {
     "data": {
      "text/html": [
       "<table>\n",
       "<thead><tr><th></th><th scope=col>Dim 1</th><th scope=col>Dim 2</th><th scope=col>Dim 3</th></tr></thead>\n",
       "<tbody>\n",
       "\t<tr><th scope=row>1</th><td>0.7137724  </td><td>0.27714624 </td><td>0.009081334</td></tr>\n",
       "\t<tr><th scope=row>2</th><td>0.1622048  </td><td>0.83102267 </td><td>0.006772553</td></tr>\n",
       "\t<tr><th scope=row>3</th><td>0.8014445  </td><td>0.08547868 </td><td>0.113076838</td></tr>\n",
       "\t<tr><th scope=row>4</th><td>0.3649097  </td><td>0.16876978 </td><td>0.466320486</td></tr>\n",
       "</tbody>\n",
       "</table>\n"
      ],
      "text/latex": [
       "\\begin{tabular}{r|lll}\n",
       "  & Dim 1 & Dim 2 & Dim 3\\\\\n",
       "\\hline\n",
       "\t1 & 0.7137724   & 0.27714624  & 0.009081334\\\\\n",
       "\t2 & 0.1622048   & 0.83102267  & 0.006772553\\\\\n",
       "\t3 & 0.8014445   & 0.08547868  & 0.113076838\\\\\n",
       "\t4 & 0.3649097   & 0.16876978  & 0.466320486\\\\\n",
       "\\end{tabular}\n"
      ],
      "text/markdown": [
       "\n",
       "| <!--/--> | Dim 1 | Dim 2 | Dim 3 | \n",
       "|---|---|---|---|\n",
       "| 1 | 0.7137724   | 0.27714624  | 0.009081334 | \n",
       "| 2 | 0.1622048   | 0.83102267  | 0.006772553 | \n",
       "| 3 | 0.8014445   | 0.08547868  | 0.113076838 | \n",
       "| 4 | 0.3649097   | 0.16876978  | 0.466320486 | \n",
       "\n",
       "\n"
      ],
      "text/plain": [
       "  Dim 1     Dim 2      Dim 3      \n",
       "1 0.7137724 0.27714624 0.009081334\n",
       "2 0.1622048 0.83102267 0.006772553\n",
       "3 0.8014445 0.08547868 0.113076838\n",
       "4 0.3649097 0.16876978 0.466320486"
      ]
     },
     "metadata": {},
     "output_type": "display_data"
    }
   ],
   "source": [
    "Totalcanbip$GroupContributions"
   ]
  },
  {
   "cell_type": "code",
   "execution_count": 253,
   "metadata": {},
   "outputs": [
    {
     "data": {},
     "metadata": {},
     "output_type": "display_data"
    },
    {
     "data": {
      "image/png": "[encoded data removed]",
      "text/plain": [
       "plot without title"
      ]
     },
     "metadata": {},
     "output_type": "display_data"
    }
   ],
   "source": [
    "df <- data.frame(x=as.numeric(CoordGrupos[,1]), y=as.numeric(CoordGrupos[,2]), r=as.numeric(radio))\n",
    "\n",
    "angle <- seq(-pi, pi, length = 100)\n",
    "\n",
    "myplot <- ggplot()\n",
    "for (i in 1:length(df$x)) {\n",
    "        df_temp = data.frame(x = df$x[i] + df$r[i]*sin(angle), y = df$y[i] + df$r[i]*cos(angle))\n",
    "        myplot = myplot + geom_polygon(data=df_temp, aes(x=x, y=y),color='grey', fill=NA,alpha=0.5, inherit.aes=F)\n",
    "      }\n",
    "\n",
    "myplot + geom_point(data=df, aes(x=x, y=y))+\n",
    "geom_point(data=CoordGrupos,aes(x=`Dim 1`,y=`Dim 2`,col=clase))+\n",
    "geom_text(data=CoordGrupos,aes(x=`Dim 1`,y=`Dim 2`,label=rownames(CoordGrupos),col=clase),hjust=0.6, vjust=-0.3,size=5)+\n",
    "geom_segment(aes(x=0,y=0,xend=`Dim 1`,yend=`Dim 2`),data=CoordVar,arrow = arrow(length = unit(0.2,\"cm\"),type='open'),size=0.5,col='black')+\n",
    "geom_text(aes(x=CoordVar$`Dim 1`+.08*sign(CoordVar$`Dim 1`),y=CoordVar$`Dim 2`+.01*sign(CoordVar$`Dim 2`),label=rownames(CoordVar)),data=CoordVar,size=4)+\n",
    "theme_bw()+theme(legend.position=\"none\")"
   ]
  },
  {
   "cell_type": "code",
   "execution_count": 254,
   "metadata": {},
   "outputs": [
    {
     "data": {},
     "metadata": {},
     "output_type": "display_data"
    },
    {
     "data": {
      "image/png": "[encoded data removed]",
      "text/plain": [
       "plot without title"
      ]
     },
     "metadata": {},
     "output_type": "display_data"
    }
   ],
   "source": [
    "#stat_ellipse(data=CoordGrupos,aes(x=`Dim 1`,y=`Dim 2`,level=radio),type='euclid')\n",
    "df <- data.frame(x=as.numeric(CoordGrupos[,1]), y=as.numeric(CoordGrupos[,3]), r=as.numeric(radio))\n",
    "angle <- seq(-pi, pi, length = 100)\n",
    "myplot <- ggplot()\n",
    "for (i in 1:length(df$x)) {\n",
    "        df_temp = data.frame(x = df$x[i] + df$r[i]*sin(angle), y = df$y[i] + df$r[i]*cos(angle))\n",
    "        myplot = myplot + geom_polygon(data=df_temp, aes(x=x, y=y),color='grey', fill=NA,alpha=0.5, inherit.aes=F)\n",
    "      }\n",
    "\n",
    "myplot + geom_point(data=df, aes(x=x, y=y))+\n",
    "geom_point(data=CoordGrupos,aes(x=`Dim 1`,y=`Dim 3`,col=clase))+\n",
    "geom_text(data=CoordGrupos,aes(x=`Dim 1`,y=`Dim 3`,label=rownames(CoordGrupos),col=clase),hjust=0.6, vjust=-0.3,size=5)+\n",
    "geom_segment(aes(x=0,y=0,xend=`Dim 1`,yend=`Dim 3`),data=CoordVar,arrow = arrow(length = unit(0.2,\"cm\"),type='open'),size=0.5,col='black')+\n",
    "geom_text(aes(x=CoordVar$`Dim 1`+.08*sign(CoordVar$`Dim 1`),y=CoordVar$`Dim 3`+.01*sign(CoordVar$`Dim 3`),label=rownames(CoordVar)),data=CoordVar,size=4)+\n",
    "theme_bw()+theme(legend.position=\"none\")"
   ]
  },
  {
   "cell_type": "code",
   "execution_count": 255,
   "metadata": {},
   "outputs": [
    {
     "data": {},
     "metadata": {},
     "output_type": "display_data"
    },
    {
     "data": {
      "image/png": "[encoded data removed]",
      "text/plain": [
       "plot without title"
      ]
     },
     "metadata": {},
     "output_type": "display_data"
    }
   ],
   "source": [
    "#stat_ellipse(data=CoordGrupos,aes(x=`Dim 1`,y=`Dim 2`,level=radio),type='euclid')\n",
    "df <- data.frame(x=as.numeric(CoordGrupos[,2]), y=as.numeric(CoordGrupos[,3]), r=as.numeric(radio))\n",
    "angle <- seq(-pi, pi, length = 100)\n",
    "myplot <- ggplot()\n",
    "for (i in 1:length(df$x)) {\n",
    "        df_temp = data.frame(x = df$x[i] + df$r[i]*sin(angle), y = df$y[i] + df$r[i]*cos(angle))\n",
    "        myplot = myplot + geom_polygon(data=df_temp, aes(x=x, y=y),color='grey', fill=NA,alpha=0.5, inherit.aes=F)\n",
    "      }\n",
    "\n",
    "myplot + geom_point(data=df, aes(x=x, y=y))+\n",
    "geom_point(data=CoordGrupos,aes(x=`Dim 2`,y=`Dim 3`,col=clase))+\n",
    "geom_text(data=CoordGrupos,aes(x=`Dim 2`,y=`Dim 3`,label=rownames(CoordGrupos),col=clase),hjust=0.6, vjust=-0.3,size=5)+\n",
    "geom_segment(aes(x=0,y=0,xend=`Dim 2`,yend=`Dim 3`),data=CoordVar,arrow = arrow(length = unit(0.2,\"cm\"),type='open'),size=0.5,col='black')+\n",
    "geom_text(aes(x=CoordVar$`Dim 2`+.08*sign(CoordVar$`Dim 2`),y=CoordVar$`Dim 3`+.01*sign(CoordVar$`Dim 3`),label=rownames(CoordVar)),data=CoordVar,size=4)+\n",
    "theme_bw()+theme(legend.position=\"none\")"
   ]
  },
  {
   "cell_type": "code",
   "execution_count": null,
   "metadata": {},
   "outputs": [],
   "source": []
  }
 ],
 "metadata": {
  "kernelspec": {
   "display_name": "R 3.3",
   "language": "R",
   "name": "ir33"
  },
  "language_info": {
   "codemirror_mode": "r",
   "file_extension": ".r",
   "mimetype": "text/x-r-source",
   "name": "R",
   "pygments_lexer": "r",
   "version": "3.4.3"
  }
 },
 "nbformat": 4,
 "nbformat_minor": 2
}
