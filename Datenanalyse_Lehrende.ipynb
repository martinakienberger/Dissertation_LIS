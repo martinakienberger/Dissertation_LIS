{
 "cells": [
  {
   "cell_type": "markdown",
   "metadata": {},
   "source": [
    "## Erschließungsstrategien für unbekannten Wortschatz von DaF-Lernenden an spanischen Universitäten\n",
    "# Datenanalyse der begleitenden Lehrendenbefragung 2017/18"
   ]
  },
  {
   "cell_type": "markdown",
   "metadata": {},
   "source": [
    "#### Daten importieren"
   ]
  },
  {
   "cell_type": "code",
   "execution_count": 1,
   "metadata": {},
   "outputs": [
    {
     "name": "stdout",
     "output_type": "stream",
     "text": [
      "Populating the interactive namespace from numpy and matplotlib\n"
     ]
    }
   ],
   "source": [
    "from funktionen import *\n",
    "import pandas as pd\n",
    "import matplotlib\n",
    "import numpy as np\n",
    "import scipy as sp\n",
    "import math\n",
    "from scipy import stats\n",
    "from biofes import biplot\n",
    "from sklearn.utils.extmath import randomized_svd\n",
    "from sklearn.cluster import KMeans, AgglomerativeClustering\n",
    "import seaborn as sns\n",
    "sns.set(style=\"white\") #\"white\", \"darkgrid\"...\n",
    "% pylab inline"
   ]
  },
  {
   "cell_type": "code",
   "execution_count": 2,
   "metadata": {},
   "outputs": [],
   "source": [
    "Daten1 = pd.read_excel('D:\\Daten\\DISS\\Daten\\Estrategias_Profesores_Kienberger_P2017_int.xlsx', encoding='utf-16')"
   ]
  },
  {
   "cell_type": "code",
   "execution_count": 3,
   "metadata": {},
   "outputs": [],
   "source": [
    "Daten2 = pd.read_excel('D:\\Daten\\DISS\\Daten\\Estrategias_Profesores_Kienberger_2018_ber.xlsx',encoding='utf-16')"
   ]
  },
  {
   "cell_type": "code",
   "execution_count": 4,
   "metadata": {},
   "outputs": [],
   "source": [
    "Daten2.index = [10 + i for i in Daten2.index]"
   ]
  },
  {
   "cell_type": "code",
   "execution_count": 5,
   "metadata": {},
   "outputs": [],
   "source": [
    "Daten = pd.concat([Daten1, Daten2], axis=0, join='outer', sort=True)"
   ]
  },
  {
   "cell_type": "code",
   "execution_count": 6,
   "metadata": {},
   "outputs": [
    {
     "data": {
      "text/plain": [
       "(10, 129)"
      ]
     },
     "execution_count": 6,
     "metadata": {},
     "output_type": "execute_result"
    }
   ],
   "source": [
    "Daten1.shape"
   ]
  },
  {
   "cell_type": "code",
   "execution_count": 7,
   "metadata": {},
   "outputs": [
    {
     "data": {
      "text/plain": [
       "(43, 127)"
      ]
     },
     "execution_count": 7,
     "metadata": {},
     "output_type": "execute_result"
    }
   ],
   "source": [
    "Daten2.shape"
   ]
  },
  {
   "cell_type": "code",
   "execution_count": 8,
   "metadata": {},
   "outputs": [
    {
     "data": {
      "text/plain": [
       "(53, 130)"
      ]
     },
     "execution_count": 8,
     "metadata": {},
     "output_type": "execute_result"
    }
   ],
   "source": [
    "Daten.shape"
   ]
  },
  {
   "cell_type": "code",
   "execution_count": 9,
   "metadata": {},
   "outputs": [],
   "source": [
    "Daten = Daten.fillna(0)"
   ]
  },
  {
   "cell_type": "code",
   "execution_count": 10,
   "metadata": {},
   "outputs": [],
   "source": [
    "Daten.to_excel('D:\\Daten\\DISS\\Daten\\Estrategias_Profesores_Kienberger_2017-18.xlsx',encoding='utf-16')"
   ]
  },
  {
   "cell_type": "markdown",
   "metadata": {},
   "source": [
    "#### Glossar erstellen\n",
    "\n",
    "Datei aufrufen, die in einem anderem Notebook erstellt und gespeichert wurde"
   ]
  },
  {
   "cell_type": "code",
   "execution_count": 11,
   "metadata": {},
   "outputs": [],
   "source": [
    "gloss = pd.read_pickle('D:\\Daten\\DISS\\Daten\\GlossProf2018')"
   ]
  },
  {
   "cell_type": "markdown",
   "metadata": {},
   "source": [
    "#### Untergruppen und Listen für die Analyse"
   ]
  },
  {
   "cell_type": "code",
   "execution_count": 12,
   "metadata": {},
   "outputs": [
    {
     "data": {
      "text/plain": [
       "'A-Q1a'"
      ]
     },
     "execution_count": 12,
     "metadata": {},
     "output_type": "execute_result"
    }
   ],
   "source": [
    "Liste_A_Q1 = [col for col in Daten.columns if 'A-Q1' in col]\n",
    "Liste_A_Q1.pop(9)"
   ]
  },
  {
   "cell_type": "code",
   "execution_count": 13,
   "metadata": {},
   "outputs": [],
   "source": [
    "Liste_B_Q1 = [col for col in Daten.columns if 'B-Q1' in col]\n",
    "Liste_B_Q1.pop(len(Liste_B_Q1)-1)\n",
    "Liste_B_Q1 = [el for el in Liste_B_Q1 if 'TEXT' not in el]"
   ]
  },
  {
   "cell_type": "code",
   "execution_count": 14,
   "metadata": {},
   "outputs": [
    {
     "data": {
      "text/plain": [
       "'B-Q2a'"
      ]
     },
     "execution_count": 14,
     "metadata": {},
     "output_type": "execute_result"
    }
   ],
   "source": [
    "Liste_B_Q2 = [col for col in Daten.columns if 'B-Q2' in col]\n",
    "Liste_B_Q2.pop(7)"
   ]
  },
  {
   "cell_type": "code",
   "execution_count": 15,
   "metadata": {},
   "outputs": [
    {
     "data": {
      "text/plain": [
       "'B-Q3a'"
      ]
     },
     "execution_count": 15,
     "metadata": {},
     "output_type": "execute_result"
    }
   ],
   "source": [
    "Liste_B_Q3 = [col for col in Daten.columns if 'B-Q3' in col]\n",
    "Liste_B_Q3.pop(8)"
   ]
  },
  {
   "cell_type": "code",
   "execution_count": 16,
   "metadata": {},
   "outputs": [
    {
     "data": {
      "text/plain": [
       "'C-Q1a'"
      ]
     },
     "execution_count": 16,
     "metadata": {},
     "output_type": "execute_result"
    }
   ],
   "source": [
    "#Liste_C_Q1 = [col for col in Daten.columns if 'C-Q1' in col]\n",
    "#Liste_C_Q1.pop(10)"
   ]
  },
  {
   "cell_type": "code",
   "execution_count": 86,
   "metadata": {},
   "outputs": [],
   "source": [
    "Liste_C_Q1 = ['C-Q1_1','C-Q1_2','C-Q1_3','C-Q1_4','C-Q1_5','C-Q1_6','C-Q1_7','C-Q1_8','C-Q1_9','C-Q1_10']"
   ]
  },
  {
   "cell_type": "markdown",
   "metadata": {},
   "source": [
    "### Cronbach's Alpha berechnen"
   ]
  },
  {
   "cell_type": "code",
   "execution_count": 17,
   "metadata": {},
   "outputs": [
    {
     "data": {
      "text/plain": [
       "0.568059342251001"
      ]
     },
     "execution_count": 17,
     "metadata": {},
     "output_type": "execute_result"
    }
   ],
   "source": [
    "CronbachAlpha(Daten[Liste_A_Q1])"
   ]
  },
  {
   "cell_type": "code",
   "execution_count": 18,
   "metadata": {},
   "outputs": [
    {
     "data": {
      "text/plain": [
       "0.753814906537855"
      ]
     },
     "execution_count": 18,
     "metadata": {},
     "output_type": "execute_result"
    }
   ],
   "source": [
    "CronbachAlpha(Daten[Liste_B_Q2])"
   ]
  },
  {
   "cell_type": "code",
   "execution_count": 19,
   "metadata": {},
   "outputs": [
    {
     "data": {
      "text/plain": [
       "0.7597284181162175"
      ]
     },
     "execution_count": 19,
     "metadata": {},
     "output_type": "execute_result"
    }
   ],
   "source": [
    "CronbachAlpha(Daten[Liste_B_Q3])"
   ]
  },
  {
   "cell_type": "code",
   "execution_count": 20,
   "metadata": {},
   "outputs": [
    {
     "data": {
      "text/plain": [
       "0.5694013756492223"
      ]
     },
     "execution_count": 20,
     "metadata": {},
     "output_type": "execute_result"
    }
   ],
   "source": [
    "CronbachAlpha(Daten[Liste_C_Q1])"
   ]
  },
  {
   "cell_type": "code",
   "execution_count": 21,
   "metadata": {},
   "outputs": [],
   "source": [
    "Liste_AB = Liste_A_Q1 + Liste_B_Q2 + Liste_B_Q3"
   ]
  },
  {
   "cell_type": "code",
   "execution_count": 22,
   "metadata": {},
   "outputs": [],
   "source": [
    "Liste_ABC = Liste_AB + Liste_C_Q1"
   ]
  },
  {
   "cell_type": "code",
   "execution_count": 23,
   "metadata": {},
   "outputs": [
    {
     "data": {
      "text/plain": [
       "0.8608776333182738"
      ]
     },
     "execution_count": 23,
     "metadata": {},
     "output_type": "execute_result"
    }
   ],
   "source": [
    "CronbachAlpha(Daten[Liste_ABC])"
   ]
  },
  {
   "cell_type": "markdown",
   "metadata": {},
   "source": [
    "### Zeitanalyse"
   ]
  },
  {
   "cell_type": "code",
   "execution_count": 24,
   "metadata": {},
   "outputs": [],
   "source": [
    "Dur = Daten['Duration (in seconds)']"
   ]
  },
  {
   "cell_type": "code",
   "execution_count": 25,
   "metadata": {},
   "outputs": [],
   "source": [
    "Dur = pd.to_numeric(Daten['Duration (in seconds)'])"
   ]
  },
  {
   "cell_type": "code",
   "execution_count": 26,
   "metadata": {},
   "outputs": [
    {
     "data": {
      "text/plain": [
       "count        53.000000\n",
       "mean       7613.603774\n",
       "std       47344.626277\n",
       "min         377.000000\n",
       "25%         597.000000\n",
       "50%         866.000000\n",
       "75%        1053.000000\n",
       "max      345611.000000\n",
       "Name: Duration (in seconds), dtype: float64"
      ]
     },
     "execution_count": 26,
     "metadata": {},
     "output_type": "execute_result"
    }
   ],
   "source": [
    "Dur.describe()"
   ]
  },
  {
   "cell_type": "code",
   "execution_count": 27,
   "metadata": {},
   "outputs": [
    {
     "data": {
      "text/plain": [
       "<matplotlib.axes._subplots.AxesSubplot at 0x1b179860>"
      ]
     },
     "execution_count": 27,
     "metadata": {},
     "output_type": "execute_result"
    },
    {
     "data": {
      "image/png": "[encoded data removed]",
      "text/plain": [
       "<Figure size 432x288 with 1 Axes>"
      ]
     },
     "metadata": {},
     "output_type": "display_data"
    }
   ],
   "source": [
    "Dur.plot.box()"
   ]
  },
  {
   "cell_type": "markdown",
   "metadata": {},
   "source": [
    "Überblick über die Beantwortungszeit und Darstellung in einem Boxplot, um Outlyers zu erkennen -> sollen nicht mit berücksichtigt werden (z.B. TN, die an einem Tag begonnen und später beendet haben...)\n",
    "\n",
    "sinnvoll ist, eine Grenze bei ca. einer Stunde Beantwortungszeit (3600 sek) festzulegen"
   ]
  },
  {
   "cell_type": "code",
   "execution_count": 28,
   "metadata": {},
   "outputs": [
    {
     "data": {
      "text/plain": [
       "<matplotlib.axes._subplots.AxesSubplot at 0x1b1ac7b8>"
      ]
     },
     "execution_count": 28,
     "metadata": {},
     "output_type": "execute_result"
    },
    {
     "data": {
      "image/png": "[encoded data removed]",
      "text/plain": [
       "<Figure size 432x288 with 1 Axes>"
      ]
     },
     "metadata": {},
     "output_type": "display_data"
    }
   ],
   "source": [
    "Dur[Dur < 4000].plot.box()"
   ]
  },
  {
   "cell_type": "code",
   "execution_count": 29,
   "metadata": {},
   "outputs": [
    {
     "data": {
      "text/plain": [
       "count      51.000000\n",
       "mean      911.117647\n",
       "std       462.940024\n",
       "min       377.000000\n",
       "25%       574.500000\n",
       "50%       854.000000\n",
       "75%      1034.000000\n",
       "max      2341.000000\n",
       "Name: Duration (in seconds), dtype: float64"
      ]
     },
     "execution_count": 29,
     "metadata": {},
     "output_type": "execute_result"
    }
   ],
   "source": [
    "Dur[Dur < 4000].describe()"
   ]
  },
  {
   "cell_type": "code",
   "execution_count": 30,
   "metadata": {},
   "outputs": [
    {
     "data": {
      "text/plain": [
       "15.185294117647059"
      ]
     },
     "execution_count": 30,
     "metadata": {},
     "output_type": "execute_result"
    }
   ],
   "source": [
    "(Dur[Dur < 4000].mean())/60"
   ]
  },
  {
   "cell_type": "markdown",
   "metadata": {},
   "source": [
    "Schlussfolgerung:\n",
    "\n",
    "Die durchschnittliche Beantwortungszeit liegt bei ca. 15min, wobei große Unterschiede zwischen den TN beobachtet werden können."
   ]
  },
  {
   "cell_type": "markdown",
   "metadata": {},
   "source": [
    "### Analyse der Angaben zur Strategiennutzung der Lernenden"
   ]
  },
  {
   "cell_type": "code",
   "execution_count": 31,
   "metadata": {},
   "outputs": [
    {
     "data": {
      "text/html": [
       "<div>\n",
       "<style scoped>\n",
       "    .dataframe tbody tr th:only-of-type {\n",
       "        vertical-align: middle;\n",
       "    }\n",
       "\n",
       "    .dataframe tbody tr th {\n",
       "        vertical-align: top;\n",
       "    }\n",
       "\n",
       "    .dataframe thead th {\n",
       "        text-align: right;\n",
       "    }\n",
       "</style>\n",
       "<table border=\"1\" class=\"dataframe\">\n",
       "  <thead>\n",
       "    <tr style=\"text-align: right;\">\n",
       "      <th></th>\n",
       "      <th>A-Q1_1</th>\n",
       "      <th>A-Q1_2</th>\n",
       "      <th>A-Q1_3</th>\n",
       "      <th>A-Q1_4</th>\n",
       "      <th>A-Q1_5</th>\n",
       "      <th>A-Q1_6</th>\n",
       "      <th>A-Q1_7</th>\n",
       "      <th>A-Q1_8</th>\n",
       "      <th>A-Q1_9</th>\n",
       "    </tr>\n",
       "  </thead>\n",
       "  <tbody>\n",
       "    <tr>\n",
       "      <th>count</th>\n",
       "      <td>53.000000</td>\n",
       "      <td>53.000000</td>\n",
       "      <td>53.000000</td>\n",
       "      <td>53.000000</td>\n",
       "      <td>53.000000</td>\n",
       "      <td>53.000000</td>\n",
       "      <td>52.000000</td>\n",
       "      <td>52.000000</td>\n",
       "      <td>52.000000</td>\n",
       "    </tr>\n",
       "    <tr>\n",
       "      <th>mean</th>\n",
       "      <td>2.867925</td>\n",
       "      <td>3.283019</td>\n",
       "      <td>3.207547</td>\n",
       "      <td>3.113208</td>\n",
       "      <td>3.905660</td>\n",
       "      <td>3.547170</td>\n",
       "      <td>4.269231</td>\n",
       "      <td>3.596154</td>\n",
       "      <td>3.673077</td>\n",
       "    </tr>\n",
       "    <tr>\n",
       "      <th>std</th>\n",
       "      <td>1.092593</td>\n",
       "      <td>0.631767</td>\n",
       "      <td>0.768577</td>\n",
       "      <td>0.847176</td>\n",
       "      <td>0.925372</td>\n",
       "      <td>1.101852</td>\n",
       "      <td>0.717167</td>\n",
       "      <td>1.033927</td>\n",
       "      <td>1.042643</td>\n",
       "    </tr>\n",
       "    <tr>\n",
       "      <th>min</th>\n",
       "      <td>1.000000</td>\n",
       "      <td>2.000000</td>\n",
       "      <td>1.000000</td>\n",
       "      <td>1.000000</td>\n",
       "      <td>1.000000</td>\n",
       "      <td>1.000000</td>\n",
       "      <td>2.000000</td>\n",
       "      <td>1.000000</td>\n",
       "      <td>1.000000</td>\n",
       "    </tr>\n",
       "    <tr>\n",
       "      <th>25%</th>\n",
       "      <td>2.000000</td>\n",
       "      <td>3.000000</td>\n",
       "      <td>3.000000</td>\n",
       "      <td>3.000000</td>\n",
       "      <td>3.000000</td>\n",
       "      <td>3.000000</td>\n",
       "      <td>4.000000</td>\n",
       "      <td>3.000000</td>\n",
       "      <td>3.000000</td>\n",
       "    </tr>\n",
       "    <tr>\n",
       "      <th>50%</th>\n",
       "      <td>3.000000</td>\n",
       "      <td>3.000000</td>\n",
       "      <td>3.000000</td>\n",
       "      <td>3.000000</td>\n",
       "      <td>4.000000</td>\n",
       "      <td>4.000000</td>\n",
       "      <td>4.000000</td>\n",
       "      <td>4.000000</td>\n",
       "      <td>4.000000</td>\n",
       "    </tr>\n",
       "    <tr>\n",
       "      <th>75%</th>\n",
       "      <td>4.000000</td>\n",
       "      <td>4.000000</td>\n",
       "      <td>4.000000</td>\n",
       "      <td>4.000000</td>\n",
       "      <td>5.000000</td>\n",
       "      <td>4.000000</td>\n",
       "      <td>5.000000</td>\n",
       "      <td>4.000000</td>\n",
       "      <td>4.000000</td>\n",
       "    </tr>\n",
       "    <tr>\n",
       "      <th>max</th>\n",
       "      <td>5.000000</td>\n",
       "      <td>5.000000</td>\n",
       "      <td>5.000000</td>\n",
       "      <td>5.000000</td>\n",
       "      <td>5.000000</td>\n",
       "      <td>5.000000</td>\n",
       "      <td>5.000000</td>\n",
       "      <td>5.000000</td>\n",
       "      <td>5.000000</td>\n",
       "    </tr>\n",
       "  </tbody>\n",
       "</table>\n",
       "</div>"
      ],
      "text/plain": [
       "          A-Q1_1     A-Q1_2     A-Q1_3     A-Q1_4     A-Q1_5     A-Q1_6  \\\n",
       "count  53.000000  53.000000  53.000000  53.000000  53.000000  53.000000   \n",
       "mean    2.867925   3.283019   3.207547   3.113208   3.905660   3.547170   \n",
       "std     1.092593   0.631767   0.768577   0.847176   0.925372   1.101852   \n",
       "min     1.000000   2.000000   1.000000   1.000000   1.000000   1.000000   \n",
       "25%     2.000000   3.000000   3.000000   3.000000   3.000000   3.000000   \n",
       "50%     3.000000   3.000000   3.000000   3.000000   4.000000   4.000000   \n",
       "75%     4.000000   4.000000   4.000000   4.000000   5.000000   4.000000   \n",
       "max     5.000000   5.000000   5.000000   5.000000   5.000000   5.000000   \n",
       "\n",
       "          A-Q1_7     A-Q1_8     A-Q1_9  \n",
       "count  52.000000  52.000000  52.000000  \n",
       "mean    4.269231   3.596154   3.673077  \n",
       "std     0.717167   1.033927   1.042643  \n",
       "min     2.000000   1.000000   1.000000  \n",
       "25%     4.000000   3.000000   3.000000  \n",
       "50%     4.000000   4.000000   4.000000  \n",
       "75%     5.000000   4.000000   4.000000  \n",
       "max     5.000000   5.000000   5.000000  "
      ]
     },
     "execution_count": 31,
     "metadata": {},
     "output_type": "execute_result"
    }
   ],
   "source": [
    "Daten[Daten[Liste_A_Q1] != 0][Liste_A_Q1].describe()"
   ]
  },
  {
   "cell_type": "code",
   "execution_count": 32,
   "metadata": {},
   "outputs": [
    {
     "data": {
      "image/png": "[encoded data removed]",
      "text/plain": [
       "<Figure size 576x432 with 1 Axes>"
      ]
     },
     "metadata": {},
     "output_type": "display_data"
    }
   ],
   "source": [
    "graf_likert(Daten[Daten[Liste_A_Q1] != 0],Liste_A_Q1,6)"
   ]
  },
  {
   "cell_type": "code",
   "execution_count": 33,
   "metadata": {},
   "outputs": [
    {
     "data": {
      "image/png": "[encoded data removed]",
      "text/plain": [
       "<Figure size 1152x864 with 9 Axes>"
      ]
     },
     "metadata": {},
     "output_type": "display_data"
    }
   ],
   "source": [
    "graf_hist(Daten,Liste_A_Q1,16,12,3,4)"
   ]
  },
  {
   "cell_type": "markdown",
   "metadata": {},
   "source": [
    "1\n",
    "Los estudiantes descubren el significado o la función de palabras nuevas en alemán gracias a su lengua materna.\n",
    "\n",
    "2\n",
    "Los estudiantes comprenden palabras nuevas en alemán con la ayuda de otras lenguas.\n",
    "\n",
    "3\n",
    "Los estudiantes utilizan sus conocimientos de alemán, p. ej. otras palabras conocidas, las partes de la oración o la formación de palabras compuestas.\n",
    "\n",
    "4\n",
    "Los estudiantes utilizan información extraída del contexto, p. ej. la posición de una palabra en la frase o el formato del texto.\n",
    "\n",
    "5\n",
    "Los estudiantes le piden ayuda a usted o a otro/a profesor/a.\n",
    "\n",
    "6\n",
    "Los estudiantes piden ayuda a sus compañeros/as de clase.\n",
    "\n",
    "7\n",
    "Los estudiantes consultan un diccionario u otra fuente (en papel o digital).\n",
    "\n",
    "8\n",
    "Detecto claras diferencias individuales entre los estudiantes en cuanto al uso de las estrategias.\n",
    "\n",
    "9\n",
    "Detecto claras diferencias en el uso de las estrategias entre los distintos grupos de estudiantes, p. ej. principiantes - avanzados. "
   ]
  },
  {
   "cell_type": "markdown",
   "metadata": {},
   "source": [
    "Korrelation in A-Q1:"
   ]
  },
  {
   "cell_type": "code",
   "execution_count": 34,
   "metadata": {
    "scrolled": true
   },
   "outputs": [
    {
     "data": {
      "text/html": [
       "<style  type=\"text/css\" >\n",
       "    #T_301747da_836d_11e9_ab52_b8763fd8451drow0_col0 {\n",
       "            background-color :  salmon;\n",
       "        }    #T_301747da_836d_11e9_ab52_b8763fd8451drow0_col1 {\n",
       "            background-color:  peachpuff;\n",
       "        }    #T_301747da_836d_11e9_ab52_b8763fd8451drow0_col2 {\n",
       "            background-color :  white;\n",
       "        }    #T_301747da_836d_11e9_ab52_b8763fd8451drow0_col3 {\n",
       "            background-color:  peachpuff;\n",
       "        }    #T_301747da_836d_11e9_ab52_b8763fd8451drow0_col4 {\n",
       "            background-color:  peachpuff;\n",
       "        }    #T_301747da_836d_11e9_ab52_b8763fd8451drow0_col5 {\n",
       "            background-color:  peachpuff;\n",
       "        }    #T_301747da_836d_11e9_ab52_b8763fd8451drow0_col6 {\n",
       "            background-color :  white;\n",
       "        }    #T_301747da_836d_11e9_ab52_b8763fd8451drow0_col7 {\n",
       "            background-color:  peachpuff;\n",
       "        }    #T_301747da_836d_11e9_ab52_b8763fd8451drow0_col8 {\n",
       "            background-color :  white;\n",
       "        }    #T_301747da_836d_11e9_ab52_b8763fd8451drow1_col0 {\n",
       "            background-color:  peachpuff;\n",
       "        }    #T_301747da_836d_11e9_ab52_b8763fd8451drow1_col1 {\n",
       "            background-color :  salmon;\n",
       "        }    #T_301747da_836d_11e9_ab52_b8763fd8451drow1_col2 {\n",
       "            background-color:  lightsalmon;\n",
       "        }    #T_301747da_836d_11e9_ab52_b8763fd8451drow1_col3 {\n",
       "            background-color:  lightsalmon;\n",
       "        }    #T_301747da_836d_11e9_ab52_b8763fd8451drow1_col4 {\n",
       "            background-color:  lightsalmon;\n",
       "        }    #T_301747da_836d_11e9_ab52_b8763fd8451drow1_col5 {\n",
       "            background-color :  white;\n",
       "        }    #T_301747da_836d_11e9_ab52_b8763fd8451drow1_col6 {\n",
       "            background-color:  peachpuff;\n",
       "        }    #T_301747da_836d_11e9_ab52_b8763fd8451drow1_col7 {\n",
       "            background-color :  white;\n",
       "        }    #T_301747da_836d_11e9_ab52_b8763fd8451drow1_col8 {\n",
       "            background-color :  white;\n",
       "        }    #T_301747da_836d_11e9_ab52_b8763fd8451drow2_col0 {\n",
       "            background-color :  white;\n",
       "        }    #T_301747da_836d_11e9_ab52_b8763fd8451drow2_col1 {\n",
       "            background-color:  lightsalmon;\n",
       "        }    #T_301747da_836d_11e9_ab52_b8763fd8451drow2_col2 {\n",
       "            background-color :  salmon;\n",
       "        }    #T_301747da_836d_11e9_ab52_b8763fd8451drow2_col3 {\n",
       "            background-color:  lightsalmon;\n",
       "        }    #T_301747da_836d_11e9_ab52_b8763fd8451drow2_col4 {\n",
       "            background-color:  peachpuff;\n",
       "        }    #T_301747da_836d_11e9_ab52_b8763fd8451drow2_col5 {\n",
       "            background-color :  white;\n",
       "        }    #T_301747da_836d_11e9_ab52_b8763fd8451drow2_col6 {\n",
       "            background-color :  white;\n",
       "        }    #T_301747da_836d_11e9_ab52_b8763fd8451drow2_col7 {\n",
       "            background-color:  peachpuff;\n",
       "        }    #T_301747da_836d_11e9_ab52_b8763fd8451drow2_col8 {\n",
       "            background-color:  peachpuff;\n",
       "        }    #T_301747da_836d_11e9_ab52_b8763fd8451drow3_col0 {\n",
       "            background-color:  peachpuff;\n",
       "        }    #T_301747da_836d_11e9_ab52_b8763fd8451drow3_col1 {\n",
       "            background-color:  lightsalmon;\n",
       "        }    #T_301747da_836d_11e9_ab52_b8763fd8451drow3_col2 {\n",
       "            background-color:  lightsalmon;\n",
       "        }    #T_301747da_836d_11e9_ab52_b8763fd8451drow3_col3 {\n",
       "            background-color :  salmon;\n",
       "        }    #T_301747da_836d_11e9_ab52_b8763fd8451drow3_col4 {\n",
       "            background-color:  peachpuff;\n",
       "        }    #T_301747da_836d_11e9_ab52_b8763fd8451drow3_col5 {\n",
       "            background-color:  peachpuff;\n",
       "        }    #T_301747da_836d_11e9_ab52_b8763fd8451drow3_col6 {\n",
       "            background-color:  peachpuff;\n",
       "        }    #T_301747da_836d_11e9_ab52_b8763fd8451drow3_col7 {\n",
       "            background-color:  peachpuff;\n",
       "        }    #T_301747da_836d_11e9_ab52_b8763fd8451drow3_col8 {\n",
       "            background-color:  peachpuff;\n",
       "        }    #T_301747da_836d_11e9_ab52_b8763fd8451drow4_col0 {\n",
       "            background-color:  peachpuff;\n",
       "        }    #T_301747da_836d_11e9_ab52_b8763fd8451drow4_col1 {\n",
       "            background-color:  lightsalmon;\n",
       "        }    #T_301747da_836d_11e9_ab52_b8763fd8451drow4_col2 {\n",
       "            background-color:  peachpuff;\n",
       "        }    #T_301747da_836d_11e9_ab52_b8763fd8451drow4_col3 {\n",
       "            background-color:  peachpuff;\n",
       "        }    #T_301747da_836d_11e9_ab52_b8763fd8451drow4_col4 {\n",
       "            background-color :  salmon;\n",
       "        }    #T_301747da_836d_11e9_ab52_b8763fd8451drow4_col5 {\n",
       "            background-color:  lightsalmon;\n",
       "        }    #T_301747da_836d_11e9_ab52_b8763fd8451drow4_col6 {\n",
       "            background-color:  peachpuff;\n",
       "        }    #T_301747da_836d_11e9_ab52_b8763fd8451drow4_col7 {\n",
       "            background-color :  white;\n",
       "        }    #T_301747da_836d_11e9_ab52_b8763fd8451drow4_col8 {\n",
       "            background-color :  white;\n",
       "        }    #T_301747da_836d_11e9_ab52_b8763fd8451drow5_col0 {\n",
       "            background-color:  peachpuff;\n",
       "        }    #T_301747da_836d_11e9_ab52_b8763fd8451drow5_col1 {\n",
       "            background-color :  white;\n",
       "        }    #T_301747da_836d_11e9_ab52_b8763fd8451drow5_col2 {\n",
       "            background-color :  white;\n",
       "        }    #T_301747da_836d_11e9_ab52_b8763fd8451drow5_col3 {\n",
       "            background-color:  peachpuff;\n",
       "        }    #T_301747da_836d_11e9_ab52_b8763fd8451drow5_col4 {\n",
       "            background-color:  lightsalmon;\n",
       "        }    #T_301747da_836d_11e9_ab52_b8763fd8451drow5_col5 {\n",
       "            background-color :  salmon;\n",
       "        }    #T_301747da_836d_11e9_ab52_b8763fd8451drow5_col6 {\n",
       "            background-color :  white;\n",
       "        }    #T_301747da_836d_11e9_ab52_b8763fd8451drow5_col7 {\n",
       "            background-color :  white;\n",
       "        }    #T_301747da_836d_11e9_ab52_b8763fd8451drow5_col8 {\n",
       "            background-color :  white;\n",
       "        }    #T_301747da_836d_11e9_ab52_b8763fd8451drow6_col0 {\n",
       "            background-color :  white;\n",
       "        }    #T_301747da_836d_11e9_ab52_b8763fd8451drow6_col1 {\n",
       "            background-color:  peachpuff;\n",
       "        }    #T_301747da_836d_11e9_ab52_b8763fd8451drow6_col2 {\n",
       "            background-color :  white;\n",
       "        }    #T_301747da_836d_11e9_ab52_b8763fd8451drow6_col3 {\n",
       "            background-color:  peachpuff;\n",
       "        }    #T_301747da_836d_11e9_ab52_b8763fd8451drow6_col4 {\n",
       "            background-color:  peachpuff;\n",
       "        }    #T_301747da_836d_11e9_ab52_b8763fd8451drow6_col5 {\n",
       "            background-color :  white;\n",
       "        }    #T_301747da_836d_11e9_ab52_b8763fd8451drow6_col6 {\n",
       "            background-color :  salmon;\n",
       "        }    #T_301747da_836d_11e9_ab52_b8763fd8451drow6_col7 {\n",
       "            background-color :  white;\n",
       "        }    #T_301747da_836d_11e9_ab52_b8763fd8451drow6_col8 {\n",
       "            background-color:  peachpuff;\n",
       "        }    #T_301747da_836d_11e9_ab52_b8763fd8451drow7_col0 {\n",
       "            background-color:  peachpuff;\n",
       "        }    #T_301747da_836d_11e9_ab52_b8763fd8451drow7_col1 {\n",
       "            background-color :  white;\n",
       "        }    #T_301747da_836d_11e9_ab52_b8763fd8451drow7_col2 {\n",
       "            background-color:  peachpuff;\n",
       "        }    #T_301747da_836d_11e9_ab52_b8763fd8451drow7_col3 {\n",
       "            background-color:  peachpuff;\n",
       "        }    #T_301747da_836d_11e9_ab52_b8763fd8451drow7_col4 {\n",
       "            background-color :  white;\n",
       "        }    #T_301747da_836d_11e9_ab52_b8763fd8451drow7_col5 {\n",
       "            background-color :  white;\n",
       "        }    #T_301747da_836d_11e9_ab52_b8763fd8451drow7_col6 {\n",
       "            background-color :  white;\n",
       "        }    #T_301747da_836d_11e9_ab52_b8763fd8451drow7_col7 {\n",
       "            background-color :  salmon;\n",
       "        }    #T_301747da_836d_11e9_ab52_b8763fd8451drow7_col8 {\n",
       "            background-color :  salmon;\n",
       "        }    #T_301747da_836d_11e9_ab52_b8763fd8451drow8_col0 {\n",
       "            background-color :  white;\n",
       "        }    #T_301747da_836d_11e9_ab52_b8763fd8451drow8_col1 {\n",
       "            background-color :  white;\n",
       "        }    #T_301747da_836d_11e9_ab52_b8763fd8451drow8_col2 {\n",
       "            background-color:  peachpuff;\n",
       "        }    #T_301747da_836d_11e9_ab52_b8763fd8451drow8_col3 {\n",
       "            background-color:  peachpuff;\n",
       "        }    #T_301747da_836d_11e9_ab52_b8763fd8451drow8_col4 {\n",
       "            background-color :  white;\n",
       "        }    #T_301747da_836d_11e9_ab52_b8763fd8451drow8_col5 {\n",
       "            background-color :  white;\n",
       "        }    #T_301747da_836d_11e9_ab52_b8763fd8451drow8_col6 {\n",
       "            background-color:  peachpuff;\n",
       "        }    #T_301747da_836d_11e9_ab52_b8763fd8451drow8_col7 {\n",
       "            background-color :  salmon;\n",
       "        }    #T_301747da_836d_11e9_ab52_b8763fd8451drow8_col8 {\n",
       "            background-color :  salmon;\n",
       "        }</style>  \n",
       "<table id=\"T_301747da_836d_11e9_ab52_b8763fd8451d\" > \n",
       "<thead>    <tr> \n",
       "        <th class=\"blank level0\" ></th> \n",
       "        <th class=\"col_heading level0 col0\" >A-Q1_1</th> \n",
       "        <th class=\"col_heading level0 col1\" >A-Q1_2</th> \n",
       "        <th class=\"col_heading level0 col2\" >A-Q1_3</th> \n",
       "        <th class=\"col_heading level0 col3\" >A-Q1_4</th> \n",
       "        <th class=\"col_heading level0 col4\" >A-Q1_5</th> \n",
       "        <th class=\"col_heading level0 col5\" >A-Q1_6</th> \n",
       "        <th class=\"col_heading level0 col6\" >A-Q1_7</th> \n",
       "        <th class=\"col_heading level0 col7\" >A-Q1_8</th> \n",
       "        <th class=\"col_heading level0 col8\" >A-Q1_9</th> \n",
       "    </tr></thead> \n",
       "<tbody>    <tr> \n",
       "        <th id=\"T_301747da_836d_11e9_ab52_b8763fd8451dlevel0_row0\" class=\"row_heading level0 row0\" >A-Q1_1</th> \n",
       "        <td id=\"T_301747da_836d_11e9_ab52_b8763fd8451drow0_col0\" class=\"data row0 col0\" >1</td> \n",
       "        <td id=\"T_301747da_836d_11e9_ab52_b8763fd8451drow0_col1\" class=\"data row0 col1\" >0.132522</td> \n",
       "        <td id=\"T_301747da_836d_11e9_ab52_b8763fd8451drow0_col2\" class=\"data row0 col2\" >0.0694601</td> \n",
       "        <td id=\"T_301747da_836d_11e9_ab52_b8763fd8451drow0_col3\" class=\"data row0 col3\" >0.125091</td> \n",
       "        <td id=\"T_301747da_836d_11e9_ab52_b8763fd8451drow0_col4\" class=\"data row0 col4\" >0.224447</td> \n",
       "        <td id=\"T_301747da_836d_11e9_ab52_b8763fd8451drow0_col5\" class=\"data row0 col5\" >0.193484</td> \n",
       "        <td id=\"T_301747da_836d_11e9_ab52_b8763fd8451drow0_col6\" class=\"data row0 col6\" >-0.0490278</td> \n",
       "        <td id=\"T_301747da_836d_11e9_ab52_b8763fd8451drow0_col7\" class=\"data row0 col7\" >-0.135507</td> \n",
       "        <td id=\"T_301747da_836d_11e9_ab52_b8763fd8451drow0_col8\" class=\"data row0 col8\" >-0.0886636</td> \n",
       "    </tr>    <tr> \n",
       "        <th id=\"T_301747da_836d_11e9_ab52_b8763fd8451dlevel0_row1\" class=\"row_heading level0 row1\" >A-Q1_2</th> \n",
       "        <td id=\"T_301747da_836d_11e9_ab52_b8763fd8451drow1_col0\" class=\"data row1 col0\" >0.132522</td> \n",
       "        <td id=\"T_301747da_836d_11e9_ab52_b8763fd8451drow1_col1\" class=\"data row1 col1\" >1</td> \n",
       "        <td id=\"T_301747da_836d_11e9_ab52_b8763fd8451drow1_col2\" class=\"data row1 col2\" >0.301309</td> \n",
       "        <td id=\"T_301747da_836d_11e9_ab52_b8763fd8451drow1_col3\" class=\"data row1 col3\" >0.306467</td> \n",
       "        <td id=\"T_301747da_836d_11e9_ab52_b8763fd8451drow1_col4\" class=\"data row1 col4\" >0.495217</td> \n",
       "        <td id=\"T_301747da_836d_11e9_ab52_b8763fd8451drow1_col5\" class=\"data row1 col5\" >0.0970746</td> \n",
       "        <td id=\"T_301747da_836d_11e9_ab52_b8763fd8451drow1_col6\" class=\"data row1 col6\" >0.175292</td> \n",
       "        <td id=\"T_301747da_836d_11e9_ab52_b8763fd8451drow1_col7\" class=\"data row1 col7\" >0.0703732</td> \n",
       "        <td id=\"T_301747da_836d_11e9_ab52_b8763fd8451drow1_col8\" class=\"data row1 col8\" >0.0962808</td> \n",
       "    </tr>    <tr> \n",
       "        <th id=\"T_301747da_836d_11e9_ab52_b8763fd8451dlevel0_row2\" class=\"row_heading level0 row2\" >A-Q1_3</th> \n",
       "        <td id=\"T_301747da_836d_11e9_ab52_b8763fd8451drow2_col0\" class=\"data row2 col0\" >0.0694601</td> \n",
       "        <td id=\"T_301747da_836d_11e9_ab52_b8763fd8451drow2_col1\" class=\"data row2 col1\" >0.301309</td> \n",
       "        <td id=\"T_301747da_836d_11e9_ab52_b8763fd8451drow2_col2\" class=\"data row2 col2\" >1</td> \n",
       "        <td id=\"T_301747da_836d_11e9_ab52_b8763fd8451drow2_col3\" class=\"data row2 col3\" >0.487412</td> \n",
       "        <td id=\"T_301747da_836d_11e9_ab52_b8763fd8451drow2_col4\" class=\"data row2 col4\" >0.167133</td> \n",
       "        <td id=\"T_301747da_836d_11e9_ab52_b8763fd8451drow2_col5\" class=\"data row2 col5\" >0.0626609</td> \n",
       "        <td id=\"T_301747da_836d_11e9_ab52_b8763fd8451drow2_col6\" class=\"data row2 col6\" >-0.0557013</td> \n",
       "        <td id=\"T_301747da_836d_11e9_ab52_b8763fd8451drow2_col7\" class=\"data row2 col7\" >0.251617</td> \n",
       "        <td id=\"T_301747da_836d_11e9_ab52_b8763fd8451drow2_col8\" class=\"data row2 col8\" >0.213963</td> \n",
       "    </tr>    <tr> \n",
       "        <th id=\"T_301747da_836d_11e9_ab52_b8763fd8451dlevel0_row3\" class=\"row_heading level0 row3\" >A-Q1_4</th> \n",
       "        <td id=\"T_301747da_836d_11e9_ab52_b8763fd8451drow3_col0\" class=\"data row3 col0\" >0.125091</td> \n",
       "        <td id=\"T_301747da_836d_11e9_ab52_b8763fd8451drow3_col1\" class=\"data row3 col1\" >0.306467</td> \n",
       "        <td id=\"T_301747da_836d_11e9_ab52_b8763fd8451drow3_col2\" class=\"data row3 col2\" >0.487412</td> \n",
       "        <td id=\"T_301747da_836d_11e9_ab52_b8763fd8451drow3_col3\" class=\"data row3 col3\" >1</td> \n",
       "        <td id=\"T_301747da_836d_11e9_ab52_b8763fd8451drow3_col4\" class=\"data row3 col4\" >0.131262</td> \n",
       "        <td id=\"T_301747da_836d_11e9_ab52_b8763fd8451drow3_col5\" class=\"data row3 col5\" >-0.154285</td> \n",
       "        <td id=\"T_301747da_836d_11e9_ab52_b8763fd8451drow3_col6\" class=\"data row3 col6\" >-0.178026</td> \n",
       "        <td id=\"T_301747da_836d_11e9_ab52_b8763fd8451drow3_col7\" class=\"data row3 col7\" >0.190816</td> \n",
       "        <td id=\"T_301747da_836d_11e9_ab52_b8763fd8451drow3_col8\" class=\"data row3 col8\" >0.250478</td> \n",
       "    </tr>    <tr> \n",
       "        <th id=\"T_301747da_836d_11e9_ab52_b8763fd8451dlevel0_row4\" class=\"row_heading level0 row4\" >A-Q1_5</th> \n",
       "        <td id=\"T_301747da_836d_11e9_ab52_b8763fd8451drow4_col0\" class=\"data row4 col0\" >0.224447</td> \n",
       "        <td id=\"T_301747da_836d_11e9_ab52_b8763fd8451drow4_col1\" class=\"data row4 col1\" >0.495217</td> \n",
       "        <td id=\"T_301747da_836d_11e9_ab52_b8763fd8451drow4_col2\" class=\"data row4 col2\" >0.167133</td> \n",
       "        <td id=\"T_301747da_836d_11e9_ab52_b8763fd8451drow4_col3\" class=\"data row4 col3\" >0.131262</td> \n",
       "        <td id=\"T_301747da_836d_11e9_ab52_b8763fd8451drow4_col4\" class=\"data row4 col4\" >1</td> \n",
       "        <td id=\"T_301747da_836d_11e9_ab52_b8763fd8451drow4_col5\" class=\"data row4 col5\" >0.330421</td> \n",
       "        <td id=\"T_301747da_836d_11e9_ab52_b8763fd8451drow4_col6\" class=\"data row4 col6\" >0.174067</td> \n",
       "        <td id=\"T_301747da_836d_11e9_ab52_b8763fd8451drow4_col7\" class=\"data row4 col7\" >0.00763081</td> \n",
       "        <td id=\"T_301747da_836d_11e9_ab52_b8763fd8451drow4_col8\" class=\"data row4 col8\" >0.0835661</td> \n",
       "    </tr>    <tr> \n",
       "        <th id=\"T_301747da_836d_11e9_ab52_b8763fd8451dlevel0_row5\" class=\"row_heading level0 row5\" >A-Q1_6</th> \n",
       "        <td id=\"T_301747da_836d_11e9_ab52_b8763fd8451drow5_col0\" class=\"data row5 col0\" >0.193484</td> \n",
       "        <td id=\"T_301747da_836d_11e9_ab52_b8763fd8451drow5_col1\" class=\"data row5 col1\" >0.0970746</td> \n",
       "        <td id=\"T_301747da_836d_11e9_ab52_b8763fd8451drow5_col2\" class=\"data row5 col2\" >0.0626609</td> \n",
       "        <td id=\"T_301747da_836d_11e9_ab52_b8763fd8451drow5_col3\" class=\"data row5 col3\" >-0.154285</td> \n",
       "        <td id=\"T_301747da_836d_11e9_ab52_b8763fd8451drow5_col4\" class=\"data row5 col4\" >0.330421</td> \n",
       "        <td id=\"T_301747da_836d_11e9_ab52_b8763fd8451drow5_col5\" class=\"data row5 col5\" >1</td> \n",
       "        <td id=\"T_301747da_836d_11e9_ab52_b8763fd8451drow5_col6\" class=\"data row5 col6\" >0.00565735</td> \n",
       "        <td id=\"T_301747da_836d_11e9_ab52_b8763fd8451drow5_col7\" class=\"data row5 col7\" >0.0468537</td> \n",
       "        <td id=\"T_301747da_836d_11e9_ab52_b8763fd8451drow5_col8\" class=\"data row5 col8\" >-0.000488892</td> \n",
       "    </tr>    <tr> \n",
       "        <th id=\"T_301747da_836d_11e9_ab52_b8763fd8451dlevel0_row6\" class=\"row_heading level0 row6\" >A-Q1_7</th> \n",
       "        <td id=\"T_301747da_836d_11e9_ab52_b8763fd8451drow6_col0\" class=\"data row6 col0\" >-0.0490278</td> \n",
       "        <td id=\"T_301747da_836d_11e9_ab52_b8763fd8451drow6_col1\" class=\"data row6 col1\" >0.175292</td> \n",
       "        <td id=\"T_301747da_836d_11e9_ab52_b8763fd8451drow6_col2\" class=\"data row6 col2\" >-0.0557013</td> \n",
       "        <td id=\"T_301747da_836d_11e9_ab52_b8763fd8451drow6_col3\" class=\"data row6 col3\" >-0.178026</td> \n",
       "        <td id=\"T_301747da_836d_11e9_ab52_b8763fd8451drow6_col4\" class=\"data row6 col4\" >0.174067</td> \n",
       "        <td id=\"T_301747da_836d_11e9_ab52_b8763fd8451drow6_col5\" class=\"data row6 col5\" >0.00565735</td> \n",
       "        <td id=\"T_301747da_836d_11e9_ab52_b8763fd8451drow6_col6\" class=\"data row6 col6\" >1</td> \n",
       "        <td id=\"T_301747da_836d_11e9_ab52_b8763fd8451drow6_col7\" class=\"data row6 col7\" >-0.0535052</td> \n",
       "        <td id=\"T_301747da_836d_11e9_ab52_b8763fd8451drow6_col8\" class=\"data row6 col8\" >0.151171</td> \n",
       "    </tr>    <tr> \n",
       "        <th id=\"T_301747da_836d_11e9_ab52_b8763fd8451dlevel0_row7\" class=\"row_heading level0 row7\" >A-Q1_8</th> \n",
       "        <td id=\"T_301747da_836d_11e9_ab52_b8763fd8451drow7_col0\" class=\"data row7 col0\" >-0.135507</td> \n",
       "        <td id=\"T_301747da_836d_11e9_ab52_b8763fd8451drow7_col1\" class=\"data row7 col1\" >0.0703732</td> \n",
       "        <td id=\"T_301747da_836d_11e9_ab52_b8763fd8451drow7_col2\" class=\"data row7 col2\" >0.251617</td> \n",
       "        <td id=\"T_301747da_836d_11e9_ab52_b8763fd8451drow7_col3\" class=\"data row7 col3\" >0.190816</td> \n",
       "        <td id=\"T_301747da_836d_11e9_ab52_b8763fd8451drow7_col4\" class=\"data row7 col4\" >0.00763081</td> \n",
       "        <td id=\"T_301747da_836d_11e9_ab52_b8763fd8451drow7_col5\" class=\"data row7 col5\" >0.0468537</td> \n",
       "        <td id=\"T_301747da_836d_11e9_ab52_b8763fd8451drow7_col6\" class=\"data row7 col6\" >-0.0535052</td> \n",
       "        <td id=\"T_301747da_836d_11e9_ab52_b8763fd8451drow7_col7\" class=\"data row7 col7\" >1</td> \n",
       "        <td id=\"T_301747da_836d_11e9_ab52_b8763fd8451drow7_col8\" class=\"data row7 col8\" >0.543809</td> \n",
       "    </tr>    <tr> \n",
       "        <th id=\"T_301747da_836d_11e9_ab52_b8763fd8451dlevel0_row8\" class=\"row_heading level0 row8\" >A-Q1_9</th> \n",
       "        <td id=\"T_301747da_836d_11e9_ab52_b8763fd8451drow8_col0\" class=\"data row8 col0\" >-0.0886636</td> \n",
       "        <td id=\"T_301747da_836d_11e9_ab52_b8763fd8451drow8_col1\" class=\"data row8 col1\" >0.0962808</td> \n",
       "        <td id=\"T_301747da_836d_11e9_ab52_b8763fd8451drow8_col2\" class=\"data row8 col2\" >0.213963</td> \n",
       "        <td id=\"T_301747da_836d_11e9_ab52_b8763fd8451drow8_col3\" class=\"data row8 col3\" >0.250478</td> \n",
       "        <td id=\"T_301747da_836d_11e9_ab52_b8763fd8451drow8_col4\" class=\"data row8 col4\" >0.0835661</td> \n",
       "        <td id=\"T_301747da_836d_11e9_ab52_b8763fd8451drow8_col5\" class=\"data row8 col5\" >-0.000488892</td> \n",
       "        <td id=\"T_301747da_836d_11e9_ab52_b8763fd8451drow8_col6\" class=\"data row8 col6\" >0.151171</td> \n",
       "        <td id=\"T_301747da_836d_11e9_ab52_b8763fd8451drow8_col7\" class=\"data row8 col7\" >0.543809</td> \n",
       "        <td id=\"T_301747da_836d_11e9_ab52_b8763fd8451drow8_col8\" class=\"data row8 col8\" >1</td> \n",
       "    </tr></tbody> \n",
       "</table> "
      ],
      "text/plain": [
       "<pandas.io.formats.style.Styler at 0x1c341ac8>"
      ]
     },
     "execution_count": 34,
     "metadata": {},
     "output_type": "execute_result"
    }
   ],
   "source": [
    "Korr_A_Q1 = Daten[Liste_A_Q1].corr(method = 'spearman')\n",
    "Korr_A_Q1 = Korr_A_Q1.style.applymap(lambda x: 'background-color : salmon' if abs(x) > 0.5 \n",
    "                           else 'background-color: lightsalmon' if abs(x) > 0.3 and abs(x) <= 0.5\n",
    "                           else 'background-color: peachpuff' if abs(x) > 0.1 and abs(x) <= 0.3\n",
    "                           else 'background-color : white')\n",
    "Korr_A_Q1"
   ]
  },
  {
   "cell_type": "code",
   "execution_count": 35,
   "metadata": {},
   "outputs": [
    {
     "data": {
      "image/png": "[encoded data removed]",
      "text/plain": [
       "<Figure size 720x720 with 1 Axes>"
      ]
     },
     "metadata": {},
     "output_type": "display_data"
    }
   ],
   "source": [
    "graf_cplot(Daten[Liste_A_Q1[:7]],7,6)"
   ]
  },
  {
   "cell_type": "markdown",
   "metadata": {},
   "source": [
    "### Erschließungsstrategien im Unterricht"
   ]
  },
  {
   "cell_type": "markdown",
   "metadata": {},
   "source": [
    "#### B-Q1 (32 Einzelstrategien)"
   ]
  },
  {
   "cell_type": "code",
   "execution_count": 36,
   "metadata": {},
   "outputs": [
    {
     "data": {
      "image/png": "[encoded data removed]",
      "text/plain": [
       "<Figure size 504x720 with 1 Axes>"
      ]
     },
     "metadata": {},
     "output_type": "display_data"
    }
   ],
   "source": [
    "Daten[Liste_B_Q1].sum(axis=0).sort_values(ascending=True).plot(kind='barh', figsize=(7,10));"
   ]
  },
  {
   "cell_type": "code",
   "execution_count": 37,
   "metadata": {},
   "outputs": [
    {
     "data": {
      "text/plain": [
       "B-Q1_32    49\n",
       "B-Q1_2     47\n",
       "B-Q1_6     45\n",
       "B-Q1_20    45\n",
       "B-Q1_7     42\n",
       "B-Q1_13    40\n",
       "B-Q1_15    40\n",
       "B-Q1_18    39\n",
       "B-Q1_1     38\n",
       "B-Q1_16    38\n",
       "B-Q1_26    38\n",
       "B-Q1_8     37\n",
       "B-Q1_10    37\n",
       "B-Q1_19    37\n",
       "B-Q1_22    37\n",
       "B-Q1_9     36\n",
       "B-Q1_24    30\n",
       "B-Q1_4     30\n",
       "B-Q1_27    27\n",
       "B-Q1_17    27\n",
       "B-Q1_14    27\n",
       "B-Q1_12    27\n",
       "B-Q1_23    26\n",
       "B-Q1_3     25\n",
       "B-Q1_5     24\n",
       "B-Q1_11    23\n",
       "B-Q1_21    17\n",
       "B-Q1_25    13\n",
       "B-Q1_33     4\n",
       "dtype: int64"
      ]
     },
     "execution_count": 37,
     "metadata": {},
     "output_type": "execute_result"
    }
   ],
   "source": [
    "Daten[Liste_B_Q1].sum(axis=0).sort_values(ascending=False)"
   ]
  },
  {
   "cell_type": "markdown",
   "metadata": {},
   "source": [
    "- (1) Unbekannte deutsche Wörter mit gleich oder ähnlich geschriebenen Wörtern in der Muttersprache vergleichen\n",
    "- (2) Unbekannte deutsche Wörter mit gleich oder ähnlich geschriebenen Wörtern in Englisch vergleichen (z.B. dt. Licht - engl. light)\n",
    "- (3) Unbekannte deutsche Wörter mit gleich oder ähnlich geschriebenen Wörtern in anderen Sprachen vergleichen. Optional: Wenn Sie eine oder mehrere bestimmte Sprachen dafür empfehlen, können Sie sie hier angeben:\n",
    "- (32) Kenntnisse von Internationalismen nutzen (z.B. Akademie, Kaffee, Transport)\n",
    "- (4) Klangbild aktivieren, z.B. durch leises Vorsprechen oder Vorstellen des Klanges, um ähnlich klingende Wörter in der Muttersprache oder einer anderen Sprache zu finden (z.B. dt. Haus - engl. house)\n",
    "- (5) Kenntnisse über Lautentsprechungen zwischen Deutsch und anderen (germanischen) Sprachen und/oder über die historische Entwicklung der deutschen Sprache nutzen (z.B. engl. d - dt. t: day - Tag, p – f: hope – hoffen, ship - Schiff)\n",
    "- (6) Wissen über die Wortbildungsregeln des Deutschen nutzen (z.B. Kompositabildung, typische Endungen für bestimmte Wortarten)\n",
    "- (7) Aus Teilbedeutung zusammengesetzter Wörter (z.B. Stamm, Prä- und Suffixe, Teile von Komposita) auf die Gesamtbedeutung schließen\n",
    "- (8) Wissen über Bestandteile von Wörtern, die grammatische Funktionen anzeigen, nutzen (z.B. Plural oder Kasusmarkierungen für Substantive, typische Endungen von Verben in verschiedenen Zeitformen/Tempora etc.)\n",
    "- (9) Wissen über orthografische Regeln des Deutschen nutzen (z.B. Großschreibung der Substantive, Bindestriche in zusammengesetzten Wörtern, Punkt oder Komma als Strukturierungshilfen etc.)\n",
    "- (10) Wissen über die Satzstellung im Deutschen nutzen (z.B. Personalform des Verbes an zweiter Position im Satz, Verbal/Satzklammer etc.)\n",
    "- (11) Den grammatikalischen Aufbau von (Teil-)Sätzen analysieren, um Verbindungen zwischen bekannten und unbekannten Wörtern zu finden\n",
    "- (12) Die semantischen Beziehungen zwischen bekannten und unbekannten Wörtern analysieren\n",
    "- (13) Systematische lexikalische Beziehungen wie Synonyme, Antonyme, Reihungen, Über- und Unterbegriffe beachten\n",
    "- (14) Verwendung von Konnektoren und anderen Mitteln der Textverbindung wie Pronomen, Adverbien etc. beachten\n",
    "- (15) Erklärungshilfen im Text wie Paraphrasen, Definitionen, Erklärungen, Beispiele etc., die das unbekannte Wort umschreiben oder erklären, nutzen\n",
    "- (16) Logische Zusammenhänge im Text nutzen (z.B. Ursache – Wirkung, vorher – nachher etc.)\n",
    "- (17) Textsortenwissen nutzen\n",
    "- (18) Wissen über das im Text behandelte Thema nutzen\n",
    "- (19) Kulturspezifisches und landeskundliches Wissen nutzen (z.B. Namen berühmter Persönlichkeiten, geographische oder politische Informationen)\n",
    "- (20) Gesunden Menschenverstand und allgemeines Weltwissen nutzen\n",
    "- (21) Format und visuelle Textgestalt beachten (z.B. Layout, Schriftart und -größe, Hervorhebungen etc.)\n",
    "- (22) Bilder, Grafiken, Diagramme, audiovisuelle Elemente (auf Internetseiten) etc. nutzen\n",
    "- (23) Zahlen oder andere verständliche Zeichen nutzen\n",
    "- (24) Wissen über die Kommunikationssituation oder den Kontext der Veröffentlichung nutzen (z.B. Ort, Zeit, Situation, in der ein Text gefunden wurde)\n",
    "- (25) Hyperlinks beim Erschließen von unbekannten Wörtern in Texten im Internet nutzen\n",
    "- (26) Verschiedene Strategien kombinieren, um die Erschließung unbekannter Wörter abzusichern\n",
    "- (27) Erschließungsstrategien situationsabhängig einsetzen, z.B. nach Textsorte oder Schwierigkeitsgrad der Texte\n",
    "- (33) Andere:\n",
    "- (34) Keine"
   ]
  },
  {
   "cell_type": "code",
   "execution_count": 38,
   "metadata": {},
   "outputs": [
    {
     "data": {
      "text/plain": [
       "13                         demostrar imágenes en la red\n",
       "20    Präpositions- u. Morphementsprechungen, z.B. P...\n",
       "29                          Aplicaciones de traducción \n",
       "47                                        Gesticulación\n",
       "Name: B-Q1_33_TEXT, dtype: object"
      ]
     },
     "execution_count": 38,
     "metadata": {},
     "output_type": "execute_result"
    }
   ],
   "source": [
    "Daten[Daten['B-Q1_33_TEXT']!=0]['B-Q1_33_TEXT']"
   ]
  },
  {
   "cell_type": "markdown",
   "metadata": {},
   "source": [
    "#### B-Q2 (Methoden)"
   ]
  },
  {
   "cell_type": "code",
   "execution_count": 39,
   "metadata": {},
   "outputs": [
    {
     "data": {
      "text/html": [
       "<div>\n",
       "<style scoped>\n",
       "    .dataframe tbody tr th:only-of-type {\n",
       "        vertical-align: middle;\n",
       "    }\n",
       "\n",
       "    .dataframe tbody tr th {\n",
       "        vertical-align: top;\n",
       "    }\n",
       "\n",
       "    .dataframe thead th {\n",
       "        text-align: right;\n",
       "    }\n",
       "</style>\n",
       "<table border=\"1\" class=\"dataframe\">\n",
       "  <thead>\n",
       "    <tr style=\"text-align: right;\">\n",
       "      <th></th>\n",
       "      <th>B-Q2_1</th>\n",
       "      <th>B-Q2_2</th>\n",
       "      <th>B-Q2_3</th>\n",
       "      <th>B-Q2_4</th>\n",
       "      <th>B-Q2_5</th>\n",
       "      <th>B-Q2_6</th>\n",
       "      <th>B-Q2_8</th>\n",
       "    </tr>\n",
       "  </thead>\n",
       "  <tbody>\n",
       "    <tr>\n",
       "      <th>count</th>\n",
       "      <td>52.000000</td>\n",
       "      <td>53.000000</td>\n",
       "      <td>53.000000</td>\n",
       "      <td>53.000000</td>\n",
       "      <td>53.000000</td>\n",
       "      <td>53.000000</td>\n",
       "      <td>53.000000</td>\n",
       "    </tr>\n",
       "    <tr>\n",
       "      <th>mean</th>\n",
       "      <td>3.442308</td>\n",
       "      <td>3.169811</td>\n",
       "      <td>3.584906</td>\n",
       "      <td>2.886792</td>\n",
       "      <td>2.584906</td>\n",
       "      <td>3.113208</td>\n",
       "      <td>3.264151</td>\n",
       "    </tr>\n",
       "    <tr>\n",
       "      <th>std</th>\n",
       "      <td>1.036840</td>\n",
       "      <td>1.340721</td>\n",
       "      <td>1.150818</td>\n",
       "      <td>1.250544</td>\n",
       "      <td>1.183768</td>\n",
       "      <td>1.137818</td>\n",
       "      <td>1.346662</td>\n",
       "    </tr>\n",
       "    <tr>\n",
       "      <th>min</th>\n",
       "      <td>1.000000</td>\n",
       "      <td>1.000000</td>\n",
       "      <td>1.000000</td>\n",
       "      <td>1.000000</td>\n",
       "      <td>1.000000</td>\n",
       "      <td>1.000000</td>\n",
       "      <td>1.000000</td>\n",
       "    </tr>\n",
       "    <tr>\n",
       "      <th>25%</th>\n",
       "      <td>3.000000</td>\n",
       "      <td>2.000000</td>\n",
       "      <td>3.000000</td>\n",
       "      <td>2.000000</td>\n",
       "      <td>2.000000</td>\n",
       "      <td>3.000000</td>\n",
       "      <td>2.000000</td>\n",
       "    </tr>\n",
       "    <tr>\n",
       "      <th>50%</th>\n",
       "      <td>3.000000</td>\n",
       "      <td>3.000000</td>\n",
       "      <td>4.000000</td>\n",
       "      <td>3.000000</td>\n",
       "      <td>2.000000</td>\n",
       "      <td>3.000000</td>\n",
       "      <td>3.000000</td>\n",
       "    </tr>\n",
       "    <tr>\n",
       "      <th>75%</th>\n",
       "      <td>4.000000</td>\n",
       "      <td>4.000000</td>\n",
       "      <td>5.000000</td>\n",
       "      <td>4.000000</td>\n",
       "      <td>3.000000</td>\n",
       "      <td>4.000000</td>\n",
       "      <td>4.000000</td>\n",
       "    </tr>\n",
       "    <tr>\n",
       "      <th>max</th>\n",
       "      <td>5.000000</td>\n",
       "      <td>5.000000</td>\n",
       "      <td>5.000000</td>\n",
       "      <td>5.000000</td>\n",
       "      <td>5.000000</td>\n",
       "      <td>5.000000</td>\n",
       "      <td>5.000000</td>\n",
       "    </tr>\n",
       "  </tbody>\n",
       "</table>\n",
       "</div>"
      ],
      "text/plain": [
       "          B-Q2_1     B-Q2_2     B-Q2_3     B-Q2_4     B-Q2_5     B-Q2_6  \\\n",
       "count  52.000000  53.000000  53.000000  53.000000  53.000000  53.000000   \n",
       "mean    3.442308   3.169811   3.584906   2.886792   2.584906   3.113208   \n",
       "std     1.036840   1.340721   1.150818   1.250544   1.183768   1.137818   \n",
       "min     1.000000   1.000000   1.000000   1.000000   1.000000   1.000000   \n",
       "25%     3.000000   2.000000   3.000000   2.000000   2.000000   3.000000   \n",
       "50%     3.000000   3.000000   4.000000   3.000000   2.000000   3.000000   \n",
       "75%     4.000000   4.000000   5.000000   4.000000   3.000000   4.000000   \n",
       "max     5.000000   5.000000   5.000000   5.000000   5.000000   5.000000   \n",
       "\n",
       "          B-Q2_8  \n",
       "count  53.000000  \n",
       "mean    3.264151  \n",
       "std     1.346662  \n",
       "min     1.000000  \n",
       "25%     2.000000  \n",
       "50%     3.000000  \n",
       "75%     4.000000  \n",
       "max     5.000000  "
      ]
     },
     "execution_count": 39,
     "metadata": {},
     "output_type": "execute_result"
    }
   ],
   "source": [
    "Daten[Daten[Liste_B_Q2] != 0][Liste_B_Q2].describe()"
   ]
  },
  {
   "cell_type": "code",
   "execution_count": 40,
   "metadata": {},
   "outputs": [
    {
     "data": {
      "image/png": "[encoded data removed]",
      "text/plain": [
       "<Figure size 576x360 with 1 Axes>"
      ]
     },
     "metadata": {},
     "output_type": "display_data"
    }
   ],
   "source": [
    "graf_likert(Daten[Daten[Liste_B_Q2] != 0],Liste_B_Q2,5)"
   ]
  },
  {
   "cell_type": "code",
   "execution_count": 41,
   "metadata": {},
   "outputs": [
    {
     "data": {
      "image/png": "[encoded data removed]",
      "text/plain": [
       "<Figure size 1152x576 with 7 Axes>"
      ]
     },
     "metadata": {},
     "output_type": "display_data"
    }
   ],
   "source": [
    "graf_hist(Daten,Liste_B_Q2,16,8,2,4)"
   ]
  },
  {
   "cell_type": "code",
   "execution_count": 42,
   "metadata": {},
   "outputs": [
    {
     "data": {
      "text/plain": [
       "B-Q2_3    3.584906\n",
       "B-Q2_1    3.377358\n",
       "B-Q2_8    3.264151\n",
       "B-Q2_2    3.169811\n",
       "B-Q2_6    3.113208\n",
       "B-Q2_4    2.886792\n",
       "B-Q2_5    2.584906\n",
       "dtype: float64"
      ]
     },
     "execution_count": 42,
     "metadata": {},
     "output_type": "execute_result"
    }
   ],
   "source": [
    "Daten[Liste_B_Q2].mean().sort_values(ascending = False)"
   ]
  },
  {
   "cell_type": "code",
   "execution_count": 43,
   "metadata": {},
   "outputs": [
    {
     "data": {
      "text/plain": [
       "B-Q2_1    3.0\n",
       "B-Q2_2    3.0\n",
       "B-Q2_3    4.0\n",
       "B-Q2_4    3.0\n",
       "B-Q2_5    2.0\n",
       "B-Q2_6    3.0\n",
       "B-Q2_8    3.0\n",
       "dtype: float64"
      ]
     },
     "execution_count": 43,
     "metadata": {},
     "output_type": "execute_result"
    }
   ],
   "source": [
    "Daten[Liste_B_Q2].median()"
   ]
  },
  {
   "cell_type": "code",
   "execution_count": 44,
   "metadata": {},
   "outputs": [
    {
     "data": {
      "text/html": [
       "<div>\n",
       "<style scoped>\n",
       "    .dataframe tbody tr th:only-of-type {\n",
       "        vertical-align: middle;\n",
       "    }\n",
       "\n",
       "    .dataframe tbody tr th {\n",
       "        vertical-align: top;\n",
       "    }\n",
       "\n",
       "    .dataframe thead th {\n",
       "        text-align: right;\n",
       "    }\n",
       "</style>\n",
       "<table border=\"1\" class=\"dataframe\">\n",
       "  <thead>\n",
       "    <tr style=\"text-align: right;\">\n",
       "      <th></th>\n",
       "      <th>0</th>\n",
       "      <th>1</th>\n",
       "    </tr>\n",
       "  </thead>\n",
       "  <tbody>\n",
       "    <tr>\n",
       "      <th>B-Q2_1</th>\n",
       "      <td>3.0</td>\n",
       "      <td>NaN</td>\n",
       "    </tr>\n",
       "    <tr>\n",
       "      <th>B-Q2_2</th>\n",
       "      <td>3.0</td>\n",
       "      <td>NaN</td>\n",
       "    </tr>\n",
       "    <tr>\n",
       "      <th>B-Q2_3</th>\n",
       "      <td>4.0</td>\n",
       "      <td>NaN</td>\n",
       "    </tr>\n",
       "    <tr>\n",
       "      <th>B-Q2_4</th>\n",
       "      <td>3.0</td>\n",
       "      <td>NaN</td>\n",
       "    </tr>\n",
       "    <tr>\n",
       "      <th>B-Q2_5</th>\n",
       "      <td>2.0</td>\n",
       "      <td>NaN</td>\n",
       "    </tr>\n",
       "    <tr>\n",
       "      <th>B-Q2_6</th>\n",
       "      <td>3.0</td>\n",
       "      <td>4.0</td>\n",
       "    </tr>\n",
       "    <tr>\n",
       "      <th>B-Q2_8</th>\n",
       "      <td>4.0</td>\n",
       "      <td>NaN</td>\n",
       "    </tr>\n",
       "  </tbody>\n",
       "</table>\n",
       "</div>"
      ],
      "text/plain": [
       "          0    1\n",
       "B-Q2_1  3.0  NaN\n",
       "B-Q2_2  3.0  NaN\n",
       "B-Q2_3  4.0  NaN\n",
       "B-Q2_4  3.0  NaN\n",
       "B-Q2_5  2.0  NaN\n",
       "B-Q2_6  3.0  4.0\n",
       "B-Q2_8  4.0  NaN"
      ]
     },
     "execution_count": 44,
     "metadata": {},
     "output_type": "execute_result"
    }
   ],
   "source": [
    "Daten[Liste_B_Q2].mode().T"
   ]
  },
  {
   "cell_type": "markdown",
   "metadata": {},
   "source": [
    "1\n",
    "Estas estrategias se presentan (y explican) en clase.\n",
    "\n",
    "2\n",
    "Los estudiantes reciben consejos sobre cómo familiarizarse de manera autónoma con estas estrategias, p. ej. mediante páginas web, libros u otros materiales sobre estrategias de aprendizaje. \n",
    "\n",
    "3\n",
    "Estas estrategias se explican y se practican con ejemplos conretos, realizando tareas, p. ej. leyendo un texto difícil.\n",
    "\n",
    "8\n",
    "Se pregunta a los estudiantes sobre sus conocimientos previos, p. ej. qué estrategias conocen y/o saben utilizar. \n",
    "\n",
    "4\n",
    "Se prueban y se comparan diferentes estrategias.\n",
    "\n",
    "5\n",
    "Se reflexiona sobre el uso de estas estrategias, p. ej. sobre qué estrategia sería adecuada en una situación y/o para una persona determinada.\n",
    "\n",
    "6\n",
    "Los estudiantes adquieren estas estrategias de manera inconsciente durante las clases, p. ej. mientras leen textos difíciles, sin que se requiera una explicación o indicación específica."
   ]
  },
  {
   "cell_type": "markdown",
   "metadata": {},
   "source": [
    "Korrelation in B-Q2:"
   ]
  },
  {
   "cell_type": "code",
   "execution_count": 45,
   "metadata": {},
   "outputs": [
    {
     "data": {
      "text/html": [
       "<style  type=\"text/css\" >\n",
       "    #T_3241e87a_836d_11e9_a770_b8763fd8451drow0_col0 {\n",
       "            background-color :  salmon;\n",
       "        }    #T_3241e87a_836d_11e9_a770_b8763fd8451drow0_col1 {\n",
       "            background-color:  peachpuff;\n",
       "        }    #T_3241e87a_836d_11e9_a770_b8763fd8451drow0_col2 {\n",
       "            background-color:  lightsalmon;\n",
       "        }    #T_3241e87a_836d_11e9_a770_b8763fd8451drow0_col3 {\n",
       "            background-color:  lightsalmon;\n",
       "        }    #T_3241e87a_836d_11e9_a770_b8763fd8451drow0_col4 {\n",
       "            background-color:  lightsalmon;\n",
       "        }    #T_3241e87a_836d_11e9_a770_b8763fd8451drow0_col5 {\n",
       "            background-color:  peachpuff;\n",
       "        }    #T_3241e87a_836d_11e9_a770_b8763fd8451drow0_col6 {\n",
       "            background-color:  lightsalmon;\n",
       "        }    #T_3241e87a_836d_11e9_a770_b8763fd8451drow1_col0 {\n",
       "            background-color:  peachpuff;\n",
       "        }    #T_3241e87a_836d_11e9_a770_b8763fd8451drow1_col1 {\n",
       "            background-color :  salmon;\n",
       "        }    #T_3241e87a_836d_11e9_a770_b8763fd8451drow1_col2 {\n",
       "            background-color:  lightsalmon;\n",
       "        }    #T_3241e87a_836d_11e9_a770_b8763fd8451drow1_col3 {\n",
       "            background-color :  salmon;\n",
       "        }    #T_3241e87a_836d_11e9_a770_b8763fd8451drow1_col4 {\n",
       "            background-color :  salmon;\n",
       "        }    #T_3241e87a_836d_11e9_a770_b8763fd8451drow1_col5 {\n",
       "            background-color:  peachpuff;\n",
       "        }    #T_3241e87a_836d_11e9_a770_b8763fd8451drow1_col6 {\n",
       "            background-color:  lightsalmon;\n",
       "        }    #T_3241e87a_836d_11e9_a770_b8763fd8451drow2_col0 {\n",
       "            background-color:  lightsalmon;\n",
       "        }    #T_3241e87a_836d_11e9_a770_b8763fd8451drow2_col1 {\n",
       "            background-color:  lightsalmon;\n",
       "        }    #T_3241e87a_836d_11e9_a770_b8763fd8451drow2_col2 {\n",
       "            background-color :  salmon;\n",
       "        }    #T_3241e87a_836d_11e9_a770_b8763fd8451drow2_col3 {\n",
       "            background-color :  salmon;\n",
       "        }    #T_3241e87a_836d_11e9_a770_b8763fd8451drow2_col4 {\n",
       "            background-color:  lightsalmon;\n",
       "        }    #T_3241e87a_836d_11e9_a770_b8763fd8451drow2_col5 {\n",
       "            background-color:  peachpuff;\n",
       "        }    #T_3241e87a_836d_11e9_a770_b8763fd8451drow2_col6 {\n",
       "            background-color:  lightsalmon;\n",
       "        }    #T_3241e87a_836d_11e9_a770_b8763fd8451drow3_col0 {\n",
       "            background-color:  lightsalmon;\n",
       "        }    #T_3241e87a_836d_11e9_a770_b8763fd8451drow3_col1 {\n",
       "            background-color :  salmon;\n",
       "        }    #T_3241e87a_836d_11e9_a770_b8763fd8451drow3_col2 {\n",
       "            background-color :  salmon;\n",
       "        }    #T_3241e87a_836d_11e9_a770_b8763fd8451drow3_col3 {\n",
       "            background-color :  salmon;\n",
       "        }    #T_3241e87a_836d_11e9_a770_b8763fd8451drow3_col4 {\n",
       "            background-color :  salmon;\n",
       "        }    #T_3241e87a_836d_11e9_a770_b8763fd8451drow3_col5 {\n",
       "            background-color:  peachpuff;\n",
       "        }    #T_3241e87a_836d_11e9_a770_b8763fd8451drow3_col6 {\n",
       "            background-color :  salmon;\n",
       "        }    #T_3241e87a_836d_11e9_a770_b8763fd8451drow4_col0 {\n",
       "            background-color:  lightsalmon;\n",
       "        }    #T_3241e87a_836d_11e9_a770_b8763fd8451drow4_col1 {\n",
       "            background-color :  salmon;\n",
       "        }    #T_3241e87a_836d_11e9_a770_b8763fd8451drow4_col2 {\n",
       "            background-color:  lightsalmon;\n",
       "        }    #T_3241e87a_836d_11e9_a770_b8763fd8451drow4_col3 {\n",
       "            background-color :  salmon;\n",
       "        }    #T_3241e87a_836d_11e9_a770_b8763fd8451drow4_col4 {\n",
       "            background-color :  salmon;\n",
       "        }    #T_3241e87a_836d_11e9_a770_b8763fd8451drow4_col5 {\n",
       "            background-color:  peachpuff;\n",
       "        }    #T_3241e87a_836d_11e9_a770_b8763fd8451drow4_col6 {\n",
       "            background-color :  salmon;\n",
       "        }    #T_3241e87a_836d_11e9_a770_b8763fd8451drow5_col0 {\n",
       "            background-color:  peachpuff;\n",
       "        }    #T_3241e87a_836d_11e9_a770_b8763fd8451drow5_col1 {\n",
       "            background-color:  peachpuff;\n",
       "        }    #T_3241e87a_836d_11e9_a770_b8763fd8451drow5_col2 {\n",
       "            background-color:  peachpuff;\n",
       "        }    #T_3241e87a_836d_11e9_a770_b8763fd8451drow5_col3 {\n",
       "            background-color:  peachpuff;\n",
       "        }    #T_3241e87a_836d_11e9_a770_b8763fd8451drow5_col4 {\n",
       "            background-color:  peachpuff;\n",
       "        }    #T_3241e87a_836d_11e9_a770_b8763fd8451drow5_col5 {\n",
       "            background-color :  salmon;\n",
       "        }    #T_3241e87a_836d_11e9_a770_b8763fd8451drow5_col6 {\n",
       "            background-color :  white;\n",
       "        }    #T_3241e87a_836d_11e9_a770_b8763fd8451drow6_col0 {\n",
       "            background-color:  lightsalmon;\n",
       "        }    #T_3241e87a_836d_11e9_a770_b8763fd8451drow6_col1 {\n",
       "            background-color:  lightsalmon;\n",
       "        }    #T_3241e87a_836d_11e9_a770_b8763fd8451drow6_col2 {\n",
       "            background-color:  lightsalmon;\n",
       "        }    #T_3241e87a_836d_11e9_a770_b8763fd8451drow6_col3 {\n",
       "            background-color :  salmon;\n",
       "        }    #T_3241e87a_836d_11e9_a770_b8763fd8451drow6_col4 {\n",
       "            background-color :  salmon;\n",
       "        }    #T_3241e87a_836d_11e9_a770_b8763fd8451drow6_col5 {\n",
       "            background-color :  white;\n",
       "        }    #T_3241e87a_836d_11e9_a770_b8763fd8451drow6_col6 {\n",
       "            background-color :  salmon;\n",
       "        }</style>  \n",
       "<table id=\"T_3241e87a_836d_11e9_a770_b8763fd8451d\" > \n",
       "<thead>    <tr> \n",
       "        <th class=\"blank level0\" ></th> \n",
       "        <th class=\"col_heading level0 col0\" >B-Q2_1</th> \n",
       "        <th class=\"col_heading level0 col1\" >B-Q2_2</th> \n",
       "        <th class=\"col_heading level0 col2\" >B-Q2_3</th> \n",
       "        <th class=\"col_heading level0 col3\" >B-Q2_4</th> \n",
       "        <th class=\"col_heading level0 col4\" >B-Q2_5</th> \n",
       "        <th class=\"col_heading level0 col5\" >B-Q2_6</th> \n",
       "        <th class=\"col_heading level0 col6\" >B-Q2_8</th> \n",
       "    </tr></thead> \n",
       "<tbody>    <tr> \n",
       "        <th id=\"T_3241e87a_836d_11e9_a770_b8763fd8451dlevel0_row0\" class=\"row_heading level0 row0\" >B-Q2_1</th> \n",
       "        <td id=\"T_3241e87a_836d_11e9_a770_b8763fd8451drow0_col0\" class=\"data row0 col0\" >1</td> \n",
       "        <td id=\"T_3241e87a_836d_11e9_a770_b8763fd8451drow0_col1\" class=\"data row0 col1\" >0.293602</td> \n",
       "        <td id=\"T_3241e87a_836d_11e9_a770_b8763fd8451drow0_col2\" class=\"data row0 col2\" >0.49547</td> \n",
       "        <td id=\"T_3241e87a_836d_11e9_a770_b8763fd8451drow0_col3\" class=\"data row0 col3\" >0.469069</td> \n",
       "        <td id=\"T_3241e87a_836d_11e9_a770_b8763fd8451drow0_col4\" class=\"data row0 col4\" >0.422838</td> \n",
       "        <td id=\"T_3241e87a_836d_11e9_a770_b8763fd8451drow0_col5\" class=\"data row0 col5\" >-0.261718</td> \n",
       "        <td id=\"T_3241e87a_836d_11e9_a770_b8763fd8451drow0_col6\" class=\"data row0 col6\" >0.312751</td> \n",
       "    </tr>    <tr> \n",
       "        <th id=\"T_3241e87a_836d_11e9_a770_b8763fd8451dlevel0_row1\" class=\"row_heading level0 row1\" >B-Q2_2</th> \n",
       "        <td id=\"T_3241e87a_836d_11e9_a770_b8763fd8451drow1_col0\" class=\"data row1 col0\" >0.293602</td> \n",
       "        <td id=\"T_3241e87a_836d_11e9_a770_b8763fd8451drow1_col1\" class=\"data row1 col1\" >1</td> \n",
       "        <td id=\"T_3241e87a_836d_11e9_a770_b8763fd8451drow1_col2\" class=\"data row1 col2\" >0.410764</td> \n",
       "        <td id=\"T_3241e87a_836d_11e9_a770_b8763fd8451drow1_col3\" class=\"data row1 col3\" >0.534444</td> \n",
       "        <td id=\"T_3241e87a_836d_11e9_a770_b8763fd8451drow1_col4\" class=\"data row1 col4\" >0.539396</td> \n",
       "        <td id=\"T_3241e87a_836d_11e9_a770_b8763fd8451drow1_col5\" class=\"data row1 col5\" >-0.15774</td> \n",
       "        <td id=\"T_3241e87a_836d_11e9_a770_b8763fd8451drow1_col6\" class=\"data row1 col6\" >0.43376</td> \n",
       "    </tr>    <tr> \n",
       "        <th id=\"T_3241e87a_836d_11e9_a770_b8763fd8451dlevel0_row2\" class=\"row_heading level0 row2\" >B-Q2_3</th> \n",
       "        <td id=\"T_3241e87a_836d_11e9_a770_b8763fd8451drow2_col0\" class=\"data row2 col0\" >0.49547</td> \n",
       "        <td id=\"T_3241e87a_836d_11e9_a770_b8763fd8451drow2_col1\" class=\"data row2 col1\" >0.410764</td> \n",
       "        <td id=\"T_3241e87a_836d_11e9_a770_b8763fd8451drow2_col2\" class=\"data row2 col2\" >1</td> \n",
       "        <td id=\"T_3241e87a_836d_11e9_a770_b8763fd8451drow2_col3\" class=\"data row2 col3\" >0.537399</td> \n",
       "        <td id=\"T_3241e87a_836d_11e9_a770_b8763fd8451drow2_col4\" class=\"data row2 col4\" >0.446591</td> \n",
       "        <td id=\"T_3241e87a_836d_11e9_a770_b8763fd8451drow2_col5\" class=\"data row2 col5\" >-0.217229</td> \n",
       "        <td id=\"T_3241e87a_836d_11e9_a770_b8763fd8451drow2_col6\" class=\"data row2 col6\" >0.343681</td> \n",
       "    </tr>    <tr> \n",
       "        <th id=\"T_3241e87a_836d_11e9_a770_b8763fd8451dlevel0_row3\" class=\"row_heading level0 row3\" >B-Q2_4</th> \n",
       "        <td id=\"T_3241e87a_836d_11e9_a770_b8763fd8451drow3_col0\" class=\"data row3 col0\" >0.469069</td> \n",
       "        <td id=\"T_3241e87a_836d_11e9_a770_b8763fd8451drow3_col1\" class=\"data row3 col1\" >0.534444</td> \n",
       "        <td id=\"T_3241e87a_836d_11e9_a770_b8763fd8451drow3_col2\" class=\"data row3 col2\" >0.537399</td> \n",
       "        <td id=\"T_3241e87a_836d_11e9_a770_b8763fd8451drow3_col3\" class=\"data row3 col3\" >1</td> \n",
       "        <td id=\"T_3241e87a_836d_11e9_a770_b8763fd8451drow3_col4\" class=\"data row3 col4\" >0.745484</td> \n",
       "        <td id=\"T_3241e87a_836d_11e9_a770_b8763fd8451drow3_col5\" class=\"data row3 col5\" >-0.123381</td> \n",
       "        <td id=\"T_3241e87a_836d_11e9_a770_b8763fd8451drow3_col6\" class=\"data row3 col6\" >0.613925</td> \n",
       "    </tr>    <tr> \n",
       "        <th id=\"T_3241e87a_836d_11e9_a770_b8763fd8451dlevel0_row4\" class=\"row_heading level0 row4\" >B-Q2_5</th> \n",
       "        <td id=\"T_3241e87a_836d_11e9_a770_b8763fd8451drow4_col0\" class=\"data row4 col0\" >0.422838</td> \n",
       "        <td id=\"T_3241e87a_836d_11e9_a770_b8763fd8451drow4_col1\" class=\"data row4 col1\" >0.539396</td> \n",
       "        <td id=\"T_3241e87a_836d_11e9_a770_b8763fd8451drow4_col2\" class=\"data row4 col2\" >0.446591</td> \n",
       "        <td id=\"T_3241e87a_836d_11e9_a770_b8763fd8451drow4_col3\" class=\"data row4 col3\" >0.745484</td> \n",
       "        <td id=\"T_3241e87a_836d_11e9_a770_b8763fd8451drow4_col4\" class=\"data row4 col4\" >1</td> \n",
       "        <td id=\"T_3241e87a_836d_11e9_a770_b8763fd8451drow4_col5\" class=\"data row4 col5\" >-0.1241</td> \n",
       "        <td id=\"T_3241e87a_836d_11e9_a770_b8763fd8451drow4_col6\" class=\"data row4 col6\" >0.519677</td> \n",
       "    </tr>    <tr> \n",
       "        <th id=\"T_3241e87a_836d_11e9_a770_b8763fd8451dlevel0_row5\" class=\"row_heading level0 row5\" >B-Q2_6</th> \n",
       "        <td id=\"T_3241e87a_836d_11e9_a770_b8763fd8451drow5_col0\" class=\"data row5 col0\" >-0.261718</td> \n",
       "        <td id=\"T_3241e87a_836d_11e9_a770_b8763fd8451drow5_col1\" class=\"data row5 col1\" >-0.15774</td> \n",
       "        <td id=\"T_3241e87a_836d_11e9_a770_b8763fd8451drow5_col2\" class=\"data row5 col2\" >-0.217229</td> \n",
       "        <td id=\"T_3241e87a_836d_11e9_a770_b8763fd8451drow5_col3\" class=\"data row5 col3\" >-0.123381</td> \n",
       "        <td id=\"T_3241e87a_836d_11e9_a770_b8763fd8451drow5_col4\" class=\"data row5 col4\" >-0.1241</td> \n",
       "        <td id=\"T_3241e87a_836d_11e9_a770_b8763fd8451drow5_col5\" class=\"data row5 col5\" >1</td> \n",
       "        <td id=\"T_3241e87a_836d_11e9_a770_b8763fd8451drow5_col6\" class=\"data row5 col6\" >0.0274933</td> \n",
       "    </tr>    <tr> \n",
       "        <th id=\"T_3241e87a_836d_11e9_a770_b8763fd8451dlevel0_row6\" class=\"row_heading level0 row6\" >B-Q2_8</th> \n",
       "        <td id=\"T_3241e87a_836d_11e9_a770_b8763fd8451drow6_col0\" class=\"data row6 col0\" >0.312751</td> \n",
       "        <td id=\"T_3241e87a_836d_11e9_a770_b8763fd8451drow6_col1\" class=\"data row6 col1\" >0.43376</td> \n",
       "        <td id=\"T_3241e87a_836d_11e9_a770_b8763fd8451drow6_col2\" class=\"data row6 col2\" >0.343681</td> \n",
       "        <td id=\"T_3241e87a_836d_11e9_a770_b8763fd8451drow6_col3\" class=\"data row6 col3\" >0.613925</td> \n",
       "        <td id=\"T_3241e87a_836d_11e9_a770_b8763fd8451drow6_col4\" class=\"data row6 col4\" >0.519677</td> \n",
       "        <td id=\"T_3241e87a_836d_11e9_a770_b8763fd8451drow6_col5\" class=\"data row6 col5\" >0.0274933</td> \n",
       "        <td id=\"T_3241e87a_836d_11e9_a770_b8763fd8451drow6_col6\" class=\"data row6 col6\" >1</td> \n",
       "    </tr></tbody> \n",
       "</table> "
      ],
      "text/plain": [
       "<pandas.io.formats.style.Styler at 0x1bba2b00>"
      ]
     },
     "execution_count": 45,
     "metadata": {},
     "output_type": "execute_result"
    }
   ],
   "source": [
    "Korr_B_Q2 = Daten[Liste_B_Q2].corr(method = 'spearman')\n",
    "Korr_B_Q2 = Korr_B_Q2.style.applymap(lambda x: 'background-color : salmon' if abs(x) > 0.5 \n",
    "                           else 'background-color: lightsalmon' if abs(x) > 0.3 and abs(x) <= 0.5\n",
    "                           else 'background-color: peachpuff' if abs(x) > 0.1 and abs(x) <= 0.3\n",
    "                           else 'background-color : white')\n",
    "Korr_B_Q2"
   ]
  },
  {
   "cell_type": "markdown",
   "metadata": {},
   "source": [
    "#### B-Q3 (Quellen und Material)"
   ]
  },
  {
   "cell_type": "code",
   "execution_count": 46,
   "metadata": {},
   "outputs": [
    {
     "data": {
      "text/html": [
       "<div>\n",
       "<style scoped>\n",
       "    .dataframe tbody tr th:only-of-type {\n",
       "        vertical-align: middle;\n",
       "    }\n",
       "\n",
       "    .dataframe tbody tr th {\n",
       "        vertical-align: top;\n",
       "    }\n",
       "\n",
       "    .dataframe thead th {\n",
       "        text-align: right;\n",
       "    }\n",
       "</style>\n",
       "<table border=\"1\" class=\"dataframe\">\n",
       "  <thead>\n",
       "    <tr style=\"text-align: right;\">\n",
       "      <th></th>\n",
       "      <th>B-Q3_1</th>\n",
       "      <th>B-Q3_2</th>\n",
       "      <th>B-Q3_3</th>\n",
       "      <th>B-Q3_4</th>\n",
       "      <th>B-Q3_5</th>\n",
       "      <th>B-Q3_6</th>\n",
       "      <th>B-Q3_7</th>\n",
       "      <th>B-Q3_8</th>\n",
       "    </tr>\n",
       "  </thead>\n",
       "  <tbody>\n",
       "    <tr>\n",
       "      <th>count</th>\n",
       "      <td>53.000000</td>\n",
       "      <td>51.000000</td>\n",
       "      <td>52.000000</td>\n",
       "      <td>53.000000</td>\n",
       "      <td>48.000000</td>\n",
       "      <td>50.000000</td>\n",
       "      <td>52.000000</td>\n",
       "      <td>51.000000</td>\n",
       "    </tr>\n",
       "    <tr>\n",
       "      <th>mean</th>\n",
       "      <td>2.547170</td>\n",
       "      <td>2.607843</td>\n",
       "      <td>2.576923</td>\n",
       "      <td>2.962264</td>\n",
       "      <td>2.895833</td>\n",
       "      <td>2.240000</td>\n",
       "      <td>2.846154</td>\n",
       "      <td>2.764706</td>\n",
       "    </tr>\n",
       "    <tr>\n",
       "      <th>std</th>\n",
       "      <td>1.136222</td>\n",
       "      <td>1.327832</td>\n",
       "      <td>1.391094</td>\n",
       "      <td>1.159613</td>\n",
       "      <td>1.275624</td>\n",
       "      <td>1.333401</td>\n",
       "      <td>1.334087</td>\n",
       "      <td>1.491150</td>\n",
       "    </tr>\n",
       "    <tr>\n",
       "      <th>min</th>\n",
       "      <td>1.000000</td>\n",
       "      <td>1.000000</td>\n",
       "      <td>1.000000</td>\n",
       "      <td>1.000000</td>\n",
       "      <td>1.000000</td>\n",
       "      <td>1.000000</td>\n",
       "      <td>1.000000</td>\n",
       "      <td>1.000000</td>\n",
       "    </tr>\n",
       "    <tr>\n",
       "      <th>25%</th>\n",
       "      <td>2.000000</td>\n",
       "      <td>2.000000</td>\n",
       "      <td>1.000000</td>\n",
       "      <td>2.000000</td>\n",
       "      <td>2.000000</td>\n",
       "      <td>1.000000</td>\n",
       "      <td>2.000000</td>\n",
       "      <td>1.000000</td>\n",
       "    </tr>\n",
       "    <tr>\n",
       "      <th>50%</th>\n",
       "      <td>2.000000</td>\n",
       "      <td>2.000000</td>\n",
       "      <td>2.000000</td>\n",
       "      <td>3.000000</td>\n",
       "      <td>3.000000</td>\n",
       "      <td>2.000000</td>\n",
       "      <td>3.000000</td>\n",
       "      <td>3.000000</td>\n",
       "    </tr>\n",
       "    <tr>\n",
       "      <th>75%</th>\n",
       "      <td>3.000000</td>\n",
       "      <td>3.000000</td>\n",
       "      <td>4.000000</td>\n",
       "      <td>4.000000</td>\n",
       "      <td>4.000000</td>\n",
       "      <td>3.000000</td>\n",
       "      <td>4.000000</td>\n",
       "      <td>4.000000</td>\n",
       "    </tr>\n",
       "    <tr>\n",
       "      <th>max</th>\n",
       "      <td>5.000000</td>\n",
       "      <td>5.000000</td>\n",
       "      <td>5.000000</td>\n",
       "      <td>5.000000</td>\n",
       "      <td>5.000000</td>\n",
       "      <td>5.000000</td>\n",
       "      <td>5.000000</td>\n",
       "      <td>5.000000</td>\n",
       "    </tr>\n",
       "  </tbody>\n",
       "</table>\n",
       "</div>"
      ],
      "text/plain": [
       "          B-Q3_1     B-Q3_2     B-Q3_3     B-Q3_4     B-Q3_5     B-Q3_6  \\\n",
       "count  53.000000  51.000000  52.000000  53.000000  48.000000  50.000000   \n",
       "mean    2.547170   2.607843   2.576923   2.962264   2.895833   2.240000   \n",
       "std     1.136222   1.327832   1.391094   1.159613   1.275624   1.333401   \n",
       "min     1.000000   1.000000   1.000000   1.000000   1.000000   1.000000   \n",
       "25%     2.000000   2.000000   1.000000   2.000000   2.000000   1.000000   \n",
       "50%     2.000000   2.000000   2.000000   3.000000   3.000000   2.000000   \n",
       "75%     3.000000   3.000000   4.000000   4.000000   4.000000   3.000000   \n",
       "max     5.000000   5.000000   5.000000   5.000000   5.000000   5.000000   \n",
       "\n",
       "          B-Q3_7     B-Q3_8  \n",
       "count  52.000000  51.000000  \n",
       "mean    2.846154   2.764706  \n",
       "std     1.334087   1.491150  \n",
       "min     1.000000   1.000000  \n",
       "25%     2.000000   1.000000  \n",
       "50%     3.000000   3.000000  \n",
       "75%     4.000000   4.000000  \n",
       "max     5.000000   5.000000  "
      ]
     },
     "execution_count": 46,
     "metadata": {},
     "output_type": "execute_result"
    }
   ],
   "source": [
    "Daten[Daten[Liste_B_Q3] != 0][Liste_B_Q3].describe()"
   ]
  },
  {
   "cell_type": "code",
   "execution_count": 47,
   "metadata": {},
   "outputs": [
    {
     "data": {
      "text/plain": [
       "B-Q3_4    2.962264\n",
       "B-Q3_5    2.895833\n",
       "B-Q3_7    2.846154\n",
       "B-Q3_8    2.764706\n",
       "B-Q3_2    2.607843\n",
       "B-Q3_3    2.576923\n",
       "B-Q3_1    2.547170\n",
       "B-Q3_6    2.240000\n",
       "dtype: float64"
      ]
     },
     "execution_count": 47,
     "metadata": {},
     "output_type": "execute_result"
    }
   ],
   "source": [
    "Daten[Daten[Liste_B_Q3] != 0][Liste_B_Q3].mean().sort_values(ascending = False)"
   ]
  },
  {
   "cell_type": "code",
   "execution_count": 76,
   "metadata": {},
   "outputs": [
    {
     "data": {
      "text/plain": [
       "B-Q3_1    2.0\n",
       "B-Q3_2    2.0\n",
       "B-Q3_3    2.0\n",
       "B-Q3_4    3.0\n",
       "B-Q3_5    3.0\n",
       "B-Q3_6    2.0\n",
       "B-Q3_7    3.0\n",
       "B-Q3_8    3.0\n",
       "dtype: float64"
      ]
     },
     "execution_count": 76,
     "metadata": {},
     "output_type": "execute_result"
    }
   ],
   "source": [
    "Daten[Liste_B_Q3].median()"
   ]
  },
  {
   "cell_type": "code",
   "execution_count": 77,
   "metadata": {},
   "outputs": [
    {
     "data": {
      "text/html": [
       "<div>\n",
       "<style scoped>\n",
       "    .dataframe tbody tr th:only-of-type {\n",
       "        vertical-align: middle;\n",
       "    }\n",
       "\n",
       "    .dataframe tbody tr th {\n",
       "        vertical-align: top;\n",
       "    }\n",
       "\n",
       "    .dataframe thead th {\n",
       "        text-align: right;\n",
       "    }\n",
       "</style>\n",
       "<table border=\"1\" class=\"dataframe\">\n",
       "  <thead>\n",
       "    <tr style=\"text-align: right;\">\n",
       "      <th></th>\n",
       "      <th>0</th>\n",
       "      <th>1</th>\n",
       "    </tr>\n",
       "  </thead>\n",
       "  <tbody>\n",
       "    <tr>\n",
       "      <th>B-Q3_1</th>\n",
       "      <td>2.0</td>\n",
       "      <td>3.0</td>\n",
       "    </tr>\n",
       "    <tr>\n",
       "      <th>B-Q3_2</th>\n",
       "      <td>2.0</td>\n",
       "      <td>NaN</td>\n",
       "    </tr>\n",
       "    <tr>\n",
       "      <th>B-Q3_3</th>\n",
       "      <td>1.0</td>\n",
       "      <td>NaN</td>\n",
       "    </tr>\n",
       "    <tr>\n",
       "      <th>B-Q3_4</th>\n",
       "      <td>3.0</td>\n",
       "      <td>NaN</td>\n",
       "    </tr>\n",
       "    <tr>\n",
       "      <th>B-Q3_5</th>\n",
       "      <td>3.0</td>\n",
       "      <td>NaN</td>\n",
       "    </tr>\n",
       "    <tr>\n",
       "      <th>B-Q3_6</th>\n",
       "      <td>1.0</td>\n",
       "      <td>NaN</td>\n",
       "    </tr>\n",
       "    <tr>\n",
       "      <th>B-Q3_7</th>\n",
       "      <td>2.0</td>\n",
       "      <td>NaN</td>\n",
       "    </tr>\n",
       "    <tr>\n",
       "      <th>B-Q3_8</th>\n",
       "      <td>1.0</td>\n",
       "      <td>NaN</td>\n",
       "    </tr>\n",
       "  </tbody>\n",
       "</table>\n",
       "</div>"
      ],
      "text/plain": [
       "          0    1\n",
       "B-Q3_1  2.0  3.0\n",
       "B-Q3_2  2.0  NaN\n",
       "B-Q3_3  1.0  NaN\n",
       "B-Q3_4  3.0  NaN\n",
       "B-Q3_5  3.0  NaN\n",
       "B-Q3_6  1.0  NaN\n",
       "B-Q3_7  2.0  NaN\n",
       "B-Q3_8  1.0  NaN"
      ]
     },
     "execution_count": 77,
     "metadata": {},
     "output_type": "execute_result"
    }
   ],
   "source": [
    "Daten[Liste_B_Q3].mode().T"
   ]
  },
  {
   "cell_type": "code",
   "execution_count": 48,
   "metadata": {},
   "outputs": [
    {
     "name": "stdout",
     "output_type": "stream",
     "text": [
      "26\n",
      "24\n",
      "23\n",
      "35\n",
      "29\n",
      "17\n",
      "28\n",
      "28\n"
     ]
    }
   ],
   "source": [
    "for col in Liste_B_Q3:\n",
    "    print(Daten[Daten[col] >= 3].shape[0])"
   ]
  },
  {
   "cell_type": "code",
   "execution_count": 51,
   "metadata": {},
   "outputs": [
    {
     "data": {
      "image/png": "[encoded data removed]",
      "text/plain": [
       "<Figure size 576x360 with 1 Axes>"
      ]
     },
     "metadata": {},
     "output_type": "display_data"
    }
   ],
   "source": [
    "graf_likert(Daten[Daten[Liste_B_Q3] != 0],Liste_B_Q3,5)"
   ]
  },
  {
   "cell_type": "code",
   "execution_count": 52,
   "metadata": {},
   "outputs": [
    {
     "data": {
      "image/png": "[encoded data removed]",
      "text/plain": [
       "<Figure size 1152x576 with 8 Axes>"
      ]
     },
     "metadata": {},
     "output_type": "display_data"
    }
   ],
   "source": [
    "graf_hist(Daten,Liste_B_Q3,16,8,2,4)"
   ]
  },
  {
   "cell_type": "markdown",
   "metadata": {},
   "source": [
    "1\n",
    "Estas estrategias se trataron durante mis estudios.\n",
    "\n",
    "2\n",
    "Estas estrategias se trataron durante mi formación como docente.\n",
    "\n",
    "3\n",
    "Estas estrategias se trataron en cursos de formación continua de profesorado.\n",
    "\n",
    "4\n",
    "En los libros de texto que utilizo se tratan estas estrategias. \n",
    "\n",
    "5\n",
    "En los manuales del profesor que utilizo se tratan estas estrategias. \n",
    "\n",
    "6\n",
    "Utilizo páginas web o blogs que tratan estas estrategias.\n",
    "\n",
    "7\n",
    "Utilizo libros, revistas u otros materiales didácticos que tratan estas estrategias.\n",
    "\n",
    "8\n",
    "He desarrollado material propio para la enseñanza de estas estrategias."
   ]
  },
  {
   "cell_type": "code",
   "execution_count": 53,
   "metadata": {},
   "outputs": [
    {
     "data": {
      "text/html": [
       "<style  type=\"text/css\" >\n",
       "    #T_537e21e2_836d_11e9_b91e_b8763fd8451drow0_col0 {\n",
       "            background-color :  salmon;\n",
       "        }    #T_537e21e2_836d_11e9_b91e_b8763fd8451drow0_col1 {\n",
       "            background-color:  lightsalmon;\n",
       "        }    #T_537e21e2_836d_11e9_b91e_b8763fd8451drow0_col2 {\n",
       "            background-color :  white;\n",
       "        }    #T_537e21e2_836d_11e9_b91e_b8763fd8451drow0_col3 {\n",
       "            background-color:  lightsalmon;\n",
       "        }    #T_537e21e2_836d_11e9_b91e_b8763fd8451drow0_col4 {\n",
       "            background-color:  peachpuff;\n",
       "        }    #T_537e21e2_836d_11e9_b91e_b8763fd8451drow0_col5 {\n",
       "            background-color :  white;\n",
       "        }    #T_537e21e2_836d_11e9_b91e_b8763fd8451drow0_col6 {\n",
       "            background-color :  white;\n",
       "        }    #T_537e21e2_836d_11e9_b91e_b8763fd8451drow0_col7 {\n",
       "            background-color:  peachpuff;\n",
       "        }    #T_537e21e2_836d_11e9_b91e_b8763fd8451drow1_col0 {\n",
       "            background-color:  lightsalmon;\n",
       "        }    #T_537e21e2_836d_11e9_b91e_b8763fd8451drow1_col1 {\n",
       "            background-color :  salmon;\n",
       "        }    #T_537e21e2_836d_11e9_b91e_b8763fd8451drow1_col2 {\n",
       "            background-color :  salmon;\n",
       "        }    #T_537e21e2_836d_11e9_b91e_b8763fd8451drow1_col3 {\n",
       "            background-color :  salmon;\n",
       "        }    #T_537e21e2_836d_11e9_b91e_b8763fd8451drow1_col4 {\n",
       "            background-color :  salmon;\n",
       "        }    #T_537e21e2_836d_11e9_b91e_b8763fd8451drow1_col5 {\n",
       "            background-color:  lightsalmon;\n",
       "        }    #T_537e21e2_836d_11e9_b91e_b8763fd8451drow1_col6 {\n",
       "            background-color:  peachpuff;\n",
       "        }    #T_537e21e2_836d_11e9_b91e_b8763fd8451drow1_col7 {\n",
       "            background-color :  white;\n",
       "        }    #T_537e21e2_836d_11e9_b91e_b8763fd8451drow2_col0 {\n",
       "            background-color :  white;\n",
       "        }    #T_537e21e2_836d_11e9_b91e_b8763fd8451drow2_col1 {\n",
       "            background-color :  salmon;\n",
       "        }    #T_537e21e2_836d_11e9_b91e_b8763fd8451drow2_col2 {\n",
       "            background-color :  salmon;\n",
       "        }    #T_537e21e2_836d_11e9_b91e_b8763fd8451drow2_col3 {\n",
       "            background-color:  lightsalmon;\n",
       "        }    #T_537e21e2_836d_11e9_b91e_b8763fd8451drow2_col4 {\n",
       "            background-color:  lightsalmon;\n",
       "        }    #T_537e21e2_836d_11e9_b91e_b8763fd8451drow2_col5 {\n",
       "            background-color:  lightsalmon;\n",
       "        }    #T_537e21e2_836d_11e9_b91e_b8763fd8451drow2_col6 {\n",
       "            background-color:  peachpuff;\n",
       "        }    #T_537e21e2_836d_11e9_b91e_b8763fd8451drow2_col7 {\n",
       "            background-color:  lightsalmon;\n",
       "        }    #T_537e21e2_836d_11e9_b91e_b8763fd8451drow3_col0 {\n",
       "            background-color:  lightsalmon;\n",
       "        }    #T_537e21e2_836d_11e9_b91e_b8763fd8451drow3_col1 {\n",
       "            background-color :  salmon;\n",
       "        }    #T_537e21e2_836d_11e9_b91e_b8763fd8451drow3_col2 {\n",
       "            background-color:  lightsalmon;\n",
       "        }    #T_537e21e2_836d_11e9_b91e_b8763fd8451drow3_col3 {\n",
       "            background-color :  salmon;\n",
       "        }    #T_537e21e2_836d_11e9_b91e_b8763fd8451drow3_col4 {\n",
       "            background-color :  salmon;\n",
       "        }    #T_537e21e2_836d_11e9_b91e_b8763fd8451drow3_col5 {\n",
       "            background-color:  peachpuff;\n",
       "        }    #T_537e21e2_836d_11e9_b91e_b8763fd8451drow3_col6 {\n",
       "            background-color:  lightsalmon;\n",
       "        }    #T_537e21e2_836d_11e9_b91e_b8763fd8451drow3_col7 {\n",
       "            background-color :  white;\n",
       "        }    #T_537e21e2_836d_11e9_b91e_b8763fd8451drow4_col0 {\n",
       "            background-color:  peachpuff;\n",
       "        }    #T_537e21e2_836d_11e9_b91e_b8763fd8451drow4_col1 {\n",
       "            background-color :  salmon;\n",
       "        }    #T_537e21e2_836d_11e9_b91e_b8763fd8451drow4_col2 {\n",
       "            background-color:  lightsalmon;\n",
       "        }    #T_537e21e2_836d_11e9_b91e_b8763fd8451drow4_col3 {\n",
       "            background-color :  salmon;\n",
       "        }    #T_537e21e2_836d_11e9_b91e_b8763fd8451drow4_col4 {\n",
       "            background-color :  salmon;\n",
       "        }    #T_537e21e2_836d_11e9_b91e_b8763fd8451drow4_col5 {\n",
       "            background-color:  lightsalmon;\n",
       "        }    #T_537e21e2_836d_11e9_b91e_b8763fd8451drow4_col6 {\n",
       "            background-color:  lightsalmon;\n",
       "        }    #T_537e21e2_836d_11e9_b91e_b8763fd8451drow4_col7 {\n",
       "            background-color:  peachpuff;\n",
       "        }    #T_537e21e2_836d_11e9_b91e_b8763fd8451drow5_col0 {\n",
       "            background-color :  white;\n",
       "        }    #T_537e21e2_836d_11e9_b91e_b8763fd8451drow5_col1 {\n",
       "            background-color:  lightsalmon;\n",
       "        }    #T_537e21e2_836d_11e9_b91e_b8763fd8451drow5_col2 {\n",
       "            background-color:  lightsalmon;\n",
       "        }    #T_537e21e2_836d_11e9_b91e_b8763fd8451drow5_col3 {\n",
       "            background-color:  peachpuff;\n",
       "        }    #T_537e21e2_836d_11e9_b91e_b8763fd8451drow5_col4 {\n",
       "            background-color:  lightsalmon;\n",
       "        }    #T_537e21e2_836d_11e9_b91e_b8763fd8451drow5_col5 {\n",
       "            background-color :  salmon;\n",
       "        }    #T_537e21e2_836d_11e9_b91e_b8763fd8451drow5_col6 {\n",
       "            background-color :  salmon;\n",
       "        }    #T_537e21e2_836d_11e9_b91e_b8763fd8451drow5_col7 {\n",
       "            background-color:  peachpuff;\n",
       "        }    #T_537e21e2_836d_11e9_b91e_b8763fd8451drow6_col0 {\n",
       "            background-color :  white;\n",
       "        }    #T_537e21e2_836d_11e9_b91e_b8763fd8451drow6_col1 {\n",
       "            background-color:  peachpuff;\n",
       "        }    #T_537e21e2_836d_11e9_b91e_b8763fd8451drow6_col2 {\n",
       "            background-color:  peachpuff;\n",
       "        }    #T_537e21e2_836d_11e9_b91e_b8763fd8451drow6_col3 {\n",
       "            background-color:  lightsalmon;\n",
       "        }    #T_537e21e2_836d_11e9_b91e_b8763fd8451drow6_col4 {\n",
       "            background-color:  lightsalmon;\n",
       "        }    #T_537e21e2_836d_11e9_b91e_b8763fd8451drow6_col5 {\n",
       "            background-color :  salmon;\n",
       "        }    #T_537e21e2_836d_11e9_b91e_b8763fd8451drow6_col6 {\n",
       "            background-color :  salmon;\n",
       "        }    #T_537e21e2_836d_11e9_b91e_b8763fd8451drow6_col7 {\n",
       "            background-color:  peachpuff;\n",
       "        }    #T_537e21e2_836d_11e9_b91e_b8763fd8451drow7_col0 {\n",
       "            background-color:  peachpuff;\n",
       "        }    #T_537e21e2_836d_11e9_b91e_b8763fd8451drow7_col1 {\n",
       "            background-color :  white;\n",
       "        }    #T_537e21e2_836d_11e9_b91e_b8763fd8451drow7_col2 {\n",
       "            background-color:  lightsalmon;\n",
       "        }    #T_537e21e2_836d_11e9_b91e_b8763fd8451drow7_col3 {\n",
       "            background-color :  white;\n",
       "        }    #T_537e21e2_836d_11e9_b91e_b8763fd8451drow7_col4 {\n",
       "            background-color:  peachpuff;\n",
       "        }    #T_537e21e2_836d_11e9_b91e_b8763fd8451drow7_col5 {\n",
       "            background-color:  peachpuff;\n",
       "        }    #T_537e21e2_836d_11e9_b91e_b8763fd8451drow7_col6 {\n",
       "            background-color:  peachpuff;\n",
       "        }    #T_537e21e2_836d_11e9_b91e_b8763fd8451drow7_col7 {\n",
       "            background-color :  salmon;\n",
       "        }</style>  \n",
       "<table id=\"T_537e21e2_836d_11e9_b91e_b8763fd8451d\" > \n",
       "<thead>    <tr> \n",
       "        <th class=\"blank level0\" ></th> \n",
       "        <th class=\"col_heading level0 col0\" >B-Q3_1</th> \n",
       "        <th class=\"col_heading level0 col1\" >B-Q3_2</th> \n",
       "        <th class=\"col_heading level0 col2\" >B-Q3_3</th> \n",
       "        <th class=\"col_heading level0 col3\" >B-Q3_4</th> \n",
       "        <th class=\"col_heading level0 col4\" >B-Q3_5</th> \n",
       "        <th class=\"col_heading level0 col5\" >B-Q3_6</th> \n",
       "        <th class=\"col_heading level0 col6\" >B-Q3_7</th> \n",
       "        <th class=\"col_heading level0 col7\" >B-Q3_8</th> \n",
       "    </tr></thead> \n",
       "<tbody>    <tr> \n",
       "        <th id=\"T_537e21e2_836d_11e9_b91e_b8763fd8451dlevel0_row0\" class=\"row_heading level0 row0\" >B-Q3_1</th> \n",
       "        <td id=\"T_537e21e2_836d_11e9_b91e_b8763fd8451drow0_col0\" class=\"data row0 col0\" >1</td> \n",
       "        <td id=\"T_537e21e2_836d_11e9_b91e_b8763fd8451drow0_col1\" class=\"data row0 col1\" >0.319383</td> \n",
       "        <td id=\"T_537e21e2_836d_11e9_b91e_b8763fd8451drow0_col2\" class=\"data row0 col2\" >-0.000602064</td> \n",
       "        <td id=\"T_537e21e2_836d_11e9_b91e_b8763fd8451drow0_col3\" class=\"data row0 col3\" >0.301737</td> \n",
       "        <td id=\"T_537e21e2_836d_11e9_b91e_b8763fd8451drow0_col4\" class=\"data row0 col4\" >0.126462</td> \n",
       "        <td id=\"T_537e21e2_836d_11e9_b91e_b8763fd8451drow0_col5\" class=\"data row0 col5\" >0.0640074</td> \n",
       "        <td id=\"T_537e21e2_836d_11e9_b91e_b8763fd8451drow0_col6\" class=\"data row0 col6\" >0.00379247</td> \n",
       "        <td id=\"T_537e21e2_836d_11e9_b91e_b8763fd8451drow0_col7\" class=\"data row0 col7\" >-0.180456</td> \n",
       "    </tr>    <tr> \n",
       "        <th id=\"T_537e21e2_836d_11e9_b91e_b8763fd8451dlevel0_row1\" class=\"row_heading level0 row1\" >B-Q3_2</th> \n",
       "        <td id=\"T_537e21e2_836d_11e9_b91e_b8763fd8451drow1_col0\" class=\"data row1 col0\" >0.319383</td> \n",
       "        <td id=\"T_537e21e2_836d_11e9_b91e_b8763fd8451drow1_col1\" class=\"data row1 col1\" >1</td> \n",
       "        <td id=\"T_537e21e2_836d_11e9_b91e_b8763fd8451drow1_col2\" class=\"data row1 col2\" >0.586701</td> \n",
       "        <td id=\"T_537e21e2_836d_11e9_b91e_b8763fd8451drow1_col3\" class=\"data row1 col3\" >0.50931</td> \n",
       "        <td id=\"T_537e21e2_836d_11e9_b91e_b8763fd8451drow1_col4\" class=\"data row1 col4\" >0.500653</td> \n",
       "        <td id=\"T_537e21e2_836d_11e9_b91e_b8763fd8451drow1_col5\" class=\"data row1 col5\" >0.304026</td> \n",
       "        <td id=\"T_537e21e2_836d_11e9_b91e_b8763fd8451drow1_col6\" class=\"data row1 col6\" >0.199662</td> \n",
       "        <td id=\"T_537e21e2_836d_11e9_b91e_b8763fd8451drow1_col7\" class=\"data row1 col7\" >-0.046615</td> \n",
       "    </tr>    <tr> \n",
       "        <th id=\"T_537e21e2_836d_11e9_b91e_b8763fd8451dlevel0_row2\" class=\"row_heading level0 row2\" >B-Q3_3</th> \n",
       "        <td id=\"T_537e21e2_836d_11e9_b91e_b8763fd8451drow2_col0\" class=\"data row2 col0\" >-0.000602064</td> \n",
       "        <td id=\"T_537e21e2_836d_11e9_b91e_b8763fd8451drow2_col1\" class=\"data row2 col1\" >0.586701</td> \n",
       "        <td id=\"T_537e21e2_836d_11e9_b91e_b8763fd8451drow2_col2\" class=\"data row2 col2\" >1</td> \n",
       "        <td id=\"T_537e21e2_836d_11e9_b91e_b8763fd8451drow2_col3\" class=\"data row2 col3\" >0.429036</td> \n",
       "        <td id=\"T_537e21e2_836d_11e9_b91e_b8763fd8451drow2_col4\" class=\"data row2 col4\" >0.492271</td> \n",
       "        <td id=\"T_537e21e2_836d_11e9_b91e_b8763fd8451drow2_col5\" class=\"data row2 col5\" >0.323426</td> \n",
       "        <td id=\"T_537e21e2_836d_11e9_b91e_b8763fd8451drow2_col6\" class=\"data row2 col6\" >0.293907</td> \n",
       "        <td id=\"T_537e21e2_836d_11e9_b91e_b8763fd8451drow2_col7\" class=\"data row2 col7\" >0.349437</td> \n",
       "    </tr>    <tr> \n",
       "        <th id=\"T_537e21e2_836d_11e9_b91e_b8763fd8451dlevel0_row3\" class=\"row_heading level0 row3\" >B-Q3_4</th> \n",
       "        <td id=\"T_537e21e2_836d_11e9_b91e_b8763fd8451drow3_col0\" class=\"data row3 col0\" >0.301737</td> \n",
       "        <td id=\"T_537e21e2_836d_11e9_b91e_b8763fd8451drow3_col1\" class=\"data row3 col1\" >0.50931</td> \n",
       "        <td id=\"T_537e21e2_836d_11e9_b91e_b8763fd8451drow3_col2\" class=\"data row3 col2\" >0.429036</td> \n",
       "        <td id=\"T_537e21e2_836d_11e9_b91e_b8763fd8451drow3_col3\" class=\"data row3 col3\" >1</td> \n",
       "        <td id=\"T_537e21e2_836d_11e9_b91e_b8763fd8451drow3_col4\" class=\"data row3 col4\" >0.705104</td> \n",
       "        <td id=\"T_537e21e2_836d_11e9_b91e_b8763fd8451drow3_col5\" class=\"data row3 col5\" >0.195814</td> \n",
       "        <td id=\"T_537e21e2_836d_11e9_b91e_b8763fd8451drow3_col6\" class=\"data row3 col6\" >0.381172</td> \n",
       "        <td id=\"T_537e21e2_836d_11e9_b91e_b8763fd8451drow3_col7\" class=\"data row3 col7\" >0.0142572</td> \n",
       "    </tr>    <tr> \n",
       "        <th id=\"T_537e21e2_836d_11e9_b91e_b8763fd8451dlevel0_row4\" class=\"row_heading level0 row4\" >B-Q3_5</th> \n",
       "        <td id=\"T_537e21e2_836d_11e9_b91e_b8763fd8451drow4_col0\" class=\"data row4 col0\" >0.126462</td> \n",
       "        <td id=\"T_537e21e2_836d_11e9_b91e_b8763fd8451drow4_col1\" class=\"data row4 col1\" >0.500653</td> \n",
       "        <td id=\"T_537e21e2_836d_11e9_b91e_b8763fd8451drow4_col2\" class=\"data row4 col2\" >0.492271</td> \n",
       "        <td id=\"T_537e21e2_836d_11e9_b91e_b8763fd8451drow4_col3\" class=\"data row4 col3\" >0.705104</td> \n",
       "        <td id=\"T_537e21e2_836d_11e9_b91e_b8763fd8451drow4_col4\" class=\"data row4 col4\" >1</td> \n",
       "        <td id=\"T_537e21e2_836d_11e9_b91e_b8763fd8451drow4_col5\" class=\"data row4 col5\" >0.489192</td> \n",
       "        <td id=\"T_537e21e2_836d_11e9_b91e_b8763fd8451drow4_col6\" class=\"data row4 col6\" >0.431204</td> \n",
       "        <td id=\"T_537e21e2_836d_11e9_b91e_b8763fd8451drow4_col7\" class=\"data row4 col7\" >0.15623</td> \n",
       "    </tr>    <tr> \n",
       "        <th id=\"T_537e21e2_836d_11e9_b91e_b8763fd8451dlevel0_row5\" class=\"row_heading level0 row5\" >B-Q3_6</th> \n",
       "        <td id=\"T_537e21e2_836d_11e9_b91e_b8763fd8451drow5_col0\" class=\"data row5 col0\" >0.0640074</td> \n",
       "        <td id=\"T_537e21e2_836d_11e9_b91e_b8763fd8451drow5_col1\" class=\"data row5 col1\" >0.304026</td> \n",
       "        <td id=\"T_537e21e2_836d_11e9_b91e_b8763fd8451drow5_col2\" class=\"data row5 col2\" >0.323426</td> \n",
       "        <td id=\"T_537e21e2_836d_11e9_b91e_b8763fd8451drow5_col3\" class=\"data row5 col3\" >0.195814</td> \n",
       "        <td id=\"T_537e21e2_836d_11e9_b91e_b8763fd8451drow5_col4\" class=\"data row5 col4\" >0.489192</td> \n",
       "        <td id=\"T_537e21e2_836d_11e9_b91e_b8763fd8451drow5_col5\" class=\"data row5 col5\" >1</td> \n",
       "        <td id=\"T_537e21e2_836d_11e9_b91e_b8763fd8451drow5_col6\" class=\"data row5 col6\" >0.533946</td> \n",
       "        <td id=\"T_537e21e2_836d_11e9_b91e_b8763fd8451drow5_col7\" class=\"data row5 col7\" >0.174155</td> \n",
       "    </tr>    <tr> \n",
       "        <th id=\"T_537e21e2_836d_11e9_b91e_b8763fd8451dlevel0_row6\" class=\"row_heading level0 row6\" >B-Q3_7</th> \n",
       "        <td id=\"T_537e21e2_836d_11e9_b91e_b8763fd8451drow6_col0\" class=\"data row6 col0\" >0.00379247</td> \n",
       "        <td id=\"T_537e21e2_836d_11e9_b91e_b8763fd8451drow6_col1\" class=\"data row6 col1\" >0.199662</td> \n",
       "        <td id=\"T_537e21e2_836d_11e9_b91e_b8763fd8451drow6_col2\" class=\"data row6 col2\" >0.293907</td> \n",
       "        <td id=\"T_537e21e2_836d_11e9_b91e_b8763fd8451drow6_col3\" class=\"data row6 col3\" >0.381172</td> \n",
       "        <td id=\"T_537e21e2_836d_11e9_b91e_b8763fd8451drow6_col4\" class=\"data row6 col4\" >0.431204</td> \n",
       "        <td id=\"T_537e21e2_836d_11e9_b91e_b8763fd8451drow6_col5\" class=\"data row6 col5\" >0.533946</td> \n",
       "        <td id=\"T_537e21e2_836d_11e9_b91e_b8763fd8451drow6_col6\" class=\"data row6 col6\" >1</td> \n",
       "        <td id=\"T_537e21e2_836d_11e9_b91e_b8763fd8451drow6_col7\" class=\"data row6 col7\" >0.237881</td> \n",
       "    </tr>    <tr> \n",
       "        <th id=\"T_537e21e2_836d_11e9_b91e_b8763fd8451dlevel0_row7\" class=\"row_heading level0 row7\" >B-Q3_8</th> \n",
       "        <td id=\"T_537e21e2_836d_11e9_b91e_b8763fd8451drow7_col0\" class=\"data row7 col0\" >-0.180456</td> \n",
       "        <td id=\"T_537e21e2_836d_11e9_b91e_b8763fd8451drow7_col1\" class=\"data row7 col1\" >-0.046615</td> \n",
       "        <td id=\"T_537e21e2_836d_11e9_b91e_b8763fd8451drow7_col2\" class=\"data row7 col2\" >0.349437</td> \n",
       "        <td id=\"T_537e21e2_836d_11e9_b91e_b8763fd8451drow7_col3\" class=\"data row7 col3\" >0.0142572</td> \n",
       "        <td id=\"T_537e21e2_836d_11e9_b91e_b8763fd8451drow7_col4\" class=\"data row7 col4\" >0.15623</td> \n",
       "        <td id=\"T_537e21e2_836d_11e9_b91e_b8763fd8451drow7_col5\" class=\"data row7 col5\" >0.174155</td> \n",
       "        <td id=\"T_537e21e2_836d_11e9_b91e_b8763fd8451drow7_col6\" class=\"data row7 col6\" >0.237881</td> \n",
       "        <td id=\"T_537e21e2_836d_11e9_b91e_b8763fd8451drow7_col7\" class=\"data row7 col7\" >1</td> \n",
       "    </tr></tbody> \n",
       "</table> "
      ],
      "text/plain": [
       "<pandas.io.formats.style.Styler at 0x1cd21be0>"
      ]
     },
     "execution_count": 53,
     "metadata": {},
     "output_type": "execute_result"
    }
   ],
   "source": [
    "Korr_B_Q3 = Daten[Liste_B_Q3].corr(method = 'spearman')\n",
    "Korr_B_Q3 = Korr_B_Q3.style.applymap(lambda x: 'background-color : salmon' if abs(x) > 0.5 \n",
    "                           else 'background-color: lightsalmon' if abs(x) > 0.3 and abs(x) <= 0.5\n",
    "                           else 'background-color: peachpuff' if abs(x) > 0.1 and abs(x) <= 0.3\n",
    "                           else 'background-color : white')\n",
    "Korr_B_Q3"
   ]
  },
  {
   "cell_type": "markdown",
   "metadata": {},
   "source": [
    "### Einstellung zu Erschließungsstrategien"
   ]
  },
  {
   "cell_type": "markdown",
   "metadata": {},
   "source": [
    "#### C-Q1"
   ]
  },
  {
   "cell_type": "code",
   "execution_count": 87,
   "metadata": {},
   "outputs": [
    {
     "data": {
      "text/html": [
       "<div>\n",
       "<style scoped>\n",
       "    .dataframe tbody tr th:only-of-type {\n",
       "        vertical-align: middle;\n",
       "    }\n",
       "\n",
       "    .dataframe tbody tr th {\n",
       "        vertical-align: top;\n",
       "    }\n",
       "\n",
       "    .dataframe thead th {\n",
       "        text-align: right;\n",
       "    }\n",
       "</style>\n",
       "<table border=\"1\" class=\"dataframe\">\n",
       "  <thead>\n",
       "    <tr style=\"text-align: right;\">\n",
       "      <th></th>\n",
       "      <th>C-Q1_1</th>\n",
       "      <th>C-Q1_2</th>\n",
       "      <th>C-Q1_3</th>\n",
       "      <th>C-Q1_4</th>\n",
       "      <th>C-Q1_5</th>\n",
       "      <th>C-Q1_6</th>\n",
       "      <th>C-Q1_7</th>\n",
       "      <th>C-Q1_8</th>\n",
       "      <th>C-Q1_9</th>\n",
       "      <th>C-Q1_10</th>\n",
       "    </tr>\n",
       "  </thead>\n",
       "  <tbody>\n",
       "    <tr>\n",
       "      <th>count</th>\n",
       "      <td>53.000000</td>\n",
       "      <td>53.00000</td>\n",
       "      <td>53.000000</td>\n",
       "      <td>53.000000</td>\n",
       "      <td>53.000000</td>\n",
       "      <td>53.000000</td>\n",
       "      <td>53.000000</td>\n",
       "      <td>53.000000</td>\n",
       "      <td>53.000000</td>\n",
       "      <td>53.000000</td>\n",
       "    </tr>\n",
       "    <tr>\n",
       "      <th>mean</th>\n",
       "      <td>3.622642</td>\n",
       "      <td>4.00000</td>\n",
       "      <td>3.716981</td>\n",
       "      <td>3.811321</td>\n",
       "      <td>2.113208</td>\n",
       "      <td>3.207547</td>\n",
       "      <td>4.566038</td>\n",
       "      <td>4.509434</td>\n",
       "      <td>2.962264</td>\n",
       "      <td>4.566038</td>\n",
       "    </tr>\n",
       "    <tr>\n",
       "      <th>std</th>\n",
       "      <td>1.196572</td>\n",
       "      <td>0.83205</td>\n",
       "      <td>1.026146</td>\n",
       "      <td>1.038797</td>\n",
       "      <td>0.993447</td>\n",
       "      <td>1.261234</td>\n",
       "      <td>0.537424</td>\n",
       "      <td>0.639189</td>\n",
       "      <td>1.108746</td>\n",
       "      <td>0.693637</td>\n",
       "    </tr>\n",
       "    <tr>\n",
       "      <th>min</th>\n",
       "      <td>0.000000</td>\n",
       "      <td>2.00000</td>\n",
       "      <td>0.000000</td>\n",
       "      <td>2.000000</td>\n",
       "      <td>1.000000</td>\n",
       "      <td>0.000000</td>\n",
       "      <td>3.000000</td>\n",
       "      <td>3.000000</td>\n",
       "      <td>0.000000</td>\n",
       "      <td>2.000000</td>\n",
       "    </tr>\n",
       "    <tr>\n",
       "      <th>25%</th>\n",
       "      <td>3.000000</td>\n",
       "      <td>3.00000</td>\n",
       "      <td>3.000000</td>\n",
       "      <td>3.000000</td>\n",
       "      <td>1.000000</td>\n",
       "      <td>2.000000</td>\n",
       "      <td>4.000000</td>\n",
       "      <td>4.000000</td>\n",
       "      <td>2.000000</td>\n",
       "      <td>4.000000</td>\n",
       "    </tr>\n",
       "    <tr>\n",
       "      <th>50%</th>\n",
       "      <td>4.000000</td>\n",
       "      <td>4.00000</td>\n",
       "      <td>4.000000</td>\n",
       "      <td>4.000000</td>\n",
       "      <td>2.000000</td>\n",
       "      <td>3.000000</td>\n",
       "      <td>5.000000</td>\n",
       "      <td>5.000000</td>\n",
       "      <td>3.000000</td>\n",
       "      <td>5.000000</td>\n",
       "    </tr>\n",
       "    <tr>\n",
       "      <th>75%</th>\n",
       "      <td>5.000000</td>\n",
       "      <td>5.00000</td>\n",
       "      <td>4.000000</td>\n",
       "      <td>5.000000</td>\n",
       "      <td>3.000000</td>\n",
       "      <td>4.000000</td>\n",
       "      <td>5.000000</td>\n",
       "      <td>5.000000</td>\n",
       "      <td>4.000000</td>\n",
       "      <td>5.000000</td>\n",
       "    </tr>\n",
       "    <tr>\n",
       "      <th>max</th>\n",
       "      <td>5.000000</td>\n",
       "      <td>5.00000</td>\n",
       "      <td>5.000000</td>\n",
       "      <td>5.000000</td>\n",
       "      <td>4.000000</td>\n",
       "      <td>5.000000</td>\n",
       "      <td>5.000000</td>\n",
       "      <td>5.000000</td>\n",
       "      <td>5.000000</td>\n",
       "      <td>5.000000</td>\n",
       "    </tr>\n",
       "  </tbody>\n",
       "</table>\n",
       "</div>"
      ],
      "text/plain": [
       "          C-Q1_1    C-Q1_2     C-Q1_3     C-Q1_4     C-Q1_5     C-Q1_6  \\\n",
       "count  53.000000  53.00000  53.000000  53.000000  53.000000  53.000000   \n",
       "mean    3.622642   4.00000   3.716981   3.811321   2.113208   3.207547   \n",
       "std     1.196572   0.83205   1.026146   1.038797   0.993447   1.261234   \n",
       "min     0.000000   2.00000   0.000000   2.000000   1.000000   0.000000   \n",
       "25%     3.000000   3.00000   3.000000   3.000000   1.000000   2.000000   \n",
       "50%     4.000000   4.00000   4.000000   4.000000   2.000000   3.000000   \n",
       "75%     5.000000   5.00000   4.000000   5.000000   3.000000   4.000000   \n",
       "max     5.000000   5.00000   5.000000   5.000000   4.000000   5.000000   \n",
       "\n",
       "          C-Q1_7     C-Q1_8     C-Q1_9    C-Q1_10  \n",
       "count  53.000000  53.000000  53.000000  53.000000  \n",
       "mean    4.566038   4.509434   2.962264   4.566038  \n",
       "std     0.537424   0.639189   1.108746   0.693637  \n",
       "min     3.000000   3.000000   0.000000   2.000000  \n",
       "25%     4.000000   4.000000   2.000000   4.000000  \n",
       "50%     5.000000   5.000000   3.000000   5.000000  \n",
       "75%     5.000000   5.000000   4.000000   5.000000  \n",
       "max     5.000000   5.000000   5.000000   5.000000  "
      ]
     },
     "execution_count": 87,
     "metadata": {},
     "output_type": "execute_result"
    }
   ],
   "source": [
    "Daten[Liste_C_Q1].describe()"
   ]
  },
  {
   "cell_type": "code",
   "execution_count": 88,
   "metadata": {},
   "outputs": [
    {
     "data": {
      "image/png": "[encoded data removed]",
      "text/plain": [
       "<Figure size 576x360 with 1 Axes>"
      ]
     },
     "metadata": {},
     "output_type": "display_data"
    }
   ],
   "source": [
    "graf_likert(Daten[Daten[Liste_C_Q1] != 0],Liste_C_Q1,5)"
   ]
  },
  {
   "cell_type": "code",
   "execution_count": 89,
   "metadata": {},
   "outputs": [
    {
     "data": {
      "image/png": "[encoded data removed]",
      "text/plain": [
       "<Figure size 1152x864 with 10 Axes>"
      ]
     },
     "metadata": {},
     "output_type": "display_data"
    }
   ],
   "source": [
    "graf_hist(Daten,Liste_C_Q1,16,12,3,4)"
   ]
  },
  {
   "cell_type": "markdown",
   "metadata": {},
   "source": [
    "1\n",
    "Estas estrategias son un tema importante en mis clases de alemán.  \n",
    "\n",
    "2\n",
    "Tratar estas estrategias es especialmente importante en niveles inferiores.\n",
    "\n",
    "3\n",
    "Tratar estas estrategias es especialmente importante en niveles intermedios.\n",
    "\n",
    "4\n",
    "Tratar estas estrategias es especialmente importante en niveles avanzados.\n",
    "\n",
    "5\n",
    "No hace falta enseñar estas estrategias de forma explícita, ya que los estudiantes las usan en cualquier caso de forma inconsciente.\n",
    "\n",
    "6\n",
    "En mis clases se trabaja con textos complejos que requieren el uso de estrategias para descubrir palabras desconocidas por parte de los estudiantes.\n",
    "\n",
    "7\n",
    "Estas estrategias son útiles para ampliar el vocabulario.\n",
    "\n",
    "8\n",
    "Estas estrategias son útiles para mejorar la comprensión lectora.\n",
    "\n",
    "9\n",
    "Utilizo material adaptado al nivel de mis estudiantes para que lo entiendan sin tener que utilizar estrategias de inferencia complicadas.\n",
    "\n",
    "10\n",
    "Fomentando el uso de estas estrategias se favorece el aprendizaje autónomo."
   ]
  },
  {
   "cell_type": "markdown",
   "metadata": {},
   "source": [
    "Korrelation in C-Q1:"
   ]
  },
  {
   "cell_type": "code",
   "execution_count": 90,
   "metadata": {},
   "outputs": [
    {
     "data": {
      "text/html": [
       "<style  type=\"text/css\" >\n",
       "    #T_9912bc58_8371_11e9_8284_b8763fd8451drow0_col0 {\n",
       "            background-color :  salmon;\n",
       "        }    #T_9912bc58_8371_11e9_8284_b8763fd8451drow0_col1 {\n",
       "            background-color:  lightsalmon;\n",
       "        }    #T_9912bc58_8371_11e9_8284_b8763fd8451drow0_col2 {\n",
       "            background-color:  lightsalmon;\n",
       "        }    #T_9912bc58_8371_11e9_8284_b8763fd8451drow0_col3 {\n",
       "            background-color:  peachpuff;\n",
       "        }    #T_9912bc58_8371_11e9_8284_b8763fd8451drow0_col4 {\n",
       "            background-color:  peachpuff;\n",
       "        }    #T_9912bc58_8371_11e9_8284_b8763fd8451drow0_col5 {\n",
       "            background-color :  salmon;\n",
       "        }    #T_9912bc58_8371_11e9_8284_b8763fd8451drow0_col6 {\n",
       "            background-color:  lightsalmon;\n",
       "        }    #T_9912bc58_8371_11e9_8284_b8763fd8451drow0_col7 {\n",
       "            background-color:  lightsalmon;\n",
       "        }    #T_9912bc58_8371_11e9_8284_b8763fd8451drow0_col8 {\n",
       "            background-color:  peachpuff;\n",
       "        }    #T_9912bc58_8371_11e9_8284_b8763fd8451drow0_col9 {\n",
       "            background-color:  peachpuff;\n",
       "        }    #T_9912bc58_8371_11e9_8284_b8763fd8451drow1_col0 {\n",
       "            background-color:  lightsalmon;\n",
       "        }    #T_9912bc58_8371_11e9_8284_b8763fd8451drow1_col1 {\n",
       "            background-color :  salmon;\n",
       "        }    #T_9912bc58_8371_11e9_8284_b8763fd8451drow1_col2 {\n",
       "            background-color:  peachpuff;\n",
       "        }    #T_9912bc58_8371_11e9_8284_b8763fd8451drow1_col3 {\n",
       "            background-color :  white;\n",
       "        }    #T_9912bc58_8371_11e9_8284_b8763fd8451drow1_col4 {\n",
       "            background-color:  lightsalmon;\n",
       "        }    #T_9912bc58_8371_11e9_8284_b8763fd8451drow1_col5 {\n",
       "            background-color:  peachpuff;\n",
       "        }    #T_9912bc58_8371_11e9_8284_b8763fd8451drow1_col6 {\n",
       "            background-color:  peachpuff;\n",
       "        }    #T_9912bc58_8371_11e9_8284_b8763fd8451drow1_col7 {\n",
       "            background-color:  peachpuff;\n",
       "        }    #T_9912bc58_8371_11e9_8284_b8763fd8451drow1_col8 {\n",
       "            background-color:  peachpuff;\n",
       "        }    #T_9912bc58_8371_11e9_8284_b8763fd8451drow1_col9 {\n",
       "            background-color:  peachpuff;\n",
       "        }    #T_9912bc58_8371_11e9_8284_b8763fd8451drow2_col0 {\n",
       "            background-color:  lightsalmon;\n",
       "        }    #T_9912bc58_8371_11e9_8284_b8763fd8451drow2_col1 {\n",
       "            background-color:  peachpuff;\n",
       "        }    #T_9912bc58_8371_11e9_8284_b8763fd8451drow2_col2 {\n",
       "            background-color :  salmon;\n",
       "        }    #T_9912bc58_8371_11e9_8284_b8763fd8451drow2_col3 {\n",
       "            background-color :  salmon;\n",
       "        }    #T_9912bc58_8371_11e9_8284_b8763fd8451drow2_col4 {\n",
       "            background-color:  peachpuff;\n",
       "        }    #T_9912bc58_8371_11e9_8284_b8763fd8451drow2_col5 {\n",
       "            background-color:  peachpuff;\n",
       "        }    #T_9912bc58_8371_11e9_8284_b8763fd8451drow2_col6 {\n",
       "            background-color:  peachpuff;\n",
       "        }    #T_9912bc58_8371_11e9_8284_b8763fd8451drow2_col7 {\n",
       "            background-color :  white;\n",
       "        }    #T_9912bc58_8371_11e9_8284_b8763fd8451drow2_col8 {\n",
       "            background-color:  peachpuff;\n",
       "        }    #T_9912bc58_8371_11e9_8284_b8763fd8451drow2_col9 {\n",
       "            background-color:  peachpuff;\n",
       "        }    #T_9912bc58_8371_11e9_8284_b8763fd8451drow3_col0 {\n",
       "            background-color:  peachpuff;\n",
       "        }    #T_9912bc58_8371_11e9_8284_b8763fd8451drow3_col1 {\n",
       "            background-color :  white;\n",
       "        }    #T_9912bc58_8371_11e9_8284_b8763fd8451drow3_col2 {\n",
       "            background-color :  salmon;\n",
       "        }    #T_9912bc58_8371_11e9_8284_b8763fd8451drow3_col3 {\n",
       "            background-color :  salmon;\n",
       "        }    #T_9912bc58_8371_11e9_8284_b8763fd8451drow3_col4 {\n",
       "            background-color:  peachpuff;\n",
       "        }    #T_9912bc58_8371_11e9_8284_b8763fd8451drow3_col5 {\n",
       "            background-color :  white;\n",
       "        }    #T_9912bc58_8371_11e9_8284_b8763fd8451drow3_col6 {\n",
       "            background-color:  peachpuff;\n",
       "        }    #T_9912bc58_8371_11e9_8284_b8763fd8451drow3_col7 {\n",
       "            background-color :  white;\n",
       "        }    #T_9912bc58_8371_11e9_8284_b8763fd8451drow3_col8 {\n",
       "            background-color:  peachpuff;\n",
       "        }    #T_9912bc58_8371_11e9_8284_b8763fd8451drow3_col9 {\n",
       "            background-color:  peachpuff;\n",
       "        }    #T_9912bc58_8371_11e9_8284_b8763fd8451drow4_col0 {\n",
       "            background-color:  peachpuff;\n",
       "        }    #T_9912bc58_8371_11e9_8284_b8763fd8451drow4_col1 {\n",
       "            background-color:  lightsalmon;\n",
       "        }    #T_9912bc58_8371_11e9_8284_b8763fd8451drow4_col2 {\n",
       "            background-color:  peachpuff;\n",
       "        }    #T_9912bc58_8371_11e9_8284_b8763fd8451drow4_col3 {\n",
       "            background-color:  peachpuff;\n",
       "        }    #T_9912bc58_8371_11e9_8284_b8763fd8451drow4_col4 {\n",
       "            background-color :  salmon;\n",
       "        }    #T_9912bc58_8371_11e9_8284_b8763fd8451drow4_col5 {\n",
       "            background-color:  peachpuff;\n",
       "        }    #T_9912bc58_8371_11e9_8284_b8763fd8451drow4_col6 {\n",
       "            background-color:  peachpuff;\n",
       "        }    #T_9912bc58_8371_11e9_8284_b8763fd8451drow4_col7 {\n",
       "            background-color:  peachpuff;\n",
       "        }    #T_9912bc58_8371_11e9_8284_b8763fd8451drow4_col8 {\n",
       "            background-color :  white;\n",
       "        }    #T_9912bc58_8371_11e9_8284_b8763fd8451drow4_col9 {\n",
       "            background-color:  peachpuff;\n",
       "        }    #T_9912bc58_8371_11e9_8284_b8763fd8451drow5_col0 {\n",
       "            background-color :  salmon;\n",
       "        }    #T_9912bc58_8371_11e9_8284_b8763fd8451drow5_col1 {\n",
       "            background-color:  peachpuff;\n",
       "        }    #T_9912bc58_8371_11e9_8284_b8763fd8451drow5_col2 {\n",
       "            background-color:  peachpuff;\n",
       "        }    #T_9912bc58_8371_11e9_8284_b8763fd8451drow5_col3 {\n",
       "            background-color :  white;\n",
       "        }    #T_9912bc58_8371_11e9_8284_b8763fd8451drow5_col4 {\n",
       "            background-color:  peachpuff;\n",
       "        }    #T_9912bc58_8371_11e9_8284_b8763fd8451drow5_col5 {\n",
       "            background-color :  salmon;\n",
       "        }    #T_9912bc58_8371_11e9_8284_b8763fd8451drow5_col6 {\n",
       "            background-color:  peachpuff;\n",
       "        }    #T_9912bc58_8371_11e9_8284_b8763fd8451drow5_col7 {\n",
       "            background-color:  peachpuff;\n",
       "        }    #T_9912bc58_8371_11e9_8284_b8763fd8451drow5_col8 {\n",
       "            background-color :  white;\n",
       "        }    #T_9912bc58_8371_11e9_8284_b8763fd8451drow5_col9 {\n",
       "            background-color:  peachpuff;\n",
       "        }    #T_9912bc58_8371_11e9_8284_b8763fd8451drow6_col0 {\n",
       "            background-color:  lightsalmon;\n",
       "        }    #T_9912bc58_8371_11e9_8284_b8763fd8451drow6_col1 {\n",
       "            background-color:  peachpuff;\n",
       "        }    #T_9912bc58_8371_11e9_8284_b8763fd8451drow6_col2 {\n",
       "            background-color:  peachpuff;\n",
       "        }    #T_9912bc58_8371_11e9_8284_b8763fd8451drow6_col3 {\n",
       "            background-color:  peachpuff;\n",
       "        }    #T_9912bc58_8371_11e9_8284_b8763fd8451drow6_col4 {\n",
       "            background-color:  peachpuff;\n",
       "        }    #T_9912bc58_8371_11e9_8284_b8763fd8451drow6_col5 {\n",
       "            background-color:  peachpuff;\n",
       "        }    #T_9912bc58_8371_11e9_8284_b8763fd8451drow6_col6 {\n",
       "            background-color :  salmon;\n",
       "        }    #T_9912bc58_8371_11e9_8284_b8763fd8451drow6_col7 {\n",
       "            background-color:  lightsalmon;\n",
       "        }    #T_9912bc58_8371_11e9_8284_b8763fd8451drow6_col8 {\n",
       "            background-color :  white;\n",
       "        }    #T_9912bc58_8371_11e9_8284_b8763fd8451drow6_col9 {\n",
       "            background-color:  lightsalmon;\n",
       "        }    #T_9912bc58_8371_11e9_8284_b8763fd8451drow7_col0 {\n",
       "            background-color:  lightsalmon;\n",
       "        }    #T_9912bc58_8371_11e9_8284_b8763fd8451drow7_col1 {\n",
       "            background-color:  peachpuff;\n",
       "        }    #T_9912bc58_8371_11e9_8284_b8763fd8451drow7_col2 {\n",
       "            background-color :  white;\n",
       "        }    #T_9912bc58_8371_11e9_8284_b8763fd8451drow7_col3 {\n",
       "            background-color :  white;\n",
       "        }    #T_9912bc58_8371_11e9_8284_b8763fd8451drow7_col4 {\n",
       "            background-color:  peachpuff;\n",
       "        }    #T_9912bc58_8371_11e9_8284_b8763fd8451drow7_col5 {\n",
       "            background-color:  peachpuff;\n",
       "        }    #T_9912bc58_8371_11e9_8284_b8763fd8451drow7_col6 {\n",
       "            background-color:  lightsalmon;\n",
       "        }    #T_9912bc58_8371_11e9_8284_b8763fd8451drow7_col7 {\n",
       "            background-color :  salmon;\n",
       "        }    #T_9912bc58_8371_11e9_8284_b8763fd8451drow7_col8 {\n",
       "            background-color :  white;\n",
       "        }    #T_9912bc58_8371_11e9_8284_b8763fd8451drow7_col9 {\n",
       "            background-color:  lightsalmon;\n",
       "        }    #T_9912bc58_8371_11e9_8284_b8763fd8451drow8_col0 {\n",
       "            background-color:  peachpuff;\n",
       "        }    #T_9912bc58_8371_11e9_8284_b8763fd8451drow8_col1 {\n",
       "            background-color:  peachpuff;\n",
       "        }    #T_9912bc58_8371_11e9_8284_b8763fd8451drow8_col2 {\n",
       "            background-color:  peachpuff;\n",
       "        }    #T_9912bc58_8371_11e9_8284_b8763fd8451drow8_col3 {\n",
       "            background-color:  peachpuff;\n",
       "        }    #T_9912bc58_8371_11e9_8284_b8763fd8451drow8_col4 {\n",
       "            background-color :  white;\n",
       "        }    #T_9912bc58_8371_11e9_8284_b8763fd8451drow8_col5 {\n",
       "            background-color :  white;\n",
       "        }    #T_9912bc58_8371_11e9_8284_b8763fd8451drow8_col6 {\n",
       "            background-color :  white;\n",
       "        }    #T_9912bc58_8371_11e9_8284_b8763fd8451drow8_col7 {\n",
       "            background-color :  white;\n",
       "        }    #T_9912bc58_8371_11e9_8284_b8763fd8451drow8_col8 {\n",
       "            background-color :  salmon;\n",
       "        }    #T_9912bc58_8371_11e9_8284_b8763fd8451drow8_col9 {\n",
       "            background-color:  peachpuff;\n",
       "        }    #T_9912bc58_8371_11e9_8284_b8763fd8451drow9_col0 {\n",
       "            background-color:  peachpuff;\n",
       "        }    #T_9912bc58_8371_11e9_8284_b8763fd8451drow9_col1 {\n",
       "            background-color:  peachpuff;\n",
       "        }    #T_9912bc58_8371_11e9_8284_b8763fd8451drow9_col2 {\n",
       "            background-color:  peachpuff;\n",
       "        }    #T_9912bc58_8371_11e9_8284_b8763fd8451drow9_col3 {\n",
       "            background-color:  peachpuff;\n",
       "        }    #T_9912bc58_8371_11e9_8284_b8763fd8451drow9_col4 {\n",
       "            background-color:  peachpuff;\n",
       "        }    #T_9912bc58_8371_11e9_8284_b8763fd8451drow9_col5 {\n",
       "            background-color:  peachpuff;\n",
       "        }    #T_9912bc58_8371_11e9_8284_b8763fd8451drow9_col6 {\n",
       "            background-color:  lightsalmon;\n",
       "        }    #T_9912bc58_8371_11e9_8284_b8763fd8451drow9_col7 {\n",
       "            background-color:  lightsalmon;\n",
       "        }    #T_9912bc58_8371_11e9_8284_b8763fd8451drow9_col8 {\n",
       "            background-color:  peachpuff;\n",
       "        }    #T_9912bc58_8371_11e9_8284_b8763fd8451drow9_col9 {\n",
       "            background-color :  salmon;\n",
       "        }</style>  \n",
       "<table id=\"T_9912bc58_8371_11e9_8284_b8763fd8451d\" > \n",
       "<thead>    <tr> \n",
       "        <th class=\"blank level0\" ></th> \n",
       "        <th class=\"col_heading level0 col0\" >C-Q1_1</th> \n",
       "        <th class=\"col_heading level0 col1\" >C-Q1_2</th> \n",
       "        <th class=\"col_heading level0 col2\" >C-Q1_3</th> \n",
       "        <th class=\"col_heading level0 col3\" >C-Q1_4</th> \n",
       "        <th class=\"col_heading level0 col4\" >C-Q1_5</th> \n",
       "        <th class=\"col_heading level0 col5\" >C-Q1_6</th> \n",
       "        <th class=\"col_heading level0 col6\" >C-Q1_7</th> \n",
       "        <th class=\"col_heading level0 col7\" >C-Q1_8</th> \n",
       "        <th class=\"col_heading level0 col8\" >C-Q1_9</th> \n",
       "        <th class=\"col_heading level0 col9\" >C-Q1_10</th> \n",
       "    </tr></thead> \n",
       "<tbody>    <tr> \n",
       "        <th id=\"T_9912bc58_8371_11e9_8284_b8763fd8451dlevel0_row0\" class=\"row_heading level0 row0\" >C-Q1_1</th> \n",
       "        <td id=\"T_9912bc58_8371_11e9_8284_b8763fd8451drow0_col0\" class=\"data row0 col0\" >1</td> \n",
       "        <td id=\"T_9912bc58_8371_11e9_8284_b8763fd8451drow0_col1\" class=\"data row0 col1\" >0.393137</td> \n",
       "        <td id=\"T_9912bc58_8371_11e9_8284_b8763fd8451drow0_col2\" class=\"data row0 col2\" >0.39192</td> \n",
       "        <td id=\"T_9912bc58_8371_11e9_8284_b8763fd8451drow0_col3\" class=\"data row0 col3\" >0.218577</td> \n",
       "        <td id=\"T_9912bc58_8371_11e9_8284_b8763fd8451drow0_col4\" class=\"data row0 col4\" >-0.140447</td> \n",
       "        <td id=\"T_9912bc58_8371_11e9_8284_b8763fd8451drow0_col5\" class=\"data row0 col5\" >0.512137</td> \n",
       "        <td id=\"T_9912bc58_8371_11e9_8284_b8763fd8451drow0_col6\" class=\"data row0 col6\" >0.317267</td> \n",
       "        <td id=\"T_9912bc58_8371_11e9_8284_b8763fd8451drow0_col7\" class=\"data row0 col7\" >0.390798</td> \n",
       "        <td id=\"T_9912bc58_8371_11e9_8284_b8763fd8451drow0_col8\" class=\"data row0 col8\" >0.155455</td> \n",
       "        <td id=\"T_9912bc58_8371_11e9_8284_b8763fd8451drow0_col9\" class=\"data row0 col9\" >0.19572</td> \n",
       "    </tr>    <tr> \n",
       "        <th id=\"T_9912bc58_8371_11e9_8284_b8763fd8451dlevel0_row1\" class=\"row_heading level0 row1\" >C-Q1_2</th> \n",
       "        <td id=\"T_9912bc58_8371_11e9_8284_b8763fd8451drow1_col0\" class=\"data row1 col0\" >0.393137</td> \n",
       "        <td id=\"T_9912bc58_8371_11e9_8284_b8763fd8451drow1_col1\" class=\"data row1 col1\" >1</td> \n",
       "        <td id=\"T_9912bc58_8371_11e9_8284_b8763fd8451drow1_col2\" class=\"data row1 col2\" >0.255631</td> \n",
       "        <td id=\"T_9912bc58_8371_11e9_8284_b8763fd8451drow1_col3\" class=\"data row1 col3\" >0.0113386</td> \n",
       "        <td id=\"T_9912bc58_8371_11e9_8284_b8763fd8451drow1_col4\" class=\"data row1 col4\" >-0.384396</td> \n",
       "        <td id=\"T_9912bc58_8371_11e9_8284_b8763fd8451drow1_col5\" class=\"data row1 col5\" >0.205312</td> \n",
       "        <td id=\"T_9912bc58_8371_11e9_8284_b8763fd8451drow1_col6\" class=\"data row1 col6\" >0.245628</td> \n",
       "        <td id=\"T_9912bc58_8371_11e9_8284_b8763fd8451drow1_col7\" class=\"data row1 col7\" >0.117595</td> \n",
       "        <td id=\"T_9912bc58_8371_11e9_8284_b8763fd8451drow1_col8\" class=\"data row1 col8\" >-0.135947</td> \n",
       "        <td id=\"T_9912bc58_8371_11e9_8284_b8763fd8451drow1_col9\" class=\"data row1 col9\" >0.105084</td> \n",
       "    </tr>    <tr> \n",
       "        <th id=\"T_9912bc58_8371_11e9_8284_b8763fd8451dlevel0_row2\" class=\"row_heading level0 row2\" >C-Q1_3</th> \n",
       "        <td id=\"T_9912bc58_8371_11e9_8284_b8763fd8451drow2_col0\" class=\"data row2 col0\" >0.39192</td> \n",
       "        <td id=\"T_9912bc58_8371_11e9_8284_b8763fd8451drow2_col1\" class=\"data row2 col1\" >0.255631</td> \n",
       "        <td id=\"T_9912bc58_8371_11e9_8284_b8763fd8451drow2_col2\" class=\"data row2 col2\" >1</td> \n",
       "        <td id=\"T_9912bc58_8371_11e9_8284_b8763fd8451drow2_col3\" class=\"data row2 col3\" >0.707744</td> \n",
       "        <td id=\"T_9912bc58_8371_11e9_8284_b8763fd8451drow2_col4\" class=\"data row2 col4\" >-0.263185</td> \n",
       "        <td id=\"T_9912bc58_8371_11e9_8284_b8763fd8451drow2_col5\" class=\"data row2 col5\" >0.233494</td> \n",
       "        <td id=\"T_9912bc58_8371_11e9_8284_b8763fd8451drow2_col6\" class=\"data row2 col6\" >0.211191</td> \n",
       "        <td id=\"T_9912bc58_8371_11e9_8284_b8763fd8451drow2_col7\" class=\"data row2 col7\" >0.053619</td> \n",
       "        <td id=\"T_9912bc58_8371_11e9_8284_b8763fd8451drow2_col8\" class=\"data row2 col8\" >0.120909</td> \n",
       "        <td id=\"T_9912bc58_8371_11e9_8284_b8763fd8451drow2_col9\" class=\"data row2 col9\" >0.212963</td> \n",
       "    </tr>    <tr> \n",
       "        <th id=\"T_9912bc58_8371_11e9_8284_b8763fd8451dlevel0_row3\" class=\"row_heading level0 row3\" >C-Q1_4</th> \n",
       "        <td id=\"T_9912bc58_8371_11e9_8284_b8763fd8451drow3_col0\" class=\"data row3 col0\" >0.218577</td> \n",
       "        <td id=\"T_9912bc58_8371_11e9_8284_b8763fd8451drow3_col1\" class=\"data row3 col1\" >0.0113386</td> \n",
       "        <td id=\"T_9912bc58_8371_11e9_8284_b8763fd8451drow3_col2\" class=\"data row3 col2\" >0.707744</td> \n",
       "        <td id=\"T_9912bc58_8371_11e9_8284_b8763fd8451drow3_col3\" class=\"data row3 col3\" >1</td> \n",
       "        <td id=\"T_9912bc58_8371_11e9_8284_b8763fd8451drow3_col4\" class=\"data row3 col4\" >-0.222977</td> \n",
       "        <td id=\"T_9912bc58_8371_11e9_8284_b8763fd8451drow3_col5\" class=\"data row3 col5\" >0.0826526</td> \n",
       "        <td id=\"T_9912bc58_8371_11e9_8284_b8763fd8451drow3_col6\" class=\"data row3 col6\" >0.243208</td> \n",
       "        <td id=\"T_9912bc58_8371_11e9_8284_b8763fd8451drow3_col7\" class=\"data row3 col7\" >-0.0766385</td> \n",
       "        <td id=\"T_9912bc58_8371_11e9_8284_b8763fd8451drow3_col8\" class=\"data row3 col8\" >0.286708</td> \n",
       "        <td id=\"T_9912bc58_8371_11e9_8284_b8763fd8451drow3_col9\" class=\"data row3 col9\" >0.229262</td> \n",
       "    </tr>    <tr> \n",
       "        <th id=\"T_9912bc58_8371_11e9_8284_b8763fd8451dlevel0_row4\" class=\"row_heading level0 row4\" >C-Q1_5</th> \n",
       "        <td id=\"T_9912bc58_8371_11e9_8284_b8763fd8451drow4_col0\" class=\"data row4 col0\" >-0.140447</td> \n",
       "        <td id=\"T_9912bc58_8371_11e9_8284_b8763fd8451drow4_col1\" class=\"data row4 col1\" >-0.384396</td> \n",
       "        <td id=\"T_9912bc58_8371_11e9_8284_b8763fd8451drow4_col2\" class=\"data row4 col2\" >-0.263185</td> \n",
       "        <td id=\"T_9912bc58_8371_11e9_8284_b8763fd8451drow4_col3\" class=\"data row4 col3\" >-0.222977</td> \n",
       "        <td id=\"T_9912bc58_8371_11e9_8284_b8763fd8451drow4_col4\" class=\"data row4 col4\" >1</td> \n",
       "        <td id=\"T_9912bc58_8371_11e9_8284_b8763fd8451drow4_col5\" class=\"data row4 col5\" >-0.12088</td> \n",
       "        <td id=\"T_9912bc58_8371_11e9_8284_b8763fd8451drow4_col6\" class=\"data row4 col6\" >-0.113642</td> \n",
       "        <td id=\"T_9912bc58_8371_11e9_8284_b8763fd8451drow4_col7\" class=\"data row4 col7\" >-0.147711</td> \n",
       "        <td id=\"T_9912bc58_8371_11e9_8284_b8763fd8451drow4_col8\" class=\"data row4 col8\" >0.00460595</td> \n",
       "        <td id=\"T_9912bc58_8371_11e9_8284_b8763fd8451drow4_col9\" class=\"data row4 col9\" >-0.123099</td> \n",
       "    </tr>    <tr> \n",
       "        <th id=\"T_9912bc58_8371_11e9_8284_b8763fd8451dlevel0_row5\" class=\"row_heading level0 row5\" >C-Q1_6</th> \n",
       "        <td id=\"T_9912bc58_8371_11e9_8284_b8763fd8451drow5_col0\" class=\"data row5 col0\" >0.512137</td> \n",
       "        <td id=\"T_9912bc58_8371_11e9_8284_b8763fd8451drow5_col1\" class=\"data row5 col1\" >0.205312</td> \n",
       "        <td id=\"T_9912bc58_8371_11e9_8284_b8763fd8451drow5_col2\" class=\"data row5 col2\" >0.233494</td> \n",
       "        <td id=\"T_9912bc58_8371_11e9_8284_b8763fd8451drow5_col3\" class=\"data row5 col3\" >0.0826526</td> \n",
       "        <td id=\"T_9912bc58_8371_11e9_8284_b8763fd8451drow5_col4\" class=\"data row5 col4\" >-0.12088</td> \n",
       "        <td id=\"T_9912bc58_8371_11e9_8284_b8763fd8451drow5_col5\" class=\"data row5 col5\" >1</td> \n",
       "        <td id=\"T_9912bc58_8371_11e9_8284_b8763fd8451drow5_col6\" class=\"data row5 col6\" >0.205533</td> \n",
       "        <td id=\"T_9912bc58_8371_11e9_8284_b8763fd8451drow5_col7\" class=\"data row5 col7\" >0.224988</td> \n",
       "        <td id=\"T_9912bc58_8371_11e9_8284_b8763fd8451drow5_col8\" class=\"data row5 col8\" >0.0811788</td> \n",
       "        <td id=\"T_9912bc58_8371_11e9_8284_b8763fd8451drow5_col9\" class=\"data row5 col9\" >0.124223</td> \n",
       "    </tr>    <tr> \n",
       "        <th id=\"T_9912bc58_8371_11e9_8284_b8763fd8451dlevel0_row6\" class=\"row_heading level0 row6\" >C-Q1_7</th> \n",
       "        <td id=\"T_9912bc58_8371_11e9_8284_b8763fd8451drow6_col0\" class=\"data row6 col0\" >0.317267</td> \n",
       "        <td id=\"T_9912bc58_8371_11e9_8284_b8763fd8451drow6_col1\" class=\"data row6 col1\" >0.245628</td> \n",
       "        <td id=\"T_9912bc58_8371_11e9_8284_b8763fd8451drow6_col2\" class=\"data row6 col2\" >0.211191</td> \n",
       "        <td id=\"T_9912bc58_8371_11e9_8284_b8763fd8451drow6_col3\" class=\"data row6 col3\" >0.243208</td> \n",
       "        <td id=\"T_9912bc58_8371_11e9_8284_b8763fd8451drow6_col4\" class=\"data row6 col4\" >-0.113642</td> \n",
       "        <td id=\"T_9912bc58_8371_11e9_8284_b8763fd8451drow6_col5\" class=\"data row6 col5\" >0.205533</td> \n",
       "        <td id=\"T_9912bc58_8371_11e9_8284_b8763fd8451drow6_col6\" class=\"data row6 col6\" >1</td> \n",
       "        <td id=\"T_9912bc58_8371_11e9_8284_b8763fd8451drow6_col7\" class=\"data row6 col7\" >0.421744</td> \n",
       "        <td id=\"T_9912bc58_8371_11e9_8284_b8763fd8451drow6_col8\" class=\"data row6 col8\" >-0.044203</td> \n",
       "        <td id=\"T_9912bc58_8371_11e9_8284_b8763fd8451drow6_col9\" class=\"data row6 col9\" >0.465908</td> \n",
       "    </tr>    <tr> \n",
       "        <th id=\"T_9912bc58_8371_11e9_8284_b8763fd8451dlevel0_row7\" class=\"row_heading level0 row7\" >C-Q1_8</th> \n",
       "        <td id=\"T_9912bc58_8371_11e9_8284_b8763fd8451drow7_col0\" class=\"data row7 col0\" >0.390798</td> \n",
       "        <td id=\"T_9912bc58_8371_11e9_8284_b8763fd8451drow7_col1\" class=\"data row7 col1\" >0.117595</td> \n",
       "        <td id=\"T_9912bc58_8371_11e9_8284_b8763fd8451drow7_col2\" class=\"data row7 col2\" >0.053619</td> \n",
       "        <td id=\"T_9912bc58_8371_11e9_8284_b8763fd8451drow7_col3\" class=\"data row7 col3\" >-0.0766385</td> \n",
       "        <td id=\"T_9912bc58_8371_11e9_8284_b8763fd8451drow7_col4\" class=\"data row7 col4\" >-0.147711</td> \n",
       "        <td id=\"T_9912bc58_8371_11e9_8284_b8763fd8451drow7_col5\" class=\"data row7 col5\" >0.224988</td> \n",
       "        <td id=\"T_9912bc58_8371_11e9_8284_b8763fd8451drow7_col6\" class=\"data row7 col6\" >0.421744</td> \n",
       "        <td id=\"T_9912bc58_8371_11e9_8284_b8763fd8451drow7_col7\" class=\"data row7 col7\" >1</td> \n",
       "        <td id=\"T_9912bc58_8371_11e9_8284_b8763fd8451drow7_col8\" class=\"data row7 col8\" >-0.0403004</td> \n",
       "        <td id=\"T_9912bc58_8371_11e9_8284_b8763fd8451drow7_col9\" class=\"data row7 col9\" >0.469086</td> \n",
       "    </tr>    <tr> \n",
       "        <th id=\"T_9912bc58_8371_11e9_8284_b8763fd8451dlevel0_row8\" class=\"row_heading level0 row8\" >C-Q1_9</th> \n",
       "        <td id=\"T_9912bc58_8371_11e9_8284_b8763fd8451drow8_col0\" class=\"data row8 col0\" >0.155455</td> \n",
       "        <td id=\"T_9912bc58_8371_11e9_8284_b8763fd8451drow8_col1\" class=\"data row8 col1\" >-0.135947</td> \n",
       "        <td id=\"T_9912bc58_8371_11e9_8284_b8763fd8451drow8_col2\" class=\"data row8 col2\" >0.120909</td> \n",
       "        <td id=\"T_9912bc58_8371_11e9_8284_b8763fd8451drow8_col3\" class=\"data row8 col3\" >0.286708</td> \n",
       "        <td id=\"T_9912bc58_8371_11e9_8284_b8763fd8451drow8_col4\" class=\"data row8 col4\" >0.00460595</td> \n",
       "        <td id=\"T_9912bc58_8371_11e9_8284_b8763fd8451drow8_col5\" class=\"data row8 col5\" >0.0811788</td> \n",
       "        <td id=\"T_9912bc58_8371_11e9_8284_b8763fd8451drow8_col6\" class=\"data row8 col6\" >-0.044203</td> \n",
       "        <td id=\"T_9912bc58_8371_11e9_8284_b8763fd8451drow8_col7\" class=\"data row8 col7\" >-0.0403004</td> \n",
       "        <td id=\"T_9912bc58_8371_11e9_8284_b8763fd8451drow8_col8\" class=\"data row8 col8\" >1</td> \n",
       "        <td id=\"T_9912bc58_8371_11e9_8284_b8763fd8451drow8_col9\" class=\"data row8 col9\" >-0.171388</td> \n",
       "    </tr>    <tr> \n",
       "        <th id=\"T_9912bc58_8371_11e9_8284_b8763fd8451dlevel0_row9\" class=\"row_heading level0 row9\" >C-Q1_10</th> \n",
       "        <td id=\"T_9912bc58_8371_11e9_8284_b8763fd8451drow9_col0\" class=\"data row9 col0\" >0.19572</td> \n",
       "        <td id=\"T_9912bc58_8371_11e9_8284_b8763fd8451drow9_col1\" class=\"data row9 col1\" >0.105084</td> \n",
       "        <td id=\"T_9912bc58_8371_11e9_8284_b8763fd8451drow9_col2\" class=\"data row9 col2\" >0.212963</td> \n",
       "        <td id=\"T_9912bc58_8371_11e9_8284_b8763fd8451drow9_col3\" class=\"data row9 col3\" >0.229262</td> \n",
       "        <td id=\"T_9912bc58_8371_11e9_8284_b8763fd8451drow9_col4\" class=\"data row9 col4\" >-0.123099</td> \n",
       "        <td id=\"T_9912bc58_8371_11e9_8284_b8763fd8451drow9_col5\" class=\"data row9 col5\" >0.124223</td> \n",
       "        <td id=\"T_9912bc58_8371_11e9_8284_b8763fd8451drow9_col6\" class=\"data row9 col6\" >0.465908</td> \n",
       "        <td id=\"T_9912bc58_8371_11e9_8284_b8763fd8451drow9_col7\" class=\"data row9 col7\" >0.469086</td> \n",
       "        <td id=\"T_9912bc58_8371_11e9_8284_b8763fd8451drow9_col8\" class=\"data row9 col8\" >-0.171388</td> \n",
       "        <td id=\"T_9912bc58_8371_11e9_8284_b8763fd8451drow9_col9\" class=\"data row9 col9\" >1</td> \n",
       "    </tr></tbody> \n",
       "</table> "
      ],
      "text/plain": [
       "<pandas.io.formats.style.Styler at 0x1bb32ba8>"
      ]
     },
     "execution_count": 90,
     "metadata": {},
     "output_type": "execute_result"
    }
   ],
   "source": [
    "Korr_C_Q1 = Daten[Liste_C_Q1].corr(method = 'spearman')\n",
    "Korr_C_Q1 = Korr_C_Q1.style.applymap(lambda x: 'background-color : salmon' if abs(x) > 0.5 \n",
    "                           else 'background-color: lightsalmon' if abs(x) > 0.3 and abs(x) <= 0.5\n",
    "                           else 'background-color: peachpuff' if abs(x) > 0.1 and abs(x) <= 0.3\n",
    "                           else 'background-color : white')\n",
    "Korr_C_Q1"
   ]
  },
  {
   "cell_type": "markdown",
   "metadata": {},
   "source": [
    "### Charakteristika der Stichprobe"
   ]
  },
  {
   "cell_type": "code",
   "execution_count": 58,
   "metadata": {},
   "outputs": [],
   "source": [
    "Finished = Daten[:]"
   ]
  },
  {
   "cell_type": "code",
   "execution_count": 59,
   "metadata": {},
   "outputs": [
    {
     "data": {
      "image/png": "[encoded data removed]",
      "text/plain": [
       "<Figure size 864x360 with 1 Axes>"
      ]
     },
     "metadata": {},
     "output_type": "display_data"
    }
   ],
   "source": [
    "Finished[Finished['D-Q1'] != 0]['D-Q1'].value_counts().plot(kind='bar', \n",
    "                                                            figsize = (12,5), width = 0.5, \n",
    "                                                            legend = True, title = \"Universität\");"
   ]
  },
  {
   "cell_type": "markdown",
   "metadata": {},
   "source": [
    "(1)\tAbat Oliba-CEU\n",
    "(2)\tAlcalá de Henares\n",
    "(3)\tAlfonso X El Sabio\n",
    "(4)\tAlicante\n",
    "(5)\tAlmería\n",
    "(6)\tAntonio de Nebrija\n",
    "(7)\tAutónoma de Barcelona\n",
    "(8)\tAutónoma de Madrid\n",
    "(9)\tBarcelona\n",
    "(10)\tBurgos\n",
    "(11)\tCádiz\n",
    "(12)\tCamilo José Cela\n",
    "(13)\tCantabria\n",
    "(14)\tCardenal Herrera-CEU\n",
    "(15)\tCarlos III\n",
    "(16)\tCastilla-La Mancha\n",
    "(17)\tCatólica de Ávila\n",
    "(18)\tCatólica de Valencia\n",
    "(19)\tCatólica S. Antonio de Murcia\n",
    "(20)\tComplutense de Madrid\n",
    "(21)\tCórdoba\n",
    "(22)\tCoruña, A\n",
    "(23)\tDeusto\n",
    "(24)\tEuropea de Madrid\n",
    "(25)\tEuropea Miguel de Cervantes\n",
    "(26)\tExtremadura\n",
    "(27)\tFrancisco de Vitoria\n",
    "(28)\tGirona\n",
    "(29)\tGranada\n",
    "(30)\tHuelva\n",
    "(31)\tIE Universidad\n",
    "(32)\tIlles Balears\n",
    "(33)\tInternacional de Catalunya\n",
    "(34)\tInternacional de La Rioja\n",
    "(35)\tInternacional Valenciana\n",
    "(36)\tJaén\n",
    "(37)\tJaume I de Castellón\n",
    "(38)\tLa Laguna\n",
    "(39)\tLa Rioja\n",
    "(40)\tLeón\n",
    "(41)\tLleida\n",
    "(42)\tMálaga\n",
    "(43)\tMiguel Hernández de Elche\n",
    "(44)\tMondragón\n",
    "(45)\tMurcia\n",
    "(46)\tNavarra\n",
    "(47)\tOberta de Catalunya\n",
    "(48)\tOviedo\n",
    "(49)\tPablo de Olavide\n",
    "(50)\tPaís Vasco\n",
    "(51)\tPalmas (Las)\n",
    "(52)\tPolitécnica de Cartagena\n",
    "(53)\tPolitécnica de Cataluña\n",
    "(54)\tPolitécnica de Madrid\n",
    "(55)\tPolitécnica de Valencia\n",
    "(56)\tPompeu Fabra\n",
    "(57)\tPontificia Comillas\n",
    "(58)\tPontificia de Salamanca\n",
    "(59)\tPública de Navarra\n",
    "(60)\tRamón Llull\n",
    "(61)\tRey Juan Carlos\n",
    "(62)\tRovira i Virgili\n",
    "(63)\tSalamanca\n",
    "(64)\tSan Jorge\n",
    "(65)\tSan Pablo-CEU\n",
    "(66)\tSantiago de Compostela\n",
    "(67)\tSevilla\n",
    "(68)\tU.N.E.D.\n",
    "(69)\tUDIMA\n",
    "(70)\tValencia (Est. General)\n",
    "(71)\tValladolid\n",
    "(72)\tVic\n",
    "(73)\tVigo\n",
    "(74)\tZaragoza\n",
    "(75)\tOtra"
   ]
  },
  {
   "cell_type": "code",
   "execution_count": 60,
   "metadata": {},
   "outputs": [
    {
     "data": {
      "text/plain": [
       "63    12\n",
       "20    10\n",
       "66     7\n",
       "67     5\n",
       "70     4\n",
       "61     3\n",
       "0      2\n",
       "29     1\n",
       "37     1\n",
       "48     1\n",
       "2      1\n",
       "15     1\n",
       "73     1\n",
       "49     1\n",
       "50     1\n",
       "56     1\n",
       "28     1\n",
       "Name: D-Q1, dtype: int64"
      ]
     },
     "execution_count": 60,
     "metadata": {},
     "output_type": "execute_result"
    }
   ],
   "source": [
    "Finished['D-Q1'].value_counts()"
   ]
  },
  {
   "cell_type": "code",
   "execution_count": 61,
   "metadata": {},
   "outputs": [
    {
     "data": {
      "text/plain": [
       "16"
      ]
     },
     "execution_count": 61,
     "metadata": {},
     "output_type": "execute_result"
    }
   ],
   "source": [
    "Finished[Finished['D-Q1']!=0]['D-Q1'].nunique()"
   ]
  },
  {
   "cell_type": "markdown",
   "metadata": {},
   "source": [
    "Lehrende aus 16 verschiedenen Universitäten nahmen an der Befragung teil."
   ]
  },
  {
   "cell_type": "markdown",
   "metadata": {},
   "source": [
    "Art unterrichteter Kurse:"
   ]
  },
  {
   "cell_type": "code",
   "execution_count": 62,
   "metadata": {},
   "outputs": [
    {
     "data": {
      "text/plain": [
       "'D-Q2a'"
      ]
     },
     "execution_count": 62,
     "metadata": {},
     "output_type": "execute_result"
    }
   ],
   "source": [
    "As_cols = [col for col in Finished.columns if 'D-Q2' in col]\n",
    "As_cols.pop(len(As_cols)-1)\n",
    "As_cols.pop(len(As_cols)-1)"
   ]
  },
  {
   "cell_type": "code",
   "execution_count": 63,
   "metadata": {},
   "outputs": [
    {
     "data": {
      "text/plain": [
       "D-Q2_1    24\n",
       "D-Q2_2    12\n",
       "D-Q2_3     7\n",
       "D-Q2_4    10\n",
       "D-Q2_5     1\n",
       "D-Q2_7     8\n",
       "D-Q2_8     6\n",
       "D-Q2_9    14\n",
       "dtype: int64"
      ]
     },
     "execution_count": 63,
     "metadata": {},
     "output_type": "execute_result"
    }
   ],
   "source": [
    "Finished[As_cols].astype(integer).sum()"
   ]
  },
  {
   "cell_type": "code",
   "execution_count": 64,
   "metadata": {},
   "outputs": [
    {
     "data": {
      "image/png": "[encoded data removed]",
      "text/plain": [
       "<Figure size 576x360 with 1 Axes>"
      ]
     },
     "metadata": {},
     "output_type": "display_data"
    }
   ],
   "source": [
    "Finished[As_cols].astype(integer).sum().plot(kind = 'bar', figsize = (8,5), width = 0.4, title = \"Aktuell unterrichtete Deutschkurse\");"
   ]
  },
  {
   "cell_type": "markdown",
   "metadata": {},
   "source": [
    "- (1)\tAsignatura en Estudios Alemanes / Filología Alemana \n",
    "- (2)\tAsignatura para otras Filologías\n",
    "- (3)\tAsignatura en Traducción, Alemán 1a Lengua Extranjera / B\n",
    "- (4)\tAsignatura en Traducción, Alemán 2a Lengua Extranjera / C\n",
    "- (5)\tAsignatura en Humanidades\n",
    "- (6)\tAsignatura en Economía\n",
    "- (7)\tAsignatura en Turismo\n",
    "- (8)\tOtro curso de alemán que forma parte de una carrera universitaria\n",
    "- (9)\tOtro curso de alemán en la universidad"
   ]
  },
  {
   "cell_type": "code",
   "execution_count": 65,
   "metadata": {},
   "outputs": [
    {
     "data": {
      "text/plain": [
       "0                                                                                  48\n",
       "Aus Beobachtungen der Dozenten der Complutense                                      1\n",
       "Aleman B-1                                                                          1\n",
       "Llengües Aplicades                                                                  1\n",
       "Zusatzkurse zur Vertiefung der in den Regelsprachkursen thematisierten Inhalten     1\n",
       "Landeskundekurse D-A-CH                                                             1\n",
       "Name: D-Q2b, dtype: int64"
      ]
     },
     "execution_count": 65,
     "metadata": {},
     "output_type": "execute_result"
    }
   ],
   "source": [
    "Finished['D-Q2b'].value_counts()"
   ]
  },
  {
   "cell_type": "markdown",
   "metadata": {},
   "source": [
    "Niveau unterrichteter Deutschkurse:"
   ]
  },
  {
   "cell_type": "code",
   "execution_count": 66,
   "metadata": {},
   "outputs": [
    {
     "data": {
      "text/plain": [
       "'D-Q3a'"
      ]
     },
     "execution_count": 66,
     "metadata": {},
     "output_type": "execute_result"
    }
   ],
   "source": [
    "Niv_cols = [col for col in Finished.columns if 'D-Q3' in col]\n",
    "Niv_cols.pop(len(Niv_cols)-1)"
   ]
  },
  {
   "cell_type": "code",
   "execution_count": 67,
   "metadata": {},
   "outputs": [
    {
     "data": {
      "text/plain": [
       "D-Q3_1    32\n",
       "D-Q3_2    36\n",
       "D-Q3_3    30\n",
       "D-Q3_4    19\n",
       "D-Q3_5     9\n",
       "dtype: int64"
      ]
     },
     "execution_count": 67,
     "metadata": {},
     "output_type": "execute_result"
    }
   ],
   "source": [
    "Finished[Niv_cols].astype(integer).sum()"
   ]
  },
  {
   "cell_type": "code",
   "execution_count": 68,
   "metadata": {},
   "outputs": [
    {
     "data": {
      "image/png": "[encoded data removed]",
      "text/plain": [
       "<Figure size 432x288 with 1 Axes>"
      ]
     },
     "metadata": {},
     "output_type": "display_data"
    }
   ],
   "source": [
    "Finished[Niv_cols].astype(integer).sum().plot(kind = 'bar', figsize = (6,4), width = 0.4, title = \"Niveau aktuell unterrichteter Deutschkurse\");"
   ]
  },
  {
   "cell_type": "markdown",
   "metadata": {},
   "source": [
    "(1)\tA1, \n",
    "(2)\tA2, \n",
    "(3)\tB1, \n",
    "(4)\tB2, \n",
    "(5)\tC1,\n",
    "(6)\tC2 "
   ]
  },
  {
   "cell_type": "markdown",
   "metadata": {},
   "source": [
    "Lehrerfahrung:"
   ]
  },
  {
   "cell_type": "code",
   "execution_count": 69,
   "metadata": {},
   "outputs": [
    {
     "data": {
      "text/plain": [
       "20.0    8\n",
       "6.0     4\n",
       "1.0     4\n",
       "15.0    3\n",
       "25.0    3\n",
       "5.0     3\n",
       "10.0    2\n",
       "4.0     2\n",
       "24.0    2\n",
       "30.0    2\n",
       "27.0    2\n",
       "38.0    2\n",
       "12.0    1\n",
       "19.0    1\n",
       "11.0    1\n",
       "16.0    1\n",
       "8.0     1\n",
       "40.0    1\n",
       "2.0     1\n",
       "7.0     1\n",
       "32.0    1\n",
       "9.0     1\n",
       "0.5     1\n",
       "Name: D-Q4, dtype: int64"
      ]
     },
     "execution_count": 69,
     "metadata": {},
     "output_type": "execute_result"
    }
   ],
   "source": [
    "Finished[Finished['D-Q4']!=0]['D-Q4'].value_counts()"
   ]
  },
  {
   "cell_type": "code",
   "execution_count": 70,
   "metadata": {},
   "outputs": [
    {
     "data": {
      "text/plain": [
       "count    48.000000\n",
       "mean     15.531250\n",
       "std      10.943475\n",
       "min       0.500000\n",
       "25%       6.000000\n",
       "50%      15.000000\n",
       "75%      24.000000\n",
       "max      40.000000\n",
       "Name: D-Q4, dtype: float64"
      ]
     },
     "execution_count": 70,
     "metadata": {},
     "output_type": "execute_result"
    }
   ],
   "source": [
    "Finished[Finished['D-Q4']!=0]['D-Q4'].describe()"
   ]
  },
  {
   "cell_type": "markdown",
   "metadata": {},
   "source": [
    "Deutsch:"
   ]
  },
  {
   "cell_type": "code",
   "execution_count": 71,
   "metadata": {},
   "outputs": [
    {
     "data": {
      "text/plain": [
       "7    35\n",
       "6     8\n",
       "5     6\n",
       "1     2\n",
       "2     1\n",
       "Name: D-Q5_1, dtype: int64"
      ]
     },
     "execution_count": 71,
     "metadata": {},
     "output_type": "execute_result"
    }
   ],
   "source": [
    "Finished[Finished['D-Q5_1']!=0]['D-Q5_1'].value_counts()"
   ]
  },
  {
   "cell_type": "markdown",
   "metadata": {},
   "source": [
    "Spanisch:"
   ]
  },
  {
   "cell_type": "code",
   "execution_count": 72,
   "metadata": {},
   "outputs": [
    {
     "data": {
      "text/plain": [
       "7    19\n",
       "6    18\n",
       "5    11\n",
       "4     2\n",
       "3     2\n",
       "Name: D-Q5_2, dtype: int64"
      ]
     },
     "execution_count": 72,
     "metadata": {},
     "output_type": "execute_result"
    }
   ],
   "source": [
    "Finished[Finished['D-Q5_2']!=0]['D-Q5_2'].value_counts()"
   ]
  },
  {
   "cell_type": "markdown",
   "metadata": {},
   "source": [
    "Englisch:"
   ]
  },
  {
   "cell_type": "code",
   "execution_count": 73,
   "metadata": {},
   "outputs": [
    {
     "data": {
      "text/plain": [
       "4    20\n",
       "5    17\n",
       "6     7\n",
       "3     4\n",
       "7     2\n",
       "2     2\n",
       "Name: D-Q5_3, dtype: int64"
      ]
     },
     "execution_count": 73,
     "metadata": {},
     "output_type": "execute_result"
    }
   ],
   "source": [
    "Finished[Finished['D-Q5_3']!=0]['D-Q5_3'].value_counts()"
   ]
  },
  {
   "cell_type": "markdown",
   "metadata": {},
   "source": [
    "Geschlecht:"
   ]
  },
  {
   "cell_type": "code",
   "execution_count": 74,
   "metadata": {},
   "outputs": [
    {
     "data": {
      "image/png": "[encoded data removed]",
      "text/plain": [
       "<Figure size 288x360 with 1 Axes>"
      ]
     },
     "metadata": {},
     "output_type": "display_data"
    }
   ],
   "source": [
    "Finished['D-Q6'].value_counts()[[1,2,3]].plot(kind = 'bar', figsize = (4,5), width = 0.4, legend = True, title = \"Geschlecht\");"
   ]
  },
  {
   "cell_type": "code",
   "execution_count": 75,
   "metadata": {},
   "outputs": [
    {
     "data": {
      "text/plain": [
       "1    36\n",
       "2    15\n",
       "3     2\n",
       "Name: D-Q6, dtype: int64"
      ]
     },
     "execution_count": 75,
     "metadata": {},
     "output_type": "execute_result"
    }
   ],
   "source": [
    "Finished['D-Q6'].value_counts()"
   ]
  }
 ],
 "metadata": {
  "kernelspec": {
   "display_name": "Python 3",
   "language": "python",
   "name": "python3"
  },
  "language_info": {
   "codemirror_mode": {
    "name": "ipython",
    "version": 3
   },
   "file_extension": ".py",
   "mimetype": "text/x-python",
   "name": "python",
   "nbconvert_exporter": "python",
   "pygments_lexer": "ipython3",
   "version": "3.6.3"
  }
 },
 "nbformat": 4,
 "nbformat_minor": 2
}
