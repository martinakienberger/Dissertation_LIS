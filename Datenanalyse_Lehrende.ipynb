{
 "cells": [
  {
   "cell_type": "markdown",
   "metadata": {},
   "source": [
    "## Erschließungsstrategien für unbekannten Wortschatz von DaF-Lernenden an spanischen Universitäten (2017-19)\n",
    "# Datenanalyse der begleitenden Lehrendenbefragung"
   ]
  },
  {
   "cell_type": "markdown",
   "metadata": {},
   "source": [
    "#### Werkzeuge und Daten importieren"
   ]
  },
  {
   "cell_type": "code",
   "execution_count": 60,
   "metadata": {},
   "outputs": [
    {
     "name": "stdout",
     "output_type": "stream",
     "text": [
      "Populating the interactive namespace from numpy and matplotlib\n"
     ]
    }
   ],
   "source": [
    "from funktionen import *\n",
    "import pandas as pd\n",
    "import matplotlib\n",
    "import numpy as np\n",
    "import scipy as sp\n",
    "import math\n",
    "from scipy import stats\n",
    "from biofes import biplot\n",
    "from sklearn.utils.extmath import randomized_svd\n",
    "from sklearn.cluster import KMeans, AgglomerativeClustering\n",
    "import seaborn as sns\n",
    "sns.set(style=\"white\") #\"white\", \"darkgrid\"...\n",
    "%pylab inline"
   ]
  },
  {
   "cell_type": "code",
   "execution_count": 61,
   "metadata": {},
   "outputs": [],
   "source": [
    "Daten1 = pd.read_excel('D:\\Daten\\DISS\\Daten\\Estrategias_Profesores_Kienberger_P2017_int.xlsx', encoding='utf-16')"
   ]
  },
  {
   "cell_type": "code",
   "execution_count": 62,
   "metadata": {},
   "outputs": [],
   "source": [
    "Daten2 = pd.read_excel('D:\\Daten\\DISS\\Daten\\Estrategias_Profesores_Kienberger_2018_ber.xlsx',encoding='utf-16')"
   ]
  },
  {
   "cell_type": "code",
   "execution_count": 63,
   "metadata": {},
   "outputs": [],
   "source": [
    "Daten2.index = [10 + i for i in Daten2.index]"
   ]
  },
  {
   "cell_type": "code",
   "execution_count": 64,
   "metadata": {},
   "outputs": [],
   "source": [
    "Daten = pd.concat([Daten1, Daten2], axis=0, join='outer', sort=True)"
   ]
  },
  {
   "cell_type": "code",
   "execution_count": 65,
   "metadata": {},
   "outputs": [
    {
     "data": {
      "text/plain": [
       "(10, 130)"
      ]
     },
     "execution_count": 65,
     "metadata": {},
     "output_type": "execute_result"
    }
   ],
   "source": [
    "Daten1.shape"
   ]
  },
  {
   "cell_type": "code",
   "execution_count": 66,
   "metadata": {},
   "outputs": [
    {
     "data": {
      "text/plain": [
       "(43, 128)"
      ]
     },
     "execution_count": 66,
     "metadata": {},
     "output_type": "execute_result"
    }
   ],
   "source": [
    "Daten2.shape"
   ]
  },
  {
   "cell_type": "code",
   "execution_count": 67,
   "metadata": {},
   "outputs": [
    {
     "data": {
      "text/plain": [
       "(53, 131)"
      ]
     },
     "execution_count": 67,
     "metadata": {},
     "output_type": "execute_result"
    }
   ],
   "source": [
    "Daten.shape"
   ]
  },
  {
   "cell_type": "code",
   "execution_count": 68,
   "metadata": {},
   "outputs": [],
   "source": [
    "Daten = Daten.fillna(0)"
   ]
  },
  {
   "cell_type": "code",
   "execution_count": 69,
   "metadata": {},
   "outputs": [],
   "source": [
    "Daten.to_excel('D:\\Daten\\DISS\\Daten\\Estrategias_Profesores_Kienberger_2017-18.xlsx',encoding='utf-16')"
   ]
  },
  {
   "cell_type": "markdown",
   "metadata": {},
   "source": [
    "#### Glossar erstellen\n",
    "\n",
    "Datei aufrufen, die in einem anderem Notebook erstellt und gespeichert wurde"
   ]
  },
  {
   "cell_type": "code",
   "execution_count": 70,
   "metadata": {},
   "outputs": [],
   "source": [
    "gloss = pd.read_pickle('D:\\Daten\\DISS\\Daten\\GlossProf2018')"
   ]
  },
  {
   "cell_type": "markdown",
   "metadata": {},
   "source": [
    "#### Untergruppen und Listen für die Analyse"
   ]
  },
  {
   "cell_type": "code",
   "execution_count": 71,
   "metadata": {},
   "outputs": [
    {
     "data": {
      "text/plain": [
       "'A-Q1a'"
      ]
     },
     "execution_count": 71,
     "metadata": {},
     "output_type": "execute_result"
    }
   ],
   "source": [
    "Liste_A_Q1 = [col for col in Daten.columns if 'A-Q1' in col]\n",
    "Liste_A_Q1.pop(9)"
   ]
  },
  {
   "cell_type": "code",
   "execution_count": 72,
   "metadata": {},
   "outputs": [],
   "source": [
    "Liste_B_Q1 = [col for col in Daten.columns if 'B-Q1' in col]\n",
    "Liste_B_Q1.pop(len(Liste_B_Q1)-1)\n",
    "Liste_B_Q1 = [el for el in Liste_B_Q1 if 'TEXT' not in el]"
   ]
  },
  {
   "cell_type": "code",
   "execution_count": 73,
   "metadata": {},
   "outputs": [
    {
     "data": {
      "text/plain": [
       "'B-Q2a'"
      ]
     },
     "execution_count": 73,
     "metadata": {},
     "output_type": "execute_result"
    }
   ],
   "source": [
    "Liste_B_Q2 = [col for col in Daten.columns if 'B-Q2' in col]\n",
    "Liste_B_Q2.pop(7)"
   ]
  },
  {
   "cell_type": "code",
   "execution_count": 74,
   "metadata": {},
   "outputs": [
    {
     "data": {
      "text/plain": [
       "'B-Q3a'"
      ]
     },
     "execution_count": 74,
     "metadata": {},
     "output_type": "execute_result"
    }
   ],
   "source": [
    "Liste_B_Q3 = [col for col in Daten.columns if 'B-Q3' in col]\n",
    "Liste_B_Q3.pop(8)"
   ]
  },
  {
   "cell_type": "code",
   "execution_count": 75,
   "metadata": {},
   "outputs": [],
   "source": [
    "#Liste_C_Q1 = [col for col in Daten.columns if 'C-Q1' in col]\n",
    "#Liste_C_Q1.pop(10)"
   ]
  },
  {
   "cell_type": "code",
   "execution_count": 76,
   "metadata": {},
   "outputs": [],
   "source": [
    "Liste_C_Q1 = ['C-Q1_1','C-Q1_2','C-Q1_3','C-Q1_4','C-Q1_5','C-Q1_6','C-Q1_7','C-Q1_8','C-Q1_9','C-Q1_10']"
   ]
  },
  {
   "cell_type": "markdown",
   "metadata": {},
   "source": [
    "### Cronbach's Alpha berechnen"
   ]
  },
  {
   "cell_type": "code",
   "execution_count": 77,
   "metadata": {},
   "outputs": [
    {
     "data": {
      "text/plain": [
       "0.568059342251001"
      ]
     },
     "execution_count": 77,
     "metadata": {},
     "output_type": "execute_result"
    }
   ],
   "source": [
    "CronbachAlpha(Daten[Liste_A_Q1])"
   ]
  },
  {
   "cell_type": "code",
   "execution_count": 78,
   "metadata": {},
   "outputs": [
    {
     "data": {
      "text/plain": [
       "0.753814906537855"
      ]
     },
     "execution_count": 78,
     "metadata": {},
     "output_type": "execute_result"
    }
   ],
   "source": [
    "CronbachAlpha(Daten[Liste_B_Q2])"
   ]
  },
  {
   "cell_type": "code",
   "execution_count": 79,
   "metadata": {},
   "outputs": [
    {
     "data": {
      "text/plain": [
       "0.7597284181162175"
      ]
     },
     "execution_count": 79,
     "metadata": {},
     "output_type": "execute_result"
    }
   ],
   "source": [
    "CronbachAlpha(Daten[Liste_B_Q3])"
   ]
  },
  {
   "cell_type": "code",
   "execution_count": 80,
   "metadata": {},
   "outputs": [
    {
     "data": {
      "text/plain": [
       "0.5694013756492222"
      ]
     },
     "execution_count": 80,
     "metadata": {},
     "output_type": "execute_result"
    }
   ],
   "source": [
    "CronbachAlpha(Daten[Liste_C_Q1])"
   ]
  },
  {
   "cell_type": "code",
   "execution_count": 81,
   "metadata": {},
   "outputs": [],
   "source": [
    "Liste_AB = Liste_A_Q1 + Liste_B_Q2 + Liste_B_Q3"
   ]
  },
  {
   "cell_type": "code",
   "execution_count": 82,
   "metadata": {},
   "outputs": [],
   "source": [
    "Liste_ABC = Liste_AB + Liste_C_Q1"
   ]
  },
  {
   "cell_type": "code",
   "execution_count": 83,
   "metadata": {},
   "outputs": [
    {
     "data": {
      "text/plain": [
       "0.8608776333182738"
      ]
     },
     "execution_count": 83,
     "metadata": {},
     "output_type": "execute_result"
    }
   ],
   "source": [
    "CronbachAlpha(Daten[Liste_ABC])"
   ]
  },
  {
   "cell_type": "markdown",
   "metadata": {},
   "source": [
    "### Zeitanalyse"
   ]
  },
  {
   "cell_type": "code",
   "execution_count": 84,
   "metadata": {},
   "outputs": [],
   "source": [
    "Dur = Daten['Duration (in seconds)']"
   ]
  },
  {
   "cell_type": "code",
   "execution_count": 85,
   "metadata": {},
   "outputs": [],
   "source": [
    "Dur = pd.to_numeric(Daten['Duration (in seconds)'])"
   ]
  },
  {
   "cell_type": "code",
   "execution_count": 86,
   "metadata": {},
   "outputs": [
    {
     "data": {
      "text/plain": [
       "count        53.000000\n",
       "mean       7613.603774\n",
       "std       47344.626277\n",
       "min         377.000000\n",
       "25%         597.000000\n",
       "50%         866.000000\n",
       "75%        1053.000000\n",
       "max      345611.000000\n",
       "Name: Duration (in seconds), dtype: float64"
      ]
     },
     "execution_count": 86,
     "metadata": {},
     "output_type": "execute_result"
    }
   ],
   "source": [
    "Dur.describe()"
   ]
  },
  {
   "cell_type": "code",
   "execution_count": 87,
   "metadata": {},
   "outputs": [
    {
     "data": {
      "image/png": "[encoded data removed]",
      "text/plain": [
       "<Figure size 432x288 with 1 Axes>"
      ]
     },
     "metadata": {
      "needs_background": "light"
     },
     "output_type": "display_data"
    }
   ],
   "source": [
    "Dur.plot.box();"
   ]
  },
  {
   "cell_type": "markdown",
   "metadata": {},
   "source": [
    "Überblick über die Beantwortungszeit und Darstellung in einem Boxplot, um Outlyers zu erkennen (z.B. TN, die an einem Tag begonnen und später beendet haben...), diese sollen nicht mit berücksichtigt werden. \n",
    "\n",
    "Sinnvoll ist, eine Grenze bei ca. einer Stunde Beantwortungszeit (3600 sek) festzulegen."
   ]
  },
  {
   "cell_type": "code",
   "execution_count": 88,
   "metadata": {},
   "outputs": [
    {
     "data": {
      "image/png": "[encoded data removed]",
      "text/plain": [
       "<Figure size 432x288 with 1 Axes>"
      ]
     },
     "metadata": {
      "needs_background": "light"
     },
     "output_type": "display_data"
    }
   ],
   "source": [
    "Dur[Dur < 4000].plot.box();"
   ]
  },
  {
   "cell_type": "code",
   "execution_count": 89,
   "metadata": {},
   "outputs": [
    {
     "data": {
      "text/plain": [
       "count      51.000000\n",
       "mean      911.117647\n",
       "std       462.940024\n",
       "min       377.000000\n",
       "25%       574.500000\n",
       "50%       854.000000\n",
       "75%      1034.000000\n",
       "max      2341.000000\n",
       "Name: Duration (in seconds), dtype: float64"
      ]
     },
     "execution_count": 89,
     "metadata": {},
     "output_type": "execute_result"
    }
   ],
   "source": [
    "Dur[Dur < 4000].describe()"
   ]
  },
  {
   "cell_type": "code",
   "execution_count": 90,
   "metadata": {},
   "outputs": [
    {
     "data": {
      "text/plain": [
       "15.185294117647059"
      ]
     },
     "execution_count": 90,
     "metadata": {},
     "output_type": "execute_result"
    }
   ],
   "source": [
    "(Dur[Dur < 4000].mean())/60"
   ]
  },
  {
   "cell_type": "code",
   "execution_count": 91,
   "metadata": {},
   "outputs": [
    {
     "data": {
      "text/plain": [
       "7.715667067768904"
      ]
     },
     "execution_count": 91,
     "metadata": {},
     "output_type": "execute_result"
    }
   ],
   "source": [
    "(Dur[Dur < 4000].std())/60"
   ]
  },
  {
   "cell_type": "markdown",
   "metadata": {},
   "source": [
    "Schlussfolgerung:\n",
    "\n",
    "Die durchschnittliche Beantwortungszeit liegt bei ca. 15min, wobei große Unterschiede zwischen den TN beobachtet werden können."
   ]
  },
  {
   "cell_type": "markdown",
   "metadata": {},
   "source": [
    "### Analyse der Angaben zur Strategiennutzung der Lernenden"
   ]
  },
  {
   "cell_type": "markdown",
   "metadata": {},
   "source": [
    "Items:\n",
    "1. Die Lernenden erschließen unbekannte Wörter mit Hilfe ihrer Muttersprache.\n",
    "2. Die Lernenden erschließen unbekannte Wörter mit Hilfe anderer Sprachen.\n",
    "3. Die Lernenden nutzen ihr Wissen über das Deutsche, z.B. bekannte Wörter, Wortarten oder Kompositabildung.\n",
    "4. Die Lernenden nutzen Informationen aus dem Kontext, z.B. die Position des Wortes im Satz oder die Gestaltung des Textes.\n",
    "5. Die Lernenden bitten Sie oder andere Lehrpersonen um Hilfe.\n",
    "6. Die Lernenden bitten andere Kursteilnehmer/innen um Hilfe.\n",
    "7. Die Lernenden konsultieren ein Wörterbuch oder eine andere Quelle (Printversion oder digital).\n",
    "8. Ich beobachte deutliche individuelle Unterschiede im Strategiengebrauch der Lernenden.\n",
    "9. Ich beobachte deutliche Unterschiede im Strategiengebrauch unterschiedlicher Lernergruppen, z.B. Anfänger - Fortgeschrittene."
   ]
  },
  {
   "cell_type": "code",
   "execution_count": 92,
   "metadata": {},
   "outputs": [
    {
     "data": {
      "text/html": [
       "<div>\n",
       "<style scoped>\n",
       "    .dataframe tbody tr th:only-of-type {\n",
       "        vertical-align: middle;\n",
       "    }\n",
       "\n",
       "    .dataframe tbody tr th {\n",
       "        vertical-align: top;\n",
       "    }\n",
       "\n",
       "    .dataframe thead th {\n",
       "        text-align: right;\n",
       "    }\n",
       "</style>\n",
       "<table border=\"1\" class=\"dataframe\">\n",
       "  <thead>\n",
       "    <tr style=\"text-align: right;\">\n",
       "      <th></th>\n",
       "      <th>count</th>\n",
       "      <th>mean</th>\n",
       "      <th>std</th>\n",
       "      <th>min</th>\n",
       "      <th>25%</th>\n",
       "      <th>50%</th>\n",
       "      <th>75%</th>\n",
       "      <th>max</th>\n",
       "      <th>mode</th>\n",
       "      <th>median</th>\n",
       "      <th>kurtosis</th>\n",
       "      <th>skew</th>\n",
       "    </tr>\n",
       "  </thead>\n",
       "  <tbody>\n",
       "    <tr>\n",
       "      <th>A-Q1_1</th>\n",
       "      <td>53.0</td>\n",
       "      <td>2.867925</td>\n",
       "      <td>1.092593</td>\n",
       "      <td>1.0</td>\n",
       "      <td>2.0</td>\n",
       "      <td>3.0</td>\n",
       "      <td>4.0</td>\n",
       "      <td>5.0</td>\n",
       "      <td>3.0</td>\n",
       "      <td>3.0</td>\n",
       "      <td>-0.462386</td>\n",
       "      <td>0.087614</td>\n",
       "    </tr>\n",
       "    <tr>\n",
       "      <th>A-Q1_2</th>\n",
       "      <td>53.0</td>\n",
       "      <td>3.283019</td>\n",
       "      <td>0.631767</td>\n",
       "      <td>2.0</td>\n",
       "      <td>3.0</td>\n",
       "      <td>3.0</td>\n",
       "      <td>4.0</td>\n",
       "      <td>5.0</td>\n",
       "      <td>3.0</td>\n",
       "      <td>3.0</td>\n",
       "      <td>1.511612</td>\n",
       "      <td>1.123579</td>\n",
       "    </tr>\n",
       "    <tr>\n",
       "      <th>A-Q1_3</th>\n",
       "      <td>53.0</td>\n",
       "      <td>3.207547</td>\n",
       "      <td>0.768577</td>\n",
       "      <td>1.0</td>\n",
       "      <td>3.0</td>\n",
       "      <td>3.0</td>\n",
       "      <td>4.0</td>\n",
       "      <td>5.0</td>\n",
       "      <td>3.0</td>\n",
       "      <td>3.0</td>\n",
       "      <td>0.723167</td>\n",
       "      <td>-0.114427</td>\n",
       "    </tr>\n",
       "    <tr>\n",
       "      <th>A-Q1_4</th>\n",
       "      <td>53.0</td>\n",
       "      <td>3.113208</td>\n",
       "      <td>0.847176</td>\n",
       "      <td>1.0</td>\n",
       "      <td>3.0</td>\n",
       "      <td>3.0</td>\n",
       "      <td>4.0</td>\n",
       "      <td>5.0</td>\n",
       "      <td>3.0</td>\n",
       "      <td>3.0</td>\n",
       "      <td>-0.186797</td>\n",
       "      <td>-0.024713</td>\n",
       "    </tr>\n",
       "    <tr>\n",
       "      <th>A-Q1_5</th>\n",
       "      <td>53.0</td>\n",
       "      <td>3.905660</td>\n",
       "      <td>0.925372</td>\n",
       "      <td>1.0</td>\n",
       "      <td>3.0</td>\n",
       "      <td>4.0</td>\n",
       "      <td>5.0</td>\n",
       "      <td>5.0</td>\n",
       "      <td>4.0</td>\n",
       "      <td>4.0</td>\n",
       "      <td>0.870652</td>\n",
       "      <td>-0.866403</td>\n",
       "    </tr>\n",
       "    <tr>\n",
       "      <th>A-Q1_6</th>\n",
       "      <td>53.0</td>\n",
       "      <td>3.547170</td>\n",
       "      <td>1.101852</td>\n",
       "      <td>1.0</td>\n",
       "      <td>3.0</td>\n",
       "      <td>4.0</td>\n",
       "      <td>4.0</td>\n",
       "      <td>5.0</td>\n",
       "      <td>4.0</td>\n",
       "      <td>4.0</td>\n",
       "      <td>-0.129606</td>\n",
       "      <td>-0.706847</td>\n",
       "    </tr>\n",
       "    <tr>\n",
       "      <th>A-Q1_7</th>\n",
       "      <td>52.0</td>\n",
       "      <td>4.269231</td>\n",
       "      <td>0.717167</td>\n",
       "      <td>2.0</td>\n",
       "      <td>4.0</td>\n",
       "      <td>4.0</td>\n",
       "      <td>5.0</td>\n",
       "      <td>5.0</td>\n",
       "      <td>4.0</td>\n",
       "      <td>4.0</td>\n",
       "      <td>0.618251</td>\n",
       "      <td>-0.785103</td>\n",
       "    </tr>\n",
       "    <tr>\n",
       "      <th>A-Q1_8</th>\n",
       "      <td>52.0</td>\n",
       "      <td>3.596154</td>\n",
       "      <td>1.033927</td>\n",
       "      <td>1.0</td>\n",
       "      <td>3.0</td>\n",
       "      <td>4.0</td>\n",
       "      <td>4.0</td>\n",
       "      <td>5.0</td>\n",
       "      <td>4.0</td>\n",
       "      <td>4.0</td>\n",
       "      <td>-0.516153</td>\n",
       "      <td>-0.433996</td>\n",
       "    </tr>\n",
       "    <tr>\n",
       "      <th>A-Q1_9</th>\n",
       "      <td>52.0</td>\n",
       "      <td>3.673077</td>\n",
       "      <td>1.042643</td>\n",
       "      <td>1.0</td>\n",
       "      <td>3.0</td>\n",
       "      <td>4.0</td>\n",
       "      <td>4.0</td>\n",
       "      <td>5.0</td>\n",
       "      <td>4.0</td>\n",
       "      <td>4.0</td>\n",
       "      <td>-0.463765</td>\n",
       "      <td>-0.482285</td>\n",
       "    </tr>\n",
       "  </tbody>\n",
       "</table>\n",
       "</div>"
      ],
      "text/plain": [
       "        count      mean       std  min  25%  50%  75%  max  mode  median  \\\n",
       "A-Q1_1   53.0  2.867925  1.092593  1.0  2.0  3.0  4.0  5.0   3.0     3.0   \n",
       "A-Q1_2   53.0  3.283019  0.631767  2.0  3.0  3.0  4.0  5.0   3.0     3.0   \n",
       "A-Q1_3   53.0  3.207547  0.768577  1.0  3.0  3.0  4.0  5.0   3.0     3.0   \n",
       "A-Q1_4   53.0  3.113208  0.847176  1.0  3.0  3.0  4.0  5.0   3.0     3.0   \n",
       "A-Q1_5   53.0  3.905660  0.925372  1.0  3.0  4.0  5.0  5.0   4.0     4.0   \n",
       "A-Q1_6   53.0  3.547170  1.101852  1.0  3.0  4.0  4.0  5.0   4.0     4.0   \n",
       "A-Q1_7   52.0  4.269231  0.717167  2.0  4.0  4.0  5.0  5.0   4.0     4.0   \n",
       "A-Q1_8   52.0  3.596154  1.033927  1.0  3.0  4.0  4.0  5.0   4.0     4.0   \n",
       "A-Q1_9   52.0  3.673077  1.042643  1.0  3.0  4.0  4.0  5.0   4.0     4.0   \n",
       "\n",
       "        kurtosis      skew  \n",
       "A-Q1_1 -0.462386  0.087614  \n",
       "A-Q1_2  1.511612  1.123579  \n",
       "A-Q1_3  0.723167 -0.114427  \n",
       "A-Q1_4 -0.186797 -0.024713  \n",
       "A-Q1_5  0.870652 -0.866403  \n",
       "A-Q1_6 -0.129606 -0.706847  \n",
       "A-Q1_7  0.618251 -0.785103  \n",
       "A-Q1_8 -0.516153 -0.433996  \n",
       "A-Q1_9 -0.463765 -0.482285  "
      ]
     },
     "execution_count": 92,
     "metadata": {},
     "output_type": "execute_result"
    }
   ],
   "source": [
    "df_describe(Daten[Daten[Liste_A_Q1] != 0], Liste_A_Q1)"
   ]
  },
  {
   "cell_type": "code",
   "execution_count": 93,
   "metadata": {},
   "outputs": [],
   "source": [
    "#df_describe(Daten[Daten[Liste_A_Q1] != 0],Liste_A_Q1).to_excel('D:\\Daten\\DISS\\Daten\\Deskriptiv_Lehrende_A1.xlsx')"
   ]
  },
  {
   "cell_type": "code",
   "execution_count": 94,
   "metadata": {},
   "outputs": [
    {
     "data": {
      "image/png": "[encoded data removed]",
      "text/plain": [
       "<Figure size 576x432 with 1 Axes>"
      ]
     },
     "metadata": {
      "needs_background": "light"
     },
     "output_type": "display_data"
    }
   ],
   "source": [
    "graf_likert(Daten[Daten[Liste_A_Q1] != 0],Liste_A_Q1,6)"
   ]
  },
  {
   "cell_type": "code",
   "execution_count": 95,
   "metadata": {},
   "outputs": [
    {
     "data": {
      "image/png": "[encoded data removed]",
      "text/plain": [
       "<Figure size 1152x864 with 9 Axes>"
      ]
     },
     "metadata": {
      "needs_background": "light"
     },
     "output_type": "display_data"
    }
   ],
   "source": [
    "graf_hist(Daten,Liste_A_Q1,16,12,3,4)"
   ]
  },
  {
   "cell_type": "code",
   "execution_count": 96,
   "metadata": {},
   "outputs": [
    {
     "data": {
      "text/plain": [
       "A-Q1_7    4.269231\n",
       "A-Q1_5    3.905660\n",
       "A-Q1_9    3.673077\n",
       "A-Q1_8    3.596154\n",
       "A-Q1_6    3.547170\n",
       "A-Q1_2    3.283019\n",
       "A-Q1_3    3.207547\n",
       "A-Q1_4    3.113208\n",
       "A-Q1_1    2.867925\n",
       "dtype: float64"
      ]
     },
     "execution_count": 96,
     "metadata": {},
     "output_type": "execute_result"
    }
   ],
   "source": [
    "Daten[Daten[Liste_A_Q1] != 0][Liste_A_Q1].mean().sort_values(ascending = False)"
   ]
  },
  {
   "cell_type": "code",
   "execution_count": 97,
   "metadata": {},
   "outputs": [
    {
     "data": {
      "text/plain": [
       "A-Q1_1    3.0\n",
       "A-Q1_2    3.0\n",
       "A-Q1_3    3.0\n",
       "A-Q1_4    3.0\n",
       "A-Q1_5    4.0\n",
       "A-Q1_6    4.0\n",
       "A-Q1_7    4.0\n",
       "A-Q1_8    4.0\n",
       "A-Q1_9    4.0\n",
       "dtype: float64"
      ]
     },
     "execution_count": 97,
     "metadata": {},
     "output_type": "execute_result"
    }
   ],
   "source": [
    "Daten[Daten[Liste_A_Q1] != 0][Liste_A_Q1].median()"
   ]
  },
  {
   "cell_type": "code",
   "execution_count": 98,
   "metadata": {},
   "outputs": [
    {
     "data": {
      "text/html": [
       "<div>\n",
       "<style scoped>\n",
       "    .dataframe tbody tr th:only-of-type {\n",
       "        vertical-align: middle;\n",
       "    }\n",
       "\n",
       "    .dataframe tbody tr th {\n",
       "        vertical-align: top;\n",
       "    }\n",
       "\n",
       "    .dataframe thead th {\n",
       "        text-align: right;\n",
       "    }\n",
       "</style>\n",
       "<table border=\"1\" class=\"dataframe\">\n",
       "  <thead>\n",
       "    <tr style=\"text-align: right;\">\n",
       "      <th></th>\n",
       "      <th>0</th>\n",
       "    </tr>\n",
       "  </thead>\n",
       "  <tbody>\n",
       "    <tr>\n",
       "      <th>A-Q1_1</th>\n",
       "      <td>3.0</td>\n",
       "    </tr>\n",
       "    <tr>\n",
       "      <th>A-Q1_2</th>\n",
       "      <td>3.0</td>\n",
       "    </tr>\n",
       "    <tr>\n",
       "      <th>A-Q1_3</th>\n",
       "      <td>3.0</td>\n",
       "    </tr>\n",
       "    <tr>\n",
       "      <th>A-Q1_4</th>\n",
       "      <td>3.0</td>\n",
       "    </tr>\n",
       "    <tr>\n",
       "      <th>A-Q1_5</th>\n",
       "      <td>4.0</td>\n",
       "    </tr>\n",
       "    <tr>\n",
       "      <th>A-Q1_6</th>\n",
       "      <td>4.0</td>\n",
       "    </tr>\n",
       "    <tr>\n",
       "      <th>A-Q1_7</th>\n",
       "      <td>4.0</td>\n",
       "    </tr>\n",
       "    <tr>\n",
       "      <th>A-Q1_8</th>\n",
       "      <td>4.0</td>\n",
       "    </tr>\n",
       "    <tr>\n",
       "      <th>A-Q1_9</th>\n",
       "      <td>4.0</td>\n",
       "    </tr>\n",
       "  </tbody>\n",
       "</table>\n",
       "</div>"
      ],
      "text/plain": [
       "          0\n",
       "A-Q1_1  3.0\n",
       "A-Q1_2  3.0\n",
       "A-Q1_3  3.0\n",
       "A-Q1_4  3.0\n",
       "A-Q1_5  4.0\n",
       "A-Q1_6  4.0\n",
       "A-Q1_7  4.0\n",
       "A-Q1_8  4.0\n",
       "A-Q1_9  4.0"
      ]
     },
     "execution_count": 98,
     "metadata": {},
     "output_type": "execute_result"
    }
   ],
   "source": [
    "Daten[Daten[Liste_A_Q1] != 0][Liste_A_Q1].mode().T"
   ]
  },
  {
   "cell_type": "markdown",
   "metadata": {},
   "source": [
    "Korrelation in A-Q1:"
   ]
  },
  {
   "cell_type": "code",
   "execution_count": 99,
   "metadata": {},
   "outputs": [
    {
     "data": {
      "text/html": [
       "<style  type=\"text/css\" >\n",
       "    #T_fd36f7f6_e04b_11e9_9555_b8763fd8451drow0_col0 {\n",
       "            background-color :  salmon;\n",
       "        }    #T_fd36f7f6_e04b_11e9_9555_b8763fd8451drow0_col1 {\n",
       "            background-color:  peachpuff;\n",
       "        }    #T_fd36f7f6_e04b_11e9_9555_b8763fd8451drow0_col2 {\n",
       "            background-color :  white;\n",
       "        }    #T_fd36f7f6_e04b_11e9_9555_b8763fd8451drow0_col3 {\n",
       "            background-color:  peachpuff;\n",
       "        }    #T_fd36f7f6_e04b_11e9_9555_b8763fd8451drow0_col4 {\n",
       "            background-color:  peachpuff;\n",
       "        }    #T_fd36f7f6_e04b_11e9_9555_b8763fd8451drow0_col5 {\n",
       "            background-color:  peachpuff;\n",
       "        }    #T_fd36f7f6_e04b_11e9_9555_b8763fd8451drow0_col6 {\n",
       "            background-color :  white;\n",
       "        }    #T_fd36f7f6_e04b_11e9_9555_b8763fd8451drow0_col7 {\n",
       "            background-color :  white;\n",
       "        }    #T_fd36f7f6_e04b_11e9_9555_b8763fd8451drow0_col8 {\n",
       "            background-color :  white;\n",
       "        }    #T_fd36f7f6_e04b_11e9_9555_b8763fd8451drow1_col0 {\n",
       "            background-color:  peachpuff;\n",
       "        }    #T_fd36f7f6_e04b_11e9_9555_b8763fd8451drow1_col1 {\n",
       "            background-color :  salmon;\n",
       "        }    #T_fd36f7f6_e04b_11e9_9555_b8763fd8451drow1_col2 {\n",
       "            background-color:  lightsalmon;\n",
       "        }    #T_fd36f7f6_e04b_11e9_9555_b8763fd8451drow1_col3 {\n",
       "            background-color:  lightsalmon;\n",
       "        }    #T_fd36f7f6_e04b_11e9_9555_b8763fd8451drow1_col4 {\n",
       "            background-color:  lightsalmon;\n",
       "        }    #T_fd36f7f6_e04b_11e9_9555_b8763fd8451drow1_col5 {\n",
       "            background-color :  white;\n",
       "        }    #T_fd36f7f6_e04b_11e9_9555_b8763fd8451drow1_col6 {\n",
       "            background-color:  peachpuff;\n",
       "        }    #T_fd36f7f6_e04b_11e9_9555_b8763fd8451drow1_col7 {\n",
       "            background-color :  white;\n",
       "        }    #T_fd36f7f6_e04b_11e9_9555_b8763fd8451drow1_col8 {\n",
       "            background-color :  white;\n",
       "        }    #T_fd36f7f6_e04b_11e9_9555_b8763fd8451drow2_col0 {\n",
       "            background-color :  white;\n",
       "        }    #T_fd36f7f6_e04b_11e9_9555_b8763fd8451drow2_col1 {\n",
       "            background-color:  lightsalmon;\n",
       "        }    #T_fd36f7f6_e04b_11e9_9555_b8763fd8451drow2_col2 {\n",
       "            background-color :  salmon;\n",
       "        }    #T_fd36f7f6_e04b_11e9_9555_b8763fd8451drow2_col3 {\n",
       "            background-color:  lightsalmon;\n",
       "        }    #T_fd36f7f6_e04b_11e9_9555_b8763fd8451drow2_col4 {\n",
       "            background-color:  peachpuff;\n",
       "        }    #T_fd36f7f6_e04b_11e9_9555_b8763fd8451drow2_col5 {\n",
       "            background-color :  white;\n",
       "        }    #T_fd36f7f6_e04b_11e9_9555_b8763fd8451drow2_col6 {\n",
       "            background-color:  peachpuff;\n",
       "        }    #T_fd36f7f6_e04b_11e9_9555_b8763fd8451drow2_col7 {\n",
       "            background-color:  peachpuff;\n",
       "        }    #T_fd36f7f6_e04b_11e9_9555_b8763fd8451drow2_col8 {\n",
       "            background-color:  peachpuff;\n",
       "        }    #T_fd36f7f6_e04b_11e9_9555_b8763fd8451drow3_col0 {\n",
       "            background-color:  peachpuff;\n",
       "        }    #T_fd36f7f6_e04b_11e9_9555_b8763fd8451drow3_col1 {\n",
       "            background-color:  lightsalmon;\n",
       "        }    #T_fd36f7f6_e04b_11e9_9555_b8763fd8451drow3_col2 {\n",
       "            background-color:  lightsalmon;\n",
       "        }    #T_fd36f7f6_e04b_11e9_9555_b8763fd8451drow3_col3 {\n",
       "            background-color :  salmon;\n",
       "        }    #T_fd36f7f6_e04b_11e9_9555_b8763fd8451drow3_col4 {\n",
       "            background-color:  peachpuff;\n",
       "        }    #T_fd36f7f6_e04b_11e9_9555_b8763fd8451drow3_col5 {\n",
       "            background-color:  peachpuff;\n",
       "        }    #T_fd36f7f6_e04b_11e9_9555_b8763fd8451drow3_col6 {\n",
       "            background-color:  peachpuff;\n",
       "        }    #T_fd36f7f6_e04b_11e9_9555_b8763fd8451drow3_col7 {\n",
       "            background-color:  peachpuff;\n",
       "        }    #T_fd36f7f6_e04b_11e9_9555_b8763fd8451drow3_col8 {\n",
       "            background-color:  lightsalmon;\n",
       "        }    #T_fd36f7f6_e04b_11e9_9555_b8763fd8451drow4_col0 {\n",
       "            background-color:  peachpuff;\n",
       "        }    #T_fd36f7f6_e04b_11e9_9555_b8763fd8451drow4_col1 {\n",
       "            background-color:  lightsalmon;\n",
       "        }    #T_fd36f7f6_e04b_11e9_9555_b8763fd8451drow4_col2 {\n",
       "            background-color:  peachpuff;\n",
       "        }    #T_fd36f7f6_e04b_11e9_9555_b8763fd8451drow4_col3 {\n",
       "            background-color:  peachpuff;\n",
       "        }    #T_fd36f7f6_e04b_11e9_9555_b8763fd8451drow4_col4 {\n",
       "            background-color :  salmon;\n",
       "        }    #T_fd36f7f6_e04b_11e9_9555_b8763fd8451drow4_col5 {\n",
       "            background-color:  lightsalmon;\n",
       "        }    #T_fd36f7f6_e04b_11e9_9555_b8763fd8451drow4_col6 {\n",
       "            background-color:  peachpuff;\n",
       "        }    #T_fd36f7f6_e04b_11e9_9555_b8763fd8451drow4_col7 {\n",
       "            background-color :  white;\n",
       "        }    #T_fd36f7f6_e04b_11e9_9555_b8763fd8451drow4_col8 {\n",
       "            background-color :  white;\n",
       "        }    #T_fd36f7f6_e04b_11e9_9555_b8763fd8451drow5_col0 {\n",
       "            background-color:  peachpuff;\n",
       "        }    #T_fd36f7f6_e04b_11e9_9555_b8763fd8451drow5_col1 {\n",
       "            background-color :  white;\n",
       "        }    #T_fd36f7f6_e04b_11e9_9555_b8763fd8451drow5_col2 {\n",
       "            background-color :  white;\n",
       "        }    #T_fd36f7f6_e04b_11e9_9555_b8763fd8451drow5_col3 {\n",
       "            background-color:  peachpuff;\n",
       "        }    #T_fd36f7f6_e04b_11e9_9555_b8763fd8451drow5_col4 {\n",
       "            background-color:  lightsalmon;\n",
       "        }    #T_fd36f7f6_e04b_11e9_9555_b8763fd8451drow5_col5 {\n",
       "            background-color :  salmon;\n",
       "        }    #T_fd36f7f6_e04b_11e9_9555_b8763fd8451drow5_col6 {\n",
       "            background-color :  white;\n",
       "        }    #T_fd36f7f6_e04b_11e9_9555_b8763fd8451drow5_col7 {\n",
       "            background-color :  white;\n",
       "        }    #T_fd36f7f6_e04b_11e9_9555_b8763fd8451drow5_col8 {\n",
       "            background-color :  white;\n",
       "        }    #T_fd36f7f6_e04b_11e9_9555_b8763fd8451drow6_col0 {\n",
       "            background-color :  white;\n",
       "        }    #T_fd36f7f6_e04b_11e9_9555_b8763fd8451drow6_col1 {\n",
       "            background-color:  peachpuff;\n",
       "        }    #T_fd36f7f6_e04b_11e9_9555_b8763fd8451drow6_col2 {\n",
       "            background-color:  peachpuff;\n",
       "        }    #T_fd36f7f6_e04b_11e9_9555_b8763fd8451drow6_col3 {\n",
       "            background-color:  peachpuff;\n",
       "        }    #T_fd36f7f6_e04b_11e9_9555_b8763fd8451drow6_col4 {\n",
       "            background-color:  peachpuff;\n",
       "        }    #T_fd36f7f6_e04b_11e9_9555_b8763fd8451drow6_col5 {\n",
       "            background-color :  white;\n",
       "        }    #T_fd36f7f6_e04b_11e9_9555_b8763fd8451drow6_col6 {\n",
       "            background-color :  salmon;\n",
       "        }    #T_fd36f7f6_e04b_11e9_9555_b8763fd8451drow6_col7 {\n",
       "            background-color:  peachpuff;\n",
       "        }    #T_fd36f7f6_e04b_11e9_9555_b8763fd8451drow6_col8 {\n",
       "            background-color :  white;\n",
       "        }    #T_fd36f7f6_e04b_11e9_9555_b8763fd8451drow7_col0 {\n",
       "            background-color :  white;\n",
       "        }    #T_fd36f7f6_e04b_11e9_9555_b8763fd8451drow7_col1 {\n",
       "            background-color :  white;\n",
       "        }    #T_fd36f7f6_e04b_11e9_9555_b8763fd8451drow7_col2 {\n",
       "            background-color:  peachpuff;\n",
       "        }    #T_fd36f7f6_e04b_11e9_9555_b8763fd8451drow7_col3 {\n",
       "            background-color:  peachpuff;\n",
       "        }    #T_fd36f7f6_e04b_11e9_9555_b8763fd8451drow7_col4 {\n",
       "            background-color :  white;\n",
       "        }    #T_fd36f7f6_e04b_11e9_9555_b8763fd8451drow7_col5 {\n",
       "            background-color :  white;\n",
       "        }    #T_fd36f7f6_e04b_11e9_9555_b8763fd8451drow7_col6 {\n",
       "            background-color:  peachpuff;\n",
       "        }    #T_fd36f7f6_e04b_11e9_9555_b8763fd8451drow7_col7 {\n",
       "            background-color :  salmon;\n",
       "        }    #T_fd36f7f6_e04b_11e9_9555_b8763fd8451drow7_col8 {\n",
       "            background-color :  salmon;\n",
       "        }    #T_fd36f7f6_e04b_11e9_9555_b8763fd8451drow8_col0 {\n",
       "            background-color :  white;\n",
       "        }    #T_fd36f7f6_e04b_11e9_9555_b8763fd8451drow8_col1 {\n",
       "            background-color :  white;\n",
       "        }    #T_fd36f7f6_e04b_11e9_9555_b8763fd8451drow8_col2 {\n",
       "            background-color:  peachpuff;\n",
       "        }    #T_fd36f7f6_e04b_11e9_9555_b8763fd8451drow8_col3 {\n",
       "            background-color:  lightsalmon;\n",
       "        }    #T_fd36f7f6_e04b_11e9_9555_b8763fd8451drow8_col4 {\n",
       "            background-color :  white;\n",
       "        }    #T_fd36f7f6_e04b_11e9_9555_b8763fd8451drow8_col5 {\n",
       "            background-color :  white;\n",
       "        }    #T_fd36f7f6_e04b_11e9_9555_b8763fd8451drow8_col6 {\n",
       "            background-color :  white;\n",
       "        }    #T_fd36f7f6_e04b_11e9_9555_b8763fd8451drow8_col7 {\n",
       "            background-color :  salmon;\n",
       "        }    #T_fd36f7f6_e04b_11e9_9555_b8763fd8451drow8_col8 {\n",
       "            background-color :  salmon;\n",
       "        }</style><table id=\"T_fd36f7f6_e04b_11e9_9555_b8763fd8451d\" ><thead>    <tr>        <th class=\"blank level0\" ></th>        <th class=\"col_heading level0 col0\" >A-Q1_1</th>        <th class=\"col_heading level0 col1\" >A-Q1_2</th>        <th class=\"col_heading level0 col2\" >A-Q1_3</th>        <th class=\"col_heading level0 col3\" >A-Q1_4</th>        <th class=\"col_heading level0 col4\" >A-Q1_5</th>        <th class=\"col_heading level0 col5\" >A-Q1_6</th>        <th class=\"col_heading level0 col6\" >A-Q1_7</th>        <th class=\"col_heading level0 col7\" >A-Q1_8</th>        <th class=\"col_heading level0 col8\" >A-Q1_9</th>    </tr></thead><tbody>\n",
       "                <tr>\n",
       "                        <th id=\"T_fd36f7f6_e04b_11e9_9555_b8763fd8451dlevel0_row0\" class=\"row_heading level0 row0\" >A-Q1_1</th>\n",
       "                        <td id=\"T_fd36f7f6_e04b_11e9_9555_b8763fd8451drow0_col0\" class=\"data row0 col0\" >1</td>\n",
       "                        <td id=\"T_fd36f7f6_e04b_11e9_9555_b8763fd8451drow0_col1\" class=\"data row0 col1\" >0.132522</td>\n",
       "                        <td id=\"T_fd36f7f6_e04b_11e9_9555_b8763fd8451drow0_col2\" class=\"data row0 col2\" >0.0694601</td>\n",
       "                        <td id=\"T_fd36f7f6_e04b_11e9_9555_b8763fd8451drow0_col3\" class=\"data row0 col3\" >0.125091</td>\n",
       "                        <td id=\"T_fd36f7f6_e04b_11e9_9555_b8763fd8451drow0_col4\" class=\"data row0 col4\" >0.224447</td>\n",
       "                        <td id=\"T_fd36f7f6_e04b_11e9_9555_b8763fd8451drow0_col5\" class=\"data row0 col5\" >0.193484</td>\n",
       "                        <td id=\"T_fd36f7f6_e04b_11e9_9555_b8763fd8451drow0_col6\" class=\"data row0 col6\" >0.0113917</td>\n",
       "                        <td id=\"T_fd36f7f6_e04b_11e9_9555_b8763fd8451drow0_col7\" class=\"data row0 col7\" >-0.0819289</td>\n",
       "                        <td id=\"T_fd36f7f6_e04b_11e9_9555_b8763fd8451drow0_col8\" class=\"data row0 col8\" >-0.031375</td>\n",
       "            </tr>\n",
       "            <tr>\n",
       "                        <th id=\"T_fd36f7f6_e04b_11e9_9555_b8763fd8451dlevel0_row1\" class=\"row_heading level0 row1\" >A-Q1_2</th>\n",
       "                        <td id=\"T_fd36f7f6_e04b_11e9_9555_b8763fd8451drow1_col0\" class=\"data row1 col0\" >0.132522</td>\n",
       "                        <td id=\"T_fd36f7f6_e04b_11e9_9555_b8763fd8451drow1_col1\" class=\"data row1 col1\" >1</td>\n",
       "                        <td id=\"T_fd36f7f6_e04b_11e9_9555_b8763fd8451drow1_col2\" class=\"data row1 col2\" >0.301309</td>\n",
       "                        <td id=\"T_fd36f7f6_e04b_11e9_9555_b8763fd8451drow1_col3\" class=\"data row1 col3\" >0.306467</td>\n",
       "                        <td id=\"T_fd36f7f6_e04b_11e9_9555_b8763fd8451drow1_col4\" class=\"data row1 col4\" >0.495217</td>\n",
       "                        <td id=\"T_fd36f7f6_e04b_11e9_9555_b8763fd8451drow1_col5\" class=\"data row1 col5\" >0.0970746</td>\n",
       "                        <td id=\"T_fd36f7f6_e04b_11e9_9555_b8763fd8451drow1_col6\" class=\"data row1 col6\" >0.1639</td>\n",
       "                        <td id=\"T_fd36f7f6_e04b_11e9_9555_b8763fd8451drow1_col7\" class=\"data row1 col7\" >0.0551753</td>\n",
       "                        <td id=\"T_fd36f7f6_e04b_11e9_9555_b8763fd8451drow1_col8\" class=\"data row1 col8\" >0.0816443</td>\n",
       "            </tr>\n",
       "            <tr>\n",
       "                        <th id=\"T_fd36f7f6_e04b_11e9_9555_b8763fd8451dlevel0_row2\" class=\"row_heading level0 row2\" >A-Q1_3</th>\n",
       "                        <td id=\"T_fd36f7f6_e04b_11e9_9555_b8763fd8451drow2_col0\" class=\"data row2 col0\" >0.0694601</td>\n",
       "                        <td id=\"T_fd36f7f6_e04b_11e9_9555_b8763fd8451drow2_col1\" class=\"data row2 col1\" >0.301309</td>\n",
       "                        <td id=\"T_fd36f7f6_e04b_11e9_9555_b8763fd8451drow2_col2\" class=\"data row2 col2\" >1</td>\n",
       "                        <td id=\"T_fd36f7f6_e04b_11e9_9555_b8763fd8451drow2_col3\" class=\"data row2 col3\" >0.487412</td>\n",
       "                        <td id=\"T_fd36f7f6_e04b_11e9_9555_b8763fd8451drow2_col4\" class=\"data row2 col4\" >0.167133</td>\n",
       "                        <td id=\"T_fd36f7f6_e04b_11e9_9555_b8763fd8451drow2_col5\" class=\"data row2 col5\" >0.0626609</td>\n",
       "                        <td id=\"T_fd36f7f6_e04b_11e9_9555_b8763fd8451drow2_col6\" class=\"data row2 col6\" >-0.12111</td>\n",
       "                        <td id=\"T_fd36f7f6_e04b_11e9_9555_b8763fd8451drow2_col7\" class=\"data row2 col7\" >0.206122</td>\n",
       "                        <td id=\"T_fd36f7f6_e04b_11e9_9555_b8763fd8451drow2_col8\" class=\"data row2 col8\" >0.16393</td>\n",
       "            </tr>\n",
       "            <tr>\n",
       "                        <th id=\"T_fd36f7f6_e04b_11e9_9555_b8763fd8451dlevel0_row3\" class=\"row_heading level0 row3\" >A-Q1_4</th>\n",
       "                        <td id=\"T_fd36f7f6_e04b_11e9_9555_b8763fd8451drow3_col0\" class=\"data row3 col0\" >0.125091</td>\n",
       "                        <td id=\"T_fd36f7f6_e04b_11e9_9555_b8763fd8451drow3_col1\" class=\"data row3 col1\" >0.306467</td>\n",
       "                        <td id=\"T_fd36f7f6_e04b_11e9_9555_b8763fd8451drow3_col2\" class=\"data row3 col2\" >0.487412</td>\n",
       "                        <td id=\"T_fd36f7f6_e04b_11e9_9555_b8763fd8451drow3_col3\" class=\"data row3 col3\" >1</td>\n",
       "                        <td id=\"T_fd36f7f6_e04b_11e9_9555_b8763fd8451drow3_col4\" class=\"data row3 col4\" >0.131262</td>\n",
       "                        <td id=\"T_fd36f7f6_e04b_11e9_9555_b8763fd8451drow3_col5\" class=\"data row3 col5\" >-0.154285</td>\n",
       "                        <td id=\"T_fd36f7f6_e04b_11e9_9555_b8763fd8451drow3_col6\" class=\"data row3 col6\" >-0.14318</td>\n",
       "                        <td id=\"T_fd36f7f6_e04b_11e9_9555_b8763fd8451drow3_col7\" class=\"data row3 col7\" >0.242275</td>\n",
       "                        <td id=\"T_fd36f7f6_e04b_11e9_9555_b8763fd8451drow3_col8\" class=\"data row3 col8\" >0.302704</td>\n",
       "            </tr>\n",
       "            <tr>\n",
       "                        <th id=\"T_fd36f7f6_e04b_11e9_9555_b8763fd8451dlevel0_row4\" class=\"row_heading level0 row4\" >A-Q1_5</th>\n",
       "                        <td id=\"T_fd36f7f6_e04b_11e9_9555_b8763fd8451drow4_col0\" class=\"data row4 col0\" >0.224447</td>\n",
       "                        <td id=\"T_fd36f7f6_e04b_11e9_9555_b8763fd8451drow4_col1\" class=\"data row4 col1\" >0.495217</td>\n",
       "                        <td id=\"T_fd36f7f6_e04b_11e9_9555_b8763fd8451drow4_col2\" class=\"data row4 col2\" >0.167133</td>\n",
       "                        <td id=\"T_fd36f7f6_e04b_11e9_9555_b8763fd8451drow4_col3\" class=\"data row4 col3\" >0.131262</td>\n",
       "                        <td id=\"T_fd36f7f6_e04b_11e9_9555_b8763fd8451drow4_col4\" class=\"data row4 col4\" >1</td>\n",
       "                        <td id=\"T_fd36f7f6_e04b_11e9_9555_b8763fd8451drow4_col5\" class=\"data row4 col5\" >0.330421</td>\n",
       "                        <td id=\"T_fd36f7f6_e04b_11e9_9555_b8763fd8451drow4_col6\" class=\"data row4 col6\" >0.11638</td>\n",
       "                        <td id=\"T_fd36f7f6_e04b_11e9_9555_b8763fd8451drow4_col7\" class=\"data row4 col7\" >-0.058213</td>\n",
       "                        <td id=\"T_fd36f7f6_e04b_11e9_9555_b8763fd8451drow4_col8\" class=\"data row4 col8\" >0.0229288</td>\n",
       "            </tr>\n",
       "            <tr>\n",
       "                        <th id=\"T_fd36f7f6_e04b_11e9_9555_b8763fd8451dlevel0_row5\" class=\"row_heading level0 row5\" >A-Q1_6</th>\n",
       "                        <td id=\"T_fd36f7f6_e04b_11e9_9555_b8763fd8451drow5_col0\" class=\"data row5 col0\" >0.193484</td>\n",
       "                        <td id=\"T_fd36f7f6_e04b_11e9_9555_b8763fd8451drow5_col1\" class=\"data row5 col1\" >0.0970746</td>\n",
       "                        <td id=\"T_fd36f7f6_e04b_11e9_9555_b8763fd8451drow5_col2\" class=\"data row5 col2\" >0.0626609</td>\n",
       "                        <td id=\"T_fd36f7f6_e04b_11e9_9555_b8763fd8451drow5_col3\" class=\"data row5 col3\" >-0.154285</td>\n",
       "                        <td id=\"T_fd36f7f6_e04b_11e9_9555_b8763fd8451drow5_col4\" class=\"data row5 col4\" >0.330421</td>\n",
       "                        <td id=\"T_fd36f7f6_e04b_11e9_9555_b8763fd8451drow5_col5\" class=\"data row5 col5\" >1</td>\n",
       "                        <td id=\"T_fd36f7f6_e04b_11e9_9555_b8763fd8451drow5_col6\" class=\"data row5 col6\" >-0.0213172</td>\n",
       "                        <td id=\"T_fd36f7f6_e04b_11e9_9555_b8763fd8451drow5_col7\" class=\"data row5 col7\" >0.0203207</td>\n",
       "                        <td id=\"T_fd36f7f6_e04b_11e9_9555_b8763fd8451drow5_col8\" class=\"data row5 col8\" >-0.0308353</td>\n",
       "            </tr>\n",
       "            <tr>\n",
       "                        <th id=\"T_fd36f7f6_e04b_11e9_9555_b8763fd8451dlevel0_row6\" class=\"row_heading level0 row6\" >A-Q1_7</th>\n",
       "                        <td id=\"T_fd36f7f6_e04b_11e9_9555_b8763fd8451drow6_col0\" class=\"data row6 col0\" >0.0113917</td>\n",
       "                        <td id=\"T_fd36f7f6_e04b_11e9_9555_b8763fd8451drow6_col1\" class=\"data row6 col1\" >0.1639</td>\n",
       "                        <td id=\"T_fd36f7f6_e04b_11e9_9555_b8763fd8451drow6_col2\" class=\"data row6 col2\" >-0.12111</td>\n",
       "                        <td id=\"T_fd36f7f6_e04b_11e9_9555_b8763fd8451drow6_col3\" class=\"data row6 col3\" >-0.14318</td>\n",
       "                        <td id=\"T_fd36f7f6_e04b_11e9_9555_b8763fd8451drow6_col4\" class=\"data row6 col4\" >0.11638</td>\n",
       "                        <td id=\"T_fd36f7f6_e04b_11e9_9555_b8763fd8451drow6_col5\" class=\"data row6 col5\" >-0.0213172</td>\n",
       "                        <td id=\"T_fd36f7f6_e04b_11e9_9555_b8763fd8451drow6_col6\" class=\"data row6 col6\" >1</td>\n",
       "                        <td id=\"T_fd36f7f6_e04b_11e9_9555_b8763fd8451drow6_col7\" class=\"data row6 col7\" >-0.125088</td>\n",
       "                        <td id=\"T_fd36f7f6_e04b_11e9_9555_b8763fd8451drow6_col8\" class=\"data row6 col8\" >0.0936706</td>\n",
       "            </tr>\n",
       "            <tr>\n",
       "                        <th id=\"T_fd36f7f6_e04b_11e9_9555_b8763fd8451dlevel0_row7\" class=\"row_heading level0 row7\" >A-Q1_8</th>\n",
       "                        <td id=\"T_fd36f7f6_e04b_11e9_9555_b8763fd8451drow7_col0\" class=\"data row7 col0\" >-0.0819289</td>\n",
       "                        <td id=\"T_fd36f7f6_e04b_11e9_9555_b8763fd8451drow7_col1\" class=\"data row7 col1\" >0.0551753</td>\n",
       "                        <td id=\"T_fd36f7f6_e04b_11e9_9555_b8763fd8451drow7_col2\" class=\"data row7 col2\" >0.206122</td>\n",
       "                        <td id=\"T_fd36f7f6_e04b_11e9_9555_b8763fd8451drow7_col3\" class=\"data row7 col3\" >0.242275</td>\n",
       "                        <td id=\"T_fd36f7f6_e04b_11e9_9555_b8763fd8451drow7_col4\" class=\"data row7 col4\" >-0.058213</td>\n",
       "                        <td id=\"T_fd36f7f6_e04b_11e9_9555_b8763fd8451drow7_col5\" class=\"data row7 col5\" >0.0203207</td>\n",
       "                        <td id=\"T_fd36f7f6_e04b_11e9_9555_b8763fd8451drow7_col6\" class=\"data row7 col6\" >-0.125088</td>\n",
       "                        <td id=\"T_fd36f7f6_e04b_11e9_9555_b8763fd8451drow7_col7\" class=\"data row7 col7\" >1</td>\n",
       "                        <td id=\"T_fd36f7f6_e04b_11e9_9555_b8763fd8451drow7_col8\" class=\"data row7 col8\" >0.514446</td>\n",
       "            </tr>\n",
       "            <tr>\n",
       "                        <th id=\"T_fd36f7f6_e04b_11e9_9555_b8763fd8451dlevel0_row8\" class=\"row_heading level0 row8\" >A-Q1_9</th>\n",
       "                        <td id=\"T_fd36f7f6_e04b_11e9_9555_b8763fd8451drow8_col0\" class=\"data row8 col0\" >-0.031375</td>\n",
       "                        <td id=\"T_fd36f7f6_e04b_11e9_9555_b8763fd8451drow8_col1\" class=\"data row8 col1\" >0.0816443</td>\n",
       "                        <td id=\"T_fd36f7f6_e04b_11e9_9555_b8763fd8451drow8_col2\" class=\"data row8 col2\" >0.16393</td>\n",
       "                        <td id=\"T_fd36f7f6_e04b_11e9_9555_b8763fd8451drow8_col3\" class=\"data row8 col3\" >0.302704</td>\n",
       "                        <td id=\"T_fd36f7f6_e04b_11e9_9555_b8763fd8451drow8_col4\" class=\"data row8 col4\" >0.0229288</td>\n",
       "                        <td id=\"T_fd36f7f6_e04b_11e9_9555_b8763fd8451drow8_col5\" class=\"data row8 col5\" >-0.0308353</td>\n",
       "                        <td id=\"T_fd36f7f6_e04b_11e9_9555_b8763fd8451drow8_col6\" class=\"data row8 col6\" >0.0936706</td>\n",
       "                        <td id=\"T_fd36f7f6_e04b_11e9_9555_b8763fd8451drow8_col7\" class=\"data row8 col7\" >0.514446</td>\n",
       "                        <td id=\"T_fd36f7f6_e04b_11e9_9555_b8763fd8451drow8_col8\" class=\"data row8 col8\" >1</td>\n",
       "            </tr>\n",
       "    </tbody></table>"
      ],
      "text/plain": [
       "<pandas.io.formats.style.Styler at 0xe5f0208>"
      ]
     },
     "execution_count": 99,
     "metadata": {},
     "output_type": "execute_result"
    }
   ],
   "source": [
    "df_spearman(Daten[Daten[Liste_A_Q1] != 0],Liste_A_Q1)"
   ]
  },
  {
   "cell_type": "code",
   "execution_count": 100,
   "metadata": {},
   "outputs": [
    {
     "data": {
      "text/html": [
       "<style  type=\"text/css\" >\n",
       "    #T_fd4cf14a_e04b_11e9_a24b_b8763fd8451drow0_col0 {\n",
       "            background-color :  salmon;\n",
       "        }    #T_fd4cf14a_e04b_11e9_a24b_b8763fd8451drow0_col1 {\n",
       "            background-color :  white;\n",
       "        }    #T_fd4cf14a_e04b_11e9_a24b_b8763fd8451drow0_col2 {\n",
       "            background-color :  white;\n",
       "        }    #T_fd4cf14a_e04b_11e9_a24b_b8763fd8451drow0_col3 {\n",
       "            background-color :  white;\n",
       "        }    #T_fd4cf14a_e04b_11e9_a24b_b8763fd8451drow0_col4 {\n",
       "            background-color :  white;\n",
       "        }    #T_fd4cf14a_e04b_11e9_a24b_b8763fd8451drow0_col5 {\n",
       "            background-color :  white;\n",
       "        }    #T_fd4cf14a_e04b_11e9_a24b_b8763fd8451drow0_col6 {\n",
       "            background-color :  white;\n",
       "        }    #T_fd4cf14a_e04b_11e9_a24b_b8763fd8451drow0_col7 {\n",
       "            background-color :  white;\n",
       "        }    #T_fd4cf14a_e04b_11e9_a24b_b8763fd8451drow0_col8 {\n",
       "            background-color :  white;\n",
       "        }    #T_fd4cf14a_e04b_11e9_a24b_b8763fd8451drow1_col0 {\n",
       "            background-color :  white;\n",
       "        }    #T_fd4cf14a_e04b_11e9_a24b_b8763fd8451drow1_col1 {\n",
       "            background-color :  salmon;\n",
       "        }    #T_fd4cf14a_e04b_11e9_a24b_b8763fd8451drow1_col2 {\n",
       "            background-color:  lightsalmon;\n",
       "        }    #T_fd4cf14a_e04b_11e9_a24b_b8763fd8451drow1_col3 {\n",
       "            background-color:  lightsalmon;\n",
       "        }    #T_fd4cf14a_e04b_11e9_a24b_b8763fd8451drow1_col4 {\n",
       "            background-color :  salmon;\n",
       "        }    #T_fd4cf14a_e04b_11e9_a24b_b8763fd8451drow1_col5 {\n",
       "            background-color :  white;\n",
       "        }    #T_fd4cf14a_e04b_11e9_a24b_b8763fd8451drow1_col6 {\n",
       "            background-color :  white;\n",
       "        }    #T_fd4cf14a_e04b_11e9_a24b_b8763fd8451drow1_col7 {\n",
       "            background-color :  white;\n",
       "        }    #T_fd4cf14a_e04b_11e9_a24b_b8763fd8451drow1_col8 {\n",
       "            background-color :  white;\n",
       "        }    #T_fd4cf14a_e04b_11e9_a24b_b8763fd8451drow2_col0 {\n",
       "            background-color :  white;\n",
       "        }    #T_fd4cf14a_e04b_11e9_a24b_b8763fd8451drow2_col1 {\n",
       "            background-color:  lightsalmon;\n",
       "        }    #T_fd4cf14a_e04b_11e9_a24b_b8763fd8451drow2_col2 {\n",
       "            background-color :  salmon;\n",
       "        }    #T_fd4cf14a_e04b_11e9_a24b_b8763fd8451drow2_col3 {\n",
       "            background-color :  salmon;\n",
       "        }    #T_fd4cf14a_e04b_11e9_a24b_b8763fd8451drow2_col4 {\n",
       "            background-color :  white;\n",
       "        }    #T_fd4cf14a_e04b_11e9_a24b_b8763fd8451drow2_col5 {\n",
       "            background-color :  white;\n",
       "        }    #T_fd4cf14a_e04b_11e9_a24b_b8763fd8451drow2_col6 {\n",
       "            background-color :  white;\n",
       "        }    #T_fd4cf14a_e04b_11e9_a24b_b8763fd8451drow2_col7 {\n",
       "            background-color :  white;\n",
       "        }    #T_fd4cf14a_e04b_11e9_a24b_b8763fd8451drow2_col8 {\n",
       "            background-color :  white;\n",
       "        }    #T_fd4cf14a_e04b_11e9_a24b_b8763fd8451drow3_col0 {\n",
       "            background-color :  white;\n",
       "        }    #T_fd4cf14a_e04b_11e9_a24b_b8763fd8451drow3_col1 {\n",
       "            background-color:  lightsalmon;\n",
       "        }    #T_fd4cf14a_e04b_11e9_a24b_b8763fd8451drow3_col2 {\n",
       "            background-color :  salmon;\n",
       "        }    #T_fd4cf14a_e04b_11e9_a24b_b8763fd8451drow3_col3 {\n",
       "            background-color :  salmon;\n",
       "        }    #T_fd4cf14a_e04b_11e9_a24b_b8763fd8451drow3_col4 {\n",
       "            background-color :  white;\n",
       "        }    #T_fd4cf14a_e04b_11e9_a24b_b8763fd8451drow3_col5 {\n",
       "            background-color :  white;\n",
       "        }    #T_fd4cf14a_e04b_11e9_a24b_b8763fd8451drow3_col6 {\n",
       "            background-color :  white;\n",
       "        }    #T_fd4cf14a_e04b_11e9_a24b_b8763fd8451drow3_col7 {\n",
       "            background-color:  lightsalmon;\n",
       "        }    #T_fd4cf14a_e04b_11e9_a24b_b8763fd8451drow3_col8 {\n",
       "            background-color:  lightsalmon;\n",
       "        }    #T_fd4cf14a_e04b_11e9_a24b_b8763fd8451drow4_col0 {\n",
       "            background-color :  white;\n",
       "        }    #T_fd4cf14a_e04b_11e9_a24b_b8763fd8451drow4_col1 {\n",
       "            background-color :  salmon;\n",
       "        }    #T_fd4cf14a_e04b_11e9_a24b_b8763fd8451drow4_col2 {\n",
       "            background-color :  white;\n",
       "        }    #T_fd4cf14a_e04b_11e9_a24b_b8763fd8451drow4_col3 {\n",
       "            background-color :  white;\n",
       "        }    #T_fd4cf14a_e04b_11e9_a24b_b8763fd8451drow4_col4 {\n",
       "            background-color :  salmon;\n",
       "        }    #T_fd4cf14a_e04b_11e9_a24b_b8763fd8451drow4_col5 {\n",
       "            background-color:  lightsalmon;\n",
       "        }    #T_fd4cf14a_e04b_11e9_a24b_b8763fd8451drow4_col6 {\n",
       "            background-color :  white;\n",
       "        }    #T_fd4cf14a_e04b_11e9_a24b_b8763fd8451drow4_col7 {\n",
       "            background-color :  white;\n",
       "        }    #T_fd4cf14a_e04b_11e9_a24b_b8763fd8451drow4_col8 {\n",
       "            background-color :  white;\n",
       "        }    #T_fd4cf14a_e04b_11e9_a24b_b8763fd8451drow5_col0 {\n",
       "            background-color :  white;\n",
       "        }    #T_fd4cf14a_e04b_11e9_a24b_b8763fd8451drow5_col1 {\n",
       "            background-color :  white;\n",
       "        }    #T_fd4cf14a_e04b_11e9_a24b_b8763fd8451drow5_col2 {\n",
       "            background-color :  white;\n",
       "        }    #T_fd4cf14a_e04b_11e9_a24b_b8763fd8451drow5_col3 {\n",
       "            background-color :  white;\n",
       "        }    #T_fd4cf14a_e04b_11e9_a24b_b8763fd8451drow5_col4 {\n",
       "            background-color:  lightsalmon;\n",
       "        }    #T_fd4cf14a_e04b_11e9_a24b_b8763fd8451drow5_col5 {\n",
       "            background-color :  salmon;\n",
       "        }    #T_fd4cf14a_e04b_11e9_a24b_b8763fd8451drow5_col6 {\n",
       "            background-color :  white;\n",
       "        }    #T_fd4cf14a_e04b_11e9_a24b_b8763fd8451drow5_col7 {\n",
       "            background-color :  white;\n",
       "        }    #T_fd4cf14a_e04b_11e9_a24b_b8763fd8451drow5_col8 {\n",
       "            background-color :  white;\n",
       "        }    #T_fd4cf14a_e04b_11e9_a24b_b8763fd8451drow6_col0 {\n",
       "            background-color :  white;\n",
       "        }    #T_fd4cf14a_e04b_11e9_a24b_b8763fd8451drow6_col1 {\n",
       "            background-color :  white;\n",
       "        }    #T_fd4cf14a_e04b_11e9_a24b_b8763fd8451drow6_col2 {\n",
       "            background-color :  white;\n",
       "        }    #T_fd4cf14a_e04b_11e9_a24b_b8763fd8451drow6_col3 {\n",
       "            background-color :  white;\n",
       "        }    #T_fd4cf14a_e04b_11e9_a24b_b8763fd8451drow6_col4 {\n",
       "            background-color :  white;\n",
       "        }    #T_fd4cf14a_e04b_11e9_a24b_b8763fd8451drow6_col5 {\n",
       "            background-color :  white;\n",
       "        }    #T_fd4cf14a_e04b_11e9_a24b_b8763fd8451drow6_col6 {\n",
       "            background-color :  salmon;\n",
       "        }    #T_fd4cf14a_e04b_11e9_a24b_b8763fd8451drow6_col7 {\n",
       "            background-color :  white;\n",
       "        }    #T_fd4cf14a_e04b_11e9_a24b_b8763fd8451drow6_col8 {\n",
       "            background-color :  white;\n",
       "        }    #T_fd4cf14a_e04b_11e9_a24b_b8763fd8451drow7_col0 {\n",
       "            background-color :  white;\n",
       "        }    #T_fd4cf14a_e04b_11e9_a24b_b8763fd8451drow7_col1 {\n",
       "            background-color :  white;\n",
       "        }    #T_fd4cf14a_e04b_11e9_a24b_b8763fd8451drow7_col2 {\n",
       "            background-color :  white;\n",
       "        }    #T_fd4cf14a_e04b_11e9_a24b_b8763fd8451drow7_col3 {\n",
       "            background-color:  lightsalmon;\n",
       "        }    #T_fd4cf14a_e04b_11e9_a24b_b8763fd8451drow7_col4 {\n",
       "            background-color :  white;\n",
       "        }    #T_fd4cf14a_e04b_11e9_a24b_b8763fd8451drow7_col5 {\n",
       "            background-color :  white;\n",
       "        }    #T_fd4cf14a_e04b_11e9_a24b_b8763fd8451drow7_col6 {\n",
       "            background-color :  white;\n",
       "        }    #T_fd4cf14a_e04b_11e9_a24b_b8763fd8451drow7_col7 {\n",
       "            background-color :  salmon;\n",
       "        }    #T_fd4cf14a_e04b_11e9_a24b_b8763fd8451drow7_col8 {\n",
       "            background-color :  salmon;\n",
       "        }    #T_fd4cf14a_e04b_11e9_a24b_b8763fd8451drow8_col0 {\n",
       "            background-color :  white;\n",
       "        }    #T_fd4cf14a_e04b_11e9_a24b_b8763fd8451drow8_col1 {\n",
       "            background-color :  white;\n",
       "        }    #T_fd4cf14a_e04b_11e9_a24b_b8763fd8451drow8_col2 {\n",
       "            background-color :  white;\n",
       "        }    #T_fd4cf14a_e04b_11e9_a24b_b8763fd8451drow8_col3 {\n",
       "            background-color:  lightsalmon;\n",
       "        }    #T_fd4cf14a_e04b_11e9_a24b_b8763fd8451drow8_col4 {\n",
       "            background-color :  white;\n",
       "        }    #T_fd4cf14a_e04b_11e9_a24b_b8763fd8451drow8_col5 {\n",
       "            background-color :  white;\n",
       "        }    #T_fd4cf14a_e04b_11e9_a24b_b8763fd8451drow8_col6 {\n",
       "            background-color :  white;\n",
       "        }    #T_fd4cf14a_e04b_11e9_a24b_b8763fd8451drow8_col7 {\n",
       "            background-color :  salmon;\n",
       "        }    #T_fd4cf14a_e04b_11e9_a24b_b8763fd8451drow8_col8 {\n",
       "            background-color :  salmon;\n",
       "        }</style><table id=\"T_fd4cf14a_e04b_11e9_a24b_b8763fd8451d\" ><thead>    <tr>        <th class=\"blank level0\" ></th>        <th class=\"col_heading level0 col0\" >A-Q1_1</th>        <th class=\"col_heading level0 col1\" >A-Q1_2</th>        <th class=\"col_heading level0 col2\" >A-Q1_3</th>        <th class=\"col_heading level0 col3\" >A-Q1_4</th>        <th class=\"col_heading level0 col4\" >A-Q1_5</th>        <th class=\"col_heading level0 col5\" >A-Q1_6</th>        <th class=\"col_heading level0 col6\" >A-Q1_7</th>        <th class=\"col_heading level0 col7\" >A-Q1_8</th>        <th class=\"col_heading level0 col8\" >A-Q1_9</th>    </tr></thead><tbody>\n",
       "                <tr>\n",
       "                        <th id=\"T_fd4cf14a_e04b_11e9_a24b_b8763fd8451dlevel0_row0\" class=\"row_heading level0 row0\" >A-Q1_1</th>\n",
       "                        <td id=\"T_fd4cf14a_e04b_11e9_a24b_b8763fd8451drow0_col0\" class=\"data row0 col0\" >0</td>\n",
       "                        <td id=\"T_fd4cf14a_e04b_11e9_a24b_b8763fd8451drow0_col1\" class=\"data row0 col1\" >0.344172</td>\n",
       "                        <td id=\"T_fd4cf14a_e04b_11e9_a24b_b8763fd8451drow0_col2\" class=\"data row0 col2\" >0.621153</td>\n",
       "                        <td id=\"T_fd4cf14a_e04b_11e9_a24b_b8763fd8451drow0_col3\" class=\"data row0 col3\" >0.372139</td>\n",
       "                        <td id=\"T_fd4cf14a_e04b_11e9_a24b_b8763fd8451drow0_col4\" class=\"data row0 col4\" >0.106154</td>\n",
       "                        <td id=\"T_fd4cf14a_e04b_11e9_a24b_b8763fd8451drow0_col5\" class=\"data row0 col5\" >0.165091</td>\n",
       "                        <td id=\"T_fd4cf14a_e04b_11e9_a24b_b8763fd8451drow0_col6\" class=\"data row0 col6\" >0.616355</td>\n",
       "                        <td id=\"T_fd4cf14a_e04b_11e9_a24b_b8763fd8451drow0_col7\" class=\"data row0 col7\" >0.877569</td>\n",
       "                        <td id=\"T_fd4cf14a_e04b_11e9_a24b_b8763fd8451drow0_col8\" class=\"data row0 col8\" >0.859656</td>\n",
       "            </tr>\n",
       "            <tr>\n",
       "                        <th id=\"T_fd4cf14a_e04b_11e9_a24b_b8763fd8451dlevel0_row1\" class=\"row_heading level0 row1\" >A-Q1_2</th>\n",
       "                        <td id=\"T_fd4cf14a_e04b_11e9_a24b_b8763fd8451drow1_col0\" class=\"data row1 col0\" >0.344172</td>\n",
       "                        <td id=\"T_fd4cf14a_e04b_11e9_a24b_b8763fd8451drow1_col1\" class=\"data row1 col1\" >0</td>\n",
       "                        <td id=\"T_fd4cf14a_e04b_11e9_a24b_b8763fd8451drow1_col2\" class=\"data row1 col2\" >0.0283445</td>\n",
       "                        <td id=\"T_fd4cf14a_e04b_11e9_a24b_b8763fd8451drow1_col3\" class=\"data row1 col3\" >0.0256202</td>\n",
       "                        <td id=\"T_fd4cf14a_e04b_11e9_a24b_b8763fd8451drow1_col4\" class=\"data row1 col4\" >0.000163291</td>\n",
       "                        <td id=\"T_fd4cf14a_e04b_11e9_a24b_b8763fd8451drow1_col5\" class=\"data row1 col5\" >0.489253</td>\n",
       "                        <td id=\"T_fd4cf14a_e04b_11e9_a24b_b8763fd8451drow1_col6\" class=\"data row1 col6\" >0.315808</td>\n",
       "                        <td id=\"T_fd4cf14a_e04b_11e9_a24b_b8763fd8451drow1_col7\" class=\"data row1 col7\" >0.791592</td>\n",
       "                        <td id=\"T_fd4cf14a_e04b_11e9_a24b_b8763fd8451drow1_col8\" class=\"data row1 col8\" >0.653202</td>\n",
       "            </tr>\n",
       "            <tr>\n",
       "                        <th id=\"T_fd4cf14a_e04b_11e9_a24b_b8763fd8451dlevel0_row2\" class=\"row_heading level0 row2\" >A-Q1_3</th>\n",
       "                        <td id=\"T_fd4cf14a_e04b_11e9_a24b_b8763fd8451drow2_col0\" class=\"data row2 col0\" >0.621153</td>\n",
       "                        <td id=\"T_fd4cf14a_e04b_11e9_a24b_b8763fd8451drow2_col1\" class=\"data row2 col1\" >0.0283445</td>\n",
       "                        <td id=\"T_fd4cf14a_e04b_11e9_a24b_b8763fd8451drow2_col2\" class=\"data row2 col2\" >0</td>\n",
       "                        <td id=\"T_fd4cf14a_e04b_11e9_a24b_b8763fd8451drow2_col3\" class=\"data row2 col3\" >0.000214267</td>\n",
       "                        <td id=\"T_fd4cf14a_e04b_11e9_a24b_b8763fd8451drow2_col4\" class=\"data row2 col4\" >0.231632</td>\n",
       "                        <td id=\"T_fd4cf14a_e04b_11e9_a24b_b8763fd8451drow2_col5\" class=\"data row2 col5\" >0.655786</td>\n",
       "                        <td id=\"T_fd4cf14a_e04b_11e9_a24b_b8763fd8451drow2_col6\" class=\"data row2 col6\" >0.216381</td>\n",
       "                        <td id=\"T_fd4cf14a_e04b_11e9_a24b_b8763fd8451drow2_col7\" class=\"data row2 col7\" >0.316805</td>\n",
       "                        <td id=\"T_fd4cf14a_e04b_11e9_a24b_b8763fd8451drow2_col8\" class=\"data row2 col8\" >0.463875</td>\n",
       "            </tr>\n",
       "            <tr>\n",
       "                        <th id=\"T_fd4cf14a_e04b_11e9_a24b_b8763fd8451dlevel0_row3\" class=\"row_heading level0 row3\" >A-Q1_4</th>\n",
       "                        <td id=\"T_fd4cf14a_e04b_11e9_a24b_b8763fd8451drow3_col0\" class=\"data row3 col0\" >0.372139</td>\n",
       "                        <td id=\"T_fd4cf14a_e04b_11e9_a24b_b8763fd8451drow3_col1\" class=\"data row3 col1\" >0.0256202</td>\n",
       "                        <td id=\"T_fd4cf14a_e04b_11e9_a24b_b8763fd8451drow3_col2\" class=\"data row3 col2\" >0.000214267</td>\n",
       "                        <td id=\"T_fd4cf14a_e04b_11e9_a24b_b8763fd8451drow3_col3\" class=\"data row3 col3\" >0</td>\n",
       "                        <td id=\"T_fd4cf14a_e04b_11e9_a24b_b8763fd8451drow3_col4\" class=\"data row3 col4\" >0.348822</td>\n",
       "                        <td id=\"T_fd4cf14a_e04b_11e9_a24b_b8763fd8451drow3_col5\" class=\"data row3 col5\" >0.270006</td>\n",
       "                        <td id=\"T_fd4cf14a_e04b_11e9_a24b_b8763fd8451drow3_col6\" class=\"data row3 col6\" >0.50806</td>\n",
       "                        <td id=\"T_fd4cf14a_e04b_11e9_a24b_b8763fd8451drow3_col7\" class=\"data row3 col7\" >0.0488795</td>\n",
       "                        <td id=\"T_fd4cf14a_e04b_11e9_a24b_b8763fd8451drow3_col8\" class=\"data row3 col8\" >0.0153601</td>\n",
       "            </tr>\n",
       "            <tr>\n",
       "                        <th id=\"T_fd4cf14a_e04b_11e9_a24b_b8763fd8451dlevel0_row4\" class=\"row_heading level0 row4\" >A-Q1_5</th>\n",
       "                        <td id=\"T_fd4cf14a_e04b_11e9_a24b_b8763fd8451drow4_col0\" class=\"data row4 col0\" >0.106154</td>\n",
       "                        <td id=\"T_fd4cf14a_e04b_11e9_a24b_b8763fd8451drow4_col1\" class=\"data row4 col1\" >0.000163291</td>\n",
       "                        <td id=\"T_fd4cf14a_e04b_11e9_a24b_b8763fd8451drow4_col2\" class=\"data row4 col2\" >0.231632</td>\n",
       "                        <td id=\"T_fd4cf14a_e04b_11e9_a24b_b8763fd8451drow4_col3\" class=\"data row4 col3\" >0.348822</td>\n",
       "                        <td id=\"T_fd4cf14a_e04b_11e9_a24b_b8763fd8451drow4_col4\" class=\"data row4 col4\" >0</td>\n",
       "                        <td id=\"T_fd4cf14a_e04b_11e9_a24b_b8763fd8451drow4_col5\" class=\"data row4 col5\" >0.0156732</td>\n",
       "                        <td id=\"T_fd4cf14a_e04b_11e9_a24b_b8763fd8451drow4_col6\" class=\"data row4 col6\" >0.757146</td>\n",
       "                        <td id=\"T_fd4cf14a_e04b_11e9_a24b_b8763fd8451drow4_col7\" class=\"data row4 col7\" >0.404862</td>\n",
       "                        <td id=\"T_fd4cf14a_e04b_11e9_a24b_b8763fd8451drow4_col8\" class=\"data row4 col8\" >0.773095</td>\n",
       "            </tr>\n",
       "            <tr>\n",
       "                        <th id=\"T_fd4cf14a_e04b_11e9_a24b_b8763fd8451dlevel0_row5\" class=\"row_heading level0 row5\" >A-Q1_6</th>\n",
       "                        <td id=\"T_fd4cf14a_e04b_11e9_a24b_b8763fd8451drow5_col0\" class=\"data row5 col0\" >0.165091</td>\n",
       "                        <td id=\"T_fd4cf14a_e04b_11e9_a24b_b8763fd8451drow5_col1\" class=\"data row5 col1\" >0.489253</td>\n",
       "                        <td id=\"T_fd4cf14a_e04b_11e9_a24b_b8763fd8451drow5_col2\" class=\"data row5 col2\" >0.655786</td>\n",
       "                        <td id=\"T_fd4cf14a_e04b_11e9_a24b_b8763fd8451drow5_col3\" class=\"data row5 col3\" >0.270006</td>\n",
       "                        <td id=\"T_fd4cf14a_e04b_11e9_a24b_b8763fd8451drow5_col4\" class=\"data row5 col4\" >0.0156732</td>\n",
       "                        <td id=\"T_fd4cf14a_e04b_11e9_a24b_b8763fd8451drow5_col5\" class=\"data row5 col5\" >0</td>\n",
       "                        <td id=\"T_fd4cf14a_e04b_11e9_a24b_b8763fd8451drow5_col6\" class=\"data row5 col6\" >0.715061</td>\n",
       "                        <td id=\"T_fd4cf14a_e04b_11e9_a24b_b8763fd8451drow5_col7\" class=\"data row5 col7\" >0.957699</td>\n",
       "                        <td id=\"T_fd4cf14a_e04b_11e9_a24b_b8763fd8451drow5_col8\" class=\"data row5 col8\" >0.697437</td>\n",
       "            </tr>\n",
       "            <tr>\n",
       "                        <th id=\"T_fd4cf14a_e04b_11e9_a24b_b8763fd8451dlevel0_row6\" class=\"row_heading level0 row6\" >A-Q1_7</th>\n",
       "                        <td id=\"T_fd4cf14a_e04b_11e9_a24b_b8763fd8451drow6_col0\" class=\"data row6 col0\" >0.616355</td>\n",
       "                        <td id=\"T_fd4cf14a_e04b_11e9_a24b_b8763fd8451drow6_col1\" class=\"data row6 col1\" >0.315808</td>\n",
       "                        <td id=\"T_fd4cf14a_e04b_11e9_a24b_b8763fd8451drow6_col2\" class=\"data row6 col2\" >0.216381</td>\n",
       "                        <td id=\"T_fd4cf14a_e04b_11e9_a24b_b8763fd8451drow6_col3\" class=\"data row6 col3\" >0.50806</td>\n",
       "                        <td id=\"T_fd4cf14a_e04b_11e9_a24b_b8763fd8451drow6_col4\" class=\"data row6 col4\" >0.757146</td>\n",
       "                        <td id=\"T_fd4cf14a_e04b_11e9_a24b_b8763fd8451drow6_col5\" class=\"data row6 col5\" >0.715061</td>\n",
       "                        <td id=\"T_fd4cf14a_e04b_11e9_a24b_b8763fd8451drow6_col6\" class=\"data row6 col6\" >0</td>\n",
       "                        <td id=\"T_fd4cf14a_e04b_11e9_a24b_b8763fd8451drow6_col7\" class=\"data row6 col7\" >0.703568</td>\n",
       "                        <td id=\"T_fd4cf14a_e04b_11e9_a24b_b8763fd8451drow6_col8\" class=\"data row6 col8\" >0.279909</td>\n",
       "            </tr>\n",
       "            <tr>\n",
       "                        <th id=\"T_fd4cf14a_e04b_11e9_a24b_b8763fd8451dlevel0_row7\" class=\"row_heading level0 row7\" >A-Q1_8</th>\n",
       "                        <td id=\"T_fd4cf14a_e04b_11e9_a24b_b8763fd8451drow7_col0\" class=\"data row7 col0\" >0.877569</td>\n",
       "                        <td id=\"T_fd4cf14a_e04b_11e9_a24b_b8763fd8451drow7_col1\" class=\"data row7 col1\" >0.791592</td>\n",
       "                        <td id=\"T_fd4cf14a_e04b_11e9_a24b_b8763fd8451drow7_col2\" class=\"data row7 col2\" >0.316805</td>\n",
       "                        <td id=\"T_fd4cf14a_e04b_11e9_a24b_b8763fd8451drow7_col3\" class=\"data row7 col3\" >0.0488795</td>\n",
       "                        <td id=\"T_fd4cf14a_e04b_11e9_a24b_b8763fd8451drow7_col4\" class=\"data row7 col4\" >0.404862</td>\n",
       "                        <td id=\"T_fd4cf14a_e04b_11e9_a24b_b8763fd8451drow7_col5\" class=\"data row7 col5\" >0.957699</td>\n",
       "                        <td id=\"T_fd4cf14a_e04b_11e9_a24b_b8763fd8451drow7_col6\" class=\"data row7 col6\" >0.703568</td>\n",
       "                        <td id=\"T_fd4cf14a_e04b_11e9_a24b_b8763fd8451drow7_col7\" class=\"data row7 col7\" >0</td>\n",
       "                        <td id=\"T_fd4cf14a_e04b_11e9_a24b_b8763fd8451drow7_col8\" class=\"data row7 col8\" >2.57162e-05</td>\n",
       "            </tr>\n",
       "            <tr>\n",
       "                        <th id=\"T_fd4cf14a_e04b_11e9_a24b_b8763fd8451dlevel0_row8\" class=\"row_heading level0 row8\" >A-Q1_9</th>\n",
       "                        <td id=\"T_fd4cf14a_e04b_11e9_a24b_b8763fd8451drow8_col0\" class=\"data row8 col0\" >0.859656</td>\n",
       "                        <td id=\"T_fd4cf14a_e04b_11e9_a24b_b8763fd8451drow8_col1\" class=\"data row8 col1\" >0.653202</td>\n",
       "                        <td id=\"T_fd4cf14a_e04b_11e9_a24b_b8763fd8451drow8_col2\" class=\"data row8 col2\" >0.463875</td>\n",
       "                        <td id=\"T_fd4cf14a_e04b_11e9_a24b_b8763fd8451drow8_col3\" class=\"data row8 col3\" >0.0153601</td>\n",
       "                        <td id=\"T_fd4cf14a_e04b_11e9_a24b_b8763fd8451drow8_col4\" class=\"data row8 col4\" >0.773095</td>\n",
       "                        <td id=\"T_fd4cf14a_e04b_11e9_a24b_b8763fd8451drow8_col5\" class=\"data row8 col5\" >0.697437</td>\n",
       "                        <td id=\"T_fd4cf14a_e04b_11e9_a24b_b8763fd8451drow8_col6\" class=\"data row8 col6\" >0.279909</td>\n",
       "                        <td id=\"T_fd4cf14a_e04b_11e9_a24b_b8763fd8451drow8_col7\" class=\"data row8 col7\" >2.57162e-05</td>\n",
       "                        <td id=\"T_fd4cf14a_e04b_11e9_a24b_b8763fd8451drow8_col8\" class=\"data row8 col8\" >0</td>\n",
       "            </tr>\n",
       "    </tbody></table>"
      ],
      "text/plain": [
       "<pandas.io.formats.style.Styler at 0x10261be0>"
      ]
     },
     "execution_count": 100,
     "metadata": {},
     "output_type": "execute_result"
    }
   ],
   "source": [
    "df_spearman_pv(Daten[Daten[Liste_A_Q1] != 0],Liste_A_Q1)"
   ]
  },
  {
   "cell_type": "markdown",
   "metadata": {},
   "source": [
    "Biplot für Items 1 bis 7:"
   ]
  },
  {
   "cell_type": "code",
   "execution_count": 101,
   "metadata": {},
   "outputs": [
    {
     "data": {
      "image/png": "[encoded data removed]",
      "text/plain": [
       "<Figure size 720x720 with 1 Axes>"
      ]
     },
     "metadata": {
      "needs_background": "light"
     },
     "output_type": "display_data"
    }
   ],
   "source": [
    "graf_cplot(Daten[Liste_A_Q1[:7]],6,1)"
   ]
  },
  {
   "cell_type": "markdown",
   "metadata": {},
   "source": [
    "Anmerkungen:"
   ]
  },
  {
   "cell_type": "code",
   "execution_count": 102,
   "metadata": {},
   "outputs": [
    {
     "data": {
      "text/plain": [
       "6     Muchas veces funciona la intuición lingüística...\n",
       "13    Los estudiantes que han hecho ERASMUS o Tandem...\n",
       "20    Punkt 4 nicht klar verständlich: meine Antwort...\n",
       "43    Doy clase en los niveles A1, A2 y B1. En estos...\n",
       "Name: A-Q1a, dtype: object"
      ]
     },
     "execution_count": 102,
     "metadata": {},
     "output_type": "execute_result"
    }
   ],
   "source": [
    "Daten[Daten['A-Q1a']!=0]['A-Q1a']"
   ]
  },
  {
   "cell_type": "code",
   "execution_count": 103,
   "metadata": {},
   "outputs": [
    {
     "data": {
      "text/plain": [
       "'Muchas veces funciona la intuición lingüística (Sprachgefühl)'"
      ]
     },
     "execution_count": 103,
     "metadata": {},
     "output_type": "execute_result"
    }
   ],
   "source": [
    "Daten.loc[6]['A-Q1a']"
   ]
  },
  {
   "cell_type": "code",
   "execution_count": 104,
   "metadata": {},
   "outputs": [
    {
     "data": {
      "text/plain": [
       "'Los estudiantes que han hecho ERASMUS o Tandem generalmente son más autónomos y por ello utilizan las primeras cuatro estrategias.'"
      ]
     },
     "execution_count": 104,
     "metadata": {},
     "output_type": "execute_result"
    }
   ],
   "source": [
    "Daten.loc[13]['A-Q1a']"
   ]
  },
  {
   "cell_type": "code",
   "execution_count": 105,
   "metadata": {},
   "outputs": [
    {
     "data": {
      "text/plain": [
       "'Punkt 4 nicht klar verständlich: meine Antwort bezieht sich auf den INHALTL. KONTEXT, nicht auf Syntax'"
      ]
     },
     "execution_count": 105,
     "metadata": {},
     "output_type": "execute_result"
    }
   ],
   "source": [
    "Daten.loc[20]['A-Q1a']"
   ]
  },
  {
   "cell_type": "code",
   "execution_count": 106,
   "metadata": {},
   "outputs": [
    {
     "data": {
      "text/plain": [
       "'Doy clase en los niveles A1, A2 y B1. En estos niveles los alumnos usan todavía mucho su lengua materna para averiguar el significado de las palabras'"
      ]
     },
     "execution_count": 106,
     "metadata": {},
     "output_type": "execute_result"
    }
   ],
   "source": [
    "Daten.loc[43]['A-Q1a']"
   ]
  },
  {
   "cell_type": "markdown",
   "metadata": {},
   "source": [
    "### Erschließungsstrategien im Unterricht"
   ]
  },
  {
   "cell_type": "markdown",
   "metadata": {},
   "source": [
    "#### B-Q1 (32 Einzelstrategien)"
   ]
  },
  {
   "cell_type": "markdown",
   "metadata": {},
   "source": [
    "Items:\n",
    "1. Unbekannte deutsche Wörter mit gleich oder ähnlich geschriebenen Wörtern in der Muttersprache vergleichen\n",
    "2. Unbekannte deutsche Wörter mit gleich oder ähnlich geschriebenen Wörtern in Englisch vergleichen (z.B. dt. Licht - engl. light)\n",
    "3. Unbekannte deutsche Wörter mit gleich oder ähnlich geschriebenen Wörtern in anderen Sprachen vergleichen. Optional: Wenn Sie eine oder mehrere bestimmte Sprachen dafür empfehlen, können Sie sie hier angeben:\n",
    "4. Klangbild aktivieren, z.B. durch leises Vorsprechen oder Vorstellen des Klanges, um ähnlich klingende Wörter in der Muttersprache oder einer anderen Sprache zu finden (z.B. dt. Haus - engl. house)\n",
    "5. Kenntnisse über Lautentsprechungen zwischen Deutsch und anderen (germanischen) Sprachen und/oder über die historische Entwicklung der deutschen Sprache nutzen (z.B. engl. d - dt. t: day - Tag, p – f: hope – hoffen, ship - Schiff)\n",
    "6. Wissen über die Wortbildungsregeln des Deutschen nutzen (z.B. Kompositabildung, typische Endungen für bestimmte Wortarten)\n",
    "7. Aus Teilbedeutung zusammengesetzter Wörter (z.B. Stamm, Prä- und Suffixe, Teile von Komposita) auf die Gesamtbedeutung schließen\n",
    "8. Wissen über Bestandteile von Wörtern, die grammatische Funktionen anzeigen, nutzen (z.B. Plural oder Kasusmarkierungen für Substantive, typische Endungen von Verben in verschiedenen Zeitformen/Tempora etc.)\n",
    "9. Wissen über orthografische Regeln des Deutschen nutzen (z.B. Großschreibung der Substantive, Bindestriche in zusammengesetzten Wörtern, Punkt oder Komma als Strukturierungshilfen etc.)\n",
    "10. Wissen über die Satzstellung im Deutschen nutzen (z.B. Personalform des Verbes an zweiter Position im Satz, Verbal/Satzklammer etc.)\n",
    "11. Den grammatikalischen Aufbau von (Teil-)Sätzen analysieren, um Verbindungen zwischen bekannten und unbekannten Wörtern zu finden\n",
    "12. Die semantischen Beziehungen zwischen bekannten und unbekannten Wörtern analysieren\n",
    "13. Systematische lexikalische Beziehungen wie Synonyme, Antonyme, Reihungen, Über- und Unterbegriffe beachten\n",
    "14. Verwendung von Konnektoren und anderen Mitteln der Textverbindung wie Pronomen, Adverbien etc. beachten\n",
    "15. Erklärungshilfen im Text wie Paraphrasen, Definitionen, Erklärungen, Beispiele etc., die das unbekannte Wort umschreiben oder erklären, nutzen\n",
    "16. Logische Zusammenhänge im Text nutzen (z.B. Ursache – Wirkung, vorher – nachher etc.)\n",
    "17. Textsortenwissen nutzen\n",
    "18. Wissen über das im Text behandelte Thema nutzen\n",
    "19. Kulturspezifisches und landeskundliches Wissen nutzen (z.B. Namen berühmter Persönlichkeiten, geographische oder politische Informationen)\n",
    "20. Gesunden Menschenverstand und allgemeines Weltwissen nutzen\n",
    "21. Format und visuelle Textgestalt beachten (z.B. Layout, Schriftart und -größe, Hervorhebungen etc.)\n",
    "22. Bilder, Grafiken, Diagramme, audiovisuelle Elemente (auf Internetseiten) etc. nutzen\n",
    "23. Zahlen oder andere verständliche Zeichen nutzen\n",
    "24. Wissen über die Kommunikationssituation oder den Kontext der Veröffentlichung nutzen (z.B. Ort, Zeit, Situation, in der ein Text gefunden wurde)\n",
    "25. Hyperlinks beim Erschließen von unbekannten Wörtern in Texten im Internet nutzen\n",
    "26. Verschiedene Strategien kombinieren, um die Erschließung unbekannter Wörter abzusichern\n",
    "27. Erschließungsstrategien situationsabhängig einsetzen, z.B. nach Textsorte oder Schwierigkeitsgrad der Texte\n",
    "32. Kenntnisse von Internationalismen nutzen (z.B. Akademie, Kaffee, Transport)\n",
    "33. Andere:\n",
    "34. Keine"
   ]
  },
  {
   "cell_type": "markdown",
   "metadata": {},
   "source": [
    "Anzahl der gewählten Items:"
   ]
  },
  {
   "cell_type": "code",
   "execution_count": 107,
   "metadata": {},
   "outputs": [
    {
     "data": {
      "text/plain": [
       "count    53.000000\n",
       "mean     17.830189\n",
       "std       5.992739\n",
       "min       4.000000\n",
       "25%      14.000000\n",
       "50%      17.000000\n",
       "75%      22.000000\n",
       "max      28.000000\n",
       "dtype: float64"
      ]
     },
     "execution_count": 107,
     "metadata": {},
     "output_type": "execute_result"
    }
   ],
   "source": [
    "Daten[Liste_B_Q1].sum(axis=1).describe()"
   ]
  },
  {
   "cell_type": "code",
   "execution_count": 108,
   "metadata": {},
   "outputs": [
    {
     "data": {
      "image/png": "[encoded data removed]",
      "text/plain": [
       "<Figure size 504x720 with 1 Axes>"
      ]
     },
     "metadata": {
      "needs_background": "light"
     },
     "output_type": "display_data"
    }
   ],
   "source": [
    "Daten[Liste_B_Q1].sum(axis=0).sort_values(ascending=True).plot(kind='barh', figsize=(7,10));"
   ]
  },
  {
   "cell_type": "code",
   "execution_count": 109,
   "metadata": {},
   "outputs": [
    {
     "data": {
      "text/plain": [
       "B-Q1_32    49\n",
       "B-Q1_2     47\n",
       "B-Q1_6     45\n",
       "B-Q1_20    45\n",
       "B-Q1_7     42\n",
       "B-Q1_13    40\n",
       "B-Q1_15    40\n",
       "B-Q1_18    39\n",
       "B-Q1_1     38\n",
       "B-Q1_16    38\n",
       "B-Q1_26    38\n",
       "B-Q1_8     37\n",
       "B-Q1_10    37\n",
       "B-Q1_19    37\n",
       "B-Q1_22    37\n",
       "B-Q1_9     36\n",
       "B-Q1_24    30\n",
       "B-Q1_4     30\n",
       "B-Q1_27    27\n",
       "B-Q1_17    27\n",
       "B-Q1_14    27\n",
       "B-Q1_12    27\n",
       "B-Q1_23    26\n",
       "B-Q1_3     25\n",
       "B-Q1_5     24\n",
       "B-Q1_11    23\n",
       "B-Q1_21    17\n",
       "B-Q1_25    13\n",
       "B-Q1_33     4\n",
       "dtype: int64"
      ]
     },
     "execution_count": 109,
     "metadata": {},
     "output_type": "execute_result"
    }
   ],
   "source": [
    "Daten[Liste_B_Q1].sum(axis=0).sort_values(ascending=False)"
   ]
  },
  {
   "cell_type": "markdown",
   "metadata": {},
   "source": [
    "Angaben bei \"Andere\" (33):"
   ]
  },
  {
   "cell_type": "code",
   "execution_count": 110,
   "metadata": {},
   "outputs": [
    {
     "data": {
      "text/plain": [
       "13                         demostrar imágenes en la red\n",
       "20    Präpositions- u. Morphementsprechungen, z.B. P...\n",
       "29                          Aplicaciones de traducción \n",
       "47                                        Gesticulación\n",
       "Name: B-Q1_33_TEXT, dtype: object"
      ]
     },
     "execution_count": 110,
     "metadata": {},
     "output_type": "execute_result"
    }
   ],
   "source": [
    "Daten[Daten['B-Q1_33_TEXT']!=0]['B-Q1_33_TEXT']"
   ]
  },
  {
   "cell_type": "code",
   "execution_count": 111,
   "metadata": {},
   "outputs": [
    {
     "data": {
      "text/plain": [
       "'Präpositions- u. Morphementsprechungen, z.B. Präfix+Präp. VOR(-): PRE-, ANTE, ANTEs, delANTE; beFORe (temp.+lokal), oder: AUS(-): EX-; OUT (engl. \"EX-IT\" \"Aus-gang\") etc.: das alles bereits in A1'"
      ]
     },
     "execution_count": 111,
     "metadata": {},
     "output_type": "execute_result"
    }
   ],
   "source": [
    "Daten.loc[20]['B-Q1_33_TEXT']"
   ]
  },
  {
   "cell_type": "markdown",
   "metadata": {},
   "source": [
    "Anmerkungen:"
   ]
  },
  {
   "cell_type": "code",
   "execution_count": 112,
   "metadata": {},
   "outputs": [
    {
     "data": {
      "text/plain": [
       "3     Las estrategias varían dependiendo del nivel d...\n",
       "10    Eine Übung die ich gerne mache: MArkiere alle ...\n",
       "13    Utilizo diccionarios en la red para analizar l...\n",
       "20    stark abhängig von der Vorbildung der KTN (übr...\n",
       "41    Estoy muy contenta de utilizar sin haber refle...\n",
       "47    Lo de utilizar enlaces de internet puede depen...\n",
       "Name: B-Q1a, dtype: object"
      ]
     },
     "execution_count": 112,
     "metadata": {},
     "output_type": "execute_result"
    }
   ],
   "source": [
    "Daten[Daten['B-Q1a']!=0]['B-Q1a']"
   ]
  },
  {
   "cell_type": "code",
   "execution_count": 113,
   "metadata": {},
   "outputs": [
    {
     "data": {
      "text/plain": [
       "'Las estrategias varían dependiendo del nivel de Alemán (en el nivel A las estrategias a las que recurro son menos variadas que en el nivel B2 o C1)'"
      ]
     },
     "execution_count": 113,
     "metadata": {},
     "output_type": "execute_result"
    }
   ],
   "source": [
    "Daten.loc[3]['B-Q1a']"
   ]
  },
  {
   "cell_type": "code",
   "execution_count": 114,
   "metadata": {},
   "outputs": [
    {
     "data": {
      "text/plain": [
       "'Eine Übung die ich gerne mache: MArkiere alle Wörter in dem Text, DIE DU KENNST. Auch Teile von Wörtern. Das ist die einzige Übung, bei der ich meine Studenten beobachtet habe, aktiv Erschließungsstrategien zu nutzen - selbst wenn ich versuche ihnen andere Möglichkeiten zu zeigen! '"
      ]
     },
     "execution_count": 114,
     "metadata": {},
     "output_type": "execute_result"
    }
   ],
   "source": [
    "Daten.loc[10]['B-Q1a']"
   ]
  },
  {
   "cell_type": "code",
   "execution_count": 115,
   "metadata": {},
   "outputs": [
    {
     "data": {
      "text/plain": [
       "'Utilizo diccionarios en la red para analizar las diferencias con el formato libro y para el audio y la proncunciación.'"
      ]
     },
     "execution_count": 115,
     "metadata": {},
     "output_type": "execute_result"
    }
   ],
   "source": [
    "Daten.loc[13]['B-Q1a']"
   ]
  },
  {
   "cell_type": "code",
   "execution_count": 116,
   "metadata": {},
   "outputs": [
    {
     "data": {
      "text/plain": [
       "'stark abhängig von der Vorbildung der KTN (übrigens nicht \"DeutschSTUDIERENDE\", denn bei uns sind nicht alle an der Uni immatrikuliert), sondern \"Deutsch-LERNENDE\"): Lateinkenntnisse (nützlich bei Lexik, aber vor allem auch Gramm.) immer seltener u. dürftiger; Englischkenntn. gravierend unterschiedlich: die Naturwissenschaftler können besser Englisch als viele Anglisten!'"
      ]
     },
     "execution_count": 116,
     "metadata": {},
     "output_type": "execute_result"
    }
   ],
   "source": [
    "Daten.loc[20]['B-Q1a']"
   ]
  },
  {
   "cell_type": "code",
   "execution_count": 117,
   "metadata": {},
   "outputs": [
    {
     "data": {
      "text/plain": [
       "'Estoy muy contenta de utilizar sin haber reflexionado en ello estrategias tan variadas.'"
      ]
     },
     "execution_count": 117,
     "metadata": {},
     "output_type": "execute_result"
    }
   ],
   "source": [
    "Daten.loc[41]['B-Q1a']"
   ]
  },
  {
   "cell_type": "code",
   "execution_count": 118,
   "metadata": {},
   "outputs": [
    {
     "data": {
      "text/plain": [
       "'Lo de utilizar enlaces de internet puede depender de las instalaciones del centro.'"
      ]
     },
     "execution_count": 118,
     "metadata": {},
     "output_type": "execute_result"
    }
   ],
   "source": [
    "Daten.loc[47]['B-Q1a']"
   ]
  },
  {
   "cell_type": "markdown",
   "metadata": {},
   "source": [
    "#### B-Q2 (Methoden)"
   ]
  },
  {
   "cell_type": "markdown",
   "metadata": {},
   "source": [
    "Items:\n",
    "1. Erschließungsstrategien werden im Unterricht vorgestellt (und erklärt).\n",
    "2. Die Lernenden bekommen Tipps für das selbstständige Aneignen von Erschließungsstrategien, z.B. über Internetseiten, Bücher oder andere Materialien, in denen Lernstrategien erklärt werden.\n",
    "3. Erschließungsstrategien werden anhand von praktischen Beispielen, beim Ausführen bestimmter Aufgaben (z.B. Lesen eines schwierigen Textes) erklärt und geübt.\n",
    "4. Verschiedene Erschließungsstrategien werden ausprobiert und miteinander verglichen.\n",
    "5. Reflexionen über Einsatz von Erschließungsstrategien werden durchgeführt, z.B. darüber, welche Strategie in einer bestimmten Situation und/oder für eine bestimmte Person geeignet ist.\n",
    "6. Die Lernenden erwerben Erschließungsstrategien unbewusst im Laufe des Unterrichts, z.B. beim Lesen von schwierigen Texten - ohne explizite Erklärungen oder Hinweise dazu."
   ]
  },
  {
   "cell_type": "markdown",
   "metadata": {},
   "source": [
    "8. Die Lernenden werden zu ihren Vorkenntnissen befragt, z.B. welche Erschließungsstrategien sie bereits kennen und/oder anwenden können.\n",
    "\n",
    "(Item 7 (Andere) wurde aufgrund von technischen Problemen bei der Pilotierung entfernt und durch eine Kommentarfunktion ersetzt.)"
   ]
  },
  {
   "cell_type": "markdown",
   "metadata": {},
   "source": [
    "Übersicht über gewählte Antwortoptionen:"
   ]
  },
  {
   "cell_type": "code",
   "execution_count": 119,
   "metadata": {},
   "outputs": [
    {
     "data": {
      "text/html": [
       "<div>\n",
       "<style scoped>\n",
       "    .dataframe tbody tr th:only-of-type {\n",
       "        vertical-align: middle;\n",
       "    }\n",
       "\n",
       "    .dataframe tbody tr th {\n",
       "        vertical-align: top;\n",
       "    }\n",
       "\n",
       "    .dataframe thead th {\n",
       "        text-align: right;\n",
       "    }\n",
       "</style>\n",
       "<table border=\"1\" class=\"dataframe\">\n",
       "  <thead>\n",
       "    <tr style=\"text-align: right;\">\n",
       "      <th></th>\n",
       "      <th>1</th>\n",
       "      <th>2</th>\n",
       "      <th>3</th>\n",
       "      <th>4</th>\n",
       "      <th>5</th>\n",
       "    </tr>\n",
       "  </thead>\n",
       "  <tbody>\n",
       "    <tr>\n",
       "      <th>0</th>\n",
       "      <td>5</td>\n",
       "      <td>0</td>\n",
       "      <td>1</td>\n",
       "      <td>1</td>\n",
       "      <td>0</td>\n",
       "    </tr>\n",
       "    <tr>\n",
       "      <th>1</th>\n",
       "      <td>0</td>\n",
       "      <td>3</td>\n",
       "      <td>2</td>\n",
       "      <td>1</td>\n",
       "      <td>1</td>\n",
       "    </tr>\n",
       "    <tr>\n",
       "      <th>2</th>\n",
       "      <td>0</td>\n",
       "      <td>3</td>\n",
       "      <td>1</td>\n",
       "      <td>3</td>\n",
       "      <td>0</td>\n",
       "    </tr>\n",
       "    <tr>\n",
       "      <th>3</th>\n",
       "      <td>1</td>\n",
       "      <td>0</td>\n",
       "      <td>0</td>\n",
       "      <td>1</td>\n",
       "      <td>5</td>\n",
       "    </tr>\n",
       "    <tr>\n",
       "      <th>4</th>\n",
       "      <td>0</td>\n",
       "      <td>0</td>\n",
       "      <td>2</td>\n",
       "      <td>4</td>\n",
       "      <td>1</td>\n",
       "    </tr>\n",
       "    <tr>\n",
       "      <th>5</th>\n",
       "      <td>4</td>\n",
       "      <td>1</td>\n",
       "      <td>1</td>\n",
       "      <td>1</td>\n",
       "      <td>0</td>\n",
       "    </tr>\n",
       "    <tr>\n",
       "      <th>6</th>\n",
       "      <td>0</td>\n",
       "      <td>1</td>\n",
       "      <td>2</td>\n",
       "      <td>1</td>\n",
       "      <td>3</td>\n",
       "    </tr>\n",
       "    <tr>\n",
       "      <th>7</th>\n",
       "      <td>0</td>\n",
       "      <td>4</td>\n",
       "      <td>1</td>\n",
       "      <td>1</td>\n",
       "      <td>1</td>\n",
       "    </tr>\n",
       "    <tr>\n",
       "      <th>8</th>\n",
       "      <td>0</td>\n",
       "      <td>1</td>\n",
       "      <td>4</td>\n",
       "      <td>2</td>\n",
       "      <td>0</td>\n",
       "    </tr>\n",
       "    <tr>\n",
       "      <th>9</th>\n",
       "      <td>0</td>\n",
       "      <td>0</td>\n",
       "      <td>1</td>\n",
       "      <td>3</td>\n",
       "      <td>3</td>\n",
       "    </tr>\n",
       "    <tr>\n",
       "      <th>10</th>\n",
       "      <td>1</td>\n",
       "      <td>1</td>\n",
       "      <td>1</td>\n",
       "      <td>2</td>\n",
       "      <td>2</td>\n",
       "    </tr>\n",
       "    <tr>\n",
       "      <th>11</th>\n",
       "      <td>0</td>\n",
       "      <td>0</td>\n",
       "      <td>4</td>\n",
       "      <td>1</td>\n",
       "      <td>2</td>\n",
       "    </tr>\n",
       "    <tr>\n",
       "      <th>12</th>\n",
       "      <td>2</td>\n",
       "      <td>3</td>\n",
       "      <td>0</td>\n",
       "      <td>0</td>\n",
       "      <td>2</td>\n",
       "    </tr>\n",
       "    <tr>\n",
       "      <th>13</th>\n",
       "      <td>1</td>\n",
       "      <td>0</td>\n",
       "      <td>5</td>\n",
       "      <td>1</td>\n",
       "      <td>0</td>\n",
       "    </tr>\n",
       "    <tr>\n",
       "      <th>14</th>\n",
       "      <td>0</td>\n",
       "      <td>1</td>\n",
       "      <td>5</td>\n",
       "      <td>1</td>\n",
       "      <td>0</td>\n",
       "    </tr>\n",
       "    <tr>\n",
       "      <th>15</th>\n",
       "      <td>1</td>\n",
       "      <td>0</td>\n",
       "      <td>0</td>\n",
       "      <td>1</td>\n",
       "      <td>5</td>\n",
       "    </tr>\n",
       "    <tr>\n",
       "      <th>16</th>\n",
       "      <td>2</td>\n",
       "      <td>1</td>\n",
       "      <td>2</td>\n",
       "      <td>2</td>\n",
       "      <td>0</td>\n",
       "    </tr>\n",
       "    <tr>\n",
       "      <th>17</th>\n",
       "      <td>0</td>\n",
       "      <td>0</td>\n",
       "      <td>2</td>\n",
       "      <td>1</td>\n",
       "      <td>4</td>\n",
       "    </tr>\n",
       "    <tr>\n",
       "      <th>18</th>\n",
       "      <td>3</td>\n",
       "      <td>1</td>\n",
       "      <td>2</td>\n",
       "      <td>1</td>\n",
       "      <td>0</td>\n",
       "    </tr>\n",
       "    <tr>\n",
       "      <th>19</th>\n",
       "      <td>0</td>\n",
       "      <td>2</td>\n",
       "      <td>1</td>\n",
       "      <td>4</td>\n",
       "      <td>0</td>\n",
       "    </tr>\n",
       "    <tr>\n",
       "      <th>20</th>\n",
       "      <td>1</td>\n",
       "      <td>0</td>\n",
       "      <td>0</td>\n",
       "      <td>2</td>\n",
       "      <td>4</td>\n",
       "    </tr>\n",
       "    <tr>\n",
       "      <th>21</th>\n",
       "      <td>1</td>\n",
       "      <td>0</td>\n",
       "      <td>1</td>\n",
       "      <td>5</td>\n",
       "      <td>0</td>\n",
       "    </tr>\n",
       "    <tr>\n",
       "      <th>22</th>\n",
       "      <td>0</td>\n",
       "      <td>0</td>\n",
       "      <td>3</td>\n",
       "      <td>3</td>\n",
       "      <td>1</td>\n",
       "    </tr>\n",
       "    <tr>\n",
       "      <th>23</th>\n",
       "      <td>1</td>\n",
       "      <td>1</td>\n",
       "      <td>1</td>\n",
       "      <td>2</td>\n",
       "      <td>2</td>\n",
       "    </tr>\n",
       "    <tr>\n",
       "      <th>24</th>\n",
       "      <td>0</td>\n",
       "      <td>0</td>\n",
       "      <td>5</td>\n",
       "      <td>2</td>\n",
       "      <td>0</td>\n",
       "    </tr>\n",
       "    <tr>\n",
       "      <th>25</th>\n",
       "      <td>0</td>\n",
       "      <td>0</td>\n",
       "      <td>4</td>\n",
       "      <td>3</td>\n",
       "      <td>0</td>\n",
       "    </tr>\n",
       "    <tr>\n",
       "      <th>26</th>\n",
       "      <td>4</td>\n",
       "      <td>1</td>\n",
       "      <td>2</td>\n",
       "      <td>0</td>\n",
       "      <td>0</td>\n",
       "    </tr>\n",
       "    <tr>\n",
       "      <th>27</th>\n",
       "      <td>0</td>\n",
       "      <td>4</td>\n",
       "      <td>2</td>\n",
       "      <td>1</td>\n",
       "      <td>0</td>\n",
       "    </tr>\n",
       "    <tr>\n",
       "      <th>28</th>\n",
       "      <td>0</td>\n",
       "      <td>3</td>\n",
       "      <td>4</td>\n",
       "      <td>0</td>\n",
       "      <td>0</td>\n",
       "    </tr>\n",
       "    <tr>\n",
       "      <th>29</th>\n",
       "      <td>3</td>\n",
       "      <td>2</td>\n",
       "      <td>2</td>\n",
       "      <td>0</td>\n",
       "      <td>0</td>\n",
       "    </tr>\n",
       "    <tr>\n",
       "      <th>30</th>\n",
       "      <td>0</td>\n",
       "      <td>1</td>\n",
       "      <td>4</td>\n",
       "      <td>2</td>\n",
       "      <td>0</td>\n",
       "    </tr>\n",
       "    <tr>\n",
       "      <th>31</th>\n",
       "      <td>0</td>\n",
       "      <td>1</td>\n",
       "      <td>2</td>\n",
       "      <td>2</td>\n",
       "      <td>2</td>\n",
       "    </tr>\n",
       "    <tr>\n",
       "      <th>32</th>\n",
       "      <td>3</td>\n",
       "      <td>1</td>\n",
       "      <td>1</td>\n",
       "      <td>2</td>\n",
       "      <td>0</td>\n",
       "    </tr>\n",
       "    <tr>\n",
       "      <th>33</th>\n",
       "      <td>3</td>\n",
       "      <td>1</td>\n",
       "      <td>2</td>\n",
       "      <td>0</td>\n",
       "      <td>1</td>\n",
       "    </tr>\n",
       "    <tr>\n",
       "      <th>34</th>\n",
       "      <td>0</td>\n",
       "      <td>0</td>\n",
       "      <td>2</td>\n",
       "      <td>4</td>\n",
       "      <td>1</td>\n",
       "    </tr>\n",
       "    <tr>\n",
       "      <th>35</th>\n",
       "      <td>0</td>\n",
       "      <td>0</td>\n",
       "      <td>0</td>\n",
       "      <td>2</td>\n",
       "      <td>5</td>\n",
       "    </tr>\n",
       "    <tr>\n",
       "      <th>36</th>\n",
       "      <td>0</td>\n",
       "      <td>1</td>\n",
       "      <td>3</td>\n",
       "      <td>3</td>\n",
       "      <td>0</td>\n",
       "    </tr>\n",
       "    <tr>\n",
       "      <th>37</th>\n",
       "      <td>0</td>\n",
       "      <td>3</td>\n",
       "      <td>3</td>\n",
       "      <td>1</td>\n",
       "      <td>0</td>\n",
       "    </tr>\n",
       "    <tr>\n",
       "      <th>38</th>\n",
       "      <td>0</td>\n",
       "      <td>1</td>\n",
       "      <td>0</td>\n",
       "      <td>0</td>\n",
       "      <td>6</td>\n",
       "    </tr>\n",
       "    <tr>\n",
       "      <th>39</th>\n",
       "      <td>0</td>\n",
       "      <td>0</td>\n",
       "      <td>5</td>\n",
       "      <td>2</td>\n",
       "      <td>0</td>\n",
       "    </tr>\n",
       "    <tr>\n",
       "      <th>40</th>\n",
       "      <td>0</td>\n",
       "      <td>1</td>\n",
       "      <td>3</td>\n",
       "      <td>2</td>\n",
       "      <td>1</td>\n",
       "    </tr>\n",
       "    <tr>\n",
       "      <th>41</th>\n",
       "      <td>0</td>\n",
       "      <td>1</td>\n",
       "      <td>2</td>\n",
       "      <td>2</td>\n",
       "      <td>2</td>\n",
       "    </tr>\n",
       "    <tr>\n",
       "      <th>42</th>\n",
       "      <td>0</td>\n",
       "      <td>0</td>\n",
       "      <td>4</td>\n",
       "      <td>2</td>\n",
       "      <td>1</td>\n",
       "    </tr>\n",
       "    <tr>\n",
       "      <th>43</th>\n",
       "      <td>1</td>\n",
       "      <td>3</td>\n",
       "      <td>0</td>\n",
       "      <td>2</td>\n",
       "      <td>0</td>\n",
       "    </tr>\n",
       "    <tr>\n",
       "      <th>44</th>\n",
       "      <td>0</td>\n",
       "      <td>1</td>\n",
       "      <td>3</td>\n",
       "      <td>2</td>\n",
       "      <td>1</td>\n",
       "    </tr>\n",
       "    <tr>\n",
       "      <th>45</th>\n",
       "      <td>0</td>\n",
       "      <td>0</td>\n",
       "      <td>1</td>\n",
       "      <td>3</td>\n",
       "      <td>3</td>\n",
       "    </tr>\n",
       "    <tr>\n",
       "      <th>46</th>\n",
       "      <td>1</td>\n",
       "      <td>2</td>\n",
       "      <td>3</td>\n",
       "      <td>0</td>\n",
       "      <td>1</td>\n",
       "    </tr>\n",
       "    <tr>\n",
       "      <th>47</th>\n",
       "      <td>0</td>\n",
       "      <td>2</td>\n",
       "      <td>3</td>\n",
       "      <td>2</td>\n",
       "      <td>0</td>\n",
       "    </tr>\n",
       "    <tr>\n",
       "      <th>48</th>\n",
       "      <td>1</td>\n",
       "      <td>3</td>\n",
       "      <td>3</td>\n",
       "      <td>0</td>\n",
       "      <td>0</td>\n",
       "    </tr>\n",
       "    <tr>\n",
       "      <th>49</th>\n",
       "      <td>0</td>\n",
       "      <td>3</td>\n",
       "      <td>2</td>\n",
       "      <td>2</td>\n",
       "      <td>0</td>\n",
       "    </tr>\n",
       "    <tr>\n",
       "      <th>50</th>\n",
       "      <td>1</td>\n",
       "      <td>4</td>\n",
       "      <td>2</td>\n",
       "      <td>0</td>\n",
       "      <td>0</td>\n",
       "    </tr>\n",
       "    <tr>\n",
       "      <th>51</th>\n",
       "      <td>2</td>\n",
       "      <td>3</td>\n",
       "      <td>1</td>\n",
       "      <td>1</td>\n",
       "      <td>0</td>\n",
       "    </tr>\n",
       "    <tr>\n",
       "      <th>52</th>\n",
       "      <td>3</td>\n",
       "      <td>0</td>\n",
       "      <td>1</td>\n",
       "      <td>2</td>\n",
       "      <td>1</td>\n",
       "    </tr>\n",
       "  </tbody>\n",
       "</table>\n",
       "</div>"
      ],
      "text/plain": [
       "    1  2  3  4  5\n",
       "0   5  0  1  1  0\n",
       "1   0  3  2  1  1\n",
       "2   0  3  1  3  0\n",
       "3   1  0  0  1  5\n",
       "4   0  0  2  4  1\n",
       "5   4  1  1  1  0\n",
       "6   0  1  2  1  3\n",
       "7   0  4  1  1  1\n",
       "8   0  1  4  2  0\n",
       "9   0  0  1  3  3\n",
       "10  1  1  1  2  2\n",
       "11  0  0  4  1  2\n",
       "12  2  3  0  0  2\n",
       "13  1  0  5  1  0\n",
       "14  0  1  5  1  0\n",
       "15  1  0  0  1  5\n",
       "16  2  1  2  2  0\n",
       "17  0  0  2  1  4\n",
       "18  3  1  2  1  0\n",
       "19  0  2  1  4  0\n",
       "20  1  0  0  2  4\n",
       "21  1  0  1  5  0\n",
       "22  0  0  3  3  1\n",
       "23  1  1  1  2  2\n",
       "24  0  0  5  2  0\n",
       "25  0  0  4  3  0\n",
       "26  4  1  2  0  0\n",
       "27  0  4  2  1  0\n",
       "28  0  3  4  0  0\n",
       "29  3  2  2  0  0\n",
       "30  0  1  4  2  0\n",
       "31  0  1  2  2  2\n",
       "32  3  1  1  2  0\n",
       "33  3  1  2  0  1\n",
       "34  0  0  2  4  1\n",
       "35  0  0  0  2  5\n",
       "36  0  1  3  3  0\n",
       "37  0  3  3  1  0\n",
       "38  0  1  0  0  6\n",
       "39  0  0  5  2  0\n",
       "40  0  1  3  2  1\n",
       "41  0  1  2  2  2\n",
       "42  0  0  4  2  1\n",
       "43  1  3  0  2  0\n",
       "44  0  1  3  2  1\n",
       "45  0  0  1  3  3\n",
       "46  1  2  3  0  1\n",
       "47  0  2  3  2  0\n",
       "48  1  3  3  0  0\n",
       "49  0  3  2  2  0\n",
       "50  1  4  2  0  0\n",
       "51  2  3  1  1  0\n",
       "52  3  0  1  2  1"
      ]
     },
     "execution_count": 119,
     "metadata": {},
     "output_type": "execute_result"
    }
   ],
   "source": [
    "BQ2_Lk = Daten[Liste_B_Q2].T.apply(pd.value_counts).fillna(0).astype(integer)\n",
    "BQ2_Lk = BQ2_Lk.T\n",
    "BQ2_Lk.drop(0, axis=1, inplace=True)\n",
    "BQ2_Lk"
   ]
  },
  {
   "cell_type": "code",
   "execution_count": 120,
   "metadata": {},
   "outputs": [
    {
     "data": {
      "text/html": [
       "<div>\n",
       "<style scoped>\n",
       "    .dataframe tbody tr th:only-of-type {\n",
       "        vertical-align: middle;\n",
       "    }\n",
       "\n",
       "    .dataframe tbody tr th {\n",
       "        vertical-align: top;\n",
       "    }\n",
       "\n",
       "    .dataframe thead th {\n",
       "        text-align: right;\n",
       "    }\n",
       "</style>\n",
       "<table border=\"1\" class=\"dataframe\">\n",
       "  <thead>\n",
       "    <tr style=\"text-align: right;\">\n",
       "      <th></th>\n",
       "      <th>count</th>\n",
       "      <th>mean</th>\n",
       "      <th>std</th>\n",
       "      <th>min</th>\n",
       "      <th>25%</th>\n",
       "      <th>50%</th>\n",
       "      <th>75%</th>\n",
       "      <th>max</th>\n",
       "      <th>median</th>\n",
       "      <th>kurtosis</th>\n",
       "      <th>skew</th>\n",
       "    </tr>\n",
       "  </thead>\n",
       "  <tbody>\n",
       "    <tr>\n",
       "      <th>B-Q2_1</th>\n",
       "      <td>52.0</td>\n",
       "      <td>3.442308</td>\n",
       "      <td>1.036840</td>\n",
       "      <td>1.0</td>\n",
       "      <td>3.0</td>\n",
       "      <td>3.0</td>\n",
       "      <td>4.0</td>\n",
       "      <td>5.0</td>\n",
       "      <td>3.0</td>\n",
       "      <td>-0.656473</td>\n",
       "      <td>0.105182</td>\n",
       "    </tr>\n",
       "    <tr>\n",
       "      <th>B-Q2_2</th>\n",
       "      <td>53.0</td>\n",
       "      <td>3.169811</td>\n",
       "      <td>1.340721</td>\n",
       "      <td>1.0</td>\n",
       "      <td>2.0</td>\n",
       "      <td>3.0</td>\n",
       "      <td>4.0</td>\n",
       "      <td>5.0</td>\n",
       "      <td>3.0</td>\n",
       "      <td>-1.037152</td>\n",
       "      <td>-0.173125</td>\n",
       "    </tr>\n",
       "    <tr>\n",
       "      <th>B-Q2_3</th>\n",
       "      <td>53.0</td>\n",
       "      <td>3.584906</td>\n",
       "      <td>1.150818</td>\n",
       "      <td>1.0</td>\n",
       "      <td>3.0</td>\n",
       "      <td>4.0</td>\n",
       "      <td>5.0</td>\n",
       "      <td>5.0</td>\n",
       "      <td>4.0</td>\n",
       "      <td>-0.744777</td>\n",
       "      <td>-0.373038</td>\n",
       "    </tr>\n",
       "    <tr>\n",
       "      <th>B-Q2_4</th>\n",
       "      <td>53.0</td>\n",
       "      <td>2.886792</td>\n",
       "      <td>1.250544</td>\n",
       "      <td>1.0</td>\n",
       "      <td>2.0</td>\n",
       "      <td>3.0</td>\n",
       "      <td>4.0</td>\n",
       "      <td>5.0</td>\n",
       "      <td>3.0</td>\n",
       "      <td>-0.909441</td>\n",
       "      <td>0.037762</td>\n",
       "    </tr>\n",
       "    <tr>\n",
       "      <th>B-Q2_5</th>\n",
       "      <td>53.0</td>\n",
       "      <td>2.584906</td>\n",
       "      <td>1.183768</td>\n",
       "      <td>1.0</td>\n",
       "      <td>2.0</td>\n",
       "      <td>2.0</td>\n",
       "      <td>3.0</td>\n",
       "      <td>5.0</td>\n",
       "      <td>2.0</td>\n",
       "      <td>-0.830888</td>\n",
       "      <td>0.295552</td>\n",
       "    </tr>\n",
       "    <tr>\n",
       "      <th>B-Q2_6</th>\n",
       "      <td>53.0</td>\n",
       "      <td>3.113208</td>\n",
       "      <td>1.137818</td>\n",
       "      <td>1.0</td>\n",
       "      <td>3.0</td>\n",
       "      <td>3.0</td>\n",
       "      <td>4.0</td>\n",
       "      <td>5.0</td>\n",
       "      <td>3.0</td>\n",
       "      <td>-0.468681</td>\n",
       "      <td>-0.474039</td>\n",
       "    </tr>\n",
       "    <tr>\n",
       "      <th>B-Q2_8</th>\n",
       "      <td>53.0</td>\n",
       "      <td>3.264151</td>\n",
       "      <td>1.346662</td>\n",
       "      <td>1.0</td>\n",
       "      <td>2.0</td>\n",
       "      <td>3.0</td>\n",
       "      <td>4.0</td>\n",
       "      <td>5.0</td>\n",
       "      <td>3.0</td>\n",
       "      <td>-1.082619</td>\n",
       "      <td>-0.259464</td>\n",
       "    </tr>\n",
       "  </tbody>\n",
       "</table>\n",
       "</div>"
      ],
      "text/plain": [
       "        count      mean       std  min  25%  50%  75%  max  median  kurtosis  \\\n",
       "B-Q2_1   52.0  3.442308  1.036840  1.0  3.0  3.0  4.0  5.0     3.0 -0.656473   \n",
       "B-Q2_2   53.0  3.169811  1.340721  1.0  2.0  3.0  4.0  5.0     3.0 -1.037152   \n",
       "B-Q2_3   53.0  3.584906  1.150818  1.0  3.0  4.0  5.0  5.0     4.0 -0.744777   \n",
       "B-Q2_4   53.0  2.886792  1.250544  1.0  2.0  3.0  4.0  5.0     3.0 -0.909441   \n",
       "B-Q2_5   53.0  2.584906  1.183768  1.0  2.0  2.0  3.0  5.0     2.0 -0.830888   \n",
       "B-Q2_6   53.0  3.113208  1.137818  1.0  3.0  3.0  4.0  5.0     3.0 -0.468681   \n",
       "B-Q2_8   53.0  3.264151  1.346662  1.0  2.0  3.0  4.0  5.0     3.0 -1.082619   \n",
       "\n",
       "            skew  \n",
       "B-Q2_1  0.105182  \n",
       "B-Q2_2 -0.173125  \n",
       "B-Q2_3 -0.373038  \n",
       "B-Q2_4  0.037762  \n",
       "B-Q2_5  0.295552  \n",
       "B-Q2_6 -0.474039  \n",
       "B-Q2_8 -0.259464  "
      ]
     },
     "execution_count": 120,
     "metadata": {},
     "output_type": "execute_result"
    }
   ],
   "source": [
    "df_describe1(Daten[Daten[Liste_B_Q2] != 0],Liste_B_Q2)"
   ]
  },
  {
   "cell_type": "code",
   "execution_count": 121,
   "metadata": {},
   "outputs": [],
   "source": [
    "#df_describe1(Daten[Daten[Liste_B_Q2] != 0],Liste_B_Q2).to_excel('D:\\Daten\\DISS\\Daten\\Deskriptiv_Lehrende_B2.xlsx')"
   ]
  },
  {
   "cell_type": "code",
   "execution_count": 122,
   "metadata": {},
   "outputs": [
    {
     "data": {
      "text/plain": [
       "B-Q2_3    3.584906\n",
       "B-Q2_1    3.442308\n",
       "B-Q2_8    3.264151\n",
       "B-Q2_2    3.169811\n",
       "B-Q2_6    3.113208\n",
       "B-Q2_4    2.886792\n",
       "B-Q2_5    2.584906\n",
       "dtype: float64"
      ]
     },
     "execution_count": 122,
     "metadata": {},
     "output_type": "execute_result"
    }
   ],
   "source": [
    "Daten[Daten[Liste_B_Q2] != 0][Liste_B_Q2].mean().sort_values(ascending = False)"
   ]
  },
  {
   "cell_type": "code",
   "execution_count": 123,
   "metadata": {},
   "outputs": [
    {
     "data": {
      "text/html": [
       "<div>\n",
       "<style scoped>\n",
       "    .dataframe tbody tr th:only-of-type {\n",
       "        vertical-align: middle;\n",
       "    }\n",
       "\n",
       "    .dataframe tbody tr th {\n",
       "        vertical-align: top;\n",
       "    }\n",
       "\n",
       "    .dataframe thead th {\n",
       "        text-align: right;\n",
       "    }\n",
       "</style>\n",
       "<table border=\"1\" class=\"dataframe\">\n",
       "  <thead>\n",
       "    <tr style=\"text-align: right;\">\n",
       "      <th></th>\n",
       "      <th>0</th>\n",
       "      <th>1</th>\n",
       "    </tr>\n",
       "  </thead>\n",
       "  <tbody>\n",
       "    <tr>\n",
       "      <th>B-Q2_1</th>\n",
       "      <td>3.0</td>\n",
       "      <td>NaN</td>\n",
       "    </tr>\n",
       "    <tr>\n",
       "      <th>B-Q2_2</th>\n",
       "      <td>3.0</td>\n",
       "      <td>NaN</td>\n",
       "    </tr>\n",
       "    <tr>\n",
       "      <th>B-Q2_3</th>\n",
       "      <td>4.0</td>\n",
       "      <td>NaN</td>\n",
       "    </tr>\n",
       "    <tr>\n",
       "      <th>B-Q2_4</th>\n",
       "      <td>3.0</td>\n",
       "      <td>NaN</td>\n",
       "    </tr>\n",
       "    <tr>\n",
       "      <th>B-Q2_5</th>\n",
       "      <td>2.0</td>\n",
       "      <td>NaN</td>\n",
       "    </tr>\n",
       "    <tr>\n",
       "      <th>B-Q2_6</th>\n",
       "      <td>3.0</td>\n",
       "      <td>4.0</td>\n",
       "    </tr>\n",
       "    <tr>\n",
       "      <th>B-Q2_8</th>\n",
       "      <td>4.0</td>\n",
       "      <td>NaN</td>\n",
       "    </tr>\n",
       "  </tbody>\n",
       "</table>\n",
       "</div>"
      ],
      "text/plain": [
       "          0    1\n",
       "B-Q2_1  3.0  NaN\n",
       "B-Q2_2  3.0  NaN\n",
       "B-Q2_3  4.0  NaN\n",
       "B-Q2_4  3.0  NaN\n",
       "B-Q2_5  2.0  NaN\n",
       "B-Q2_6  3.0  4.0\n",
       "B-Q2_8  4.0  NaN"
      ]
     },
     "execution_count": 123,
     "metadata": {},
     "output_type": "execute_result"
    }
   ],
   "source": [
    "Daten[Daten[Liste_B_Q2] != 0][Liste_B_Q2].mode().T"
   ]
  },
  {
   "cell_type": "code",
   "execution_count": 124,
   "metadata": {},
   "outputs": [
    {
     "data": {
      "image/png": "[encoded data removed]",
      "text/plain": [
       "<Figure size 576x360 with 1 Axes>"
      ]
     },
     "metadata": {
      "needs_background": "light"
     },
     "output_type": "display_data"
    }
   ],
   "source": [
    "graf_likert(Daten[Daten[Liste_B_Q2] != 0],Liste_B_Q2,5)"
   ]
  },
  {
   "cell_type": "code",
   "execution_count": 125,
   "metadata": {},
   "outputs": [
    {
     "data": {
      "image/png": "[encoded data removed]",
      "text/plain": [
       "<Figure size 1152x576 with 7 Axes>"
      ]
     },
     "metadata": {
      "needs_background": "light"
     },
     "output_type": "display_data"
    }
   ],
   "source": [
    "graf_hist(Daten,Liste_B_Q2,16,8,2,4)"
   ]
  },
  {
   "cell_type": "markdown",
   "metadata": {},
   "source": [
    "Korrelation in B-Q2:"
   ]
  },
  {
   "cell_type": "code",
   "execution_count": 126,
   "metadata": {},
   "outputs": [
    {
     "data": {
      "text/html": [
       "<style  type=\"text/css\" >\n",
       "    #T_fee9de76_e04b_11e9_9cbe_b8763fd8451drow0_col0 {\n",
       "            background-color :  salmon;\n",
       "        }    #T_fee9de76_e04b_11e9_9cbe_b8763fd8451drow0_col1 {\n",
       "            background-color:  peachpuff;\n",
       "        }    #T_fee9de76_e04b_11e9_9cbe_b8763fd8451drow0_col2 {\n",
       "            background-color :  salmon;\n",
       "        }    #T_fee9de76_e04b_11e9_9cbe_b8763fd8451drow0_col3 {\n",
       "            background-color:  lightsalmon;\n",
       "        }    #T_fee9de76_e04b_11e9_9cbe_b8763fd8451drow0_col4 {\n",
       "            background-color:  lightsalmon;\n",
       "        }    #T_fee9de76_e04b_11e9_9cbe_b8763fd8451drow0_col5 {\n",
       "            background-color:  lightsalmon;\n",
       "        }    #T_fee9de76_e04b_11e9_9cbe_b8763fd8451drow0_col6 {\n",
       "            background-color:  lightsalmon;\n",
       "        }    #T_fee9de76_e04b_11e9_9cbe_b8763fd8451drow1_col0 {\n",
       "            background-color:  peachpuff;\n",
       "        }    #T_fee9de76_e04b_11e9_9cbe_b8763fd8451drow1_col1 {\n",
       "            background-color :  salmon;\n",
       "        }    #T_fee9de76_e04b_11e9_9cbe_b8763fd8451drow1_col2 {\n",
       "            background-color:  lightsalmon;\n",
       "        }    #T_fee9de76_e04b_11e9_9cbe_b8763fd8451drow1_col3 {\n",
       "            background-color :  salmon;\n",
       "        }    #T_fee9de76_e04b_11e9_9cbe_b8763fd8451drow1_col4 {\n",
       "            background-color :  salmon;\n",
       "        }    #T_fee9de76_e04b_11e9_9cbe_b8763fd8451drow1_col5 {\n",
       "            background-color:  peachpuff;\n",
       "        }    #T_fee9de76_e04b_11e9_9cbe_b8763fd8451drow1_col6 {\n",
       "            background-color:  lightsalmon;\n",
       "        }    #T_fee9de76_e04b_11e9_9cbe_b8763fd8451drow2_col0 {\n",
       "            background-color :  salmon;\n",
       "        }    #T_fee9de76_e04b_11e9_9cbe_b8763fd8451drow2_col1 {\n",
       "            background-color:  lightsalmon;\n",
       "        }    #T_fee9de76_e04b_11e9_9cbe_b8763fd8451drow2_col2 {\n",
       "            background-color :  salmon;\n",
       "        }    #T_fee9de76_e04b_11e9_9cbe_b8763fd8451drow2_col3 {\n",
       "            background-color :  salmon;\n",
       "        }    #T_fee9de76_e04b_11e9_9cbe_b8763fd8451drow2_col4 {\n",
       "            background-color:  lightsalmon;\n",
       "        }    #T_fee9de76_e04b_11e9_9cbe_b8763fd8451drow2_col5 {\n",
       "            background-color:  peachpuff;\n",
       "        }    #T_fee9de76_e04b_11e9_9cbe_b8763fd8451drow2_col6 {\n",
       "            background-color:  lightsalmon;\n",
       "        }    #T_fee9de76_e04b_11e9_9cbe_b8763fd8451drow3_col0 {\n",
       "            background-color:  lightsalmon;\n",
       "        }    #T_fee9de76_e04b_11e9_9cbe_b8763fd8451drow3_col1 {\n",
       "            background-color :  salmon;\n",
       "        }    #T_fee9de76_e04b_11e9_9cbe_b8763fd8451drow3_col2 {\n",
       "            background-color :  salmon;\n",
       "        }    #T_fee9de76_e04b_11e9_9cbe_b8763fd8451drow3_col3 {\n",
       "            background-color :  salmon;\n",
       "        }    #T_fee9de76_e04b_11e9_9cbe_b8763fd8451drow3_col4 {\n",
       "            background-color :  salmon;\n",
       "        }    #T_fee9de76_e04b_11e9_9cbe_b8763fd8451drow3_col5 {\n",
       "            background-color:  peachpuff;\n",
       "        }    #T_fee9de76_e04b_11e9_9cbe_b8763fd8451drow3_col6 {\n",
       "            background-color :  salmon;\n",
       "        }    #T_fee9de76_e04b_11e9_9cbe_b8763fd8451drow4_col0 {\n",
       "            background-color:  lightsalmon;\n",
       "        }    #T_fee9de76_e04b_11e9_9cbe_b8763fd8451drow4_col1 {\n",
       "            background-color :  salmon;\n",
       "        }    #T_fee9de76_e04b_11e9_9cbe_b8763fd8451drow4_col2 {\n",
       "            background-color:  lightsalmon;\n",
       "        }    #T_fee9de76_e04b_11e9_9cbe_b8763fd8451drow4_col3 {\n",
       "            background-color :  salmon;\n",
       "        }    #T_fee9de76_e04b_11e9_9cbe_b8763fd8451drow4_col4 {\n",
       "            background-color :  salmon;\n",
       "        }    #T_fee9de76_e04b_11e9_9cbe_b8763fd8451drow4_col5 {\n",
       "            background-color:  peachpuff;\n",
       "        }    #T_fee9de76_e04b_11e9_9cbe_b8763fd8451drow4_col6 {\n",
       "            background-color :  salmon;\n",
       "        }    #T_fee9de76_e04b_11e9_9cbe_b8763fd8451drow5_col0 {\n",
       "            background-color:  lightsalmon;\n",
       "        }    #T_fee9de76_e04b_11e9_9cbe_b8763fd8451drow5_col1 {\n",
       "            background-color:  peachpuff;\n",
       "        }    #T_fee9de76_e04b_11e9_9cbe_b8763fd8451drow5_col2 {\n",
       "            background-color:  peachpuff;\n",
       "        }    #T_fee9de76_e04b_11e9_9cbe_b8763fd8451drow5_col3 {\n",
       "            background-color:  peachpuff;\n",
       "        }    #T_fee9de76_e04b_11e9_9cbe_b8763fd8451drow5_col4 {\n",
       "            background-color:  peachpuff;\n",
       "        }    #T_fee9de76_e04b_11e9_9cbe_b8763fd8451drow5_col5 {\n",
       "            background-color :  salmon;\n",
       "        }    #T_fee9de76_e04b_11e9_9cbe_b8763fd8451drow5_col6 {\n",
       "            background-color :  white;\n",
       "        }    #T_fee9de76_e04b_11e9_9cbe_b8763fd8451drow6_col0 {\n",
       "            background-color:  lightsalmon;\n",
       "        }    #T_fee9de76_e04b_11e9_9cbe_b8763fd8451drow6_col1 {\n",
       "            background-color:  lightsalmon;\n",
       "        }    #T_fee9de76_e04b_11e9_9cbe_b8763fd8451drow6_col2 {\n",
       "            background-color:  lightsalmon;\n",
       "        }    #T_fee9de76_e04b_11e9_9cbe_b8763fd8451drow6_col3 {\n",
       "            background-color :  salmon;\n",
       "        }    #T_fee9de76_e04b_11e9_9cbe_b8763fd8451drow6_col4 {\n",
       "            background-color :  salmon;\n",
       "        }    #T_fee9de76_e04b_11e9_9cbe_b8763fd8451drow6_col5 {\n",
       "            background-color :  white;\n",
       "        }    #T_fee9de76_e04b_11e9_9cbe_b8763fd8451drow6_col6 {\n",
       "            background-color :  salmon;\n",
       "        }</style><table id=\"T_fee9de76_e04b_11e9_9cbe_b8763fd8451d\" ><thead>    <tr>        <th class=\"blank level0\" ></th>        <th class=\"col_heading level0 col0\" >B-Q2_1</th>        <th class=\"col_heading level0 col1\" >B-Q2_2</th>        <th class=\"col_heading level0 col2\" >B-Q2_3</th>        <th class=\"col_heading level0 col3\" >B-Q2_4</th>        <th class=\"col_heading level0 col4\" >B-Q2_5</th>        <th class=\"col_heading level0 col5\" >B-Q2_6</th>        <th class=\"col_heading level0 col6\" >B-Q2_8</th>    </tr></thead><tbody>\n",
       "                <tr>\n",
       "                        <th id=\"T_fee9de76_e04b_11e9_9cbe_b8763fd8451dlevel0_row0\" class=\"row_heading level0 row0\" >B-Q2_1</th>\n",
       "                        <td id=\"T_fee9de76_e04b_11e9_9cbe_b8763fd8451drow0_col0\" class=\"data row0 col0\" >1</td>\n",
       "                        <td id=\"T_fee9de76_e04b_11e9_9cbe_b8763fd8451drow0_col1\" class=\"data row0 col1\" >0.27638</td>\n",
       "                        <td id=\"T_fee9de76_e04b_11e9_9cbe_b8763fd8451drow0_col2\" class=\"data row0 col2\" >0.523844</td>\n",
       "                        <td id=\"T_fee9de76_e04b_11e9_9cbe_b8763fd8451drow0_col3\" class=\"data row0 col3\" >0.45899</td>\n",
       "                        <td id=\"T_fee9de76_e04b_11e9_9cbe_b8763fd8451drow0_col4\" class=\"data row0 col4\" >0.421612</td>\n",
       "                        <td id=\"T_fee9de76_e04b_11e9_9cbe_b8763fd8451drow0_col5\" class=\"data row0 col5\" >-0.331346</td>\n",
       "                        <td id=\"T_fee9de76_e04b_11e9_9cbe_b8763fd8451drow0_col6\" class=\"data row0 col6\" >0.342885</td>\n",
       "            </tr>\n",
       "            <tr>\n",
       "                        <th id=\"T_fee9de76_e04b_11e9_9cbe_b8763fd8451dlevel0_row1\" class=\"row_heading level0 row1\" >B-Q2_2</th>\n",
       "                        <td id=\"T_fee9de76_e04b_11e9_9cbe_b8763fd8451drow1_col0\" class=\"data row1 col0\" >0.27638</td>\n",
       "                        <td id=\"T_fee9de76_e04b_11e9_9cbe_b8763fd8451drow1_col1\" class=\"data row1 col1\" >1</td>\n",
       "                        <td id=\"T_fee9de76_e04b_11e9_9cbe_b8763fd8451drow1_col2\" class=\"data row1 col2\" >0.410764</td>\n",
       "                        <td id=\"T_fee9de76_e04b_11e9_9cbe_b8763fd8451drow1_col3\" class=\"data row1 col3\" >0.534444</td>\n",
       "                        <td id=\"T_fee9de76_e04b_11e9_9cbe_b8763fd8451drow1_col4\" class=\"data row1 col4\" >0.539396</td>\n",
       "                        <td id=\"T_fee9de76_e04b_11e9_9cbe_b8763fd8451drow1_col5\" class=\"data row1 col5\" >-0.15774</td>\n",
       "                        <td id=\"T_fee9de76_e04b_11e9_9cbe_b8763fd8451drow1_col6\" class=\"data row1 col6\" >0.43376</td>\n",
       "            </tr>\n",
       "            <tr>\n",
       "                        <th id=\"T_fee9de76_e04b_11e9_9cbe_b8763fd8451dlevel0_row2\" class=\"row_heading level0 row2\" >B-Q2_3</th>\n",
       "                        <td id=\"T_fee9de76_e04b_11e9_9cbe_b8763fd8451drow2_col0\" class=\"data row2 col0\" >0.523844</td>\n",
       "                        <td id=\"T_fee9de76_e04b_11e9_9cbe_b8763fd8451drow2_col1\" class=\"data row2 col1\" >0.410764</td>\n",
       "                        <td id=\"T_fee9de76_e04b_11e9_9cbe_b8763fd8451drow2_col2\" class=\"data row2 col2\" >1</td>\n",
       "                        <td id=\"T_fee9de76_e04b_11e9_9cbe_b8763fd8451drow2_col3\" class=\"data row2 col3\" >0.537399</td>\n",
       "                        <td id=\"T_fee9de76_e04b_11e9_9cbe_b8763fd8451drow2_col4\" class=\"data row2 col4\" >0.446591</td>\n",
       "                        <td id=\"T_fee9de76_e04b_11e9_9cbe_b8763fd8451drow2_col5\" class=\"data row2 col5\" >-0.217229</td>\n",
       "                        <td id=\"T_fee9de76_e04b_11e9_9cbe_b8763fd8451drow2_col6\" class=\"data row2 col6\" >0.343681</td>\n",
       "            </tr>\n",
       "            <tr>\n",
       "                        <th id=\"T_fee9de76_e04b_11e9_9cbe_b8763fd8451dlevel0_row3\" class=\"row_heading level0 row3\" >B-Q2_4</th>\n",
       "                        <td id=\"T_fee9de76_e04b_11e9_9cbe_b8763fd8451drow3_col0\" class=\"data row3 col0\" >0.45899</td>\n",
       "                        <td id=\"T_fee9de76_e04b_11e9_9cbe_b8763fd8451drow3_col1\" class=\"data row3 col1\" >0.534444</td>\n",
       "                        <td id=\"T_fee9de76_e04b_11e9_9cbe_b8763fd8451drow3_col2\" class=\"data row3 col2\" >0.537399</td>\n",
       "                        <td id=\"T_fee9de76_e04b_11e9_9cbe_b8763fd8451drow3_col3\" class=\"data row3 col3\" >1</td>\n",
       "                        <td id=\"T_fee9de76_e04b_11e9_9cbe_b8763fd8451drow3_col4\" class=\"data row3 col4\" >0.745484</td>\n",
       "                        <td id=\"T_fee9de76_e04b_11e9_9cbe_b8763fd8451drow3_col5\" class=\"data row3 col5\" >-0.123381</td>\n",
       "                        <td id=\"T_fee9de76_e04b_11e9_9cbe_b8763fd8451drow3_col6\" class=\"data row3 col6\" >0.613925</td>\n",
       "            </tr>\n",
       "            <tr>\n",
       "                        <th id=\"T_fee9de76_e04b_11e9_9cbe_b8763fd8451dlevel0_row4\" class=\"row_heading level0 row4\" >B-Q2_5</th>\n",
       "                        <td id=\"T_fee9de76_e04b_11e9_9cbe_b8763fd8451drow4_col0\" class=\"data row4 col0\" >0.421612</td>\n",
       "                        <td id=\"T_fee9de76_e04b_11e9_9cbe_b8763fd8451drow4_col1\" class=\"data row4 col1\" >0.539396</td>\n",
       "                        <td id=\"T_fee9de76_e04b_11e9_9cbe_b8763fd8451drow4_col2\" class=\"data row4 col2\" >0.446591</td>\n",
       "                        <td id=\"T_fee9de76_e04b_11e9_9cbe_b8763fd8451drow4_col3\" class=\"data row4 col3\" >0.745484</td>\n",
       "                        <td id=\"T_fee9de76_e04b_11e9_9cbe_b8763fd8451drow4_col4\" class=\"data row4 col4\" >1</td>\n",
       "                        <td id=\"T_fee9de76_e04b_11e9_9cbe_b8763fd8451drow4_col5\" class=\"data row4 col5\" >-0.1241</td>\n",
       "                        <td id=\"T_fee9de76_e04b_11e9_9cbe_b8763fd8451drow4_col6\" class=\"data row4 col6\" >0.519677</td>\n",
       "            </tr>\n",
       "            <tr>\n",
       "                        <th id=\"T_fee9de76_e04b_11e9_9cbe_b8763fd8451dlevel0_row5\" class=\"row_heading level0 row5\" >B-Q2_6</th>\n",
       "                        <td id=\"T_fee9de76_e04b_11e9_9cbe_b8763fd8451drow5_col0\" class=\"data row5 col0\" >-0.331346</td>\n",
       "                        <td id=\"T_fee9de76_e04b_11e9_9cbe_b8763fd8451drow5_col1\" class=\"data row5 col1\" >-0.15774</td>\n",
       "                        <td id=\"T_fee9de76_e04b_11e9_9cbe_b8763fd8451drow5_col2\" class=\"data row5 col2\" >-0.217229</td>\n",
       "                        <td id=\"T_fee9de76_e04b_11e9_9cbe_b8763fd8451drow5_col3\" class=\"data row5 col3\" >-0.123381</td>\n",
       "                        <td id=\"T_fee9de76_e04b_11e9_9cbe_b8763fd8451drow5_col4\" class=\"data row5 col4\" >-0.1241</td>\n",
       "                        <td id=\"T_fee9de76_e04b_11e9_9cbe_b8763fd8451drow5_col5\" class=\"data row5 col5\" >1</td>\n",
       "                        <td id=\"T_fee9de76_e04b_11e9_9cbe_b8763fd8451drow5_col6\" class=\"data row5 col6\" >0.0274933</td>\n",
       "            </tr>\n",
       "            <tr>\n",
       "                        <th id=\"T_fee9de76_e04b_11e9_9cbe_b8763fd8451dlevel0_row6\" class=\"row_heading level0 row6\" >B-Q2_8</th>\n",
       "                        <td id=\"T_fee9de76_e04b_11e9_9cbe_b8763fd8451drow6_col0\" class=\"data row6 col0\" >0.342885</td>\n",
       "                        <td id=\"T_fee9de76_e04b_11e9_9cbe_b8763fd8451drow6_col1\" class=\"data row6 col1\" >0.43376</td>\n",
       "                        <td id=\"T_fee9de76_e04b_11e9_9cbe_b8763fd8451drow6_col2\" class=\"data row6 col2\" >0.343681</td>\n",
       "                        <td id=\"T_fee9de76_e04b_11e9_9cbe_b8763fd8451drow6_col3\" class=\"data row6 col3\" >0.613925</td>\n",
       "                        <td id=\"T_fee9de76_e04b_11e9_9cbe_b8763fd8451drow6_col4\" class=\"data row6 col4\" >0.519677</td>\n",
       "                        <td id=\"T_fee9de76_e04b_11e9_9cbe_b8763fd8451drow6_col5\" class=\"data row6 col5\" >0.0274933</td>\n",
       "                        <td id=\"T_fee9de76_e04b_11e9_9cbe_b8763fd8451drow6_col6\" class=\"data row6 col6\" >1</td>\n",
       "            </tr>\n",
       "    </tbody></table>"
      ],
      "text/plain": [
       "<pandas.io.formats.style.Styler at 0x117ade10>"
      ]
     },
     "execution_count": 126,
     "metadata": {},
     "output_type": "execute_result"
    }
   ],
   "source": [
    "df_spearman(Daten[Daten[Liste_B_Q2] != 0],Liste_B_Q2)"
   ]
  },
  {
   "cell_type": "code",
   "execution_count": 127,
   "metadata": {},
   "outputs": [
    {
     "data": {
      "text/html": [
       "<style  type=\"text/css\" >\n",
       "    #T_feff89a6_e04b_11e9_8b4b_b8763fd8451drow0_col0 {\n",
       "            background-color :  salmon;\n",
       "        }    #T_feff89a6_e04b_11e9_8b4b_b8763fd8451drow0_col1 {\n",
       "            background-color :  white;\n",
       "        }    #T_feff89a6_e04b_11e9_8b4b_b8763fd8451drow0_col2 {\n",
       "            background-color :  salmon;\n",
       "        }    #T_feff89a6_e04b_11e9_8b4b_b8763fd8451drow0_col3 {\n",
       "            background-color :  salmon;\n",
       "        }    #T_feff89a6_e04b_11e9_8b4b_b8763fd8451drow0_col4 {\n",
       "            background-color :  salmon;\n",
       "        }    #T_feff89a6_e04b_11e9_8b4b_b8763fd8451drow0_col5 {\n",
       "            background-color :  salmon;\n",
       "        }    #T_feff89a6_e04b_11e9_8b4b_b8763fd8451drow0_col6 {\n",
       "            background-color:  lightsalmon;\n",
       "        }    #T_feff89a6_e04b_11e9_8b4b_b8763fd8451drow1_col0 {\n",
       "            background-color :  white;\n",
       "        }    #T_feff89a6_e04b_11e9_8b4b_b8763fd8451drow1_col1 {\n",
       "            background-color :  salmon;\n",
       "        }    #T_feff89a6_e04b_11e9_8b4b_b8763fd8451drow1_col2 {\n",
       "            background-color :  salmon;\n",
       "        }    #T_feff89a6_e04b_11e9_8b4b_b8763fd8451drow1_col3 {\n",
       "            background-color :  salmon;\n",
       "        }    #T_feff89a6_e04b_11e9_8b4b_b8763fd8451drow1_col4 {\n",
       "            background-color :  salmon;\n",
       "        }    #T_feff89a6_e04b_11e9_8b4b_b8763fd8451drow1_col5 {\n",
       "            background-color :  white;\n",
       "        }    #T_feff89a6_e04b_11e9_8b4b_b8763fd8451drow1_col6 {\n",
       "            background-color :  salmon;\n",
       "        }    #T_feff89a6_e04b_11e9_8b4b_b8763fd8451drow2_col0 {\n",
       "            background-color :  salmon;\n",
       "        }    #T_feff89a6_e04b_11e9_8b4b_b8763fd8451drow2_col1 {\n",
       "            background-color :  salmon;\n",
       "        }    #T_feff89a6_e04b_11e9_8b4b_b8763fd8451drow2_col2 {\n",
       "            background-color :  salmon;\n",
       "        }    #T_feff89a6_e04b_11e9_8b4b_b8763fd8451drow2_col3 {\n",
       "            background-color :  salmon;\n",
       "        }    #T_feff89a6_e04b_11e9_8b4b_b8763fd8451drow2_col4 {\n",
       "            background-color :  salmon;\n",
       "        }    #T_feff89a6_e04b_11e9_8b4b_b8763fd8451drow2_col5 {\n",
       "            background-color :  white;\n",
       "        }    #T_feff89a6_e04b_11e9_8b4b_b8763fd8451drow2_col6 {\n",
       "            background-color:  lightsalmon;\n",
       "        }    #T_feff89a6_e04b_11e9_8b4b_b8763fd8451drow3_col0 {\n",
       "            background-color :  salmon;\n",
       "        }    #T_feff89a6_e04b_11e9_8b4b_b8763fd8451drow3_col1 {\n",
       "            background-color :  salmon;\n",
       "        }    #T_feff89a6_e04b_11e9_8b4b_b8763fd8451drow3_col2 {\n",
       "            background-color :  salmon;\n",
       "        }    #T_feff89a6_e04b_11e9_8b4b_b8763fd8451drow3_col3 {\n",
       "            background-color :  salmon;\n",
       "        }    #T_feff89a6_e04b_11e9_8b4b_b8763fd8451drow3_col4 {\n",
       "            background-color :  salmon;\n",
       "        }    #T_feff89a6_e04b_11e9_8b4b_b8763fd8451drow3_col5 {\n",
       "            background-color :  white;\n",
       "        }    #T_feff89a6_e04b_11e9_8b4b_b8763fd8451drow3_col6 {\n",
       "            background-color :  salmon;\n",
       "        }    #T_feff89a6_e04b_11e9_8b4b_b8763fd8451drow4_col0 {\n",
       "            background-color :  salmon;\n",
       "        }    #T_feff89a6_e04b_11e9_8b4b_b8763fd8451drow4_col1 {\n",
       "            background-color :  salmon;\n",
       "        }    #T_feff89a6_e04b_11e9_8b4b_b8763fd8451drow4_col2 {\n",
       "            background-color :  salmon;\n",
       "        }    #T_feff89a6_e04b_11e9_8b4b_b8763fd8451drow4_col3 {\n",
       "            background-color :  salmon;\n",
       "        }    #T_feff89a6_e04b_11e9_8b4b_b8763fd8451drow4_col4 {\n",
       "            background-color :  salmon;\n",
       "        }    #T_feff89a6_e04b_11e9_8b4b_b8763fd8451drow4_col5 {\n",
       "            background-color :  white;\n",
       "        }    #T_feff89a6_e04b_11e9_8b4b_b8763fd8451drow4_col6 {\n",
       "            background-color :  salmon;\n",
       "        }    #T_feff89a6_e04b_11e9_8b4b_b8763fd8451drow5_col0 {\n",
       "            background-color :  salmon;\n",
       "        }    #T_feff89a6_e04b_11e9_8b4b_b8763fd8451drow5_col1 {\n",
       "            background-color :  white;\n",
       "        }    #T_feff89a6_e04b_11e9_8b4b_b8763fd8451drow5_col2 {\n",
       "            background-color :  white;\n",
       "        }    #T_feff89a6_e04b_11e9_8b4b_b8763fd8451drow5_col3 {\n",
       "            background-color :  white;\n",
       "        }    #T_feff89a6_e04b_11e9_8b4b_b8763fd8451drow5_col4 {\n",
       "            background-color :  white;\n",
       "        }    #T_feff89a6_e04b_11e9_8b4b_b8763fd8451drow5_col5 {\n",
       "            background-color :  salmon;\n",
       "        }    #T_feff89a6_e04b_11e9_8b4b_b8763fd8451drow5_col6 {\n",
       "            background-color :  white;\n",
       "        }    #T_feff89a6_e04b_11e9_8b4b_b8763fd8451drow6_col0 {\n",
       "            background-color:  lightsalmon;\n",
       "        }    #T_feff89a6_e04b_11e9_8b4b_b8763fd8451drow6_col1 {\n",
       "            background-color :  salmon;\n",
       "        }    #T_feff89a6_e04b_11e9_8b4b_b8763fd8451drow6_col2 {\n",
       "            background-color:  lightsalmon;\n",
       "        }    #T_feff89a6_e04b_11e9_8b4b_b8763fd8451drow6_col3 {\n",
       "            background-color :  salmon;\n",
       "        }    #T_feff89a6_e04b_11e9_8b4b_b8763fd8451drow6_col4 {\n",
       "            background-color :  salmon;\n",
       "        }    #T_feff89a6_e04b_11e9_8b4b_b8763fd8451drow6_col5 {\n",
       "            background-color :  white;\n",
       "        }    #T_feff89a6_e04b_11e9_8b4b_b8763fd8451drow6_col6 {\n",
       "            background-color :  salmon;\n",
       "        }</style><table id=\"T_feff89a6_e04b_11e9_8b4b_b8763fd8451d\" ><thead>    <tr>        <th class=\"blank level0\" ></th>        <th class=\"col_heading level0 col0\" >B-Q2_1</th>        <th class=\"col_heading level0 col1\" >B-Q2_2</th>        <th class=\"col_heading level0 col2\" >B-Q2_3</th>        <th class=\"col_heading level0 col3\" >B-Q2_4</th>        <th class=\"col_heading level0 col4\" >B-Q2_5</th>        <th class=\"col_heading level0 col5\" >B-Q2_6</th>        <th class=\"col_heading level0 col6\" >B-Q2_8</th>    </tr></thead><tbody>\n",
       "                <tr>\n",
       "                        <th id=\"T_feff89a6_e04b_11e9_8b4b_b8763fd8451dlevel0_row0\" class=\"row_heading level0 row0\" >B-Q2_1</th>\n",
       "                        <td id=\"T_feff89a6_e04b_11e9_8b4b_b8763fd8451drow0_col0\" class=\"data row0 col0\" >0</td>\n",
       "                        <td id=\"T_feff89a6_e04b_11e9_8b4b_b8763fd8451drow0_col1\" class=\"data row0 col1\" >0.102579</td>\n",
       "                        <td id=\"T_feff89a6_e04b_11e9_8b4b_b8763fd8451drow0_col2\" class=\"data row0 col2\" >6.91498e-05</td>\n",
       "                        <td id=\"T_feff89a6_e04b_11e9_8b4b_b8763fd8451drow0_col3\" class=\"data row0 col3\" >0.00208208</td>\n",
       "                        <td id=\"T_feff89a6_e04b_11e9_8b4b_b8763fd8451drow0_col4\" class=\"data row0 col4\" >0.0040907</td>\n",
       "                        <td id=\"T_feff89a6_e04b_11e9_8b4b_b8763fd8451drow0_col5\" class=\"data row0 col5\" >0.00641921</td>\n",
       "                        <td id=\"T_feff89a6_e04b_11e9_8b4b_b8763fd8451drow0_col6\" class=\"data row0 col6\" >0.0102863</td>\n",
       "            </tr>\n",
       "            <tr>\n",
       "                        <th id=\"T_feff89a6_e04b_11e9_8b4b_b8763fd8451dlevel0_row1\" class=\"row_heading level0 row1\" >B-Q2_2</th>\n",
       "                        <td id=\"T_feff89a6_e04b_11e9_8b4b_b8763fd8451drow1_col0\" class=\"data row1 col0\" >0.102579</td>\n",
       "                        <td id=\"T_feff89a6_e04b_11e9_8b4b_b8763fd8451drow1_col1\" class=\"data row1 col1\" >0</td>\n",
       "                        <td id=\"T_feff89a6_e04b_11e9_8b4b_b8763fd8451drow1_col2\" class=\"data row1 col2\" >0.00224926</td>\n",
       "                        <td id=\"T_feff89a6_e04b_11e9_8b4b_b8763fd8451drow1_col3\" class=\"data row1 col3\" >3.7548e-05</td>\n",
       "                        <td id=\"T_feff89a6_e04b_11e9_8b4b_b8763fd8451drow1_col4\" class=\"data row1 col4\" >3.07801e-05</td>\n",
       "                        <td id=\"T_feff89a6_e04b_11e9_8b4b_b8763fd8451drow1_col5\" class=\"data row1 col5\" >0.259294</td>\n",
       "                        <td id=\"T_feff89a6_e04b_11e9_8b4b_b8763fd8451drow1_col6\" class=\"data row1 col6\" >0.00117553</td>\n",
       "            </tr>\n",
       "            <tr>\n",
       "                        <th id=\"T_feff89a6_e04b_11e9_8b4b_b8763fd8451dlevel0_row2\" class=\"row_heading level0 row2\" >B-Q2_3</th>\n",
       "                        <td id=\"T_feff89a6_e04b_11e9_8b4b_b8763fd8451drow2_col0\" class=\"data row2 col0\" >6.91498e-05</td>\n",
       "                        <td id=\"T_feff89a6_e04b_11e9_8b4b_b8763fd8451drow2_col1\" class=\"data row2 col1\" >0.00224926</td>\n",
       "                        <td id=\"T_feff89a6_e04b_11e9_8b4b_b8763fd8451drow2_col2\" class=\"data row2 col2\" >0</td>\n",
       "                        <td id=\"T_feff89a6_e04b_11e9_8b4b_b8763fd8451drow2_col3\" class=\"data row2 col3\" >3.33616e-05</td>\n",
       "                        <td id=\"T_feff89a6_e04b_11e9_8b4b_b8763fd8451drow2_col4\" class=\"data row2 col4\" >0.000802154</td>\n",
       "                        <td id=\"T_feff89a6_e04b_11e9_8b4b_b8763fd8451drow2_col5\" class=\"data row2 col5\" >0.11818</td>\n",
       "                        <td id=\"T_feff89a6_e04b_11e9_8b4b_b8763fd8451drow2_col6\" class=\"data row2 col6\" >0.0117475</td>\n",
       "            </tr>\n",
       "            <tr>\n",
       "                        <th id=\"T_feff89a6_e04b_11e9_8b4b_b8763fd8451dlevel0_row3\" class=\"row_heading level0 row3\" >B-Q2_4</th>\n",
       "                        <td id=\"T_feff89a6_e04b_11e9_8b4b_b8763fd8451drow3_col0\" class=\"data row3 col0\" >0.00208208</td>\n",
       "                        <td id=\"T_feff89a6_e04b_11e9_8b4b_b8763fd8451drow3_col1\" class=\"data row3 col1\" >3.7548e-05</td>\n",
       "                        <td id=\"T_feff89a6_e04b_11e9_8b4b_b8763fd8451drow3_col2\" class=\"data row3 col2\" >3.33616e-05</td>\n",
       "                        <td id=\"T_feff89a6_e04b_11e9_8b4b_b8763fd8451drow3_col3\" class=\"data row3 col3\" >0</td>\n",
       "                        <td id=\"T_feff89a6_e04b_11e9_8b4b_b8763fd8451drow3_col4\" class=\"data row3 col4\" >1.52002e-10</td>\n",
       "                        <td id=\"T_feff89a6_e04b_11e9_8b4b_b8763fd8451drow3_col5\" class=\"data row3 col5\" >0.378764</td>\n",
       "                        <td id=\"T_feff89a6_e04b_11e9_8b4b_b8763fd8451drow3_col6\" class=\"data row3 col6\" >1.01484e-06</td>\n",
       "            </tr>\n",
       "            <tr>\n",
       "                        <th id=\"T_feff89a6_e04b_11e9_8b4b_b8763fd8451dlevel0_row4\" class=\"row_heading level0 row4\" >B-Q2_5</th>\n",
       "                        <td id=\"T_feff89a6_e04b_11e9_8b4b_b8763fd8451drow4_col0\" class=\"data row4 col0\" >0.0040907</td>\n",
       "                        <td id=\"T_feff89a6_e04b_11e9_8b4b_b8763fd8451drow4_col1\" class=\"data row4 col1\" >3.07801e-05</td>\n",
       "                        <td id=\"T_feff89a6_e04b_11e9_8b4b_b8763fd8451drow4_col2\" class=\"data row4 col2\" >0.000802154</td>\n",
       "                        <td id=\"T_feff89a6_e04b_11e9_8b4b_b8763fd8451drow4_col3\" class=\"data row4 col3\" >1.52002e-10</td>\n",
       "                        <td id=\"T_feff89a6_e04b_11e9_8b4b_b8763fd8451drow4_col4\" class=\"data row4 col4\" >0</td>\n",
       "                        <td id=\"T_feff89a6_e04b_11e9_8b4b_b8763fd8451drow4_col5\" class=\"data row4 col5\" >0.375968</td>\n",
       "                        <td id=\"T_feff89a6_e04b_11e9_8b4b_b8763fd8451drow4_col6\" class=\"data row4 col6\" >6.66993e-05</td>\n",
       "            </tr>\n",
       "            <tr>\n",
       "                        <th id=\"T_feff89a6_e04b_11e9_8b4b_b8763fd8451dlevel0_row5\" class=\"row_heading level0 row5\" >B-Q2_6</th>\n",
       "                        <td id=\"T_feff89a6_e04b_11e9_8b4b_b8763fd8451drow5_col0\" class=\"data row5 col0\" >0.00641921</td>\n",
       "                        <td id=\"T_feff89a6_e04b_11e9_8b4b_b8763fd8451drow5_col1\" class=\"data row5 col1\" >0.259294</td>\n",
       "                        <td id=\"T_feff89a6_e04b_11e9_8b4b_b8763fd8451drow5_col2\" class=\"data row5 col2\" >0.11818</td>\n",
       "                        <td id=\"T_feff89a6_e04b_11e9_8b4b_b8763fd8451drow5_col3\" class=\"data row5 col3\" >0.378764</td>\n",
       "                        <td id=\"T_feff89a6_e04b_11e9_8b4b_b8763fd8451drow5_col4\" class=\"data row5 col4\" >0.375968</td>\n",
       "                        <td id=\"T_feff89a6_e04b_11e9_8b4b_b8763fd8451drow5_col5\" class=\"data row5 col5\" >0</td>\n",
       "                        <td id=\"T_feff89a6_e04b_11e9_8b4b_b8763fd8451drow5_col6\" class=\"data row5 col6\" >0.845066</td>\n",
       "            </tr>\n",
       "            <tr>\n",
       "                        <th id=\"T_feff89a6_e04b_11e9_8b4b_b8763fd8451dlevel0_row6\" class=\"row_heading level0 row6\" >B-Q2_8</th>\n",
       "                        <td id=\"T_feff89a6_e04b_11e9_8b4b_b8763fd8451drow6_col0\" class=\"data row6 col0\" >0.0102863</td>\n",
       "                        <td id=\"T_feff89a6_e04b_11e9_8b4b_b8763fd8451drow6_col1\" class=\"data row6 col1\" >0.00117553</td>\n",
       "                        <td id=\"T_feff89a6_e04b_11e9_8b4b_b8763fd8451drow6_col2\" class=\"data row6 col2\" >0.0117475</td>\n",
       "                        <td id=\"T_feff89a6_e04b_11e9_8b4b_b8763fd8451drow6_col3\" class=\"data row6 col3\" >1.01484e-06</td>\n",
       "                        <td id=\"T_feff89a6_e04b_11e9_8b4b_b8763fd8451drow6_col4\" class=\"data row6 col4\" >6.66993e-05</td>\n",
       "                        <td id=\"T_feff89a6_e04b_11e9_8b4b_b8763fd8451drow6_col5\" class=\"data row6 col5\" >0.845066</td>\n",
       "                        <td id=\"T_feff89a6_e04b_11e9_8b4b_b8763fd8451drow6_col6\" class=\"data row6 col6\" >0</td>\n",
       "            </tr>\n",
       "    </tbody></table>"
      ],
      "text/plain": [
       "<pandas.io.formats.style.Styler at 0x11a6bef0>"
      ]
     },
     "execution_count": 127,
     "metadata": {},
     "output_type": "execute_result"
    }
   ],
   "source": [
    "df_spearman_pv(Daten[Daten[Liste_B_Q2] != 0],Liste_B_Q2)"
   ]
  },
  {
   "cell_type": "markdown",
   "metadata": {},
   "source": [
    "Anmerkungen:"
   ]
  },
  {
   "cell_type": "code",
   "execution_count": 128,
   "metadata": {},
   "outputs": [
    {
     "data": {
      "text/plain": [
       "3                                   Para el nivel B2/C1\n",
       "13    Las estrategias se trabajan una vez en profund...\n",
       "20    \"Erschliessen\", spezifisch für unsere Traditio...\n",
       "26    Unterricht Niveau A1-B1, Sprachunterricht mit ...\n",
       "41    No reflexionamos sobre las estrategias, más bi...\n",
       "47    Las estrategias de inferencia son distintas se...\n",
       "Name: B-Q2a, dtype: object"
      ]
     },
     "execution_count": 128,
     "metadata": {},
     "output_type": "execute_result"
    }
   ],
   "source": [
    "Daten[Daten['B-Q2a']!=0]['B-Q2a']"
   ]
  },
  {
   "cell_type": "code",
   "execution_count": 129,
   "metadata": {},
   "outputs": [
    {
     "data": {
      "text/plain": [
       "'Las estrategias se trabajan una vez en profundidad, luego solamente los recuerdo cuando veo que no se utilizan.'"
      ]
     },
     "execution_count": 129,
     "metadata": {},
     "output_type": "execute_result"
    }
   ],
   "source": [
    "Daten.loc[13]['B-Q2a']"
   ]
  },
  {
   "cell_type": "code",
   "execution_count": 130,
   "metadata": {},
   "outputs": [
    {
     "data": {
      "text/plain": [
       "'\"Erschliessen\", spezifisch für unsere Tradition, muss den zum Auswendiglernen dressierten spanischen Lernern erst nahegebracht werden'"
      ]
     },
     "execution_count": 130,
     "metadata": {},
     "output_type": "execute_result"
    }
   ],
   "source": [
    "Daten.loc[20]['B-Q2a']"
   ]
  },
  {
   "cell_type": "code",
   "execution_count": 131,
   "metadata": {},
   "outputs": [
    {
     "data": {
      "text/plain": [
       "'Unterricht Niveau A1-B1, Sprachunterricht mit Fokus auf Tourismus. Relativ wenig arbeiten mit langen Texten. Meist reduziert auf Lehrwerkstexte. '"
      ]
     },
     "execution_count": 131,
     "metadata": {},
     "output_type": "execute_result"
    }
   ],
   "source": [
    "Daten.loc[26]['B-Q2a']"
   ]
  },
  {
   "cell_type": "code",
   "execution_count": 132,
   "metadata": {},
   "outputs": [
    {
     "data": {
      "text/plain": [
       "'No reflexionamos sobre las estrategias, más bien se presentan sobre la misma práctica para que puedan resolver con éxito los problemas comunicativos.'"
      ]
     },
     "execution_count": 132,
     "metadata": {},
     "output_type": "execute_result"
    }
   ],
   "source": [
    "Daten.loc[41]['B-Q2a']"
   ]
  },
  {
   "cell_type": "code",
   "execution_count": 133,
   "metadata": {},
   "outputs": [
    {
     "data": {
      "text/plain": [
       "'Las estrategias de inferencia son distintas según el nivel. En un nivel A se aplican más aquellas estrategias contrastivas, las que comparan el alemán con la L1 u otras lenguas que habla el alumno. A partir del Nivel B se usan más estrategias basadas en la Morfología (Wortbilding) o la función sintáctica en la oración. En los Niveles C se utilizarían más estrategias de contenido semántico.'"
      ]
     },
     "execution_count": 133,
     "metadata": {},
     "output_type": "execute_result"
    }
   ],
   "source": [
    "Daten.loc[47]['B-Q2a']"
   ]
  },
  {
   "cell_type": "markdown",
   "metadata": {},
   "source": [
    "#### B-Q3 (Quellen und Material)"
   ]
  },
  {
   "cell_type": "markdown",
   "metadata": {},
   "source": [
    "Items:\n",
    "1. Erschließungsstrategien wurden im Rahmen meiner Ausbildung thematisiert.\n",
    "2. Erschließungsstrategien wurden im Rahmen meiner Lehrerausbildung thematisiert.\n",
    "3. Erschließungsstrategien wurden in Fortbildungsveranstaltungen, die ich besucht habe, thematisiert.\n",
    "4. In den Lehrwerken, die ich verwende, werden Erschließungsstrategien thematisiert.\n",
    "5. In den Lehrerhandbüchern zu den Lehrwerken, die ich verwende, werden Erschließungsstrategien thematisiert.\n",
    "6. Ich nutze Internetseiten oder -blogs, auf denen Erschließungsstrategien thematisiert werden.\n",
    "7. Ich nutze didaktische Handbücher, Zeitschriften oder andere Materialien, in denen Erschließungsstrategien thematisiert werden.\n",
    "8. Ich habe selbst Material zum Thema Erschließungsstrategien entwickelt."
   ]
  },
  {
   "cell_type": "markdown",
   "metadata": {},
   "source": [
    "Übersicht über gewählte Antwortoptionen:"
   ]
  },
  {
   "cell_type": "code",
   "execution_count": 134,
   "metadata": {},
   "outputs": [
    {
     "data": {
      "text/html": [
       "<div>\n",
       "<style scoped>\n",
       "    .dataframe tbody tr th:only-of-type {\n",
       "        vertical-align: middle;\n",
       "    }\n",
       "\n",
       "    .dataframe tbody tr th {\n",
       "        vertical-align: top;\n",
       "    }\n",
       "\n",
       "    .dataframe thead th {\n",
       "        text-align: right;\n",
       "    }\n",
       "</style>\n",
       "<table border=\"1\" class=\"dataframe\">\n",
       "  <thead>\n",
       "    <tr style=\"text-align: right;\">\n",
       "      <th></th>\n",
       "      <th>1</th>\n",
       "      <th>2</th>\n",
       "      <th>3</th>\n",
       "      <th>4</th>\n",
       "      <th>5</th>\n",
       "    </tr>\n",
       "  </thead>\n",
       "  <tbody>\n",
       "    <tr>\n",
       "      <th>0</th>\n",
       "      <td>4</td>\n",
       "      <td>0</td>\n",
       "      <td>2</td>\n",
       "      <td>2</td>\n",
       "      <td>0</td>\n",
       "    </tr>\n",
       "    <tr>\n",
       "      <th>1</th>\n",
       "      <td>2</td>\n",
       "      <td>3</td>\n",
       "      <td>3</td>\n",
       "      <td>0</td>\n",
       "      <td>0</td>\n",
       "    </tr>\n",
       "    <tr>\n",
       "      <th>2</th>\n",
       "      <td>1</td>\n",
       "      <td>6</td>\n",
       "      <td>1</td>\n",
       "      <td>0</td>\n",
       "      <td>0</td>\n",
       "    </tr>\n",
       "    <tr>\n",
       "      <th>3</th>\n",
       "      <td>2</td>\n",
       "      <td>0</td>\n",
       "      <td>1</td>\n",
       "      <td>1</td>\n",
       "      <td>2</td>\n",
       "    </tr>\n",
       "    <tr>\n",
       "      <th>4</th>\n",
       "      <td>2</td>\n",
       "      <td>0</td>\n",
       "      <td>1</td>\n",
       "      <td>0</td>\n",
       "      <td>5</td>\n",
       "    </tr>\n",
       "    <tr>\n",
       "      <th>5</th>\n",
       "      <td>5</td>\n",
       "      <td>2</td>\n",
       "      <td>1</td>\n",
       "      <td>0</td>\n",
       "      <td>0</td>\n",
       "    </tr>\n",
       "    <tr>\n",
       "      <th>6</th>\n",
       "      <td>0</td>\n",
       "      <td>1</td>\n",
       "      <td>3</td>\n",
       "      <td>3</td>\n",
       "      <td>1</td>\n",
       "    </tr>\n",
       "    <tr>\n",
       "      <th>7</th>\n",
       "      <td>1</td>\n",
       "      <td>2</td>\n",
       "      <td>1</td>\n",
       "      <td>3</td>\n",
       "      <td>1</td>\n",
       "    </tr>\n",
       "    <tr>\n",
       "      <th>8</th>\n",
       "      <td>1</td>\n",
       "      <td>1</td>\n",
       "      <td>2</td>\n",
       "      <td>1</td>\n",
       "      <td>3</td>\n",
       "    </tr>\n",
       "    <tr>\n",
       "      <th>9</th>\n",
       "      <td>1</td>\n",
       "      <td>3</td>\n",
       "      <td>3</td>\n",
       "      <td>1</td>\n",
       "      <td>0</td>\n",
       "    </tr>\n",
       "    <tr>\n",
       "      <th>10</th>\n",
       "      <td>2</td>\n",
       "      <td>1</td>\n",
       "      <td>1</td>\n",
       "      <td>2</td>\n",
       "      <td>2</td>\n",
       "    </tr>\n",
       "    <tr>\n",
       "      <th>11</th>\n",
       "      <td>2</td>\n",
       "      <td>3</td>\n",
       "      <td>1</td>\n",
       "      <td>1</td>\n",
       "      <td>1</td>\n",
       "    </tr>\n",
       "    <tr>\n",
       "      <th>12</th>\n",
       "      <td>3</td>\n",
       "      <td>2</td>\n",
       "      <td>3</td>\n",
       "      <td>0</td>\n",
       "      <td>0</td>\n",
       "    </tr>\n",
       "    <tr>\n",
       "      <th>13</th>\n",
       "      <td>4</td>\n",
       "      <td>1</td>\n",
       "      <td>1</td>\n",
       "      <td>2</td>\n",
       "      <td>0</td>\n",
       "    </tr>\n",
       "    <tr>\n",
       "      <th>14</th>\n",
       "      <td>3</td>\n",
       "      <td>1</td>\n",
       "      <td>0</td>\n",
       "      <td>3</td>\n",
       "      <td>0</td>\n",
       "    </tr>\n",
       "    <tr>\n",
       "      <th>15</th>\n",
       "      <td>6</td>\n",
       "      <td>0</td>\n",
       "      <td>1</td>\n",
       "      <td>0</td>\n",
       "      <td>1</td>\n",
       "    </tr>\n",
       "    <tr>\n",
       "      <th>16</th>\n",
       "      <td>3</td>\n",
       "      <td>4</td>\n",
       "      <td>1</td>\n",
       "      <td>0</td>\n",
       "      <td>0</td>\n",
       "    </tr>\n",
       "    <tr>\n",
       "      <th>17</th>\n",
       "      <td>1</td>\n",
       "      <td>3</td>\n",
       "      <td>2</td>\n",
       "      <td>1</td>\n",
       "      <td>1</td>\n",
       "    </tr>\n",
       "    <tr>\n",
       "      <th>18</th>\n",
       "      <td>4</td>\n",
       "      <td>1</td>\n",
       "      <td>2</td>\n",
       "      <td>1</td>\n",
       "      <td>0</td>\n",
       "    </tr>\n",
       "    <tr>\n",
       "      <th>19</th>\n",
       "      <td>6</td>\n",
       "      <td>1</td>\n",
       "      <td>0</td>\n",
       "      <td>0</td>\n",
       "      <td>1</td>\n",
       "    </tr>\n",
       "    <tr>\n",
       "      <th>20</th>\n",
       "      <td>2</td>\n",
       "      <td>3</td>\n",
       "      <td>0</td>\n",
       "      <td>0</td>\n",
       "      <td>2</td>\n",
       "    </tr>\n",
       "    <tr>\n",
       "      <th>21</th>\n",
       "      <td>1</td>\n",
       "      <td>0</td>\n",
       "      <td>1</td>\n",
       "      <td>1</td>\n",
       "      <td>5</td>\n",
       "    </tr>\n",
       "    <tr>\n",
       "      <th>22</th>\n",
       "      <td>0</td>\n",
       "      <td>4</td>\n",
       "      <td>2</td>\n",
       "      <td>2</td>\n",
       "      <td>0</td>\n",
       "    </tr>\n",
       "    <tr>\n",
       "      <th>23</th>\n",
       "      <td>1</td>\n",
       "      <td>1</td>\n",
       "      <td>2</td>\n",
       "      <td>2</td>\n",
       "      <td>2</td>\n",
       "    </tr>\n",
       "    <tr>\n",
       "      <th>24</th>\n",
       "      <td>1</td>\n",
       "      <td>1</td>\n",
       "      <td>3</td>\n",
       "      <td>2</td>\n",
       "      <td>1</td>\n",
       "    </tr>\n",
       "    <tr>\n",
       "      <th>25</th>\n",
       "      <td>7</td>\n",
       "      <td>0</td>\n",
       "      <td>0</td>\n",
       "      <td>1</td>\n",
       "      <td>0</td>\n",
       "    </tr>\n",
       "    <tr>\n",
       "      <th>26</th>\n",
       "      <td>1</td>\n",
       "      <td>4</td>\n",
       "      <td>3</td>\n",
       "      <td>0</td>\n",
       "      <td>0</td>\n",
       "    </tr>\n",
       "    <tr>\n",
       "      <th>27</th>\n",
       "      <td>0</td>\n",
       "      <td>4</td>\n",
       "      <td>4</td>\n",
       "      <td>0</td>\n",
       "      <td>0</td>\n",
       "    </tr>\n",
       "    <tr>\n",
       "      <th>28</th>\n",
       "      <td>0</td>\n",
       "      <td>1</td>\n",
       "      <td>2</td>\n",
       "      <td>0</td>\n",
       "      <td>0</td>\n",
       "    </tr>\n",
       "    <tr>\n",
       "      <th>29</th>\n",
       "      <td>1</td>\n",
       "      <td>0</td>\n",
       "      <td>3</td>\n",
       "      <td>0</td>\n",
       "      <td>0</td>\n",
       "    </tr>\n",
       "    <tr>\n",
       "      <th>30</th>\n",
       "      <td>1</td>\n",
       "      <td>1</td>\n",
       "      <td>3</td>\n",
       "      <td>0</td>\n",
       "      <td>3</td>\n",
       "    </tr>\n",
       "    <tr>\n",
       "      <th>31</th>\n",
       "      <td>0</td>\n",
       "      <td>3</td>\n",
       "      <td>4</td>\n",
       "      <td>1</td>\n",
       "      <td>0</td>\n",
       "    </tr>\n",
       "    <tr>\n",
       "      <th>32</th>\n",
       "      <td>3</td>\n",
       "      <td>5</td>\n",
       "      <td>0</td>\n",
       "      <td>0</td>\n",
       "      <td>0</td>\n",
       "    </tr>\n",
       "    <tr>\n",
       "      <th>33</th>\n",
       "      <td>7</td>\n",
       "      <td>1</td>\n",
       "      <td>0</td>\n",
       "      <td>0</td>\n",
       "      <td>0</td>\n",
       "    </tr>\n",
       "    <tr>\n",
       "      <th>34</th>\n",
       "      <td>0</td>\n",
       "      <td>0</td>\n",
       "      <td>5</td>\n",
       "      <td>1</td>\n",
       "      <td>2</td>\n",
       "    </tr>\n",
       "    <tr>\n",
       "      <th>35</th>\n",
       "      <td>0</td>\n",
       "      <td>1</td>\n",
       "      <td>3</td>\n",
       "      <td>3</td>\n",
       "      <td>1</td>\n",
       "    </tr>\n",
       "    <tr>\n",
       "      <th>36</th>\n",
       "      <td>0</td>\n",
       "      <td>3</td>\n",
       "      <td>2</td>\n",
       "      <td>3</td>\n",
       "      <td>0</td>\n",
       "    </tr>\n",
       "    <tr>\n",
       "      <th>37</th>\n",
       "      <td>0</td>\n",
       "      <td>1</td>\n",
       "      <td>5</td>\n",
       "      <td>2</td>\n",
       "      <td>0</td>\n",
       "    </tr>\n",
       "    <tr>\n",
       "      <th>38</th>\n",
       "      <td>0</td>\n",
       "      <td>1</td>\n",
       "      <td>0</td>\n",
       "      <td>1</td>\n",
       "      <td>6</td>\n",
       "    </tr>\n",
       "    <tr>\n",
       "      <th>39</th>\n",
       "      <td>0</td>\n",
       "      <td>3</td>\n",
       "      <td>5</td>\n",
       "      <td>0</td>\n",
       "      <td>0</td>\n",
       "    </tr>\n",
       "    <tr>\n",
       "      <th>40</th>\n",
       "      <td>0</td>\n",
       "      <td>5</td>\n",
       "      <td>2</td>\n",
       "      <td>1</td>\n",
       "      <td>0</td>\n",
       "    </tr>\n",
       "    <tr>\n",
       "      <th>41</th>\n",
       "      <td>2</td>\n",
       "      <td>3</td>\n",
       "      <td>0</td>\n",
       "      <td>3</td>\n",
       "      <td>0</td>\n",
       "    </tr>\n",
       "    <tr>\n",
       "      <th>42</th>\n",
       "      <td>0</td>\n",
       "      <td>0</td>\n",
       "      <td>1</td>\n",
       "      <td>4</td>\n",
       "      <td>3</td>\n",
       "    </tr>\n",
       "    <tr>\n",
       "      <th>43</th>\n",
       "      <td>1</td>\n",
       "      <td>2</td>\n",
       "      <td>3</td>\n",
       "      <td>0</td>\n",
       "      <td>2</td>\n",
       "    </tr>\n",
       "    <tr>\n",
       "      <th>44</th>\n",
       "      <td>2</td>\n",
       "      <td>2</td>\n",
       "      <td>0</td>\n",
       "      <td>3</td>\n",
       "      <td>1</td>\n",
       "    </tr>\n",
       "    <tr>\n",
       "      <th>45</th>\n",
       "      <td>0</td>\n",
       "      <td>2</td>\n",
       "      <td>1</td>\n",
       "      <td>5</td>\n",
       "      <td>0</td>\n",
       "    </tr>\n",
       "    <tr>\n",
       "      <th>46</th>\n",
       "      <td>2</td>\n",
       "      <td>4</td>\n",
       "      <td>1</td>\n",
       "      <td>0</td>\n",
       "      <td>0</td>\n",
       "    </tr>\n",
       "    <tr>\n",
       "      <th>47</th>\n",
       "      <td>0</td>\n",
       "      <td>2</td>\n",
       "      <td>3</td>\n",
       "      <td>3</td>\n",
       "      <td>0</td>\n",
       "    </tr>\n",
       "    <tr>\n",
       "      <th>48</th>\n",
       "      <td>4</td>\n",
       "      <td>0</td>\n",
       "      <td>3</td>\n",
       "      <td>1</td>\n",
       "      <td>0</td>\n",
       "    </tr>\n",
       "    <tr>\n",
       "      <th>49</th>\n",
       "      <td>0</td>\n",
       "      <td>0</td>\n",
       "      <td>3</td>\n",
       "      <td>1</td>\n",
       "      <td>4</td>\n",
       "    </tr>\n",
       "    <tr>\n",
       "      <th>50</th>\n",
       "      <td>0</td>\n",
       "      <td>5</td>\n",
       "      <td>2</td>\n",
       "      <td>1</td>\n",
       "      <td>0</td>\n",
       "    </tr>\n",
       "    <tr>\n",
       "      <th>51</th>\n",
       "      <td>0</td>\n",
       "      <td>8</td>\n",
       "      <td>0</td>\n",
       "      <td>0</td>\n",
       "      <td>0</td>\n",
       "    </tr>\n",
       "    <tr>\n",
       "      <th>52</th>\n",
       "      <td>6</td>\n",
       "      <td>0</td>\n",
       "      <td>1</td>\n",
       "      <td>0</td>\n",
       "      <td>1</td>\n",
       "    </tr>\n",
       "  </tbody>\n",
       "</table>\n",
       "</div>"
      ],
      "text/plain": [
       "    1  2  3  4  5\n",
       "0   4  0  2  2  0\n",
       "1   2  3  3  0  0\n",
       "2   1  6  1  0  0\n",
       "3   2  0  1  1  2\n",
       "4   2  0  1  0  5\n",
       "5   5  2  1  0  0\n",
       "6   0  1  3  3  1\n",
       "7   1  2  1  3  1\n",
       "8   1  1  2  1  3\n",
       "9   1  3  3  1  0\n",
       "10  2  1  1  2  2\n",
       "11  2  3  1  1  1\n",
       "12  3  2  3  0  0\n",
       "13  4  1  1  2  0\n",
       "14  3  1  0  3  0\n",
       "15  6  0  1  0  1\n",
       "16  3  4  1  0  0\n",
       "17  1  3  2  1  1\n",
       "18  4  1  2  1  0\n",
       "19  6  1  0  0  1\n",
       "20  2  3  0  0  2\n",
       "21  1  0  1  1  5\n",
       "22  0  4  2  2  0\n",
       "23  1  1  2  2  2\n",
       "24  1  1  3  2  1\n",
       "25  7  0  0  1  0\n",
       "26  1  4  3  0  0\n",
       "27  0  4  4  0  0\n",
       "28  0  1  2  0  0\n",
       "29  1  0  3  0  0\n",
       "30  1  1  3  0  3\n",
       "31  0  3  4  1  0\n",
       "32  3  5  0  0  0\n",
       "33  7  1  0  0  0\n",
       "34  0  0  5  1  2\n",
       "35  0  1  3  3  1\n",
       "36  0  3  2  3  0\n",
       "37  0  1  5  2  0\n",
       "38  0  1  0  1  6\n",
       "39  0  3  5  0  0\n",
       "40  0  5  2  1  0\n",
       "41  2  3  0  3  0\n",
       "42  0  0  1  4  3\n",
       "43  1  2  3  0  2\n",
       "44  2  2  0  3  1\n",
       "45  0  2  1  5  0\n",
       "46  2  4  1  0  0\n",
       "47  0  2  3  3  0\n",
       "48  4  0  3  1  0\n",
       "49  0  0  3  1  4\n",
       "50  0  5  2  1  0\n",
       "51  0  8  0  0  0\n",
       "52  6  0  1  0  1"
      ]
     },
     "execution_count": 134,
     "metadata": {},
     "output_type": "execute_result"
    }
   ],
   "source": [
    "BQ3_Lk = Daten[Liste_B_Q3].T.apply(pd.value_counts).fillna(0).astype(integer)\n",
    "BQ3_Lk = BQ3_Lk.T\n",
    "BQ3_Lk.drop(0, axis=1, inplace=True)\n",
    "BQ3_Lk"
   ]
  },
  {
   "cell_type": "code",
   "execution_count": 135,
   "metadata": {},
   "outputs": [
    {
     "data": {
      "text/html": [
       "<div>\n",
       "<style scoped>\n",
       "    .dataframe tbody tr th:only-of-type {\n",
       "        vertical-align: middle;\n",
       "    }\n",
       "\n",
       "    .dataframe tbody tr th {\n",
       "        vertical-align: top;\n",
       "    }\n",
       "\n",
       "    .dataframe thead th {\n",
       "        text-align: right;\n",
       "    }\n",
       "</style>\n",
       "<table border=\"1\" class=\"dataframe\">\n",
       "  <thead>\n",
       "    <tr style=\"text-align: right;\">\n",
       "      <th></th>\n",
       "      <th>count</th>\n",
       "      <th>mean</th>\n",
       "      <th>std</th>\n",
       "      <th>min</th>\n",
       "      <th>25%</th>\n",
       "      <th>50%</th>\n",
       "      <th>75%</th>\n",
       "      <th>max</th>\n",
       "      <th>median</th>\n",
       "      <th>kurtosis</th>\n",
       "      <th>skew</th>\n",
       "    </tr>\n",
       "  </thead>\n",
       "  <tbody>\n",
       "    <tr>\n",
       "      <th>B-Q3_1</th>\n",
       "      <td>53.0</td>\n",
       "      <td>2.547170</td>\n",
       "      <td>1.136222</td>\n",
       "      <td>1.0</td>\n",
       "      <td>2.0</td>\n",
       "      <td>2.0</td>\n",
       "      <td>3.0</td>\n",
       "      <td>5.0</td>\n",
       "      <td>2.0</td>\n",
       "      <td>-0.246674</td>\n",
       "      <td>0.492102</td>\n",
       "    </tr>\n",
       "    <tr>\n",
       "      <th>B-Q3_2</th>\n",
       "      <td>51.0</td>\n",
       "      <td>2.607843</td>\n",
       "      <td>1.327832</td>\n",
       "      <td>1.0</td>\n",
       "      <td>2.0</td>\n",
       "      <td>2.0</td>\n",
       "      <td>3.0</td>\n",
       "      <td>5.0</td>\n",
       "      <td>2.0</td>\n",
       "      <td>-0.791010</td>\n",
       "      <td>0.504945</td>\n",
       "    </tr>\n",
       "    <tr>\n",
       "      <th>B-Q3_3</th>\n",
       "      <td>52.0</td>\n",
       "      <td>2.576923</td>\n",
       "      <td>1.391094</td>\n",
       "      <td>1.0</td>\n",
       "      <td>1.0</td>\n",
       "      <td>2.0</td>\n",
       "      <td>4.0</td>\n",
       "      <td>5.0</td>\n",
       "      <td>2.0</td>\n",
       "      <td>-1.168304</td>\n",
       "      <td>0.403009</td>\n",
       "    </tr>\n",
       "    <tr>\n",
       "      <th>B-Q3_4</th>\n",
       "      <td>53.0</td>\n",
       "      <td>2.962264</td>\n",
       "      <td>1.159613</td>\n",
       "      <td>1.0</td>\n",
       "      <td>2.0</td>\n",
       "      <td>3.0</td>\n",
       "      <td>4.0</td>\n",
       "      <td>5.0</td>\n",
       "      <td>3.0</td>\n",
       "      <td>-0.623253</td>\n",
       "      <td>0.075858</td>\n",
       "    </tr>\n",
       "    <tr>\n",
       "      <th>B-Q3_5</th>\n",
       "      <td>48.0</td>\n",
       "      <td>2.895833</td>\n",
       "      <td>1.275624</td>\n",
       "      <td>1.0</td>\n",
       "      <td>2.0</td>\n",
       "      <td>3.0</td>\n",
       "      <td>4.0</td>\n",
       "      <td>5.0</td>\n",
       "      <td>3.0</td>\n",
       "      <td>-0.983616</td>\n",
       "      <td>0.074379</td>\n",
       "    </tr>\n",
       "    <tr>\n",
       "      <th>B-Q3_6</th>\n",
       "      <td>50.0</td>\n",
       "      <td>2.240000</td>\n",
       "      <td>1.333401</td>\n",
       "      <td>1.0</td>\n",
       "      <td>1.0</td>\n",
       "      <td>2.0</td>\n",
       "      <td>3.0</td>\n",
       "      <td>5.0</td>\n",
       "      <td>2.0</td>\n",
       "      <td>-0.162064</td>\n",
       "      <td>0.937797</td>\n",
       "    </tr>\n",
       "    <tr>\n",
       "      <th>B-Q3_7</th>\n",
       "      <td>52.0</td>\n",
       "      <td>2.846154</td>\n",
       "      <td>1.334087</td>\n",
       "      <td>1.0</td>\n",
       "      <td>2.0</td>\n",
       "      <td>3.0</td>\n",
       "      <td>4.0</td>\n",
       "      <td>5.0</td>\n",
       "      <td>3.0</td>\n",
       "      <td>-1.093429</td>\n",
       "      <td>0.241186</td>\n",
       "    </tr>\n",
       "    <tr>\n",
       "      <th>B-Q3_8</th>\n",
       "      <td>51.0</td>\n",
       "      <td>2.764706</td>\n",
       "      <td>1.491150</td>\n",
       "      <td>1.0</td>\n",
       "      <td>1.0</td>\n",
       "      <td>3.0</td>\n",
       "      <td>4.0</td>\n",
       "      <td>5.0</td>\n",
       "      <td>3.0</td>\n",
       "      <td>-1.442155</td>\n",
       "      <td>0.120178</td>\n",
       "    </tr>\n",
       "  </tbody>\n",
       "</table>\n",
       "</div>"
      ],
      "text/plain": [
       "        count      mean       std  min  25%  50%  75%  max  median  kurtosis  \\\n",
       "B-Q3_1   53.0  2.547170  1.136222  1.0  2.0  2.0  3.0  5.0     2.0 -0.246674   \n",
       "B-Q3_2   51.0  2.607843  1.327832  1.0  2.0  2.0  3.0  5.0     2.0 -0.791010   \n",
       "B-Q3_3   52.0  2.576923  1.391094  1.0  1.0  2.0  4.0  5.0     2.0 -1.168304   \n",
       "B-Q3_4   53.0  2.962264  1.159613  1.0  2.0  3.0  4.0  5.0     3.0 -0.623253   \n",
       "B-Q3_5   48.0  2.895833  1.275624  1.0  2.0  3.0  4.0  5.0     3.0 -0.983616   \n",
       "B-Q3_6   50.0  2.240000  1.333401  1.0  1.0  2.0  3.0  5.0     2.0 -0.162064   \n",
       "B-Q3_7   52.0  2.846154  1.334087  1.0  2.0  3.0  4.0  5.0     3.0 -1.093429   \n",
       "B-Q3_8   51.0  2.764706  1.491150  1.0  1.0  3.0  4.0  5.0     3.0 -1.442155   \n",
       "\n",
       "            skew  \n",
       "B-Q3_1  0.492102  \n",
       "B-Q3_2  0.504945  \n",
       "B-Q3_3  0.403009  \n",
       "B-Q3_4  0.075858  \n",
       "B-Q3_5  0.074379  \n",
       "B-Q3_6  0.937797  \n",
       "B-Q3_7  0.241186  \n",
       "B-Q3_8  0.120178  "
      ]
     },
     "execution_count": 135,
     "metadata": {},
     "output_type": "execute_result"
    }
   ],
   "source": [
    "df_describe1(Daten[Daten[Liste_B_Q3] != 0],Liste_B_Q3)"
   ]
  },
  {
   "cell_type": "code",
   "execution_count": 136,
   "metadata": {},
   "outputs": [],
   "source": [
    "#df_describe1(Daten[Daten[Liste_B_Q3] != 0],Liste_B_Q3).to_excel('D:\\Daten\\DISS\\Daten\\Deskriptiv_Lehrende_B3.xlsx')"
   ]
  },
  {
   "cell_type": "code",
   "execution_count": 137,
   "metadata": {},
   "outputs": [
    {
     "data": {
      "text/plain": [
       "B-Q3_4    2.962264\n",
       "B-Q3_5    2.895833\n",
       "B-Q3_7    2.846154\n",
       "B-Q3_8    2.764706\n",
       "B-Q3_2    2.607843\n",
       "B-Q3_3    2.576923\n",
       "B-Q3_1    2.547170\n",
       "B-Q3_6    2.240000\n",
       "dtype: float64"
      ]
     },
     "execution_count": 137,
     "metadata": {},
     "output_type": "execute_result"
    }
   ],
   "source": [
    "Daten[Daten[Liste_B_Q3] != 0][Liste_B_Q3].mean().sort_values(ascending = False)"
   ]
  },
  {
   "cell_type": "code",
   "execution_count": 138,
   "metadata": {},
   "outputs": [
    {
     "data": {
      "text/html": [
       "<div>\n",
       "<style scoped>\n",
       "    .dataframe tbody tr th:only-of-type {\n",
       "        vertical-align: middle;\n",
       "    }\n",
       "\n",
       "    .dataframe tbody tr th {\n",
       "        vertical-align: top;\n",
       "    }\n",
       "\n",
       "    .dataframe thead th {\n",
       "        text-align: right;\n",
       "    }\n",
       "</style>\n",
       "<table border=\"1\" class=\"dataframe\">\n",
       "  <thead>\n",
       "    <tr style=\"text-align: right;\">\n",
       "      <th></th>\n",
       "      <th>0</th>\n",
       "      <th>1</th>\n",
       "    </tr>\n",
       "  </thead>\n",
       "  <tbody>\n",
       "    <tr>\n",
       "      <th>B-Q3_1</th>\n",
       "      <td>2.0</td>\n",
       "      <td>3.0</td>\n",
       "    </tr>\n",
       "    <tr>\n",
       "      <th>B-Q3_2</th>\n",
       "      <td>2.0</td>\n",
       "      <td>NaN</td>\n",
       "    </tr>\n",
       "    <tr>\n",
       "      <th>B-Q3_3</th>\n",
       "      <td>1.0</td>\n",
       "      <td>NaN</td>\n",
       "    </tr>\n",
       "    <tr>\n",
       "      <th>B-Q3_4</th>\n",
       "      <td>3.0</td>\n",
       "      <td>NaN</td>\n",
       "    </tr>\n",
       "    <tr>\n",
       "      <th>B-Q3_5</th>\n",
       "      <td>3.0</td>\n",
       "      <td>NaN</td>\n",
       "    </tr>\n",
       "    <tr>\n",
       "      <th>B-Q3_6</th>\n",
       "      <td>1.0</td>\n",
       "      <td>NaN</td>\n",
       "    </tr>\n",
       "    <tr>\n",
       "      <th>B-Q3_7</th>\n",
       "      <td>2.0</td>\n",
       "      <td>NaN</td>\n",
       "    </tr>\n",
       "    <tr>\n",
       "      <th>B-Q3_8</th>\n",
       "      <td>1.0</td>\n",
       "      <td>NaN</td>\n",
       "    </tr>\n",
       "  </tbody>\n",
       "</table>\n",
       "</div>"
      ],
      "text/plain": [
       "          0    1\n",
       "B-Q3_1  2.0  3.0\n",
       "B-Q3_2  2.0  NaN\n",
       "B-Q3_3  1.0  NaN\n",
       "B-Q3_4  3.0  NaN\n",
       "B-Q3_5  3.0  NaN\n",
       "B-Q3_6  1.0  NaN\n",
       "B-Q3_7  2.0  NaN\n",
       "B-Q3_8  1.0  NaN"
      ]
     },
     "execution_count": 138,
     "metadata": {},
     "output_type": "execute_result"
    }
   ],
   "source": [
    "Daten[Daten[Liste_B_Q3] != 0][Liste_B_Q3].mode().T"
   ]
  },
  {
   "cell_type": "code",
   "execution_count": 139,
   "metadata": {},
   "outputs": [
    {
     "name": "stdout",
     "output_type": "stream",
     "text": [
      "26\n",
      "24\n",
      "23\n",
      "35\n",
      "29\n",
      "17\n",
      "28\n",
      "28\n"
     ]
    }
   ],
   "source": [
    "for col in Liste_B_Q3:\n",
    "    print(Daten[Daten[col] >= 3].shape[0])"
   ]
  },
  {
   "cell_type": "code",
   "execution_count": 140,
   "metadata": {},
   "outputs": [
    {
     "data": {
      "image/png": "[encoded data removed]",
      "text/plain": [
       "<Figure size 576x360 with 1 Axes>"
      ]
     },
     "metadata": {
      "needs_background": "light"
     },
     "output_type": "display_data"
    }
   ],
   "source": [
    "graf_likert(Daten[Daten[Liste_B_Q3] != 0],Liste_B_Q3,5)"
   ]
  },
  {
   "cell_type": "code",
   "execution_count": 141,
   "metadata": {},
   "outputs": [
    {
     "data": {
      "image/png": "[encoded data removed]",
      "text/plain": [
       "<Figure size 1152x576 with 8 Axes>"
      ]
     },
     "metadata": {
      "needs_background": "light"
     },
     "output_type": "display_data"
    }
   ],
   "source": [
    "graf_hist(Daten,Liste_B_Q3,16,8,2,4)"
   ]
  },
  {
   "cell_type": "markdown",
   "metadata": {},
   "source": [
    "Korrelation in B-Q3:"
   ]
  },
  {
   "cell_type": "code",
   "execution_count": 142,
   "metadata": {},
   "outputs": [
    {
     "data": {
      "text/html": [
       "<style  type=\"text/css\" >\n",
       "    #T_0056e14c_e04c_11e9_a05a_b8763fd8451drow0_col0 {\n",
       "            background-color :  salmon;\n",
       "        }    #T_0056e14c_e04c_11e9_a05a_b8763fd8451drow0_col1 {\n",
       "            background-color:  lightsalmon;\n",
       "        }    #T_0056e14c_e04c_11e9_a05a_b8763fd8451drow0_col2 {\n",
       "            background-color :  white;\n",
       "        }    #T_0056e14c_e04c_11e9_a05a_b8763fd8451drow0_col3 {\n",
       "            background-color:  lightsalmon;\n",
       "        }    #T_0056e14c_e04c_11e9_a05a_b8763fd8451drow0_col4 {\n",
       "            background-color:  peachpuff;\n",
       "        }    #T_0056e14c_e04c_11e9_a05a_b8763fd8451drow0_col5 {\n",
       "            background-color :  white;\n",
       "        }    #T_0056e14c_e04c_11e9_a05a_b8763fd8451drow0_col6 {\n",
       "            background-color :  white;\n",
       "        }    #T_0056e14c_e04c_11e9_a05a_b8763fd8451drow0_col7 {\n",
       "            background-color:  peachpuff;\n",
       "        }    #T_0056e14c_e04c_11e9_a05a_b8763fd8451drow1_col0 {\n",
       "            background-color:  lightsalmon;\n",
       "        }    #T_0056e14c_e04c_11e9_a05a_b8763fd8451drow1_col1 {\n",
       "            background-color :  salmon;\n",
       "        }    #T_0056e14c_e04c_11e9_a05a_b8763fd8451drow1_col2 {\n",
       "            background-color :  salmon;\n",
       "        }    #T_0056e14c_e04c_11e9_a05a_b8763fd8451drow1_col3 {\n",
       "            background-color :  salmon;\n",
       "        }    #T_0056e14c_e04c_11e9_a05a_b8763fd8451drow1_col4 {\n",
       "            background-color :  salmon;\n",
       "        }    #T_0056e14c_e04c_11e9_a05a_b8763fd8451drow1_col5 {\n",
       "            background-color:  peachpuff;\n",
       "        }    #T_0056e14c_e04c_11e9_a05a_b8763fd8451drow1_col6 {\n",
       "            background-color:  peachpuff;\n",
       "        }    #T_0056e14c_e04c_11e9_a05a_b8763fd8451drow1_col7 {\n",
       "            background-color :  white;\n",
       "        }    #T_0056e14c_e04c_11e9_a05a_b8763fd8451drow2_col0 {\n",
       "            background-color :  white;\n",
       "        }    #T_0056e14c_e04c_11e9_a05a_b8763fd8451drow2_col1 {\n",
       "            background-color :  salmon;\n",
       "        }    #T_0056e14c_e04c_11e9_a05a_b8763fd8451drow2_col2 {\n",
       "            background-color :  salmon;\n",
       "        }    #T_0056e14c_e04c_11e9_a05a_b8763fd8451drow2_col3 {\n",
       "            background-color:  lightsalmon;\n",
       "        }    #T_0056e14c_e04c_11e9_a05a_b8763fd8451drow2_col4 {\n",
       "            background-color:  lightsalmon;\n",
       "        }    #T_0056e14c_e04c_11e9_a05a_b8763fd8451drow2_col5 {\n",
       "            background-color:  lightsalmon;\n",
       "        }    #T_0056e14c_e04c_11e9_a05a_b8763fd8451drow2_col6 {\n",
       "            background-color:  peachpuff;\n",
       "        }    #T_0056e14c_e04c_11e9_a05a_b8763fd8451drow2_col7 {\n",
       "            background-color:  peachpuff;\n",
       "        }    #T_0056e14c_e04c_11e9_a05a_b8763fd8451drow3_col0 {\n",
       "            background-color:  lightsalmon;\n",
       "        }    #T_0056e14c_e04c_11e9_a05a_b8763fd8451drow3_col1 {\n",
       "            background-color :  salmon;\n",
       "        }    #T_0056e14c_e04c_11e9_a05a_b8763fd8451drow3_col2 {\n",
       "            background-color:  lightsalmon;\n",
       "        }    #T_0056e14c_e04c_11e9_a05a_b8763fd8451drow3_col3 {\n",
       "            background-color :  salmon;\n",
       "        }    #T_0056e14c_e04c_11e9_a05a_b8763fd8451drow3_col4 {\n",
       "            background-color :  salmon;\n",
       "        }    #T_0056e14c_e04c_11e9_a05a_b8763fd8451drow3_col5 {\n",
       "            background-color:  peachpuff;\n",
       "        }    #T_0056e14c_e04c_11e9_a05a_b8763fd8451drow3_col6 {\n",
       "            background-color:  lightsalmon;\n",
       "        }    #T_0056e14c_e04c_11e9_a05a_b8763fd8451drow3_col7 {\n",
       "            background-color :  white;\n",
       "        }    #T_0056e14c_e04c_11e9_a05a_b8763fd8451drow4_col0 {\n",
       "            background-color:  peachpuff;\n",
       "        }    #T_0056e14c_e04c_11e9_a05a_b8763fd8451drow4_col1 {\n",
       "            background-color :  salmon;\n",
       "        }    #T_0056e14c_e04c_11e9_a05a_b8763fd8451drow4_col2 {\n",
       "            background-color:  lightsalmon;\n",
       "        }    #T_0056e14c_e04c_11e9_a05a_b8763fd8451drow4_col3 {\n",
       "            background-color :  salmon;\n",
       "        }    #T_0056e14c_e04c_11e9_a05a_b8763fd8451drow4_col4 {\n",
       "            background-color :  salmon;\n",
       "        }    #T_0056e14c_e04c_11e9_a05a_b8763fd8451drow4_col5 {\n",
       "            background-color:  lightsalmon;\n",
       "        }    #T_0056e14c_e04c_11e9_a05a_b8763fd8451drow4_col6 {\n",
       "            background-color:  lightsalmon;\n",
       "        }    #T_0056e14c_e04c_11e9_a05a_b8763fd8451drow4_col7 {\n",
       "            background-color :  white;\n",
       "        }    #T_0056e14c_e04c_11e9_a05a_b8763fd8451drow5_col0 {\n",
       "            background-color :  white;\n",
       "        }    #T_0056e14c_e04c_11e9_a05a_b8763fd8451drow5_col1 {\n",
       "            background-color:  peachpuff;\n",
       "        }    #T_0056e14c_e04c_11e9_a05a_b8763fd8451drow5_col2 {\n",
       "            background-color:  lightsalmon;\n",
       "        }    #T_0056e14c_e04c_11e9_a05a_b8763fd8451drow5_col3 {\n",
       "            background-color:  peachpuff;\n",
       "        }    #T_0056e14c_e04c_11e9_a05a_b8763fd8451drow5_col4 {\n",
       "            background-color:  lightsalmon;\n",
       "        }    #T_0056e14c_e04c_11e9_a05a_b8763fd8451drow5_col5 {\n",
       "            background-color :  salmon;\n",
       "        }    #T_0056e14c_e04c_11e9_a05a_b8763fd8451drow5_col6 {\n",
       "            background-color :  salmon;\n",
       "        }    #T_0056e14c_e04c_11e9_a05a_b8763fd8451drow5_col7 {\n",
       "            background-color:  peachpuff;\n",
       "        }    #T_0056e14c_e04c_11e9_a05a_b8763fd8451drow6_col0 {\n",
       "            background-color :  white;\n",
       "        }    #T_0056e14c_e04c_11e9_a05a_b8763fd8451drow6_col1 {\n",
       "            background-color:  peachpuff;\n",
       "        }    #T_0056e14c_e04c_11e9_a05a_b8763fd8451drow6_col2 {\n",
       "            background-color:  peachpuff;\n",
       "        }    #T_0056e14c_e04c_11e9_a05a_b8763fd8451drow6_col3 {\n",
       "            background-color:  lightsalmon;\n",
       "        }    #T_0056e14c_e04c_11e9_a05a_b8763fd8451drow6_col4 {\n",
       "            background-color:  lightsalmon;\n",
       "        }    #T_0056e14c_e04c_11e9_a05a_b8763fd8451drow6_col5 {\n",
       "            background-color :  salmon;\n",
       "        }    #T_0056e14c_e04c_11e9_a05a_b8763fd8451drow6_col6 {\n",
       "            background-color :  salmon;\n",
       "        }    #T_0056e14c_e04c_11e9_a05a_b8763fd8451drow6_col7 {\n",
       "            background-color:  peachpuff;\n",
       "        }    #T_0056e14c_e04c_11e9_a05a_b8763fd8451drow7_col0 {\n",
       "            background-color:  peachpuff;\n",
       "        }    #T_0056e14c_e04c_11e9_a05a_b8763fd8451drow7_col1 {\n",
       "            background-color :  white;\n",
       "        }    #T_0056e14c_e04c_11e9_a05a_b8763fd8451drow7_col2 {\n",
       "            background-color:  peachpuff;\n",
       "        }    #T_0056e14c_e04c_11e9_a05a_b8763fd8451drow7_col3 {\n",
       "            background-color :  white;\n",
       "        }    #T_0056e14c_e04c_11e9_a05a_b8763fd8451drow7_col4 {\n",
       "            background-color :  white;\n",
       "        }    #T_0056e14c_e04c_11e9_a05a_b8763fd8451drow7_col5 {\n",
       "            background-color:  peachpuff;\n",
       "        }    #T_0056e14c_e04c_11e9_a05a_b8763fd8451drow7_col6 {\n",
       "            background-color:  peachpuff;\n",
       "        }    #T_0056e14c_e04c_11e9_a05a_b8763fd8451drow7_col7 {\n",
       "            background-color :  salmon;\n",
       "        }</style><table id=\"T_0056e14c_e04c_11e9_a05a_b8763fd8451d\" ><thead>    <tr>        <th class=\"blank level0\" ></th>        <th class=\"col_heading level0 col0\" >B-Q3_1</th>        <th class=\"col_heading level0 col1\" >B-Q3_2</th>        <th class=\"col_heading level0 col2\" >B-Q3_3</th>        <th class=\"col_heading level0 col3\" >B-Q3_4</th>        <th class=\"col_heading level0 col4\" >B-Q3_5</th>        <th class=\"col_heading level0 col5\" >B-Q3_6</th>        <th class=\"col_heading level0 col6\" >B-Q3_7</th>        <th class=\"col_heading level0 col7\" >B-Q3_8</th>    </tr></thead><tbody>\n",
       "                <tr>\n",
       "                        <th id=\"T_0056e14c_e04c_11e9_a05a_b8763fd8451dlevel0_row0\" class=\"row_heading level0 row0\" >B-Q3_1</th>\n",
       "                        <td id=\"T_0056e14c_e04c_11e9_a05a_b8763fd8451drow0_col0\" class=\"data row0 col0\" >1</td>\n",
       "                        <td id=\"T_0056e14c_e04c_11e9_a05a_b8763fd8451drow0_col1\" class=\"data row0 col1\" >0.434895</td>\n",
       "                        <td id=\"T_0056e14c_e04c_11e9_a05a_b8763fd8451drow0_col2\" class=\"data row0 col2\" >0.0207802</td>\n",
       "                        <td id=\"T_0056e14c_e04c_11e9_a05a_b8763fd8451drow0_col3\" class=\"data row0 col3\" >0.301737</td>\n",
       "                        <td id=\"T_0056e14c_e04c_11e9_a05a_b8763fd8451drow0_col4\" class=\"data row0 col4\" >0.179788</td>\n",
       "                        <td id=\"T_0056e14c_e04c_11e9_a05a_b8763fd8451drow0_col5\" class=\"data row0 col5\" >0.0644735</td>\n",
       "                        <td id=\"T_0056e14c_e04c_11e9_a05a_b8763fd8451drow0_col6\" class=\"data row0 col6\" >0.0247883</td>\n",
       "                        <td id=\"T_0056e14c_e04c_11e9_a05a_b8763fd8451drow0_col7\" class=\"data row0 col7\" >-0.150047</td>\n",
       "            </tr>\n",
       "            <tr>\n",
       "                        <th id=\"T_0056e14c_e04c_11e9_a05a_b8763fd8451dlevel0_row1\" class=\"row_heading level0 row1\" >B-Q3_2</th>\n",
       "                        <td id=\"T_0056e14c_e04c_11e9_a05a_b8763fd8451drow1_col0\" class=\"data row1 col0\" >0.434895</td>\n",
       "                        <td id=\"T_0056e14c_e04c_11e9_a05a_b8763fd8451drow1_col1\" class=\"data row1 col1\" >1</td>\n",
       "                        <td id=\"T_0056e14c_e04c_11e9_a05a_b8763fd8451drow1_col2\" class=\"data row1 col2\" >0.593184</td>\n",
       "                        <td id=\"T_0056e14c_e04c_11e9_a05a_b8763fd8451drow1_col3\" class=\"data row1 col3\" >0.515163</td>\n",
       "                        <td id=\"T_0056e14c_e04c_11e9_a05a_b8763fd8451drow1_col4\" class=\"data row1 col4\" >0.547967</td>\n",
       "                        <td id=\"T_0056e14c_e04c_11e9_a05a_b8763fd8451drow1_col5\" class=\"data row1 col5\" >0.226434</td>\n",
       "                        <td id=\"T_0056e14c_e04c_11e9_a05a_b8763fd8451drow1_col6\" class=\"data row1 col6\" >0.230237</td>\n",
       "                        <td id=\"T_0056e14c_e04c_11e9_a05a_b8763fd8451drow1_col7\" class=\"data row1 col7\" >-0.0411164</td>\n",
       "            </tr>\n",
       "            <tr>\n",
       "                        <th id=\"T_0056e14c_e04c_11e9_a05a_b8763fd8451dlevel0_row2\" class=\"row_heading level0 row2\" >B-Q3_3</th>\n",
       "                        <td id=\"T_0056e14c_e04c_11e9_a05a_b8763fd8451drow2_col0\" class=\"data row2 col0\" >0.0207802</td>\n",
       "                        <td id=\"T_0056e14c_e04c_11e9_a05a_b8763fd8451drow2_col1\" class=\"data row2 col1\" >0.593184</td>\n",
       "                        <td id=\"T_0056e14c_e04c_11e9_a05a_b8763fd8451drow2_col2\" class=\"data row2 col2\" >1</td>\n",
       "                        <td id=\"T_0056e14c_e04c_11e9_a05a_b8763fd8451drow2_col3\" class=\"data row2 col3\" >0.411301</td>\n",
       "                        <td id=\"T_0056e14c_e04c_11e9_a05a_b8763fd8451drow2_col4\" class=\"data row2 col4\" >0.478212</td>\n",
       "                        <td id=\"T_0056e14c_e04c_11e9_a05a_b8763fd8451drow2_col5\" class=\"data row2 col5\" >0.301138</td>\n",
       "                        <td id=\"T_0056e14c_e04c_11e9_a05a_b8763fd8451drow2_col6\" class=\"data row2 col6\" >0.250154</td>\n",
       "                        <td id=\"T_0056e14c_e04c_11e9_a05a_b8763fd8451drow2_col7\" class=\"data row2 col7\" >0.280007</td>\n",
       "            </tr>\n",
       "            <tr>\n",
       "                        <th id=\"T_0056e14c_e04c_11e9_a05a_b8763fd8451dlevel0_row3\" class=\"row_heading level0 row3\" >B-Q3_4</th>\n",
       "                        <td id=\"T_0056e14c_e04c_11e9_a05a_b8763fd8451drow3_col0\" class=\"data row3 col0\" >0.301737</td>\n",
       "                        <td id=\"T_0056e14c_e04c_11e9_a05a_b8763fd8451drow3_col1\" class=\"data row3 col1\" >0.515163</td>\n",
       "                        <td id=\"T_0056e14c_e04c_11e9_a05a_b8763fd8451drow3_col2\" class=\"data row3 col2\" >0.411301</td>\n",
       "                        <td id=\"T_0056e14c_e04c_11e9_a05a_b8763fd8451drow3_col3\" class=\"data row3 col3\" >1</td>\n",
       "                        <td id=\"T_0056e14c_e04c_11e9_a05a_b8763fd8451drow3_col4\" class=\"data row3 col4\" >0.851149</td>\n",
       "                        <td id=\"T_0056e14c_e04c_11e9_a05a_b8763fd8451drow3_col5\" class=\"data row3 col5\" >0.186848</td>\n",
       "                        <td id=\"T_0056e14c_e04c_11e9_a05a_b8763fd8451drow3_col6\" class=\"data row3 col6\" >0.360745</td>\n",
       "                        <td id=\"T_0056e14c_e04c_11e9_a05a_b8763fd8451drow3_col7\" class=\"data row3 col7\" >-0.0163883</td>\n",
       "            </tr>\n",
       "            <tr>\n",
       "                        <th id=\"T_0056e14c_e04c_11e9_a05a_b8763fd8451dlevel0_row4\" class=\"row_heading level0 row4\" >B-Q3_5</th>\n",
       "                        <td id=\"T_0056e14c_e04c_11e9_a05a_b8763fd8451drow4_col0\" class=\"data row4 col0\" >0.179788</td>\n",
       "                        <td id=\"T_0056e14c_e04c_11e9_a05a_b8763fd8451drow4_col1\" class=\"data row4 col1\" >0.547967</td>\n",
       "                        <td id=\"T_0056e14c_e04c_11e9_a05a_b8763fd8451drow4_col2\" class=\"data row4 col2\" >0.478212</td>\n",
       "                        <td id=\"T_0056e14c_e04c_11e9_a05a_b8763fd8451drow4_col3\" class=\"data row4 col3\" >0.851149</td>\n",
       "                        <td id=\"T_0056e14c_e04c_11e9_a05a_b8763fd8451drow4_col4\" class=\"data row4 col4\" >1</td>\n",
       "                        <td id=\"T_0056e14c_e04c_11e9_a05a_b8763fd8451drow4_col5\" class=\"data row4 col5\" >0.381031</td>\n",
       "                        <td id=\"T_0056e14c_e04c_11e9_a05a_b8763fd8451drow4_col6\" class=\"data row4 col6\" >0.462251</td>\n",
       "                        <td id=\"T_0056e14c_e04c_11e9_a05a_b8763fd8451drow4_col7\" class=\"data row4 col7\" >0.0269438</td>\n",
       "            </tr>\n",
       "            <tr>\n",
       "                        <th id=\"T_0056e14c_e04c_11e9_a05a_b8763fd8451dlevel0_row5\" class=\"row_heading level0 row5\" >B-Q3_6</th>\n",
       "                        <td id=\"T_0056e14c_e04c_11e9_a05a_b8763fd8451drow5_col0\" class=\"data row5 col0\" >0.0644735</td>\n",
       "                        <td id=\"T_0056e14c_e04c_11e9_a05a_b8763fd8451drow5_col1\" class=\"data row5 col1\" >0.226434</td>\n",
       "                        <td id=\"T_0056e14c_e04c_11e9_a05a_b8763fd8451drow5_col2\" class=\"data row5 col2\" >0.301138</td>\n",
       "                        <td id=\"T_0056e14c_e04c_11e9_a05a_b8763fd8451drow5_col3\" class=\"data row5 col3\" >0.186848</td>\n",
       "                        <td id=\"T_0056e14c_e04c_11e9_a05a_b8763fd8451drow5_col4\" class=\"data row5 col4\" >0.381031</td>\n",
       "                        <td id=\"T_0056e14c_e04c_11e9_a05a_b8763fd8451drow5_col5\" class=\"data row5 col5\" >1</td>\n",
       "                        <td id=\"T_0056e14c_e04c_11e9_a05a_b8763fd8451drow5_col6\" class=\"data row5 col6\" >0.618171</td>\n",
       "                        <td id=\"T_0056e14c_e04c_11e9_a05a_b8763fd8451drow5_col7\" class=\"data row5 col7\" >0.132114</td>\n",
       "            </tr>\n",
       "            <tr>\n",
       "                        <th id=\"T_0056e14c_e04c_11e9_a05a_b8763fd8451dlevel0_row6\" class=\"row_heading level0 row6\" >B-Q3_7</th>\n",
       "                        <td id=\"T_0056e14c_e04c_11e9_a05a_b8763fd8451drow6_col0\" class=\"data row6 col0\" >0.0247883</td>\n",
       "                        <td id=\"T_0056e14c_e04c_11e9_a05a_b8763fd8451drow6_col1\" class=\"data row6 col1\" >0.230237</td>\n",
       "                        <td id=\"T_0056e14c_e04c_11e9_a05a_b8763fd8451drow6_col2\" class=\"data row6 col2\" >0.250154</td>\n",
       "                        <td id=\"T_0056e14c_e04c_11e9_a05a_b8763fd8451drow6_col3\" class=\"data row6 col3\" >0.360745</td>\n",
       "                        <td id=\"T_0056e14c_e04c_11e9_a05a_b8763fd8451drow6_col4\" class=\"data row6 col4\" >0.462251</td>\n",
       "                        <td id=\"T_0056e14c_e04c_11e9_a05a_b8763fd8451drow6_col5\" class=\"data row6 col5\" >0.618171</td>\n",
       "                        <td id=\"T_0056e14c_e04c_11e9_a05a_b8763fd8451drow6_col6\" class=\"data row6 col6\" >1</td>\n",
       "                        <td id=\"T_0056e14c_e04c_11e9_a05a_b8763fd8451drow6_col7\" class=\"data row6 col7\" >0.207093</td>\n",
       "            </tr>\n",
       "            <tr>\n",
       "                        <th id=\"T_0056e14c_e04c_11e9_a05a_b8763fd8451dlevel0_row7\" class=\"row_heading level0 row7\" >B-Q3_8</th>\n",
       "                        <td id=\"T_0056e14c_e04c_11e9_a05a_b8763fd8451drow7_col0\" class=\"data row7 col0\" >-0.150047</td>\n",
       "                        <td id=\"T_0056e14c_e04c_11e9_a05a_b8763fd8451drow7_col1\" class=\"data row7 col1\" >-0.0411164</td>\n",
       "                        <td id=\"T_0056e14c_e04c_11e9_a05a_b8763fd8451drow7_col2\" class=\"data row7 col2\" >0.280007</td>\n",
       "                        <td id=\"T_0056e14c_e04c_11e9_a05a_b8763fd8451drow7_col3\" class=\"data row7 col3\" >-0.0163883</td>\n",
       "                        <td id=\"T_0056e14c_e04c_11e9_a05a_b8763fd8451drow7_col4\" class=\"data row7 col4\" >0.0269438</td>\n",
       "                        <td id=\"T_0056e14c_e04c_11e9_a05a_b8763fd8451drow7_col5\" class=\"data row7 col5\" >0.132114</td>\n",
       "                        <td id=\"T_0056e14c_e04c_11e9_a05a_b8763fd8451drow7_col6\" class=\"data row7 col6\" >0.207093</td>\n",
       "                        <td id=\"T_0056e14c_e04c_11e9_a05a_b8763fd8451drow7_col7\" class=\"data row7 col7\" >1</td>\n",
       "            </tr>\n",
       "    </tbody></table>"
      ],
      "text/plain": [
       "<pandas.io.formats.style.Styler at 0x119f37f0>"
      ]
     },
     "execution_count": 142,
     "metadata": {},
     "output_type": "execute_result"
    }
   ],
   "source": [
    "df_spearman(Daten[Daten[Liste_B_Q3] != 0],Liste_B_Q3)"
   ]
  },
  {
   "cell_type": "code",
   "execution_count": 143,
   "metadata": {},
   "outputs": [
    {
     "data": {
      "text/html": [
       "<style  type=\"text/css\" >\n",
       "    #T_006e1324_e04c_11e9_934a_b8763fd8451drow0_col0 {\n",
       "            background-color :  salmon;\n",
       "        }    #T_006e1324_e04c_11e9_934a_b8763fd8451drow0_col1 {\n",
       "            background-color :  salmon;\n",
       "        }    #T_006e1324_e04c_11e9_934a_b8763fd8451drow0_col2 {\n",
       "            background-color :  white;\n",
       "        }    #T_006e1324_e04c_11e9_934a_b8763fd8451drow0_col3 {\n",
       "            background-color:  lightsalmon;\n",
       "        }    #T_006e1324_e04c_11e9_934a_b8763fd8451drow0_col4 {\n",
       "            background-color :  white;\n",
       "        }    #T_006e1324_e04c_11e9_934a_b8763fd8451drow0_col5 {\n",
       "            background-color :  white;\n",
       "        }    #T_006e1324_e04c_11e9_934a_b8763fd8451drow0_col6 {\n",
       "            background-color :  white;\n",
       "        }    #T_006e1324_e04c_11e9_934a_b8763fd8451drow0_col7 {\n",
       "            background-color :  white;\n",
       "        }    #T_006e1324_e04c_11e9_934a_b8763fd8451drow1_col0 {\n",
       "            background-color :  salmon;\n",
       "        }    #T_006e1324_e04c_11e9_934a_b8763fd8451drow1_col1 {\n",
       "            background-color :  salmon;\n",
       "        }    #T_006e1324_e04c_11e9_934a_b8763fd8451drow1_col2 {\n",
       "            background-color :  salmon;\n",
       "        }    #T_006e1324_e04c_11e9_934a_b8763fd8451drow1_col3 {\n",
       "            background-color :  salmon;\n",
       "        }    #T_006e1324_e04c_11e9_934a_b8763fd8451drow1_col4 {\n",
       "            background-color :  salmon;\n",
       "        }    #T_006e1324_e04c_11e9_934a_b8763fd8451drow1_col5 {\n",
       "            background-color :  white;\n",
       "        }    #T_006e1324_e04c_11e9_934a_b8763fd8451drow1_col6 {\n",
       "            background-color :  white;\n",
       "        }    #T_006e1324_e04c_11e9_934a_b8763fd8451drow1_col7 {\n",
       "            background-color :  white;\n",
       "        }    #T_006e1324_e04c_11e9_934a_b8763fd8451drow2_col0 {\n",
       "            background-color :  white;\n",
       "        }    #T_006e1324_e04c_11e9_934a_b8763fd8451drow2_col1 {\n",
       "            background-color :  salmon;\n",
       "        }    #T_006e1324_e04c_11e9_934a_b8763fd8451drow2_col2 {\n",
       "            background-color :  salmon;\n",
       "        }    #T_006e1324_e04c_11e9_934a_b8763fd8451drow2_col3 {\n",
       "            background-color :  salmon;\n",
       "        }    #T_006e1324_e04c_11e9_934a_b8763fd8451drow2_col4 {\n",
       "            background-color :  salmon;\n",
       "        }    #T_006e1324_e04c_11e9_934a_b8763fd8451drow2_col5 {\n",
       "            background-color:  lightsalmon;\n",
       "        }    #T_006e1324_e04c_11e9_934a_b8763fd8451drow2_col6 {\n",
       "            background-color:  lightsalmon;\n",
       "        }    #T_006e1324_e04c_11e9_934a_b8763fd8451drow2_col7 {\n",
       "            background-color :  white;\n",
       "        }    #T_006e1324_e04c_11e9_934a_b8763fd8451drow3_col0 {\n",
       "            background-color:  lightsalmon;\n",
       "        }    #T_006e1324_e04c_11e9_934a_b8763fd8451drow3_col1 {\n",
       "            background-color :  salmon;\n",
       "        }    #T_006e1324_e04c_11e9_934a_b8763fd8451drow3_col2 {\n",
       "            background-color :  salmon;\n",
       "        }    #T_006e1324_e04c_11e9_934a_b8763fd8451drow3_col3 {\n",
       "            background-color :  salmon;\n",
       "        }    #T_006e1324_e04c_11e9_934a_b8763fd8451drow3_col4 {\n",
       "            background-color :  salmon;\n",
       "        }    #T_006e1324_e04c_11e9_934a_b8763fd8451drow3_col5 {\n",
       "            background-color :  white;\n",
       "        }    #T_006e1324_e04c_11e9_934a_b8763fd8451drow3_col6 {\n",
       "            background-color:  lightsalmon;\n",
       "        }    #T_006e1324_e04c_11e9_934a_b8763fd8451drow3_col7 {\n",
       "            background-color :  white;\n",
       "        }    #T_006e1324_e04c_11e9_934a_b8763fd8451drow4_col0 {\n",
       "            background-color :  white;\n",
       "        }    #T_006e1324_e04c_11e9_934a_b8763fd8451drow4_col1 {\n",
       "            background-color :  salmon;\n",
       "        }    #T_006e1324_e04c_11e9_934a_b8763fd8451drow4_col2 {\n",
       "            background-color :  salmon;\n",
       "        }    #T_006e1324_e04c_11e9_934a_b8763fd8451drow4_col3 {\n",
       "            background-color :  salmon;\n",
       "        }    #T_006e1324_e04c_11e9_934a_b8763fd8451drow4_col4 {\n",
       "            background-color :  salmon;\n",
       "        }    #T_006e1324_e04c_11e9_934a_b8763fd8451drow4_col5 {\n",
       "            background-color :  salmon;\n",
       "        }    #T_006e1324_e04c_11e9_934a_b8763fd8451drow4_col6 {\n",
       "            background-color :  salmon;\n",
       "        }    #T_006e1324_e04c_11e9_934a_b8763fd8451drow4_col7 {\n",
       "            background-color :  white;\n",
       "        }    #T_006e1324_e04c_11e9_934a_b8763fd8451drow5_col0 {\n",
       "            background-color :  white;\n",
       "        }    #T_006e1324_e04c_11e9_934a_b8763fd8451drow5_col1 {\n",
       "            background-color :  white;\n",
       "        }    #T_006e1324_e04c_11e9_934a_b8763fd8451drow5_col2 {\n",
       "            background-color:  lightsalmon;\n",
       "        }    #T_006e1324_e04c_11e9_934a_b8763fd8451drow5_col3 {\n",
       "            background-color :  white;\n",
       "        }    #T_006e1324_e04c_11e9_934a_b8763fd8451drow5_col4 {\n",
       "            background-color :  salmon;\n",
       "        }    #T_006e1324_e04c_11e9_934a_b8763fd8451drow5_col5 {\n",
       "            background-color :  salmon;\n",
       "        }    #T_006e1324_e04c_11e9_934a_b8763fd8451drow5_col6 {\n",
       "            background-color :  salmon;\n",
       "        }    #T_006e1324_e04c_11e9_934a_b8763fd8451drow5_col7 {\n",
       "            background-color:  lightsalmon;\n",
       "        }    #T_006e1324_e04c_11e9_934a_b8763fd8451drow6_col0 {\n",
       "            background-color :  white;\n",
       "        }    #T_006e1324_e04c_11e9_934a_b8763fd8451drow6_col1 {\n",
       "            background-color :  white;\n",
       "        }    #T_006e1324_e04c_11e9_934a_b8763fd8451drow6_col2 {\n",
       "            background-color:  lightsalmon;\n",
       "        }    #T_006e1324_e04c_11e9_934a_b8763fd8451drow6_col3 {\n",
       "            background-color:  lightsalmon;\n",
       "        }    #T_006e1324_e04c_11e9_934a_b8763fd8451drow6_col4 {\n",
       "            background-color :  salmon;\n",
       "        }    #T_006e1324_e04c_11e9_934a_b8763fd8451drow6_col5 {\n",
       "            background-color :  salmon;\n",
       "        }    #T_006e1324_e04c_11e9_934a_b8763fd8451drow6_col6 {\n",
       "            background-color :  salmon;\n",
       "        }    #T_006e1324_e04c_11e9_934a_b8763fd8451drow6_col7 {\n",
       "            background-color :  white;\n",
       "        }    #T_006e1324_e04c_11e9_934a_b8763fd8451drow7_col0 {\n",
       "            background-color :  white;\n",
       "        }    #T_006e1324_e04c_11e9_934a_b8763fd8451drow7_col1 {\n",
       "            background-color :  white;\n",
       "        }    #T_006e1324_e04c_11e9_934a_b8763fd8451drow7_col2 {\n",
       "            background-color :  white;\n",
       "        }    #T_006e1324_e04c_11e9_934a_b8763fd8451drow7_col3 {\n",
       "            background-color :  white;\n",
       "        }    #T_006e1324_e04c_11e9_934a_b8763fd8451drow7_col4 {\n",
       "            background-color :  white;\n",
       "        }    #T_006e1324_e04c_11e9_934a_b8763fd8451drow7_col5 {\n",
       "            background-color:  lightsalmon;\n",
       "        }    #T_006e1324_e04c_11e9_934a_b8763fd8451drow7_col6 {\n",
       "            background-color :  white;\n",
       "        }    #T_006e1324_e04c_11e9_934a_b8763fd8451drow7_col7 {\n",
       "            background-color :  salmon;\n",
       "        }</style><table id=\"T_006e1324_e04c_11e9_934a_b8763fd8451d\" ><thead>    <tr>        <th class=\"blank level0\" ></th>        <th class=\"col_heading level0 col0\" >B-Q3_1</th>        <th class=\"col_heading level0 col1\" >B-Q3_2</th>        <th class=\"col_heading level0 col2\" >B-Q3_3</th>        <th class=\"col_heading level0 col3\" >B-Q3_4</th>        <th class=\"col_heading level0 col4\" >B-Q3_5</th>        <th class=\"col_heading level0 col5\" >B-Q3_6</th>        <th class=\"col_heading level0 col6\" >B-Q3_7</th>        <th class=\"col_heading level0 col7\" >B-Q3_8</th>    </tr></thead><tbody>\n",
       "                <tr>\n",
       "                        <th id=\"T_006e1324_e04c_11e9_934a_b8763fd8451dlevel0_row0\" class=\"row_heading level0 row0\" >B-Q3_1</th>\n",
       "                        <td id=\"T_006e1324_e04c_11e9_934a_b8763fd8451drow0_col0\" class=\"data row0 col0\" >0</td>\n",
       "                        <td id=\"T_006e1324_e04c_11e9_934a_b8763fd8451drow0_col1\" class=\"data row0 col1\" >0.000368979</td>\n",
       "                        <td id=\"T_006e1324_e04c_11e9_934a_b8763fd8451drow0_col2\" class=\"data row0 col2\" >0.773811</td>\n",
       "                        <td id=\"T_006e1324_e04c_11e9_934a_b8763fd8451drow0_col3\" class=\"data row0 col3\" >0.0281097</td>\n",
       "                        <td id=\"T_006e1324_e04c_11e9_934a_b8763fd8451drow0_col4\" class=\"data row0 col4\" >0.240072</td>\n",
       "                        <td id=\"T_006e1324_e04c_11e9_934a_b8763fd8451drow0_col5\" class=\"data row0 col5\" >0.747754</td>\n",
       "                        <td id=\"T_006e1324_e04c_11e9_934a_b8763fd8451drow0_col6\" class=\"data row0 col6\" >0.750762</td>\n",
       "                        <td id=\"T_006e1324_e04c_11e9_934a_b8763fd8451drow0_col7\" class=\"data row0 col7\" >0.482454</td>\n",
       "            </tr>\n",
       "            <tr>\n",
       "                        <th id=\"T_006e1324_e04c_11e9_934a_b8763fd8451dlevel0_row1\" class=\"row_heading level0 row1\" >B-Q3_2</th>\n",
       "                        <td id=\"T_006e1324_e04c_11e9_934a_b8763fd8451drow1_col0\" class=\"data row1 col0\" >0.000368979</td>\n",
       "                        <td id=\"T_006e1324_e04c_11e9_934a_b8763fd8451drow1_col1\" class=\"data row1 col1\" >0</td>\n",
       "                        <td id=\"T_006e1324_e04c_11e9_934a_b8763fd8451drow1_col2\" class=\"data row1 col2\" >0.000639125</td>\n",
       "                        <td id=\"T_006e1324_e04c_11e9_934a_b8763fd8451drow1_col3\" class=\"data row1 col3\" >0.000751643</td>\n",
       "                        <td id=\"T_006e1324_e04c_11e9_934a_b8763fd8451drow1_col4\" class=\"data row1 col4\" >0.000828584</td>\n",
       "                        <td id=\"T_006e1324_e04c_11e9_934a_b8763fd8451drow1_col5\" class=\"data row1 col5\" >0.2053</td>\n",
       "                        <td id=\"T_006e1324_e04c_11e9_934a_b8763fd8451drow1_col6\" class=\"data row1 col6\" >0.137093</td>\n",
       "                        <td id=\"T_006e1324_e04c_11e9_934a_b8763fd8451drow1_col7\" class=\"data row1 col7\" >0.55501</td>\n",
       "            </tr>\n",
       "            <tr>\n",
       "                        <th id=\"T_006e1324_e04c_11e9_934a_b8763fd8451dlevel0_row2\" class=\"row_heading level0 row2\" >B-Q3_3</th>\n",
       "                        <td id=\"T_006e1324_e04c_11e9_934a_b8763fd8451drow2_col0\" class=\"data row2 col0\" >0.773811</td>\n",
       "                        <td id=\"T_006e1324_e04c_11e9_934a_b8763fd8451drow2_col1\" class=\"data row2 col1\" >0.000639125</td>\n",
       "                        <td id=\"T_006e1324_e04c_11e9_934a_b8763fd8451drow2_col2\" class=\"data row2 col2\" >0</td>\n",
       "                        <td id=\"T_006e1324_e04c_11e9_934a_b8763fd8451drow2_col3\" class=\"data row2 col3\" >0.00752098</td>\n",
       "                        <td id=\"T_006e1324_e04c_11e9_934a_b8763fd8451drow2_col4\" class=\"data row2 col4\" >0.00440413</td>\n",
       "                        <td id=\"T_006e1324_e04c_11e9_934a_b8763fd8451drow2_col5\" class=\"data row2 col5\" >0.0237198</td>\n",
       "                        <td id=\"T_006e1324_e04c_11e9_934a_b8763fd8451drow2_col6\" class=\"data row2 col6\" >0.0326733</td>\n",
       "                        <td id=\"T_006e1324_e04c_11e9_934a_b8763fd8451drow2_col7\" class=\"data row2 col7\" >0.0521698</td>\n",
       "            </tr>\n",
       "            <tr>\n",
       "                        <th id=\"T_006e1324_e04c_11e9_934a_b8763fd8451dlevel0_row3\" class=\"row_heading level0 row3\" >B-Q3_4</th>\n",
       "                        <td id=\"T_006e1324_e04c_11e9_934a_b8763fd8451drow3_col0\" class=\"data row3 col0\" >0.0281097</td>\n",
       "                        <td id=\"T_006e1324_e04c_11e9_934a_b8763fd8451drow3_col1\" class=\"data row3 col1\" >0.000751643</td>\n",
       "                        <td id=\"T_006e1324_e04c_11e9_934a_b8763fd8451drow3_col2\" class=\"data row3 col2\" >0.00752098</td>\n",
       "                        <td id=\"T_006e1324_e04c_11e9_934a_b8763fd8451drow3_col3\" class=\"data row3 col3\" >0</td>\n",
       "                        <td id=\"T_006e1324_e04c_11e9_934a_b8763fd8451drow3_col4\" class=\"data row3 col4\" >1.33324e-09</td>\n",
       "                        <td id=\"T_006e1324_e04c_11e9_934a_b8763fd8451drow3_col5\" class=\"data row3 col5\" >0.322888</td>\n",
       "                        <td id=\"T_006e1324_e04c_11e9_934a_b8763fd8451drow3_col6\" class=\"data row3 col6\" >0.0213597</td>\n",
       "                        <td id=\"T_006e1324_e04c_11e9_934a_b8763fd8451drow3_col7\" class=\"data row3 col7\" >0.735122</td>\n",
       "            </tr>\n",
       "            <tr>\n",
       "                        <th id=\"T_006e1324_e04c_11e9_934a_b8763fd8451dlevel0_row4\" class=\"row_heading level0 row4\" >B-Q3_5</th>\n",
       "                        <td id=\"T_006e1324_e04c_11e9_934a_b8763fd8451drow4_col0\" class=\"data row4 col0\" >0.240072</td>\n",
       "                        <td id=\"T_006e1324_e04c_11e9_934a_b8763fd8451drow4_col1\" class=\"data row4 col1\" >0.000828584</td>\n",
       "                        <td id=\"T_006e1324_e04c_11e9_934a_b8763fd8451drow4_col2\" class=\"data row4 col2\" >0.00440413</td>\n",
       "                        <td id=\"T_006e1324_e04c_11e9_934a_b8763fd8451drow4_col3\" class=\"data row4 col3\" >1.33324e-09</td>\n",
       "                        <td id=\"T_006e1324_e04c_11e9_934a_b8763fd8451drow4_col4\" class=\"data row4 col4\" >0</td>\n",
       "                        <td id=\"T_006e1324_e04c_11e9_934a_b8763fd8451drow4_col5\" class=\"data row4 col5\" >0.00125485</td>\n",
       "                        <td id=\"T_006e1324_e04c_11e9_934a_b8763fd8451drow4_col6\" class=\"data row4 col6\" >0.00193484</td>\n",
       "                        <td id=\"T_006e1324_e04c_11e9_934a_b8763fd8451drow4_col7\" class=\"data row4 col7\" >0.446694</td>\n",
       "            </tr>\n",
       "            <tr>\n",
       "                        <th id=\"T_006e1324_e04c_11e9_934a_b8763fd8451dlevel0_row5\" class=\"row_heading level0 row5\" >B-Q3_6</th>\n",
       "                        <td id=\"T_006e1324_e04c_11e9_934a_b8763fd8451drow5_col0\" class=\"data row5 col0\" >0.747754</td>\n",
       "                        <td id=\"T_006e1324_e04c_11e9_934a_b8763fd8451drow5_col1\" class=\"data row5 col1\" >0.2053</td>\n",
       "                        <td id=\"T_006e1324_e04c_11e9_934a_b8763fd8451drow5_col2\" class=\"data row5 col2\" >0.0237198</td>\n",
       "                        <td id=\"T_006e1324_e04c_11e9_934a_b8763fd8451drow5_col3\" class=\"data row5 col3\" >0.322888</td>\n",
       "                        <td id=\"T_006e1324_e04c_11e9_934a_b8763fd8451drow5_col4\" class=\"data row5 col4\" >0.00125485</td>\n",
       "                        <td id=\"T_006e1324_e04c_11e9_934a_b8763fd8451drow5_col5\" class=\"data row5 col5\" >0</td>\n",
       "                        <td id=\"T_006e1324_e04c_11e9_934a_b8763fd8451drow5_col6\" class=\"data row5 col6\" >1.29833e-07</td>\n",
       "                        <td id=\"T_006e1324_e04c_11e9_934a_b8763fd8451drow5_col7\" class=\"data row5 col7\" >0.0493534</td>\n",
       "            </tr>\n",
       "            <tr>\n",
       "                        <th id=\"T_006e1324_e04c_11e9_934a_b8763fd8451dlevel0_row6\" class=\"row_heading level0 row6\" >B-Q3_7</th>\n",
       "                        <td id=\"T_006e1324_e04c_11e9_934a_b8763fd8451drow6_col0\" class=\"data row6 col0\" >0.750762</td>\n",
       "                        <td id=\"T_006e1324_e04c_11e9_934a_b8763fd8451drow6_col1\" class=\"data row6 col1\" >0.137093</td>\n",
       "                        <td id=\"T_006e1324_e04c_11e9_934a_b8763fd8451drow6_col2\" class=\"data row6 col2\" >0.0326733</td>\n",
       "                        <td id=\"T_006e1324_e04c_11e9_934a_b8763fd8451drow6_col3\" class=\"data row6 col3\" >0.0213597</td>\n",
       "                        <td id=\"T_006e1324_e04c_11e9_934a_b8763fd8451drow6_col4\" class=\"data row6 col4\" >0.00193484</td>\n",
       "                        <td id=\"T_006e1324_e04c_11e9_934a_b8763fd8451drow6_col5\" class=\"data row6 col5\" >1.29833e-07</td>\n",
       "                        <td id=\"T_006e1324_e04c_11e9_934a_b8763fd8451drow6_col6\" class=\"data row6 col6\" >0</td>\n",
       "                        <td id=\"T_006e1324_e04c_11e9_934a_b8763fd8451drow6_col7\" class=\"data row6 col7\" >0.0658903</td>\n",
       "            </tr>\n",
       "            <tr>\n",
       "                        <th id=\"T_006e1324_e04c_11e9_934a_b8763fd8451dlevel0_row7\" class=\"row_heading level0 row7\" >B-Q3_8</th>\n",
       "                        <td id=\"T_006e1324_e04c_11e9_934a_b8763fd8451drow7_col0\" class=\"data row7 col0\" >0.482454</td>\n",
       "                        <td id=\"T_006e1324_e04c_11e9_934a_b8763fd8451drow7_col1\" class=\"data row7 col1\" >0.55501</td>\n",
       "                        <td id=\"T_006e1324_e04c_11e9_934a_b8763fd8451drow7_col2\" class=\"data row7 col2\" >0.0521698</td>\n",
       "                        <td id=\"T_006e1324_e04c_11e9_934a_b8763fd8451drow7_col3\" class=\"data row7 col3\" >0.735122</td>\n",
       "                        <td id=\"T_006e1324_e04c_11e9_934a_b8763fd8451drow7_col4\" class=\"data row7 col4\" >0.446694</td>\n",
       "                        <td id=\"T_006e1324_e04c_11e9_934a_b8763fd8451drow7_col5\" class=\"data row7 col5\" >0.0493534</td>\n",
       "                        <td id=\"T_006e1324_e04c_11e9_934a_b8763fd8451drow7_col6\" class=\"data row7 col6\" >0.0658903</td>\n",
       "                        <td id=\"T_006e1324_e04c_11e9_934a_b8763fd8451drow7_col7\" class=\"data row7 col7\" >0</td>\n",
       "            </tr>\n",
       "    </tbody></table>"
      ],
      "text/plain": [
       "<pandas.io.formats.style.Styler at 0x119337f0>"
      ]
     },
     "execution_count": 143,
     "metadata": {},
     "output_type": "execute_result"
    }
   ],
   "source": [
    "df_spearman_pv(Daten[Daten[Liste_B_Q3] != 0],Liste_B_Q3)"
   ]
  },
  {
   "cell_type": "markdown",
   "metadata": {},
   "source": [
    "Anmerkungen:"
   ]
  },
  {
   "cell_type": "code",
   "execution_count": 144,
   "metadata": {},
   "outputs": [
    {
     "data": {
      "text/plain": [
       "20    unbeantwortet: ich hatte nur eine akad., keine...\n",
       "47    En cuanto al material propio puedo decir que s...\n",
       "Name: B-Q3a, dtype: object"
      ]
     },
     "execution_count": 144,
     "metadata": {},
     "output_type": "execute_result"
    }
   ],
   "source": [
    "Daten[Daten['B-Q3a']!=0]['B-Q3a']"
   ]
  },
  {
   "cell_type": "code",
   "execution_count": 145,
   "metadata": {},
   "outputs": [
    {
     "data": {
      "text/plain": [
       "'unbeantwortet: ich hatte nur eine akad., keine pädagog., Ausbildung'"
      ]
     },
     "execution_count": 145,
     "metadata": {},
     "output_type": "execute_result"
    }
   ],
   "source": [
    "Daten.loc[20]['B-Q3a']"
   ]
  },
  {
   "cell_type": "code",
   "execution_count": 146,
   "metadata": {},
   "outputs": [
    {
     "data": {
      "text/plain": [
       "'En cuanto al material propio puedo decir que son más bien consejos que doy en clases.'"
      ]
     },
     "execution_count": 146,
     "metadata": {},
     "output_type": "execute_result"
    }
   ],
   "source": [
    "Daten.loc[47]['B-Q3a']"
   ]
  },
  {
   "cell_type": "markdown",
   "metadata": {},
   "source": [
    "### Einstellung zu Erschließungsstrategien"
   ]
  },
  {
   "cell_type": "markdown",
   "metadata": {},
   "source": [
    "#### C-Q1"
   ]
  },
  {
   "cell_type": "markdown",
   "metadata": {},
   "source": [
    "Items:\n",
    "1. Strategien zur Erschließung unbekannter Wörter sind ein wichtiges Thema in meinem Unterricht.\n",
    "2. Die Thematisierung von Erschließungsstrategien ist im Anfängerunterricht besonders wichtig.\n",
    "3. Die Thematisierung von Erschließungsstrategien ist in der Mittelstufe besonders wichtig.\n",
    "4. Die Thematisierung von Erschließungsstrategien ist im Unterricht mit Fortgeschrittenen besonders wichtig.\n",
    "5. Es ist nicht notwendig, Erschließungsstrategien explizit zu vermitteln, weil die Lernenden sie ohnehin unbewusst anwenden.\n",
    "6. In meinem Unterricht wird mit anspruchsvollen Texten gearbeitet, bei denen die Lernenden auf den Einsatz von Erschließungsstrategien angewiesen sind.\n",
    "7. Erschließungsstrategien sind nützlich, um den Wortschatz zu erweitern.\n",
    "8. Erschließungsstrategien sind nützlich, um Texte besser verstehen zu können.\n",
    "9. Ich verwende Material, das an das Niveau der Lernenden angepasst ist, sodass sie es auch ohne den Einsatz komplizierter Erschließungsstrategien verstehen können.\n",
    "10. Durch die Förderung von Erschließungsstrategien kann autonomes Lernen gestärkt werden."
   ]
  },
  {
   "cell_type": "code",
   "execution_count": 147,
   "metadata": {},
   "outputs": [
    {
     "data": {
      "text/html": [
       "<div>\n",
       "<style scoped>\n",
       "    .dataframe tbody tr th:only-of-type {\n",
       "        vertical-align: middle;\n",
       "    }\n",
       "\n",
       "    .dataframe tbody tr th {\n",
       "        vertical-align: top;\n",
       "    }\n",
       "\n",
       "    .dataframe thead th {\n",
       "        text-align: right;\n",
       "    }\n",
       "</style>\n",
       "<table border=\"1\" class=\"dataframe\">\n",
       "  <thead>\n",
       "    <tr style=\"text-align: right;\">\n",
       "      <th></th>\n",
       "      <th>count</th>\n",
       "      <th>mean</th>\n",
       "      <th>std</th>\n",
       "      <th>min</th>\n",
       "      <th>25%</th>\n",
       "      <th>50%</th>\n",
       "      <th>75%</th>\n",
       "      <th>max</th>\n",
       "      <th>mode</th>\n",
       "      <th>median</th>\n",
       "      <th>kurtosis</th>\n",
       "      <th>skew</th>\n",
       "    </tr>\n",
       "  </thead>\n",
       "  <tbody>\n",
       "    <tr>\n",
       "      <th>C-Q1_1</th>\n",
       "      <td>52.0</td>\n",
       "      <td>3.692308</td>\n",
       "      <td>1.094343</td>\n",
       "      <td>2.0</td>\n",
       "      <td>3.0</td>\n",
       "      <td>4.0</td>\n",
       "      <td>5.0</td>\n",
       "      <td>5.0</td>\n",
       "      <td>4.0</td>\n",
       "      <td>4.0</td>\n",
       "      <td>-1.207856</td>\n",
       "      <td>-0.281733</td>\n",
       "    </tr>\n",
       "    <tr>\n",
       "      <th>C-Q1_2</th>\n",
       "      <td>53.0</td>\n",
       "      <td>4.000000</td>\n",
       "      <td>0.832050</td>\n",
       "      <td>2.0</td>\n",
       "      <td>3.0</td>\n",
       "      <td>4.0</td>\n",
       "      <td>5.0</td>\n",
       "      <td>5.0</td>\n",
       "      <td>4.0</td>\n",
       "      <td>4.0</td>\n",
       "      <td>-1.019608</td>\n",
       "      <td>-0.208164</td>\n",
       "    </tr>\n",
       "    <tr>\n",
       "      <th>C-Q1_3</th>\n",
       "      <td>52.0</td>\n",
       "      <td>3.788462</td>\n",
       "      <td>0.893035</td>\n",
       "      <td>2.0</td>\n",
       "      <td>3.0</td>\n",
       "      <td>4.0</td>\n",
       "      <td>4.0</td>\n",
       "      <td>5.0</td>\n",
       "      <td>4.0</td>\n",
       "      <td>4.0</td>\n",
       "      <td>-0.186411</td>\n",
       "      <td>-0.592577</td>\n",
       "    </tr>\n",
       "    <tr>\n",
       "      <th>C-Q1_4</th>\n",
       "      <td>53.0</td>\n",
       "      <td>3.811321</td>\n",
       "      <td>1.038797</td>\n",
       "      <td>2.0</td>\n",
       "      <td>3.0</td>\n",
       "      <td>4.0</td>\n",
       "      <td>5.0</td>\n",
       "      <td>5.0</td>\n",
       "      <td>5.0</td>\n",
       "      <td>4.0</td>\n",
       "      <td>-1.050678</td>\n",
       "      <td>-0.354459</td>\n",
       "    </tr>\n",
       "    <tr>\n",
       "      <th>C-Q1_5</th>\n",
       "      <td>53.0</td>\n",
       "      <td>2.113208</td>\n",
       "      <td>0.993447</td>\n",
       "      <td>1.0</td>\n",
       "      <td>1.0</td>\n",
       "      <td>2.0</td>\n",
       "      <td>3.0</td>\n",
       "      <td>4.0</td>\n",
       "      <td>2.0</td>\n",
       "      <td>2.0</td>\n",
       "      <td>-0.766893</td>\n",
       "      <td>0.499249</td>\n",
       "    </tr>\n",
       "    <tr>\n",
       "      <th>C-Q1_6</th>\n",
       "      <td>52.0</td>\n",
       "      <td>3.269231</td>\n",
       "      <td>1.190080</td>\n",
       "      <td>1.0</td>\n",
       "      <td>2.0</td>\n",
       "      <td>3.0</td>\n",
       "      <td>4.0</td>\n",
       "      <td>5.0</td>\n",
       "      <td>3.0</td>\n",
       "      <td>3.0</td>\n",
       "      <td>-0.942507</td>\n",
       "      <td>-0.040591</td>\n",
       "    </tr>\n",
       "    <tr>\n",
       "      <th>C-Q1_7</th>\n",
       "      <td>53.0</td>\n",
       "      <td>4.566038</td>\n",
       "      <td>0.537424</td>\n",
       "      <td>3.0</td>\n",
       "      <td>4.0</td>\n",
       "      <td>5.0</td>\n",
       "      <td>5.0</td>\n",
       "      <td>5.0</td>\n",
       "      <td>5.0</td>\n",
       "      <td>5.0</td>\n",
       "      <td>-0.782730</td>\n",
       "      <td>-0.658653</td>\n",
       "    </tr>\n",
       "    <tr>\n",
       "      <th>C-Q1_8</th>\n",
       "      <td>53.0</td>\n",
       "      <td>4.509434</td>\n",
       "      <td>0.639189</td>\n",
       "      <td>3.0</td>\n",
       "      <td>4.0</td>\n",
       "      <td>5.0</td>\n",
       "      <td>5.0</td>\n",
       "      <td>5.0</td>\n",
       "      <td>5.0</td>\n",
       "      <td>5.0</td>\n",
       "      <td>-0.107397</td>\n",
       "      <td>-0.954773</td>\n",
       "    </tr>\n",
       "    <tr>\n",
       "      <th>C-Q1_9</th>\n",
       "      <td>52.0</td>\n",
       "      <td>3.019231</td>\n",
       "      <td>1.038294</td>\n",
       "      <td>1.0</td>\n",
       "      <td>2.0</td>\n",
       "      <td>3.0</td>\n",
       "      <td>4.0</td>\n",
       "      <td>5.0</td>\n",
       "      <td>3.0</td>\n",
       "      <td>3.0</td>\n",
       "      <td>-0.554791</td>\n",
       "      <td>0.069733</td>\n",
       "    </tr>\n",
       "    <tr>\n",
       "      <th>C-Q1_10</th>\n",
       "      <td>53.0</td>\n",
       "      <td>4.566038</td>\n",
       "      <td>0.693637</td>\n",
       "      <td>2.0</td>\n",
       "      <td>4.0</td>\n",
       "      <td>5.0</td>\n",
       "      <td>5.0</td>\n",
       "      <td>5.0</td>\n",
       "      <td>5.0</td>\n",
       "      <td>5.0</td>\n",
       "      <td>2.793452</td>\n",
       "      <td>-1.682532</td>\n",
       "    </tr>\n",
       "  </tbody>\n",
       "</table>\n",
       "</div>"
      ],
      "text/plain": [
       "         count      mean       std  min  25%  50%  75%  max  mode  median  \\\n",
       "C-Q1_1    52.0  3.692308  1.094343  2.0  3.0  4.0  5.0  5.0   4.0     4.0   \n",
       "C-Q1_2    53.0  4.000000  0.832050  2.0  3.0  4.0  5.0  5.0   4.0     4.0   \n",
       "C-Q1_3    52.0  3.788462  0.893035  2.0  3.0  4.0  4.0  5.0   4.0     4.0   \n",
       "C-Q1_4    53.0  3.811321  1.038797  2.0  3.0  4.0  5.0  5.0   5.0     4.0   \n",
       "C-Q1_5    53.0  2.113208  0.993447  1.0  1.0  2.0  3.0  4.0   2.0     2.0   \n",
       "C-Q1_6    52.0  3.269231  1.190080  1.0  2.0  3.0  4.0  5.0   3.0     3.0   \n",
       "C-Q1_7    53.0  4.566038  0.537424  3.0  4.0  5.0  5.0  5.0   5.0     5.0   \n",
       "C-Q1_8    53.0  4.509434  0.639189  3.0  4.0  5.0  5.0  5.0   5.0     5.0   \n",
       "C-Q1_9    52.0  3.019231  1.038294  1.0  2.0  3.0  4.0  5.0   3.0     3.0   \n",
       "C-Q1_10   53.0  4.566038  0.693637  2.0  4.0  5.0  5.0  5.0   5.0     5.0   \n",
       "\n",
       "         kurtosis      skew  \n",
       "C-Q1_1  -1.207856 -0.281733  \n",
       "C-Q1_2  -1.019608 -0.208164  \n",
       "C-Q1_3  -0.186411 -0.592577  \n",
       "C-Q1_4  -1.050678 -0.354459  \n",
       "C-Q1_5  -0.766893  0.499249  \n",
       "C-Q1_6  -0.942507 -0.040591  \n",
       "C-Q1_7  -0.782730 -0.658653  \n",
       "C-Q1_8  -0.107397 -0.954773  \n",
       "C-Q1_9  -0.554791  0.069733  \n",
       "C-Q1_10  2.793452 -1.682532  "
      ]
     },
     "execution_count": 147,
     "metadata": {},
     "output_type": "execute_result"
    }
   ],
   "source": [
    "df_describe(Daten[Daten[Liste_C_Q1]!=0],Liste_C_Q1)"
   ]
  },
  {
   "cell_type": "code",
   "execution_count": 148,
   "metadata": {},
   "outputs": [],
   "source": [
    "#df_describe(Daten[Daten[Liste_C_Q1]!=0],Liste_C_Q1).to_excel('D:\\Daten\\DISS\\Daten\\Deskriptiv_Lehrende_C1.xlsx')"
   ]
  },
  {
   "cell_type": "code",
   "execution_count": 149,
   "metadata": {},
   "outputs": [
    {
     "data": {
      "image/png": "[encoded data removed]",
      "text/plain": [
       "<Figure size 576x360 with 1 Axes>"
      ]
     },
     "metadata": {
      "needs_background": "light"
     },
     "output_type": "display_data"
    }
   ],
   "source": [
    "graf_likert(Daten[Daten[Liste_C_Q1] != 0],Liste_C_Q1,5)"
   ]
  },
  {
   "cell_type": "code",
   "execution_count": 150,
   "metadata": {},
   "outputs": [
    {
     "data": {
      "image/png": "[encoded data removed]",
      "text/plain": [
       "<Figure size 1152x864 with 10 Axes>"
      ]
     },
     "metadata": {
      "needs_background": "light"
     },
     "output_type": "display_data"
    }
   ],
   "source": [
    "graf_hist(Daten,Liste_C_Q1,16,12,3,4)"
   ]
  },
  {
   "cell_type": "markdown",
   "metadata": {},
   "source": [
    "Korrelation in C-Q1:"
   ]
  },
  {
   "cell_type": "code",
   "execution_count": 151,
   "metadata": {},
   "outputs": [
    {
     "data": {
      "text/html": [
       "<style  type=\"text/css\" >\n",
       "    #T_0197f180_e04c_11e9_bd74_b8763fd8451drow0_col0 {\n",
       "            background-color :  salmon;\n",
       "        }    #T_0197f180_e04c_11e9_bd74_b8763fd8451drow0_col1 {\n",
       "            background-color:  lightsalmon;\n",
       "        }    #T_0197f180_e04c_11e9_bd74_b8763fd8451drow0_col2 {\n",
       "            background-color:  lightsalmon;\n",
       "        }    #T_0197f180_e04c_11e9_bd74_b8763fd8451drow0_col3 {\n",
       "            background-color:  peachpuff;\n",
       "        }    #T_0197f180_e04c_11e9_bd74_b8763fd8451drow0_col4 {\n",
       "            background-color:  peachpuff;\n",
       "        }    #T_0197f180_e04c_11e9_bd74_b8763fd8451drow0_col5 {\n",
       "            background-color:  lightsalmon;\n",
       "        }    #T_0197f180_e04c_11e9_bd74_b8763fd8451drow0_col6 {\n",
       "            background-color:  lightsalmon;\n",
       "        }    #T_0197f180_e04c_11e9_bd74_b8763fd8451drow0_col7 {\n",
       "            background-color:  lightsalmon;\n",
       "        }    #T_0197f180_e04c_11e9_bd74_b8763fd8451drow0_col8 {\n",
       "            background-color:  peachpuff;\n",
       "        }    #T_0197f180_e04c_11e9_bd74_b8763fd8451drow0_col9 {\n",
       "            background-color:  peachpuff;\n",
       "        }    #T_0197f180_e04c_11e9_bd74_b8763fd8451drow1_col0 {\n",
       "            background-color:  lightsalmon;\n",
       "        }    #T_0197f180_e04c_11e9_bd74_b8763fd8451drow1_col1 {\n",
       "            background-color :  salmon;\n",
       "        }    #T_0197f180_e04c_11e9_bd74_b8763fd8451drow1_col2 {\n",
       "            background-color:  peachpuff;\n",
       "        }    #T_0197f180_e04c_11e9_bd74_b8763fd8451drow1_col3 {\n",
       "            background-color :  white;\n",
       "        }    #T_0197f180_e04c_11e9_bd74_b8763fd8451drow1_col4 {\n",
       "            background-color:  lightsalmon;\n",
       "        }    #T_0197f180_e04c_11e9_bd74_b8763fd8451drow1_col5 {\n",
       "            background-color:  peachpuff;\n",
       "        }    #T_0197f180_e04c_11e9_bd74_b8763fd8451drow1_col6 {\n",
       "            background-color:  peachpuff;\n",
       "        }    #T_0197f180_e04c_11e9_bd74_b8763fd8451drow1_col7 {\n",
       "            background-color:  peachpuff;\n",
       "        }    #T_0197f180_e04c_11e9_bd74_b8763fd8451drow1_col8 {\n",
       "            background-color:  peachpuff;\n",
       "        }    #T_0197f180_e04c_11e9_bd74_b8763fd8451drow1_col9 {\n",
       "            background-color:  peachpuff;\n",
       "        }    #T_0197f180_e04c_11e9_bd74_b8763fd8451drow2_col0 {\n",
       "            background-color:  lightsalmon;\n",
       "        }    #T_0197f180_e04c_11e9_bd74_b8763fd8451drow2_col1 {\n",
       "            background-color:  peachpuff;\n",
       "        }    #T_0197f180_e04c_11e9_bd74_b8763fd8451drow2_col2 {\n",
       "            background-color :  salmon;\n",
       "        }    #T_0197f180_e04c_11e9_bd74_b8763fd8451drow2_col3 {\n",
       "            background-color :  salmon;\n",
       "        }    #T_0197f180_e04c_11e9_bd74_b8763fd8451drow2_col4 {\n",
       "            background-color:  peachpuff;\n",
       "        }    #T_0197f180_e04c_11e9_bd74_b8763fd8451drow2_col5 {\n",
       "            background-color:  peachpuff;\n",
       "        }    #T_0197f180_e04c_11e9_bd74_b8763fd8451drow2_col6 {\n",
       "            background-color:  peachpuff;\n",
       "        }    #T_0197f180_e04c_11e9_bd74_b8763fd8451drow2_col7 {\n",
       "            background-color :  white;\n",
       "        }    #T_0197f180_e04c_11e9_bd74_b8763fd8451drow2_col8 {\n",
       "            background-color:  peachpuff;\n",
       "        }    #T_0197f180_e04c_11e9_bd74_b8763fd8451drow2_col9 {\n",
       "            background-color:  peachpuff;\n",
       "        }    #T_0197f180_e04c_11e9_bd74_b8763fd8451drow3_col0 {\n",
       "            background-color:  peachpuff;\n",
       "        }    #T_0197f180_e04c_11e9_bd74_b8763fd8451drow3_col1 {\n",
       "            background-color :  white;\n",
       "        }    #T_0197f180_e04c_11e9_bd74_b8763fd8451drow3_col2 {\n",
       "            background-color :  salmon;\n",
       "        }    #T_0197f180_e04c_11e9_bd74_b8763fd8451drow3_col3 {\n",
       "            background-color :  salmon;\n",
       "        }    #T_0197f180_e04c_11e9_bd74_b8763fd8451drow3_col4 {\n",
       "            background-color:  peachpuff;\n",
       "        }    #T_0197f180_e04c_11e9_bd74_b8763fd8451drow3_col5 {\n",
       "            background-color :  white;\n",
       "        }    #T_0197f180_e04c_11e9_bd74_b8763fd8451drow3_col6 {\n",
       "            background-color:  peachpuff;\n",
       "        }    #T_0197f180_e04c_11e9_bd74_b8763fd8451drow3_col7 {\n",
       "            background-color :  white;\n",
       "        }    #T_0197f180_e04c_11e9_bd74_b8763fd8451drow3_col8 {\n",
       "            background-color:  lightsalmon;\n",
       "        }    #T_0197f180_e04c_11e9_bd74_b8763fd8451drow3_col9 {\n",
       "            background-color:  peachpuff;\n",
       "        }    #T_0197f180_e04c_11e9_bd74_b8763fd8451drow4_col0 {\n",
       "            background-color:  peachpuff;\n",
       "        }    #T_0197f180_e04c_11e9_bd74_b8763fd8451drow4_col1 {\n",
       "            background-color:  lightsalmon;\n",
       "        }    #T_0197f180_e04c_11e9_bd74_b8763fd8451drow4_col2 {\n",
       "            background-color:  peachpuff;\n",
       "        }    #T_0197f180_e04c_11e9_bd74_b8763fd8451drow4_col3 {\n",
       "            background-color:  peachpuff;\n",
       "        }    #T_0197f180_e04c_11e9_bd74_b8763fd8451drow4_col4 {\n",
       "            background-color :  salmon;\n",
       "        }    #T_0197f180_e04c_11e9_bd74_b8763fd8451drow4_col5 {\n",
       "            background-color:  peachpuff;\n",
       "        }    #T_0197f180_e04c_11e9_bd74_b8763fd8451drow4_col6 {\n",
       "            background-color:  peachpuff;\n",
       "        }    #T_0197f180_e04c_11e9_bd74_b8763fd8451drow4_col7 {\n",
       "            background-color:  peachpuff;\n",
       "        }    #T_0197f180_e04c_11e9_bd74_b8763fd8451drow4_col8 {\n",
       "            background-color :  white;\n",
       "        }    #T_0197f180_e04c_11e9_bd74_b8763fd8451drow4_col9 {\n",
       "            background-color:  peachpuff;\n",
       "        }    #T_0197f180_e04c_11e9_bd74_b8763fd8451drow5_col0 {\n",
       "            background-color:  lightsalmon;\n",
       "        }    #T_0197f180_e04c_11e9_bd74_b8763fd8451drow5_col1 {\n",
       "            background-color:  peachpuff;\n",
       "        }    #T_0197f180_e04c_11e9_bd74_b8763fd8451drow5_col2 {\n",
       "            background-color:  peachpuff;\n",
       "        }    #T_0197f180_e04c_11e9_bd74_b8763fd8451drow5_col3 {\n",
       "            background-color :  white;\n",
       "        }    #T_0197f180_e04c_11e9_bd74_b8763fd8451drow5_col4 {\n",
       "            background-color:  peachpuff;\n",
       "        }    #T_0197f180_e04c_11e9_bd74_b8763fd8451drow5_col5 {\n",
       "            background-color :  salmon;\n",
       "        }    #T_0197f180_e04c_11e9_bd74_b8763fd8451drow5_col6 {\n",
       "            background-color:  peachpuff;\n",
       "        }    #T_0197f180_e04c_11e9_bd74_b8763fd8451drow5_col7 {\n",
       "            background-color:  peachpuff;\n",
       "        }    #T_0197f180_e04c_11e9_bd74_b8763fd8451drow5_col8 {\n",
       "            background-color :  white;\n",
       "        }    #T_0197f180_e04c_11e9_bd74_b8763fd8451drow5_col9 {\n",
       "            background-color:  peachpuff;\n",
       "        }    #T_0197f180_e04c_11e9_bd74_b8763fd8451drow6_col0 {\n",
       "            background-color:  lightsalmon;\n",
       "        }    #T_0197f180_e04c_11e9_bd74_b8763fd8451drow6_col1 {\n",
       "            background-color:  peachpuff;\n",
       "        }    #T_0197f180_e04c_11e9_bd74_b8763fd8451drow6_col2 {\n",
       "            background-color:  peachpuff;\n",
       "        }    #T_0197f180_e04c_11e9_bd74_b8763fd8451drow6_col3 {\n",
       "            background-color:  peachpuff;\n",
       "        }    #T_0197f180_e04c_11e9_bd74_b8763fd8451drow6_col4 {\n",
       "            background-color:  peachpuff;\n",
       "        }    #T_0197f180_e04c_11e9_bd74_b8763fd8451drow6_col5 {\n",
       "            background-color:  peachpuff;\n",
       "        }    #T_0197f180_e04c_11e9_bd74_b8763fd8451drow6_col6 {\n",
       "            background-color :  salmon;\n",
       "        }    #T_0197f180_e04c_11e9_bd74_b8763fd8451drow6_col7 {\n",
       "            background-color:  lightsalmon;\n",
       "        }    #T_0197f180_e04c_11e9_bd74_b8763fd8451drow6_col8 {\n",
       "            background-color :  white;\n",
       "        }    #T_0197f180_e04c_11e9_bd74_b8763fd8451drow6_col9 {\n",
       "            background-color:  lightsalmon;\n",
       "        }    #T_0197f180_e04c_11e9_bd74_b8763fd8451drow7_col0 {\n",
       "            background-color:  lightsalmon;\n",
       "        }    #T_0197f180_e04c_11e9_bd74_b8763fd8451drow7_col1 {\n",
       "            background-color:  peachpuff;\n",
       "        }    #T_0197f180_e04c_11e9_bd74_b8763fd8451drow7_col2 {\n",
       "            background-color :  white;\n",
       "        }    #T_0197f180_e04c_11e9_bd74_b8763fd8451drow7_col3 {\n",
       "            background-color :  white;\n",
       "        }    #T_0197f180_e04c_11e9_bd74_b8763fd8451drow7_col4 {\n",
       "            background-color:  peachpuff;\n",
       "        }    #T_0197f180_e04c_11e9_bd74_b8763fd8451drow7_col5 {\n",
       "            background-color:  peachpuff;\n",
       "        }    #T_0197f180_e04c_11e9_bd74_b8763fd8451drow7_col6 {\n",
       "            background-color:  lightsalmon;\n",
       "        }    #T_0197f180_e04c_11e9_bd74_b8763fd8451drow7_col7 {\n",
       "            background-color :  salmon;\n",
       "        }    #T_0197f180_e04c_11e9_bd74_b8763fd8451drow7_col8 {\n",
       "            background-color :  white;\n",
       "        }    #T_0197f180_e04c_11e9_bd74_b8763fd8451drow7_col9 {\n",
       "            background-color:  lightsalmon;\n",
       "        }    #T_0197f180_e04c_11e9_bd74_b8763fd8451drow8_col0 {\n",
       "            background-color:  peachpuff;\n",
       "        }    #T_0197f180_e04c_11e9_bd74_b8763fd8451drow8_col1 {\n",
       "            background-color:  peachpuff;\n",
       "        }    #T_0197f180_e04c_11e9_bd74_b8763fd8451drow8_col2 {\n",
       "            background-color:  peachpuff;\n",
       "        }    #T_0197f180_e04c_11e9_bd74_b8763fd8451drow8_col3 {\n",
       "            background-color:  lightsalmon;\n",
       "        }    #T_0197f180_e04c_11e9_bd74_b8763fd8451drow8_col4 {\n",
       "            background-color :  white;\n",
       "        }    #T_0197f180_e04c_11e9_bd74_b8763fd8451drow8_col5 {\n",
       "            background-color :  white;\n",
       "        }    #T_0197f180_e04c_11e9_bd74_b8763fd8451drow8_col6 {\n",
       "            background-color :  white;\n",
       "        }    #T_0197f180_e04c_11e9_bd74_b8763fd8451drow8_col7 {\n",
       "            background-color :  white;\n",
       "        }    #T_0197f180_e04c_11e9_bd74_b8763fd8451drow8_col8 {\n",
       "            background-color :  salmon;\n",
       "        }    #T_0197f180_e04c_11e9_bd74_b8763fd8451drow8_col9 {\n",
       "            background-color:  peachpuff;\n",
       "        }    #T_0197f180_e04c_11e9_bd74_b8763fd8451drow9_col0 {\n",
       "            background-color:  peachpuff;\n",
       "        }    #T_0197f180_e04c_11e9_bd74_b8763fd8451drow9_col1 {\n",
       "            background-color:  peachpuff;\n",
       "        }    #T_0197f180_e04c_11e9_bd74_b8763fd8451drow9_col2 {\n",
       "            background-color:  peachpuff;\n",
       "        }    #T_0197f180_e04c_11e9_bd74_b8763fd8451drow9_col3 {\n",
       "            background-color:  peachpuff;\n",
       "        }    #T_0197f180_e04c_11e9_bd74_b8763fd8451drow9_col4 {\n",
       "            background-color:  peachpuff;\n",
       "        }    #T_0197f180_e04c_11e9_bd74_b8763fd8451drow9_col5 {\n",
       "            background-color:  peachpuff;\n",
       "        }    #T_0197f180_e04c_11e9_bd74_b8763fd8451drow9_col6 {\n",
       "            background-color:  lightsalmon;\n",
       "        }    #T_0197f180_e04c_11e9_bd74_b8763fd8451drow9_col7 {\n",
       "            background-color:  lightsalmon;\n",
       "        }    #T_0197f180_e04c_11e9_bd74_b8763fd8451drow9_col8 {\n",
       "            background-color:  peachpuff;\n",
       "        }    #T_0197f180_e04c_11e9_bd74_b8763fd8451drow9_col9 {\n",
       "            background-color :  salmon;\n",
       "        }</style><table id=\"T_0197f180_e04c_11e9_bd74_b8763fd8451d\" ><thead>    <tr>        <th class=\"blank level0\" ></th>        <th class=\"col_heading level0 col0\" >C-Q1_1</th>        <th class=\"col_heading level0 col1\" >C-Q1_2</th>        <th class=\"col_heading level0 col2\" >C-Q1_3</th>        <th class=\"col_heading level0 col3\" >C-Q1_4</th>        <th class=\"col_heading level0 col4\" >C-Q1_5</th>        <th class=\"col_heading level0 col5\" >C-Q1_6</th>        <th class=\"col_heading level0 col6\" >C-Q1_7</th>        <th class=\"col_heading level0 col7\" >C-Q1_8</th>        <th class=\"col_heading level0 col8\" >C-Q1_9</th>        <th class=\"col_heading level0 col9\" >C-Q1_10</th>    </tr></thead><tbody>\n",
       "                <tr>\n",
       "                        <th id=\"T_0197f180_e04c_11e9_bd74_b8763fd8451dlevel0_row0\" class=\"row_heading level0 row0\" >C-Q1_1</th>\n",
       "                        <td id=\"T_0197f180_e04c_11e9_bd74_b8763fd8451drow0_col0\" class=\"data row0 col0\" >1</td>\n",
       "                        <td id=\"T_0197f180_e04c_11e9_bd74_b8763fd8451drow0_col1\" class=\"data row0 col1\" >0.404433</td>\n",
       "                        <td id=\"T_0197f180_e04c_11e9_bd74_b8763fd8451drow0_col2\" class=\"data row0 col2\" >0.378014</td>\n",
       "                        <td id=\"T_0197f180_e04c_11e9_bd74_b8763fd8451drow0_col3\" class=\"data row0 col3\" >0.228963</td>\n",
       "                        <td id=\"T_0197f180_e04c_11e9_bd74_b8763fd8451drow0_col4\" class=\"data row0 col4\" >-0.190894</td>\n",
       "                        <td id=\"T_0197f180_e04c_11e9_bd74_b8763fd8451drow0_col5\" class=\"data row0 col5\" >0.481527</td>\n",
       "                        <td id=\"T_0197f180_e04c_11e9_bd74_b8763fd8451drow0_col6\" class=\"data row0 col6\" >0.358985</td>\n",
       "                        <td id=\"T_0197f180_e04c_11e9_bd74_b8763fd8451drow0_col7\" class=\"data row0 col7\" >0.372429</td>\n",
       "                        <td id=\"T_0197f180_e04c_11e9_bd74_b8763fd8451drow0_col8\" class=\"data row0 col8\" >0.101855</td>\n",
       "                        <td id=\"T_0197f180_e04c_11e9_bd74_b8763fd8451drow0_col9\" class=\"data row0 col9\" >0.227072</td>\n",
       "            </tr>\n",
       "            <tr>\n",
       "                        <th id=\"T_0197f180_e04c_11e9_bd74_b8763fd8451dlevel0_row1\" class=\"row_heading level0 row1\" >C-Q1_2</th>\n",
       "                        <td id=\"T_0197f180_e04c_11e9_bd74_b8763fd8451drow1_col0\" class=\"data row1 col0\" >0.404433</td>\n",
       "                        <td id=\"T_0197f180_e04c_11e9_bd74_b8763fd8451drow1_col1\" class=\"data row1 col1\" >1</td>\n",
       "                        <td id=\"T_0197f180_e04c_11e9_bd74_b8763fd8451drow1_col2\" class=\"data row1 col2\" >0.220457</td>\n",
       "                        <td id=\"T_0197f180_e04c_11e9_bd74_b8763fd8451drow1_col3\" class=\"data row1 col3\" >0.0113386</td>\n",
       "                        <td id=\"T_0197f180_e04c_11e9_bd74_b8763fd8451drow1_col4\" class=\"data row1 col4\" >-0.384396</td>\n",
       "                        <td id=\"T_0197f180_e04c_11e9_bd74_b8763fd8451drow1_col5\" class=\"data row1 col5\" >0.210657</td>\n",
       "                        <td id=\"T_0197f180_e04c_11e9_bd74_b8763fd8451drow1_col6\" class=\"data row1 col6\" >0.245628</td>\n",
       "                        <td id=\"T_0197f180_e04c_11e9_bd74_b8763fd8451drow1_col7\" class=\"data row1 col7\" >0.117595</td>\n",
       "                        <td id=\"T_0197f180_e04c_11e9_bd74_b8763fd8451drow1_col8\" class=\"data row1 col8\" >-0.140895</td>\n",
       "                        <td id=\"T_0197f180_e04c_11e9_bd74_b8763fd8451drow1_col9\" class=\"data row1 col9\" >0.105084</td>\n",
       "            </tr>\n",
       "            <tr>\n",
       "                        <th id=\"T_0197f180_e04c_11e9_bd74_b8763fd8451dlevel0_row2\" class=\"row_heading level0 row2\" >C-Q1_3</th>\n",
       "                        <td id=\"T_0197f180_e04c_11e9_bd74_b8763fd8451drow2_col0\" class=\"data row2 col0\" >0.378014</td>\n",
       "                        <td id=\"T_0197f180_e04c_11e9_bd74_b8763fd8451drow2_col1\" class=\"data row2 col1\" >0.220457</td>\n",
       "                        <td id=\"T_0197f180_e04c_11e9_bd74_b8763fd8451drow2_col2\" class=\"data row2 col2\" >1</td>\n",
       "                        <td id=\"T_0197f180_e04c_11e9_bd74_b8763fd8451drow2_col3\" class=\"data row2 col3\" >0.705619</td>\n",
       "                        <td id=\"T_0197f180_e04c_11e9_bd74_b8763fd8451drow2_col4\" class=\"data row2 col4\" >-0.217321</td>\n",
       "                        <td id=\"T_0197f180_e04c_11e9_bd74_b8763fd8451drow2_col5\" class=\"data row2 col5\" >0.218281</td>\n",
       "                        <td id=\"T_0197f180_e04c_11e9_bd74_b8763fd8451drow2_col6\" class=\"data row2 col6\" >0.25107</td>\n",
       "                        <td id=\"T_0197f180_e04c_11e9_bd74_b8763fd8451drow2_col7\" class=\"data row2 col7\" >0.0857023</td>\n",
       "                        <td id=\"T_0197f180_e04c_11e9_bd74_b8763fd8451drow2_col8\" class=\"data row2 col8\" >0.137421</td>\n",
       "                        <td id=\"T_0197f180_e04c_11e9_bd74_b8763fd8451drow2_col9\" class=\"data row2 col9\" >0.247122</td>\n",
       "            </tr>\n",
       "            <tr>\n",
       "                        <th id=\"T_0197f180_e04c_11e9_bd74_b8763fd8451dlevel0_row3\" class=\"row_heading level0 row3\" >C-Q1_4</th>\n",
       "                        <td id=\"T_0197f180_e04c_11e9_bd74_b8763fd8451drow3_col0\" class=\"data row3 col0\" >0.228963</td>\n",
       "                        <td id=\"T_0197f180_e04c_11e9_bd74_b8763fd8451drow3_col1\" class=\"data row3 col1\" >0.0113386</td>\n",
       "                        <td id=\"T_0197f180_e04c_11e9_bd74_b8763fd8451drow3_col2\" class=\"data row3 col2\" >0.705619</td>\n",
       "                        <td id=\"T_0197f180_e04c_11e9_bd74_b8763fd8451drow3_col3\" class=\"data row3 col3\" >1</td>\n",
       "                        <td id=\"T_0197f180_e04c_11e9_bd74_b8763fd8451drow3_col4\" class=\"data row3 col4\" >-0.222977</td>\n",
       "                        <td id=\"T_0197f180_e04c_11e9_bd74_b8763fd8451drow3_col5\" class=\"data row3 col5\" >0.0884984</td>\n",
       "                        <td id=\"T_0197f180_e04c_11e9_bd74_b8763fd8451drow3_col6\" class=\"data row3 col6\" >0.243208</td>\n",
       "                        <td id=\"T_0197f180_e04c_11e9_bd74_b8763fd8451drow3_col7\" class=\"data row3 col7\" >-0.0766385</td>\n",
       "                        <td id=\"T_0197f180_e04c_11e9_bd74_b8763fd8451drow3_col8\" class=\"data row3 col8\" >0.300828</td>\n",
       "                        <td id=\"T_0197f180_e04c_11e9_bd74_b8763fd8451drow3_col9\" class=\"data row3 col9\" >0.229262</td>\n",
       "            </tr>\n",
       "            <tr>\n",
       "                        <th id=\"T_0197f180_e04c_11e9_bd74_b8763fd8451dlevel0_row4\" class=\"row_heading level0 row4\" >C-Q1_5</th>\n",
       "                        <td id=\"T_0197f180_e04c_11e9_bd74_b8763fd8451drow4_col0\" class=\"data row4 col0\" >-0.190894</td>\n",
       "                        <td id=\"T_0197f180_e04c_11e9_bd74_b8763fd8451drow4_col1\" class=\"data row4 col1\" >-0.384396</td>\n",
       "                        <td id=\"T_0197f180_e04c_11e9_bd74_b8763fd8451drow4_col2\" class=\"data row4 col2\" >-0.217321</td>\n",
       "                        <td id=\"T_0197f180_e04c_11e9_bd74_b8763fd8451drow4_col3\" class=\"data row4 col3\" >-0.222977</td>\n",
       "                        <td id=\"T_0197f180_e04c_11e9_bd74_b8763fd8451drow4_col4\" class=\"data row4 col4\" >1</td>\n",
       "                        <td id=\"T_0197f180_e04c_11e9_bd74_b8763fd8451drow4_col5\" class=\"data row4 col5\" >-0.171248</td>\n",
       "                        <td id=\"T_0197f180_e04c_11e9_bd74_b8763fd8451drow4_col6\" class=\"data row4 col6\" >-0.113642</td>\n",
       "                        <td id=\"T_0197f180_e04c_11e9_bd74_b8763fd8451drow4_col7\" class=\"data row4 col7\" >-0.147711</td>\n",
       "                        <td id=\"T_0197f180_e04c_11e9_bd74_b8763fd8451drow4_col8\" class=\"data row4 col8\" >-0.0389071</td>\n",
       "                        <td id=\"T_0197f180_e04c_11e9_bd74_b8763fd8451drow4_col9\" class=\"data row4 col9\" >-0.123099</td>\n",
       "            </tr>\n",
       "            <tr>\n",
       "                        <th id=\"T_0197f180_e04c_11e9_bd74_b8763fd8451dlevel0_row5\" class=\"row_heading level0 row5\" >C-Q1_6</th>\n",
       "                        <td id=\"T_0197f180_e04c_11e9_bd74_b8763fd8451drow5_col0\" class=\"data row5 col0\" >0.481527</td>\n",
       "                        <td id=\"T_0197f180_e04c_11e9_bd74_b8763fd8451drow5_col1\" class=\"data row5 col1\" >0.210657</td>\n",
       "                        <td id=\"T_0197f180_e04c_11e9_bd74_b8763fd8451drow5_col2\" class=\"data row5 col2\" >0.218281</td>\n",
       "                        <td id=\"T_0197f180_e04c_11e9_bd74_b8763fd8451drow5_col3\" class=\"data row5 col3\" >0.0884984</td>\n",
       "                        <td id=\"T_0197f180_e04c_11e9_bd74_b8763fd8451drow5_col4\" class=\"data row5 col4\" >-0.171248</td>\n",
       "                        <td id=\"T_0197f180_e04c_11e9_bd74_b8763fd8451drow5_col5\" class=\"data row5 col5\" >1</td>\n",
       "                        <td id=\"T_0197f180_e04c_11e9_bd74_b8763fd8451drow5_col6\" class=\"data row5 col6\" >0.242663</td>\n",
       "                        <td id=\"T_0197f180_e04c_11e9_bd74_b8763fd8451drow5_col7\" class=\"data row5 col7\" >0.198931</td>\n",
       "                        <td id=\"T_0197f180_e04c_11e9_bd74_b8763fd8451drow5_col8\" class=\"data row5 col8\" >0.0232935</td>\n",
       "                        <td id=\"T_0197f180_e04c_11e9_bd74_b8763fd8451drow5_col9\" class=\"data row5 col9\" >0.153399</td>\n",
       "            </tr>\n",
       "            <tr>\n",
       "                        <th id=\"T_0197f180_e04c_11e9_bd74_b8763fd8451dlevel0_row6\" class=\"row_heading level0 row6\" >C-Q1_7</th>\n",
       "                        <td id=\"T_0197f180_e04c_11e9_bd74_b8763fd8451drow6_col0\" class=\"data row6 col0\" >0.358985</td>\n",
       "                        <td id=\"T_0197f180_e04c_11e9_bd74_b8763fd8451drow6_col1\" class=\"data row6 col1\" >0.245628</td>\n",
       "                        <td id=\"T_0197f180_e04c_11e9_bd74_b8763fd8451drow6_col2\" class=\"data row6 col2\" >0.25107</td>\n",
       "                        <td id=\"T_0197f180_e04c_11e9_bd74_b8763fd8451drow6_col3\" class=\"data row6 col3\" >0.243208</td>\n",
       "                        <td id=\"T_0197f180_e04c_11e9_bd74_b8763fd8451drow6_col4\" class=\"data row6 col4\" >-0.113642</td>\n",
       "                        <td id=\"T_0197f180_e04c_11e9_bd74_b8763fd8451drow6_col5\" class=\"data row6 col5\" >0.242663</td>\n",
       "                        <td id=\"T_0197f180_e04c_11e9_bd74_b8763fd8451drow6_col6\" class=\"data row6 col6\" >1</td>\n",
       "                        <td id=\"T_0197f180_e04c_11e9_bd74_b8763fd8451drow6_col7\" class=\"data row6 col7\" >0.421744</td>\n",
       "                        <td id=\"T_0197f180_e04c_11e9_bd74_b8763fd8451drow6_col8\" class=\"data row6 col8\" >-0.0160373</td>\n",
       "                        <td id=\"T_0197f180_e04c_11e9_bd74_b8763fd8451drow6_col9\" class=\"data row6 col9\" >0.465908</td>\n",
       "            </tr>\n",
       "            <tr>\n",
       "                        <th id=\"T_0197f180_e04c_11e9_bd74_b8763fd8451dlevel0_row7\" class=\"row_heading level0 row7\" >C-Q1_8</th>\n",
       "                        <td id=\"T_0197f180_e04c_11e9_bd74_b8763fd8451drow7_col0\" class=\"data row7 col0\" >0.372429</td>\n",
       "                        <td id=\"T_0197f180_e04c_11e9_bd74_b8763fd8451drow7_col1\" class=\"data row7 col1\" >0.117595</td>\n",
       "                        <td id=\"T_0197f180_e04c_11e9_bd74_b8763fd8451drow7_col2\" class=\"data row7 col2\" >0.0857023</td>\n",
       "                        <td id=\"T_0197f180_e04c_11e9_bd74_b8763fd8451drow7_col3\" class=\"data row7 col3\" >-0.0766385</td>\n",
       "                        <td id=\"T_0197f180_e04c_11e9_bd74_b8763fd8451drow7_col4\" class=\"data row7 col4\" >-0.147711</td>\n",
       "                        <td id=\"T_0197f180_e04c_11e9_bd74_b8763fd8451drow7_col5\" class=\"data row7 col5\" >0.198931</td>\n",
       "                        <td id=\"T_0197f180_e04c_11e9_bd74_b8763fd8451drow7_col6\" class=\"data row7 col6\" >0.421744</td>\n",
       "                        <td id=\"T_0197f180_e04c_11e9_bd74_b8763fd8451drow7_col7\" class=\"data row7 col7\" >1</td>\n",
       "                        <td id=\"T_0197f180_e04c_11e9_bd74_b8763fd8451drow7_col8\" class=\"data row7 col8\" >-0.0768791</td>\n",
       "                        <td id=\"T_0197f180_e04c_11e9_bd74_b8763fd8451drow7_col9\" class=\"data row7 col9\" >0.469086</td>\n",
       "            </tr>\n",
       "            <tr>\n",
       "                        <th id=\"T_0197f180_e04c_11e9_bd74_b8763fd8451dlevel0_row8\" class=\"row_heading level0 row8\" >C-Q1_9</th>\n",
       "                        <td id=\"T_0197f180_e04c_11e9_bd74_b8763fd8451drow8_col0\" class=\"data row8 col0\" >0.101855</td>\n",
       "                        <td id=\"T_0197f180_e04c_11e9_bd74_b8763fd8451drow8_col1\" class=\"data row8 col1\" >-0.140895</td>\n",
       "                        <td id=\"T_0197f180_e04c_11e9_bd74_b8763fd8451drow8_col2\" class=\"data row8 col2\" >0.137421</td>\n",
       "                        <td id=\"T_0197f180_e04c_11e9_bd74_b8763fd8451drow8_col3\" class=\"data row8 col3\" >0.300828</td>\n",
       "                        <td id=\"T_0197f180_e04c_11e9_bd74_b8763fd8451drow8_col4\" class=\"data row8 col4\" >-0.0389071</td>\n",
       "                        <td id=\"T_0197f180_e04c_11e9_bd74_b8763fd8451drow8_col5\" class=\"data row8 col5\" >0.0232935</td>\n",
       "                        <td id=\"T_0197f180_e04c_11e9_bd74_b8763fd8451drow8_col6\" class=\"data row8 col6\" >-0.0160373</td>\n",
       "                        <td id=\"T_0197f180_e04c_11e9_bd74_b8763fd8451drow8_col7\" class=\"data row8 col7\" >-0.0768791</td>\n",
       "                        <td id=\"T_0197f180_e04c_11e9_bd74_b8763fd8451drow8_col8\" class=\"data row8 col8\" >1</td>\n",
       "                        <td id=\"T_0197f180_e04c_11e9_bd74_b8763fd8451drow8_col9\" class=\"data row8 col9\" >-0.152804</td>\n",
       "            </tr>\n",
       "            <tr>\n",
       "                        <th id=\"T_0197f180_e04c_11e9_bd74_b8763fd8451dlevel0_row9\" class=\"row_heading level0 row9\" >C-Q1_10</th>\n",
       "                        <td id=\"T_0197f180_e04c_11e9_bd74_b8763fd8451drow9_col0\" class=\"data row9 col0\" >0.227072</td>\n",
       "                        <td id=\"T_0197f180_e04c_11e9_bd74_b8763fd8451drow9_col1\" class=\"data row9 col1\" >0.105084</td>\n",
       "                        <td id=\"T_0197f180_e04c_11e9_bd74_b8763fd8451drow9_col2\" class=\"data row9 col2\" >0.247122</td>\n",
       "                        <td id=\"T_0197f180_e04c_11e9_bd74_b8763fd8451drow9_col3\" class=\"data row9 col3\" >0.229262</td>\n",
       "                        <td id=\"T_0197f180_e04c_11e9_bd74_b8763fd8451drow9_col4\" class=\"data row9 col4\" >-0.123099</td>\n",
       "                        <td id=\"T_0197f180_e04c_11e9_bd74_b8763fd8451drow9_col5\" class=\"data row9 col5\" >0.153399</td>\n",
       "                        <td id=\"T_0197f180_e04c_11e9_bd74_b8763fd8451drow9_col6\" class=\"data row9 col6\" >0.465908</td>\n",
       "                        <td id=\"T_0197f180_e04c_11e9_bd74_b8763fd8451drow9_col7\" class=\"data row9 col7\" >0.469086</td>\n",
       "                        <td id=\"T_0197f180_e04c_11e9_bd74_b8763fd8451drow9_col8\" class=\"data row9 col8\" >-0.152804</td>\n",
       "                        <td id=\"T_0197f180_e04c_11e9_bd74_b8763fd8451drow9_col9\" class=\"data row9 col9\" >1</td>\n",
       "            </tr>\n",
       "    </tbody></table>"
      ],
      "text/plain": [
       "<pandas.io.formats.style.Styler at 0xc866be0>"
      ]
     },
     "execution_count": 151,
     "metadata": {},
     "output_type": "execute_result"
    }
   ],
   "source": [
    "df_spearman(Daten[Daten[Liste_C_Q1] != 0],Liste_C_Q1)"
   ]
  },
  {
   "cell_type": "code",
   "execution_count": 152,
   "metadata": {},
   "outputs": [
    {
     "data": {
      "text/html": [
       "<style  type=\"text/css\" >\n",
       "    #T_01b1e282_e04c_11e9_be38_b8763fd8451drow0_col0 {\n",
       "            background-color :  salmon;\n",
       "        }    #T_01b1e282_e04c_11e9_be38_b8763fd8451drow0_col1 {\n",
       "            background-color :  salmon;\n",
       "        }    #T_01b1e282_e04c_11e9_be38_b8763fd8451drow0_col2 {\n",
       "            background-color:  lightsalmon;\n",
       "        }    #T_01b1e282_e04c_11e9_be38_b8763fd8451drow0_col3 {\n",
       "            background-color :  white;\n",
       "        }    #T_01b1e282_e04c_11e9_be38_b8763fd8451drow0_col4 {\n",
       "            background-color :  white;\n",
       "        }    #T_01b1e282_e04c_11e9_be38_b8763fd8451drow0_col5 {\n",
       "            background-color :  salmon;\n",
       "        }    #T_01b1e282_e04c_11e9_be38_b8763fd8451drow0_col6 {\n",
       "            background-color :  salmon;\n",
       "        }    #T_01b1e282_e04c_11e9_be38_b8763fd8451drow0_col7 {\n",
       "            background-color:  lightsalmon;\n",
       "        }    #T_01b1e282_e04c_11e9_be38_b8763fd8451drow0_col8 {\n",
       "            background-color :  white;\n",
       "        }    #T_01b1e282_e04c_11e9_be38_b8763fd8451drow0_col9 {\n",
       "            background-color :  white;\n",
       "        }    #T_01b1e282_e04c_11e9_be38_b8763fd8451drow1_col0 {\n",
       "            background-color :  salmon;\n",
       "        }    #T_01b1e282_e04c_11e9_be38_b8763fd8451drow1_col1 {\n",
       "            background-color :  salmon;\n",
       "        }    #T_01b1e282_e04c_11e9_be38_b8763fd8451drow1_col2 {\n",
       "            background-color :  white;\n",
       "        }    #T_01b1e282_e04c_11e9_be38_b8763fd8451drow1_col3 {\n",
       "            background-color :  white;\n",
       "        }    #T_01b1e282_e04c_11e9_be38_b8763fd8451drow1_col4 {\n",
       "            background-color :  salmon;\n",
       "        }    #T_01b1e282_e04c_11e9_be38_b8763fd8451drow1_col5 {\n",
       "            background-color :  white;\n",
       "        }    #T_01b1e282_e04c_11e9_be38_b8763fd8451drow1_col6 {\n",
       "            background-color :  white;\n",
       "        }    #T_01b1e282_e04c_11e9_be38_b8763fd8451drow1_col7 {\n",
       "            background-color :  white;\n",
       "        }    #T_01b1e282_e04c_11e9_be38_b8763fd8451drow1_col8 {\n",
       "            background-color :  white;\n",
       "        }    #T_01b1e282_e04c_11e9_be38_b8763fd8451drow1_col9 {\n",
       "            background-color :  white;\n",
       "        }    #T_01b1e282_e04c_11e9_be38_b8763fd8451drow2_col0 {\n",
       "            background-color:  lightsalmon;\n",
       "        }    #T_01b1e282_e04c_11e9_be38_b8763fd8451drow2_col1 {\n",
       "            background-color :  white;\n",
       "        }    #T_01b1e282_e04c_11e9_be38_b8763fd8451drow2_col2 {\n",
       "            background-color :  salmon;\n",
       "        }    #T_01b1e282_e04c_11e9_be38_b8763fd8451drow2_col3 {\n",
       "            background-color :  salmon;\n",
       "        }    #T_01b1e282_e04c_11e9_be38_b8763fd8451drow2_col4 {\n",
       "            background-color :  white;\n",
       "        }    #T_01b1e282_e04c_11e9_be38_b8763fd8451drow2_col5 {\n",
       "            background-color :  white;\n",
       "        }    #T_01b1e282_e04c_11e9_be38_b8763fd8451drow2_col6 {\n",
       "            background-color :  white;\n",
       "        }    #T_01b1e282_e04c_11e9_be38_b8763fd8451drow2_col7 {\n",
       "            background-color :  white;\n",
       "        }    #T_01b1e282_e04c_11e9_be38_b8763fd8451drow2_col8 {\n",
       "            background-color :  white;\n",
       "        }    #T_01b1e282_e04c_11e9_be38_b8763fd8451drow2_col9 {\n",
       "            background-color :  white;\n",
       "        }    #T_01b1e282_e04c_11e9_be38_b8763fd8451drow3_col0 {\n",
       "            background-color :  white;\n",
       "        }    #T_01b1e282_e04c_11e9_be38_b8763fd8451drow3_col1 {\n",
       "            background-color :  white;\n",
       "        }    #T_01b1e282_e04c_11e9_be38_b8763fd8451drow3_col2 {\n",
       "            background-color :  salmon;\n",
       "        }    #T_01b1e282_e04c_11e9_be38_b8763fd8451drow3_col3 {\n",
       "            background-color :  salmon;\n",
       "        }    #T_01b1e282_e04c_11e9_be38_b8763fd8451drow3_col4 {\n",
       "            background-color :  white;\n",
       "        }    #T_01b1e282_e04c_11e9_be38_b8763fd8451drow3_col5 {\n",
       "            background-color :  white;\n",
       "        }    #T_01b1e282_e04c_11e9_be38_b8763fd8451drow3_col6 {\n",
       "            background-color :  white;\n",
       "        }    #T_01b1e282_e04c_11e9_be38_b8763fd8451drow3_col7 {\n",
       "            background-color :  white;\n",
       "        }    #T_01b1e282_e04c_11e9_be38_b8763fd8451drow3_col8 {\n",
       "            background-color:  lightsalmon;\n",
       "        }    #T_01b1e282_e04c_11e9_be38_b8763fd8451drow3_col9 {\n",
       "            background-color :  white;\n",
       "        }    #T_01b1e282_e04c_11e9_be38_b8763fd8451drow4_col0 {\n",
       "            background-color :  white;\n",
       "        }    #T_01b1e282_e04c_11e9_be38_b8763fd8451drow4_col1 {\n",
       "            background-color :  salmon;\n",
       "        }    #T_01b1e282_e04c_11e9_be38_b8763fd8451drow4_col2 {\n",
       "            background-color :  white;\n",
       "        }    #T_01b1e282_e04c_11e9_be38_b8763fd8451drow4_col3 {\n",
       "            background-color :  white;\n",
       "        }    #T_01b1e282_e04c_11e9_be38_b8763fd8451drow4_col4 {\n",
       "            background-color :  salmon;\n",
       "        }    #T_01b1e282_e04c_11e9_be38_b8763fd8451drow4_col5 {\n",
       "            background-color :  white;\n",
       "        }    #T_01b1e282_e04c_11e9_be38_b8763fd8451drow4_col6 {\n",
       "            background-color :  white;\n",
       "        }    #T_01b1e282_e04c_11e9_be38_b8763fd8451drow4_col7 {\n",
       "            background-color :  white;\n",
       "        }    #T_01b1e282_e04c_11e9_be38_b8763fd8451drow4_col8 {\n",
       "            background-color :  white;\n",
       "        }    #T_01b1e282_e04c_11e9_be38_b8763fd8451drow4_col9 {\n",
       "            background-color :  white;\n",
       "        }    #T_01b1e282_e04c_11e9_be38_b8763fd8451drow5_col0 {\n",
       "            background-color :  salmon;\n",
       "        }    #T_01b1e282_e04c_11e9_be38_b8763fd8451drow5_col1 {\n",
       "            background-color :  white;\n",
       "        }    #T_01b1e282_e04c_11e9_be38_b8763fd8451drow5_col2 {\n",
       "            background-color :  white;\n",
       "        }    #T_01b1e282_e04c_11e9_be38_b8763fd8451drow5_col3 {\n",
       "            background-color :  white;\n",
       "        }    #T_01b1e282_e04c_11e9_be38_b8763fd8451drow5_col4 {\n",
       "            background-color :  white;\n",
       "        }    #T_01b1e282_e04c_11e9_be38_b8763fd8451drow5_col5 {\n",
       "            background-color :  salmon;\n",
       "        }    #T_01b1e282_e04c_11e9_be38_b8763fd8451drow5_col6 {\n",
       "            background-color :  white;\n",
       "        }    #T_01b1e282_e04c_11e9_be38_b8763fd8451drow5_col7 {\n",
       "            background-color :  white;\n",
       "        }    #T_01b1e282_e04c_11e9_be38_b8763fd8451drow5_col8 {\n",
       "            background-color :  white;\n",
       "        }    #T_01b1e282_e04c_11e9_be38_b8763fd8451drow5_col9 {\n",
       "            background-color :  white;\n",
       "        }    #T_01b1e282_e04c_11e9_be38_b8763fd8451drow6_col0 {\n",
       "            background-color :  salmon;\n",
       "        }    #T_01b1e282_e04c_11e9_be38_b8763fd8451drow6_col1 {\n",
       "            background-color :  white;\n",
       "        }    #T_01b1e282_e04c_11e9_be38_b8763fd8451drow6_col2 {\n",
       "            background-color :  white;\n",
       "        }    #T_01b1e282_e04c_11e9_be38_b8763fd8451drow6_col3 {\n",
       "            background-color :  white;\n",
       "        }    #T_01b1e282_e04c_11e9_be38_b8763fd8451drow6_col4 {\n",
       "            background-color :  white;\n",
       "        }    #T_01b1e282_e04c_11e9_be38_b8763fd8451drow6_col5 {\n",
       "            background-color :  white;\n",
       "        }    #T_01b1e282_e04c_11e9_be38_b8763fd8451drow6_col6 {\n",
       "            background-color :  salmon;\n",
       "        }    #T_01b1e282_e04c_11e9_be38_b8763fd8451drow6_col7 {\n",
       "            background-color :  salmon;\n",
       "        }    #T_01b1e282_e04c_11e9_be38_b8763fd8451drow6_col8 {\n",
       "            background-color :  white;\n",
       "        }    #T_01b1e282_e04c_11e9_be38_b8763fd8451drow6_col9 {\n",
       "            background-color :  salmon;\n",
       "        }    #T_01b1e282_e04c_11e9_be38_b8763fd8451drow7_col0 {\n",
       "            background-color:  lightsalmon;\n",
       "        }    #T_01b1e282_e04c_11e9_be38_b8763fd8451drow7_col1 {\n",
       "            background-color :  white;\n",
       "        }    #T_01b1e282_e04c_11e9_be38_b8763fd8451drow7_col2 {\n",
       "            background-color :  white;\n",
       "        }    #T_01b1e282_e04c_11e9_be38_b8763fd8451drow7_col3 {\n",
       "            background-color :  white;\n",
       "        }    #T_01b1e282_e04c_11e9_be38_b8763fd8451drow7_col4 {\n",
       "            background-color :  white;\n",
       "        }    #T_01b1e282_e04c_11e9_be38_b8763fd8451drow7_col5 {\n",
       "            background-color :  white;\n",
       "        }    #T_01b1e282_e04c_11e9_be38_b8763fd8451drow7_col6 {\n",
       "            background-color :  salmon;\n",
       "        }    #T_01b1e282_e04c_11e9_be38_b8763fd8451drow7_col7 {\n",
       "            background-color :  salmon;\n",
       "        }    #T_01b1e282_e04c_11e9_be38_b8763fd8451drow7_col8 {\n",
       "            background-color :  white;\n",
       "        }    #T_01b1e282_e04c_11e9_be38_b8763fd8451drow7_col9 {\n",
       "            background-color :  salmon;\n",
       "        }    #T_01b1e282_e04c_11e9_be38_b8763fd8451drow8_col0 {\n",
       "            background-color :  white;\n",
       "        }    #T_01b1e282_e04c_11e9_be38_b8763fd8451drow8_col1 {\n",
       "            background-color :  white;\n",
       "        }    #T_01b1e282_e04c_11e9_be38_b8763fd8451drow8_col2 {\n",
       "            background-color :  white;\n",
       "        }    #T_01b1e282_e04c_11e9_be38_b8763fd8451drow8_col3 {\n",
       "            background-color:  lightsalmon;\n",
       "        }    #T_01b1e282_e04c_11e9_be38_b8763fd8451drow8_col4 {\n",
       "            background-color :  white;\n",
       "        }    #T_01b1e282_e04c_11e9_be38_b8763fd8451drow8_col5 {\n",
       "            background-color :  white;\n",
       "        }    #T_01b1e282_e04c_11e9_be38_b8763fd8451drow8_col6 {\n",
       "            background-color :  white;\n",
       "        }    #T_01b1e282_e04c_11e9_be38_b8763fd8451drow8_col7 {\n",
       "            background-color :  white;\n",
       "        }    #T_01b1e282_e04c_11e9_be38_b8763fd8451drow8_col8 {\n",
       "            background-color :  salmon;\n",
       "        }    #T_01b1e282_e04c_11e9_be38_b8763fd8451drow8_col9 {\n",
       "            background-color :  white;\n",
       "        }    #T_01b1e282_e04c_11e9_be38_b8763fd8451drow9_col0 {\n",
       "            background-color :  white;\n",
       "        }    #T_01b1e282_e04c_11e9_be38_b8763fd8451drow9_col1 {\n",
       "            background-color :  white;\n",
       "        }    #T_01b1e282_e04c_11e9_be38_b8763fd8451drow9_col2 {\n",
       "            background-color :  white;\n",
       "        }    #T_01b1e282_e04c_11e9_be38_b8763fd8451drow9_col3 {\n",
       "            background-color :  white;\n",
       "        }    #T_01b1e282_e04c_11e9_be38_b8763fd8451drow9_col4 {\n",
       "            background-color :  white;\n",
       "        }    #T_01b1e282_e04c_11e9_be38_b8763fd8451drow9_col5 {\n",
       "            background-color :  white;\n",
       "        }    #T_01b1e282_e04c_11e9_be38_b8763fd8451drow9_col6 {\n",
       "            background-color :  salmon;\n",
       "        }    #T_01b1e282_e04c_11e9_be38_b8763fd8451drow9_col7 {\n",
       "            background-color :  salmon;\n",
       "        }    #T_01b1e282_e04c_11e9_be38_b8763fd8451drow9_col8 {\n",
       "            background-color :  white;\n",
       "        }    #T_01b1e282_e04c_11e9_be38_b8763fd8451drow9_col9 {\n",
       "            background-color :  salmon;\n",
       "        }</style><table id=\"T_01b1e282_e04c_11e9_be38_b8763fd8451d\" ><thead>    <tr>        <th class=\"blank level0\" ></th>        <th class=\"col_heading level0 col0\" >C-Q1_1</th>        <th class=\"col_heading level0 col1\" >C-Q1_2</th>        <th class=\"col_heading level0 col2\" >C-Q1_3</th>        <th class=\"col_heading level0 col3\" >C-Q1_4</th>        <th class=\"col_heading level0 col4\" >C-Q1_5</th>        <th class=\"col_heading level0 col5\" >C-Q1_6</th>        <th class=\"col_heading level0 col6\" >C-Q1_7</th>        <th class=\"col_heading level0 col7\" >C-Q1_8</th>        <th class=\"col_heading level0 col8\" >C-Q1_9</th>        <th class=\"col_heading level0 col9\" >C-Q1_10</th>    </tr></thead><tbody>\n",
       "                <tr>\n",
       "                        <th id=\"T_01b1e282_e04c_11e9_be38_b8763fd8451dlevel0_row0\" class=\"row_heading level0 row0\" >C-Q1_1</th>\n",
       "                        <td id=\"T_01b1e282_e04c_11e9_be38_b8763fd8451drow0_col0\" class=\"data row0 col0\" >0</td>\n",
       "                        <td id=\"T_01b1e282_e04c_11e9_be38_b8763fd8451drow0_col1\" class=\"data row0 col1\" >0.00381323</td>\n",
       "                        <td id=\"T_01b1e282_e04c_11e9_be38_b8763fd8451drow0_col2\" class=\"data row0 col2\" >0.027173</td>\n",
       "                        <td id=\"T_01b1e282_e04c_11e9_be38_b8763fd8451drow0_col3\" class=\"data row0 col3\" >0.104512</td>\n",
       "                        <td id=\"T_01b1e282_e04c_11e9_be38_b8763fd8451drow0_col4\" class=\"data row0 col4\" >0.107154</td>\n",
       "                        <td id=\"T_01b1e282_e04c_11e9_be38_b8763fd8451drow0_col5\" class=\"data row0 col5\" >8.85426e-05</td>\n",
       "                        <td id=\"T_01b1e282_e04c_11e9_be38_b8763fd8451drow0_col6\" class=\"data row0 col6\" >0.00582029</td>\n",
       "                        <td id=\"T_01b1e282_e04c_11e9_be38_b8763fd8451drow0_col7\" class=\"data row0 col7\" >0.0185665</td>\n",
       "                        <td id=\"T_01b1e282_e04c_11e9_be38_b8763fd8451drow0_col8\" class=\"data row0 col8\" >0.266347</td>\n",
       "                        <td id=\"T_01b1e282_e04c_11e9_be38_b8763fd8451drow0_col9\" class=\"data row0 col9\" >0.0789299</td>\n",
       "            </tr>\n",
       "            <tr>\n",
       "                        <th id=\"T_01b1e282_e04c_11e9_be38_b8763fd8451dlevel0_row1\" class=\"row_heading level0 row1\" >C-Q1_2</th>\n",
       "                        <td id=\"T_01b1e282_e04c_11e9_be38_b8763fd8451drow1_col0\" class=\"data row1 col0\" >0.00381323</td>\n",
       "                        <td id=\"T_01b1e282_e04c_11e9_be38_b8763fd8451drow1_col1\" class=\"data row1 col1\" >0</td>\n",
       "                        <td id=\"T_01b1e282_e04c_11e9_be38_b8763fd8451drow1_col2\" class=\"data row1 col2\" >0.230607</td>\n",
       "                        <td id=\"T_01b1e282_e04c_11e9_be38_b8763fd8451drow1_col3\" class=\"data row1 col3\" >0.935776</td>\n",
       "                        <td id=\"T_01b1e282_e04c_11e9_be38_b8763fd8451drow1_col4\" class=\"data row1 col4\" >0.00448606</td>\n",
       "                        <td id=\"T_01b1e282_e04c_11e9_be38_b8763fd8451drow1_col5\" class=\"data row1 col5\" >0.144909</td>\n",
       "                        <td id=\"T_01b1e282_e04c_11e9_be38_b8763fd8451drow1_col6\" class=\"data row1 col6\" >0.0762573</td>\n",
       "                        <td id=\"T_01b1e282_e04c_11e9_be38_b8763fd8451drow1_col7\" class=\"data row1 col7\" >0.401692</td>\n",
       "                        <td id=\"T_01b1e282_e04c_11e9_be38_b8763fd8451drow1_col8\" class=\"data row1 col8\" >0.323361</td>\n",
       "                        <td id=\"T_01b1e282_e04c_11e9_be38_b8763fd8451drow1_col9\" class=\"data row1 col9\" >0.453941</td>\n",
       "            </tr>\n",
       "            <tr>\n",
       "                        <th id=\"T_01b1e282_e04c_11e9_be38_b8763fd8451dlevel0_row2\" class=\"row_heading level0 row2\" >C-Q1_3</th>\n",
       "                        <td id=\"T_01b1e282_e04c_11e9_be38_b8763fd8451drow2_col0\" class=\"data row2 col0\" >0.027173</td>\n",
       "                        <td id=\"T_01b1e282_e04c_11e9_be38_b8763fd8451drow2_col1\" class=\"data row2 col1\" >0.230607</td>\n",
       "                        <td id=\"T_01b1e282_e04c_11e9_be38_b8763fd8451drow2_col2\" class=\"data row2 col2\" >0</td>\n",
       "                        <td id=\"T_01b1e282_e04c_11e9_be38_b8763fd8451drow2_col3\" class=\"data row2 col3\" >1.83527e-07</td>\n",
       "                        <td id=\"T_01b1e282_e04c_11e9_be38_b8763fd8451drow2_col4\" class=\"data row2 col4\" >0.285692</td>\n",
       "                        <td id=\"T_01b1e282_e04c_11e9_be38_b8763fd8451drow2_col5\" class=\"data row2 col5\" >0.238735</td>\n",
       "                        <td id=\"T_01b1e282_e04c_11e9_be38_b8763fd8451drow2_col6\" class=\"data row2 col6\" >0.0502264</td>\n",
       "                        <td id=\"T_01b1e282_e04c_11e9_be38_b8763fd8451drow2_col7\" class=\"data row2 col7\" >0.424976</td>\n",
       "                        <td id=\"T_01b1e282_e04c_11e9_be38_b8763fd8451drow2_col8\" class=\"data row2 col8\" >0.34276</td>\n",
       "                        <td id=\"T_01b1e282_e04c_11e9_be38_b8763fd8451drow2_col9\" class=\"data row2 col9\" >0.0571779</td>\n",
       "            </tr>\n",
       "            <tr>\n",
       "                        <th id=\"T_01b1e282_e04c_11e9_be38_b8763fd8451dlevel0_row3\" class=\"row_heading level0 row3\" >C-Q1_4</th>\n",
       "                        <td id=\"T_01b1e282_e04c_11e9_be38_b8763fd8451drow3_col0\" class=\"data row3 col0\" >0.104512</td>\n",
       "                        <td id=\"T_01b1e282_e04c_11e9_be38_b8763fd8451drow3_col1\" class=\"data row3 col1\" >0.935776</td>\n",
       "                        <td id=\"T_01b1e282_e04c_11e9_be38_b8763fd8451drow3_col2\" class=\"data row3 col2\" >1.83527e-07</td>\n",
       "                        <td id=\"T_01b1e282_e04c_11e9_be38_b8763fd8451drow3_col3\" class=\"data row3 col3\" >0</td>\n",
       "                        <td id=\"T_01b1e282_e04c_11e9_be38_b8763fd8451drow3_col4\" class=\"data row3 col4\" >0.108523</td>\n",
       "                        <td id=\"T_01b1e282_e04c_11e9_be38_b8763fd8451drow3_col5\" class=\"data row3 col5\" >0.523883</td>\n",
       "                        <td id=\"T_01b1e282_e04c_11e9_be38_b8763fd8451drow3_col6\" class=\"data row3 col6\" >0.0792908</td>\n",
       "                        <td id=\"T_01b1e282_e04c_11e9_be38_b8763fd8451drow3_col7\" class=\"data row3 col7\" >0.585454</td>\n",
       "                        <td id=\"T_01b1e282_e04c_11e9_be38_b8763fd8451drow3_col8\" class=\"data row3 col8\" >0.0328402</td>\n",
       "                        <td id=\"T_01b1e282_e04c_11e9_be38_b8763fd8451drow3_col9\" class=\"data row3 col9\" >0.0986709</td>\n",
       "            </tr>\n",
       "            <tr>\n",
       "                        <th id=\"T_01b1e282_e04c_11e9_be38_b8763fd8451dlevel0_row4\" class=\"row_heading level0 row4\" >C-Q1_5</th>\n",
       "                        <td id=\"T_01b1e282_e04c_11e9_be38_b8763fd8451drow4_col0\" class=\"data row4 col0\" >0.107154</td>\n",
       "                        <td id=\"T_01b1e282_e04c_11e9_be38_b8763fd8451drow4_col1\" class=\"data row4 col1\" >0.00448606</td>\n",
       "                        <td id=\"T_01b1e282_e04c_11e9_be38_b8763fd8451drow4_col2\" class=\"data row4 col2\" >0.285692</td>\n",
       "                        <td id=\"T_01b1e282_e04c_11e9_be38_b8763fd8451drow4_col3\" class=\"data row4 col3\" >0.108523</td>\n",
       "                        <td id=\"T_01b1e282_e04c_11e9_be38_b8763fd8451drow4_col4\" class=\"data row4 col4\" >0</td>\n",
       "                        <td id=\"T_01b1e282_e04c_11e9_be38_b8763fd8451drow4_col5\" class=\"data row4 col5\" >0.143512</td>\n",
       "                        <td id=\"T_01b1e282_e04c_11e9_be38_b8763fd8451drow4_col6\" class=\"data row4 col6\" >0.417808</td>\n",
       "                        <td id=\"T_01b1e282_e04c_11e9_be38_b8763fd8451drow4_col7\" class=\"data row4 col7\" >0.29119</td>\n",
       "                        <td id=\"T_01b1e282_e04c_11e9_be38_b8763fd8451drow4_col8\" class=\"data row4 col8\" >0.573474</td>\n",
       "                        <td id=\"T_01b1e282_e04c_11e9_be38_b8763fd8451drow4_col9\" class=\"data row4 col9\" >0.379861</td>\n",
       "            </tr>\n",
       "            <tr>\n",
       "                        <th id=\"T_01b1e282_e04c_11e9_be38_b8763fd8451dlevel0_row5\" class=\"row_heading level0 row5\" >C-Q1_6</th>\n",
       "                        <td id=\"T_01b1e282_e04c_11e9_be38_b8763fd8451drow5_col0\" class=\"data row5 col0\" >8.85426e-05</td>\n",
       "                        <td id=\"T_01b1e282_e04c_11e9_be38_b8763fd8451drow5_col1\" class=\"data row5 col1\" >0.144909</td>\n",
       "                        <td id=\"T_01b1e282_e04c_11e9_be38_b8763fd8451drow5_col2\" class=\"data row5 col2\" >0.238735</td>\n",
       "                        <td id=\"T_01b1e282_e04c_11e9_be38_b8763fd8451drow5_col3\" class=\"data row5 col3\" >0.523883</td>\n",
       "                        <td id=\"T_01b1e282_e04c_11e9_be38_b8763fd8451drow5_col4\" class=\"data row5 col4\" >0.143512</td>\n",
       "                        <td id=\"T_01b1e282_e04c_11e9_be38_b8763fd8451drow5_col5\" class=\"data row5 col5\" >0</td>\n",
       "                        <td id=\"T_01b1e282_e04c_11e9_be38_b8763fd8451drow5_col6\" class=\"data row5 col6\" >0.0583209</td>\n",
       "                        <td id=\"T_01b1e282_e04c_11e9_be38_b8763fd8451drow5_col7\" class=\"data row5 col7\" >0.261476</td>\n",
       "                        <td id=\"T_01b1e282_e04c_11e9_be38_b8763fd8451drow5_col8\" class=\"data row5 col8\" >0.563363</td>\n",
       "                        <td id=\"T_01b1e282_e04c_11e9_be38_b8763fd8451drow5_col9\" class=\"data row5 col9\" >0.219039</td>\n",
       "            </tr>\n",
       "            <tr>\n",
       "                        <th id=\"T_01b1e282_e04c_11e9_be38_b8763fd8451dlevel0_row6\" class=\"row_heading level0 row6\" >C-Q1_7</th>\n",
       "                        <td id=\"T_01b1e282_e04c_11e9_be38_b8763fd8451drow6_col0\" class=\"data row6 col0\" >0.00582029</td>\n",
       "                        <td id=\"T_01b1e282_e04c_11e9_be38_b8763fd8451drow6_col1\" class=\"data row6 col1\" >0.0762573</td>\n",
       "                        <td id=\"T_01b1e282_e04c_11e9_be38_b8763fd8451drow6_col2\" class=\"data row6 col2\" >0.0502264</td>\n",
       "                        <td id=\"T_01b1e282_e04c_11e9_be38_b8763fd8451drow6_col3\" class=\"data row6 col3\" >0.0792908</td>\n",
       "                        <td id=\"T_01b1e282_e04c_11e9_be38_b8763fd8451drow6_col4\" class=\"data row6 col4\" >0.417808</td>\n",
       "                        <td id=\"T_01b1e282_e04c_11e9_be38_b8763fd8451drow6_col5\" class=\"data row6 col5\" >0.0583209</td>\n",
       "                        <td id=\"T_01b1e282_e04c_11e9_be38_b8763fd8451drow6_col6\" class=\"data row6 col6\" >0</td>\n",
       "                        <td id=\"T_01b1e282_e04c_11e9_be38_b8763fd8451drow6_col7\" class=\"data row6 col7\" >0.00165936</td>\n",
       "                        <td id=\"T_01b1e282_e04c_11e9_be38_b8763fd8451drow6_col8\" class=\"data row6 col8\" >0.928521</td>\n",
       "                        <td id=\"T_01b1e282_e04c_11e9_be38_b8763fd8451drow6_col9\" class=\"data row6 col9\" >0.00043838</td>\n",
       "            </tr>\n",
       "            <tr>\n",
       "                        <th id=\"T_01b1e282_e04c_11e9_be38_b8763fd8451dlevel0_row7\" class=\"row_heading level0 row7\" >C-Q1_8</th>\n",
       "                        <td id=\"T_01b1e282_e04c_11e9_be38_b8763fd8451drow7_col0\" class=\"data row7 col0\" >0.0185665</td>\n",
       "                        <td id=\"T_01b1e282_e04c_11e9_be38_b8763fd8451drow7_col1\" class=\"data row7 col1\" >0.401692</td>\n",
       "                        <td id=\"T_01b1e282_e04c_11e9_be38_b8763fd8451drow7_col2\" class=\"data row7 col2\" >0.424976</td>\n",
       "                        <td id=\"T_01b1e282_e04c_11e9_be38_b8763fd8451drow7_col3\" class=\"data row7 col3\" >0.585454</td>\n",
       "                        <td id=\"T_01b1e282_e04c_11e9_be38_b8763fd8451drow7_col4\" class=\"data row7 col4\" >0.29119</td>\n",
       "                        <td id=\"T_01b1e282_e04c_11e9_be38_b8763fd8451drow7_col5\" class=\"data row7 col5\" >0.261476</td>\n",
       "                        <td id=\"T_01b1e282_e04c_11e9_be38_b8763fd8451drow7_col6\" class=\"data row7 col6\" >0.00165936</td>\n",
       "                        <td id=\"T_01b1e282_e04c_11e9_be38_b8763fd8451drow7_col7\" class=\"data row7 col7\" >0</td>\n",
       "                        <td id=\"T_01b1e282_e04c_11e9_be38_b8763fd8451drow7_col8\" class=\"data row7 col8\" >0.437218</td>\n",
       "                        <td id=\"T_01b1e282_e04c_11e9_be38_b8763fd8451drow7_col9\" class=\"data row7 col9\" >0.000395534</td>\n",
       "            </tr>\n",
       "            <tr>\n",
       "                        <th id=\"T_01b1e282_e04c_11e9_be38_b8763fd8451dlevel0_row8\" class=\"row_heading level0 row8\" >C-Q1_9</th>\n",
       "                        <td id=\"T_01b1e282_e04c_11e9_be38_b8763fd8451drow8_col0\" class=\"data row8 col0\" >0.266347</td>\n",
       "                        <td id=\"T_01b1e282_e04c_11e9_be38_b8763fd8451drow8_col1\" class=\"data row8 col1\" >0.323361</td>\n",
       "                        <td id=\"T_01b1e282_e04c_11e9_be38_b8763fd8451drow8_col2\" class=\"data row8 col2\" >0.34276</td>\n",
       "                        <td id=\"T_01b1e282_e04c_11e9_be38_b8763fd8451drow8_col3\" class=\"data row8 col3\" >0.0328402</td>\n",
       "                        <td id=\"T_01b1e282_e04c_11e9_be38_b8763fd8451drow8_col4\" class=\"data row8 col4\" >0.573474</td>\n",
       "                        <td id=\"T_01b1e282_e04c_11e9_be38_b8763fd8451drow8_col5\" class=\"data row8 col5\" >0.563363</td>\n",
       "                        <td id=\"T_01b1e282_e04c_11e9_be38_b8763fd8451drow8_col6\" class=\"data row8 col6\" >0.928521</td>\n",
       "                        <td id=\"T_01b1e282_e04c_11e9_be38_b8763fd8451drow8_col7\" class=\"data row8 col7\" >0.437218</td>\n",
       "                        <td id=\"T_01b1e282_e04c_11e9_be38_b8763fd8451drow8_col8\" class=\"data row8 col8\" >0</td>\n",
       "                        <td id=\"T_01b1e282_e04c_11e9_be38_b8763fd8451drow8_col9\" class=\"data row8 col9\" >0.378562</td>\n",
       "            </tr>\n",
       "            <tr>\n",
       "                        <th id=\"T_01b1e282_e04c_11e9_be38_b8763fd8451dlevel0_row9\" class=\"row_heading level0 row9\" >C-Q1_10</th>\n",
       "                        <td id=\"T_01b1e282_e04c_11e9_be38_b8763fd8451drow9_col0\" class=\"data row9 col0\" >0.0789299</td>\n",
       "                        <td id=\"T_01b1e282_e04c_11e9_be38_b8763fd8451drow9_col1\" class=\"data row9 col1\" >0.453941</td>\n",
       "                        <td id=\"T_01b1e282_e04c_11e9_be38_b8763fd8451drow9_col2\" class=\"data row9 col2\" >0.0571779</td>\n",
       "                        <td id=\"T_01b1e282_e04c_11e9_be38_b8763fd8451drow9_col3\" class=\"data row9 col3\" >0.0986709</td>\n",
       "                        <td id=\"T_01b1e282_e04c_11e9_be38_b8763fd8451drow9_col4\" class=\"data row9 col4\" >0.379861</td>\n",
       "                        <td id=\"T_01b1e282_e04c_11e9_be38_b8763fd8451drow9_col5\" class=\"data row9 col5\" >0.219039</td>\n",
       "                        <td id=\"T_01b1e282_e04c_11e9_be38_b8763fd8451drow9_col6\" class=\"data row9 col6\" >0.00043838</td>\n",
       "                        <td id=\"T_01b1e282_e04c_11e9_be38_b8763fd8451drow9_col7\" class=\"data row9 col7\" >0.000395534</td>\n",
       "                        <td id=\"T_01b1e282_e04c_11e9_be38_b8763fd8451drow9_col8\" class=\"data row9 col8\" >0.378562</td>\n",
       "                        <td id=\"T_01b1e282_e04c_11e9_be38_b8763fd8451drow9_col9\" class=\"data row9 col9\" >0</td>\n",
       "            </tr>\n",
       "    </tbody></table>"
      ],
      "text/plain": [
       "<pandas.io.formats.style.Styler at 0xe5e8e80>"
      ]
     },
     "execution_count": 152,
     "metadata": {},
     "output_type": "execute_result"
    }
   ],
   "source": [
    "df_spearman_pv(Daten[Daten[Liste_C_Q1] != 0],Liste_C_Q1)"
   ]
  },
  {
   "cell_type": "markdown",
   "metadata": {},
   "source": [
    "Anmerkungen:"
   ]
  },
  {
   "cell_type": "code",
   "execution_count": 153,
   "metadata": {},
   "outputs": [
    {
     "data": {
      "text/plain": [
       "Series([], Name: C-Q1a, dtype: int64)"
      ]
     },
     "execution_count": 153,
     "metadata": {},
     "output_type": "execute_result"
    }
   ],
   "source": [
    "Daten[Daten['C-Q1a']!=0]['C-Q1a']"
   ]
  },
  {
   "cell_type": "markdown",
   "metadata": {},
   "source": [
    "### Kommentare\n",
    "#### E-Q1"
   ]
  },
  {
   "cell_type": "code",
   "execution_count": 154,
   "metadata": {},
   "outputs": [
    {
     "data": {
      "text/plain": [
       "6     Creo que es una encuesta muy pertinente y con ...\n",
       "9     Importante trabajo y cuyos resultados pueden s...\n",
       "12    Es gab nicht die Möglichkeit, eine einmal ange...\n",
       "13                                         Viel Erfolg!\n",
       "15    Me parece muy interesante cualquier estudio en...\n",
       "35    La manera de enfocar o trabajar diferentes est...\n",
       "47    Muy bien estructurada. Supongo que el objeto d...\n",
       "Name: E-Q1, dtype: object"
      ]
     },
     "execution_count": 154,
     "metadata": {},
     "output_type": "execute_result"
    }
   ],
   "source": [
    "Daten[Daten['E-Q1']!=0]['E-Q1']"
   ]
  },
  {
   "cell_type": "code",
   "execution_count": 155,
   "metadata": {},
   "outputs": [
    {
     "data": {
      "text/plain": [
       "'Creo que es una encuesta muy pertinente y con preguntas bien planteadas y fácilmente comprensibles. Esto redunda en la agilidad y rapidez para contestar a la misma.'"
      ]
     },
     "execution_count": 155,
     "metadata": {},
     "output_type": "execute_result"
    }
   ],
   "source": [
    "Daten.loc[6]['E-Q1']"
   ]
  },
  {
   "cell_type": "code",
   "execution_count": 156,
   "metadata": {},
   "outputs": [
    {
     "data": {
      "text/plain": [
       "'Importante trabajo y cuyos resultados pueden ser muy beneficiosos para el proceso de enseñanza y aprendizaje del alemán como lengua extranjera.'"
      ]
     },
     "execution_count": 156,
     "metadata": {},
     "output_type": "execute_result"
    }
   ],
   "source": [
    "Daten.loc[9]['E-Q1']"
   ]
  },
  {
   "cell_type": "code",
   "execution_count": 157,
   "metadata": {},
   "outputs": [
    {
     "data": {
      "text/plain": [
       "'Es gab nicht die Möglichkeit, eine einmal angekreuzte Option rückgängig zu machen oder die Option \"kenne ich nicht\". Zum Beispiel verwende ich keine Lehrwerk-Lehrerhandbücher, kann also nichts zu deren Erschließungsstrategien sagen. Hatte aber aus Versehen etwas markiert und konnte das nicht mehr ändern - ich musste etwas ankreuzen.'"
      ]
     },
     "execution_count": 157,
     "metadata": {},
     "output_type": "execute_result"
    }
   ],
   "source": [
    "Daten.loc[12]['E-Q1']"
   ]
  },
  {
   "cell_type": "code",
   "execution_count": 158,
   "metadata": {},
   "outputs": [
    {
     "data": {
      "text/plain": [
       "'Me parece muy interesante cualquier estudio en torno a la competencia léxica pues no se considera como objetivo preferente en los manuales, siendo uno de los pilares de la competencia comunicativa.'"
      ]
     },
     "execution_count": 158,
     "metadata": {},
     "output_type": "execute_result"
    }
   ],
   "source": [
    "Daten.loc[15]['E-Q1']"
   ]
  },
  {
   "cell_type": "code",
   "execution_count": 159,
   "metadata": {},
   "outputs": [
    {
     "data": {
      "text/plain": [
       "'La manera de enfocar o trabajar diferentes estrategias no depende solo de la formación del profesor, sino de cómo puedan entenderlas mejor los estudiantes (dependiendo del nivel de alemán, cultura y nivel de preparación en otras materias como por ejemplo el inglés u otro idioma que hayan aprendido anteriormente como segunda lengua extranjera).'"
      ]
     },
     "execution_count": 159,
     "metadata": {},
     "output_type": "execute_result"
    }
   ],
   "source": [
    "Daten.loc[35]['E-Q1']"
   ]
  },
  {
   "cell_type": "code",
   "execution_count": 160,
   "metadata": {},
   "outputs": [
    {
     "data": {
      "text/plain": [
       "'Muy bien estructurada. Supongo que el objeto de estudio son los estudiantes universitarios, pero sería interesante observar estas estrategias en otros centros como las EEOOII. '"
      ]
     },
     "execution_count": 160,
     "metadata": {},
     "output_type": "execute_result"
    }
   ],
   "source": [
    "Daten.loc[47]['E-Q1']"
   ]
  },
  {
   "cell_type": "markdown",
   "metadata": {},
   "source": [
    "### Charakteristika der Stichprobe"
   ]
  },
  {
   "cell_type": "code",
   "execution_count": 161,
   "metadata": {},
   "outputs": [],
   "source": [
    "Finished = Daten[:]"
   ]
  },
  {
   "cell_type": "markdown",
   "metadata": {},
   "source": [
    "##### Universitäten"
   ]
  },
  {
   "cell_type": "code",
   "execution_count": 162,
   "metadata": {},
   "outputs": [
    {
     "data": {
      "image/png": "[encoded data removed]",
      "text/plain": [
       "<Figure size 864x360 with 1 Axes>"
      ]
     },
     "metadata": {
      "needs_background": "light"
     },
     "output_type": "display_data"
    }
   ],
   "source": [
    "Finished[Finished['D-Q1'] != 0]['D-Q1'].value_counts().plot(kind='bar', \n",
    "                                                            figsize = (12,5), width = 0.5, \n",
    "                                                            legend = True, title = \"Universität\");"
   ]
  },
  {
   "cell_type": "markdown",
   "metadata": {},
   "source": [
    "(1)\tAbat Oliba-CEU\n",
    "(2)\tAlcalá de Henares\n",
    "(3)\tAlfonso X El Sabio\n",
    "(4)\tAlicante\n",
    "(5)\tAlmería\n",
    "(6)\tAntonio de Nebrija\n",
    "(7)\tAutónoma de Barcelona\n",
    "(8)\tAutónoma de Madrid\n",
    "(9)\tBarcelona\n",
    "(10)\tBurgos\n",
    "(11)\tCádiz\n",
    "(12)\tCamilo José Cela\n",
    "(13)\tCantabria\n",
    "(14)\tCardenal Herrera-CEU\n",
    "(15)\tCarlos III\n",
    "(16)\tCastilla-La Mancha\n",
    "(17)\tCatólica de Ávila\n",
    "(18)\tCatólica de Valencia\n",
    "(19)\tCatólica S. Antonio de Murcia\n",
    "(20)\tComplutense de Madrid\n",
    "(21)\tCórdoba\n",
    "(22)\tCoruña, A\n",
    "(23)\tDeusto\n",
    "(24)\tEuropea de Madrid\n",
    "(25)\tEuropea Miguel de Cervantes\n",
    "(26)\tExtremadura\n",
    "(27)\tFrancisco de Vitoria\n",
    "(28)\tGirona\n",
    "(29)\tGranada\n",
    "(30)\tHuelva\n",
    "(31)\tIE Universidad\n",
    "(32)\tIlles Balears\n",
    "(33)\tInternacional de Catalunya\n",
    "(34)\tInternacional de La Rioja\n",
    "(35)\tInternacional Valenciana\n",
    "(36)\tJaén\n",
    "(37)\tJaume I de Castellón\n",
    "(38)\tLa Laguna\n",
    "(39)\tLa Rioja\n",
    "(40)\tLeón\n",
    "(41)\tLleida\n",
    "(42)\tMálaga\n",
    "(43)\tMiguel Hernández de Elche\n",
    "(44)\tMondragón\n",
    "(45)\tMurcia\n",
    "(46)\tNavarra\n",
    "(47)\tOberta de Catalunya\n",
    "(48)\tOviedo\n",
    "(49)\tPablo de Olavide\n",
    "(50)\tPaís Vasco\n",
    "(51)\tPalmas (Las)\n",
    "(52)\tPolitécnica de Cartagena\n",
    "(53)\tPolitécnica de Cataluña\n",
    "(54)\tPolitécnica de Madrid\n",
    "(55)\tPolitécnica de Valencia\n",
    "(56)\tPompeu Fabra\n",
    "(57)\tPontificia Comillas\n",
    "(58)\tPontificia de Salamanca\n",
    "(59)\tPública de Navarra\n",
    "(60)\tRamón Llull\n",
    "(61)\tRey Juan Carlos\n",
    "(62)\tRovira i Virgili\n",
    "(63)\tSalamanca\n",
    "(64)\tSan Jorge\n",
    "(65)\tSan Pablo-CEU\n",
    "(66)\tSantiago de Compostela\n",
    "(67)\tSevilla\n",
    "(68)\tU.N.E.D.\n",
    "(69)\tUDIMA\n",
    "(70)\tValencia (Est. General)\n",
    "(71)\tValladolid\n",
    "(72)\tVic\n",
    "(73)\tVigo\n",
    "(74)\tZaragoza\n",
    "(75)\tOtra"
   ]
  },
  {
   "cell_type": "code",
   "execution_count": 163,
   "metadata": {},
   "outputs": [
    {
     "data": {
      "text/plain": [
       "63    12\n",
       "20    10\n",
       "66     7\n",
       "67     5\n",
       "70     4\n",
       "61     3\n",
       "0      2\n",
       "29     1\n",
       "37     1\n",
       "48     1\n",
       "2      1\n",
       "15     1\n",
       "73     1\n",
       "49     1\n",
       "50     1\n",
       "56     1\n",
       "28     1\n",
       "Name: D-Q1, dtype: int64"
      ]
     },
     "execution_count": 163,
     "metadata": {},
     "output_type": "execute_result"
    }
   ],
   "source": [
    "Finished['D-Q1'].value_counts()"
   ]
  },
  {
   "cell_type": "code",
   "execution_count": 164,
   "metadata": {},
   "outputs": [
    {
     "data": {
      "text/plain": [
       "16"
      ]
     },
     "execution_count": 164,
     "metadata": {},
     "output_type": "execute_result"
    }
   ],
   "source": [
    "Finished[Finished['D-Q1']!=0]['D-Q1'].nunique()"
   ]
  },
  {
   "cell_type": "markdown",
   "metadata": {},
   "source": [
    "Lehrende aus 16 verschiedenen Universitäten nahmen an der Befragung teil."
   ]
  },
  {
   "cell_type": "markdown",
   "metadata": {},
   "source": [
    "##### Art unterrichteter Kurse"
   ]
  },
  {
   "cell_type": "code",
   "execution_count": 165,
   "metadata": {},
   "outputs": [
    {
     "data": {
      "text/plain": [
       "'D-Q2a'"
      ]
     },
     "execution_count": 165,
     "metadata": {},
     "output_type": "execute_result"
    }
   ],
   "source": [
    "As_cols = [col for col in Finished.columns if 'D-Q2' in col]\n",
    "As_cols.pop(len(As_cols)-1)\n",
    "As_cols.pop(len(As_cols)-1)"
   ]
  },
  {
   "cell_type": "code",
   "execution_count": 166,
   "metadata": {},
   "outputs": [
    {
     "data": {
      "text/plain": [
       "D-Q2_1    24\n",
       "D-Q2_2    12\n",
       "D-Q2_3     7\n",
       "D-Q2_4    10\n",
       "D-Q2_5     1\n",
       "D-Q2_7     8\n",
       "D-Q2_8     6\n",
       "D-Q2_9    14\n",
       "dtype: int64"
      ]
     },
     "execution_count": 166,
     "metadata": {},
     "output_type": "execute_result"
    }
   ],
   "source": [
    "Finished[As_cols].astype(integer).sum()"
   ]
  },
  {
   "cell_type": "code",
   "execution_count": 167,
   "metadata": {},
   "outputs": [
    {
     "data": {
      "image/png": "[encoded data removed]",
      "text/plain": [
       "<Figure size 576x360 with 1 Axes>"
      ]
     },
     "metadata": {
      "needs_background": "light"
     },
     "output_type": "display_data"
    }
   ],
   "source": [
    "Finished[As_cols].astype(integer).sum().plot(kind = 'bar', figsize = (8,5), width = 0.4, title = \"Aktuell unterrichtete Deutschkurse\");"
   ]
  },
  {
   "cell_type": "markdown",
   "metadata": {},
   "source": [
    "1.\tDeutschkurs im Rahmen eines Germanistikstudiums / deutsche Philologie\n",
    "2.\tDeutschkurs im Rahmen eines anderen Philologiestudiums\n",
    "*\tÜbersetzen und Dolmetschen, Erste Fremdsprache / Sprache B\n",
    "*\tÜbersetzen und Dolmetschen, Zweite Fremdsprache / Sprache C\n",
    "*\tDeutschkurs im Rahmen eines humanistischen Studiums\n",
    "*\tDeutschkurs im Rahmen eines wirtschaftlichen Studiums\n",
    "*\tDeutschkurs im Rahmen eines Tourismus-Studiums\n",
    "*\tAnderer Deutschkurs im Rahmen eines Universitätsstudiums\n",
    "*\tAnderer Deutschkurs an einer universitären Einrichtung"
   ]
  },
  {
   "cell_type": "code",
   "execution_count": 168,
   "metadata": {},
   "outputs": [
    {
     "data": {
      "text/plain": [
       "0                                                                                  48\n",
       "Zusatzkurse zur Vertiefung der in den Regelsprachkursen thematisierten Inhalten     1\n",
       "Aus Beobachtungen der Dozenten der Complutense                                      1\n",
       "Landeskundekurse D-A-CH                                                             1\n",
       "Aleman B-1                                                                          1\n",
       "Llengües Aplicades                                                                  1\n",
       "Name: D-Q2b, dtype: int64"
      ]
     },
     "execution_count": 168,
     "metadata": {},
     "output_type": "execute_result"
    }
   ],
   "source": [
    "Finished['D-Q2b'].value_counts()"
   ]
  },
  {
   "cell_type": "markdown",
   "metadata": {},
   "source": [
    "##### Niveau unterrichteter Deutschkurse"
   ]
  },
  {
   "cell_type": "code",
   "execution_count": 169,
   "metadata": {},
   "outputs": [
    {
     "data": {
      "text/plain": [
       "'D-Q3a'"
      ]
     },
     "execution_count": 169,
     "metadata": {},
     "output_type": "execute_result"
    }
   ],
   "source": [
    "Niv_cols = [col for col in Finished.columns if 'D-Q3' in col]\n",
    "Niv_cols.pop(len(Niv_cols)-1)"
   ]
  },
  {
   "cell_type": "code",
   "execution_count": 170,
   "metadata": {},
   "outputs": [
    {
     "data": {
      "text/plain": [
       "D-Q3_1    32\n",
       "D-Q3_2    36\n",
       "D-Q3_3    30\n",
       "D-Q3_4    19\n",
       "D-Q3_5     9\n",
       "dtype: int64"
      ]
     },
     "execution_count": 170,
     "metadata": {},
     "output_type": "execute_result"
    }
   ],
   "source": [
    "Finished[Niv_cols].astype(integer).sum()"
   ]
  },
  {
   "cell_type": "code",
   "execution_count": 171,
   "metadata": {},
   "outputs": [
    {
     "data": {
      "image/png": "[encoded data removed]",
      "text/plain": [
       "<Figure size 432x288 with 1 Axes>"
      ]
     },
     "metadata": {
      "needs_background": "light"
     },
     "output_type": "display_data"
    }
   ],
   "source": [
    "Finished[Niv_cols].astype(integer).sum().plot(kind = 'bar', figsize = (6,4), width = 0.4, title = \"Niveau aktuell unterrichteter Deutschkurse\");"
   ]
  },
  {
   "cell_type": "markdown",
   "metadata": {},
   "source": [
    "(1)\tA1, \n",
    "(2)\tA2, \n",
    "(3)\tB1, \n",
    "(4)\tB2, \n",
    "(5)\tC1,\n",
    "(6)\tC2 "
   ]
  },
  {
   "cell_type": "markdown",
   "metadata": {},
   "source": [
    "##### Lehrerfahrung"
   ]
  },
  {
   "cell_type": "code",
   "execution_count": 172,
   "metadata": {},
   "outputs": [
    {
     "data": {
      "text/plain": [
       "20.0    8\n",
       "6.0     4\n",
       "1.0     4\n",
       "15.0    3\n",
       "25.0    3\n",
       "5.0     3\n",
       "10.0    2\n",
       "4.0     2\n",
       "24.0    2\n",
       "30.0    2\n",
       "27.0    2\n",
       "38.0    2\n",
       "12.0    1\n",
       "19.0    1\n",
       "11.0    1\n",
       "16.0    1\n",
       "8.0     1\n",
       "40.0    1\n",
       "2.0     1\n",
       "7.0     1\n",
       "32.0    1\n",
       "9.0     1\n",
       "0.5     1\n",
       "Name: D-Q4, dtype: int64"
      ]
     },
     "execution_count": 172,
     "metadata": {},
     "output_type": "execute_result"
    }
   ],
   "source": [
    "Finished[Finished['D-Q4']!=0]['D-Q4'].value_counts()"
   ]
  },
  {
   "cell_type": "code",
   "execution_count": 173,
   "metadata": {},
   "outputs": [
    {
     "data": {
      "text/plain": [
       "count    48.000000\n",
       "mean     15.531250\n",
       "std      10.943475\n",
       "min       0.500000\n",
       "25%       6.000000\n",
       "50%      15.000000\n",
       "75%      24.000000\n",
       "max      40.000000\n",
       "Name: D-Q4, dtype: float64"
      ]
     },
     "execution_count": 173,
     "metadata": {},
     "output_type": "execute_result"
    }
   ],
   "source": [
    "Finished[Finished['D-Q4']!=0]['D-Q4'].describe()"
   ]
  },
  {
   "cell_type": "markdown",
   "metadata": {},
   "source": [
    "##### Sprachkenntnisse"
   ]
  },
  {
   "cell_type": "markdown",
   "metadata": {},
   "source": [
    "Deutsch:"
   ]
  },
  {
   "cell_type": "code",
   "execution_count": 174,
   "metadata": {},
   "outputs": [
    {
     "data": {
      "text/plain": [
       "7    35\n",
       "6     8\n",
       "5     6\n",
       "1     2\n",
       "2     1\n",
       "Name: D-Q5_1, dtype: int64"
      ]
     },
     "execution_count": 174,
     "metadata": {},
     "output_type": "execute_result"
    }
   ],
   "source": [
    "Finished[Finished['D-Q5_1']!=0]['D-Q5_1'].value_counts()"
   ]
  },
  {
   "cell_type": "markdown",
   "metadata": {},
   "source": [
    "Spanisch:"
   ]
  },
  {
   "cell_type": "code",
   "execution_count": 175,
   "metadata": {},
   "outputs": [
    {
     "data": {
      "text/plain": [
       "7    19\n",
       "6    18\n",
       "5    11\n",
       "4     2\n",
       "3     2\n",
       "Name: D-Q5_2, dtype: int64"
      ]
     },
     "execution_count": 175,
     "metadata": {},
     "output_type": "execute_result"
    }
   ],
   "source": [
    "Finished[Finished['D-Q5_2']!=0]['D-Q5_2'].value_counts()"
   ]
  },
  {
   "cell_type": "markdown",
   "metadata": {},
   "source": [
    "Englisch:"
   ]
  },
  {
   "cell_type": "code",
   "execution_count": 176,
   "metadata": {},
   "outputs": [
    {
     "data": {
      "text/plain": [
       "4    20\n",
       "5    17\n",
       "6     7\n",
       "3     4\n",
       "7     2\n",
       "2     2\n",
       "Name: D-Q5_3, dtype: int64"
      ]
     },
     "execution_count": 176,
     "metadata": {},
     "output_type": "execute_result"
    }
   ],
   "source": [
    "Finished[Finished['D-Q5_3']!=0]['D-Q5_3'].value_counts()"
   ]
  },
  {
   "cell_type": "markdown",
   "metadata": {},
   "source": [
    "Gewählte Version des Fragebogens:"
   ]
  },
  {
   "cell_type": "code",
   "execution_count": 177,
   "metadata": {},
   "outputs": [
    {
     "data": {
      "text/plain": [
       "ES-ES    31\n",
       "DE       22\n",
       "Name: UserLanguage, dtype: int64"
      ]
     },
     "execution_count": 177,
     "metadata": {},
     "output_type": "execute_result"
    }
   ],
   "source": [
    "Daten['UserLanguage'].value_counts()"
   ]
  },
  {
   "cell_type": "markdown",
   "metadata": {},
   "source": [
    "##### Geschlecht"
   ]
  },
  {
   "cell_type": "code",
   "execution_count": 178,
   "metadata": {},
   "outputs": [
    {
     "data": {
      "image/png": "[encoded data removed]",
      "text/plain": [
       "<Figure size 288x360 with 1 Axes>"
      ]
     },
     "metadata": {
      "needs_background": "light"
     },
     "output_type": "display_data"
    }
   ],
   "source": [
    "Finished['D-Q6'].value_counts()[[1,2,3]].plot(kind = 'bar', figsize = (4,5), width = 0.4, legend = True, title = \"Geschlecht\");"
   ]
  },
  {
   "cell_type": "code",
   "execution_count": 179,
   "metadata": {},
   "outputs": [
    {
     "data": {
      "text/plain": [
       "1    36\n",
       "2    15\n",
       "3     2\n",
       "Name: D-Q6, dtype: int64"
      ]
     },
     "execution_count": 179,
     "metadata": {},
     "output_type": "execute_result"
    }
   ],
   "source": [
    "Finished['D-Q6'].value_counts()"
   ]
  }
 ],
 "metadata": {
  "kernelspec": {
   "display_name": "Python 3",
   "language": "python",
   "name": "python3"
  },
  "language_info": {
   "codemirror_mode": {
    "name": "ipython",
    "version": 3
   },
   "file_extension": ".py",
   "mimetype": "text/x-python",
   "name": "python",
   "nbconvert_exporter": "python",
   "pygments_lexer": "ipython3",
   "version": "3.7.3"
  }
 },
 "nbformat": 4,
 "nbformat_minor": 2
}
