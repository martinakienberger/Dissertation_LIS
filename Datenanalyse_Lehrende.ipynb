{
 "cells": [
  {
   "cell_type": "markdown",
   "metadata": {},
   "source": [
    "## Erschließungsstrategien für unbekannten Wortschatz von DaF-Lernenden an spanischen Universitäten\n",
    "# Datenanalyse der begleitenden Lehrendenbefragung 2017/18"
   ]
  },
  {
   "cell_type": "markdown",
   "metadata": {},
   "source": [
    "#### Daten importieren"
   ]
  },
  {
   "cell_type": "code",
   "execution_count": 1,
   "metadata": {},
   "outputs": [
    {
     "name": "stdout",
     "output_type": "stream",
     "text": [
      "Populating the interactive namespace from numpy and matplotlib\n"
     ]
    }
   ],
   "source": [
    "import pandas as pd\n",
    "% pylab inline"
   ]
  },
  {
   "cell_type": "code",
   "execution_count": 2,
   "metadata": {},
   "outputs": [],
   "source": [
    "Daten1 = pd.read_excel('D:\\Daten\\DISS\\Daten\\Estrategias_Profesores_Kienberger_P2017_int.xlsx', encoding='utf-16')"
   ]
  },
  {
   "cell_type": "code",
   "execution_count": 3,
   "metadata": {},
   "outputs": [],
   "source": [
    "Daten2 = pd.read_excel('D:\\Daten\\DISS\\Daten\\Estrategias_Profesores_Kienberger_2018_ber.xlsx',encoding='utf-16')"
   ]
  },
  {
   "cell_type": "code",
   "execution_count": 4,
   "metadata": {},
   "outputs": [],
   "source": [
    "Daten2.index = [10 + i for i in Daten2.index]"
   ]
  },
  {
   "cell_type": "code",
   "execution_count": 5,
   "metadata": {},
   "outputs": [],
   "source": [
    "Daten = pd.concat([Daten1, Daten2], axis=0, join='outer', sort=True)"
   ]
  },
  {
   "cell_type": "code",
   "execution_count": 6,
   "metadata": {},
   "outputs": [
    {
     "data": {
      "text/plain": [
       "(10, 129)"
      ]
     },
     "execution_count": 6,
     "metadata": {},
     "output_type": "execute_result"
    }
   ],
   "source": [
    "Daten1.shape"
   ]
  },
  {
   "cell_type": "code",
   "execution_count": 7,
   "metadata": {},
   "outputs": [
    {
     "data": {
      "text/plain": [
       "(47, 127)"
      ]
     },
     "execution_count": 7,
     "metadata": {},
     "output_type": "execute_result"
    }
   ],
   "source": [
    "Daten2.shape"
   ]
  },
  {
   "cell_type": "code",
   "execution_count": 8,
   "metadata": {},
   "outputs": [
    {
     "data": {
      "text/plain": [
       "(57, 130)"
      ]
     },
     "execution_count": 8,
     "metadata": {},
     "output_type": "execute_result"
    }
   ],
   "source": [
    "Daten.shape"
   ]
  },
  {
   "cell_type": "code",
   "execution_count": 85,
   "metadata": {},
   "outputs": [],
   "source": [
    "Daten = Daten.fillna(0)"
   ]
  },
  {
   "cell_type": "code",
   "execution_count": 87,
   "metadata": {},
   "outputs": [],
   "source": [
    "Daten.to_excel('D:\\Daten\\DISS\\Daten\\Estrategias_Profesores_Kienberger_2018_ges.xlsx',encoding='utf-16')"
   ]
  },
  {
   "cell_type": "markdown",
   "metadata": {},
   "source": [
    "#### Glossar erstellen\n",
    "\n",
    "Datei aufrufen, die in einem anderem Notebook erstellt und gespeichert wurde"
   ]
  },
  {
   "cell_type": "code",
   "execution_count": 10,
   "metadata": {},
   "outputs": [],
   "source": [
    "gloss = pd.read_pickle('D:\\Daten\\DISS\\Daten\\GlossProf2018')"
   ]
  },
  {
   "cell_type": "markdown",
   "metadata": {},
   "source": [
    "Funktion, um Index (Name) einer Bezeichnung im Glossar zu finden:"
   ]
  },
  {
   "cell_type": "code",
   "execution_count": 11,
   "metadata": {},
   "outputs": [],
   "source": [
    "def get_name_gloss(word):\n",
    "    for i, val in enumerate(gloss[0]):\n",
    "        if word.lower() in str(val).lower():\n",
    "            return i, gloss.index[i]"
   ]
  },
  {
   "cell_type": "markdown",
   "metadata": {},
   "source": [
    "Funktion, um Bezeichnung von Index im Glossar zu finden:"
   ]
  },
  {
   "cell_type": "code",
   "execution_count": 12,
   "metadata": {},
   "outputs": [],
   "source": [
    "def get_name_glossind(word):\n",
    "    for i, val in enumerate(gloss.index):\n",
    "        if word.lower() in str(val).lower():\n",
    "            return i, gloss.loc[val][0]"
   ]
  },
  {
   "cell_type": "code",
   "execution_count": 13,
   "metadata": {},
   "outputs": [],
   "source": [
    "#??get_name_gloss('A-Q1')"
   ]
  },
  {
   "cell_type": "markdown",
   "metadata": {},
   "source": [
    "#### Untergruppen und Listen für die Analyse"
   ]
  },
  {
   "cell_type": "code",
   "execution_count": 14,
   "metadata": {},
   "outputs": [
    {
     "data": {
      "text/plain": [
       "'A-Q1a'"
      ]
     },
     "execution_count": 14,
     "metadata": {},
     "output_type": "execute_result"
    }
   ],
   "source": [
    "Liste_A_Q1 = [col for col in Daten.columns if 'A-Q1' in col]\n",
    "Liste_A_Q1.pop(9)"
   ]
  },
  {
   "cell_type": "code",
   "execution_count": 15,
   "metadata": {},
   "outputs": [],
   "source": [
    "Liste_B_Q1 = [col for col in Daten.columns if 'B-Q1' in col]\n",
    "Liste_B_Q1.pop(len(Liste_B_Q1)-1)\n",
    "Liste_B_Q1 = [el for el in Liste_B_Q1 if 'TEXT' not in el]"
   ]
  },
  {
   "cell_type": "code",
   "execution_count": 16,
   "metadata": {},
   "outputs": [
    {
     "data": {
      "text/plain": [
       "'B-Q2a'"
      ]
     },
     "execution_count": 16,
     "metadata": {},
     "output_type": "execute_result"
    }
   ],
   "source": [
    "Liste_B_Q2 = [col for col in Daten.columns if 'B-Q2' in col]\n",
    "Liste_B_Q2.pop(7)"
   ]
  },
  {
   "cell_type": "code",
   "execution_count": 17,
   "metadata": {},
   "outputs": [
    {
     "data": {
      "text/plain": [
       "'B-Q3a'"
      ]
     },
     "execution_count": 17,
     "metadata": {},
     "output_type": "execute_result"
    }
   ],
   "source": [
    "Liste_B_Q3 = [col for col in Daten.columns if 'B-Q3' in col]\n",
    "Liste_B_Q3.pop(8)"
   ]
  },
  {
   "cell_type": "code",
   "execution_count": 18,
   "metadata": {},
   "outputs": [
    {
     "data": {
      "text/plain": [
       "'C-Q1a'"
      ]
     },
     "execution_count": 18,
     "metadata": {},
     "output_type": "execute_result"
    }
   ],
   "source": [
    "Liste_C_Q1 = [col for col in Daten.columns if 'C-Q1' in col]\n",
    "Liste_C_Q1.pop(10)"
   ]
  },
  {
   "cell_type": "markdown",
   "metadata": {},
   "source": [
    "##### Visualisierung"
   ]
  },
  {
   "cell_type": "markdown",
   "metadata": {},
   "source": [
    "Funktion für Grafiken:"
   ]
  },
  {
   "cell_type": "code",
   "execution_count": 19,
   "metadata": {},
   "outputs": [],
   "source": [
    "def graf_hist(D,l,sx,sy,nrow,ncol):\n",
    "    fig = plt.figure(figsize=(sx,sy))\n",
    "    for i, col in enumerate(l):\n",
    "        plt.subplot(nrow,ncol,i+1)\n",
    "        plt.hist(D[col].dropna(),color = '#0063A6')\n",
    "        plt.xticks([1,2,3,4,5])\n",
    "        plt.title(col,size=13)\n",
    "    plt.show()"
   ]
  },
  {
   "cell_type": "markdown",
   "metadata": {},
   "source": [
    "##### Korrelation"
   ]
  },
  {
   "cell_type": "markdown",
   "metadata": {},
   "source": [
    "Funktion, um Daten mit bestimmtem Korrelationswert (z.B. über 0,5) zu erhalten:"
   ]
  },
  {
   "cell_type": "code",
   "execution_count": 20,
   "metadata": {},
   "outputs": [],
   "source": [
    "def get_max_corr(df,col,lim = 0.5):\n",
    "    return df[(df[col] > lim) & (df[col].dropna() < 0.99)][col]"
   ]
  },
  {
   "cell_type": "markdown",
   "metadata": {},
   "source": [
    "### Cronbach's Alpha berechnen"
   ]
  },
  {
   "cell_type": "code",
   "execution_count": 21,
   "metadata": {},
   "outputs": [],
   "source": [
    "def CronbachAlpha(itemscores):\n",
    "    itemscores = np.asarray(itemscores)\n",
    "    itemvars = itemscores.var(axis=0, ddof=1)\n",
    "    tscores = itemscores.sum(axis=1)\n",
    "    nitems = itemscores.shape[1]\n",
    "    calpha = nitems / float(nitems-1) * (1 - itemvars.sum() / float(tscores.var(ddof=1)))\n",
    "\n",
    "    return calpha"
   ]
  },
  {
   "cell_type": "code",
   "execution_count": 22,
   "metadata": {},
   "outputs": [
    {
     "data": {
      "text/plain": [
       "0.5524190574526145"
      ]
     },
     "execution_count": 22,
     "metadata": {},
     "output_type": "execute_result"
    }
   ],
   "source": [
    "CronbachAlpha(Daten[Liste_A_Q1])"
   ]
  },
  {
   "cell_type": "code",
   "execution_count": 23,
   "metadata": {},
   "outputs": [
    {
     "data": {
      "text/plain": [
       "0.7637261443086888"
      ]
     },
     "execution_count": 23,
     "metadata": {},
     "output_type": "execute_result"
    }
   ],
   "source": [
    "CronbachAlpha(Daten[Liste_B_Q2])"
   ]
  },
  {
   "cell_type": "code",
   "execution_count": 24,
   "metadata": {},
   "outputs": [
    {
     "data": {
      "text/plain": [
       "0.7620476726391444"
      ]
     },
     "execution_count": 24,
     "metadata": {},
     "output_type": "execute_result"
    }
   ],
   "source": [
    "CronbachAlpha(Daten[Liste_B_Q3])"
   ]
  },
  {
   "cell_type": "code",
   "execution_count": 25,
   "metadata": {},
   "outputs": [
    {
     "data": {
      "text/plain": [
       "0.5982037464716448"
      ]
     },
     "execution_count": 25,
     "metadata": {},
     "output_type": "execute_result"
    }
   ],
   "source": [
    "CronbachAlpha(Daten[Liste_C_Q1])"
   ]
  },
  {
   "cell_type": "code",
   "execution_count": 26,
   "metadata": {},
   "outputs": [],
   "source": [
    "Liste_AB = Liste_A_Q1 + Liste_B_Q2 + Liste_B_Q3"
   ]
  },
  {
   "cell_type": "code",
   "execution_count": 27,
   "metadata": {},
   "outputs": [],
   "source": [
    "Liste_ABC = Liste_AB + Liste_C_Q1"
   ]
  },
  {
   "cell_type": "code",
   "execution_count": 28,
   "metadata": {},
   "outputs": [
    {
     "data": {
      "text/plain": [
       "0.8659823433115793"
      ]
     },
     "execution_count": 28,
     "metadata": {},
     "output_type": "execute_result"
    }
   ],
   "source": [
    "CronbachAlpha(Daten[Liste_ABC])"
   ]
  },
  {
   "cell_type": "markdown",
   "metadata": {},
   "source": [
    "### Zeitanalyse"
   ]
  },
  {
   "cell_type": "code",
   "execution_count": 29,
   "metadata": {},
   "outputs": [],
   "source": [
    "Dur = Daten['Duration (in seconds)']"
   ]
  },
  {
   "cell_type": "code",
   "execution_count": 30,
   "metadata": {},
   "outputs": [],
   "source": [
    "Dur = pd.to_numeric(Daten['Duration (in seconds)'])"
   ]
  },
  {
   "cell_type": "code",
   "execution_count": 31,
   "metadata": {},
   "outputs": [
    {
     "data": {
      "text/plain": [
       "count        57.00000\n",
       "mean       8338.54386\n",
       "std       46396.52077\n",
       "min         377.00000\n",
       "25%         597.00000\n",
       "50%         854.00000\n",
       "75%        1053.00000\n",
       "max      345611.00000\n",
       "Name: Duration (in seconds), dtype: float64"
      ]
     },
     "execution_count": 31,
     "metadata": {},
     "output_type": "execute_result"
    }
   ],
   "source": [
    "Dur.describe()"
   ]
  },
  {
   "cell_type": "code",
   "execution_count": 32,
   "metadata": {},
   "outputs": [
    {
     "data": {
      "text/plain": [
       "<matplotlib.axes._subplots.AxesSubplot at 0x9844cf8>"
      ]
     },
     "execution_count": 32,
     "metadata": {},
     "output_type": "execute_result"
    },
    {
     "data": {
      "image/png": "[encoded data removed]",
      "text/plain": [
       "<Figure size 432x288 with 1 Axes>"
      ]
     },
     "metadata": {},
     "output_type": "display_data"
    }
   ],
   "source": [
    "Dur.plot.box()"
   ]
  },
  {
   "cell_type": "markdown",
   "metadata": {},
   "source": [
    "Überblick über die Beantwortungszeit und Darstellung in einem Boxplot, um Outlyers zu erkennen -> sollen nicht mit berücksichtigt werden (z.B. TN, die an einem Tag begonnen und später beendet haben...)\n",
    "\n",
    "sinnvoll ist, eine Grenze bei ca. einer Stunde Beantwortungszeit (3600 sek) festzulegen"
   ]
  },
  {
   "cell_type": "code",
   "execution_count": 33,
   "metadata": {},
   "outputs": [
    {
     "data": {
      "text/plain": [
       "<matplotlib.axes._subplots.AxesSubplot at 0x9940c18>"
      ]
     },
     "execution_count": 33,
     "metadata": {},
     "output_type": "execute_result"
    },
    {
     "data": {
      "image/png": "[encoded data removed]",
      "text/plain": [
       "<Figure size 432x288 with 1 Axes>"
      ]
     },
     "metadata": {},
     "output_type": "display_data"
    }
   ],
   "source": [
    "Dur[Dur < 4000].plot.box()"
   ]
  },
  {
   "cell_type": "code",
   "execution_count": 34,
   "metadata": {},
   "outputs": [
    {
     "data": {
      "text/plain": [
       "count      54.000000\n",
       "mean      896.203704\n",
       "std       454.417412\n",
       "min       377.000000\n",
       "25%       564.000000\n",
       "50%       761.000000\n",
       "75%      1014.500000\n",
       "max      2341.000000\n",
       "Name: Duration (in seconds), dtype: float64"
      ]
     },
     "execution_count": 34,
     "metadata": {},
     "output_type": "execute_result"
    }
   ],
   "source": [
    "Dur[Dur < 4000].describe()"
   ]
  },
  {
   "cell_type": "code",
   "execution_count": 35,
   "metadata": {},
   "outputs": [
    {
     "data": {
      "text/plain": [
       "14.936728395061728"
      ]
     },
     "execution_count": 35,
     "metadata": {},
     "output_type": "execute_result"
    }
   ],
   "source": [
    "(Dur[Dur < 4000].mean())/60"
   ]
  },
  {
   "cell_type": "markdown",
   "metadata": {},
   "source": [
    "Schlussfolgerung:\n",
    "\n",
    "Die durchschnittliche Beantwortungszeit liegt bei ca. 15min, wobei große Unterschiede zwischen den TN beobachtet werden können."
   ]
  },
  {
   "cell_type": "markdown",
   "metadata": {},
   "source": [
    "### Analyse der Angaben zur Strategiennutzung der Lernenden"
   ]
  },
  {
   "cell_type": "code",
   "execution_count": 36,
   "metadata": {},
   "outputs": [
    {
     "data": {
      "text/html": [
       "<div>\n",
       "<style scoped>\n",
       "    .dataframe tbody tr th:only-of-type {\n",
       "        vertical-align: middle;\n",
       "    }\n",
       "\n",
       "    .dataframe tbody tr th {\n",
       "        vertical-align: top;\n",
       "    }\n",
       "\n",
       "    .dataframe thead th {\n",
       "        text-align: right;\n",
       "    }\n",
       "</style>\n",
       "<table border=\"1\" class=\"dataframe\">\n",
       "  <thead>\n",
       "    <tr style=\"text-align: right;\">\n",
       "      <th></th>\n",
       "      <th>A-Q1_1</th>\n",
       "      <th>A-Q1_2</th>\n",
       "      <th>A-Q1_3</th>\n",
       "      <th>A-Q1_4</th>\n",
       "      <th>A-Q1_5</th>\n",
       "      <th>A-Q1_6</th>\n",
       "      <th>A-Q1_7</th>\n",
       "      <th>A-Q1_8</th>\n",
       "      <th>A-Q1_9</th>\n",
       "    </tr>\n",
       "  </thead>\n",
       "  <tbody>\n",
       "    <tr>\n",
       "      <th>count</th>\n",
       "      <td>57.000000</td>\n",
       "      <td>57.000000</td>\n",
       "      <td>57.000000</td>\n",
       "      <td>57.000000</td>\n",
       "      <td>57.000000</td>\n",
       "      <td>57.000000</td>\n",
       "      <td>56.000000</td>\n",
       "      <td>56.000000</td>\n",
       "      <td>55.000000</td>\n",
       "    </tr>\n",
       "    <tr>\n",
       "      <th>mean</th>\n",
       "      <td>2.912281</td>\n",
       "      <td>3.280702</td>\n",
       "      <td>3.245614</td>\n",
       "      <td>3.122807</td>\n",
       "      <td>3.912281</td>\n",
       "      <td>3.596491</td>\n",
       "      <td>4.232143</td>\n",
       "      <td>3.607143</td>\n",
       "      <td>3.745455</td>\n",
       "    </tr>\n",
       "    <tr>\n",
       "      <th>std</th>\n",
       "      <td>1.106486</td>\n",
       "      <td>0.674918</td>\n",
       "      <td>0.762531</td>\n",
       "      <td>0.825274</td>\n",
       "      <td>0.931219</td>\n",
       "      <td>1.099670</td>\n",
       "      <td>0.713279</td>\n",
       "      <td>1.021204</td>\n",
       "      <td>1.057919</td>\n",
       "    </tr>\n",
       "    <tr>\n",
       "      <th>min</th>\n",
       "      <td>1.000000</td>\n",
       "      <td>2.000000</td>\n",
       "      <td>1.000000</td>\n",
       "      <td>1.000000</td>\n",
       "      <td>1.000000</td>\n",
       "      <td>1.000000</td>\n",
       "      <td>2.000000</td>\n",
       "      <td>1.000000</td>\n",
       "      <td>1.000000</td>\n",
       "    </tr>\n",
       "    <tr>\n",
       "      <th>25%</th>\n",
       "      <td>2.000000</td>\n",
       "      <td>3.000000</td>\n",
       "      <td>3.000000</td>\n",
       "      <td>3.000000</td>\n",
       "      <td>3.000000</td>\n",
       "      <td>3.000000</td>\n",
       "      <td>4.000000</td>\n",
       "      <td>3.000000</td>\n",
       "      <td>3.000000</td>\n",
       "    </tr>\n",
       "    <tr>\n",
       "      <th>50%</th>\n",
       "      <td>3.000000</td>\n",
       "      <td>3.000000</td>\n",
       "      <td>3.000000</td>\n",
       "      <td>3.000000</td>\n",
       "      <td>4.000000</td>\n",
       "      <td>4.000000</td>\n",
       "      <td>4.000000</td>\n",
       "      <td>4.000000</td>\n",
       "      <td>4.000000</td>\n",
       "    </tr>\n",
       "    <tr>\n",
       "      <th>75%</th>\n",
       "      <td>4.000000</td>\n",
       "      <td>4.000000</td>\n",
       "      <td>4.000000</td>\n",
       "      <td>4.000000</td>\n",
       "      <td>5.000000</td>\n",
       "      <td>4.000000</td>\n",
       "      <td>5.000000</td>\n",
       "      <td>4.000000</td>\n",
       "      <td>5.000000</td>\n",
       "    </tr>\n",
       "    <tr>\n",
       "      <th>max</th>\n",
       "      <td>5.000000</td>\n",
       "      <td>5.000000</td>\n",
       "      <td>5.000000</td>\n",
       "      <td>5.000000</td>\n",
       "      <td>5.000000</td>\n",
       "      <td>5.000000</td>\n",
       "      <td>5.000000</td>\n",
       "      <td>5.000000</td>\n",
       "      <td>5.000000</td>\n",
       "    </tr>\n",
       "  </tbody>\n",
       "</table>\n",
       "</div>"
      ],
      "text/plain": [
       "          A-Q1_1     A-Q1_2     A-Q1_3     A-Q1_4     A-Q1_5     A-Q1_6  \\\n",
       "count  57.000000  57.000000  57.000000  57.000000  57.000000  57.000000   \n",
       "mean    2.912281   3.280702   3.245614   3.122807   3.912281   3.596491   \n",
       "std     1.106486   0.674918   0.762531   0.825274   0.931219   1.099670   \n",
       "min     1.000000   2.000000   1.000000   1.000000   1.000000   1.000000   \n",
       "25%     2.000000   3.000000   3.000000   3.000000   3.000000   3.000000   \n",
       "50%     3.000000   3.000000   3.000000   3.000000   4.000000   4.000000   \n",
       "75%     4.000000   4.000000   4.000000   4.000000   5.000000   4.000000   \n",
       "max     5.000000   5.000000   5.000000   5.000000   5.000000   5.000000   \n",
       "\n",
       "          A-Q1_7     A-Q1_8     A-Q1_9  \n",
       "count  56.000000  56.000000  55.000000  \n",
       "mean    4.232143   3.607143   3.745455  \n",
       "std     0.713279   1.021204   1.057919  \n",
       "min     2.000000   1.000000   1.000000  \n",
       "25%     4.000000   3.000000   3.000000  \n",
       "50%     4.000000   4.000000   4.000000  \n",
       "75%     5.000000   4.000000   5.000000  \n",
       "max     5.000000   5.000000   5.000000  "
      ]
     },
     "execution_count": 36,
     "metadata": {},
     "output_type": "execute_result"
    }
   ],
   "source": [
    "Daten[Daten[Liste_A_Q1] != 0][Liste_A_Q1].describe()"
   ]
  },
  {
   "cell_type": "code",
   "execution_count": 37,
   "metadata": {},
   "outputs": [
    {
     "data": {
      "image/png": "[encoded data removed]",
      "text/plain": [
       "<Figure size 1152x864 with 9 Axes>"
      ]
     },
     "metadata": {},
     "output_type": "display_data"
    }
   ],
   "source": [
    "graf_hist(Daten[Daten[Liste_A_Q1] != 0],Liste_A_Q1,16,12,3,4)"
   ]
  },
  {
   "cell_type": "markdown",
   "metadata": {},
   "source": [
    "1\n",
    "Los estudiantes descubren el significado o la función de palabras nuevas en alemán gracias a su lengua materna.\n",
    "\n",
    "2\n",
    "Los estudiantes comprenden palabras nuevas en alemán con la ayuda de otras lenguas.\n",
    "\n",
    "3\n",
    "Los estudiantes utilizan sus conocimientos de alemán, p. ej. otras palabras conocidas, las partes de la oración o la formación de palabras compuestas.\n",
    "\n",
    "4\n",
    "Los estudiantes utilizan información extraída del contexto, p. ej. la posición de una palabra en la frase o el formato del texto.\n",
    "\n",
    "5\n",
    "Los estudiantes le piden ayuda a usted o a otro/a profesor/a.\n",
    "\n",
    "6\n",
    "Los estudiantes piden ayuda a sus compañeros/as de clase.\n",
    "\n",
    "7\n",
    "Los estudiantes consultan un diccionario u otra fuente (en papel o digital).\n",
    "\n",
    "8\n",
    "Detecto claras diferencias individuales entre los estudiantes en cuanto al uso de las estrategias.\n",
    "\n",
    "9\n",
    "Detecto claras diferencias en el uso de las estrategias entre los distintos grupos de estudiantes, p. ej. principiantes - avanzados. "
   ]
  },
  {
   "cell_type": "markdown",
   "metadata": {},
   "source": [
    "Korrelation in A-Q1:"
   ]
  },
  {
   "cell_type": "code",
   "execution_count": 38,
   "metadata": {
    "scrolled": true
   },
   "outputs": [
    {
     "data": {
      "text/html": [
       "<div>\n",
       "<style scoped>\n",
       "    .dataframe tbody tr th:only-of-type {\n",
       "        vertical-align: middle;\n",
       "    }\n",
       "\n",
       "    .dataframe tbody tr th {\n",
       "        vertical-align: top;\n",
       "    }\n",
       "\n",
       "    .dataframe thead th {\n",
       "        text-align: right;\n",
       "    }\n",
       "</style>\n",
       "<table border=\"1\" class=\"dataframe\">\n",
       "  <thead>\n",
       "    <tr style=\"text-align: right;\">\n",
       "      <th></th>\n",
       "      <th>A-Q1_1</th>\n",
       "      <th>A-Q1_2</th>\n",
       "      <th>A-Q1_3</th>\n",
       "      <th>A-Q1_4</th>\n",
       "      <th>A-Q1_5</th>\n",
       "      <th>A-Q1_6</th>\n",
       "      <th>A-Q1_7</th>\n",
       "      <th>A-Q1_8</th>\n",
       "      <th>A-Q1_9</th>\n",
       "    </tr>\n",
       "  </thead>\n",
       "  <tbody>\n",
       "    <tr>\n",
       "      <th>A-Q1_1</th>\n",
       "      <td>1.000000</td>\n",
       "      <td>0.061026</td>\n",
       "      <td>0.133568</td>\n",
       "      <td>0.112598</td>\n",
       "      <td>0.238019</td>\n",
       "      <td>0.181021</td>\n",
       "      <td>-0.045611</td>\n",
       "      <td>-0.166188</td>\n",
       "      <td>-0.096314</td>\n",
       "    </tr>\n",
       "    <tr>\n",
       "      <th>A-Q1_2</th>\n",
       "      <td>0.061026</td>\n",
       "      <td>1.000000</td>\n",
       "      <td>0.258053</td>\n",
       "      <td>0.330217</td>\n",
       "      <td>0.446363</td>\n",
       "      <td>0.040218</td>\n",
       "      <td>0.174102</td>\n",
       "      <td>0.050909</td>\n",
       "      <td>0.081795</td>\n",
       "    </tr>\n",
       "    <tr>\n",
       "      <th>A-Q1_3</th>\n",
       "      <td>0.133568</td>\n",
       "      <td>0.258053</td>\n",
       "      <td>1.000000</td>\n",
       "      <td>0.480294</td>\n",
       "      <td>0.183095</td>\n",
       "      <td>0.065099</td>\n",
       "      <td>-0.070927</td>\n",
       "      <td>0.198303</td>\n",
       "      <td>0.192205</td>\n",
       "    </tr>\n",
       "    <tr>\n",
       "      <th>A-Q1_4</th>\n",
       "      <td>0.112598</td>\n",
       "      <td>0.330217</td>\n",
       "      <td>0.480294</td>\n",
       "      <td>1.000000</td>\n",
       "      <td>0.151274</td>\n",
       "      <td>-0.146442</td>\n",
       "      <td>-0.170321</td>\n",
       "      <td>0.163822</td>\n",
       "      <td>0.249874</td>\n",
       "    </tr>\n",
       "    <tr>\n",
       "      <th>A-Q1_5</th>\n",
       "      <td>0.238019</td>\n",
       "      <td>0.446363</td>\n",
       "      <td>0.183095</td>\n",
       "      <td>0.151274</td>\n",
       "      <td>1.000000</td>\n",
       "      <td>0.326999</td>\n",
       "      <td>0.187362</td>\n",
       "      <td>-0.065321</td>\n",
       "      <td>0.143310</td>\n",
       "    </tr>\n",
       "    <tr>\n",
       "      <th>A-Q1_6</th>\n",
       "      <td>0.181021</td>\n",
       "      <td>0.040218</td>\n",
       "      <td>0.065099</td>\n",
       "      <td>-0.146442</td>\n",
       "      <td>0.326999</td>\n",
       "      <td>1.000000</td>\n",
       "      <td>-0.040420</td>\n",
       "      <td>0.053246</td>\n",
       "      <td>0.105193</td>\n",
       "    </tr>\n",
       "    <tr>\n",
       "      <th>A-Q1_7</th>\n",
       "      <td>-0.045611</td>\n",
       "      <td>0.174102</td>\n",
       "      <td>-0.070927</td>\n",
       "      <td>-0.170321</td>\n",
       "      <td>0.187362</td>\n",
       "      <td>-0.040420</td>\n",
       "      <td>1.000000</td>\n",
       "      <td>-0.086684</td>\n",
       "      <td>0.090811</td>\n",
       "    </tr>\n",
       "    <tr>\n",
       "      <th>A-Q1_8</th>\n",
       "      <td>-0.166188</td>\n",
       "      <td>0.050909</td>\n",
       "      <td>0.198303</td>\n",
       "      <td>0.163822</td>\n",
       "      <td>-0.065321</td>\n",
       "      <td>0.053246</td>\n",
       "      <td>-0.086684</td>\n",
       "      <td>1.000000</td>\n",
       "      <td>0.471077</td>\n",
       "    </tr>\n",
       "    <tr>\n",
       "      <th>A-Q1_9</th>\n",
       "      <td>-0.096314</td>\n",
       "      <td>0.081795</td>\n",
       "      <td>0.192205</td>\n",
       "      <td>0.249874</td>\n",
       "      <td>0.143310</td>\n",
       "      <td>0.105193</td>\n",
       "      <td>0.090811</td>\n",
       "      <td>0.471077</td>\n",
       "      <td>1.000000</td>\n",
       "    </tr>\n",
       "  </tbody>\n",
       "</table>\n",
       "</div>"
      ],
      "text/plain": [
       "          A-Q1_1    A-Q1_2    A-Q1_3    A-Q1_4    A-Q1_5    A-Q1_6    A-Q1_7  \\\n",
       "A-Q1_1  1.000000  0.061026  0.133568  0.112598  0.238019  0.181021 -0.045611   \n",
       "A-Q1_2  0.061026  1.000000  0.258053  0.330217  0.446363  0.040218  0.174102   \n",
       "A-Q1_3  0.133568  0.258053  1.000000  0.480294  0.183095  0.065099 -0.070927   \n",
       "A-Q1_4  0.112598  0.330217  0.480294  1.000000  0.151274 -0.146442 -0.170321   \n",
       "A-Q1_5  0.238019  0.446363  0.183095  0.151274  1.000000  0.326999  0.187362   \n",
       "A-Q1_6  0.181021  0.040218  0.065099 -0.146442  0.326999  1.000000 -0.040420   \n",
       "A-Q1_7 -0.045611  0.174102 -0.070927 -0.170321  0.187362 -0.040420  1.000000   \n",
       "A-Q1_8 -0.166188  0.050909  0.198303  0.163822 -0.065321  0.053246 -0.086684   \n",
       "A-Q1_9 -0.096314  0.081795  0.192205  0.249874  0.143310  0.105193  0.090811   \n",
       "\n",
       "          A-Q1_8    A-Q1_9  \n",
       "A-Q1_1 -0.166188 -0.096314  \n",
       "A-Q1_2  0.050909  0.081795  \n",
       "A-Q1_3  0.198303  0.192205  \n",
       "A-Q1_4  0.163822  0.249874  \n",
       "A-Q1_5 -0.065321  0.143310  \n",
       "A-Q1_6  0.053246  0.105193  \n",
       "A-Q1_7 -0.086684  0.090811  \n",
       "A-Q1_8  1.000000  0.471077  \n",
       "A-Q1_9  0.471077  1.000000  "
      ]
     },
     "execution_count": 38,
     "metadata": {},
     "output_type": "execute_result"
    }
   ],
   "source": [
    "Korr_A_Q1 = Daten[Liste_A_Q1].corr(method = 'spearman')\n",
    "Korr_A_Q1"
   ]
  },
  {
   "cell_type": "code",
   "execution_count": 39,
   "metadata": {},
   "outputs": [
    {
     "name": "stdout",
     "output_type": "stream",
     "text": [
      "Series([], Name: A-Q1_1, dtype: float64)\n",
      "Series([], Name: A-Q1_2, dtype: float64)\n",
      "Series([], Name: A-Q1_3, dtype: float64)\n",
      "Series([], Name: A-Q1_4, dtype: float64)\n",
      "Series([], Name: A-Q1_5, dtype: float64)\n",
      "Series([], Name: A-Q1_6, dtype: float64)\n",
      "Series([], Name: A-Q1_7, dtype: float64)\n",
      "Series([], Name: A-Q1_8, dtype: float64)\n",
      "Series([], Name: A-Q1_9, dtype: float64)\n"
     ]
    }
   ],
   "source": [
    "for col in Liste_A_Q1:\n",
    "    print(get_max_corr(Korr_A_Q1,col,0.5))"
   ]
  },
  {
   "cell_type": "markdown",
   "metadata": {},
   "source": [
    "### Erschließungsstrategien im Unterricht"
   ]
  },
  {
   "cell_type": "markdown",
   "metadata": {},
   "source": [
    "#### B-Q1 (32 Einzelstrategien)"
   ]
  },
  {
   "cell_type": "code",
   "execution_count": 40,
   "metadata": {},
   "outputs": [
    {
     "data": {
      "image/png": "[encoded data removed]",
      "text/plain": [
       "<Figure size 504x720 with 1 Axes>"
      ]
     },
     "metadata": {},
     "output_type": "display_data"
    }
   ],
   "source": [
    "Daten[Liste_B_Q1].sum(axis=0).sort_values(ascending=True).plot(kind='barh', figsize=(7,10));"
   ]
  },
  {
   "cell_type": "code",
   "execution_count": 56,
   "metadata": {},
   "outputs": [
    {
     "data": {
      "text/plain": [
       "B-Q1_32    53\n",
       "B-Q1_2     51\n",
       "B-Q1_6     49\n",
       "B-Q1_20    47\n",
       "B-Q1_7     46\n",
       "B-Q1_15    43\n",
       "B-Q1_13    42\n",
       "B-Q1_18    42\n",
       "B-Q1_1     41\n",
       "B-Q1_8     40\n",
       "B-Q1_10    40\n",
       "B-Q1_16    40\n",
       "B-Q1_26    39\n",
       "B-Q1_19    39\n",
       "B-Q1_9     38\n",
       "B-Q1_22    38\n",
       "B-Q1_4     34\n",
       "B-Q1_24    31\n",
       "B-Q1_17    29\n",
       "B-Q1_14    29\n",
       "B-Q1_12    29\n",
       "B-Q1_27    28\n",
       "B-Q1_3     28\n",
       "B-Q1_23    26\n",
       "B-Q1_5     26\n",
       "B-Q1_11    24\n",
       "B-Q1_21    17\n",
       "B-Q1_25    15\n",
       "B-Q1_33     4\n",
       "dtype: int64"
      ]
     },
     "execution_count": 56,
     "metadata": {},
     "output_type": "execute_result"
    }
   ],
   "source": [
    "Daten[Liste_B_Q1].sum(axis=0).sort_values(ascending=False)"
   ]
  },
  {
   "cell_type": "markdown",
   "metadata": {},
   "source": [
    "- (1) Unbekannte deutsche Wörter mit gleich oder ähnlich geschriebenen Wörtern in der Muttersprache vergleichen\n",
    "- (2) Unbekannte deutsche Wörter mit gleich oder ähnlich geschriebenen Wörtern in Englisch vergleichen (z.B. dt. Licht - engl. light)\n",
    "- (3) Unbekannte deutsche Wörter mit gleich oder ähnlich geschriebenen Wörtern in anderen Sprachen vergleichen. Optional: Wenn Sie eine oder mehrere bestimmte Sprachen dafür empfehlen, können Sie sie hier angeben:\n",
    "- (32) Kenntnisse von Internationalismen nutzen (z.B. Akademie, Kaffee, Transport)\n",
    "- (4) Klangbild aktivieren, z.B. durch leises Vorsprechen oder Vorstellen des Klanges, um ähnlich klingende Wörter in der Muttersprache oder einer anderen Sprache zu finden (z.B. dt. Haus - engl. house)\n",
    "- (5) Kenntnisse über Lautentsprechungen zwischen Deutsch und anderen (germanischen) Sprachen und/oder über die historische Entwicklung der deutschen Sprache nutzen (z.B. engl. d - dt. t: day - Tag, p – f: hope – hoffen, ship - Schiff)\n",
    "- (6) Wissen über die Wortbildungsregeln des Deutschen nutzen (z.B. Kompositabildung, typische Endungen für bestimmte Wortarten)\n",
    "- (7) Aus Teilbedeutung zusammengesetzter Wörter (z.B. Stamm, Prä- und Suffixe, Teile von Komposita) auf die Gesamtbedeutung schließen\n",
    "- (8) Wissen über Bestandteile von Wörtern, die grammatische Funktionen anzeigen, nutzen (z.B. Pluraloder Kasusmarkierungen für Substantive, typische Endungen von Verben in verschiedenen Zeitformen/Tempora etc.)\n",
    "- (9) Wissen über orthografische Regeln des Deutschen nutzen (z.B. Großschreibung der Substantive, Bindestriche in zusammengesetzten Wörtern, Punkt oder Komma als Strukturierungshilfen etc.)\n",
    "- (10) Wissen über die Satzstellung im Deutschen nutzen (z.B. Personalform des Verbes an zweiter Position im Satz, Verbal/Satzklammer etc.)\n",
    "- (11) Den grammatikalischen Aufbau von (Teil-)Sätzen analysieren, um Verbindungen zwischen bekannten und unbekannten Wörtern zu finden\n",
    "- (12) Die semantischen Beziehungen zwischen bekannten und unbekannten Wörtern analysieren\n",
    "- (13) Systematische lexikalische Beziehungen wie Synonyme, Antonyme, Reihungen, Über- und Unterbegriffe beachten\n",
    "- (14) Verwendung von Konnektoren und anderen Mitteln der Textverbindung wie Pronomen, Adverbien etc. beachten\n",
    "- (15) Erklärungshilfen im Text wie Paraphrasen, Definitionen, Erklärungen, Beispiele etc., die das unbekannte Wort umschreiben oder erklären, nutzen\n",
    "- (16) Logische Zusammenhänge im Text nutzen (z.B. Ursache – Wirkung, vorher – nachher etc.)\n",
    "- (17) Textsortenwissen nutzen\n",
    "- (18) Wissen über das im Text behandelte Thema nutzen\n",
    "- (19) Kulturspezifisches und landeskundliches Wissen nutzen (z.B. Namen berühmter Persönlichkeiten, geographische oder politische Informationen)\n",
    "- (20) Gesunden Menschenverstand und allgemeines Weltwissen nutzen\n",
    "- (21) Format und visuelle Textgestalt beachten (z.B. Layout, Schriftart und -größe, Hervorhebungen etc.)\n",
    "- (22) Bilder, Grafiken, Diagramme, audiovisuelle Elemente (auf Internetseiten) etc. nutzen\n",
    "- (23) Zahlen oder andere verständliche Zeichen nutzen\n",
    "- (24) Wissen über die Kommunikationssituation oder den Kontext der Veröffentlichung nutzen (z.B. Ort, Zeit, Situation, in der ein Text gefunden wurde)\n",
    "- (25) Hyperlinks beim Erschließen von unbekannten Wörtern in Texten im Internet nutzen\n",
    "- (26) Verschiedene Strategien kombinieren, um die Erschließung unbekannter Wörter abzusichern\n",
    "- (27) Erschließungsstrategien situationsabhängig einsetzen, z.B. nach Textsorte oder Schwierigkeitsgrad der Texte\n",
    "- (33) Andere:\n",
    "- (34) Keine"
   ]
  },
  {
   "cell_type": "markdown",
   "metadata": {},
   "source": [
    "#### B-Q2 (Methoden)"
   ]
  },
  {
   "cell_type": "code",
   "execution_count": 41,
   "metadata": {},
   "outputs": [
    {
     "data": {
      "text/html": [
       "<div>\n",
       "<style scoped>\n",
       "    .dataframe tbody tr th:only-of-type {\n",
       "        vertical-align: middle;\n",
       "    }\n",
       "\n",
       "    .dataframe tbody tr th {\n",
       "        vertical-align: top;\n",
       "    }\n",
       "\n",
       "    .dataframe thead th {\n",
       "        text-align: right;\n",
       "    }\n",
       "</style>\n",
       "<table border=\"1\" class=\"dataframe\">\n",
       "  <thead>\n",
       "    <tr style=\"text-align: right;\">\n",
       "      <th></th>\n",
       "      <th>B-Q2_1</th>\n",
       "      <th>B-Q2_2</th>\n",
       "      <th>B-Q2_3</th>\n",
       "      <th>B-Q2_4</th>\n",
       "      <th>B-Q2_5</th>\n",
       "      <th>B-Q2_6</th>\n",
       "      <th>B-Q2_8</th>\n",
       "    </tr>\n",
       "  </thead>\n",
       "  <tbody>\n",
       "    <tr>\n",
       "      <th>count</th>\n",
       "      <td>56.000000</td>\n",
       "      <td>57.000000</td>\n",
       "      <td>57.000000</td>\n",
       "      <td>57.000000</td>\n",
       "      <td>57.00000</td>\n",
       "      <td>57.000000</td>\n",
       "      <td>57.000000</td>\n",
       "    </tr>\n",
       "    <tr>\n",
       "      <th>mean</th>\n",
       "      <td>3.428571</td>\n",
       "      <td>3.140351</td>\n",
       "      <td>3.596491</td>\n",
       "      <td>2.859649</td>\n",
       "      <td>2.54386</td>\n",
       "      <td>3.140351</td>\n",
       "      <td>3.210526</td>\n",
       "    </tr>\n",
       "    <tr>\n",
       "      <th>std</th>\n",
       "      <td>1.024378</td>\n",
       "      <td>1.355394</td>\n",
       "      <td>1.131681</td>\n",
       "      <td>1.245543</td>\n",
       "      <td>1.16604</td>\n",
       "      <td>1.140780</td>\n",
       "      <td>1.346117</td>\n",
       "    </tr>\n",
       "    <tr>\n",
       "      <th>min</th>\n",
       "      <td>1.000000</td>\n",
       "      <td>1.000000</td>\n",
       "      <td>1.000000</td>\n",
       "      <td>1.000000</td>\n",
       "      <td>1.00000</td>\n",
       "      <td>1.000000</td>\n",
       "      <td>1.000000</td>\n",
       "    </tr>\n",
       "    <tr>\n",
       "      <th>25%</th>\n",
       "      <td>3.000000</td>\n",
       "      <td>2.000000</td>\n",
       "      <td>3.000000</td>\n",
       "      <td>2.000000</td>\n",
       "      <td>2.00000</td>\n",
       "      <td>3.000000</td>\n",
       "      <td>2.000000</td>\n",
       "    </tr>\n",
       "    <tr>\n",
       "      <th>50%</th>\n",
       "      <td>3.000000</td>\n",
       "      <td>3.000000</td>\n",
       "      <td>4.000000</td>\n",
       "      <td>3.000000</td>\n",
       "      <td>2.00000</td>\n",
       "      <td>3.000000</td>\n",
       "      <td>3.000000</td>\n",
       "    </tr>\n",
       "    <tr>\n",
       "      <th>75%</th>\n",
       "      <td>4.000000</td>\n",
       "      <td>4.000000</td>\n",
       "      <td>5.000000</td>\n",
       "      <td>4.000000</td>\n",
       "      <td>3.00000</td>\n",
       "      <td>4.000000</td>\n",
       "      <td>4.000000</td>\n",
       "    </tr>\n",
       "    <tr>\n",
       "      <th>max</th>\n",
       "      <td>5.000000</td>\n",
       "      <td>5.000000</td>\n",
       "      <td>5.000000</td>\n",
       "      <td>5.000000</td>\n",
       "      <td>5.00000</td>\n",
       "      <td>5.000000</td>\n",
       "      <td>5.000000</td>\n",
       "    </tr>\n",
       "  </tbody>\n",
       "</table>\n",
       "</div>"
      ],
      "text/plain": [
       "          B-Q2_1     B-Q2_2     B-Q2_3     B-Q2_4    B-Q2_5     B-Q2_6  \\\n",
       "count  56.000000  57.000000  57.000000  57.000000  57.00000  57.000000   \n",
       "mean    3.428571   3.140351   3.596491   2.859649   2.54386   3.140351   \n",
       "std     1.024378   1.355394   1.131681   1.245543   1.16604   1.140780   \n",
       "min     1.000000   1.000000   1.000000   1.000000   1.00000   1.000000   \n",
       "25%     3.000000   2.000000   3.000000   2.000000   2.00000   3.000000   \n",
       "50%     3.000000   3.000000   4.000000   3.000000   2.00000   3.000000   \n",
       "75%     4.000000   4.000000   5.000000   4.000000   3.00000   4.000000   \n",
       "max     5.000000   5.000000   5.000000   5.000000   5.00000   5.000000   \n",
       "\n",
       "          B-Q2_8  \n",
       "count  57.000000  \n",
       "mean    3.210526  \n",
       "std     1.346117  \n",
       "min     1.000000  \n",
       "25%     2.000000  \n",
       "50%     3.000000  \n",
       "75%     4.000000  \n",
       "max     5.000000  "
      ]
     },
     "execution_count": 41,
     "metadata": {},
     "output_type": "execute_result"
    }
   ],
   "source": [
    "Daten[Daten[Liste_B_Q2] != 0][Liste_B_Q2].describe()"
   ]
  },
  {
   "cell_type": "code",
   "execution_count": 42,
   "metadata": {},
   "outputs": [
    {
     "data": {
      "image/png": "[encoded data removed]",
      "text/plain": [
       "<Figure size 1152x576 with 7 Axes>"
      ]
     },
     "metadata": {},
     "output_type": "display_data"
    }
   ],
   "source": [
    "graf_hist(Daten[Daten[Liste_B_Q2] != 0],Liste_B_Q2,16,8,2,4)"
   ]
  },
  {
   "cell_type": "code",
   "execution_count": 57,
   "metadata": {},
   "outputs": [
    {
     "data": {
      "text/plain": [
       "B-Q2_3    3.596491\n",
       "B-Q2_1    3.368421\n",
       "B-Q2_8    3.210526\n",
       "B-Q2_6    3.140351\n",
       "B-Q2_2    3.140351\n",
       "B-Q2_4    2.859649\n",
       "B-Q2_5    2.543860\n",
       "dtype: float64"
      ]
     },
     "execution_count": 57,
     "metadata": {},
     "output_type": "execute_result"
    }
   ],
   "source": [
    "Daten[Liste_B_Q2].mean().sort_values(ascending = False)"
   ]
  },
  {
   "cell_type": "markdown",
   "metadata": {},
   "source": [
    "1\n",
    "Estas estrategias se presentan (y explican) en clase.\n",
    "\n",
    "2\n",
    "Los estudiantes reciben consejos sobre cómo familiarizarse de manera autónoma con estas estrategias, p. ej. mediante páginas web, libros u otros materiales sobre estrategias de aprendizaje. \n",
    "\n",
    "3\n",
    "Estas estrategias se explican y se practican con ejemplos conretos, realizando tareas, p. ej. leyendo un texto difícil.\n",
    "\n",
    "8\n",
    "Se pregunta a los estudiantes sobre sus conocimientos previos, p. ej. qué estrategias conocen y/o saben utilizar. \n",
    "\n",
    "4\n",
    "Se prueban y se comparan diferentes estrategias.\n",
    "\n",
    "5\n",
    "Se reflexiona sobre el uso de estas estrategias, p. ej. sobre qué estrategia sería adecuada en una situación y/o para una persona determinada.\n",
    "\n",
    "6\n",
    "Los estudiantes adquieren estas estrategias de manera inconsciente durante las clases, p. ej. mientras leen textos difíciles, sin que se requiera una explicación o indicación específica."
   ]
  },
  {
   "cell_type": "markdown",
   "metadata": {},
   "source": [
    "Korrelation in B-Q2:"
   ]
  },
  {
   "cell_type": "code",
   "execution_count": 43,
   "metadata": {},
   "outputs": [
    {
     "data": {
      "text/html": [
       "<div>\n",
       "<style scoped>\n",
       "    .dataframe tbody tr th:only-of-type {\n",
       "        vertical-align: middle;\n",
       "    }\n",
       "\n",
       "    .dataframe tbody tr th {\n",
       "        vertical-align: top;\n",
       "    }\n",
       "\n",
       "    .dataframe thead th {\n",
       "        text-align: right;\n",
       "    }\n",
       "</style>\n",
       "<table border=\"1\" class=\"dataframe\">\n",
       "  <thead>\n",
       "    <tr style=\"text-align: right;\">\n",
       "      <th></th>\n",
       "      <th>B-Q2_1</th>\n",
       "      <th>B-Q2_2</th>\n",
       "      <th>B-Q2_3</th>\n",
       "      <th>B-Q2_4</th>\n",
       "      <th>B-Q2_5</th>\n",
       "      <th>B-Q2_6</th>\n",
       "      <th>B-Q2_8</th>\n",
       "    </tr>\n",
       "  </thead>\n",
       "  <tbody>\n",
       "    <tr>\n",
       "      <th>B-Q2_1</th>\n",
       "      <td>1.000000</td>\n",
       "      <td>0.311883</td>\n",
       "      <td>0.510349</td>\n",
       "      <td>0.460143</td>\n",
       "      <td>0.436681</td>\n",
       "      <td>-0.179549</td>\n",
       "      <td>0.342957</td>\n",
       "    </tr>\n",
       "    <tr>\n",
       "      <th>B-Q2_2</th>\n",
       "      <td>0.311883</td>\n",
       "      <td>1.000000</td>\n",
       "      <td>0.423075</td>\n",
       "      <td>0.506595</td>\n",
       "      <td>0.560977</td>\n",
       "      <td>-0.116062</td>\n",
       "      <td>0.425525</td>\n",
       "    </tr>\n",
       "    <tr>\n",
       "      <th>B-Q2_3</th>\n",
       "      <td>0.510349</td>\n",
       "      <td>0.423075</td>\n",
       "      <td>1.000000</td>\n",
       "      <td>0.494464</td>\n",
       "      <td>0.454988</td>\n",
       "      <td>-0.156597</td>\n",
       "      <td>0.349275</td>\n",
       "    </tr>\n",
       "    <tr>\n",
       "      <th>B-Q2_4</th>\n",
       "      <td>0.460143</td>\n",
       "      <td>0.506595</td>\n",
       "      <td>0.494464</td>\n",
       "      <td>1.000000</td>\n",
       "      <td>0.722663</td>\n",
       "      <td>-0.099747</td>\n",
       "      <td>0.600651</td>\n",
       "    </tr>\n",
       "    <tr>\n",
       "      <th>B-Q2_5</th>\n",
       "      <td>0.436681</td>\n",
       "      <td>0.560977</td>\n",
       "      <td>0.454988</td>\n",
       "      <td>0.722663</td>\n",
       "      <td>1.000000</td>\n",
       "      <td>-0.089832</td>\n",
       "      <td>0.530554</td>\n",
       "    </tr>\n",
       "    <tr>\n",
       "      <th>B-Q2_6</th>\n",
       "      <td>-0.179549</td>\n",
       "      <td>-0.116062</td>\n",
       "      <td>-0.156597</td>\n",
       "      <td>-0.099747</td>\n",
       "      <td>-0.089832</td>\n",
       "      <td>1.000000</td>\n",
       "      <td>0.071078</td>\n",
       "    </tr>\n",
       "    <tr>\n",
       "      <th>B-Q2_8</th>\n",
       "      <td>0.342957</td>\n",
       "      <td>0.425525</td>\n",
       "      <td>0.349275</td>\n",
       "      <td>0.600651</td>\n",
       "      <td>0.530554</td>\n",
       "      <td>0.071078</td>\n",
       "      <td>1.000000</td>\n",
       "    </tr>\n",
       "  </tbody>\n",
       "</table>\n",
       "</div>"
      ],
      "text/plain": [
       "          B-Q2_1    B-Q2_2    B-Q2_3    B-Q2_4    B-Q2_5    B-Q2_6    B-Q2_8\n",
       "B-Q2_1  1.000000  0.311883  0.510349  0.460143  0.436681 -0.179549  0.342957\n",
       "B-Q2_2  0.311883  1.000000  0.423075  0.506595  0.560977 -0.116062  0.425525\n",
       "B-Q2_3  0.510349  0.423075  1.000000  0.494464  0.454988 -0.156597  0.349275\n",
       "B-Q2_4  0.460143  0.506595  0.494464  1.000000  0.722663 -0.099747  0.600651\n",
       "B-Q2_5  0.436681  0.560977  0.454988  0.722663  1.000000 -0.089832  0.530554\n",
       "B-Q2_6 -0.179549 -0.116062 -0.156597 -0.099747 -0.089832  1.000000  0.071078\n",
       "B-Q2_8  0.342957  0.425525  0.349275  0.600651  0.530554  0.071078  1.000000"
      ]
     },
     "execution_count": 43,
     "metadata": {},
     "output_type": "execute_result"
    }
   ],
   "source": [
    "Korr_B_Q2 = Daten[Liste_B_Q2].corr(method = 'spearman')\n",
    "Korr_B_Q2"
   ]
  },
  {
   "cell_type": "code",
   "execution_count": 44,
   "metadata": {},
   "outputs": [
    {
     "name": "stdout",
     "output_type": "stream",
     "text": [
      "Series([], Name: B-Q2_1, dtype: float64)\n",
      "Series([], Name: B-Q2_2, dtype: float64)\n",
      "Series([], Name: B-Q2_3, dtype: float64)\n",
      "B-Q2_5    0.722663\n",
      "B-Q2_8    0.600651\n",
      "Name: B-Q2_4, dtype: float64\n",
      "B-Q2_4    0.722663\n",
      "Name: B-Q2_5, dtype: float64\n",
      "Series([], Name: B-Q2_6, dtype: float64)\n",
      "B-Q2_4    0.600651\n",
      "Name: B-Q2_8, dtype: float64\n"
     ]
    }
   ],
   "source": [
    "for col in Liste_B_Q2:\n",
    "    print(get_max_corr(Korr_B_Q2,col,0.6))"
   ]
  },
  {
   "cell_type": "markdown",
   "metadata": {},
   "source": [
    "#### B-Q3 (Quellen und Material)"
   ]
  },
  {
   "cell_type": "code",
   "execution_count": 45,
   "metadata": {},
   "outputs": [
    {
     "data": {
      "text/html": [
       "<div>\n",
       "<style scoped>\n",
       "    .dataframe tbody tr th:only-of-type {\n",
       "        vertical-align: middle;\n",
       "    }\n",
       "\n",
       "    .dataframe tbody tr th {\n",
       "        vertical-align: top;\n",
       "    }\n",
       "\n",
       "    .dataframe thead th {\n",
       "        text-align: right;\n",
       "    }\n",
       "</style>\n",
       "<table border=\"1\" class=\"dataframe\">\n",
       "  <thead>\n",
       "    <tr style=\"text-align: right;\">\n",
       "      <th></th>\n",
       "      <th>B-Q3_1</th>\n",
       "      <th>B-Q3_2</th>\n",
       "      <th>B-Q3_3</th>\n",
       "      <th>B-Q3_4</th>\n",
       "      <th>B-Q3_5</th>\n",
       "      <th>B-Q3_6</th>\n",
       "      <th>B-Q3_7</th>\n",
       "      <th>B-Q3_8</th>\n",
       "    </tr>\n",
       "  </thead>\n",
       "  <tbody>\n",
       "    <tr>\n",
       "      <th>count</th>\n",
       "      <td>57.000000</td>\n",
       "      <td>55.000000</td>\n",
       "      <td>56.000000</td>\n",
       "      <td>57.000000</td>\n",
       "      <td>51.000000</td>\n",
       "      <td>54.000000</td>\n",
       "      <td>56.000000</td>\n",
       "      <td>55.000000</td>\n",
       "    </tr>\n",
       "    <tr>\n",
       "      <th>mean</th>\n",
       "      <td>2.578947</td>\n",
       "      <td>2.636364</td>\n",
       "      <td>2.660714</td>\n",
       "      <td>2.964912</td>\n",
       "      <td>2.901961</td>\n",
       "      <td>2.277778</td>\n",
       "      <td>2.821429</td>\n",
       "      <td>2.763636</td>\n",
       "    </tr>\n",
       "    <tr>\n",
       "      <th>std</th>\n",
       "      <td>1.164158</td>\n",
       "      <td>1.324465</td>\n",
       "      <td>1.391883</td>\n",
       "      <td>1.133341</td>\n",
       "      <td>1.253075</td>\n",
       "      <td>1.337650</td>\n",
       "      <td>1.322630</td>\n",
       "      <td>1.490260</td>\n",
       "    </tr>\n",
       "    <tr>\n",
       "      <th>min</th>\n",
       "      <td>1.000000</td>\n",
       "      <td>1.000000</td>\n",
       "      <td>1.000000</td>\n",
       "      <td>1.000000</td>\n",
       "      <td>1.000000</td>\n",
       "      <td>1.000000</td>\n",
       "      <td>1.000000</td>\n",
       "      <td>1.000000</td>\n",
       "    </tr>\n",
       "    <tr>\n",
       "      <th>25%</th>\n",
       "      <td>2.000000</td>\n",
       "      <td>2.000000</td>\n",
       "      <td>1.000000</td>\n",
       "      <td>2.000000</td>\n",
       "      <td>2.000000</td>\n",
       "      <td>1.000000</td>\n",
       "      <td>2.000000</td>\n",
       "      <td>1.000000</td>\n",
       "    </tr>\n",
       "    <tr>\n",
       "      <th>50%</th>\n",
       "      <td>3.000000</td>\n",
       "      <td>2.000000</td>\n",
       "      <td>2.000000</td>\n",
       "      <td>3.000000</td>\n",
       "      <td>3.000000</td>\n",
       "      <td>2.000000</td>\n",
       "      <td>3.000000</td>\n",
       "      <td>3.000000</td>\n",
       "    </tr>\n",
       "    <tr>\n",
       "      <th>75%</th>\n",
       "      <td>3.000000</td>\n",
       "      <td>3.500000</td>\n",
       "      <td>4.000000</td>\n",
       "      <td>4.000000</td>\n",
       "      <td>4.000000</td>\n",
       "      <td>3.000000</td>\n",
       "      <td>4.000000</td>\n",
       "      <td>4.000000</td>\n",
       "    </tr>\n",
       "    <tr>\n",
       "      <th>max</th>\n",
       "      <td>5.000000</td>\n",
       "      <td>5.000000</td>\n",
       "      <td>5.000000</td>\n",
       "      <td>5.000000</td>\n",
       "      <td>5.000000</td>\n",
       "      <td>5.000000</td>\n",
       "      <td>5.000000</td>\n",
       "      <td>5.000000</td>\n",
       "    </tr>\n",
       "  </tbody>\n",
       "</table>\n",
       "</div>"
      ],
      "text/plain": [
       "          B-Q3_1     B-Q3_2     B-Q3_3     B-Q3_4     B-Q3_5     B-Q3_6  \\\n",
       "count  57.000000  55.000000  56.000000  57.000000  51.000000  54.000000   \n",
       "mean    2.578947   2.636364   2.660714   2.964912   2.901961   2.277778   \n",
       "std     1.164158   1.324465   1.391883   1.133341   1.253075   1.337650   \n",
       "min     1.000000   1.000000   1.000000   1.000000   1.000000   1.000000   \n",
       "25%     2.000000   2.000000   1.000000   2.000000   2.000000   1.000000   \n",
       "50%     3.000000   2.000000   2.000000   3.000000   3.000000   2.000000   \n",
       "75%     3.000000   3.500000   4.000000   4.000000   4.000000   3.000000   \n",
       "max     5.000000   5.000000   5.000000   5.000000   5.000000   5.000000   \n",
       "\n",
       "          B-Q3_7     B-Q3_8  \n",
       "count  56.000000  55.000000  \n",
       "mean    2.821429   2.763636  \n",
       "std     1.322630   1.490260  \n",
       "min     1.000000   1.000000  \n",
       "25%     2.000000   1.000000  \n",
       "50%     3.000000   3.000000  \n",
       "75%     4.000000   4.000000  \n",
       "max     5.000000   5.000000  "
      ]
     },
     "execution_count": 45,
     "metadata": {},
     "output_type": "execute_result"
    }
   ],
   "source": [
    "Daten[Daten[Liste_B_Q3] != 0][Liste_B_Q3].describe()"
   ]
  },
  {
   "cell_type": "code",
   "execution_count": 46,
   "metadata": {},
   "outputs": [
    {
     "data": {
      "text/plain": [
       "B-Q3_4    2.964912\n",
       "B-Q3_5    2.901961\n",
       "B-Q3_7    2.821429\n",
       "B-Q3_8    2.763636\n",
       "B-Q3_3    2.660714\n",
       "B-Q3_2    2.636364\n",
       "B-Q3_1    2.578947\n",
       "B-Q3_6    2.277778\n",
       "dtype: float64"
      ]
     },
     "execution_count": 46,
     "metadata": {},
     "output_type": "execute_result"
    }
   ],
   "source": [
    "Daten[Daten[Liste_B_Q3] != 0][Liste_B_Q3].mean().sort_values(ascending = False)"
   ]
  },
  {
   "cell_type": "code",
   "execution_count": 47,
   "metadata": {},
   "outputs": [
    {
     "name": "stdout",
     "output_type": "stream",
     "text": [
      "29\n",
      "27\n",
      "27\n",
      "38\n",
      "31\n",
      "19\n",
      "30\n",
      "30\n"
     ]
    }
   ],
   "source": [
    "for col in Liste_B_Q3:\n",
    "    print(Daten[Daten[col] >= 3].shape[0])"
   ]
  },
  {
   "cell_type": "code",
   "execution_count": 48,
   "metadata": {},
   "outputs": [
    {
     "data": {
      "image/png": "[encoded data removed]",
      "text/plain": [
       "<Figure size 1152x576 with 8 Axes>"
      ]
     },
     "metadata": {},
     "output_type": "display_data"
    }
   ],
   "source": [
    "graf_hist(Daten[Daten[Liste_B_Q3] != 0],Liste_B_Q3,16,8,2,4)"
   ]
  },
  {
   "cell_type": "markdown",
   "metadata": {},
   "source": [
    "1\n",
    "Estas estrategias se trataron durante mis estudios.\n",
    "\n",
    "2\n",
    "Estas estrategias se trataron durante mi formación como docente.\n",
    "\n",
    "3\n",
    "Estas estrategias se trataron en cursos de formación continua de profesorado.\n",
    "\n",
    "4\n",
    "En los libros de texto que utilizo se tratan estas estrategias. \n",
    "\n",
    "5\n",
    "En los manuales del profesor que utilizo se tratan estas estrategias. \n",
    "\n",
    "6\n",
    "Utilizo páginas web o blogs que tratan estas estrategias.\n",
    "\n",
    "7\n",
    "Utilizo libros, revistas u otros materiales didácticos que tratan estas estrategias.\n",
    "\n",
    "8\n",
    "He desarrollado material propio para la enseñanza de estas estrategias."
   ]
  },
  {
   "cell_type": "markdown",
   "metadata": {},
   "source": [
    "### Einstellung zu Erschließungsstrategien"
   ]
  },
  {
   "cell_type": "markdown",
   "metadata": {},
   "source": [
    "#### C-Q1"
   ]
  },
  {
   "cell_type": "code",
   "execution_count": 58,
   "metadata": {},
   "outputs": [
    {
     "data": {
      "text/html": [
       "<div>\n",
       "<style scoped>\n",
       "    .dataframe tbody tr th:only-of-type {\n",
       "        vertical-align: middle;\n",
       "    }\n",
       "\n",
       "    .dataframe tbody tr th {\n",
       "        vertical-align: top;\n",
       "    }\n",
       "\n",
       "    .dataframe thead th {\n",
       "        text-align: right;\n",
       "    }\n",
       "</style>\n",
       "<table border=\"1\" class=\"dataframe\">\n",
       "  <thead>\n",
       "    <tr style=\"text-align: right;\">\n",
       "      <th></th>\n",
       "      <th>C-Q1_1</th>\n",
       "      <th>C-Q1_10</th>\n",
       "      <th>C-Q1_2</th>\n",
       "      <th>C-Q1_3</th>\n",
       "      <th>C-Q1_4</th>\n",
       "      <th>C-Q1_5</th>\n",
       "      <th>C-Q1_6</th>\n",
       "      <th>C-Q1_7</th>\n",
       "      <th>C-Q1_8</th>\n",
       "      <th>C-Q1_9</th>\n",
       "    </tr>\n",
       "  </thead>\n",
       "  <tbody>\n",
       "    <tr>\n",
       "      <th>count</th>\n",
       "      <td>57.000000</td>\n",
       "      <td>57.000000</td>\n",
       "      <td>57.000000</td>\n",
       "      <td>57.000000</td>\n",
       "      <td>57.000000</td>\n",
       "      <td>57.000000</td>\n",
       "      <td>57.000000</td>\n",
       "      <td>57.000000</td>\n",
       "      <td>57.000000</td>\n",
       "      <td>57.000000</td>\n",
       "    </tr>\n",
       "    <tr>\n",
       "      <th>mean</th>\n",
       "      <td>3.614035</td>\n",
       "      <td>4.578947</td>\n",
       "      <td>3.964912</td>\n",
       "      <td>3.736842</td>\n",
       "      <td>3.842105</td>\n",
       "      <td>2.175439</td>\n",
       "      <td>3.192982</td>\n",
       "      <td>4.596491</td>\n",
       "      <td>4.526316</td>\n",
       "      <td>2.982456</td>\n",
       "    </tr>\n",
       "    <tr>\n",
       "      <th>std</th>\n",
       "      <td>1.221158</td>\n",
       "      <td>0.680004</td>\n",
       "      <td>0.822993</td>\n",
       "      <td>1.044139</td>\n",
       "      <td>1.065523</td>\n",
       "      <td>1.037215</td>\n",
       "      <td>1.231123</td>\n",
       "      <td>0.529813</td>\n",
       "      <td>0.629775</td>\n",
       "      <td>1.125853</td>\n",
       "    </tr>\n",
       "    <tr>\n",
       "      <th>min</th>\n",
       "      <td>0.000000</td>\n",
       "      <td>2.000000</td>\n",
       "      <td>2.000000</td>\n",
       "      <td>0.000000</td>\n",
       "      <td>2.000000</td>\n",
       "      <td>1.000000</td>\n",
       "      <td>0.000000</td>\n",
       "      <td>3.000000</td>\n",
       "      <td>3.000000</td>\n",
       "      <td>0.000000</td>\n",
       "    </tr>\n",
       "    <tr>\n",
       "      <th>25%</th>\n",
       "      <td>3.000000</td>\n",
       "      <td>4.000000</td>\n",
       "      <td>3.000000</td>\n",
       "      <td>3.000000</td>\n",
       "      <td>3.000000</td>\n",
       "      <td>1.000000</td>\n",
       "      <td>2.000000</td>\n",
       "      <td>4.000000</td>\n",
       "      <td>4.000000</td>\n",
       "      <td>2.000000</td>\n",
       "    </tr>\n",
       "    <tr>\n",
       "      <th>50%</th>\n",
       "      <td>4.000000</td>\n",
       "      <td>5.000000</td>\n",
       "      <td>4.000000</td>\n",
       "      <td>4.000000</td>\n",
       "      <td>4.000000</td>\n",
       "      <td>2.000000</td>\n",
       "      <td>3.000000</td>\n",
       "      <td>5.000000</td>\n",
       "      <td>5.000000</td>\n",
       "      <td>3.000000</td>\n",
       "    </tr>\n",
       "    <tr>\n",
       "      <th>75%</th>\n",
       "      <td>5.000000</td>\n",
       "      <td>5.000000</td>\n",
       "      <td>5.000000</td>\n",
       "      <td>4.000000</td>\n",
       "      <td>5.000000</td>\n",
       "      <td>3.000000</td>\n",
       "      <td>4.000000</td>\n",
       "      <td>5.000000</td>\n",
       "      <td>5.000000</td>\n",
       "      <td>4.000000</td>\n",
       "    </tr>\n",
       "    <tr>\n",
       "      <th>max</th>\n",
       "      <td>5.000000</td>\n",
       "      <td>5.000000</td>\n",
       "      <td>5.000000</td>\n",
       "      <td>5.000000</td>\n",
       "      <td>5.000000</td>\n",
       "      <td>5.000000</td>\n",
       "      <td>5.000000</td>\n",
       "      <td>5.000000</td>\n",
       "      <td>5.000000</td>\n",
       "      <td>5.000000</td>\n",
       "    </tr>\n",
       "  </tbody>\n",
       "</table>\n",
       "</div>"
      ],
      "text/plain": [
       "          C-Q1_1    C-Q1_10     C-Q1_2     C-Q1_3     C-Q1_4     C-Q1_5  \\\n",
       "count  57.000000  57.000000  57.000000  57.000000  57.000000  57.000000   \n",
       "mean    3.614035   4.578947   3.964912   3.736842   3.842105   2.175439   \n",
       "std     1.221158   0.680004   0.822993   1.044139   1.065523   1.037215   \n",
       "min     0.000000   2.000000   2.000000   0.000000   2.000000   1.000000   \n",
       "25%     3.000000   4.000000   3.000000   3.000000   3.000000   1.000000   \n",
       "50%     4.000000   5.000000   4.000000   4.000000   4.000000   2.000000   \n",
       "75%     5.000000   5.000000   5.000000   4.000000   5.000000   3.000000   \n",
       "max     5.000000   5.000000   5.000000   5.000000   5.000000   5.000000   \n",
       "\n",
       "          C-Q1_6     C-Q1_7     C-Q1_8     C-Q1_9  \n",
       "count  57.000000  57.000000  57.000000  57.000000  \n",
       "mean    3.192982   4.596491   4.526316   2.982456  \n",
       "std     1.231123   0.529813   0.629775   1.125853  \n",
       "min     0.000000   3.000000   3.000000   0.000000  \n",
       "25%     2.000000   4.000000   4.000000   2.000000  \n",
       "50%     3.000000   5.000000   5.000000   3.000000  \n",
       "75%     4.000000   5.000000   5.000000   4.000000  \n",
       "max     5.000000   5.000000   5.000000   5.000000  "
      ]
     },
     "execution_count": 58,
     "metadata": {},
     "output_type": "execute_result"
    }
   ],
   "source": [
    "Daten[Liste_C_Q1].describe()"
   ]
  },
  {
   "cell_type": "code",
   "execution_count": 59,
   "metadata": {},
   "outputs": [
    {
     "data": {
      "image/png": "[encoded data removed]",
      "text/plain": [
       "<Figure size 1152x864 with 10 Axes>"
      ]
     },
     "metadata": {},
     "output_type": "display_data"
    }
   ],
   "source": [
    "graf_hist(Daten[Daten[Liste_C_Q1] != 0],Liste_C_Q1,16,12,3,4)"
   ]
  },
  {
   "cell_type": "markdown",
   "metadata": {},
   "source": [
    "1\n",
    "Estas estrategias son un tema importante en mis clases de alemán.  \n",
    "\n",
    "2\n",
    "Tratar estas estrategias es especialmente importante en niveles inferiores.\n",
    "\n",
    "3\n",
    "Tratar estas estrategias es especialmente importante en niveles intermedios.\n",
    "\n",
    "4\n",
    "Tratar estas estrategias es especialmente importante en niveles avanzados.\n",
    "\n",
    "5\n",
    "No hace falta enseñar estas estrategias de forma explícita, ya que los estudiantes las usan en cualquier caso de forma inconsciente.\n",
    "\n",
    "6\n",
    "En mis clases se trabaja con textos complejos que requieren el uso de estrategias para descubrir palabras desconocidas por parte de los estudiantes.\n",
    "\n",
    "7\n",
    "Estas estrategias son útiles para ampliar el vocabulario.\n",
    "\n",
    "8\n",
    "Estas estrategias son útiles para mejorar la comprensión lectora.\n",
    "\n",
    "9\n",
    "Utilizo material adaptado al nivel de mis estudiantes para que lo entiendan sin tener que utilizar estrategias de inferencia complicadas.\n",
    "\n",
    "10\n",
    "Fomentando el uso de estas estrategias se favorece el aprendizaje autónomo."
   ]
  },
  {
   "cell_type": "markdown",
   "metadata": {},
   "source": [
    "Korrelation in C-Q1:"
   ]
  },
  {
   "cell_type": "code",
   "execution_count": 60,
   "metadata": {},
   "outputs": [
    {
     "data": {
      "text/html": [
       "<div>\n",
       "<style scoped>\n",
       "    .dataframe tbody tr th:only-of-type {\n",
       "        vertical-align: middle;\n",
       "    }\n",
       "\n",
       "    .dataframe tbody tr th {\n",
       "        vertical-align: top;\n",
       "    }\n",
       "\n",
       "    .dataframe thead th {\n",
       "        text-align: right;\n",
       "    }\n",
       "</style>\n",
       "<table border=\"1\" class=\"dataframe\">\n",
       "  <thead>\n",
       "    <tr style=\"text-align: right;\">\n",
       "      <th></th>\n",
       "      <th>C-Q1_1</th>\n",
       "      <th>C-Q1_10</th>\n",
       "      <th>C-Q1_2</th>\n",
       "      <th>C-Q1_3</th>\n",
       "      <th>C-Q1_4</th>\n",
       "      <th>C-Q1_5</th>\n",
       "      <th>C-Q1_6</th>\n",
       "      <th>C-Q1_7</th>\n",
       "      <th>C-Q1_8</th>\n",
       "      <th>C-Q1_9</th>\n",
       "    </tr>\n",
       "  </thead>\n",
       "  <tbody>\n",
       "    <tr>\n",
       "      <th>C-Q1_1</th>\n",
       "      <td>1.000000</td>\n",
       "      <td>0.139704</td>\n",
       "      <td>0.370078</td>\n",
       "      <td>0.438305</td>\n",
       "      <td>0.283825</td>\n",
       "      <td>-0.114409</td>\n",
       "      <td>0.495790</td>\n",
       "      <td>0.297806</td>\n",
       "      <td>0.427121</td>\n",
       "      <td>0.209627</td>\n",
       "    </tr>\n",
       "    <tr>\n",
       "      <th>C-Q1_10</th>\n",
       "      <td>0.139704</td>\n",
       "      <td>1.000000</td>\n",
       "      <td>0.109117</td>\n",
       "      <td>0.166947</td>\n",
       "      <td>0.198803</td>\n",
       "      <td>-0.142845</td>\n",
       "      <td>0.085043</td>\n",
       "      <td>0.453772</td>\n",
       "      <td>0.432972</td>\n",
       "      <td>-0.206947</td>\n",
       "    </tr>\n",
       "    <tr>\n",
       "      <th>C-Q1_2</th>\n",
       "      <td>0.370078</td>\n",
       "      <td>0.109117</td>\n",
       "      <td>1.000000</td>\n",
       "      <td>0.237616</td>\n",
       "      <td>0.020683</td>\n",
       "      <td>-0.423893</td>\n",
       "      <td>0.185873</td>\n",
       "      <td>0.197456</td>\n",
       "      <td>0.115880</td>\n",
       "      <td>-0.142184</td>\n",
       "    </tr>\n",
       "    <tr>\n",
       "      <th>C-Q1_3</th>\n",
       "      <td>0.438305</td>\n",
       "      <td>0.166947</td>\n",
       "      <td>0.237616</td>\n",
       "      <td>1.000000</td>\n",
       "      <td>0.730716</td>\n",
       "      <td>-0.221967</td>\n",
       "      <td>0.231967</td>\n",
       "      <td>0.213705</td>\n",
       "      <td>0.125672</td>\n",
       "      <td>0.201489</td>\n",
       "    </tr>\n",
       "    <tr>\n",
       "      <th>C-Q1_4</th>\n",
       "      <td>0.283825</td>\n",
       "      <td>0.198803</td>\n",
       "      <td>0.020683</td>\n",
       "      <td>0.730716</td>\n",
       "      <td>1.000000</td>\n",
       "      <td>-0.193030</td>\n",
       "      <td>0.073449</td>\n",
       "      <td>0.253557</td>\n",
       "      <td>0.013023</td>\n",
       "      <td>0.319685</td>\n",
       "    </tr>\n",
       "    <tr>\n",
       "      <th>C-Q1_5</th>\n",
       "      <td>-0.114409</td>\n",
       "      <td>-0.142845</td>\n",
       "      <td>-0.423893</td>\n",
       "      <td>-0.221967</td>\n",
       "      <td>-0.193030</td>\n",
       "      <td>1.000000</td>\n",
       "      <td>-0.095771</td>\n",
       "      <td>-0.067486</td>\n",
       "      <td>-0.130543</td>\n",
       "      <td>0.041614</td>\n",
       "    </tr>\n",
       "    <tr>\n",
       "      <th>C-Q1_6</th>\n",
       "      <td>0.495790</td>\n",
       "      <td>0.085043</td>\n",
       "      <td>0.185873</td>\n",
       "      <td>0.231967</td>\n",
       "      <td>0.073449</td>\n",
       "      <td>-0.095771</td>\n",
       "      <td>1.000000</td>\n",
       "      <td>0.186296</td>\n",
       "      <td>0.208407</td>\n",
       "      <td>0.117523</td>\n",
       "    </tr>\n",
       "    <tr>\n",
       "      <th>C-Q1_7</th>\n",
       "      <td>0.297806</td>\n",
       "      <td>0.453772</td>\n",
       "      <td>0.197456</td>\n",
       "      <td>0.213705</td>\n",
       "      <td>0.253557</td>\n",
       "      <td>-0.067486</td>\n",
       "      <td>0.186296</td>\n",
       "      <td>1.000000</td>\n",
       "      <td>0.419800</td>\n",
       "      <td>-0.034429</td>\n",
       "    </tr>\n",
       "    <tr>\n",
       "      <th>C-Q1_8</th>\n",
       "      <td>0.427121</td>\n",
       "      <td>0.432972</td>\n",
       "      <td>0.115880</td>\n",
       "      <td>0.125672</td>\n",
       "      <td>0.013023</td>\n",
       "      <td>-0.130543</td>\n",
       "      <td>0.208407</td>\n",
       "      <td>0.419800</td>\n",
       "      <td>1.000000</td>\n",
       "      <td>0.004361</td>\n",
       "    </tr>\n",
       "    <tr>\n",
       "      <th>C-Q1_9</th>\n",
       "      <td>0.209627</td>\n",
       "      <td>-0.206947</td>\n",
       "      <td>-0.142184</td>\n",
       "      <td>0.201489</td>\n",
       "      <td>0.319685</td>\n",
       "      <td>0.041614</td>\n",
       "      <td>0.117523</td>\n",
       "      <td>-0.034429</td>\n",
       "      <td>0.004361</td>\n",
       "      <td>1.000000</td>\n",
       "    </tr>\n",
       "  </tbody>\n",
       "</table>\n",
       "</div>"
      ],
      "text/plain": [
       "           C-Q1_1   C-Q1_10    C-Q1_2    C-Q1_3    C-Q1_4    C-Q1_5    C-Q1_6  \\\n",
       "C-Q1_1   1.000000  0.139704  0.370078  0.438305  0.283825 -0.114409  0.495790   \n",
       "C-Q1_10  0.139704  1.000000  0.109117  0.166947  0.198803 -0.142845  0.085043   \n",
       "C-Q1_2   0.370078  0.109117  1.000000  0.237616  0.020683 -0.423893  0.185873   \n",
       "C-Q1_3   0.438305  0.166947  0.237616  1.000000  0.730716 -0.221967  0.231967   \n",
       "C-Q1_4   0.283825  0.198803  0.020683  0.730716  1.000000 -0.193030  0.073449   \n",
       "C-Q1_5  -0.114409 -0.142845 -0.423893 -0.221967 -0.193030  1.000000 -0.095771   \n",
       "C-Q1_6   0.495790  0.085043  0.185873  0.231967  0.073449 -0.095771  1.000000   \n",
       "C-Q1_7   0.297806  0.453772  0.197456  0.213705  0.253557 -0.067486  0.186296   \n",
       "C-Q1_8   0.427121  0.432972  0.115880  0.125672  0.013023 -0.130543  0.208407   \n",
       "C-Q1_9   0.209627 -0.206947 -0.142184  0.201489  0.319685  0.041614  0.117523   \n",
       "\n",
       "           C-Q1_7    C-Q1_8    C-Q1_9  \n",
       "C-Q1_1   0.297806  0.427121  0.209627  \n",
       "C-Q1_10  0.453772  0.432972 -0.206947  \n",
       "C-Q1_2   0.197456  0.115880 -0.142184  \n",
       "C-Q1_3   0.213705  0.125672  0.201489  \n",
       "C-Q1_4   0.253557  0.013023  0.319685  \n",
       "C-Q1_5  -0.067486 -0.130543  0.041614  \n",
       "C-Q1_6   0.186296  0.208407  0.117523  \n",
       "C-Q1_7   1.000000  0.419800 -0.034429  \n",
       "C-Q1_8   0.419800  1.000000  0.004361  \n",
       "C-Q1_9  -0.034429  0.004361  1.000000  "
      ]
     },
     "execution_count": 60,
     "metadata": {},
     "output_type": "execute_result"
    }
   ],
   "source": [
    "Korr_C_Q1 = Daten[Liste_C_Q1].corr(method = 'spearman')\n",
    "Korr_C_Q1"
   ]
  },
  {
   "cell_type": "code",
   "execution_count": 61,
   "metadata": {},
   "outputs": [
    {
     "name": "stdout",
     "output_type": "stream",
     "text": [
      "Series([], Name: C-Q1_1, dtype: float64)\n",
      "Series([], Name: C-Q1_10, dtype: float64)\n",
      "Series([], Name: C-Q1_2, dtype: float64)\n",
      "C-Q1_4    0.730716\n",
      "Name: C-Q1_3, dtype: float64\n",
      "C-Q1_3    0.730716\n",
      "Name: C-Q1_4, dtype: float64\n",
      "Series([], Name: C-Q1_5, dtype: float64)\n",
      "Series([], Name: C-Q1_6, dtype: float64)\n",
      "Series([], Name: C-Q1_7, dtype: float64)\n",
      "Series([], Name: C-Q1_8, dtype: float64)\n",
      "Series([], Name: C-Q1_9, dtype: float64)\n"
     ]
    }
   ],
   "source": [
    "for col in Liste_C_Q1:\n",
    "    print(get_max_corr(Korr_C_Q1,col,0.5))"
   ]
  },
  {
   "cell_type": "markdown",
   "metadata": {},
   "source": [
    "### Charakteristika der Stichprobe"
   ]
  },
  {
   "cell_type": "code",
   "execution_count": 91,
   "metadata": {},
   "outputs": [],
   "source": [
    "Finished = Daten[:]"
   ]
  },
  {
   "cell_type": "code",
   "execution_count": 64,
   "metadata": {},
   "outputs": [
    {
     "data": {
      "image/png": "[encoded data removed]",
      "text/plain": [
       "<Figure size 864x360 with 1 Axes>"
      ]
     },
     "metadata": {},
     "output_type": "display_data"
    }
   ],
   "source": [
    "Finished[Finished['D-Q1'] != 0]['D-Q1'].value_counts().plot(kind='bar', \n",
    "                                                            figsize = (12,5), width = 0.5, \n",
    "                                                            legend = True, title = \"Universität\");"
   ]
  },
  {
   "cell_type": "markdown",
   "metadata": {},
   "source": [
    "(1)\tAbat Oliba-CEU\n",
    "(2)\tAlcalá de Henares\n",
    "(3)\tAlfonso X El Sabio\n",
    "(4)\tAlicante\n",
    "(5)\tAlmería\n",
    "(6)\tAntonio de Nebrija\n",
    "(7)\tAutónoma de Barcelona\n",
    "(8)\tAutónoma de Madrid\n",
    "(9)\tBarcelona\n",
    "(10)\tBurgos\n",
    "(11)\tCádiz\n",
    "(12)\tCamilo José Cela\n",
    "(13)\tCantabria\n",
    "(14)\tCardenal Herrera-CEU\n",
    "(15)\tCarlos III\n",
    "(16)\tCastilla-La Mancha\n",
    "(17)\tCatólica de Ávila\n",
    "(18)\tCatólica de Valencia\n",
    "(19)\tCatólica S. Antonio de Murcia\n",
    "(20)\tComplutense de Madrid\n",
    "(21)\tCórdoba\n",
    "(22)\tCoruña, A\n",
    "(23)\tDeusto\n",
    "(24)\tEuropea de Madrid\n",
    "(25)\tEuropea Miguel de Cervantes\n",
    "(26)\tExtremadura\n",
    "(27)\tFrancisco de Vitoria\n",
    "(28)\tGirona\n",
    "(29)\tGranada\n",
    "(30)\tHuelva\n",
    "(31)\tIE Universidad\n",
    "(32)\tIlles Balears\n",
    "(33)\tInternacional de Catalunya\n",
    "(34)\tInternacional de La Rioja\n",
    "(35)\tInternacional Valenciana\n",
    "(36)\tJaén\n",
    "(37)\tJaume I de Castellón\n",
    "(38)\tLa Laguna\n",
    "(39)\tLa Rioja\n",
    "(40)\tLeón\n",
    "(41)\tLleida\n",
    "(42)\tMálaga\n",
    "(43)\tMiguel Hernández de Elche\n",
    "(44)\tMondragón\n",
    "(45)\tMurcia\n",
    "(46)\tNavarra\n",
    "(47)\tOberta de Catalunya\n",
    "(48)\tOviedo\n",
    "(49)\tPablo de Olavide\n",
    "(50)\tPaís Vasco\n",
    "(51)\tPalmas (Las)\n",
    "(52)\tPolitécnica de Cartagena\n",
    "(53)\tPolitécnica de Cataluña\n",
    "(54)\tPolitécnica de Madrid\n",
    "(55)\tPolitécnica de Valencia\n",
    "(56)\tPompeu Fabra\n",
    "(57)\tPontificia Comillas\n",
    "(58)\tPontificia de Salamanca\n",
    "(59)\tPública de Navarra\n",
    "(60)\tRamón Llull\n",
    "(61)\tRey Juan Carlos\n",
    "(62)\tRovira i Virgili\n",
    "(63)\tSalamanca\n",
    "(64)\tSan Jorge\n",
    "(65)\tSan Pablo-CEU\n",
    "(66)\tSantiago de Compostela\n",
    "(67)\tSevilla\n",
    "(68)\tU.N.E.D.\n",
    "(69)\tUDIMA\n",
    "(70)\tValencia (Est. General)\n",
    "(71)\tValladolid\n",
    "(72)\tVic\n",
    "(73)\tVigo\n",
    "(74)\tZaragoza\n",
    "(75)\tOtra"
   ]
  },
  {
   "cell_type": "code",
   "execution_count": 65,
   "metadata": {},
   "outputs": [
    {
     "data": {
      "text/plain": [
       "63    12\n",
       "20    10\n",
       "66     7\n",
       "75     5\n",
       "67     5\n",
       "70     4\n",
       "61     3\n",
       "0      2\n",
       "56     1\n",
       "50     1\n",
       "48     1\n",
       "37     1\n",
       "29     1\n",
       "28     1\n",
       "2      1\n",
       "15     1\n",
       "73     1\n",
       "Name: D-Q1, dtype: int64"
      ]
     },
     "execution_count": 65,
     "metadata": {},
     "output_type": "execute_result"
    }
   ],
   "source": [
    "Finished['D-Q1'].value_counts()"
   ]
  },
  {
   "cell_type": "code",
   "execution_count": 66,
   "metadata": {},
   "outputs": [
    {
     "data": {
      "text/plain": [
       "17"
      ]
     },
     "execution_count": 66,
     "metadata": {},
     "output_type": "execute_result"
    }
   ],
   "source": [
    "Finished['D-Q1'].nunique()"
   ]
  },
  {
   "cell_type": "code",
   "execution_count": 67,
   "metadata": {},
   "outputs": [
    {
     "data": {
      "text/plain": [
       "0                                           52\n",
       "ESCUELA OFICIAL DE IDIOMAS                   1\n",
       "EOI                                          1\n",
       "Enseñanza Media.IES JM Llompart de Palma     1\n",
       "Universidad Pablo de Olavide Sevilla         1\n",
       "BOLZANO                                      1\n",
       "Name: D-Q1a, dtype: int64"
      ]
     },
     "execution_count": 67,
     "metadata": {},
     "output_type": "execute_result"
    }
   ],
   "source": [
    "Finished['D-Q1a'].value_counts()"
   ]
  },
  {
   "cell_type": "markdown",
   "metadata": {},
   "source": [
    "Lehrende aus 15 verschiedenen Universitäten nahmen an der Befragung teil."
   ]
  },
  {
   "cell_type": "code",
   "execution_count": 72,
   "metadata": {},
   "outputs": [
    {
     "data": {
      "text/plain": [
       "'D-Q2a'"
      ]
     },
     "execution_count": 72,
     "metadata": {},
     "output_type": "execute_result"
    }
   ],
   "source": [
    "As_cols = [col for col in Finished.columns if 'D-Q2' in col]\n",
    "As_cols.pop(len(As_cols)-1)\n",
    "As_cols.pop(len(As_cols)-1)"
   ]
  },
  {
   "cell_type": "code",
   "execution_count": 97,
   "metadata": {},
   "outputs": [
    {
     "data": {
      "text/plain": [
       "D-Q2_1    24\n",
       "D-Q2_2    12\n",
       "D-Q2_3     7\n",
       "D-Q2_4    10\n",
       "D-Q2_5     1\n",
       "D-Q2_7     8\n",
       "D-Q2_8     7\n",
       "D-Q2_9    14\n",
       "dtype: int64"
      ]
     },
     "execution_count": 97,
     "metadata": {},
     "output_type": "execute_result"
    }
   ],
   "source": [
    "Finished[As_cols].astype(integer).sum()"
   ]
  },
  {
   "cell_type": "code",
   "execution_count": 100,
   "metadata": {},
   "outputs": [
    {
     "data": {
      "image/png": "[encoded data removed]",
      "text/plain": [
       "<Figure size 576x360 with 1 Axes>"
      ]
     },
     "metadata": {},
     "output_type": "display_data"
    }
   ],
   "source": [
    "Finished[As_cols].astype(integer).sum().plot(kind = 'bar', figsize = (8,5), width = 0.4, title = \"Aktuell unterrichtete Deutschkurse\");"
   ]
  },
  {
   "cell_type": "markdown",
   "metadata": {},
   "source": [
    "- (1)\tAsignatura en Estudios Alemanes / Filología Alemana \n",
    "- (2)\tAsignatura para otras Filologías\n",
    "- (3)\tAsignatura en Traducción, Alemán 1a Lengua Extranjera / B\n",
    "- (4)\tAsignatura en Traducción, Alemán 2a Lengua Extranjera / C\n",
    "- (5)\tAsignatura en Humanidades\n",
    "- (6)\tAsignatura en Economía\n",
    "- (7)\tAsignatura en Turismo\n",
    "- (8)\tOtro curso de alemán que forma parte de una carrera universitaria\n",
    "- (9)\tOtro curso de alemán en la universidad"
   ]
  },
  {
   "cell_type": "code",
   "execution_count": 102,
   "metadata": {},
   "outputs": [
    {
     "data": {
      "text/plain": [
       "0                                                                                  52\n",
       "Llengües Aplicades                                                                  1\n",
       "Aleman B-1                                                                          1\n",
       "Landeskundekurse D-A-CH                                                             1\n",
       "Aus Beobachtungen der Dozenten der Complutense                                      1\n",
       "Zusatzkurse zur Vertiefung der in den Regelsprachkursen thematisierten Inhalten     1\n",
       "Name: D-Q2b, dtype: int64"
      ]
     },
     "execution_count": 102,
     "metadata": {},
     "output_type": "execute_result"
    }
   ],
   "source": [
    "Finished['D-Q2b'].value_counts()"
   ]
  },
  {
   "cell_type": "code",
   "execution_count": 103,
   "metadata": {},
   "outputs": [
    {
     "data": {
      "text/plain": [
       "'D-Q3a'"
      ]
     },
     "execution_count": 103,
     "metadata": {},
     "output_type": "execute_result"
    }
   ],
   "source": [
    "Niv_cols = [col for col in Finished.columns if 'D-Q3' in col]\n",
    "Niv_cols.pop(len(Niv_cols)-1)"
   ]
  },
  {
   "cell_type": "code",
   "execution_count": 104,
   "metadata": {},
   "outputs": [
    {
     "data": {
      "text/plain": [
       "D-Q3_1    34\n",
       "D-Q3_2    38\n",
       "D-Q3_3    33\n",
       "D-Q3_4    22\n",
       "D-Q3_5    10\n",
       "dtype: int64"
      ]
     },
     "execution_count": 104,
     "metadata": {},
     "output_type": "execute_result"
    }
   ],
   "source": [
    "Finished[Niv_cols].astype(integer).sum()"
   ]
  },
  {
   "cell_type": "code",
   "execution_count": 107,
   "metadata": {},
   "outputs": [
    {
     "data": {
      "image/png": "[encoded data removed]",
      "text/plain": [
       "<Figure size 432x288 with 1 Axes>"
      ]
     },
     "metadata": {},
     "output_type": "display_data"
    }
   ],
   "source": [
    "Finished[Niv_cols].astype(integer).sum().plot(kind = 'bar', figsize = (6,4), width = 0.4, title = \"Niveau aktuell unterrichteter Deutschkurse\");"
   ]
  },
  {
   "cell_type": "markdown",
   "metadata": {},
   "source": [
    "(1)\tA1, \n",
    "(2)\tA2, \n",
    "(3)\tB1, \n",
    "(4)\tB2, \n",
    "(5)\tC1,\n",
    "(6)\tC2 "
   ]
  },
  {
   "cell_type": "code",
   "execution_count": null,
   "metadata": {},
   "outputs": [],
   "source": []
  },
  {
   "cell_type": "code",
   "execution_count": null,
   "metadata": {},
   "outputs": [],
   "source": [
    "Finished['D-Q4'].value_counts()"
   ]
  },
  {
   "cell_type": "code",
   "execution_count": null,
   "metadata": {},
   "outputs": [],
   "source": [
    "Finished[Finished['D-Q5'] != 0]['D-Q5'].describe()"
   ]
  },
  {
   "cell_type": "code",
   "execution_count": null,
   "metadata": {},
   "outputs": [],
   "source": [
    "Finished[Finished['D-Q5'] != 0]['D-Q5'].astype(integer).value_counts().sort_index().plot(kind='bar', figsize = (15,5), legend = True, title = \"Alter\");"
   ]
  },
  {
   "cell_type": "code",
   "execution_count": null,
   "metadata": {},
   "outputs": [],
   "source": [
    "Finished['D-Q6'].value_counts()[[1,2,3]].plot(kind = 'bar', figsize = (4,5), width = 0.4, legend = True, title = \"Geschlecht\");"
   ]
  },
  {
   "cell_type": "code",
   "execution_count": null,
   "metadata": {},
   "outputs": [],
   "source": [
    "Finished['D-Q6'].value_counts()"
   ]
  },
  {
   "cell_type": "code",
   "execution_count": null,
   "metadata": {},
   "outputs": [],
   "source": [
    "Finished[Finished['D-Q7'] != 0]['D-Q7'].value_counts().plot(kind='bar', figsize = (10,5), legend = True, title = \"Erstsprachen (1)\");"
   ]
  },
  {
   "cell_type": "markdown",
   "metadata": {},
   "source": [
    "(1) \tCastellano\n",
    "(2) \tCatalán (Català), Valenciano (Valencià)\n",
    "(3) \tGallego (Galego)\n",
    "(4) \tVasco (Euskara)\n",
    "(5) \tAlemán (Deutsch)\n",
    "(6) \tÁrabe (العربية)\n",
    "(7) \tChino mandarín (中文)\n",
    "(8) \tCoreano (한국어)\n",
    "(9) \tDanés (Dansk)\n",
    "(10) \tFrancés (Français)\n",
    "(11) \tGriego moderno (Ελληνικά)\n",
    "(12) \tInglés (English)\n",
    "(13) \tItaliano (Italiano)\n",
    "(14) \tJaponés (日本語)\n",
    "(15) \tNeerlandés (Nederlands)\n",
    "(16) \tPortugués (Português)\n",
    "(17) \tRumano (Română)\n",
    "(18) \tRuso (Русский)\n",
    "(19) \tSueco (Svenska)\n",
    "(20) \tGriego antiguo (Aρχαία Eλληνική)\n",
    "(21) \tLatín (Latina)\n",
    "(22) \tArmenio (Հայերեն)\n",
    "(23) \tBúlgaro (Български)\n",
    "(24) \tCheco (Česky)\n",
    "(25) \tCroata (Hrvatski)\n",
    "(26) \tEslovaco (Slovenčina)\n",
    "(27) \tEsloveno (Slovenščina)\n",
    "(28) \tEstonio (Eesti)\n",
    "(29) \tFinés (Suomi)\n",
    "(30) \tGalés (Cymraeg)\n",
    "(31) \tHindi (हिन्दी)\n",
    "(32) \tHúngaro (Magyar)\n",
    "(33) \tIrlandés (Gaeilge)\n",
    "(34) \tLetón (Latviešu)\n",
    "(35) \tLituano (Lietuvių)\n",
    "(36) \tLuxemburgués (Lëtzebuergesch)\n",
    "(37) \tMaltés (bil-Malti)\n",
    "(38) \tMoldavo (Moldoveana)\n",
    "(39) \tNoruego (Norsk)\n",
    "(40) \tOccitano (Occitan)\n",
    "(41) \tPolaco (Polski)\n",
    "(42) \tPersa (فارسی)\n",
    "(43) \tTurco (Türkçe)\n",
    "(44) \tUcraniano (Українська)\n",
    "(45) \tUrdu (اردو)\n",
    "(46) \tOtro"
   ]
  },
  {
   "cell_type": "code",
   "execution_count": null,
   "metadata": {},
   "outputs": [],
   "source": [
    "Finished['D-Q7'].value_counts()"
   ]
  },
  {
   "cell_type": "code",
   "execution_count": null,
   "metadata": {},
   "outputs": [],
   "source": [
    "Finished['D-Q7b'].value_counts()"
   ]
  },
  {
   "cell_type": "code",
   "execution_count": null,
   "metadata": {},
   "outputs": [],
   "source": [
    "Finished[Finished['D-Q7c'] != 0]['D-Q7c'].value_counts().plot(kind='bar', figsize = (10,5), legend = True, title = \"Erstsprachen (2)\");"
   ]
  },
  {
   "cell_type": "code",
   "execution_count": null,
   "metadata": {},
   "outputs": [],
   "source": [
    "Finished[Finished['D-Q7c'] != 0]['D-Q7c'].value_counts()"
   ]
  },
  {
   "cell_type": "code",
   "execution_count": null,
   "metadata": {},
   "outputs": [],
   "source": [
    "Finished[Finished['D-Q7e'] != 0]['D-Q7e'].value_counts()"
   ]
  },
  {
   "cell_type": "code",
   "execution_count": null,
   "metadata": {},
   "outputs": [],
   "source": [
    "Finished[Finished['D-Q7f'] != 0]['D-Q7f'].value_counts()"
   ]
  },
  {
   "cell_type": "markdown",
   "metadata": {},
   "source": [
    "Otro = Guaraní"
   ]
  },
  {
   "cell_type": "code",
   "execution_count": null,
   "metadata": {},
   "outputs": [],
   "source": [
    "Sprachen = Finished[['D-Q8_1','D-Q8_2','D-Q8_3','D-Q8_4','D-Q8_5','D-Q8_6','D-Q8_7']]"
   ]
  },
  {
   "cell_type": "code",
   "execution_count": null,
   "metadata": {},
   "outputs": [],
   "source": [
    "DF_Spr = Sprachen.apply(pd.value_counts).fillna(0).astype(integer)"
   ]
  },
  {
   "cell_type": "code",
   "execution_count": null,
   "metadata": {},
   "outputs": [],
   "source": [
    "ix_sorted = list(DF_Spr[1:].sum(axis = 1).sort_values(ascending=False).index)"
   ]
  },
  {
   "cell_type": "code",
   "execution_count": null,
   "metadata": {},
   "outputs": [],
   "source": [
    "All = []\n",
    "for i in DF_Spr.index:\n",
    "    All.append((DF_Spr.loc[i]).sum())"
   ]
  },
  {
   "cell_type": "code",
   "execution_count": null,
   "metadata": {},
   "outputs": [],
   "source": [
    "DF_Spr['All'] = All"
   ]
  },
  {
   "cell_type": "code",
   "execution_count": null,
   "metadata": {},
   "outputs": [],
   "source": [
    "DF_Spr[1:]"
   ]
  },
  {
   "cell_type": "code",
   "execution_count": null,
   "metadata": {},
   "outputs": [],
   "source": [
    "cols = ['D-Q8_1','D-Q8_2','D-Q8_3','D-Q8_4','D-Q8_5','D-Q8_6','D-Q8_7']"
   ]
  },
  {
   "cell_type": "code",
   "execution_count": null,
   "metadata": {},
   "outputs": [],
   "source": [
    "DF_Spr[cols][1:].plot(kind='bar', figsize = (15,10), stacked = True, legend = True, title = \"Sprachkenntnisse\");"
   ]
  },
  {
   "cell_type": "code",
   "execution_count": null,
   "metadata": {},
   "outputs": [],
   "source": [
    "DF_Spr.loc[ix_sorted[:10]]"
   ]
  },
  {
   "cell_type": "code",
   "execution_count": null,
   "metadata": {},
   "outputs": [],
   "source": [
    "DF_Spr[cols].loc[ix_sorted[:10]].plot(kind='bar', figsize = (10,8), stacked = True, legend = True, title = \"Sprachkenntnisse\");"
   ]
  },
  {
   "cell_type": "code",
   "execution_count": null,
   "metadata": {},
   "outputs": [],
   "source": [
    "#Finished['D-Q9'].value_counts()[[1,2]].plot(kind = 'bar', figsize = (3,5), width = 0.4, legend = True, title = \"Erhebungssituation\");"
   ]
  },
  {
   "cell_type": "markdown",
   "metadata": {},
   "source": [
    "(1)\tWährend der Unterrichtszeit,\n",
    "(2)\tAußerhalb des Unterrichts"
   ]
  },
  {
   "cell_type": "code",
   "execution_count": null,
   "metadata": {},
   "outputs": [],
   "source": [
    "Finished['D-Q9_1'].value_counts()"
   ]
  },
  {
   "cell_type": "code",
   "execution_count": null,
   "metadata": {},
   "outputs": [],
   "source": [
    "Finished['D-Q9_2'].value_counts()"
   ]
  },
  {
   "cell_type": "code",
   "execution_count": null,
   "metadata": {},
   "outputs": [],
   "source": []
  }
 ],
 "metadata": {
  "kernelspec": {
   "display_name": "Python 3",
   "language": "python",
   "name": "python3"
  },
  "language_info": {
   "codemirror_mode": {
    "name": "ipython",
    "version": 3
   },
   "file_extension": ".py",
   "mimetype": "text/x-python",
   "name": "python",
   "nbconvert_exporter": "python",
   "pygments_lexer": "ipython3",
   "version": "3.6.3"
  }
 },
 "nbformat": 4,
 "nbformat_minor": 2
}
