{
 "cells": [
  {
   "cell_type": "markdown",
   "metadata": {},
   "source": [
    "## Erschließungsstrategien für unbekannten Wortschatz von DaF-Lernenden an spanischen Universitäten (2017-19)\n",
    "# Datenanalyse (3) - Biplots"
   ]
  },
  {
   "cell_type": "markdown",
   "metadata": {},
   "source": [
    "#### Werkzeuge und Daten importieren"
   ]
  },
  {
   "cell_type": "code",
   "execution_count": 1,
   "metadata": {},
   "outputs": [
    {
     "data": {
      "text/html": [
       "<script>  \n",
       "code_show=true; \n",
       "function code_toggle() {\n",
       "  if (code_show){\n",
       "    $('div.input').hide();\n",
       "  } else {\n",
       "    $('div.input').show();\n",
       "  }\n",
       "  code_show = !code_show\n",
       "}  \n",
       "$( document ).ready(code_toggle);\n",
       "</script>\n",
       "  <form action=\"javascript:code_toggle()\">\n",
       "    <input type=\"submit\" value=\"Click here to toggle on/off the raw code.\">\n",
       " </form>"
      ]
     },
     "metadata": {},
     "output_type": "display_data"
    }
   ],
   "source": [
    "library(IRdisplay)\n",
    "display_html(\n",
    "'<script>  \n",
    "code_show=true; \n",
    "function code_toggle() {\n",
    "  if (code_show){\n",
    "    $(\\'div.input\\').hide();\n",
    "  } else {\n",
    "    $(\\'div.input\\').show();\n",
    "  }\n",
    "  code_show = !code_show\n",
    "}  \n",
    "$( document ).ready(code_toggle);\n",
    "</script>\n",
    "  <form action=\"javascript:code_toggle()\">\n",
    "    <input type=\"submit\" value=\"Click here to toggle on/off the raw code.\">\n",
    " </form>'\n",
    ")"
   ]
  },
  {
   "cell_type": "code",
   "execution_count": 2,
   "metadata": {},
   "outputs": [],
   "source": [
    "MyData <- read.csv2(file=\"D:\\\\Daten\\\\DISS\\\\Daten\\\\Estrategias_Estudiantes_Analyse.csv\", \n",
    "                    header=TRUE, sep=\",\", fileEncoding = \"UTF-16\")"
   ]
  },
  {
   "cell_type": "markdown",
   "metadata": {},
   "source": [
    "#### Likert-Variablen auswählen\n",
    "\n",
    "Spalten, die Likert-Items enthalten, werden ausgewählt und in Vektoren zusammengefasst."
   ]
  },
  {
   "cell_type": "code",
   "execution_count": 3,
   "metadata": {},
   "outputs": [],
   "source": [
    "get_vec <- function(df,name){\n",
    "    vec <- c()\n",
    "    for (i in 1:ncol(df)){\n",
    "        if (grepl(name, colnames(df)[i]) & !grepl(\"TEXT\",colnames(df)[i]) ){\n",
    "            vec <- c(vec, i)\n",
    "        }\n",
    "    }\n",
    "    vec\n",
    "}"
   ]
  },
  {
   "cell_type": "code",
   "execution_count": 4,
   "metadata": {},
   "outputs": [],
   "source": [
    "vec_AQ2 <- get_vec(MyData,\"A.Q2\")\n",
    "vec_AQ3 <- get_vec(MyData,\"A.Q3\")\n",
    "vec_CQ1 <- get_vec(MyData,\"C.Q1\")"
   ]
  },
  {
   "cell_type": "markdown",
   "metadata": {},
   "source": [
    "#### Funktion für Datenformat (Integer)"
   ]
  },
  {
   "cell_type": "code",
   "execution_count": 5,
   "metadata": {},
   "outputs": [],
   "source": [
    "convert_data <- function(df,cols){\n",
    "    X <- df[,cols]\n",
    "    X <- do.call(cbind.data.frame,lapply(X,function(x) as.integer(as.character(x))))\n",
    "    colnames(X) <- colnames(df)[cols]\n",
    "    X\n",
    "}"
   ]
  },
  {
   "cell_type": "markdown",
   "metadata": {},
   "source": [
    "### Faktorenanalyse"
   ]
  },
  {
   "cell_type": "code",
   "execution_count": 6,
   "metadata": {},
   "outputs": [],
   "source": [
    "library(\"psych\")"
   ]
  },
  {
   "cell_type": "code",
   "execution_count": 7,
   "metadata": {},
   "outputs": [],
   "source": [
    "FA_AQ2 <- fa(convert_data(MyData,vec_AQ2), nfactors = 3, rotate = \"varimax\")"
   ]
  },
  {
   "cell_type": "code",
   "execution_count": 8,
   "metadata": {
    "scrolled": true
   },
   "outputs": [],
   "source": [
    "FA_AQ3 <- fa(convert_data(MyData,vec_AQ3), nfactors = 6, rotate = \"varimax\")"
   ]
  },
  {
   "cell_type": "code",
   "execution_count": 9,
   "metadata": {},
   "outputs": [
    {
     "data": {
      "text/plain": [
       "Factor Analysis using method =  minres\n",
       "Call: fa(r = convert_data(MyData, vec_AQ3), nfactors = 6, rotate = \"varimax\")\n",
       "Standardized loadings (pattern matrix) based upon correlation matrix\n",
       "          MR2   MR4   MR1   MR5   MR6   MR3    h2   u2 com\n",
       "A.Q3_1  -0.02  0.08  0.07 -0.02 -0.04  0.51 0.277 0.72 1.1\n",
       "A.Q3_2   0.11 -0.17  0.06  0.12  0.04  0.61 0.426 0.57 1.3\n",
       "A.Q3_3  -0.04 -0.01  0.11  0.07  0.07  0.47 0.240 0.76 1.2\n",
       "A.Q3_4  -0.01  0.10 -0.04  0.12  0.15  0.47 0.271 0.73 1.5\n",
       "A.Q3_5   0.20  0.30  0.08  0.08  0.03  0.41 0.314 0.69 2.5\n",
       "A.Q3_6   0.80  0.13  0.09  0.05 -0.05  0.09 0.682 0.32 1.1\n",
       "A.Q3_7   0.79  0.19  0.12  0.13 -0.02  0.04 0.696 0.30 1.2\n",
       "A.Q3_8   0.80  0.17  0.12  0.10  0.02 -0.04 0.700 0.30 1.2\n",
       "A.Q3_9   0.54  0.16  0.06  0.16  0.10  0.05 0.361 0.64 1.5\n",
       "A.Q3_28  0.22  0.18  0.15  0.40  0.08  0.11 0.282 0.72 2.7\n",
       "A.Q3_10  0.40  0.49  0.03  0.17  0.09 -0.02 0.436 0.56 2.3\n",
       "A.Q3_11  0.24  0.72  0.07  0.16  0.07  0.03 0.608 0.39 1.4\n",
       "A.Q3_12  0.22  0.62  0.13  0.18  0.02  0.04 0.486 0.51 1.5\n",
       "A.Q3_13  0.13  0.58  0.18  0.00  0.09  0.05 0.395 0.60 1.4\n",
       "A.Q3_29  0.18  0.25  0.20  0.47  0.11 -0.03 0.369 0.63 2.5\n",
       "A.Q3_14  0.36  0.31  0.18  0.32  0.19 -0.08 0.395 0.60 4.2\n",
       "A.Q3_15  0.32  0.16  0.32  0.30  0.16  0.00 0.338 0.66 3.9\n",
       "A.Q3_16  0.16  0.33  0.39  0.29  0.16 -0.06 0.401 0.60 3.6\n",
       "A.Q3_17  0.05  0.32  0.55  0.10  0.16  0.11 0.453 0.55 2.0\n",
       "A.Q3_18  0.12  0.09  0.81  0.20  0.17  0.09 0.750 0.25 1.3\n",
       "A.Q3_19  0.15  0.10  0.58  0.15  0.20  0.15 0.452 0.55 1.8\n",
       "A.Q3_20  0.26  0.02  0.41  0.29  0.20  0.17 0.388 0.61 3.6\n",
       "A.Q3_21  0.03  0.35  0.24  0.01  0.43  0.07 0.374 0.63 2.7\n",
       "A.Q3_22  0.03  0.03  0.16  0.10  0.68  0.09 0.505 0.50 1.2\n",
       "A.Q3_23  0.05  0.13  0.17  0.12  0.80  0.06 0.709 0.29 1.2\n",
       "A.Q3_24  0.04  0.21  0.39  0.15  0.48  0.12 0.475 0.53 2.8\n",
       "A.Q3_25  0.01  0.20  0.05  0.12  0.11  0.05 0.074 0.93 2.6\n",
       "A.Q3_30  0.22 -0.10  0.10  0.35  0.18  0.08 0.230 0.77 2.9\n",
       "A.Q3_31 -0.01  0.13  0.02  0.66  0.03  0.07 0.461 0.54 1.1\n",
       "A.Q3_26  0.11  0.08  0.16  0.65  0.00  0.20 0.507 0.49 1.4\n",
       "A.Q3_27  0.08  0.16  0.25  0.35  0.08  0.12 0.239 0.76 2.8\n",
       "\n",
       "                       MR2  MR4  MR1  MR5  MR6  MR3\n",
       "SS loadings           3.06 2.45 2.30 2.16 1.88 1.45\n",
       "Proportion Var        0.10 0.08 0.07 0.07 0.06 0.05\n",
       "Cumulative Var        0.10 0.18 0.25 0.32 0.38 0.43\n",
       "Proportion Explained  0.23 0.18 0.17 0.16 0.14 0.11\n",
       "Cumulative Proportion 0.23 0.41 0.59 0.75 0.89 1.00\n",
       "\n",
       "Mean item complexity =  2\n",
       "Test of the hypothesis that 6 factors are sufficient.\n",
       "\n",
       "The degrees of freedom for the null model are  465  and the objective function was  10.99 with Chi Square of  4152.68\n",
       "The degrees of freedom for the model are 294  and the objective function was  1.35 \n",
       "\n",
       "The root mean square of the residuals (RMSR) is  0.03 \n",
       "The df corrected root mean square of the residuals is  0.04 \n",
       "\n",
       "The harmonic number of observations is  390 with the empirical chi square  345.52  with prob <  0.021 \n",
       "The total number of observations was  390  with Likelihood Chi Square =  505.9  with prob <  1.9e-13 \n",
       "\n",
       "Tucker Lewis Index of factoring reliability =  0.908\n",
       "RMSEA index =  0.045  and the 90 % confidence intervals are  0.037 0.049\n",
       "BIC =  -1248.15\n",
       "Fit based upon off diagonal values = 0.98\n",
       "Measures of factor score adequacy             \n",
       "                                                   MR2  MR4  MR1  MR5  MR6  MR3\n",
       "Correlation of (regression) scores with factors   0.92 0.87 0.88 0.84 0.87 0.81\n",
       "Multiple R square of scores with factors          0.85 0.75 0.77 0.70 0.76 0.66\n",
       "Minimum correlation of possible factor scores     0.70 0.50 0.53 0.40 0.53 0.32"
      ]
     },
     "metadata": {},
     "output_type": "display_data"
    }
   ],
   "source": [
    "FA_AQ3"
   ]
  },
  {
   "cell_type": "code",
   "execution_count": 10,
   "metadata": {},
   "outputs": [],
   "source": [
    "#write.csv2(FA_AQ3$weights, file =\"D:\\\\Daten\\\\DISS\\\\Daten\\\\FA_weights.csv\",row.names=TRUE)"
   ]
  },
  {
   "cell_type": "markdown",
   "metadata": {},
   "source": [
    "Hypothese zum Ergebnis der explorativen Faktorenanalyse (AQ2):\n",
    "\n",
    "* MR1: Kenntnisse des Deutschen nutzen (inkl. Kontext)\n",
    "* MR2: Soziale Strategien\n",
    "* MR3: Sprachkenntnisse nutzen (insbes. weitere Sprachen, Erstsprache)\n",
    "\n",
    "\n",
    "Hypothese zum Ergebnis der explorativen Faktorenanalyse (AQ3):\n",
    "\n",
    "* MR1: Kontextwissen (Textsorte, behandeltes Thema, kulturelles Wissen...)\n",
    "* MR2: intralinguale Hinweise (Wortbildung, morphosyntaktische Regularitäten, Orthographie) + Konnektoren, Erklärungshilfen\n",
    "* MR3: interlinguale Hinweise (inkl. Ethymologie)\n",
    "* MR4: engerer Kontext, Analyse auf Satzebene (Syntax, semantische Relationen)\n",
    "* MR5: metakognitive Strategien\n",
    "* MR6: Bilder, Grafiken, Symbole, Zahlen, Kommunikationssituation\n"
   ]
  },
  {
   "cell_type": "markdown",
   "metadata": {},
   "source": [
    "### MANOVA AQ2, AQ3"
   ]
  },
  {
   "cell_type": "markdown",
   "metadata": {},
   "source": [
    "Matrix AQ2:"
   ]
  },
  {
   "cell_type": "code",
   "execution_count": 11,
   "metadata": {},
   "outputs": [],
   "source": [
    "A2 = convert_data(MyData,vec_AQ2)\n",
    "A2[is.na(A2)] <- 0 \n",
    "A2 <- as.matrix(A2)\n",
    "\n",
    "B2 = FA_AQ2$weights\n",
    "B2 <- as.matrix(B2)\n",
    "\n",
    "C2 <- A2 %*% B2"
   ]
  },
  {
   "cell_type": "code",
   "execution_count": 12,
   "metadata": {},
   "outputs": [],
   "source": [
    "Df_total2 <- merge(MyData,C2,by=0, sort=FALSE)\n",
    "Df_total2[Df_total2 == 0] <- NA\n",
    "#Df_total2[is.na(Df_total2)] <- 0"
   ]
  },
  {
   "cell_type": "markdown",
   "metadata": {},
   "source": [
    "Matrix AQ3:"
   ]
  },
  {
   "cell_type": "code",
   "execution_count": 13,
   "metadata": {},
   "outputs": [],
   "source": [
    "A = convert_data(MyData,vec_AQ3)\n",
    "A[is.na(A)] <- 0 \n",
    "A <- as.matrix(A)\n",
    "\n",
    "B = FA_AQ3$weights\n",
    "B <- as.matrix(B)\n",
    "\n",
    "C <- A %*% B"
   ]
  },
  {
   "cell_type": "code",
   "execution_count": 14,
   "metadata": {},
   "outputs": [],
   "source": [
    "Df_total <- merge(MyData,C,by=0, sort=FALSE)\n",
    "Df_total[Df_total == 0] <- NA\n",
    "#Df_total[is.na(Df_total)] <- 0"
   ]
  },
  {
   "cell_type": "markdown",
   "metadata": {},
   "source": [
    "Vektoren mit zu untersuchenden Variablen:"
   ]
  },
  {
   "cell_type": "code",
   "execution_count": 15,
   "metadata": {},
   "outputs": [],
   "source": [
    "vec_V <- get_vec(Df_total,\"V_\")\n",
    "vec_W <- get_vec(Df_total,\"W_\")"
   ]
  },
  {
   "cell_type": "code",
   "execution_count": 16,
   "metadata": {},
   "outputs": [
    {
     "data": {
      "text/html": [
       "<ol class=list-inline>\n",
       "\t<li>'V_L1.Bi.Trilingualismus'</li>\n",
       "\t<li>'V_Studienrichtung'</li>\n",
       "\t<li>'V_Niveau_DK'</li>\n",
       "\t<li>'V_Alter'</li>\n",
       "\t<li>'V_Geschlecht'</li>\n",
       "\t<li>'V_Erstsprache_Span'</li>\n",
       "\t<li>'V_Spr_Zahl'</li>\n",
       "\t<li>'V_Spr_Fran'</li>\n",
       "\t<li>'V_Spr_Germ'</li>\n",
       "\t<li>'V_Spr_Rom'</li>\n",
       "\t<li>'V_Spr_Slaw'</li>\n",
       "\t<li>'V_Spr_Asiat'</li>\n",
       "\t<li>'V_Spr_Klass'</li>\n",
       "\t<li>'V_E_Schule_LL'</li>\n",
       "\t<li>'V_E_Schule_Eng'</li>\n",
       "\t<li>'V_E_Schule_Spr'</li>\n",
       "\t<li>'V_E_Univ_DK'</li>\n",
       "\t<li>'V_E_Univ_andere'</li>\n",
       "\t<li>'V_E_Sprachschule'</li>\n",
       "\t<li>'V_E_DK_aktuell'</li>\n",
       "\t<li>'V_E_Sozial'</li>\n",
       "\t<li>'V_E_autonom'</li>\n",
       "\t<li>'V_Met_Erkl'</li>\n",
       "\t<li>'V_Met_Tipps'</li>\n",
       "\t<li>'V_Met_Training'</li>\n",
       "\t<li>'V_Met_Vgl'</li>\n",
       "\t<li>'V_Met_Reflexion'</li>\n",
       "\t<li>'V_Met_unbewusst'</li>\n",
       "</ol>\n"
      ],
      "text/latex": [
       "\\begin{enumerate*}\n",
       "\\item 'V\\_L1.Bi.Trilingualismus'\n",
       "\\item 'V\\_Studienrichtung'\n",
       "\\item 'V\\_Niveau\\_DK'\n",
       "\\item 'V\\_Alter'\n",
       "\\item 'V\\_Geschlecht'\n",
       "\\item 'V\\_Erstsprache\\_Span'\n",
       "\\item 'V\\_Spr\\_Zahl'\n",
       "\\item 'V\\_Spr\\_Fran'\n",
       "\\item 'V\\_Spr\\_Germ'\n",
       "\\item 'V\\_Spr\\_Rom'\n",
       "\\item 'V\\_Spr\\_Slaw'\n",
       "\\item 'V\\_Spr\\_Asiat'\n",
       "\\item 'V\\_Spr\\_Klass'\n",
       "\\item 'V\\_E\\_Schule\\_LL'\n",
       "\\item 'V\\_E\\_Schule\\_Eng'\n",
       "\\item 'V\\_E\\_Schule\\_Spr'\n",
       "\\item 'V\\_E\\_Univ\\_DK'\n",
       "\\item 'V\\_E\\_Univ\\_andere'\n",
       "\\item 'V\\_E\\_Sprachschule'\n",
       "\\item 'V\\_E\\_DK\\_aktuell'\n",
       "\\item 'V\\_E\\_Sozial'\n",
       "\\item 'V\\_E\\_autonom'\n",
       "\\item 'V\\_Met\\_Erkl'\n",
       "\\item 'V\\_Met\\_Tipps'\n",
       "\\item 'V\\_Met\\_Training'\n",
       "\\item 'V\\_Met\\_Vgl'\n",
       "\\item 'V\\_Met\\_Reflexion'\n",
       "\\item 'V\\_Met\\_unbewusst'\n",
       "\\end{enumerate*}\n"
      ],
      "text/markdown": [
       "1. 'V_L1.Bi.Trilingualismus'\n",
       "2. 'V_Studienrichtung'\n",
       "3. 'V_Niveau_DK'\n",
       "4. 'V_Alter'\n",
       "5. 'V_Geschlecht'\n",
       "6. 'V_Erstsprache_Span'\n",
       "7. 'V_Spr_Zahl'\n",
       "8. 'V_Spr_Fran'\n",
       "9. 'V_Spr_Germ'\n",
       "10. 'V_Spr_Rom'\n",
       "11. 'V_Spr_Slaw'\n",
       "12. 'V_Spr_Asiat'\n",
       "13. 'V_Spr_Klass'\n",
       "14. 'V_E_Schule_LL'\n",
       "15. 'V_E_Schule_Eng'\n",
       "16. 'V_E_Schule_Spr'\n",
       "17. 'V_E_Univ_DK'\n",
       "18. 'V_E_Univ_andere'\n",
       "19. 'V_E_Sprachschule'\n",
       "20. 'V_E_DK_aktuell'\n",
       "21. 'V_E_Sozial'\n",
       "22. 'V_E_autonom'\n",
       "23. 'V_Met_Erkl'\n",
       "24. 'V_Met_Tipps'\n",
       "25. 'V_Met_Training'\n",
       "26. 'V_Met_Vgl'\n",
       "27. 'V_Met_Reflexion'\n",
       "28. 'V_Met_unbewusst'\n",
       "\n",
       "\n"
      ],
      "text/plain": [
       " [1] \"V_L1.Bi.Trilingualismus\" \"V_Studienrichtung\"      \n",
       " [3] \"V_Niveau_DK\"             \"V_Alter\"                \n",
       " [5] \"V_Geschlecht\"            \"V_Erstsprache_Span\"     \n",
       " [7] \"V_Spr_Zahl\"              \"V_Spr_Fran\"             \n",
       " [9] \"V_Spr_Germ\"              \"V_Spr_Rom\"              \n",
       "[11] \"V_Spr_Slaw\"              \"V_Spr_Asiat\"            \n",
       "[13] \"V_Spr_Klass\"             \"V_E_Schule_LL\"          \n",
       "[15] \"V_E_Schule_Eng\"          \"V_E_Schule_Spr\"         \n",
       "[17] \"V_E_Univ_DK\"             \"V_E_Univ_andere\"        \n",
       "[19] \"V_E_Sprachschule\"        \"V_E_DK_aktuell\"         \n",
       "[21] \"V_E_Sozial\"              \"V_E_autonom\"            \n",
       "[23] \"V_Met_Erkl\"              \"V_Met_Tipps\"            \n",
       "[25] \"V_Met_Training\"          \"V_Met_Vgl\"              \n",
       "[27] \"V_Met_Reflexion\"         \"V_Met_unbewusst\"        "
      ]
     },
     "metadata": {},
     "output_type": "display_data"
    }
   ],
   "source": [
    "colnames(Df_total[,vec_V])"
   ]
  },
  {
   "cell_type": "code",
   "execution_count": 17,
   "metadata": {},
   "outputs": [],
   "source": [
    "#vec_V"
   ]
  },
  {
   "cell_type": "code",
   "execution_count": 18,
   "metadata": {},
   "outputs": [],
   "source": [
    "remove <- c(67)\n",
    "#vec_V[!vec_V %in% remove]"
   ]
  },
  {
   "cell_type": "markdown",
   "metadata": {},
   "source": [
    "Die Variable an Position 67 (\"Niveau des aktuellen Deutschkurses\") wird im Fall der Analyse getrennt nach Niveaustufen nicht berücksichtigt."
   ]
  },
  {
   "cell_type": "code",
   "execution_count": 19,
   "metadata": {},
   "outputs": [],
   "source": [
    "#colnames(Df_total[,vec_V[!vec_V %in% remove]])"
   ]
  },
  {
   "cell_type": "code",
   "execution_count": 20,
   "metadata": {},
   "outputs": [],
   "source": [
    "for (v in vec_V){Df_total[,v] <- as.factor(Df_total[,v])}\n",
    "for (v in vec_V){Df_total2[,v] <- as.factor(Df_total2[,v])}\n",
    "for (v in vec_W){Df_total[,v] <- as.factor(Df_total[,v])}\n",
    "for (v in vec_W){Df_total2[,v] <- as.factor(Df_total2[,v])}"
   ]
  },
  {
   "cell_type": "markdown",
   "metadata": {},
   "source": [
    "Ergebnisse der MANOVA: vgl. Datenanalyse_3"
   ]
  },
  {
   "cell_type": "markdown",
   "metadata": {},
   "source": [
    "### Biplots"
   ]
  },
  {
   "cell_type": "markdown",
   "metadata": {},
   "source": [
    "Funktionen:"
   ]
  },
  {
   "cell_type": "code",
   "execution_count": 21,
   "metadata": {},
   "outputs": [],
   "source": [
    "# Using non vectorial programming (for rather than matrices) is less efficient\n",
    "# except for large data matices\n",
    "TransformIni <- function(X, InitTransform=\"None\", transform = \"Standardize columns\") {\n",
    "  n = nrow(X)\n",
    "  p = ncol(X)\n",
    "  RowNames = rownames(X)\n",
    "  ColNames = colnames(X)\n",
    "  \n",
    "  InitTransforms=c(\"None\", \"Log\", \"Logit\")\n",
    "  if (is.numeric(InitTransform)) \n",
    "    InitTransform = InitTransforms[InitTransform]\n",
    "  \n",
    "  \n",
    "  ContinuousDataTransform = c(\"Raw Data\", \"Substract the global mean\", \"Double centering\", \"Column centering\", \"Standardize columns\", \"Row centering\", \n",
    "                              \"Standardize rows\", \"Divide by the column means and center\", \"Normalized residuals from independence\")\n",
    "  if (is.numeric(transform)) \n",
    "    transform = ContinuousDataTransform[transform]\n",
    "  \n",
    "  switch(InitTransform, `Log` = {\n",
    "    if (sum(which(X<=0)) >0) stop(\"Initial log transformation is not compatible with negative or zero values\")\n",
    "    X = log(X)\n",
    "    if (nfs > 0) sup.rows = log(sup.rows)\n",
    "    if (ncs > 0) sup.cols = log(sup.cols)\n",
    "  },`Logit` = {\n",
    "    if (sum(which(X<=0)) >0) stop(\"Initial logit transformation is not compatible with negative values\")\n",
    "    X= X + 0.01 * (X==0) - 0.01 * (X==1)\n",
    "    x=log(X/(1-X))\n",
    "  })\n",
    "  \n",
    "  \n",
    "  switch(transform, `Substract the global mean` = {\n",
    "    gmean = mean(X)\n",
    "    X = X - gmean\n",
    "  }, `Double centering` = {\n",
    "    X = (diag(n) - matrix(1, n, n)/n) %*% X %*% (diag(p) - matrix(1, p, p)/p)\n",
    "  }, `Column centering` = {\n",
    "    means = apply(X, 2, mean)\n",
    "    X=X- matrix(1,n,1) %*% matrix(means,1,p)\n",
    "  }, `Standardize columns` = {\n",
    "    means = apply(X, 2, mean)\n",
    "    stdDevs = apply(X, 2, sd)\n",
    "    X=(X- matrix(1,n,1) %*% matrix(means,1,p))/(matrix(1,n,1) %*% matrix(stdDevs,1,p))\n",
    "  }, `Row centering` = {\n",
    "    means = apply(X, 1, mean)\n",
    "    X = X %*% (diag(p) - matrix(1, p, p)/p)\n",
    "  }, `Standardize rows` = {\n",
    "    means = apply(X, 1, mean)\n",
    "    stdDevs = apply(X, 1, sd)\n",
    "    X = solve(diag(stdDevs)) %*% X %*% (diag(p) - matrix(1, p, p)/p)\n",
    "  }, `Divide by the column means and center` = {\n",
    "    means = apply(X, 2, mean)\n",
    "    for (i in (1:p)) X[, i] = X[, i]/means[i]\n",
    "    X = (diag(n) - matrix(1, n, n)/n) %*% X\n",
    "  }, `Normalized residuals from independence` = {\n",
    "    nt = sum(sum(X))\n",
    "    dr = apply(X,1,sum)\n",
    "    dc = apply(X,2,sum)\n",
    "    esp = (t(t(dr)) %*% dc)/nt\n",
    "    var = t(t(1 - dr/nt)) %*% (1 - dc/nt)\n",
    "    xp = ((xp - esp)/sqrt(esp))/sqrt(var)\n",
    "  },`Divide by the range`={\n",
    "    Rangos=apply(X,2,max)-apply(X,2,min)\n",
    "    X=X%*%diag(1/Rangos)\n",
    "  })\n",
    "  rownames(X) = RowNames\n",
    "  colnames(X) = ColNames\n",
    "  return(X)\n",
    "}"
   ]
  },
  {
   "cell_type": "code",
   "execution_count": 22,
   "metadata": {},
   "outputs": [],
   "source": [
    "Factor2Binary <- function(y, Name=NULL){  \n",
    "  if (is.null(Name)) Name=\"C-\"\n",
    "  ncat=length(levels(y))\n",
    "  n=length(y)\n",
    "  Z=matrix(0,n,ncat)\n",
    "  for (i in 1:n)\n",
    "    Z[i,as.numeric(y[i])]=1\n",
    "  colnames(Z) <- paste(Name,levels(y),sep=\"\")\n",
    "  return(Z)\n",
    "}"
   ]
  },
  {
   "cell_type": "code",
   "execution_count": 23,
   "metadata": {},
   "outputs": [],
   "source": [
    "matrixsqrt <- function(S, tol = sqrt(.Machine$double.eps))\n",
    "{\n",
    "  ## Square root of a Matrix\n",
    "  s <- svd(S)\n",
    "  nz <- s$d > tol\n",
    "  S12=s$u[, nz] %*% diag(sqrt(s$d[nz])) %*% t(s$v[, nz])\n",
    "  return(S12)\n",
    "}"
   ]
  },
  {
   "cell_type": "code",
   "execution_count": 24,
   "metadata": {},
   "outputs": [],
   "source": [
    "matrixsqrtinv <- function(S, tol = sqrt(.Machine$double.eps))\n",
    "{\n",
    "  ## Square root of a Matrix\n",
    "  s <- svd(S)\n",
    "  nz <- s$d > tol\n",
    "  S12=s$u[, nz] %*% diag(1/sqrt(s$d[nz])) %*% t(s$v[, nz])\n",
    "  return(S12)\n",
    "}"
   ]
  },
  {
   "cell_type": "code",
   "execution_count": 25,
   "metadata": {},
   "outputs": [],
   "source": [
    "CanonicalBiplot <- function(X, group, SUP = NULL, InitialTransform = 5, LDA=FALSE, MANOVA = FALSE) {\n",
    "\n",
    "  cl <- match.call()\n",
    "\n",
    "  ContinuousDataTransform = c(\"Raw Data\", \"Substract the global mean\", \"Double centering\",\n",
    "                              \"Column centering\", \"Standardize columns\", \"Row centering\",\n",
    "                              \"Standardize rows\", \"Divide by the column means and center\",\n",
    "                              \"Normalized residuals from independence\", \"Divide by the range\",\n",
    "                              \"Within groups standardization\", \"Ranks\")\n",
    "  if (is.numeric(InitialTransform))\n",
    "    InitialTransform = ContinuousDataTransform[InitialTransform]\n",
    "\n",
    "\tBip = list() #Container for the solution\n",
    "\tBip$call=cl\n",
    "\t# Setting the properties of data\n",
    "\tif (is.null(rownames(X)))\n",
    "\t\trownames(X) <- rownames(X, do.NULL = FALSE, prefix = \"I\")\n",
    "\tRowNames = rownames(X)\n",
    "\tif (is.null(colnames(X)))\n",
    "\t\tcolnames(X) <- colnames(X, do.NULL = FALSE, prefix = \"V\")\n",
    "\tVarNames = colnames(X)\n",
    "\n",
    "\tBip$Title = \"Canonical/MANOVA Biplot\"\n",
    "\tBip$Type = \"Canonical\"\n",
    "\tBip$Non_Scaled_Data = X\n",
    "\tBip$Means = apply(X, 2, mean)\n",
    "\tBip$Medians = apply(X, 2, median)\n",
    "\tBip$Deviations = apply(X, 2, sd)\n",
    "\tBip$Minima = apply(X, 2, min)\n",
    "\tBip$Maxima = apply(X, 2, max)\n",
    "\tBip$P25 = apply(X, 2, quantile)[2, ]\n",
    "\tBip$P75 = apply(X, 2, quantile)[4, ]\n",
    "\tBip$GMean = mean(as.matrix(X))\n",
    "  Bip$Initial_Transformation=InitialTransform\n",
    "\tX = TransformIni(as.matrix(X), transform = InitialTransform) # Initial transformation\n",
    "\trownames(X) <- RowNames\n",
    "\tif (is.factor(group)) {\n",
    "\t\tGroupNames = levels(group)\n",
    "\t}\n",
    "\tg = length(levels(group))\n",
    "\tn = dim(X)[1]\n",
    "\tm = dim(X)[2]\n",
    "\tr = min(c(g - 1, m))\n",
    "\tBip$ncols=m\n",
    "  Bip$nrows=n\n",
    "  Bip$dim=r\n",
    "  if (LDA) {Bip$LDA=lda(X,group)\n",
    "\tBip$Predict=predict(Bip$LDA,X)$class\n",
    "\tBip$ClassificationTable = table(group, Bip$Predict)\n",
    "\tBip$PercentCorrect=diag(prop.table(Bip$ClassificationTable, 1))\n",
    "\tnames(Bip$PercentCorrect)=GroupNames\n",
    "\tBip$TotalPercentCorrect=sum(diag(prop.table(Bip$ClassificationTable)))\n",
    "\tnames(Bip$TotalPercentCorrect)= \"Total\"}\n",
    "  \n",
    "  \n",
    "  if (MANOVA) Bip$MANOVA = manova(X ~ group)\n",
    "\n",
    "\tDimNames = \"Dim 1\"\n",
    "\tfor (i in 2:r) DimNames = c(DimNames, paste(\"Dim\", i))\n",
    "\tZ = Factor2Binary(group) # Matrix of indicators\n",
    "\tng = colSums(Z)\n",
    "\tS11 = t(Z) %*% Z\n",
    "\tXb = solve(S11) %*% t(Z) %*% X\n",
    "\tB = t(Xb) %*% S11 %*% Xb\n",
    "\tS = t(X) %*% X - B\n",
    "\tY = (S11^0.5) %*% Xb %*% matrixsqrtinv(S)\n",
    "\tSV = svd(Y)\n",
    "\n",
    "\tH = matrixsqrt(S) %*% SV$v[, 1:r] # Variable coordinates\n",
    "\tB = matrixsqrtinv(S) %*% SV$v[, 1:r] # Canonical Weigths\n",
    "\tJ = Xb %*% B # Center Coordinates\n",
    "\tV = X %*% B # Individual Coordinates\n",
    "\tif (!is.null(SUP)) {\n",
    "\t\tVS = SUP %*% B\n",
    "\t\trownames(VS)=rownames(SUP)\n",
    "\t\tcolnames(VS)=DimNames\n",
    "\t\t# Bip$SupPredict=predict(Bip$LDA,SUP)$class\n",
    "\t}\n",
    "\telse {\n",
    "\t\tVS=NULL\n",
    "\t\tBip$SupPredict=NULL}\n",
    "\n",
    "\t# Inertia, ANOVAs for each Canonical Variate and MANOVA\n",
    "\tsct = diag(t(V) %*% V)\n",
    "\tsce = diag(t(J) %*% S11 %*% J)\n",
    "\tscr = sct - sce\n",
    "\tfs = (sce/(g - 1))/(scr/(n - g))\n",
    "\tsignif2 = df(fs, (g - 1), (n - g))\n",
    "\n",
    "\tvprop = SV$d[1:r]\n",
    "\tiner = (vprop^2/sum(vprop^2)) * 100\n",
    "\tacum = cumsum(iner)\n",
    "\n",
    "\tBip$EigenValues = vprop\n",
    "\tBip$Inertia = iner\n",
    "\tBip$CumInertia = acum\n",
    "\t# colnames(Bip$EigenValues) <- c(\"Eigenvalue\", \"Explained Variance\", \"Cummulative\")\n",
    "\t# rownames(Bip$EigenValues) <- DimNames\n",
    "\n",
    "\tlambda = vprop^2\n",
    "\tpill = 1/(1 + lambda)\n",
    "\tpillai = det(diag(pill))\n",
    "\tglh = g - 1\n",
    "\tgle = n - g\n",
    "\tt = ((glh^2 * m^2 - 4)/(m^2 + glh^2 - 5))^0.5\n",
    "\tw = gle + glh - 0.5 * (m + glh + 1)\n",
    "\tdf1 = m * glh\n",
    "\tdf2 = w * t - 0.5 * (m * glh - 2)\n",
    "\tBip$Wilksf = ((1 - pillai^(1/t))/(pillai^(1/t))) * (df2/df1)\n",
    "\tBip$Wilksp = 1 - pf(Bip$Wilksf, df1, df2)\n",
    "\n",
    "\tBip$GroupContributions = diag(1/rowSums(J^2)) %*% J^2\n",
    "\tBip$ColContributions = diag(1/rowSums(H^2)) %*% H^2\n",
    "\n",
    "\tBip$ExplTotal = matrix(0, r, 1)\n",
    "\tBip$RowContributions = matrix(0, n, r)\n",
    "\tBip$QLRVars = matrix(0, m, r)\n",
    "\n",
    "\tSCT = sum(X^2)\n",
    "\tSCRows = rowSums(X^2)\n",
    "\tSCCols = colSums(X^2)\n",
    "\n",
    "\tfor (j in 1:r) {\n",
    "\t\tFitted = V[, 1:j] %*% t(H[, 1:j])\n",
    "\t\tresiduals = X - Fitted\n",
    "\t\tBip$ExplTotal[j] = 1 - sum(residuals^2)/SCT\n",
    "\t\tBip$RowContributions[, j] = 1 - rowSums(residuals^2)/SCRows\n",
    "\t\tBip$QLRVars[, j] = 1 - colSums(residuals^2)/SCCols\n",
    "\t}\n",
    "\n",
    "\n",
    "\tFitX = V %*% t(H)\n",
    "\tResid = X - FitX\n",
    "\n",
    "\tSCR = sum(Resid^2)\n",
    "\tFIT = 1 - (SCR/SCT)\n",
    "\n",
    "\tsctotal = diag(t(X) %*% X)\n",
    "\n",
    "\tscdentro = diag(S)\n",
    "\tscentre = sctotal - scdentro\n",
    "\tfs = (scentre/glh)/(scdentro/gle)\n",
    "\tpval = 1 - pf(fs, glh, gle)\n",
    "\n",
    "\tBip$ANOVAS = cbind(sctotal, scentre, scdentro, fs, pval)\n",
    "\tcolnames(Bip$ANOVAS) <- c(\"Total\", \"Groups\", \"Error\", \"F\", \"p-val\")\n",
    "\n",
    "\tfalfau = qt(1 - (0.025), (n - g))\n",
    "\tfalfab = qt(1 - (0.025/(g * m)), (n - g))\n",
    "\tfalfam = sqrt(qf(1 - 0.05, m, (n - g - m + 1)) * (((n - g) * m)/(n - g - m + 1)))\n",
    "\tfalfac = sqrt(qchisq(0.95, 2))\n",
    "\n",
    "\tBip$UnivRad = falfau * diag(solve(sqrt(S11)))/sqrt(n - g)\n",
    "\tBip$BonfRad = falfab * diag(solve(sqrt(S11)))/sqrt(n - g)\n",
    "\tBip$MultRad = falfam * diag(solve(sqrt(S11)))/sqrt(n - g)\n",
    "\tBip$ChisRad = falfac * diag(solve(sqrt(S11)))/sqrt(n - g)\n",
    "\n",
    "\tBip$n = n\n",
    "\tBip$p = m\n",
    "\tBip$g = g\n",
    "\tBip$X = X\n",
    "\tBip$groups = group\n",
    "\n",
    "\tBip$RowCoordinates = V\n",
    "\trownames(Bip$RowCoordinates) = RowNames\n",
    "\tcolnames(Bip$RowCoordinates) = DimNames\n",
    "\tBip$Sup_Individual_Coord = VS\n",
    "\tBip$ColCoordinates = H\n",
    "\trownames(Bip$ColCoordinates) = VarNames\n",
    "\tcolnames(Bip$ColCoordinates) = DimNames\n",
    "\tBip$GroupCoordinates = J\n",
    "\trownames(Bip$GroupCoordinates) = GroupNames\n",
    "\tcolnames(Bip$GroupCoordinates) = DimNames\n",
    "\tBip$Canonical_Weights = B\n",
    "\trownames(Bip$Canonical_Weights) = VarNames\n",
    "\tcolnames(Bip$Canonical_Weights) = DimNames\n",
    "\tBip$Structure_Correlations = cor(X, V)\n",
    "\trownames(Bip$Structure_Correlations) = VarNames\n",
    "\tcolnames(Bip$Structure_Correlations) = DimNames\n",
    "\trownames(Bip$GroupContributions) = GroupNames\n",
    "\tcolnames(Bip$GroupContributions) = DimNames\n",
    "\trownames(Bip$ColContributions) = VarNames\n",
    "\tcolnames(Bip$ColContributions) = DimNames\n",
    "\trownames(Bip$QLRVars) = VarNames\n",
    "\tcolnames(Bip$QLRVars) = DimNames\n",
    "\t\n",
    "\t  NGroups=length(levels(group))\n",
    "\t  Bip$Clusters = group\n",
    "\t  Bip$ClusterNames = levels(group)\n",
    "\t\n",
    "\tpalette(rainbow(NGroups))\n",
    "\tClusterColors = palette()\n",
    "\tBip$ClusterType=\"us\"\n",
    "\tBip$ClusterColors=ClusterColors\n",
    "\t\n",
    "\n",
    "\tclass(Bip) <- \"Canonical.Biplot\"\n",
    "\treturn(Bip)\n",
    "}"
   ]
  },
  {
   "cell_type": "code",
   "execution_count": 26,
   "metadata": {},
   "outputs": [
    {
     "name": "stderr",
     "output_type": "stream",
     "text": [
      "\n",
      "Attaching package: 'ggplot2'\n",
      "\n",
      "The following objects are masked from 'package:psych':\n",
      "\n",
      "    %+%, alpha\n",
      "\n"
     ]
    }
   ],
   "source": [
    "library(ggplot2)"
   ]
  },
  {
   "cell_type": "markdown",
   "metadata": {},
   "source": [
    "### AQ2"
   ]
  },
  {
   "cell_type": "markdown",
   "metadata": {},
   "source": [
    "##### Studienrichtung"
   ]
  },
  {
   "cell_type": "code",
   "execution_count": 27,
   "metadata": {},
   "outputs": [],
   "source": [
    "X <- Df_total2[!is.na(Df_total2$V_Studienrichtung),cbind(\"MR1\",\"MR2\",\"MR3\")] \n",
    "y <- as.factor(Df_total2[!is.na(Df_total2$V_Studienrichtung),]$V_Studienrichtung)\n",
    "\n",
    "Totalcanbip <- CanonicalBiplot(X,y )\n",
    "\n",
    "#Rescalar resultados\n",
    "sca <- sum(Totalcanbip$GroupCoordinates^2)\n",
    "scb <- sum(Totalcanbip$ColCoordinates^2)\n",
    "sca <- sca/Totalcanbip$g\n",
    "scb <- scb/Totalcanbip$p\n",
    "scf <- sqrt(sqrt(scb/sca))\n",
    "\n",
    "Totalcanbip$Group_Coord <- Totalcanbip$GroupCoordinates*scf\n",
    "Totalcanbip$Variable_Coord <- Totalcanbip$ColCoordinates/scf\n",
    "Totalcanbip$Individual_Coord <- Totalcanbip$RowCoordinates*scf\n",
    "radio <- Totalcanbip$BonfRad\n",
    "\n",
    "CoordGrupos <- as.data.frame(Totalcanbip$Group_Coord)\n",
    "CoordVar <- as.data.frame(Totalcanbip$Variable_Coord)\n",
    "CoordGrupos$clase <- c('Germ','Phil','Trans','Andere')\n",
    "rownames(CoordGrupos) <- c('Germ','Phil','Trans','Andere')"
   ]
  },
  {
   "cell_type": "code",
   "execution_count": 28,
   "metadata": {},
   "outputs": [
    {
     "data": {
      "text/html": [
       "<table>\n",
       "<thead><tr><th></th><th scope=col>Dim 1</th><th scope=col>Dim 2</th><th scope=col>Dim 3</th></tr></thead>\n",
       "<tbody>\n",
       "\t<tr><th scope=row>MR1</th><td>0.5188123   </td><td>0.10915536  </td><td>3.720323e-01</td></tr>\n",
       "\t<tr><th scope=row>MR2</th><td>0.1627530   </td><td>0.83722063  </td><td>2.636626e-05</td></tr>\n",
       "\t<tr><th scope=row>MR3</th><td>0.2327779   </td><td>0.06293294  </td><td>7.042892e-01</td></tr>\n",
       "</tbody>\n",
       "</table>\n"
      ],
      "text/latex": [
       "\\begin{tabular}{r|lll}\n",
       "  & Dim 1 & Dim 2 & Dim 3\\\\\n",
       "\\hline\n",
       "\tMR1 & 0.5188123    & 0.10915536   & 3.720323e-01\\\\\n",
       "\tMR2 & 0.1627530    & 0.83722063   & 2.636626e-05\\\\\n",
       "\tMR3 & 0.2327779    & 0.06293294   & 7.042892e-01\\\\\n",
       "\\end{tabular}\n"
      ],
      "text/markdown": [
       "\n",
       "| <!--/--> | Dim 1 | Dim 2 | Dim 3 | \n",
       "|---|---|---|\n",
       "| MR1 | 0.5188123    | 0.10915536   | 3.720323e-01 | \n",
       "| MR2 | 0.1627530    | 0.83722063   | 2.636626e-05 | \n",
       "| MR3 | 0.2327779    | 0.06293294   | 7.042892e-01 | \n",
       "\n",
       "\n"
      ],
      "text/plain": [
       "    Dim 1     Dim 2      Dim 3       \n",
       "MR1 0.5188123 0.10915536 3.720323e-01\n",
       "MR2 0.1627530 0.83722063 2.636626e-05\n",
       "MR3 0.2327779 0.06293294 7.042892e-01"
      ]
     },
     "metadata": {},
     "output_type": "display_data"
    }
   ],
   "source": [
    "Totalcanbip$ColContributions"
   ]
  },
  {
   "cell_type": "code",
   "execution_count": 29,
   "metadata": {},
   "outputs": [
    {
     "data": {
      "text/html": [
       "<table>\n",
       "<thead><tr><th></th><th scope=col>Dim 1</th><th scope=col>Dim 2</th><th scope=col>Dim 3</th></tr></thead>\n",
       "<tbody>\n",
       "\t<tr><th scope=row>1</th><td>9.860663e-01</td><td>0.0004959842</td><td>0.013437669 </td></tr>\n",
       "\t<tr><th scope=row>2</th><td>9.344898e-01</td><td>0.0471117897</td><td>0.018398387 </td></tr>\n",
       "\t<tr><th scope=row>3</th><td>6.081595e-05</td><td>0.0075506739</td><td>0.992388510 </td></tr>\n",
       "\t<tr><th scope=row>4</th><td>2.478667e-01</td><td>0.7492022875</td><td>0.002931056 </td></tr>\n",
       "</tbody>\n",
       "</table>\n"
      ],
      "text/latex": [
       "\\begin{tabular}{r|lll}\n",
       "  & Dim 1 & Dim 2 & Dim 3\\\\\n",
       "\\hline\n",
       "\t1 & 9.860663e-01 & 0.0004959842 & 0.013437669 \\\\\n",
       "\t2 & 9.344898e-01 & 0.0471117897 & 0.018398387 \\\\\n",
       "\t3 & 6.081595e-05 & 0.0075506739 & 0.992388510 \\\\\n",
       "\t4 & 2.478667e-01 & 0.7492022875 & 0.002931056 \\\\\n",
       "\\end{tabular}\n"
      ],
      "text/markdown": [
       "\n",
       "| <!--/--> | Dim 1 | Dim 2 | Dim 3 | \n",
       "|---|---|---|---|\n",
       "| 1 | 9.860663e-01 | 0.0004959842 | 0.013437669  | \n",
       "| 2 | 9.344898e-01 | 0.0471117897 | 0.018398387  | \n",
       "| 3 | 6.081595e-05 | 0.0075506739 | 0.992388510  | \n",
       "| 4 | 2.478667e-01 | 0.7492022875 | 0.002931056  | \n",
       "\n",
       "\n"
      ],
      "text/plain": [
       "  Dim 1        Dim 2        Dim 3      \n",
       "1 9.860663e-01 0.0004959842 0.013437669\n",
       "2 9.344898e-01 0.0471117897 0.018398387\n",
       "3 6.081595e-05 0.0075506739 0.992388510\n",
       "4 2.478667e-01 0.7492022875 0.002931056"
      ]
     },
     "metadata": {},
     "output_type": "display_data"
    }
   ],
   "source": [
    "Totalcanbip$GroupContributions"
   ]
  },
  {
   "cell_type": "code",
   "execution_count": 30,
   "metadata": {},
   "outputs": [
    {
     "data": {},
     "metadata": {},
     "output_type": "display_data"
    },
    {
     "data": {
      "image/png": "[encoded data removed]",
      "text/plain": [
       "plot without title"
      ]
     },
     "metadata": {},
     "output_type": "display_data"
    }
   ],
   "source": [
    "df <- data.frame(x=as.numeric(CoordGrupos[,1]), y=as.numeric(CoordGrupos[,2]), r=as.numeric(radio))\n",
    "\n",
    "angle <- seq(-pi, pi, length = 100)\n",
    "\n",
    "myplot <- ggplot()\n",
    "for (i in 1:length(df$x)) {\n",
    "        df_temp = data.frame(x = df$x[i] + df$r[i]*sin(angle), y = df$y[i] + df$r[i]*cos(angle))\n",
    "        myplot = myplot + geom_polygon(data=df_temp, aes(x=x, y=y),color='grey', fill=NA,alpha=0.5, inherit.aes=F)\n",
    "      }\n",
    "\n",
    "myplot + geom_point(data=df, aes(x=x, y=y))+\n",
    "geom_point(data=CoordGrupos,aes(x=`Dim 1`,y=`Dim 2`,col=clase))+\n",
    "geom_text(data=CoordGrupos,aes(x=`Dim 1`,y=`Dim 2`,label=rownames(CoordGrupos),col=clase),hjust=0.6, vjust=-0.3,size=5)+\n",
    "geom_segment(aes(x=0,y=0,xend=`Dim 1`,yend=`Dim 2`),data=CoordVar,arrow = arrow(length = unit(0.2,\"cm\"),type='open'),size=0.5,col='black')+\n",
    "geom_text(aes(x=CoordVar$`Dim 1`+.08*sign(CoordVar$`Dim 1`),y=CoordVar$`Dim 2`+.01*sign(CoordVar$`Dim 2`),label=rownames(CoordVar)),data=CoordVar,size=4)+\n",
    "theme_bw()+theme(legend.position=\"none\")"
   ]
  },
  {
   "cell_type": "code",
   "execution_count": 31,
   "metadata": {},
   "outputs": [
    {
     "data": {},
     "metadata": {},
     "output_type": "display_data"
    },
    {
     "data": {
      "image/png": "[encoded data removed]",
      "text/plain": [
       "plot without title"
      ]
     },
     "metadata": {},
     "output_type": "display_data"
    }
   ],
   "source": [
    "df <- data.frame(x=as.numeric(CoordGrupos[,1]), y=as.numeric(CoordGrupos[,3]), r=as.numeric(radio))\n",
    "angle <- seq(-pi, pi, length = 100)\n",
    "myplot <- ggplot()\n",
    "for (i in 1:length(df$x)) {\n",
    "        df_temp = data.frame(x = df$x[i] + df$r[i]*sin(angle), y = df$y[i] + df$r[i]*cos(angle))\n",
    "        myplot = myplot + geom_polygon(data=df_temp, aes(x=x, y=y),color='grey', fill=NA,alpha=0.5, inherit.aes=F)\n",
    "      }\n",
    "\n",
    "myplot + geom_point(data=df, aes(x=x, y=y))+\n",
    "geom_point(data=CoordGrupos,aes(x=`Dim 1`,y=`Dim 3`,col=clase))+\n",
    "geom_text(data=CoordGrupos,aes(x=`Dim 1`,y=`Dim 3`,label=rownames(CoordGrupos),col=clase),hjust=0.6, vjust=-0.3,size=5)+\n",
    "geom_segment(aes(x=0,y=0,xend=`Dim 1`,yend=`Dim 3`),data=CoordVar,arrow = arrow(length = unit(0.2,\"cm\"),type='open'),size=0.5,col='black')+\n",
    "geom_text(aes(x=CoordVar$`Dim 1`+.08*sign(CoordVar$`Dim 1`),y=CoordVar$`Dim 3`+.01*sign(CoordVar$`Dim 3`),label=rownames(CoordVar)),data=CoordVar,size=4)+\n",
    "theme_bw()+theme(legend.position=\"none\")"
   ]
  },
  {
   "cell_type": "markdown",
   "metadata": {},
   "source": [
    "##### Niveau des aktuellen Deutschkurses"
   ]
  },
  {
   "cell_type": "code",
   "execution_count": 32,
   "metadata": {},
   "outputs": [],
   "source": [
    "X <- Df_total2[!is.na(Df_total2$V_Niveau_DK),cbind(\"MR1\",\"MR2\",\"MR3\")]\n",
    "y <- as.factor(Df_total2$V_Niveau_DK)\n",
    "\n",
    "Totalcanbip <- CanonicalBiplot(X,y )\n",
    "\n",
    "#Rescalar resultados\n",
    "sca <- sum(Totalcanbip$GroupCoordinates^2)\n",
    "scb <- sum(Totalcanbip$ColCoordinates^2)\n",
    "sca <- sca/Totalcanbip$g\n",
    "scb <- scb/Totalcanbip$p\n",
    "scf <- sqrt(sqrt(scb/sca))\n",
    "\n",
    "Totalcanbip$Group_Coord <- Totalcanbip$GroupCoordinates*scf\n",
    "Totalcanbip$Variable_Coord <- Totalcanbip$ColCoordinates/scf\n",
    "Totalcanbip$Individual_Coord <- Totalcanbip$RowCoordinates*scf\n",
    "radio <- Totalcanbip$BonfRad\n",
    "\n",
    "CoordGrupos <- as.data.frame(Totalcanbip$Group_Coord)\n",
    "CoordVar <- as.data.frame(Totalcanbip$Variable_Coord)\n",
    "CoordGrupos$clase <- c('A1','A2','B1','B2','C')\n",
    "rownames(CoordGrupos) <- c('A1','A2','B1','B2','C')"
   ]
  },
  {
   "cell_type": "code",
   "execution_count": 33,
   "metadata": {},
   "outputs": [
    {
     "data": {
      "text/html": [
       "<table>\n",
       "<thead><tr><th></th><th scope=col>Dim 1</th><th scope=col>Dim 2</th><th scope=col>Dim 3</th></tr></thead>\n",
       "<tbody>\n",
       "\t<tr><th scope=row>MR1</th><td>0.5821401  </td><td>0.224350547</td><td>0.19350938 </td></tr>\n",
       "\t<tr><th scope=row>MR2</th><td>0.1498195  </td><td>0.009637163</td><td>0.84054334 </td></tr>\n",
       "\t<tr><th scope=row>MR3</th><td>0.1180228  </td><td>0.867835562</td><td>0.01414166 </td></tr>\n",
       "</tbody>\n",
       "</table>\n"
      ],
      "text/latex": [
       "\\begin{tabular}{r|lll}\n",
       "  & Dim 1 & Dim 2 & Dim 3\\\\\n",
       "\\hline\n",
       "\tMR1 & 0.5821401   & 0.224350547 & 0.19350938 \\\\\n",
       "\tMR2 & 0.1498195   & 0.009637163 & 0.84054334 \\\\\n",
       "\tMR3 & 0.1180228   & 0.867835562 & 0.01414166 \\\\\n",
       "\\end{tabular}\n"
      ],
      "text/markdown": [
       "\n",
       "| <!--/--> | Dim 1 | Dim 2 | Dim 3 | \n",
       "|---|---|---|\n",
       "| MR1 | 0.5821401   | 0.224350547 | 0.19350938  | \n",
       "| MR2 | 0.1498195   | 0.009637163 | 0.84054334  | \n",
       "| MR3 | 0.1180228   | 0.867835562 | 0.01414166  | \n",
       "\n",
       "\n"
      ],
      "text/plain": [
       "    Dim 1     Dim 2       Dim 3     \n",
       "MR1 0.5821401 0.224350547 0.19350938\n",
       "MR2 0.1498195 0.009637163 0.84054334\n",
       "MR3 0.1180228 0.867835562 0.01414166"
      ]
     },
     "metadata": {},
     "output_type": "display_data"
    }
   ],
   "source": [
    "Totalcanbip$ColContributions"
   ]
  },
  {
   "cell_type": "code",
   "execution_count": 34,
   "metadata": {},
   "outputs": [
    {
     "data": {
      "text/html": [
       "<table>\n",
       "<thead><tr><th></th><th scope=col>Dim 1</th><th scope=col>Dim 2</th><th scope=col>Dim 3</th></tr></thead>\n",
       "<tbody>\n",
       "\t<tr><th scope=row>1</th><td>0.9926261  </td><td>0.005047898</td><td>0.002326012</td></tr>\n",
       "\t<tr><th scope=row>2</th><td>0.5865973  </td><td>0.278676556</td><td>0.134726191</td></tr>\n",
       "\t<tr><th scope=row>3</th><td>0.5095126  </td><td>0.489280895</td><td>0.001206524</td></tr>\n",
       "\t<tr><th scope=row>4</th><td>0.7975089  </td><td>0.145322001</td><td>0.057169107</td></tr>\n",
       "\t<tr><th scope=row>5</th><td>0.9308971  </td><td>0.029688501</td><td>0.039414438</td></tr>\n",
       "</tbody>\n",
       "</table>\n"
      ],
      "text/latex": [
       "\\begin{tabular}{r|lll}\n",
       "  & Dim 1 & Dim 2 & Dim 3\\\\\n",
       "\\hline\n",
       "\t1 & 0.9926261   & 0.005047898 & 0.002326012\\\\\n",
       "\t2 & 0.5865973   & 0.278676556 & 0.134726191\\\\\n",
       "\t3 & 0.5095126   & 0.489280895 & 0.001206524\\\\\n",
       "\t4 & 0.7975089   & 0.145322001 & 0.057169107\\\\\n",
       "\t5 & 0.9308971   & 0.029688501 & 0.039414438\\\\\n",
       "\\end{tabular}\n"
      ],
      "text/markdown": [
       "\n",
       "| <!--/--> | Dim 1 | Dim 2 | Dim 3 | \n",
       "|---|---|---|---|---|\n",
       "| 1 | 0.9926261   | 0.005047898 | 0.002326012 | \n",
       "| 2 | 0.5865973   | 0.278676556 | 0.134726191 | \n",
       "| 3 | 0.5095126   | 0.489280895 | 0.001206524 | \n",
       "| 4 | 0.7975089   | 0.145322001 | 0.057169107 | \n",
       "| 5 | 0.9308971   | 0.029688501 | 0.039414438 | \n",
       "\n",
       "\n"
      ],
      "text/plain": [
       "  Dim 1     Dim 2       Dim 3      \n",
       "1 0.9926261 0.005047898 0.002326012\n",
       "2 0.5865973 0.278676556 0.134726191\n",
       "3 0.5095126 0.489280895 0.001206524\n",
       "4 0.7975089 0.145322001 0.057169107\n",
       "5 0.9308971 0.029688501 0.039414438"
      ]
     },
     "metadata": {},
     "output_type": "display_data"
    }
   ],
   "source": [
    "Totalcanbip$GroupContributions"
   ]
  },
  {
   "cell_type": "code",
   "execution_count": 35,
   "metadata": {},
   "outputs": [
    {
     "data": {},
     "metadata": {},
     "output_type": "display_data"
    },
    {
     "data": {
      "image/png": "[encoded data removed]",
      "text/plain": [
       "plot without title"
      ]
     },
     "metadata": {},
     "output_type": "display_data"
    }
   ],
   "source": [
    "df <- data.frame(x=as.numeric(CoordGrupos[,1]), y=as.numeric(CoordGrupos[,2]), r=as.numeric(radio))\n",
    "\n",
    "angle <- seq(-pi, pi, length = 100)\n",
    "\n",
    "myplot <- ggplot()\n",
    "for (i in 1:length(df$x)) {\n",
    "        df_temp = data.frame(x = df$x[i] + df$r[i]*sin(angle), y = df$y[i] + df$r[i]*cos(angle))\n",
    "        myplot = myplot + geom_polygon(data=df_temp, aes(x=x, y=y),color='grey', fill=NA,alpha=0.5, inherit.aes=F)\n",
    "      }\n",
    "\n",
    "myplot + geom_point(data=df, aes(x=x, y=y))+\n",
    "geom_point(data=CoordGrupos,aes(x=`Dim 1`,y=`Dim 2`,col=clase))+\n",
    "geom_text(data=CoordGrupos,aes(x=`Dim 1`,y=`Dim 2`,label=rownames(CoordGrupos),col=clase),hjust=0.6, vjust=-0.3,size=5)+\n",
    "geom_segment(aes(x=0,y=0,xend=`Dim 1`,yend=`Dim 2`),data=CoordVar,arrow = arrow(length = unit(0.2,\"cm\"),type='open'),size=0.5,col='black')+\n",
    "geom_text(aes(x=CoordVar$`Dim 1`+.08*sign(CoordVar$`Dim 1`),y=CoordVar$`Dim 2`+.01*sign(CoordVar$`Dim 2`),label=rownames(CoordVar)),data=CoordVar,size=4)+\n",
    "theme_bw()+theme(legend.position=\"none\")"
   ]
  },
  {
   "cell_type": "code",
   "execution_count": 36,
   "metadata": {},
   "outputs": [
    {
     "data": {},
     "metadata": {},
     "output_type": "display_data"
    },
    {
     "data": {
      "image/png": "[encoded data removed]",
      "text/plain": [
       "plot without title"
      ]
     },
     "metadata": {},
     "output_type": "display_data"
    }
   ],
   "source": [
    "df <- data.frame(x=as.numeric(CoordGrupos[,1]), y=as.numeric(CoordGrupos[,3]), r=as.numeric(radio))\n",
    "angle <- seq(-pi, pi, length = 100)\n",
    "myplot <- ggplot()\n",
    "for (i in 1:length(df$x)) {\n",
    "        df_temp = data.frame(x = df$x[i] + df$r[i]*sin(angle), y = df$y[i] + df$r[i]*cos(angle))\n",
    "        myplot = myplot + geom_polygon(data=df_temp, aes(x=x, y=y),color='grey', fill=NA,alpha=0.5, inherit.aes=F)\n",
    "      }\n",
    "\n",
    "myplot + geom_point(data=df, aes(x=x, y=y))+\n",
    "geom_point(data=CoordGrupos,aes(x=`Dim 1`,y=`Dim 3`,col=clase))+\n",
    "geom_text(data=CoordGrupos,aes(x=`Dim 1`,y=`Dim 3`,label=rownames(CoordGrupos),col=clase),hjust=0.6, vjust=-0.3,size=5)+\n",
    "geom_segment(aes(x=0,y=0,xend=`Dim 1`,yend=`Dim 3`),data=CoordVar,arrow = arrow(length = unit(0.2,\"cm\"),type='open'),size=0.5,col='black')+\n",
    "geom_text(aes(x=CoordVar$`Dim 1`+.08*sign(CoordVar$`Dim 1`),y=CoordVar$`Dim 3`+.01*sign(CoordVar$`Dim 3`),label=rownames(CoordVar)),data=CoordVar,size=4)+\n",
    "theme_bw()+theme(legend.position=\"none\")"
   ]
  },
  {
   "cell_type": "markdown",
   "metadata": {},
   "source": [
    "##### Alter"
   ]
  },
  {
   "cell_type": "code",
   "execution_count": 37,
   "metadata": {},
   "outputs": [],
   "source": [
    "X <- Df_total2[!is.na(Df_total2$V_Alter),cbind(\"MR1\",\"MR2\",\"MR3\")]\n",
    "y <- as.factor(Df_total2[!is.na(Df_total2$V_Alter),]$V_Alter)\n",
    "\n",
    "Totalcanbip <- CanonicalBiplot(X,y )\n",
    "\n",
    "#Rescalar resultados\n",
    "sca <- sum(Totalcanbip$GroupCoordinates^2)\n",
    "scb <- sum(Totalcanbip$ColCoordinates^2)\n",
    "sca <- sca/Totalcanbip$g\n",
    "scb <- scb/Totalcanbip$p\n",
    "scf <- sqrt(sqrt(scb/sca))\n",
    "\n",
    "Totalcanbip$Group_Coord <- Totalcanbip$GroupCoordinates*scf\n",
    "Totalcanbip$Variable_Coord <- Totalcanbip$ColCoordinates/scf\n",
    "Totalcanbip$Individual_Coord <- Totalcanbip$RowCoordinates*scf\n",
    "radio <- Totalcanbip$BonfRad\n",
    "\n",
    "CoordGrupos <- as.data.frame(Totalcanbip$Group_Coord)\n",
    "CoordVar <- as.data.frame(Totalcanbip$Variable_Coord)\n",
    "CoordGrupos$clase <- c('-18','19','20-21','22+')\n",
    "rownames(CoordGrupos) <- c('-18','19','20-21','22+')"
   ]
  },
  {
   "cell_type": "code",
   "execution_count": 38,
   "metadata": {},
   "outputs": [
    {
     "data": {
      "text/html": [
       "<table>\n",
       "<thead><tr><th></th><th scope=col>Dim 1</th><th scope=col>Dim 2</th><th scope=col>Dim 3</th></tr></thead>\n",
       "<tbody>\n",
       "\t<tr><th scope=row>MR1</th><td>7.088971e-01</td><td>0.032813136 </td><td>0.25828975  </td></tr>\n",
       "\t<tr><th scope=row>MR2</th><td>2.592723e-01</td><td>0.008853162 </td><td>0.73187454  </td></tr>\n",
       "\t<tr><th scope=row>MR3</th><td>6.180236e-05</td><td>0.969117774 </td><td>0.03082042  </td></tr>\n",
       "</tbody>\n",
       "</table>\n"
      ],
      "text/latex": [
       "\\begin{tabular}{r|lll}\n",
       "  & Dim 1 & Dim 2 & Dim 3\\\\\n",
       "\\hline\n",
       "\tMR1 & 7.088971e-01 & 0.032813136  & 0.25828975  \\\\\n",
       "\tMR2 & 2.592723e-01 & 0.008853162  & 0.73187454  \\\\\n",
       "\tMR3 & 6.180236e-05 & 0.969117774  & 0.03082042  \\\\\n",
       "\\end{tabular}\n"
      ],
      "text/markdown": [
       "\n",
       "| <!--/--> | Dim 1 | Dim 2 | Dim 3 | \n",
       "|---|---|---|\n",
       "| MR1 | 7.088971e-01 | 0.032813136  | 0.25828975   | \n",
       "| MR2 | 2.592723e-01 | 0.008853162  | 0.73187454   | \n",
       "| MR3 | 6.180236e-05 | 0.969117774  | 0.03082042   | \n",
       "\n",
       "\n"
      ],
      "text/plain": [
       "    Dim 1        Dim 2       Dim 3     \n",
       "MR1 7.088971e-01 0.032813136 0.25828975\n",
       "MR2 2.592723e-01 0.008853162 0.73187454\n",
       "MR3 6.180236e-05 0.969117774 0.03082042"
      ]
     },
     "metadata": {},
     "output_type": "display_data"
    }
   ],
   "source": [
    "Totalcanbip$ColContributions"
   ]
  },
  {
   "cell_type": "code",
   "execution_count": 39,
   "metadata": {},
   "outputs": [
    {
     "data": {
      "text/html": [
       "<table>\n",
       "<thead><tr><th></th><th scope=col>Dim 1</th><th scope=col>Dim 2</th><th scope=col>Dim 3</th></tr></thead>\n",
       "<tbody>\n",
       "\t<tr><th scope=row>1</th><td>0.8587657   </td><td>0.1412181   </td><td>1.620988e-05</td></tr>\n",
       "\t<tr><th scope=row>2</th><td>0.1125177   </td><td>0.8593909   </td><td>2.809146e-02</td></tr>\n",
       "\t<tr><th scope=row>3</th><td>0.2565604   </td><td>0.6645056   </td><td>7.893394e-02</td></tr>\n",
       "\t<tr><th scope=row>4</th><td>0.8865664   </td><td>0.1125873   </td><td>8.463131e-04</td></tr>\n",
       "</tbody>\n",
       "</table>\n"
      ],
      "text/latex": [
       "\\begin{tabular}{r|lll}\n",
       "  & Dim 1 & Dim 2 & Dim 3\\\\\n",
       "\\hline\n",
       "\t1 & 0.8587657    & 0.1412181    & 1.620988e-05\\\\\n",
       "\t2 & 0.1125177    & 0.8593909    & 2.809146e-02\\\\\n",
       "\t3 & 0.2565604    & 0.6645056    & 7.893394e-02\\\\\n",
       "\t4 & 0.8865664    & 0.1125873    & 8.463131e-04\\\\\n",
       "\\end{tabular}\n"
      ],
      "text/markdown": [
       "\n",
       "| <!--/--> | Dim 1 | Dim 2 | Dim 3 | \n",
       "|---|---|---|---|\n",
       "| 1 | 0.8587657    | 0.1412181    | 1.620988e-05 | \n",
       "| 2 | 0.1125177    | 0.8593909    | 2.809146e-02 | \n",
       "| 3 | 0.2565604    | 0.6645056    | 7.893394e-02 | \n",
       "| 4 | 0.8865664    | 0.1125873    | 8.463131e-04 | \n",
       "\n",
       "\n"
      ],
      "text/plain": [
       "  Dim 1     Dim 2     Dim 3       \n",
       "1 0.8587657 0.1412181 1.620988e-05\n",
       "2 0.1125177 0.8593909 2.809146e-02\n",
       "3 0.2565604 0.6645056 7.893394e-02\n",
       "4 0.8865664 0.1125873 8.463131e-04"
      ]
     },
     "metadata": {},
     "output_type": "display_data"
    }
   ],
   "source": [
    "Totalcanbip$GroupContributions"
   ]
  },
  {
   "cell_type": "code",
   "execution_count": 40,
   "metadata": {},
   "outputs": [
    {
     "data": {},
     "metadata": {},
     "output_type": "display_data"
    },
    {
     "data": {
      "image/png": "[encoded data removed]",
      "text/plain": [
       "plot without title"
      ]
     },
     "metadata": {},
     "output_type": "display_data"
    }
   ],
   "source": [
    "df <- data.frame(x=as.numeric(CoordGrupos[,1]), y=as.numeric(CoordGrupos[,2]), r=as.numeric(radio))\n",
    "\n",
    "angle <- seq(-pi, pi, length = 100)\n",
    "\n",
    "myplot <- ggplot()\n",
    "for (i in 1:length(df$x)) {\n",
    "        df_temp = data.frame(x = df$x[i] + df$r[i]*sin(angle), y = df$y[i] + df$r[i]*cos(angle))\n",
    "        myplot = myplot + geom_polygon(data=df_temp, aes(x=x, y=y),color='grey', fill=NA,alpha=0.5, inherit.aes=F)\n",
    "      }\n",
    "\n",
    "myplot + geom_point(data=df, aes(x=x, y=y))+\n",
    "geom_point(data=CoordGrupos,aes(x=`Dim 1`,y=`Dim 2`,col=clase))+\n",
    "geom_text(data=CoordGrupos,aes(x=`Dim 1`,y=`Dim 2`,label=rownames(CoordGrupos),col=clase),hjust=0.6, vjust=-0.3,size=5)+\n",
    "geom_segment(aes(x=0,y=0,xend=`Dim 1`,yend=`Dim 2`),data=CoordVar,arrow = arrow(length = unit(0.2,\"cm\"),type='open'),size=0.5,col='black')+\n",
    "geom_text(aes(x=CoordVar$`Dim 1`+.08*sign(CoordVar$`Dim 1`),y=CoordVar$`Dim 2`+.01*sign(CoordVar$`Dim 2`),label=rownames(CoordVar)),data=CoordVar,size=4)+\n",
    "theme_bw()+theme(legend.position=\"none\")"
   ]
  },
  {
   "cell_type": "code",
   "execution_count": 41,
   "metadata": {},
   "outputs": [
    {
     "data": {},
     "metadata": {},
     "output_type": "display_data"
    },
    {
     "data": {
      "image/png": "[encoded data removed]",
      "text/plain": [
       "plot without title"
      ]
     },
     "metadata": {},
     "output_type": "display_data"
    }
   ],
   "source": [
    "df <- data.frame(x=as.numeric(CoordGrupos[,1]), y=as.numeric(CoordGrupos[,3]), r=as.numeric(radio))\n",
    "angle <- seq(-pi, pi, length = 100)\n",
    "myplot <- ggplot()\n",
    "for (i in 1:length(df$x)) {\n",
    "        df_temp = data.frame(x = df$x[i] + df$r[i]*sin(angle), y = df$y[i] + df$r[i]*cos(angle))\n",
    "        myplot = myplot + geom_polygon(data=df_temp, aes(x=x, y=y),color='grey', fill=NA,alpha=0.5, inherit.aes=F)\n",
    "      }\n",
    "\n",
    "myplot + geom_point(data=df, aes(x=x, y=y))+\n",
    "geom_point(data=CoordGrupos,aes(x=`Dim 1`,y=`Dim 3`,col=clase))+\n",
    "geom_text(data=CoordGrupos,aes(x=`Dim 1`,y=`Dim 3`,label=rownames(CoordGrupos),col=clase),hjust=0.6, vjust=-0.3,size=5)+\n",
    "geom_segment(aes(x=0,y=0,xend=`Dim 1`,yend=`Dim 3`),data=CoordVar,arrow = arrow(length = unit(0.2,\"cm\"),type='open'),size=0.5,col='black')+\n",
    "geom_text(aes(x=CoordVar$`Dim 1`+.08*sign(CoordVar$`Dim 1`),y=CoordVar$`Dim 3`+.01*sign(CoordVar$`Dim 3`),label=rownames(CoordVar)),data=CoordVar,size=4)+\n",
    "theme_bw()+theme(legend.position=\"none\")"
   ]
  },
  {
   "cell_type": "markdown",
   "metadata": {},
   "source": [
    "### AQ3"
   ]
  },
  {
   "cell_type": "markdown",
   "metadata": {},
   "source": [
    "##### Studienrichtung"
   ]
  },
  {
   "cell_type": "code",
   "execution_count": 42,
   "metadata": {},
   "outputs": [],
   "source": [
    "X <- Df_total[!is.na(Df_total$V_Studienrichtung),cbind(\"MR1\",\"MR2\",\"MR3\",\"MR4\",\"MR5\",\"MR6\")] \n",
    "y <- as.factor(Df_total[!is.na(Df_total$V_Studienrichtung),]$V_Studienrichtung)\n",
    "\n",
    "Totalcanbip <- CanonicalBiplot(X,y )\n",
    "\n",
    "#Rescalar resultados\n",
    "sca <- sum(Totalcanbip$GroupCoordinates^2)\n",
    "scb <- sum(Totalcanbip$ColCoordinates^2)\n",
    "sca <- sca/Totalcanbip$g\n",
    "scb <- scb/Totalcanbip$p\n",
    "scf <- sqrt(sqrt(scb/sca))\n",
    "\n",
    "Totalcanbip$Group_Coord <- Totalcanbip$GroupCoordinates*scf\n",
    "Totalcanbip$Variable_Coord <- Totalcanbip$ColCoordinates/scf\n",
    "Totalcanbip$Individual_Coord <- Totalcanbip$RowCoordinates*scf\n",
    "radio <- Totalcanbip$BonfRad\n",
    "\n",
    "CoordGrupos <- as.data.frame(Totalcanbip$Group_Coord)\n",
    "CoordVar <- as.data.frame(Totalcanbip$Variable_Coord)\n",
    "CoordGrupos$clase <- c('Germ','Phil','Trans','Andere')\n",
    "rownames(CoordGrupos) <- c('Germ','Phil','Trans','Andere')"
   ]
  },
  {
   "cell_type": "code",
   "execution_count": 43,
   "metadata": {},
   "outputs": [
    {
     "data": {
      "text/html": [
       "<table>\n",
       "<thead><tr><th></th><th scope=col>Dim 1</th><th scope=col>Dim 2</th><th scope=col>Dim 3</th></tr></thead>\n",
       "<tbody>\n",
       "\t<tr><th scope=row>MR1</th><td>0.09991717 </td><td>0.01173603 </td><td>0.888346801</td></tr>\n",
       "\t<tr><th scope=row>MR2</th><td>0.84861977 </td><td>0.05345523 </td><td>0.097924998</td></tr>\n",
       "\t<tr><th scope=row>MR3</th><td>0.92460048 </td><td>0.00252171 </td><td>0.072877808</td></tr>\n",
       "\t<tr><th scope=row>MR4</th><td>0.07142239 </td><td>0.00179934 </td><td>0.926778269</td></tr>\n",
       "\t<tr><th scope=row>MR5</th><td>0.04631217 </td><td>0.81490322 </td><td>0.138784610</td></tr>\n",
       "\t<tr><th scope=row>MR6</th><td>0.03310246 </td><td>0.96520421 </td><td>0.001693326</td></tr>\n",
       "</tbody>\n",
       "</table>\n"
      ],
      "text/latex": [
       "\\begin{tabular}{r|lll}\n",
       "  & Dim 1 & Dim 2 & Dim 3\\\\\n",
       "\\hline\n",
       "\tMR1 & 0.09991717  & 0.01173603  & 0.888346801\\\\\n",
       "\tMR2 & 0.84861977  & 0.05345523  & 0.097924998\\\\\n",
       "\tMR3 & 0.92460048  & 0.00252171  & 0.072877808\\\\\n",
       "\tMR4 & 0.07142239  & 0.00179934  & 0.926778269\\\\\n",
       "\tMR5 & 0.04631217  & 0.81490322  & 0.138784610\\\\\n",
       "\tMR6 & 0.03310246  & 0.96520421  & 0.001693326\\\\\n",
       "\\end{tabular}\n"
      ],
      "text/markdown": [
       "\n",
       "| <!--/--> | Dim 1 | Dim 2 | Dim 3 | \n",
       "|---|---|---|---|---|---|\n",
       "| MR1 | 0.09991717  | 0.01173603  | 0.888346801 | \n",
       "| MR2 | 0.84861977  | 0.05345523  | 0.097924998 | \n",
       "| MR3 | 0.92460048  | 0.00252171  | 0.072877808 | \n",
       "| MR4 | 0.07142239  | 0.00179934  | 0.926778269 | \n",
       "| MR5 | 0.04631217  | 0.81490322  | 0.138784610 | \n",
       "| MR6 | 0.03310246  | 0.96520421  | 0.001693326 | \n",
       "\n",
       "\n"
      ],
      "text/plain": [
       "    Dim 1      Dim 2      Dim 3      \n",
       "MR1 0.09991717 0.01173603 0.888346801\n",
       "MR2 0.84861977 0.05345523 0.097924998\n",
       "MR3 0.92460048 0.00252171 0.072877808\n",
       "MR4 0.07142239 0.00179934 0.926778269\n",
       "MR5 0.04631217 0.81490322 0.138784610\n",
       "MR6 0.03310246 0.96520421 0.001693326"
      ]
     },
     "metadata": {},
     "output_type": "display_data"
    }
   ],
   "source": [
    "Totalcanbip$ColContributions"
   ]
  },
  {
   "cell_type": "code",
   "execution_count": 44,
   "metadata": {},
   "outputs": [
    {
     "data": {
      "text/html": [
       "<table>\n",
       "<thead><tr><th></th><th scope=col>Dim 1</th><th scope=col>Dim 2</th><th scope=col>Dim 3</th></tr></thead>\n",
       "<tbody>\n",
       "\t<tr><th scope=row>1</th><td>0.9950867   </td><td>0.004534434 </td><td>0.0003788631</td></tr>\n",
       "\t<tr><th scope=row>2</th><td>0.7088398   </td><td>0.290667621 </td><td>0.0004925346</td></tr>\n",
       "\t<tr><th scope=row>3</th><td>0.2495376   </td><td>0.675905092 </td><td>0.0745572586</td></tr>\n",
       "\t<tr><th scope=row>4</th><td>0.2726230   </td><td>0.690562402 </td><td>0.0368145513</td></tr>\n",
       "</tbody>\n",
       "</table>\n"
      ],
      "text/latex": [
       "\\begin{tabular}{r|lll}\n",
       "  & Dim 1 & Dim 2 & Dim 3\\\\\n",
       "\\hline\n",
       "\t1 & 0.9950867    & 0.004534434  & 0.0003788631\\\\\n",
       "\t2 & 0.7088398    & 0.290667621  & 0.0004925346\\\\\n",
       "\t3 & 0.2495376    & 0.675905092  & 0.0745572586\\\\\n",
       "\t4 & 0.2726230    & 0.690562402  & 0.0368145513\\\\\n",
       "\\end{tabular}\n"
      ],
      "text/markdown": [
       "\n",
       "| <!--/--> | Dim 1 | Dim 2 | Dim 3 | \n",
       "|---|---|---|---|\n",
       "| 1 | 0.9950867    | 0.004534434  | 0.0003788631 | \n",
       "| 2 | 0.7088398    | 0.290667621  | 0.0004925346 | \n",
       "| 3 | 0.2495376    | 0.675905092  | 0.0745572586 | \n",
       "| 4 | 0.2726230    | 0.690562402  | 0.0368145513 | \n",
       "\n",
       "\n"
      ],
      "text/plain": [
       "  Dim 1     Dim 2       Dim 3       \n",
       "1 0.9950867 0.004534434 0.0003788631\n",
       "2 0.7088398 0.290667621 0.0004925346\n",
       "3 0.2495376 0.675905092 0.0745572586\n",
       "4 0.2726230 0.690562402 0.0368145513"
      ]
     },
     "metadata": {},
     "output_type": "display_data"
    }
   ],
   "source": [
    "Totalcanbip$GroupContributions"
   ]
  },
  {
   "cell_type": "code",
   "execution_count": 45,
   "metadata": {},
   "outputs": [
    {
     "data": {},
     "metadata": {},
     "output_type": "display_data"
    },
    {
     "data": {
      "image/png": "[encoded data removed]",
      "text/plain": [
       "plot without title"
      ]
     },
     "metadata": {},
     "output_type": "display_data"
    }
   ],
   "source": [
    "df <- data.frame(x=as.numeric(CoordGrupos[,1]), y=as.numeric(CoordGrupos[,2]), r=as.numeric(radio))\n",
    "\n",
    "angle <- seq(-pi, pi, length = 100)\n",
    "\n",
    "myplot <- ggplot()\n",
    "for (i in 1:length(df$x)) {\n",
    "        df_temp = data.frame(x = df$x[i] + df$r[i]*sin(angle), y = df$y[i] + df$r[i]*cos(angle))\n",
    "        myplot = myplot + geom_polygon(data=df_temp, aes(x=x, y=y),color='grey', fill=NA,alpha=0.5, inherit.aes=F)\n",
    "      }\n",
    "\n",
    "myplot + geom_point(data=df, aes(x=x, y=y))+\n",
    "geom_point(data=CoordGrupos,aes(x=`Dim 1`,y=`Dim 2`,col=clase))+\n",
    "geom_text(data=CoordGrupos,aes(x=`Dim 1`,y=`Dim 2`,label=rownames(CoordGrupos),col=clase),hjust=0.6, vjust=-0.3,size=5)+\n",
    "geom_segment(aes(x=0,y=0,xend=`Dim 1`,yend=`Dim 2`),data=CoordVar,arrow = arrow(length = unit(0.2,\"cm\"),type='open'),size=0.5,col='black')+\n",
    "geom_text(aes(x=CoordVar$`Dim 1`+.08*sign(CoordVar$`Dim 1`),y=CoordVar$`Dim 2`+.01*sign(CoordVar$`Dim 2`),label=rownames(CoordVar)),data=CoordVar,size=4)+\n",
    "theme_bw()+theme(legend.position=\"none\")"
   ]
  },
  {
   "cell_type": "code",
   "execution_count": 46,
   "metadata": {},
   "outputs": [
    {
     "data": {},
     "metadata": {},
     "output_type": "display_data"
    },
    {
     "data": {
      "image/png": "[encoded data removed]",
      "text/plain": [
       "plot without title"
      ]
     },
     "metadata": {},
     "output_type": "display_data"
    }
   ],
   "source": [
    "#stat_ellipse(data=CoordGrupos,aes(x=`Dim 1`,y=`Dim 2`,level=radio),type='euclid')\n",
    "df <- data.frame(x=as.numeric(CoordGrupos[,1]), y=as.numeric(CoordGrupos[,3]), r=as.numeric(radio))\n",
    "angle <- seq(-pi, pi, length = 100)\n",
    "myplot <- ggplot()\n",
    "for (i in 1:length(df$x)) {\n",
    "        df_temp = data.frame(x = df$x[i] + df$r[i]*sin(angle), y = df$y[i] + df$r[i]*cos(angle))\n",
    "        myplot = myplot + geom_polygon(data=df_temp, aes(x=x, y=y),color='grey', fill=NA,alpha=0.5, inherit.aes=F)\n",
    "      }\n",
    "\n",
    "myplot + geom_point(data=df, aes(x=x, y=y))+\n",
    "geom_point(data=CoordGrupos,aes(x=`Dim 1`,y=`Dim 3`,col=clase))+\n",
    "geom_text(data=CoordGrupos,aes(x=`Dim 1`,y=`Dim 3`,label=rownames(CoordGrupos),col=clase),hjust=0.6, vjust=-0.3,size=5)+\n",
    "geom_segment(aes(x=0,y=0,xend=`Dim 1`,yend=`Dim 3`),data=CoordVar,arrow = arrow(length = unit(0.2,\"cm\"),type='open'),size=0.5,col='black')+\n",
    "geom_text(aes(x=CoordVar$`Dim 1`+.08*sign(CoordVar$`Dim 1`),y=CoordVar$`Dim 3`+.01*sign(CoordVar$`Dim 3`),label=rownames(CoordVar)),data=CoordVar,size=4)+\n",
    "theme_bw()+theme(legend.position=\"none\")"
   ]
  },
  {
   "cell_type": "code",
   "execution_count": 47,
   "metadata": {},
   "outputs": [
    {
     "data": {},
     "metadata": {},
     "output_type": "display_data"
    },
    {
     "data": {
      "image/png": "[encoded data removed]",
      "text/plain": [
       "plot without title"
      ]
     },
     "metadata": {},
     "output_type": "display_data"
    }
   ],
   "source": [
    "#stat_ellipse(data=CoordGrupos,aes(x=`Dim 1`,y=`Dim 2`,level=radio),type='euclid')\n",
    "df <- data.frame(x=as.numeric(CoordGrupos[,2]), y=as.numeric(CoordGrupos[,3]), r=as.numeric(radio))\n",
    "angle <- seq(-pi, pi, length = 100)\n",
    "myplot <- ggplot()\n",
    "for (i in 1:length(df$x)) {\n",
    "        df_temp = data.frame(x = df$x[i] + df$r[i]*sin(angle), y = df$y[i] + df$r[i]*cos(angle))\n",
    "        myplot = myplot + geom_polygon(data=df_temp, aes(x=x, y=y),color='grey', fill=NA,alpha=0.5, inherit.aes=F)\n",
    "      }\n",
    "\n",
    "myplot + geom_point(data=df, aes(x=x, y=y))+\n",
    "geom_point(data=CoordGrupos,aes(x=`Dim 2`,y=`Dim 3`,col=clase))+\n",
    "geom_text(data=CoordGrupos,aes(x=`Dim 2`,y=`Dim 3`,label=rownames(CoordGrupos),col=clase),hjust=0.6, vjust=-0.3,size=5)+\n",
    "geom_segment(aes(x=0,y=0,xend=`Dim 2`,yend=`Dim 3`),data=CoordVar,arrow = arrow(length = unit(0.2,\"cm\"),type='open'),size=0.5,col='black')+\n",
    "geom_text(aes(x=CoordVar$`Dim 2`+.08*sign(CoordVar$`Dim 2`),y=CoordVar$`Dim 3`+.01*sign(CoordVar$`Dim 3`),label=rownames(CoordVar)),data=CoordVar,size=4)+\n",
    "theme_bw()+theme(legend.position=\"none\")"
   ]
  },
  {
   "cell_type": "markdown",
   "metadata": {},
   "source": [
    "##### Niveau des aktuellen Deutschkurses"
   ]
  },
  {
   "cell_type": "code",
   "execution_count": 48,
   "metadata": {},
   "outputs": [],
   "source": [
    "X <- Df_total[!is.na(Df_total$V_Niveau_DK),cbind(\"MR1\",\"MR2\",\"MR3\",\"MR4\",\"MR5\",\"MR6\")]\n",
    "y <- as.factor(Df_total$V_Niveau_DK)\n",
    "\n",
    "Totalcanbip <- CanonicalBiplot(X,y )\n",
    "\n",
    "#Rescalar resultados\n",
    "sca <- sum(Totalcanbip$GroupCoordinates^2)\n",
    "scb <- sum(Totalcanbip$ColCoordinates^2)\n",
    "sca <- sca/Totalcanbip$g\n",
    "scb <- scb/Totalcanbip$p\n",
    "scf <- sqrt(sqrt(scb/sca))\n",
    "\n",
    "Totalcanbip$Group_Coord <- Totalcanbip$GroupCoordinates*scf\n",
    "Totalcanbip$Variable_Coord <- Totalcanbip$ColCoordinates/scf\n",
    "Totalcanbip$Individual_Coord <- Totalcanbip$RowCoordinates*scf\n",
    "radio <- Totalcanbip$BonfRad\n",
    "\n",
    "CoordGrupos <- as.data.frame(Totalcanbip$Group_Coord)\n",
    "CoordVar <- as.data.frame(Totalcanbip$Variable_Coord)\n",
    "CoordGrupos$clase <- c('A1','A2','B1','B2','C')\n",
    "rownames(CoordGrupos) <- c('A1','A2','B1','B2','C')"
   ]
  },
  {
   "cell_type": "code",
   "execution_count": 49,
   "metadata": {},
   "outputs": [
    {
     "data": {
      "text/html": [
       "<table>\n",
       "<thead><tr><th></th><th scope=col>Dim 1</th><th scope=col>Dim 2</th><th scope=col>Dim 3</th><th scope=col>Dim 4</th></tr></thead>\n",
       "<tbody>\n",
       "\t<tr><th scope=row>MR1</th><td>0.16356850 </td><td>0.026355198</td><td>0.62544578 </td><td>0.18463052 </td></tr>\n",
       "\t<tr><th scope=row>MR2</th><td>0.90340667 </td><td>0.003009528</td><td>0.01835685 </td><td>0.07522695 </td></tr>\n",
       "\t<tr><th scope=row>MR3</th><td>0.14193857 </td><td>0.716740601</td><td>0.07195165 </td><td>0.06936918 </td></tr>\n",
       "\t<tr><th scope=row>MR4</th><td>0.09728555 </td><td>0.265870909</td><td>0.01221827 </td><td>0.62462527 </td></tr>\n",
       "\t<tr><th scope=row>MR5</th><td>0.03490644 </td><td>0.240562818</td><td>0.49780753 </td><td>0.22672322 </td></tr>\n",
       "\t<tr><th scope=row>MR6</th><td>0.04137731 </td><td>0.049515618</td><td>0.85463145 </td><td>0.05447562 </td></tr>\n",
       "</tbody>\n",
       "</table>\n"
      ],
      "text/latex": [
       "\\begin{tabular}{r|llll}\n",
       "  & Dim 1 & Dim 2 & Dim 3 & Dim 4\\\\\n",
       "\\hline\n",
       "\tMR1 & 0.16356850  & 0.026355198 & 0.62544578  & 0.18463052 \\\\\n",
       "\tMR2 & 0.90340667  & 0.003009528 & 0.01835685  & 0.07522695 \\\\\n",
       "\tMR3 & 0.14193857  & 0.716740601 & 0.07195165  & 0.06936918 \\\\\n",
       "\tMR4 & 0.09728555  & 0.265870909 & 0.01221827  & 0.62462527 \\\\\n",
       "\tMR5 & 0.03490644  & 0.240562818 & 0.49780753  & 0.22672322 \\\\\n",
       "\tMR6 & 0.04137731  & 0.049515618 & 0.85463145  & 0.05447562 \\\\\n",
       "\\end{tabular}\n"
      ],
      "text/markdown": [
       "\n",
       "| <!--/--> | Dim 1 | Dim 2 | Dim 3 | Dim 4 | \n",
       "|---|---|---|---|---|---|\n",
       "| MR1 | 0.16356850  | 0.026355198 | 0.62544578  | 0.18463052  | \n",
       "| MR2 | 0.90340667  | 0.003009528 | 0.01835685  | 0.07522695  | \n",
       "| MR3 | 0.14193857  | 0.716740601 | 0.07195165  | 0.06936918  | \n",
       "| MR4 | 0.09728555  | 0.265870909 | 0.01221827  | 0.62462527  | \n",
       "| MR5 | 0.03490644  | 0.240562818 | 0.49780753  | 0.22672322  | \n",
       "| MR6 | 0.04137731  | 0.049515618 | 0.85463145  | 0.05447562  | \n",
       "\n",
       "\n"
      ],
      "text/plain": [
       "    Dim 1      Dim 2       Dim 3      Dim 4     \n",
       "MR1 0.16356850 0.026355198 0.62544578 0.18463052\n",
       "MR2 0.90340667 0.003009528 0.01835685 0.07522695\n",
       "MR3 0.14193857 0.716740601 0.07195165 0.06936918\n",
       "MR4 0.09728555 0.265870909 0.01221827 0.62462527\n",
       "MR5 0.03490644 0.240562818 0.49780753 0.22672322\n",
       "MR6 0.04137731 0.049515618 0.85463145 0.05447562"
      ]
     },
     "metadata": {},
     "output_type": "display_data"
    }
   ],
   "source": [
    "Totalcanbip$ColContributions"
   ]
  },
  {
   "cell_type": "code",
   "execution_count": 50,
   "metadata": {},
   "outputs": [
    {
     "data": {
      "text/html": [
       "<table>\n",
       "<thead><tr><th></th><th scope=col>Dim 1</th><th scope=col>Dim 2</th><th scope=col>Dim 3</th><th scope=col>Dim 4</th></tr></thead>\n",
       "<tbody>\n",
       "\t<tr><th scope=row>1</th><td>0.9927314   </td><td>0.006523764 </td><td>0.0006223361</td><td>1.225071e-04</td></tr>\n",
       "\t<tr><th scope=row>2</th><td>0.6254822   </td><td>0.173338553 </td><td>0.1086000557</td><td>9.257920e-02</td></tr>\n",
       "\t<tr><th scope=row>3</th><td>0.4609709   </td><td>0.538057243 </td><td>0.0007411524</td><td>2.307419e-04</td></tr>\n",
       "\t<tr><th scope=row>4</th><td>0.6385039   </td><td>0.310178171 </td><td>0.0423304983</td><td>8.987441e-03</td></tr>\n",
       "\t<tr><th scope=row>5</th><td>0.6888405   </td><td>0.293796923 </td><td>0.0173495817</td><td>1.298343e-05</td></tr>\n",
       "</tbody>\n",
       "</table>\n"
      ],
      "text/latex": [
       "\\begin{tabular}{r|llll}\n",
       "  & Dim 1 & Dim 2 & Dim 3 & Dim 4\\\\\n",
       "\\hline\n",
       "\t1 & 0.9927314    & 0.006523764  & 0.0006223361 & 1.225071e-04\\\\\n",
       "\t2 & 0.6254822    & 0.173338553  & 0.1086000557 & 9.257920e-02\\\\\n",
       "\t3 & 0.4609709    & 0.538057243  & 0.0007411524 & 2.307419e-04\\\\\n",
       "\t4 & 0.6385039    & 0.310178171  & 0.0423304983 & 8.987441e-03\\\\\n",
       "\t5 & 0.6888405    & 0.293796923  & 0.0173495817 & 1.298343e-05\\\\\n",
       "\\end{tabular}\n"
      ],
      "text/markdown": [
       "\n",
       "| <!--/--> | Dim 1 | Dim 2 | Dim 3 | Dim 4 | \n",
       "|---|---|---|---|---|\n",
       "| 1 | 0.9927314    | 0.006523764  | 0.0006223361 | 1.225071e-04 | \n",
       "| 2 | 0.6254822    | 0.173338553  | 0.1086000557 | 9.257920e-02 | \n",
       "| 3 | 0.4609709    | 0.538057243  | 0.0007411524 | 2.307419e-04 | \n",
       "| 4 | 0.6385039    | 0.310178171  | 0.0423304983 | 8.987441e-03 | \n",
       "| 5 | 0.6888405    | 0.293796923  | 0.0173495817 | 1.298343e-05 | \n",
       "\n",
       "\n"
      ],
      "text/plain": [
       "  Dim 1     Dim 2       Dim 3        Dim 4       \n",
       "1 0.9927314 0.006523764 0.0006223361 1.225071e-04\n",
       "2 0.6254822 0.173338553 0.1086000557 9.257920e-02\n",
       "3 0.4609709 0.538057243 0.0007411524 2.307419e-04\n",
       "4 0.6385039 0.310178171 0.0423304983 8.987441e-03\n",
       "5 0.6888405 0.293796923 0.0173495817 1.298343e-05"
      ]
     },
     "metadata": {},
     "output_type": "display_data"
    }
   ],
   "source": [
    "Totalcanbip$GroupContributions"
   ]
  },
  {
   "cell_type": "code",
   "execution_count": 51,
   "metadata": {},
   "outputs": [],
   "source": [
    "#CoordGrupos$clase <- c('Spr_1','Spr_2','Spr_3','Spr_4')\n",
    "#rownames(CoordGrupos) <- c('Spr1','Spr2','Spr3','Spr4')"
   ]
  },
  {
   "cell_type": "code",
   "execution_count": 52,
   "metadata": {},
   "outputs": [
    {
     "data": {},
     "metadata": {},
     "output_type": "display_data"
    },
    {
     "data": {
      "image/png": "[encoded data removed]",
      "text/plain": [
       "plot without title"
      ]
     },
     "metadata": {},
     "output_type": "display_data"
    }
   ],
   "source": [
    "df <- data.frame(x=as.numeric(CoordGrupos[,1]), y=as.numeric(CoordGrupos[,2]), r=as.numeric(radio))\n",
    "\n",
    "angle <- seq(-pi, pi, length = 100)\n",
    "\n",
    "myplot <- ggplot()\n",
    "for (i in 1:length(df$x)) {\n",
    "        df_temp = data.frame(x = df$x[i] + df$r[i]*sin(angle), y = df$y[i] + df$r[i]*cos(angle))\n",
    "        myplot = myplot + geom_polygon(data=df_temp, aes(x=x, y=y),color='grey', fill=NA,alpha=0.5, inherit.aes=F)\n",
    "      }\n",
    "\n",
    "myplot + geom_point(data=df, aes(x=x, y=y))+\n",
    "geom_point(data=CoordGrupos,aes(x=`Dim 1`,y=`Dim 2`,col=clase))+\n",
    "geom_text(data=CoordGrupos,aes(x=`Dim 1`,y=`Dim 2`,label=rownames(CoordGrupos),col=clase),hjust=0.6, vjust=-0.3,size=5)+\n",
    "geom_segment(aes(x=0,y=0,xend=`Dim 1`,yend=`Dim 2`),data=CoordVar,arrow = arrow(length = unit(0.2,\"cm\"),type='open'),size=0.5,col='black')+\n",
    "geom_text(aes(x=CoordVar$`Dim 1`+.08*sign(CoordVar$`Dim 1`),y=CoordVar$`Dim 2`+.01*sign(CoordVar$`Dim 2`),label=rownames(CoordVar)),data=CoordVar,size=4)+\n",
    "theme_bw()+theme(legend.position=\"none\")"
   ]
  },
  {
   "cell_type": "code",
   "execution_count": 53,
   "metadata": {},
   "outputs": [
    {
     "data": {},
     "metadata": {},
     "output_type": "display_data"
    },
    {
     "data": {
      "image/png": "[encoded data removed]",
      "text/plain": [
       "plot without title"
      ]
     },
     "metadata": {},
     "output_type": "display_data"
    }
   ],
   "source": [
    "#stat_ellipse(data=CoordGrupos,aes(x=`Dim 1`,y=`Dim 2`,level=radio),type='euclid')\n",
    "df <- data.frame(x=as.numeric(CoordGrupos[,1]), y=as.numeric(CoordGrupos[,4]), r=as.numeric(radio))\n",
    "angle <- seq(-pi, pi, length = 100)\n",
    "myplot <- ggplot()\n",
    "for (i in 1:length(df$x)) {\n",
    "        df_temp = data.frame(x = df$x[i] + df$r[i]*sin(angle), y = df$y[i] + df$r[i]*cos(angle))\n",
    "        myplot = myplot + geom_polygon(data=df_temp, aes(x=x, y=y),color='grey', fill=NA,alpha=0.5, inherit.aes=F)\n",
    "      }\n",
    "\n",
    "myplot + geom_point(data=df, aes(x=x, y=y))+\n",
    "geom_point(data=CoordGrupos,aes(x=`Dim 1`,y=`Dim 4`,col=clase))+\n",
    "geom_text(data=CoordGrupos,aes(x=`Dim 1`,y=`Dim 4`,label=rownames(CoordGrupos),col=clase),hjust=0.6, vjust=-0.3,size=5)+\n",
    "geom_segment(aes(x=0,y=0,xend=`Dim 1`,yend=`Dim 4`),data=CoordVar,arrow = arrow(length = unit(0.2,\"cm\"),type='open'),size=0.5,col='black')+\n",
    "geom_text(aes(x=CoordVar$`Dim 1`+.08*sign(CoordVar$`Dim 1`),y=CoordVar$`Dim 4`+.01*sign(CoordVar$`Dim 4`),label=rownames(CoordVar)),data=CoordVar,size=4)+\n",
    "theme_bw()+theme(legend.position=\"none\")"
   ]
  },
  {
   "cell_type": "markdown",
   "metadata": {},
   "source": [
    "##### Alter"
   ]
  },
  {
   "cell_type": "code",
   "execution_count": 54,
   "metadata": {},
   "outputs": [],
   "source": [
    "X <- Df_total[!is.na(Df_total$V_Alter),cbind(\"MR1\",\"MR2\",\"MR3\",\"MR4\",\"MR5\",\"MR6\")]\n",
    "y <- as.factor(Df_total[!is.na(Df_total$V_Alter),]$V_Alter)\n",
    "\n",
    "Totalcanbip <- CanonicalBiplot(X,y )\n",
    "\n",
    "#Rescalar resultados\n",
    "sca <- sum(Totalcanbip$GroupCoordinates^2)\n",
    "scb <- sum(Totalcanbip$ColCoordinates^2)\n",
    "sca <- sca/Totalcanbip$g\n",
    "scb <- scb/Totalcanbip$p\n",
    "scf <- sqrt(sqrt(scb/sca))\n",
    "\n",
    "Totalcanbip$Group_Coord <- Totalcanbip$GroupCoordinates*scf\n",
    "Totalcanbip$Variable_Coord <- Totalcanbip$ColCoordinates/scf\n",
    "Totalcanbip$Individual_Coord <- Totalcanbip$RowCoordinates*scf\n",
    "radio <- Totalcanbip$BonfRad\n",
    "\n",
    "CoordGrupos <- as.data.frame(Totalcanbip$Group_Coord)\n",
    "CoordVar <- as.data.frame(Totalcanbip$Variable_Coord)\n",
    "CoordGrupos$clase <- c('-18','19','20-21','22+')\n",
    "rownames(CoordGrupos) <- c('-18','19','20-21','22+')"
   ]
  },
  {
   "cell_type": "code",
   "execution_count": 55,
   "metadata": {},
   "outputs": [
    {
     "data": {
      "text/html": [
       "<table>\n",
       "<thead><tr><th></th><th scope=col>Dim 1</th><th scope=col>Dim 2</th><th scope=col>Dim 3</th></tr></thead>\n",
       "<tbody>\n",
       "\t<tr><th scope=row>MR1</th><td>0.791563983 </td><td>0.0066137833</td><td>0.2018222   </td></tr>\n",
       "\t<tr><th scope=row>MR2</th><td>0.861502666 </td><td>0.0008190312</td><td>0.1376783   </td></tr>\n",
       "\t<tr><th scope=row>MR3</th><td>0.248720818 </td><td>0.3434437471</td><td>0.4078354   </td></tr>\n",
       "\t<tr><th scope=row>MR4</th><td>0.254757663 </td><td>0.3095463824</td><td>0.4356960   </td></tr>\n",
       "\t<tr><th scope=row>MR5</th><td>0.004396983 </td><td>0.7181937455</td><td>0.2774093   </td></tr>\n",
       "\t<tr><th scope=row>MR6</th><td>0.068633659 </td><td>0.6763553198</td><td>0.2550110   </td></tr>\n",
       "</tbody>\n",
       "</table>\n"
      ],
      "text/latex": [
       "\\begin{tabular}{r|lll}\n",
       "  & Dim 1 & Dim 2 & Dim 3\\\\\n",
       "\\hline\n",
       "\tMR1 & 0.791563983  & 0.0066137833 & 0.2018222   \\\\\n",
       "\tMR2 & 0.861502666  & 0.0008190312 & 0.1376783   \\\\\n",
       "\tMR3 & 0.248720818  & 0.3434437471 & 0.4078354   \\\\\n",
       "\tMR4 & 0.254757663  & 0.3095463824 & 0.4356960   \\\\\n",
       "\tMR5 & 0.004396983  & 0.7181937455 & 0.2774093   \\\\\n",
       "\tMR6 & 0.068633659  & 0.6763553198 & 0.2550110   \\\\\n",
       "\\end{tabular}\n"
      ],
      "text/markdown": [
       "\n",
       "| <!--/--> | Dim 1 | Dim 2 | Dim 3 | \n",
       "|---|---|---|---|---|---|\n",
       "| MR1 | 0.791563983  | 0.0066137833 | 0.2018222    | \n",
       "| MR2 | 0.861502666  | 0.0008190312 | 0.1376783    | \n",
       "| MR3 | 0.248720818  | 0.3434437471 | 0.4078354    | \n",
       "| MR4 | 0.254757663  | 0.3095463824 | 0.4356960    | \n",
       "| MR5 | 0.004396983  | 0.7181937455 | 0.2774093    | \n",
       "| MR6 | 0.068633659  | 0.6763553198 | 0.2550110    | \n",
       "\n",
       "\n"
      ],
      "text/plain": [
       "    Dim 1       Dim 2        Dim 3    \n",
       "MR1 0.791563983 0.0066137833 0.2018222\n",
       "MR2 0.861502666 0.0008190312 0.1376783\n",
       "MR3 0.248720818 0.3434437471 0.4078354\n",
       "MR4 0.254757663 0.3095463824 0.4356960\n",
       "MR5 0.004396983 0.7181937455 0.2774093\n",
       "MR6 0.068633659 0.6763553198 0.2550110"
      ]
     },
     "metadata": {},
     "output_type": "display_data"
    }
   ],
   "source": [
    "Totalcanbip$ColContributions"
   ]
  },
  {
   "cell_type": "code",
   "execution_count": 56,
   "metadata": {},
   "outputs": [
    {
     "data": {
      "text/html": [
       "<table>\n",
       "<thead><tr><th></th><th scope=col>Dim 1</th><th scope=col>Dim 2</th><th scope=col>Dim 3</th></tr></thead>\n",
       "<tbody>\n",
       "\t<tr><th scope=row>1</th><td>0.8653617  </td><td>0.1110603  </td><td>0.023577998</td></tr>\n",
       "\t<tr><th scope=row>2</th><td>0.4723673  </td><td>0.1852779  </td><td>0.342354878</td></tr>\n",
       "\t<tr><th scope=row>3</th><td>0.2988942  </td><td>0.6133249  </td><td>0.087780894</td></tr>\n",
       "\t<tr><th scope=row>4</th><td>0.8387799  </td><td>0.1582586  </td><td>0.002961436</td></tr>\n",
       "</tbody>\n",
       "</table>\n"
      ],
      "text/latex": [
       "\\begin{tabular}{r|lll}\n",
       "  & Dim 1 & Dim 2 & Dim 3\\\\\n",
       "\\hline\n",
       "\t1 & 0.8653617   & 0.1110603   & 0.023577998\\\\\n",
       "\t2 & 0.4723673   & 0.1852779   & 0.342354878\\\\\n",
       "\t3 & 0.2988942   & 0.6133249   & 0.087780894\\\\\n",
       "\t4 & 0.8387799   & 0.1582586   & 0.002961436\\\\\n",
       "\\end{tabular}\n"
      ],
      "text/markdown": [
       "\n",
       "| <!--/--> | Dim 1 | Dim 2 | Dim 3 | \n",
       "|---|---|---|---|\n",
       "| 1 | 0.8653617   | 0.1110603   | 0.023577998 | \n",
       "| 2 | 0.4723673   | 0.1852779   | 0.342354878 | \n",
       "| 3 | 0.2988942   | 0.6133249   | 0.087780894 | \n",
       "| 4 | 0.8387799   | 0.1582586   | 0.002961436 | \n",
       "\n",
       "\n"
      ],
      "text/plain": [
       "  Dim 1     Dim 2     Dim 3      \n",
       "1 0.8653617 0.1110603 0.023577998\n",
       "2 0.4723673 0.1852779 0.342354878\n",
       "3 0.2988942 0.6133249 0.087780894\n",
       "4 0.8387799 0.1582586 0.002961436"
      ]
     },
     "metadata": {},
     "output_type": "display_data"
    }
   ],
   "source": [
    "Totalcanbip$GroupContributions"
   ]
  },
  {
   "cell_type": "code",
   "execution_count": 57,
   "metadata": {},
   "outputs": [
    {
     "data": {},
     "metadata": {},
     "output_type": "display_data"
    },
    {
     "data": {
      "image/png": "[encoded data removed]",
      "text/plain": [
       "plot without title"
      ]
     },
     "metadata": {},
     "output_type": "display_data"
    }
   ],
   "source": [
    "df <- data.frame(x=as.numeric(CoordGrupos[,1]), y=as.numeric(CoordGrupos[,2]), r=as.numeric(radio))\n",
    "\n",
    "angle <- seq(-pi, pi, length = 100)\n",
    "\n",
    "myplot <- ggplot()\n",
    "for (i in 1:length(df$x)) {\n",
    "        df_temp = data.frame(x = df$x[i] + df$r[i]*sin(angle), y = df$y[i] + df$r[i]*cos(angle))\n",
    "        myplot = myplot + geom_polygon(data=df_temp, aes(x=x, y=y),color='grey', fill=NA,alpha=0.5, inherit.aes=F)\n",
    "      }\n",
    "\n",
    "myplot + geom_point(data=df, aes(x=x, y=y))+\n",
    "geom_point(data=CoordGrupos,aes(x=`Dim 1`,y=`Dim 2`,col=clase))+\n",
    "geom_text(data=CoordGrupos,aes(x=`Dim 1`,y=`Dim 2`,label=rownames(CoordGrupos),col=clase),hjust=0.6, vjust=-0.3,size=5)+\n",
    "geom_segment(aes(x=0,y=0,xend=`Dim 1`,yend=`Dim 2`),data=CoordVar,arrow = arrow(length = unit(0.2,\"cm\"),type='open'),size=0.5,col='black')+\n",
    "geom_text(aes(x=CoordVar$`Dim 1`+.08*sign(CoordVar$`Dim 1`),y=CoordVar$`Dim 2`+.01*sign(CoordVar$`Dim 2`),label=rownames(CoordVar)),data=CoordVar,size=4)+\n",
    "theme_bw()+theme(legend.position=\"none\")"
   ]
  },
  {
   "cell_type": "code",
   "execution_count": 58,
   "metadata": {},
   "outputs": [
    {
     "data": {},
     "metadata": {},
     "output_type": "display_data"
    },
    {
     "data": {
      "image/png": "[encoded data removed]",
      "text/plain": [
       "plot without title"
      ]
     },
     "metadata": {},
     "output_type": "display_data"
    }
   ],
   "source": [
    "#stat_ellipse(data=CoordGrupos,aes(x=`Dim 1`,y=`Dim 2`,level=radio),type='euclid')\n",
    "df <- data.frame(x=as.numeric(CoordGrupos[,1]), y=as.numeric(CoordGrupos[,3]), r=as.numeric(radio))\n",
    "angle <- seq(-pi, pi, length = 100)\n",
    "myplot <- ggplot()\n",
    "for (i in 1:length(df$x)) {\n",
    "        df_temp = data.frame(x = df$x[i] + df$r[i]*sin(angle), y = df$y[i] + df$r[i]*cos(angle))\n",
    "        myplot = myplot + geom_polygon(data=df_temp, aes(x=x, y=y),color='grey', fill=NA,alpha=0.5, inherit.aes=F)\n",
    "      }\n",
    "\n",
    "myplot + geom_point(data=df, aes(x=x, y=y))+\n",
    "geom_point(data=CoordGrupos,aes(x=`Dim 1`,y=`Dim 3`,col=clase))+\n",
    "geom_text(data=CoordGrupos,aes(x=`Dim 1`,y=`Dim 3`,label=rownames(CoordGrupos),col=clase),hjust=0.6, vjust=-0.3,size=5)+\n",
    "geom_segment(aes(x=0,y=0,xend=`Dim 1`,yend=`Dim 3`),data=CoordVar,arrow = arrow(length = unit(0.2,\"cm\"),type='open'),size=0.5,col='black')+\n",
    "geom_text(aes(x=CoordVar$`Dim 1`+.08*sign(CoordVar$`Dim 1`),y=CoordVar$`Dim 3`+.01*sign(CoordVar$`Dim 3`),label=rownames(CoordVar)),data=CoordVar,size=4)+\n",
    "theme_bw()+theme(legend.position=\"none\")"
   ]
  },
  {
   "cell_type": "markdown",
   "metadata": {},
   "source": [
    "#### A1 (AQ3)"
   ]
  },
  {
   "cell_type": "code",
   "execution_count": 59,
   "metadata": {},
   "outputs": [],
   "source": [
    "Df_total_A1 <- Df_total[which(Df_total$V_Niveau_DK=='1'),]"
   ]
  },
  {
   "cell_type": "markdown",
   "metadata": {},
   "source": [
    "##### Studienrichtung"
   ]
  },
  {
   "cell_type": "code",
   "execution_count": 60,
   "metadata": {},
   "outputs": [],
   "source": [
    "X <- Df_total_A1[!is.na(Df_total_A1$V_Studienrichtung),cbind(\"MR1\",\"MR2\",\"MR3\",\"MR4\",\"MR5\",\"MR6\")]\n",
    "y <- as.factor(Df_total_A1[!is.na(Df_total_A1$V_Studienrichtung),]$V_Studienrichtung)\n",
    "\n",
    "Totalcanbip <- CanonicalBiplot(X,y )\n",
    "\n",
    "#Rescalar resultados\n",
    "sca <- sum(Totalcanbip$GroupCoordinates^2)\n",
    "scb <- sum(Totalcanbip$ColCoordinates^2)\n",
    "sca <- sca/Totalcanbip$g\n",
    "scb <- scb/Totalcanbip$p\n",
    "scf <- sqrt(sqrt(scb/sca))\n",
    "\n",
    "Totalcanbip$Group_Coord <- Totalcanbip$GroupCoordinates*scf\n",
    "Totalcanbip$Variable_Coord <- Totalcanbip$ColCoordinates/scf\n",
    "Totalcanbip$Individual_Coord <- Totalcanbip$RowCoordinates*scf\n",
    "radio <- Totalcanbip$BonfRad\n",
    "\n",
    "CoordGrupos <- as.data.frame(Totalcanbip$Group_Coord)\n",
    "CoordVar <- as.data.frame(Totalcanbip$Variable_Coord)\n",
    "CoordGrupos$clase <- c('Germ','Phil','Trans','Andere')\n",
    "rownames(CoordGrupos) <- c('Germ','Phil','Trans','Andere')"
   ]
  },
  {
   "cell_type": "code",
   "execution_count": 61,
   "metadata": {},
   "outputs": [
    {
     "data": {
      "text/html": [
       "<table>\n",
       "<thead><tr><th></th><th scope=col>Dim 1</th><th scope=col>Dim 2</th><th scope=col>Dim 3</th></tr></thead>\n",
       "<tbody>\n",
       "\t<tr><th scope=row>MR1</th><td>0.32246122 </td><td>0.046896347</td><td>0.6306424  </td></tr>\n",
       "\t<tr><th scope=row>MR2</th><td>0.42751315 </td><td>0.353818042</td><td>0.2186688  </td></tr>\n",
       "\t<tr><th scope=row>MR3</th><td>0.37711782 </td><td>0.001517913</td><td>0.6213643  </td></tr>\n",
       "\t<tr><th scope=row>MR4</th><td>0.01288809 </td><td>0.578673742</td><td>0.4084382  </td></tr>\n",
       "\t<tr><th scope=row>MR5</th><td>0.36129120 </td><td>0.497957883</td><td>0.1407509  </td></tr>\n",
       "\t<tr><th scope=row>MR6</th><td>0.53987311 </td><td>0.303016545</td><td>0.1571103  </td></tr>\n",
       "</tbody>\n",
       "</table>\n"
      ],
      "text/latex": [
       "\\begin{tabular}{r|lll}\n",
       "  & Dim 1 & Dim 2 & Dim 3\\\\\n",
       "\\hline\n",
       "\tMR1 & 0.32246122  & 0.046896347 & 0.6306424  \\\\\n",
       "\tMR2 & 0.42751315  & 0.353818042 & 0.2186688  \\\\\n",
       "\tMR3 & 0.37711782  & 0.001517913 & 0.6213643  \\\\\n",
       "\tMR4 & 0.01288809  & 0.578673742 & 0.4084382  \\\\\n",
       "\tMR5 & 0.36129120  & 0.497957883 & 0.1407509  \\\\\n",
       "\tMR6 & 0.53987311  & 0.303016545 & 0.1571103  \\\\\n",
       "\\end{tabular}\n"
      ],
      "text/markdown": [
       "\n",
       "| <!--/--> | Dim 1 | Dim 2 | Dim 3 | \n",
       "|---|---|---|---|---|---|\n",
       "| MR1 | 0.32246122  | 0.046896347 | 0.6306424   | \n",
       "| MR2 | 0.42751315  | 0.353818042 | 0.2186688   | \n",
       "| MR3 | 0.37711782  | 0.001517913 | 0.6213643   | \n",
       "| MR4 | 0.01288809  | 0.578673742 | 0.4084382   | \n",
       "| MR5 | 0.36129120  | 0.497957883 | 0.1407509   | \n",
       "| MR6 | 0.53987311  | 0.303016545 | 0.1571103   | \n",
       "\n",
       "\n"
      ],
      "text/plain": [
       "    Dim 1      Dim 2       Dim 3    \n",
       "MR1 0.32246122 0.046896347 0.6306424\n",
       "MR2 0.42751315 0.353818042 0.2186688\n",
       "MR3 0.37711782 0.001517913 0.6213643\n",
       "MR4 0.01288809 0.578673742 0.4084382\n",
       "MR5 0.36129120 0.497957883 0.1407509\n",
       "MR6 0.53987311 0.303016545 0.1571103"
      ]
     },
     "metadata": {},
     "output_type": "display_data"
    }
   ],
   "source": [
    "Totalcanbip$ColContributions"
   ]
  },
  {
   "cell_type": "code",
   "execution_count": 62,
   "metadata": {},
   "outputs": [
    {
     "data": {
      "text/html": [
       "<table>\n",
       "<thead><tr><th></th><th scope=col>Dim 1</th><th scope=col>Dim 2</th><th scope=col>Dim 3</th></tr></thead>\n",
       "<tbody>\n",
       "\t<tr><th scope=row>1</th><td>0.83594296 </td><td>0.1629153  </td><td>0.001141752</td></tr>\n",
       "\t<tr><th scope=row>2</th><td>0.08150024 </td><td>0.9162653  </td><td>0.002234460</td></tr>\n",
       "\t<tr><th scope=row>3</th><td>0.81814905 </td><td>0.1372259  </td><td>0.044625079</td></tr>\n",
       "\t<tr><th scope=row>4</th><td>0.48973349 </td><td>0.1628480  </td><td>0.347418545</td></tr>\n",
       "</tbody>\n",
       "</table>\n"
      ],
      "text/latex": [
       "\\begin{tabular}{r|lll}\n",
       "  & Dim 1 & Dim 2 & Dim 3\\\\\n",
       "\\hline\n",
       "\t1 & 0.83594296  & 0.1629153   & 0.001141752\\\\\n",
       "\t2 & 0.08150024  & 0.9162653   & 0.002234460\\\\\n",
       "\t3 & 0.81814905  & 0.1372259   & 0.044625079\\\\\n",
       "\t4 & 0.48973349  & 0.1628480   & 0.347418545\\\\\n",
       "\\end{tabular}\n"
      ],
      "text/markdown": [
       "\n",
       "| <!--/--> | Dim 1 | Dim 2 | Dim 3 | \n",
       "|---|---|---|---|\n",
       "| 1 | 0.83594296  | 0.1629153   | 0.001141752 | \n",
       "| 2 | 0.08150024  | 0.9162653   | 0.002234460 | \n",
       "| 3 | 0.81814905  | 0.1372259   | 0.044625079 | \n",
       "| 4 | 0.48973349  | 0.1628480   | 0.347418545 | \n",
       "\n",
       "\n"
      ],
      "text/plain": [
       "  Dim 1      Dim 2     Dim 3      \n",
       "1 0.83594296 0.1629153 0.001141752\n",
       "2 0.08150024 0.9162653 0.002234460\n",
       "3 0.81814905 0.1372259 0.044625079\n",
       "4 0.48973349 0.1628480 0.347418545"
      ]
     },
     "metadata": {},
     "output_type": "display_data"
    }
   ],
   "source": [
    "Totalcanbip$GroupContributions"
   ]
  },
  {
   "cell_type": "code",
   "execution_count": 63,
   "metadata": {},
   "outputs": [
    {
     "data": {},
     "metadata": {},
     "output_type": "display_data"
    },
    {
     "data": {
      "image/png": "[encoded data removed]",
      "text/plain": [
       "plot without title"
      ]
     },
     "metadata": {},
     "output_type": "display_data"
    }
   ],
   "source": [
    "df <- data.frame(x=as.numeric(CoordGrupos[,1]), y=as.numeric(CoordGrupos[,2]), r=as.numeric(radio))\n",
    "\n",
    "angle <- seq(-pi, pi, length = 100)\n",
    "\n",
    "myplot <- ggplot()\n",
    "for (i in 1:length(df$x)) {\n",
    "        df_temp = data.frame(x = df$x[i] + df$r[i]*sin(angle), y = df$y[i] + df$r[i]*cos(angle))\n",
    "        myplot = myplot + geom_polygon(data=df_temp, aes(x=x, y=y),color='grey', fill=NA,alpha=0.5, inherit.aes=F)\n",
    "      }\n",
    "\n",
    "myplot + geom_point(data=df, aes(x=x, y=y))+\n",
    "geom_point(data=CoordGrupos,aes(x=`Dim 1`,y=`Dim 2`,col=clase))+\n",
    "geom_text(data=CoordGrupos,aes(x=`Dim 1`,y=`Dim 2`,label=rownames(CoordGrupos),col=clase),hjust=0.6, vjust=-0.3,size=5)+\n",
    "geom_segment(aes(x=0,y=0,xend=`Dim 1`,yend=`Dim 2`),data=CoordVar,arrow = arrow(length = unit(0.2,\"cm\"),type='open'),size=0.5,col='black')+\n",
    "geom_text(aes(x=CoordVar$`Dim 1`+.08*sign(CoordVar$`Dim 1`),y=CoordVar$`Dim 2`+.01*sign(CoordVar$`Dim 2`),label=rownames(CoordVar)),data=CoordVar,size=4)+\n",
    "theme_bw()+theme(legend.position=\"none\")"
   ]
  },
  {
   "cell_type": "code",
   "execution_count": 64,
   "metadata": {},
   "outputs": [
    {
     "data": {},
     "metadata": {},
     "output_type": "display_data"
    },
    {
     "data": {
      "image/png": "[encoded data removed]",
      "text/plain": [
       "plot without title"
      ]
     },
     "metadata": {},
     "output_type": "display_data"
    }
   ],
   "source": [
    "#stat_ellipse(data=CoordGrupos,aes(x=`Dim 1`,y=`Dim 2`,level=radio),type='euclid')\n",
    "df <- data.frame(x=as.numeric(CoordGrupos[,1]), y=as.numeric(CoordGrupos[,3]), r=as.numeric(radio))\n",
    "angle <- seq(-pi, pi, length = 100)\n",
    "myplot <- ggplot()\n",
    "for (i in 1:length(df$x)) {\n",
    "        df_temp = data.frame(x = df$x[i] + df$r[i]*sin(angle), y = df$y[i] + df$r[i]*cos(angle))\n",
    "        myplot = myplot + geom_polygon(data=df_temp, aes(x=x, y=y),color='grey', fill=NA,alpha=0.5, inherit.aes=F)\n",
    "      }\n",
    "\n",
    "myplot + geom_point(data=df, aes(x=x, y=y))+\n",
    "geom_point(data=CoordGrupos,aes(x=`Dim 1`,y=`Dim 3`,col=clase))+\n",
    "geom_text(data=CoordGrupos,aes(x=`Dim 1`,y=`Dim 3`,label=rownames(CoordGrupos),col=clase),hjust=0.6, vjust=-0.3,size=5)+\n",
    "geom_segment(aes(x=0,y=0,xend=`Dim 1`,yend=`Dim 3`),data=CoordVar,arrow = arrow(length = unit(0.2,\"cm\"),type='open'),size=0.5,col='black')+\n",
    "geom_text(aes(x=CoordVar$`Dim 1`+.08*sign(CoordVar$`Dim 1`),y=CoordVar$`Dim 3`+.01*sign(CoordVar$`Dim 3`),label=rownames(CoordVar)),data=CoordVar,size=4)+\n",
    "theme_bw()+theme(legend.position=\"none\")"
   ]
  },
  {
   "cell_type": "code",
   "execution_count": 65,
   "metadata": {},
   "outputs": [
    {
     "data": {},
     "metadata": {},
     "output_type": "display_data"
    },
    {
     "data": {
      "image/png": "[encoded data removed]",
      "text/plain": [
       "plot without title"
      ]
     },
     "metadata": {},
     "output_type": "display_data"
    }
   ],
   "source": [
    "#stat_ellipse(data=CoordGrupos,aes(x=`Dim 1`,y=`Dim 2`,level=radio),type='euclid')\n",
    "df <- data.frame(x=as.numeric(CoordGrupos[,2]), y=as.numeric(CoordGrupos[,3]), r=as.numeric(radio))\n",
    "angle <- seq(-pi, pi, length = 100)\n",
    "myplot <- ggplot()\n",
    "for (i in 1:length(df$x)) {\n",
    "        df_temp = data.frame(x = df$x[i] + df$r[i]*sin(angle), y = df$y[i] + df$r[i]*cos(angle))\n",
    "        myplot = myplot + geom_polygon(data=df_temp, aes(x=x, y=y),color='grey', fill=NA,alpha=0.5, inherit.aes=F)\n",
    "      }\n",
    "\n",
    "myplot + geom_point(data=df, aes(x=x, y=y))+\n",
    "geom_point(data=CoordGrupos,aes(x=`Dim 2`,y=`Dim 3`,col=clase))+\n",
    "geom_text(data=CoordGrupos,aes(x=`Dim 2`,y=`Dim 3`,label=rownames(CoordGrupos),col=clase),hjust=0.6, vjust=-0.3,size=5)+\n",
    "geom_segment(aes(x=0,y=0,xend=`Dim 2`,yend=`Dim 3`),data=CoordVar,arrow = arrow(length = unit(0.2,\"cm\"),type='open'),size=0.5,col='black')+\n",
    "geom_text(aes(x=CoordVar$`Dim 2`+.08*sign(CoordVar$`Dim 2`),y=CoordVar$`Dim 3`+.01*sign(CoordVar$`Dim 3`),label=rownames(CoordVar)),data=CoordVar,size=4)+\n",
    "theme_bw()+theme(legend.position=\"none\")"
   ]
  },
  {
   "cell_type": "markdown",
   "metadata": {},
   "source": [
    "#### A2 (AQ3)"
   ]
  },
  {
   "cell_type": "code",
   "execution_count": 66,
   "metadata": {},
   "outputs": [],
   "source": [
    "Df_total_A2 <- Df_total[which(Df_total$V_Niveau_DK=='2'),]"
   ]
  },
  {
   "cell_type": "markdown",
   "metadata": {},
   "source": [
    "##### Alter"
   ]
  },
  {
   "cell_type": "code",
   "execution_count": 67,
   "metadata": {},
   "outputs": [],
   "source": [
    "X <- Df_total_A2[!is.na(Df_total_A2$V_Alter),cbind(\"MR1\",\"MR2\",\"MR3\",\"MR4\",\"MR5\",\"MR6\")]\n",
    "y <- as.factor(Df_total_A2[!is.na(Df_total_A2$V_Alter),]$V_Alter)\n",
    "\n",
    "Totalcanbip <- CanonicalBiplot(X,y )\n",
    "\n",
    "#Rescalar resultados\n",
    "sca <- sum(Totalcanbip$GroupCoordinates^2)\n",
    "scb <- sum(Totalcanbip$ColCoordinates^2)\n",
    "sca <- sca/Totalcanbip$g\n",
    "scb <- scb/Totalcanbip$p\n",
    "scf <- sqrt(sqrt(scb/sca))\n",
    "\n",
    "Totalcanbip$Group_Coord <- Totalcanbip$GroupCoordinates*scf\n",
    "Totalcanbip$Variable_Coord <- Totalcanbip$ColCoordinates/scf\n",
    "Totalcanbip$Individual_Coord <- Totalcanbip$RowCoordinates*scf\n",
    "radio <- Totalcanbip$BonfRad\n",
    "\n",
    "CoordGrupos <- as.data.frame(Totalcanbip$Group_Coord)\n",
    "CoordVar <- as.data.frame(Totalcanbip$Variable_Coord)\n",
    "CoordGrupos$clase <- c('-18','19','20-21','22+')\n",
    "rownames(CoordGrupos) <- c('-18','19','20-21','22+')"
   ]
  },
  {
   "cell_type": "code",
   "execution_count": 68,
   "metadata": {},
   "outputs": [
    {
     "data": {
      "text/html": [
       "<table>\n",
       "<thead><tr><th></th><th scope=col>Dim 1</th><th scope=col>Dim 2</th><th scope=col>Dim 3</th></tr></thead>\n",
       "<tbody>\n",
       "\t<tr><th scope=row>MR1</th><td>0.096999587</td><td>0.11310893 </td><td>0.78989148 </td></tr>\n",
       "\t<tr><th scope=row>MR2</th><td>0.575299994</td><td>0.38784797 </td><td>0.03685204 </td></tr>\n",
       "\t<tr><th scope=row>MR3</th><td>0.163341412</td><td>0.68360933 </td><td>0.15304925 </td></tr>\n",
       "\t<tr><th scope=row>MR4</th><td>0.001564054</td><td>0.77935401 </td><td>0.21908194 </td></tr>\n",
       "\t<tr><th scope=row>MR5</th><td>0.931981620</td><td>0.06301356 </td><td>0.00500482 </td></tr>\n",
       "\t<tr><th scope=row>MR6</th><td>0.130796631</td><td>0.22616593 </td><td>0.64303744 </td></tr>\n",
       "</tbody>\n",
       "</table>\n"
      ],
      "text/latex": [
       "\\begin{tabular}{r|lll}\n",
       "  & Dim 1 & Dim 2 & Dim 3\\\\\n",
       "\\hline\n",
       "\tMR1 & 0.096999587 & 0.11310893  & 0.78989148 \\\\\n",
       "\tMR2 & 0.575299994 & 0.38784797  & 0.03685204 \\\\\n",
       "\tMR3 & 0.163341412 & 0.68360933  & 0.15304925 \\\\\n",
       "\tMR4 & 0.001564054 & 0.77935401  & 0.21908194 \\\\\n",
       "\tMR5 & 0.931981620 & 0.06301356  & 0.00500482 \\\\\n",
       "\tMR6 & 0.130796631 & 0.22616593  & 0.64303744 \\\\\n",
       "\\end{tabular}\n"
      ],
      "text/markdown": [
       "\n",
       "| <!--/--> | Dim 1 | Dim 2 | Dim 3 | \n",
       "|---|---|---|---|---|---|\n",
       "| MR1 | 0.096999587 | 0.11310893  | 0.78989148  | \n",
       "| MR2 | 0.575299994 | 0.38784797  | 0.03685204  | \n",
       "| MR3 | 0.163341412 | 0.68360933  | 0.15304925  | \n",
       "| MR4 | 0.001564054 | 0.77935401  | 0.21908194  | \n",
       "| MR5 | 0.931981620 | 0.06301356  | 0.00500482  | \n",
       "| MR6 | 0.130796631 | 0.22616593  | 0.64303744  | \n",
       "\n",
       "\n"
      ],
      "text/plain": [
       "    Dim 1       Dim 2      Dim 3     \n",
       "MR1 0.096999587 0.11310893 0.78989148\n",
       "MR2 0.575299994 0.38784797 0.03685204\n",
       "MR3 0.163341412 0.68360933 0.15304925\n",
       "MR4 0.001564054 0.77935401 0.21908194\n",
       "MR5 0.931981620 0.06301356 0.00500482\n",
       "MR6 0.130796631 0.22616593 0.64303744"
      ]
     },
     "metadata": {},
     "output_type": "display_data"
    }
   ],
   "source": [
    "Totalcanbip$ColContributions"
   ]
  },
  {
   "cell_type": "code",
   "execution_count": 69,
   "metadata": {},
   "outputs": [
    {
     "data": {
      "text/html": [
       "<table>\n",
       "<thead><tr><th></th><th scope=col>Dim 1</th><th scope=col>Dim 2</th><th scope=col>Dim 3</th></tr></thead>\n",
       "<tbody>\n",
       "\t<tr><th scope=row>1</th><td>0.1112045  </td><td>0.869554213</td><td>0.01924124 </td></tr>\n",
       "\t<tr><th scope=row>2</th><td>0.3236111  </td><td>0.005308858</td><td>0.67108009 </td></tr>\n",
       "\t<tr><th scope=row>3</th><td>0.8258612  </td><td>0.034752736</td><td>0.13938606 </td></tr>\n",
       "\t<tr><th scope=row>4</th><td>0.5077238  </td><td>0.480155822</td><td>0.01212037 </td></tr>\n",
       "</tbody>\n",
       "</table>\n"
      ],
      "text/latex": [
       "\\begin{tabular}{r|lll}\n",
       "  & Dim 1 & Dim 2 & Dim 3\\\\\n",
       "\\hline\n",
       "\t1 & 0.1112045   & 0.869554213 & 0.01924124 \\\\\n",
       "\t2 & 0.3236111   & 0.005308858 & 0.67108009 \\\\\n",
       "\t3 & 0.8258612   & 0.034752736 & 0.13938606 \\\\\n",
       "\t4 & 0.5077238   & 0.480155822 & 0.01212037 \\\\\n",
       "\\end{tabular}\n"
      ],
      "text/markdown": [
       "\n",
       "| <!--/--> | Dim 1 | Dim 2 | Dim 3 | \n",
       "|---|---|---|---|\n",
       "| 1 | 0.1112045   | 0.869554213 | 0.01924124  | \n",
       "| 2 | 0.3236111   | 0.005308858 | 0.67108009  | \n",
       "| 3 | 0.8258612   | 0.034752736 | 0.13938606  | \n",
       "| 4 | 0.5077238   | 0.480155822 | 0.01212037  | \n",
       "\n",
       "\n"
      ],
      "text/plain": [
       "  Dim 1     Dim 2       Dim 3     \n",
       "1 0.1112045 0.869554213 0.01924124\n",
       "2 0.3236111 0.005308858 0.67108009\n",
       "3 0.8258612 0.034752736 0.13938606\n",
       "4 0.5077238 0.480155822 0.01212037"
      ]
     },
     "metadata": {},
     "output_type": "display_data"
    }
   ],
   "source": [
    "Totalcanbip$GroupContributions"
   ]
  },
  {
   "cell_type": "code",
   "execution_count": 70,
   "metadata": {},
   "outputs": [
    {
     "data": {},
     "metadata": {},
     "output_type": "display_data"
    },
    {
     "data": {
      "image/png": "[encoded data removed]",
      "text/plain": [
       "plot without title"
      ]
     },
     "metadata": {},
     "output_type": "display_data"
    }
   ],
   "source": [
    "df <- data.frame(x=as.numeric(CoordGrupos[,1]), y=as.numeric(CoordGrupos[,2]), r=as.numeric(radio))\n",
    "\n",
    "angle <- seq(-pi, pi, length = 100)\n",
    "\n",
    "myplot <- ggplot()\n",
    "for (i in 1:length(df$x)) {\n",
    "        df_temp = data.frame(x = df$x[i] + df$r[i]*sin(angle), y = df$y[i] + df$r[i]*cos(angle))\n",
    "        myplot = myplot + geom_polygon(data=df_temp, aes(x=x, y=y),color='grey', fill=NA,alpha=0.5, inherit.aes=F)\n",
    "      }\n",
    "\n",
    "myplot + geom_point(data=df, aes(x=x, y=y))+\n",
    "geom_point(data=CoordGrupos,aes(x=`Dim 1`,y=`Dim 2`,col=clase))+\n",
    "geom_text(data=CoordGrupos,aes(x=`Dim 1`,y=`Dim 2`,label=rownames(CoordGrupos),col=clase),hjust=0.6, vjust=-0.3,size=5)+\n",
    "geom_segment(aes(x=0,y=0,xend=`Dim 1`,yend=`Dim 2`),data=CoordVar,arrow = arrow(length = unit(0.2,\"cm\"),type='open'),size=0.5,col='black')+\n",
    "geom_text(aes(x=CoordVar$`Dim 1`+.08*sign(CoordVar$`Dim 1`),y=CoordVar$`Dim 2`+.01*sign(CoordVar$`Dim 2`),label=rownames(CoordVar)),data=CoordVar,size=4)+\n",
    "theme_bw()+theme(legend.position=\"none\")"
   ]
  },
  {
   "cell_type": "code",
   "execution_count": 71,
   "metadata": {},
   "outputs": [
    {
     "data": {},
     "metadata": {},
     "output_type": "display_data"
    },
    {
     "data": {
      "image/png": "[encoded data removed]",
      "text/plain": [
       "plot without title"
      ]
     },
     "metadata": {},
     "output_type": "display_data"
    }
   ],
   "source": [
    "#stat_ellipse(data=CoordGrupos,aes(x=`Dim 1`,y=`Dim 2`,level=radio),type='euclid')\n",
    "df <- data.frame(x=as.numeric(CoordGrupos[,2]), y=as.numeric(CoordGrupos[,3]), r=as.numeric(radio))\n",
    "angle <- seq(-pi, pi, length = 100)\n",
    "myplot <- ggplot()\n",
    "for (i in 1:length(df$x)) {\n",
    "        df_temp = data.frame(x = df$x[i] + df$r[i]*sin(angle), y = df$y[i] + df$r[i]*cos(angle))\n",
    "        myplot = myplot + geom_polygon(data=df_temp, aes(x=x, y=y),color='grey', fill=NA,alpha=0.5, inherit.aes=F)\n",
    "      }\n",
    "\n",
    "myplot + geom_point(data=df, aes(x=x, y=y))+\n",
    "geom_point(data=CoordGrupos,aes(x=`Dim 2`,y=`Dim 3`,col=clase))+\n",
    "geom_text(data=CoordGrupos,aes(x=`Dim 2`,y=`Dim 3`,label=rownames(CoordGrupos),col=clase),hjust=0.6, vjust=-0.3,size=5)+\n",
    "geom_segment(aes(x=0,y=0,xend=`Dim 2`,yend=`Dim 3`),data=CoordVar,arrow = arrow(length = unit(0.2,\"cm\"),type='open'),size=0.5,col='black')+\n",
    "geom_text(aes(x=CoordVar$`Dim 2`+.08*sign(CoordVar$`Dim 2`),y=CoordVar$`Dim 3`+.01*sign(CoordVar$`Dim 3`),label=rownames(CoordVar)),data=CoordVar,size=4)+\n",
    "theme_bw()+theme(legend.position=\"none\")"
   ]
  },
  {
   "cell_type": "markdown",
   "metadata": {},
   "source": [
    "#### B1 (AQ3)"
   ]
  },
  {
   "cell_type": "code",
   "execution_count": 72,
   "metadata": {},
   "outputs": [],
   "source": [
    "Df_total_B1 <- Df_total[which(Df_total$V_Niveau_DK=='3'),]"
   ]
  },
  {
   "cell_type": "markdown",
   "metadata": {},
   "source": [
    "##### Alter"
   ]
  },
  {
   "cell_type": "code",
   "execution_count": 73,
   "metadata": {},
   "outputs": [],
   "source": [
    "X <- Df_total_B1[!is.na(Df_total_B1$V_Alter),cbind(\"MR1\",\"MR2\",\"MR3\",\"MR4\",\"MR5\",\"MR6\")]\n",
    "y <- as.factor(Df_total_B1[!is.na(Df_total_B1$V_Alter),]$V_Alter)\n",
    "\n",
    "Totalcanbip <- CanonicalBiplot(X,y )\n",
    "\n",
    "#Rescalar resultados\n",
    "sca <- sum(Totalcanbip$GroupCoordinates^2)\n",
    "scb <- sum(Totalcanbip$ColCoordinates^2)\n",
    "sca <- sca/Totalcanbip$g\n",
    "scb <- scb/Totalcanbip$p\n",
    "scf <- sqrt(sqrt(scb/sca))\n",
    "\n",
    "Totalcanbip$Group_Coord <- Totalcanbip$GroupCoordinates*scf\n",
    "Totalcanbip$Variable_Coord <- Totalcanbip$ColCoordinates/scf\n",
    "Totalcanbip$Individual_Coord <- Totalcanbip$RowCoordinates*scf\n",
    "radio <- Totalcanbip$BonfRad\n",
    "\n",
    "CoordGrupos <- as.data.frame(Totalcanbip$Group_Coord)\n",
    "CoordVar <- as.data.frame(Totalcanbip$Variable_Coord)\n",
    "CoordGrupos$clase <- c('-18','19','20-21','22+')\n",
    "rownames(CoordGrupos) <- c('-18','19','20-21','22+')"
   ]
  },
  {
   "cell_type": "code",
   "execution_count": 74,
   "metadata": {},
   "outputs": [
    {
     "data": {
      "text/html": [
       "<table>\n",
       "<thead><tr><th></th><th scope=col>Dim 1</th><th scope=col>Dim 2</th><th scope=col>Dim 3</th></tr></thead>\n",
       "<tbody>\n",
       "\t<tr><th scope=row>MR1</th><td>0.77643731</td><td>0.1912628 </td><td>0.03229988</td></tr>\n",
       "\t<tr><th scope=row>MR2</th><td>0.39337575</td><td>0.1366696 </td><td>0.46995468</td></tr>\n",
       "\t<tr><th scope=row>MR3</th><td>0.10612360</td><td>0.2836414 </td><td>0.61023500</td></tr>\n",
       "\t<tr><th scope=row>MR4</th><td>0.02487934</td><td>0.5184367 </td><td>0.45668400</td></tr>\n",
       "\t<tr><th scope=row>MR5</th><td>0.32145285</td><td>0.5205248 </td><td>0.15802238</td></tr>\n",
       "\t<tr><th scope=row>MR6</th><td>0.01751740</td><td>0.7716709 </td><td>0.21081165</td></tr>\n",
       "</tbody>\n",
       "</table>\n"
      ],
      "text/latex": [
       "\\begin{tabular}{r|lll}\n",
       "  & Dim 1 & Dim 2 & Dim 3\\\\\n",
       "\\hline\n",
       "\tMR1 & 0.77643731 & 0.1912628  & 0.03229988\\\\\n",
       "\tMR2 & 0.39337575 & 0.1366696  & 0.46995468\\\\\n",
       "\tMR3 & 0.10612360 & 0.2836414  & 0.61023500\\\\\n",
       "\tMR4 & 0.02487934 & 0.5184367  & 0.45668400\\\\\n",
       "\tMR5 & 0.32145285 & 0.5205248  & 0.15802238\\\\\n",
       "\tMR6 & 0.01751740 & 0.7716709  & 0.21081165\\\\\n",
       "\\end{tabular}\n"
      ],
      "text/markdown": [
       "\n",
       "| <!--/--> | Dim 1 | Dim 2 | Dim 3 | \n",
       "|---|---|---|---|---|---|\n",
       "| MR1 | 0.77643731 | 0.1912628  | 0.03229988 | \n",
       "| MR2 | 0.39337575 | 0.1366696  | 0.46995468 | \n",
       "| MR3 | 0.10612360 | 0.2836414  | 0.61023500 | \n",
       "| MR4 | 0.02487934 | 0.5184367  | 0.45668400 | \n",
       "| MR5 | 0.32145285 | 0.5205248  | 0.15802238 | \n",
       "| MR6 | 0.01751740 | 0.7716709  | 0.21081165 | \n",
       "\n",
       "\n"
      ],
      "text/plain": [
       "    Dim 1      Dim 2     Dim 3     \n",
       "MR1 0.77643731 0.1912628 0.03229988\n",
       "MR2 0.39337575 0.1366696 0.46995468\n",
       "MR3 0.10612360 0.2836414 0.61023500\n",
       "MR4 0.02487934 0.5184367 0.45668400\n",
       "MR5 0.32145285 0.5205248 0.15802238\n",
       "MR6 0.01751740 0.7716709 0.21081165"
      ]
     },
     "metadata": {},
     "output_type": "display_data"
    }
   ],
   "source": [
    "Totalcanbip$ColContributions"
   ]
  },
  {
   "cell_type": "code",
   "execution_count": 75,
   "metadata": {},
   "outputs": [
    {
     "data": {
      "text/html": [
       "<table>\n",
       "<thead><tr><th></th><th scope=col>Dim 1</th><th scope=col>Dim 2</th><th scope=col>Dim 3</th></tr></thead>\n",
       "<tbody>\n",
       "\t<tr><th scope=row>1</th><td>0.1818394  </td><td>0.765418276</td><td>0.05274237 </td></tr>\n",
       "\t<tr><th scope=row>2</th><td>0.9868461  </td><td>0.001584521</td><td>0.01156934 </td></tr>\n",
       "\t<tr><th scope=row>3</th><td>0.8376887  </td><td>0.145307735</td><td>0.01700357 </td></tr>\n",
       "\t<tr><th scope=row>4</th><td>0.0257720  </td><td>0.255785737</td><td>0.71844226 </td></tr>\n",
       "</tbody>\n",
       "</table>\n"
      ],
      "text/latex": [
       "\\begin{tabular}{r|lll}\n",
       "  & Dim 1 & Dim 2 & Dim 3\\\\\n",
       "\\hline\n",
       "\t1 & 0.1818394   & 0.765418276 & 0.05274237 \\\\\n",
       "\t2 & 0.9868461   & 0.001584521 & 0.01156934 \\\\\n",
       "\t3 & 0.8376887   & 0.145307735 & 0.01700357 \\\\\n",
       "\t4 & 0.0257720   & 0.255785737 & 0.71844226 \\\\\n",
       "\\end{tabular}\n"
      ],
      "text/markdown": [
       "\n",
       "| <!--/--> | Dim 1 | Dim 2 | Dim 3 | \n",
       "|---|---|---|---|\n",
       "| 1 | 0.1818394   | 0.765418276 | 0.05274237  | \n",
       "| 2 | 0.9868461   | 0.001584521 | 0.01156934  | \n",
       "| 3 | 0.8376887   | 0.145307735 | 0.01700357  | \n",
       "| 4 | 0.0257720   | 0.255785737 | 0.71844226  | \n",
       "\n",
       "\n"
      ],
      "text/plain": [
       "  Dim 1     Dim 2       Dim 3     \n",
       "1 0.1818394 0.765418276 0.05274237\n",
       "2 0.9868461 0.001584521 0.01156934\n",
       "3 0.8376887 0.145307735 0.01700357\n",
       "4 0.0257720 0.255785737 0.71844226"
      ]
     },
     "metadata": {},
     "output_type": "display_data"
    }
   ],
   "source": [
    "Totalcanbip$GroupContributions"
   ]
  },
  {
   "cell_type": "code",
   "execution_count": 76,
   "metadata": {},
   "outputs": [
    {
     "data": {},
     "metadata": {},
     "output_type": "display_data"
    },
    {
     "data": {
      "image/png": "[encoded data removed]",
      "text/plain": [
       "plot without title"
      ]
     },
     "metadata": {},
     "output_type": "display_data"
    }
   ],
   "source": [
    "df <- data.frame(x=as.numeric(CoordGrupos[,1]), y=as.numeric(CoordGrupos[,2]), r=as.numeric(radio))\n",
    "\n",
    "angle <- seq(-pi, pi, length = 100)\n",
    "\n",
    "myplot <- ggplot()\n",
    "for (i in 1:length(df$x)) {\n",
    "        df_temp = data.frame(x = df$x[i] + df$r[i]*sin(angle), y = df$y[i] + df$r[i]*cos(angle))\n",
    "        myplot = myplot + geom_polygon(data=df_temp, aes(x=x, y=y),color='grey', fill=NA,alpha=0.5, inherit.aes=F)\n",
    "      }\n",
    "\n",
    "myplot + geom_point(data=df, aes(x=x, y=y))+\n",
    "geom_point(data=CoordGrupos,aes(x=`Dim 1`,y=`Dim 2`,col=clase))+\n",
    "geom_text(data=CoordGrupos,aes(x=`Dim 1`,y=`Dim 2`,label=rownames(CoordGrupos),col=clase),hjust=0.6, vjust=-0.3,size=5)+\n",
    "geom_segment(aes(x=0,y=0,xend=`Dim 1`,yend=`Dim 2`),data=CoordVar,arrow = arrow(length = unit(0.2,\"cm\"),type='open'),size=0.5,col='black')+\n",
    "geom_text(aes(x=CoordVar$`Dim 1`+.08*sign(CoordVar$`Dim 1`),y=CoordVar$`Dim 2`+.01*sign(CoordVar$`Dim 2`),label=rownames(CoordVar)),data=CoordVar,size=4)+\n",
    "theme_bw()+theme(legend.position=\"none\")"
   ]
  },
  {
   "cell_type": "code",
   "execution_count": 77,
   "metadata": {},
   "outputs": [
    {
     "data": {},
     "metadata": {},
     "output_type": "display_data"
    },
    {
     "data": {
      "image/png": "[encoded data removed]",
      "text/plain": [
       "plot without title"
      ]
     },
     "metadata": {},
     "output_type": "display_data"
    }
   ],
   "source": [
    "#stat_ellipse(data=CoordGrupos,aes(x=`Dim 1`,y=`Dim 2`,level=radio),type='euclid')\n",
    "df <- data.frame(x=as.numeric(CoordGrupos[,2]), y=as.numeric(CoordGrupos[,3]), r=as.numeric(radio))\n",
    "angle <- seq(-pi, pi, length = 100)\n",
    "myplot <- ggplot()\n",
    "for (i in 1:length(df$x)) {\n",
    "        df_temp = data.frame(x = df$x[i] + df$r[i]*sin(angle), y = df$y[i] + df$r[i]*cos(angle))\n",
    "        myplot = myplot + geom_polygon(data=df_temp, aes(x=x, y=y),color='grey', fill=NA,alpha=0.5, inherit.aes=F)\n",
    "      }\n",
    "\n",
    "myplot + geom_point(data=df, aes(x=x, y=y))+\n",
    "geom_point(data=CoordGrupos,aes(x=`Dim 2`,y=`Dim 3`,col=clase))+\n",
    "geom_text(data=CoordGrupos,aes(x=`Dim 2`,y=`Dim 3`,label=rownames(CoordGrupos),col=clase),hjust=0.6, vjust=-0.3,size=5)+\n",
    "geom_segment(aes(x=0,y=0,xend=`Dim 2`,yend=`Dim 3`),data=CoordVar,arrow = arrow(length = unit(0.2,\"cm\"),type='open'),size=0.5,col='black')+\n",
    "geom_text(aes(x=CoordVar$`Dim 2`+.08*sign(CoordVar$`Dim 2`),y=CoordVar$`Dim 3`+.01*sign(CoordVar$`Dim 3`),label=rownames(CoordVar)),data=CoordVar,size=4)+\n",
    "theme_bw()+theme(legend.position=\"none\")"
   ]
  }
 ],
 "metadata": {
  "kernelspec": {
   "display_name": "R 3.3",
   "language": "R",
   "name": "ir33"
  },
  "language_info": {
   "codemirror_mode": "r",
   "file_extension": ".r",
   "mimetype": "text/x-r-source",
   "name": "R",
   "pygments_lexer": "r",
   "version": "3.4.3"
  }
 },
 "nbformat": 4,
 "nbformat_minor": 2
}
