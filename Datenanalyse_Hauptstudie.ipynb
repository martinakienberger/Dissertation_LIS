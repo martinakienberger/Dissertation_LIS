{
 "cells": [
  {
   "cell_type": "markdown",
   "metadata": {},
   "source": [
    "## Erschließungsstrategien für unbekannten Wortschatz von DaF-Lernenden an spanischen Universitäten\n",
    "# Datenanalyse der Hauptstudie 2018"
   ]
  },
  {
   "cell_type": "markdown",
   "metadata": {},
   "source": [
    "#### Daten importieren"
   ]
  },
  {
   "cell_type": "code",
   "execution_count": 442,
   "metadata": {},
   "outputs": [
    {
     "name": "stdout",
     "output_type": "stream",
     "text": [
      "Populating the interactive namespace from numpy and matplotlib\n"
     ]
    }
   ],
   "source": [
    "import pandas as pd\n",
    "#import math\n",
    "import matplotlib\n",
    "import numpy as np\n",
    "#from biofes import biplot\n",
    "#from sklearn.utils.extmath import randomized_svd\n",
    "#from sklearn.cluster import KMeans, AgglomerativeClustering\n",
    "#from adjustText import adjust_text\n",
    "import seaborn as sns\n",
    "sns.set(style=\"whitegrid\") #\"white\", \"darkgrid\"...\n",
    "% pylab inline"
   ]
  },
  {
   "cell_type": "code",
   "execution_count": 299,
   "metadata": {},
   "outputs": [],
   "source": [
    "Daten = pd.read_pickle('D:\\Daten\\DISS\\Daten\\Estrategias_Estudiantes_2018_ber')"
   ]
  },
  {
   "cell_type": "code",
   "execution_count": 300,
   "metadata": {},
   "outputs": [
    {
     "data": {
      "text/plain": [
       "(303, 358)"
      ]
     },
     "execution_count": 300,
     "metadata": {},
     "output_type": "execute_result"
    }
   ],
   "source": [
    "Daten.shape"
   ]
  },
  {
   "cell_type": "code",
   "execution_count": 301,
   "metadata": {},
   "outputs": [
    {
     "data": {
      "text/html": [
       "<div>\n",
       "<style scoped>\n",
       "    .dataframe tbody tr th:only-of-type {\n",
       "        vertical-align: middle;\n",
       "    }\n",
       "\n",
       "    .dataframe tbody tr th {\n",
       "        vertical-align: top;\n",
       "    }\n",
       "\n",
       "    .dataframe thead th {\n",
       "        text-align: right;\n",
       "    }\n",
       "</style>\n",
       "<table border=\"1\" class=\"dataframe\">\n",
       "  <thead>\n",
       "    <tr style=\"text-align: right;\">\n",
       "      <th></th>\n",
       "      <th>StartDate</th>\n",
       "      <th>EndDate</th>\n",
       "      <th>Status</th>\n",
       "      <th>IPAddress</th>\n",
       "      <th>Progress</th>\n",
       "      <th>Duration (in seconds)</th>\n",
       "      <th>Finished</th>\n",
       "      <th>RecordedDate</th>\n",
       "      <th>ResponseId</th>\n",
       "      <th>RecipientLastName</th>\n",
       "      <th>...</th>\n",
       "      <th>D-Q8b22a_5</th>\n",
       "      <th>D-Q8b22a_6</th>\n",
       "      <th>D-Q8b22a_7</th>\n",
       "      <th>D-Q8b22a_7_TEXT</th>\n",
       "      <th>D-Q8b22b</th>\n",
       "      <th>D-Q8b22c</th>\n",
       "      <th>D-Q9_1</th>\n",
       "      <th>D-Q9_2</th>\n",
       "      <th>E-Q1</th>\n",
       "      <th>porc_nan</th>\n",
       "    </tr>\n",
       "  </thead>\n",
       "  <tbody>\n",
       "    <tr>\n",
       "      <th>0</th>\n",
       "      <td>2018-02-07 13:36:43</td>\n",
       "      <td>2018-02-07 13:50:01</td>\n",
       "      <td>0</td>\n",
       "      <td>83.47.61.251</td>\n",
       "      <td>100</td>\n",
       "      <td>797</td>\n",
       "      <td>1</td>\n",
       "      <td>2018-02-07 13:50:03</td>\n",
       "      <td>R_30ugRXCZSq8xMsk</td>\n",
       "      <td>0</td>\n",
       "      <td>...</td>\n",
       "      <td>0</td>\n",
       "      <td>0</td>\n",
       "      <td>0</td>\n",
       "      <td>0</td>\n",
       "      <td>0</td>\n",
       "      <td>0</td>\n",
       "      <td>0</td>\n",
       "      <td>1</td>\n",
       "      <td>0</td>\n",
       "      <td>59.523810</td>\n",
       "    </tr>\n",
       "    <tr>\n",
       "      <th>1</th>\n",
       "      <td>2018-02-08 02:38:26</td>\n",
       "      <td>2018-02-08 03:09:12</td>\n",
       "      <td>0</td>\n",
       "      <td>84.126.137.166</td>\n",
       "      <td>100</td>\n",
       "      <td>1845</td>\n",
       "      <td>1</td>\n",
       "      <td>2018-02-08 03:09:13</td>\n",
       "      <td>R_1eV2zm3mlcaUK2x</td>\n",
       "      <td>0</td>\n",
       "      <td>...</td>\n",
       "      <td>0</td>\n",
       "      <td>0</td>\n",
       "      <td>0</td>\n",
       "      <td>0</td>\n",
       "      <td>0</td>\n",
       "      <td>0</td>\n",
       "      <td>0</td>\n",
       "      <td>1</td>\n",
       "      <td>0</td>\n",
       "      <td>55.238095</td>\n",
       "    </tr>\n",
       "    <tr>\n",
       "      <th>2</th>\n",
       "      <td>2018-02-08 03:47:29</td>\n",
       "      <td>2018-02-08 04:05:38</td>\n",
       "      <td>0</td>\n",
       "      <td>79.109.193.215</td>\n",
       "      <td>100</td>\n",
       "      <td>1089</td>\n",
       "      <td>1</td>\n",
       "      <td>2018-02-08 04:05:39</td>\n",
       "      <td>R_czEmSnFHhfZOTL3</td>\n",
       "      <td>0</td>\n",
       "      <td>...</td>\n",
       "      <td>0</td>\n",
       "      <td>0</td>\n",
       "      <td>0</td>\n",
       "      <td>0</td>\n",
       "      <td>0</td>\n",
       "      <td>0</td>\n",
       "      <td>0</td>\n",
       "      <td>1</td>\n",
       "      <td>0</td>\n",
       "      <td>58.095238</td>\n",
       "    </tr>\n",
       "  </tbody>\n",
       "</table>\n",
       "<p>3 rows × 358 columns</p>\n",
       "</div>"
      ],
      "text/plain": [
       "             StartDate              EndDate Status       IPAddress Progress  \\\n",
       "0  2018-02-07 13:36:43  2018-02-07 13:50:01      0    83.47.61.251      100   \n",
       "1  2018-02-08 02:38:26  2018-02-08 03:09:12      0  84.126.137.166      100   \n",
       "2  2018-02-08 03:47:29  2018-02-08 04:05:38      0  79.109.193.215      100   \n",
       "\n",
       "  Duration (in seconds) Finished         RecordedDate         ResponseId  \\\n",
       "0                   797        1  2018-02-07 13:50:03  R_30ugRXCZSq8xMsk   \n",
       "1                  1845        1  2018-02-08 03:09:13  R_1eV2zm3mlcaUK2x   \n",
       "2                  1089        1  2018-02-08 04:05:39  R_czEmSnFHhfZOTL3   \n",
       "\n",
       "   RecipientLastName    ...      D-Q8b22a_5  D-Q8b22a_6  D-Q8b22a_7  \\\n",
       "0                  0    ...               0           0           0   \n",
       "1                  0    ...               0           0           0   \n",
       "2                  0    ...               0           0           0   \n",
       "\n",
       "  D-Q8b22a_7_TEXT D-Q8b22b D-Q8b22c D-Q9_1 D-Q9_2  E-Q1   porc_nan  \n",
       "0               0        0        0      0      1     0  59.523810  \n",
       "1               0        0        0      0      1     0  55.238095  \n",
       "2               0        0        0      0      1     0  58.095238  \n",
       "\n",
       "[3 rows x 358 columns]"
      ]
     },
     "execution_count": 301,
     "metadata": {},
     "output_type": "execute_result"
    }
   ],
   "source": [
    "Daten.head(3)"
   ]
  },
  {
   "cell_type": "markdown",
   "metadata": {},
   "source": [
    "#### Glossar erstellen\n",
    "\n",
    "Datei aufrufen, die in einem anderem Notebook erstellt und gespeichert wurde"
   ]
  },
  {
   "cell_type": "code",
   "execution_count": 302,
   "metadata": {},
   "outputs": [],
   "source": [
    "gloss = pd.read_pickle('D:\\Daten\\DISS\\Daten\\Gloss2018')"
   ]
  },
  {
   "cell_type": "markdown",
   "metadata": {},
   "source": [
    "Funktion, um Index (Name) einer Bezeichnung im Glossar zu finden:"
   ]
  },
  {
   "cell_type": "code",
   "execution_count": 303,
   "metadata": {},
   "outputs": [],
   "source": [
    "def get_name_gloss(word):\n",
    "    for i, val in enumerate(gloss[0]):\n",
    "        if word.lower() in str(val).lower():\n",
    "            return i, gloss.index[i]"
   ]
  },
  {
   "cell_type": "markdown",
   "metadata": {},
   "source": [
    "Funktion, um Bezeichnung von Index im Glossar zu finden:"
   ]
  },
  {
   "cell_type": "code",
   "execution_count": 304,
   "metadata": {},
   "outputs": [],
   "source": [
    "def get_name_glossind(word):\n",
    "    for i, val in enumerate(gloss.index):\n",
    "        if word.lower() in str(val).lower():\n",
    "            return i, gloss.loc[val][0]"
   ]
  },
  {
   "cell_type": "code",
   "execution_count": 305,
   "metadata": {},
   "outputs": [
    {
     "data": {
      "text/plain": [
       "(17,\n",
       " 'Probablemente, en este texto encuentre palabras o grupos de palabras que no conoce aún. Sin embargo, seguro que logra entender algunas de estas palabras nuevas sin ayuda, bien enseguida o después de pensar un poco. Lea el texto y piense qué hace para descubrir el significado o la función de las palabras que desconoce. También puede pensar en otras situaciones en las que se haya encontrado con vocabulario nuevo.  ¿Qué estrategias o técnicas usa para averiguar el significado de palabras desconocidas? ¿Qué características de las palabras, frases o textos le ayudan?               Apunte todas sus ideas aquí:')"
      ]
     },
     "execution_count": 305,
     "metadata": {},
     "output_type": "execute_result"
    }
   ],
   "source": [
    "get_name_glossind('A-Q1')"
   ]
  },
  {
   "cell_type": "markdown",
   "metadata": {},
   "source": [
    "#### Untergruppen und Listen für die Analyse"
   ]
  },
  {
   "cell_type": "code",
   "execution_count": 306,
   "metadata": {},
   "outputs": [],
   "source": [
    "Daten_A3 = Daten[Daten['A-Q3_27'] >= 1]"
   ]
  },
  {
   "cell_type": "code",
   "execution_count": 307,
   "metadata": {},
   "outputs": [
    {
     "data": {
      "text/plain": [
       "(300, 358)"
      ]
     },
     "execution_count": 307,
     "metadata": {},
     "output_type": "execute_result"
    }
   ],
   "source": [
    "Daten_A3.shape"
   ]
  },
  {
   "cell_type": "code",
   "execution_count": 308,
   "metadata": {},
   "outputs": [],
   "source": [
    "Finished = Daten[Daten['Finished'] == '1'].reset_index(drop=True)"
   ]
  },
  {
   "cell_type": "code",
   "execution_count": 309,
   "metadata": {},
   "outputs": [
    {
     "data": {
      "text/plain": [
       "(294, 358)"
      ]
     },
     "execution_count": 309,
     "metadata": {},
     "output_type": "execute_result"
    }
   ],
   "source": [
    "Finished.shape"
   ]
  },
  {
   "cell_type": "markdown",
   "metadata": {},
   "source": [
    "Liste erstellen:"
   ]
  },
  {
   "cell_type": "code",
   "execution_count": 310,
   "metadata": {},
   "outputs": [],
   "source": [
    "Liste_A_Q2 = [col for col in Daten.columns if 'A-Q2' in col]"
   ]
  },
  {
   "cell_type": "code",
   "execution_count": 311,
   "metadata": {},
   "outputs": [
    {
     "data": {
      "text/plain": [
       "'A-Q3_3_TEXT'"
      ]
     },
     "execution_count": 311,
     "metadata": {},
     "output_type": "execute_result"
    }
   ],
   "source": [
    "Liste_A_Q3 = [col for col in Daten.columns if 'A-Q3' in col]\n",
    "Liste_A_Q3.pop(3)"
   ]
  },
  {
   "cell_type": "markdown",
   "metadata": {},
   "source": [
    "kann noch verbessert werden:\n",
    "\n",
    "statt Spalte \"3\" (eigentlich 4, Python zählt ja ab 0) irgendwie \"text\"-Spalte weglassen"
   ]
  },
  {
   "cell_type": "code",
   "execution_count": 312,
   "metadata": {},
   "outputs": [],
   "source": [
    "Liste_C_Q1 = [col for col in Finished.columns if 'C-Q1' in col]"
   ]
  },
  {
   "cell_type": "markdown",
   "metadata": {},
   "source": [
    "##### Visualisierung"
   ]
  },
  {
   "cell_type": "markdown",
   "metadata": {},
   "source": [
    "Funktion für Grafiken:"
   ]
  },
  {
   "cell_type": "code",
   "execution_count": 313,
   "metadata": {},
   "outputs": [],
   "source": [
    "def graf_hist(D,l,sx,sy,nrow,ncol):\n",
    "    fig = plt.figure(figsize=(sx,sy))\n",
    "    for i, col in enumerate(l):\n",
    "        plt.subplot(nrow,ncol,i+1)\n",
    "        plt.hist(D[col].dropna(),color = '#0063A6')\n",
    "        plt.xticks([1,2,3,4,5])\n",
    "        plt.title(col,size=13)\n",
    "    plt.show()"
   ]
  },
  {
   "cell_type": "markdown",
   "metadata": {},
   "source": [
    "Funktion für Darstellung der Likert-Skalen..."
   ]
  },
  {
   "cell_type": "markdown",
   "metadata": {},
   "source": [
    "##### Korrelation"
   ]
  },
  {
   "cell_type": "markdown",
   "metadata": {},
   "source": [
    "Funktion, um Daten mit bestimmtem Korrelationswert (z.B. über 0,5) zu erhalten:"
   ]
  },
  {
   "cell_type": "code",
   "execution_count": 314,
   "metadata": {},
   "outputs": [],
   "source": [
    "def get_max_corr(df,col,lim = 0.5):\n",
    "    return df[(df[col] > lim) & (df[col].dropna() < 0.99)][col]"
   ]
  },
  {
   "cell_type": "markdown",
   "metadata": {},
   "source": [
    "### Cronbach's Alpha berechnen"
   ]
  },
  {
   "cell_type": "code",
   "execution_count": 315,
   "metadata": {},
   "outputs": [],
   "source": [
    "def CronbachAlpha(itemscores):\n",
    "    itemscores = np.asarray(itemscores)\n",
    "    itemvars = itemscores.var(axis=0, ddof=1)\n",
    "    tscores = itemscores.sum(axis=1)\n",
    "    nitems = itemscores.shape[1]\n",
    "    calpha = nitems / float(nitems-1) * (1 - itemvars.sum() / float(tscores.var(ddof=1)))\n",
    "\n",
    "    return calpha"
   ]
  },
  {
   "cell_type": "code",
   "execution_count": 316,
   "metadata": {},
   "outputs": [
    {
     "data": {
      "text/plain": [
       "0.25915134559344694"
      ]
     },
     "execution_count": 316,
     "metadata": {},
     "output_type": "execute_result"
    }
   ],
   "source": [
    "CronbachAlpha(Daten[Liste_A_Q2])"
   ]
  },
  {
   "cell_type": "code",
   "execution_count": 317,
   "metadata": {},
   "outputs": [
    {
     "data": {
      "text/plain": [
       "0.8895811333745897"
      ]
     },
     "execution_count": 317,
     "metadata": {},
     "output_type": "execute_result"
    }
   ],
   "source": [
    "CronbachAlpha(Daten_A3[Liste_A_Q3])"
   ]
  },
  {
   "cell_type": "code",
   "execution_count": 318,
   "metadata": {},
   "outputs": [
    {
     "data": {
      "text/plain": [
       "0.5104733681971647"
      ]
     },
     "execution_count": 318,
     "metadata": {},
     "output_type": "execute_result"
    }
   ],
   "source": [
    "CronbachAlpha(Finished[Liste_C_Q1])"
   ]
  },
  {
   "cell_type": "code",
   "execution_count": 319,
   "metadata": {},
   "outputs": [],
   "source": [
    "Liste_A_Q = Liste_A_Q2 + Liste_A_Q3"
   ]
  },
  {
   "cell_type": "code",
   "execution_count": 320,
   "metadata": {},
   "outputs": [],
   "source": [
    "Liste_AC_Q = Liste_A_Q + Liste_C_Q1"
   ]
  },
  {
   "cell_type": "code",
   "execution_count": 321,
   "metadata": {},
   "outputs": [
    {
     "data": {
      "text/plain": [
       "0.9092180930882015"
      ]
     },
     "execution_count": 321,
     "metadata": {},
     "output_type": "execute_result"
    }
   ],
   "source": [
    "CronbachAlpha(Daten[Liste_AC_Q])"
   ]
  },
  {
   "cell_type": "markdown",
   "metadata": {},
   "source": [
    "### Zeitanalyse"
   ]
  },
  {
   "cell_type": "code",
   "execution_count": 322,
   "metadata": {},
   "outputs": [],
   "source": [
    "Dur = pd.to_numeric(Finished['Duration (in seconds)'])"
   ]
  },
  {
   "cell_type": "code",
   "execution_count": 323,
   "metadata": {},
   "outputs": [
    {
     "data": {
      "text/plain": [
       "count       294.000000\n",
       "mean       4713.979592\n",
       "std       33957.223961\n",
       "min         346.000000\n",
       "25%         703.250000\n",
       "50%        1066.000000\n",
       "75%        1370.500000\n",
       "max      535186.000000\n",
       "Name: Duration (in seconds), dtype: float64"
      ]
     },
     "execution_count": 323,
     "metadata": {},
     "output_type": "execute_result"
    }
   ],
   "source": [
    "Dur.describe()"
   ]
  },
  {
   "cell_type": "code",
   "execution_count": 324,
   "metadata": {},
   "outputs": [
    {
     "data": {
      "image/png": "[encoded data removed]",
      "text/plain": [
       "<Figure size 432x288 with 1 Axes>"
      ]
     },
     "metadata": {},
     "output_type": "display_data"
    }
   ],
   "source": [
    "Dur.plot.box();"
   ]
  },
  {
   "cell_type": "markdown",
   "metadata": {},
   "source": [
    "Überblick über die Beantwortungszeit und Darstellung in einem Boxplot, um Outlyers zu erkennen -> sollen nicht mit berücksichtigt werden (z.B. TN, die an einem Tag begonnen und später beendet haben...)\n",
    "\n",
    "sinnvoll ist, eine Grenze bei ca. einer Stunde Beantwortungszeit (3600 sek) festzulegen"
   ]
  },
  {
   "cell_type": "code",
   "execution_count": 325,
   "metadata": {},
   "outputs": [
    {
     "data": {
      "image/png": "[encoded data removed]",
      "text/plain": [
       "<Figure size 432x288 with 1 Axes>"
      ]
     },
     "metadata": {},
     "output_type": "display_data"
    }
   ],
   "source": [
    "Dur[Dur < 4000].plot.box();"
   ]
  },
  {
   "cell_type": "code",
   "execution_count": 326,
   "metadata": {},
   "outputs": [
    {
     "data": {
      "text/plain": [
       "count     283.000000\n",
       "mean     1076.784452\n",
       "std       488.428468\n",
       "min       346.000000\n",
       "25%       695.000000\n",
       "50%      1049.000000\n",
       "75%      1344.000000\n",
       "max      3215.000000\n",
       "Name: Duration (in seconds), dtype: float64"
      ]
     },
     "execution_count": 326,
     "metadata": {},
     "output_type": "execute_result"
    }
   ],
   "source": [
    "Dur[Dur < 4000].describe()"
   ]
  },
  {
   "cell_type": "code",
   "execution_count": 327,
   "metadata": {},
   "outputs": [
    {
     "data": {
      "text/plain": [
       "17.94640753828033"
      ]
     },
     "execution_count": 327,
     "metadata": {},
     "output_type": "execute_result"
    }
   ],
   "source": [
    "(Dur[Dur < 4000].mean())/60"
   ]
  },
  {
   "cell_type": "markdown",
   "metadata": {},
   "source": [
    "Schlussfolgerung:\n",
    "\n",
    "durchschnittliche Beantwortungszeit liegt bei ca. 18min, wobei berücksichtigt werden muss, dass TN außerhalb des Unterrichts Pausen einlegen konnten und dass z.T. bei der Beantwortung im Unterricht mehr Zeit für Erklärungen/Einloggen/Abwarten... verwendet wurde"
   ]
  },
  {
   "cell_type": "markdown",
   "metadata": {},
   "source": [
    "### Analyse der Strategiennutzung"
   ]
  },
  {
   "cell_type": "markdown",
   "metadata": {},
   "source": [
    "#### A-Q2 (7 Hauptbereiche)"
   ]
  },
  {
   "cell_type": "code",
   "execution_count": 328,
   "metadata": {},
   "outputs": [
    {
     "data": {
      "text/html": [
       "<div>\n",
       "<style scoped>\n",
       "    .dataframe tbody tr th:only-of-type {\n",
       "        vertical-align: middle;\n",
       "    }\n",
       "\n",
       "    .dataframe tbody tr th {\n",
       "        vertical-align: top;\n",
       "    }\n",
       "\n",
       "    .dataframe thead th {\n",
       "        text-align: right;\n",
       "    }\n",
       "</style>\n",
       "<table border=\"1\" class=\"dataframe\">\n",
       "  <thead>\n",
       "    <tr style=\"text-align: right;\">\n",
       "      <th></th>\n",
       "      <th>A-Q2_1</th>\n",
       "      <th>A-Q2_2</th>\n",
       "      <th>A-Q2_3</th>\n",
       "      <th>A-Q2_4</th>\n",
       "      <th>A-Q2_5</th>\n",
       "      <th>A-Q2_6</th>\n",
       "      <th>A-Q2_7</th>\n",
       "    </tr>\n",
       "  </thead>\n",
       "  <tbody>\n",
       "    <tr>\n",
       "      <th>count</th>\n",
       "      <td>303.000000</td>\n",
       "      <td>303.000000</td>\n",
       "      <td>303.000000</td>\n",
       "      <td>303.000000</td>\n",
       "      <td>303.000000</td>\n",
       "      <td>303.000000</td>\n",
       "      <td>303.000000</td>\n",
       "    </tr>\n",
       "    <tr>\n",
       "      <th>mean</th>\n",
       "      <td>2.557756</td>\n",
       "      <td>3.537954</td>\n",
       "      <td>3.792079</td>\n",
       "      <td>4.003300</td>\n",
       "      <td>3.402640</td>\n",
       "      <td>3.287129</td>\n",
       "      <td>4.333333</td>\n",
       "    </tr>\n",
       "    <tr>\n",
       "      <th>std</th>\n",
       "      <td>1.077677</td>\n",
       "      <td>0.878955</td>\n",
       "      <td>0.983138</td>\n",
       "      <td>1.014786</td>\n",
       "      <td>0.984781</td>\n",
       "      <td>1.156639</td>\n",
       "      <td>0.852214</td>\n",
       "    </tr>\n",
       "    <tr>\n",
       "      <th>min</th>\n",
       "      <td>1.000000</td>\n",
       "      <td>1.000000</td>\n",
       "      <td>1.000000</td>\n",
       "      <td>1.000000</td>\n",
       "      <td>1.000000</td>\n",
       "      <td>1.000000</td>\n",
       "      <td>1.000000</td>\n",
       "    </tr>\n",
       "    <tr>\n",
       "      <th>25%</th>\n",
       "      <td>2.000000</td>\n",
       "      <td>3.000000</td>\n",
       "      <td>3.000000</td>\n",
       "      <td>3.000000</td>\n",
       "      <td>3.000000</td>\n",
       "      <td>2.000000</td>\n",
       "      <td>4.000000</td>\n",
       "    </tr>\n",
       "    <tr>\n",
       "      <th>50%</th>\n",
       "      <td>3.000000</td>\n",
       "      <td>4.000000</td>\n",
       "      <td>4.000000</td>\n",
       "      <td>4.000000</td>\n",
       "      <td>3.000000</td>\n",
       "      <td>3.000000</td>\n",
       "      <td>5.000000</td>\n",
       "    </tr>\n",
       "    <tr>\n",
       "      <th>75%</th>\n",
       "      <td>3.000000</td>\n",
       "      <td>4.000000</td>\n",
       "      <td>4.500000</td>\n",
       "      <td>5.000000</td>\n",
       "      <td>4.000000</td>\n",
       "      <td>4.000000</td>\n",
       "      <td>5.000000</td>\n",
       "    </tr>\n",
       "    <tr>\n",
       "      <th>max</th>\n",
       "      <td>5.000000</td>\n",
       "      <td>5.000000</td>\n",
       "      <td>5.000000</td>\n",
       "      <td>5.000000</td>\n",
       "      <td>5.000000</td>\n",
       "      <td>5.000000</td>\n",
       "      <td>5.000000</td>\n",
       "    </tr>\n",
       "  </tbody>\n",
       "</table>\n",
       "</div>"
      ],
      "text/plain": [
       "           A-Q2_1      A-Q2_2      A-Q2_3      A-Q2_4      A-Q2_5      A-Q2_6  \\\n",
       "count  303.000000  303.000000  303.000000  303.000000  303.000000  303.000000   \n",
       "mean     2.557756    3.537954    3.792079    4.003300    3.402640    3.287129   \n",
       "std      1.077677    0.878955    0.983138    1.014786    0.984781    1.156639   \n",
       "min      1.000000    1.000000    1.000000    1.000000    1.000000    1.000000   \n",
       "25%      2.000000    3.000000    3.000000    3.000000    3.000000    2.000000   \n",
       "50%      3.000000    4.000000    4.000000    4.000000    3.000000    3.000000   \n",
       "75%      3.000000    4.000000    4.500000    5.000000    4.000000    4.000000   \n",
       "max      5.000000    5.000000    5.000000    5.000000    5.000000    5.000000   \n",
       "\n",
       "           A-Q2_7  \n",
       "count  303.000000  \n",
       "mean     4.333333  \n",
       "std      0.852214  \n",
       "min      1.000000  \n",
       "25%      4.000000  \n",
       "50%      5.000000  \n",
       "75%      5.000000  \n",
       "max      5.000000  "
      ]
     },
     "execution_count": 328,
     "metadata": {},
     "output_type": "execute_result"
    }
   ],
   "source": [
    "Daten[Liste_A_Q2].describe()"
   ]
  },
  {
   "cell_type": "code",
   "execution_count": 443,
   "metadata": {},
   "outputs": [
    {
     "data": {
      "image/png": "[encoded data removed]",
      "text/plain": [
       "<Figure size 1152x864 with 7 Axes>"
      ]
     },
     "metadata": {},
     "output_type": "display_data"
    }
   ],
   "source": [
    "graf_hist(Daten,Liste_A_Q2,16,12,3,4)"
   ]
  },
  {
   "cell_type": "markdown",
   "metadata": {},
   "source": [
    "1\n",
    "Descubro el significado o la función de palabras nuevas en alemán gracias a mi lengua materna.\n",
    "\n",
    "2\n",
    "Descubro el significado o la función de palabras nuevas en alemán con la ayuda de otras lenguas.\n",
    "\n",
    "3\n",
    "Utilizo mis conocimientos de alemán, p. ej. otras palabras conocidas, clases de palabras o la formación de palabras compuestas. \n",
    "\n",
    "4\n",
    "Utilizo información extraída del contexto, p. ej. la posición de una palabra en la frase o el formato del texto.\n",
    "\n",
    "5\n",
    "Pido ayuda a mi profesor/a.\n",
    "\n",
    "6\n",
    "Pido ayuda a mis compañeros/as de clase.\n",
    "\n",
    "7\n",
    "Consulto un diccionario u otra fuente (en papel o digital).\n"
   ]
  },
  {
   "cell_type": "code",
   "execution_count": 330,
   "metadata": {},
   "outputs": [
    {
     "data": {
      "text/plain": [
       "A-Q2_7    4.333333\n",
       "A-Q2_4    4.003300\n",
       "A-Q2_3    3.792079\n",
       "A-Q2_2    3.537954\n",
       "A-Q2_5    3.402640\n",
       "A-Q2_6    3.287129\n",
       "A-Q2_1    2.557756\n",
       "dtype: float64"
      ]
     },
     "execution_count": 330,
     "metadata": {},
     "output_type": "execute_result"
    }
   ],
   "source": [
    "Daten[Liste_A_Q2].mean().sort_values(ascending = False)"
   ]
  },
  {
   "cell_type": "markdown",
   "metadata": {},
   "source": [
    "Korrelation in A-Q2:"
   ]
  },
  {
   "cell_type": "code",
   "execution_count": 331,
   "metadata": {},
   "outputs": [
    {
     "data": {
      "text/html": [
       "<div>\n",
       "<style scoped>\n",
       "    .dataframe tbody tr th:only-of-type {\n",
       "        vertical-align: middle;\n",
       "    }\n",
       "\n",
       "    .dataframe tbody tr th {\n",
       "        vertical-align: top;\n",
       "    }\n",
       "\n",
       "    .dataframe thead th {\n",
       "        text-align: right;\n",
       "    }\n",
       "</style>\n",
       "<table border=\"1\" class=\"dataframe\">\n",
       "  <thead>\n",
       "    <tr style=\"text-align: right;\">\n",
       "      <th></th>\n",
       "      <th>A-Q2_1</th>\n",
       "      <th>A-Q2_2</th>\n",
       "      <th>A-Q2_3</th>\n",
       "      <th>A-Q2_4</th>\n",
       "      <th>A-Q2_5</th>\n",
       "      <th>A-Q2_6</th>\n",
       "      <th>A-Q2_7</th>\n",
       "    </tr>\n",
       "  </thead>\n",
       "  <tbody>\n",
       "    <tr>\n",
       "      <th>A-Q2_1</th>\n",
       "      <td>1.000000</td>\n",
       "      <td>0.297884</td>\n",
       "      <td>0.012845</td>\n",
       "      <td>0.021539</td>\n",
       "      <td>-0.003129</td>\n",
       "      <td>-0.062050</td>\n",
       "      <td>-0.140620</td>\n",
       "    </tr>\n",
       "    <tr>\n",
       "      <th>A-Q2_2</th>\n",
       "      <td>0.297884</td>\n",
       "      <td>1.000000</td>\n",
       "      <td>0.239564</td>\n",
       "      <td>0.178163</td>\n",
       "      <td>-0.039325</td>\n",
       "      <td>-0.147182</td>\n",
       "      <td>-0.228691</td>\n",
       "    </tr>\n",
       "    <tr>\n",
       "      <th>A-Q2_3</th>\n",
       "      <td>0.012845</td>\n",
       "      <td>0.239564</td>\n",
       "      <td>1.000000</td>\n",
       "      <td>0.507829</td>\n",
       "      <td>-0.055782</td>\n",
       "      <td>-0.168743</td>\n",
       "      <td>0.116542</td>\n",
       "    </tr>\n",
       "    <tr>\n",
       "      <th>A-Q2_4</th>\n",
       "      <td>0.021539</td>\n",
       "      <td>0.178163</td>\n",
       "      <td>0.507829</td>\n",
       "      <td>1.000000</td>\n",
       "      <td>-0.082848</td>\n",
       "      <td>-0.179259</td>\n",
       "      <td>0.049256</td>\n",
       "    </tr>\n",
       "    <tr>\n",
       "      <th>A-Q2_5</th>\n",
       "      <td>-0.003129</td>\n",
       "      <td>-0.039325</td>\n",
       "      <td>-0.055782</td>\n",
       "      <td>-0.082848</td>\n",
       "      <td>1.000000</td>\n",
       "      <td>0.492029</td>\n",
       "      <td>0.103701</td>\n",
       "    </tr>\n",
       "    <tr>\n",
       "      <th>A-Q2_6</th>\n",
       "      <td>-0.062050</td>\n",
       "      <td>-0.147182</td>\n",
       "      <td>-0.168743</td>\n",
       "      <td>-0.179259</td>\n",
       "      <td>0.492029</td>\n",
       "      <td>1.000000</td>\n",
       "      <td>0.118956</td>\n",
       "    </tr>\n",
       "    <tr>\n",
       "      <th>A-Q2_7</th>\n",
       "      <td>-0.140620</td>\n",
       "      <td>-0.228691</td>\n",
       "      <td>0.116542</td>\n",
       "      <td>0.049256</td>\n",
       "      <td>0.103701</td>\n",
       "      <td>0.118956</td>\n",
       "      <td>1.000000</td>\n",
       "    </tr>\n",
       "  </tbody>\n",
       "</table>\n",
       "</div>"
      ],
      "text/plain": [
       "          A-Q2_1    A-Q2_2    A-Q2_3    A-Q2_4    A-Q2_5    A-Q2_6    A-Q2_7\n",
       "A-Q2_1  1.000000  0.297884  0.012845  0.021539 -0.003129 -0.062050 -0.140620\n",
       "A-Q2_2  0.297884  1.000000  0.239564  0.178163 -0.039325 -0.147182 -0.228691\n",
       "A-Q2_3  0.012845  0.239564  1.000000  0.507829 -0.055782 -0.168743  0.116542\n",
       "A-Q2_4  0.021539  0.178163  0.507829  1.000000 -0.082848 -0.179259  0.049256\n",
       "A-Q2_5 -0.003129 -0.039325 -0.055782 -0.082848  1.000000  0.492029  0.103701\n",
       "A-Q2_6 -0.062050 -0.147182 -0.168743 -0.179259  0.492029  1.000000  0.118956\n",
       "A-Q2_7 -0.140620 -0.228691  0.116542  0.049256  0.103701  0.118956  1.000000"
      ]
     },
     "execution_count": 331,
     "metadata": {},
     "output_type": "execute_result"
    }
   ],
   "source": [
    "Korr_A_Q2 = Daten[Liste_A_Q2].corr(method = 'spearman')\n",
    "Korr_A_Q2"
   ]
  },
  {
   "cell_type": "code",
   "execution_count": 332,
   "metadata": {},
   "outputs": [
    {
     "data": {
      "text/plain": [
       "Series([], Name: A-Q2_1, dtype: float64)"
      ]
     },
     "execution_count": 332,
     "metadata": {},
     "output_type": "execute_result"
    }
   ],
   "source": [
    "get_max_corr(Korr_A_Q2,'A-Q2_1', lim = 0.4)"
   ]
  },
  {
   "cell_type": "code",
   "execution_count": 333,
   "metadata": {},
   "outputs": [
    {
     "name": "stdout",
     "output_type": "stream",
     "text": [
      "Series([], Name: A-Q2_1, dtype: float64)\n",
      "Series([], Name: A-Q2_2, dtype: float64)\n",
      "A-Q2_4    0.507829\n",
      "Name: A-Q2_3, dtype: float64\n",
      "A-Q2_3    0.507829\n",
      "Name: A-Q2_4, dtype: float64\n",
      "A-Q2_6    0.492029\n",
      "Name: A-Q2_5, dtype: float64\n",
      "A-Q2_5    0.492029\n",
      "Name: A-Q2_6, dtype: float64\n",
      "Series([], Name: A-Q2_7, dtype: float64)\n"
     ]
    }
   ],
   "source": [
    "for col in Liste_A_Q2:\n",
    "    print(get_max_corr(Korr_A_Q2,col,0.4))"
   ]
  },
  {
   "cell_type": "markdown",
   "metadata": {},
   "source": [
    "#### A-Q3 (31 Einzelstrategien)"
   ]
  },
  {
   "cell_type": "code",
   "execution_count": 334,
   "metadata": {},
   "outputs": [
    {
     "data": {
      "text/html": [
       "<div>\n",
       "<style scoped>\n",
       "    .dataframe tbody tr th:only-of-type {\n",
       "        vertical-align: middle;\n",
       "    }\n",
       "\n",
       "    .dataframe tbody tr th {\n",
       "        vertical-align: top;\n",
       "    }\n",
       "\n",
       "    .dataframe thead th {\n",
       "        text-align: right;\n",
       "    }\n",
       "</style>\n",
       "<table border=\"1\" class=\"dataframe\">\n",
       "  <thead>\n",
       "    <tr style=\"text-align: right;\">\n",
       "      <th></th>\n",
       "      <th>A-Q3_1</th>\n",
       "      <th>A-Q3_2</th>\n",
       "      <th>A-Q3_3</th>\n",
       "      <th>A-Q3_4</th>\n",
       "      <th>A-Q3_5</th>\n",
       "      <th>A-Q3_6</th>\n",
       "      <th>A-Q3_7</th>\n",
       "      <th>A-Q3_8</th>\n",
       "      <th>A-Q3_9</th>\n",
       "      <th>A-Q3_28</th>\n",
       "      <th>...</th>\n",
       "      <th>A-Q3_20</th>\n",
       "      <th>A-Q3_21</th>\n",
       "      <th>A-Q3_22</th>\n",
       "      <th>A-Q3_23</th>\n",
       "      <th>A-Q3_24</th>\n",
       "      <th>A-Q3_25</th>\n",
       "      <th>A-Q3_30</th>\n",
       "      <th>A-Q3_31</th>\n",
       "      <th>A-Q3_26</th>\n",
       "      <th>A-Q3_27</th>\n",
       "    </tr>\n",
       "  </thead>\n",
       "  <tbody>\n",
       "    <tr>\n",
       "      <th>count</th>\n",
       "      <td>300.000000</td>\n",
       "      <td>300.000000</td>\n",
       "      <td>300.000000</td>\n",
       "      <td>300.000000</td>\n",
       "      <td>300.000000</td>\n",
       "      <td>300.000000</td>\n",
       "      <td>300.000000</td>\n",
       "      <td>300.000000</td>\n",
       "      <td>300.000000</td>\n",
       "      <td>300.000000</td>\n",
       "      <td>...</td>\n",
       "      <td>300.000000</td>\n",
       "      <td>300.000000</td>\n",
       "      <td>300.000000</td>\n",
       "      <td>300.000000</td>\n",
       "      <td>300.000000</td>\n",
       "      <td>300.000000</td>\n",
       "      <td>300.000000</td>\n",
       "      <td>300.000000</td>\n",
       "      <td>300.000000</td>\n",
       "      <td>300.000000</td>\n",
       "    </tr>\n",
       "    <tr>\n",
       "      <th>mean</th>\n",
       "      <td>3.073333</td>\n",
       "      <td>3.953333</td>\n",
       "      <td>2.983333</td>\n",
       "      <td>2.866667</td>\n",
       "      <td>2.500000</td>\n",
       "      <td>3.743333</td>\n",
       "      <td>3.516667</td>\n",
       "      <td>3.580000</td>\n",
       "      <td>3.870000</td>\n",
       "      <td>3.736667</td>\n",
       "      <td>...</td>\n",
       "      <td>4.216667</td>\n",
       "      <td>2.696667</td>\n",
       "      <td>3.770000</td>\n",
       "      <td>3.580000</td>\n",
       "      <td>3.266667</td>\n",
       "      <td>3.643333</td>\n",
       "      <td>3.913333</td>\n",
       "      <td>3.510000</td>\n",
       "      <td>3.543333</td>\n",
       "      <td>3.443333</td>\n",
       "    </tr>\n",
       "    <tr>\n",
       "      <th>std</th>\n",
       "      <td>1.213617</td>\n",
       "      <td>0.938487</td>\n",
       "      <td>1.291750</td>\n",
       "      <td>1.202932</td>\n",
       "      <td>1.230874</td>\n",
       "      <td>1.099158</td>\n",
       "      <td>1.146343</td>\n",
       "      <td>1.163951</td>\n",
       "      <td>1.078724</td>\n",
       "      <td>1.060379</td>\n",
       "      <td>...</td>\n",
       "      <td>0.897631</td>\n",
       "      <td>1.195584</td>\n",
       "      <td>1.089828</td>\n",
       "      <td>1.083596</td>\n",
       "      <td>1.119404</td>\n",
       "      <td>1.276016</td>\n",
       "      <td>0.994545</td>\n",
       "      <td>1.110862</td>\n",
       "      <td>1.094890</td>\n",
       "      <td>1.202056</td>\n",
       "    </tr>\n",
       "    <tr>\n",
       "      <th>min</th>\n",
       "      <td>1.000000</td>\n",
       "      <td>1.000000</td>\n",
       "      <td>1.000000</td>\n",
       "      <td>1.000000</td>\n",
       "      <td>1.000000</td>\n",
       "      <td>1.000000</td>\n",
       "      <td>1.000000</td>\n",
       "      <td>1.000000</td>\n",
       "      <td>1.000000</td>\n",
       "      <td>1.000000</td>\n",
       "      <td>...</td>\n",
       "      <td>1.000000</td>\n",
       "      <td>1.000000</td>\n",
       "      <td>1.000000</td>\n",
       "      <td>1.000000</td>\n",
       "      <td>1.000000</td>\n",
       "      <td>1.000000</td>\n",
       "      <td>1.000000</td>\n",
       "      <td>1.000000</td>\n",
       "      <td>1.000000</td>\n",
       "      <td>1.000000</td>\n",
       "    </tr>\n",
       "    <tr>\n",
       "      <th>25%</th>\n",
       "      <td>2.000000</td>\n",
       "      <td>3.000000</td>\n",
       "      <td>2.000000</td>\n",
       "      <td>2.000000</td>\n",
       "      <td>1.000000</td>\n",
       "      <td>3.000000</td>\n",
       "      <td>3.000000</td>\n",
       "      <td>3.000000</td>\n",
       "      <td>3.000000</td>\n",
       "      <td>3.000000</td>\n",
       "      <td>...</td>\n",
       "      <td>4.000000</td>\n",
       "      <td>2.000000</td>\n",
       "      <td>3.000000</td>\n",
       "      <td>3.000000</td>\n",
       "      <td>2.000000</td>\n",
       "      <td>3.000000</td>\n",
       "      <td>3.000000</td>\n",
       "      <td>3.000000</td>\n",
       "      <td>3.000000</td>\n",
       "      <td>3.000000</td>\n",
       "    </tr>\n",
       "    <tr>\n",
       "      <th>50%</th>\n",
       "      <td>3.000000</td>\n",
       "      <td>4.000000</td>\n",
       "      <td>3.000000</td>\n",
       "      <td>3.000000</td>\n",
       "      <td>2.000000</td>\n",
       "      <td>4.000000</td>\n",
       "      <td>4.000000</td>\n",
       "      <td>4.000000</td>\n",
       "      <td>4.000000</td>\n",
       "      <td>4.000000</td>\n",
       "      <td>...</td>\n",
       "      <td>4.000000</td>\n",
       "      <td>3.000000</td>\n",
       "      <td>4.000000</td>\n",
       "      <td>4.000000</td>\n",
       "      <td>3.000000</td>\n",
       "      <td>4.000000</td>\n",
       "      <td>4.000000</td>\n",
       "      <td>4.000000</td>\n",
       "      <td>4.000000</td>\n",
       "      <td>3.500000</td>\n",
       "    </tr>\n",
       "    <tr>\n",
       "      <th>75%</th>\n",
       "      <td>4.000000</td>\n",
       "      <td>5.000000</td>\n",
       "      <td>4.000000</td>\n",
       "      <td>4.000000</td>\n",
       "      <td>3.250000</td>\n",
       "      <td>5.000000</td>\n",
       "      <td>4.000000</td>\n",
       "      <td>4.000000</td>\n",
       "      <td>5.000000</td>\n",
       "      <td>5.000000</td>\n",
       "      <td>...</td>\n",
       "      <td>5.000000</td>\n",
       "      <td>3.000000</td>\n",
       "      <td>5.000000</td>\n",
       "      <td>4.000000</td>\n",
       "      <td>4.000000</td>\n",
       "      <td>5.000000</td>\n",
       "      <td>5.000000</td>\n",
       "      <td>4.000000</td>\n",
       "      <td>4.000000</td>\n",
       "      <td>4.000000</td>\n",
       "    </tr>\n",
       "    <tr>\n",
       "      <th>max</th>\n",
       "      <td>5.000000</td>\n",
       "      <td>5.000000</td>\n",
       "      <td>5.000000</td>\n",
       "      <td>5.000000</td>\n",
       "      <td>5.000000</td>\n",
       "      <td>5.000000</td>\n",
       "      <td>5.000000</td>\n",
       "      <td>5.000000</td>\n",
       "      <td>5.000000</td>\n",
       "      <td>5.000000</td>\n",
       "      <td>...</td>\n",
       "      <td>5.000000</td>\n",
       "      <td>5.000000</td>\n",
       "      <td>5.000000</td>\n",
       "      <td>5.000000</td>\n",
       "      <td>5.000000</td>\n",
       "      <td>5.000000</td>\n",
       "      <td>5.000000</td>\n",
       "      <td>5.000000</td>\n",
       "      <td>5.000000</td>\n",
       "      <td>5.000000</td>\n",
       "    </tr>\n",
       "  </tbody>\n",
       "</table>\n",
       "<p>8 rows × 31 columns</p>\n",
       "</div>"
      ],
      "text/plain": [
       "           A-Q3_1      A-Q3_2      A-Q3_3      A-Q3_4      A-Q3_5      A-Q3_6  \\\n",
       "count  300.000000  300.000000  300.000000  300.000000  300.000000  300.000000   \n",
       "mean     3.073333    3.953333    2.983333    2.866667    2.500000    3.743333   \n",
       "std      1.213617    0.938487    1.291750    1.202932    1.230874    1.099158   \n",
       "min      1.000000    1.000000    1.000000    1.000000    1.000000    1.000000   \n",
       "25%      2.000000    3.000000    2.000000    2.000000    1.000000    3.000000   \n",
       "50%      3.000000    4.000000    3.000000    3.000000    2.000000    4.000000   \n",
       "75%      4.000000    5.000000    4.000000    4.000000    3.250000    5.000000   \n",
       "max      5.000000    5.000000    5.000000    5.000000    5.000000    5.000000   \n",
       "\n",
       "           A-Q3_7      A-Q3_8      A-Q3_9     A-Q3_28     ...         A-Q3_20  \\\n",
       "count  300.000000  300.000000  300.000000  300.000000     ...      300.000000   \n",
       "mean     3.516667    3.580000    3.870000    3.736667     ...        4.216667   \n",
       "std      1.146343    1.163951    1.078724    1.060379     ...        0.897631   \n",
       "min      1.000000    1.000000    1.000000    1.000000     ...        1.000000   \n",
       "25%      3.000000    3.000000    3.000000    3.000000     ...        4.000000   \n",
       "50%      4.000000    4.000000    4.000000    4.000000     ...        4.000000   \n",
       "75%      4.000000    4.000000    5.000000    5.000000     ...        5.000000   \n",
       "max      5.000000    5.000000    5.000000    5.000000     ...        5.000000   \n",
       "\n",
       "          A-Q3_21     A-Q3_22     A-Q3_23     A-Q3_24     A-Q3_25     A-Q3_30  \\\n",
       "count  300.000000  300.000000  300.000000  300.000000  300.000000  300.000000   \n",
       "mean     2.696667    3.770000    3.580000    3.266667    3.643333    3.913333   \n",
       "std      1.195584    1.089828    1.083596    1.119404    1.276016    0.994545   \n",
       "min      1.000000    1.000000    1.000000    1.000000    1.000000    1.000000   \n",
       "25%      2.000000    3.000000    3.000000    2.000000    3.000000    3.000000   \n",
       "50%      3.000000    4.000000    4.000000    3.000000    4.000000    4.000000   \n",
       "75%      3.000000    5.000000    4.000000    4.000000    5.000000    5.000000   \n",
       "max      5.000000    5.000000    5.000000    5.000000    5.000000    5.000000   \n",
       "\n",
       "          A-Q3_31     A-Q3_26     A-Q3_27  \n",
       "count  300.000000  300.000000  300.000000  \n",
       "mean     3.510000    3.543333    3.443333  \n",
       "std      1.110862    1.094890    1.202056  \n",
       "min      1.000000    1.000000    1.000000  \n",
       "25%      3.000000    3.000000    3.000000  \n",
       "50%      4.000000    4.000000    3.500000  \n",
       "75%      4.000000    4.000000    4.000000  \n",
       "max      5.000000    5.000000    5.000000  \n",
       "\n",
       "[8 rows x 31 columns]"
      ]
     },
     "execution_count": 334,
     "metadata": {},
     "output_type": "execute_result"
    }
   ],
   "source": [
    "Daten_A3[Liste_A_Q3].describe()"
   ]
  },
  {
   "cell_type": "code",
   "execution_count": 335,
   "metadata": {},
   "outputs": [
    {
     "data": {
      "image/png": "[encoded data removed]",
      "text/plain": [
       "<Figure size 1152x2160 with 31 Axes>"
      ]
     },
     "metadata": {},
     "output_type": "display_data"
    }
   ],
   "source": [
    "graf_hist(Daten_A3,Liste_A_Q3,16,30,9,4)"
   ]
  },
  {
   "cell_type": "code",
   "execution_count": 336,
   "metadata": {},
   "outputs": [
    {
     "data": {
      "text/plain": [
       "A-Q3_20    4.216667\n",
       "A-Q3_2     3.953333\n",
       "A-Q3_30    3.913333\n",
       "A-Q3_9     3.870000\n",
       "A-Q3_15    3.780000\n",
       "A-Q3_22    3.770000\n",
       "A-Q3_6     3.743333\n",
       "A-Q3_28    3.736667\n",
       "A-Q3_29    3.720000\n",
       "A-Q3_25    3.643333\n",
       "A-Q3_18    3.613333\n",
       "A-Q3_23    3.580000\n",
       "A-Q3_8     3.580000\n",
       "A-Q3_26    3.543333\n",
       "A-Q3_7     3.516667\n",
       "A-Q3_14    3.516667\n",
       "A-Q3_31    3.510000\n",
       "A-Q3_27    3.443333\n",
       "A-Q3_19    3.403333\n",
       "A-Q3_16    3.266667\n",
       "A-Q3_24    3.266667\n",
       "A-Q3_10    3.116667\n",
       "A-Q3_1     3.073333\n",
       "A-Q3_11    3.023333\n",
       "A-Q3_3     2.983333\n",
       "A-Q3_12    2.903333\n",
       "A-Q3_17    2.876667\n",
       "A-Q3_4     2.866667\n",
       "A-Q3_13    2.776667\n",
       "A-Q3_21    2.696667\n",
       "A-Q3_5     2.500000\n",
       "dtype: float64"
      ]
     },
     "execution_count": 336,
     "metadata": {},
     "output_type": "execute_result"
    }
   ],
   "source": [
    "Daten_A3[Liste_A_Q3].mean().sort_values(ascending = False)"
   ]
  },
  {
   "cell_type": "code",
   "execution_count": 337,
   "metadata": {},
   "outputs": [
    {
     "data": {
      "text/plain": [
       "(47, 'A-Q3 - Utilizo el sentido común y mis conocimientos generales.')"
      ]
     },
     "execution_count": 337,
     "metadata": {},
     "output_type": "execute_result"
    }
   ],
   "source": [
    "get_name_glossind('A-Q3_20')"
   ]
  },
  {
   "cell_type": "code",
   "execution_count": 338,
   "metadata": {},
   "outputs": [
    {
     "data": {
      "text/plain": [
       "A-Q3_20    0.897631\n",
       "A-Q3_2     0.938487\n",
       "A-Q3_18    0.986780\n",
       "A-Q3_30    0.994545\n",
       "A-Q3_15    1.007464\n",
       "A-Q3_29    1.054501\n",
       "A-Q3_28    1.060379\n",
       "A-Q3_9     1.078724\n",
       "A-Q3_23    1.083596\n",
       "A-Q3_22    1.089828\n",
       "A-Q3_26    1.094890\n",
       "A-Q3_6     1.099158\n",
       "A-Q3_16    1.107389\n",
       "A-Q3_31    1.110862\n",
       "A-Q3_24    1.119404\n",
       "A-Q3_12    1.124665\n",
       "A-Q3_19    1.142368\n",
       "A-Q3_7     1.146343\n",
       "A-Q3_17    1.148558\n",
       "A-Q3_14    1.157954\n",
       "A-Q3_8     1.163951\n",
       "A-Q3_10    1.177999\n",
       "A-Q3_21    1.195584\n",
       "A-Q3_27    1.202056\n",
       "A-Q3_4     1.202932\n",
       "A-Q3_11    1.203168\n",
       "A-Q3_13    1.204835\n",
       "A-Q3_1     1.213617\n",
       "A-Q3_5     1.230874\n",
       "A-Q3_25    1.276016\n",
       "A-Q3_3     1.291750\n",
       "dtype: float64"
      ]
     },
     "execution_count": 338,
     "metadata": {},
     "output_type": "execute_result"
    }
   ],
   "source": [
    "Daten_A3[Liste_A_Q3].std().sort_values()"
   ]
  },
  {
   "cell_type": "markdown",
   "metadata": {},
   "source": [
    "Korrelation in A-Q3:"
   ]
  },
  {
   "cell_type": "code",
   "execution_count": 339,
   "metadata": {},
   "outputs": [
    {
     "data": {
      "text/html": [
       "<div>\n",
       "<style scoped>\n",
       "    .dataframe tbody tr th:only-of-type {\n",
       "        vertical-align: middle;\n",
       "    }\n",
       "\n",
       "    .dataframe tbody tr th {\n",
       "        vertical-align: top;\n",
       "    }\n",
       "\n",
       "    .dataframe thead th {\n",
       "        text-align: right;\n",
       "    }\n",
       "</style>\n",
       "<table border=\"1\" class=\"dataframe\">\n",
       "  <thead>\n",
       "    <tr style=\"text-align: right;\">\n",
       "      <th></th>\n",
       "      <th>A-Q3_1</th>\n",
       "      <th>A-Q3_2</th>\n",
       "      <th>A-Q3_3</th>\n",
       "      <th>A-Q3_4</th>\n",
       "      <th>A-Q3_5</th>\n",
       "      <th>A-Q3_6</th>\n",
       "      <th>A-Q3_7</th>\n",
       "      <th>A-Q3_8</th>\n",
       "      <th>A-Q3_9</th>\n",
       "      <th>A-Q3_28</th>\n",
       "      <th>...</th>\n",
       "      <th>A-Q3_20</th>\n",
       "      <th>A-Q3_21</th>\n",
       "      <th>A-Q3_22</th>\n",
       "      <th>A-Q3_23</th>\n",
       "      <th>A-Q3_24</th>\n",
       "      <th>A-Q3_25</th>\n",
       "      <th>A-Q3_30</th>\n",
       "      <th>A-Q3_31</th>\n",
       "      <th>A-Q3_26</th>\n",
       "      <th>A-Q3_27</th>\n",
       "    </tr>\n",
       "  </thead>\n",
       "  <tbody>\n",
       "    <tr>\n",
       "      <th>A-Q3_1</th>\n",
       "      <td>1.000000</td>\n",
       "      <td>0.357553</td>\n",
       "      <td>0.291868</td>\n",
       "      <td>0.172885</td>\n",
       "      <td>0.225569</td>\n",
       "      <td>0.023251</td>\n",
       "      <td>-0.016825</td>\n",
       "      <td>-0.000882</td>\n",
       "      <td>-0.017741</td>\n",
       "      <td>0.069743</td>\n",
       "      <td>...</td>\n",
       "      <td>0.142571</td>\n",
       "      <td>0.025817</td>\n",
       "      <td>0.045151</td>\n",
       "      <td>0.019735</td>\n",
       "      <td>0.041916</td>\n",
       "      <td>-0.021745</td>\n",
       "      <td>0.038881</td>\n",
       "      <td>0.086870</td>\n",
       "      <td>0.112402</td>\n",
       "      <td>0.024440</td>\n",
       "    </tr>\n",
       "    <tr>\n",
       "      <th>A-Q3_2</th>\n",
       "      <td>0.357553</td>\n",
       "      <td>1.000000</td>\n",
       "      <td>0.396476</td>\n",
       "      <td>0.288819</td>\n",
       "      <td>0.279599</td>\n",
       "      <td>0.178014</td>\n",
       "      <td>0.121506</td>\n",
       "      <td>0.070285</td>\n",
       "      <td>0.127024</td>\n",
       "      <td>0.174471</td>\n",
       "      <td>...</td>\n",
       "      <td>0.215636</td>\n",
       "      <td>-0.031629</td>\n",
       "      <td>0.103122</td>\n",
       "      <td>0.073171</td>\n",
       "      <td>0.160499</td>\n",
       "      <td>0.029154</td>\n",
       "      <td>0.183555</td>\n",
       "      <td>0.071202</td>\n",
       "      <td>0.212786</td>\n",
       "      <td>0.117747</td>\n",
       "    </tr>\n",
       "    <tr>\n",
       "      <th>A-Q3_3</th>\n",
       "      <td>0.291868</td>\n",
       "      <td>0.396476</td>\n",
       "      <td>1.000000</td>\n",
       "      <td>0.257619</td>\n",
       "      <td>0.247308</td>\n",
       "      <td>0.075639</td>\n",
       "      <td>0.039432</td>\n",
       "      <td>0.022347</td>\n",
       "      <td>0.042917</td>\n",
       "      <td>0.140144</td>\n",
       "      <td>...</td>\n",
       "      <td>0.123009</td>\n",
       "      <td>0.086699</td>\n",
       "      <td>0.111983</td>\n",
       "      <td>0.050676</td>\n",
       "      <td>0.186951</td>\n",
       "      <td>0.055161</td>\n",
       "      <td>0.061233</td>\n",
       "      <td>0.156535</td>\n",
       "      <td>0.170856</td>\n",
       "      <td>0.148300</td>\n",
       "    </tr>\n",
       "    <tr>\n",
       "      <th>A-Q3_4</th>\n",
       "      <td>0.172885</td>\n",
       "      <td>0.288819</td>\n",
       "      <td>0.257619</td>\n",
       "      <td>1.000000</td>\n",
       "      <td>0.298090</td>\n",
       "      <td>0.045292</td>\n",
       "      <td>0.036043</td>\n",
       "      <td>-0.036058</td>\n",
       "      <td>0.048596</td>\n",
       "      <td>0.095621</td>\n",
       "      <td>...</td>\n",
       "      <td>0.065620</td>\n",
       "      <td>0.176829</td>\n",
       "      <td>0.180900</td>\n",
       "      <td>0.128523</td>\n",
       "      <td>0.128895</td>\n",
       "      <td>0.095209</td>\n",
       "      <td>0.129381</td>\n",
       "      <td>0.081840</td>\n",
       "      <td>0.108601</td>\n",
       "      <td>0.183761</td>\n",
       "    </tr>\n",
       "    <tr>\n",
       "      <th>A-Q3_5</th>\n",
       "      <td>0.225569</td>\n",
       "      <td>0.279599</td>\n",
       "      <td>0.247308</td>\n",
       "      <td>0.298090</td>\n",
       "      <td>1.000000</td>\n",
       "      <td>0.275893</td>\n",
       "      <td>0.216315</td>\n",
       "      <td>0.174144</td>\n",
       "      <td>0.186116</td>\n",
       "      <td>0.151106</td>\n",
       "      <td>...</td>\n",
       "      <td>0.150077</td>\n",
       "      <td>0.229452</td>\n",
       "      <td>0.139250</td>\n",
       "      <td>0.173750</td>\n",
       "      <td>0.179840</td>\n",
       "      <td>0.124844</td>\n",
       "      <td>0.095624</td>\n",
       "      <td>0.177069</td>\n",
       "      <td>0.233599</td>\n",
       "      <td>0.221648</td>\n",
       "    </tr>\n",
       "    <tr>\n",
       "      <th>A-Q3_6</th>\n",
       "      <td>0.023251</td>\n",
       "      <td>0.178014</td>\n",
       "      <td>0.075639</td>\n",
       "      <td>0.045292</td>\n",
       "      <td>0.275893</td>\n",
       "      <td>1.000000</td>\n",
       "      <td>0.751294</td>\n",
       "      <td>0.652305</td>\n",
       "      <td>0.480994</td>\n",
       "      <td>0.259175</td>\n",
       "      <td>...</td>\n",
       "      <td>0.302094</td>\n",
       "      <td>0.108778</td>\n",
       "      <td>0.102785</td>\n",
       "      <td>0.157296</td>\n",
       "      <td>0.170142</td>\n",
       "      <td>0.074010</td>\n",
       "      <td>0.221181</td>\n",
       "      <td>0.063626</td>\n",
       "      <td>0.229312</td>\n",
       "      <td>0.207146</td>\n",
       "    </tr>\n",
       "    <tr>\n",
       "      <th>A-Q3_7</th>\n",
       "      <td>-0.016825</td>\n",
       "      <td>0.121506</td>\n",
       "      <td>0.039432</td>\n",
       "      <td>0.036043</td>\n",
       "      <td>0.216315</td>\n",
       "      <td>0.751294</td>\n",
       "      <td>1.000000</td>\n",
       "      <td>0.730273</td>\n",
       "      <td>0.479557</td>\n",
       "      <td>0.251117</td>\n",
       "      <td>...</td>\n",
       "      <td>0.322451</td>\n",
       "      <td>0.136351</td>\n",
       "      <td>0.117612</td>\n",
       "      <td>0.158131</td>\n",
       "      <td>0.160571</td>\n",
       "      <td>0.120226</td>\n",
       "      <td>0.235766</td>\n",
       "      <td>0.141976</td>\n",
       "      <td>0.251914</td>\n",
       "      <td>0.197192</td>\n",
       "    </tr>\n",
       "    <tr>\n",
       "      <th>A-Q3_8</th>\n",
       "      <td>-0.000882</td>\n",
       "      <td>0.070285</td>\n",
       "      <td>0.022347</td>\n",
       "      <td>-0.036058</td>\n",
       "      <td>0.174144</td>\n",
       "      <td>0.652305</td>\n",
       "      <td>0.730273</td>\n",
       "      <td>1.000000</td>\n",
       "      <td>0.596137</td>\n",
       "      <td>0.272614</td>\n",
       "      <td>...</td>\n",
       "      <td>0.331465</td>\n",
       "      <td>0.187987</td>\n",
       "      <td>0.136888</td>\n",
       "      <td>0.183288</td>\n",
       "      <td>0.213335</td>\n",
       "      <td>0.129416</td>\n",
       "      <td>0.238670</td>\n",
       "      <td>0.117627</td>\n",
       "      <td>0.219000</td>\n",
       "      <td>0.234366</td>\n",
       "    </tr>\n",
       "    <tr>\n",
       "      <th>A-Q3_9</th>\n",
       "      <td>-0.017741</td>\n",
       "      <td>0.127024</td>\n",
       "      <td>0.042917</td>\n",
       "      <td>0.048596</td>\n",
       "      <td>0.186116</td>\n",
       "      <td>0.480994</td>\n",
       "      <td>0.479557</td>\n",
       "      <td>0.596137</td>\n",
       "      <td>1.000000</td>\n",
       "      <td>0.316212</td>\n",
       "      <td>...</td>\n",
       "      <td>0.303081</td>\n",
       "      <td>0.159486</td>\n",
       "      <td>0.085078</td>\n",
       "      <td>0.186260</td>\n",
       "      <td>0.187388</td>\n",
       "      <td>0.101801</td>\n",
       "      <td>0.251411</td>\n",
       "      <td>0.177669</td>\n",
       "      <td>0.212490</td>\n",
       "      <td>0.271956</td>\n",
       "    </tr>\n",
       "    <tr>\n",
       "      <th>A-Q3_28</th>\n",
       "      <td>0.069743</td>\n",
       "      <td>0.174471</td>\n",
       "      <td>0.140144</td>\n",
       "      <td>0.095621</td>\n",
       "      <td>0.151106</td>\n",
       "      <td>0.259175</td>\n",
       "      <td>0.251117</td>\n",
       "      <td>0.272614</td>\n",
       "      <td>0.316212</td>\n",
       "      <td>1.000000</td>\n",
       "      <td>...</td>\n",
       "      <td>0.340431</td>\n",
       "      <td>0.032734</td>\n",
       "      <td>0.210102</td>\n",
       "      <td>0.240450</td>\n",
       "      <td>0.187554</td>\n",
       "      <td>0.066112</td>\n",
       "      <td>0.215293</td>\n",
       "      <td>0.284998</td>\n",
       "      <td>0.344093</td>\n",
       "      <td>0.182695</td>\n",
       "    </tr>\n",
       "    <tr>\n",
       "      <th>A-Q3_10</th>\n",
       "      <td>0.011131</td>\n",
       "      <td>-0.022463</td>\n",
       "      <td>-0.014502</td>\n",
       "      <td>0.027271</td>\n",
       "      <td>0.227114</td>\n",
       "      <td>0.405673</td>\n",
       "      <td>0.437948</td>\n",
       "      <td>0.484712</td>\n",
       "      <td>0.372998</td>\n",
       "      <td>0.288145</td>\n",
       "      <td>...</td>\n",
       "      <td>0.205286</td>\n",
       "      <td>0.214219</td>\n",
       "      <td>0.097457</td>\n",
       "      <td>0.191503</td>\n",
       "      <td>0.251678</td>\n",
       "      <td>0.184681</td>\n",
       "      <td>0.114110</td>\n",
       "      <td>0.200782</td>\n",
       "      <td>0.251943</td>\n",
       "      <td>0.213309</td>\n",
       "    </tr>\n",
       "    <tr>\n",
       "      <th>A-Q3_11</th>\n",
       "      <td>0.052000</td>\n",
       "      <td>-0.019871</td>\n",
       "      <td>0.076399</td>\n",
       "      <td>0.118554</td>\n",
       "      <td>0.252611</td>\n",
       "      <td>0.333251</td>\n",
       "      <td>0.362800</td>\n",
       "      <td>0.400224</td>\n",
       "      <td>0.271128</td>\n",
       "      <td>0.262875</td>\n",
       "      <td>...</td>\n",
       "      <td>0.186302</td>\n",
       "      <td>0.308534</td>\n",
       "      <td>0.105976</td>\n",
       "      <td>0.264973</td>\n",
       "      <td>0.334370</td>\n",
       "      <td>0.197017</td>\n",
       "      <td>0.077846</td>\n",
       "      <td>0.220169</td>\n",
       "      <td>0.248214</td>\n",
       "      <td>0.265273</td>\n",
       "    </tr>\n",
       "    <tr>\n",
       "      <th>A-Q3_12</th>\n",
       "      <td>0.043339</td>\n",
       "      <td>0.037823</td>\n",
       "      <td>0.074919</td>\n",
       "      <td>0.074325</td>\n",
       "      <td>0.273430</td>\n",
       "      <td>0.366460</td>\n",
       "      <td>0.380345</td>\n",
       "      <td>0.349139</td>\n",
       "      <td>0.310003</td>\n",
       "      <td>0.291458</td>\n",
       "      <td>...</td>\n",
       "      <td>0.235394</td>\n",
       "      <td>0.243050</td>\n",
       "      <td>0.129904</td>\n",
       "      <td>0.264963</td>\n",
       "      <td>0.282575</td>\n",
       "      <td>0.106129</td>\n",
       "      <td>0.121748</td>\n",
       "      <td>0.195230</td>\n",
       "      <td>0.230873</td>\n",
       "      <td>0.287239</td>\n",
       "    </tr>\n",
       "    <tr>\n",
       "      <th>A-Q3_13</th>\n",
       "      <td>0.085974</td>\n",
       "      <td>-0.050854</td>\n",
       "      <td>0.068492</td>\n",
       "      <td>0.061644</td>\n",
       "      <td>0.252312</td>\n",
       "      <td>0.272450</td>\n",
       "      <td>0.260384</td>\n",
       "      <td>0.293921</td>\n",
       "      <td>0.219349</td>\n",
       "      <td>0.184140</td>\n",
       "      <td>...</td>\n",
       "      <td>0.117097</td>\n",
       "      <td>0.349015</td>\n",
       "      <td>0.186100</td>\n",
       "      <td>0.258009</td>\n",
       "      <td>0.337678</td>\n",
       "      <td>0.139082</td>\n",
       "      <td>0.041190</td>\n",
       "      <td>0.162554</td>\n",
       "      <td>0.143292</td>\n",
       "      <td>0.155541</td>\n",
       "    </tr>\n",
       "    <tr>\n",
       "      <th>A-Q3_29</th>\n",
       "      <td>-0.002416</td>\n",
       "      <td>0.125868</td>\n",
       "      <td>0.072420</td>\n",
       "      <td>0.050932</td>\n",
       "      <td>0.169597</td>\n",
       "      <td>0.251471</td>\n",
       "      <td>0.273029</td>\n",
       "      <td>0.268398</td>\n",
       "      <td>0.307432</td>\n",
       "      <td>0.459313</td>\n",
       "      <td>...</td>\n",
       "      <td>0.394948</td>\n",
       "      <td>0.164133</td>\n",
       "      <td>0.184932</td>\n",
       "      <td>0.198077</td>\n",
       "      <td>0.327585</td>\n",
       "      <td>0.147738</td>\n",
       "      <td>0.225105</td>\n",
       "      <td>0.315574</td>\n",
       "      <td>0.391014</td>\n",
       "      <td>0.237115</td>\n",
       "    </tr>\n",
       "    <tr>\n",
       "      <th>A-Q3_14</th>\n",
       "      <td>-0.051780</td>\n",
       "      <td>0.088172</td>\n",
       "      <td>0.121674</td>\n",
       "      <td>0.076560</td>\n",
       "      <td>0.206721</td>\n",
       "      <td>0.381546</td>\n",
       "      <td>0.381655</td>\n",
       "      <td>0.395839</td>\n",
       "      <td>0.351270</td>\n",
       "      <td>0.219417</td>\n",
       "      <td>...</td>\n",
       "      <td>0.324293</td>\n",
       "      <td>0.241050</td>\n",
       "      <td>0.274160</td>\n",
       "      <td>0.300998</td>\n",
       "      <td>0.349911</td>\n",
       "      <td>0.177851</td>\n",
       "      <td>0.255115</td>\n",
       "      <td>0.297271</td>\n",
       "      <td>0.336313</td>\n",
       "      <td>0.242807</td>\n",
       "    </tr>\n",
       "    <tr>\n",
       "      <th>A-Q3_15</th>\n",
       "      <td>-0.076610</td>\n",
       "      <td>0.128841</td>\n",
       "      <td>0.035413</td>\n",
       "      <td>0.022524</td>\n",
       "      <td>0.179902</td>\n",
       "      <td>0.352650</td>\n",
       "      <td>0.407886</td>\n",
       "      <td>0.375837</td>\n",
       "      <td>0.408177</td>\n",
       "      <td>0.297254</td>\n",
       "      <td>...</td>\n",
       "      <td>0.346334</td>\n",
       "      <td>0.207836</td>\n",
       "      <td>0.265604</td>\n",
       "      <td>0.291410</td>\n",
       "      <td>0.292840</td>\n",
       "      <td>0.114855</td>\n",
       "      <td>0.255629</td>\n",
       "      <td>0.236517</td>\n",
       "      <td>0.311360</td>\n",
       "      <td>0.313550</td>\n",
       "    </tr>\n",
       "    <tr>\n",
       "      <th>A-Q3_16</th>\n",
       "      <td>-0.084487</td>\n",
       "      <td>0.026212</td>\n",
       "      <td>0.034317</td>\n",
       "      <td>0.066419</td>\n",
       "      <td>0.168262</td>\n",
       "      <td>0.227434</td>\n",
       "      <td>0.283414</td>\n",
       "      <td>0.302090</td>\n",
       "      <td>0.227876</td>\n",
       "      <td>0.205642</td>\n",
       "      <td>...</td>\n",
       "      <td>0.283142</td>\n",
       "      <td>0.298233</td>\n",
       "      <td>0.252172</td>\n",
       "      <td>0.323705</td>\n",
       "      <td>0.388271</td>\n",
       "      <td>0.215665</td>\n",
       "      <td>0.212137</td>\n",
       "      <td>0.272603</td>\n",
       "      <td>0.324183</td>\n",
       "      <td>0.350992</td>\n",
       "    </tr>\n",
       "    <tr>\n",
       "      <th>A-Q3_17</th>\n",
       "      <td>0.128162</td>\n",
       "      <td>0.076597</td>\n",
       "      <td>0.157309</td>\n",
       "      <td>0.108416</td>\n",
       "      <td>0.245939</td>\n",
       "      <td>0.201838</td>\n",
       "      <td>0.212745</td>\n",
       "      <td>0.218833</td>\n",
       "      <td>0.146533</td>\n",
       "      <td>0.161352</td>\n",
       "      <td>...</td>\n",
       "      <td>0.238825</td>\n",
       "      <td>0.404741</td>\n",
       "      <td>0.306537</td>\n",
       "      <td>0.313136</td>\n",
       "      <td>0.379827</td>\n",
       "      <td>0.192993</td>\n",
       "      <td>0.097485</td>\n",
       "      <td>0.176913</td>\n",
       "      <td>0.276335</td>\n",
       "      <td>0.256335</td>\n",
       "    </tr>\n",
       "    <tr>\n",
       "      <th>A-Q3_18</th>\n",
       "      <td>0.083762</td>\n",
       "      <td>0.145938</td>\n",
       "      <td>0.181299</td>\n",
       "      <td>0.000869</td>\n",
       "      <td>0.135486</td>\n",
       "      <td>0.321734</td>\n",
       "      <td>0.293222</td>\n",
       "      <td>0.280516</td>\n",
       "      <td>0.236937</td>\n",
       "      <td>0.294669</td>\n",
       "      <td>...</td>\n",
       "      <td>0.450613</td>\n",
       "      <td>0.300942</td>\n",
       "      <td>0.433118</td>\n",
       "      <td>0.419852</td>\n",
       "      <td>0.438511</td>\n",
       "      <td>0.146972</td>\n",
       "      <td>0.241244</td>\n",
       "      <td>0.185179</td>\n",
       "      <td>0.336274</td>\n",
       "      <td>0.334606</td>\n",
       "    </tr>\n",
       "    <tr>\n",
       "      <th>A-Q3_19</th>\n",
       "      <td>0.086444</td>\n",
       "      <td>0.169214</td>\n",
       "      <td>0.135870</td>\n",
       "      <td>0.053714</td>\n",
       "      <td>0.158079</td>\n",
       "      <td>0.239890</td>\n",
       "      <td>0.236630</td>\n",
       "      <td>0.294098</td>\n",
       "      <td>0.345832</td>\n",
       "      <td>0.238886</td>\n",
       "      <td>...</td>\n",
       "      <td>0.442550</td>\n",
       "      <td>0.315088</td>\n",
       "      <td>0.250884</td>\n",
       "      <td>0.382681</td>\n",
       "      <td>0.418835</td>\n",
       "      <td>0.150424</td>\n",
       "      <td>0.239973</td>\n",
       "      <td>0.182634</td>\n",
       "      <td>0.268560</td>\n",
       "      <td>0.267126</td>\n",
       "    </tr>\n",
       "    <tr>\n",
       "      <th>A-Q3_20</th>\n",
       "      <td>0.142571</td>\n",
       "      <td>0.215636</td>\n",
       "      <td>0.123009</td>\n",
       "      <td>0.065620</td>\n",
       "      <td>0.150077</td>\n",
       "      <td>0.302094</td>\n",
       "      <td>0.322451</td>\n",
       "      <td>0.331465</td>\n",
       "      <td>0.303081</td>\n",
       "      <td>0.340431</td>\n",
       "      <td>...</td>\n",
       "      <td>1.000000</td>\n",
       "      <td>0.144295</td>\n",
       "      <td>0.314961</td>\n",
       "      <td>0.349010</td>\n",
       "      <td>0.319903</td>\n",
       "      <td>0.144241</td>\n",
       "      <td>0.307355</td>\n",
       "      <td>0.186854</td>\n",
       "      <td>0.302351</td>\n",
       "      <td>0.247469</td>\n",
       "    </tr>\n",
       "    <tr>\n",
       "      <th>A-Q3_21</th>\n",
       "      <td>0.025817</td>\n",
       "      <td>-0.031629</td>\n",
       "      <td>0.086699</td>\n",
       "      <td>0.176829</td>\n",
       "      <td>0.229452</td>\n",
       "      <td>0.108778</td>\n",
       "      <td>0.136351</td>\n",
       "      <td>0.187987</td>\n",
       "      <td>0.159486</td>\n",
       "      <td>0.032734</td>\n",
       "      <td>...</td>\n",
       "      <td>0.144295</td>\n",
       "      <td>1.000000</td>\n",
       "      <td>0.385435</td>\n",
       "      <td>0.420094</td>\n",
       "      <td>0.372195</td>\n",
       "      <td>0.171795</td>\n",
       "      <td>0.062819</td>\n",
       "      <td>0.188118</td>\n",
       "      <td>0.142667</td>\n",
       "      <td>0.201392</td>\n",
       "    </tr>\n",
       "    <tr>\n",
       "      <th>A-Q3_22</th>\n",
       "      <td>0.045151</td>\n",
       "      <td>0.103122</td>\n",
       "      <td>0.111983</td>\n",
       "      <td>0.180900</td>\n",
       "      <td>0.139250</td>\n",
       "      <td>0.102785</td>\n",
       "      <td>0.117612</td>\n",
       "      <td>0.136888</td>\n",
       "      <td>0.085078</td>\n",
       "      <td>0.210102</td>\n",
       "      <td>...</td>\n",
       "      <td>0.314961</td>\n",
       "      <td>0.385435</td>\n",
       "      <td>1.000000</td>\n",
       "      <td>0.622873</td>\n",
       "      <td>0.429489</td>\n",
       "      <td>0.141666</td>\n",
       "      <td>0.250851</td>\n",
       "      <td>0.159854</td>\n",
       "      <td>0.154659</td>\n",
       "      <td>0.167080</td>\n",
       "    </tr>\n",
       "    <tr>\n",
       "      <th>A-Q3_23</th>\n",
       "      <td>0.019735</td>\n",
       "      <td>0.073171</td>\n",
       "      <td>0.050676</td>\n",
       "      <td>0.128523</td>\n",
       "      <td>0.173750</td>\n",
       "      <td>0.157296</td>\n",
       "      <td>0.158131</td>\n",
       "      <td>0.183288</td>\n",
       "      <td>0.186260</td>\n",
       "      <td>0.240450</td>\n",
       "      <td>...</td>\n",
       "      <td>0.349010</td>\n",
       "      <td>0.420094</td>\n",
       "      <td>0.622873</td>\n",
       "      <td>1.000000</td>\n",
       "      <td>0.578618</td>\n",
       "      <td>0.165911</td>\n",
       "      <td>0.224272</td>\n",
       "      <td>0.182410</td>\n",
       "      <td>0.160902</td>\n",
       "      <td>0.191106</td>\n",
       "    </tr>\n",
       "    <tr>\n",
       "      <th>A-Q3_24</th>\n",
       "      <td>0.041916</td>\n",
       "      <td>0.160499</td>\n",
       "      <td>0.186951</td>\n",
       "      <td>0.128895</td>\n",
       "      <td>0.179840</td>\n",
       "      <td>0.170142</td>\n",
       "      <td>0.160571</td>\n",
       "      <td>0.213335</td>\n",
       "      <td>0.187388</td>\n",
       "      <td>0.187554</td>\n",
       "      <td>...</td>\n",
       "      <td>0.319903</td>\n",
       "      <td>0.372195</td>\n",
       "      <td>0.429489</td>\n",
       "      <td>0.578618</td>\n",
       "      <td>1.000000</td>\n",
       "      <td>0.219779</td>\n",
       "      <td>0.247179</td>\n",
       "      <td>0.189418</td>\n",
       "      <td>0.248281</td>\n",
       "      <td>0.242013</td>\n",
       "    </tr>\n",
       "    <tr>\n",
       "      <th>A-Q3_25</th>\n",
       "      <td>-0.021745</td>\n",
       "      <td>0.029154</td>\n",
       "      <td>0.055161</td>\n",
       "      <td>0.095209</td>\n",
       "      <td>0.124844</td>\n",
       "      <td>0.074010</td>\n",
       "      <td>0.120226</td>\n",
       "      <td>0.129416</td>\n",
       "      <td>0.101801</td>\n",
       "      <td>0.066112</td>\n",
       "      <td>...</td>\n",
       "      <td>0.144241</td>\n",
       "      <td>0.171795</td>\n",
       "      <td>0.141666</td>\n",
       "      <td>0.165911</td>\n",
       "      <td>0.219779</td>\n",
       "      <td>1.000000</td>\n",
       "      <td>0.013506</td>\n",
       "      <td>0.213404</td>\n",
       "      <td>0.103071</td>\n",
       "      <td>0.139942</td>\n",
       "    </tr>\n",
       "    <tr>\n",
       "      <th>A-Q3_30</th>\n",
       "      <td>0.038881</td>\n",
       "      <td>0.183555</td>\n",
       "      <td>0.061233</td>\n",
       "      <td>0.129381</td>\n",
       "      <td>0.095624</td>\n",
       "      <td>0.221181</td>\n",
       "      <td>0.235766</td>\n",
       "      <td>0.238670</td>\n",
       "      <td>0.251411</td>\n",
       "      <td>0.215293</td>\n",
       "      <td>...</td>\n",
       "      <td>0.307355</td>\n",
       "      <td>0.062819</td>\n",
       "      <td>0.250851</td>\n",
       "      <td>0.224272</td>\n",
       "      <td>0.247179</td>\n",
       "      <td>0.013506</td>\n",
       "      <td>1.000000</td>\n",
       "      <td>0.281286</td>\n",
       "      <td>0.227801</td>\n",
       "      <td>0.173634</td>\n",
       "    </tr>\n",
       "    <tr>\n",
       "      <th>A-Q3_31</th>\n",
       "      <td>0.086870</td>\n",
       "      <td>0.071202</td>\n",
       "      <td>0.156535</td>\n",
       "      <td>0.081840</td>\n",
       "      <td>0.177069</td>\n",
       "      <td>0.063626</td>\n",
       "      <td>0.141976</td>\n",
       "      <td>0.117627</td>\n",
       "      <td>0.177669</td>\n",
       "      <td>0.284998</td>\n",
       "      <td>...</td>\n",
       "      <td>0.186854</td>\n",
       "      <td>0.188118</td>\n",
       "      <td>0.159854</td>\n",
       "      <td>0.182410</td>\n",
       "      <td>0.189418</td>\n",
       "      <td>0.213404</td>\n",
       "      <td>0.281286</td>\n",
       "      <td>1.000000</td>\n",
       "      <td>0.516248</td>\n",
       "      <td>0.344116</td>\n",
       "    </tr>\n",
       "    <tr>\n",
       "      <th>A-Q3_26</th>\n",
       "      <td>0.112402</td>\n",
       "      <td>0.212786</td>\n",
       "      <td>0.170856</td>\n",
       "      <td>0.108601</td>\n",
       "      <td>0.233599</td>\n",
       "      <td>0.229312</td>\n",
       "      <td>0.251914</td>\n",
       "      <td>0.219000</td>\n",
       "      <td>0.212490</td>\n",
       "      <td>0.344093</td>\n",
       "      <td>...</td>\n",
       "      <td>0.302351</td>\n",
       "      <td>0.142667</td>\n",
       "      <td>0.154659</td>\n",
       "      <td>0.160902</td>\n",
       "      <td>0.248281</td>\n",
       "      <td>0.103071</td>\n",
       "      <td>0.227801</td>\n",
       "      <td>0.516248</td>\n",
       "      <td>1.000000</td>\n",
       "      <td>0.378121</td>\n",
       "    </tr>\n",
       "    <tr>\n",
       "      <th>A-Q3_27</th>\n",
       "      <td>0.024440</td>\n",
       "      <td>0.117747</td>\n",
       "      <td>0.148300</td>\n",
       "      <td>0.183761</td>\n",
       "      <td>0.221648</td>\n",
       "      <td>0.207146</td>\n",
       "      <td>0.197192</td>\n",
       "      <td>0.234366</td>\n",
       "      <td>0.271956</td>\n",
       "      <td>0.182695</td>\n",
       "      <td>...</td>\n",
       "      <td>0.247469</td>\n",
       "      <td>0.201392</td>\n",
       "      <td>0.167080</td>\n",
       "      <td>0.191106</td>\n",
       "      <td>0.242013</td>\n",
       "      <td>0.139942</td>\n",
       "      <td>0.173634</td>\n",
       "      <td>0.344116</td>\n",
       "      <td>0.378121</td>\n",
       "      <td>1.000000</td>\n",
       "    </tr>\n",
       "  </tbody>\n",
       "</table>\n",
       "<p>31 rows × 31 columns</p>\n",
       "</div>"
      ],
      "text/plain": [
       "           A-Q3_1    A-Q3_2    A-Q3_3    A-Q3_4    A-Q3_5    A-Q3_6    A-Q3_7  \\\n",
       "A-Q3_1   1.000000  0.357553  0.291868  0.172885  0.225569  0.023251 -0.016825   \n",
       "A-Q3_2   0.357553  1.000000  0.396476  0.288819  0.279599  0.178014  0.121506   \n",
       "A-Q3_3   0.291868  0.396476  1.000000  0.257619  0.247308  0.075639  0.039432   \n",
       "A-Q3_4   0.172885  0.288819  0.257619  1.000000  0.298090  0.045292  0.036043   \n",
       "A-Q3_5   0.225569  0.279599  0.247308  0.298090  1.000000  0.275893  0.216315   \n",
       "A-Q3_6   0.023251  0.178014  0.075639  0.045292  0.275893  1.000000  0.751294   \n",
       "A-Q3_7  -0.016825  0.121506  0.039432  0.036043  0.216315  0.751294  1.000000   \n",
       "A-Q3_8  -0.000882  0.070285  0.022347 -0.036058  0.174144  0.652305  0.730273   \n",
       "A-Q3_9  -0.017741  0.127024  0.042917  0.048596  0.186116  0.480994  0.479557   \n",
       "A-Q3_28  0.069743  0.174471  0.140144  0.095621  0.151106  0.259175  0.251117   \n",
       "A-Q3_10  0.011131 -0.022463 -0.014502  0.027271  0.227114  0.405673  0.437948   \n",
       "A-Q3_11  0.052000 -0.019871  0.076399  0.118554  0.252611  0.333251  0.362800   \n",
       "A-Q3_12  0.043339  0.037823  0.074919  0.074325  0.273430  0.366460  0.380345   \n",
       "A-Q3_13  0.085974 -0.050854  0.068492  0.061644  0.252312  0.272450  0.260384   \n",
       "A-Q3_29 -0.002416  0.125868  0.072420  0.050932  0.169597  0.251471  0.273029   \n",
       "A-Q3_14 -0.051780  0.088172  0.121674  0.076560  0.206721  0.381546  0.381655   \n",
       "A-Q3_15 -0.076610  0.128841  0.035413  0.022524  0.179902  0.352650  0.407886   \n",
       "A-Q3_16 -0.084487  0.026212  0.034317  0.066419  0.168262  0.227434  0.283414   \n",
       "A-Q3_17  0.128162  0.076597  0.157309  0.108416  0.245939  0.201838  0.212745   \n",
       "A-Q3_18  0.083762  0.145938  0.181299  0.000869  0.135486  0.321734  0.293222   \n",
       "A-Q3_19  0.086444  0.169214  0.135870  0.053714  0.158079  0.239890  0.236630   \n",
       "A-Q3_20  0.142571  0.215636  0.123009  0.065620  0.150077  0.302094  0.322451   \n",
       "A-Q3_21  0.025817 -0.031629  0.086699  0.176829  0.229452  0.108778  0.136351   \n",
       "A-Q3_22  0.045151  0.103122  0.111983  0.180900  0.139250  0.102785  0.117612   \n",
       "A-Q3_23  0.019735  0.073171  0.050676  0.128523  0.173750  0.157296  0.158131   \n",
       "A-Q3_24  0.041916  0.160499  0.186951  0.128895  0.179840  0.170142  0.160571   \n",
       "A-Q3_25 -0.021745  0.029154  0.055161  0.095209  0.124844  0.074010  0.120226   \n",
       "A-Q3_30  0.038881  0.183555  0.061233  0.129381  0.095624  0.221181  0.235766   \n",
       "A-Q3_31  0.086870  0.071202  0.156535  0.081840  0.177069  0.063626  0.141976   \n",
       "A-Q3_26  0.112402  0.212786  0.170856  0.108601  0.233599  0.229312  0.251914   \n",
       "A-Q3_27  0.024440  0.117747  0.148300  0.183761  0.221648  0.207146  0.197192   \n",
       "\n",
       "           A-Q3_8    A-Q3_9   A-Q3_28    ...      A-Q3_20   A-Q3_21   A-Q3_22  \\\n",
       "A-Q3_1  -0.000882 -0.017741  0.069743    ...     0.142571  0.025817  0.045151   \n",
       "A-Q3_2   0.070285  0.127024  0.174471    ...     0.215636 -0.031629  0.103122   \n",
       "A-Q3_3   0.022347  0.042917  0.140144    ...     0.123009  0.086699  0.111983   \n",
       "A-Q3_4  -0.036058  0.048596  0.095621    ...     0.065620  0.176829  0.180900   \n",
       "A-Q3_5   0.174144  0.186116  0.151106    ...     0.150077  0.229452  0.139250   \n",
       "A-Q3_6   0.652305  0.480994  0.259175    ...     0.302094  0.108778  0.102785   \n",
       "A-Q3_7   0.730273  0.479557  0.251117    ...     0.322451  0.136351  0.117612   \n",
       "A-Q3_8   1.000000  0.596137  0.272614    ...     0.331465  0.187987  0.136888   \n",
       "A-Q3_9   0.596137  1.000000  0.316212    ...     0.303081  0.159486  0.085078   \n",
       "A-Q3_28  0.272614  0.316212  1.000000    ...     0.340431  0.032734  0.210102   \n",
       "A-Q3_10  0.484712  0.372998  0.288145    ...     0.205286  0.214219  0.097457   \n",
       "A-Q3_11  0.400224  0.271128  0.262875    ...     0.186302  0.308534  0.105976   \n",
       "A-Q3_12  0.349139  0.310003  0.291458    ...     0.235394  0.243050  0.129904   \n",
       "A-Q3_13  0.293921  0.219349  0.184140    ...     0.117097  0.349015  0.186100   \n",
       "A-Q3_29  0.268398  0.307432  0.459313    ...     0.394948  0.164133  0.184932   \n",
       "A-Q3_14  0.395839  0.351270  0.219417    ...     0.324293  0.241050  0.274160   \n",
       "A-Q3_15  0.375837  0.408177  0.297254    ...     0.346334  0.207836  0.265604   \n",
       "A-Q3_16  0.302090  0.227876  0.205642    ...     0.283142  0.298233  0.252172   \n",
       "A-Q3_17  0.218833  0.146533  0.161352    ...     0.238825  0.404741  0.306537   \n",
       "A-Q3_18  0.280516  0.236937  0.294669    ...     0.450613  0.300942  0.433118   \n",
       "A-Q3_19  0.294098  0.345832  0.238886    ...     0.442550  0.315088  0.250884   \n",
       "A-Q3_20  0.331465  0.303081  0.340431    ...     1.000000  0.144295  0.314961   \n",
       "A-Q3_21  0.187987  0.159486  0.032734    ...     0.144295  1.000000  0.385435   \n",
       "A-Q3_22  0.136888  0.085078  0.210102    ...     0.314961  0.385435  1.000000   \n",
       "A-Q3_23  0.183288  0.186260  0.240450    ...     0.349010  0.420094  0.622873   \n",
       "A-Q3_24  0.213335  0.187388  0.187554    ...     0.319903  0.372195  0.429489   \n",
       "A-Q3_25  0.129416  0.101801  0.066112    ...     0.144241  0.171795  0.141666   \n",
       "A-Q3_30  0.238670  0.251411  0.215293    ...     0.307355  0.062819  0.250851   \n",
       "A-Q3_31  0.117627  0.177669  0.284998    ...     0.186854  0.188118  0.159854   \n",
       "A-Q3_26  0.219000  0.212490  0.344093    ...     0.302351  0.142667  0.154659   \n",
       "A-Q3_27  0.234366  0.271956  0.182695    ...     0.247469  0.201392  0.167080   \n",
       "\n",
       "          A-Q3_23   A-Q3_24   A-Q3_25   A-Q3_30   A-Q3_31   A-Q3_26   A-Q3_27  \n",
       "A-Q3_1   0.019735  0.041916 -0.021745  0.038881  0.086870  0.112402  0.024440  \n",
       "A-Q3_2   0.073171  0.160499  0.029154  0.183555  0.071202  0.212786  0.117747  \n",
       "A-Q3_3   0.050676  0.186951  0.055161  0.061233  0.156535  0.170856  0.148300  \n",
       "A-Q3_4   0.128523  0.128895  0.095209  0.129381  0.081840  0.108601  0.183761  \n",
       "A-Q3_5   0.173750  0.179840  0.124844  0.095624  0.177069  0.233599  0.221648  \n",
       "A-Q3_6   0.157296  0.170142  0.074010  0.221181  0.063626  0.229312  0.207146  \n",
       "A-Q3_7   0.158131  0.160571  0.120226  0.235766  0.141976  0.251914  0.197192  \n",
       "A-Q3_8   0.183288  0.213335  0.129416  0.238670  0.117627  0.219000  0.234366  \n",
       "A-Q3_9   0.186260  0.187388  0.101801  0.251411  0.177669  0.212490  0.271956  \n",
       "A-Q3_28  0.240450  0.187554  0.066112  0.215293  0.284998  0.344093  0.182695  \n",
       "A-Q3_10  0.191503  0.251678  0.184681  0.114110  0.200782  0.251943  0.213309  \n",
       "A-Q3_11  0.264973  0.334370  0.197017  0.077846  0.220169  0.248214  0.265273  \n",
       "A-Q3_12  0.264963  0.282575  0.106129  0.121748  0.195230  0.230873  0.287239  \n",
       "A-Q3_13  0.258009  0.337678  0.139082  0.041190  0.162554  0.143292  0.155541  \n",
       "A-Q3_29  0.198077  0.327585  0.147738  0.225105  0.315574  0.391014  0.237115  \n",
       "A-Q3_14  0.300998  0.349911  0.177851  0.255115  0.297271  0.336313  0.242807  \n",
       "A-Q3_15  0.291410  0.292840  0.114855  0.255629  0.236517  0.311360  0.313550  \n",
       "A-Q3_16  0.323705  0.388271  0.215665  0.212137  0.272603  0.324183  0.350992  \n",
       "A-Q3_17  0.313136  0.379827  0.192993  0.097485  0.176913  0.276335  0.256335  \n",
       "A-Q3_18  0.419852  0.438511  0.146972  0.241244  0.185179  0.336274  0.334606  \n",
       "A-Q3_19  0.382681  0.418835  0.150424  0.239973  0.182634  0.268560  0.267126  \n",
       "A-Q3_20  0.349010  0.319903  0.144241  0.307355  0.186854  0.302351  0.247469  \n",
       "A-Q3_21  0.420094  0.372195  0.171795  0.062819  0.188118  0.142667  0.201392  \n",
       "A-Q3_22  0.622873  0.429489  0.141666  0.250851  0.159854  0.154659  0.167080  \n",
       "A-Q3_23  1.000000  0.578618  0.165911  0.224272  0.182410  0.160902  0.191106  \n",
       "A-Q3_24  0.578618  1.000000  0.219779  0.247179  0.189418  0.248281  0.242013  \n",
       "A-Q3_25  0.165911  0.219779  1.000000  0.013506  0.213404  0.103071  0.139942  \n",
       "A-Q3_30  0.224272  0.247179  0.013506  1.000000  0.281286  0.227801  0.173634  \n",
       "A-Q3_31  0.182410  0.189418  0.213404  0.281286  1.000000  0.516248  0.344116  \n",
       "A-Q3_26  0.160902  0.248281  0.103071  0.227801  0.516248  1.000000  0.378121  \n",
       "A-Q3_27  0.191106  0.242013  0.139942  0.173634  0.344116  0.378121  1.000000  \n",
       "\n",
       "[31 rows x 31 columns]"
      ]
     },
     "execution_count": 339,
     "metadata": {},
     "output_type": "execute_result"
    }
   ],
   "source": [
    "Korr_A_Q3 = Daten[Liste_A_Q3].corr(method = 'spearman')\n",
    "Korr_A_Q3"
   ]
  },
  {
   "cell_type": "code",
   "execution_count": 340,
   "metadata": {},
   "outputs": [
    {
     "name": "stdout",
     "output_type": "stream",
     "text": [
      "Series([], Name: A-Q3_1, dtype: float64)\n",
      "Series([], Name: A-Q3_2, dtype: float64)\n",
      "Series([], Name: A-Q3_3, dtype: float64)\n",
      "Series([], Name: A-Q3_4, dtype: float64)\n",
      "Series([], Name: A-Q3_5, dtype: float64)\n",
      "A-Q3_7    0.751294\n",
      "A-Q3_8    0.652305\n",
      "Name: A-Q3_6, dtype: float64\n",
      "A-Q3_6    0.751294\n",
      "A-Q3_8    0.730273\n",
      "Name: A-Q3_7, dtype: float64\n",
      "A-Q3_6    0.652305\n",
      "A-Q3_7    0.730273\n",
      "Name: A-Q3_8, dtype: float64\n",
      "Series([], Name: A-Q3_9, dtype: float64)\n",
      "Series([], Name: A-Q3_28, dtype: float64)\n",
      "Series([], Name: A-Q3_10, dtype: float64)\n",
      "A-Q3_12    0.611488\n",
      "Name: A-Q3_11, dtype: float64\n",
      "A-Q3_11    0.611488\n",
      "Name: A-Q3_12, dtype: float64\n",
      "Series([], Name: A-Q3_13, dtype: float64)\n",
      "Series([], Name: A-Q3_29, dtype: float64)\n",
      "Series([], Name: A-Q3_14, dtype: float64)\n",
      "Series([], Name: A-Q3_15, dtype: float64)\n",
      "Series([], Name: A-Q3_16, dtype: float64)\n",
      "Series([], Name: A-Q3_17, dtype: float64)\n",
      "Series([], Name: A-Q3_18, dtype: float64)\n",
      "Series([], Name: A-Q3_19, dtype: float64)\n",
      "Series([], Name: A-Q3_20, dtype: float64)\n",
      "Series([], Name: A-Q3_21, dtype: float64)\n",
      "A-Q3_23    0.622873\n",
      "Name: A-Q3_22, dtype: float64\n",
      "A-Q3_22    0.622873\n",
      "Name: A-Q3_23, dtype: float64\n",
      "Series([], Name: A-Q3_24, dtype: float64)\n",
      "Series([], Name: A-Q3_25, dtype: float64)\n",
      "Series([], Name: A-Q3_30, dtype: float64)\n",
      "Series([], Name: A-Q3_31, dtype: float64)\n",
      "Series([], Name: A-Q3_26, dtype: float64)\n",
      "Series([], Name: A-Q3_27, dtype: float64)\n"
     ]
    }
   ],
   "source": [
    "for col in Liste_A_Q3:\n",
    "    print(get_max_corr(Korr_A_Q3,col,0.6))"
   ]
  },
  {
   "cell_type": "code",
   "execution_count": 341,
   "metadata": {},
   "outputs": [
    {
     "data": {
      "text/plain": [
       "(50, 'A-Q3 - Me fijo en cifras o en otros símbolos que entiendo.')"
      ]
     },
     "execution_count": 341,
     "metadata": {},
     "output_type": "execute_result"
    }
   ],
   "source": [
    "get_name_glossind('A-Q3_23')"
   ]
  },
  {
   "cell_type": "markdown",
   "metadata": {},
   "source": [
    "##### Gruppierung der Strategien nach Kategorien:"
   ]
  },
  {
   "cell_type": "code",
   "execution_count": 342,
   "metadata": {},
   "outputs": [],
   "source": [
    "strat = {'S1': ['A-Q3_5','A-Q3_6','A-Q3_7','A-Q3_8','A-Q3_9'], \n",
    "         'S2': ['A-Q3_1','A-Q3_2','A-Q3_3','A-Q3_4','A-Q3_5'],\n",
    "         'S3': ['A-Q3_9','A-Q3_10','A-Q3_11','A-Q3_12'],\n",
    "         'S4': ['A-Q3_13','A-Q3_14','A-Q3_15','A-Q3_16','A-Q3_17','A-Q3_18','A-Q3_19','A-Q3_20'],\n",
    "         'S4a': ['A-Q3_13','A-Q3_14','A-Q3_15','A-Q3_16'],\n",
    "         'S4b': ['A-Q3_17','A-Q3_18','A-Q3_19','A-Q3_20'],\n",
    "         'S5': ['A-Q3_21','A-Q3_22','A-Q3_23','A-Q3_24','A-Q3_25'],\n",
    "         'S6': ['A-Q3_26','A-Q3_27','A-Q3_28','A-Q3_29','A-Q3_30','A-Q3_31']}"
   ]
  },
  {
   "cell_type": "markdown",
   "metadata": {},
   "source": [
    "* S1: Auf Wortebene - intralingual\n",
    "* S2: Auf Wortebene - interlingual\n",
    "* S3: Auf Satz- und Textebene - engerer Kontext\n",
    "* S4: Auf Satz- und Textebene - weiterer Kontext (S4a: intratextuell, S4b: Bezug zu Fach- und Weltwissen)\n",
    "* S5: Außersprachlicher Kontext\n",
    "* S6: Metakognitive Strategien"
   ]
  },
  {
   "cell_type": "code",
   "execution_count": 343,
   "metadata": {},
   "outputs": [],
   "source": [
    "#Daten_A3.loc[56, strat['S1']]"
   ]
  },
  {
   "cell_type": "code",
   "execution_count": 344,
   "metadata": {},
   "outputs": [],
   "source": [
    "#Berechnung der Summe der Werte, des Mittelwerts und der Anzahl an Items mit einem bestimmten Wert (individuell):\n",
    "#Daten.loc[56, strat['S1']].sum()\n",
    "#Daten.loc[56, strat['S1']].mean()\n",
    "#(Daten.loc[56, strat['S1']] >= 5).sum()"
   ]
  },
  {
   "cell_type": "code",
   "execution_count": 345,
   "metadata": {},
   "outputs": [],
   "source": [
    "#Anzahl der TN, die einen Mittelwert >= 3 in der Strategiengruppe S1 aufweisen:\n",
    "#Daten[Daten[strat['S1']].mean(axis=1) >= 3]"
   ]
  },
  {
   "cell_type": "code",
   "execution_count": 346,
   "metadata": {},
   "outputs": [],
   "source": [
    "#Anzahl de#Anzahl der TN, die einen Mittelwert >= 3 in der Strategiengruppe S1 aufweisen:r TN, deren Summe der Werte in S1 >= 8 ist:\n",
    "#Daten[Daten[strat['S1']].sum(axis=1) >= 8].shape[0]"
   ]
  },
  {
   "cell_type": "markdown",
   "metadata": {},
   "source": [
    "##### Bandbreite und Frequenz der Strategiennutzung:"
   ]
  },
  {
   "cell_type": "markdown",
   "metadata": {},
   "source": [
    "In der Folge wird berechnet, wie viele TN pro Strategiengruppe mit ihren Angaben einen Durchschnittswert von 3 (Likert) aufweisen und eine Mindestanzahl an Einzelstrategien pro Gruppe mit 3 bewertet haben."
   ]
  },
  {
   "cell_type": "code",
   "execution_count": 347,
   "metadata": {},
   "outputs": [
    {
     "data": {
      "text/plain": [
       "227"
      ]
     },
     "execution_count": 347,
     "metadata": {},
     "output_type": "execute_result"
    }
   ],
   "source": [
    "Daten_A3[(Daten_A3[strat['S1']].mean(axis=1) >= 3) & ((Daten_A3[strat['S1']] >= 3).sum(axis=1) >= 2)].shape[0]"
   ]
  },
  {
   "cell_type": "code",
   "execution_count": 348,
   "metadata": {},
   "outputs": [
    {
     "data": {
      "text/plain": [
       "177"
      ]
     },
     "execution_count": 348,
     "metadata": {},
     "output_type": "execute_result"
    }
   ],
   "source": [
    "Daten_A3[(Daten_A3[strat['S2']].mean(axis=1) >= 3) & ((Daten_A3[strat['S2']] >= 3).sum(axis=1) >= 2)].shape[0]"
   ]
  },
  {
   "cell_type": "code",
   "execution_count": 349,
   "metadata": {},
   "outputs": [
    {
     "data": {
      "text/plain": [
       "195"
      ]
     },
     "execution_count": 349,
     "metadata": {},
     "output_type": "execute_result"
    }
   ],
   "source": [
    "Daten_A3[(Daten_A3[strat['S3']].mean(axis=1) >= 3) & ((Daten_A3[strat['S3']] >= 3).sum(axis=1) >= 2)].shape[0]"
   ]
  },
  {
   "cell_type": "code",
   "execution_count": 350,
   "metadata": {},
   "outputs": [
    {
     "data": {
      "text/plain": [
       "230"
      ]
     },
     "execution_count": 350,
     "metadata": {},
     "output_type": "execute_result"
    }
   ],
   "source": [
    "Daten_A3[(Daten_A3[strat['S4']].mean(axis=1) >= 3) & ((Daten_A3[strat['S4']] >= 3).sum(axis=1) >= 4)].shape[0]"
   ]
  },
  {
   "cell_type": "code",
   "execution_count": 351,
   "metadata": {},
   "outputs": [
    {
     "data": {
      "text/plain": [
       "213"
      ]
     },
     "execution_count": 351,
     "metadata": {},
     "output_type": "execute_result"
    }
   ],
   "source": [
    "Daten_A3[(Daten_A3[strat['S4a']].mean(axis=1) >= 3) & ((Daten_A3[strat['S4a']] >= 3).sum(axis=1) >= 2)].shape[0]"
   ]
  },
  {
   "cell_type": "code",
   "execution_count": 352,
   "metadata": {},
   "outputs": [
    {
     "data": {
      "text/plain": [
       "238"
      ]
     },
     "execution_count": 352,
     "metadata": {},
     "output_type": "execute_result"
    }
   ],
   "source": [
    "Daten_A3[(Daten_A3[strat['S4b']].mean(axis=1) >= 3) & ((Daten_A3[strat['S4b']] >= 3).sum(axis=1) >= 2)].shape[0]"
   ]
  },
  {
   "cell_type": "code",
   "execution_count": 353,
   "metadata": {},
   "outputs": [
    {
     "data": {
      "text/plain": [
       "228"
      ]
     },
     "execution_count": 353,
     "metadata": {},
     "output_type": "execute_result"
    }
   ],
   "source": [
    "Daten_A3[(Daten_A3[strat['S5']].mean(axis=1) >= 3) & ((Daten_A3[strat['S5']] >= 3).sum(axis=1) >= 2)].shape[0]"
   ]
  },
  {
   "cell_type": "code",
   "execution_count": 354,
   "metadata": {},
   "outputs": [
    {
     "data": {
      "text/plain": [
       "260"
      ]
     },
     "execution_count": 354,
     "metadata": {},
     "output_type": "execute_result"
    }
   ],
   "source": [
    "Daten_A3[(Daten_A3[strat['S6']].mean(axis=1) >= 3) & ((Daten_A3[strat['S6']] >= 3).sum(axis=1) >= 3)].shape[0]"
   ]
  },
  {
   "cell_type": "markdown",
   "metadata": {},
   "source": [
    "Anzahl der TN, die in jeder Strategiengruppe einen Durchschnittswert von mindestens 2 (Likert) aufweisen und eine Mindestanzahl an Strategien mit 3 bewertet haben:"
   ]
  },
  {
   "cell_type": "code",
   "execution_count": 355,
   "metadata": {},
   "outputs": [
    {
     "data": {
      "text/plain": [
       "183"
      ]
     },
     "execution_count": 355,
     "metadata": {},
     "output_type": "execute_result"
    }
   ],
   "source": [
    "Daten_A3[(Daten_A3[strat['S1']].mean(axis=1) >= 2) & ((Daten_A3[strat['S1']] >= 3).sum(axis=1) >= 2) & (Daten_A3[strat['S2']].mean(axis=1) >= 2) & ((Daten_A3[strat['S2']] >= 3).sum(axis=1) >= 2) & (Daten_A3[strat['S3']].mean(axis=1) >= 2) & ((Daten_A3[strat['S3']] >= 3).sum(axis=1) >= 2) & (Daten_A3[strat['S4']].mean(axis=1) >= 2) & ((Daten_A3[strat['S4']] >= 3).sum(axis=1) >= 4) & (Daten_A3[strat['S5']].mean(axis=1) >= 2) & ((Daten_A3[strat['S5']] >= 3).sum(axis=1) >= 2) & (Daten_A3[strat['S6']].mean(axis=1) >= 2) & ((Daten_A3[strat['S6']] >= 3).sum(axis=1) >= 3)].shape[0]"
   ]
  },
  {
   "cell_type": "markdown",
   "metadata": {},
   "source": [
    "Anzahl und Prozentsatz der TN, die eine Mindestanzahl an Strategien aus jeder Strategiengruppe mit 3 (Likert) bewertet haben:"
   ]
  },
  {
   "cell_type": "code",
   "execution_count": 356,
   "metadata": {},
   "outputs": [],
   "source": [
    "def get_good_str(df):\n",
    "    df_good = df[((df[strat['S1']] >= 3).sum(axis=1) >= 2) & ((df[strat['S2']] >= 3).sum(axis=1) >= 2) & ((df[strat['S3']] >= 3).sum(axis=1) >= 2) & ((df[strat['S4']] >= 3).sum(axis=1) >= 4) & ((df[strat['S5']] >= 3).sum(axis=1) >= 2) & ((df[strat['S6']] >= 3).sum(axis=1) >= 3)]\n",
    "    return df_good.shape[0], (df_good.shape[0])/(df.shape[0])*100"
   ]
  },
  {
   "cell_type": "code",
   "execution_count": 357,
   "metadata": {},
   "outputs": [
    {
     "data": {
      "text/plain": [
       "(187, 62.33333333333333)"
      ]
     },
     "execution_count": 357,
     "metadata": {},
     "output_type": "execute_result"
    }
   ],
   "source": [
    "get_good_str(Daten_A3)"
   ]
  },
  {
   "cell_type": "markdown",
   "metadata": {},
   "source": [
    "### Erwerb von Erschließungsstrategien"
   ]
  },
  {
   "cell_type": "markdown",
   "metadata": {},
   "source": [
    "#### B-Q1 (Kontexte des Strategienerwerbs)"
   ]
  },
  {
   "cell_type": "code",
   "execution_count": 358,
   "metadata": {},
   "outputs": [],
   "source": [
    "Kontexte = Finished[['B-Q1_1','B-Q1_2','B-Q1_3','B-Q1_4','B-Q1_5','B-Q1_6','B-Q1_7','B-Q1_8','B-Q1_9','B-Q1_10','B-Q1_11']]"
   ]
  },
  {
   "cell_type": "code",
   "execution_count": 359,
   "metadata": {},
   "outputs": [],
   "source": [
    "DF_Kontexte = Kontexte.apply(pd.value_counts).fillna(0).astype(integer)"
   ]
  },
  {
   "cell_type": "code",
   "execution_count": 360,
   "metadata": {},
   "outputs": [
    {
     "data": {
      "text/plain": [
       "B-Q1_7     181\n",
       "B-Q1_2     169\n",
       "B-Q1_9     166\n",
       "B-Q1_3     135\n",
       "B-Q1_6     115\n",
       "B-Q1_1     107\n",
       "B-Q1_5     102\n",
       "B-Q1_4      89\n",
       "B-Q1_8      70\n",
       "B-Q1_10     15\n",
       "B-Q1_11      8\n",
       "Name: 1, dtype: int32"
      ]
     },
     "execution_count": 360,
     "metadata": {},
     "output_type": "execute_result"
    }
   ],
   "source": [
    "DF_Kontexte.iloc[1].sort_values(ascending = False)"
   ]
  },
  {
   "cell_type": "code",
   "execution_count": 361,
   "metadata": {},
   "outputs": [
    {
     "data": {
      "image/png": "[encoded data removed]",
      "text/plain": [
       "<Figure size 864x360 with 1 Axes>"
      ]
     },
     "metadata": {},
     "output_type": "display_data"
    }
   ],
   "source": [
    "DF_Kontexte.iloc[1].sort_values(ascending = False).plot(kind='bar', \n",
    "                                                            figsize = (12,5), width = 0.5, \n",
    "                                                            legend = False, title = \"Kontexte des Strategienerwerbs\");"
   ]
  },
  {
   "cell_type": "markdown",
   "metadata": {},
   "source": [
    "* 1- En las clases de Lengua y Literatura en el colegio o instituto\n",
    "* 2- En las clases de inglés en el colegio o instituto\n",
    "* 3- En otras clases de idiomas en el colegio o instituto\n",
    "* 4- En clases de alemán anteriores en la Universidad\n",
    "* 5- En otras asignaturas de mi carrera universitaria\n",
    "* 6- En clases de lenguas en escuelas de idiomas o academias\n",
    "* 7- En mi curso de alemán actual\n",
    "* 8- En mi familia, con mis amigos/as o compañeros/as de clase\n",
    "* 9- Por mi cuenta, sin ayuda de otras personas\n",
    "* 10- Otros:\n",
    "* 11- No sé cómo he aprendido estas estrategias."
   ]
  },
  {
   "cell_type": "markdown",
   "metadata": {},
   "source": [
    "#### B-Q2 (Methoden des Strategienerwerbs)"
   ]
  },
  {
   "cell_type": "markdown",
   "metadata": {},
   "source": [
    "Erwerbskontexte:"
   ]
  },
  {
   "cell_type": "code",
   "execution_count": 362,
   "metadata": {},
   "outputs": [],
   "source": [
    "erwerb = {'E1': ['B-Q2-1_1','B-Q2-1_2','B-Q2-1_3','B-Q2-1_4','B-Q2-1_5','B-Q2-1_6','B-Q2-1_7'], \n",
    "         'E2': ['B-Q2-2_1','B-Q2-2_2','B-Q2-2_3','B-Q2-2_4','B-Q2-2_5','B-Q2-2_6','B-Q2-2_7'],\n",
    "         'E3': ['B-Q2-3_1','B-Q2-3_2','B-Q2-3_3','B-Q2-3_4','B-Q2-3_5','B-Q2-3_6','B-Q2-3_7'],\n",
    "         'E4': ['B-Q2-4_1','B-Q2-4_2','B-Q2-4_3','B-Q2-4_4','B-Q2-4_5','B-Q2-4_6','B-Q2-4_7'],\n",
    "         'E5': ['B-Q2-5_1','B-Q2-5_2','B-Q2-5_3','B-Q2-5_4','B-Q2-5_5','B-Q2-5_6','B-Q2-5_7'],\n",
    "         'E6': ['B-Q2-6_1','B-Q2-6_2','B-Q2-6_3','B-Q2-6_4','B-Q2-6_5','B-Q2-6_6','B-Q2-6_7'],\n",
    "         'E7': ['B-Q2-7_1','B-Q2-7_2','B-Q2-7_3','B-Q2-7_4','B-Q2-7_5','B-Q2-7_6','B-Q2-7_7'],\n",
    "         'E8': ['B-Q2-8_1','B-Q2-8_2','B-Q2-8_3','B-Q2-8_4','B-Q2-8_5'],\n",
    "         'E9': ['B-Q2-9_1','B-Q2-9_2','B-Q2-9_3','B-Q2-9_4','B-Q2-9_5']}"
   ]
  },
  {
   "cell_type": "markdown",
   "metadata": {},
   "source": [
    "Methoden des Stragienerwerbs (kontextübergreifend in Unterrichtssituationen):"
   ]
  },
  {
   "cell_type": "code",
   "execution_count": 363,
   "metadata": {},
   "outputs": [],
   "source": [
    "erwerb1 = {'U1': ['B-Q2-1_1','B-Q2-2_1','B-Q2-3_1','B-Q2-4_1','B-Q2-5_1','B-Q2-6_1','B-Q2-7_1'], \n",
    "         'U2': ['B-Q2-1_2','B-Q2-2_2','B-Q2-3_2','B-Q2-4_2','B-Q2-5_2','B-Q2-6_2','B-Q2-7_2'],\n",
    "         'U3': ['B-Q2-1_3','B-Q2-2_3','B-Q2-3_3','B-Q2-4_3','B-Q2-5_3','B-Q2-6_3','B-Q2-7_3'],\n",
    "         'U4': ['B-Q2-1_4','B-Q2-2_4','B-Q2-3_4','B-Q2-4_4','B-Q2-5_4','B-Q2-6_4','B-Q2-7_4'],\n",
    "         'U5': ['B-Q2-1_5','B-Q2-2_5','B-Q2-3_5','B-Q2-4_5','B-Q2-5_5','B-Q2-6_5','B-Q2-7_5'],\n",
    "         'U6': ['B-Q2-1_6','B-Q2-2_6','B-Q2-3_6','B-Q2-4_6','B-Q2-5_6','B-Q2-6_6','B-Q2-7_6'],\n",
    "         'U7': ['B-Q2-1_7','B-Q2-2_7','B-Q2-3_7','B-Q2-4_7','B-Q2-5_7','B-Q2-6_7','B-Q2-7_7']}"
   ]
  },
  {
   "cell_type": "markdown",
   "metadata": {},
   "source": [
    "Auswahl der TN, die mindestens einmal eine bestimmte Methode angegeben haben:"
   ]
  },
  {
   "cell_type": "code",
   "execution_count": 364,
   "metadata": {},
   "outputs": [],
   "source": [
    "Stud_U1 = Finished[(Finished['B-Q2-1_1'] == 1) | (Finished['B-Q2-2_1'] == 1) | (Finished['B-Q2-3_1'] == 1) | (Finished['B-Q2-4_1'] == 1 | (Finished['B-Q2-5_1'] == 1 | (Finished['B-Q2-6_1'] == 1) | (Finished['B-Q2-7_1'] == 1)))]\n",
    "Stud_U2 = Finished[(Finished['B-Q2-1_2'] == 1) | (Finished['B-Q2-2_2'] == 1) | (Finished['B-Q2-3_2'] == 1) | (Finished['B-Q2-4_2'] == 1 | (Finished['B-Q2-5_2'] == 1 | (Finished['B-Q2-6_2'] == 1) | (Finished['B-Q2-7_2'] == 1)))]\n",
    "Stud_U3 = Finished[(Finished['B-Q2-1_3'] == 1) | (Finished['B-Q2-2_3'] == 1) | (Finished['B-Q2-3_3'] == 1) | (Finished['B-Q2-4_3'] == 1 | (Finished['B-Q2-5_3'] == 1 | (Finished['B-Q2-6_3'] == 1) | (Finished['B-Q2-7_3'] == 1)))]\n",
    "Stud_U4 = Finished[(Finished['B-Q2-1_4'] == 1) | (Finished['B-Q2-2_4'] == 1) | (Finished['B-Q2-3_4'] == 1) | (Finished['B-Q2-4_4'] == 1 | (Finished['B-Q2-5_4'] == 1 | (Finished['B-Q2-6_4'] == 1) | (Finished['B-Q2-7_4'] == 1)))]\n",
    "Stud_U5 = Finished[(Finished['B-Q2-1_5'] == 1) | (Finished['B-Q2-2_5'] == 1) | (Finished['B-Q2-3_5'] == 1) | (Finished['B-Q2-4_5'] == 1 | (Finished['B-Q2-5_5'] == 1 | (Finished['B-Q2-6_5'] == 1) | (Finished['B-Q2-7_5'] == 1)))]\n",
    "Stud_U6 = Finished[(Finished['B-Q2-1_6'] == 1) | (Finished['B-Q2-2_6'] == 1) | (Finished['B-Q2-3_6'] == 1) | (Finished['B-Q2-4_6'] == 1 | (Finished['B-Q2-5_6'] == 1 | (Finished['B-Q2-6_6'] == 1) | (Finished['B-Q2-7_6'] == 1)))]"
   ]
  },
  {
   "cell_type": "code",
   "execution_count": 365,
   "metadata": {},
   "outputs": [],
   "source": [
    "Stud_U = []\n",
    "Stud_U.append(Stud_U1.shape[0])\n",
    "Stud_U.append(Stud_U2.shape[0])\n",
    "Stud_U.append(Stud_U3.shape[0])\n",
    "Stud_U.append(Stud_U4.shape[0])\n",
    "Stud_U.append(Stud_U5.shape[0])\n",
    "Stud_U.append(Stud_U6.shape[0])"
   ]
  },
  {
   "cell_type": "code",
   "execution_count": 366,
   "metadata": {},
   "outputs": [],
   "source": [
    "Stud_U = pd.Series(Stud_U)\n",
    "Stud_U.index += 1"
   ]
  },
  {
   "cell_type": "code",
   "execution_count": 367,
   "metadata": {},
   "outputs": [],
   "source": [
    "Stud_E8 = Finished[(Finished['B-Q2-8_1'] == 1) | (Finished['B-Q2-8_2'] == 1) | (Finished['B-Q2-8_3'] == 1) | (Finished['B-Q2-8_4'] == 1 | (Finished['B-Q2-8_5'] == 1))]\n",
    "Stud_E9 = Finished[(Finished['B-Q2-9_1'] == 1) | (Finished['B-Q2-9_2'] == 1) | (Finished['B-Q2-9_3'] == 1) | (Finished['B-Q2-9_4'] == 1 | (Finished['B-Q2-9_5'] == 1))]"
   ]
  },
  {
   "cell_type": "markdown",
   "metadata": {},
   "source": [
    "##### Methoden des Strategienerwerbs nach Erwerbskontexten"
   ]
  },
  {
   "cell_type": "code",
   "execution_count": 368,
   "metadata": {},
   "outputs": [
    {
     "data": {
      "text/plain": [
       "B-Q2-1_6    62\n",
       "B-Q2-1_2    59\n",
       "B-Q2-1_3    45\n",
       "B-Q2-1_1    38\n",
       "B-Q2-1_5    22\n",
       "B-Q2-1_4    11\n",
       "B-Q2-1_7     5\n",
       "dtype: int64"
      ]
     },
     "execution_count": 368,
     "metadata": {},
     "output_type": "execute_result"
    }
   ],
   "source": [
    "Finished[erwerb['E1']].apply(sum).sort_values(ascending = False)"
   ]
  },
  {
   "cell_type": "markdown",
   "metadata": {},
   "source": [
    "* (1)\tLas estrategias se presentaron (y explicaron) en clase.\n",
    "* (2)\tEl/La profesor/a dio consejos sobre cómo familiarizarse de manera autónoma con estas estrategias, p. ej. mediante páginas web, libros u otros materiales que explican estrategias de aprendizaje. \n",
    "* (3)\tEstas estrategias se explicaron y practicaron con ejemplos concretos, realizando tareas, p. ej. leyendo un texto difícil.\n",
    "* (4)\tSe probaron y se compararon diferentes estrategias.\n",
    "* (5)\tSe reflexionó sobre el uso de estas estrategias, p. ej. sobre qué estrategia sería adecuada en una situación y/o para una persona determinada.\n",
    "* (6)\tDurante las clases he aprendido estas estrategias de manera inconsciente, p. ej. mientras leía textos difíciles, sin explicación o indicación del/de la profesor/a.\n",
    "* (7)\tOtros:"
   ]
  },
  {
   "cell_type": "code",
   "execution_count": 369,
   "metadata": {},
   "outputs": [
    {
     "data": {
      "text/plain": [
       "134                 Intuición y devoción por las lenguas\n",
       "199    las he aprendido por los profesores [comentari...\n",
       "204                                         por mi parte\n",
       "275    tambien al traducir latín y griego clásico al ...\n",
       "290    Gran parte fue gracias a dos buenos profesores...\n",
       "Name: B-Q2-1_7_TEXT, dtype: object"
      ]
     },
     "execution_count": 369,
     "metadata": {},
     "output_type": "execute_result"
    }
   ],
   "source": [
    "Finished[Finished['B-Q2-1_7_TEXT'] != 0]['B-Q2-1_7_TEXT']"
   ]
  },
  {
   "cell_type": "code",
   "execution_count": 370,
   "metadata": {},
   "outputs": [],
   "source": [
    "DF_Erwerb = pd.DataFrame(np.nan, columns=list(erwerb.keys())[:7], index = [1,2,3,4,5,6,7])"
   ]
  },
  {
   "cell_type": "code",
   "execution_count": 371,
   "metadata": {},
   "outputs": [],
   "source": [
    "for key in list(erwerb.keys())[:7]:\n",
    "    DF_Erwerb[key] = Finished[erwerb[key]].sum().values"
   ]
  },
  {
   "cell_type": "code",
   "execution_count": 372,
   "metadata": {},
   "outputs": [
    {
     "data": {
      "image/png": "[encoded data removed]",
      "text/plain": [
       "<Figure size 864x432 with 1 Axes>"
      ]
     },
     "metadata": {},
     "output_type": "display_data"
    }
   ],
   "source": [
    "DF_Erwerb.T.plot(kind = 'bar', figsize = (12,6), title = 'Übersicht über Methoden des Strategienwerbs in Unterrichtskontexten');"
   ]
  },
  {
   "cell_type": "code",
   "execution_count": 373,
   "metadata": {},
   "outputs": [
    {
     "data": {
      "text/plain": [
       "B-Q2-8_3    51\n",
       "B-Q2-8_2    30\n",
       "B-Q2-8_4    29\n",
       "B-Q2-8_1    18\n",
       "B-Q2-8_5     3\n",
       "dtype: int64"
      ]
     },
     "execution_count": 373,
     "metadata": {},
     "output_type": "execute_result"
    }
   ],
   "source": [
    "Finished[erwerb['E8']].apply(sum).sort_values(ascending = False)"
   ]
  },
  {
   "cell_type": "markdown",
   "metadata": {},
   "source": [
    "* (1)\tHe conocido estas estrategias en mi familia.\n",
    "* (2)\tHe conocido estas estrategias hablando con amigos/as y conocidos/as.\n",
    "* (3)\tHe conocido estas estrategias hablando con compañeros/as de clase.\n",
    "* (4)\tHe conocido estas estrategias imitando hábitos de trabajo de compañeros/as de clase aventajados/as.\n",
    "* (5)\tOtros:"
   ]
  },
  {
   "cell_type": "code",
   "execution_count": 374,
   "metadata": {},
   "outputs": [
    {
     "data": {
      "image/png": "[encoded data removed]",
      "text/plain": [
       "<Figure size 576x360 with 1 Axes>"
      ]
     },
     "metadata": {},
     "output_type": "display_data"
    }
   ],
   "source": [
    "Finished[erwerb['E8']].apply(sum).sort_values(ascending = False).plot(kind='bar', \n",
    "                                                                    figsize = (8,5), width = 0.5, \n",
    "                                                                    legend = False, title = \"Strategienerwerb im sozialen Umfeld\");"
   ]
  },
  {
   "cell_type": "code",
   "execution_count": 375,
   "metadata": {},
   "outputs": [
    {
     "data": {
      "text/plain": [
       "B-Q2-9_1    131\n",
       "B-Q2-9_2    115\n",
       "B-Q2-9_3     39\n",
       "B-Q2-9_4     37\n",
       "B-Q2-9_5      9\n",
       "dtype: int64"
      ]
     },
     "execution_count": 375,
     "metadata": {},
     "output_type": "execute_result"
    }
   ],
   "source": [
    "Finished[erwerb['E9']].apply(sum).sort_values(ascending = False)"
   ]
  },
  {
   "cell_type": "markdown",
   "metadata": {},
   "source": [
    "* (1)\tHe desarrollado estas estrategias por mi cuenta durante el aprendizaje y el uso de idiomas, p. ej. leyendo textos difíciles.\n",
    "* (2)\tHe probado diferentes cosas y me he dado cuenta de qué funciona mejor para mi.\n",
    "* (3)\tHe aprendido estas estrategias con ayuda de páginas web o blogs.\n",
    "* (4)\tHe aprendido estas estrategias con ayuda de libros.\n",
    "* (5)\tHe aprendido estas estrategias con ayuda de otros materiales. (Opcional: Cuáles?)"
   ]
  },
  {
   "cell_type": "code",
   "execution_count": 376,
   "metadata": {},
   "outputs": [
    {
     "data": {
      "image/png": "[encoded data removed]",
      "text/plain": [
       "<Figure size 576x360 with 1 Axes>"
      ]
     },
     "metadata": {},
     "output_type": "display_data"
    }
   ],
   "source": [
    "Finished[erwerb['E9']].apply(sum).sort_values(ascending = False).plot(kind='bar', \n",
    "                                                                    figsize = (8,5), width = 0.5, \n",
    "                                                                    legend = False, title = \"Autonomer Strategienerwerb\");"
   ]
  },
  {
   "cell_type": "markdown",
   "metadata": {},
   "source": [
    "##### Übersicht über Methoden des Strategienerwerbs in Unterrichtskontexten"
   ]
  },
  {
   "cell_type": "code",
   "execution_count": 377,
   "metadata": {},
   "outputs": [
    {
     "data": {
      "text/plain": [
       "336"
      ]
     },
     "execution_count": 377,
     "metadata": {},
     "output_type": "execute_result"
    }
   ],
   "source": [
    "Finished[erwerb1['U1']].apply(pd.value_counts).astype(integer).iloc[1].sum()"
   ]
  },
  {
   "cell_type": "code",
   "execution_count": 378,
   "metadata": {},
   "outputs": [],
   "source": [
    "Erwerb_U = []\n",
    "for lst in erwerb1:\n",
    "        Erwerb_U.append(Finished[erwerb1[lst]].apply(pd.value_counts).astype(integer).iloc[1].sum())"
   ]
  },
  {
   "cell_type": "code",
   "execution_count": 379,
   "metadata": {},
   "outputs": [
    {
     "data": {
      "text/plain": [
       "[336, 469, 349, 153, 200, 545, 33]"
      ]
     },
     "execution_count": 379,
     "metadata": {},
     "output_type": "execute_result"
    }
   ],
   "source": [
    "Erwerb_U"
   ]
  },
  {
   "cell_type": "code",
   "execution_count": 380,
   "metadata": {},
   "outputs": [],
   "source": [
    "Erwerb_U = pd.Series(Erwerb_U)"
   ]
  },
  {
   "cell_type": "code",
   "execution_count": 381,
   "metadata": {},
   "outputs": [],
   "source": [
    "Erwerb_U.index += 1"
   ]
  },
  {
   "cell_type": "code",
   "execution_count": 382,
   "metadata": {},
   "outputs": [
    {
     "data": {
      "text/plain": [
       "6    545\n",
       "2    469\n",
       "3    349\n",
       "1    336\n",
       "5    200\n",
       "4    153\n",
       "7     33\n",
       "dtype: int64"
      ]
     },
     "execution_count": 382,
     "metadata": {},
     "output_type": "execute_result"
    }
   ],
   "source": [
    "Erwerb_U.sort_values(ascending = False)"
   ]
  },
  {
   "cell_type": "code",
   "execution_count": 383,
   "metadata": {},
   "outputs": [
    {
     "data": {
      "image/png": "[encoded data removed]",
      "text/plain": [
       "<Figure size 576x360 with 1 Axes>"
      ]
     },
     "metadata": {},
     "output_type": "display_data"
    }
   ],
   "source": [
    "Erwerb_U.sort_values(ascending = False).plot(kind='bar', \n",
    "                                        figsize = (8,5), width = 0.5, \n",
    "                                        legend = False, title = \"Strategienerwerb in Unterrichtskontexten\");"
   ]
  },
  {
   "cell_type": "code",
   "execution_count": 384,
   "metadata": {},
   "outputs": [
    {
     "data": {
      "image/png": "[encoded data removed]",
      "text/plain": [
       "<Figure size 576x576 with 1 Axes>"
      ]
     },
     "metadata": {},
     "output_type": "display_data"
    }
   ],
   "source": [
    "Erwerb_U.sort_values(ascending = False).plot(kind='pie', \n",
    "                                        figsize = (8,8), autopct='%.1f',\n",
    "                                        legend = False, title = \"Strategienerwerb in Unterrichtskontexten\");"
   ]
  },
  {
   "cell_type": "markdown",
   "metadata": {},
   "source": [
    "* (1)\tLas estrategias se presentaron (y explicaron) en clase.\n",
    "* (2)\tEl/La profesor/a dio consejos sobre cómo familiarizarse de manera autónoma con estas estrategias, p. ej. mediante páginas web, libros u otros materiales que explican estrategias de aprendizaje. \n",
    "* (3)\tEstas estrategias se explicaron y practicaron con ejemplos concretos, realizando tareas, p. ej. leyendo un texto difícil.\n",
    "* (4)\tSe probaron y se compararon diferentes estrategias.\n",
    "* (5)\tSe reflexionó sobre el uso de estas estrategias, p. ej. sobre qué estrategia sería adecuada en una situación y/o para una persona determinada.\n",
    "* (6)\tDurante las clases he aprendido estas estrategias de manera inconsciente, p. ej. mientras leía textos difíciles, sin explicación o indicación del/de la profesor/a.\n",
    "* (7)\tOtros:"
   ]
  },
  {
   "cell_type": "markdown",
   "metadata": {},
   "source": [
    "##### Untersuchung der Relation zwischen Strategienerwerb und -anwendung"
   ]
  },
  {
   "cell_type": "code",
   "execution_count": 385,
   "metadata": {},
   "outputs": [
    {
     "data": {
      "text/plain": [
       "6    162\n",
       "2    141\n",
       "3    105\n",
       "1    102\n",
       "5     63\n",
       "4     50\n",
       "dtype: int64"
      ]
     },
     "execution_count": 385,
     "metadata": {},
     "output_type": "execute_result"
    }
   ],
   "source": [
    "Stud_U.sort_values(ascending=False)"
   ]
  },
  {
   "cell_type": "code",
   "execution_count": 386,
   "metadata": {},
   "outputs": [
    {
     "data": {
      "text/plain": [
       "(70, 68.62745098039215)"
      ]
     },
     "execution_count": 386,
     "metadata": {},
     "output_type": "execute_result"
    }
   ],
   "source": [
    "get_good_str(Stud_U1)"
   ]
  },
  {
   "cell_type": "code",
   "execution_count": 387,
   "metadata": {},
   "outputs": [
    {
     "data": {
      "text/plain": [
       "(99, 70.2127659574468)"
      ]
     },
     "execution_count": 387,
     "metadata": {},
     "output_type": "execute_result"
    }
   ],
   "source": [
    "get_good_str(Stud_U2)"
   ]
  },
  {
   "cell_type": "code",
   "execution_count": 388,
   "metadata": {},
   "outputs": [
    {
     "data": {
      "text/plain": [
       "(74, 70.47619047619048)"
      ]
     },
     "execution_count": 388,
     "metadata": {},
     "output_type": "execute_result"
    }
   ],
   "source": [
    "get_good_str(Stud_U3)"
   ]
  },
  {
   "cell_type": "code",
   "execution_count": 389,
   "metadata": {},
   "outputs": [
    {
     "data": {
      "text/plain": [
       "(35, 70.0)"
      ]
     },
     "execution_count": 389,
     "metadata": {},
     "output_type": "execute_result"
    }
   ],
   "source": [
    "get_good_str(Stud_U4)"
   ]
  },
  {
   "cell_type": "code",
   "execution_count": 390,
   "metadata": {},
   "outputs": [
    {
     "data": {
      "text/plain": [
       "(47, 74.60317460317461)"
      ]
     },
     "execution_count": 390,
     "metadata": {},
     "output_type": "execute_result"
    }
   ],
   "source": [
    "get_good_str(Stud_U5)"
   ]
  },
  {
   "cell_type": "code",
   "execution_count": 391,
   "metadata": {},
   "outputs": [
    {
     "data": {
      "text/plain": [
       "(105, 64.81481481481481)"
      ]
     },
     "execution_count": 391,
     "metadata": {},
     "output_type": "execute_result"
    }
   ],
   "source": [
    "get_good_str(Stud_U6)"
   ]
  },
  {
   "cell_type": "code",
   "execution_count": 392,
   "metadata": {},
   "outputs": [
    {
     "data": {
      "text/plain": [
       "(47, 70.1492537313433)"
      ]
     },
     "execution_count": 392,
     "metadata": {},
     "output_type": "execute_result"
    }
   ],
   "source": [
    "get_good_str(Stud_E8)"
   ]
  },
  {
   "cell_type": "code",
   "execution_count": 393,
   "metadata": {},
   "outputs": [
    {
     "data": {
      "text/plain": [
       "(104, 62.65060240963856)"
      ]
     },
     "execution_count": 393,
     "metadata": {},
     "output_type": "execute_result"
    }
   ],
   "source": [
    "get_good_str(Stud_E9)"
   ]
  },
  {
   "cell_type": "markdown",
   "metadata": {},
   "source": [
    "#### B-Q3 + B-Q4 (Strategienwerb im Rahmen der Befragung)"
   ]
  },
  {
   "cell_type": "code",
   "execution_count": 394,
   "metadata": {},
   "outputs": [
    {
     "data": {
      "image/png": "[encoded data removed]",
      "text/plain": [
       "<Figure size 288x360 with 1 Axes>"
      ]
     },
     "metadata": {},
     "output_type": "display_data"
    }
   ],
   "source": [
    "Finished['B-Q3'].value_counts()[[1,2,3]].plot(kind = 'bar', figsize = (4,5), width = 0.4, legend = True, title = \"Neue Strategien kennengelernt?\");"
   ]
  },
  {
   "cell_type": "markdown",
   "metadata": {},
   "source": [
    "(1) Ja\n",
    "(2) Nein\n",
    "(3) Vielleicht"
   ]
  },
  {
   "cell_type": "code",
   "execution_count": 395,
   "metadata": {},
   "outputs": [
    {
     "data": {
      "image/png": "[encoded data removed]",
      "text/plain": [
       "<Figure size 288x360 with 1 Axes>"
      ]
     },
     "metadata": {},
     "output_type": "display_data"
    }
   ],
   "source": [
    "Finished['B-Q4'].value_counts()[[1,2,3]].plot(kind = 'bar', figsize = (4,5), width = 0.4, legend = True, title = \"Neue Strategien anwenden?\");"
   ]
  },
  {
   "cell_type": "markdown",
   "metadata": {},
   "source": [
    "### Einstellung zu Erschließungsstrategien"
   ]
  },
  {
   "cell_type": "markdown",
   "metadata": {},
   "source": [
    "#### C-Q1"
   ]
  },
  {
   "cell_type": "code",
   "execution_count": 396,
   "metadata": {},
   "outputs": [
    {
     "data": {
      "text/html": [
       "<div>\n",
       "<style scoped>\n",
       "    .dataframe tbody tr th:only-of-type {\n",
       "        vertical-align: middle;\n",
       "    }\n",
       "\n",
       "    .dataframe tbody tr th {\n",
       "        vertical-align: top;\n",
       "    }\n",
       "\n",
       "    .dataframe thead th {\n",
       "        text-align: right;\n",
       "    }\n",
       "</style>\n",
       "<table border=\"1\" class=\"dataframe\">\n",
       "  <thead>\n",
       "    <tr style=\"text-align: right;\">\n",
       "      <th></th>\n",
       "      <th>C-Q1_1</th>\n",
       "      <th>C-Q1_2</th>\n",
       "      <th>C-Q1_3</th>\n",
       "      <th>C-Q1_4</th>\n",
       "      <th>C-Q1_5</th>\n",
       "      <th>C-Q1_6</th>\n",
       "      <th>C-Q1_7</th>\n",
       "    </tr>\n",
       "  </thead>\n",
       "  <tbody>\n",
       "    <tr>\n",
       "      <th>count</th>\n",
       "      <td>294.000000</td>\n",
       "      <td>294.000000</td>\n",
       "      <td>294.000000</td>\n",
       "      <td>294.000000</td>\n",
       "      <td>294.000000</td>\n",
       "      <td>294.000000</td>\n",
       "      <td>294.000000</td>\n",
       "    </tr>\n",
       "    <tr>\n",
       "      <th>mean</th>\n",
       "      <td>3.448980</td>\n",
       "      <td>3.612245</td>\n",
       "      <td>3.744898</td>\n",
       "      <td>4.394558</td>\n",
       "      <td>4.391156</td>\n",
       "      <td>4.299320</td>\n",
       "      <td>2.554422</td>\n",
       "    </tr>\n",
       "    <tr>\n",
       "      <th>std</th>\n",
       "      <td>0.891244</td>\n",
       "      <td>1.108139</td>\n",
       "      <td>1.105165</td>\n",
       "      <td>0.830788</td>\n",
       "      <td>0.788174</td>\n",
       "      <td>0.845909</td>\n",
       "      <td>1.178055</td>\n",
       "    </tr>\n",
       "    <tr>\n",
       "      <th>min</th>\n",
       "      <td>1.000000</td>\n",
       "      <td>1.000000</td>\n",
       "      <td>1.000000</td>\n",
       "      <td>1.000000</td>\n",
       "      <td>1.000000</td>\n",
       "      <td>1.000000</td>\n",
       "      <td>1.000000</td>\n",
       "    </tr>\n",
       "    <tr>\n",
       "      <th>25%</th>\n",
       "      <td>3.000000</td>\n",
       "      <td>3.000000</td>\n",
       "      <td>3.000000</td>\n",
       "      <td>4.000000</td>\n",
       "      <td>4.000000</td>\n",
       "      <td>4.000000</td>\n",
       "      <td>2.000000</td>\n",
       "    </tr>\n",
       "    <tr>\n",
       "      <th>50%</th>\n",
       "      <td>4.000000</td>\n",
       "      <td>4.000000</td>\n",
       "      <td>4.000000</td>\n",
       "      <td>5.000000</td>\n",
       "      <td>5.000000</td>\n",
       "      <td>4.000000</td>\n",
       "      <td>2.000000</td>\n",
       "    </tr>\n",
       "    <tr>\n",
       "      <th>75%</th>\n",
       "      <td>4.000000</td>\n",
       "      <td>4.000000</td>\n",
       "      <td>5.000000</td>\n",
       "      <td>5.000000</td>\n",
       "      <td>5.000000</td>\n",
       "      <td>5.000000</td>\n",
       "      <td>3.000000</td>\n",
       "    </tr>\n",
       "    <tr>\n",
       "      <th>max</th>\n",
       "      <td>5.000000</td>\n",
       "      <td>5.000000</td>\n",
       "      <td>5.000000</td>\n",
       "      <td>5.000000</td>\n",
       "      <td>5.000000</td>\n",
       "      <td>5.000000</td>\n",
       "      <td>5.000000</td>\n",
       "    </tr>\n",
       "  </tbody>\n",
       "</table>\n",
       "</div>"
      ],
      "text/plain": [
       "           C-Q1_1      C-Q1_2      C-Q1_3      C-Q1_4      C-Q1_5      C-Q1_6  \\\n",
       "count  294.000000  294.000000  294.000000  294.000000  294.000000  294.000000   \n",
       "mean     3.448980    3.612245    3.744898    4.394558    4.391156    4.299320   \n",
       "std      0.891244    1.108139    1.105165    0.830788    0.788174    0.845909   \n",
       "min      1.000000    1.000000    1.000000    1.000000    1.000000    1.000000   \n",
       "25%      3.000000    3.000000    3.000000    4.000000    4.000000    4.000000   \n",
       "50%      4.000000    4.000000    4.000000    5.000000    5.000000    4.000000   \n",
       "75%      4.000000    4.000000    5.000000    5.000000    5.000000    5.000000   \n",
       "max      5.000000    5.000000    5.000000    5.000000    5.000000    5.000000   \n",
       "\n",
       "           C-Q1_7  \n",
       "count  294.000000  \n",
       "mean     2.554422  \n",
       "std      1.178055  \n",
       "min      1.000000  \n",
       "25%      2.000000  \n",
       "50%      2.000000  \n",
       "75%      3.000000  \n",
       "max      5.000000  "
      ]
     },
     "execution_count": 396,
     "metadata": {},
     "output_type": "execute_result"
    }
   ],
   "source": [
    "Finished[Liste_C_Q1].describe()"
   ]
  },
  {
   "cell_type": "code",
   "execution_count": 397,
   "metadata": {},
   "outputs": [
    {
     "data": {
      "image/png": "[encoded data removed]",
      "text/plain": [
       "<Figure size 1152x864 with 7 Axes>"
      ]
     },
     "metadata": {},
     "output_type": "display_data"
    }
   ],
   "source": [
    "graf_hist(Finished,Liste_C_Q1,16,12,3,4)"
   ]
  },
  {
   "cell_type": "markdown",
   "metadata": {},
   "source": [
    "1\n",
    "Pienso que en alemán utilizo estas estrategias con éxito. \n",
    "\n",
    "2\n",
    "Estas estrategias son un tema importante en mis clases de alemán.\n",
    "\n",
    "3\n",
    "Utilizo estas estrategias a menudo fuera del aula, p. ej. cuando leo textos en alemán en mi tiempo libre.\n",
    "\n",
    "4\n",
    "Estas estrategias son útiles para ampliar el vocabulario en alemán.\n",
    "\n",
    "5\n",
    "Estas estrategias son útiles para entender mejor textos en alemán.\n",
    "\n",
    "6\n",
    "Estas estrategias deberían explicarse y practicarse en las clases de alemán.\n",
    "\n",
    "7\n",
    "No hace falta aprender estas estrategias, ya que las usamos en cualquier caso de forma inconsciente. \n"
   ]
  },
  {
   "cell_type": "markdown",
   "metadata": {},
   "source": [
    "Korrelation in C-Q1:"
   ]
  },
  {
   "cell_type": "code",
   "execution_count": 398,
   "metadata": {},
   "outputs": [
    {
     "data": {
      "text/html": [
       "<div>\n",
       "<style scoped>\n",
       "    .dataframe tbody tr th:only-of-type {\n",
       "        vertical-align: middle;\n",
       "    }\n",
       "\n",
       "    .dataframe tbody tr th {\n",
       "        vertical-align: top;\n",
       "    }\n",
       "\n",
       "    .dataframe thead th {\n",
       "        text-align: right;\n",
       "    }\n",
       "</style>\n",
       "<table border=\"1\" class=\"dataframe\">\n",
       "  <thead>\n",
       "    <tr style=\"text-align: right;\">\n",
       "      <th></th>\n",
       "      <th>C-Q1_1</th>\n",
       "      <th>C-Q1_2</th>\n",
       "      <th>C-Q1_3</th>\n",
       "      <th>C-Q1_4</th>\n",
       "      <th>C-Q1_5</th>\n",
       "      <th>C-Q1_6</th>\n",
       "      <th>C-Q1_7</th>\n",
       "    </tr>\n",
       "  </thead>\n",
       "  <tbody>\n",
       "    <tr>\n",
       "      <th>C-Q1_1</th>\n",
       "      <td>1.000000</td>\n",
       "      <td>0.166330</td>\n",
       "      <td>0.460826</td>\n",
       "      <td>0.364827</td>\n",
       "      <td>0.381106</td>\n",
       "      <td>0.177434</td>\n",
       "      <td>0.160711</td>\n",
       "    </tr>\n",
       "    <tr>\n",
       "      <th>C-Q1_2</th>\n",
       "      <td>0.166330</td>\n",
       "      <td>1.000000</td>\n",
       "      <td>0.070945</td>\n",
       "      <td>0.269025</td>\n",
       "      <td>0.341017</td>\n",
       "      <td>0.300581</td>\n",
       "      <td>-0.005052</td>\n",
       "    </tr>\n",
       "    <tr>\n",
       "      <th>C-Q1_3</th>\n",
       "      <td>0.460826</td>\n",
       "      <td>0.070945</td>\n",
       "      <td>1.000000</td>\n",
       "      <td>0.258157</td>\n",
       "      <td>0.365397</td>\n",
       "      <td>0.121001</td>\n",
       "      <td>0.129022</td>\n",
       "    </tr>\n",
       "    <tr>\n",
       "      <th>C-Q1_4</th>\n",
       "      <td>0.364827</td>\n",
       "      <td>0.269025</td>\n",
       "      <td>0.258157</td>\n",
       "      <td>1.000000</td>\n",
       "      <td>0.585881</td>\n",
       "      <td>0.301667</td>\n",
       "      <td>-0.103350</td>\n",
       "    </tr>\n",
       "    <tr>\n",
       "      <th>C-Q1_5</th>\n",
       "      <td>0.381106</td>\n",
       "      <td>0.341017</td>\n",
       "      <td>0.365397</td>\n",
       "      <td>0.585881</td>\n",
       "      <td>1.000000</td>\n",
       "      <td>0.357846</td>\n",
       "      <td>-0.033119</td>\n",
       "    </tr>\n",
       "    <tr>\n",
       "      <th>C-Q1_6</th>\n",
       "      <td>0.177434</td>\n",
       "      <td>0.300581</td>\n",
       "      <td>0.121001</td>\n",
       "      <td>0.301667</td>\n",
       "      <td>0.357846</td>\n",
       "      <td>1.000000</td>\n",
       "      <td>-0.118782</td>\n",
       "    </tr>\n",
       "    <tr>\n",
       "      <th>C-Q1_7</th>\n",
       "      <td>0.160711</td>\n",
       "      <td>-0.005052</td>\n",
       "      <td>0.129022</td>\n",
       "      <td>-0.103350</td>\n",
       "      <td>-0.033119</td>\n",
       "      <td>-0.118782</td>\n",
       "      <td>1.000000</td>\n",
       "    </tr>\n",
       "  </tbody>\n",
       "</table>\n",
       "</div>"
      ],
      "text/plain": [
       "          C-Q1_1    C-Q1_2    C-Q1_3    C-Q1_4    C-Q1_5    C-Q1_6    C-Q1_7\n",
       "C-Q1_1  1.000000  0.166330  0.460826  0.364827  0.381106  0.177434  0.160711\n",
       "C-Q1_2  0.166330  1.000000  0.070945  0.269025  0.341017  0.300581 -0.005052\n",
       "C-Q1_3  0.460826  0.070945  1.000000  0.258157  0.365397  0.121001  0.129022\n",
       "C-Q1_4  0.364827  0.269025  0.258157  1.000000  0.585881  0.301667 -0.103350\n",
       "C-Q1_5  0.381106  0.341017  0.365397  0.585881  1.000000  0.357846 -0.033119\n",
       "C-Q1_6  0.177434  0.300581  0.121001  0.301667  0.357846  1.000000 -0.118782\n",
       "C-Q1_7  0.160711 -0.005052  0.129022 -0.103350 -0.033119 -0.118782  1.000000"
      ]
     },
     "execution_count": 398,
     "metadata": {},
     "output_type": "execute_result"
    }
   ],
   "source": [
    "Korr_C_Q1 = Daten[Liste_C_Q1].corr(method = 'spearman')\n",
    "Korr_C_Q1"
   ]
  },
  {
   "cell_type": "code",
   "execution_count": 399,
   "metadata": {},
   "outputs": [
    {
     "name": "stdout",
     "output_type": "stream",
     "text": [
      "Series([], Name: C-Q1_1, dtype: float64)\n",
      "Series([], Name: C-Q1_2, dtype: float64)\n",
      "Series([], Name: C-Q1_3, dtype: float64)\n",
      "C-Q1_5    0.585881\n",
      "Name: C-Q1_4, dtype: float64\n",
      "C-Q1_4    0.585881\n",
      "Name: C-Q1_5, dtype: float64\n",
      "Series([], Name: C-Q1_6, dtype: float64)\n",
      "Series([], Name: C-Q1_7, dtype: float64)\n"
     ]
    }
   ],
   "source": [
    "for col in Liste_C_Q1:\n",
    "    print(get_max_corr(Korr_C_Q1,col,0.5))"
   ]
  },
  {
   "cell_type": "markdown",
   "metadata": {},
   "source": [
    "### Charakteristika der Stichprobe"
   ]
  },
  {
   "cell_type": "code",
   "execution_count": 400,
   "metadata": {},
   "outputs": [
    {
     "data": {
      "image/png": "[encoded data removed]",
      "text/plain": [
       "<Figure size 864x360 with 1 Axes>"
      ]
     },
     "metadata": {},
     "output_type": "display_data"
    }
   ],
   "source": [
    "Finished[Finished['D-Q1'] != 0]['D-Q1'].value_counts().plot(kind='bar', \n",
    "                                                            figsize = (12,5), width = 0.5, \n",
    "                                                            legend = True, title = \"Universität\");"
   ]
  },
  {
   "cell_type": "markdown",
   "metadata": {},
   "source": [
    "(1)\tAbat Oliba-CEU\n",
    "(2)\tAlcalá de Henares\n",
    "(3)\tAlfonso X El Sabio\n",
    "(4)\tAlicante\n",
    "(5)\tAlmería\n",
    "(6)\tAntonio de Nebrija\n",
    "(7)\tAutónoma de Barcelona\n",
    "(8)\tAutónoma de Madrid\n",
    "(9)\tBarcelona\n",
    "(10)\tBurgos\n",
    "(11)\tCádiz\n",
    "(12)\tCamilo José Cela\n",
    "(13)\tCantabria\n",
    "(14)\tCardenal Herrera-CEU\n",
    "(15)\tCarlos III\n",
    "(16)\tCastilla-La Mancha\n",
    "(17)\tCatólica de Ávila\n",
    "(18)\tCatólica de Valencia\n",
    "(19)\tCatólica S. Antonio de Murcia\n",
    "(20)\tComplutense de Madrid\n",
    "(21)\tCórdoba\n",
    "(22)\tCoruña, A\n",
    "(23)\tDeusto\n",
    "(24)\tEuropea de Madrid\n",
    "(25)\tEuropea Miguel de Cervantes\n",
    "(26)\tExtremadura\n",
    "(27)\tFrancisco de Vitoria\n",
    "(28)\tGirona\n",
    "(29)\tGranada\n",
    "(30)\tHuelva\n",
    "(31)\tIE Universidad\n",
    "(32)\tIlles Balears\n",
    "(33)\tInternacional de Catalunya\n",
    "(34)\tInternacional de La Rioja\n",
    "(35)\tInternacional Valenciana\n",
    "(36)\tJaén\n",
    "(37)\tJaume I de Castellón\n",
    "(38)\tLa Laguna\n",
    "(39)\tLa Rioja\n",
    "(40)\tLeón\n",
    "(41)\tLleida\n",
    "(42)\tMálaga\n",
    "(43)\tMiguel Hernández de Elche\n",
    "(44)\tMondragón\n",
    "(45)\tMurcia\n",
    "(46)\tNavarra\n",
    "(47)\tOberta de Catalunya\n",
    "(48)\tOviedo\n",
    "(49)\tPablo de Olavide\n",
    "(50)\tPaís Vasco\n",
    "(51)\tPalmas (Las)\n",
    "(52)\tPolitécnica de Cartagena\n",
    "(53)\tPolitécnica de Cataluña\n",
    "(54)\tPolitécnica de Madrid\n",
    "(55)\tPolitécnica de Valencia\n",
    "(56)\tPompeu Fabra\n",
    "(57)\tPontificia Comillas\n",
    "(58)\tPontificia de Salamanca\n",
    "(59)\tPública de Navarra\n",
    "(60)\tRamón Llull\n",
    "(61)\tRey Juan Carlos\n",
    "(62)\tRovira i Virgili\n",
    "(63)\tSalamanca\n",
    "(64)\tSan Jorge\n",
    "(65)\tSan Pablo-CEU\n",
    "(66)\tSantiago de Compostela\n",
    "(67)\tSevilla\n",
    "(68)\tU.N.E.D.\n",
    "(69)\tUDIMA\n",
    "(70)\tValencia (Est. General)\n",
    "(71)\tValladolid\n",
    "(72)\tVic\n",
    "(73)\tVigo\n",
    "(74)\tZaragoza\n",
    "(75)\tOtra"
   ]
  },
  {
   "cell_type": "code",
   "execution_count": 401,
   "metadata": {},
   "outputs": [
    {
     "data": {
      "text/plain": [
       "63    57\n",
       "67    56\n",
       "73    35\n",
       "29    30\n",
       "66    28\n",
       "20    26\n",
       "70    18\n",
       "8      9\n",
       "50     7\n",
       "2      6\n",
       "37     4\n",
       "9      4\n",
       "0      3\n",
       "71     3\n",
       "75     2\n",
       "51     2\n",
       "16     1\n",
       "35     1\n",
       "48     1\n",
       "42     1\n",
       "Name: D-Q1, dtype: int64"
      ]
     },
     "execution_count": 401,
     "metadata": {},
     "output_type": "execute_result"
    }
   ],
   "source": [
    "Finished['D-Q1'].value_counts()"
   ]
  },
  {
   "cell_type": "code",
   "execution_count": 402,
   "metadata": {},
   "outputs": [
    {
     "data": {
      "text/plain": [
       "20"
      ]
     },
     "execution_count": 402,
     "metadata": {},
     "output_type": "execute_result"
    }
   ],
   "source": [
    "Finished['D-Q1'].nunique()"
   ]
  },
  {
   "cell_type": "code",
   "execution_count": 403,
   "metadata": {},
   "outputs": [
    {
     "data": {
      "text/plain": [
       "0                           292\n",
       "Universidad Complutence       1\n",
       "Universidad de Valencia       1\n",
       "Name: D-Q1a, dtype: int64"
      ]
     },
     "execution_count": 403,
     "metadata": {},
     "output_type": "execute_result"
    }
   ],
   "source": [
    "Finished['D-Q1a'].value_counts()"
   ]
  },
  {
   "cell_type": "markdown",
   "metadata": {},
   "source": [
    "Studierende aus 18 verschiedenen Universitäten nahmen an der Befragung teil."
   ]
  },
  {
   "cell_type": "code",
   "execution_count": 404,
   "metadata": {},
   "outputs": [
    {
     "data": {
      "image/png": "[encoded data removed]",
      "text/plain": [
       "<Figure size 360x360 with 1 Axes>"
      ]
     },
     "metadata": {},
     "output_type": "display_data"
    }
   ],
   "source": [
    "Finished['D-Q2'].value_counts()[[1,2,3,4]].plot(kind = 'bar', figsize = (5,5), width = 0.4, legend = True, title = \"Studium\");"
   ]
  },
  {
   "cell_type": "markdown",
   "metadata": {},
   "source": [
    "(1)\tGrado\n",
    "(2)\tPosgrado/Máster \n",
    "(3)\tDoctorado\n",
    "(4)\tOtros"
   ]
  },
  {
   "cell_type": "code",
   "execution_count": 405,
   "metadata": {},
   "outputs": [
    {
     "data": {
      "text/plain": [
       "1    271\n",
       "4     10\n",
       "3      6\n",
       "2      5\n",
       "0      2\n",
       "Name: D-Q2, dtype: int64"
      ]
     },
     "execution_count": 405,
     "metadata": {},
     "output_type": "execute_result"
    }
   ],
   "source": [
    "Finished['D-Q2'].value_counts()"
   ]
  },
  {
   "cell_type": "code",
   "execution_count": 406,
   "metadata": {},
   "outputs": [
    {
     "data": {
      "image/png": "[encoded data removed]",
      "text/plain": [
       "<Figure size 504x360 with 1 Axes>"
      ]
     },
     "metadata": {},
     "output_type": "display_data"
    }
   ],
   "source": [
    "Finished['D-Q2a'].value_counts().reindex([1,2,3,4,5,6,7,8]).plot(kind='bar', figsize = (7,5), width = 0.5, legend = True, title = \"Studienrichtung\");"
   ]
  },
  {
   "cell_type": "markdown",
   "metadata": {},
   "source": [
    "(1) Estudios Alemanes / Filología Alemana (Germanistikstudium / deutsche Philologie), (2) Otras Filologías (Anderes Philologiestudium), (3) Traducción, Alemán 1a Lengua Extranjera / B (Übersetzen und Dolmetschen, Erste Fremdsprache / Sprache B), (4) Traducción, Alemán 2a Lengua Extranjera / C (Übersetzen und Dolmetschen, Zweite Fremdsprache / Sprache C), (5) Humanidades (Humanistisches Studium), (6) Economía (Wirtschaftliches Studium), (7) Turismo (Tourismus-Studium), (8) Otra (Andere)"
   ]
  },
  {
   "cell_type": "code",
   "execution_count": 407,
   "metadata": {},
   "outputs": [
    {
     "data": {
      "image/png": "[encoded data removed]",
      "text/plain": [
       "<Figure size 504x360 with 1 Axes>"
      ]
     },
     "metadata": {},
     "output_type": "display_data"
    }
   ],
   "source": [
    "Finished[Finished['D-Q2a'] !=0]['D-Q2a'].value_counts().plot(kind='bar', figsize = (7,5), width = 0.5, legend = True, title = \"Studienrichtung\");"
   ]
  },
  {
   "cell_type": "code",
   "execution_count": 408,
   "metadata": {},
   "outputs": [
    {
     "data": {
      "text/plain": [
       "1    108\n",
       "2     64\n",
       "4     42\n",
       "8     38\n",
       "0     23\n",
       "3      9\n",
       "7      8\n",
       "5      2\n",
       "Name: D-Q2a, dtype: int64"
      ]
     },
     "execution_count": 408,
     "metadata": {},
     "output_type": "execute_result"
    }
   ],
   "source": [
    "Finished['D-Q2a'].value_counts()"
   ]
  },
  {
   "cell_type": "code",
   "execution_count": 409,
   "metadata": {},
   "outputs": [
    {
     "data": {
      "image/png": "[encoded data removed]",
      "text/plain": [
       "<Figure size 360x360 with 1 Axes>"
      ]
     },
     "metadata": {},
     "output_type": "display_data"
    }
   ],
   "source": [
    "Finished['D-Q2b'].value_counts()[[1,2,3,4]].plot(kind='bar', figsize = (5,5), width = 0.4, legend = True, title = \"Studienjahr\");"
   ]
  },
  {
   "cell_type": "code",
   "execution_count": 410,
   "metadata": {},
   "outputs": [
    {
     "data": {
      "text/plain": [
       "1    132\n",
       "2     69\n",
       "3     49\n",
       "0     27\n",
       "4     17\n",
       "Name: D-Q2b, dtype: int64"
      ]
     },
     "execution_count": 410,
     "metadata": {},
     "output_type": "execute_result"
    }
   ],
   "source": [
    "Finished['D-Q2b'].value_counts()"
   ]
  },
  {
   "cell_type": "code",
   "execution_count": 411,
   "metadata": {},
   "outputs": [
    {
     "data": {
      "image/png": "[encoded data removed]",
      "text/plain": [
       "<Figure size 288x360 with 1 Axes>"
      ]
     },
     "metadata": {},
     "output_type": "display_data"
    }
   ],
   "source": [
    "Finished['D-Q3'].value_counts()[[1,2,3]].plot(kind = 'bar', figsize = (4,5), width = 0.4, legend = True, title = \"Art des Deutschkurses\");"
   ]
  },
  {
   "cell_type": "markdown",
   "metadata": {},
   "source": [
    "(1) Pflichtfach, (2) Wahlfach, (3) extracurricularer Kurs"
   ]
  },
  {
   "cell_type": "code",
   "execution_count": 412,
   "metadata": {},
   "outputs": [
    {
     "data": {
      "text/plain": [
       "1    173\n",
       "2    104\n",
       "3     17\n",
       "Name: D-Q3, dtype: int64"
      ]
     },
     "execution_count": 412,
     "metadata": {},
     "output_type": "execute_result"
    }
   ],
   "source": [
    "Finished['D-Q3'].value_counts()"
   ]
  },
  {
   "cell_type": "code",
   "execution_count": 413,
   "metadata": {},
   "outputs": [
    {
     "data": {
      "image/png": "[encoded data removed]",
      "text/plain": [
       "<Figure size 432x360 with 1 Axes>"
      ]
     },
     "metadata": {},
     "output_type": "display_data"
    }
   ],
   "source": [
    "Finished['D-Q4'].value_counts()[[1,2,3,4,5,6]].plot(kind='bar', figsize = (6,5), width = 0.5, legend = True, title = \"Niveau des aktuellen Deutschkurses\");"
   ]
  },
  {
   "cell_type": "markdown",
   "metadata": {},
   "source": [
    "(1)\tA1, \n",
    "(2)\tA2, \n",
    "(3)\tB1, \n",
    "(4)\tB2, \n",
    "(5)\tC1,\n",
    "(6)\tC2 "
   ]
  },
  {
   "cell_type": "code",
   "execution_count": 414,
   "metadata": {},
   "outputs": [
    {
     "data": {
      "text/plain": [
       "1    107\n",
       "3     85\n",
       "2     54\n",
       "4     30\n",
       "5     16\n",
       "6      1\n",
       "0      1\n",
       "Name: D-Q4, dtype: int64"
      ]
     },
     "execution_count": 414,
     "metadata": {},
     "output_type": "execute_result"
    }
   ],
   "source": [
    "Finished['D-Q4'].value_counts()"
   ]
  },
  {
   "cell_type": "code",
   "execution_count": 415,
   "metadata": {},
   "outputs": [
    {
     "data": {
      "text/plain": [
       "count    285.000000\n",
       "mean      21.449123\n",
       "std        6.305741\n",
       "min       17.000000\n",
       "25%       18.000000\n",
       "50%       20.000000\n",
       "75%       21.000000\n",
       "max       59.000000\n",
       "Name: D-Q5, dtype: float64"
      ]
     },
     "execution_count": 415,
     "metadata": {},
     "output_type": "execute_result"
    }
   ],
   "source": [
    "Finished[Finished['D-Q5'] != 0]['D-Q5'].describe()"
   ]
  },
  {
   "cell_type": "code",
   "execution_count": 416,
   "metadata": {},
   "outputs": [
    {
     "data": {
      "image/png": "[encoded data removed]",
      "text/plain": [
       "<Figure size 1080x360 with 1 Axes>"
      ]
     },
     "metadata": {},
     "output_type": "display_data"
    }
   ],
   "source": [
    "Finished[Finished['D-Q5'] != 0]['D-Q5'].astype(integer).value_counts().sort_index().plot(kind='bar', figsize = (15,5), legend = True, title = \"Alter\");"
   ]
  },
  {
   "cell_type": "code",
   "execution_count": 417,
   "metadata": {},
   "outputs": [
    {
     "data": {
      "image/png": "[encoded data removed]",
      "text/plain": [
       "<Figure size 288x360 with 1 Axes>"
      ]
     },
     "metadata": {},
     "output_type": "display_data"
    }
   ],
   "source": [
    "Finished['D-Q6'].value_counts()[[1,2,3]].plot(kind = 'bar', figsize = (4,5), width = 0.4, legend = True, title = \"Geschlecht\");"
   ]
  },
  {
   "cell_type": "code",
   "execution_count": 418,
   "metadata": {},
   "outputs": [
    {
     "data": {
      "text/plain": [
       "1    220\n",
       "2     65\n",
       "3      5\n",
       "0      4\n",
       "Name: D-Q6, dtype: int64"
      ]
     },
     "execution_count": 418,
     "metadata": {},
     "output_type": "execute_result"
    }
   ],
   "source": [
    "Finished['D-Q6'].value_counts()"
   ]
  },
  {
   "cell_type": "code",
   "execution_count": 419,
   "metadata": {},
   "outputs": [
    {
     "data": {
      "image/png": "[encoded data removed]",
      "text/plain": [
       "<Figure size 720x360 with 1 Axes>"
      ]
     },
     "metadata": {},
     "output_type": "display_data"
    }
   ],
   "source": [
    "Finished[Finished['D-Q7'] != 0]['D-Q7'].value_counts().plot(kind='bar', figsize = (10,5), legend = True, title = \"Erstsprachen (1)\");"
   ]
  },
  {
   "cell_type": "markdown",
   "metadata": {},
   "source": [
    "(1) \tCastellano\n",
    "(2) \tCatalán (Català), Valenciano (Valencià)\n",
    "(3) \tGallego (Galego)\n",
    "(4) \tVasco (Euskara)\n",
    "(5) \tAlemán (Deutsch)\n",
    "(6) \tÁrabe (العربية)\n",
    "(7) \tChino mandarín (中文)\n",
    "(8) \tCoreano (한국어)\n",
    "(9) \tDanés (Dansk)\n",
    "(10) \tFrancés (Français)\n",
    "(11) \tGriego moderno (Ελληνικά)\n",
    "(12) \tInglés (English)\n",
    "(13) \tItaliano (Italiano)\n",
    "(14) \tJaponés (日本語)\n",
    "(15) \tNeerlandés (Nederlands)\n",
    "(16) \tPortugués (Português)\n",
    "(17) \tRumano (Română)\n",
    "(18) \tRuso (Русский)\n",
    "(19) \tSueco (Svenska)\n",
    "(20) \tGriego antiguo (Aρχαία Eλληνική)\n",
    "(21) \tLatín (Latina)\n",
    "(22) \tArmenio (Հայերեն)\n",
    "(23) \tBúlgaro (Български)\n",
    "(24) \tCheco (Česky)\n",
    "(25) \tCroata (Hrvatski)\n",
    "(26) \tEslovaco (Slovenčina)\n",
    "(27) \tEsloveno (Slovenščina)\n",
    "(28) \tEstonio (Eesti)\n",
    "(29) \tFinés (Suomi)\n",
    "(30) \tGalés (Cymraeg)\n",
    "(31) \tHindi (हिन्दी)\n",
    "(32) \tHúngaro (Magyar)\n",
    "(33) \tIrlandés (Gaeilge)\n",
    "(34) \tLetón (Latviešu)\n",
    "(35) \tLituano (Lietuvių)\n",
    "(36) \tLuxemburgués (Lëtzebuergesch)\n",
    "(37) \tMaltés (bil-Malti)\n",
    "(38) \tMoldavo (Moldoveana)\n",
    "(39) \tNoruego (Norsk)\n",
    "(40) \tOccitano (Occitan)\n",
    "(41) \tPolaco (Polski)\n",
    "(42) \tPersa (فارسی)\n",
    "(43) \tTurco (Türkçe)\n",
    "(44) \tUcraniano (Українська)\n",
    "(45) \tUrdu (اردو)\n",
    "(46) \tOtro"
   ]
  },
  {
   "cell_type": "code",
   "execution_count": 420,
   "metadata": {},
   "outputs": [
    {
     "data": {
      "text/plain": [
       "1     238\n",
       "3      24\n",
       "2       8\n",
       "7       6\n",
       "41      4\n",
       "17      4\n",
       "26      2\n",
       "16      2\n",
       "46      1\n",
       "18      1\n",
       "13      1\n",
       "6       1\n",
       "5       1\n",
       "0       1\n",
       "Name: D-Q7, dtype: int64"
      ]
     },
     "execution_count": 420,
     "metadata": {},
     "output_type": "execute_result"
    }
   ],
   "source": [
    "Finished['D-Q7'].value_counts()"
   ]
  },
  {
   "cell_type": "code",
   "execution_count": 421,
   "metadata": {},
   "outputs": [
    {
     "data": {
      "text/plain": [
       "2    208\n",
       "1     86\n",
       "Name: D-Q7b, dtype: int64"
      ]
     },
     "execution_count": 421,
     "metadata": {},
     "output_type": "execute_result"
    }
   ],
   "source": [
    "Finished['D-Q7b'].value_counts()"
   ]
  },
  {
   "cell_type": "code",
   "execution_count": 422,
   "metadata": {},
   "outputs": [
    {
     "data": {
      "image/png": "[encoded data removed]",
      "text/plain": [
       "<Figure size 720x360 with 1 Axes>"
      ]
     },
     "metadata": {},
     "output_type": "display_data"
    }
   ],
   "source": [
    "Finished[Finished['D-Q7c'] != 0]['D-Q7c'].value_counts().plot(kind='bar', figsize = (10,5), legend = True, title = \"Erstsprachen (2)\");"
   ]
  },
  {
   "cell_type": "code",
   "execution_count": 423,
   "metadata": {},
   "outputs": [
    {
     "data": {
      "text/plain": [
       "1     34\n",
       "3     29\n",
       "2     11\n",
       "46     3\n",
       "5      2\n",
       "4      2\n",
       "44     1\n",
       "24     1\n",
       "18     1\n",
       "12     1\n",
       "Name: D-Q7c, dtype: int64"
      ]
     },
     "execution_count": 423,
     "metadata": {},
     "output_type": "execute_result"
    }
   ],
   "source": [
    "Finished[Finished['D-Q7c'] != 0]['D-Q7c'].value_counts()"
   ]
  },
  {
   "cell_type": "code",
   "execution_count": 424,
   "metadata": {},
   "outputs": [
    {
     "data": {
      "text/plain": [
       "2    83\n",
       "1     3\n",
       "Name: D-Q7e, dtype: int64"
      ]
     },
     "execution_count": 424,
     "metadata": {},
     "output_type": "execute_result"
    }
   ],
   "source": [
    "Finished[Finished['D-Q7e'] != 0]['D-Q7e'].value_counts()"
   ]
  },
  {
   "cell_type": "code",
   "execution_count": 425,
   "metadata": {},
   "outputs": [
    {
     "data": {
      "text/plain": [
       "3     1\n",
       "46    1\n",
       "Name: D-Q7f, dtype: int64"
      ]
     },
     "execution_count": 425,
     "metadata": {},
     "output_type": "execute_result"
    }
   ],
   "source": [
    "Finished[Finished['D-Q7f'] != 0]['D-Q7f'].value_counts()"
   ]
  },
  {
   "cell_type": "markdown",
   "metadata": {},
   "source": [
    "Otro = Guaraní"
   ]
  },
  {
   "cell_type": "code",
   "execution_count": 426,
   "metadata": {},
   "outputs": [],
   "source": [
    "Sprachen = Finished[['D-Q8_1','D-Q8_2','D-Q8_3','D-Q8_4','D-Q8_5','D-Q8_6','D-Q8_7']]"
   ]
  },
  {
   "cell_type": "code",
   "execution_count": 427,
   "metadata": {},
   "outputs": [],
   "source": [
    "DF_Spr = Sprachen.apply(pd.value_counts).fillna(0).astype(integer)"
   ]
  },
  {
   "cell_type": "code",
   "execution_count": 428,
   "metadata": {},
   "outputs": [],
   "source": [
    "ix_sorted = list(DF_Spr[1:].sum(axis = 1).sort_values(ascending=False).index)"
   ]
  },
  {
   "cell_type": "code",
   "execution_count": 429,
   "metadata": {},
   "outputs": [],
   "source": [
    "All = []\n",
    "for i in DF_Spr.index:\n",
    "    All.append((DF_Spr.loc[i]).sum())"
   ]
  },
  {
   "cell_type": "code",
   "execution_count": 430,
   "metadata": {},
   "outputs": [],
   "source": [
    "DF_Spr['All'] = All"
   ]
  },
  {
   "cell_type": "code",
   "execution_count": 431,
   "metadata": {},
   "outputs": [
    {
     "data": {
      "text/html": [
       "<div>\n",
       "<style scoped>\n",
       "    .dataframe tbody tr th:only-of-type {\n",
       "        vertical-align: middle;\n",
       "    }\n",
       "\n",
       "    .dataframe tbody tr th {\n",
       "        vertical-align: top;\n",
       "    }\n",
       "\n",
       "    .dataframe thead th {\n",
       "        text-align: right;\n",
       "    }\n",
       "</style>\n",
       "<table border=\"1\" class=\"dataframe\">\n",
       "  <thead>\n",
       "    <tr style=\"text-align: right;\">\n",
       "      <th></th>\n",
       "      <th>D-Q8_1</th>\n",
       "      <th>D-Q8_2</th>\n",
       "      <th>D-Q8_3</th>\n",
       "      <th>D-Q8_4</th>\n",
       "      <th>D-Q8_5</th>\n",
       "      <th>D-Q8_6</th>\n",
       "      <th>D-Q8_7</th>\n",
       "      <th>All</th>\n",
       "    </tr>\n",
       "  </thead>\n",
       "  <tbody>\n",
       "    <tr>\n",
       "      <th>1</th>\n",
       "      <td>7</td>\n",
       "      <td>9</td>\n",
       "      <td>6</td>\n",
       "      <td>4</td>\n",
       "      <td>0</td>\n",
       "      <td>1</td>\n",
       "      <td>0</td>\n",
       "      <td>27</td>\n",
       "    </tr>\n",
       "    <tr>\n",
       "      <th>2</th>\n",
       "      <td>4</td>\n",
       "      <td>5</td>\n",
       "      <td>5</td>\n",
       "      <td>3</td>\n",
       "      <td>3</td>\n",
       "      <td>0</td>\n",
       "      <td>0</td>\n",
       "      <td>20</td>\n",
       "    </tr>\n",
       "    <tr>\n",
       "      <th>3</th>\n",
       "      <td>2</td>\n",
       "      <td>2</td>\n",
       "      <td>0</td>\n",
       "      <td>1</td>\n",
       "      <td>1</td>\n",
       "      <td>0</td>\n",
       "      <td>1</td>\n",
       "      <td>7</td>\n",
       "    </tr>\n",
       "    <tr>\n",
       "      <th>4</th>\n",
       "      <td>6</td>\n",
       "      <td>3</td>\n",
       "      <td>0</td>\n",
       "      <td>1</td>\n",
       "      <td>1</td>\n",
       "      <td>1</td>\n",
       "      <td>0</td>\n",
       "      <td>12</td>\n",
       "    </tr>\n",
       "    <tr>\n",
       "      <th>5</th>\n",
       "      <td>12</td>\n",
       "      <td>43</td>\n",
       "      <td>87</td>\n",
       "      <td>57</td>\n",
       "      <td>54</td>\n",
       "      <td>18</td>\n",
       "      <td>2</td>\n",
       "      <td>273</td>\n",
       "    </tr>\n",
       "    <tr>\n",
       "      <th>6</th>\n",
       "      <td>0</td>\n",
       "      <td>0</td>\n",
       "      <td>3</td>\n",
       "      <td>1</td>\n",
       "      <td>1</td>\n",
       "      <td>0</td>\n",
       "      <td>0</td>\n",
       "      <td>5</td>\n",
       "    </tr>\n",
       "    <tr>\n",
       "      <th>7</th>\n",
       "      <td>2</td>\n",
       "      <td>0</td>\n",
       "      <td>2</td>\n",
       "      <td>1</td>\n",
       "      <td>2</td>\n",
       "      <td>1</td>\n",
       "      <td>0</td>\n",
       "      <td>8</td>\n",
       "    </tr>\n",
       "    <tr>\n",
       "      <th>8</th>\n",
       "      <td>0</td>\n",
       "      <td>1</td>\n",
       "      <td>0</td>\n",
       "      <td>0</td>\n",
       "      <td>1</td>\n",
       "      <td>0</td>\n",
       "      <td>0</td>\n",
       "      <td>2</td>\n",
       "    </tr>\n",
       "    <tr>\n",
       "      <th>9</th>\n",
       "      <td>0</td>\n",
       "      <td>0</td>\n",
       "      <td>0</td>\n",
       "      <td>0</td>\n",
       "      <td>1</td>\n",
       "      <td>0</td>\n",
       "      <td>1</td>\n",
       "      <td>2</td>\n",
       "    </tr>\n",
       "    <tr>\n",
       "      <th>10</th>\n",
       "      <td>8</td>\n",
       "      <td>148</td>\n",
       "      <td>30</td>\n",
       "      <td>13</td>\n",
       "      <td>6</td>\n",
       "      <td>2</td>\n",
       "      <td>0</td>\n",
       "      <td>207</td>\n",
       "    </tr>\n",
       "    <tr>\n",
       "      <th>11</th>\n",
       "      <td>0</td>\n",
       "      <td>0</td>\n",
       "      <td>0</td>\n",
       "      <td>0</td>\n",
       "      <td>2</td>\n",
       "      <td>1</td>\n",
       "      <td>1</td>\n",
       "      <td>4</td>\n",
       "    </tr>\n",
       "    <tr>\n",
       "      <th>12</th>\n",
       "      <td>244</td>\n",
       "      <td>33</td>\n",
       "      <td>9</td>\n",
       "      <td>3</td>\n",
       "      <td>0</td>\n",
       "      <td>0</td>\n",
       "      <td>0</td>\n",
       "      <td>289</td>\n",
       "    </tr>\n",
       "    <tr>\n",
       "      <th>13</th>\n",
       "      <td>2</td>\n",
       "      <td>6</td>\n",
       "      <td>18</td>\n",
       "      <td>22</td>\n",
       "      <td>7</td>\n",
       "      <td>7</td>\n",
       "      <td>4</td>\n",
       "      <td>66</td>\n",
       "    </tr>\n",
       "    <tr>\n",
       "      <th>14</th>\n",
       "      <td>0</td>\n",
       "      <td>2</td>\n",
       "      <td>4</td>\n",
       "      <td>2</td>\n",
       "      <td>1</td>\n",
       "      <td>1</td>\n",
       "      <td>0</td>\n",
       "      <td>10</td>\n",
       "    </tr>\n",
       "    <tr>\n",
       "      <th>15</th>\n",
       "      <td>0</td>\n",
       "      <td>0</td>\n",
       "      <td>3</td>\n",
       "      <td>6</td>\n",
       "      <td>5</td>\n",
       "      <td>3</td>\n",
       "      <td>0</td>\n",
       "      <td>17</td>\n",
       "    </tr>\n",
       "    <tr>\n",
       "      <th>16</th>\n",
       "      <td>0</td>\n",
       "      <td>8</td>\n",
       "      <td>6</td>\n",
       "      <td>3</td>\n",
       "      <td>4</td>\n",
       "      <td>4</td>\n",
       "      <td>2</td>\n",
       "      <td>27</td>\n",
       "    </tr>\n",
       "    <tr>\n",
       "      <th>17</th>\n",
       "      <td>2</td>\n",
       "      <td>0</td>\n",
       "      <td>2</td>\n",
       "      <td>1</td>\n",
       "      <td>0</td>\n",
       "      <td>2</td>\n",
       "      <td>2</td>\n",
       "      <td>9</td>\n",
       "    </tr>\n",
       "    <tr>\n",
       "      <th>18</th>\n",
       "      <td>0</td>\n",
       "      <td>1</td>\n",
       "      <td>0</td>\n",
       "      <td>1</td>\n",
       "      <td>2</td>\n",
       "      <td>3</td>\n",
       "      <td>2</td>\n",
       "      <td>9</td>\n",
       "    </tr>\n",
       "    <tr>\n",
       "      <th>19</th>\n",
       "      <td>0</td>\n",
       "      <td>0</td>\n",
       "      <td>1</td>\n",
       "      <td>0</td>\n",
       "      <td>0</td>\n",
       "      <td>0</td>\n",
       "      <td>1</td>\n",
       "      <td>2</td>\n",
       "    </tr>\n",
       "    <tr>\n",
       "      <th>20</th>\n",
       "      <td>0</td>\n",
       "      <td>1</td>\n",
       "      <td>11</td>\n",
       "      <td>53</td>\n",
       "      <td>14</td>\n",
       "      <td>1</td>\n",
       "      <td>1</td>\n",
       "      <td>81</td>\n",
       "    </tr>\n",
       "    <tr>\n",
       "      <th>21</th>\n",
       "      <td>1</td>\n",
       "      <td>26</td>\n",
       "      <td>79</td>\n",
       "      <td>23</td>\n",
       "      <td>2</td>\n",
       "      <td>3</td>\n",
       "      <td>0</td>\n",
       "      <td>134</td>\n",
       "    </tr>\n",
       "    <tr>\n",
       "      <th>24</th>\n",
       "      <td>1</td>\n",
       "      <td>0</td>\n",
       "      <td>0</td>\n",
       "      <td>0</td>\n",
       "      <td>0</td>\n",
       "      <td>1</td>\n",
       "      <td>0</td>\n",
       "      <td>2</td>\n",
       "    </tr>\n",
       "    <tr>\n",
       "      <th>29</th>\n",
       "      <td>0</td>\n",
       "      <td>0</td>\n",
       "      <td>0</td>\n",
       "      <td>1</td>\n",
       "      <td>1</td>\n",
       "      <td>0</td>\n",
       "      <td>0</td>\n",
       "      <td>2</td>\n",
       "    </tr>\n",
       "    <tr>\n",
       "      <th>39</th>\n",
       "      <td>0</td>\n",
       "      <td>0</td>\n",
       "      <td>0</td>\n",
       "      <td>0</td>\n",
       "      <td>3</td>\n",
       "      <td>0</td>\n",
       "      <td>0</td>\n",
       "      <td>3</td>\n",
       "    </tr>\n",
       "    <tr>\n",
       "      <th>41</th>\n",
       "      <td>0</td>\n",
       "      <td>1</td>\n",
       "      <td>0</td>\n",
       "      <td>1</td>\n",
       "      <td>1</td>\n",
       "      <td>0</td>\n",
       "      <td>0</td>\n",
       "      <td>3</td>\n",
       "    </tr>\n",
       "    <tr>\n",
       "      <th>43</th>\n",
       "      <td>1</td>\n",
       "      <td>0</td>\n",
       "      <td>0</td>\n",
       "      <td>0</td>\n",
       "      <td>0</td>\n",
       "      <td>1</td>\n",
       "      <td>0</td>\n",
       "      <td>2</td>\n",
       "    </tr>\n",
       "    <tr>\n",
       "      <th>46</th>\n",
       "      <td>0</td>\n",
       "      <td>0</td>\n",
       "      <td>1</td>\n",
       "      <td>2</td>\n",
       "      <td>0</td>\n",
       "      <td>1</td>\n",
       "      <td>3</td>\n",
       "      <td>7</td>\n",
       "    </tr>\n",
       "  </tbody>\n",
       "</table>\n",
       "</div>"
      ],
      "text/plain": [
       "    D-Q8_1  D-Q8_2  D-Q8_3  D-Q8_4  D-Q8_5  D-Q8_6  D-Q8_7  All\n",
       "1        7       9       6       4       0       1       0   27\n",
       "2        4       5       5       3       3       0       0   20\n",
       "3        2       2       0       1       1       0       1    7\n",
       "4        6       3       0       1       1       1       0   12\n",
       "5       12      43      87      57      54      18       2  273\n",
       "6        0       0       3       1       1       0       0    5\n",
       "7        2       0       2       1       2       1       0    8\n",
       "8        0       1       0       0       1       0       0    2\n",
       "9        0       0       0       0       1       0       1    2\n",
       "10       8     148      30      13       6       2       0  207\n",
       "11       0       0       0       0       2       1       1    4\n",
       "12     244      33       9       3       0       0       0  289\n",
       "13       2       6      18      22       7       7       4   66\n",
       "14       0       2       4       2       1       1       0   10\n",
       "15       0       0       3       6       5       3       0   17\n",
       "16       0       8       6       3       4       4       2   27\n",
       "17       2       0       2       1       0       2       2    9\n",
       "18       0       1       0       1       2       3       2    9\n",
       "19       0       0       1       0       0       0       1    2\n",
       "20       0       1      11      53      14       1       1   81\n",
       "21       1      26      79      23       2       3       0  134\n",
       "24       1       0       0       0       0       1       0    2\n",
       "29       0       0       0       1       1       0       0    2\n",
       "39       0       0       0       0       3       0       0    3\n",
       "41       0       1       0       1       1       0       0    3\n",
       "43       1       0       0       0       0       1       0    2\n",
       "46       0       0       1       2       0       1       3    7"
      ]
     },
     "execution_count": 431,
     "metadata": {},
     "output_type": "execute_result"
    }
   ],
   "source": [
    "DF_Spr[1:]"
   ]
  },
  {
   "cell_type": "code",
   "execution_count": 432,
   "metadata": {},
   "outputs": [],
   "source": [
    "cols = ['D-Q8_1','D-Q8_2','D-Q8_3','D-Q8_4','D-Q8_5','D-Q8_6','D-Q8_7']"
   ]
  },
  {
   "cell_type": "code",
   "execution_count": 433,
   "metadata": {},
   "outputs": [
    {
     "data": {
      "image/png": "[encoded data removed]",
      "text/plain": [
       "<Figure size 1080x720 with 1 Axes>"
      ]
     },
     "metadata": {},
     "output_type": "display_data"
    }
   ],
   "source": [
    "DF_Spr[cols][1:].plot(kind='bar', figsize = (15,10), stacked = True, legend = True, title = \"Sprachkenntnisse\");"
   ]
  },
  {
   "cell_type": "code",
   "execution_count": 434,
   "metadata": {},
   "outputs": [
    {
     "data": {
      "text/html": [
       "<div>\n",
       "<style scoped>\n",
       "    .dataframe tbody tr th:only-of-type {\n",
       "        vertical-align: middle;\n",
       "    }\n",
       "\n",
       "    .dataframe tbody tr th {\n",
       "        vertical-align: top;\n",
       "    }\n",
       "\n",
       "    .dataframe thead th {\n",
       "        text-align: right;\n",
       "    }\n",
       "</style>\n",
       "<table border=\"1\" class=\"dataframe\">\n",
       "  <thead>\n",
       "    <tr style=\"text-align: right;\">\n",
       "      <th></th>\n",
       "      <th>D-Q8_1</th>\n",
       "      <th>D-Q8_2</th>\n",
       "      <th>D-Q8_3</th>\n",
       "      <th>D-Q8_4</th>\n",
       "      <th>D-Q8_5</th>\n",
       "      <th>D-Q8_6</th>\n",
       "      <th>D-Q8_7</th>\n",
       "      <th>All</th>\n",
       "    </tr>\n",
       "  </thead>\n",
       "  <tbody>\n",
       "    <tr>\n",
       "      <th>12</th>\n",
       "      <td>244</td>\n",
       "      <td>33</td>\n",
       "      <td>9</td>\n",
       "      <td>3</td>\n",
       "      <td>0</td>\n",
       "      <td>0</td>\n",
       "      <td>0</td>\n",
       "      <td>289</td>\n",
       "    </tr>\n",
       "    <tr>\n",
       "      <th>5</th>\n",
       "      <td>12</td>\n",
       "      <td>43</td>\n",
       "      <td>87</td>\n",
       "      <td>57</td>\n",
       "      <td>54</td>\n",
       "      <td>18</td>\n",
       "      <td>2</td>\n",
       "      <td>273</td>\n",
       "    </tr>\n",
       "    <tr>\n",
       "      <th>10</th>\n",
       "      <td>8</td>\n",
       "      <td>148</td>\n",
       "      <td>30</td>\n",
       "      <td>13</td>\n",
       "      <td>6</td>\n",
       "      <td>2</td>\n",
       "      <td>0</td>\n",
       "      <td>207</td>\n",
       "    </tr>\n",
       "    <tr>\n",
       "      <th>21</th>\n",
       "      <td>1</td>\n",
       "      <td>26</td>\n",
       "      <td>79</td>\n",
       "      <td>23</td>\n",
       "      <td>2</td>\n",
       "      <td>3</td>\n",
       "      <td>0</td>\n",
       "      <td>134</td>\n",
       "    </tr>\n",
       "    <tr>\n",
       "      <th>20</th>\n",
       "      <td>0</td>\n",
       "      <td>1</td>\n",
       "      <td>11</td>\n",
       "      <td>53</td>\n",
       "      <td>14</td>\n",
       "      <td>1</td>\n",
       "      <td>1</td>\n",
       "      <td>81</td>\n",
       "    </tr>\n",
       "    <tr>\n",
       "      <th>13</th>\n",
       "      <td>2</td>\n",
       "      <td>6</td>\n",
       "      <td>18</td>\n",
       "      <td>22</td>\n",
       "      <td>7</td>\n",
       "      <td>7</td>\n",
       "      <td>4</td>\n",
       "      <td>66</td>\n",
       "    </tr>\n",
       "    <tr>\n",
       "      <th>1</th>\n",
       "      <td>7</td>\n",
       "      <td>9</td>\n",
       "      <td>6</td>\n",
       "      <td>4</td>\n",
       "      <td>0</td>\n",
       "      <td>1</td>\n",
       "      <td>0</td>\n",
       "      <td>27</td>\n",
       "    </tr>\n",
       "    <tr>\n",
       "      <th>16</th>\n",
       "      <td>0</td>\n",
       "      <td>8</td>\n",
       "      <td>6</td>\n",
       "      <td>3</td>\n",
       "      <td>4</td>\n",
       "      <td>4</td>\n",
       "      <td>2</td>\n",
       "      <td>27</td>\n",
       "    </tr>\n",
       "    <tr>\n",
       "      <th>2</th>\n",
       "      <td>4</td>\n",
       "      <td>5</td>\n",
       "      <td>5</td>\n",
       "      <td>3</td>\n",
       "      <td>3</td>\n",
       "      <td>0</td>\n",
       "      <td>0</td>\n",
       "      <td>20</td>\n",
       "    </tr>\n",
       "    <tr>\n",
       "      <th>15</th>\n",
       "      <td>0</td>\n",
       "      <td>0</td>\n",
       "      <td>3</td>\n",
       "      <td>6</td>\n",
       "      <td>5</td>\n",
       "      <td>3</td>\n",
       "      <td>0</td>\n",
       "      <td>17</td>\n",
       "    </tr>\n",
       "  </tbody>\n",
       "</table>\n",
       "</div>"
      ],
      "text/plain": [
       "    D-Q8_1  D-Q8_2  D-Q8_3  D-Q8_4  D-Q8_5  D-Q8_6  D-Q8_7  All\n",
       "12     244      33       9       3       0       0       0  289\n",
       "5       12      43      87      57      54      18       2  273\n",
       "10       8     148      30      13       6       2       0  207\n",
       "21       1      26      79      23       2       3       0  134\n",
       "20       0       1      11      53      14       1       1   81\n",
       "13       2       6      18      22       7       7       4   66\n",
       "1        7       9       6       4       0       1       0   27\n",
       "16       0       8       6       3       4       4       2   27\n",
       "2        4       5       5       3       3       0       0   20\n",
       "15       0       0       3       6       5       3       0   17"
      ]
     },
     "execution_count": 434,
     "metadata": {},
     "output_type": "execute_result"
    }
   ],
   "source": [
    "DF_Spr.loc[ix_sorted[:10]]"
   ]
  },
  {
   "cell_type": "code",
   "execution_count": 444,
   "metadata": {},
   "outputs": [
    {
     "data": {
      "image/png": "[encoded data removed]",
      "text/plain": [
       "<Figure size 720x576 with 1 Axes>"
      ]
     },
     "metadata": {},
     "output_type": "display_data"
    }
   ],
   "source": [
    "DF_Spr[cols].loc[ix_sorted[:10]].plot(kind='bar', figsize = (10,8), stacked = True, legend = True, title = \"Sprachkenntnisse\");"
   ]
  },
  {
   "cell_type": "code",
   "execution_count": 436,
   "metadata": {},
   "outputs": [],
   "source": [
    "#Finished['D-Q9'].value_counts()[[1,2]].plot(kind = 'bar', figsize = (3,5), width = 0.4, legend = True, title = \"Erhebungssituation\");"
   ]
  },
  {
   "cell_type": "markdown",
   "metadata": {},
   "source": [
    "(1)\tWährend der Unterrichtszeit,\n",
    "(2)\tAußerhalb des Unterrichts"
   ]
  },
  {
   "cell_type": "code",
   "execution_count": 437,
   "metadata": {},
   "outputs": [
    {
     "data": {
      "text/plain": [
       "1    172\n",
       "0    122\n",
       "Name: D-Q9_1, dtype: int64"
      ]
     },
     "execution_count": 437,
     "metadata": {},
     "output_type": "execute_result"
    }
   ],
   "source": [
    "Finished['D-Q9_1'].value_counts()"
   ]
  },
  {
   "cell_type": "code",
   "execution_count": 438,
   "metadata": {},
   "outputs": [
    {
     "data": {
      "text/plain": [
       "0    171\n",
       "1    123\n",
       "Name: D-Q9_2, dtype: int64"
      ]
     },
     "execution_count": 438,
     "metadata": {},
     "output_type": "execute_result"
    }
   ],
   "source": [
    "Finished['D-Q9_2'].value_counts()"
   ]
  },
  {
   "cell_type": "code",
   "execution_count": null,
   "metadata": {},
   "outputs": [],
   "source": []
  }
 ],
 "metadata": {
  "kernelspec": {
   "display_name": "Python 3",
   "language": "python",
   "name": "python3"
  },
  "language_info": {
   "codemirror_mode": {
    "name": "ipython",
    "version": 3
   },
   "file_extension": ".py",
   "mimetype": "text/x-python",
   "name": "python",
   "nbconvert_exporter": "python",
   "pygments_lexer": "ipython3",
   "version": "3.6.3"
  }
 },
 "nbformat": 4,
 "nbformat_minor": 2
}
