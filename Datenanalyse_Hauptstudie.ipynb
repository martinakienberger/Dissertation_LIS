{
 "cells": [
  {
   "cell_type": "code",
   "execution_count": 1,
   "metadata": {},
   "outputs": [
    {
     "name": "stdout",
     "output_type": "stream",
     "text": [
      "Populating the interactive namespace from numpy and matplotlib\n"
     ]
    }
   ],
   "source": [
    "import pandas as pd\n",
    "% pylab inline"
   ]
  },
  {
   "cell_type": "code",
   "execution_count": 2,
   "metadata": {},
   "outputs": [],
   "source": [
    "Daten = pd.read_pickle('D:\\Daten\\DISS\\Daten\\Estrategias_Estudiantes_2018_ber')"
   ]
  },
  {
   "cell_type": "code",
   "execution_count": 3,
   "metadata": {},
   "outputs": [
    {
     "data": {
      "text/plain": [
       "(234, 356)"
      ]
     },
     "execution_count": 3,
     "metadata": {},
     "output_type": "execute_result"
    }
   ],
   "source": [
    "Daten.shape"
   ]
  },
  {
   "cell_type": "code",
   "execution_count": 4,
   "metadata": {},
   "outputs": [
    {
     "data": {
      "text/html": [
       "<div>\n",
       "<style>\n",
       "    .dataframe thead tr:only-child th {\n",
       "        text-align: right;\n",
       "    }\n",
       "\n",
       "    .dataframe thead th {\n",
       "        text-align: left;\n",
       "    }\n",
       "\n",
       "    .dataframe tbody tr th {\n",
       "        vertical-align: top;\n",
       "    }\n",
       "</style>\n",
       "<table border=\"1\" class=\"dataframe\">\n",
       "  <thead>\n",
       "    <tr style=\"text-align: right;\">\n",
       "      <th></th>\n",
       "      <th>StartDate</th>\n",
       "      <th>EndDate</th>\n",
       "      <th>Status</th>\n",
       "      <th>IPAddress</th>\n",
       "      <th>Progress</th>\n",
       "      <th>Duration (in seconds)</th>\n",
       "      <th>Finished</th>\n",
       "      <th>RecordedDate</th>\n",
       "      <th>ResponseId</th>\n",
       "      <th>RecipientLastName</th>\n",
       "      <th>...</th>\n",
       "      <th>D-Q8b22a_4</th>\n",
       "      <th>D-Q8b22a_5</th>\n",
       "      <th>D-Q8b22a_6</th>\n",
       "      <th>D-Q8b22a_7</th>\n",
       "      <th>D-Q8b22a_7_TEXT</th>\n",
       "      <th>D-Q8b22b</th>\n",
       "      <th>D-Q8b22c</th>\n",
       "      <th>D-Q9</th>\n",
       "      <th>E-Q1</th>\n",
       "      <th>porc_nan</th>\n",
       "    </tr>\n",
       "  </thead>\n",
       "  <tbody>\n",
       "    <tr>\n",
       "      <th>0</th>\n",
       "      <td>2018-02-06 09:33:28</td>\n",
       "      <td>2018-02-06 09:39:02</td>\n",
       "      <td>1</td>\n",
       "      <td>0</td>\n",
       "      <td>100</td>\n",
       "      <td>333</td>\n",
       "      <td>1</td>\n",
       "      <td>2018-02-06 09:39:03</td>\n",
       "      <td>R_3QJg8ACLGHcD7MF</td>\n",
       "      <td>0</td>\n",
       "      <td>...</td>\n",
       "      <td>0</td>\n",
       "      <td>0</td>\n",
       "      <td>0</td>\n",
       "      <td>0</td>\n",
       "      <td>0</td>\n",
       "      <td>0</td>\n",
       "      <td>0</td>\n",
       "      <td>2</td>\n",
       "      <td>0</td>\n",
       "      <td>64.285714</td>\n",
       "    </tr>\n",
       "    <tr>\n",
       "      <th>1</th>\n",
       "      <td>2018-02-07 13:36:43</td>\n",
       "      <td>2018-02-07 13:50:01</td>\n",
       "      <td>0</td>\n",
       "      <td>83.47.61.251</td>\n",
       "      <td>100</td>\n",
       "      <td>797</td>\n",
       "      <td>1</td>\n",
       "      <td>2018-02-07 13:50:03</td>\n",
       "      <td>R_30ugRXCZSq8xMsk</td>\n",
       "      <td>0</td>\n",
       "      <td>...</td>\n",
       "      <td>0</td>\n",
       "      <td>0</td>\n",
       "      <td>0</td>\n",
       "      <td>0</td>\n",
       "      <td>0</td>\n",
       "      <td>0</td>\n",
       "      <td>0</td>\n",
       "      <td>2</td>\n",
       "      <td>0</td>\n",
       "      <td>59.523810</td>\n",
       "    </tr>\n",
       "    <tr>\n",
       "      <th>2</th>\n",
       "      <td>2018-02-08 02:38:26</td>\n",
       "      <td>2018-02-08 03:09:12</td>\n",
       "      <td>0</td>\n",
       "      <td>84.126.137.166</td>\n",
       "      <td>100</td>\n",
       "      <td>1845</td>\n",
       "      <td>1</td>\n",
       "      <td>2018-02-08 03:09:13</td>\n",
       "      <td>R_1eV2zm3mlcaUK2x</td>\n",
       "      <td>0</td>\n",
       "      <td>...</td>\n",
       "      <td>0</td>\n",
       "      <td>0</td>\n",
       "      <td>0</td>\n",
       "      <td>0</td>\n",
       "      <td>0</td>\n",
       "      <td>0</td>\n",
       "      <td>0</td>\n",
       "      <td>2</td>\n",
       "      <td>0</td>\n",
       "      <td>55.238095</td>\n",
       "    </tr>\n",
       "  </tbody>\n",
       "</table>\n",
       "<p>3 rows × 356 columns</p>\n",
       "</div>"
      ],
      "text/plain": [
       "             StartDate              EndDate Status       IPAddress Progress  \\\n",
       "0  2018-02-06 09:33:28  2018-02-06 09:39:02      1               0      100   \n",
       "1  2018-02-07 13:36:43  2018-02-07 13:50:01      0    83.47.61.251      100   \n",
       "2  2018-02-08 02:38:26  2018-02-08 03:09:12      0  84.126.137.166      100   \n",
       "\n",
       "  Duration (in seconds) Finished         RecordedDate         ResponseId  \\\n",
       "0                   333        1  2018-02-06 09:39:03  R_3QJg8ACLGHcD7MF   \n",
       "1                   797        1  2018-02-07 13:50:03  R_30ugRXCZSq8xMsk   \n",
       "2                  1845        1  2018-02-08 03:09:13  R_1eV2zm3mlcaUK2x   \n",
       "\n",
       "   RecipientLastName    ...      D-Q8b22a_4  D-Q8b22a_5  D-Q8b22a_6  \\\n",
       "0                  0    ...               0           0           0   \n",
       "1                  0    ...               0           0           0   \n",
       "2                  0    ...               0           0           0   \n",
       "\n",
       "  D-Q8b22a_7 D-Q8b22a_7_TEXT D-Q8b22b D-Q8b22c D-Q9  E-Q1   porc_nan  \n",
       "0          0               0        0        0    2     0  64.285714  \n",
       "1          0               0        0        0    2     0  59.523810  \n",
       "2          0               0        0        0    2     0  55.238095  \n",
       "\n",
       "[3 rows x 356 columns]"
      ]
     },
     "execution_count": 4,
     "metadata": {},
     "output_type": "execute_result"
    }
   ],
   "source": [
    "Daten.head(3)"
   ]
  },
  {
   "cell_type": "markdown",
   "metadata": {},
   "source": [
    "Glossar erstellen = Datei aufrufen (in anderem Notebook erstellt + gespeichert)"
   ]
  },
  {
   "cell_type": "code",
   "execution_count": 5,
   "metadata": {},
   "outputs": [],
   "source": [
    "gloss = pd.read_pickle('D:\\Daten\\DISS\\Daten\\Gloss2018')"
   ]
  },
  {
   "cell_type": "markdown",
   "metadata": {},
   "source": [
    "Funktion, um Index (Name) einer Bezeichnung im Glossar zu finden:"
   ]
  },
  {
   "cell_type": "code",
   "execution_count": 6,
   "metadata": {},
   "outputs": [],
   "source": [
    "def get_name_gloss(word):\n",
    "    for i, val in enumerate(gloss[0]):\n",
    "        if word.lower() in str(val).lower():\n",
    "            return i, gloss.index[i]"
   ]
  },
  {
   "cell_type": "markdown",
   "metadata": {},
   "source": [
    "Funktion, um Bezeichnung von Index im Glossar zu finden:"
   ]
  },
  {
   "cell_type": "code",
   "execution_count": 7,
   "metadata": {},
   "outputs": [],
   "source": [
    "def get_name_glossind(word):\n",
    "    for i, val in enumerate(gloss.index):\n",
    "        if word.lower() in str(val).lower():\n",
    "            return i, gloss.loc[val][0]"
   ]
  },
  {
   "cell_type": "code",
   "execution_count": 8,
   "metadata": {},
   "outputs": [
    {
     "data": {
      "text/plain": [
       "(17,\n",
       " 'Probablemente, en este texto encuentre palabras o grupos de palabras que no conoce aún. Sin embargo, seguro que logra entender algunas de estas palabras nuevas sin ayuda, bien enseguida o después de pensar un poco. Lea el texto y piense qué hace para descubrir el significado o la función de las palabras que desconoce. También puede pensar en otras situaciones en las que se haya encontrado con vocabulario nuevo.  ¿Qué estrategias o técnicas usa para averiguar el significado de palabras desconocidas? ¿Qué características de las palabras, frases o textos le ayudan?               Apunte todas sus ideas aquí:')"
      ]
     },
     "execution_count": 8,
     "metadata": {},
     "output_type": "execute_result"
    }
   ],
   "source": [
    "get_name_glossind('A-Q1')"
   ]
  },
  {
   "cell_type": "code",
   "execution_count": 9,
   "metadata": {},
   "outputs": [
    {
     "data": {
      "text/plain": [
       "StartDate                                              2018-04-13 07:15:45\n",
       "EndDate                                                2018-04-13 07:23:22\n",
       "Status                                                                   0\n",
       "IPAddress                                                    77.228.150.99\n",
       "Progress                                                                 7\n",
       "Duration (in seconds)                                                  457\n",
       "Finished                                                                 0\n",
       "RecordedDate                                           2018-04-20 07:23:26\n",
       "ResponseId                                               R_2YMvjpR472XS4gK\n",
       "RecipientLastName                                                        0\n",
       "RecipientFirstName                                                       0\n",
       "RecipientEmail                                                           0\n",
       "ExternalReference                                                        0\n",
       "LocationLatitude                                                         0\n",
       "LocationLongitude                                                        0\n",
       "DistributionChannel                                              anonymous\n",
       "UserLanguage                                                         ES-ES\n",
       "A-Q1                     Generalmente, cuando me encuentro con palabras...\n",
       "A-Q2_A-Q2_1                                                              3\n",
       "A-Q2_A-Q2_2                                                              4\n",
       "A-Q2_A-Q2_3                                                              3\n",
       "A-Q2_A-Q2_4                                                              4\n",
       "A-Q2_A-Q2_5                                                              2\n",
       "A-Q2_A-Q2_6                                                              3\n",
       "A-Q2_A-Q2_7                                                              3\n",
       "A-Q3_A-Q3_1                                                              0\n",
       "A-Q3_A-Q3_2                                                              0\n",
       "A-Q3_A-Q3_3                                                              0\n",
       "A-Q3_A-Q3_3_TEXT                                                         0\n",
       "A-Q3_A-Q3_4                                                              0\n",
       "                                               ...                        \n",
       "D-Q8b19a_6                                                               0\n",
       "D-Q8b19a_7_TEXT                                                          0\n",
       "D-Q8b19b                                                                 0\n",
       "D-Q8b19c                                                                 0\n",
       "D-Q8b20a_1                                                               0\n",
       "D-Q8b20a_2                                                               0\n",
       "D-Q8b20a_6                                                               0\n",
       "D-Q8b20a_7_TEXT                                                          0\n",
       "D-Q8b20b                                                                 0\n",
       "D-Q8b20c                                                                 0\n",
       "D-Q8b21a_1                                                               0\n",
       "D-Q8b21a_2                                                               0\n",
       "D-Q8b21a_3                                                               0\n",
       "D-Q8b21a_6                                                               0\n",
       "D-Q8b21a_7_TEXT                                                          0\n",
       "D-Q8b21b                                                                 0\n",
       "D-Q8b21c                                                                 0\n",
       "D-Q8b22a_1                                                               0\n",
       "D-Q8b22a_2                                                               0\n",
       "D-Q8b22a_3                                                               0\n",
       "D-Q8b22a_4                                                               0\n",
       "D-Q8b22a_5                                                               0\n",
       "D-Q8b22a_6                                                               0\n",
       "D-Q8b22a_7                                                               0\n",
       "D-Q8b22a_7_TEXT                                                          0\n",
       "D-Q8b22b                                                                 0\n",
       "D-Q8b22c                                                                 0\n",
       "D-Q9                                                                     0\n",
       "E-Q1                                                                     0\n",
       "porc_nan                                                                 0\n",
       "Name: 233, Length: 356, dtype: object"
      ]
     },
     "execution_count": 9,
     "metadata": {},
     "output_type": "execute_result"
    }
   ],
   "source": [
    "Daten.loc[233]"
   ]
  },
  {
   "cell_type": "code",
   "execution_count": 10,
   "metadata": {},
   "outputs": [],
   "source": [
    "FinishedA3 = Daten.drop([233])"
   ]
  },
  {
   "cell_type": "code",
   "execution_count": 11,
   "metadata": {},
   "outputs": [],
   "source": [
    "Finished = FinishedA3.drop([230,231,232])"
   ]
  },
  {
   "cell_type": "markdown",
   "metadata": {},
   "source": [
    "Liste erstellen:"
   ]
  },
  {
   "cell_type": "code",
   "execution_count": 12,
   "metadata": {},
   "outputs": [],
   "source": [
    "Liste_A_Q2 = [col for col in Daten.columns if 'A-Q2' in col]"
   ]
  },
  {
   "cell_type": "code",
   "execution_count": 13,
   "metadata": {},
   "outputs": [
    {
     "data": {
      "text/plain": [
       "'A-Q3_A-Q3_3_TEXT'"
      ]
     },
     "execution_count": 13,
     "metadata": {},
     "output_type": "execute_result"
    }
   ],
   "source": [
    "Liste_A_Q3 = [col for col in FinishedA3.columns if 'A-Q3' in col]\n",
    "Liste_A_Q3.pop(3)"
   ]
  },
  {
   "cell_type": "markdown",
   "metadata": {},
   "source": [
    "kann noch verbessert werden:\n",
    "\n",
    "statt Spalte \"3\" (eigentlich 4, Python zählt ja ab 0) irgendwie \"text\"-Spalte weglassen"
   ]
  },
  {
   "cell_type": "code",
   "execution_count": 14,
   "metadata": {},
   "outputs": [],
   "source": [
    "Liste_C_Q1 = [col for col in Finished.columns if 'C-Q1' in col]"
   ]
  },
  {
   "cell_type": "code",
   "execution_count": 15,
   "metadata": {},
   "outputs": [],
   "source": [
    "def graf_hist(D,l,sx,sy,nrow,ncol):\n",
    "    fig = plt.figure(figsize=(sx,sy))\n",
    "    for i, col in enumerate(l):\n",
    "        plt.subplot(nrow,ncol,i+1)\n",
    "        plt.hist(D[col].dropna(),color = '#0063A6')\n",
    "        plt.xticks([1,2,3,4,5])\n",
    "        plt.title(col,size=13)\n",
    "    plt.show()"
   ]
  },
  {
   "cell_type": "code",
   "execution_count": 16,
   "metadata": {},
   "outputs": [
    {
     "data": {
      "image/png": "[encoded data removed]",
      "text/plain": [
       "<matplotlib.figure.Figure at 0xa887470>"
      ]
     },
     "metadata": {},
     "output_type": "display_data"
    }
   ],
   "source": [
    "graf_hist(Daten,Liste_A_Q2,16,8,2,4)"
   ]
  },
  {
   "cell_type": "code",
   "execution_count": 17,
   "metadata": {},
   "outputs": [
    {
     "data": {
      "text/plain": [
       "31"
      ]
     },
     "execution_count": 17,
     "metadata": {},
     "output_type": "execute_result"
    }
   ],
   "source": [
    "len(Liste_A_Q3)"
   ]
  },
  {
   "cell_type": "code",
   "execution_count": 18,
   "metadata": {},
   "outputs": [
    {
     "data": {
      "image/png": "[encoded data removed]",
      "text/plain": [
       "<matplotlib.figure.Figure at 0xa887240>"
      ]
     },
     "metadata": {},
     "output_type": "display_data"
    }
   ],
   "source": [
    "graf_hist(FinishedA3,Liste_A_Q3,16,30,9,4)"
   ]
  },
  {
   "cell_type": "code",
   "execution_count": 19,
   "metadata": {},
   "outputs": [
    {
     "data": {
      "image/png": "[encoded data removed]",
      "text/plain": [
       "<matplotlib.figure.Figure at 0xafeb4e0>"
      ]
     },
     "metadata": {},
     "output_type": "display_data"
    }
   ],
   "source": [
    "graf_hist(Finished,Liste_C_Q1,16,12,3,4)"
   ]
  },
  {
   "cell_type": "markdown",
   "metadata": {},
   "source": [
    "### Korrelation"
   ]
  },
  {
   "cell_type": "markdown",
   "metadata": {},
   "source": [
    "Funktion für Korrelationen:"
   ]
  },
  {
   "cell_type": "code",
   "execution_count": 20,
   "metadata": {},
   "outputs": [],
   "source": [
    "def get_Korr_M(Dat,l):\n",
    "    return pd.DataFrame(np.corrcoef(Dat[l].dropna().T),columns = l, index = l)"
   ]
  },
  {
   "cell_type": "markdown",
   "metadata": {},
   "source": [
    "Korrelation für A_Q2:"
   ]
  },
  {
   "cell_type": "code",
   "execution_count": 21,
   "metadata": {},
   "outputs": [],
   "source": [
    "Korr_A_Q2 = get_Korr_M(Daten,Liste_A_Q2)"
   ]
  },
  {
   "cell_type": "markdown",
   "metadata": {},
   "source": [
    "Korrelation für A_Q3:"
   ]
  },
  {
   "cell_type": "code",
   "execution_count": 22,
   "metadata": {},
   "outputs": [],
   "source": [
    "Korr_A_Q3 = get_Korr_M(Daten,Liste_A_Q3)"
   ]
  },
  {
   "cell_type": "code",
   "execution_count": 23,
   "metadata": {},
   "outputs": [],
   "source": [
    "Korr_C_Q1 = get_Korr_M(Daten,Liste_C_Q1)"
   ]
  },
  {
   "cell_type": "markdown",
   "metadata": {},
   "source": [
    "Funktion, um Daten mit bestimmtem Korrelationswert (z.B. über 0,5) zu bekommen:"
   ]
  },
  {
   "cell_type": "code",
   "execution_count": 24,
   "metadata": {},
   "outputs": [],
   "source": [
    "def get_max_corr(df,col,lim = 0.5):\n",
    "    return df[(df[col] > lim) & (df[col].dropna() < 0.99)][col]"
   ]
  },
  {
   "cell_type": "code",
   "execution_count": 25,
   "metadata": {},
   "outputs": [
    {
     "data": {
      "text/plain": [
       "Series([], Name: A-Q3_A-Q3_5, dtype: float64)"
      ]
     },
     "execution_count": 25,
     "metadata": {},
     "output_type": "execute_result"
    }
   ],
   "source": [
    "get_max_corr(Korr_A_Q3,'A-Q3_A-Q3_5', lim = 0.4)"
   ]
  },
  {
   "cell_type": "code",
   "execution_count": 26,
   "metadata": {},
   "outputs": [
    {
     "name": "stdout",
     "output_type": "stream",
     "text": [
      "Series([], Name: A-Q3_A-Q3_1, dtype: float64)\n",
      "Series([], Name: A-Q3_A-Q3_2, dtype: float64)\n",
      "Series([], Name: A-Q3_A-Q3_3, dtype: float64)\n",
      "Series([], Name: A-Q3_A-Q3_4, dtype: float64)\n",
      "Series([], Name: A-Q3_A-Q3_5, dtype: float64)\n",
      "A-Q3_A-Q3_7    0.715613\n",
      "Name: A-Q3_A-Q3_6, dtype: float64\n",
      "A-Q3_A-Q3_6    0.715613\n",
      "Name: A-Q3_A-Q3_7, dtype: float64\n",
      "Series([], Name: A-Q3_A-Q3_8, dtype: float64)\n",
      "Series([], Name: A-Q3_A-Q3_9, dtype: float64)\n",
      "Series([], Name: A-Q3_A-Q3_28, dtype: float64)\n",
      "Series([], Name: A-Q3_A-Q3_10, dtype: float64)\n",
      "Series([], Name: A-Q3_A-Q3_11, dtype: float64)\n",
      "Series([], Name: A-Q3_A-Q3_12, dtype: float64)\n",
      "Series([], Name: A-Q3_A-Q3_13, dtype: float64)\n",
      "Series([], Name: A-Q3_A-Q3_29, dtype: float64)\n",
      "Series([], Name: A-Q3_A-Q3_14, dtype: float64)\n",
      "Series([], Name: A-Q3_A-Q3_15, dtype: float64)\n",
      "Series([], Name: A-Q3_A-Q3_16, dtype: float64)\n",
      "Series([], Name: A-Q3_A-Q3_17, dtype: float64)\n",
      "Series([], Name: A-Q3_A-Q3_18, dtype: float64)\n",
      "Series([], Name: A-Q3_A-Q3_19, dtype: float64)\n",
      "Series([], Name: A-Q3_A-Q3_20, dtype: float64)\n",
      "Series([], Name: A-Q3_A-Q3_21, dtype: float64)\n",
      "Series([], Name: A-Q3_A-Q3_22, dtype: float64)\n",
      "Series([], Name: A-Q3_A-Q3_23, dtype: float64)\n",
      "Series([], Name: A-Q3_A-Q3_24, dtype: float64)\n",
      "Series([], Name: A-Q3_A-Q3_25, dtype: float64)\n",
      "Series([], Name: A-Q3_A-Q3_30, dtype: float64)\n",
      "Series([], Name: A-Q3_A-Q3_31, dtype: float64)\n",
      "Series([], Name: A-Q3_A-Q3_26, dtype: float64)\n",
      "Series([], Name: A-Q3_A-Q3_27, dtype: float64)\n"
     ]
    }
   ],
   "source": [
    "for col in Liste_A_Q3:\n",
    "    print(get_max_corr(Korr_A_Q3,col,0.7))"
   ]
  },
  {
   "cell_type": "code",
   "execution_count": 27,
   "metadata": {},
   "outputs": [
    {
     "data": {
      "text/plain": [
       "C-Q1_C-Q1_3    0.569061\n",
       "C-Q1_C-Q1_4    0.529213\n",
       "C-Q1_C-Q1_5    0.520650\n",
       "Name: C-Q1_C-Q1_1, dtype: float64"
      ]
     },
     "execution_count": 27,
     "metadata": {},
     "output_type": "execute_result"
    }
   ],
   "source": [
    "get_max_corr(Korr_C_Q1,'C-Q1_C-Q1_1', lim = 0.4)"
   ]
  },
  {
   "cell_type": "code",
   "execution_count": 28,
   "metadata": {},
   "outputs": [
    {
     "name": "stdout",
     "output_type": "stream",
     "text": [
      "C-Q1_C-Q1_3    0.569061\n",
      "C-Q1_C-Q1_4    0.529213\n",
      "C-Q1_C-Q1_5    0.520650\n",
      "Name: C-Q1_C-Q1_1, dtype: float64\n",
      "Series([], Name: C-Q1_C-Q1_2, dtype: float64)\n",
      "C-Q1_C-Q1_1    0.569061\n",
      "C-Q1_C-Q1_5    0.520232\n",
      "Name: C-Q1_C-Q1_3, dtype: float64\n",
      "C-Q1_C-Q1_1    0.529213\n",
      "C-Q1_C-Q1_5    0.751436\n",
      "C-Q1_C-Q1_6    0.534602\n",
      "Name: C-Q1_C-Q1_4, dtype: float64\n",
      "C-Q1_C-Q1_1    0.520650\n",
      "C-Q1_C-Q1_3    0.520232\n",
      "C-Q1_C-Q1_4    0.751436\n",
      "C-Q1_C-Q1_6    0.567599\n",
      "Name: C-Q1_C-Q1_5, dtype: float64\n",
      "C-Q1_C-Q1_4    0.534602\n",
      "C-Q1_C-Q1_5    0.567599\n",
      "Name: C-Q1_C-Q1_6, dtype: float64\n",
      "Series([], Name: C-Q1_C-Q1_7, dtype: float64)\n"
     ]
    }
   ],
   "source": [
    "for col in Liste_C_Q1:\n",
    "    print(get_max_corr(Korr_C_Q1,col,0.5))"
   ]
  },
  {
   "cell_type": "markdown",
   "metadata": {},
   "source": [
    "### Cronbach's Alpha berechnen"
   ]
  },
  {
   "cell_type": "code",
   "execution_count": 29,
   "metadata": {},
   "outputs": [],
   "source": [
    "def CronbachAlpha(itemscores):\n",
    "    itemscores = np.asarray(itemscores)\n",
    "    itemvars = itemscores.var(axis=0, ddof=1)\n",
    "    tscores = itemscores.sum(axis=1)\n",
    "    nitems = itemscores.shape[1]\n",
    "    calpha = nitems / float(nitems-1) * (1 - itemvars.sum() / float(tscores.var(ddof=1)))\n",
    "\n",
    "    return calpha"
   ]
  },
  {
   "cell_type": "code",
   "execution_count": 30,
   "metadata": {},
   "outputs": [
    {
     "data": {
      "text/plain": [
       "0.36410843085506173"
      ]
     },
     "execution_count": 30,
     "metadata": {},
     "output_type": "execute_result"
    }
   ],
   "source": [
    "CronbachAlpha(Daten[Liste_A_Q2])"
   ]
  },
  {
   "cell_type": "code",
   "execution_count": 31,
   "metadata": {},
   "outputs": [],
   "source": [
    "Liste_A_Q = Liste_A_Q2 + Liste_A_Q3"
   ]
  },
  {
   "cell_type": "code",
   "execution_count": 32,
   "metadata": {},
   "outputs": [],
   "source": [
    "Liste_AC_Q = Liste_A_Q + Liste_C_Q1"
   ]
  },
  {
   "cell_type": "code",
   "execution_count": 33,
   "metadata": {},
   "outputs": [
    {
     "data": {
      "text/plain": [
       "0.91197497690588114"
      ]
     },
     "execution_count": 33,
     "metadata": {},
     "output_type": "execute_result"
    }
   ],
   "source": [
    "CronbachAlpha(Daten[Liste_AC_Q])"
   ]
  },
  {
   "cell_type": "code",
   "execution_count": 34,
   "metadata": {},
   "outputs": [
    {
     "data": {
      "text/plain": [
       "0.78239150902854282"
      ]
     },
     "execution_count": 34,
     "metadata": {},
     "output_type": "execute_result"
    }
   ],
   "source": [
    "CronbachAlpha(Daten[Liste_C_Q1])"
   ]
  },
  {
   "cell_type": "markdown",
   "metadata": {},
   "source": [
    "### Zeitanalyse"
   ]
  },
  {
   "cell_type": "markdown",
   "metadata": {},
   "source": [
    "#### Zeitformat ändern"
   ]
  },
  {
   "cell_type": "code",
   "execution_count": 35,
   "metadata": {},
   "outputs": [
    {
     "data": {
      "text/plain": [
       "str"
      ]
     },
     "execution_count": 35,
     "metadata": {},
     "output_type": "execute_result"
    }
   ],
   "source": [
    "type(Daten.EndDate[0])"
   ]
  },
  {
   "cell_type": "code",
   "execution_count": 36,
   "metadata": {},
   "outputs": [],
   "source": [
    "Daten['StartDate'] = pd.to_datetime(Daten.StartDate) #- nicht nötig, wenn Dateiformat bleibt\n",
    "Daten['EndDate'] = pd.to_datetime(Daten.EndDate)"
   ]
  },
  {
   "cell_type": "code",
   "execution_count": 37,
   "metadata": {},
   "outputs": [
    {
     "data": {
      "text/plain": [
       "Components(days=0, hours=0, minutes=5, seconds=34, milliseconds=0, microseconds=0, nanoseconds=0)"
      ]
     },
     "execution_count": 37,
     "metadata": {},
     "output_type": "execute_result"
    }
   ],
   "source": [
    "(Daten['EndDate'][0] - Daten['StartDate'][0]).components"
   ]
  },
  {
   "cell_type": "markdown",
   "metadata": {},
   "source": [
    "zeigt Komponenten des Datetime-Formats an"
   ]
  },
  {
   "cell_type": "markdown",
   "metadata": {},
   "source": [
    "#### Beantwortungszeit berechnen"
   ]
  },
  {
   "cell_type": "code",
   "execution_count": 38,
   "metadata": {},
   "outputs": [],
   "source": [
    "Daten['Diff'] = (Daten['EndDate'] - Daten['StartDate']).dt.total_seconds()"
   ]
  },
  {
   "cell_type": "markdown",
   "metadata": {},
   "source": [
    "neue Spalte: \"Daten.Diff\", die Unterschied zwischen Anfangs- und Endzeit der Beantwortung in Sekunden angibt"
   ]
  },
  {
   "cell_type": "code",
   "execution_count": 39,
   "metadata": {},
   "outputs": [
    {
     "data": {
      "text/plain": [
       "count       234.000000\n",
       "mean       5006.153846\n",
       "std       37486.424886\n",
       "min         334.000000\n",
       "25%         648.750000\n",
       "50%        1082.500000\n",
       "75%        1400.250000\n",
       "max      535187.000000\n",
       "Name: Diff, dtype: float64"
      ]
     },
     "execution_count": 39,
     "metadata": {},
     "output_type": "execute_result"
    }
   ],
   "source": [
    "Daten.Diff.describe()"
   ]
  },
  {
   "cell_type": "code",
   "execution_count": 40,
   "metadata": {},
   "outputs": [
    {
     "data": {
      "text/plain": [
       "<matplotlib.axes._subplots.AxesSubplot at 0xcce06d8>"
      ]
     },
     "execution_count": 40,
     "metadata": {},
     "output_type": "execute_result"
    },
    {
     "data": {
      "image/png": "[encoded data removed]",
      "text/plain": [
       "<matplotlib.figure.Figure at 0xcc9c588>"
      ]
     },
     "metadata": {},
     "output_type": "display_data"
    }
   ],
   "source": [
    "Daten.Diff.plot.box()"
   ]
  },
  {
   "cell_type": "markdown",
   "metadata": {},
   "source": [
    "Überblick über die Beantwortungszeit und Darstellung in einem Boxplot, um Outlyers zu erkennen -> sollen nicht mit berücksichtigt werden (z.B. TN, die an einem Tag begonnen und später beendet haben...)\n",
    "\n",
    "sinnvoll ist, eine Grenze bei ca. einer Stunde Beantwortungszeit (3600 sek) festzulegen"
   ]
  },
  {
   "cell_type": "code",
   "execution_count": 41,
   "metadata": {},
   "outputs": [
    {
     "data": {
      "text/plain": [
       "<matplotlib.axes._subplots.AxesSubplot at 0xc987208>"
      ]
     },
     "execution_count": 41,
     "metadata": {},
     "output_type": "execute_result"
    },
    {
     "data": {
      "image/png": "[encoded data removed]",
      "text/plain": [
       "<matplotlib.figure.Figure at 0xd1d3cc0>"
      ]
     },
     "metadata": {},
     "output_type": "display_data"
    }
   ],
   "source": [
    "Daten[Daten.Diff < 4000].Diff.plot.box()"
   ]
  },
  {
   "cell_type": "code",
   "execution_count": 42,
   "metadata": {},
   "outputs": [
    {
     "data": {
      "text/plain": [
       "count     226.000000\n",
       "mean     1064.880531\n",
       "std       496.353511\n",
       "min       334.000000\n",
       "25%       619.000000\n",
       "50%      1066.500000\n",
       "75%      1359.750000\n",
       "max      2968.000000\n",
       "Name: Diff, dtype: float64"
      ]
     },
     "execution_count": 42,
     "metadata": {},
     "output_type": "execute_result"
    }
   ],
   "source": [
    "Daten[Daten.Diff < 4000].Diff.describe()"
   ]
  },
  {
   "cell_type": "code",
   "execution_count": 43,
   "metadata": {},
   "outputs": [
    {
     "data": {
      "text/plain": [
       "17.75"
      ]
     },
     "execution_count": 43,
     "metadata": {},
     "output_type": "execute_result"
    }
   ],
   "source": [
    "1065/60"
   ]
  },
  {
   "cell_type": "markdown",
   "metadata": {},
   "source": [
    "Schlussfolgerung:\n",
    "\n",
    "durchschnittliche Beantwortungszeit liegt bei ca. 18min, wobei berücksichtigt werden muss, dass TN außerhalb des Unterrichts Pausen einlegen konnten und dass z.T. bei der Beantwortung im Unterricht mehr Zeit für Erklärungen/Einloggen/Abwarten... verwendet wurde"
   ]
  },
  {
   "cell_type": "markdown",
   "metadata": {},
   "source": [
    "### Charakteristika der Stichprobe"
   ]
  },
  {
   "cell_type": "code",
   "execution_count": 44,
   "metadata": {},
   "outputs": [
    {
     "data": {
      "image/png": "[encoded data removed]",
      "text/plain": [
       "<matplotlib.figure.Figure at 0xcce07f0>"
      ]
     },
     "metadata": {},
     "output_type": "display_data"
    }
   ],
   "source": [
    "Finished[Finished['D-Q1'] != 0]['D-Q1'].value_counts().plot(kind='bar', \n",
    "                                                            figsize = (12,5), width = 0.5, \n",
    "                                                            legend = True, title = \"Universität\");"
   ]
  },
  {
   "cell_type": "markdown",
   "metadata": {},
   "source": [
    "(1)\tAbat Oliba-CEU\n",
    "(2)\tAlcalá de Henares\n",
    "(3)\tAlfonso X El Sabio\n",
    "(4)\tAlicante\n",
    "(5)\tAlmería\n",
    "(6)\tAntonio de Nebrija\n",
    "(7)\tAutónoma de Barcelona\n",
    "(8)\tAutónoma de Madrid\n",
    "(9)\tBarcelona\n",
    "(10)\tBurgos\n",
    "(11)\tCádiz\n",
    "(12)\tCamilo José Cela\n",
    "(13)\tCantabria\n",
    "(14)\tCardenal Herrera-CEU\n",
    "(15)\tCarlos III\n",
    "(16)\tCastilla-La Mancha\n",
    "(17)\tCatólica de Ávila\n",
    "(18)\tCatólica de Valencia\n",
    "(19)\tCatólica S. Antonio de Murcia\n",
    "(20)\tComplutense de Madrid\n",
    "(21)\tCórdoba\n",
    "(22)\tCoruña, A\n",
    "(23)\tDeusto\n",
    "(24)\tEuropea de Madrid\n",
    "(25)\tEuropea Miguel de Cervantes\n",
    "(26)\tExtremadura\n",
    "(27)\tFrancisco de Vitoria\n",
    "(28)\tGirona\n",
    "(29)\tGranada\n",
    "(30)\tHuelva\n",
    "(31)\tIE Universidad\n",
    "(32)\tIlles Balears\n",
    "(33)\tInternacional de Catalunya\n",
    "(34)\tInternacional de La Rioja\n",
    "(35)\tInternacional Valenciana\n",
    "(36)\tJaén\n",
    "(37)\tJaume I de Castellón\n",
    "(38)\tLa Laguna\n",
    "(39)\tLa Rioja\n",
    "(40)\tLeón\n",
    "(41)\tLleida\n",
    "(42)\tMálaga\n",
    "(43)\tMiguel Hernández de Elche\n",
    "(44)\tMondragón\n",
    "(45)\tMurcia\n",
    "(46)\tNavarra\n",
    "(47)\tOberta de Catalunya\n",
    "(48)\tOviedo\n",
    "(49)\tPablo de Olavide\n",
    "(50)\tPaís Vasco\n",
    "(51)\tPalmas (Las)\n",
    "(52)\tPolitécnica de Cartagena\n",
    "(53)\tPolitécnica de Cataluña\n",
    "(54)\tPolitécnica de Madrid\n",
    "(55)\tPolitécnica de Valencia\n",
    "(56)\tPompeu Fabra\n",
    "(57)\tPontificia Comillas\n",
    "(58)\tPontificia de Salamanca\n",
    "(59)\tPública de Navarra\n",
    "(60)\tRamón Llull\n",
    "(61)\tRey Juan Carlos\n",
    "(62)\tRovira i Virgili\n",
    "(63)\tSalamanca\n",
    "(64)\tSan Jorge\n",
    "(65)\tSan Pablo-CEU\n",
    "(66)\tSantiago de Compostela\n",
    "(67)\tSevilla\n",
    "(68)\tU.N.E.D.\n",
    "(69)\tUDIMA\n",
    "(70)\tValencia (Est. General)\n",
    "(71)\tValladolid\n",
    "(72)\tVic\n",
    "(73)\tVigo\n",
    "(74)\tZaragoza\n",
    "(75)\tOtra"
   ]
  },
  {
   "cell_type": "code",
   "execution_count": 45,
   "metadata": {},
   "outputs": [
    {
     "data": {
      "text/plain": [
       "67    56\n",
       "29    30\n",
       "66    28\n",
       "63    26\n",
       "20    26\n",
       "70    18\n",
       "8     10\n",
       "50     7\n",
       "2      6\n",
       "9      4\n",
       "37     4\n",
       "75     3\n",
       "0      3\n",
       "71     3\n",
       "51     2\n",
       "35     1\n",
       "16     1\n",
       "48     1\n",
       "42     1\n",
       "Name: D-Q1, dtype: int64"
      ]
     },
     "execution_count": 45,
     "metadata": {},
     "output_type": "execute_result"
    }
   ],
   "source": [
    "Finished['D-Q1'].value_counts()"
   ]
  },
  {
   "cell_type": "code",
   "execution_count": 46,
   "metadata": {},
   "outputs": [
    {
     "data": {
      "image/png": "[encoded data removed]",
      "text/plain": [
       "<matplotlib.figure.Figure at 0xccee6d8>"
      ]
     },
     "metadata": {},
     "output_type": "display_data"
    }
   ],
   "source": [
    "Finished['D-Q2'].value_counts()[[1,2,3,4]].plot(kind = 'bar', figsize = (5,5), width = 0.4, legend = True, title = \"Studium\");"
   ]
  },
  {
   "cell_type": "markdown",
   "metadata": {},
   "source": [
    "(1)\tGrado\n",
    "(2)\tPosgrado/Máster \n",
    "(3)\tDoctorado\n",
    "(4)\tOtros"
   ]
  },
  {
   "cell_type": "code",
   "execution_count": 47,
   "metadata": {},
   "outputs": [
    {
     "data": {
      "text/plain": [
       "1    208\n",
       "4      9\n",
       "3      6\n",
       "2      5\n",
       "0      2\n",
       "Name: D-Q2, dtype: int64"
      ]
     },
     "execution_count": 47,
     "metadata": {},
     "output_type": "execute_result"
    }
   ],
   "source": [
    "Finished['D-Q2'].value_counts()"
   ]
  },
  {
   "cell_type": "code",
   "execution_count": 48,
   "metadata": {},
   "outputs": [
    {
     "data": {
      "image/png": "[encoded data removed]",
      "text/plain": [
       "<matplotlib.figure.Figure at 0xcca0c88>"
      ]
     },
     "metadata": {},
     "output_type": "display_data"
    }
   ],
   "source": [
    "Finished['D-Q2a'].value_counts()[[1,2,3,4,5,6,7,8]].plot(kind='bar', figsize = (7,5), width = 0.5, legend = True, title = \"Studienrichtung\");"
   ]
  },
  {
   "cell_type": "markdown",
   "metadata": {},
   "source": [
    "(1) Estudios Alemanes / Filología Alemana (Germanistikstudium / deutsche Philologie), (2) Otras Filologías (Anderes Philologiestudium), (3) Traducción, Alemán 1a Lengua Extranjera / B (Übersetzen und Dolmetschen, Erste Fremdsprache / Sprache B), (4) Traducción, Alemán 2a Lengua Extranjera / C (Übersetzen und Dolmetschen, Zweite Fremdsprache / Sprache C), (5) Humanidades (Humanistisches Studium), (6) Economía (Wirtschaftliches Studium), (7) Turismo (Tourismus-Studium), (8) Otra (Andere)"
   ]
  },
  {
   "cell_type": "code",
   "execution_count": 49,
   "metadata": {},
   "outputs": [
    {
     "data": {
      "text/plain": [
       "1    96\n",
       "2    46\n",
       "8    29\n",
       "0    22\n",
       "4    20\n",
       "7     8\n",
       "3     7\n",
       "5     2\n",
       "Name: D-Q2a, dtype: int64"
      ]
     },
     "execution_count": 49,
     "metadata": {},
     "output_type": "execute_result"
    }
   ],
   "source": [
    "Finished['D-Q2a'].value_counts()"
   ]
  },
  {
   "cell_type": "code",
   "execution_count": 50,
   "metadata": {},
   "outputs": [
    {
     "data": {
      "image/png": "[encoded data removed]",
      "text/plain": [
       "<matplotlib.figure.Figure at 0xcbf9080>"
      ]
     },
     "metadata": {},
     "output_type": "display_data"
    }
   ],
   "source": [
    "Finished['D-Q2b'].value_counts()[[1,2,3,4]].plot(kind='bar', figsize = (5,5), width = 0.4, legend = True, title = \"Studienjahr\");"
   ]
  },
  {
   "cell_type": "code",
   "execution_count": 51,
   "metadata": {},
   "outputs": [
    {
     "data": {
      "text/plain": [
       "1    85\n",
       "2    62\n",
       "3    44\n",
       "0    24\n",
       "4    15\n",
       "Name: D-Q2b, dtype: int64"
      ]
     },
     "execution_count": 51,
     "metadata": {},
     "output_type": "execute_result"
    }
   ],
   "source": [
    "Finished['D-Q2b'].value_counts()"
   ]
  },
  {
   "cell_type": "code",
   "execution_count": 52,
   "metadata": {},
   "outputs": [
    {
     "data": {
      "image/png": "[encoded data removed]",
      "text/plain": [
       "<matplotlib.figure.Figure at 0xab6c9e8>"
      ]
     },
     "metadata": {},
     "output_type": "display_data"
    }
   ],
   "source": [
    "Finished['D-Q3'].value_counts()[[1,2,3]].plot(kind = 'bar', figsize = (4,5), width = 0.4, legend = True, title = \"Art des Deutschkurses\");"
   ]
  },
  {
   "cell_type": "markdown",
   "metadata": {},
   "source": [
    "(1) Pflichtfach, (2) Wahlfach, (3) extracurricularer Kurs"
   ]
  },
  {
   "cell_type": "code",
   "execution_count": 53,
   "metadata": {},
   "outputs": [
    {
     "data": {
      "text/plain": [
       "1    141\n",
       "2     70\n",
       "3     19\n",
       "Name: D-Q3, dtype: int64"
      ]
     },
     "execution_count": 53,
     "metadata": {},
     "output_type": "execute_result"
    }
   ],
   "source": [
    "Finished['D-Q3'].value_counts()"
   ]
  },
  {
   "cell_type": "code",
   "execution_count": 54,
   "metadata": {},
   "outputs": [
    {
     "data": {
      "image/png": "[encoded data removed]",
      "text/plain": [
       "<matplotlib.figure.Figure at 0xa81b160>"
      ]
     },
     "metadata": {},
     "output_type": "display_data"
    }
   ],
   "source": [
    "Finished['D-Q4'].value_counts()[[1,2,3,4,5,6]].plot(kind='bar', figsize = (6,5), width = 0.5, legend = True, title = \"Niveau des aktuellen Deutschkurses\");"
   ]
  },
  {
   "cell_type": "markdown",
   "metadata": {},
   "source": [
    "(1)\tA1, \n",
    "(2)\tA2, \n",
    "(3)\tB1, \n",
    "(4)\tB2, \n",
    "(5)\tC1,\n",
    "(6)\tC2 "
   ]
  },
  {
   "cell_type": "code",
   "execution_count": 55,
   "metadata": {},
   "outputs": [
    {
     "data": {
      "text/plain": [
       "3    84\n",
       "1    50\n",
       "2    49\n",
       "4    30\n",
       "5    16\n",
       "6     1\n",
       "Name: D-Q4, dtype: int64"
      ]
     },
     "execution_count": 55,
     "metadata": {},
     "output_type": "execute_result"
    }
   ],
   "source": [
    "Finished['D-Q4'].value_counts()"
   ]
  },
  {
   "cell_type": "code",
   "execution_count": 56,
   "metadata": {},
   "outputs": [
    {
     "data": {
      "text/plain": [
       "count    222.000000\n",
       "mean      22.135135\n",
       "std        6.894796\n",
       "min       18.000000\n",
       "25%       19.000000\n",
       "50%       20.000000\n",
       "75%       22.000000\n",
       "max       59.000000\n",
       "Name: D-Q5, dtype: float64"
      ]
     },
     "execution_count": 56,
     "metadata": {},
     "output_type": "execute_result"
    }
   ],
   "source": [
    "Finished[Finished['D-Q5'] != 0]['D-Q5'].describe()"
   ]
  },
  {
   "cell_type": "code",
   "execution_count": 57,
   "metadata": {},
   "outputs": [
    {
     "data": {
      "image/png": "[encoded data removed]",
      "text/plain": [
       "<matplotlib.figure.Figure at 0xc8e4d30>"
      ]
     },
     "metadata": {},
     "output_type": "display_data"
    }
   ],
   "source": [
    "Finished[Finished['D-Q5'] != 0]['D-Q5'].astype(integer).value_counts().sort_index().plot(kind='bar', figsize = (15,5), legend = True, title = \"Alter\");"
   ]
  },
  {
   "cell_type": "code",
   "execution_count": 58,
   "metadata": {},
   "outputs": [
    {
     "data": {
      "image/png": "[encoded data removed]",
      "text/plain": [
       "<matplotlib.figure.Figure at 0xc51f9b0>"
      ]
     },
     "metadata": {},
     "output_type": "display_data"
    }
   ],
   "source": [
    "Finished['D-Q6'].value_counts()[[1,2,3]].plot(kind = 'bar', figsize = (4,5), width = 0.4, legend = True, title = \"Geschlecht\");"
   ]
  },
  {
   "cell_type": "code",
   "execution_count": 59,
   "metadata": {},
   "outputs": [
    {
     "data": {
      "text/plain": [
       "1    168\n",
       "2     54\n",
       "3      5\n",
       "0      3\n",
       "Name: D-Q6, dtype: int64"
      ]
     },
     "execution_count": 59,
     "metadata": {},
     "output_type": "execute_result"
    }
   ],
   "source": [
    "Finished['D-Q6'].value_counts()"
   ]
  },
  {
   "cell_type": "code",
   "execution_count": 60,
   "metadata": {},
   "outputs": [
    {
     "data": {
      "image/png": "[encoded data removed]",
      "text/plain": [
       "<matplotlib.figure.Figure at 0xab98b38>"
      ]
     },
     "metadata": {},
     "output_type": "display_data"
    }
   ],
   "source": [
    "Finished[Finished['D-Q7'] != 0]['D-Q7'].value_counts().plot(kind='bar', figsize = (10,5), legend = True, title = \"Erstsprachen (1)\");"
   ]
  },
  {
   "cell_type": "markdown",
   "metadata": {},
   "source": [
    "(1) \tCastellano\n",
    "(2) \tCatalán (Català), Valenciano (Valencià)\n",
    "(3) \tGallego (Galego)\n",
    "(4) \tVasco (Euskara)\n",
    "(5) \tAlemán (Deutsch)\n",
    "(6) \tÁrabe (العربية)\n",
    "(7) \tChino mandarín (中文)\n",
    "(8) \tCoreano (한국어)\n",
    "(9) \tDanés (Dansk)\n",
    "(10) \tFrancés (Français)\n",
    "(11) \tGriego moderno (Ελληνικά)\n",
    "(12) \tInglés (English)\n",
    "(13) \tItaliano (Italiano)\n",
    "(14) \tJaponés (日本語)\n",
    "(15) \tNeerlandés (Nederlands)\n",
    "(16) \tPortugués (Português)\n",
    "(17) \tRumano (Română)\n",
    "(18) \tRuso (Русский)\n",
    "(19) \tSueco (Svenska)\n",
    "(20) \tGriego antiguo (Aρχαία Eλληνική)\n",
    "(21) \tLatín (Latina)\n",
    "(22) \tArmenio (Հայերեն)\n",
    "(23) \tBúlgaro (Български)\n",
    "(24) \tCheco (Česky)\n",
    "(25) \tCroata (Hrvatski)\n",
    "(26) \tEslovaco (Slovenčina)\n",
    "(27) \tEsloveno (Slovenščina)\n",
    "(28) \tEstonio (Eesti)\n",
    "(29) \tFinés (Suomi)\n",
    "(30) \tGalés (Cymraeg)\n",
    "(31) \tHindi (हिन्दी)\n",
    "(32) \tHúngaro (Magyar)\n",
    "(33) \tIrlandés (Gaeilge)\n",
    "(34) \tLetón (Latviešu)\n",
    "(35) \tLituano (Lietuvių)\n",
    "(36) \tLuxemburgués (Lëtzebuergesch)\n",
    "(37) \tMaltés (bil-Malti)\n",
    "(38) \tMoldavo (Moldoveana)\n",
    "(39) \tNoruego (Norsk)\n",
    "(40) \tOccitano (Occitan)\n",
    "(41) \tPolaco (Polski)\n",
    "(42) \tPersa (فارسی)\n",
    "(43) \tTurco (Türkçe)\n",
    "(44) \tUcraniano (Українська)\n",
    "(45) \tUrdu (اردو)\n",
    "(46) \tOtro"
   ]
  },
  {
   "cell_type": "code",
   "execution_count": 61,
   "metadata": {},
   "outputs": [
    {
     "data": {
      "text/plain": [
       "1     188\n",
       "3      14\n",
       "2       8\n",
       "7       5\n",
       "41      3\n",
       "17      3\n",
       "26      2\n",
       "16      2\n",
       "46      1\n",
       "18      1\n",
       "6       1\n",
       "5       1\n",
       "0       1\n",
       "Name: D-Q7, dtype: int64"
      ]
     },
     "execution_count": 61,
     "metadata": {},
     "output_type": "execute_result"
    }
   ],
   "source": [
    "Finished['D-Q7'].value_counts()"
   ]
  },
  {
   "cell_type": "code",
   "execution_count": 62,
   "metadata": {},
   "outputs": [
    {
     "data": {
      "text/plain": [
       "2    172\n",
       "1     58\n",
       "Name: D-Q7b, dtype: int64"
      ]
     },
     "execution_count": 62,
     "metadata": {},
     "output_type": "execute_result"
    }
   ],
   "source": [
    "Finished['D-Q7b'].value_counts()"
   ]
  },
  {
   "cell_type": "code",
   "execution_count": 63,
   "metadata": {},
   "outputs": [
    {
     "data": {
      "text/plain": [
       "1     25\n",
       "2     12\n",
       "3     11\n",
       "46     2\n",
       "5      2\n",
       "4      2\n",
       "44     1\n",
       "24     1\n",
       "18     1\n",
       "12     1\n",
       "Name: D-Q7c, dtype: int64"
      ]
     },
     "execution_count": 63,
     "metadata": {},
     "output_type": "execute_result"
    }
   ],
   "source": [
    "Finished[Finished['D-Q7c'] != 0]['D-Q7c'].value_counts()"
   ]
  },
  {
   "cell_type": "code",
   "execution_count": 64,
   "metadata": {},
   "outputs": [
    {
     "data": {
      "image/png": "[encoded data removed]",
      "text/plain": [
       "<matplotlib.figure.Figure at 0xd2d1c18>"
      ]
     },
     "metadata": {},
     "output_type": "display_data"
    }
   ],
   "source": [
    "Finished[Finished['D-Q7c'] != 0]['D-Q7c'].value_counts().plot(kind='bar', figsize = (10,5), legend = True, title = \"Erstsprachen (2)\");"
   ]
  },
  {
   "cell_type": "code",
   "execution_count": 65,
   "metadata": {},
   "outputs": [
    {
     "data": {
      "text/plain": [
       "2    57\n",
       "1     1\n",
       "Name: D-Q7e, dtype: int64"
      ]
     },
     "execution_count": 65,
     "metadata": {},
     "output_type": "execute_result"
    }
   ],
   "source": [
    "Finished[Finished['D-Q7e'] != 0]['D-Q7e'].value_counts()"
   ]
  },
  {
   "cell_type": "code",
   "execution_count": 66,
   "metadata": {},
   "outputs": [
    {
     "data": {
      "text/plain": [
       "46    1\n",
       "Name: D-Q7f, dtype: int64"
      ]
     },
     "execution_count": 66,
     "metadata": {},
     "output_type": "execute_result"
    }
   ],
   "source": [
    "Finished[Finished['D-Q7f'] != 0]['D-Q7f'].value_counts()"
   ]
  },
  {
   "cell_type": "markdown",
   "metadata": {},
   "source": [
    "Otro = Guaraní"
   ]
  },
  {
   "cell_type": "code",
   "execution_count": 117,
   "metadata": {},
   "outputs": [],
   "source": [
    "Sprachen = Finished[['D-Q8_1','D-Q8_2','D-Q8_3','D-Q8_4','D-Q8_5','D-Q8_6','D-Q8_7']]"
   ]
  },
  {
   "cell_type": "code",
   "execution_count": 118,
   "metadata": {},
   "outputs": [],
   "source": [
    "DF_Spr = Sprachen.apply(pd.value_counts).fillna(0).astype(integer)"
   ]
  },
  {
   "cell_type": "code",
   "execution_count": 119,
   "metadata": {},
   "outputs": [],
   "source": [
    "ix_sorted = list(DF_Spr[1:].sum(axis = 1).sort_values(ascending=False).index)"
   ]
  },
  {
   "cell_type": "code",
   "execution_count": 120,
   "metadata": {},
   "outputs": [],
   "source": [
    "All = []\n",
    "for i in DF_Spr.index:\n",
    "    All.append((DF_Spr.loc[i]).sum())"
   ]
  },
  {
   "cell_type": "code",
   "execution_count": 121,
   "metadata": {},
   "outputs": [],
   "source": [
    "DF_Spr['All'] = All"
   ]
  },
  {
   "cell_type": "code",
   "execution_count": 122,
   "metadata": {},
   "outputs": [
    {
     "data": {
      "text/html": [
       "<div>\n",
       "<style>\n",
       "    .dataframe thead tr:only-child th {\n",
       "        text-align: right;\n",
       "    }\n",
       "\n",
       "    .dataframe thead th {\n",
       "        text-align: left;\n",
       "    }\n",
       "\n",
       "    .dataframe tbody tr th {\n",
       "        vertical-align: top;\n",
       "    }\n",
       "</style>\n",
       "<table border=\"1\" class=\"dataframe\">\n",
       "  <thead>\n",
       "    <tr style=\"text-align: right;\">\n",
       "      <th></th>\n",
       "      <th>D-Q8_1</th>\n",
       "      <th>D-Q8_2</th>\n",
       "      <th>D-Q8_3</th>\n",
       "      <th>D-Q8_4</th>\n",
       "      <th>D-Q8_5</th>\n",
       "      <th>D-Q8_6</th>\n",
       "      <th>D-Q8_7</th>\n",
       "      <th>All</th>\n",
       "    </tr>\n",
       "  </thead>\n",
       "  <tbody>\n",
       "    <tr>\n",
       "      <th>1</th>\n",
       "      <td>5</td>\n",
       "      <td>6</td>\n",
       "      <td>5</td>\n",
       "      <td>4</td>\n",
       "      <td>0</td>\n",
       "      <td>1</td>\n",
       "      <td>0</td>\n",
       "      <td>21</td>\n",
       "    </tr>\n",
       "    <tr>\n",
       "      <th>2</th>\n",
       "      <td>4</td>\n",
       "      <td>4</td>\n",
       "      <td>4</td>\n",
       "      <td>3</td>\n",
       "      <td>2</td>\n",
       "      <td>0</td>\n",
       "      <td>0</td>\n",
       "      <td>17</td>\n",
       "    </tr>\n",
       "    <tr>\n",
       "      <th>3</th>\n",
       "      <td>1</td>\n",
       "      <td>2</td>\n",
       "      <td>0</td>\n",
       "      <td>1</td>\n",
       "      <td>1</td>\n",
       "      <td>0</td>\n",
       "      <td>1</td>\n",
       "      <td>6</td>\n",
       "    </tr>\n",
       "    <tr>\n",
       "      <th>4</th>\n",
       "      <td>6</td>\n",
       "      <td>3</td>\n",
       "      <td>0</td>\n",
       "      <td>1</td>\n",
       "      <td>1</td>\n",
       "      <td>1</td>\n",
       "      <td>0</td>\n",
       "      <td>12</td>\n",
       "    </tr>\n",
       "    <tr>\n",
       "      <th>5</th>\n",
       "      <td>10</td>\n",
       "      <td>39</td>\n",
       "      <td>68</td>\n",
       "      <td>36</td>\n",
       "      <td>45</td>\n",
       "      <td>15</td>\n",
       "      <td>0</td>\n",
       "      <td>213</td>\n",
       "    </tr>\n",
       "    <tr>\n",
       "      <th>6</th>\n",
       "      <td>0</td>\n",
       "      <td>0</td>\n",
       "      <td>3</td>\n",
       "      <td>1</td>\n",
       "      <td>1</td>\n",
       "      <td>0</td>\n",
       "      <td>0</td>\n",
       "      <td>5</td>\n",
       "    </tr>\n",
       "    <tr>\n",
       "      <th>7</th>\n",
       "      <td>2</td>\n",
       "      <td>0</td>\n",
       "      <td>1</td>\n",
       "      <td>1</td>\n",
       "      <td>2</td>\n",
       "      <td>1</td>\n",
       "      <td>0</td>\n",
       "      <td>7</td>\n",
       "    </tr>\n",
       "    <tr>\n",
       "      <th>8</th>\n",
       "      <td>0</td>\n",
       "      <td>0</td>\n",
       "      <td>0</td>\n",
       "      <td>0</td>\n",
       "      <td>1</td>\n",
       "      <td>0</td>\n",
       "      <td>0</td>\n",
       "      <td>1</td>\n",
       "    </tr>\n",
       "    <tr>\n",
       "      <th>9</th>\n",
       "      <td>0</td>\n",
       "      <td>0</td>\n",
       "      <td>0</td>\n",
       "      <td>0</td>\n",
       "      <td>1</td>\n",
       "      <td>0</td>\n",
       "      <td>1</td>\n",
       "      <td>2</td>\n",
       "    </tr>\n",
       "    <tr>\n",
       "      <th>10</th>\n",
       "      <td>8</td>\n",
       "      <td>106</td>\n",
       "      <td>23</td>\n",
       "      <td>9</td>\n",
       "      <td>5</td>\n",
       "      <td>2</td>\n",
       "      <td>0</td>\n",
       "      <td>153</td>\n",
       "    </tr>\n",
       "    <tr>\n",
       "      <th>11</th>\n",
       "      <td>0</td>\n",
       "      <td>0</td>\n",
       "      <td>0</td>\n",
       "      <td>0</td>\n",
       "      <td>2</td>\n",
       "      <td>1</td>\n",
       "      <td>1</td>\n",
       "      <td>4</td>\n",
       "    </tr>\n",
       "    <tr>\n",
       "      <th>12</th>\n",
       "      <td>184</td>\n",
       "      <td>29</td>\n",
       "      <td>7</td>\n",
       "      <td>3</td>\n",
       "      <td>0</td>\n",
       "      <td>0</td>\n",
       "      <td>0</td>\n",
       "      <td>223</td>\n",
       "    </tr>\n",
       "    <tr>\n",
       "      <th>13</th>\n",
       "      <td>2</td>\n",
       "      <td>4</td>\n",
       "      <td>10</td>\n",
       "      <td>18</td>\n",
       "      <td>6</td>\n",
       "      <td>6</td>\n",
       "      <td>4</td>\n",
       "      <td>50</td>\n",
       "    </tr>\n",
       "    <tr>\n",
       "      <th>14</th>\n",
       "      <td>0</td>\n",
       "      <td>2</td>\n",
       "      <td>3</td>\n",
       "      <td>1</td>\n",
       "      <td>0</td>\n",
       "      <td>1</td>\n",
       "      <td>0</td>\n",
       "      <td>7</td>\n",
       "    </tr>\n",
       "    <tr>\n",
       "      <th>15</th>\n",
       "      <td>0</td>\n",
       "      <td>0</td>\n",
       "      <td>3</td>\n",
       "      <td>6</td>\n",
       "      <td>4</td>\n",
       "      <td>3</td>\n",
       "      <td>0</td>\n",
       "      <td>16</td>\n",
       "    </tr>\n",
       "    <tr>\n",
       "      <th>16</th>\n",
       "      <td>0</td>\n",
       "      <td>5</td>\n",
       "      <td>6</td>\n",
       "      <td>2</td>\n",
       "      <td>2</td>\n",
       "      <td>2</td>\n",
       "      <td>2</td>\n",
       "      <td>19</td>\n",
       "    </tr>\n",
       "    <tr>\n",
       "      <th>17</th>\n",
       "      <td>2</td>\n",
       "      <td>0</td>\n",
       "      <td>2</td>\n",
       "      <td>1</td>\n",
       "      <td>0</td>\n",
       "      <td>2</td>\n",
       "      <td>2</td>\n",
       "      <td>9</td>\n",
       "    </tr>\n",
       "    <tr>\n",
       "      <th>18</th>\n",
       "      <td>0</td>\n",
       "      <td>1</td>\n",
       "      <td>0</td>\n",
       "      <td>0</td>\n",
       "      <td>2</td>\n",
       "      <td>2</td>\n",
       "      <td>2</td>\n",
       "      <td>7</td>\n",
       "    </tr>\n",
       "    <tr>\n",
       "      <th>19</th>\n",
       "      <td>0</td>\n",
       "      <td>0</td>\n",
       "      <td>1</td>\n",
       "      <td>0</td>\n",
       "      <td>0</td>\n",
       "      <td>0</td>\n",
       "      <td>1</td>\n",
       "      <td>2</td>\n",
       "    </tr>\n",
       "    <tr>\n",
       "      <th>20</th>\n",
       "      <td>0</td>\n",
       "      <td>1</td>\n",
       "      <td>8</td>\n",
       "      <td>44</td>\n",
       "      <td>12</td>\n",
       "      <td>1</td>\n",
       "      <td>1</td>\n",
       "      <td>67</td>\n",
       "    </tr>\n",
       "    <tr>\n",
       "      <th>21</th>\n",
       "      <td>1</td>\n",
       "      <td>21</td>\n",
       "      <td>60</td>\n",
       "      <td>22</td>\n",
       "      <td>2</td>\n",
       "      <td>2</td>\n",
       "      <td>0</td>\n",
       "      <td>108</td>\n",
       "    </tr>\n",
       "    <tr>\n",
       "      <th>24</th>\n",
       "      <td>1</td>\n",
       "      <td>0</td>\n",
       "      <td>0</td>\n",
       "      <td>0</td>\n",
       "      <td>0</td>\n",
       "      <td>0</td>\n",
       "      <td>0</td>\n",
       "      <td>1</td>\n",
       "    </tr>\n",
       "    <tr>\n",
       "      <th>25</th>\n",
       "      <td>0</td>\n",
       "      <td>0</td>\n",
       "      <td>1</td>\n",
       "      <td>0</td>\n",
       "      <td>0</td>\n",
       "      <td>0</td>\n",
       "      <td>0</td>\n",
       "      <td>1</td>\n",
       "    </tr>\n",
       "    <tr>\n",
       "      <th>27</th>\n",
       "      <td>0</td>\n",
       "      <td>0</td>\n",
       "      <td>0</td>\n",
       "      <td>1</td>\n",
       "      <td>0</td>\n",
       "      <td>0</td>\n",
       "      <td>0</td>\n",
       "      <td>1</td>\n",
       "    </tr>\n",
       "    <tr>\n",
       "      <th>29</th>\n",
       "      <td>0</td>\n",
       "      <td>0</td>\n",
       "      <td>0</td>\n",
       "      <td>1</td>\n",
       "      <td>1</td>\n",
       "      <td>0</td>\n",
       "      <td>0</td>\n",
       "      <td>2</td>\n",
       "    </tr>\n",
       "    <tr>\n",
       "      <th>39</th>\n",
       "      <td>0</td>\n",
       "      <td>0</td>\n",
       "      <td>0</td>\n",
       "      <td>0</td>\n",
       "      <td>3</td>\n",
       "      <td>0</td>\n",
       "      <td>0</td>\n",
       "      <td>3</td>\n",
       "    </tr>\n",
       "    <tr>\n",
       "      <th>41</th>\n",
       "      <td>0</td>\n",
       "      <td>1</td>\n",
       "      <td>0</td>\n",
       "      <td>0</td>\n",
       "      <td>0</td>\n",
       "      <td>0</td>\n",
       "      <td>0</td>\n",
       "      <td>1</td>\n",
       "    </tr>\n",
       "    <tr>\n",
       "      <th>43</th>\n",
       "      <td>1</td>\n",
       "      <td>0</td>\n",
       "      <td>0</td>\n",
       "      <td>0</td>\n",
       "      <td>0</td>\n",
       "      <td>1</td>\n",
       "      <td>0</td>\n",
       "      <td>2</td>\n",
       "    </tr>\n",
       "    <tr>\n",
       "      <th>46</th>\n",
       "      <td>0</td>\n",
       "      <td>0</td>\n",
       "      <td>1</td>\n",
       "      <td>1</td>\n",
       "      <td>0</td>\n",
       "      <td>1</td>\n",
       "      <td>2</td>\n",
       "      <td>5</td>\n",
       "    </tr>\n",
       "  </tbody>\n",
       "</table>\n",
       "</div>"
      ],
      "text/plain": [
       "    D-Q8_1  D-Q8_2  D-Q8_3  D-Q8_4  D-Q8_5  D-Q8_6  D-Q8_7  All\n",
       "1        5       6       5       4       0       1       0   21\n",
       "2        4       4       4       3       2       0       0   17\n",
       "3        1       2       0       1       1       0       1    6\n",
       "4        6       3       0       1       1       1       0   12\n",
       "5       10      39      68      36      45      15       0  213\n",
       "6        0       0       3       1       1       0       0    5\n",
       "7        2       0       1       1       2       1       0    7\n",
       "8        0       0       0       0       1       0       0    1\n",
       "9        0       0       0       0       1       0       1    2\n",
       "10       8     106      23       9       5       2       0  153\n",
       "11       0       0       0       0       2       1       1    4\n",
       "12     184      29       7       3       0       0       0  223\n",
       "13       2       4      10      18       6       6       4   50\n",
       "14       0       2       3       1       0       1       0    7\n",
       "15       0       0       3       6       4       3       0   16\n",
       "16       0       5       6       2       2       2       2   19\n",
       "17       2       0       2       1       0       2       2    9\n",
       "18       0       1       0       0       2       2       2    7\n",
       "19       0       0       1       0       0       0       1    2\n",
       "20       0       1       8      44      12       1       1   67\n",
       "21       1      21      60      22       2       2       0  108\n",
       "24       1       0       0       0       0       0       0    1\n",
       "25       0       0       1       0       0       0       0    1\n",
       "27       0       0       0       1       0       0       0    1\n",
       "29       0       0       0       1       1       0       0    2\n",
       "39       0       0       0       0       3       0       0    3\n",
       "41       0       1       0       0       0       0       0    1\n",
       "43       1       0       0       0       0       1       0    2\n",
       "46       0       0       1       1       0       1       2    5"
      ]
     },
     "execution_count": 122,
     "metadata": {},
     "output_type": "execute_result"
    }
   ],
   "source": [
    "DF_Spr[1:]"
   ]
  },
  {
   "cell_type": "code",
   "execution_count": 123,
   "metadata": {},
   "outputs": [],
   "source": [
    "cols = ['D-Q8_1','D-Q8_2','D-Q8_3','D-Q8_4','D-Q8_5','D-Q8_6','D-Q8_7']"
   ]
  },
  {
   "cell_type": "code",
   "execution_count": 124,
   "metadata": {},
   "outputs": [
    {
     "data": {
      "image/png": "[encoded data removed]",
      "text/plain": [
       "<matplotlib.figure.Figure at 0xb28ce80>"
      ]
     },
     "metadata": {},
     "output_type": "display_data"
    }
   ],
   "source": [
    "DF_Spr[cols][1:].plot(kind='bar', figsize = (15,10), stacked = True, legend = True, title = \"Sprachkenntnisse\");"
   ]
  },
  {
   "cell_type": "code",
   "execution_count": 125,
   "metadata": {},
   "outputs": [
    {
     "data": {
      "text/html": [
       "<div>\n",
       "<style>\n",
       "    .dataframe thead tr:only-child th {\n",
       "        text-align: right;\n",
       "    }\n",
       "\n",
       "    .dataframe thead th {\n",
       "        text-align: left;\n",
       "    }\n",
       "\n",
       "    .dataframe tbody tr th {\n",
       "        vertical-align: top;\n",
       "    }\n",
       "</style>\n",
       "<table border=\"1\" class=\"dataframe\">\n",
       "  <thead>\n",
       "    <tr style=\"text-align: right;\">\n",
       "      <th></th>\n",
       "      <th>D-Q8_1</th>\n",
       "      <th>D-Q8_2</th>\n",
       "      <th>D-Q8_3</th>\n",
       "      <th>D-Q8_4</th>\n",
       "      <th>D-Q8_5</th>\n",
       "      <th>D-Q8_6</th>\n",
       "      <th>D-Q8_7</th>\n",
       "      <th>All</th>\n",
       "    </tr>\n",
       "  </thead>\n",
       "  <tbody>\n",
       "    <tr>\n",
       "      <th>12</th>\n",
       "      <td>184</td>\n",
       "      <td>29</td>\n",
       "      <td>7</td>\n",
       "      <td>3</td>\n",
       "      <td>0</td>\n",
       "      <td>0</td>\n",
       "      <td>0</td>\n",
       "      <td>223</td>\n",
       "    </tr>\n",
       "    <tr>\n",
       "      <th>5</th>\n",
       "      <td>10</td>\n",
       "      <td>39</td>\n",
       "      <td>68</td>\n",
       "      <td>36</td>\n",
       "      <td>45</td>\n",
       "      <td>15</td>\n",
       "      <td>0</td>\n",
       "      <td>213</td>\n",
       "    </tr>\n",
       "    <tr>\n",
       "      <th>10</th>\n",
       "      <td>8</td>\n",
       "      <td>106</td>\n",
       "      <td>23</td>\n",
       "      <td>9</td>\n",
       "      <td>5</td>\n",
       "      <td>2</td>\n",
       "      <td>0</td>\n",
       "      <td>153</td>\n",
       "    </tr>\n",
       "    <tr>\n",
       "      <th>21</th>\n",
       "      <td>1</td>\n",
       "      <td>21</td>\n",
       "      <td>60</td>\n",
       "      <td>22</td>\n",
       "      <td>2</td>\n",
       "      <td>2</td>\n",
       "      <td>0</td>\n",
       "      <td>108</td>\n",
       "    </tr>\n",
       "    <tr>\n",
       "      <th>20</th>\n",
       "      <td>0</td>\n",
       "      <td>1</td>\n",
       "      <td>8</td>\n",
       "      <td>44</td>\n",
       "      <td>12</td>\n",
       "      <td>1</td>\n",
       "      <td>1</td>\n",
       "      <td>67</td>\n",
       "    </tr>\n",
       "    <tr>\n",
       "      <th>13</th>\n",
       "      <td>2</td>\n",
       "      <td>4</td>\n",
       "      <td>10</td>\n",
       "      <td>18</td>\n",
       "      <td>6</td>\n",
       "      <td>6</td>\n",
       "      <td>4</td>\n",
       "      <td>50</td>\n",
       "    </tr>\n",
       "    <tr>\n",
       "      <th>1</th>\n",
       "      <td>5</td>\n",
       "      <td>6</td>\n",
       "      <td>5</td>\n",
       "      <td>4</td>\n",
       "      <td>0</td>\n",
       "      <td>1</td>\n",
       "      <td>0</td>\n",
       "      <td>21</td>\n",
       "    </tr>\n",
       "    <tr>\n",
       "      <th>16</th>\n",
       "      <td>0</td>\n",
       "      <td>5</td>\n",
       "      <td>6</td>\n",
       "      <td>2</td>\n",
       "      <td>2</td>\n",
       "      <td>2</td>\n",
       "      <td>2</td>\n",
       "      <td>19</td>\n",
       "    </tr>\n",
       "    <tr>\n",
       "      <th>2</th>\n",
       "      <td>4</td>\n",
       "      <td>4</td>\n",
       "      <td>4</td>\n",
       "      <td>3</td>\n",
       "      <td>2</td>\n",
       "      <td>0</td>\n",
       "      <td>0</td>\n",
       "      <td>17</td>\n",
       "    </tr>\n",
       "    <tr>\n",
       "      <th>15</th>\n",
       "      <td>0</td>\n",
       "      <td>0</td>\n",
       "      <td>3</td>\n",
       "      <td>6</td>\n",
       "      <td>4</td>\n",
       "      <td>3</td>\n",
       "      <td>0</td>\n",
       "      <td>16</td>\n",
       "    </tr>\n",
       "  </tbody>\n",
       "</table>\n",
       "</div>"
      ],
      "text/plain": [
       "    D-Q8_1  D-Q8_2  D-Q8_3  D-Q8_4  D-Q8_5  D-Q8_6  D-Q8_7  All\n",
       "12     184      29       7       3       0       0       0  223\n",
       "5       10      39      68      36      45      15       0  213\n",
       "10       8     106      23       9       5       2       0  153\n",
       "21       1      21      60      22       2       2       0  108\n",
       "20       0       1       8      44      12       1       1   67\n",
       "13       2       4      10      18       6       6       4   50\n",
       "1        5       6       5       4       0       1       0   21\n",
       "16       0       5       6       2       2       2       2   19\n",
       "2        4       4       4       3       2       0       0   17\n",
       "15       0       0       3       6       4       3       0   16"
      ]
     },
     "execution_count": 125,
     "metadata": {},
     "output_type": "execute_result"
    }
   ],
   "source": [
    "DF_Spr.loc[ix_sorted[:10]]"
   ]
  },
  {
   "cell_type": "code",
   "execution_count": 126,
   "metadata": {},
   "outputs": [
    {
     "data": {
      "image/png": "[encoded data removed]",
      "text/plain": [
       "<matplotlib.figure.Figure at 0xab79c50>"
      ]
     },
     "metadata": {},
     "output_type": "display_data"
    }
   ],
   "source": [
    "DF_Spr[cols].loc[ix_sorted[:10]].plot(kind='bar', figsize = (10,8), stacked = True, legend = True, title = \"Sprachkenntnisse\");"
   ]
  },
  {
   "cell_type": "code",
   "execution_count": null,
   "metadata": {},
   "outputs": [],
   "source": []
  }
 ],
 "metadata": {
  "kernelspec": {
   "display_name": "Python 3",
   "language": "python",
   "name": "python3"
  },
  "language_info": {
   "codemirror_mode": {
    "name": "ipython",
    "version": 3
   },
   "file_extension": ".py",
   "mimetype": "text/x-python",
   "name": "python",
   "nbconvert_exporter": "python",
   "pygments_lexer": "ipython3",
   "version": "3.6.3"
  }
 },
 "nbformat": 4,
 "nbformat_minor": 2
}
