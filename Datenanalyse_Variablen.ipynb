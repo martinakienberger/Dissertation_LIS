{
 "cells": [
  {
   "cell_type": "markdown",
   "metadata": {},
   "source": [
    "## Erschließungsstrategien für unbekannten Wortschatz von DaF-Lernenden an spanischen Universitäten (2017-19)\n",
    "# Datenanalyse - Variablen"
   ]
  },
  {
   "cell_type": "markdown",
   "metadata": {},
   "source": [
    "##### Werkzeuge und Daten importieren"
   ]
  },
  {
   "cell_type": "code",
   "execution_count": 1,
   "metadata": {},
   "outputs": [
    {
     "name": "stdout",
     "output_type": "stream",
     "text": [
      "Populating the interactive namespace from numpy and matplotlib\n"
     ]
    }
   ],
   "source": [
    "from funktionen import *\n",
    "import pandas as pd\n",
    "import matplotlib\n",
    "import numpy as np\n",
    "import scipy as sp\n",
    "import math\n",
    "from scipy import stats\n",
    "from sklearn import tree\n",
    "import seaborn as sns\n",
    "sns.set(style=\"whitegrid\") #\"white\", \"darkgrid\"...\n",
    "%pylab inline"
   ]
  },
  {
   "cell_type": "code",
   "execution_count": 2,
   "metadata": {},
   "outputs": [],
   "source": [
    "Daten = pd.read_pickle('D:\\Daten\\DISS\\Daten\\Estrategias_Estudiantes_2017-19_ber')"
   ]
  },
  {
   "cell_type": "code",
   "execution_count": 3,
   "metadata": {},
   "outputs": [
    {
     "data": {
      "text/plain": [
       "(401, 377)"
      ]
     },
     "execution_count": 3,
     "metadata": {},
     "output_type": "execute_result"
    }
   ],
   "source": [
    "Daten.shape"
   ]
  },
  {
   "cell_type": "code",
   "execution_count": 4,
   "metadata": {},
   "outputs": [],
   "source": [
    "#Daten.head(3)"
   ]
  },
  {
   "cell_type": "code",
   "execution_count": 5,
   "metadata": {},
   "outputs": [],
   "source": [
    "gloss = pd.read_pickle('D:\\Daten\\DISS\\Daten\\Gloss2018')"
   ]
  },
  {
   "cell_type": "markdown",
   "metadata": {},
   "source": [
    "##### Untergruppen und Listen für die Analyse"
   ]
  },
  {
   "cell_type": "code",
   "execution_count": 6,
   "metadata": {},
   "outputs": [],
   "source": [
    "Daten_A3 = Daten[Daten['A-Q3_27'] >= 1]"
   ]
  },
  {
   "cell_type": "code",
   "execution_count": 7,
   "metadata": {},
   "outputs": [
    {
     "data": {
      "text/plain": [
       "(396, 377)"
      ]
     },
     "execution_count": 7,
     "metadata": {},
     "output_type": "execute_result"
    }
   ],
   "source": [
    "Daten_A3.shape"
   ]
  },
  {
   "cell_type": "code",
   "execution_count": 8,
   "metadata": {},
   "outputs": [],
   "source": [
    "Finished = Daten[Daten['C-Q1_7'] >= 1]"
   ]
  },
  {
   "cell_type": "code",
   "execution_count": 9,
   "metadata": {},
   "outputs": [
    {
     "data": {
      "text/plain": [
       "(391, 377)"
      ]
     },
     "execution_count": 9,
     "metadata": {},
     "output_type": "execute_result"
    }
   ],
   "source": [
    "Finished.shape"
   ]
  },
  {
   "cell_type": "markdown",
   "metadata": {},
   "source": [
    "Liste erstellen:"
   ]
  },
  {
   "cell_type": "code",
   "execution_count": 10,
   "metadata": {},
   "outputs": [],
   "source": [
    "Liste_A_Q2 = [col for col in Daten.columns if 'A-Q2' in col]"
   ]
  },
  {
   "cell_type": "code",
   "execution_count": 11,
   "metadata": {},
   "outputs": [
    {
     "data": {
      "text/plain": [
       "'A-Q3_3_TEXT'"
      ]
     },
     "execution_count": 11,
     "metadata": {},
     "output_type": "execute_result"
    }
   ],
   "source": [
    "Liste_A_Q3 = [col for col in Daten.columns if 'A-Q3' in col]\n",
    "Liste_A_Q3.pop(3)"
   ]
  },
  {
   "cell_type": "code",
   "execution_count": 12,
   "metadata": {},
   "outputs": [],
   "source": [
    "Liste_C_Q1 = [col for col in Finished.columns if 'C-Q1' in col]"
   ]
  },
  {
   "cell_type": "markdown",
   "metadata": {},
   "source": [
    "#### Unabhängige Variablen"
   ]
  },
  {
   "cell_type": "markdown",
   "metadata": {},
   "source": [
    "Studienrichtung:"
   ]
  },
  {
   "cell_type": "code",
   "execution_count": 13,
   "metadata": {},
   "outputs": [],
   "source": [
    "Daten['D-Q2a_neu'] = 0"
   ]
  },
  {
   "cell_type": "code",
   "execution_count": 14,
   "metadata": {},
   "outputs": [],
   "source": [
    "j=0\n",
    "for i in Daten[Daten['D-Q2a']!=0]['D-Q2a']:\n",
    "    if i == 1:\n",
    "        Daten.loc[j,'D-Q2a_neu'] = 1\n",
    "    elif i == 2:\n",
    "        Daten.loc[j,'D-Q2a_neu'] = 2\n",
    "    elif i == 3 or i == 4:\n",
    "        Daten.loc[j,'D-Q2a_neu'] = 3\n",
    "    else:\n",
    "        Daten.loc[j,'D-Q2a_neu'] = 4\n",
    "    j = j+1"
   ]
  },
  {
   "cell_type": "code",
   "execution_count": 15,
   "metadata": {},
   "outputs": [],
   "source": [
    "Daten.rename(columns={'D-Q2a_neu':'V_Studienrichtung'}, inplace=True)"
   ]
  },
  {
   "cell_type": "markdown",
   "metadata": {},
   "source": [
    "??? Studienjahr (+ Studium):"
   ]
  },
  {
   "cell_type": "code",
   "execution_count": 16,
   "metadata": {},
   "outputs": [],
   "source": [
    "Daten['D-Q2b_neu'] = 0\n",
    "\n",
    "j=0\n",
    "for i in Daten[Daten['D-Q2b']!=0]['D-Q2b']:\n",
    "    if i == 1:\n",
    "        Daten.loc[j,'D-Q2b_neu'] = 1\n",
    "    elif i == 2:\n",
    "        Daten.loc[j,'D-Q2b_neu'] = 2\n",
    "    elif i == 3:\n",
    "        Daten.loc[j,'D-Q2b_neu'] = 3\n",
    "    elif i == 4:\n",
    "        Daten.loc[j,'D-Q2b_neu'] = 4\n",
    "    j = j+1"
   ]
  },
  {
   "cell_type": "code",
   "execution_count": 17,
   "metadata": {},
   "outputs": [],
   "source": [
    "j=0\n",
    "for i in Daten['D-Q2']:\n",
    "    if i == 2:\n",
    "        Daten.loc[j,'D-Q2b_neu'] = 5\n",
    "    elif i == 3:\n",
    "        Daten.loc[j,'D-Q2b_neu'] = 5\n",
    "    j = j+1"
   ]
  },
  {
   "cell_type": "code",
   "execution_count": 18,
   "metadata": {},
   "outputs": [],
   "source": [
    "Daten.rename(columns={'D-Q2b_neu':'V_Studienjahr+Studium'}, inplace=True)"
   ]
  },
  {
   "cell_type": "markdown",
   "metadata": {},
   "source": [
    "Niveau des aktuellen Deutschkurses:"
   ]
  },
  {
   "cell_type": "code",
   "execution_count": 19,
   "metadata": {},
   "outputs": [],
   "source": [
    "Daten['D-Q4_neu'] = 0\n",
    "\n",
    "j=0\n",
    "for i in Daten[Daten['D-Q4']!=0]['D-Q4']:\n",
    "    if i == 1:\n",
    "        Daten.loc[j,'D-Q4_neu'] = 1\n",
    "    elif i == 2:\n",
    "        Daten.loc[j,'D-Q4_neu'] = 2\n",
    "    elif i == 3:\n",
    "        Daten.loc[j,'D-Q4_neu'] = 3\n",
    "    elif i == 4:\n",
    "        Daten.loc[j,'D-Q4_neu'] = 4\n",
    "    else:\n",
    "        Daten.loc[j,'D-Q4_neu'] = 5\n",
    "    j = j+1"
   ]
  },
  {
   "cell_type": "code",
   "execution_count": 20,
   "metadata": {},
   "outputs": [],
   "source": [
    "Daten.rename(columns={'D-Q4_neu':'V_Niveau_DK'}, inplace=True)"
   ]
  },
  {
   "cell_type": "markdown",
   "metadata": {},
   "source": [
    "Alter:"
   ]
  },
  {
   "cell_type": "code",
   "execution_count": 21,
   "metadata": {},
   "outputs": [],
   "source": [
    "Daten['D-Q5_neu'] = 0\n",
    "\n",
    "j=0\n",
    "for i in Daten[Daten['D-Q5']!=0]['D-Q5']:\n",
    "    if i <= 18:\n",
    "        Daten.loc[j,'D-Q5_neu'] = 1\n",
    "    elif i == 19:\n",
    "        Daten.loc[j,'D-Q5_neu'] = 2\n",
    "    elif i == 20 or i == 4:\n",
    "        Daten.loc[j,'D-Q5_neu'] = 3\n",
    "    else:\n",
    "        Daten.loc[j,'D-Q5_neu'] = 4\n",
    "    j = j+1"
   ]
  },
  {
   "cell_type": "code",
   "execution_count": 22,
   "metadata": {},
   "outputs": [],
   "source": [
    "Daten.rename(columns={'D-Q5_neu':'V_Alter'}, inplace=True)"
   ]
  },
  {
   "cell_type": "markdown",
   "metadata": {},
   "source": [
    "Geschlecht:"
   ]
  },
  {
   "cell_type": "code",
   "execution_count": 23,
   "metadata": {},
   "outputs": [],
   "source": [
    "Daten['D-Q6_neu'] = 0\n",
    "\n",
    "j=0\n",
    "for i in Daten[Daten['D-Q6']!=0]['D-Q6']:\n",
    "    if i == 1:\n",
    "        Daten.loc[j,'D-Q6_neu'] = 1\n",
    "    elif i == 2:\n",
    "        Daten.loc[j,'D-Q6_neu'] = 2\n",
    "    j = j+1"
   ]
  },
  {
   "cell_type": "code",
   "execution_count": 24,
   "metadata": {},
   "outputs": [
    {
     "data": {
      "text/plain": [
       "1    287\n",
       "2     91\n",
       "0     23\n",
       "Name: D-Q6_neu, dtype: int64"
      ]
     },
     "execution_count": 24,
     "metadata": {},
     "output_type": "execute_result"
    }
   ],
   "source": [
    "Daten['D-Q6_neu'].value_counts()"
   ]
  },
  {
   "cell_type": "code",
   "execution_count": 25,
   "metadata": {},
   "outputs": [],
   "source": [
    "Daten.rename(columns={'D-Q6_neu':'V_Geschlecht'}, inplace=True)"
   ]
  },
  {
   "cell_type": "code",
   "execution_count": 26,
   "metadata": {},
   "outputs": [
    {
     "data": {
      "text/plain": [
       "1    287\n",
       "2     91\n",
       "0     17\n",
       "3      6\n",
       "Name: D-Q6, dtype: int64"
      ]
     },
     "execution_count": 26,
     "metadata": {},
     "output_type": "execute_result"
    }
   ],
   "source": [
    "Daten['D-Q6'].value_counts()"
   ]
  },
  {
   "cell_type": "code",
   "execution_count": 27,
   "metadata": {},
   "outputs": [],
   "source": [
    "#Daten.rename(columns={'D-Q6':'V_Geschlecht1'}, inplace=True)"
   ]
  },
  {
   "cell_type": "markdown",
   "metadata": {},
   "source": [
    "Erstsprache Spanisch:"
   ]
  },
  {
   "cell_type": "code",
   "execution_count": 28,
   "metadata": {},
   "outputs": [],
   "source": [
    "Daten['D-Q7_neu'] = 0\n",
    "\n",
    "j=0\n",
    "for i in Daten['D-Q7']:\n",
    "    if i == 1:\n",
    "        Daten.loc[j,'D-Q7_neu'] = 1\n",
    "    j = j+1\n",
    "\n",
    "j=0\n",
    "for i in Daten['D-Q7c']:\n",
    "    if i == 1:\n",
    "        Daten.loc[j,'D-Q7_neu'] = 1\n",
    "    j = j+1\n",
    "\n",
    "j=0\n",
    "for i in Daten['D-Q7e']:\n",
    "    if i == 1:\n",
    "        Daten.loc[j,'D-Q7_neu'] = 1\n",
    "    j = j+1"
   ]
  },
  {
   "cell_type": "markdown",
   "metadata": {},
   "source": [
    "363 Studierende haben Spanisch als eine ihrer Erstsprachen angegeben. Die übrigen 25 verteilen sich auf verschiedene Sprachen (13 TN haben diese Frage nicht beantwortet), darunter haben 5 Personen Katalanisch/Valencianisch und 4 Galicisch angegeben."
   ]
  },
  {
   "cell_type": "code",
   "execution_count": 29,
   "metadata": {},
   "outputs": [
    {
     "data": {
      "text/plain": [
       "1    363\n",
       "0     38\n",
       "Name: D-Q7_neu, dtype: int64"
      ]
     },
     "execution_count": 29,
     "metadata": {},
     "output_type": "execute_result"
    }
   ],
   "source": [
    "Daten['D-Q7_neu'].value_counts()"
   ]
  },
  {
   "cell_type": "code",
   "execution_count": 30,
   "metadata": {},
   "outputs": [],
   "source": [
    "Daten.rename(columns={'D-Q7_neu':'V_Erstsprache_Span'}, inplace=True)"
   ]
  },
  {
   "cell_type": "markdown",
   "metadata": {},
   "source": [
    "L1-Bi/Trilingualismus:"
   ]
  },
  {
   "cell_type": "code",
   "execution_count": 31,
   "metadata": {},
   "outputs": [
    {
     "data": {
      "text/plain": [
       "2    287\n",
       "1    103\n",
       "0     11\n",
       "Name: D-Q7b, dtype: int64"
      ]
     },
     "execution_count": 31,
     "metadata": {},
     "output_type": "execute_result"
    }
   ],
   "source": [
    "Daten['D-Q7b'].value_counts()"
   ]
  },
  {
   "cell_type": "markdown",
   "metadata": {},
   "source": [
    "103 Personen sind laut eigenen Angaben bi- oder trilingual."
   ]
  },
  {
   "cell_type": "code",
   "execution_count": 32,
   "metadata": {},
   "outputs": [],
   "source": [
    "Daten.rename(columns={'D-Q7b':'V_L1-Bi/Trilingualismus'}, inplace=True)"
   ]
  },
  {
   "cell_type": "markdown",
   "metadata": {},
   "source": [
    "Weitere Sprachkenntnisse:"
   ]
  },
  {
   "cell_type": "code",
   "execution_count": 33,
   "metadata": {},
   "outputs": [],
   "source": [
    "Spr_cols = ['D-Q7','D-Q7c','D-Q7e','D-Q8_1','D-Q8_2','D-Q8_3','D-Q8_4','D-Q8_5','D-Q8_6','D-Q8_7']"
   ]
  },
  {
   "cell_type": "code",
   "execution_count": 34,
   "metadata": {},
   "outputs": [],
   "source": [
    "l_germ = [9,15,39,19,36]\n",
    "l_rom = [13,16,17]\n",
    "l_slaw = [23,24,25,26,27,28,41,18,44]\n",
    "l_asiat = [6,7,8,22,31,42,45]"
   ]
  },
  {
   "cell_type": "code",
   "execution_count": 35,
   "metadata": {},
   "outputs": [],
   "source": [
    "Daten['D-Q8_fr'] = 0\n",
    "Daten['D-Q8_gr'] = 0\n",
    "Daten['D-Q8_lat'] = 0\n",
    "Daten['D-Q8_germ'] = 0\n",
    "Daten['D-Q8_rom'] = 0\n",
    "Daten['D-Q8_slaw'] = 0\n",
    "Daten['D-Q8_asiat'] = 0"
   ]
  },
  {
   "cell_type": "code",
   "execution_count": 36,
   "metadata": {},
   "outputs": [],
   "source": [
    "for i in Daten.index:\n",
    "    for el in Daten.loc[i,Spr_cols]:\n",
    "        if el == 10:\n",
    "            Daten.loc[i,'D-Q8_fr'] = 1\n",
    "            pass"
   ]
  },
  {
   "cell_type": "code",
   "execution_count": 37,
   "metadata": {},
   "outputs": [],
   "source": [
    "for i in Daten.index:\n",
    "    for el in Daten.loc[i,Spr_cols]:\n",
    "        if el == 20:\n",
    "            Daten.loc[i,'D-Q8_gr'] = 1\n",
    "            pass"
   ]
  },
  {
   "cell_type": "code",
   "execution_count": 38,
   "metadata": {},
   "outputs": [],
   "source": [
    "for i in Daten.index:\n",
    "    for el in Daten.loc[i,Spr_cols]:\n",
    "        if el == 21:\n",
    "            Daten.loc[i,'D-Q8_lat'] = 1\n",
    "            pass"
   ]
  },
  {
   "cell_type": "code",
   "execution_count": 39,
   "metadata": {},
   "outputs": [],
   "source": [
    "for i in Daten.index:\n",
    "    for el in Daten.loc[i,Spr_cols]:\n",
    "        if el in l_germ:\n",
    "            Daten.loc[i,'D-Q8_germ'] = 1\n",
    "            pass"
   ]
  },
  {
   "cell_type": "code",
   "execution_count": 40,
   "metadata": {},
   "outputs": [],
   "source": [
    "for i in Daten.index:\n",
    "    for el in Daten.loc[i,Spr_cols]:\n",
    "        if el in l_rom:\n",
    "            Daten.loc[i,'D-Q8_rom'] = 1\n",
    "            pass"
   ]
  },
  {
   "cell_type": "code",
   "execution_count": 41,
   "metadata": {},
   "outputs": [],
   "source": [
    "for i in Daten.index:\n",
    "    for el in Daten.loc[i,Spr_cols]:\n",
    "        if el in l_slaw:\n",
    "            Daten.loc[i,'D-Q8_slaw'] = 1\n",
    "            pass"
   ]
  },
  {
   "cell_type": "code",
   "execution_count": 42,
   "metadata": {},
   "outputs": [],
   "source": [
    "for i in Daten.index:\n",
    "    for el in Daten.loc[i,Spr_cols]:\n",
    "        if el in l_asiat:\n",
    "            Daten.loc[i,'D-Q8_asiat'] = 1\n",
    "            pass"
   ]
  },
  {
   "cell_type": "code",
   "execution_count": 43,
   "metadata": {},
   "outputs": [],
   "source": [
    "Daten.rename(columns={'D-Q8_fr':'V_Spr_Fran'}, inplace=True)\n",
    "Daten.rename(columns={'D-Q8_gr':'V_Spr_Griech'}, inplace=True)\n",
    "Daten.rename(columns={'D-Q8_lat':'V_Spr_Latein'}, inplace=True)\n",
    "Daten.rename(columns={'D-Q8_germ':'V_Spr_Germ'}, inplace=True)\n",
    "Daten.rename(columns={'D-Q8_rom':'V_Spr_Rom'}, inplace=True)\n",
    "Daten.rename(columns={'D-Q8_slaw':'V_Spr_Slaw'}, inplace=True)\n",
    "Daten.rename(columns={'D-Q8_asiat':'V_Spr_Asiat'}, inplace=True)"
   ]
  },
  {
   "cell_type": "markdown",
   "metadata": {},
   "source": [
    "Strategienerwerbskontexte:"
   ]
  },
  {
   "cell_type": "code",
   "execution_count": 44,
   "metadata": {},
   "outputs": [],
   "source": [
    "erwerb = {'E1': ['B-Q2-1_1','B-Q2-1_2','B-Q2-1_3','B-Q2-1_4','B-Q2-1_5','B-Q2-1_6','B-Q2-1_7'], \n",
    "         'E2': ['B-Q2-2_1','B-Q2-2_2','B-Q2-2_3','B-Q2-2_4','B-Q2-2_5','B-Q2-2_6','B-Q2-2_7'],\n",
    "         'E3': ['B-Q2-3_1','B-Q2-3_2','B-Q2-3_3','B-Q2-3_4','B-Q2-3_5','B-Q2-3_6','B-Q2-3_7'],\n",
    "         'E4': ['B-Q2-4_1','B-Q2-4_2','B-Q2-4_3','B-Q2-4_4','B-Q2-4_5','B-Q2-4_6','B-Q2-4_7'],\n",
    "         'E5': ['B-Q2-5_1','B-Q2-5_2','B-Q2-5_3','B-Q2-5_4','B-Q2-5_5','B-Q2-5_6','B-Q2-5_7'],\n",
    "         'E6': ['B-Q2-6_1','B-Q2-6_2','B-Q2-6_3','B-Q2-6_4','B-Q2-6_5','B-Q2-6_6','B-Q2-6_7'],\n",
    "         'E7': ['B-Q2-7_1','B-Q2-7_2','B-Q2-7_3','B-Q2-7_4','B-Q2-7_5','B-Q2-7_6','B-Q2-7_7'],\n",
    "         'E8': ['B-Q2-8_1','B-Q2-8_2','B-Q2-8_3','B-Q2-8_4','B-Q2-8_5'],\n",
    "         'E9': ['B-Q2-9_1','B-Q2-9_2','B-Q2-9_3','B-Q2-9_4','B-Q2-9_5']}"
   ]
  },
  {
   "cell_type": "markdown",
   "metadata": {},
   "source": [
    "* 1- En las clases de Lengua y Literatura en el colegio o instituto\n",
    "* 2- En las clases de inglés en el colegio o instituto\n",
    "* 3- En otras clases de idiomas en el colegio o instituto\n",
    "* 4- En clases de alemán anteriores en la Universidad\n",
    "* 5- En otras asignaturas de mi carrera universitaria\n",
    "* 6- En clases de lenguas en escuelas de idiomas o academias\n",
    "* 7- En mi curso de alemán actual\n",
    "* 8- En mi familia, con mis amigos/as o compañeros/as de clase\n",
    "* 9- Por mi cuenta, sin ayuda de otras personas\n",
    "* 10- Otros:\n",
    "* 11- No sé cómo he aprendido estas estrategias."
   ]
  },
  {
   "cell_type": "code",
   "execution_count": 45,
   "metadata": {},
   "outputs": [],
   "source": [
    "Daten['B-Q2_E1'] = 0\n",
    "Daten['B-Q2_E2'] = 0\n",
    "Daten['B-Q2_E3'] = 0\n",
    "Daten['B-Q2_E4'] = 0\n",
    "Daten['B-Q2_E5'] = 0\n",
    "Daten['B-Q2_E6'] = 0\n",
    "Daten['B-Q2_E7'] = 0\n",
    "Daten['B-Q2_E8'] = 0\n",
    "Daten['B-Q2_E9'] = 0"
   ]
  },
  {
   "cell_type": "code",
   "execution_count": 46,
   "metadata": {},
   "outputs": [],
   "source": [
    "add_columns(Daten,erwerb['E1'],'B-Q2_E1')"
   ]
  },
  {
   "cell_type": "code",
   "execution_count": 47,
   "metadata": {},
   "outputs": [],
   "source": [
    "add_columns(Daten,erwerb['E2'],'B-Q2_E2')"
   ]
  },
  {
   "cell_type": "code",
   "execution_count": 48,
   "metadata": {},
   "outputs": [],
   "source": [
    "add_columns(Daten,erwerb['E3'],'B-Q2_E3')"
   ]
  },
  {
   "cell_type": "code",
   "execution_count": 49,
   "metadata": {},
   "outputs": [],
   "source": [
    "add_columns(Daten,erwerb['E4'],'B-Q2_E4')"
   ]
  },
  {
   "cell_type": "code",
   "execution_count": 50,
   "metadata": {},
   "outputs": [],
   "source": [
    "add_columns(Daten,erwerb['E5'],'B-Q2_E5')"
   ]
  },
  {
   "cell_type": "code",
   "execution_count": 51,
   "metadata": {},
   "outputs": [],
   "source": [
    "add_columns(Daten,erwerb['E6'],'B-Q2_E6')"
   ]
  },
  {
   "cell_type": "code",
   "execution_count": 52,
   "metadata": {},
   "outputs": [],
   "source": [
    "add_columns(Daten,erwerb['E7'],'B-Q2_E7')"
   ]
  },
  {
   "cell_type": "code",
   "execution_count": 53,
   "metadata": {},
   "outputs": [],
   "source": [
    "add_columns(Daten,erwerb['E8'],'B-Q2_E8')"
   ]
  },
  {
   "cell_type": "code",
   "execution_count": 54,
   "metadata": {},
   "outputs": [],
   "source": [
    "add_columns(Daten,erwerb['E9'],'B-Q2_E9')"
   ]
  },
  {
   "cell_type": "code",
   "execution_count": 55,
   "metadata": {},
   "outputs": [],
   "source": [
    "Daten.rename(columns={'B-Q2_E1':'V_E_Schule_LL'}, inplace=True)\n",
    "Daten.rename(columns={'B-Q2_E2':'V_E_Schule_Eng'}, inplace=True)\n",
    "Daten.rename(columns={'B-Q2_E3':'V_E_Schule_Spr'}, inplace=True)\n",
    "Daten.rename(columns={'B-Q2_E4':'V_E_Univ_DK'}, inplace=True)\n",
    "Daten.rename(columns={'B-Q2_E5':'V_E_Univ_andere'}, inplace=True)\n",
    "Daten.rename(columns={'B-Q2_E6':'V_E_Sprachschule'}, inplace=True)\n",
    "Daten.rename(columns={'B-Q2_E7':'V_E_DK_aktuell'}, inplace=True)\n",
    "Daten.rename(columns={'B-Q2_E8':'V_E_Sozial'}, inplace=True)\n",
    "Daten.rename(columns={'B-Q2_E9':'V_E_autonom'}, inplace=True)"
   ]
  },
  {
   "cell_type": "markdown",
   "metadata": {},
   "source": [
    "Methoden des Strategienerwerbs:"
   ]
  },
  {
   "cell_type": "code",
   "execution_count": 56,
   "metadata": {},
   "outputs": [],
   "source": [
    "erwerb1 = {'U1': ['B-Q2-1_1','B-Q2-2_1','B-Q2-3_1','B-Q2-4_1','B-Q2-5_1','B-Q2-6_1','B-Q2-7_1'], \n",
    "         'U2': ['B-Q2-1_2','B-Q2-2_2','B-Q2-3_2','B-Q2-4_2','B-Q2-5_2','B-Q2-6_2','B-Q2-7_2'],\n",
    "         'U3': ['B-Q2-1_3','B-Q2-2_3','B-Q2-3_3','B-Q2-4_3','B-Q2-5_3','B-Q2-6_3','B-Q2-7_3'],\n",
    "         'U4': ['B-Q2-1_4','B-Q2-2_4','B-Q2-3_4','B-Q2-4_4','B-Q2-5_4','B-Q2-6_4','B-Q2-7_4'],\n",
    "         'U5': ['B-Q2-1_5','B-Q2-2_5','B-Q2-3_5','B-Q2-4_5','B-Q2-5_5','B-Q2-6_5','B-Q2-7_5'],\n",
    "         'U6': ['B-Q2-1_6','B-Q2-2_6','B-Q2-3_6','B-Q2-4_6','B-Q2-5_6','B-Q2-6_6','B-Q2-7_6']}"
   ]
  },
  {
   "cell_type": "markdown",
   "metadata": {},
   "source": [
    "* (1)\tLas estrategias se presentaron (y explicaron) en clase.\n",
    "* (2)\tEl/La profesor/a dio consejos sobre cómo familiarizarse de manera autónoma con estas estrategias, p. ej. mediante páginas web, libros u otros materiales que explican estrategias de aprendizaje. \n",
    "* (3)\tEstas estrategias se explicaron y practicaron con ejemplos concretos, realizando tareas, p. ej. leyendo un texto difícil.\n",
    "* (4)\tSe probaron y se compararon diferentes estrategias.\n",
    "* (5)\tSe reflexionó sobre el uso de estas estrategias, p. ej. sobre qué estrategia sería adecuada en una situación y/o para una persona determinada.\n",
    "* (6)\tDurante las clases he aprendido estas estrategias de manera inconsciente, p. ej. mientras leía textos difíciles, sin explicación o indicación del/de la profesor/a.\n",
    "* (7)\tOtros:"
   ]
  },
  {
   "cell_type": "code",
   "execution_count": 57,
   "metadata": {},
   "outputs": [],
   "source": [
    "Daten['B-Q2_U1'] = 0\n",
    "Daten['B-Q2_U2'] = 0\n",
    "Daten['B-Q2_U3'] = 0\n",
    "Daten['B-Q2_U4'] = 0\n",
    "Daten['B-Q2_U5'] = 0\n",
    "Daten['B-Q2_U6'] = 0"
   ]
  },
  {
   "cell_type": "code",
   "execution_count": 58,
   "metadata": {},
   "outputs": [],
   "source": [
    "add_columns(Daten,erwerb1['U1'],'B-Q2_U1')"
   ]
  },
  {
   "cell_type": "code",
   "execution_count": 59,
   "metadata": {},
   "outputs": [],
   "source": [
    "add_columns(Daten,erwerb1['U2'],'B-Q2_U2')"
   ]
  },
  {
   "cell_type": "code",
   "execution_count": 60,
   "metadata": {},
   "outputs": [],
   "source": [
    "add_columns(Daten,erwerb1['U3'],'B-Q2_U3')"
   ]
  },
  {
   "cell_type": "code",
   "execution_count": 61,
   "metadata": {},
   "outputs": [],
   "source": [
    "add_columns(Daten,erwerb1['U4'],'B-Q2_U4')"
   ]
  },
  {
   "cell_type": "code",
   "execution_count": 62,
   "metadata": {},
   "outputs": [],
   "source": [
    "add_columns(Daten,erwerb1['U5'],'B-Q2_U5')"
   ]
  },
  {
   "cell_type": "code",
   "execution_count": 63,
   "metadata": {},
   "outputs": [],
   "source": [
    "add_columns(Daten,erwerb1['U6'],'B-Q2_U6')"
   ]
  },
  {
   "cell_type": "code",
   "execution_count": 64,
   "metadata": {},
   "outputs": [],
   "source": [
    "Daten.rename(columns={'B-Q2_U1':'V_Met_Erkl'}, inplace=True)\n",
    "Daten.rename(columns={'B-Q2_U2':'V_Met_Tipps'}, inplace=True)\n",
    "Daten.rename(columns={'B-Q2_U3':'V_Met_Training'}, inplace=True)\n",
    "Daten.rename(columns={'B-Q2_U4':'V_Met_Vgl'}, inplace=True)\n",
    "Daten.rename(columns={'B-Q2_U5':'V_Met_Reflexion'}, inplace=True)\n",
    "Daten.rename(columns={'B-Q2_U6':'V_Met_unbewusst'}, inplace=True)"
   ]
  },
  {
   "cell_type": "markdown",
   "metadata": {},
   "source": [
    "#### Mögliche weitere Einflussfaktoren"
   ]
  },
  {
   "cell_type": "markdown",
   "metadata": {},
   "source": [
    "Pilotstudie:"
   ]
  },
  {
   "cell_type": "code",
   "execution_count": 65,
   "metadata": {},
   "outputs": [
    {
     "data": {
      "text/plain": [
       "0    333\n",
       "1     68\n",
       "Name: pilot, dtype: int64"
      ]
     },
     "execution_count": 65,
     "metadata": {},
     "output_type": "execute_result"
    }
   ],
   "source": [
    "Daten['pilot'].value_counts()"
   ]
  },
  {
   "cell_type": "markdown",
   "metadata": {},
   "source": [
    "Erhebungssituation:"
   ]
  },
  {
   "cell_type": "code",
   "execution_count": 66,
   "metadata": {},
   "outputs": [
    {
     "data": {
      "text/plain": [
       "1    228\n",
       "0    173\n",
       "Name: D-Q9_1, dtype: int64"
      ]
     },
     "execution_count": 66,
     "metadata": {},
     "output_type": "execute_result"
    }
   ],
   "source": [
    "Daten['D-Q9_1'].value_counts()"
   ]
  },
  {
   "cell_type": "markdown",
   "metadata": {},
   "source": [
    "Version des Fragebogens:"
   ]
  },
  {
   "cell_type": "code",
   "execution_count": 67,
   "metadata": {},
   "outputs": [],
   "source": [
    "Daten['D-Q9_pap'] = 0\n",
    "\n",
    "j=0\n",
    "for i in Daten['IPAddress']:\n",
    "    if i == '2.154.100.40':\n",
    "        Daten.loc[j,'D-Q9_pap'] = 1\n",
    "    j = j+1"
   ]
  },
  {
   "cell_type": "code",
   "execution_count": 68,
   "metadata": {},
   "outputs": [
    {
     "data": {
      "text/plain": [
       "67    54\n",
       "50     7\n",
       "20     3\n",
       "63     1\n",
       "Name: D-Q1, dtype: int64"
      ]
     },
     "execution_count": 68,
     "metadata": {},
     "output_type": "execute_result"
    }
   ],
   "source": [
    "Daten[Daten['D-Q9_pap']==1]['D-Q1'].value_counts()"
   ]
  },
  {
   "cell_type": "markdown",
   "metadata": {},
   "source": [
    "Universitäten:"
   ]
  },
  {
   "cell_type": "code",
   "execution_count": 69,
   "metadata": {},
   "outputs": [],
   "source": [
    "Daten['D-Q1_Sal'] = 0\n",
    "Daten['D-Q1_Sev'] = 0\n",
    "Daten['D-Q1_Vigo'] = 0\n",
    "Daten['D-Q1_Gran'] = 0\n",
    "Daten['D-Q1_Sant'] = 0\n",
    "Daten['D-Q1_Madrid'] = 0"
   ]
  },
  {
   "cell_type": "code",
   "execution_count": 70,
   "metadata": {},
   "outputs": [],
   "source": [
    "j=0\n",
    "for i in Daten['D-Q1']:\n",
    "    if i == 63:\n",
    "        Daten.loc[j,'D-Q1_Sal'] = 1\n",
    "    j = j+1"
   ]
  },
  {
   "cell_type": "code",
   "execution_count": 71,
   "metadata": {},
   "outputs": [],
   "source": [
    "j=0\n",
    "for i in Daten['D-Q1']:\n",
    "    if i == 67:\n",
    "        Daten.loc[j,'D-Q1_Sev'] = 1\n",
    "    j = j+1"
   ]
  },
  {
   "cell_type": "code",
   "execution_count": 72,
   "metadata": {},
   "outputs": [],
   "source": [
    "j=0\n",
    "for i in Daten['D-Q1']:\n",
    "    if i == 73:\n",
    "        Daten.loc[j,'D-Q1_Vigo'] = 1\n",
    "    j = j+1"
   ]
  },
  {
   "cell_type": "code",
   "execution_count": 73,
   "metadata": {},
   "outputs": [],
   "source": [
    "j=0\n",
    "for i in Daten['D-Q1']:\n",
    "    if i == 29:\n",
    "        Daten.loc[j,'D-Q1_Gran'] = 1\n",
    "    j = j+1"
   ]
  },
  {
   "cell_type": "code",
   "execution_count": 74,
   "metadata": {},
   "outputs": [],
   "source": [
    "j=0\n",
    "for i in Daten['D-Q1']:\n",
    "    if i == 66:\n",
    "        Daten.loc[j,'D-Q1_Sant'] = 1\n",
    "    j = j+1"
   ]
  },
  {
   "cell_type": "code",
   "execution_count": 75,
   "metadata": {},
   "outputs": [],
   "source": [
    "j=0\n",
    "for i in Daten['D-Q1']:\n",
    "    if i == 20:\n",
    "        Daten.loc[j,'D-Q1_Madrid'] = 1\n",
    "    j = j+1"
   ]
  },
  {
   "cell_type": "code",
   "execution_count": 76,
   "metadata": {},
   "outputs": [
    {
     "data": {
      "text/plain": [
       "0    375\n",
       "1     26\n",
       "Name: D-Q1_Madrid, dtype: int64"
      ]
     },
     "execution_count": 76,
     "metadata": {},
     "output_type": "execute_result"
    }
   ],
   "source": [
    "Daten['D-Q1_Madrid'].value_counts()"
   ]
  },
  {
   "cell_type": "code",
   "execution_count": 77,
   "metadata": {},
   "outputs": [],
   "source": [
    "Finished = Daten[Daten['Finished']==1]"
   ]
  },
  {
   "cell_type": "code",
   "execution_count": null,
   "metadata": {},
   "outputs": [],
   "source": []
  },
  {
   "cell_type": "markdown",
   "metadata": {},
   "source": [
    "#### Abhängige Variablen"
   ]
  },
  {
   "cell_type": "code",
   "execution_count": 78,
   "metadata": {},
   "outputs": [],
   "source": [
    "strat = {'S1': ['A-Q3_5','A-Q3_6','A-Q3_7','A-Q3_8','A-Q3_9'], \n",
    "         'S2': ['A-Q3_1','A-Q3_2','A-Q3_3','A-Q3_4','A-Q3_5'],\n",
    "         'S3': ['A-Q3_9','A-Q3_10','A-Q3_11','A-Q3_12'],\n",
    "         'S4': ['A-Q3_13','A-Q3_14','A-Q3_15','A-Q3_16','A-Q3_17','A-Q3_18','A-Q3_19','A-Q3_20'],\n",
    "         #'S4a': ['A-Q3_13','A-Q3_14','A-Q3_15','A-Q3_16'],\n",
    "         #'S4b': ['A-Q3_17','A-Q3_18','A-Q3_19','A-Q3_20'],\n",
    "         'S5': ['A-Q3_21','A-Q3_22','A-Q3_23','A-Q3_24','A-Q3_25'],\n",
    "         'S6': ['A-Q3_26','A-Q3_27','A-Q3_28','A-Q3_29','A-Q3_30','A-Q3_31']}"
   ]
  },
  {
   "cell_type": "markdown",
   "metadata": {},
   "source": [
    "* S1: Auf Wortebene - intralingual\n",
    "* S2: Auf Wortebene - interlingual\n",
    "* S3: Auf Satz- und Textebene - engerer Kontext\n",
    "* S4: Auf Satz- und Textebene - weiterer Kontext (S4a: intratextuell, S4b: Bezug zu Fach- und Weltwissen)\n",
    "* S5: Außersprachlicher Kontext\n",
    "* S6: Metakognitive Strategien"
   ]
  },
  {
   "cell_type": "markdown",
   "metadata": {},
   "source": [
    "Ergebnisse der Faktorenanalyse (in R durchgeführt):"
   ]
  },
  {
   "cell_type": "code",
   "execution_count": 79,
   "metadata": {},
   "outputs": [],
   "source": [
    "fakt = {'F1': ['A-Q3_6','A-Q3_7','A-Q3_8','A-Q3_9','A-Q3_14','A-Q3_15','A-Q3_10'], \n",
    "        'F2': ['A-Q3_1','A-Q3_2','A-Q3_3','A-Q3_4','A-Q3_5'],\n",
    "        'F3': ['A-Q3_10','A-Q3_11','A-Q3_12','A-Q3_13'],\n",
    "        'F4': ['A-Q3_16','A-Q3_17','A-Q3_18','A-Q3_19','A-Q3_20'],\n",
    "        'F5': ['A-Q3_21','A-Q3_22','A-Q3_23','A-Q3_24'],\n",
    "        'F6': ['A-Q3_26','A-Q3_27','A-Q3_28','A-Q3_29','A-Q3_30','A-Q3_31']}"
   ]
  },
  {
   "cell_type": "markdown",
   "metadata": {},
   "source": [
    "* F1(MR2): intralinguale Hinweise (Wortbildung, morphosyntaktische Regularitäten, Orthographie) + Konnektoren, Erklärungshilfen\n",
    "* F2(MR3): interlinguale Hinweise (inkl. Ethymologie)\n",
    "* F3(MR4): engerer Kontext, Analyse auf Satzebene (Syntax, semantische Relationen)\n",
    "* F4(MR1): Kontextwissen (Textsorte, behandeltes Thema, kulturelles Wissen...)\n",
    "* F5(MR6): Bilder, Grafiken, Symbole, Zahlen, Kommunikationssituation\n",
    "* F6(MR5): metakognitive Strategien\n",
    "\n",
    "Anpassung der Strategiengruppen nach Erkenntnissen der Faktorenanalyse?\n",
    "\n",
    "problematisch: Item 14, 15; 10; 13, 16; 25?"
   ]
  },
  {
   "cell_type": "markdown",
   "metadata": {},
   "source": [
    "##### Scores"
   ]
  },
  {
   "cell_type": "markdown",
   "metadata": {},
   "source": [
    "Score für alle Likert-Items in A_Q3:"
   ]
  },
  {
   "cell_type": "code",
   "execution_count": 80,
   "metadata": {},
   "outputs": [],
   "source": [
    "Score = []\n",
    "for i in Daten.index:\n",
    "    Score.append(sum(Daten[Liste_A_Q3].loc[i]))"
   ]
  },
  {
   "cell_type": "code",
   "execution_count": 81,
   "metadata": {},
   "outputs": [],
   "source": [
    "Daten['A-Q3_Score'] = Score"
   ]
  },
  {
   "cell_type": "markdown",
   "metadata": {},
   "source": [
    "Scores für die einzelnen Strategiengruppen in A_Q3:"
   ]
  },
  {
   "cell_type": "code",
   "execution_count": 82,
   "metadata": {},
   "outputs": [],
   "source": [
    "Score_S1 = []\n",
    "for i in Daten.index:\n",
    "    Score_S1.append(sum(Daten[strat['S1']].loc[i]))\n",
    "\n",
    "Daten['A-Q3_Score_S1'] = Score_S1"
   ]
  },
  {
   "cell_type": "code",
   "execution_count": 83,
   "metadata": {},
   "outputs": [],
   "source": [
    "Score_S2 = []\n",
    "for i in Daten.index:\n",
    "    Score_S2.append(sum(Daten[strat['S2']].loc[i]))\n",
    "\n",
    "Daten['A-Q3_Score_S2'] = Score_S2"
   ]
  },
  {
   "cell_type": "code",
   "execution_count": 84,
   "metadata": {},
   "outputs": [],
   "source": [
    "Score_S3 = []\n",
    "for i in Daten.index:\n",
    "    Score_S3.append(sum(Daten[strat['S3']].loc[i]))\n",
    "\n",
    "Daten['A-Q3_Score_S3'] = Score_S3"
   ]
  },
  {
   "cell_type": "code",
   "execution_count": 85,
   "metadata": {},
   "outputs": [],
   "source": [
    "Score_S4 = []\n",
    "for i in Daten.index:\n",
    "    Score_S4.append(sum(Daten[strat['S4']].loc[i]))\n",
    "\n",
    "Daten['A-Q3_Score_S4'] = Score_S4"
   ]
  },
  {
   "cell_type": "code",
   "execution_count": 86,
   "metadata": {},
   "outputs": [],
   "source": [
    "Score_S5 = []\n",
    "for i in Daten.index:\n",
    "    Score_S5.append(sum(Daten[strat['S5']].loc[i]))\n",
    "\n",
    "Daten['A-Q3_Score_S5'] = Score_S5"
   ]
  },
  {
   "cell_type": "code",
   "execution_count": 87,
   "metadata": {},
   "outputs": [],
   "source": [
    "Score_S6 = []\n",
    "for i in Daten.index:\n",
    "    Score_S6.append(sum(Daten[strat['S6']].loc[i]))\n",
    "\n",
    "Daten['A-Q3_Score_S6'] = Score_S6"
   ]
  },
  {
   "cell_type": "markdown",
   "metadata": {},
   "source": [
    "##### Mindestanzahl an Strategien"
   ]
  },
  {
   "cell_type": "markdown",
   "metadata": {},
   "source": [
    "Mindestanzahl an Strategien nach Strategiengruppen:"
   ]
  },
  {
   "cell_type": "code",
   "execution_count": 88,
   "metadata": {},
   "outputs": [],
   "source": [
    "Daten['A-Q3_S1'] = 0\n",
    "\n",
    "for i in Daten.index:\n",
    "    el = Daten.loc[i,strat['S1']]\n",
    "    if el[el>=3].count() >= 2:\n",
    "        Daten.loc[i,'A-Q3_S1'] = 1"
   ]
  },
  {
   "cell_type": "code",
   "execution_count": 89,
   "metadata": {},
   "outputs": [],
   "source": [
    "Daten['A-Q3_S2'] = 0\n",
    "\n",
    "for i in Daten.index:\n",
    "    el = Daten.loc[i,strat['S2']]\n",
    "    if el[el>=3].count() >= 2:\n",
    "        Daten.loc[i,'A-Q3_S2'] = 1"
   ]
  },
  {
   "cell_type": "code",
   "execution_count": 90,
   "metadata": {},
   "outputs": [],
   "source": [
    "Daten['A-Q3_S3'] = 0\n",
    "\n",
    "for i in Daten.index:\n",
    "    el = Daten.loc[i,strat['S3']]\n",
    "    if el[el>=3].count() >= 2:\n",
    "        Daten.loc[i,'A-Q3_S3'] = 1"
   ]
  },
  {
   "cell_type": "code",
   "execution_count": 91,
   "metadata": {},
   "outputs": [],
   "source": [
    "Daten['A-Q3_S4'] = 0\n",
    "\n",
    "for i in Daten.index:\n",
    "    el = Daten.loc[i,strat['S4']]\n",
    "    if el[el>=3].count() >= 4:\n",
    "        Daten.loc[i,'A-Q3_S4'] = 1"
   ]
  },
  {
   "cell_type": "code",
   "execution_count": 92,
   "metadata": {},
   "outputs": [],
   "source": [
    "Daten['A-Q3_S5'] = 0\n",
    "\n",
    "for i in Daten.index:\n",
    "    el = Daten.loc[i,strat['S5']]\n",
    "    if el[el>=3].count() >= 2:\n",
    "        Daten.loc[i,'A-Q3_S5'] = 1"
   ]
  },
  {
   "cell_type": "code",
   "execution_count": 117,
   "metadata": {},
   "outputs": [],
   "source": [
    "Daten['A-Q3_S6'] = 0\n",
    "\n",
    "for i in Daten.index:\n",
    "    el = Daten.loc[i,strat['S6']]\n",
    "    if el[el>=3].count() >= 3:\n",
    "        Daten.loc[i,'A-Q3_S6'] = 1"
   ]
  },
  {
   "cell_type": "code",
   "execution_count": 110,
   "metadata": {},
   "outputs": [],
   "source": [
    "strat_gr = ['A-Q3_S1','A-Q3_S2','A-Q3_S3','A-Q3_S4','A-Q3_S5','A-Q3_S6']"
   ]
  },
  {
   "cell_type": "code",
   "execution_count": 118,
   "metadata": {},
   "outputs": [
    {
     "data": {
      "text/plain": [
       "A-Q3_S1    368\n",
       "A-Q3_S2    369\n",
       "A-Q3_S3    337\n",
       "A-Q3_S4    364\n",
       "A-Q3_S5    368\n",
       "A-Q3_S6    379\n",
       "dtype: int64"
      ]
     },
     "execution_count": 118,
     "metadata": {},
     "output_type": "execute_result"
    }
   ],
   "source": [
    "Daten[strat_gr].sum()"
   ]
  },
  {
   "cell_type": "code",
   "execution_count": 121,
   "metadata": {},
   "outputs": [],
   "source": [
    "Stratgr_sum = []\n",
    "for i in Daten.index:\n",
    "    Stratgr_sum.append(sum(Daten[strat_gr].loc[i]))\n",
    "\n",
    "Daten['A-Q3_Stratgr'] = Stratgr_sum"
   ]
  },
  {
   "cell_type": "code",
   "execution_count": 122,
   "metadata": {},
   "outputs": [
    {
     "data": {
      "text/plain": [
       "6    260\n",
       "5     94\n",
       "4     32\n",
       "3      6\n",
       "2      3\n",
       "1      3\n",
       "0      3\n",
       "Name: A-Q3_Stratgr, dtype: int64"
      ]
     },
     "execution_count": 122,
     "metadata": {},
     "output_type": "execute_result"
    }
   ],
   "source": [
    "Daten['A-Q3_Stratgr'].value_counts()"
   ]
  },
  {
   "cell_type": "markdown",
   "metadata": {},
   "source": [
    "Kombinierter Strategieneinsatz:"
   ]
  },
  {
   "cell_type": "code",
   "execution_count": 123,
   "metadata": {},
   "outputs": [],
   "source": [
    "Daten['A-Q3_Stratgr_all'] = 0\n",
    "\n",
    "j=0\n",
    "for i in Daten['A-Q3_Stratgr']:\n",
    "    if i == 6:\n",
    "        Daten.loc[j,'A-Q3_Stratgr_all'] = 1\n",
    "    j = j+1"
   ]
  },
  {
   "cell_type": "code",
   "execution_count": 124,
   "metadata": {},
   "outputs": [
    {
     "data": {
      "text/plain": [
       "1    260\n",
       "0    141\n",
       "Name: A-Q3_Stratgr_all, dtype: int64"
      ]
     },
     "execution_count": 124,
     "metadata": {},
     "output_type": "execute_result"
    }
   ],
   "source": [
    "Daten['A-Q3_Stratgr_all'].value_counts()"
   ]
  },
  {
   "cell_type": "markdown",
   "metadata": {},
   "source": [
    "#### Auswahl der Variablen für die Analyse"
   ]
  },
  {
   "cell_type": "code",
   "execution_count": 125,
   "metadata": {},
   "outputs": [
    {
     "data": {
      "text/plain": [
       "'A-Q3_3_TEXT'"
      ]
     },
     "execution_count": 125,
     "metadata": {},
     "output_type": "execute_result"
    }
   ],
   "source": [
    "Liste_A_Q3_ext = [col for col in Daten.columns if 'A-Q3' in col]\n",
    "Liste_A_Q3_ext.pop(3)"
   ]
  },
  {
   "cell_type": "code",
   "execution_count": 98,
   "metadata": {},
   "outputs": [],
   "source": [
    "Liste_Var = [col for col in Daten.columns if 'V_' in col]"
   ]
  },
  {
   "cell_type": "code",
   "execution_count": 99,
   "metadata": {},
   "outputs": [
    {
     "data": {
      "text/plain": [
       "['V_L1-Bi/Trilingualismus',\n",
       " 'V_Studienrichtung',\n",
       " 'V_Studienjahr+Studium',\n",
       " 'V_Niveau_DK',\n",
       " 'V_Alter',\n",
       " 'V_Geschlecht',\n",
       " 'V_Erstsprache_Span',\n",
       " 'V_Spr_Fran',\n",
       " 'V_Spr_Griech',\n",
       " 'V_Spr_Latein',\n",
       " 'V_Spr_Germ',\n",
       " 'V_Spr_Rom',\n",
       " 'V_Spr_Slaw',\n",
       " 'V_Spr_Asiat',\n",
       " 'V_E_Schule_LL',\n",
       " 'V_E_Schule_Eng',\n",
       " 'V_E_Schule_Spr',\n",
       " 'V_E_Univ_DK',\n",
       " 'V_E_Univ_andere',\n",
       " 'V_E_Sprachschule',\n",
       " 'V_E_DK_aktuell',\n",
       " 'V_E_Sozial',\n",
       " 'V_E_autonom',\n",
       " 'V_Met_Erkl',\n",
       " 'V_Met_Tipps',\n",
       " 'V_Met_Training',\n",
       " 'V_Met_Vgl',\n",
       " 'V_Met_Reflexion',\n",
       " 'V_Met_unbewusst']"
      ]
     },
     "execution_count": 99,
     "metadata": {},
     "output_type": "execute_result"
    }
   ],
   "source": [
    "Liste_Var"
   ]
  },
  {
   "cell_type": "code",
   "execution_count": 126,
   "metadata": {},
   "outputs": [],
   "source": [
    "Daten_Analyse = Daten[Liste_A_Q2 + Liste_A_Q3_ext + Liste_C_Q1 + Liste_Var]"
   ]
  },
  {
   "cell_type": "code",
   "execution_count": 127,
   "metadata": {},
   "outputs": [
    {
     "data": {
      "text/plain": [
       "(401, 91)"
      ]
     },
     "execution_count": 127,
     "metadata": {},
     "output_type": "execute_result"
    }
   ],
   "source": [
    "Daten_Analyse.shape"
   ]
  },
  {
   "cell_type": "code",
   "execution_count": 102,
   "metadata": {},
   "outputs": [],
   "source": [
    "def get_CT_int(data,col,row):\n",
    "    col_names = [col+'_'+str(el) for el in np.sort(data[col].unique()) ]\n",
    "    row_names = [row+'_'+str(el) for el in np.sort(data[row].unique()) ]\n",
    "    \n",
    "    return pd.DataFrame(pd.crosstab(data[row],data[col]).values,index=row_names, columns=col_names)"
   ]
  },
  {
   "cell_type": "code",
   "execution_count": 103,
   "metadata": {},
   "outputs": [],
   "source": [
    "def get_colsORrows_namesTOT(data,cols):\n",
    "    COL = []\n",
    "    for col in cols:\n",
    "        COL= COL + [col+'_'+str(el) for el in np.sort(data[col].unique()) ]\n",
    "    return COL"
   ]
  },
  {
   "cell_type": "code",
   "execution_count": 104,
   "metadata": {},
   "outputs": [],
   "source": [
    "def get_matrix(data,cols,rows):\n",
    "    \n",
    "    COLS = get_colsORrows_namesTOT(data,cols)\n",
    "    ROWS = get_colsORrows_namesTOT(data,rows)\n",
    "    \n",
    "    CTdf = pd.DataFrame(index=ROWS,columns=COLS)\n",
    "    \n",
    "    for row in rows:\n",
    "        for col in cols:\n",
    "            data_int = get_CT_int(data,col,row)\n",
    "            CTdf.loc[data_int.index,data_int.columns] = data_int\n",
    "    \n",
    "    return CTdf.fillna(0)"
   ]
  },
  {
   "cell_type": "code",
   "execution_count": 130,
   "metadata": {},
   "outputs": [
    {
     "data": {
      "text/plain": [
       "['A-Q3_S1', 'A-Q3_S2', 'A-Q3_S3', 'A-Q3_S4', 'A-Q3_S5', 'A-Q3_S6']"
      ]
     },
     "execution_count": 130,
     "metadata": {},
     "output_type": "execute_result"
    }
   ],
   "source": [
    "Liste_A_Q3_ext[38:44]"
   ]
  },
  {
   "cell_type": "code",
   "execution_count": 131,
   "metadata": {},
   "outputs": [],
   "source": [
    "testdf = get_matrix(Daten,Liste_A_Q3_ext[38:44],Liste_Var)"
   ]
  },
  {
   "cell_type": "code",
   "execution_count": 107,
   "metadata": {},
   "outputs": [],
   "source": [
    "def graf_biplot_test(data, dim, dim1 = 0, dim2 = 1, sx = 10, sy = 10):\n",
    "    \n",
    "    B = biplot.Classic(data, dim, method = 1) \n",
    "    R = B.RowCoord\n",
    "    C = B.ColCoord\n",
    "    \n",
    "    fig = plt.figure(figsize=(sx,sy))\n",
    "    ax = fig.add_subplot(111)\n",
    "    \n",
    "    for i in range(C.shape[0]):\n",
    "        ax.arrow(0,0,C[i,dim1],C[i,dim2], alpha = 0.7, color = 'grey')\n",
    "        #ax.scatter(C[i,dim1],C[i,dim2]) # Hier würden Linien nicht angezeigt.\n",
    "        ax.text(C[i,dim1],C[i,dim2],data.columns[i],fontsize=15, alpha = 0.7)\n",
    "\n",
    "    for i in range(R.shape[0]):\n",
    "        ax.scatter(R[i,dim1],R[i,dim2], s = 20)\n",
    "    \n",
    "    texts = [plt.text(R[i,dim1],R[i,dim2], data.index[i], ha='center', va='center') for i in range(len(R[:,0]))];"
   ]
  },
  {
   "cell_type": "code",
   "execution_count": 132,
   "metadata": {},
   "outputs": [
    {
     "data": {
      "image/png": "[encoded data removed]",
      "text/plain": [
       "<Figure size 720x720 with 1 Axes>"
      ]
     },
     "metadata": {
      "needs_background": "light"
     },
     "output_type": "display_data"
    }
   ],
   "source": [
    "graf_biplot_test(testdf,6)"
   ]
  },
  {
   "cell_type": "code",
   "execution_count": null,
   "metadata": {},
   "outputs": [],
   "source": []
  }
 ],
 "metadata": {
  "kernelspec": {
   "display_name": "Python 3",
   "language": "python",
   "name": "python3"
  },
  "language_info": {
   "codemirror_mode": {
    "name": "ipython",
    "version": 3
   },
   "file_extension": ".py",
   "mimetype": "text/x-python",
   "name": "python",
   "nbconvert_exporter": "python",
   "pygments_lexer": "ipython3",
   "version": "3.7.3"
  }
 },
 "nbformat": 4,
 "nbformat_minor": 2
}
