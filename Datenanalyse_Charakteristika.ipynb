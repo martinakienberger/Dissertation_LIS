{
 "cells": [
  {
   "cell_type": "markdown",
   "metadata": {},
   "source": [
    "## Erschließungsstrategien für unbekannten Wortschatz von DaF-Lernenden an spanischen Universitäten\n",
    "# Datenanalyse der Hauptstudie 2018:\n",
    "# Charakteristika der Stichprobe"
   ]
  },
  {
   "cell_type": "markdown",
   "metadata": {},
   "source": [
    "##### Werkzeuge und Daten importieren"
   ]
  },
  {
   "cell_type": "code",
   "execution_count": 1,
   "metadata": {},
   "outputs": [
    {
     "name": "stdout",
     "output_type": "stream",
     "text": [
      "Populating the interactive namespace from numpy and matplotlib\n"
     ]
    }
   ],
   "source": [
    "import pandas as pd\n",
    "import matplotlib\n",
    "import numpy as np\n",
    "import seaborn as sns\n",
    "sns.set(style=\"whitegrid\") #\"white\", \"darkgrid\"...\n",
    "% pylab inline"
   ]
  },
  {
   "cell_type": "code",
   "execution_count": 2,
   "metadata": {},
   "outputs": [],
   "source": [
    "Daten = pd.read_pickle('D:\\Daten\\DISS\\Daten\\Estrategias_Estudiantes_2018_ber')"
   ]
  },
  {
   "cell_type": "code",
   "execution_count": 3,
   "metadata": {},
   "outputs": [
    {
     "data": {
      "text/plain": [
       "(303, 358)"
      ]
     },
     "execution_count": 3,
     "metadata": {},
     "output_type": "execute_result"
    }
   ],
   "source": [
    "Daten.shape"
   ]
  },
  {
   "cell_type": "code",
   "execution_count": 4,
   "metadata": {},
   "outputs": [
    {
     "data": {
      "text/html": [
       "<div>\n",
       "<style scoped>\n",
       "    .dataframe tbody tr th:only-of-type {\n",
       "        vertical-align: middle;\n",
       "    }\n",
       "\n",
       "    .dataframe tbody tr th {\n",
       "        vertical-align: top;\n",
       "    }\n",
       "\n",
       "    .dataframe thead th {\n",
       "        text-align: right;\n",
       "    }\n",
       "</style>\n",
       "<table border=\"1\" class=\"dataframe\">\n",
       "  <thead>\n",
       "    <tr style=\"text-align: right;\">\n",
       "      <th></th>\n",
       "      <th>StartDate</th>\n",
       "      <th>EndDate</th>\n",
       "      <th>Status</th>\n",
       "      <th>IPAddress</th>\n",
       "      <th>Progress</th>\n",
       "      <th>Duration (in seconds)</th>\n",
       "      <th>Finished</th>\n",
       "      <th>RecordedDate</th>\n",
       "      <th>ResponseId</th>\n",
       "      <th>RecipientLastName</th>\n",
       "      <th>...</th>\n",
       "      <th>D-Q8b22a_5</th>\n",
       "      <th>D-Q8b22a_6</th>\n",
       "      <th>D-Q8b22a_7</th>\n",
       "      <th>D-Q8b22a_7_TEXT</th>\n",
       "      <th>D-Q8b22b</th>\n",
       "      <th>D-Q8b22c</th>\n",
       "      <th>D-Q9_1</th>\n",
       "      <th>D-Q9_2</th>\n",
       "      <th>E-Q1</th>\n",
       "      <th>porc_nan</th>\n",
       "    </tr>\n",
       "  </thead>\n",
       "  <tbody>\n",
       "    <tr>\n",
       "      <th>0</th>\n",
       "      <td>2018-02-07 13:36:43</td>\n",
       "      <td>2018-02-07 13:50:01</td>\n",
       "      <td>0</td>\n",
       "      <td>83.47.61.251</td>\n",
       "      <td>100</td>\n",
       "      <td>797</td>\n",
       "      <td>1</td>\n",
       "      <td>2018-02-07 13:50:03</td>\n",
       "      <td>R_30ugRXCZSq8xMsk</td>\n",
       "      <td>0</td>\n",
       "      <td>...</td>\n",
       "      <td>0</td>\n",
       "      <td>0</td>\n",
       "      <td>0</td>\n",
       "      <td>0</td>\n",
       "      <td>0</td>\n",
       "      <td>0</td>\n",
       "      <td>0</td>\n",
       "      <td>1</td>\n",
       "      <td>0</td>\n",
       "      <td>59.523810</td>\n",
       "    </tr>\n",
       "    <tr>\n",
       "      <th>1</th>\n",
       "      <td>2018-02-08 02:38:26</td>\n",
       "      <td>2018-02-08 03:09:12</td>\n",
       "      <td>0</td>\n",
       "      <td>84.126.137.166</td>\n",
       "      <td>100</td>\n",
       "      <td>1845</td>\n",
       "      <td>1</td>\n",
       "      <td>2018-02-08 03:09:13</td>\n",
       "      <td>R_1eV2zm3mlcaUK2x</td>\n",
       "      <td>0</td>\n",
       "      <td>...</td>\n",
       "      <td>0</td>\n",
       "      <td>0</td>\n",
       "      <td>0</td>\n",
       "      <td>0</td>\n",
       "      <td>0</td>\n",
       "      <td>0</td>\n",
       "      <td>0</td>\n",
       "      <td>1</td>\n",
       "      <td>0</td>\n",
       "      <td>55.238095</td>\n",
       "    </tr>\n",
       "    <tr>\n",
       "      <th>2</th>\n",
       "      <td>2018-02-08 03:47:29</td>\n",
       "      <td>2018-02-08 04:05:38</td>\n",
       "      <td>0</td>\n",
       "      <td>79.109.193.215</td>\n",
       "      <td>100</td>\n",
       "      <td>1089</td>\n",
       "      <td>1</td>\n",
       "      <td>2018-02-08 04:05:39</td>\n",
       "      <td>R_czEmSnFHhfZOTL3</td>\n",
       "      <td>0</td>\n",
       "      <td>...</td>\n",
       "      <td>0</td>\n",
       "      <td>0</td>\n",
       "      <td>0</td>\n",
       "      <td>0</td>\n",
       "      <td>0</td>\n",
       "      <td>0</td>\n",
       "      <td>0</td>\n",
       "      <td>1</td>\n",
       "      <td>0</td>\n",
       "      <td>58.095238</td>\n",
       "    </tr>\n",
       "  </tbody>\n",
       "</table>\n",
       "<p>3 rows × 358 columns</p>\n",
       "</div>"
      ],
      "text/plain": [
       "             StartDate              EndDate Status       IPAddress Progress  \\\n",
       "0  2018-02-07 13:36:43  2018-02-07 13:50:01      0    83.47.61.251      100   \n",
       "1  2018-02-08 02:38:26  2018-02-08 03:09:12      0  84.126.137.166      100   \n",
       "2  2018-02-08 03:47:29  2018-02-08 04:05:38      0  79.109.193.215      100   \n",
       "\n",
       "  Duration (in seconds) Finished         RecordedDate         ResponseId  \\\n",
       "0                   797        1  2018-02-07 13:50:03  R_30ugRXCZSq8xMsk   \n",
       "1                  1845        1  2018-02-08 03:09:13  R_1eV2zm3mlcaUK2x   \n",
       "2                  1089        1  2018-02-08 04:05:39  R_czEmSnFHhfZOTL3   \n",
       "\n",
       "   RecipientLastName    ...      D-Q8b22a_5  D-Q8b22a_6  D-Q8b22a_7  \\\n",
       "0                  0    ...               0           0           0   \n",
       "1                  0    ...               0           0           0   \n",
       "2                  0    ...               0           0           0   \n",
       "\n",
       "  D-Q8b22a_7_TEXT D-Q8b22b D-Q8b22c D-Q9_1 D-Q9_2  E-Q1   porc_nan  \n",
       "0               0        0        0      0      1     0  59.523810  \n",
       "1               0        0        0      0      1     0  55.238095  \n",
       "2               0        0        0      0      1     0  58.095238  \n",
       "\n",
       "[3 rows x 358 columns]"
      ]
     },
     "execution_count": 4,
     "metadata": {},
     "output_type": "execute_result"
    }
   ],
   "source": [
    "Daten.head(3)"
   ]
  },
  {
   "cell_type": "code",
   "execution_count": 5,
   "metadata": {},
   "outputs": [],
   "source": [
    "Finished = Daten[Daten['Finished'] == '1'].reset_index(drop=True)"
   ]
  },
  {
   "cell_type": "code",
   "execution_count": 6,
   "metadata": {},
   "outputs": [
    {
     "data": {
      "text/plain": [
       "(294, 358)"
      ]
     },
     "execution_count": 6,
     "metadata": {},
     "output_type": "execute_result"
    }
   ],
   "source": [
    "Finished.shape"
   ]
  },
  {
   "cell_type": "markdown",
   "metadata": {},
   "source": [
    "Zur Beschreibung der Charakteristika der Stichprobe können nur die vollständig ausgefüllten Fragebögen herangezogen werden. "
   ]
  },
  {
   "cell_type": "markdown",
   "metadata": {},
   "source": [
    "#### Universitätszugehörigkeit"
   ]
  },
  {
   "cell_type": "code",
   "execution_count": 8,
   "metadata": {},
   "outputs": [
    {
     "data": {
      "image/png": "[encoded data removed]",
      "text/plain": [
       "<Figure size 864x360 with 1 Axes>"
      ]
     },
     "metadata": {},
     "output_type": "display_data"
    }
   ],
   "source": [
    "Finished[Finished['D-Q1'] != 0]['D-Q1'].value_counts().plot(kind='bar', \n",
    "                                                            figsize = (12,5), width = 0.5, \n",
    "                                                            legend = True, title = \"Universität\");"
   ]
  },
  {
   "cell_type": "markdown",
   "metadata": {},
   "source": [
    "(1)\tAbat Oliba-CEU\n",
    "(2)\tAlcalá de Henares\n",
    "(3)\tAlfonso X El Sabio\n",
    "(4)\tAlicante\n",
    "(5)\tAlmería\n",
    "(6)\tAntonio de Nebrija\n",
    "(7)\tAutónoma de Barcelona\n",
    "(8)\tAutónoma de Madrid\n",
    "(9)\tBarcelona\n",
    "(10)\tBurgos\n",
    "(11)\tCádiz\n",
    "(12)\tCamilo José Cela\n",
    "(13)\tCantabria\n",
    "(14)\tCardenal Herrera-CEU\n",
    "(15)\tCarlos III\n",
    "(16)\tCastilla-La Mancha\n",
    "(17)\tCatólica de Ávila\n",
    "(18)\tCatólica de Valencia\n",
    "(19)\tCatólica S. Antonio de Murcia\n",
    "(20)\tComplutense de Madrid\n",
    "(21)\tCórdoba\n",
    "(22)\tCoruña, A\n",
    "(23)\tDeusto\n",
    "(24)\tEuropea de Madrid\n",
    "(25)\tEuropea Miguel de Cervantes\n",
    "(26)\tExtremadura\n",
    "(27)\tFrancisco de Vitoria\n",
    "(28)\tGirona\n",
    "(29)\tGranada\n",
    "(30)\tHuelva\n",
    "(31)\tIE Universidad\n",
    "(32)\tIlles Balears\n",
    "(33)\tInternacional de Catalunya\n",
    "(34)\tInternacional de La Rioja\n",
    "(35)\tInternacional Valenciana\n",
    "(36)\tJaén\n",
    "(37)\tJaume I de Castellón\n",
    "(38)\tLa Laguna\n",
    "(39)\tLa Rioja\n",
    "(40)\tLeón\n",
    "(41)\tLleida\n",
    "(42)\tMálaga\n",
    "(43)\tMiguel Hernández de Elche\n",
    "(44)\tMondragón\n",
    "(45)\tMurcia\n",
    "(46)\tNavarra\n",
    "(47)\tOberta de Catalunya\n",
    "(48)\tOviedo\n",
    "(49)\tPablo de Olavide\n",
    "(50)\tPaís Vasco\n",
    "(51)\tPalmas (Las)\n",
    "(52)\tPolitécnica de Cartagena\n",
    "(53)\tPolitécnica de Cataluña\n",
    "(54)\tPolitécnica de Madrid\n",
    "(55)\tPolitécnica de Valencia\n",
    "(56)\tPompeu Fabra\n",
    "(57)\tPontificia Comillas\n",
    "(58)\tPontificia de Salamanca\n",
    "(59)\tPública de Navarra\n",
    "(60)\tRamón Llull\n",
    "(61)\tRey Juan Carlos\n",
    "(62)\tRovira i Virgili\n",
    "(63)\tSalamanca\n",
    "(64)\tSan Jorge\n",
    "(65)\tSan Pablo-CEU\n",
    "(66)\tSantiago de Compostela\n",
    "(67)\tSevilla\n",
    "(68)\tU.N.E.D.\n",
    "(69)\tUDIMA\n",
    "(70)\tValencia (Est. General)\n",
    "(71)\tValladolid\n",
    "(72)\tVic\n",
    "(73)\tVigo\n",
    "(74)\tZaragoza\n",
    "(75)\tOtra"
   ]
  },
  {
   "cell_type": "code",
   "execution_count": 9,
   "metadata": {},
   "outputs": [
    {
     "data": {
      "text/plain": [
       "63    57\n",
       "67    56\n",
       "73    35\n",
       "29    30\n",
       "66    28\n",
       "20    26\n",
       "70    18\n",
       "8      9\n",
       "50     7\n",
       "2      6\n",
       "37     4\n",
       "9      4\n",
       "0      3\n",
       "71     3\n",
       "75     2\n",
       "51     2\n",
       "16     1\n",
       "35     1\n",
       "48     1\n",
       "42     1\n",
       "Name: D-Q1, dtype: int64"
      ]
     },
     "execution_count": 9,
     "metadata": {},
     "output_type": "execute_result"
    }
   ],
   "source": [
    "Finished['D-Q1'].value_counts()"
   ]
  },
  {
   "cell_type": "code",
   "execution_count": 10,
   "metadata": {},
   "outputs": [
    {
     "data": {
      "text/plain": [
       "20"
      ]
     },
     "execution_count": 10,
     "metadata": {},
     "output_type": "execute_result"
    }
   ],
   "source": [
    "Finished['D-Q1'].nunique()"
   ]
  },
  {
   "cell_type": "code",
   "execution_count": 11,
   "metadata": {},
   "outputs": [
    {
     "data": {
      "text/plain": [
       "0                           292\n",
       "Universidad de Valencia       1\n",
       "Universidad Complutence       1\n",
       "Name: D-Q1a, dtype: int64"
      ]
     },
     "execution_count": 11,
     "metadata": {},
     "output_type": "execute_result"
    }
   ],
   "source": [
    "Finished['D-Q1a'].value_counts()"
   ]
  },
  {
   "cell_type": "markdown",
   "metadata": {},
   "source": [
    "Studierende aus 18 verschiedenen Universitäten nahmen an der Befragung teil."
   ]
  },
  {
   "cell_type": "markdown",
   "metadata": {},
   "source": [
    "#### Studium"
   ]
  },
  {
   "cell_type": "code",
   "execution_count": 12,
   "metadata": {},
   "outputs": [
    {
     "data": {
      "image/png": "[encoded data removed]",
      "text/plain": [
       "<Figure size 360x360 with 1 Axes>"
      ]
     },
     "metadata": {},
     "output_type": "display_data"
    }
   ],
   "source": [
    "Finished['D-Q2'].value_counts()[[1,2,3,4]].plot(kind = 'bar', figsize = (5,5), width = 0.4, legend = True, title = \"Studium\");"
   ]
  },
  {
   "cell_type": "markdown",
   "metadata": {},
   "source": [
    "(1)\tGrado\n",
    "(2)\tPosgrado/Máster \n",
    "(3)\tDoctorado\n",
    "(4)\tOtros"
   ]
  },
  {
   "cell_type": "code",
   "execution_count": 13,
   "metadata": {},
   "outputs": [
    {
     "data": {
      "text/plain": [
       "1    271\n",
       "4     10\n",
       "3      6\n",
       "2      5\n",
       "0      2\n",
       "Name: D-Q2, dtype: int64"
      ]
     },
     "execution_count": 13,
     "metadata": {},
     "output_type": "execute_result"
    }
   ],
   "source": [
    "Finished['D-Q2'].value_counts()"
   ]
  },
  {
   "cell_type": "code",
   "execution_count": 14,
   "metadata": {},
   "outputs": [
    {
     "data": {
      "image/png": "[encoded data removed]",
      "text/plain": [
       "<Figure size 504x360 with 1 Axes>"
      ]
     },
     "metadata": {},
     "output_type": "display_data"
    }
   ],
   "source": [
    "Finished['D-Q2a'].value_counts().reindex([1,2,3,4,5,6,7,8]).plot(kind='bar', figsize = (7,5), width = 0.5, legend = True, title = \"Studienrichtung\");"
   ]
  },
  {
   "cell_type": "markdown",
   "metadata": {},
   "source": [
    "(1) Estudios Alemanes / Filología Alemana (Germanistikstudium / deutsche Philologie), (2) Otras Filologías (Anderes Philologiestudium), (3) Traducción, Alemán 1a Lengua Extranjera / B (Übersetzen und Dolmetschen, Erste Fremdsprache / Sprache B), (4) Traducción, Alemán 2a Lengua Extranjera / C (Übersetzen und Dolmetschen, Zweite Fremdsprache / Sprache C), (5) Humanidades (Humanistisches Studium), (6) Economía (Wirtschaftliches Studium), (7) Turismo (Tourismus-Studium), (8) Otra (Andere)"
   ]
  },
  {
   "cell_type": "code",
   "execution_count": 15,
   "metadata": {},
   "outputs": [
    {
     "data": {
      "image/png": "[encoded data removed]",
      "text/plain": [
       "<Figure size 504x360 with 1 Axes>"
      ]
     },
     "metadata": {},
     "output_type": "display_data"
    }
   ],
   "source": [
    "Finished[Finished['D-Q2a'] !=0]['D-Q2a'].value_counts().plot(kind='bar', figsize = (7,5), width = 0.5, legend = True, title = \"Studienrichtung\");"
   ]
  },
  {
   "cell_type": "code",
   "execution_count": 16,
   "metadata": {},
   "outputs": [
    {
     "data": {
      "text/plain": [
       "1    108\n",
       "2     64\n",
       "4     42\n",
       "8     38\n",
       "0     23\n",
       "3      9\n",
       "7      8\n",
       "5      2\n",
       "Name: D-Q2a, dtype: int64"
      ]
     },
     "execution_count": 16,
     "metadata": {},
     "output_type": "execute_result"
    }
   ],
   "source": [
    "Finished['D-Q2a'].value_counts()"
   ]
  },
  {
   "cell_type": "code",
   "execution_count": 17,
   "metadata": {},
   "outputs": [
    {
     "data": {
      "image/png": "[encoded data removed]",
      "text/plain": [
       "<Figure size 360x360 with 1 Axes>"
      ]
     },
     "metadata": {},
     "output_type": "display_data"
    }
   ],
   "source": [
    "Finished['D-Q2b'].value_counts()[[1,2,3,4]].plot(kind='bar', figsize = (5,5), width = 0.4, legend = True, title = \"Studienjahr\");"
   ]
  },
  {
   "cell_type": "code",
   "execution_count": 18,
   "metadata": {},
   "outputs": [
    {
     "data": {
      "text/plain": [
       "1    132\n",
       "2     69\n",
       "3     49\n",
       "0     27\n",
       "4     17\n",
       "Name: D-Q2b, dtype: int64"
      ]
     },
     "execution_count": 18,
     "metadata": {},
     "output_type": "execute_result"
    }
   ],
   "source": [
    "Finished['D-Q2b'].value_counts()"
   ]
  },
  {
   "cell_type": "markdown",
   "metadata": {},
   "source": [
    "#### Aktuell belegter Deutschkurs"
   ]
  },
  {
   "cell_type": "code",
   "execution_count": 19,
   "metadata": {},
   "outputs": [
    {
     "data": {
      "image/png": "[encoded data removed]",
      "text/plain": [
       "<Figure size 288x360 with 1 Axes>"
      ]
     },
     "metadata": {},
     "output_type": "display_data"
    }
   ],
   "source": [
    "Finished['D-Q3'].value_counts()[[1,2,3]].plot(kind = 'bar', figsize = (4,5), width = 0.4, legend = True, title = \"Art des Deutschkurses\");"
   ]
  },
  {
   "cell_type": "markdown",
   "metadata": {},
   "source": [
    "(1) Pflichtfach, (2) Wahlfach, (3) extracurricularer Kurs"
   ]
  },
  {
   "cell_type": "code",
   "execution_count": 20,
   "metadata": {},
   "outputs": [
    {
     "data": {
      "text/plain": [
       "1    173\n",
       "2    104\n",
       "3     17\n",
       "Name: D-Q3, dtype: int64"
      ]
     },
     "execution_count": 20,
     "metadata": {},
     "output_type": "execute_result"
    }
   ],
   "source": [
    "Finished['D-Q3'].value_counts()"
   ]
  },
  {
   "cell_type": "code",
   "execution_count": 21,
   "metadata": {},
   "outputs": [
    {
     "data": {
      "image/png": "[encoded data removed]",
      "text/plain": [
       "<Figure size 432x360 with 1 Axes>"
      ]
     },
     "metadata": {},
     "output_type": "display_data"
    }
   ],
   "source": [
    "Finished['D-Q4'].value_counts()[[1,2,3,4,5,6]].plot(kind='bar', figsize = (6,5), width = 0.5, legend = True, title = \"Niveau des aktuellen Deutschkurses\");"
   ]
  },
  {
   "cell_type": "markdown",
   "metadata": {},
   "source": [
    "(1)\tA1, \n",
    "(2)\tA2, \n",
    "(3)\tB1, \n",
    "(4)\tB2, \n",
    "(5)\tC1,\n",
    "(6)\tC2 "
   ]
  },
  {
   "cell_type": "code",
   "execution_count": 22,
   "metadata": {},
   "outputs": [
    {
     "data": {
      "text/plain": [
       "1    107\n",
       "3     85\n",
       "2     54\n",
       "4     30\n",
       "5     16\n",
       "6      1\n",
       "0      1\n",
       "Name: D-Q4, dtype: int64"
      ]
     },
     "execution_count": 22,
     "metadata": {},
     "output_type": "execute_result"
    }
   ],
   "source": [
    "Finished['D-Q4'].value_counts()"
   ]
  },
  {
   "cell_type": "markdown",
   "metadata": {},
   "source": [
    "#### Alter und Geschlecht"
   ]
  },
  {
   "cell_type": "code",
   "execution_count": 25,
   "metadata": {},
   "outputs": [
    {
     "data": {
      "image/png": "[encoded data removed]",
      "text/plain": [
       "<Figure size 1080x360 with 1 Axes>"
      ]
     },
     "metadata": {},
     "output_type": "display_data"
    }
   ],
   "source": [
    "Finished[Finished['D-Q5'] != 0]['D-Q5'].astype(integer).value_counts().sort_index().plot(kind='bar', figsize = (15,5), legend = True, title = \"Alter\");"
   ]
  },
  {
   "cell_type": "code",
   "execution_count": 23,
   "metadata": {},
   "outputs": [
    {
     "data": {
      "text/plain": [
       "count    285.000000\n",
       "mean      21.449123\n",
       "std        6.305741\n",
       "min       17.000000\n",
       "25%       18.000000\n",
       "50%       20.000000\n",
       "75%       21.000000\n",
       "max       59.000000\n",
       "Name: D-Q5, dtype: float64"
      ]
     },
     "execution_count": 23,
     "metadata": {},
     "output_type": "execute_result"
    }
   ],
   "source": [
    "Finished[Finished['D-Q5'] != 0]['D-Q5'].describe()"
   ]
  },
  {
   "cell_type": "code",
   "execution_count": 24,
   "metadata": {},
   "outputs": [
    {
     "data": {
      "text/plain": [
       "75.43859649122807"
      ]
     },
     "execution_count": 24,
     "metadata": {},
     "output_type": "execute_result"
    }
   ],
   "source": [
    "(Finished[(Finished['D-Q5'] != 0) & (Finished['D-Q5'] <= 21)]['D-Q5'].shape[0])/(Finished[Finished['D-Q5'] != 0]['D-Q5'].shape[0])*100"
   ]
  },
  {
   "cell_type": "markdown",
   "metadata": {},
   "source": [
    "Das Durchschnittsalter liegt bei 21,4 Jahren, wobei ca. 75% der Befragten zwischen 17 und 21 Jahre alt sind."
   ]
  },
  {
   "cell_type": "code",
   "execution_count": 26,
   "metadata": {},
   "outputs": [
    {
     "data": {
      "image/png": "[encoded data removed]",
      "text/plain": [
       "<Figure size 288x360 with 1 Axes>"
      ]
     },
     "metadata": {},
     "output_type": "display_data"
    }
   ],
   "source": [
    "Finished['D-Q6'].value_counts()[[1,2,3]].plot(kind = 'bar', figsize = (4,5), width = 0.4, legend = True, title = \"Geschlecht\");"
   ]
  },
  {
   "cell_type": "code",
   "execution_count": 55,
   "metadata": {},
   "outputs": [
    {
     "data": {
      "image/png": "[encoded data removed]",
      "text/plain": [
       "<Figure size 360x360 with 1 Axes>"
      ]
     },
     "metadata": {},
     "output_type": "display_data"
    }
   ],
   "source": [
    "Finished['D-Q6'].value_counts()[[1,2,3]].plot(kind = 'pie', figsize = (5,5), autopct='%.1f', \n",
    "                                              legend = True, title = \"Geschlecht\");"
   ]
  },
  {
   "cell_type": "code",
   "execution_count": 27,
   "metadata": {},
   "outputs": [
    {
     "data": {
      "text/plain": [
       "1    220\n",
       "2     65\n",
       "3      5\n",
       "0      4\n",
       "Name: D-Q6, dtype: int64"
      ]
     },
     "execution_count": 27,
     "metadata": {},
     "output_type": "execute_result"
    }
   ],
   "source": [
    "Finished['D-Q6'].value_counts()"
   ]
  },
  {
   "cell_type": "markdown",
   "metadata": {},
   "source": [
    "#### Sprachkenntnisse"
   ]
  },
  {
   "cell_type": "code",
   "execution_count": 28,
   "metadata": {},
   "outputs": [
    {
     "data": {
      "image/png": "[encoded data removed]",
      "text/plain": [
       "<Figure size 720x360 with 1 Axes>"
      ]
     },
     "metadata": {},
     "output_type": "display_data"
    }
   ],
   "source": [
    "Finished[Finished['D-Q7'] != 0]['D-Q7'].value_counts().plot(kind='bar', figsize = (10,5), legend = True, title = \"Erstsprachen (1)\");"
   ]
  },
  {
   "cell_type": "markdown",
   "metadata": {},
   "source": [
    "(1) \tCastellano\n",
    "(2) \tCatalán (Català), Valenciano (Valencià)\n",
    "(3) \tGallego (Galego)\n",
    "(4) \tVasco (Euskara)\n",
    "(5) \tAlemán (Deutsch)\n",
    "(6) \tÁrabe (العربية)\n",
    "(7) \tChino mandarín (中文)\n",
    "(8) \tCoreano (한국어)\n",
    "(9) \tDanés (Dansk)\n",
    "(10) \tFrancés (Français)\n",
    "(11) \tGriego moderno (Ελληνικά)\n",
    "(12) \tInglés (English)\n",
    "(13) \tItaliano (Italiano)\n",
    "(14) \tJaponés (日本語)\n",
    "(15) \tNeerlandés (Nederlands)\n",
    "(16) \tPortugués (Português)\n",
    "(17) \tRumano (Română)\n",
    "(18) \tRuso (Русский)\n",
    "(19) \tSueco (Svenska)\n",
    "(20) \tGriego antiguo (Aρχαία Eλληνική)\n",
    "(21) \tLatín (Latina)\n",
    "(22) \tArmenio (Հայերեն)\n",
    "(23) \tBúlgaro (Български)\n",
    "(24) \tCheco (Česky)\n",
    "(25) \tCroata (Hrvatski)\n",
    "(26) \tEslovaco (Slovenčina)\n",
    "(27) \tEsloveno (Slovenščina)\n",
    "(28) \tEstonio (Eesti)\n",
    "(29) \tFinés (Suomi)\n",
    "(30) \tGalés (Cymraeg)\n",
    "(31) \tHindi (हिन्दी)\n",
    "(32) \tHúngaro (Magyar)\n",
    "(33) \tIrlandés (Gaeilge)\n",
    "(34) \tLetón (Latviešu)\n",
    "(35) \tLituano (Lietuvių)\n",
    "(36) \tLuxemburgués (Lëtzebuergesch)\n",
    "(37) \tMaltés (bil-Malti)\n",
    "(38) \tMoldavo (Moldoveana)\n",
    "(39) \tNoruego (Norsk)\n",
    "(40) \tOccitano (Occitan)\n",
    "(41) \tPolaco (Polski)\n",
    "(42) \tPersa (فارسی)\n",
    "(43) \tTurco (Türkçe)\n",
    "(44) \tUcraniano (Українська)\n",
    "(45) \tUrdu (اردو)\n",
    "(46) \tOtro"
   ]
  },
  {
   "cell_type": "code",
   "execution_count": 29,
   "metadata": {},
   "outputs": [
    {
     "data": {
      "text/plain": [
       "1     238\n",
       "3      24\n",
       "2       8\n",
       "7       6\n",
       "41      4\n",
       "17      4\n",
       "26      2\n",
       "16      2\n",
       "46      1\n",
       "18      1\n",
       "13      1\n",
       "6       1\n",
       "5       1\n",
       "0       1\n",
       "Name: D-Q7, dtype: int64"
      ]
     },
     "execution_count": 29,
     "metadata": {},
     "output_type": "execute_result"
    }
   ],
   "source": [
    "Finished['D-Q7'].value_counts()"
   ]
  },
  {
   "cell_type": "code",
   "execution_count": 30,
   "metadata": {},
   "outputs": [
    {
     "data": {
      "text/plain": [
       "2    208\n",
       "1     86\n",
       "Name: D-Q7b, dtype: int64"
      ]
     },
     "execution_count": 30,
     "metadata": {},
     "output_type": "execute_result"
    }
   ],
   "source": [
    "Finished['D-Q7b'].value_counts()"
   ]
  },
  {
   "cell_type": "code",
   "execution_count": 31,
   "metadata": {},
   "outputs": [
    {
     "data": {
      "image/png": "[encoded data removed]",
      "text/plain": [
       "<Figure size 720x360 with 1 Axes>"
      ]
     },
     "metadata": {},
     "output_type": "display_data"
    }
   ],
   "source": [
    "Finished[Finished['D-Q7c'] != 0]['D-Q7c'].value_counts().plot(kind='bar', figsize = (10,5), legend = True, title = \"Erstsprachen (2)\");"
   ]
  },
  {
   "cell_type": "code",
   "execution_count": 32,
   "metadata": {},
   "outputs": [
    {
     "data": {
      "text/plain": [
       "1     34\n",
       "3     29\n",
       "2     11\n",
       "46     3\n",
       "5      2\n",
       "4      2\n",
       "44     1\n",
       "24     1\n",
       "18     1\n",
       "12     1\n",
       "Name: D-Q7c, dtype: int64"
      ]
     },
     "execution_count": 32,
     "metadata": {},
     "output_type": "execute_result"
    }
   ],
   "source": [
    "Finished[Finished['D-Q7c'] != 0]['D-Q7c'].value_counts()"
   ]
  },
  {
   "cell_type": "code",
   "execution_count": 33,
   "metadata": {},
   "outputs": [
    {
     "data": {
      "text/plain": [
       "2    83\n",
       "1     3\n",
       "Name: D-Q7e, dtype: int64"
      ]
     },
     "execution_count": 33,
     "metadata": {},
     "output_type": "execute_result"
    }
   ],
   "source": [
    "Finished[Finished['D-Q7e'] != 0]['D-Q7e'].value_counts()"
   ]
  },
  {
   "cell_type": "code",
   "execution_count": 34,
   "metadata": {},
   "outputs": [
    {
     "data": {
      "text/plain": [
       "3     1\n",
       "46    1\n",
       "Name: D-Q7f, dtype: int64"
      ]
     },
     "execution_count": 34,
     "metadata": {},
     "output_type": "execute_result"
    }
   ],
   "source": [
    "Finished[Finished['D-Q7f'] != 0]['D-Q7f'].value_counts()"
   ]
  },
  {
   "cell_type": "markdown",
   "metadata": {},
   "source": [
    "Otro = Guaraní"
   ]
  },
  {
   "cell_type": "code",
   "execution_count": 35,
   "metadata": {},
   "outputs": [],
   "source": [
    "Sprachen = Finished[['D-Q8_1','D-Q8_2','D-Q8_3','D-Q8_4','D-Q8_5','D-Q8_6','D-Q8_7']]"
   ]
  },
  {
   "cell_type": "code",
   "execution_count": 36,
   "metadata": {},
   "outputs": [],
   "source": [
    "DF_Spr = Sprachen.apply(pd.value_counts).fillna(0).astype(integer)"
   ]
  },
  {
   "cell_type": "code",
   "execution_count": 37,
   "metadata": {},
   "outputs": [],
   "source": [
    "ix_sorted = list(DF_Spr[1:].sum(axis = 1).sort_values(ascending=False).index)"
   ]
  },
  {
   "cell_type": "code",
   "execution_count": 38,
   "metadata": {},
   "outputs": [],
   "source": [
    "All = []\n",
    "for i in DF_Spr.index:\n",
    "    All.append((DF_Spr.loc[i]).sum())"
   ]
  },
  {
   "cell_type": "code",
   "execution_count": 39,
   "metadata": {},
   "outputs": [],
   "source": [
    "DF_Spr['All'] = All"
   ]
  },
  {
   "cell_type": "code",
   "execution_count": 56,
   "metadata": {},
   "outputs": [
    {
     "data": {
      "text/html": [
       "<div>\n",
       "<style scoped>\n",
       "    .dataframe tbody tr th:only-of-type {\n",
       "        vertical-align: middle;\n",
       "    }\n",
       "\n",
       "    .dataframe tbody tr th {\n",
       "        vertical-align: top;\n",
       "    }\n",
       "\n",
       "    .dataframe thead th {\n",
       "        text-align: right;\n",
       "    }\n",
       "</style>\n",
       "<table border=\"1\" class=\"dataframe\">\n",
       "  <thead>\n",
       "    <tr style=\"text-align: right;\">\n",
       "      <th></th>\n",
       "      <th>D-Q8_1</th>\n",
       "      <th>D-Q8_2</th>\n",
       "      <th>D-Q8_3</th>\n",
       "      <th>D-Q8_4</th>\n",
       "      <th>D-Q8_5</th>\n",
       "      <th>D-Q8_6</th>\n",
       "      <th>D-Q8_7</th>\n",
       "      <th>All</th>\n",
       "    </tr>\n",
       "  </thead>\n",
       "  <tbody>\n",
       "    <tr>\n",
       "      <th>1</th>\n",
       "      <td>7</td>\n",
       "      <td>9</td>\n",
       "      <td>6</td>\n",
       "      <td>4</td>\n",
       "      <td>0</td>\n",
       "      <td>1</td>\n",
       "      <td>0</td>\n",
       "      <td>27</td>\n",
       "    </tr>\n",
       "    <tr>\n",
       "      <th>2</th>\n",
       "      <td>4</td>\n",
       "      <td>5</td>\n",
       "      <td>5</td>\n",
       "      <td>3</td>\n",
       "      <td>3</td>\n",
       "      <td>0</td>\n",
       "      <td>0</td>\n",
       "      <td>20</td>\n",
       "    </tr>\n",
       "    <tr>\n",
       "      <th>3</th>\n",
       "      <td>2</td>\n",
       "      <td>2</td>\n",
       "      <td>0</td>\n",
       "      <td>1</td>\n",
       "      <td>1</td>\n",
       "      <td>0</td>\n",
       "      <td>1</td>\n",
       "      <td>7</td>\n",
       "    </tr>\n",
       "    <tr>\n",
       "      <th>4</th>\n",
       "      <td>6</td>\n",
       "      <td>3</td>\n",
       "      <td>0</td>\n",
       "      <td>1</td>\n",
       "      <td>1</td>\n",
       "      <td>1</td>\n",
       "      <td>0</td>\n",
       "      <td>12</td>\n",
       "    </tr>\n",
       "    <tr>\n",
       "      <th>5</th>\n",
       "      <td>12</td>\n",
       "      <td>43</td>\n",
       "      <td>87</td>\n",
       "      <td>57</td>\n",
       "      <td>54</td>\n",
       "      <td>18</td>\n",
       "      <td>2</td>\n",
       "      <td>273</td>\n",
       "    </tr>\n",
       "  </tbody>\n",
       "</table>\n",
       "</div>"
      ],
      "text/plain": [
       "   D-Q8_1  D-Q8_2  D-Q8_3  D-Q8_4  D-Q8_5  D-Q8_6  D-Q8_7  All\n",
       "1       7       9       6       4       0       1       0   27\n",
       "2       4       5       5       3       3       0       0   20\n",
       "3       2       2       0       1       1       0       1    7\n",
       "4       6       3       0       1       1       1       0   12\n",
       "5      12      43      87      57      54      18       2  273"
      ]
     },
     "execution_count": 56,
     "metadata": {},
     "output_type": "execute_result"
    }
   ],
   "source": [
    "DF_Spr[1:].head()"
   ]
  },
  {
   "cell_type": "code",
   "execution_count": 41,
   "metadata": {},
   "outputs": [],
   "source": [
    "cols = ['D-Q8_1','D-Q8_2','D-Q8_3','D-Q8_4','D-Q8_5','D-Q8_6','D-Q8_7']"
   ]
  },
  {
   "cell_type": "code",
   "execution_count": 42,
   "metadata": {},
   "outputs": [
    {
     "data": {
      "image/png": "[encoded data removed]",
      "text/plain": [
       "<Figure size 1080x720 with 1 Axes>"
      ]
     },
     "metadata": {},
     "output_type": "display_data"
    }
   ],
   "source": [
    "DF_Spr[cols][1:].plot(kind='bar', figsize = (15,10), stacked = True, legend = True, title = \"Sprachkenntnisse\");"
   ]
  },
  {
   "cell_type": "code",
   "execution_count": 43,
   "metadata": {},
   "outputs": [
    {
     "data": {
      "text/html": [
       "<div>\n",
       "<style scoped>\n",
       "    .dataframe tbody tr th:only-of-type {\n",
       "        vertical-align: middle;\n",
       "    }\n",
       "\n",
       "    .dataframe tbody tr th {\n",
       "        vertical-align: top;\n",
       "    }\n",
       "\n",
       "    .dataframe thead th {\n",
       "        text-align: right;\n",
       "    }\n",
       "</style>\n",
       "<table border=\"1\" class=\"dataframe\">\n",
       "  <thead>\n",
       "    <tr style=\"text-align: right;\">\n",
       "      <th></th>\n",
       "      <th>D-Q8_1</th>\n",
       "      <th>D-Q8_2</th>\n",
       "      <th>D-Q8_3</th>\n",
       "      <th>D-Q8_4</th>\n",
       "      <th>D-Q8_5</th>\n",
       "      <th>D-Q8_6</th>\n",
       "      <th>D-Q8_7</th>\n",
       "      <th>All</th>\n",
       "    </tr>\n",
       "  </thead>\n",
       "  <tbody>\n",
       "    <tr>\n",
       "      <th>12</th>\n",
       "      <td>244</td>\n",
       "      <td>33</td>\n",
       "      <td>9</td>\n",
       "      <td>3</td>\n",
       "      <td>0</td>\n",
       "      <td>0</td>\n",
       "      <td>0</td>\n",
       "      <td>289</td>\n",
       "    </tr>\n",
       "    <tr>\n",
       "      <th>5</th>\n",
       "      <td>12</td>\n",
       "      <td>43</td>\n",
       "      <td>87</td>\n",
       "      <td>57</td>\n",
       "      <td>54</td>\n",
       "      <td>18</td>\n",
       "      <td>2</td>\n",
       "      <td>273</td>\n",
       "    </tr>\n",
       "    <tr>\n",
       "      <th>10</th>\n",
       "      <td>8</td>\n",
       "      <td>148</td>\n",
       "      <td>30</td>\n",
       "      <td>13</td>\n",
       "      <td>6</td>\n",
       "      <td>2</td>\n",
       "      <td>0</td>\n",
       "      <td>207</td>\n",
       "    </tr>\n",
       "    <tr>\n",
       "      <th>21</th>\n",
       "      <td>1</td>\n",
       "      <td>26</td>\n",
       "      <td>79</td>\n",
       "      <td>23</td>\n",
       "      <td>2</td>\n",
       "      <td>3</td>\n",
       "      <td>0</td>\n",
       "      <td>134</td>\n",
       "    </tr>\n",
       "    <tr>\n",
       "      <th>20</th>\n",
       "      <td>0</td>\n",
       "      <td>1</td>\n",
       "      <td>11</td>\n",
       "      <td>53</td>\n",
       "      <td>14</td>\n",
       "      <td>1</td>\n",
       "      <td>1</td>\n",
       "      <td>81</td>\n",
       "    </tr>\n",
       "    <tr>\n",
       "      <th>13</th>\n",
       "      <td>2</td>\n",
       "      <td>6</td>\n",
       "      <td>18</td>\n",
       "      <td>22</td>\n",
       "      <td>7</td>\n",
       "      <td>7</td>\n",
       "      <td>4</td>\n",
       "      <td>66</td>\n",
       "    </tr>\n",
       "    <tr>\n",
       "      <th>1</th>\n",
       "      <td>7</td>\n",
       "      <td>9</td>\n",
       "      <td>6</td>\n",
       "      <td>4</td>\n",
       "      <td>0</td>\n",
       "      <td>1</td>\n",
       "      <td>0</td>\n",
       "      <td>27</td>\n",
       "    </tr>\n",
       "    <tr>\n",
       "      <th>16</th>\n",
       "      <td>0</td>\n",
       "      <td>8</td>\n",
       "      <td>6</td>\n",
       "      <td>3</td>\n",
       "      <td>4</td>\n",
       "      <td>4</td>\n",
       "      <td>2</td>\n",
       "      <td>27</td>\n",
       "    </tr>\n",
       "    <tr>\n",
       "      <th>2</th>\n",
       "      <td>4</td>\n",
       "      <td>5</td>\n",
       "      <td>5</td>\n",
       "      <td>3</td>\n",
       "      <td>3</td>\n",
       "      <td>0</td>\n",
       "      <td>0</td>\n",
       "      <td>20</td>\n",
       "    </tr>\n",
       "    <tr>\n",
       "      <th>15</th>\n",
       "      <td>0</td>\n",
       "      <td>0</td>\n",
       "      <td>3</td>\n",
       "      <td>6</td>\n",
       "      <td>5</td>\n",
       "      <td>3</td>\n",
       "      <td>0</td>\n",
       "      <td>17</td>\n",
       "    </tr>\n",
       "  </tbody>\n",
       "</table>\n",
       "</div>"
      ],
      "text/plain": [
       "    D-Q8_1  D-Q8_2  D-Q8_3  D-Q8_4  D-Q8_5  D-Q8_6  D-Q8_7  All\n",
       "12     244      33       9       3       0       0       0  289\n",
       "5       12      43      87      57      54      18       2  273\n",
       "10       8     148      30      13       6       2       0  207\n",
       "21       1      26      79      23       2       3       0  134\n",
       "20       0       1      11      53      14       1       1   81\n",
       "13       2       6      18      22       7       7       4   66\n",
       "1        7       9       6       4       0       1       0   27\n",
       "16       0       8       6       3       4       4       2   27\n",
       "2        4       5       5       3       3       0       0   20\n",
       "15       0       0       3       6       5       3       0   17"
      ]
     },
     "execution_count": 43,
     "metadata": {},
     "output_type": "execute_result"
    }
   ],
   "source": [
    "DF_Spr.loc[ix_sorted[:10]]"
   ]
  },
  {
   "cell_type": "code",
   "execution_count": 44,
   "metadata": {},
   "outputs": [
    {
     "data": {
      "image/png": "[encoded data removed]",
      "text/plain": [
       "<Figure size 720x576 with 1 Axes>"
      ]
     },
     "metadata": {},
     "output_type": "display_data"
    }
   ],
   "source": [
    "DF_Spr[cols].loc[ix_sorted[:10]].plot(kind='bar', figsize = (10,8), stacked = True, legend = True, title = \"Sprachkenntnisse\");"
   ]
  },
  {
   "cell_type": "markdown",
   "metadata": {},
   "source": [
    "#### Erhebungssituation"
   ]
  },
  {
   "cell_type": "code",
   "execution_count": 45,
   "metadata": {},
   "outputs": [],
   "source": [
    "#Finished['D-Q9'].value_counts()[[1,2]].plot(kind = 'bar', figsize = (3,5), width = 0.4, legend = True, title = \"Erhebungssituation\");"
   ]
  },
  {
   "cell_type": "markdown",
   "metadata": {},
   "source": [
    "(1)\tWährend der Unterrichtszeit,\n",
    "(2)\tAußerhalb des Unterrichts"
   ]
  },
  {
   "cell_type": "code",
   "execution_count": 46,
   "metadata": {},
   "outputs": [
    {
     "data": {
      "text/plain": [
       "1    172\n",
       "0    122\n",
       "Name: D-Q9_1, dtype: int64"
      ]
     },
     "execution_count": 46,
     "metadata": {},
     "output_type": "execute_result"
    }
   ],
   "source": [
    "Finished['D-Q9_1'].value_counts()"
   ]
  },
  {
   "cell_type": "code",
   "execution_count": 47,
   "metadata": {},
   "outputs": [
    {
     "data": {
      "text/plain": [
       "0    171\n",
       "1    123\n",
       "Name: D-Q9_2, dtype: int64"
      ]
     },
     "execution_count": 47,
     "metadata": {},
     "output_type": "execute_result"
    }
   ],
   "source": [
    "Finished['D-Q9_2'].value_counts()"
   ]
  },
  {
   "cell_type": "code",
   "execution_count": null,
   "metadata": {},
   "outputs": [],
   "source": []
  }
 ],
 "metadata": {
  "kernelspec": {
   "display_name": "Python 3",
   "language": "python",
   "name": "python3"
  },
  "language_info": {
   "codemirror_mode": {
    "name": "ipython",
    "version": 3
   },
   "file_extension": ".py",
   "mimetype": "text/x-python",
   "name": "python",
   "nbconvert_exporter": "python",
   "pygments_lexer": "ipython3",
   "version": "3.6.3"
  }
 },
 "nbformat": 4,
 "nbformat_minor": 2
}
